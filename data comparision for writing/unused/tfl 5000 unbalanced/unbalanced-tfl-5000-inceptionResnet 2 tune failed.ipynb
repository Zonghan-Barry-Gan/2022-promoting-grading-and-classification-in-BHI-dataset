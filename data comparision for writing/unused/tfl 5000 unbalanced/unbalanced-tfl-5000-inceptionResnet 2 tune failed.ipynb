{
 "cells": [
  {
   "cell_type": "code",
   "execution_count": 1,
   "id": "54a3f590",
   "metadata": {
    "_cell_guid": "b1076dfc-b9ad-4769-8c92-a6c4dae69d19",
    "_uuid": "8f2839f25d086af736a60e9eeb907d3b93b6e0e5",
    "execution": {
     "iopub.execute_input": "2022-05-18T12:46:44.851263Z",
     "iopub.status.busy": "2022-05-18T12:46:44.850853Z",
     "iopub.status.idle": "2022-05-18T12:46:56.223330Z",
     "shell.execute_reply": "2022-05-18T12:46:56.222366Z"
    },
    "papermill": {
     "duration": 11.406872,
     "end_time": "2022-05-18T12:46:56.225816",
     "exception": false,
     "start_time": "2022-05-18T12:46:44.818944",
     "status": "completed"
    },
    "tags": []
   },
   "outputs": [
    {
     "name": "stdout",
     "output_type": "stream",
     "text": [
      "Collecting Livelossplot\r\n",
      "  Downloading livelossplot-0.5.5-py3-none-any.whl (22 kB)\r\n",
      "Requirement already satisfied: ipython==7.* in /opt/conda/lib/python3.7/site-packages (from Livelossplot) (7.32.0)\r\n",
      "Requirement already satisfied: numpy<1.22 in /opt/conda/lib/python3.7/site-packages (from Livelossplot) (1.21.6)\r\n",
      "Requirement already satisfied: matplotlib in /opt/conda/lib/python3.7/site-packages (from Livelossplot) (3.5.2)\r\n",
      "Requirement already satisfied: bokeh in /opt/conda/lib/python3.7/site-packages (from Livelossplot) (2.4.2)\r\n",
      "Requirement already satisfied: traitlets>=4.2 in /opt/conda/lib/python3.7/site-packages (from ipython==7.*->Livelossplot) (5.1.1)\r\n",
      "Requirement already satisfied: pickleshare in /opt/conda/lib/python3.7/site-packages (from ipython==7.*->Livelossplot) (0.7.5)\r\n",
      "Requirement already satisfied: pygments in /opt/conda/lib/python3.7/site-packages (from ipython==7.*->Livelossplot) (2.11.2)\r\n",
      "Requirement already satisfied: backcall in /opt/conda/lib/python3.7/site-packages (from ipython==7.*->Livelossplot) (0.2.0)\r\n",
      "Requirement already satisfied: setuptools>=18.5 in /opt/conda/lib/python3.7/site-packages (from ipython==7.*->Livelossplot) (59.8.0)\r\n",
      "Requirement already satisfied: prompt-toolkit!=3.0.0,!=3.0.1,<3.1.0,>=2.0.0 in /opt/conda/lib/python3.7/site-packages (from ipython==7.*->Livelossplot) (3.0.27)\r\n",
      "Requirement already satisfied: pexpect>4.3 in /opt/conda/lib/python3.7/site-packages (from ipython==7.*->Livelossplot) (4.8.0)\r\n",
      "Requirement already satisfied: decorator in /opt/conda/lib/python3.7/site-packages (from ipython==7.*->Livelossplot) (5.1.1)\r\n",
      "Requirement already satisfied: matplotlib-inline in /opt/conda/lib/python3.7/site-packages (from ipython==7.*->Livelossplot) (0.1.3)\r\n",
      "Requirement already satisfied: jedi>=0.16 in /opt/conda/lib/python3.7/site-packages (from ipython==7.*->Livelossplot) (0.18.1)\r\n",
      "Requirement already satisfied: typing-extensions>=3.10.0 in /opt/conda/lib/python3.7/site-packages (from bokeh->Livelossplot) (4.2.0)\r\n",
      "Requirement already satisfied: Jinja2>=2.9 in /opt/conda/lib/python3.7/site-packages (from bokeh->Livelossplot) (3.1.2)\r\n",
      "Requirement already satisfied: pillow>=7.1.0 in /opt/conda/lib/python3.7/site-packages (from bokeh->Livelossplot) (9.0.1)\r\n",
      "Requirement already satisfied: PyYAML>=3.10 in /opt/conda/lib/python3.7/site-packages (from bokeh->Livelossplot) (6.0)\r\n",
      "Requirement already satisfied: tornado>=5.1 in /opt/conda/lib/python3.7/site-packages (from bokeh->Livelossplot) (6.1)\r\n",
      "Requirement already satisfied: packaging>=16.8 in /opt/conda/lib/python3.7/site-packages (from bokeh->Livelossplot) (21.3)\r\n",
      "Requirement already satisfied: python-dateutil>=2.7 in /opt/conda/lib/python3.7/site-packages (from matplotlib->Livelossplot) (2.8.2)\r\n",
      "Requirement already satisfied: fonttools>=4.22.0 in /opt/conda/lib/python3.7/site-packages (from matplotlib->Livelossplot) (4.30.0)\r\n",
      "Requirement already satisfied: cycler>=0.10 in /opt/conda/lib/python3.7/site-packages (from matplotlib->Livelossplot) (0.11.0)\r\n",
      "Requirement already satisfied: pyparsing>=2.2.1 in /opt/conda/lib/python3.7/site-packages (from matplotlib->Livelossplot) (3.0.7)\r\n",
      "Requirement already satisfied: kiwisolver>=1.0.1 in /opt/conda/lib/python3.7/site-packages (from matplotlib->Livelossplot) (1.4.0)\r\n",
      "Requirement already satisfied: parso<0.9.0,>=0.8.0 in /opt/conda/lib/python3.7/site-packages (from jedi>=0.16->ipython==7.*->Livelossplot) (0.8.3)\r\n",
      "Requirement already satisfied: MarkupSafe>=2.0 in /opt/conda/lib/python3.7/site-packages (from Jinja2>=2.9->bokeh->Livelossplot) (2.0.1)\r\n",
      "Requirement already satisfied: ptyprocess>=0.5 in /opt/conda/lib/python3.7/site-packages (from pexpect>4.3->ipython==7.*->Livelossplot) (0.7.0)\r\n",
      "Requirement already satisfied: wcwidth in /opt/conda/lib/python3.7/site-packages (from prompt-toolkit!=3.0.0,!=3.0.1,<3.1.0,>=2.0.0->ipython==7.*->Livelossplot) (0.2.5)\r\n",
      "Requirement already satisfied: six>=1.5 in /opt/conda/lib/python3.7/site-packages (from python-dateutil>=2.7->matplotlib->Livelossplot) (1.16.0)\r\n",
      "Installing collected packages: Livelossplot\r\n",
      "Successfully installed Livelossplot-0.5.5\r\n",
      "\u001b[33mWARNING: Running pip as the 'root' user can result in broken permissions and conflicting behaviour with the system package manager. It is recommended to use a virtual environment instead: https://pip.pypa.io/warnings/venv\u001b[0m\u001b[33m\r\n",
      "\u001b[0m"
     ]
    }
   ],
   "source": [
    "# This Python 3 environment comes with many helpful analytics libraries installed\n",
    "# It is defined by the kaggle/python Docker image: https://github.com/kaggle/docker-python\n",
    "# For example, here's several helpful packages to load\n",
    "\n",
    "import numpy as np # linear algebra\n",
    "import pandas as pd # data processing, CSV file I/O (e.g. pd.read_csv)\n",
    "\n",
    "# Input data files are available in the read-only \"../input/\" directory\n",
    "# For example, running this (by clicking run or pressing Shift+Enter) will list all files under the input directory\n",
    "\n",
    "import os\n",
    "\n",
    "import warnings\n",
    "warnings.filterwarnings('ignore')\n",
    "%matplotlib inline\n",
    "!pip install Livelossplot\n",
    "from livelossplot import PlotLossesKeras\n",
    "\n",
    "from glob import glob\n",
    "import os\n",
    "import shutil\n",
    "\n",
    "import numpy as np\n",
    "import pandas as pd\n",
    "# You can write up to 20GB to the current directory (/kaggle/working/) that gets preserved as output when you create a version using \"Save & Run All\" \n",
    "# You can also write temporary files to /kaggle/temp/, but they won't be saved outside of the current session"
   ]
  },
  {
   "cell_type": "markdown",
   "id": "bc3dffd2",
   "metadata": {
    "papermill": {
     "duration": 0.028975,
     "end_time": "2022-05-18T12:46:56.284939",
     "exception": false,
     "start_time": "2022-05-18T12:46:56.255964",
     "status": "completed"
    },
    "tags": []
   },
   "source": [
    "# AIM\n",
    "## To classify the images into \n",
    "### IDC+\n",
    "### IDC-\n",
    "\n",
    "# Validation Strategy:\n",
    "\n",
    "## Train Data Size= 0.7*Total_Data\n",
    "## Validation Data Size= 0.21* Total_Data\n",
    "## Test Data Size= 0.09 * Total_Data\n",
    "\n",
    "# Augmentaions Used:\n",
    "## Each Image is rotated through 45 angles\n"
   ]
  },
  {
   "cell_type": "code",
   "execution_count": 2,
   "id": "c4a69b64",
   "metadata": {
    "execution": {
     "iopub.execute_input": "2022-05-18T12:46:56.345349Z",
     "iopub.status.busy": "2022-05-18T12:46:56.344983Z",
     "iopub.status.idle": "2022-05-18T12:47:05.495637Z",
     "shell.execute_reply": "2022-05-18T12:47:05.494583Z"
    },
    "papermill": {
     "duration": 9.184045,
     "end_time": "2022-05-18T12:47:05.498333",
     "exception": false,
     "start_time": "2022-05-18T12:46:56.314288",
     "status": "completed"
    },
    "tags": []
   },
   "outputs": [
    {
     "data": {
      "text/html": [
       "<style type='text/css'>\n",
       ".datatable table.frame { margin-bottom: 0; }\n",
       ".datatable table.frame thead { border-bottom: none; }\n",
       ".datatable table.frame tr.coltypes td {  color: #FFFFFF;  line-height: 6px;  padding: 0 0.5em;}\n",
       ".datatable .bool    { background: #DDDD99; }\n",
       ".datatable .object  { background: #565656; }\n",
       ".datatable .int     { background: #5D9E5D; }\n",
       ".datatable .float   { background: #4040CC; }\n",
       ".datatable .str     { background: #CC4040; }\n",
       ".datatable .time    { background: #40CC40; }\n",
       ".datatable .row_index {  background: var(--jp-border-color3);  border-right: 1px solid var(--jp-border-color0);  color: var(--jp-ui-font-color3);  font-size: 9px;}\n",
       ".datatable .frame tbody td { text-align: left; }\n",
       ".datatable .frame tr.coltypes .row_index {  background: var(--jp-border-color0);}\n",
       ".datatable th:nth-child(2) { padding-left: 12px; }\n",
       ".datatable .hellipsis {  color: var(--jp-cell-editor-border-color);}\n",
       ".datatable .vellipsis {  background: var(--jp-layout-color0);  color: var(--jp-cell-editor-border-color);}\n",
       ".datatable .na {  color: var(--jp-cell-editor-border-color);  font-size: 80%;}\n",
       ".datatable .sp {  opacity: 0.25;}\n",
       ".datatable .footer { font-size: 9px; }\n",
       ".datatable .frame_dimensions {  background: var(--jp-border-color3);  border-top: 1px solid var(--jp-border-color0);  color: var(--jp-ui-font-color3);  display: inline-block;  opacity: 0.6;  padding: 1px 10px 1px 5px;}\n",
       "</style>\n"
      ],
      "text/plain": [
       "<IPython.core.display.HTML object>"
      ]
     },
     "metadata": {},
     "output_type": "display_data"
    },
    {
     "name": "stdout",
     "output_type": "stream",
     "text": [
      "All modules have been imported\n"
     ]
    }
   ],
   "source": [
    "\n",
    "import numpy as np\n",
    "import pandas as pd\n",
    "import cv2\n",
    "from PIL import Image\n",
    "import scipy\n",
    "\n",
    "import tensorflow as tf\n",
    "from tensorflow.keras.applications import *\n",
    "from tensorflow.keras.optimizers import *\n",
    "from tensorflow.keras.losses import *\n",
    "from tensorflow.keras.layers import *\n",
    "from tensorflow.keras.models import *\n",
    "from tensorflow.keras.callbacks import *\n",
    "from tensorflow.keras.preprocessing.image import *\n",
    "from tensorflow.keras.utils import *\n",
    "# import pydot\n",
    "\n",
    "from sklearn.metrics import *\n",
    "from sklearn.model_selection import *\n",
    "import tensorflow.keras.backend as K\n",
    "\n",
    "from tqdm import tqdm, tqdm_notebook\n",
    "from colorama import Fore\n",
    "import json\n",
    "import matplotlib.pyplot as plt\n",
    "import seaborn as sns\n",
    "from glob import glob\n",
    "from skimage.io import *\n",
    "%config Completer.use_jedi = False\n",
    "import time\n",
    "from sklearn.decomposition import PCA\n",
    "from sklearn.svm import LinearSVC\n",
    "from sklearn.linear_model import LogisticRegression\n",
    "from sklearn.metrics import accuracy_score\n",
    "import lightgbm as lgb\n",
    "import xgboost as xgb\n",
    "\n",
    "print(\"All modules have been imported\")"
   ]
  },
  {
   "cell_type": "code",
   "execution_count": 3,
   "id": "01a6c88d",
   "metadata": {
    "execution": {
     "iopub.execute_input": "2022-05-18T12:47:05.562044Z",
     "iopub.status.busy": "2022-05-18T12:47:05.561758Z",
     "iopub.status.idle": "2022-05-18T12:47:05.566164Z",
     "shell.execute_reply": "2022-05-18T12:47:05.565283Z"
    },
    "papermill": {
     "duration": 0.038495,
     "end_time": "2022-05-18T12:47:05.567965",
     "exception": false,
     "start_time": "2022-05-18T12:47:05.529470",
     "status": "completed"
    },
    "tags": []
   },
   "outputs": [],
   "source": [
    "sampling_seed=0\n",
    "size_4_training=5000\n",
    "img_size=299\n",
    "training_reshape=(-1, img_size, img_size, 3)\n",
    "epoch_4_test=10"
   ]
  },
  {
   "cell_type": "markdown",
   "id": "4990b9a0",
   "metadata": {
    "papermill": {
     "duration": 0.030136,
     "end_time": "2022-05-18T12:47:05.630531",
     "exception": false,
     "start_time": "2022-05-18T12:47:05.600395",
     "status": "completed"
    },
    "tags": []
   },
   "source": [
    "Image labelling"
   ]
  },
  {
   "cell_type": "code",
   "execution_count": 4,
   "id": "a7092e54",
   "metadata": {
    "execution": {
     "iopub.execute_input": "2022-05-18T12:47:05.692144Z",
     "iopub.status.busy": "2022-05-18T12:47:05.691589Z",
     "iopub.status.idle": "2022-05-18T12:51:06.328656Z",
     "shell.execute_reply": "2022-05-18T12:51:06.327667Z"
    },
    "papermill": {
     "duration": 240.67089,
     "end_time": "2022-05-18T12:51:06.331337",
     "exception": false,
     "start_time": "2022-05-18T12:47:05.660447",
     "status": "completed"
    },
    "tags": []
   },
   "outputs": [
    {
     "name": "stdout",
     "output_type": "stream",
     "text": [
      "['../input/breast-histopathology-images/IDC_regular_ps50_idx5/10295/0/10295_idx5_x1351_y1101_class0.png', '../input/breast-histopathology-images/IDC_regular_ps50_idx5/10295/0/10295_idx5_x1501_y501_class0.png', '../input/breast-histopathology-images/IDC_regular_ps50_idx5/10295/0/10295_idx5_x1501_y1101_class0.png', '../input/breast-histopathology-images/IDC_regular_ps50_idx5/10295/0/10295_idx5_x451_y901_class0.png', '../input/breast-histopathology-images/IDC_regular_ps50_idx5/10295/0/10295_idx5_x801_y451_class0.png', '../input/breast-histopathology-images/IDC_regular_ps50_idx5/10295/0/10295_idx5_x151_y1051_class0.png', '../input/breast-histopathology-images/IDC_regular_ps50_idx5/10295/0/10295_idx5_x1351_y901_class0.png', '../input/breast-histopathology-images/IDC_regular_ps50_idx5/10295/0/10295_idx5_x701_y651_class0.png', '../input/breast-histopathology-images/IDC_regular_ps50_idx5/10295/0/10295_idx5_x951_y1401_class0.png', '../input/breast-histopathology-images/IDC_regular_ps50_idx5/10295/0/10295_idx5_x601_y501_class0.png']\n"
     ]
    }
   ],
   "source": [
    "import random\n",
    "#make directory for labelling\n",
    "os.makedirs('../working/idc2/idc-minus/')     \n",
    "os.makedirs('../working/idc2/idc-plus/')  \n",
    "\n",
    "\n",
    "class0 = [] # 0 = idc+\n",
    "class1 = [] # 1 = idc-\n",
    "imagePatches = glob('../input/breast-histopathology-images/IDC_regular_ps50_idx5/**/*.png', recursive=True)\n",
    "for filename in imagePatches:\n",
    "    if filename.endswith(\"class0.png\"):\n",
    "         class0.append(filename)\n",
    "    else:\n",
    "        class1.append(filename)\n",
    "\n",
    "print(class0[0:10])\n",
    "\n",
    "#sampling 10000 images from class 0 and class 1 to train the model\n",
    "\n",
    "random.seed(sampling_seed)\n",
    "class0sample=random.sample(class0,size_4_training)\n",
    "class1sample=random.sample(class1,size_4_training)\n",
    "\n",
    "\n",
    "def read_and_save_data(path, file_name_array):\n",
    "    j=0\n",
    "    for i in file_name_array:\n",
    "        if i.endswith('.png'):\n",
    "          \n",
    "            \n",
    "            #second copy method\n",
    "            head, tail = os.path.split(i)\n",
    "            outputname=str(path+tail)\n",
    "            #outputname=str(path+str(j)+'.png')\n",
    "            #print(outputname)\n",
    "            shutil.copy(i, outputname)\n",
    "   \n",
    "            #print(status2)\n",
    "            \n",
    "            j=j+1\n",
    "            if j==120000:\n",
    "                break\n",
    "            \n",
    "   \n",
    "class0path='../working/idc2/idc-minus/'\n",
    "class1path='../working/idc2/idc-plus/'\n",
    "\n",
    "\n",
    "\n",
    "\n",
    "read_and_save_data(class0path,class0sample)\n",
    "read_and_save_data(class1path,class1sample)"
   ]
  },
  {
   "cell_type": "markdown",
   "id": "b120e872",
   "metadata": {
    "papermill": {
     "duration": 0.030518,
     "end_time": "2022-05-18T12:51:06.393899",
     "exception": false,
     "start_time": "2022-05-18T12:51:06.363381",
     "status": "completed"
    },
    "tags": []
   },
   "source": []
  },
  {
   "cell_type": "code",
   "execution_count": null,
   "id": "e5c9f772",
   "metadata": {
    "papermill": {
     "duration": 0.029935,
     "end_time": "2022-05-18T12:51:06.454984",
     "exception": false,
     "start_time": "2022-05-18T12:51:06.425049",
     "status": "completed"
    },
    "tags": []
   },
   "outputs": [],
   "source": [
    "\n"
   ]
  },
  {
   "cell_type": "code",
   "execution_count": 5,
   "id": "0e67b904",
   "metadata": {
    "execution": {
     "iopub.execute_input": "2022-05-18T12:51:06.517226Z",
     "iopub.status.busy": "2022-05-18T12:51:06.516915Z",
     "iopub.status.idle": "2022-05-18T12:51:06.521046Z",
     "shell.execute_reply": "2022-05-18T12:51:06.520176Z"
    },
    "papermill": {
     "duration": 0.03776,
     "end_time": "2022-05-18T12:51:06.522948",
     "exception": false,
     "start_time": "2022-05-18T12:51:06.485188",
     "status": "completed"
    },
    "tags": []
   },
   "outputs": [],
   "source": [
    "\n",
    "from PIL import Image\n",
    "import glob\n"
   ]
  },
  {
   "cell_type": "code",
   "execution_count": null,
   "id": "a4e6d65c",
   "metadata": {
    "papermill": {
     "duration": 0.030325,
     "end_time": "2022-05-18T12:51:06.585703",
     "exception": false,
     "start_time": "2022-05-18T12:51:06.555378",
     "status": "completed"
    },
    "tags": []
   },
   "outputs": [],
   "source": []
  },
  {
   "cell_type": "code",
   "execution_count": null,
   "id": "39df28c1",
   "metadata": {
    "papermill": {
     "duration": 0.030688,
     "end_time": "2022-05-18T12:51:06.647416",
     "exception": false,
     "start_time": "2022-05-18T12:51:06.616728",
     "status": "completed"
    },
    "tags": []
   },
   "outputs": [],
   "source": []
  },
  {
   "cell_type": "code",
   "execution_count": 6,
   "id": "b7f61d0f",
   "metadata": {
    "execution": {
     "iopub.execute_input": "2022-05-18T12:51:06.710620Z",
     "iopub.status.busy": "2022-05-18T12:51:06.710339Z",
     "iopub.status.idle": "2022-05-18T12:51:06.714560Z",
     "shell.execute_reply": "2022-05-18T12:51:06.713659Z"
    },
    "papermill": {
     "duration": 0.038336,
     "end_time": "2022-05-18T12:51:06.716660",
     "exception": false,
     "start_time": "2022-05-18T12:51:06.678324",
     "status": "completed"
    },
    "tags": []
   },
   "outputs": [],
   "source": [
    "import os #Operating System\n",
    "import sys #System\n",
    "# train_generator = train_datagen.flow(x_train, y_train, batch_size =)\n",
    "# val_generator = val_datagen.flow(x_val, y_val, batch_size = 64)\n",
    "# test_generator=test_datagen.flow(x_test,y_test,batch_size = 64)\n"
   ]
  },
  {
   "cell_type": "markdown",
   "id": "aefec1af",
   "metadata": {
    "papermill": {
     "duration": 0.031505,
     "end_time": "2022-05-18T12:51:06.778529",
     "exception": false,
     "start_time": "2022-05-18T12:51:06.747024",
     "status": "completed"
    },
    "tags": []
   },
   "source": [
    "#import image"
   ]
  },
  {
   "cell_type": "code",
   "execution_count": 7,
   "id": "1a6adfaa",
   "metadata": {
    "execution": {
     "iopub.execute_input": "2022-05-18T12:51:06.840708Z",
     "iopub.status.busy": "2022-05-18T12:51:06.840443Z",
     "iopub.status.idle": "2022-05-18T12:51:06.846445Z",
     "shell.execute_reply": "2022-05-18T12:51:06.845490Z"
    },
    "papermill": {
     "duration": 0.039674,
     "end_time": "2022-05-18T12:51:06.848438",
     "exception": false,
     "start_time": "2022-05-18T12:51:06.808764",
     "status": "completed"
    },
    "tags": []
   },
   "outputs": [],
   "source": [
    "import cv2\n",
    "'''\n",
    "def readImage(path, X, Y, label):\n",
    "    j=0\n",
    " \n",
    "    for i in os.listdir(path):\n",
    "        imgname=path+i\n",
    "        #print(imgname)\n",
    "        img = cv2.imread(imgname, cv2.IMREAD_COLOR)\n",
    "        img =cv2.resize(img,(50, 50))\n",
    "        X.append(img)\n",
    "        Y.append(label)\n",
    "        j=j+1\n",
    "        #if j==10:\n",
    "        #    break\n",
    "        \n",
    "    return X, Y\n",
    "    '''\n",
    "def readImage(path, tag):\n",
    "    j=0\n",
    "    image_array = []\n",
    "    for i in os.listdir(path):\n",
    "        imgname=path+i\n",
    "        #print(imgname)\n",
    "        img = cv2.imread(imgname, cv2.IMREAD_COLOR)\n",
    "        img_resized = cv2.resize(img, (img_size,img_size), interpolation=cv2.INTER_LINEAR)\n",
    "        image_array.append([img_resized, tag])\n",
    "        #print(img[1])\n",
    "        j=j+1\n",
    "        #if j==10:\n",
    "        #    break\n",
    "        \n",
    "    return image_array"
   ]
  },
  {
   "cell_type": "code",
   "execution_count": 8,
   "id": "a4adde3c",
   "metadata": {
    "execution": {
     "iopub.execute_input": "2022-05-18T12:51:06.912440Z",
     "iopub.status.busy": "2022-05-18T12:51:06.912141Z",
     "iopub.status.idle": "2022-05-18T12:51:12.842052Z",
     "shell.execute_reply": "2022-05-18T12:51:12.841017Z"
    },
    "papermill": {
     "duration": 5.96454,
     "end_time": "2022-05-18T12:51:12.844204",
     "exception": false,
     "start_time": "2022-05-18T12:51:06.879664",
     "status": "completed"
    },
    "tags": []
   },
   "outputs": [
    {
     "name": "stdout",
     "output_type": "stream",
     "text": [
      "(5000, 2)\n",
      "(10000, 2)\n",
      "(10000, 299, 299, 3)\n"
     ]
    }
   ],
   "source": [
    "import numpy as np\n",
    "\n",
    "\n",
    "class0_array = readImage(class0path, 0)\n",
    "class1_array = readImage(class1path, 1)\n",
    "class0_array=np.array(class0_array)\n",
    "class1_array=np.array(class1_array)\n",
    "combined_data = np.concatenate((class0_array, class1_array))\n",
    "random.seed(41)\n",
    "random.shuffle(combined_data)\n",
    "print(class0_array.shape)\n",
    "print(combined_data.shape)\n",
    "\n",
    "X = []\n",
    "y = []\n",
    "\n",
    "for features,label in combined_data:\n",
    "    X.append(features)\n",
    "    y.append(label)\n",
    "#print(X.shape)\n",
    "#pring(y.shape)\n",
    "\n",
    "# reshape X data\n",
    "X = np.array(X).reshape(training_reshape)\n",
    "print(X.shape)"
   ]
  },
  {
   "cell_type": "code",
   "execution_count": 9,
   "id": "5517453f",
   "metadata": {
    "execution": {
     "iopub.execute_input": "2022-05-18T12:51:12.908884Z",
     "iopub.status.busy": "2022-05-18T12:51:12.908130Z",
     "iopub.status.idle": "2022-05-18T12:51:14.407706Z",
     "shell.execute_reply": "2022-05-18T12:51:14.406751Z"
    },
    "papermill": {
     "duration": 1.533879,
     "end_time": "2022-05-18T12:51:14.409864",
     "exception": false,
     "start_time": "2022-05-18T12:51:12.875985",
     "status": "completed"
    },
    "tags": []
   },
   "outputs": [
    {
     "name": "stdout",
     "output_type": "stream",
     "text": [
      "(7000, 299, 299, 3) (900, 299, 299, 3) (2100, 299, 299, 3) (7000, 2) (900, 2) (2100, 2)\n"
     ]
    }
   ],
   "source": [
    "X_train, X_test1, y_train, y_test1 = train_test_split(X, y, test_size=0.3, random_state=42)\n",
    "X_val, X_test, y_val, y_test = train_test_split(X_test1, y_test1, test_size=0.3, random_state=42)\n",
    "y_train = to_categorical(y_train)\n",
    "y_test = to_categorical(y_test)\n",
    "y_val = to_categorical(y_val)\n",
    "print(X_train.shape, X_test.shape, X_val.shape, y_train.shape, y_test.shape, y_val.shape)"
   ]
  },
  {
   "cell_type": "code",
   "execution_count": 10,
   "id": "5c724525",
   "metadata": {
    "execution": {
     "iopub.execute_input": "2022-05-18T12:51:14.476030Z",
     "iopub.status.busy": "2022-05-18T12:51:14.475485Z",
     "iopub.status.idle": "2022-05-18T12:51:14.480317Z",
     "shell.execute_reply": "2022-05-18T12:51:14.479649Z"
    },
    "papermill": {
     "duration": 0.039495,
     "end_time": "2022-05-18T12:51:14.482051",
     "exception": false,
     "start_time": "2022-05-18T12:51:14.442556",
     "status": "completed"
    },
    "tags": []
   },
   "outputs": [],
   "source": [
    "#Callbacks\n",
    "c2=tf.keras.callbacks.EarlyStopping(\n",
    "    monitor=\"val_loss\",\n",
    "    min_delta=0,\n",
    "    patience=6,\n",
    "    mode=\"auto\",\n",
    "    baseline=None,\n",
    "    restore_best_weights=True,\n",
    ")\n",
    "\n",
    "c3=tf.keras.callbacks.ReduceLROnPlateau(\n",
    "    monitor=\"val_loss\",\n",
    "    factor=0.1,\n",
    "    patience=6,\n",
    "    mode=\"auto\",\n",
    "    min_delta=0.0001,\n",
    "    cooldown=0,\n",
    "    min_lr=0.001\n",
    ")\n",
    "nClasses=2"
   ]
  },
  {
   "cell_type": "markdown",
   "id": "9626d704",
   "metadata": {
    "papermill": {
     "duration": 0.032759,
     "end_time": "2022-05-18T12:51:14.546690",
     "exception": false,
     "start_time": "2022-05-18T12:51:14.513931",
     "status": "completed"
    },
    "tags": []
   },
   "source": [
    "# Model configure"
   ]
  },
  {
   "cell_type": "code",
   "execution_count": 11,
   "id": "581a91d8",
   "metadata": {
    "execution": {
     "iopub.execute_input": "2022-05-18T12:51:14.611784Z",
     "iopub.status.busy": "2022-05-18T12:51:14.611240Z",
     "iopub.status.idle": "2022-05-18T12:51:24.076934Z",
     "shell.execute_reply": "2022-05-18T12:51:24.076323Z"
    },
    "papermill": {
     "duration": 9.501254,
     "end_time": "2022-05-18T12:51:24.079205",
     "exception": false,
     "start_time": "2022-05-18T12:51:14.577951",
     "status": "completed"
    },
    "tags": []
   },
   "outputs": [
    {
     "name": "stderr",
     "output_type": "stream",
     "text": [
      "2022-05-18 12:51:14.672367: I tensorflow/core/common_runtime/process_util.cc:146] Creating new thread pool with default inter op setting: 2. Tune using inter_op_parallelism_threads for best performance.\n"
     ]
    },
    {
     "name": "stdout",
     "output_type": "stream",
     "text": [
      "Downloading data from https://storage.googleapis.com/tensorflow/keras-applications/inception_resnet_v2/inception_resnet_v2_weights_tf_dim_ordering_tf_kernels_notop.h5\n",
      "219062272/219055592 [==============================] - 2s 0us/step\n",
      "219070464/219055592 [==============================] - 2s 0us/step\n",
      "Model: \"sequential\"\n",
      "_________________________________________________________________\n",
      "Layer (type)                 Output Shape              Param #   \n",
      "=================================================================\n",
      "inception_resnet_v2 (Functio (None, 1536)              54336736  \n",
      "_________________________________________________________________\n",
      "flatten (Flatten)            (None, 1536)              0         \n",
      "_________________________________________________________________\n",
      "batch_normalization_203 (Bat (None, 1536)              6144      \n",
      "_________________________________________________________________\n",
      "dense (Dense)                (None, 4096)              6295552   \n",
      "_________________________________________________________________\n",
      "batch_normalization_204 (Bat (None, 4096)              16384     \n",
      "_________________________________________________________________\n",
      "activation_203 (Activation)  (None, 4096)              0         \n",
      "_________________________________________________________________\n",
      "dropout (Dropout)            (None, 4096)              0         \n",
      "_________________________________________________________________\n",
      "dense_1 (Dense)              (None, 2096)              8587312   \n",
      "_________________________________________________________________\n",
      "dense_2 (Dense)              (None, 2)                 4194      \n",
      "=================================================================\n",
      "Total params: 69,246,322\n",
      "Trainable params: 14,898,322\n",
      "Non-trainable params: 54,348,000\n",
      "_________________________________________________________________\n"
     ]
    }
   ],
   "source": [
    "IMAGE_RESIZE = 299\n",
    "InceptionResNetV2_POOLING_AVERAGE = 'avg'\n",
    "DENSE_LAYER_ACTIVATION = 'sigmoid'\n",
    "OBJECTIVE_FUNCTION = 'categorical_crossentropy'\n",
    "\n",
    "# Common accuracy metric for all outputs, but can use different metrics for different output\n",
    "LOSS_METRICS = ['accuracy']\n",
    "\n",
    "# EARLY_STOP_PATIENCE must be < NUM_EPOCHS\n",
    "NUM_EPOCHS = 10\n",
    "EARLY_STOP_PATIENCE = 3\n",
    "#resnet_weights_path = '../input/resnet50/resnet50_weights_tf_dim_ordering_tf_kernels_notop.h5'\n",
    "\n",
    "from tensorflow.keras.applications import inception_resnet_v2\n",
    "base_model=inception_resnet_v2.InceptionResNetV2(include_top = False, input_shape=(img_size, img_size,3), pooling = InceptionResNetV2_POOLING_AVERAGE, weights = 'imagenet')\n",
    "\n",
    "base_model.trainable = False\n",
    "model=Sequential()\n",
    "model.add(base_model)\n",
    "model.add(Flatten())\n",
    "model.add(BatchNormalization())\n",
    "model.add(Dense(4096,kernel_initializer='he_uniform'))\n",
    "model.add(BatchNormalization())\n",
    "model.add(Activation('relu'))\n",
    "model.add(Dropout(0.5))\n",
    "model.add(Dense(2096,activation=\"relu\"))\n",
    "model.add(Dense(2, activation='sigmoid'))\n",
    "#model = Model(inputs=resnet50_base_model.input, outputs=predictions)\n",
    "model.summary()\n"
   ]
  },
  {
   "cell_type": "code",
   "execution_count": 12,
   "id": "be8c1adb",
   "metadata": {
    "execution": {
     "iopub.execute_input": "2022-05-18T12:51:24.161644Z",
     "iopub.status.busy": "2022-05-18T12:51:24.160969Z",
     "iopub.status.idle": "2022-05-18T12:51:25.618736Z",
     "shell.execute_reply": "2022-05-18T12:51:25.617633Z"
    },
    "papermill": {
     "duration": 1.502376,
     "end_time": "2022-05-18T12:51:25.622423",
     "exception": false,
     "start_time": "2022-05-18T12:51:24.120047",
     "status": "completed"
    },
    "tags": []
   },
   "outputs": [
    {
     "data": {
      "image/png": "[encoded data removed]",
      "text/plain": [
       "<IPython.core.display.Image object>"
      ]
     },
     "execution_count": 12,
     "metadata": {},
     "output_type": "execute_result"
    }
   ],
   "source": [
    "from tensorflow.keras.utils import plot_model\n",
    "from IPython.display import Image\n",
    "plot_model(model, to_file='convnet.png', show_shapes=True,show_layer_names=True)\n",
    "Image(filename='convnet.png') "
   ]
  },
  {
   "cell_type": "code",
   "execution_count": 13,
   "id": "1c2ae92c",
   "metadata": {
    "execution": {
     "iopub.execute_input": "2022-05-18T12:51:25.709421Z",
     "iopub.status.busy": "2022-05-18T12:51:25.709103Z",
     "iopub.status.idle": "2022-05-18T12:51:25.739149Z",
     "shell.execute_reply": "2022-05-18T12:51:25.738363Z"
    },
    "papermill": {
     "duration": 0.07546,
     "end_time": "2022-05-18T12:51:25.741255",
     "exception": false,
     "start_time": "2022-05-18T12:51:25.665795",
     "status": "completed"
    },
    "tags": []
   },
   "outputs": [],
   "source": [
    "callbacks1 = [EarlyStopping(monitor='val_loss', patience=5, verbose=1), ModelCheckpoint('model.hdf5', save_best_only=True)]\n",
    "opt = Adam(learning_rate=0.001)\n",
    "model.compile(loss='categorical_crossentropy', optimizer=opt, metrics=['accuracy'])"
   ]
  },
  {
   "cell_type": "code",
   "execution_count": 14,
   "id": "4957ba16",
   "metadata": {
    "execution": {
     "iopub.execute_input": "2022-05-18T12:51:25.827398Z",
     "iopub.status.busy": "2022-05-18T12:51:25.826930Z",
     "iopub.status.idle": "2022-05-18T17:09:35.565528Z",
     "shell.execute_reply": "2022-05-18T17:09:35.564513Z"
    },
    "papermill": {
     "duration": 15489.785631,
     "end_time": "2022-05-18T17:09:35.568845",
     "exception": false,
     "start_time": "2022-05-18T12:51:25.783214",
     "status": "completed"
    },
    "tags": []
   },
   "outputs": [
    {
     "name": "stdout",
     "output_type": "stream",
     "text": [
      "CPU times: user 2 µs, sys: 1 µs, total: 3 µs\n",
      "Wall time: 7.39 µs\n"
     ]
    },
    {
     "name": "stderr",
     "output_type": "stream",
     "text": [
      "2022-05-18 12:51:27.973648: I tensorflow/compiler/mlir/mlir_graph_optimization_pass.cc:185] None of the MLIR Optimization Passes are enabled (registered 2)\n"
     ]
    },
    {
     "name": "stdout",
     "output_type": "stream",
     "text": [
      "Epoch 1/10\n",
      "219/219 [==============================] - 1575s 7s/step - loss: 0.5546 - accuracy: 0.8310 - val_loss: 0.3529 - val_accuracy: 0.8500\n",
      "Epoch 2/10\n",
      "219/219 [==============================] - 1544s 7s/step - loss: 0.3656 - accuracy: 0.8501 - val_loss: 0.3493 - val_accuracy: 0.8289\n",
      "Epoch 3/10\n",
      "219/219 [==============================] - 1558s 7s/step - loss: 0.3558 - accuracy: 0.8486 - val_loss: 0.3306 - val_accuracy: 0.8456\n",
      "Epoch 4/10\n",
      "219/219 [==============================] - 1544s 7s/step - loss: 0.3481 - accuracy: 0.8554 - val_loss: 0.3432 - val_accuracy: 0.8367\n",
      "Epoch 5/10\n",
      "219/219 [==============================] - 1541s 7s/step - loss: 0.3371 - accuracy: 0.8541 - val_loss: 0.3667 - val_accuracy: 0.8289\n",
      "Epoch 6/10\n",
      "219/219 [==============================] - 1541s 7s/step - loss: 0.3422 - accuracy: 0.8574 - val_loss: 0.3407 - val_accuracy: 0.8444\n",
      "Epoch 7/10\n",
      "219/219 [==============================] - 1541s 7s/step - loss: 0.3334 - accuracy: 0.8539 - val_loss: 0.3537 - val_accuracy: 0.8289\n",
      "Epoch 8/10\n",
      "219/219 [==============================] - 1542s 7s/step - loss: 0.3304 - accuracy: 0.8580 - val_loss: 0.3300 - val_accuracy: 0.8467\n",
      "Epoch 9/10\n",
      "219/219 [==============================] - 1546s 7s/step - loss: 0.3314 - accuracy: 0.8537 - val_loss: 0.3269 - val_accuracy: 0.8567\n",
      "Epoch 10/10\n",
      "219/219 [==============================] - 1544s 7s/step - loss: 0.3255 - accuracy: 0.8583 - val_loss: 0.3227 - val_accuracy: 0.8578\n"
     ]
    }
   ],
   "source": [
    "%time\n",
    "history1=model.fit(X_train, y_train,validation_data=(X_test, y_test),verbose = 1,epochs = epoch_4_test,callbacks=callbacks1)"
   ]
  },
  {
   "cell_type": "code",
   "execution_count": 15,
   "id": "f567223f",
   "metadata": {
    "execution": {
     "iopub.execute_input": "2022-05-18T17:09:36.878211Z",
     "iopub.status.busy": "2022-05-18T17:09:36.877690Z",
     "iopub.status.idle": "2022-05-18T17:09:36.883201Z",
     "shell.execute_reply": "2022-05-18T17:09:36.882623Z"
    },
    "papermill": {
     "duration": 0.658982,
     "end_time": "2022-05-18T17:09:36.884761",
     "exception": false,
     "start_time": "2022-05-18T17:09:36.225779",
     "status": "completed"
    },
    "tags": []
   },
   "outputs": [],
   "source": [
    "def f1_score(y_true, y_pred): #taken from old keras source code\n",
    "    true_positives = K.sum(K.round(K.clip(y_true * y_pred, 0, 1)))\n",
    "    possible_positives = K.sum(K.round(K.clip(y_true, 0, 1)))\n",
    "    predicted_positives = K.sum(K.round(K.clip(y_pred, 0, 1)))\n",
    "    precision = true_positives / (predicted_positives + K.epsilon())\n",
    "    recall = true_positives / (possible_positives + K.epsilon())\n",
    "    f1_val = 2*(precision*recall)/(precision+recall+K.epsilon())\n",
    "    return f1_val"
   ]
  },
  {
   "cell_type": "code",
   "execution_count": 16,
   "id": "119246ed",
   "metadata": {
    "execution": {
     "iopub.execute_input": "2022-05-18T17:09:38.168326Z",
     "iopub.status.busy": "2022-05-18T17:09:38.168016Z",
     "iopub.status.idle": "2022-05-18T17:09:38.184883Z",
     "shell.execute_reply": "2022-05-18T17:09:38.184330Z"
    },
    "papermill": {
     "duration": 0.658141,
     "end_time": "2022-05-18T17:09:38.186880",
     "exception": false,
     "start_time": "2022-05-18T17:09:37.528739",
     "status": "completed"
    },
    "tags": []
   },
   "outputs": [],
   "source": [
    "METRICS = [\n",
    "      tf.keras.metrics.BinaryAccuracy(name='accuracy'),\n",
    "      tf.keras.metrics.Precision(name='precision'),\n",
    "      tf.keras.metrics.Recall(name='recall'),  \n",
    "      tf.keras.metrics.AUC(name='auc'),\n",
    "        f1_score,\n",
    "]"
   ]
  },
  {
   "cell_type": "code",
   "execution_count": null,
   "id": "13ec414c",
   "metadata": {
    "execution": {
     "iopub.execute_input": "2022-05-06T15:08:04.489795Z",
     "iopub.status.busy": "2022-05-06T15:08:04.488846Z",
     "iopub.status.idle": "2022-05-06T15:08:04.918152Z",
     "shell.execute_reply": "2022-05-06T15:08:04.917046Z",
     "shell.execute_reply.started": "2022-05-06T15:08:04.489742Z"
    },
    "papermill": {
     "duration": 1.523585,
     "end_time": "2022-05-18T17:09:40.349408",
     "exception": false,
     "start_time": "2022-05-18T17:09:38.825823",
     "status": "completed"
    },
    "tags": []
   },
   "outputs": [],
   "source": []
  },
  {
   "cell_type": "code",
   "execution_count": 17,
   "id": "2165a73f",
   "metadata": {
    "execution": {
     "iopub.execute_input": "2022-05-18T17:09:41.629015Z",
     "iopub.status.busy": "2022-05-18T17:09:41.628728Z",
     "iopub.status.idle": "2022-05-18T17:16:30.987344Z",
     "shell.execute_reply": "2022-05-18T17:16:30.986574Z"
    },
    "papermill": {
     "duration": 410.642873,
     "end_time": "2022-05-18T17:16:31.628856",
     "exception": false,
     "start_time": "2022-05-18T17:09:40.985983",
     "status": "completed"
    },
    "tags": []
   },
   "outputs": [
    {
     "data": {
      "image/png": "[encoded data removed]",
      "text/plain": [
       "<Figure size 576x576 with 2 Axes>"
      ]
     },
     "metadata": {
      "needs_background": "light"
     },
     "output_type": "display_data"
    }
   ],
   "source": [
    "from sklearn.metrics import confusion_matrix\n",
    "import seaborn as sns\n",
    "\n",
    "Y_pred = model.predict(X_val)\n",
    "Y_pred_classes = np.argmax(Y_pred,axis = 1) \n",
    "Y_true = np.argmax(y_val,axis = 1) \n",
    "\n",
    "confusion_mtx = confusion_matrix(Y_true, Y_pred_classes) \n",
    "\n",
    "f,ax = plt.subplots(figsize=(8, 8))\n",
    "sns.heatmap(confusion_mtx, annot=True, linewidths=0.01,cmap=\"OrRd\",linecolor=\"black\", fmt= '.1f',ax=ax)\n",
    "plt.xlabel(\"Predicted Label\")\n",
    "plt.ylabel(\"True Label\")\n",
    "plt.title(\"Confusion Matrix\")\n",
    "plt.show()"
   ]
  },
  {
   "cell_type": "code",
   "execution_count": 18,
   "id": "67bdf752",
   "metadata": {
    "execution": {
     "iopub.execute_input": "2022-05-18T17:16:32.909353Z",
     "iopub.status.busy": "2022-05-18T17:16:32.909016Z",
     "iopub.status.idle": "2022-05-18T17:16:32.921564Z",
     "shell.execute_reply": "2022-05-18T17:16:32.920129Z"
    },
    "papermill": {
     "duration": 0.653506,
     "end_time": "2022-05-18T17:16:32.923458",
     "exception": false,
     "start_time": "2022-05-18T17:16:32.269952",
     "status": "completed"
    },
    "tags": []
   },
   "outputs": [
    {
     "name": "stdout",
     "output_type": "stream",
     "text": [
      "              precision    recall  f1-score   support\n",
      "\n",
      "           0       0.91      0.97      0.94      1806\n",
      "           1       0.69      0.39      0.50       294\n",
      "\n",
      "    accuracy                           0.89      2100\n",
      "   macro avg       0.80      0.68      0.72      2100\n",
      "weighted avg       0.88      0.89      0.88      2100\n",
      "\n"
     ]
    }
   ],
   "source": [
    "from sklearn.metrics import classification_report\n",
    "\n",
    "print(classification_report(Y_true, Y_pred_classes))"
   ]
  },
  {
   "cell_type": "markdown",
   "id": "2c20b938",
   "metadata": {
    "papermill": {
     "duration": 0.636402,
     "end_time": "2022-05-18T17:16:34.196979",
     "exception": false,
     "start_time": "2022-05-18T17:16:33.560577",
     "status": "completed"
    },
    "tags": []
   },
   "source": []
  },
  {
   "cell_type": "code",
   "execution_count": null,
   "id": "109521b3",
   "metadata": {
    "execution": {
     "iopub.execute_input": "2022-05-06T15:08:41.911737Z",
     "iopub.status.busy": "2022-05-06T15:08:41.911171Z",
     "iopub.status.idle": "2022-05-06T15:08:41.922881Z",
     "shell.execute_reply": "2022-05-06T15:08:41.922041Z",
     "shell.execute_reply.started": "2022-05-06T15:08:41.911677Z"
    },
    "papermill": {
     "duration": 0.634492,
     "end_time": "2022-05-18T17:16:35.466142",
     "exception": false,
     "start_time": "2022-05-18T17:16:34.831650",
     "status": "completed"
    },
    "tags": []
   },
   "outputs": [],
   "source": []
  },
  {
   "cell_type": "code",
   "execution_count": 19,
   "id": "ca464486",
   "metadata": {
    "execution": {
     "iopub.execute_input": "2022-05-18T17:16:36.740367Z",
     "iopub.status.busy": "2022-05-18T17:16:36.739844Z",
     "iopub.status.idle": "2022-05-18T17:16:36.752328Z",
     "shell.execute_reply": "2022-05-18T17:16:36.751642Z"
    },
    "papermill": {
     "duration": 0.648683,
     "end_time": "2022-05-18T17:16:36.754015",
     "exception": false,
     "start_time": "2022-05-18T17:16:36.105332",
     "status": "completed"
    },
    "tags": []
   },
   "outputs": [],
   "source": [
    "from sklearn.metrics import f1_score, roc_auc_score, cohen_kappa_score, precision_score, recall_score, accuracy_score, confusion_matrix\n",
    "def get_accuracy_metrics(model, X_train, y_train, X_val, y_val, X_test, y_test):\n",
    "    y_train=np.argmax(y_train, axis=1)\n",
    "    y_test=np.argmax(y_test, axis=1)\n",
    "    y_val=np.argmax(y_val, axis=1)\n",
    "    y_train_pred=np.argmax(model.predict(X_train),axis=1)\n",
    "    y_test_pred=np.argmax(model.predict(X_test),axis=1)\n",
    "    y_val_pred=np.argmax(model.predict(X_val),axis=1)\n",
    "    #ps:all the Y value must turn back to 1 dimension array. otherwise, the scoring functions in sklearn cannot compare, and will give an error\n",
    "    #classification metrics can't handle a mix of continuous-multioutput and multi-label-indicator targets\n",
    "    \n",
    "    print(\"Train accuracy Score------------>\")\n",
    "    print (\"{0:.3f}\".format(accuracy_score(y_train, y_train_pred)*100), \"%\")\n",
    "    \n",
    "    print(\"Val accuracy Score--------->\")\n",
    "    \n",
    "    print(\"{0:.3f}\".format(accuracy_score(y_val, y_val_pred)*100), \"%\")\n",
    "    \n",
    "  \n",
    "    print(\"Test accuracy Score--------->\")\n",
    "    print(\"{0:.3f}\".format(accuracy_score(y_test, y_test_pred)*100), \"%\")\n",
    "    \n",
    "    print(\"F1 Score--------------->\")\n",
    "    print(\"{0:.3f}\".format(f1_score(y_test, y_test_pred, average = 'weighted')*100), \"%\")\n",
    "    \n",
    "    print(\"Cohen Kappa Score------------->\")\n",
    "    print(\"{0:.3f}\".format(cohen_kappa_score(y_test, y_test_pred)*100), \"%\")\n",
    "    \n",
    "    print(\"Recall-------------->\")\n",
    "    print(\"{0:.3f}\".format(recall_score(y_test, y_test_pred, average = 'weighted')*100), \"%\")\n",
    "    \n",
    "    print(\"Precision-------------->\")\n",
    "    print(\"{0:.3f}\".format(precision_score(y_test, y_test_pred, average = 'weighted')*100), \"%\")\n",
    "    \n",
    "    cf_matrix_test = confusion_matrix(y_test, y_test_pred)\n",
    "    cf_matrix_val = confusion_matrix(y_val, y_val_pred)\n",
    "    \n",
    "    plt.figure(figsize = (12, 6))\n",
    "    plt.subplot(121)\n",
    "    sns.heatmap(cf_matrix_val, annot=True, cmap='Blues')\n",
    "    plt.title(\"Val Confusion matrix\")\n",
    "    \n",
    "    plt.subplot(122)\n",
    "    sns.heatmap(cf_matrix_test, annot=True, cmap='Blues')\n",
    "    plt.title(\"Test Confusion matrix\")\n",
    "    \n",
    "    plt.show()"
   ]
  },
  {
   "cell_type": "code",
   "execution_count": null,
   "id": "1045bf70",
   "metadata": {
    "papermill": {
     "duration": 0.660713,
     "end_time": "2022-05-18T17:16:38.055884",
     "exception": false,
     "start_time": "2022-05-18T17:16:37.395171",
     "status": "completed"
    },
    "tags": []
   },
   "outputs": [],
   "source": []
  },
  {
   "cell_type": "code",
   "execution_count": 20,
   "id": "1f412122",
   "metadata": {
    "execution": {
     "iopub.execute_input": "2022-05-18T17:16:39.330933Z",
     "iopub.status.busy": "2022-05-18T17:16:39.330383Z",
     "iopub.status.idle": "2022-05-18T17:48:21.395516Z",
     "shell.execute_reply": "2022-05-18T17:48:21.394695Z"
    },
    "papermill": {
     "duration": 1903.259534,
     "end_time": "2022-05-18T17:48:21.950446",
     "exception": false,
     "start_time": "2022-05-18T17:16:38.690912",
     "status": "completed"
    },
    "tags": []
   },
   "outputs": [
    {
     "name": "stdout",
     "output_type": "stream",
     "text": [
      "Train accuracy Score------------>\n",
      "87.100 %\n",
      "Val accuracy Score--------->\n",
      "88.952 %\n",
      "Test accuracy Score--------->\n",
      "85.778 %\n",
      "F1 Score--------------->\n",
      "83.936 %\n",
      "Cohen Kappa Score------------->\n",
      "38.443 %\n",
      "Recall-------------->\n",
      "85.778 %\n",
      "Precision-------------->\n",
      "84.024 %\n"
     ]
    },
    {
     "data": {
      "image/png": "[encoded data removed]",
      "text/plain": [
       "<Figure size 864x432 with 4 Axes>"
      ]
     },
     "metadata": {
      "needs_background": "light"
     },
     "output_type": "display_data"
    }
   ],
   "source": [
    "get_accuracy_metrics(model,  X_train, y_train, X_val, y_val, X_test, y_test)"
   ]
  },
  {
   "cell_type": "code",
   "execution_count": 21,
   "id": "e5f70d73",
   "metadata": {
    "execution": {
     "iopub.execute_input": "2022-05-18T17:48:23.255918Z",
     "iopub.status.busy": "2022-05-18T17:48:23.255531Z",
     "iopub.status.idle": "2022-05-18T17:48:23.535943Z",
     "shell.execute_reply": "2022-05-18T17:48:23.535140Z"
    },
    "papermill": {
     "duration": 0.936311,
     "end_time": "2022-05-18T17:48:23.538070",
     "exception": false,
     "start_time": "2022-05-18T17:48:22.601759",
     "status": "completed"
    },
    "tags": []
   },
   "outputs": [
    {
     "data": {
      "image/png": "[encoded data removed]",
      "text/plain": [
       "<Figure size 864x432 with 2 Axes>"
      ]
     },
     "metadata": {
      "needs_background": "light"
     },
     "output_type": "display_data"
    }
   ],
   "source": [
    "import matplotlib.pyplot as plt\n",
    "import seaborn as sns\n",
    "plt.figure(figsize = (12, 6))\n",
    "plt.subplot(121)\n",
    "#plotting the Accuracy of test and training sets\n",
    "plt.plot(history1.history['accuracy'])\n",
    "plt.plot(history1.history['val_accuracy'])\n",
    "plt.title('1st training Model Accuracy')\n",
    "plt.ylabel('accuracy')\n",
    "plt.xlabel('epoch')\n",
    "plt.legend(['train', 'test'], loc='upper left')\n",
    "\n",
    "plt.subplot(122)\n",
    "#plotting the loss of test and training sets\n",
    "plt.plot(history1.history['loss'])\n",
    "plt.plot(history1.history['val_loss'])\n",
    "plt.title('1st training Model Loss')\n",
    "plt.ylabel('loss')\n",
    "plt.xlabel('epoch')\n",
    "plt.legend(['train', 'test'], loc='upper left')\n",
    "plt.show()"
   ]
  },
  {
   "cell_type": "markdown",
   "id": "b9e6f767",
   "metadata": {
    "papermill": {
     "duration": 0.642554,
     "end_time": "2022-05-18T17:48:24.823424",
     "exception": false,
     "start_time": "2022-05-18T17:48:24.180870",
     "status": "completed"
    },
    "tags": []
   },
   "source": [
    "# Second Training Fine Tune"
   ]
  },
  {
   "cell_type": "code",
   "execution_count": 22,
   "id": "cfeece2f",
   "metadata": {
    "execution": {
     "iopub.execute_input": "2022-05-18T17:48:26.113762Z",
     "iopub.status.busy": "2022-05-18T17:48:26.113519Z",
     "iopub.status.idle": "2022-05-18T17:48:26.139284Z",
     "shell.execute_reply": "2022-05-18T17:48:26.138730Z"
    },
    "papermill": {
     "duration": 0.673811,
     "end_time": "2022-05-18T17:48:26.141062",
     "exception": false,
     "start_time": "2022-05-18T17:48:25.467251",
     "status": "completed"
    },
    "tags": []
   },
   "outputs": [],
   "source": [
    "for model1 in model.layers:\n",
    "    model1.trainable = True"
   ]
  },
  {
   "cell_type": "code",
   "execution_count": 23,
   "id": "3dd0251c",
   "metadata": {
    "execution": {
     "iopub.execute_input": "2022-05-18T17:48:27.420072Z",
     "iopub.status.busy": "2022-05-18T17:48:27.419832Z",
     "iopub.status.idle": "2022-05-18T17:48:27.424494Z",
     "shell.execute_reply": "2022-05-18T17:48:27.423520Z"
    },
    "papermill": {
     "duration": 0.649284,
     "end_time": "2022-05-18T17:48:27.426410",
     "exception": false,
     "start_time": "2022-05-18T17:48:26.777126",
     "status": "completed"
    },
    "tags": []
   },
   "outputs": [],
   "source": [
    "callbacks2 = [EarlyStopping(monitor='val_loss', patience=5, verbose=1), ModelCheckpoint('test_model.hdf5', save_best_only=True)]\n",
    "opt = Adam(learning_rate=0.001)\n",
    "#model.compile(loss='categorical_crossentropy', optimizer=opt, metrics=['accuracy'])"
   ]
  },
  {
   "cell_type": "code",
   "execution_count": 24,
   "id": "df370996",
   "metadata": {
    "execution": {
     "iopub.execute_input": "2022-05-18T17:48:28.715738Z",
     "iopub.status.busy": "2022-05-18T17:48:28.715221Z",
     "iopub.status.idle": "2022-05-18T19:04:41.550416Z",
     "shell.execute_reply": "2022-05-18T19:04:41.549568Z"
    },
    "papermill": {
     "duration": 4573.478271,
     "end_time": "2022-05-18T19:04:41.552728",
     "exception": false,
     "start_time": "2022-05-18T17:48:28.074457",
     "status": "completed"
    },
    "tags": []
   },
   "outputs": [
    {
     "name": "stdout",
     "output_type": "stream",
     "text": [
      "Epoch 1/3\n",
      "219/219 [==============================] - 1520s 7s/step - loss: 0.3267 - accuracy: 0.8584 - val_loss: 0.3511 - val_accuracy: 0.8500\n",
      "Epoch 2/3\n",
      "219/219 [==============================] - 1524s 7s/step - loss: 0.3290 - accuracy: 0.8627 - val_loss: 0.3363 - val_accuracy: 0.8478\n",
      "Epoch 3/3\n",
      "219/219 [==============================] - 1523s 7s/step - loss: 0.3232 - accuracy: 0.8586 - val_loss: 0.3246 - val_accuracy: 0.8556\n"
     ]
    }
   ],
   "source": [
    "history2=model.fit(X_train, y_train,validation_data=(X_test, y_test),verbose = 1,epochs = 3,callbacks=callbacks2)"
   ]
  },
  {
   "cell_type": "code",
   "execution_count": 25,
   "id": "4259df3a",
   "metadata": {
    "execution": {
     "iopub.execute_input": "2022-05-18T19:04:43.199933Z",
     "iopub.status.busy": "2022-05-18T19:04:43.198933Z",
     "iopub.status.idle": "2022-05-18T19:11:20.376857Z",
     "shell.execute_reply": "2022-05-18T19:11:20.376119Z"
    },
    "papermill": {
     "duration": 398.834504,
     "end_time": "2022-05-18T19:11:21.211499",
     "exception": false,
     "start_time": "2022-05-18T19:04:42.376995",
     "status": "completed"
    },
    "tags": []
   },
   "outputs": [
    {
     "data": {
      "image/png": "[encoded data removed]",
      "text/plain": [
       "<Figure size 576x576 with 2 Axes>"
      ]
     },
     "metadata": {
      "needs_background": "light"
     },
     "output_type": "display_data"
    }
   ],
   "source": [
    "Y_pred = model.predict(X_val)\n",
    "Y_pred_classes = np.argmax(Y_pred,axis = 1) \n",
    "Y_true = np.argmax(y_val,axis = 1) \n",
    "\n",
    "confusion_mtx = confusion_matrix(Y_true, Y_pred_classes) \n",
    "\n",
    "f,ax = plt.subplots(figsize=(8, 8))\n",
    "sns.heatmap(confusion_mtx, annot=True, linewidths=0.01,cmap=\"OrRd\",linecolor=\"black\", fmt= '.1f',ax=ax)\n",
    "plt.xlabel(\"Predicted Label\")\n",
    "plt.ylabel(\"True Label\")\n",
    "plt.title(\"Confusion Matrix\")\n",
    "plt.show()"
   ]
  },
  {
   "cell_type": "code",
   "execution_count": 26,
   "id": "ed5f75a6",
   "metadata": {
    "execution": {
     "iopub.execute_input": "2022-05-18T19:11:22.884958Z",
     "iopub.status.busy": "2022-05-18T19:11:22.884709Z",
     "iopub.status.idle": "2022-05-18T19:11:22.896985Z",
     "shell.execute_reply": "2022-05-18T19:11:22.895993Z"
    },
    "papermill": {
     "duration": 0.840942,
     "end_time": "2022-05-18T19:11:22.898724",
     "exception": false,
     "start_time": "2022-05-18T19:11:22.057782",
     "status": "completed"
    },
    "tags": []
   },
   "outputs": [
    {
     "name": "stdout",
     "output_type": "stream",
     "text": [
      "              precision    recall  f1-score   support\n",
      "\n",
      "           0       0.91      0.96      0.94      1806\n",
      "           1       0.65      0.45      0.53       294\n",
      "\n",
      "    accuracy                           0.89      2100\n",
      "   macro avg       0.78      0.70      0.73      2100\n",
      "weighted avg       0.88      0.89      0.88      2100\n",
      "\n"
     ]
    }
   ],
   "source": [
    "print(classification_report(Y_true, Y_pred_classes))"
   ]
  },
  {
   "cell_type": "code",
   "execution_count": 27,
   "id": "50fb83fe",
   "metadata": {
    "execution": {
     "iopub.execute_input": "2022-05-18T19:11:24.577571Z",
     "iopub.status.busy": "2022-05-18T19:11:24.577326Z"
    },
    "papermill": {
     "duration": 3.865865,
     "end_time": "2022-05-18T19:11:27.591230",
     "exception": false,
     "start_time": "2022-05-18T19:11:23.725365",
     "status": "completed"
    },
    "tags": []
   },
   "outputs": [],
   "source": [
    "get_accuracy_metrics(model,  X_train, y_train, X_val, y_val, X_test, y_test)"
   ]
  },
  {
   "cell_type": "code",
   "execution_count": null,
   "id": "cdacb016",
   "metadata": {
    "papermill": {
     "duration": null,
     "end_time": null,
     "exception": null,
     "start_time": null,
     "status": "completed"
    },
    "tags": []
   },
   "outputs": [],
   "source": [
    "plt.figure(figsize = (12, 6))\n",
    "plt.subplot(121)\n",
    "#plotting the Accuracy of test and training sets\n",
    "plt.plot(history2.history['accuracy'])\n",
    "plt.plot(history2.history['val_accuracy'])\n",
    "plt.title('2nd training Model Accuracy')\n",
    "plt.ylabel('accuracy')\n",
    "plt.xlabel('epoch')\n",
    "plt.legend(['train', 'test'], loc='upper left')\n",
    "\n",
    "plt.subplot(122)\n",
    "#plotting the loss of test and training sets\n",
    "plt.plot(history2.history['loss'])\n",
    "plt.plot(history2.history['val_loss'])\n",
    "plt.title('2nd training Model Loss')\n",
    "plt.ylabel('loss')\n",
    "plt.xlabel('epoch')\n",
    "plt.legend(['train', 'test'], loc='upper left')\n",
    "plt.show()"
   ]
  }
 ],
 "metadata": {
  "kernelspec": {
   "display_name": "Python 3",
   "language": "python",
   "name": "python3"
  },
  "language_info": {
   "codemirror_mode": {
    "name": "ipython",
    "version": 3
   },
   "file_extension": ".py",
   "mimetype": "text/x-python",
   "name": "python",
   "nbconvert_exporter": "python",
   "pygments_lexer": "ipython3",
   "version": "3.6.4"
  },
  "papermill": {
   "default_parameters": {},
   "duration": 23092.563211,
   "end_time": "2022-05-18T19:11:28.511809",
   "environment_variables": {},
   "exception": null,
   "input_path": "__notebook__.ipynb",
   "output_path": "__notebook__.ipynb",
   "parameters": {},
   "start_time": "2022-05-18T12:46:35.948598",
   "version": "2.3.4"
  }
 },
 "nbformat": 4,
 "nbformat_minor": 5
}
