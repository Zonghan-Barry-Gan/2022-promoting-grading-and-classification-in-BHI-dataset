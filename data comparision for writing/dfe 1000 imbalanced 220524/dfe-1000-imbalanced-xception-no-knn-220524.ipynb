{
 "cells": [
  {
   "cell_type": "code",
   "execution_count": 1,
   "id": "1839cdcb",
   "metadata": {
    "_cell_guid": "b1076dfc-b9ad-4769-8c92-a6c4dae69d19",
    "_uuid": "8f2839f25d086af736a60e9eeb907d3b93b6e0e5",
    "execution": {
     "iopub.execute_input": "2022-05-25T19:16:29.037871Z",
     "iopub.status.busy": "2022-05-25T19:16:29.037443Z",
     "iopub.status.idle": "2022-05-25T19:16:37.358439Z",
     "shell.execute_reply": "2022-05-25T19:16:37.357495Z"
    },
    "papermill": {
     "duration": 8.335223,
     "end_time": "2022-05-25T19:16:37.361036",
     "exception": false,
     "start_time": "2022-05-25T19:16:29.025813",
     "status": "completed"
    },
    "tags": []
   },
   "outputs": [],
   "source": [
    "from glob import glob\n",
    "import os\n",
    "import shutil\n",
    "\n",
    "import numpy as np\n",
    "import pandas as pd\n",
    "\n",
    "from sklearn.metrics import f1_score, roc_auc_score, cohen_kappa_score, precision_score, recall_score, accuracy_score, confusion_matrix\n",
    "from keras.layers import Dense, Flatten, Conv2D, MaxPooling2D, Dropout\n",
    "from keras.models import Sequential\n",
    "import tensorflow as tf\n",
    "import matplotlib.pyplot as plt\n",
    "import cv2\n",
    "from keras.layers import BatchNormalization\n",
    "from keras.models import Model, Sequential\n",
    "from keras.applications.xception import Xception\n",
    "from keras.applications import *\n",
    "import matplotlib.pyplot as plt\n",
    "from sklearn.pipeline import make_pipeline\n",
    "from sklearn.pipeline import Pipeline\n",
    "from PIL import Image\n",
    "import random\n",
    "import os\n",
    "import cv2\n",
    "from sklearn.model_selection import train_test_split\n",
    "from sklearn.neighbors import KNeighborsClassifier\n",
    "from sklearn.svm import SVC\n",
    "from sklearn.ensemble import RandomForestClassifier, AdaBoostClassifier\n",
    "from xgboost import XGBClassifier \n",
    "from keras.callbacks import EarlyStopping\n",
    "import seaborn as sns\n",
    "from sklearn.preprocessing import StandardScaler\n",
    "from tqdm import tqdm\n",
    "from sklearn.decomposition import PCA"
   ]
  },
  {
   "cell_type": "markdown",
   "id": "6ab25a23",
   "metadata": {
    "papermill": {
     "duration": 0.008003,
     "end_time": "2022-05-25T19:16:37.377392",
     "exception": false,
     "start_time": "2022-05-25T19:16:37.369389",
     "status": "completed"
    },
    "tags": []
   },
   "source": [
    "make path for image classification"
   ]
  },
  {
   "cell_type": "code",
   "execution_count": 2,
   "id": "124f506e",
   "metadata": {
    "execution": {
     "iopub.execute_input": "2022-05-25T19:16:37.396078Z",
     "iopub.status.busy": "2022-05-25T19:16:37.394755Z",
     "iopub.status.idle": "2022-05-25T19:16:37.400953Z",
     "shell.execute_reply": "2022-05-25T19:16:37.400284Z"
    },
    "papermill": {
     "duration": 0.017527,
     "end_time": "2022-05-25T19:16:37.403010",
     "exception": false,
     "start_time": "2022-05-25T19:16:37.385483",
     "status": "completed"
    },
    "tags": []
   },
   "outputs": [],
   "source": [
    "os.makedirs('../working/data/train_seg/idc-minus/')     \n",
    "os.makedirs('../working/data/train_seg/idc-plus/')  \n",
    "os.makedirs('../working/data/test_seg/idc-minus/')     \n",
    "os.makedirs('../working/data/test_seg/idc-plus/')  \n",
    "#os.makedirs('../working/data/val_seg/idc-minus/')     \n",
    "#os.makedirs('../working/data/val_seg/idc-plus/')  "
   ]
  },
  {
   "cell_type": "markdown",
   "id": "5715057a",
   "metadata": {
    "papermill": {
     "duration": 0.007767,
     "end_time": "2022-05-25T19:16:37.419093",
     "exception": false,
     "start_time": "2022-05-25T19:16:37.411326",
     "status": "completed"
    },
    "tags": []
   },
   "source": [
    "# **Image Import**\n",
    "for first time run uncomment this cell\n",
    "this will catagorise files into different directory\n",
    "for second time run please comment this cell"
   ]
  },
  {
   "cell_type": "code",
   "execution_count": 3,
   "id": "9027f2e1",
   "metadata": {
    "execution": {
     "iopub.execute_input": "2022-05-25T19:16:37.438393Z",
     "iopub.status.busy": "2022-05-25T19:16:37.437609Z",
     "iopub.status.idle": "2022-05-25T19:16:37.442148Z",
     "shell.execute_reply": "2022-05-25T19:16:37.441406Z"
    },
    "papermill": {
     "duration": 0.016434,
     "end_time": "2022-05-25T19:16:37.444074",
     "exception": false,
     "start_time": "2022-05-25T19:16:37.427640",
     "status": "completed"
    },
    "tags": []
   },
   "outputs": [],
   "source": [
    "sampling_seed=0\n",
    "size_4_training=300\n",
    "img_size=224\n",
    "n_of_classes=2\n",
    "#training_reshape=(-1, img_size, img_size, 3)"
   ]
  },
  {
   "cell_type": "markdown",
   "id": "483db421",
   "metadata": {
    "papermill": {
     "duration": 0.007703,
     "end_time": "2022-05-25T19:16:37.459827",
     "exception": false,
     "start_time": "2022-05-25T19:16:37.452124",
     "status": "completed"
    },
    "tags": []
   },
   "source": [
    "Image classification"
   ]
  },
  {
   "cell_type": "code",
   "execution_count": 4,
   "id": "78711fa9",
   "metadata": {
    "execution": {
     "iopub.execute_input": "2022-05-25T19:16:37.477457Z",
     "iopub.status.busy": "2022-05-25T19:16:37.477028Z",
     "iopub.status.idle": "2022-05-25T19:20:09.099367Z",
     "shell.execute_reply": "2022-05-25T19:20:09.098148Z"
    },
    "papermill": {
     "duration": 211.634574,
     "end_time": "2022-05-25T19:20:09.102365",
     "exception": false,
     "start_time": "2022-05-25T19:16:37.467791",
     "status": "completed"
    },
    "tags": []
   },
   "outputs": [
    {
     "name": "stdout",
     "output_type": "stream",
     "text": [
      "['../input/breast-histopathology-images/IDC_regular_ps50_idx5/10295/0/10295_idx5_x1351_y1101_class0.png', '../input/breast-histopathology-images/IDC_regular_ps50_idx5/10295/0/10295_idx5_x1501_y501_class0.png', '../input/breast-histopathology-images/IDC_regular_ps50_idx5/10295/0/10295_idx5_x1501_y1101_class0.png', '../input/breast-histopathology-images/IDC_regular_ps50_idx5/10295/0/10295_idx5_x451_y901_class0.png', '../input/breast-histopathology-images/IDC_regular_ps50_idx5/10295/0/10295_idx5_x801_y451_class0.png', '../input/breast-histopathology-images/IDC_regular_ps50_idx5/10295/0/10295_idx5_x151_y1051_class0.png', '../input/breast-histopathology-images/IDC_regular_ps50_idx5/10295/0/10295_idx5_x1351_y901_class0.png', '../input/breast-histopathology-images/IDC_regular_ps50_idx5/10295/0/10295_idx5_x701_y651_class0.png', '../input/breast-histopathology-images/IDC_regular_ps50_idx5/10295/0/10295_idx5_x951_y1401_class0.png', '../input/breast-histopathology-images/IDC_regular_ps50_idx5/10295/0/10295_idx5_x601_y501_class0.png']\n",
      "(300, 2)\n",
      "(600, 2)\n"
     ]
    },
    {
     "name": "stderr",
     "output_type": "stream",
     "text": [
      "/opt/conda/lib/python3.7/site-packages/ipykernel_launcher.py:81: VisibleDeprecationWarning: Creating an ndarray from ragged nested sequences (which is a list-or-tuple of lists-or-tuples-or ndarrays with different lengths or shapes) is deprecated. If you meant to do this, you must specify 'dtype=object' when creating the ndarray.\n",
      "/opt/conda/lib/python3.7/site-packages/ipykernel_launcher.py:82: VisibleDeprecationWarning: Creating an ndarray from ragged nested sequences (which is a list-or-tuple of lists-or-tuples-or ndarrays with different lengths or shapes) is deprecated. If you meant to do this, you must specify 'dtype=object' when creating the ndarray.\n"
     ]
    }
   ],
   "source": [
    "training_reshape=(-1, img_size, img_size, 3)\n",
    "import random\n",
    "#make directory for labelling\n",
    "os.makedirs('../working/idc2/idc-minus/')     \n",
    "os.makedirs('../working/idc2/idc-plus/')  \n",
    "\n",
    "\n",
    "class0 = [] # 0 = idc+\n",
    "class1 = [] # 1 = idc-\n",
    "imagePatches = glob('../input/breast-histopathology-images/IDC_regular_ps50_idx5/**/*.png', recursive=True)\n",
    "for filename in imagePatches:\n",
    "    if filename.endswith(\"class0.png\"):\n",
    "         class0.append(filename)\n",
    "    else:\n",
    "        class1.append(filename)\n",
    "\n",
    "print(class0[0:10])\n",
    "\n",
    "#sampling 10000 images from class 0 and class 1 to train the model\n",
    "\n",
    "random.seed(sampling_seed)\n",
    "class0sample=random.sample(class0,size_4_training)\n",
    "class1sample=random.sample(class1,size_4_training)\n",
    "\n",
    "\n",
    "def read_and_save_data(path, file_name_array):\n",
    "    j=0\n",
    "    for i in file_name_array:\n",
    "        if i.endswith('.png'):\n",
    "          \n",
    "            \n",
    "            #second copy method\n",
    "            head, tail = os.path.split(i)\n",
    "            outputname=str(path+tail)\n",
    "            #outputname=str(path+str(j)+'.png')\n",
    "            #print(outputname)\n",
    "            shutil.copy(i, outputname)\n",
    "   \n",
    "            #print(status2)\n",
    "            \n",
    "            j=j+1\n",
    "            if j==120000:\n",
    "                break\n",
    "            \n",
    "   \n",
    "class0path='../working/idc2/idc-minus/'\n",
    "class1path='../working/idc2/idc-plus/'\n",
    "\n",
    "\n",
    "\n",
    "\n",
    "read_and_save_data(class0path,class0sample)\n",
    "read_and_save_data(class1path,class1sample)\n",
    "\n",
    "#--------------------------------------------\n",
    "import os #Operating System\n",
    "import sys #System\n",
    "import cv2\n",
    "\n",
    "def readImage(path, tag):\n",
    "    j=0\n",
    "    image_array = []\n",
    "    for i in os.listdir(path):\n",
    "        imgname=path+i\n",
    "        #print(imgname)\n",
    "        img = cv2.imread(imgname, cv2.IMREAD_COLOR)\n",
    "        img_resized = cv2.resize(img, (img_size,img_size), interpolation=cv2.INTER_LINEAR)\n",
    "        image_array.append([img_resized, tag])\n",
    "        #print(img[1])\n",
    "        j=j+1\n",
    "        #if j==10:\n",
    "        #    break\n",
    "        \n",
    "    return image_array\n",
    "\n",
    "import numpy as np\n",
    "\n",
    "\n",
    "class0_array = readImage(class0path, 0)\n",
    "class1_array = readImage(class1path, 1)\n",
    "class0_array=np.array(class0_array)\n",
    "class1_array=np.array(class1_array)\n",
    "combined_data = np.concatenate((class0_array, class1_array))\n",
    "random.seed(41)\n",
    "random.shuffle(combined_data)\n",
    "print(class0_array.shape)\n",
    "print(combined_data.shape)\n",
    "\n",
    "X = []\n",
    "y = []\n",
    "\n",
    "for features,label in combined_data:\n",
    "    X.append(features)\n",
    "    y.append(label)\n",
    "#print(X.shape)\n",
    "#pring(y.shape)\n",
    "\n",
    "# reshape X data\n",
    "X = np.array(X).reshape(training_reshape)\n",
    "#print(X.shape)\n",
    "y=np.array(y)\n",
    "\n",
    "X_train, X_test, y_train, y_test = train_test_split(X, y, test_size=0.3, random_state=42)\n",
    "\n",
    "\n",
    "\n",
    "#X_val, y_val=Image_array_process(class0_val, val0_label, class1_val, val1_label)\n",
    "X_train_original=X_train\n",
    "X_test_original=X_test\n",
    "y_train_original=y_train\n",
    "y_test_original=y_test\n"
   ]
  },
  {
   "cell_type": "code",
   "execution_count": 5,
   "id": "bbf5f2dd",
   "metadata": {
    "execution": {
     "iopub.execute_input": "2022-05-25T19:20:09.121493Z",
     "iopub.status.busy": "2022-05-25T19:20:09.121083Z",
     "iopub.status.idle": "2022-05-25T19:20:09.127503Z",
     "shell.execute_reply": "2022-05-25T19:20:09.126347Z"
    },
    "papermill": {
     "duration": 0.019677,
     "end_time": "2022-05-25T19:20:09.130930",
     "exception": false,
     "start_time": "2022-05-25T19:20:09.111253",
     "status": "completed"
    },
    "tags": []
   },
   "outputs": [
    {
     "name": "stdout",
     "output_type": "stream",
     "text": [
      "[0 0 0 0 0 0 0 0 0 0 0 0 0 0 0 0 0 0 0 0 0 0 1 0 1 0 0 0 1 0 1 0 0 0 0 0 0\n",
      " 0 1 0 0 0 1 1 0 0 1 0 0 0 0 0 0 1 0 1 0 0 0 0 0 0 0 1 1 0 0 0 0 0 0 0 0 1\n",
      " 1 0 0 0 0 0 0 0 1 0 0 0 0 0 0 0 0 0 0 0 0 0 0 0 0 0 0 0 0 0 0 0 0 0 0 0 0\n",
      " 1 0 0 0 1 0 0 0 0 0 0 1 0 0 0 1 0 1 0 0 1 0 0 0 0 0 0 0 0 0 0 0 0 0 0 0 0\n",
      " 0 0 0 0 0 0 0 0 0 0 0 0 0 0 0 0 0 0 0 0 1 0 0 0 1 0 0 0 0 0 0 0]\n"
     ]
    }
   ],
   "source": [
    "print(y_test)"
   ]
  },
  {
   "cell_type": "code",
   "execution_count": 6,
   "id": "2cb7a0a3",
   "metadata": {
    "execution": {
     "iopub.execute_input": "2022-05-25T19:20:09.149675Z",
     "iopub.status.busy": "2022-05-25T19:20:09.149143Z",
     "iopub.status.idle": "2022-05-25T19:20:09.156001Z",
     "shell.execute_reply": "2022-05-25T19:20:09.154827Z"
    },
    "papermill": {
     "duration": 0.018993,
     "end_time": "2022-05-25T19:20:09.158546",
     "exception": false,
     "start_time": "2022-05-25T19:20:09.139553",
     "status": "completed"
    },
    "tags": []
   },
   "outputs": [
    {
     "name": "stdout",
     "output_type": "stream",
     "text": [
      "[0 0 1 0 0 0 1 1 1 0 0 0 0 0 0 0 1 0 1 0 0 0 0 0 0 0 0 0 0 1 1 0 0 0 0 0 0\n",
      " 0 1 0 0 1 0 0 0 0 0 0 0 0 0 1 0 0 1 0 0 0 0 0 0 0 0 0 0 0 1 0 0 0 0 0 0 0\n",
      " 0 0 0 0 0 0 0 0 1 0 0 0 0 0 0 0 0 0 0 0 1 0 1 0 0 0 0 0 0 1 0 0 0 0 0 1 0\n",
      " 0 0 0 0 0 0 0 0 0 0 1 0 1 0 0 0 0 0 0 0 1 0 1 0 0 0 0 0 1 0 0 0 0 0 0 0 0\n",
      " 0 0 0 0 0 0 0 1 0 0 0 0 0 0 0 0 0 1 0 0 1 0 0 0 0 0 0 0 1 0 0 0 0 0 0 0 0\n",
      " 1 0 0 0 0 1 0 0 0 0 0 1 1 1 0 0 0 0 0 0 0 0 0 0 0 1 1 0 0 0 0 0 0 0 0 0 0\n",
      " 0 0 0 0 0 0 0 0 0 0 0 1 0 0 0 0 0 0 0 0 0 0 0 0 0 0 0 0 0 0 1 0 0 0 0 0 0\n",
      " 0 0 0 0 0 0 0 0 0 0 0 0 0 0 0 0 0 0 0 0 0 0 0 0 0 0 0 0 0 1 0 0 1 0 1 0 1\n",
      " 1 0 0 0 0 0 0 0 0 0 1 0 0 0 0 0 0 0 0 0 0 0 0 0 0 0 0 0 0 0 1 0 0 0 0 0 1\n",
      " 0 0 0 0 1 0 1 1 0 0 0 0 0 0 0 0 0 0 0 0 0 1 0 0 0 0 0 0 0 0 0 1 0 0 0 1 1\n",
      " 0 0 0 0 0 0 0 0 0 0 0 1 0 0 0 0 1 0 1 1 0 0 0 0 0 0 0 0 0 0 0 1 1 1 0 0 0\n",
      " 0 0 1 0 0 0 0 0 0 0 0 0 0]\n"
     ]
    }
   ],
   "source": [
    "print(y_train)"
   ]
  },
  {
   "cell_type": "code",
   "execution_count": 7,
   "id": "f4512918",
   "metadata": {
    "execution": {
     "iopub.execute_input": "2022-05-25T19:20:09.179909Z",
     "iopub.status.busy": "2022-05-25T19:20:09.179519Z",
     "iopub.status.idle": "2022-05-25T19:20:09.893576Z",
     "shell.execute_reply": "2022-05-25T19:20:09.892812Z"
    },
    "papermill": {
     "duration": 0.726443,
     "end_time": "2022-05-25T19:20:09.895499",
     "exception": false,
     "start_time": "2022-05-25T19:20:09.169056",
     "status": "completed"
    },
    "tags": []
   },
   "outputs": [
    {
     "name": "stdout",
     "output_type": "stream",
     "text": [
      "Found 0 images belonging to 2 classes.\n",
      "Found 0 images belonging to 2 classes.\n"
     ]
    },
    {
     "data": {
      "text/plain": [
       "'\\nval2_it = val_gen.flow_from_directory(validation_dir,\\n                                       class_mode = \"categorical\",\\n                                       target_size = (img_size, img_size),\\n                                       color_mode=\"rgb\",\\n                                       batch_size = 12, \\n                                       shuffle = False,\\n                                       subset=\\'validation\\',\\n                                       seed = 42)\\n'"
      ]
     },
     "execution_count": 7,
     "metadata": {},
     "output_type": "execute_result"
    }
   ],
   "source": [
    "data_dir = \"../working/idc2\"\n",
    "#img_size = img_size = img_size\n",
    "\n",
    "train_dir='../working/data/train_seg/'\n",
    "#validation_dir='../working/data/val_seg/'\n",
    "test_dir = '../working/data/test_seg/' \n",
    "\n",
    "train_gen = tf.keras.preprocessing.image.ImageDataGenerator()\n",
    "test_gen=tf.keras.preprocessing.image.ImageDataGenerator()\n",
    "val_gen=tf.keras.preprocessing.image.ImageDataGenerator()\n",
    "\n",
    " \n",
    "train_it = train_gen.flow_from_directory(train_dir,\n",
    "                                       class_mode = \"categorical\",\n",
    "                                       target_size = (img_size,img_size),\n",
    "                                       color_mode=\"rgb\",\n",
    "                                       batch_size = 12, \n",
    "                                       shuffle = False,\n",
    "                                       subset='training',\n",
    "                                       seed = 42)\n",
    "\n",
    "validate_it = test_gen.flow_from_directory('./data/test_seg',\n",
    "                                       class_mode = \"categorical\",\n",
    "                                       target_size = (img_size, img_size),\n",
    "                                       color_mode=\"rgb\",\n",
    "                                       batch_size = 12, \n",
    "                                       shuffle = False,\n",
    "                                       subset='training',\n",
    "                                       seed = 42)\n",
    "'''\n",
    "val2_it = val_gen.flow_from_directory(validation_dir,\n",
    "                                       class_mode = \"categorical\",\n",
    "                                       target_size = (img_size, img_size),\n",
    "                                       color_mode=\"rgb\",\n",
    "                                       batch_size = 12, \n",
    "                                       shuffle = False,\n",
    "                                       subset='validation',\n",
    "                                       seed = 42)\n",
    "'''"
   ]
  },
  {
   "cell_type": "code",
   "execution_count": 8,
   "id": "011fe01f",
   "metadata": {
    "execution": {
     "iopub.execute_input": "2022-05-25T19:20:09.915601Z",
     "iopub.status.busy": "2022-05-25T19:20:09.914951Z",
     "iopub.status.idle": "2022-05-25T19:20:09.921537Z",
     "shell.execute_reply": "2022-05-25T19:20:09.920833Z"
    },
    "papermill": {
     "duration": 0.019263,
     "end_time": "2022-05-25T19:20:09.923786",
     "exception": false,
     "start_time": "2022-05-25T19:20:09.904523",
     "status": "completed"
    },
    "tags": []
   },
   "outputs": [],
   "source": [
    "def get_features2(base_model, X_train1, y_train1, X_test1, y_test1):\n",
    "    X_train2 = base_model.predict(X_train1)\n",
    "    y_train2 = y_train1\n",
    "\n",
    "    X_test2 = base_model.predict(X_test1)\n",
    "    y_test2 = y_test1\n",
    "\n",
    "    X_val, X_test, y_val, y_test = train_test_split(X_test2, y_test2, test_size = 0.3, shuffle = True)\n",
    "    print('Shape of X_train----->', str(X_train2.shape))\n",
    "    print('Shape of X_val----->', str(X_val.shape))\n",
    "    print('Shape of X_test----->', str(X_test.shape))\n",
    "    return (X_train2, X_val, X_test, y_train2, y_val, y_test)"
   ]
  },
  {
   "cell_type": "code",
   "execution_count": 9,
   "id": "bdb62f14",
   "metadata": {
    "execution": {
     "iopub.execute_input": "2022-05-25T19:20:09.943870Z",
     "iopub.status.busy": "2022-05-25T19:20:09.943225Z",
     "iopub.status.idle": "2022-05-25T19:20:09.954377Z",
     "shell.execute_reply": "2022-05-25T19:20:09.953184Z"
    },
    "papermill": {
     "duration": 0.024186,
     "end_time": "2022-05-25T19:20:09.956762",
     "exception": false,
     "start_time": "2022-05-25T19:20:09.932576",
     "status": "completed"
    },
    "tags": []
   },
   "outputs": [],
   "source": [
    "from keras.callbacks import ModelCheckpoint\n",
    "from tensorflow.keras.optimizers import *\n",
    "def get_models():\n",
    "    ANN = Sequential()\n",
    "    ANN.add(Dense(1096, input_dim = X_train.shape[1], activation = 'relu'))\n",
    "    ANN.add(BatchNormalization())\n",
    "    ANN.add(Dense(1096, activation='relu'))\n",
    "    ANN.add(Dropout(0.2))\n",
    "    ANN.add(Dense(256, activation='relu'))\n",
    "    #ANN.add(Dense(16, activation='relu'))\n",
    "    #ANN.add(Dense(8, activation='relu'))\n",
    "    ANN.add(Dense(n_of_classes, activation='sigmoid'))\n",
    "    \n",
    "\n",
    "    opt = Adam(learning_rate=0.001)\n",
    "    ANN.compile(loss='categorical_crossentropy', optimizer=opt, metrics=['accuracy'])\n",
    " \n",
    "    KNN = KNeighborsClassifier()\n",
    "    \n",
    "    SVM = SVC(kernel = 'linear')\n",
    "    \n",
    "    RF = RandomForestClassifier(n_estimators = 50)\n",
    "    \n",
    "    ADB = AdaBoostClassifier()\n",
    "    \n",
    "    XGB = XGBClassifier(n_estimators = 50, use_label_encoder=False)\n",
    "    \n",
    "    print(\"Defined------->\")\n",
    "    print(\"ANN -------->\", \"(4096x4096x2096x2)\")\n",
    "    print(\"KNeighborsClassifier()\")\n",
    "    print(\"SVC(kernel = 'linear')\")\n",
    "    print(\"RandomForestClassifier(n_estimators = 50)\")\n",
    "    print(\"AdaBoostClassifier()\")\n",
    "    print(\"XGBClassifier(n_estimators = 50)\")\n",
    "    \n",
    "    return (ANN, KNN, SVM, RF, ADB, XGB)"
   ]
  },
  {
   "cell_type": "code",
   "execution_count": 10,
   "id": "86053edb",
   "metadata": {
    "execution": {
     "iopub.execute_input": "2022-05-25T19:20:09.976036Z",
     "iopub.status.busy": "2022-05-25T19:20:09.975642Z",
     "iopub.status.idle": "2022-05-25T19:20:09.982598Z",
     "shell.execute_reply": "2022-05-25T19:20:09.981249Z"
    },
    "papermill": {
     "duration": 0.019326,
     "end_time": "2022-05-25T19:20:09.984904",
     "exception": false,
     "start_time": "2022-05-25T19:20:09.965578",
     "status": "completed"
    },
    "tags": []
   },
   "outputs": [],
   "source": [
    "def reshape_data(X_train, X_val, X_test):\n",
    "    X_train = X_train.reshape(X_train.shape[0], -1)\n",
    "    X_val = X_val.reshape(X_val.shape[0], -1)\n",
    "    X_test = X_test.reshape(X_test.shape[0], -1)\n",
    "\n",
    "    print(\"Shape after reshaping------->\")\n",
    "    print(\"X train------->\", str(X_train.shape))\n",
    "    print(\"X val-------->\", str(X_val.shape))\n",
    "    print(\"X test-------->\", str(X_test.shape))\n",
    "    \n",
    "    return (X_train, X_val, X_test)"
   ]
  },
  {
   "cell_type": "code",
   "execution_count": 11,
   "id": "cd153860",
   "metadata": {
    "execution": {
     "iopub.execute_input": "2022-05-25T19:20:10.004954Z",
     "iopub.status.busy": "2022-05-25T19:20:10.004560Z",
     "iopub.status.idle": "2022-05-25T19:20:10.041266Z",
     "shell.execute_reply": "2022-05-25T19:20:10.040310Z"
    },
    "papermill": {
     "duration": 0.04979,
     "end_time": "2022-05-25T19:20:10.043702",
     "exception": false,
     "start_time": "2022-05-25T19:20:09.993912",
     "status": "completed"
    },
    "tags": []
   },
   "outputs": [],
   "source": [
    "from sklearn.metrics import classification_report\n",
    "from tensorflow.keras.utils import to_categorical\n",
    "def fit_ANN(model, X_train, y_train, X_val, y_test):\n",
    "    callbacks = [EarlyStopping(monitor='val_loss', patience=5, verbose=1), ModelCheckpoint('ANN.hdf5', save_best_only=True)]\n",
    "    y_train=to_categorical(y_train)\n",
    "    y_test=to_categorical(y_test)\n",
    "    history = model.fit(X_train, y_train, validation_data=(X_val, y_test), epochs=10, verbose=1, callbacks=callbacks)\n",
    "    return model\n",
    "\n",
    "def fit_model(model, X_train, y_train):\n",
    "    model.fit(X_train, y_train)\n",
    "    return model\n",
    "from tensorflow.keras.utils import plot_model\n",
    "from IPython.display import Image\n",
    "def get_accuracy_metrics_for_ANN(model, X_train, y_train, X_val, y_val, X_test, y_test):\n",
    "    model.summary()\n",
    "    plot_model(model, to_file='ANN.png', show_shapes=True,show_layer_names=True)\n",
    "    Image(filename='ANN.png') \n",
    "    #y_train=np.argmax(y_train, axis=1)\n",
    "    #y_test=np.argmax(y_test, axis=1)\n",
    "    #y_val=np.argmax(y_val, axis=1)\n",
    "    y_train_pred=np.argmax(model.predict(X_train),axis=1)\n",
    "    y_test_pred=np.argmax(model.predict(X_test),axis=1)\n",
    "    y_val_pred=np.argmax(model.predict(X_val),axis=1)\n",
    "    print(\"Train accuracy Score------------>\")\n",
    "    print (\"{0:.3f}\".format(accuracy_score(y_train, np.argmax(model.predict(X_train), axis = 1))*100), \"%\")\n",
    "    \n",
    "    print(\"Val accuracy Score--------->\")\n",
    "    #val_pred = np.argmax(model.predict(X_val), axis = 1)\n",
    "    print(\"{0:.3f}\".format(accuracy_score(y_val, y_val_pred)*100), \"%\")\n",
    "    \n",
    "    #predicted =  np.argmax(model.predict(X_test), axis = 1)\n",
    "    print(\"Test accuracy Score--------->\")\n",
    "    print(\"{0:.3f}\".format(accuracy_score(y_test, y_test_pred)*100), \"%\")\n",
    "    \n",
    "    print(\"F1 Score--------------->\")\n",
    "    print(\"{0:.3f}\".format(f1_score(y_test, y_test_pred, average = 'weighted')*100), \"%\")\n",
    "    \n",
    "    print(\"Cohen Kappa Score------------->\")\n",
    "    print(\"{0:.3f}\".format(cohen_kappa_score(y_test, y_test_pred)*100), \"%\")\n",
    "    \n",
    "    print(\"Recall-------------->\")\n",
    "    print(\"{0:.3f}\".format(recall_score(y_test, y_test_pred, average = 'weighted')*100), \"%\")\n",
    "    \n",
    "    print(\"Precision-------------->\")\n",
    "    print(\"{0:.3f}\".format(precision_score(y_test, y_test_pred, average = 'weighted')*100), \"%\")\n",
    "    \n",
    "    cf_matrix_test = confusion_matrix(y_test, y_test_pred)\n",
    "    cf_matrix_val = confusion_matrix(y_val, y_val_pred)\n",
    "    \n",
    "    plt.figure(figsize = (12, 6))\n",
    "    plt.subplot(121)\n",
    "    sns.heatmap(cf_matrix_val, annot=True, cmap='Blues')\n",
    "    plt.title(\"Val Confusion matrix\")\n",
    "    \n",
    "    plt.subplot(122)\n",
    "    sns.heatmap(cf_matrix_test, annot=True, cmap='Blues')\n",
    "    plt.title(\"Test Confusion matrix\")\n",
    "    \n",
    "    plt.show()\n",
    "    print(\"classification report\")\n",
    "    print(classification_report(y_val, y_val_pred))"
   ]
  },
  {
   "cell_type": "code",
   "execution_count": 12,
   "id": "f5bd8350",
   "metadata": {
    "execution": {
     "iopub.execute_input": "2022-05-25T19:20:10.063816Z",
     "iopub.status.busy": "2022-05-25T19:20:10.063436Z",
     "iopub.status.idle": "2022-05-25T19:20:10.080069Z",
     "shell.execute_reply": "2022-05-25T19:20:10.078983Z"
    },
    "papermill": {
     "duration": 0.029651,
     "end_time": "2022-05-25T19:20:10.082403",
     "exception": false,
     "start_time": "2022-05-25T19:20:10.052752",
     "status": "completed"
    },
    "tags": []
   },
   "outputs": [],
   "source": [
    "def fit_KNN_metrics(model, X_train, y_train, X_val, y_val, X_test, y_test):\n",
    "    pca = PCA(n_components=1000)\n",
    "    #pca = PCA(n_components=130)\n",
    "    randlist = random.sample(range(0, X_train.shape[0]), 1000)\n",
    "    #randlist = random.sample(range(0, X_train.shape[0]), 90)\n",
    "    if(X_train.shape[1] > 10000):\n",
    "    #if(X_train.shape[1] > 100):\n",
    "        X_train = pca.fit_transform(X_train)\n",
    "        X_val = pca.transform(X_val)\n",
    "        X_test = pca.transform(X_test)\n",
    "\n",
    "    model.fit(X_train, y_train)\n",
    "    get_accuracy_metrics(model, X_train[randlist, :], y_train[randlist], X_val, y_val, X_test, y_test)\n",
    "\n",
    "def get_accuracy_metrics(model, X_train, y_train, X_val, y_val, X_test, y_test):\n",
    "    print(\"Train accuracy Score------------>\")\n",
    "    print (\"{0:.3f}\".format(accuracy_score(y_train, model.predict(X_train))*100), \"%\")\n",
    "    \n",
    "    print(\"Val accuracy Score--------->\")\n",
    "    val_pred = model.predict(X_val)\n",
    "    print(\"{0:.3f}\".format(accuracy_score(y_val, val_pred)*100), \"%\")\n",
    "    \n",
    "    predicted =  model.predict(X_test)\n",
    "    print(\"Test accuracy Score--------->\")\n",
    "    print(\"{0:.3f}\".format(accuracy_score(y_test, predicted)*100), \"%\")\n",
    "    \n",
    "    print(\"F1 Score--------------->\")\n",
    "    print(\"{0:.3f}\".format(f1_score(y_test, predicted, average = 'weighted')*100), \"%\")\n",
    "    \n",
    "    print(\"Cohen Kappa Score------------->\")\n",
    "    print(\"{0:.3f}\".format(cohen_kappa_score(y_test, predicted)*100), \"%\")\n",
    "    \n",
    "    print(\"Recall-------------->\")\n",
    "    print(\"{0:.3f}\".format(recall_score(y_test, predicted, average = 'weighted')*100), \"%\")\n",
    "    \n",
    "    print(\"Precision-------------->\")\n",
    "    print(\"{0:.3f}\".format(precision_score(y_test, predicted, average = 'weighted')*100), \"%\")\n",
    "    \n",
    "    cf_matrix_test = confusion_matrix(y_test, predicted)\n",
    "    cf_matrix_val = confusion_matrix(y_val, val_pred)\n",
    "    \n",
    "    plt.figure(figsize = (12, 6))\n",
    "    plt.subplot(121)\n",
    "    sns.heatmap(cf_matrix_val, annot=True, cmap='Blues')\n",
    "    plt.title(\"Val Confusion matrix\")\n",
    "    \n",
    "    plt.subplot(122)\n",
    "    sns.heatmap(cf_matrix_test, annot=True, cmap='Blues')\n",
    "    plt.title(\"Test Confusion matrix\")\n",
    "    \n",
    "    plt.show()\n",
    "    print(\"classification report\")\n",
    "    print(classification_report(y_val, val_pred))"
   ]
  },
  {
   "cell_type": "markdown",
   "id": "9a10c3d0",
   "metadata": {
    "papermill": {
     "duration": 0.009309,
     "end_time": "2022-05-25T19:20:10.102264",
     "exception": false,
     "start_time": "2022-05-25T19:20:10.092955",
     "status": "completed"
    },
    "tags": []
   },
   "source": [
    "# Model selection"
   ]
  },
  {
   "cell_type": "code",
   "execution_count": 13,
   "id": "ee8d280c",
   "metadata": {
    "execution": {
     "iopub.execute_input": "2022-05-25T19:20:10.121179Z",
     "iopub.status.busy": "2022-05-25T19:20:10.120809Z",
     "iopub.status.idle": "2022-05-25T19:20:12.315155Z",
     "shell.execute_reply": "2022-05-25T19:20:12.314081Z"
    },
    "papermill": {
     "duration": 2.208595,
     "end_time": "2022-05-25T19:20:12.319545",
     "exception": false,
     "start_time": "2022-05-25T19:20:10.110950",
     "status": "completed"
    },
    "tags": []
   },
   "outputs": [
    {
     "name": "stderr",
     "output_type": "stream",
     "text": [
      "2022-05-25 19:20:10.181020: I tensorflow/core/common_runtime/process_util.cc:146] Creating new thread pool with default inter op setting: 2. Tune using inter_op_parallelism_threads for best performance.\n"
     ]
    },
    {
     "name": "stdout",
     "output_type": "stream",
     "text": [
      "Downloading data from https://storage.googleapis.com/tensorflow/keras-applications/xception/xception_weights_tf_dim_ordering_tf_kernels_notop.h5\n",
      "83689472/83683744 [==============================] - 0s 0us/step\n",
      "83697664/83683744 [==============================] - 0s 0us/step\n",
      "Model: \"model\"\n",
      "__________________________________________________________________________________________________\n",
      "Layer (type)                    Output Shape         Param #     Connected to                     \n",
      "==================================================================================================\n",
      "input_1 (InputLayer)            [(None, 224, 224, 3) 0                                            \n",
      "__________________________________________________________________________________________________\n",
      "block1_conv1 (Conv2D)           (None, 111, 111, 32) 864         input_1[0][0]                    \n",
      "__________________________________________________________________________________________________\n",
      "block1_conv1_bn (BatchNormaliza (None, 111, 111, 32) 128         block1_conv1[0][0]               \n",
      "__________________________________________________________________________________________________\n",
      "block1_conv1_act (Activation)   (None, 111, 111, 32) 0           block1_conv1_bn[0][0]            \n",
      "__________________________________________________________________________________________________\n",
      "block1_conv2 (Conv2D)           (None, 109, 109, 64) 18432       block1_conv1_act[0][0]           \n",
      "__________________________________________________________________________________________________\n",
      "block1_conv2_bn (BatchNormaliza (None, 109, 109, 64) 256         block1_conv2[0][0]               \n",
      "__________________________________________________________________________________________________\n",
      "block1_conv2_act (Activation)   (None, 109, 109, 64) 0           block1_conv2_bn[0][0]            \n",
      "__________________________________________________________________________________________________\n",
      "block2_sepconv1 (SeparableConv2 (None, 109, 109, 128 8768        block1_conv2_act[0][0]           \n",
      "__________________________________________________________________________________________________\n",
      "block2_sepconv1_bn (BatchNormal (None, 109, 109, 128 512         block2_sepconv1[0][0]            \n",
      "__________________________________________________________________________________________________\n",
      "block2_sepconv2_act (Activation (None, 109, 109, 128 0           block2_sepconv1_bn[0][0]         \n",
      "__________________________________________________________________________________________________\n",
      "block2_sepconv2 (SeparableConv2 (None, 109, 109, 128 17536       block2_sepconv2_act[0][0]        \n",
      "__________________________________________________________________________________________________\n",
      "block2_sepconv2_bn (BatchNormal (None, 109, 109, 128 512         block2_sepconv2[0][0]            \n",
      "__________________________________________________________________________________________________\n",
      "conv2d (Conv2D)                 (None, 55, 55, 128)  8192        block1_conv2_act[0][0]           \n",
      "__________________________________________________________________________________________________\n",
      "block2_pool (MaxPooling2D)      (None, 55, 55, 128)  0           block2_sepconv2_bn[0][0]         \n",
      "__________________________________________________________________________________________________\n",
      "batch_normalization (BatchNorma (None, 55, 55, 128)  512         conv2d[0][0]                     \n",
      "__________________________________________________________________________________________________\n",
      "add (Add)                       (None, 55, 55, 128)  0           block2_pool[0][0]                \n",
      "                                                                 batch_normalization[0][0]        \n",
      "__________________________________________________________________________________________________\n",
      "block3_sepconv1_act (Activation (None, 55, 55, 128)  0           add[0][0]                        \n",
      "__________________________________________________________________________________________________\n",
      "block3_sepconv1 (SeparableConv2 (None, 55, 55, 256)  33920       block3_sepconv1_act[0][0]        \n",
      "__________________________________________________________________________________________________\n",
      "block3_sepconv1_bn (BatchNormal (None, 55, 55, 256)  1024        block3_sepconv1[0][0]            \n",
      "__________________________________________________________________________________________________\n",
      "block3_sepconv2_act (Activation (None, 55, 55, 256)  0           block3_sepconv1_bn[0][0]         \n",
      "__________________________________________________________________________________________________\n",
      "block3_sepconv2 (SeparableConv2 (None, 55, 55, 256)  67840       block3_sepconv2_act[0][0]        \n",
      "__________________________________________________________________________________________________\n",
      "block3_sepconv2_bn (BatchNormal (None, 55, 55, 256)  1024        block3_sepconv2[0][0]            \n",
      "__________________________________________________________________________________________________\n",
      "conv2d_1 (Conv2D)               (None, 28, 28, 256)  32768       add[0][0]                        \n",
      "__________________________________________________________________________________________________\n",
      "block3_pool (MaxPooling2D)      (None, 28, 28, 256)  0           block3_sepconv2_bn[0][0]         \n",
      "__________________________________________________________________________________________________\n",
      "batch_normalization_1 (BatchNor (None, 28, 28, 256)  1024        conv2d_1[0][0]                   \n",
      "__________________________________________________________________________________________________\n",
      "add_1 (Add)                     (None, 28, 28, 256)  0           block3_pool[0][0]                \n",
      "                                                                 batch_normalization_1[0][0]      \n",
      "__________________________________________________________________________________________________\n",
      "block4_sepconv1_act (Activation (None, 28, 28, 256)  0           add_1[0][0]                      \n",
      "__________________________________________________________________________________________________\n",
      "block4_sepconv1 (SeparableConv2 (None, 28, 28, 728)  188672      block4_sepconv1_act[0][0]        \n",
      "__________________________________________________________________________________________________\n",
      "block4_sepconv1_bn (BatchNormal (None, 28, 28, 728)  2912        block4_sepconv1[0][0]            \n",
      "__________________________________________________________________________________________________\n",
      "block4_sepconv2_act (Activation (None, 28, 28, 728)  0           block4_sepconv1_bn[0][0]         \n",
      "__________________________________________________________________________________________________\n",
      "block4_sepconv2 (SeparableConv2 (None, 28, 28, 728)  536536      block4_sepconv2_act[0][0]        \n",
      "__________________________________________________________________________________________________\n",
      "block4_sepconv2_bn (BatchNormal (None, 28, 28, 728)  2912        block4_sepconv2[0][0]            \n",
      "__________________________________________________________________________________________________\n",
      "conv2d_2 (Conv2D)               (None, 14, 14, 728)  186368      add_1[0][0]                      \n",
      "__________________________________________________________________________________________________\n",
      "block4_pool (MaxPooling2D)      (None, 14, 14, 728)  0           block4_sepconv2_bn[0][0]         \n",
      "__________________________________________________________________________________________________\n",
      "batch_normalization_2 (BatchNor (None, 14, 14, 728)  2912        conv2d_2[0][0]                   \n",
      "__________________________________________________________________________________________________\n",
      "add_2 (Add)                     (None, 14, 14, 728)  0           block4_pool[0][0]                \n",
      "                                                                 batch_normalization_2[0][0]      \n",
      "__________________________________________________________________________________________________\n",
      "block5_sepconv1_act (Activation (None, 14, 14, 728)  0           add_2[0][0]                      \n",
      "__________________________________________________________________________________________________\n",
      "block5_sepconv1 (SeparableConv2 (None, 14, 14, 728)  536536      block5_sepconv1_act[0][0]        \n",
      "__________________________________________________________________________________________________\n",
      "block5_sepconv1_bn (BatchNormal (None, 14, 14, 728)  2912        block5_sepconv1[0][0]            \n",
      "__________________________________________________________________________________________________\n",
      "block5_sepconv2_act (Activation (None, 14, 14, 728)  0           block5_sepconv1_bn[0][0]         \n",
      "__________________________________________________________________________________________________\n",
      "block5_sepconv2 (SeparableConv2 (None, 14, 14, 728)  536536      block5_sepconv2_act[0][0]        \n",
      "__________________________________________________________________________________________________\n",
      "block5_sepconv2_bn (BatchNormal (None, 14, 14, 728)  2912        block5_sepconv2[0][0]            \n",
      "__________________________________________________________________________________________________\n",
      "block5_sepconv3_act (Activation (None, 14, 14, 728)  0           block5_sepconv2_bn[0][0]         \n",
      "__________________________________________________________________________________________________\n",
      "block5_sepconv3 (SeparableConv2 (None, 14, 14, 728)  536536      block5_sepconv3_act[0][0]        \n",
      "__________________________________________________________________________________________________\n",
      "block5_sepconv3_bn (BatchNormal (None, 14, 14, 728)  2912        block5_sepconv3[0][0]            \n",
      "__________________________________________________________________________________________________\n",
      "add_3 (Add)                     (None, 14, 14, 728)  0           block5_sepconv3_bn[0][0]         \n",
      "                                                                 add_2[0][0]                      \n",
      "__________________________________________________________________________________________________\n",
      "block6_sepconv1_act (Activation (None, 14, 14, 728)  0           add_3[0][0]                      \n",
      "__________________________________________________________________________________________________\n",
      "block6_sepconv1 (SeparableConv2 (None, 14, 14, 728)  536536      block6_sepconv1_act[0][0]        \n",
      "__________________________________________________________________________________________________\n",
      "block6_sepconv1_bn (BatchNormal (None, 14, 14, 728)  2912        block6_sepconv1[0][0]            \n",
      "__________________________________________________________________________________________________\n",
      "block6_sepconv2_act (Activation (None, 14, 14, 728)  0           block6_sepconv1_bn[0][0]         \n",
      "__________________________________________________________________________________________________\n",
      "block6_sepconv2 (SeparableConv2 (None, 14, 14, 728)  536536      block6_sepconv2_act[0][0]        \n",
      "__________________________________________________________________________________________________\n",
      "block6_sepconv2_bn (BatchNormal (None, 14, 14, 728)  2912        block6_sepconv2[0][0]            \n",
      "__________________________________________________________________________________________________\n",
      "block6_sepconv3_act (Activation (None, 14, 14, 728)  0           block6_sepconv2_bn[0][0]         \n",
      "__________________________________________________________________________________________________\n",
      "block6_sepconv3 (SeparableConv2 (None, 14, 14, 728)  536536      block6_sepconv3_act[0][0]        \n",
      "__________________________________________________________________________________________________\n",
      "block6_sepconv3_bn (BatchNormal (None, 14, 14, 728)  2912        block6_sepconv3[0][0]            \n",
      "__________________________________________________________________________________________________\n",
      "add_4 (Add)                     (None, 14, 14, 728)  0           block6_sepconv3_bn[0][0]         \n",
      "                                                                 add_3[0][0]                      \n",
      "__________________________________________________________________________________________________\n",
      "block7_sepconv1_act (Activation (None, 14, 14, 728)  0           add_4[0][0]                      \n",
      "__________________________________________________________________________________________________\n",
      "block7_sepconv1 (SeparableConv2 (None, 14, 14, 728)  536536      block7_sepconv1_act[0][0]        \n",
      "__________________________________________________________________________________________________\n",
      "block7_sepconv1_bn (BatchNormal (None, 14, 14, 728)  2912        block7_sepconv1[0][0]            \n",
      "__________________________________________________________________________________________________\n",
      "block7_sepconv2_act (Activation (None, 14, 14, 728)  0           block7_sepconv1_bn[0][0]         \n",
      "__________________________________________________________________________________________________\n",
      "block7_sepconv2 (SeparableConv2 (None, 14, 14, 728)  536536      block7_sepconv2_act[0][0]        \n",
      "__________________________________________________________________________________________________\n",
      "block7_sepconv2_bn (BatchNormal (None, 14, 14, 728)  2912        block7_sepconv2[0][0]            \n",
      "__________________________________________________________________________________________________\n",
      "block7_sepconv3_act (Activation (None, 14, 14, 728)  0           block7_sepconv2_bn[0][0]         \n",
      "__________________________________________________________________________________________________\n",
      "block7_sepconv3 (SeparableConv2 (None, 14, 14, 728)  536536      block7_sepconv3_act[0][0]        \n",
      "__________________________________________________________________________________________________\n",
      "block7_sepconv3_bn (BatchNormal (None, 14, 14, 728)  2912        block7_sepconv3[0][0]            \n",
      "__________________________________________________________________________________________________\n",
      "add_5 (Add)                     (None, 14, 14, 728)  0           block7_sepconv3_bn[0][0]         \n",
      "                                                                 add_4[0][0]                      \n",
      "__________________________________________________________________________________________________\n",
      "block8_sepconv1_act (Activation (None, 14, 14, 728)  0           add_5[0][0]                      \n",
      "__________________________________________________________________________________________________\n",
      "block8_sepconv1 (SeparableConv2 (None, 14, 14, 728)  536536      block8_sepconv1_act[0][0]        \n",
      "__________________________________________________________________________________________________\n",
      "block8_sepconv1_bn (BatchNormal (None, 14, 14, 728)  2912        block8_sepconv1[0][0]            \n",
      "__________________________________________________________________________________________________\n",
      "block8_sepconv2_act (Activation (None, 14, 14, 728)  0           block8_sepconv1_bn[0][0]         \n",
      "__________________________________________________________________________________________________\n",
      "block8_sepconv2 (SeparableConv2 (None, 14, 14, 728)  536536      block8_sepconv2_act[0][0]        \n",
      "__________________________________________________________________________________________________\n",
      "block8_sepconv2_bn (BatchNormal (None, 14, 14, 728)  2912        block8_sepconv2[0][0]            \n",
      "__________________________________________________________________________________________________\n",
      "block8_sepconv3_act (Activation (None, 14, 14, 728)  0           block8_sepconv2_bn[0][0]         \n",
      "__________________________________________________________________________________________________\n",
      "block8_sepconv3 (SeparableConv2 (None, 14, 14, 728)  536536      block8_sepconv3_act[0][0]        \n",
      "__________________________________________________________________________________________________\n",
      "block8_sepconv3_bn (BatchNormal (None, 14, 14, 728)  2912        block8_sepconv3[0][0]            \n",
      "__________________________________________________________________________________________________\n",
      "add_6 (Add)                     (None, 14, 14, 728)  0           block8_sepconv3_bn[0][0]         \n",
      "                                                                 add_5[0][0]                      \n",
      "__________________________________________________________________________________________________\n",
      "block9_sepconv1_act (Activation (None, 14, 14, 728)  0           add_6[0][0]                      \n",
      "__________________________________________________________________________________________________\n",
      "block9_sepconv1 (SeparableConv2 (None, 14, 14, 728)  536536      block9_sepconv1_act[0][0]        \n",
      "__________________________________________________________________________________________________\n",
      "block9_sepconv1_bn (BatchNormal (None, 14, 14, 728)  2912        block9_sepconv1[0][0]            \n",
      "__________________________________________________________________________________________________\n",
      "block9_sepconv2_act (Activation (None, 14, 14, 728)  0           block9_sepconv1_bn[0][0]         \n",
      "__________________________________________________________________________________________________\n",
      "block9_sepconv2 (SeparableConv2 (None, 14, 14, 728)  536536      block9_sepconv2_act[0][0]        \n",
      "__________________________________________________________________________________________________\n",
      "block9_sepconv2_bn (BatchNormal (None, 14, 14, 728)  2912        block9_sepconv2[0][0]            \n",
      "__________________________________________________________________________________________________\n",
      "block9_sepconv3_act (Activation (None, 14, 14, 728)  0           block9_sepconv2_bn[0][0]         \n",
      "__________________________________________________________________________________________________\n",
      "block9_sepconv3 (SeparableConv2 (None, 14, 14, 728)  536536      block9_sepconv3_act[0][0]        \n",
      "__________________________________________________________________________________________________\n",
      "block9_sepconv3_bn (BatchNormal (None, 14, 14, 728)  2912        block9_sepconv3[0][0]            \n",
      "__________________________________________________________________________________________________\n",
      "add_7 (Add)                     (None, 14, 14, 728)  0           block9_sepconv3_bn[0][0]         \n",
      "                                                                 add_6[0][0]                      \n",
      "__________________________________________________________________________________________________\n",
      "block10_sepconv1_act (Activatio (None, 14, 14, 728)  0           add_7[0][0]                      \n",
      "__________________________________________________________________________________________________\n",
      "block10_sepconv1 (SeparableConv (None, 14, 14, 728)  536536      block10_sepconv1_act[0][0]       \n",
      "__________________________________________________________________________________________________\n",
      "block10_sepconv1_bn (BatchNorma (None, 14, 14, 728)  2912        block10_sepconv1[0][0]           \n",
      "__________________________________________________________________________________________________\n",
      "block10_sepconv2_act (Activatio (None, 14, 14, 728)  0           block10_sepconv1_bn[0][0]        \n",
      "__________________________________________________________________________________________________\n",
      "block10_sepconv2 (SeparableConv (None, 14, 14, 728)  536536      block10_sepconv2_act[0][0]       \n",
      "__________________________________________________________________________________________________\n",
      "block10_sepconv2_bn (BatchNorma (None, 14, 14, 728)  2912        block10_sepconv2[0][0]           \n",
      "__________________________________________________________________________________________________\n",
      "block10_sepconv3_act (Activatio (None, 14, 14, 728)  0           block10_sepconv2_bn[0][0]        \n",
      "__________________________________________________________________________________________________\n",
      "block10_sepconv3 (SeparableConv (None, 14, 14, 728)  536536      block10_sepconv3_act[0][0]       \n",
      "__________________________________________________________________________________________________\n",
      "block10_sepconv3_bn (BatchNorma (None, 14, 14, 728)  2912        block10_sepconv3[0][0]           \n",
      "__________________________________________________________________________________________________\n",
      "add_8 (Add)                     (None, 14, 14, 728)  0           block10_sepconv3_bn[0][0]        \n",
      "                                                                 add_7[0][0]                      \n",
      "__________________________________________________________________________________________________\n",
      "block11_sepconv1_act (Activatio (None, 14, 14, 728)  0           add_8[0][0]                      \n",
      "__________________________________________________________________________________________________\n",
      "block11_sepconv1 (SeparableConv (None, 14, 14, 728)  536536      block11_sepconv1_act[0][0]       \n",
      "__________________________________________________________________________________________________\n",
      "block11_sepconv1_bn (BatchNorma (None, 14, 14, 728)  2912        block11_sepconv1[0][0]           \n",
      "__________________________________________________________________________________________________\n",
      "block11_sepconv2_act (Activatio (None, 14, 14, 728)  0           block11_sepconv1_bn[0][0]        \n",
      "__________________________________________________________________________________________________\n",
      "block11_sepconv2 (SeparableConv (None, 14, 14, 728)  536536      block11_sepconv2_act[0][0]       \n",
      "__________________________________________________________________________________________________\n",
      "block11_sepconv2_bn (BatchNorma (None, 14, 14, 728)  2912        block11_sepconv2[0][0]           \n",
      "__________________________________________________________________________________________________\n",
      "block11_sepconv3_act (Activatio (None, 14, 14, 728)  0           block11_sepconv2_bn[0][0]        \n",
      "__________________________________________________________________________________________________\n",
      "block11_sepconv3 (SeparableConv (None, 14, 14, 728)  536536      block11_sepconv3_act[0][0]       \n",
      "__________________________________________________________________________________________________\n",
      "block11_sepconv3_bn (BatchNorma (None, 14, 14, 728)  2912        block11_sepconv3[0][0]           \n",
      "__________________________________________________________________________________________________\n",
      "add_9 (Add)                     (None, 14, 14, 728)  0           block11_sepconv3_bn[0][0]        \n",
      "                                                                 add_8[0][0]                      \n",
      "__________________________________________________________________________________________________\n",
      "block12_sepconv1_act (Activatio (None, 14, 14, 728)  0           add_9[0][0]                      \n",
      "__________________________________________________________________________________________________\n",
      "block12_sepconv1 (SeparableConv (None, 14, 14, 728)  536536      block12_sepconv1_act[0][0]       \n",
      "__________________________________________________________________________________________________\n",
      "block12_sepconv1_bn (BatchNorma (None, 14, 14, 728)  2912        block12_sepconv1[0][0]           \n",
      "__________________________________________________________________________________________________\n",
      "block12_sepconv2_act (Activatio (None, 14, 14, 728)  0           block12_sepconv1_bn[0][0]        \n",
      "__________________________________________________________________________________________________\n",
      "block12_sepconv2 (SeparableConv (None, 14, 14, 728)  536536      block12_sepconv2_act[0][0]       \n",
      "__________________________________________________________________________________________________\n",
      "block12_sepconv2_bn (BatchNorma (None, 14, 14, 728)  2912        block12_sepconv2[0][0]           \n",
      "__________________________________________________________________________________________________\n",
      "block12_sepconv3_act (Activatio (None, 14, 14, 728)  0           block12_sepconv2_bn[0][0]        \n",
      "__________________________________________________________________________________________________\n",
      "block12_sepconv3 (SeparableConv (None, 14, 14, 728)  536536      block12_sepconv3_act[0][0]       \n",
      "__________________________________________________________________________________________________\n",
      "block12_sepconv3_bn (BatchNorma (None, 14, 14, 728)  2912        block12_sepconv3[0][0]           \n",
      "__________________________________________________________________________________________________\n",
      "add_10 (Add)                    (None, 14, 14, 728)  0           block12_sepconv3_bn[0][0]        \n",
      "                                                                 add_9[0][0]                      \n",
      "__________________________________________________________________________________________________\n",
      "block13_sepconv1_act (Activatio (None, 14, 14, 728)  0           add_10[0][0]                     \n",
      "__________________________________________________________________________________________________\n",
      "block13_sepconv1 (SeparableConv (None, 14, 14, 728)  536536      block13_sepconv1_act[0][0]       \n",
      "__________________________________________________________________________________________________\n",
      "block13_sepconv1_bn (BatchNorma (None, 14, 14, 728)  2912        block13_sepconv1[0][0]           \n",
      "__________________________________________________________________________________________________\n",
      "block13_sepconv2_act (Activatio (None, 14, 14, 728)  0           block13_sepconv1_bn[0][0]        \n",
      "__________________________________________________________________________________________________\n",
      "block13_sepconv2 (SeparableConv (None, 14, 14, 1024) 752024      block13_sepconv2_act[0][0]       \n",
      "__________________________________________________________________________________________________\n",
      "block13_sepconv2_bn (BatchNorma (None, 14, 14, 1024) 4096        block13_sepconv2[0][0]           \n",
      "__________________________________________________________________________________________________\n",
      "conv2d_3 (Conv2D)               (None, 7, 7, 1024)   745472      add_10[0][0]                     \n",
      "__________________________________________________________________________________________________\n",
      "block13_pool (MaxPooling2D)     (None, 7, 7, 1024)   0           block13_sepconv2_bn[0][0]        \n",
      "__________________________________________________________________________________________________\n",
      "batch_normalization_3 (BatchNor (None, 7, 7, 1024)   4096        conv2d_3[0][0]                   \n",
      "__________________________________________________________________________________________________\n",
      "add_11 (Add)                    (None, 7, 7, 1024)   0           block13_pool[0][0]               \n",
      "                                                                 batch_normalization_3[0][0]      \n",
      "__________________________________________________________________________________________________\n",
      "block14_sepconv1 (SeparableConv (None, 7, 7, 1536)   1582080     add_11[0][0]                     \n",
      "__________________________________________________________________________________________________\n",
      "block14_sepconv1_bn (BatchNorma (None, 7, 7, 1536)   6144        block14_sepconv1[0][0]           \n",
      "__________________________________________________________________________________________________\n",
      "block14_sepconv1_act (Activatio (None, 7, 7, 1536)   0           block14_sepconv1_bn[0][0]        \n",
      "__________________________________________________________________________________________________\n",
      "block14_sepconv2 (SeparableConv (None, 7, 7, 2048)   3159552     block14_sepconv1_act[0][0]       \n",
      "__________________________________________________________________________________________________\n",
      "block14_sepconv2_bn (BatchNorma (None, 7, 7, 2048)   8192        block14_sepconv2[0][0]           \n",
      "__________________________________________________________________________________________________\n",
      "block14_sepconv2_act (Activatio (None, 7, 7, 2048)   0           block14_sepconv2_bn[0][0]        \n",
      "==================================================================================================\n",
      "Total params: 20,861,480\n",
      "Trainable params: 0\n",
      "Non-trainable params: 20,861,480\n",
      "__________________________________________________________________________________________________\n"
     ]
    }
   ],
   "source": [
    "from tensorflow.keras.applications import Xception\n",
    "base_model = Xception(input_shape=(img_size, img_size, 3), weights='imagenet', include_top=False)\n",
    "\n",
    "#base_model = VGG16(include_top=False, input_shape=(img_size, img_size, 2), weights='imagenet')\n",
    "\n",
    "\n",
    "for layer in base_model.layers:\n",
    "    layer.trainable = False\n",
    "                   \n",
    "model = Model(inputs=base_model.input, outputs=base_model.layers[-1].output)\n",
    "model.summary()"
   ]
  },
  {
   "cell_type": "markdown",
   "id": "a4a8facc",
   "metadata": {
    "papermill": {
     "duration": 0.010811,
     "end_time": "2022-05-25T19:20:12.342304",
     "exception": false,
     "start_time": "2022-05-25T19:20:12.331493",
     "status": "completed"
    },
    "tags": []
   },
   "source": [
    "# here is the input place of data"
   ]
  },
  {
   "cell_type": "code",
   "execution_count": 14,
   "id": "c8c8a6f9",
   "metadata": {
    "execution": {
     "iopub.execute_input": "2022-05-25T19:20:12.367027Z",
     "iopub.status.busy": "2022-05-25T19:20:12.366619Z",
     "iopub.status.idle": "2022-05-25T19:20:12.372189Z",
     "shell.execute_reply": "2022-05-25T19:20:12.371135Z"
    },
    "papermill": {
     "duration": 0.020546,
     "end_time": "2022-05-25T19:20:12.374351",
     "exception": false,
     "start_time": "2022-05-25T19:20:12.353805",
     "status": "completed"
    },
    "tags": []
   },
   "outputs": [
    {
     "name": "stdout",
     "output_type": "stream",
     "text": [
      "(180, 224, 224, 3)\n"
     ]
    }
   ],
   "source": [
    "print(X_test_original.shape)"
   ]
  },
  {
   "cell_type": "code",
   "execution_count": 15,
   "id": "78aa6257",
   "metadata": {
    "execution": {
     "iopub.execute_input": "2022-05-25T19:20:12.397392Z",
     "iopub.status.busy": "2022-05-25T19:20:12.396948Z",
     "iopub.status.idle": "2022-05-25T19:21:01.709594Z",
     "shell.execute_reply": "2022-05-25T19:21:01.708239Z"
    },
    "papermill": {
     "duration": 49.338612,
     "end_time": "2022-05-25T19:21:01.723514",
     "exception": false,
     "start_time": "2022-05-25T19:20:12.384902",
     "status": "completed"
    },
    "tags": []
   },
   "outputs": [
    {
     "name": "stderr",
     "output_type": "stream",
     "text": [
      "2022-05-25 19:20:12.550015: I tensorflow/compiler/mlir/mlir_graph_optimization_pass.cc:185] None of the MLIR Optimization Passes are enabled (registered 2)\n"
     ]
    },
    {
     "name": "stdout",
     "output_type": "stream",
     "text": [
      "Shape of X_train-----> (420, 7, 7, 2048)\n",
      "Shape of X_val-----> (126, 7, 7, 2048)\n",
      "Shape of X_test-----> (54, 7, 7, 2048)\n"
     ]
    }
   ],
   "source": [
    "\n",
    "X_train, X_val, X_test, y_train, y_val, y_test = get_features2(model, X_train_original, y_train_original, X_test_original, y_test_original)\n",
    "\n",
    "#def get_features2(base_model, X_train1, y_train1, X_test1, y_test1):"
   ]
  },
  {
   "cell_type": "code",
   "execution_count": 16,
   "id": "ee63b244",
   "metadata": {
    "execution": {
     "iopub.execute_input": "2022-05-25T19:21:01.749993Z",
     "iopub.status.busy": "2022-05-25T19:21:01.749339Z",
     "iopub.status.idle": "2022-05-25T19:21:01.754085Z",
     "shell.execute_reply": "2022-05-25T19:21:01.753292Z"
    },
    "papermill": {
     "duration": 0.019583,
     "end_time": "2022-05-25T19:21:01.756275",
     "exception": false,
     "start_time": "2022-05-25T19:21:01.736692",
     "status": "completed"
    },
    "tags": []
   },
   "outputs": [
    {
     "name": "stdout",
     "output_type": "stream",
     "text": [
      "(420,)\n",
      "(54,)\n",
      "(126,)\n"
     ]
    }
   ],
   "source": [
    "print(y_train.shape)\n",
    "print(y_test.shape)\n",
    "print(y_val.shape)"
   ]
  },
  {
   "cell_type": "code",
   "execution_count": 17,
   "id": "e1225752",
   "metadata": {
    "execution": {
     "iopub.execute_input": "2022-05-25T19:21:01.779905Z",
     "iopub.status.busy": "2022-05-25T19:21:01.779350Z",
     "iopub.status.idle": "2022-05-25T19:22:19.648656Z",
     "shell.execute_reply": "2022-05-25T19:22:19.647559Z"
    },
    "papermill": {
     "duration": 77.884428,
     "end_time": "2022-05-25T19:22:19.651564",
     "exception": false,
     "start_time": "2022-05-25T19:21:01.767136",
     "status": "completed"
    },
    "tags": []
   },
   "outputs": [
    {
     "name": "stdout",
     "output_type": "stream",
     "text": [
      "Shape after reshaping------->\n",
      "X train-------> (420, 100352)\n",
      "X val--------> (126, 100352)\n",
      "X test--------> (54, 100352)\n",
      "Defined------->\n",
      "ANN --------> (4096x4096x2096x2)\n",
      "KNeighborsClassifier()\n",
      "SVC(kernel = 'linear')\n",
      "RandomForestClassifier(n_estimators = 50)\n",
      "AdaBoostClassifier()\n",
      "XGBClassifier(n_estimators = 50)\n",
      "Epoch 1/10\n",
      "14/14 [==============================] - 6s 329ms/step - loss: 0.6832 - accuracy: 0.8333 - val_loss: 11.6298 - val_accuracy: 0.8571\n",
      "Epoch 2/10\n",
      "14/14 [==============================] - 5s 324ms/step - loss: 0.3121 - accuracy: 0.8762 - val_loss: 1.6115 - val_accuracy: 0.8571\n",
      "Epoch 3/10\n",
      "14/14 [==============================] - 6s 408ms/step - loss: 0.3710 - accuracy: 0.8738 - val_loss: 1.1631 - val_accuracy: 0.8571\n",
      "Epoch 4/10\n",
      "14/14 [==============================] - 4s 310ms/step - loss: 0.2503 - accuracy: 0.9119 - val_loss: 0.7482 - val_accuracy: 0.8571\n",
      "Epoch 5/10\n",
      "14/14 [==============================] - 4s 321ms/step - loss: 0.2112 - accuracy: 0.9214 - val_loss: 1.0168 - val_accuracy: 0.8571\n",
      "Epoch 6/10\n",
      "14/14 [==============================] - 4s 320ms/step - loss: 0.2078 - accuracy: 0.9310 - val_loss: 0.4027 - val_accuracy: 0.8730\n",
      "Epoch 7/10\n",
      "14/14 [==============================] - 5s 321ms/step - loss: 0.1727 - accuracy: 0.9310 - val_loss: 0.6927 - val_accuracy: 0.8889\n",
      "Epoch 8/10\n",
      "14/14 [==============================] - 4s 319ms/step - loss: 0.1995 - accuracy: 0.9286 - val_loss: 0.3193 - val_accuracy: 0.9127\n",
      "Epoch 9/10\n",
      "14/14 [==============================] - 4s 314ms/step - loss: 0.1142 - accuracy: 0.9476 - val_loss: 0.8513 - val_accuracy: 0.7302\n",
      "Epoch 10/10\n",
      "14/14 [==============================] - 4s 323ms/step - loss: 0.2611 - accuracy: 0.9238 - val_loss: 0.5117 - val_accuracy: 0.8889\n"
     ]
    }
   ],
   "source": [
    "X_train, X_val, X_test = reshape_data(X_train, X_val, X_test)\n",
    "ANN, KNN, SVM, RF, ADB, XGB = get_models()\n",
    "\n",
    "ANN = fit_ANN(ANN, X_train, y_train, X_val, y_val)"
   ]
  },
  {
   "cell_type": "code",
   "execution_count": 18,
   "id": "f5835ba5",
   "metadata": {
    "execution": {
     "iopub.execute_input": "2022-05-25T19:22:19.698680Z",
     "iopub.status.busy": "2022-05-25T19:22:19.697877Z",
     "iopub.status.idle": "2022-05-25T19:22:25.426132Z",
     "shell.execute_reply": "2022-05-25T19:22:25.425012Z"
    },
    "papermill": {
     "duration": 5.754914,
     "end_time": "2022-05-25T19:22:25.428760",
     "exception": false,
     "start_time": "2022-05-25T19:22:19.673846",
     "status": "completed"
    },
    "tags": []
   },
   "outputs": [
    {
     "name": "stdout",
     "output_type": "stream",
     "text": [
      "Model: \"sequential\"\n",
      "_________________________________________________________________\n",
      "Layer (type)                 Output Shape              Param #   \n",
      "=================================================================\n",
      "dense (Dense)                (None, 1096)              109986888 \n",
      "_________________________________________________________________\n",
      "batch_normalization_4 (Batch (None, 1096)              4384      \n",
      "_________________________________________________________________\n",
      "dense_1 (Dense)              (None, 1096)              1202312   \n",
      "_________________________________________________________________\n",
      "dropout (Dropout)            (None, 1096)              0         \n",
      "_________________________________________________________________\n",
      "dense_2 (Dense)              (None, 256)               280832    \n",
      "_________________________________________________________________\n",
      "dense_3 (Dense)              (None, 2)                 514       \n",
      "=================================================================\n",
      "Total params: 111,474,930\n",
      "Trainable params: 111,472,738\n",
      "Non-trainable params: 2,192\n",
      "_________________________________________________________________\n",
      "Train accuracy Score------------>\n",
      "91.905 %\n",
      "Val accuracy Score--------->\n",
      "88.889 %\n",
      "Test accuracy Score--------->\n",
      "90.741 %\n",
      "F1 Score--------------->\n",
      "86.336 %\n",
      "Cohen Kappa Score------------->\n",
      "0.000 %\n",
      "Recall-------------->\n",
      "90.741 %\n",
      "Precision-------------->\n",
      "82.339 %\n"
     ]
    },
    {
     "name": "stderr",
     "output_type": "stream",
     "text": [
      "/opt/conda/lib/python3.7/site-packages/sklearn/metrics/_classification.py:1318: UndefinedMetricWarning: Precision is ill-defined and being set to 0.0 in labels with no predicted samples. Use `zero_division` parameter to control this behavior.\n",
      "  _warn_prf(average, modifier, msg_start, len(result))\n"
     ]
    },
    {
     "data": {
      "image/png": "[encoded data removed]",
      "text/plain": [
       "<Figure size 864x432 with 4 Axes>"
      ]
     },
     "metadata": {
      "needs_background": "light"
     },
     "output_type": "display_data"
    },
    {
     "name": "stdout",
     "output_type": "stream",
     "text": [
      "classification report\n",
      "              precision    recall  f1-score   support\n",
      "\n",
      "           0       0.90      0.98      0.94       108\n",
      "           1       0.75      0.33      0.46        18\n",
      "\n",
      "    accuracy                           0.89       126\n",
      "   macro avg       0.82      0.66      0.70       126\n",
      "weighted avg       0.88      0.89      0.87       126\n",
      "\n"
     ]
    }
   ],
   "source": [
    "get_accuracy_metrics_for_ANN(ANN, X_train, y_train, X_val, y_val, X_test, y_test)"
   ]
  },
  {
   "cell_type": "code",
   "execution_count": 19,
   "id": "ae272c0a",
   "metadata": {
    "execution": {
     "iopub.execute_input": "2022-05-25T19:22:25.476583Z",
     "iopub.status.busy": "2022-05-25T19:22:25.475737Z",
     "iopub.status.idle": "2022-05-25T19:22:26.486724Z",
     "shell.execute_reply": "2022-05-25T19:22:26.485758Z"
    },
    "papermill": {
     "duration": 1.037605,
     "end_time": "2022-05-25T19:22:26.489267",
     "exception": false,
     "start_time": "2022-05-25T19:22:25.451662",
     "status": "completed"
    },
    "tags": []
   },
   "outputs": [],
   "source": [
    "scaler = StandardScaler()\n",
    "X_train_scaled = scaler.fit_transform(X_train)\n",
    "X_val_scaled = scaler.transform(X_val)\n",
    "X_test_scaled = scaler.transform(X_test)"
   ]
  },
  {
   "cell_type": "code",
   "execution_count": 20,
   "id": "12fbb2cc",
   "metadata": {
    "execution": {
     "iopub.execute_input": "2022-05-25T19:22:26.536969Z",
     "iopub.status.busy": "2022-05-25T19:22:26.536440Z",
     "iopub.status.idle": "2022-05-25T19:22:36.314262Z",
     "shell.execute_reply": "2022-05-25T19:22:36.313273Z"
    },
    "papermill": {
     "duration": 9.804585,
     "end_time": "2022-05-25T19:22:36.316663",
     "exception": false,
     "start_time": "2022-05-25T19:22:26.512078",
     "status": "completed"
    },
    "tags": []
   },
   "outputs": [
    {
     "name": "stdout",
     "output_type": "stream",
     "text": [
      "Train accuracy Score------------>\n",
      "100.000 %\n",
      "Val accuracy Score--------->\n",
      "92.063 %\n",
      "Test accuracy Score--------->\n",
      "90.741 %\n",
      "F1 Score--------------->\n",
      "88.894 %\n",
      "Cohen Kappa Score------------->\n",
      "24.581 %\n",
      "Recall-------------->\n",
      "90.741 %\n",
      "Precision-------------->\n",
      "88.390 %\n"
     ]
    },
    {
     "data": {
      "image/png": "[encoded data removed]",
      "text/plain": [
       "<Figure size 864x432 with 4 Axes>"
      ]
     },
     "metadata": {
      "needs_background": "light"
     },
     "output_type": "display_data"
    },
    {
     "name": "stdout",
     "output_type": "stream",
     "text": [
      "classification report\n",
      "              precision    recall  f1-score   support\n",
      "\n",
      "           0       0.96      0.94      0.95       108\n",
      "           1       0.70      0.78      0.74        18\n",
      "\n",
      "    accuracy                           0.92       126\n",
      "   macro avg       0.83      0.86      0.85       126\n",
      "weighted avg       0.92      0.92      0.92       126\n",
      "\n"
     ]
    }
   ],
   "source": [
    "SVM = fit_model(SVM, X_train_scaled, y_train)\n",
    "get_accuracy_metrics(SVM, X_train_scaled, y_train, X_val_scaled, y_val, X_test_scaled, y_test)"
   ]
  },
  {
   "cell_type": "code",
   "execution_count": 21,
   "id": "acff8b23",
   "metadata": {
    "execution": {
     "iopub.execute_input": "2022-05-25T19:22:36.366321Z",
     "iopub.status.busy": "2022-05-25T19:22:36.365688Z",
     "iopub.status.idle": "2022-05-25T19:22:37.641499Z",
     "shell.execute_reply": "2022-05-25T19:22:37.640117Z"
    },
    "papermill": {
     "duration": 1.304305,
     "end_time": "2022-05-25T19:22:37.644766",
     "exception": false,
     "start_time": "2022-05-25T19:22:36.340461",
     "status": "completed"
    },
    "tags": []
   },
   "outputs": [
    {
     "name": "stdout",
     "output_type": "stream",
     "text": [
      "Train accuracy Score------------>\n",
      "100.000 %\n",
      "Val accuracy Score--------->\n",
      "91.270 %\n",
      "Test accuracy Score--------->\n",
      "92.593 %\n",
      "F1 Score--------------->\n",
      "90.269 %\n",
      "Cohen Kappa Score------------->\n",
      "31.210 %\n",
      "Recall-------------->\n",
      "92.593 %\n",
      "Precision-------------->\n",
      "93.152 %\n"
     ]
    },
    {
     "data": {
      "image/png": "[encoded data removed]",
      "text/plain": [
       "<Figure size 864x432 with 4 Axes>"
      ]
     },
     "metadata": {
      "needs_background": "light"
     },
     "output_type": "display_data"
    },
    {
     "name": "stdout",
     "output_type": "stream",
     "text": [
      "classification report\n",
      "              precision    recall  f1-score   support\n",
      "\n",
      "           0       0.91      0.99      0.95       108\n",
      "           1       0.89      0.44      0.59        18\n",
      "\n",
      "    accuracy                           0.91       126\n",
      "   macro avg       0.90      0.72      0.77       126\n",
      "weighted avg       0.91      0.91      0.90       126\n",
      "\n"
     ]
    }
   ],
   "source": [
    "RF = fit_model(RF, X_train, y_train)\n",
    "get_accuracy_metrics(RF,  X_train, y_train, X_val, y_val, X_test, y_test)"
   ]
  },
  {
   "cell_type": "code",
   "execution_count": 22,
   "id": "b5a151bf",
   "metadata": {
    "execution": {
     "iopub.execute_input": "2022-05-25T19:22:37.694683Z",
     "iopub.status.busy": "2022-05-25T19:22:37.694268Z",
     "iopub.status.idle": "2022-05-25T19:23:28.949576Z",
     "shell.execute_reply": "2022-05-25T19:23:28.947998Z"
    },
    "papermill": {
     "duration": 51.284031,
     "end_time": "2022-05-25T19:23:28.953103",
     "exception": false,
     "start_time": "2022-05-25T19:22:37.669072",
     "status": "completed"
    },
    "tags": []
   },
   "outputs": [
    {
     "name": "stdout",
     "output_type": "stream",
     "text": [
      "Train accuracy Score------------>\n",
      "100.000 %\n",
      "Val accuracy Score--------->\n",
      "93.651 %\n",
      "Test accuracy Score--------->\n",
      "94.444 %\n",
      "F1 Score--------------->\n",
      "93.336 %\n",
      "Cohen Kappa Score------------->\n",
      "54.749 %\n",
      "Recall-------------->\n",
      "94.444 %\n",
      "Precision-------------->\n",
      "94.765 %\n"
     ]
    },
    {
     "data": {
      "image/png": "[encoded data removed]",
      "text/plain": [
       "<Figure size 864x432 with 4 Axes>"
      ]
     },
     "metadata": {
      "needs_background": "light"
     },
     "output_type": "display_data"
    },
    {
     "name": "stdout",
     "output_type": "stream",
     "text": [
      "classification report\n",
      "              precision    recall  f1-score   support\n",
      "\n",
      "           0       0.95      0.97      0.96       108\n",
      "           1       0.81      0.72      0.76        18\n",
      "\n",
      "    accuracy                           0.94       126\n",
      "   macro avg       0.88      0.85      0.86       126\n",
      "weighted avg       0.93      0.94      0.93       126\n",
      "\n"
     ]
    }
   ],
   "source": [
    "ADB = fit_model(ADB, X_train, y_train)\n",
    "get_accuracy_metrics(ADB,  X_train, y_train, X_val, y_val, X_test, y_test)"
   ]
  },
  {
   "cell_type": "code",
   "execution_count": 23,
   "id": "58f8b69a",
   "metadata": {
    "execution": {
     "iopub.execute_input": "2022-05-25T19:23:29.006322Z",
     "iopub.status.busy": "2022-05-25T19:23:29.005875Z",
     "iopub.status.idle": "2022-05-25T19:23:58.892621Z",
     "shell.execute_reply": "2022-05-25T19:23:58.891269Z"
    },
    "papermill": {
     "duration": 29.915907,
     "end_time": "2022-05-25T19:23:58.894921",
     "exception": false,
     "start_time": "2022-05-25T19:23:28.979014",
     "status": "completed"
    },
    "tags": []
   },
   "outputs": [
    {
     "name": "stdout",
     "output_type": "stream",
     "text": [
      "Train accuracy Score------------>\n",
      "100.000 %\n",
      "Val accuracy Score--------->\n",
      "91.270 %\n",
      "Test accuracy Score--------->\n",
      "92.593 %\n",
      "F1 Score--------------->\n",
      "90.269 %\n",
      "Cohen Kappa Score------------->\n",
      "31.210 %\n",
      "Recall-------------->\n",
      "92.593 %\n",
      "Precision-------------->\n",
      "93.152 %\n"
     ]
    },
    {
     "data": {
      "image/png": "[encoded data removed]",
      "text/plain": [
       "<Figure size 864x432 with 4 Axes>"
      ]
     },
     "metadata": {
      "needs_background": "light"
     },
     "output_type": "display_data"
    },
    {
     "name": "stdout",
     "output_type": "stream",
     "text": [
      "classification report\n",
      "              precision    recall  f1-score   support\n",
      "\n",
      "           0       0.93      0.97      0.95       108\n",
      "           1       0.77      0.56      0.65        18\n",
      "\n",
      "    accuracy                           0.91       126\n",
      "   macro avg       0.85      0.76      0.80       126\n",
      "weighted avg       0.91      0.91      0.91       126\n",
      "\n"
     ]
    }
   ],
   "source": [
    "XGB = fit_model(XGB, X_train, y_train)\n",
    "get_accuracy_metrics(XGB,  X_train, y_train, X_val, y_val, X_test, y_test)"
   ]
  },
  {
   "cell_type": "code",
   "execution_count": 24,
   "id": "c0343230",
   "metadata": {
    "execution": {
     "iopub.execute_input": "2022-05-25T19:23:58.948156Z",
     "iopub.status.busy": "2022-05-25T19:23:58.947749Z",
     "iopub.status.idle": "2022-05-25T19:23:59.335266Z",
     "shell.execute_reply": "2022-05-25T19:23:59.333852Z"
    },
    "papermill": {
     "duration": 0.416919,
     "end_time": "2022-05-25T19:23:59.337624",
     "exception": true,
     "start_time": "2022-05-25T19:23:58.920705",
     "status": "failed"
    },
    "tags": []
   },
   "outputs": [
    {
     "ename": "ValueError",
     "evalue": "Sample larger than population or is negative",
     "output_type": "error",
     "traceback": [
      "\u001b[0;31m---------------------------------------------------------------------------\u001b[0m",
      "\u001b[0;31mValueError\u001b[0m                                Traceback (most recent call last)",
      "\u001b[0;32m/tmp/ipykernel_19/2101718088.py\u001b[0m in \u001b[0;36m<module>\u001b[0;34m\u001b[0m\n\u001b[0;32m----> 1\u001b[0;31m \u001b[0mfit_KNN_metrics\u001b[0m\u001b[0;34m(\u001b[0m\u001b[0mKNN\u001b[0m\u001b[0;34m,\u001b[0m \u001b[0mX_train_scaled\u001b[0m\u001b[0;34m,\u001b[0m \u001b[0my_train\u001b[0m\u001b[0;34m,\u001b[0m \u001b[0mX_val_scaled\u001b[0m\u001b[0;34m,\u001b[0m \u001b[0my_val\u001b[0m\u001b[0;34m,\u001b[0m \u001b[0mX_test_scaled\u001b[0m\u001b[0;34m,\u001b[0m \u001b[0my_test\u001b[0m\u001b[0;34m)\u001b[0m\u001b[0;34m\u001b[0m\u001b[0;34m\u001b[0m\u001b[0m\n\u001b[0m",
      "\u001b[0;32m/tmp/ipykernel_19/3578014107.py\u001b[0m in \u001b[0;36mfit_KNN_metrics\u001b[0;34m(model, X_train, y_train, X_val, y_val, X_test, y_test)\u001b[0m\n\u001b[1;32m      2\u001b[0m     \u001b[0mpca\u001b[0m \u001b[0;34m=\u001b[0m \u001b[0mPCA\u001b[0m\u001b[0;34m(\u001b[0m\u001b[0mn_components\u001b[0m\u001b[0;34m=\u001b[0m\u001b[0;36m1000\u001b[0m\u001b[0;34m)\u001b[0m\u001b[0;34m\u001b[0m\u001b[0;34m\u001b[0m\u001b[0m\n\u001b[1;32m      3\u001b[0m     \u001b[0;31m#pca = PCA(n_components=130)\u001b[0m\u001b[0;34m\u001b[0m\u001b[0;34m\u001b[0m\u001b[0;34m\u001b[0m\u001b[0m\n\u001b[0;32m----> 4\u001b[0;31m     \u001b[0mrandlist\u001b[0m \u001b[0;34m=\u001b[0m \u001b[0mrandom\u001b[0m\u001b[0;34m.\u001b[0m\u001b[0msample\u001b[0m\u001b[0;34m(\u001b[0m\u001b[0mrange\u001b[0m\u001b[0;34m(\u001b[0m\u001b[0;36m0\u001b[0m\u001b[0;34m,\u001b[0m \u001b[0mX_train\u001b[0m\u001b[0;34m.\u001b[0m\u001b[0mshape\u001b[0m\u001b[0;34m[\u001b[0m\u001b[0;36m0\u001b[0m\u001b[0;34m]\u001b[0m\u001b[0;34m)\u001b[0m\u001b[0;34m,\u001b[0m \u001b[0;36m1000\u001b[0m\u001b[0;34m)\u001b[0m\u001b[0;34m\u001b[0m\u001b[0;34m\u001b[0m\u001b[0m\n\u001b[0m\u001b[1;32m      5\u001b[0m     \u001b[0;31m#randlist = random.sample(range(0, X_train.shape[0]), 90)\u001b[0m\u001b[0;34m\u001b[0m\u001b[0;34m\u001b[0m\u001b[0;34m\u001b[0m\u001b[0m\n\u001b[1;32m      6\u001b[0m     \u001b[0;32mif\u001b[0m\u001b[0;34m(\u001b[0m\u001b[0mX_train\u001b[0m\u001b[0;34m.\u001b[0m\u001b[0mshape\u001b[0m\u001b[0;34m[\u001b[0m\u001b[0;36m1\u001b[0m\u001b[0;34m]\u001b[0m \u001b[0;34m>\u001b[0m \u001b[0;36m10000\u001b[0m\u001b[0;34m)\u001b[0m\u001b[0;34m:\u001b[0m\u001b[0;34m\u001b[0m\u001b[0;34m\u001b[0m\u001b[0m\n",
      "\u001b[0;32m/opt/conda/lib/python3.7/random.py\u001b[0m in \u001b[0;36msample\u001b[0;34m(self, population, k)\u001b[0m\n\u001b[1;32m    319\u001b[0m         \u001b[0mn\u001b[0m \u001b[0;34m=\u001b[0m \u001b[0mlen\u001b[0m\u001b[0;34m(\u001b[0m\u001b[0mpopulation\u001b[0m\u001b[0;34m)\u001b[0m\u001b[0;34m\u001b[0m\u001b[0;34m\u001b[0m\u001b[0m\n\u001b[1;32m    320\u001b[0m         \u001b[0;32mif\u001b[0m \u001b[0;32mnot\u001b[0m \u001b[0;36m0\u001b[0m \u001b[0;34m<=\u001b[0m \u001b[0mk\u001b[0m \u001b[0;34m<=\u001b[0m \u001b[0mn\u001b[0m\u001b[0;34m:\u001b[0m\u001b[0;34m\u001b[0m\u001b[0;34m\u001b[0m\u001b[0m\n\u001b[0;32m--> 321\u001b[0;31m             \u001b[0;32mraise\u001b[0m \u001b[0mValueError\u001b[0m\u001b[0;34m(\u001b[0m\u001b[0;34m\"Sample larger than population or is negative\"\u001b[0m\u001b[0;34m)\u001b[0m\u001b[0;34m\u001b[0m\u001b[0;34m\u001b[0m\u001b[0m\n\u001b[0m\u001b[1;32m    322\u001b[0m         \u001b[0mresult\u001b[0m \u001b[0;34m=\u001b[0m \u001b[0;34m[\u001b[0m\u001b[0;32mNone\u001b[0m\u001b[0;34m]\u001b[0m \u001b[0;34m*\u001b[0m \u001b[0mk\u001b[0m\u001b[0;34m\u001b[0m\u001b[0;34m\u001b[0m\u001b[0m\n\u001b[1;32m    323\u001b[0m         \u001b[0msetsize\u001b[0m \u001b[0;34m=\u001b[0m \u001b[0;36m21\u001b[0m        \u001b[0;31m# size of a small set minus size of an empty list\u001b[0m\u001b[0;34m\u001b[0m\u001b[0;34m\u001b[0m\u001b[0m\n",
      "\u001b[0;31mValueError\u001b[0m: Sample larger than population or is negative"
     ]
    }
   ],
   "source": [
    "fit_KNN_metrics(KNN, X_train_scaled, y_train, X_val_scaled, y_val, X_test_scaled, y_test)"
   ]
  }
 ],
 "metadata": {
  "kernelspec": {
   "display_name": "Python 3",
   "language": "python",
   "name": "python3"
  },
  "language_info": {
   "codemirror_mode": {
    "name": "ipython",
    "version": 3
   },
   "file_extension": ".py",
   "mimetype": "text/x-python",
   "name": "python",
   "nbconvert_exporter": "python",
   "pygments_lexer": "ipython3",
   "version": "3.7.12"
  },
  "papermill": {
   "default_parameters": {},
   "duration": 463.88616,
   "end_time": "2022-05-25T19:24:02.774983",
   "environment_variables": {},
   "exception": true,
   "input_path": "__notebook__.ipynb",
   "output_path": "__notebook__.ipynb",
   "parameters": {},
   "start_time": "2022-05-25T19:16:18.888823",
   "version": "2.3.4"
  }
 },
 "nbformat": 4,
 "nbformat_minor": 5
}
