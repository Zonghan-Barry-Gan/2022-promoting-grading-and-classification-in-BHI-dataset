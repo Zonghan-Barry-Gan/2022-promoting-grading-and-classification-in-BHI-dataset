{
 "cells": [
  {
   "cell_type": "code",
   "execution_count": 1,
   "id": "9a16fbbe",
   "metadata": {
    "_cell_guid": "b1076dfc-b9ad-4769-8c92-a6c4dae69d19",
    "_uuid": "8f2839f25d086af736a60e9eeb907d3b93b6e0e5",
    "execution": {
     "iopub.execute_input": "2022-06-03T23:34:02.533864Z",
     "iopub.status.busy": "2022-06-03T23:34:02.532948Z",
     "iopub.status.idle": "2022-06-03T23:34:16.400306Z",
     "shell.execute_reply": "2022-06-03T23:34:16.399388Z"
    },
    "papermill": {
     "duration": 13.883704,
     "end_time": "2022-06-03T23:34:16.402930",
     "exception": false,
     "start_time": "2022-06-03T23:34:02.519226",
     "status": "completed"
    },
    "tags": []
   },
   "outputs": [
    {
     "name": "stdout",
     "output_type": "stream",
     "text": [
      "Collecting Livelossplot\r\n",
      "  Downloading livelossplot-0.5.5-py3-none-any.whl (22 kB)\r\n",
      "Requirement already satisfied: matplotlib in /opt/conda/lib/python3.7/site-packages (from Livelossplot) (3.5.2)\r\n",
      "Requirement already satisfied: ipython==7.* in /opt/conda/lib/python3.7/site-packages (from Livelossplot) (7.33.0)\r\n",
      "Requirement already satisfied: numpy<1.22 in /opt/conda/lib/python3.7/site-packages (from Livelossplot) (1.21.6)\r\n",
      "Requirement already satisfied: bokeh in /opt/conda/lib/python3.7/site-packages (from Livelossplot) (2.4.3)\r\n",
      "Requirement already satisfied: setuptools>=18.5 in /opt/conda/lib/python3.7/site-packages (from ipython==7.*->Livelossplot) (59.8.0)\r\n",
      "Requirement already satisfied: backcall in /opt/conda/lib/python3.7/site-packages (from ipython==7.*->Livelossplot) (0.2.0)\r\n",
      "Requirement already satisfied: matplotlib-inline in /opt/conda/lib/python3.7/site-packages (from ipython==7.*->Livelossplot) (0.1.3)\r\n",
      "Requirement already satisfied: prompt-toolkit!=3.0.0,!=3.0.1,<3.1.0,>=2.0.0 in /opt/conda/lib/python3.7/site-packages (from ipython==7.*->Livelossplot) (3.0.29)\r\n",
      "Requirement already satisfied: decorator in /opt/conda/lib/python3.7/site-packages (from ipython==7.*->Livelossplot) (5.1.1)\r\n",
      "Requirement already satisfied: pickleshare in /opt/conda/lib/python3.7/site-packages (from ipython==7.*->Livelossplot) (0.7.5)\r\n",
      "Requirement already satisfied: jedi>=0.16 in /opt/conda/lib/python3.7/site-packages (from ipython==7.*->Livelossplot) (0.18.1)\r\n",
      "Requirement already satisfied: pygments in /opt/conda/lib/python3.7/site-packages (from ipython==7.*->Livelossplot) (2.12.0)\r\n",
      "Requirement already satisfied: traitlets>=4.2 in /opt/conda/lib/python3.7/site-packages (from ipython==7.*->Livelossplot) (5.2.0)\r\n",
      "Requirement already satisfied: pexpect>4.3 in /opt/conda/lib/python3.7/site-packages (from ipython==7.*->Livelossplot) (4.8.0)\r\n",
      "Requirement already satisfied: PyYAML>=3.10 in /opt/conda/lib/python3.7/site-packages (from bokeh->Livelossplot) (6.0)\r\n",
      "Requirement already satisfied: typing-extensions>=3.10.0 in /opt/conda/lib/python3.7/site-packages (from bokeh->Livelossplot) (4.2.0)\r\n",
      "Requirement already satisfied: packaging>=16.8 in /opt/conda/lib/python3.7/site-packages (from bokeh->Livelossplot) (21.3)\r\n",
      "Requirement already satisfied: Jinja2>=2.9 in /opt/conda/lib/python3.7/site-packages (from bokeh->Livelossplot) (3.1.2)\r\n",
      "Requirement already satisfied: tornado>=5.1 in /opt/conda/lib/python3.7/site-packages (from bokeh->Livelossplot) (6.1)\r\n",
      "Requirement already satisfied: pillow>=7.1.0 in /opt/conda/lib/python3.7/site-packages (from bokeh->Livelossplot) (9.1.0)\r\n",
      "Requirement already satisfied: python-dateutil>=2.7 in /opt/conda/lib/python3.7/site-packages (from matplotlib->Livelossplot) (2.8.2)\r\n",
      "Requirement already satisfied: pyparsing>=2.2.1 in /opt/conda/lib/python3.7/site-packages (from matplotlib->Livelossplot) (3.0.9)\r\n",
      "Requirement already satisfied: cycler>=0.10 in /opt/conda/lib/python3.7/site-packages (from matplotlib->Livelossplot) (0.11.0)\r\n",
      "Requirement already satisfied: kiwisolver>=1.0.1 in /opt/conda/lib/python3.7/site-packages (from matplotlib->Livelossplot) (1.4.2)\r\n",
      "Requirement already satisfied: fonttools>=4.22.0 in /opt/conda/lib/python3.7/site-packages (from matplotlib->Livelossplot) (4.33.3)\r\n",
      "Requirement already satisfied: parso<0.9.0,>=0.8.0 in /opt/conda/lib/python3.7/site-packages (from jedi>=0.16->ipython==7.*->Livelossplot) (0.8.3)\r\n",
      "Requirement already satisfied: MarkupSafe>=2.0 in /opt/conda/lib/python3.7/site-packages (from Jinja2>=2.9->bokeh->Livelossplot) (2.0.1)\r\n",
      "Requirement already satisfied: ptyprocess>=0.5 in /opt/conda/lib/python3.7/site-packages (from pexpect>4.3->ipython==7.*->Livelossplot) (0.7.0)\r\n",
      "Requirement already satisfied: wcwidth in /opt/conda/lib/python3.7/site-packages (from prompt-toolkit!=3.0.0,!=3.0.1,<3.1.0,>=2.0.0->ipython==7.*->Livelossplot) (0.2.5)\r\n",
      "Requirement already satisfied: six>=1.5 in /opt/conda/lib/python3.7/site-packages (from python-dateutil>=2.7->matplotlib->Livelossplot) (1.16.0)\r\n",
      "Installing collected packages: Livelossplot\r\n",
      "Successfully installed Livelossplot-0.5.5\r\n",
      "\u001b[33mWARNING: Running pip as the 'root' user can result in broken permissions and conflicting behaviour with the system package manager. It is recommended to use a virtual environment instead: https://pip.pypa.io/warnings/venv\u001b[0m\u001b[33m\r\n",
      "\u001b[0m"
     ]
    }
   ],
   "source": [
    "# This Python 3 environment comes with many helpful analytics libraries installed\n",
    "# It is defined by the kaggle/python Docker image: https://github.com/kaggle/docker-python\n",
    "# For example, here's several helpful packages to load\n",
    "\n",
    "import numpy as np # linear algebra\n",
    "import pandas as pd # data processing, CSV file I/O (e.g. pd.read_csv)\n",
    "\n",
    "# Input data files are available in the read-only \"../input/\" directory\n",
    "# For example, running this (by clicking run or pressing Shift+Enter) will list all files under the input directory\n",
    "\n",
    "import os\n",
    "\n",
    "import warnings\n",
    "warnings.filterwarnings('ignore')\n",
    "%matplotlib inline\n",
    "!pip install Livelossplot\n",
    "from livelossplot import PlotLossesKeras\n",
    "\n",
    "from glob import glob\n",
    "import os\n",
    "import shutil\n",
    "\n",
    "import numpy as np\n",
    "import pandas as pd\n",
    "# You can write up to 20GB to the current directory (/kaggle/working/) that gets preserved as output when you create a version using \"Save & Run All\" \n",
    "# You can also write temporary files to /kaggle/temp/, but they won't be saved outside of the current session"
   ]
  },
  {
   "cell_type": "markdown",
   "id": "5a67fb12",
   "metadata": {
    "papermill": {
     "duration": 0.01094,
     "end_time": "2022-06-03T23:34:16.425346",
     "exception": false,
     "start_time": "2022-06-03T23:34:16.414406",
     "status": "completed"
    },
    "tags": []
   },
   "source": [
    "# AIM\n",
    "## To classify the images into \n",
    "### IDC+\n",
    "### IDC-\n",
    "\n",
    "# Validation Strategy:\n",
    "\n",
    "## Train Data Size= 0.7*Total_Data\n",
    "## Validation Data Size= 0.21* Total_Data\n",
    "## Test Data Size= 0.09 * Total_Data\n",
    "\n",
    "# Augmentaions Used:\n",
    "## Each Image is rotated through 45 angles\n"
   ]
  },
  {
   "cell_type": "code",
   "execution_count": 2,
   "id": "5426ebd5",
   "metadata": {
    "execution": {
     "iopub.execute_input": "2022-06-03T23:34:16.450614Z",
     "iopub.status.busy": "2022-06-03T23:34:16.449315Z",
     "iopub.status.idle": "2022-06-03T23:34:27.001884Z",
     "shell.execute_reply": "2022-06-03T23:34:27.000925Z"
    },
    "papermill": {
     "duration": 10.567615,
     "end_time": "2022-06-03T23:34:27.004158",
     "exception": false,
     "start_time": "2022-06-03T23:34:16.436543",
     "status": "completed"
    },
    "tags": []
   },
   "outputs": [
    {
     "data": {
      "text/html": [
       "<style type='text/css'>\n",
       ".datatable table.frame { margin-bottom: 0; }\n",
       ".datatable table.frame thead { border-bottom: none; }\n",
       ".datatable table.frame tr.coltypes td {  color: #FFFFFF;  line-height: 6px;  padding: 0 0.5em;}\n",
       ".datatable .bool    { background: #DDDD99; }\n",
       ".datatable .object  { background: #565656; }\n",
       ".datatable .int     { background: #5D9E5D; }\n",
       ".datatable .float   { background: #4040CC; }\n",
       ".datatable .str     { background: #CC4040; }\n",
       ".datatable .time    { background: #40CC40; }\n",
       ".datatable .row_index {  background: var(--jp-border-color3);  border-right: 1px solid var(--jp-border-color0);  color: var(--jp-ui-font-color3);  font-size: 9px;}\n",
       ".datatable .frame tbody td { text-align: left; }\n",
       ".datatable .frame tr.coltypes .row_index {  background: var(--jp-border-color0);}\n",
       ".datatable th:nth-child(2) { padding-left: 12px; }\n",
       ".datatable .hellipsis {  color: var(--jp-cell-editor-border-color);}\n",
       ".datatable .vellipsis {  background: var(--jp-layout-color0);  color: var(--jp-cell-editor-border-color);}\n",
       ".datatable .na {  color: var(--jp-cell-editor-border-color);  font-size: 80%;}\n",
       ".datatable .sp {  opacity: 0.25;}\n",
       ".datatable .footer { font-size: 9px; }\n",
       ".datatable .frame_dimensions {  background: var(--jp-border-color3);  border-top: 1px solid var(--jp-border-color0);  color: var(--jp-ui-font-color3);  display: inline-block;  opacity: 0.6;  padding: 1px 10px 1px 5px;}\n",
       "</style>\n"
      ],
      "text/plain": [
       "<IPython.core.display.HTML object>"
      ]
     },
     "metadata": {},
     "output_type": "display_data"
    },
    {
     "name": "stdout",
     "output_type": "stream",
     "text": [
      "All modules have been imported\n"
     ]
    }
   ],
   "source": [
    "\n",
    "import numpy as np\n",
    "import pandas as pd\n",
    "import cv2\n",
    "from PIL import Image\n",
    "import scipy\n",
    "\n",
    "import tensorflow as tf\n",
    "from tensorflow.keras.applications import *\n",
    "from tensorflow.keras.optimizers import *\n",
    "from tensorflow.keras.losses import *\n",
    "from tensorflow.keras.layers import *\n",
    "from tensorflow.keras.models import *\n",
    "from tensorflow.keras.callbacks import *\n",
    "from tensorflow.keras.preprocessing.image import *\n",
    "from tensorflow.keras.utils import *\n",
    "# import pydot\n",
    "\n",
    "from sklearn.metrics import *\n",
    "from sklearn.model_selection import *\n",
    "import tensorflow.keras.backend as K\n",
    "\n",
    "from tqdm import tqdm, tqdm_notebook\n",
    "from colorama import Fore\n",
    "import json\n",
    "import matplotlib.pyplot as plt\n",
    "import seaborn as sns\n",
    "from glob import glob\n",
    "from skimage.io import *\n",
    "%config Completer.use_jedi = False\n",
    "import time\n",
    "from sklearn.decomposition import PCA\n",
    "from sklearn.svm import LinearSVC\n",
    "from sklearn.linear_model import LogisticRegression\n",
    "from sklearn.metrics import accuracy_score\n",
    "import lightgbm as lgb\n",
    "import xgboost as xgb\n",
    "\n",
    "print(\"All modules have been imported\")"
   ]
  },
  {
   "cell_type": "code",
   "execution_count": 3,
   "id": "eae98a43",
   "metadata": {
    "execution": {
     "iopub.execute_input": "2022-06-03T23:34:27.032415Z",
     "iopub.status.busy": "2022-06-03T23:34:27.031877Z",
     "iopub.status.idle": "2022-06-03T23:34:27.036348Z",
     "shell.execute_reply": "2022-06-03T23:34:27.035583Z"
    },
    "papermill": {
     "duration": 0.021898,
     "end_time": "2022-06-03T23:34:27.038719",
     "exception": false,
     "start_time": "2022-06-03T23:34:27.016821",
     "status": "completed"
    },
    "tags": []
   },
   "outputs": [],
   "source": [
    "sampling_seed = 0\n",
    "size_4_training0 = 78786\n",
    "size_4_training1 = 78786\n",
    "img_size = 50\n",
    "training_reshape=(-1, img_size, img_size, 3)\n",
    "epoch_4_test = 30"
   ]
  },
  {
   "cell_type": "code",
   "execution_count": 4,
   "id": "5d455396",
   "metadata": {
    "execution": {
     "iopub.execute_input": "2022-06-03T23:34:27.063319Z",
     "iopub.status.busy": "2022-06-03T23:34:27.062766Z",
     "iopub.status.idle": "2022-06-03T23:34:27.068174Z",
     "shell.execute_reply": "2022-06-03T23:34:27.067505Z"
    },
    "papermill": {
     "duration": 0.020013,
     "end_time": "2022-06-03T23:34:27.070167",
     "exception": false,
     "start_time": "2022-06-03T23:34:27.050154",
     "status": "completed"
    },
    "tags": []
   },
   "outputs": [],
   "source": [
    "import os\n",
    "os.makedirs('../working/data/train_seg/idc-minus/')     \n",
    "os.makedirs('../working/data/train_seg/idc-plus/')  \n",
    "os.makedirs('../working/data/test_seg/idc-minus/')     \n",
    "os.makedirs('../working/data/test_seg/idc-plus/')  \n",
    "os.makedirs('../working/data/val_seg/idc-minus/')     \n",
    "os.makedirs('../working/data/val_seg/idc-plus/') "
   ]
  },
  {
   "cell_type": "code",
   "execution_count": 5,
   "id": "ab7c34d3",
   "metadata": {
    "execution": {
     "iopub.execute_input": "2022-06-03T23:34:27.095208Z",
     "iopub.status.busy": "2022-06-03T23:34:27.094635Z",
     "iopub.status.idle": "2022-06-03T23:47:03.285168Z",
     "shell.execute_reply": "2022-06-03T23:47:03.282679Z"
    },
    "papermill": {
     "duration": 756.208497,
     "end_time": "2022-06-03T23:47:03.290150",
     "exception": false,
     "start_time": "2022-06-03T23:34:27.081653",
     "status": "completed"
    },
    "tags": []
   },
   "outputs": [
    {
     "name": "stdout",
     "output_type": "stream",
     "text": [
      "['../input/breast-histopathology-images/IDC_regular_ps50_idx5/10295/0/10295_idx5_x1351_y1101_class0.png', '../input/breast-histopathology-images/IDC_regular_ps50_idx5/10295/0/10295_idx5_x1501_y501_class0.png', '../input/breast-histopathology-images/IDC_regular_ps50_idx5/10295/0/10295_idx5_x1501_y1101_class0.png', '../input/breast-histopathology-images/IDC_regular_ps50_idx5/10295/0/10295_idx5_x451_y901_class0.png', '../input/breast-histopathology-images/IDC_regular_ps50_idx5/10295/0/10295_idx5_x801_y451_class0.png', '../input/breast-histopathology-images/IDC_regular_ps50_idx5/10295/0/10295_idx5_x151_y1051_class0.png', '../input/breast-histopathology-images/IDC_regular_ps50_idx5/10295/0/10295_idx5_x1351_y901_class0.png', '../input/breast-histopathology-images/IDC_regular_ps50_idx5/10295/0/10295_idx5_x701_y651_class0.png', '../input/breast-histopathology-images/IDC_regular_ps50_idx5/10295/0/10295_idx5_x951_y1401_class0.png', '../input/breast-histopathology-images/IDC_regular_ps50_idx5/10295/0/10295_idx5_x601_y501_class0.png']\n",
      "55150\n",
      "7091\n",
      "16545\n",
      "55150\n",
      "7091\n",
      "16545\n"
     ]
    }
   ],
   "source": [
    "\n",
    "import random\n",
    "from glob import glob\n",
    "imagePatches = glob('../input/breast-histopathology-images/IDC_regular_ps50_idx5/**/*.png', recursive=True)\n",
    "train_dir='../working/data/train_seg/'\n",
    "validation_dir='../working/data/val_seg/'\n",
    "#train_dir='../working/data/train_seg/'  \n",
    "#test_dir = '../working/data/test_seg/normal'  \n",
    "test_dir = '../working/data/test_seg/'  \n",
    "\n",
    "class0 = [] # 0 = idc+\n",
    "class1 = [] # 1 = idc-\n",
    "imagePatches = glob('../input/breast-histopathology-images/IDC_regular_ps50_idx5/**/*.png', recursive=True)\n",
    "for filename in imagePatches:\n",
    "    if filename.endswith(\"class0.png\"):\n",
    "         class0.append(filename)\n",
    "    else:\n",
    "        class1.append(filename)\n",
    "\n",
    "print(class0[0:10])\n",
    "\n",
    "#sampling 10000 images from class 0 and class 1 to train the model\n",
    "\n",
    "random.seed(sampling_seed)\n",
    "class0sample=random.sample(class0,size_4_training0)\n",
    "class0label=np.zeros(size_4_training0)\n",
    "class1sample=random.sample(class1,size_4_training1)\n",
    "class1label=np.ones(size_4_training1)\n",
    "\n",
    "class0sample_train, class0sample_test1, class0label_train, class0label_test1 = train_test_split(class0sample, class0label, test_size=0.3, random_state=42)\n",
    "class0sample_val, class0sample_test,  class0label_val, class0label_test = train_test_split(class0sample_test1, class0label_test1, test_size=0.3, random_state=42)\n",
    "print(len(class0sample_train))\n",
    "print(len(class0sample_test))\n",
    "print(len(class0sample_val))\n",
    "class1sample_train, class1sample_test1, class1label_train, class1label_test1 = train_test_split(class1sample, class1label, test_size=0.3, random_state=42)\n",
    "class1sample_val, class1sample_test, class1label_val, class1label_test = train_test_split(class1sample_test1, class1label_test1, test_size=0.3, random_state=42)\n",
    "print(len(class1sample_train))\n",
    "print(len(class1sample_test))\n",
    "print(len(class1sample_val))\n",
    "def read_and_save_data(path, file_name_array):\n",
    "    j=0\n",
    "    for i in file_name_array:\n",
    "        if i.endswith('.png'):\n",
    "          \n",
    "            \n",
    "            #second copy method\n",
    "            head, tail = os.path.split(i)\n",
    "            outputname=str(path+tail)\n",
    "            #outputname=str(path+str(j)+'.png')\n",
    "            #print(outputname)\n",
    "\n",
    "            shutil.copy(i, outputname)\n",
    "             \n",
    "            #print(status2)\n",
    "            \n",
    "            j=j+1\n",
    "            if j==120000:\n",
    "                break\n",
    "            \n",
    "   \n",
    "class0train_path='../working/data/train_seg/idc-minus/'\n",
    "class1train_path='../working/data/train_seg/idc-plus/'\n",
    "class0test_path='../working/data/test_seg/idc-minus/'\n",
    "class1test_path='../working/data/test_seg/idc-plus/'\n",
    "class0val_path='../working/data/val_seg/idc-minus/'\n",
    "class1val_path='../working/data/val_seg/idc-plus/'\n",
    "\n",
    "read_and_save_data(class0train_path,class0sample_train)\n",
    "read_and_save_data(class1train_path,class1sample_train)\n",
    "\n",
    "\n",
    "read_and_save_data(class0test_path,class0sample_test)\n",
    "read_and_save_data(class1test_path,class1sample_test)\n",
    "\n",
    "\n",
    "read_and_save_data(class0val_path,class0sample_val)\n",
    "read_and_save_data(class1val_path,class1sample_val)"
   ]
  },
  {
   "cell_type": "code",
   "execution_count": 6,
   "id": "afd9c25e",
   "metadata": {
    "execution": {
     "iopub.execute_input": "2022-06-03T23:47:03.319639Z",
     "iopub.status.busy": "2022-06-03T23:47:03.319113Z",
     "iopub.status.idle": "2022-06-03T23:47:31.916620Z",
     "shell.execute_reply": "2022-06-03T23:47:31.915122Z"
    },
    "papermill": {
     "duration": 28.614392,
     "end_time": "2022-06-03T23:47:31.919157",
     "exception": false,
     "start_time": "2022-06-03T23:47:03.304765",
     "status": "completed"
    },
    "tags": []
   },
   "outputs": [
    {
     "name": "stdout",
     "output_type": "stream",
     "text": [
      "(110300, 50, 50, 3)\n",
      "(14182, 50, 50, 3)\n",
      "(33090, 50, 50, 3)\n"
     ]
    }
   ],
   "source": [
    "\n",
    "\n",
    "\n",
    "import os #Operating System\n",
    "import sys #System\n",
    "import cv2\n",
    "def readImage(path, tag):\n",
    "    j=0\n",
    "    image_data = []\n",
    "    label=[]\n",
    "    for i in os.listdir(path):\n",
    "        imgname=path+i\n",
    "        #print(imgname)\n",
    "        img = cv2.imread(imgname, cv2.IMREAD_COLOR)\n",
    "        img_resized = cv2.resize(img, (img_size,img_size), interpolation=cv2.INTER_LINEAR)\n",
    "        image_data.append(img_resized)\n",
    "        label.append(tag)\n",
    "        #print(img[1])\n",
    "        j=j+1\n",
    "        #if j==10:\n",
    "        #    break\n",
    "        \n",
    "    return image_data, label\n",
    "\n",
    "import numpy as np\n",
    "from tensorflow.keras.utils import *\n",
    "from sklearn.utils import shuffle\n",
    "\n",
    "class0_train, train0_label = readImage(class0train_path, 0)\n",
    "class1_train, train1_label  = readImage(class1train_path, 1)\n",
    "class0_test, test0_label = readImage(class0test_path, 0)\n",
    "class1_test, test1_label = readImage(class1test_path, 1)\n",
    "class0_val, val0_label = readImage(class0val_path, 0)\n",
    "class1_val, val1_label = readImage(class1val_path, 1)\n",
    "\n",
    "def Image_array_process(class0array,label0, class1array, label1):\n",
    "    class0_array=np.array(class0array)\n",
    "    class1_array=np.array(class1array)\n",
    "    combined_data = np.concatenate((class0_array, class1_array))\n",
    "    combined_label= np.concatenate((label0,label1), axis=0)\n",
    "    assert len(combined_data) == len(combined_label)\n",
    "    combined_data, combined_label = shuffle(combined_data, combined_label, random_state=0)\n",
    "    print(combined_data.shape)\n",
    "    length=len(combined_data)\n",
    "    combined_label=to_categorical(combined_label,num_classes=2)\n",
    "    #i=0\n",
    "    #for i in range(length):\n",
    "    #    print(combined_label[i])\n",
    "\n",
    "    #print\n",
    "\n",
    "    #print(class0_array.shape)\n",
    "    #print(combined_data.shape)\n",
    "    '''\n",
    "    training_reshape=(224,224,3)\n",
    "    length=len(combined_data)\n",
    "    print(length)\n",
    "    x =[None]*length\n",
    "    #print(img_data.type)\n",
    "    y =np.zeros(length)\n",
    "    i=0\n",
    "   \n",
    "    for features,label in combined_data:\n",
    "        x[i]=features\n",
    "        #print(x.shape)\n",
    "        y[i]=label\n",
    "        #print(y[i])\n",
    "        i=i+1\n",
    "    \n",
    "            #x = np.array(x).reshape(training_reshape)\n",
    "    x = np.array(x)    \n",
    "    #print(x.shape)\n",
    "    #y=np.array(y)\n",
    "    y=y.astype(int)\n",
    "    y = to_categorical(y)\n",
    "    print(y)\n",
    "    '''  \n",
    "    return combined_data, combined_label\n",
    "\n",
    "\n",
    "X_train, y_train=Image_array_process(class0_train, train0_label, class1_train, train1_label)\n",
    "X_test, y_test=Image_array_process(class0_test, test0_label, class1_test, test1_label)\n",
    "X_val, y_val=Image_array_process(class0_val, val0_label, class1_val, val1_label)"
   ]
  },
  {
   "cell_type": "markdown",
   "id": "a32cd3fa",
   "metadata": {
    "papermill": {
     "duration": 0.011906,
     "end_time": "2022-06-03T23:47:31.943080",
     "exception": false,
     "start_time": "2022-06-03T23:47:31.931174",
     "status": "completed"
    },
    "tags": []
   },
   "source": [
    "Image labelling"
   ]
  },
  {
   "cell_type": "code",
   "execution_count": 7,
   "id": "98ff4bbe",
   "metadata": {
    "execution": {
     "iopub.execute_input": "2022-06-03T23:47:31.969691Z",
     "iopub.status.busy": "2022-06-03T23:47:31.968900Z",
     "iopub.status.idle": "2022-06-03T23:47:31.974180Z",
     "shell.execute_reply": "2022-06-03T23:47:31.973426Z"
    },
    "papermill": {
     "duration": 0.020936,
     "end_time": "2022-06-03T23:47:31.976612",
     "exception": false,
     "start_time": "2022-06-03T23:47:31.955676",
     "status": "completed"
    },
    "tags": []
   },
   "outputs": [],
   "source": [
    "train_data=X_train\n",
    "train_label=y_train\n",
    "\n",
    "test_data=X_test\n",
    "test_label=y_test\n",
    "\n",
    "val_data=X_val\n",
    "val_label=y_val"
   ]
  },
  {
   "cell_type": "markdown",
   "id": "0cf6933c",
   "metadata": {
    "papermill": {
     "duration": 0.012013,
     "end_time": "2022-06-03T23:47:32.000463",
     "exception": false,
     "start_time": "2022-06-03T23:47:31.988450",
     "status": "completed"
    },
    "tags": []
   },
   "source": []
  },
  {
   "cell_type": "markdown",
   "id": "b93d0c3c",
   "metadata": {
    "papermill": {
     "duration": 0.011992,
     "end_time": "2022-06-03T23:47:32.024339",
     "exception": false,
     "start_time": "2022-06-03T23:47:32.012347",
     "status": "completed"
    },
    "tags": []
   },
   "source": [
    "#import image"
   ]
  },
  {
   "cell_type": "code",
   "execution_count": null,
   "id": "286dd21f",
   "metadata": {
    "papermill": {
     "duration": 0.012073,
     "end_time": "2022-06-03T23:47:32.048314",
     "exception": false,
     "start_time": "2022-06-03T23:47:32.036241",
     "status": "completed"
    },
    "tags": []
   },
   "outputs": [],
   "source": []
  },
  {
   "cell_type": "code",
   "execution_count": null,
   "id": "62340a1d",
   "metadata": {
    "papermill": {
     "duration": 0.011738,
     "end_time": "2022-06-03T23:47:32.072439",
     "exception": false,
     "start_time": "2022-06-03T23:47:32.060701",
     "status": "completed"
    },
    "tags": []
   },
   "outputs": [],
   "source": []
  },
  {
   "cell_type": "code",
   "execution_count": 8,
   "id": "eb8ebe50",
   "metadata": {
    "execution": {
     "iopub.execute_input": "2022-06-03T23:47:32.098348Z",
     "iopub.status.busy": "2022-06-03T23:47:32.097787Z",
     "iopub.status.idle": "2022-06-03T23:47:33.970908Z",
     "shell.execute_reply": "2022-06-03T23:47:33.969407Z"
    },
    "papermill": {
     "duration": 1.890451,
     "end_time": "2022-06-03T23:47:33.975103",
     "exception": false,
     "start_time": "2022-06-03T23:47:32.084652",
     "status": "completed"
    },
    "tags": []
   },
   "outputs": [],
   "source": [
    "from keras.preprocessing.image import ImageDataGenerator\n",
    "from keras.callbacks import ModelCheckpoint\n",
    "from keras.models import load_model\n",
    "from keras.callbacks import *\n",
    "\n",
    "\n",
    "#train_datagen2 = ImageDataGenerator(rescale = 1/255)\n",
    "\n",
    "train_datagen = ImageDataGenerator(rescale = 1.0/255,\n",
    "                                  width_shift_range = 0.1,\n",
    "                                  height_shift_range = 0.1,\n",
    "                                  fill_mode = 'constant',\n",
    "                                  zoom_range = 0.1,\n",
    "                                  rotation_range = 20)\n",
    "\n",
    "val_datagen = ImageDataGenerator(rescale = 1.0/255)\n",
    "val2_datagen = ImageDataGenerator(rescale = 1.0/255)\n",
    "\n",
    "train_generator = train_datagen.flow(train_data,\n",
    "                                     train_label, \n",
    "                                     #batch_size = 16, \n",
    "                                     #shuffle = False\n",
    "                                    )\n",
    "\n",
    "val_generator = val_datagen.flow(test_data,\n",
    "                                 test_label,\n",
    "                                 #batch_size = 16,\n",
    "                                 #shuffle = False\n",
    "                                )\n",
    "val2_generator = val_datagen.flow(val_data,\n",
    "                                 val_label,\n",
    "                                 #batch_size = 16,\n",
    "                                 #shuffle = False\n",
    "                                 )"
   ]
  },
  {
   "cell_type": "markdown",
   "id": "ddf2905b",
   "metadata": {
    "papermill": {
     "duration": 0.015636,
     "end_time": "2022-06-03T23:47:34.003692",
     "exception": false,
     "start_time": "2022-06-03T23:47:33.988056",
     "status": "completed"
    },
    "tags": []
   },
   "source": [
    "# Model configure"
   ]
  },
  {
   "cell_type": "code",
   "execution_count": 9,
   "id": "67f23df2",
   "metadata": {
    "execution": {
     "iopub.execute_input": "2022-06-03T23:47:34.040301Z",
     "iopub.status.busy": "2022-06-03T23:47:34.039296Z",
     "iopub.status.idle": "2022-06-03T23:47:34.480379Z",
     "shell.execute_reply": "2022-06-03T23:47:34.479365Z"
    },
    "papermill": {
     "duration": 0.463055,
     "end_time": "2022-06-03T23:47:34.483681",
     "exception": false,
     "start_time": "2022-06-03T23:47:34.020626",
     "status": "completed"
    },
    "tags": []
   },
   "outputs": [
    {
     "name": "stderr",
     "output_type": "stream",
     "text": [
      "2022-06-03 23:47:34.187039: I tensorflow/core/common_runtime/process_util.cc:146] Creating new thread pool with default inter op setting: 2. Tune using inter_op_parallelism_threads for best performance.\n"
     ]
    },
    {
     "name": "stdout",
     "output_type": "stream",
     "text": [
      "Model: \"sequential\"\n",
      "_________________________________________________________________\n",
      "Layer (type)                 Output Shape              Param #   \n",
      "=================================================================\n",
      "conv2d (Conv2D)              (None, 48, 48, 32)        896       \n",
      "_________________________________________________________________\n",
      "conv2d_1 (Conv2D)            (None, 46, 46, 32)        9248      \n",
      "_________________________________________________________________\n",
      "conv2d_2 (Conv2D)            (None, 44, 44, 32)        9248      \n",
      "_________________________________________________________________\n",
      "max_pooling2d (MaxPooling2D) (None, 22, 22, 32)        0         \n",
      "_________________________________________________________________\n",
      "dropout (Dropout)            (None, 22, 22, 32)        0         \n",
      "_________________________________________________________________\n",
      "conv2d_3 (Conv2D)            (None, 20, 20, 64)        18496     \n",
      "_________________________________________________________________\n",
      "conv2d_4 (Conv2D)            (None, 18, 18, 64)        36928     \n",
      "_________________________________________________________________\n",
      "conv2d_5 (Conv2D)            (None, 16, 16, 64)        36928     \n",
      "_________________________________________________________________\n",
      "max_pooling2d_1 (MaxPooling2 (None, 8, 8, 64)          0         \n",
      "_________________________________________________________________\n",
      "dropout_1 (Dropout)          (None, 8, 8, 64)          0         \n",
      "_________________________________________________________________\n",
      "conv2d_6 (Conv2D)            (None, 6, 6, 128)         73856     \n",
      "_________________________________________________________________\n",
      "conv2d_7 (Conv2D)            (None, 4, 4, 128)         147584    \n",
      "_________________________________________________________________\n",
      "conv2d_8 (Conv2D)            (None, 2, 2, 128)         147584    \n",
      "_________________________________________________________________\n",
      "max_pooling2d_2 (MaxPooling2 (None, 1, 1, 128)         0         \n",
      "_________________________________________________________________\n",
      "dropout_2 (Dropout)          (None, 1, 1, 128)         0         \n",
      "_________________________________________________________________\n",
      "flatten (Flatten)            (None, 128)               0         \n",
      "_________________________________________________________________\n",
      "dense (Dense)                (None, 256)               33024     \n",
      "_________________________________________________________________\n",
      "dropout_3 (Dropout)          (None, 256)               0         \n",
      "_________________________________________________________________\n",
      "dense_1 (Dense)              (None, 2)                 514       \n",
      "=================================================================\n",
      "Total params: 514,306\n",
      "Trainable params: 514,306\n",
      "Non-trainable params: 0\n",
      "_________________________________________________________________\n"
     ]
    }
   ],
   "source": [
    "from keras.models import Sequential\n",
    "\n",
    "\n",
    "kernel_size = (3,3)\n",
    "pool_size= (2,2)\n",
    "first_filters = 32\n",
    "second_filters = 64\n",
    "third_filters = 128\n",
    "\n",
    "dropout_conv = 0.3\n",
    "dropout_dense = 0.3\n",
    "\n",
    "RESNET50_POOLING_AVERAGE = 'avg'\n",
    "DENSE_LAYER_ACTIVATION = 'sigmoid'\n",
    "OBJECTIVE_FUNCTION = 'categorical_crossentropy'\n",
    "\n",
    "# Common accuracy metric for all outputs, but can use different metrics for different output\n",
    "LOSS_METRICS = ['accuracy']\n",
    "\n",
    "# EARLY_STOP_PATIENCE must be < NUM_EPOCHS\n",
    "NUM_EPOCHS = 30\n",
    "EARLY_STOP_PATIENCE = 10\n",
    "#resnet_weights_path = '../input/resnet50/resnet50_weights_tf_dim_ordering_tf_kernels_notop.h5'\n",
    "\n",
    "\n",
    "# fix pretrained layers for deep fea\n",
    "RESNET50_POOLING_AVERAGE = 'avg'\n",
    "DENSE_LAYER_ACTIVATION = 'sigmoid'\n",
    "OBJECTIVE_FUNCTION = 'categorical_crossentropy'\n",
    "\n",
    "# Common accuracy metric for all outputs, but can use different metrics for different output\n",
    "LOSS_METRICS = ['accuracy']\n",
    "\n",
    "#from keras.applications import resnet\n",
    "#base_model=resnet.ResNet50(include_top = True, input_shape=(img_size, img_size, 3), pooling = RESNET50_POOLING_AVERAGE, weights = 'imagenet')\n",
    "#from tensorflow.keras.applications.mobilenet import MobileNet\n",
    "#base_model.trainable = True\n",
    "#model=Sequential()\n",
    "\n",
    "\n",
    "\n",
    "model = Sequential()\n",
    "model.add(Conv2D(first_filters, kernel_size, activation = 'relu', \n",
    "                 input_shape = (img_size, img_size, 3)))\n",
    "model.add(Conv2D(first_filters, kernel_size, activation = 'relu'))\n",
    "model.add(Conv2D(first_filters, kernel_size, activation = 'relu'))\n",
    "model.add(MaxPooling2D(pool_size = pool_size)) \n",
    "model.add(Dropout(dropout_conv))\n",
    "\n",
    "model.add(Conv2D(second_filters, kernel_size, activation ='relu'))\n",
    "model.add(Conv2D(second_filters, kernel_size, activation ='relu'))\n",
    "model.add(Conv2D(second_filters, kernel_size, activation ='relu'))\n",
    "model.add(MaxPooling2D(pool_size = pool_size))\n",
    "model.add(Dropout(dropout_conv))\n",
    "\n",
    "model.add(Conv2D(third_filters, kernel_size, activation ='relu'))\n",
    "model.add(Conv2D(third_filters, kernel_size, activation ='relu'))\n",
    "model.add(Conv2D(third_filters, kernel_size, activation ='relu'))\n",
    "model.add(MaxPooling2D(pool_size = pool_size))\n",
    "model.add(Dropout(dropout_conv))\n",
    "\n",
    "model.add(Flatten())\n",
    "model.add(Dense(256, activation = \"relu\"))\n",
    "model.add(Dropout(dropout_dense))\n",
    "model.add(Dense(2, activation = \"softmax\"))\n",
    "\n",
    "model.summary()\n",
    "\n"
   ]
  },
  {
   "cell_type": "code",
   "execution_count": 10,
   "id": "99c17f1a",
   "metadata": {
    "execution": {
     "iopub.execute_input": "2022-06-03T23:47:34.510254Z",
     "iopub.status.busy": "2022-06-03T23:47:34.509423Z",
     "iopub.status.idle": "2022-06-03T23:47:36.207352Z",
     "shell.execute_reply": "2022-06-03T23:47:36.205947Z"
    },
    "papermill": {
     "duration": 1.714199,
     "end_time": "2022-06-03T23:47:36.210224",
     "exception": false,
     "start_time": "2022-06-03T23:47:34.496025",
     "status": "completed"
    },
    "tags": []
   },
   "outputs": [
    {
     "data": {
      "image/png": "[encoded data removed]",
      "text/plain": [
       "<IPython.core.display.Image object>"
      ]
     },
     "execution_count": 10,
     "metadata": {},
     "output_type": "execute_result"
    }
   ],
   "source": [
    "from tensorflow.keras.utils import plot_model\n",
    "from IPython.display import Image\n",
    "plot_model(model, to_file='convnet.png', show_shapes=True, show_layer_names=True)\n",
    "Image(filename='convnet.png') "
   ]
  },
  {
   "cell_type": "code",
   "execution_count": 11,
   "id": "143b29c0",
   "metadata": {
    "execution": {
     "iopub.execute_input": "2022-06-03T23:47:36.245294Z",
     "iopub.status.busy": "2022-06-03T23:47:36.244765Z",
     "iopub.status.idle": "2022-06-03T23:47:36.250472Z",
     "shell.execute_reply": "2022-06-03T23:47:36.249411Z"
    },
    "papermill": {
     "duration": 0.026484,
     "end_time": "2022-06-03T23:47:36.252648",
     "exception": false,
     "start_time": "2022-06-03T23:47:36.226164",
     "status": "completed"
    },
    "tags": []
   },
   "outputs": [],
   "source": [
    "# os.makedirs('../working/log/')\n",
    "MODEL_INIT = '../working/init_model.h5'\n",
    "MODEL_PATH = '../working/test_model.h5'"
   ]
  },
  {
   "cell_type": "code",
   "execution_count": 12,
   "id": "65734d9f",
   "metadata": {
    "execution": {
     "iopub.execute_input": "2022-06-03T23:47:36.284552Z",
     "iopub.status.busy": "2022-06-03T23:47:36.283396Z",
     "iopub.status.idle": "2022-06-03T23:47:36.304471Z",
     "shell.execute_reply": "2022-06-03T23:47:36.303585Z"
    },
    "papermill": {
     "duration": 0.039457,
     "end_time": "2022-06-03T23:47:36.306938",
     "exception": false,
     "start_time": "2022-06-03T23:47:36.267481",
     "status": "completed"
    },
    "tags": []
   },
   "outputs": [],
   "source": [
    "callbacks1 = [EarlyStopping(monitor='val_acc', patience=5, verbose=1), ModelCheckpoint(MODEL_INIT, monitor='val_accuracy', save_best_only=True)]\n",
    "opt = Adam(learning_rate=0.0001)\n",
    "model.compile(loss='categorical_crossentropy', optimizer=opt, metrics=['accuracy'])"
   ]
  },
  {
   "cell_type": "code",
   "execution_count": 13,
   "id": "551ec127",
   "metadata": {
    "execution": {
     "iopub.execute_input": "2022-06-03T23:47:36.342190Z",
     "iopub.status.busy": "2022-06-03T23:47:36.341733Z",
     "iopub.status.idle": "2022-06-04T05:52:10.804465Z",
     "shell.execute_reply": "2022-06-04T05:52:10.801355Z"
    },
    "papermill": {
     "duration": 21874.485968,
     "end_time": "2022-06-04T05:52:10.808595",
     "exception": false,
     "start_time": "2022-06-03T23:47:36.322627",
     "status": "completed"
    },
    "tags": []
   },
   "outputs": [
    {
     "name": "stdout",
     "output_type": "stream",
     "text": [
      "CPU times: user 4 µs, sys: 4 µs, total: 8 µs\n",
      "Wall time: 17.2 µs\n"
     ]
    },
    {
     "name": "stderr",
     "output_type": "stream",
     "text": [
      "2022-06-03 23:47:36.552039: I tensorflow/compiler/mlir/mlir_graph_optimization_pass.cc:185] None of the MLIR Optimization Passes are enabled (registered 2)\n"
     ]
    },
    {
     "name": "stdout",
     "output_type": "stream",
     "text": [
      "Epoch 1/30\n",
      "3447/3447 [==============================] - 697s 202ms/step - loss: 0.4863 - accuracy: 0.7727 - val_loss: 0.4742 - val_accuracy: 0.7844\n",
      "Epoch 2/30\n",
      "3447/3447 [==============================] - 708s 205ms/step - loss: 0.4256 - accuracy: 0.8141 - val_loss: 0.4421 - val_accuracy: 0.7957\n",
      "Epoch 3/30\n",
      "3447/3447 [==============================] - 701s 203ms/step - loss: 0.4020 - accuracy: 0.8266 - val_loss: 0.4150 - val_accuracy: 0.8132\n",
      "Epoch 4/30\n",
      "3447/3447 [==============================] - 703s 204ms/step - loss: 0.3852 - accuracy: 0.8360 - val_loss: 0.4026 - val_accuracy: 0.8285\n",
      "Epoch 5/30\n",
      "3447/3447 [==============================] - 712s 207ms/step - loss: 0.3770 - accuracy: 0.8407 - val_loss: 0.3912 - val_accuracy: 0.8311\n",
      "Epoch 6/30\n",
      "3447/3447 [==============================] - 714s 207ms/step - loss: 0.3692 - accuracy: 0.8438 - val_loss: 0.3909 - val_accuracy: 0.8301\n",
      "Epoch 7/30\n",
      "3447/3447 [==============================] - 713s 207ms/step - loss: 0.3644 - accuracy: 0.8469 - val_loss: 0.3796 - val_accuracy: 0.8308\n",
      "Epoch 8/30\n",
      "3447/3447 [==============================] - 705s 205ms/step - loss: 0.3579 - accuracy: 0.8502 - val_loss: 0.3894 - val_accuracy: 0.8236\n",
      "Epoch 9/30\n",
      "3447/3447 [==============================] - 703s 204ms/step - loss: 0.3536 - accuracy: 0.8526 - val_loss: 0.3661 - val_accuracy: 0.8397\n",
      "Epoch 10/30\n",
      "3447/3447 [==============================] - 702s 204ms/step - loss: 0.3503 - accuracy: 0.8526 - val_loss: 0.3809 - val_accuracy: 0.8399\n",
      "Epoch 11/30\n",
      "3447/3447 [==============================] - 688s 200ms/step - loss: 0.3453 - accuracy: 0.8554 - val_loss: 0.3443 - val_accuracy: 0.8507\n",
      "Epoch 12/30\n",
      "3447/3447 [==============================] - 691s 201ms/step - loss: 0.3422 - accuracy: 0.8568 - val_loss: 0.3356 - val_accuracy: 0.8611\n",
      "Epoch 13/30\n",
      "3447/3447 [==============================] - 694s 201ms/step - loss: 0.3397 - accuracy: 0.8586 - val_loss: 0.3355 - val_accuracy: 0.8594\n",
      "Epoch 14/30\n",
      "3447/3447 [==============================] - 695s 202ms/step - loss: 0.3359 - accuracy: 0.8597 - val_loss: 0.3482 - val_accuracy: 0.8537\n",
      "Epoch 15/30\n",
      "3447/3447 [==============================] - 697s 202ms/step - loss: 0.3349 - accuracy: 0.8603 - val_loss: 0.3398 - val_accuracy: 0.8559\n",
      "Epoch 16/30\n",
      "3447/3447 [==============================] - 700s 203ms/step - loss: 0.3324 - accuracy: 0.8610 - val_loss: 0.3473 - val_accuracy: 0.8521\n",
      "Epoch 17/30\n",
      "3447/3447 [==============================] - 698s 203ms/step - loss: 0.3291 - accuracy: 0.8623 - val_loss: 0.3298 - val_accuracy: 0.8634\n",
      "Epoch 18/30\n",
      "3447/3447 [==============================] - 703s 204ms/step - loss: 0.3279 - accuracy: 0.8624 - val_loss: 0.3463 - val_accuracy: 0.8496\n",
      "Epoch 19/30\n",
      "3447/3447 [==============================] - 711s 206ms/step - loss: 0.3257 - accuracy: 0.8647 - val_loss: 0.3293 - val_accuracy: 0.8631\n",
      "Epoch 20/30\n",
      "3447/3447 [==============================] - 715s 207ms/step - loss: 0.3240 - accuracy: 0.8656 - val_loss: 0.3333 - val_accuracy: 0.8600\n",
      "Epoch 21/30\n",
      "3447/3447 [==============================] - 704s 204ms/step - loss: 0.3225 - accuracy: 0.8658 - val_loss: 0.3128 - val_accuracy: 0.8683\n",
      "Epoch 22/30\n",
      "3447/3447 [==============================] - 692s 201ms/step - loss: 0.3209 - accuracy: 0.8658 - val_loss: 0.3161 - val_accuracy: 0.8665\n",
      "Epoch 23/30\n",
      "3447/3447 [==============================] - 701s 203ms/step - loss: 0.3196 - accuracy: 0.8662 - val_loss: 0.3243 - val_accuracy: 0.8615\n",
      "Epoch 24/30\n",
      "3447/3447 [==============================] - 697s 202ms/step - loss: 0.3185 - accuracy: 0.8664 - val_loss: 0.3277 - val_accuracy: 0.8627\n",
      "Epoch 25/30\n",
      "3447/3447 [==============================] - 701s 203ms/step - loss: 0.3169 - accuracy: 0.8687 - val_loss: 0.3290 - val_accuracy: 0.8582\n",
      "Epoch 26/30\n",
      "3447/3447 [==============================] - 693s 201ms/step - loss: 0.3140 - accuracy: 0.8691 - val_loss: 0.3218 - val_accuracy: 0.8643\n",
      "Epoch 27/30\n",
      "3447/3447 [==============================] - 713s 207ms/step - loss: 0.3132 - accuracy: 0.8699 - val_loss: 0.3122 - val_accuracy: 0.8674\n",
      "Epoch 28/30\n",
      "3447/3447 [==============================] - 710s 206ms/step - loss: 0.3108 - accuracy: 0.8710 - val_loss: 0.3092 - val_accuracy: 0.8700\n",
      "Epoch 29/30\n",
      "3447/3447 [==============================] - 706s 205ms/step - loss: 0.3097 - accuracy: 0.8720 - val_loss: 0.3372 - val_accuracy: 0.8495\n",
      "Epoch 30/30\n",
      "3447/3447 [==============================] - 705s 205ms/step - loss: 0.3094 - accuracy: 0.8715 - val_loss: 0.3289 - val_accuracy: 0.8572\n"
     ]
    }
   ],
   "source": [
    "%time\n",
    "#history1=model.fit(X_train, y_train,validation_data=(X_test, y_test),verbose = 1,epochs = 30,callbacks=callbacks1)\n",
    "history1=model.fit_generator(train_generator,validation_data=val_generator,verbose = 1,epochs = epoch_4_test,callbacks=callbacks1)"
   ]
  },
  {
   "cell_type": "code",
   "execution_count": 14,
   "id": "9388fe92",
   "metadata": {
    "execution": {
     "iopub.execute_input": "2022-06-04T05:52:27.230559Z",
     "iopub.status.busy": "2022-06-04T05:52:27.229787Z",
     "iopub.status.idle": "2022-06-04T05:52:27.748527Z",
     "shell.execute_reply": "2022-06-04T05:52:27.747563Z"
    },
    "papermill": {
     "duration": 8.896066,
     "end_time": "2022-06-04T05:52:27.750839",
     "exception": false,
     "start_time": "2022-06-04T05:52:18.854773",
     "status": "completed"
    },
    "tags": []
   },
   "outputs": [
    {
     "data": {
      "image/png": "[encoded data removed]",
      "text/plain": [
       "<Figure size 864x432 with 2 Axes>"
      ]
     },
     "metadata": {
      "needs_background": "light"
     },
     "output_type": "display_data"
    }
   ],
   "source": [
    "import matplotlib.pyplot as plt\n",
    "import seaborn as sns\n",
    "plt.figure(figsize = (12, 6))\n",
    "plt.subplot(121)\n",
    "#plotting the Accuracy of test and training sets\n",
    "plt.plot(history1.history['accuracy'])\n",
    "plt.plot(history1.history['val_accuracy'])\n",
    "plt.title('1st training Model Accuracy')\n",
    "plt.ylabel('accuracy')\n",
    "plt.xlabel('epoch')\n",
    "plt.legend(['train', 'test'], loc='upper left')\n",
    "\n",
    "plt.subplot(122)\n",
    "#plotting the loss of test and training sets\n",
    "plt.plot(history1.history['loss'])\n",
    "plt.plot(history1.history['val_loss'])\n",
    "plt.title('1st training Model Loss')\n",
    "plt.ylabel('loss')\n",
    "plt.xlabel('epoch')\n",
    "plt.legend(['train', 'test'], loc='upper left')\n",
    "plt.show()"
   ]
  },
  {
   "cell_type": "code",
   "execution_count": 15,
   "id": "e80458f5",
   "metadata": {
    "execution": {
     "iopub.execute_input": "2022-06-04T05:52:45.355999Z",
     "iopub.status.busy": "2022-06-04T05:52:45.355527Z",
     "iopub.status.idle": "2022-06-04T05:56:00.477417Z",
     "shell.execute_reply": "2022-06-04T05:56:00.476552Z"
    },
    "papermill": {
     "duration": 203.347859,
     "end_time": "2022-06-04T05:56:00.479732",
     "exception": false,
     "start_time": "2022-06-04T05:52:37.131873",
     "status": "completed"
    },
    "tags": []
   },
   "outputs": [
    {
     "name": "stdout",
     "output_type": "stream",
     "text": [
      "analyse of 1st model\n",
      "VAL kappa\n",
      "0.7339377455424599\n",
      "analyse 1st model\n",
      "report of val data\n",
      "              precision    recall  f1-score   support\n",
      "\n",
      "           0       0.86      0.87      0.87     16545\n",
      "           1       0.87      0.86      0.87     16545\n",
      "\n",
      "    accuracy                           0.87     33090\n",
      "   macro avg       0.87      0.87      0.87     33090\n",
      "weighted avg       0.87      0.87      0.87     33090\n",
      "\n"
     ]
    },
    {
     "data": {
      "image/png": "[encoded data removed]",
      "text/plain": [
       "<Figure size 864x432 with 2 Axes>"
      ]
     },
     "metadata": {
      "needs_background": "light"
     },
     "output_type": "display_data"
    }
   ],
   "source": [
    "import sklearn\n",
    "from sklearn.metrics import f1_score, roc_auc_score, cohen_kappa_score, precision_score, recall_score, accuracy_score, confusion_matrix\n",
    "#---------------\n",
    "from keras.models import load_model\n",
    "\n",
    "model1 = load_model(MODEL_INIT, compile=False)\n",
    "print(\"analyse of 1st model\")\n",
    "\n",
    "\n",
    "cf_matrix_val = confusion_matrix(\n",
    "    np.concatenate([np.argmax(val2_generator[i][1], axis=1) for i in range(len(val2_generator))]),    \n",
    "    np.argmax(model1.predict_generator(val2_generator, steps=len(val2_generator)), axis=1) \n",
    ")\n",
    "\n",
    "plt.figure(figsize = (12, 6))\n",
    "sns.heatmap(cf_matrix_val, annot=True, cmap='Blues')\n",
    "plt.title(\"VAL Confusion matrix\")\n",
    "# kappa VAL\n",
    "kappa_val = cohen_kappa_score(\n",
    "    np.concatenate([np.argmax(val2_generator[i][1], axis=1) for i in range(len(val2_generator))]),    \n",
    "    np.argmax(model1.predict_generator(val2_generator, steps=len(val2_generator)), axis=1) \n",
    ")\n",
    "print(\"VAL kappa\")\n",
    "print(kappa_val)\n",
    "\n",
    "\n",
    "\n",
    "print(\"analyse 1st model\")\n",
    "print(\"report of val data\")\n",
    "report = sklearn.metrics.classification_report(\n",
    "    np.concatenate([np.argmax(val2_generator[i][1], axis=1) for i in range(len(val2_generator))]),    \n",
    "    np.argmax(model1.predict_generator(val2_generator, steps=len(val2_generator)), axis=1) \n",
    ")\n",
    "print(report)"
   ]
  },
  {
   "cell_type": "code",
   "execution_count": 16,
   "id": "432af9fd",
   "metadata": {
    "execution": {
     "iopub.execute_input": "2022-06-04T05:56:16.590673Z",
     "iopub.status.busy": "2022-06-04T05:56:16.589863Z",
     "iopub.status.idle": "2022-06-04T05:57:21.012136Z",
     "shell.execute_reply": "2022-06-04T05:57:21.010834Z"
    },
    "papermill": {
     "duration": 72.628653,
     "end_time": "2022-06-04T05:57:21.014330",
     "exception": false,
     "start_time": "2022-06-04T05:56:08.385677",
     "status": "completed"
    },
    "tags": []
   },
   "outputs": [
    {
     "name": "stdout",
     "output_type": "stream",
     "text": [
      "report of test data\n",
      "              precision    recall  f1-score   support\n",
      "\n",
      "           0       0.87      0.87      0.87      7091\n",
      "           1       0.87      0.87      0.87      7091\n",
      "\n",
      "    accuracy                           0.87     14182\n",
      "   macro avg       0.87      0.87      0.87     14182\n",
      "weighted avg       0.87      0.87      0.87     14182\n",
      "\n",
      "TEST kappa\n",
      "0.7400930757297983\n"
     ]
    },
    {
     "data": {
      "image/png": "[encoded data removed]",
      "text/plain": [
       "<Figure size 864x432 with 2 Axes>"
      ]
     },
     "metadata": {
      "needs_background": "light"
     },
     "output_type": "display_data"
    }
   ],
   "source": [
    "#------------------\n",
    "cf_matrix_test = confusion_matrix(\n",
    "    np.concatenate([np.argmax(val_generator[i][1], axis=1) for i in range(len(val_generator))]),    \n",
    "    np.argmax(model1.predict_generator(val_generator, steps=len(val_generator)), axis=1) \n",
    ")\n",
    "\n",
    "plt.figure(figsize = (12, 6))\n",
    "sns.heatmap(cf_matrix_test, annot=True, cmap='Blues')\n",
    "plt.title(\"Test Confusion matrix\")\n",
    "\n",
    "\n",
    "\n",
    "print(\"report of test data\")\n",
    "import sklearn\n",
    "\n",
    "report = sklearn.metrics.classification_report(\n",
    "    np.concatenate([np.argmax(val_generator[i][1], axis=1) for i in range(len(val_generator))]),    \n",
    "    np.argmax(model1.predict_generator(val_generator, steps=len(val_generator)), axis=1) \n",
    ")\n",
    "print(report)\n",
    "\n",
    "\n",
    "# kappa TEST\n",
    "kappa_test = cohen_kappa_score(\n",
    "    np.concatenate([np.argmax(val_generator[i][1], axis=1) for i in range(len(val_generator))]),    \n",
    "    np.argmax(model1.predict_generator(val_generator, steps=len(val_generator)), axis=1) \n",
    ")\n",
    "print(\"TEST kappa\")\n",
    "print(kappa_test)"
   ]
  },
  {
   "cell_type": "code",
   "execution_count": null,
   "id": "a2508c10",
   "metadata": {
    "papermill": {
     "duration": 8.059446,
     "end_time": "2022-06-04T05:57:37.225879",
     "exception": false,
     "start_time": "2022-06-04T05:57:29.166433",
     "status": "completed"
    },
    "tags": []
   },
   "outputs": [],
   "source": []
  },
  {
   "cell_type": "code",
   "execution_count": 17,
   "id": "435c686b",
   "metadata": {
    "execution": {
     "iopub.execute_input": "2022-06-04T05:57:53.183012Z",
     "iopub.status.busy": "2022-06-04T05:57:53.182604Z",
     "iopub.status.idle": "2022-06-04T05:57:53.186425Z",
     "shell.execute_reply": "2022-06-04T05:57:53.185767Z"
    },
    "papermill": {
     "duration": 8.100454,
     "end_time": "2022-06-04T05:57:53.189421",
     "exception": false,
     "start_time": "2022-06-04T05:57:45.088967",
     "status": "completed"
    },
    "tags": []
   },
   "outputs": [],
   "source": [
    "#opt = Adam(learning_rate=0.00001)\n",
    "#loss='categorical_crossentropy'\n",
    "#model.compile(opt, loss)\n",
    "#model.evaluate(X_val, y_val)"
   ]
  },
  {
   "cell_type": "code",
   "execution_count": 18,
   "id": "d76ad37f",
   "metadata": {
    "execution": {
     "iopub.execute_input": "2022-06-04T05:58:09.447999Z",
     "iopub.status.busy": "2022-06-04T05:58:09.447573Z",
     "iopub.status.idle": "2022-06-04T05:58:09.452481Z",
     "shell.execute_reply": "2022-06-04T05:58:09.451666Z"
    },
    "papermill": {
     "duration": 7.97334,
     "end_time": "2022-06-04T05:58:09.454375",
     "exception": false,
     "start_time": "2022-06-04T05:58:01.481035",
     "status": "completed"
    },
    "tags": []
   },
   "outputs": [],
   "source": [
    "#model.evaluate(X_test, y_test)"
   ]
  },
  {
   "cell_type": "code",
   "execution_count": null,
   "id": "80d7ebec",
   "metadata": {
    "papermill": {
     "duration": 8.09217,
     "end_time": "2022-06-04T05:58:25.774519",
     "exception": false,
     "start_time": "2022-06-04T05:58:17.682349",
     "status": "completed"
    },
    "tags": []
   },
   "outputs": [],
   "source": []
  },
  {
   "cell_type": "code",
   "execution_count": null,
   "id": "c1f7d7ae",
   "metadata": {
    "papermill": {
     "duration": 7.963873,
     "end_time": "2022-06-04T05:58:41.931685",
     "exception": false,
     "start_time": "2022-06-04T05:58:33.967812",
     "status": "completed"
    },
    "tags": []
   },
   "outputs": [],
   "source": []
  },
  {
   "cell_type": "markdown",
   "id": "75cc9612",
   "metadata": {
    "papermill": {
     "duration": 7.930442,
     "end_time": "2022-06-04T05:58:58.070878",
     "exception": false,
     "start_time": "2022-06-04T05:58:50.140436",
     "status": "completed"
    },
    "tags": []
   },
   "source": []
  },
  {
   "cell_type": "code",
   "execution_count": null,
   "id": "c6577e99",
   "metadata": {
    "papermill": {
     "duration": 8.114748,
     "end_time": "2022-06-04T05:59:14.509784",
     "exception": false,
     "start_time": "2022-06-04T05:59:06.395036",
     "status": "completed"
    },
    "tags": []
   },
   "outputs": [],
   "source": []
  },
  {
   "cell_type": "code",
   "execution_count": null,
   "id": "6686842c",
   "metadata": {
    "papermill": {
     "duration": 8.123893,
     "end_time": "2022-06-04T05:59:30.547111",
     "exception": false,
     "start_time": "2022-06-04T05:59:22.423218",
     "status": "completed"
    },
    "tags": []
   },
   "outputs": [],
   "source": []
  },
  {
   "cell_type": "code",
   "execution_count": null,
   "id": "a16dbf5a",
   "metadata": {
    "papermill": {
     "duration": 8.178323,
     "end_time": "2022-06-04T05:59:46.751711",
     "exception": false,
     "start_time": "2022-06-04T05:59:38.573388",
     "status": "completed"
    },
    "tags": []
   },
   "outputs": [],
   "source": []
  },
  {
   "cell_type": "markdown",
   "id": "ef5ddc1b",
   "metadata": {
    "papermill": {
     "duration": 8.381289,
     "end_time": "2022-06-04T06:00:02.973160",
     "exception": false,
     "start_time": "2022-06-04T05:59:54.591871",
     "status": "completed"
    },
    "tags": []
   },
   "source": [
    "# Second Training Fine Tune"
   ]
  },
  {
   "cell_type": "markdown",
   "id": "8048305c",
   "metadata": {
    "execution": {
     "iopub.execute_input": "2022-06-03T23:27:17.226760Z",
     "iopub.status.busy": "2022-06-03T23:27:17.225925Z",
     "iopub.status.idle": "2022-06-03T23:27:17.261756Z",
     "shell.execute_reply": "2022-06-03T23:27:17.260792Z",
     "shell.execute_reply.started": "2022-06-03T23:27:17.226720Z"
    },
    "papermill": {
     "duration": 8.137142,
     "end_time": "2022-06-04T06:00:19.106972",
     "exception": false,
     "start_time": "2022-06-04T06:00:10.969830",
     "status": "completed"
    },
    "tags": []
   },
   "source": [
    "model.load_weights(MODEL_INIT)\n",
    "for model_ly in model.layers:\n",
    "    model_ly.trainable = True"
   ]
  },
  {
   "cell_type": "markdown",
   "id": "7d8711dc",
   "metadata": {
    "execution": {
     "iopub.execute_input": "2022-06-03T23:27:17.264461Z",
     "iopub.status.busy": "2022-06-03T23:27:17.263307Z",
     "iopub.status.idle": "2022-06-03T23:27:17.271101Z",
     "shell.execute_reply": "2022-06-03T23:27:17.269841Z",
     "shell.execute_reply.started": "2022-06-03T23:27:17.264420Z"
    },
    "papermill": {
     "duration": 8.972894,
     "end_time": "2022-06-04T06:00:35.990375",
     "exception": false,
     "start_time": "2022-06-04T06:00:27.017481",
     "status": "completed"
    },
    "tags": []
   },
   "source": [
    "callbacks2 = [EarlyStopping(monitor='val_acc', patience=5, verbose=1), \n",
    "              ModelCheckpoint(MODEL_PATH, monitor='val_accuracy', save_best_only=True)]\n",
    "opt = Adam(learning_rate=0.00001)\n",
    "#model.compile(loss='categorical_crossentropy', optimizer=opt, metrics=['accuracy'])"
   ]
  },
  {
   "cell_type": "markdown",
   "id": "d3ecbb09",
   "metadata": {
    "execution": {
     "iopub.execute_input": "2022-06-03T23:27:17.273147Z",
     "iopub.status.busy": "2022-06-03T23:27:17.272380Z",
     "iopub.status.idle": "2022-06-03T23:27:17.285806Z",
     "shell.execute_reply": "2022-06-03T23:27:17.284602Z",
     "shell.execute_reply.started": "2022-06-03T23:27:17.273112Z"
    },
    "papermill": {
     "duration": 8.015727,
     "end_time": "2022-06-04T06:00:52.262046",
     "exception": false,
     "start_time": "2022-06-04T06:00:44.246319",
     "status": "completed"
    },
    "tags": []
   },
   "source": [
    "# model.load_weights(\"model.hdf5\")\n",
    "#history2 = model.fit(X_train, y_train,validation_data=(X_test, y_test),verbose = 1,epochs = 30, callbacks=callbacks2)"
   ]
  },
  {
   "cell_type": "markdown",
   "id": "45d318c1",
   "metadata": {
    "execution": {
     "iopub.execute_input": "2022-06-03T23:27:17.288400Z",
     "iopub.status.busy": "2022-06-03T23:27:17.287804Z",
     "iopub.status.idle": "2022-06-03T23:27:26.604297Z",
     "shell.execute_reply": "2022-06-03T23:27:26.603510Z",
     "shell.execute_reply.started": "2022-06-03T23:27:17.288350Z"
    },
    "papermill": {
     "duration": 8.084108,
     "end_time": "2022-06-04T06:01:08.488334",
     "exception": false,
     "start_time": "2022-06-04T06:01:00.404226",
     "status": "completed"
    },
    "tags": []
   },
   "source": [
    "# model.load_weights(\"model.hdf5\")\n",
    "#history2 = model.fit(X_train, y_train,validation_data=(X_test, y_test),verbose = 1,epochs = 15, callbacks=callbacks2)\n",
    "history2=model.fit_generator(train_generator,validation_data=val_generator,verbose = 1,epochs = epoch_4_test,callbacks=callbacks2)"
   ]
  },
  {
   "cell_type": "markdown",
   "id": "bb6320c6",
   "metadata": {
    "execution": {
     "iopub.execute_input": "2022-06-03T23:27:26.606228Z",
     "iopub.status.busy": "2022-06-03T23:27:26.605687Z",
     "iopub.status.idle": "2022-06-03T23:27:26.877721Z",
     "shell.execute_reply": "2022-06-03T23:27:26.876530Z",
     "shell.execute_reply.started": "2022-06-03T23:27:26.606195Z"
    },
    "papermill": {
     "duration": 7.925731,
     "end_time": "2022-06-04T06:01:24.685076",
     "exception": false,
     "start_time": "2022-06-04T06:01:16.759345",
     "status": "completed"
    },
    "tags": []
   },
   "source": [
    "import matplotlib.pyplot as plt\n",
    "import seaborn as sns\n",
    "plt.figure(figsize = (12, 6))\n",
    "plt.subplot(121)\n",
    "#plotting the Accuracy of test and training sets\n",
    "plt.plot(history2.history['accuracy'])\n",
    "plt.plot(history2.history['val_accuracy'])\n",
    "plt.title('2nd training Model Accuracy')\n",
    "plt.ylabel('accuracy')\n",
    "plt.xlabel('epoch')\n",
    "plt.legend(['train', 'test'], loc='upper left')\n",
    "\n",
    "plt.subplot(122)\n",
    "#plotting the loss of test and training sets\n",
    "plt.plot(history2.history['loss'])\n",
    "plt.plot(history2.history['val_loss'])\n",
    "plt.title('2nd training Model Loss')\n",
    "plt.ylabel('loss')\n",
    "plt.xlabel('epoch')\n",
    "plt.legend(['train', 'test'], loc='upper left')\n",
    "plt.show()"
   ]
  },
  {
   "cell_type": "markdown",
   "id": "ec83ab0b",
   "metadata": {
    "execution": {
     "iopub.execute_input": "2022-06-03T23:27:26.880585Z",
     "iopub.status.busy": "2022-06-03T23:27:26.879459Z",
     "iopub.status.idle": "2022-06-03T23:27:29.499542Z",
     "shell.execute_reply": "2022-06-03T23:27:29.498328Z",
     "shell.execute_reply.started": "2022-06-03T23:27:26.880529Z"
    },
    "papermill": {
     "duration": 8.133108,
     "end_time": "2022-06-04T06:01:40.892357",
     "exception": false,
     "start_time": "2022-06-04T06:01:32.759249",
     "status": "completed"
    },
    "tags": []
   },
   "source": [
    "import sklearn\n",
    "from sklearn.metrics import f1_score, roc_auc_score, cohen_kappa_score, precision_score, recall_score, accuracy_score, confusion_matrix\n",
    "# model是最新版本的mode（stage 2）\n",
    "# 混淆矩阵\n",
    "from keras.models import load_model\n",
    "\n",
    "model2 = load_model(MODEL_PATH, compile=False)\n",
    "print(\"analyse of final model\")\n",
    "\n",
    "\n",
    "cf_matrix_val = confusion_matrix(\n",
    "    np.concatenate([np.argmax(val2_generator[i][1], axis=1) for i in range(len(val2_generator))]),    \n",
    "    np.argmax(model2.predict_generator(val2_generator, steps=len(val2_generator)), axis=1) \n",
    ")\n",
    "\n",
    "plt.figure(figsize = (12, 6))\n",
    "sns.heatmap(cf_matrix_val, annot=True, cmap='Blues')\n",
    "plt.title(\"VAL Confusion matrix\")\n",
    "# kappa VAL\n",
    "kappa_val = cohen_kappa_score(\n",
    "    np.concatenate([np.argmax(val2_generator[i][1], axis=1) for i in range(len(val2_generator))]),    \n",
    "    np.argmax(model2.predict_generator(val2_generator, steps=len(val2_generator)), axis=1) \n",
    ")\n",
    "print(\"VAL kappa\")\n",
    "print(kappa_val)\n",
    "\n",
    "\n",
    "\n",
    "print(\"analyse 1st model\")\n",
    "print(\"report of val data\")\n",
    "report = sklearn.metrics.classification_report(\n",
    "    np.concatenate([np.argmax(val2_generator[i][1], axis=1) for i in range(len(val2_generator))]),    \n",
    "    np.argmax(model2.predict_generator(val2_generator, steps=len(val2_generator)), axis=1) \n",
    ")\n",
    "print(report)"
   ]
  },
  {
   "cell_type": "markdown",
   "id": "60826cc1",
   "metadata": {
    "execution": {
     "iopub.execute_input": "2022-06-03T23:27:29.502165Z",
     "iopub.status.busy": "2022-06-03T23:27:29.501602Z",
     "iopub.status.idle": "2022-06-03T23:27:30.853738Z",
     "shell.execute_reply": "2022-06-03T23:27:30.852725Z",
     "shell.execute_reply.started": "2022-06-03T23:27:29.502116Z"
    },
    "papermill": {
     "duration": 7.913733,
     "end_time": "2022-06-04T06:01:56.943250",
     "exception": false,
     "start_time": "2022-06-04T06:01:49.029517",
     "status": "completed"
    },
    "tags": []
   },
   "source": [
    "cf_matrix_test = confusion_matrix(\n",
    "    np.concatenate([np.argmax(val_generator[i][1], axis=1) for i in range(len(val_generator))]),    \n",
    "    np.argmax(model2.predict_generator(val_generator, steps=len(val_generator)), axis=1) \n",
    ")\n",
    "\n",
    "plt.figure(figsize = (12, 6))\n",
    "sns.heatmap(cf_matrix_test, annot=True, cmap='Blues')\n",
    "plt.title(\"Test Confusion matrix\")\n",
    "\n",
    "\n",
    "\n",
    "print(\"report of test data\")\n",
    "import sklearn\n",
    "\n",
    "report = sklearn.metrics.classification_report(\n",
    "    np.concatenate([np.argmax(val_generator[i][1], axis=1) for i in range(len(val_generator))]),    \n",
    "    np.argmax(model2.predict_generator(val_generator, steps=len(val_generator)), axis=1) \n",
    ")\n",
    "print(report)\n",
    "\n",
    "\n",
    "# kappa TEST\n",
    "kappa_test = cohen_kappa_score(\n",
    "    np.concatenate([np.argmax(val_generator[i][1], axis=1) for i in range(len(val_generator))]),    \n",
    "    np.argmax(model2.predict_generator(val_generator, steps=len(val_generator)), axis=1) \n",
    ")\n",
    "print(\"TEST kappa\")\n",
    "print(kappa_test)"
   ]
  }
 ],
 "metadata": {
  "kernelspec": {
   "display_name": "Python 3",
   "language": "python",
   "name": "python3"
  },
  "language_info": {
   "codemirror_mode": {
    "name": "ipython",
    "version": 3
   },
   "file_extension": ".py",
   "mimetype": "text/x-python",
   "name": "python",
   "nbconvert_exporter": "python",
   "pygments_lexer": "ipython3",
   "version": "3.7.12"
  },
  "papermill": {
   "default_parameters": {},
   "duration": 23296.441825,
   "end_time": "2022-06-04T06:02:08.030250",
   "environment_variables": {},
   "exception": null,
   "input_path": "__notebook__.ipynb",
   "output_path": "__notebook__.ipynb",
   "parameters": {},
   "start_time": "2022-06-03T23:33:51.588425",
   "version": "2.3.4"
  }
 },
 "nbformat": 4,
 "nbformat_minor": 5
}
