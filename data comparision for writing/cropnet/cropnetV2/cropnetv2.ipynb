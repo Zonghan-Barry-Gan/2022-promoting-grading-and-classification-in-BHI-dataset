{
 "cells": [
  {
   "cell_type": "markdown",
   "id": "51e8a98b",
   "metadata": {
    "papermill": {
     "duration": 0.050043,
     "end_time": "2022-05-25T16:31:29.240672",
     "exception": false,
     "start_time": "2022-05-25T16:31:29.190629",
     "status": "completed"
    },
    "tags": []
   },
   "source": [
    "# Run of Cropnet new attention model applying on breast cancer dataset\n",
    "dataset: Breast Histopathology Images. \n",
    "https://www.kaggle.com/datasets/paultimothymooney/breast-histopathology-images?datasetId=7415. \n",
    "Model: A 2nd version of light attention model designed for crop disease identification. \n",
    "from paper: \n",
    "Automatic identification of commodity label images using lightweight attention network, \n",
    "from Group of Prof Defu Zhang @ Xiamen University. DOI:doi.org/10.1007/s00521-021-06081-9"
   ]
  },
  {
   "cell_type": "code",
   "execution_count": 1,
   "id": "8152943d",
   "metadata": {
    "execution": {
     "iopub.execute_input": "2022-05-25T16:31:29.338645Z",
     "iopub.status.busy": "2022-05-25T16:31:29.337723Z",
     "iopub.status.idle": "2022-05-25T16:31:29.348562Z",
     "shell.execute_reply": "2022-05-25T16:31:29.348022Z"
    },
    "papermill": {
     "duration": 0.061586,
     "end_time": "2022-05-25T16:31:29.350434",
     "exception": false,
     "start_time": "2022-05-25T16:31:29.288848",
     "status": "completed"
    },
    "tags": []
   },
   "outputs": [],
   "source": [
    "##在kaggle中建立工作目录\n",
    "import os\n",
    "os.makedirs('../working/data/train_seg/idc-minus/')     \n",
    "os.makedirs('../working/data/train_seg/idc-plus/')  \n",
    "os.makedirs('../working/data/test_seg/idc-minus/')     \n",
    "os.makedirs('../working/data/test_seg/idc-plus/')  \n",
    "os.makedirs('../working/data/val_seg/idc-minus/')     \n",
    "os.makedirs('../working/data/val_seg/idc-plus/')  \n"
   ]
  },
  {
   "cell_type": "code",
   "execution_count": 2,
   "id": "a5463b0b",
   "metadata": {
    "execution": {
     "iopub.execute_input": "2022-05-25T16:31:29.439710Z",
     "iopub.status.busy": "2022-05-25T16:31:29.439113Z",
     "iopub.status.idle": "2022-05-25T16:31:29.443467Z",
     "shell.execute_reply": "2022-05-25T16:31:29.442862Z"
    },
    "papermill": {
     "duration": 0.0507,
     "end_time": "2022-05-25T16:31:29.445201",
     "exception": false,
     "start_time": "2022-05-25T16:31:29.394501",
     "status": "completed"
    },
    "tags": []
   },
   "outputs": [],
   "source": [
    "##全局变量声明\n",
    "sampling_seed = 0\n",
    "size_4_training = 1000\n",
    "img_x = 224\n",
    "batch_size = 32\n",
    "epochs = 100\n",
    "n_of_classes=2\n",
    "#training_reshape=(-1, img_size, img_size, 3)"
   ]
  },
  {
   "cell_type": "code",
   "execution_count": 3,
   "id": "07f5d9ec",
   "metadata": {
    "execution": {
     "iopub.execute_input": "2022-05-25T16:31:29.534814Z",
     "iopub.status.busy": "2022-05-25T16:31:29.534308Z",
     "iopub.status.idle": "2022-05-25T16:36:36.678410Z",
     "shell.execute_reply": "2022-05-25T16:36:36.677682Z"
    },
    "papermill": {
     "duration": 307.190973,
     "end_time": "2022-05-25T16:36:36.680704",
     "exception": false,
     "start_time": "2022-05-25T16:31:29.489731",
     "status": "completed"
    },
    "tags": []
   },
   "outputs": [
    {
     "name": "stdout",
     "output_type": "stream",
     "text": [
      "['../input/breast-histopathology-images/IDC_regular_ps50_idx5/10295/0/10295_idx5_x1351_y1101_class0.png', '../input/breast-histopathology-images/IDC_regular_ps50_idx5/10295/0/10295_idx5_x1501_y501_class0.png', '../input/breast-histopathology-images/IDC_regular_ps50_idx5/10295/0/10295_idx5_x1501_y1101_class0.png', '../input/breast-histopathology-images/IDC_regular_ps50_idx5/10295/0/10295_idx5_x451_y901_class0.png', '../input/breast-histopathology-images/IDC_regular_ps50_idx5/10295/0/10295_idx5_x801_y451_class0.png', '../input/breast-histopathology-images/IDC_regular_ps50_idx5/10295/0/10295_idx5_x151_y1051_class0.png', '../input/breast-histopathology-images/IDC_regular_ps50_idx5/10295/0/10295_idx5_x1351_y901_class0.png', '../input/breast-histopathology-images/IDC_regular_ps50_idx5/10295/0/10295_idx5_x701_y651_class0.png', '../input/breast-histopathology-images/IDC_regular_ps50_idx5/10295/0/10295_idx5_x951_y1401_class0.png', '../input/breast-histopathology-images/IDC_regular_ps50_idx5/10295/0/10295_idx5_x601_y501_class0.png']\n",
      "700\n",
      "90\n",
      "210\n",
      "700\n",
      "90\n",
      "210\n"
     ]
    }
   ],
   "source": [
    "import numpy as np\n",
    "import random\n",
    "from sklearn.model_selection import train_test_split\n",
    "\n",
    "import shutil\n",
    "from glob import glob \n",
    "#make directory for labelling\n",
    "\n",
    "train_dir='../working/data/train_seg/'\n",
    "validation_dir='../working/data/val_seg/' \n",
    "test_dir = '../working/data/test_seg/'  \n",
    "\n",
    "class0 = [] # 0 = idc+\n",
    "class1 = [] # 1 = idc-\n",
    "imagePatches = glob('../input/breast-histopathology-images/IDC_regular_ps50_idx5/**/*.png', recursive=True)\n",
    "for filename in imagePatches:\n",
    "    if filename.endswith(\"class0.png\"):\n",
    "         class0.append(filename)\n",
    "    else:\n",
    "        class1.append(filename)\n",
    "\n",
    "print(class0[0:10])\n",
    "\n",
    "#sampling 10000 images from class 0 and class 1 to train the model\n",
    "##从每类文件名列表中抽样\n",
    "random.seed(sampling_seed)\n",
    "class0sample=random.sample(class0,size_4_training)\n",
    "class0label=np.zeros(size_4_training)\n",
    "class1sample=random.sample(class1,size_4_training)\n",
    "class1label=np.ones(size_4_training)\n",
    "##从每类样本列表中分割train-val-test\n",
    "class0sample_train, class0sample_test1, class0label_train, class0label_test1 = train_test_split(class0sample, class0label, test_size=0.3, random_state=42)\n",
    "class0sample_val,class0sample_test, class0label_val,  class0label_test = train_test_split(class0sample_test1, class0label_test1, test_size=0.3, random_state=42)\n",
    "print(len(class0sample_train))\n",
    "print(len(class0sample_test))\n",
    "print(len(class0sample_val))\n",
    "class1sample_train, class1sample_test1, class1label_train, class1label_test1 = train_test_split(class1sample, class1label, test_size=0.3, random_state=42)\n",
    "class1sample_val,class1sample_test, class1label_val ,  class1label_test= train_test_split(class1sample_test1, class1label_test1, test_size=0.3, random_state=42)\n",
    "print(len(class1sample_train))\n",
    "print(len(class1sample_test))\n",
    "print(len(class1sample_val))\n",
    "##函数功能：将之前文件列表中的文件复制到指定工作目录中\n",
    "def read_and_save_data(path, file_name_array):\n",
    "    j=0\n",
    "    for i in file_name_array:\n",
    "        if i.endswith('.png'):\n",
    "          \n",
    "            \n",
    "            #second copy method\n",
    "            head, tail = os.path.split(i)\n",
    "            outputname=str(path+tail)\n",
    "            #outputname=str(path+str(j)+'.png')\n",
    "            # print(outputname)\n",
    "            shutil.copy(i, outputname)\n",
    "   \n",
    "            #print(status2)\n",
    "            \n",
    "            j=j+1\n",
    "            if j==120000:\n",
    "                break\n",
    "            \n",
    "##分别按照每类，train， validation， test保存样本   \n",
    "class0train_path='../working/data/train_seg/idc-minus/'\n",
    "class1train_path='../working/data/train_seg/idc-plus/'\n",
    "class0test_path='../working/data/test_seg/idc-minus/'\n",
    "class1test_path='../working/data/test_seg/idc-plus/'\n",
    "class0val_path='../working/data/val_seg/idc-minus/'\n",
    "class1val_path='../working/data/val_seg/idc-plus/'\n",
    "\n",
    "read_and_save_data(class0train_path,class0sample_train)\n",
    "read_and_save_data(class1train_path,class1sample_train)\n",
    "\n",
    "\n",
    "read_and_save_data(class0test_path,class0sample_test)\n",
    "read_and_save_data(class1test_path,class1sample_test)\n",
    "\n",
    "\n",
    "read_and_save_data(class0val_path,class0sample_val)\n",
    "read_and_save_data(class1val_path,class1sample_val)\n",
    "##print输出包含两类train，valid，test的大小和每次转存的文件用于检查"
   ]
  },
  {
   "cell_type": "code",
   "execution_count": 4,
   "id": "36eebe3f",
   "metadata": {
    "execution": {
     "iopub.execute_input": "2022-05-25T16:36:36.768674Z",
     "iopub.status.busy": "2022-05-25T16:36:36.767845Z",
     "iopub.status.idle": "2022-05-25T16:36:38.240965Z",
     "shell.execute_reply": "2022-05-25T16:36:38.240298Z"
    },
    "papermill": {
     "duration": 1.519477,
     "end_time": "2022-05-25T16:36:38.243131",
     "exception": false,
     "start_time": "2022-05-25T16:36:36.723654",
     "status": "completed"
    },
    "tags": []
   },
   "outputs": [
    {
     "name": "stdout",
     "output_type": "stream",
     "text": [
      "700\n",
      "90\n",
      "210\n",
      "700\n",
      "90\n",
      "210\n"
     ]
    }
   ],
   "source": [
    "# sampling 10000 images from class 0 and class 1 to train the model\n",
    "##从每类文件名列表中抽样\n",
    "random.seed(sampling_seed)\n",
    "class0sample=random.sample(class0,size_4_training)\n",
    "class0label=np.zeros(size_4_training)\n",
    "class1sample=random.sample(class1,size_4_training)\n",
    "class1label=np.ones(size_4_training)\n",
    "##从每类样本列表中分割train-val-test\n",
    "class0sample_train, class0sample_test1, class0label_train, class0label_test1 = train_test_split(class0sample, class0label, test_size=0.3, random_state=42)\n",
    "class0sample_val, class0sample_test, class0label_val,  class0label_test = train_test_split(class0sample_test1, class0label_test1, test_size=0.3, random_state=42)\n",
    "print(len(class0sample_train))\n",
    "print(len(class0sample_test))\n",
    "print(len(class0sample_val))\n",
    "class1sample_train, class1sample_test1, class1label_train, class1label_test1 = train_test_split(class1sample, class1label, test_size=0.3, random_state=42)\n",
    "class1sample_val, class1sample_test, class1label_val,  class1label_test = train_test_split(class1sample_test1, class1label_test1, test_size=0.3, random_state=42)\n",
    "print(len(class1sample_train))\n",
    "print(len(class1sample_test))\n",
    "print(len(class1sample_val))\n",
    "##函数功能：将之前文件列表中的文件复制到指定工作目录中\n",
    "def read_and_save_data(path, file_name_array):\n",
    "    j=0\n",
    "    for i in file_name_array:\n",
    "        if i.endswith('.png'):\n",
    "          \n",
    "            \n",
    "            #second copy method\n",
    "            head, tail = os.path.split(i)\n",
    "            outputname=str(path+tail)\n",
    "            #outputname=str(path+str(j)+'.png')\n",
    "            # print(outputname)\n",
    "            shutil.copy(i, outputname)\n",
    "   \n",
    "            #print(status2)\n",
    "            \n",
    "            j=j+1\n",
    "            if j==120000:\n",
    "                break\n",
    "            \n",
    "##分别按照每类，train， validation， test保存样本   \n",
    "class0train_path='../working/data/train_seg/idc-minus/'\n",
    "class1train_path='../working/data/train_seg/idc-plus/'\n",
    "class0test_path='../working/data/test_seg/idc-minus/'\n",
    "class1test_path='../working/data/test_seg/idc-plus/'\n",
    "class0val_path='../working/data/val_seg/idc-minus/'\n",
    "class1val_path='../working/data/val_seg/idc-plus/'\n",
    "\n",
    "read_and_save_data(class0train_path,class0sample_train)\n",
    "read_and_save_data(class1train_path,class1sample_train)\n",
    "\n",
    "\n",
    "read_and_save_data(class0test_path,class0sample_test)\n",
    "read_and_save_data(class1test_path,class1sample_test)\n",
    "\n",
    "\n",
    "read_and_save_data(class0val_path,class0sample_val)\n",
    "read_and_save_data(class1val_path,class1sample_val)\n",
    "##print输出包含两类train，valid，test的大小和每次转存的文件用于检查"
   ]
  },
  {
   "cell_type": "code",
   "execution_count": 5,
   "id": "8e74ebdd",
   "metadata": {
    "execution": {
     "iopub.execute_input": "2022-05-25T16:36:38.336738Z",
     "iopub.status.busy": "2022-05-25T16:36:38.335841Z",
     "iopub.status.idle": "2022-05-25T16:36:45.583376Z",
     "shell.execute_reply": "2022-05-25T16:36:45.582439Z"
    },
    "papermill": {
     "duration": 7.299252,
     "end_time": "2022-05-25T16:36:45.585784",
     "exception": false,
     "start_time": "2022-05-25T16:36:38.286532",
     "status": "completed"
    },
    "tags": []
   },
   "outputs": [
    {
     "name": "stdout",
     "output_type": "stream",
     "text": [
      "(1400, 224, 224, 3)\n",
      "(180, 224, 224, 3)\n",
      "(420, 224, 224, 3)\n"
     ]
    }
   ],
   "source": [
    "##这个模块（cell）把之前存好的每类train-valid-test文件分别读到np。array里\n",
    "##这个模块在其他模型上进行过测试，也没有问题\n",
    "import os\n",
    "import cv2\n",
    "##函数功能，将指定目录path下的文件读到列表中，并按给定的tag创建\n",
    "#输入path目标目录，tag目录内所有文件的label（目录内全部一致）\n",
    "#输出image_data，进行过resize的图片数据array\n",
    "#输出label，标签列表，列表内每一个数字都是tag，列表大小等于目录内图片数量\n",
    "def readImage(path, tag):\n",
    "    j=0\n",
    "    image_data = []\n",
    "    label=[]\n",
    "    for i in os.listdir(path):\n",
    "        imgname=path+i\n",
    "        #print(imgname)\n",
    "        img = cv2.imread(imgname, cv2.IMREAD_COLOR)\n",
    "        img_resized = cv2.resize(img, (img_x,img_x), interpolation=cv2.INTER_LINEAR)\n",
    "        image_data.append(img_resized)\n",
    "        label.append(tag)\n",
    "        #print(img[1])\n",
    "        j=j+1\n",
    "        #if j==10:\n",
    "        #    break\n",
    "        \n",
    "    return image_data, label\n",
    "\n",
    "import numpy as np\n",
    "from tensorflow.keras.utils import *\n",
    "from sklearn.utils import shuffle\n",
    "\n",
    "class0_train, train0_label = readImage(class0train_path, 0)\n",
    "class1_train, train1_label  = readImage(class1train_path, 1)\n",
    "class0_test, test0_label = readImage(class0test_path, 0)\n",
    "class1_test, test1_label = readImage(class1test_path, 1)\n",
    "class0_val, val0_label = readImage(class0val_path, 0)\n",
    "class1_val, val1_label = readImage(class1val_path, 1)\n",
    "##函数功能，将每类train的图片数据列表和标签列表进行混合并洗牌，或者是validation，或者是test\n",
    "#class0array，class1array，是train（或valid，或test） 中class0，class1的图片数据列表，label0，label1是标签列表，比如说class0是一个（700，224，224，3）的数据array，700就是图片张数，224是xy尺寸，3是三原色对应的通道。label0就是长度为700，每位都是0的array\n",
    "#输出中combined_data, combined_label分别是混合并洗牌后的数据和标签。混合通过np。concatenate，洗牌通过shuffle函数，并且combined_label标签进行了hot-coded二进制转换,通过to_categorical函数实现\n",
    "#函数中包含print检查功能，先显示combined_label的array 的shape，再整个print combined_label，以检查label是否成功二进制化，是否完全平衡\n",
    "#输出label，标签列表，列表内每一个数字都是tag，列表大小等于目录内图片数量\n",
    "def Image_array_process(class0array,label0, class1array, label1):\n",
    "    class0_array=np.array(class0array)\n",
    "    class1_array=np.array(class1array)\n",
    "    combined_data = np.concatenate((class0_array, class1_array))\n",
    "    combined_label= np.concatenate((label0,label1), axis=0)\n",
    "    assert len(combined_data) == len(combined_label)\n",
    "    combined_data, combined_label = shuffle(combined_data, combined_label, random_state=0)\n",
    "    print(combined_data.shape)\n",
    "    length=len(combined_data)\n",
    "    #combined_label=to_categorical(combined_label,num_classes=2)\n",
    "    #combined_label=np.array(combined_label,dtype=np.int64)\n",
    "    #combined_data=np.array(combined_data,dtype=np.int64\n",
    "\n",
    "    #print(class0_array.shape)\n",
    "    #print(combined_data.shape)\n",
    "    '''\n",
    "    training_reshape=(img_x,img_x,3)\n",
    "    length=len(combined_data)\n",
    "    print(length)\n",
    "    x =[None]*length\n",
    "    #print(img_data.type)\n",
    "    y =np.zeros(length)\n",
    "    i=0\n",
    "   \n",
    "    for features,label in combined_data:\n",
    "        x[i]=features\n",
    "        #print(x.shape)\n",
    "        y[i]=label\n",
    "        #print(y[i])\n",
    "        i=i+1\n",
    "    \n",
    "            #x = np.array(x).reshape(training_reshape)\n",
    "    x = np.array(x)    \n",
    "    #print(x.shape)\n",
    "    #y=np.array(y)\n",
    "    y=y.astype(int)\n",
    "    y = to_categorical(y)\n",
    "    print(y)\n",
    "    '''  \n",
    "    return combined_data, combined_label\n",
    "\n",
    "\n",
    "X_train, y_train=Image_array_process(class0_train, train0_label, class1_train, train1_label)\n",
    "X_test, y_test=Image_array_process(class0_test, test0_label, class1_test, test1_label)\n",
    "X_val, y_val=Image_array_process(class0_val, val0_label, class1_val, val1_label)\n"
   ]
  },
  {
   "cell_type": "code",
   "execution_count": 6,
   "id": "8e742271",
   "metadata": {
    "execution": {
     "iopub.execute_input": "2022-05-25T16:36:45.675253Z",
     "iopub.status.busy": "2022-05-25T16:36:45.674466Z",
     "iopub.status.idle": "2022-05-25T16:36:45.678749Z",
     "shell.execute_reply": "2022-05-25T16:36:45.678131Z"
    },
    "papermill": {
     "duration": 0.051154,
     "end_time": "2022-05-25T16:36:45.680771",
     "exception": false,
     "start_time": "2022-05-25T16:36:45.629617",
     "status": "completed"
    },
    "tags": []
   },
   "outputs": [],
   "source": [
    "train_data=X_train\n",
    "train_label=y_train\n",
    "\n",
    "test_data=X_test\n",
    "test_label=y_test\n",
    "\n",
    "val_data=X_val\n",
    "val_label=y_val"
   ]
  },
  {
   "cell_type": "code",
   "execution_count": 7,
   "id": "c0061ec3",
   "metadata": {
    "execution": {
     "iopub.execute_input": "2022-05-25T16:36:45.771516Z",
     "iopub.status.busy": "2022-05-25T16:36:45.771237Z",
     "iopub.status.idle": "2022-05-25T16:36:45.776011Z",
     "shell.execute_reply": "2022-05-25T16:36:45.775303Z"
    },
    "papermill": {
     "duration": 0.053171,
     "end_time": "2022-05-25T16:36:45.777813",
     "exception": false,
     "start_time": "2022-05-25T16:36:45.724642",
     "status": "completed"
    },
    "tags": []
   },
   "outputs": [
    {
     "name": "stdout",
     "output_type": "stream",
     "text": [
      "1400\n"
     ]
    }
   ],
   "source": [
    "print(len(train_data))"
   ]
  },
  {
   "cell_type": "code",
   "execution_count": 8,
   "id": "da373c13",
   "metadata": {
    "execution": {
     "iopub.execute_input": "2022-05-25T16:36:45.868135Z",
     "iopub.status.busy": "2022-05-25T16:36:45.867554Z",
     "iopub.status.idle": "2022-05-25T16:36:46.471828Z",
     "shell.execute_reply": "2022-05-25T16:36:46.470931Z"
    },
    "papermill": {
     "duration": 0.652412,
     "end_time": "2022-05-25T16:36:46.474583",
     "exception": false,
     "start_time": "2022-05-25T16:36:45.822171",
     "status": "completed"
    },
    "tags": []
   },
   "outputs": [],
   "source": [
    "import tensorflow as tf\n",
    "from keras import backend as K\n",
    "from keras import optimizers\n",
    "from tensorflow.keras.optimizers import Adam\n",
    "#import keras.backend.tensorflow_backend as KTF\n",
    "from tensorflow.python.keras.backend import get_session\n",
    "import glob\n",
    "from keras.layers import Input,Dense,Dropout,BatchNormalization,Conv2D,MaxPooling2D,AveragePooling2D,concatenate,Activation,ZeroPadding2D\n",
    "import numpy as np\n",
    "import pandas as pd\n",
    "import keras \n",
    "from keras.models import load_model\n",
    "from keras.layers import Activation, Dense\n",
    "from matplotlib import pyplot as plt\n",
    "from skimage import io,data\n",
    "import time\n",
    "#from keras import layers\n",
    "#from keras.callbacks import TensorBoard, ModelCheckpoint\n",
    "from tensorflow import keras \n",
    "from tensorflow.python.keras.callbacks import TensorBoard, ModelCheckpoint\n",
    "from keras.preprocessing.image import ImageDataGenerator\n",
    "from sklearn import svm\n",
    "from sklearn.ensemble import RandomForestClassifier"
   ]
  },
  {
   "cell_type": "code",
   "execution_count": null,
   "id": "94b66815",
   "metadata": {
    "papermill": {
     "duration": 0.043852,
     "end_time": "2022-05-25T16:36:46.562596",
     "exception": false,
     "start_time": "2022-05-25T16:36:46.518744",
     "status": "completed"
    },
    "tags": []
   },
   "outputs": [],
   "source": []
  },
  {
   "cell_type": "code",
   "execution_count": 9,
   "id": "5f2ce45d",
   "metadata": {
    "execution": {
     "iopub.execute_input": "2022-05-25T16:36:46.652457Z",
     "iopub.status.busy": "2022-05-25T16:36:46.652175Z",
     "iopub.status.idle": "2022-05-25T16:36:46.656900Z",
     "shell.execute_reply": "2022-05-25T16:36:46.656327Z"
    },
    "papermill": {
     "duration": 0.051936,
     "end_time": "2022-05-25T16:36:46.658476",
     "exception": false,
     "start_time": "2022-05-25T16:36:46.606540",
     "status": "completed"
    },
    "tags": []
   },
   "outputs": [],
   "source": [
    "now = time.strftime(\"%Y-%m-%d_%H-%M-%S\", time.localtime())\n",
    "\n",
    "MODEL_INIT = '/kaggle/working/log/init_model.h5'\n",
    "MODEL_PATH = '/kaggle/working/log/test_model.h5'\n",
    "board_name1 = './stage1/' + now + '/'\n",
    "board_name2 = './stage2/' + now + '/'\n",
    "train_dir='/data/train_seg/'\n",
    "validation_dir='/data/test_seg/'\n",
    "img_size = (img_x, img_x)  # 图片大小"
   ]
  },
  {
   "cell_type": "code",
   "execution_count": 10,
   "id": "5f96c682",
   "metadata": {
    "execution": {
     "iopub.execute_input": "2022-05-25T16:36:46.749146Z",
     "iopub.status.busy": "2022-05-25T16:36:46.748672Z",
     "iopub.status.idle": "2022-05-25T16:36:47.740228Z",
     "shell.execute_reply": "2022-05-25T16:36:47.737756Z"
    },
    "papermill": {
     "duration": 1.039579,
     "end_time": "2022-05-25T16:36:47.742578",
     "exception": false,
     "start_time": "2022-05-25T16:36:46.702999",
     "status": "completed"
    },
    "tags": []
   },
   "outputs": [
    {
     "name": "stderr",
     "output_type": "stream",
     "text": [
      "2022-05-25 16:36:46.851774: I tensorflow/core/common_runtime/process_util.cc:146] Creating new thread pool with default inter op setting: 2. Tune using inter_op_parallelism_threads for best performance.\n"
     ]
    },
    {
     "name": "stdout",
     "output_type": "stream",
     "text": [
      "Model: \"mobile_densenet\"\n",
      "__________________________________________________________________________________________________\n",
      "Layer (type)                    Output Shape         Param #     Connected to                     \n",
      "==================================================================================================\n",
      "input_1 (InputLayer)            [(None, 224, 224, 3) 0                                            \n",
      "__________________________________________________________________________________________________\n",
      "zero_padding2d_1 (ZeroPadding2D (None, 230, 230, 3)  0           input_1[0][0]                    \n",
      "__________________________________________________________________________________________________\n",
      "conv1/conv (Conv2D)             (None, 112, 112, 64) 9472        zero_padding2d_1[0][0]           \n",
      "__________________________________________________________________________________________________\n",
      "conv1/bn (BatchNormalization)   (None, 112, 112, 64) 256         conv1/conv[0][0]                 \n",
      "__________________________________________________________________________________________________\n",
      "conv1/relu (ReLU)               (None, 112, 112, 64) 0           conv1/bn[0][0]                   \n",
      "__________________________________________________________________________________________________\n",
      "zero_padding2d_2 (ZeroPadding2D (None, 114, 114, 64) 0           conv1/relu[0][0]                 \n",
      "__________________________________________________________________________________________________\n",
      "pool1 (MaxPooling2D)            (None, 56, 56, 64)   0           zero_padding2d_2[0][0]           \n",
      "__________________________________________________________________________________________________\n",
      "conv2_block0_2_sepconv (Separab (None, 56, 56, 32)   2656        pool1[0][0]                      \n",
      "__________________________________________________________________________________________________\n",
      "conv2_block0_concat (Concatenat (None, 56, 56, 96)   0           pool1[0][0]                      \n",
      "                                                                 conv2_block0_2_sepconv[0][0]     \n",
      "__________________________________________________________________________________________________\n",
      "conv2_block1_2_sepconv (Separab (None, 56, 56, 32)   3968        conv2_block0_concat[0][0]        \n",
      "__________________________________________________________________________________________________\n",
      "conv2_block1_concat (Concatenat (None, 56, 56, 128)  0           conv2_block0_concat[0][0]        \n",
      "                                                                 conv2_block1_2_sepconv[0][0]     \n",
      "__________________________________________________________________________________________________\n",
      "conv2_block2_2_sepconv (Separab (None, 56, 56, 32)   5280        conv2_block1_concat[0][0]        \n",
      "__________________________________________________________________________________________________\n",
      "conv2_block2_concat (Concatenat (None, 56, 56, 160)  0           conv2_block1_concat[0][0]        \n",
      "                                                                 conv2_block2_2_sepconv[0][0]     \n",
      "__________________________________________________________________________________________________\n",
      "pool2_bn (BatchNormalization)   (None, 56, 56, 160)  640         conv2_block2_concat[0][0]        \n",
      "__________________________________________________________________________________________________\n",
      "se_block_1 (SeBlock)            (None, 56, 56, 64)   0           pool1[0][0]                      \n",
      "__________________________________________________________________________________________________\n",
      "pool2_relu (ReLU)               (None, 56, 56, 160)  0           pool2_bn[0][0]                   \n",
      "__________________________________________________________________________________________________\n",
      "transform2_dense1 (Dense)       (None, 56, 56, 160)  10400       se_block_1[0][0]                 \n",
      "__________________________________________________________________________________________________\n",
      "transform2_multiply (Multiply)  (None, 56, 56, 160)  0           pool2_relu[0][0]                 \n",
      "                                                                 transform2_dense1[0][0]          \n",
      "__________________________________________________________________________________________________\n",
      "pool2_conv (Conv2D)             (None, 56, 56, 80)   12880       transform2_multiply[0][0]        \n",
      "__________________________________________________________________________________________________\n",
      "pool2_pool (AveragePooling2D)   (None, 28, 28, 80)   0           pool2_conv[0][0]                 \n",
      "__________________________________________________________________________________________________\n",
      "conv3_block0_2_sepconv (Separab (None, 28, 28, 32)   3312        pool2_pool[0][0]                 \n",
      "__________________________________________________________________________________________________\n",
      "conv3_block0_concat (Concatenat (None, 28, 28, 112)  0           pool2_pool[0][0]                 \n",
      "                                                                 conv3_block0_2_sepconv[0][0]     \n",
      "__________________________________________________________________________________________________\n",
      "conv3_block1_2_sepconv (Separab (None, 28, 28, 32)   4624        conv3_block0_concat[0][0]        \n",
      "__________________________________________________________________________________________________\n",
      "conv3_block1_concat (Concatenat (None, 28, 28, 144)  0           conv3_block0_concat[0][0]        \n",
      "                                                                 conv3_block1_2_sepconv[0][0]     \n",
      "__________________________________________________________________________________________________\n",
      "conv3_block2_2_sepconv (Separab (None, 28, 28, 32)   5936        conv3_block1_concat[0][0]        \n",
      "__________________________________________________________________________________________________\n",
      "conv3_block2_concat (Concatenat (None, 28, 28, 176)  0           conv3_block1_concat[0][0]        \n",
      "                                                                 conv3_block2_2_sepconv[0][0]     \n",
      "__________________________________________________________________________________________________\n",
      "conv3_block3_2_sepconv (Separab (None, 28, 28, 32)   7248        conv3_block2_concat[0][0]        \n",
      "__________________________________________________________________________________________________\n",
      "conv3_block3_concat (Concatenat (None, 28, 28, 208)  0           conv3_block2_concat[0][0]        \n",
      "                                                                 conv3_block3_2_sepconv[0][0]     \n",
      "__________________________________________________________________________________________________\n",
      "conv3_block4_2_sepconv (Separab (None, 28, 28, 32)   8560        conv3_block3_concat[0][0]        \n",
      "__________________________________________________________________________________________________\n",
      "conv3_block4_concat (Concatenat (None, 28, 28, 240)  0           conv3_block3_concat[0][0]        \n",
      "                                                                 conv3_block4_2_sepconv[0][0]     \n",
      "__________________________________________________________________________________________________\n",
      "conv3_block5_2_sepconv (Separab (None, 28, 28, 32)   9872        conv3_block4_concat[0][0]        \n",
      "__________________________________________________________________________________________________\n",
      "conv3_block5_concat (Concatenat (None, 28, 28, 272)  0           conv3_block4_concat[0][0]        \n",
      "                                                                 conv3_block5_2_sepconv[0][0]     \n",
      "__________________________________________________________________________________________________\n",
      "pool3_bn (BatchNormalization)   (None, 28, 28, 272)  1088        conv3_block5_concat[0][0]        \n",
      "__________________________________________________________________________________________________\n",
      "se_block_2 (SeBlock)            (None, 28, 28, 80)   0           pool2_pool[0][0]                 \n",
      "__________________________________________________________________________________________________\n",
      "pool3_relu (ReLU)               (None, 28, 28, 272)  0           pool3_bn[0][0]                   \n",
      "__________________________________________________________________________________________________\n",
      "transform3_dense1 (Dense)       (None, 28, 28, 272)  22032       se_block_2[0][0]                 \n",
      "__________________________________________________________________________________________________\n",
      "transform3_multiply (Multiply)  (None, 28, 28, 272)  0           pool3_relu[0][0]                 \n",
      "                                                                 transform3_dense1[0][0]          \n",
      "__________________________________________________________________________________________________\n",
      "pool3_conv (Conv2D)             (None, 28, 28, 136)  37128       transform3_multiply[0][0]        \n",
      "__________________________________________________________________________________________________\n",
      "pool3_pool (AveragePooling2D)   (None, 14, 14, 136)  0           pool3_conv[0][0]                 \n",
      "__________________________________________________________________________________________________\n",
      "conv4_block0_2_sepconv (Separab (None, 14, 14, 32)   5608        pool3_pool[0][0]                 \n",
      "__________________________________________________________________________________________________\n",
      "conv4_block0_concat (Concatenat (None, 14, 14, 168)  0           pool3_pool[0][0]                 \n",
      "                                                                 conv4_block0_2_sepconv[0][0]     \n",
      "__________________________________________________________________________________________________\n",
      "conv4_block1_2_sepconv (Separab (None, 14, 14, 32)   6920        conv4_block0_concat[0][0]        \n",
      "__________________________________________________________________________________________________\n",
      "conv4_block1_concat (Concatenat (None, 14, 14, 200)  0           conv4_block0_concat[0][0]        \n",
      "                                                                 conv4_block1_2_sepconv[0][0]     \n",
      "__________________________________________________________________________________________________\n",
      "conv4_block2_2_sepconv (Separab (None, 14, 14, 32)   8232        conv4_block1_concat[0][0]        \n",
      "__________________________________________________________________________________________________\n",
      "conv4_block2_concat (Concatenat (None, 14, 14, 232)  0           conv4_block1_concat[0][0]        \n",
      "                                                                 conv4_block2_2_sepconv[0][0]     \n",
      "__________________________________________________________________________________________________\n",
      "conv4_block3_2_sepconv (Separab (None, 14, 14, 32)   9544        conv4_block2_concat[0][0]        \n",
      "__________________________________________________________________________________________________\n",
      "conv4_block3_concat (Concatenat (None, 14, 14, 264)  0           conv4_block2_concat[0][0]        \n",
      "                                                                 conv4_block3_2_sepconv[0][0]     \n",
      "__________________________________________________________________________________________________\n",
      "conv4_block4_2_sepconv (Separab (None, 14, 14, 32)   10856       conv4_block3_concat[0][0]        \n",
      "__________________________________________________________________________________________________\n",
      "conv4_block4_concat (Concatenat (None, 14, 14, 296)  0           conv4_block3_concat[0][0]        \n",
      "                                                                 conv4_block4_2_sepconv[0][0]     \n",
      "__________________________________________________________________________________________________\n",
      "conv4_block5_2_sepconv (Separab (None, 14, 14, 32)   12168       conv4_block4_concat[0][0]        \n",
      "__________________________________________________________________________________________________\n",
      "conv4_block5_concat (Concatenat (None, 14, 14, 328)  0           conv4_block4_concat[0][0]        \n",
      "                                                                 conv4_block5_2_sepconv[0][0]     \n",
      "__________________________________________________________________________________________________\n",
      "conv4_block6_2_sepconv (Separab (None, 14, 14, 32)   13480       conv4_block5_concat[0][0]        \n",
      "__________________________________________________________________________________________________\n",
      "conv4_block6_concat (Concatenat (None, 14, 14, 360)  0           conv4_block5_concat[0][0]        \n",
      "                                                                 conv4_block6_2_sepconv[0][0]     \n",
      "__________________________________________________________________________________________________\n",
      "conv4_block7_2_sepconv (Separab (None, 14, 14, 32)   14792       conv4_block6_concat[0][0]        \n",
      "__________________________________________________________________________________________________\n",
      "conv4_block7_concat (Concatenat (None, 14, 14, 392)  0           conv4_block6_concat[0][0]        \n",
      "                                                                 conv4_block7_2_sepconv[0][0]     \n",
      "__________________________________________________________________________________________________\n",
      "conv4_block8_2_sepconv (Separab (None, 14, 14, 32)   16104       conv4_block7_concat[0][0]        \n",
      "__________________________________________________________________________________________________\n",
      "conv4_block8_concat (Concatenat (None, 14, 14, 424)  0           conv4_block7_concat[0][0]        \n",
      "                                                                 conv4_block8_2_sepconv[0][0]     \n",
      "__________________________________________________________________________________________________\n",
      "conv4_block9_2_sepconv (Separab (None, 14, 14, 32)   17416       conv4_block8_concat[0][0]        \n",
      "__________________________________________________________________________________________________\n",
      "conv4_block9_concat (Concatenat (None, 14, 14, 456)  0           conv4_block8_concat[0][0]        \n",
      "                                                                 conv4_block9_2_sepconv[0][0]     \n",
      "__________________________________________________________________________________________________\n",
      "conv4_block10_2_sepconv (Separa (None, 14, 14, 32)   18728       conv4_block9_concat[0][0]        \n",
      "__________________________________________________________________________________________________\n",
      "conv4_block10_concat (Concatena (None, 14, 14, 488)  0           conv4_block9_concat[0][0]        \n",
      "                                                                 conv4_block10_2_sepconv[0][0]    \n",
      "__________________________________________________________________________________________________\n",
      "conv4_block11_2_sepconv (Separa (None, 14, 14, 32)   20040       conv4_block10_concat[0][0]       \n",
      "__________________________________________________________________________________________________\n",
      "conv4_block11_concat (Concatena (None, 14, 14, 520)  0           conv4_block10_concat[0][0]       \n",
      "                                                                 conv4_block11_2_sepconv[0][0]    \n",
      "__________________________________________________________________________________________________\n",
      "pool4_bn (BatchNormalization)   (None, 14, 14, 520)  2080        conv4_block11_concat[0][0]       \n",
      "__________________________________________________________________________________________________\n",
      "se_block_3 (SeBlock)            (None, 14, 14, 136)  0           pool3_pool[0][0]                 \n",
      "__________________________________________________________________________________________________\n",
      "pool4_relu (ReLU)               (None, 14, 14, 520)  0           pool4_bn[0][0]                   \n",
      "__________________________________________________________________________________________________\n",
      "transform4_dense1 (Dense)       (None, 14, 14, 520)  71240       se_block_3[0][0]                 \n",
      "__________________________________________________________________________________________________\n",
      "transform4_multiply (Multiply)  (None, 14, 14, 520)  0           pool4_relu[0][0]                 \n",
      "                                                                 transform4_dense1[0][0]          \n",
      "__________________________________________________________________________________________________\n",
      "pool4_conv (Conv2D)             (None, 14, 14, 260)  135460      transform4_multiply[0][0]        \n",
      "__________________________________________________________________________________________________\n",
      "pool4_pool (AveragePooling2D)   (None, 7, 7, 260)    0           pool4_conv[0][0]                 \n",
      "__________________________________________________________________________________________________\n",
      "conv5_block0_2_sepconv (Separab (None, 7, 7, 32)     10692       pool4_pool[0][0]                 \n",
      "__________________________________________________________________________________________________\n",
      "conv5_block0_concat (Concatenat (None, 7, 7, 292)    0           pool4_pool[0][0]                 \n",
      "                                                                 conv5_block0_2_sepconv[0][0]     \n",
      "__________________________________________________________________________________________________\n",
      "conv5_block1_2_sepconv (Separab (None, 7, 7, 32)     12004       conv5_block0_concat[0][0]        \n",
      "__________________________________________________________________________________________________\n",
      "conv5_block1_concat (Concatenat (None, 7, 7, 324)    0           conv5_block0_concat[0][0]        \n",
      "                                                                 conv5_block1_2_sepconv[0][0]     \n",
      "__________________________________________________________________________________________________\n",
      "conv5_block2_2_sepconv (Separab (None, 7, 7, 32)     13316       conv5_block1_concat[0][0]        \n",
      "__________________________________________________________________________________________________\n",
      "conv5_block2_concat (Concatenat (None, 7, 7, 356)    0           conv5_block1_concat[0][0]        \n",
      "                                                                 conv5_block2_2_sepconv[0][0]     \n",
      "__________________________________________________________________________________________________\n",
      "conv5_block3_2_sepconv (Separab (None, 7, 7, 32)     14628       conv5_block2_concat[0][0]        \n",
      "__________________________________________________________________________________________________\n",
      "conv5_block3_concat (Concatenat (None, 7, 7, 388)    0           conv5_block2_concat[0][0]        \n",
      "                                                                 conv5_block3_2_sepconv[0][0]     \n",
      "__________________________________________________________________________________________________\n",
      "conv5_block4_2_sepconv (Separab (None, 7, 7, 32)     15940       conv5_block3_concat[0][0]        \n",
      "__________________________________________________________________________________________________\n",
      "conv5_block4_concat (Concatenat (None, 7, 7, 420)    0           conv5_block3_concat[0][0]        \n",
      "                                                                 conv5_block4_2_sepconv[0][0]     \n",
      "__________________________________________________________________________________________________\n",
      "conv5_block5_2_sepconv (Separab (None, 7, 7, 32)     17252       conv5_block4_concat[0][0]        \n",
      "__________________________________________________________________________________________________\n",
      "conv5_block5_concat (Concatenat (None, 7, 7, 452)    0           conv5_block4_concat[0][0]        \n",
      "                                                                 conv5_block5_2_sepconv[0][0]     \n",
      "__________________________________________________________________________________________________\n",
      "conv5_block6_2_sepconv (Separab (None, 7, 7, 32)     18564       conv5_block5_concat[0][0]        \n",
      "__________________________________________________________________________________________________\n",
      "conv5_block6_concat (Concatenat (None, 7, 7, 484)    0           conv5_block5_concat[0][0]        \n",
      "                                                                 conv5_block6_2_sepconv[0][0]     \n",
      "__________________________________________________________________________________________________\n",
      "conv5_block7_2_sepconv (Separab (None, 7, 7, 32)     19876       conv5_block6_concat[0][0]        \n",
      "__________________________________________________________________________________________________\n",
      "se_block_4 (SeBlock)            (None, 7, 7, 260)    0           pool4_pool[0][0]                 \n",
      "__________________________________________________________________________________________________\n",
      "conv5_block7_concat (Concatenat (None, 7, 7, 516)    0           conv5_block6_concat[0][0]        \n",
      "                                                                 conv5_block7_2_sepconv[0][0]     \n",
      "__________________________________________________________________________________________________\n",
      "transform5_dense1 (Dense)       (None, 7, 7, 516)    134676      se_block_4[0][0]                 \n",
      "__________________________________________________________________________________________________\n",
      "transform5_multiply (Multiply)  (None, 7, 7, 516)    0           conv5_block7_concat[0][0]        \n",
      "                                                                 transform5_dense1[0][0]          \n",
      "__________________________________________________________________________________________________\n",
      "bn (BatchNormalization)         (None, 7, 7, 516)    2064        transform5_multiply[0][0]        \n",
      "__________________________________________________________________________________________________\n",
      "relu (ReLU)                     (None, 7, 7, 516)    0           bn[0][0]                         \n",
      "__________________________________________________________________________________________________\n",
      "global_pool (GlobalAveragePooli (None, 516)          0           relu[0][0]                       \n",
      "__________________________________________________________________________________________________\n",
      "dropout1 (Dropout)              (None, 516)          0           global_pool[0][0]                \n",
      "__________________________________________________________________________________________________\n",
      "dropout2 (Dropout)              (None, 516)          0           dropout1[0][0]                   \n",
      "__________________________________________________________________________________________________\n",
      "prediction (Dense)              (None, 2)            1034        dropout2[0][0]                   \n",
      "==================================================================================================\n",
      "Total params: 768,066\n",
      "Trainable params: 765,002\n",
      "Non-trainable params: 3,064\n",
      "__________________________________________________________________________________________________\n"
     ]
    }
   ],
   "source": [
    "##添加自定义层\n",
    "import tensorflow as tf \n",
    "\n",
    "def focal_loss(gamma=2.):            \n",
    "    def focal_loss_fixed(y_true, y_pred):\n",
    "        pt_1 = tf.where(tf.equal(y_true, 1), y_pred, tf.ones_like(y_pred))\n",
    "        return -K.sum( K.pow(1. - pt_1, gamma) * K.log(pt_1)) \n",
    "    return focal_loss_fixed\n",
    "\n",
    "\n",
    "def Conv2d_BN(x, nb_filter,kernel_size, strides=(1,1), padding='same',name=None):  \n",
    "    if name is not None:  \n",
    "        bn_name = name + '_bn'  \n",
    "        conv_name = name + '_conv'  \n",
    "    else:  \n",
    "        bn_name = None  \n",
    "        conv_name = None  \n",
    "  \n",
    "    x = Conv2D(nb_filter,kernel_size,padding=padding,strides=strides,activation='relu',name=conv_name)(x)  \n",
    "    x = BatchNormalization(axis=3,name=bn_name)(x)  \n",
    "    return x  \n",
    "\n",
    "def Conv_Block(inpt,nb_filter,kernel_size,strides=(1,1), with_conv_shortcut=False):  \n",
    "    x = Conv2d_BN(inpt,nb_filter=nb_filter[0],kernel_size=(1,1),strides=strides,padding='same')  \n",
    "    x = Conv2d_BN(x, nb_filter=nb_filter[1], kernel_size=(3,3), padding='same')  \n",
    "    x = Conv2d_BN(x, nb_filter=nb_filter[2], kernel_size=(1,1), padding='same')  \n",
    "    if with_conv_shortcut:  \n",
    "        shortcut = Conv2d_BN(inpt,nb_filter=nb_filter[2],strides=strides,kernel_size=kernel_size)  \n",
    "        x = add([x,shortcut])  \n",
    "        return x  \n",
    "    else:  \n",
    "        x = add([x,inpt])  \n",
    "        return x  \n",
    "\n",
    "'''\n",
    "##原文类，运行报错，StackOverflow推荐添加get_config\n",
    "class SeBlock(keras.layers.Layer):   \n",
    "    def __init__(self, reduction=4,**kwargs):\n",
    "        super(SeBlock,self).__init__(**kwargs)\n",
    "        self.reduction = reduction\n",
    "'''\n",
    "class SeBlock(keras.layers.Layer):   \n",
    "    def __init__(self, reduction=4,**kwargs):\n",
    "        super(SeBlock,self).__init__(**kwargs)\n",
    "        self.reduction = reduction\n",
    "    def get_config(self):\n",
    "        config = super().get_config().copy()\n",
    "        config.update({'reduction': self.reduction})\n",
    "        return config\n",
    "        \n",
    "    def build(self,input_shape):\n",
    "    \t#input_shape     \n",
    "    \tpass\n",
    "    def call(self, inputs):\n",
    "        x = keras.layers.GlobalAveragePooling2D()(inputs)\n",
    "        x = keras.layers.Dense(int(x.shape[-1]) // self.reduction, use_bias=False,activation=keras.activations.relu)(x)\n",
    "        x = keras.layers.Dense(int(inputs.shape[-1]), use_bias=False,activation=keras.activations.hard_sigmoid)(x)\n",
    "        return keras.layers.Multiply()([inputs,x])    \n",
    "        #return inputs*x \n",
    "\n",
    "#------#MS-DenseNet----------------------------------\n",
    "def get_bottlenet(image_size,alpha=1.0):\n",
    "    inputs = keras.layers.Input(shape=(image_size,image_size,3),name='input_1')\n",
    "    net = keras.layers.ZeroPadding2D(padding=(3,3),name='zero_padding2d_1')(inputs)\n",
    "    net = keras.layers.Conv2D(filters=64, kernel_size=(7,7), strides=(2,2),\n",
    "                             padding='valid', name='conv1/conv')(net)\n",
    "    net = keras.layers.BatchNormalization(name='conv1/bn')(net)\n",
    "    net = keras.layers.ReLU(name='conv1/relu')(net)\n",
    "    net = keras.layers.ZeroPadding2D(padding=(1,1),name='zero_padding2d_2')(net)\n",
    "#    se = keras.layers.GlobalAveragePooling2D(name='transform2_pool')(net)\n",
    "    se=SeBlock()(net)\n",
    "\n",
    "    net = keras.layers.MaxPooling2D(pool_size=(3,3),strides=(2,2),padding='valid',\n",
    "                                   name='pool1')(net)\n",
    "#    se = keras.layers.GlobalAveragePooling2D(name='transform2_pool')(net)\n",
    "    se=SeBlock()(net)\n",
    "    \n",
    "    for i in range(int(3*alpha)):\n",
    "        block = net\n",
    "        block = keras.layers.SeparableConv2D(filters=32,kernel_size=(3,3), strides=(1, 1), \n",
    "                                    padding='same',\n",
    "                                    name='conv2_block{}_2_sepconv'.format(i))(block)\n",
    "        net = keras.layers.Concatenate(name='conv2_block{}_concat'.format(i))([net,block])    \n",
    "    net = keras.layers.BatchNormalization(name='pool2_bn')(net) \n",
    "    net = keras.layers.ReLU(name='pool2_relu')(net)\n",
    "    eq = keras.layers.Dense(units=net.shape[-1],activation='sigmoid',\n",
    "                            name='transform2_dense1')(se)\n",
    "    net = keras.layers.Multiply(name='transform2_multiply')([net,eq])\n",
    "\n",
    "    net = keras.layers.Conv2D(filters=int(net.shape[-1])//2,kernel_size=(1,1),strides=(1,1),\n",
    "                              padding='same',name='pool2_conv')(net)\n",
    "    net = keras.layers.AveragePooling2D(pool_size=(2,2),strides=(2,2),\n",
    "                                        name='pool2_pool')(net)\n",
    "#    se = keras.layers.GlobalAveragePooling2D(name='transform3_pool')(net)\n",
    "    se=SeBlock()(net)\n",
    "\n",
    "    for i in range(int(6*alpha)):\n",
    "        block = net\n",
    "        block = keras.layers.SeparableConv2D(filters=32, kernel_size=(3,3), strides=(1, 1),\n",
    "                                             padding='same',\n",
    "                                             name='conv3_block{}_2_sepconv'.format(i))(block)\n",
    "        net = keras.layers.Concatenate(name='conv3_block{}_concat'.format(i))([net,block])\n",
    "    net = keras.layers.BatchNormalization(name='pool3_bn')(net) \n",
    "    net = keras.layers.ReLU(name='pool3_relu')(net)\n",
    "    eq = keras.layers.Dense(units=net.shape[-1],activation='sigmoid',\n",
    "                            name='transform3_dense1')(se)\n",
    "    net = keras.layers.Multiply(name='transform3_multiply')([net,eq])\n",
    "\n",
    "    net = keras.layers.Conv2D(filters=int(net.shape[-1])//2,kernel_size=(1,1),strides=(1,1),\n",
    "                              padding='same',name='pool3_conv')(net)\n",
    "    net = keras.layers.AveragePooling2D(pool_size=(2,2),strides=(2,2),\n",
    "                                    name='pool3_pool')(net)\n",
    "#    se = keras.layers.GlobalAveragePooling2D(name='transform4_pool')(net)\n",
    "    se=SeBlock()(net)\n",
    "    for i in range(int(12*alpha)):\n",
    "        block = net\n",
    "        block = keras.layers.SeparableConv2D(filters=32, kernel_size=(3,3), strides=(1, 1), \n",
    "                                    padding='same',\n",
    "                                    name='conv4_block{}_2_sepconv'.format(i))(block)\n",
    "        net = keras.layers.Concatenate(name='conv4_block{}_concat'.format(i))([net,block])\n",
    "    net = keras.layers.BatchNormalization(name='pool4_bn')(net) \n",
    "    net = keras.layers.ReLU(name='pool4_relu')(net)\n",
    "    eq = keras.layers.Dense(units=net.shape[-1],activation='sigmoid',\n",
    "                            name='transform4_dense1')(se)\n",
    "    net = keras.layers.Multiply(name='transform4_multiply')([net,eq])\n",
    "\n",
    "    net = keras.layers.Conv2D(filters=int(net.shape[-1])//2,kernel_size=(1,1),strides=(1,1),\n",
    "                             padding='same',name='pool4_conv')(net)\n",
    "    net = keras.layers.AveragePooling2D(pool_size=(2,2),strides=(2,2),\n",
    "                                        name='pool4_pool')(net)\n",
    "#    se = keras.layers.GlobalAveragePooling2D(name='transform5_pool')(net)\n",
    "    se=SeBlock()(net)\n",
    "    for i in range(int(8*alpha)):\n",
    "        block = net\n",
    "        block = keras.layers.SeparableConv2D(filters=32, kernel_size=(3,3), strides=(1, 1), \n",
    "                                    padding='same',\n",
    "                                    name='conv5_block{}_2_sepconv'.format(i))(block)\n",
    "        net = keras.layers.Concatenate(name='conv5_block{}_concat'.format(i))([net,block])\n",
    "       \n",
    "    eq = keras.layers.Dense(units=net.shape[-1],activation='sigmoid',\n",
    "                            name='transform5_dense1')(se)\n",
    "    net = keras.layers.Multiply(name='transform5_multiply')([net,eq])\n",
    "    net = keras.layers.BatchNormalization(name='bn')(net)\n",
    "    net = keras.layers.ReLU(name='relu')(net)\n",
    "    model = keras.Model(inputs=inputs,outputs=net,name='mobile_densenet_bottle')\n",
    "    return model\n",
    "\n",
    "#原文中软注意力模块的组装\n",
    "\n",
    "def get_model(image_size, alpha, classes):\n",
    "    bottlenet = get_bottlenet(alpha=alpha,image_size=image_size)\n",
    "    net = keras.layers.GlobalAveragePooling2D(name='global_pool')(bottlenet.output)\n",
    "    net = keras.layers.Dropout(rate=0.4,name='dropout1')(net)\n",
    "    net = keras.layers.Dropout(rate=0.4,name='dropout2')(net)\n",
    "    output = keras.layers.Dense(units=classes,activation='softmax',\n",
    "                             name='prediction')(net)\n",
    "    model = keras.Model(inputs=bottlenet.input,outputs=output,name='mobile_densenet')\n",
    "    return model\n",
    "model = get_model(image_size=img_x, alpha=1.0, classes=n_of_classes)\n",
    "model.summary()"
   ]
  },
  {
   "cell_type": "code",
   "execution_count": 11,
   "id": "d600a0e8",
   "metadata": {
    "execution": {
     "iopub.execute_input": "2022-05-25T16:36:47.836641Z",
     "iopub.status.busy": "2022-05-25T16:36:47.836351Z",
     "iopub.status.idle": "2022-05-25T16:36:48.235798Z",
     "shell.execute_reply": "2022-05-25T16:36:48.235158Z"
    },
    "papermill": {
     "duration": 0.448847,
     "end_time": "2022-05-25T16:36:48.238056",
     "exception": false,
     "start_time": "2022-05-25T16:36:47.789209",
     "status": "completed"
    },
    "tags": []
   },
   "outputs": [],
   "source": [
    "#train_datagen = ImageDataGenerator(validation_split=0.2)\n",
    "train_datagen = ImageDataGenerator()\n",
    "\n",
    "train_datagen.mean = np.array([103.939, 116.779, 123.68], dtype=np.int64).reshape((3, 1, 1))  # remove imagenet BGR mean value\n",
    "#train_generator = train_datagen.flow(train_data, train_label, target_size=img_size, classes=classes)\n",
    "train_generator = train_datagen.flow(train_data, train_label)\n",
    "\n",
    "validation_datagen = ImageDataGenerator()\n",
    "validation_datagen.mean = np.array([103.939, 116.779, 123.68], dtype=np.int64).reshape((3, 1, 1))\n",
    "test_dir = '../working/data/test_seg/'  \n",
    "#val_generator = validation_datagen.flow(test_data, test_label, target_size=img_size, classes=classes)\n",
    "val_generator = validation_datagen.flow(test_data, test_label)\n",
    "\n",
    "val2_datagen = ImageDataGenerator()\n",
    "val2_datagen.mean = np.array([103.939, 116.779, 123.68], dtype=np.int64).reshape((3, 1, 1))\n",
    "test_dir = '../working/data/test_seg/'  \n",
    "#val2_generator = val2_datagen.flow(val_data, val_label, target_size=img_size, classes=classes)\n",
    "val2_generator = val2_datagen.flow(val_data, val_label)"
   ]
  },
  {
   "cell_type": "code",
   "execution_count": 12,
   "id": "b888bd62",
   "metadata": {
    "execution": {
     "iopub.execute_input": "2022-05-25T16:36:48.338494Z",
     "iopub.status.busy": "2022-05-25T16:36:48.337919Z",
     "iopub.status.idle": "2022-05-25T16:36:48.535707Z",
     "shell.execute_reply": "2022-05-25T16:36:48.535106Z"
    },
    "papermill": {
     "duration": 0.254396,
     "end_time": "2022-05-25T16:36:48.537857",
     "exception": false,
     "start_time": "2022-05-25T16:36:48.283461",
     "status": "completed"
    },
    "tags": []
   },
   "outputs": [],
   "source": [
    "#定义评分函数\n",
    "import seaborn as sns\n",
    "import sklearn\n",
    "from sklearn.metrics import f1_score, roc_auc_score, cohen_kappa_score, precision_score, recall_score, accuracy_score, confusion_matrix\n",
    "from sklearn.metrics import classification_report\n",
    "\n",
    "\n",
    "def test_2_final_model(model, train_generator, test_generator, val_generator, y_train, y_test, y_val, class_labels):\n",
    "    \n",
    "    # BS = 16\n",
    "    ##results = dict()\n",
    "    \n",
    "    # n = len(testy)// BS\n",
    "\n",
    "    # testX = testX[:BS*n]\n",
    "    # testy = testy[:BS*n]\n",
    "\n",
    "    ##print('Predicting test data')\n",
    "    ##test_start_time = datetime.now()\n",
    "    y_pred_test_original = model.predict_generator(test_generator,verbose=1)\n",
    "    # y_pred = (y_pred_test>0.5).astype('int')\n",
    "\n",
    "    y_pred_test = y_pred_test_original\n",
    " \n",
    "    y_test = y_test# sparse form not categorical\n",
    "    y_train = y_train # sparse form not categorical\n",
    "    y_val = y_val # sparse form not categorical\n",
    "    # y_test = np.argmax(testy, axis= 1)\n",
    "    #y_test = np.argmax(testy, axis=-1)\n",
    "    \n",
    "    ##test_end_time = datetime.now()\n",
    "    ##print('Done \\n \\n')\n",
    "    ##results['testing_time'] = test_end_time - test_start_time\n",
    "    ##print('testing time(HH:MM:SS:ms) - {}\\n\\n'.format(results['testing_time']))\n",
    "    ##results['predicted'] = y_pred_test\n",
    "\n",
    "\n",
    "    # balanced_accuracy\n",
    "    from sklearn.metrics import balanced_accuracy_score\n",
    "    ##balanced_accuracy = balanced_accuracy_score(y_true=y_test, y_pred=y_pred_test)\n",
    "    ##print('---------------------')\n",
    "    ##print('| Balanced Accuracy  |')\n",
    "    ##print('---------------------')\n",
    "    ##print('\\n    {}\\n\\n'.format(balanced_accuracy))\n",
    "\n",
    "    \n",
    "    # calculate overall accuracty of the model\n",
    "    ##accuracy = metrics.accuracy_score(y_true=y_test, y_pred=y_pred_test)\n",
    "    # store accuracy in results\n",
    "    ##results['accuracy'] = accuracy\n",
    "    ##print('---------------------')\n",
    "    ##print('|      Accuracy      |')\n",
    "    ##print('---------------------')\n",
    "    ##print('\\n    {}\\n\\n'.format(accuracy))\n",
    "    \n",
    "\n",
    "    # get classification report\n",
    "    ##print('-------------------------')\n",
    "    ##print('| Classifiction Report |')\n",
    "    ##print('-------------------------')\n",
    "    ##classification_report = metrics.classification_report(y_test, y_pred_test)\n",
    "    # store report in results\n",
    "    ##results['classification_report'] = classification_report\n",
    "    ##print(classification_report)\n",
    "    \n",
    "    \n",
    "    \n",
    "    # confusion matrix\n",
    "    ##cm = metrics.confusion_matrix(y_test, y_pred_test)\n",
    "    ##results['confusion_matrix'] = cm\n",
    "    ##if print_cm: \n",
    "    ##    print('--------------------')\n",
    "    ##    print('| Confusion Matrix |')\n",
    "    ##    print('--------------------')\n",
    "    ##    print('\\n {}'.format(cm))\n",
    "        \n",
    "    # plot confusin matrix\n",
    "    ##plt.figure(figsize=(6,4))\n",
    "    ##plt.grid(b=False)\n",
    "    ##plot_confusion_matrix(cm, classes=class_labels, normalize=True, title='Normalized confusion matrix')\n",
    "    ##plt.show()\n",
    "    \n",
    "\n",
    "    \n",
    "    # add the trained  model to the results\n",
    "    ##results['model'] = model\n",
    "    ##print(\"calculate other score\")\n",
    "    ##print(\"predicting validation data\")\n",
    "\n",
    "    #calculate other score\n",
    "    y_pred_val_original = model.predict_generator(val_generator,verbose=1)\n",
    "    # y_pred = (y_pred_val>0.5).astype('int')\n",
    "\n",
    "    y_pred_val = y_pred_val_original\n",
    "    # y_val = np.argmax(valy, axis= 1)\n",
    "    #y_val = np.argmax(valy, axis=-1)\n",
    "    print(\"predicting test data\")\n",
    "    y_pred_train_original = model.predict_generator(train_generator,verbose=1)\n",
    "    # y_pred = (y_pred_train>0.5).astype('int')\n",
    "\n",
    "    y_pred_train = y_pred_train_original\n",
    "    # y_train = np.argmax(trainy, axis= 1)\n",
    "    #y_train = np.argmax(trainy, axis=-1)\n",
    "    \n",
    "    print(\"Train accuracy Score------------>\")\n",
    "    print (\"{0:.3f}\".format(accuracy_score(y_train, y_pred_train)*100), \"%\")\n",
    "    \n",
    "    print(\"Val accuracy Score--------->\")\n",
    "    \n",
    "    print(\"{0:.3f}\".format(accuracy_score(y_val, y_pred_val)*100), \"%\")\n",
    "    \n",
    "\n",
    "    \n",
    "  \n",
    "    print(\"Test accuracy Score--------->\")\n",
    "    print(\"{0:.3f}\".format(accuracy_score(y_test, y_pred_test)*100), \"%\")\n",
    "    \n",
    "    print(\"F1 Score--------------->\")\n",
    "    print(\"{0:.3f}\".format(f1_score(y_test, y_pred_test, average = 'weighted')*100), \"%\")\n",
    "    \n",
    "    print(\"Cohen Kappa Score------------->\")\n",
    "    print(\"{0:.3f}\".format(cohen_kappa_score(y_test, y_pred_test)*100), \"%\")\n",
    "    \n",
    "    print(\"Recall-------------->\")\n",
    "    print(\"{0:.3f}\".format(recall_score(y_test, y_pred_test, average = 'weighted')*100), \"%\")\n",
    "    \n",
    "    print(\"Precision-------------->\")\n",
    "    print(\"{0:.3f}\".format(precision_score(y_test, y_pred_test, average = 'weighted')*100), \"%\")\n",
    "    \n",
    "    cf_matrix_test = confusion_matrix(y_test, y_pred_test)\n",
    "    cf_matrix_val = confusion_matrix(y_val, y_pred_val)\n",
    "    \n",
    "    plt.figure(figsize = (12, 6))\n",
    "    plt.subplot(121)\n",
    "    sns.heatmap(cf_matrix_val, annot=True, cmap='Blues')\n",
    "    plt.title(\"Val Confusion matrix\")\n",
    "    \n",
    "    plt.subplot(122)\n",
    "    sns.heatmap(cf_matrix_test, annot=True, cmap='Blues')\n",
    "    plt.title(\"Test Confusion matrix\")\n",
    "    \n",
    "    plt.show()\n",
    "    \n",
    "    \n",
    "    return"
   ]
  },
  {
   "cell_type": "code",
   "execution_count": 13,
   "id": "fecd75e6",
   "metadata": {
    "execution": {
     "iopub.execute_input": "2022-05-25T16:36:48.657606Z",
     "iopub.status.busy": "2022-05-25T16:36:48.657079Z",
     "iopub.status.idle": "2022-05-25T16:36:48.660674Z",
     "shell.execute_reply": "2022-05-25T16:36:48.660126Z"
    },
    "papermill": {
     "duration": 0.078592,
     "end_time": "2022-05-25T16:36:48.662335",
     "exception": false,
     "start_time": "2022-05-25T16:36:48.583743",
     "status": "completed"
    },
    "tags": []
   },
   "outputs": [],
   "source": [
    "nb_train_samples = len(train_data)\n",
    "nb_val_samples = len(val_data)"
   ]
  },
  {
   "cell_type": "code",
   "execution_count": 14,
   "id": "1bf1a21a",
   "metadata": {
    "execution": {
     "iopub.execute_input": "2022-05-25T16:36:48.757860Z",
     "iopub.status.busy": "2022-05-25T16:36:48.757350Z",
     "iopub.status.idle": "2022-05-25T16:36:48.760680Z",
     "shell.execute_reply": "2022-05-25T16:36:48.760132Z"
    },
    "papermill": {
     "duration": 0.053743,
     "end_time": "2022-05-25T16:36:48.762348",
     "exception": false,
     "start_time": "2022-05-25T16:36:48.708605",
     "status": "completed"
    },
    "tags": []
   },
   "outputs": [],
   "source": [
    "tf.config.run_functions_eagerly(True)"
   ]
  },
  {
   "cell_type": "code",
   "execution_count": 15,
   "id": "e5f11f9f",
   "metadata": {
    "execution": {
     "iopub.execute_input": "2022-05-25T16:36:48.859961Z",
     "iopub.status.busy": "2022-05-25T16:36:48.859445Z",
     "iopub.status.idle": "2022-05-25T20:33:05.614062Z",
     "shell.execute_reply": "2022-05-25T20:33:05.613448Z"
    },
    "papermill": {
     "duration": 14176.80627,
     "end_time": "2022-05-25T20:33:05.616082",
     "exception": false,
     "start_time": "2022-05-25T16:36:48.809812",
     "status": "completed"
    },
    "tags": []
   },
   "outputs": [
    {
     "name": "stderr",
     "output_type": "stream",
     "text": [
      "2022-05-25 16:36:48.874507: I tensorflow/core/profiler/lib/profiler_session.cc:131] Profiler session initializing.\n",
      "2022-05-25 16:36:48.875037: I tensorflow/core/profiler/lib/profiler_session.cc:146] Profiler session started.\n",
      "2022-05-25 16:36:48.876082: I tensorflow/core/profiler/lib/profiler_session.cc:164] Profiler session tear down.\n",
      "/opt/conda/lib/python3.7/site-packages/keras/optimizer_v2/optimizer_v2.py:356: UserWarning: The `lr` argument is deprecated, use `learning_rate` instead.\n",
      "  \"The `lr` argument is deprecated, use `learning_rate` instead.\")\n",
      "/opt/conda/lib/python3.7/site-packages/keras/engine/training.py:1972: UserWarning: `Model.fit_generator` is deprecated and will be removed in a future version. Please use `Model.fit`, which supports generators.\n",
      "  warnings.warn('`Model.fit_generator` is deprecated and '\n",
      "/opt/conda/lib/python3.7/site-packages/tensorflow/python/data/ops/dataset_ops.py:4212: UserWarning: Even though the `tf.config.experimental_run_functions_eagerly` option is set, this option does not apply to tf.data functions. To force eager execution of tf.data functions, please use `tf.data.experimental.enable_debug_mode()`.\n",
      "  \"Even though the `tf.config.experimental_run_functions_eagerly` \"\n",
      "/opt/conda/lib/python3.7/site-packages/keras/utils/generic_utils.py:497: CustomMaskWarning: Custom mask layers require a config and must override get_config. When loading, the custom mask layer must be passed to the custom_objects argument.\n",
      "  category=CustomMaskWarning)\n",
      "2022-05-25 16:36:49.047736: I tensorflow/compiler/mlir/mlir_graph_optimization_pass.cc:185] None of the MLIR Optimization Passes are enabled (registered 2)\n"
     ]
    },
    {
     "name": "stdout",
     "output_type": "stream",
     "text": [
      "Epoch 1/100\n",
      " 1/43 [..............................] - ETA: 2:42 - loss: 10.3168 - acc: 0.6250"
     ]
    },
    {
     "name": "stderr",
     "output_type": "stream",
     "text": [
      "2022-05-25 16:36:52.886739: I tensorflow/core/profiler/lib/profiler_session.cc:131] Profiler session initializing.\n",
      "2022-05-25 16:36:52.886778: I tensorflow/core/profiler/lib/profiler_session.cc:146] Profiler session started.\n"
     ]
    },
    {
     "name": "stdout",
     "output_type": "stream",
     "text": [
      " 2/43 [>.............................] - ETA: 1:56 - loss: 9.2125 - acc: 0.4844 "
     ]
    },
    {
     "name": "stderr",
     "output_type": "stream",
     "text": [
      "2022-05-25 16:36:55.668759: I tensorflow/core/profiler/lib/profiler_session.cc:66] Profiler session collecting data.\n",
      "2022-05-25 16:36:55.701910: I tensorflow/core/profiler/lib/profiler_session.cc:164] Profiler session tear down.\n",
      "2022-05-25 16:36:55.749280: I tensorflow/core/profiler/rpc/client/save_profile.cc:136] Creating directory: ./stage2/2022-05-25_16-36-46/train/plugins/profile/2022_05_25_16_36_55\n",
      "\n",
      "2022-05-25 16:36:55.775610: I tensorflow/core/profiler/rpc/client/save_profile.cc:142] Dumped gzipped tool data for trace.json.gz to ./stage2/2022-05-25_16-36-46/train/plugins/profile/2022_05_25_16_36_55/c103f858cd35.trace.json.gz\n",
      "2022-05-25 16:36:55.823985: I tensorflow/core/profiler/rpc/client/save_profile.cc:136] Creating directory: ./stage2/2022-05-25_16-36-46/train/plugins/profile/2022_05_25_16_36_55\n",
      "\n",
      "2022-05-25 16:36:55.829835: I tensorflow/core/profiler/rpc/client/save_profile.cc:142] Dumped gzipped tool data for memory_profile.json.gz to ./stage2/2022-05-25_16-36-46/train/plugins/profile/2022_05_25_16_36_55/c103f858cd35.memory_profile.json.gz\n",
      "2022-05-25 16:36:55.830788: I tensorflow/core/profiler/rpc/client/capture_profile.cc:251] Creating directory: ./stage2/2022-05-25_16-36-46/train/plugins/profile/2022_05_25_16_36_55\n",
      "Dumped tool data for xplane.pb to ./stage2/2022-05-25_16-36-46/train/plugins/profile/2022_05_25_16_36_55/c103f858cd35.xplane.pb\n",
      "Dumped tool data for overview_page.pb to ./stage2/2022-05-25_16-36-46/train/plugins/profile/2022_05_25_16_36_55/c103f858cd35.overview_page.pb\n",
      "Dumped tool data for input_pipeline.pb to ./stage2/2022-05-25_16-36-46/train/plugins/profile/2022_05_25_16_36_55/c103f858cd35.input_pipeline.pb\n",
      "Dumped tool data for tensorflow_stats.pb to ./stage2/2022-05-25_16-36-46/train/plugins/profile/2022_05_25_16_36_55/c103f858cd35.tensorflow_stats.pb\n",
      "Dumped tool data for kernel_stats.pb to ./stage2/2022-05-25_16-36-46/train/plugins/profile/2022_05_25_16_36_55/c103f858cd35.kernel_stats.pb\n",
      "\n"
     ]
    },
    {
     "name": "stdout",
     "output_type": "stream",
     "text": [
      "43/43 [==============================] - 127s 3s/step - loss: 79.5060 - acc: 0.5157 - val_loss: inf - val_acc: 0.5000\n",
      "\n",
      "Epoch 00001: val_acc improved from -inf to 0.50000, saving model to /kaggle/working/log/test_model.h5\n",
      "Epoch 2/100\n",
      "43/43 [==============================] - 121s 3s/step - loss: 17.8855 - acc: 0.5357\n",
      "Epoch 3/100\n",
      "43/43 [==============================] - 121s 3s/step - loss: 10.0400 - acc: 0.4971\n",
      "Epoch 4/100\n",
      "43/43 [==============================] - 121s 3s/step - loss: 7.0613 - acc: 0.5107\n",
      "Epoch 5/100\n",
      "43/43 [==============================] - 121s 3s/step - loss: 6.2221 - acc: 0.5536\n",
      "Epoch 6/100\n",
      "43/43 [==============================] - 122s 3s/step - loss: 5.8546 - acc: 0.4586\n",
      "Epoch 7/100\n",
      "43/43 [==============================] - 120s 3s/step - loss: 5.5649 - acc: 0.4993\n",
      "Epoch 8/100\n",
      "43/43 [==============================] - 121s 3s/step - loss: 5.5519 - acc: 0.4736\n",
      "Epoch 9/100\n",
      "43/43 [==============================] - 121s 3s/step - loss: 5.5543 - acc: 0.5257\n",
      "Epoch 10/100\n",
      "43/43 [==============================] - 119s 3s/step - loss: 5.5567 - acc: 0.5079\n",
      "Epoch 11/100\n",
      "43/43 [==============================] - 120s 3s/step - loss: 5.5317 - acc: 0.5550\n",
      "Epoch 12/100\n",
      "43/43 [==============================] - 121s 3s/step - loss: 5.5367 - acc: 0.5136\n",
      "Epoch 13/100\n",
      "43/43 [==============================] - 120s 3s/step - loss: 5.5314 - acc: 0.4979\n",
      "Epoch 14/100\n",
      "43/43 [==============================] - 121s 3s/step - loss: 5.5339 - acc: 0.5079\n",
      "Epoch 15/100\n",
      "43/43 [==============================] - 120s 3s/step - loss: 5.5345 - acc: 0.4793\n",
      "Epoch 16/100\n",
      "43/43 [==============================] - 120s 3s/step - loss: 5.5371 - acc: 0.4336\n",
      "Epoch 17/100\n",
      "43/43 [==============================] - 120s 3s/step - loss: 5.5191 - acc: 0.4793\n",
      "Epoch 18/100\n",
      "43/43 [==============================] - 123s 3s/step - loss: 5.5217 - acc: 0.5443\n",
      "Epoch 19/100\n",
      "43/43 [==============================] - 123s 3s/step - loss: 5.5253 - acc: 0.5550\n",
      "Epoch 20/100\n",
      "43/43 [==============================] - 123s 3s/step - loss: 5.5292 - acc: 0.4650\n",
      "Epoch 21/100\n",
      "43/43 [==============================] - 122s 3s/step - loss: 5.5302 - acc: 0.5021\n",
      "Epoch 22/100\n",
      "43/43 [==============================] - 123s 3s/step - loss: 5.5213 - acc: 0.5136\n",
      "Epoch 23/100\n",
      "43/43 [==============================] - 123s 3s/step - loss: 5.5311 - acc: 0.5071\n",
      "Epoch 24/100\n",
      "43/43 [==============================] - 123s 3s/step - loss: 5.5305 - acc: 0.4979\n",
      "Epoch 25/100\n",
      "43/43 [==============================] - 123s 3s/step - loss: 5.5242 - acc: 0.5150\n",
      "Epoch 26/100\n",
      "43/43 [==============================] - 122s 3s/step - loss: 5.5272 - acc: 0.4957\n",
      "Epoch 27/100\n",
      "43/43 [==============================] - 123s 3s/step - loss: 5.5178 - acc: 0.4693\n",
      "Epoch 28/100\n",
      "43/43 [==============================] - 123s 3s/step - loss: 5.5165 - acc: 0.4979\n",
      "Epoch 29/100\n",
      "43/43 [==============================] - 122s 3s/step - loss: 5.5232 - acc: 0.5286\n",
      "Epoch 30/100\n",
      "43/43 [==============================] - 121s 3s/step - loss: 5.5193 - acc: 0.5250\n",
      "Epoch 31/100\n",
      "43/43 [==============================] - 121s 3s/step - loss: 5.5272 - acc: 0.5086\n",
      "Epoch 32/100\n",
      "43/43 [==============================] - 121s 3s/step - loss: 5.5269 - acc: 0.5121\n",
      "Epoch 33/100\n",
      "43/43 [==============================] - 121s 3s/step - loss: 5.5238 - acc: 0.5386\n",
      "Epoch 34/100\n",
      "43/43 [==============================] - 122s 3s/step - loss: 5.5242 - acc: 0.5293\n",
      "Epoch 35/100\n",
      "43/43 [==============================] - 122s 3s/step - loss: 5.5174 - acc: 0.4693\n",
      "Epoch 36/100\n",
      "43/43 [==============================] - 122s 3s/step - loss: 5.5260 - acc: 0.4843\n",
      "Epoch 37/100\n",
      "43/43 [==============================] - 121s 3s/step - loss: 5.5193 - acc: 0.4829\n",
      "Epoch 38/100\n",
      "43/43 [==============================] - 121s 3s/step - loss: 5.5247 - acc: 0.4829\n",
      "Epoch 39/100\n",
      "43/43 [==============================] - 121s 3s/step - loss: 5.5246 - acc: 0.4864\n",
      "Epoch 40/100\n",
      "43/43 [==============================] - 122s 3s/step - loss: 5.5240 - acc: 0.5200\n",
      "Epoch 41/100\n",
      "43/43 [==============================] - 124s 3s/step - loss: 5.5231 - acc: 0.4771\n",
      "Epoch 42/100\n",
      "43/43 [==============================] - 124s 3s/step - loss: 5.5279 - acc: 0.4657\n",
      "Epoch 43/100\n",
      "43/43 [==============================] - 124s 3s/step - loss: 5.5245 - acc: 0.4457\n",
      "Epoch 44/100\n",
      "43/43 [==============================] - 124s 3s/step - loss: 5.5232 - acc: 0.4671\n",
      "Epoch 45/100\n",
      "43/43 [==============================] - 125s 3s/step - loss: 5.5208 - acc: 0.4957\n",
      "Epoch 46/100\n",
      "43/43 [==============================] - 124s 3s/step - loss: 5.5281 - acc: 0.4743\n",
      "Epoch 47/100\n",
      "43/43 [==============================] - 123s 3s/step - loss: 5.5208 - acc: 0.4807\n",
      "Epoch 48/100\n",
      "43/43 [==============================] - 123s 3s/step - loss: 5.5262 - acc: 0.4871\n",
      "Epoch 49/100\n",
      "43/43 [==============================] - 124s 3s/step - loss: 5.5277 - acc: 0.4514\n",
      "Epoch 50/100\n",
      "43/43 [==============================] - 123s 3s/step - loss: 5.5243 - acc: 0.5321\n",
      "Epoch 51/100\n",
      "43/43 [==============================] - 123s 3s/step - loss: 5.5122 - acc: 0.5243\n",
      "Epoch 52/100\n",
      "43/43 [==============================] - 122s 3s/step - loss: 5.5172 - acc: 0.4514\n",
      "Epoch 53/100\n",
      "43/43 [==============================] - 121s 3s/step - loss: 5.5301 - acc: 0.4736\n",
      "Epoch 54/100\n",
      "43/43 [==============================] - 122s 3s/step - loss: 5.5236 - acc: 0.4993\n",
      "Epoch 55/100\n",
      "43/43 [==============================] - 122s 3s/step - loss: 5.5265 - acc: 0.4764\n",
      "Epoch 56/100\n",
      "43/43 [==============================] - 122s 3s/step - loss: 5.5140 - acc: 0.5400\n",
      "Epoch 57/100\n",
      "43/43 [==============================] - 123s 3s/step - loss: 5.5182 - acc: 0.5221\n",
      "Epoch 58/100\n",
      "43/43 [==============================] - 124s 3s/step - loss: 5.5215 - acc: 0.5314\n",
      "Epoch 59/100\n",
      "43/43 [==============================] - 123s 3s/step - loss: 5.5284 - acc: 0.4564\n",
      "Epoch 60/100\n",
      "43/43 [==============================] - 123s 3s/step - loss: 5.5313 - acc: 0.5136\n",
      "Epoch 61/100\n",
      "43/43 [==============================] - 123s 3s/step - loss: 5.5265 - acc: 0.4829\n",
      "Epoch 62/100\n",
      "43/43 [==============================] - 125s 3s/step - loss: 5.5122 - acc: 0.4907\n",
      "Epoch 63/100\n",
      "43/43 [==============================] - 126s 3s/step - loss: 5.5219 - acc: 0.4943\n",
      "Epoch 64/100\n",
      "43/43 [==============================] - 125s 3s/step - loss: 5.5562 - acc: 0.5121\n",
      "Epoch 65/100\n",
      "43/43 [==============================] - 124s 3s/step - loss: 5.5215 - acc: 0.5107\n",
      "Epoch 66/100\n",
      "43/43 [==============================] - 123s 3s/step - loss: 5.5323 - acc: 0.5114\n",
      "Epoch 67/100\n",
      "43/43 [==============================] - 124s 3s/step - loss: 5.5307 - acc: 0.5379\n",
      "Epoch 68/100\n",
      "43/43 [==============================] - 124s 3s/step - loss: 5.5208 - acc: 0.4821\n",
      "Epoch 69/100\n",
      "43/43 [==============================] - 124s 3s/step - loss: 5.5220 - acc: 0.5164\n",
      "Epoch 70/100\n",
      "43/43 [==============================] - 125s 3s/step - loss: 5.5218 - acc: 0.5479\n",
      "Epoch 71/100\n",
      "43/43 [==============================] - 124s 3s/step - loss: 5.5199 - acc: 0.5136\n",
      "Epoch 72/100\n",
      "43/43 [==============================] - 125s 3s/step - loss: 5.5163 - acc: 0.4943\n",
      "Epoch 73/100\n",
      "43/43 [==============================] - 125s 3s/step - loss: 5.5197 - acc: 0.5471\n",
      "Epoch 74/100\n",
      "43/43 [==============================] - 121s 3s/step - loss: 5.5218 - acc: 0.5129\n",
      "Epoch 75/100\n",
      "43/43 [==============================] - 122s 3s/step - loss: 5.5258 - acc: 0.5136\n",
      "Epoch 76/100\n",
      "43/43 [==============================] - 120s 3s/step - loss: 5.5217 - acc: 0.4993\n",
      "Epoch 77/100\n",
      "43/43 [==============================] - 123s 3s/step - loss: 5.5200 - acc: 0.5529\n",
      "Epoch 78/100\n",
      "43/43 [==============================] - 120s 3s/step - loss: 5.5276 - acc: 0.5029\n",
      "Epoch 79/100\n",
      "43/43 [==============================] - 119s 3s/step - loss: 5.5240 - acc: 0.5207\n",
      "Epoch 80/100\n",
      "43/43 [==============================] - 120s 3s/step - loss: 5.5180 - acc: 0.5264\n",
      "Epoch 81/100\n",
      "43/43 [==============================] - 120s 3s/step - loss: 5.5177 - acc: 0.4886\n",
      "Epoch 82/100\n",
      "43/43 [==============================] - 121s 3s/step - loss: 5.5593 - acc: 0.5436\n",
      "Epoch 83/100\n",
      "43/43 [==============================] - 121s 3s/step - loss: 5.5333 - acc: 0.4721\n",
      "Epoch 84/100\n",
      "43/43 [==============================] - 121s 3s/step - loss: 5.5238 - acc: 0.4479\n",
      "Epoch 85/100\n",
      "43/43 [==============================] - 122s 3s/step - loss: 5.5340 - acc: 0.4843\n",
      "Epoch 86/100\n",
      "43/43 [==============================] - 122s 3s/step - loss: 5.5322 - acc: 0.5450\n",
      "Epoch 87/100\n",
      "43/43 [==============================] - 123s 3s/step - loss: 5.5249 - acc: 0.5193\n",
      "Epoch 88/100\n",
      "43/43 [==============================] - 122s 3s/step - loss: 5.5245 - acc: 0.4914\n",
      "Epoch 89/100\n",
      "43/43 [==============================] - 121s 3s/step - loss: 5.5206 - acc: 0.5164\n",
      "Epoch 90/100\n",
      "43/43 [==============================] - 121s 3s/step - loss: 5.5259 - acc: 0.5200\n",
      "Epoch 91/100\n",
      "43/43 [==============================] - 123s 3s/step - loss: 5.5241 - acc: 0.4857\n",
      "Epoch 92/100\n",
      "43/43 [==============================] - 122s 3s/step - loss: 5.5204 - acc: 0.4736\n",
      "Epoch 93/100\n",
      "43/43 [==============================] - 120s 3s/step - loss: 5.5279 - acc: 0.5393\n",
      "Epoch 94/100\n",
      "43/43 [==============================] - 121s 3s/step - loss: 5.5200 - acc: 0.4886\n",
      "Epoch 95/100\n",
      "43/43 [==============================] - 124s 3s/step - loss: 5.5196 - acc: 0.4950\n",
      "Epoch 96/100\n",
      "43/43 [==============================] - 123s 3s/step - loss: 5.5241 - acc: 0.4564\n",
      "Epoch 97/100\n",
      "43/43 [==============================] - 123s 3s/step - loss: 5.5237 - acc: 0.5086\n",
      "Epoch 98/100\n",
      "43/43 [==============================] - 121s 3s/step - loss: 5.5218 - acc: 0.5407\n",
      "Epoch 99/100\n",
      "43/43 [==============================] - 121s 3s/step - loss: 5.5199 - acc: 0.4729\n",
      "Epoch 100/100\n",
      "43/43 [==============================] - 120s 3s/step - loss: 5.5199 - acc: 0.4750\n"
     ]
    }
   ],
   "source": [
    "import glob\n",
    "from keras.callbacks import EarlyStopping\n",
    "\n",
    "IMG_SHAPE=(img_x, img_x, 3)\n",
    "model_checkpoint2 = ModelCheckpoint(filepath=MODEL_PATH,  monitor='val_acc', verbose=1, save_best_only=True, mode='max')\n",
    "#model_checkpoint2 = ModelCheckpoint(filepath=MODEL_PATH,  monitor='val_loss', verbose=1, save_best_only=True, mode='min')\n",
    "board2 = TensorBoard(log_dir=board_name2,\n",
    "                     histogram_freq=0,\n",
    "                     write_graph=True,\n",
    "                     write_images=True)\n",
    "callback_list2 = [model_checkpoint2, board2, EarlyStopping(monitor='val_acc', patience=20)]\n",
    "learning_rate = 1e-2\n",
    "decay = 1e-6\n",
    "momentum = 0.8\n",
    "nesterov = True\n",
    "sgd_optimizer = keras.optimizers.SGD(lr = learning_rate, decay = decay,            \n",
    "                    momentum = momentum, nesterov = nesterov)\n",
    "\n",
    "adam_optimizer = keras.optimizers.Adam(lr = learning_rate, clipnorm=1)\n",
    "model.compile(loss = [focal_loss(gamma=2)], optimizer = sgd_optimizer, metrics = ['acc'])\n",
    "\n",
    "history1=model.fit_generator(train_generator, steps_per_epoch=nb_train_samples / float(batch_size),\n",
    "                           epochs = epochs,\n",
    "                           validation_steps=nb_val_samples / float(batch_size),\n",
    "                           validation_data=val_generator,\n",
    "                           callbacks=callback_list2, verbose=1)"
   ]
  },
  {
   "cell_type": "code",
   "execution_count": 16,
   "id": "131a2614",
   "metadata": {
    "execution": {
     "iopub.execute_input": "2022-05-25T20:33:09.062073Z",
     "iopub.status.busy": "2022-05-25T20:33:09.061411Z",
     "iopub.status.idle": "2022-05-25T20:33:09.376012Z",
     "shell.execute_reply": "2022-05-25T20:33:09.375422Z"
    },
    "papermill": {
     "duration": 2.04393,
     "end_time": "2022-05-25T20:33:09.377810",
     "exception": false,
     "start_time": "2022-05-25T20:33:07.333880",
     "status": "completed"
    },
    "tags": []
   },
   "outputs": [
    {
     "data": {
      "image/png": "[encoded data removed]",
      "text/plain": [
       "<Figure size 864x432 with 2 Axes>"
      ]
     },
     "metadata": {
      "needs_background": "light"
     },
     "output_type": "display_data"
    }
   ],
   "source": [
    "#显示第一次训练过程中accuracy和loss的变化\n",
    "import matplotlib.pyplot as plt\n",
    "import seaborn as sns\n",
    "plt.figure(figsize = (12, 6))\n",
    "plt.subplot(121)\n",
    "#plotting the Accuracy of test and training sets\n",
    "plt.plot(history1.history['acc'])\n",
    "plt.plot(history1.history['val_acc'])\n",
    "plt.title('1st training Model Accuracy')\n",
    "plt.ylabel('accuracy')\n",
    "plt.xlabel('epoch')\n",
    "plt.legend(['train', 'test'], loc='upper left')\n",
    "\n",
    "plt.subplot(122)\n",
    "#plotting the loss of test and training sets\n",
    "plt.plot(history1.history['loss'])\n",
    "plt.plot(history1.history['val_loss'])\n",
    "plt.title('1st training Model Loss')\n",
    "plt.ylabel('loss')\n",
    "plt.xlabel('epoch')\n",
    "plt.legend(['train', 'test'], loc='upper left')\n",
    "plt.show()"
   ]
  },
  {
   "cell_type": "code",
   "execution_count": 17,
   "id": "b693cb54",
   "metadata": {
    "execution": {
     "iopub.execute_input": "2022-05-25T20:33:12.823657Z",
     "iopub.status.busy": "2022-05-25T20:33:12.823381Z",
     "iopub.status.idle": "2022-05-25T20:34:09.731520Z",
     "shell.execute_reply": "2022-05-25T20:34:09.730419Z"
    },
    "papermill": {
     "duration": 58.628377,
     "end_time": "2022-05-25T20:34:09.733567",
     "exception": true,
     "start_time": "2022-05-25T20:33:11.105190",
     "status": "failed"
    },
    "tags": []
   },
   "outputs": [
    {
     "name": "stderr",
     "output_type": "stream",
     "text": [
      "/opt/conda/lib/python3.7/site-packages/keras/engine/training.py:2035: UserWarning: `Model.predict_generator` is deprecated and will be removed in a future version. Please use `Model.predict`, which supports generators.\n",
      "  warnings.warn('`Model.predict_generator` is deprecated and '\n"
     ]
    },
    {
     "name": "stdout",
     "output_type": "stream",
     "text": [
      "6/6 [==============================] - 4s 700ms/step\n",
      "14/14 [==============================] - 9s 667ms/step\n",
      "predicting test data\n",
      "44/44 [==============================] - 31s 709ms/step\n",
      "Train accuracy Score------------>\n"
     ]
    },
    {
     "ename": "ValueError",
     "evalue": "Classification metrics can't handle a mix of binary and continuous-multioutput targets",
     "output_type": "error",
     "traceback": [
      "\u001b[0;31m---------------------------------------------------------------------------\u001b[0m",
      "\u001b[0;31mValueError\u001b[0m                                Traceback (most recent call last)",
      "\u001b[0;32m/tmp/ipykernel_19/2807651905.py\u001b[0m in \u001b[0;36m<module>\u001b[0;34m\u001b[0m\n\u001b[1;32m      5\u001b[0m                \u001b[0mtest_label\u001b[0m\u001b[0;34m,\u001b[0m\u001b[0;34m\u001b[0m\u001b[0;34m\u001b[0m\u001b[0m\n\u001b[1;32m      6\u001b[0m                \u001b[0mval_label\u001b[0m\u001b[0;34m,\u001b[0m\u001b[0;34m\u001b[0m\u001b[0;34m\u001b[0m\u001b[0m\n\u001b[0;32m----> 7\u001b[0;31m                class_labels = ['idc-', 'idc+'])\n\u001b[0m",
      "\u001b[0;32m/tmp/ipykernel_19/1363978116.py\u001b[0m in \u001b[0;36mtest_2_final_model\u001b[0;34m(model, train_generator, test_generator, val_generator, y_train, y_test, y_val, class_labels)\u001b[0m\n\u001b[1;32m    104\u001b[0m \u001b[0;34m\u001b[0m\u001b[0m\n\u001b[1;32m    105\u001b[0m     \u001b[0mprint\u001b[0m\u001b[0;34m(\u001b[0m\u001b[0;34m\"Train accuracy Score------------>\"\u001b[0m\u001b[0;34m)\u001b[0m\u001b[0;34m\u001b[0m\u001b[0;34m\u001b[0m\u001b[0m\n\u001b[0;32m--> 106\u001b[0;31m     \u001b[0mprint\u001b[0m \u001b[0;34m(\u001b[0m\u001b[0;34m\"{0:.3f}\"\u001b[0m\u001b[0;34m.\u001b[0m\u001b[0mformat\u001b[0m\u001b[0;34m(\u001b[0m\u001b[0maccuracy_score\u001b[0m\u001b[0;34m(\u001b[0m\u001b[0my_train\u001b[0m\u001b[0;34m,\u001b[0m \u001b[0my_pred_train\u001b[0m\u001b[0;34m)\u001b[0m\u001b[0;34m*\u001b[0m\u001b[0;36m100\u001b[0m\u001b[0;34m)\u001b[0m\u001b[0;34m,\u001b[0m \u001b[0;34m\"%\"\u001b[0m\u001b[0;34m)\u001b[0m\u001b[0;34m\u001b[0m\u001b[0;34m\u001b[0m\u001b[0m\n\u001b[0m\u001b[1;32m    107\u001b[0m \u001b[0;34m\u001b[0m\u001b[0m\n\u001b[1;32m    108\u001b[0m     \u001b[0mprint\u001b[0m\u001b[0;34m(\u001b[0m\u001b[0;34m\"Val accuracy Score--------->\"\u001b[0m\u001b[0;34m)\u001b[0m\u001b[0;34m\u001b[0m\u001b[0;34m\u001b[0m\u001b[0m\n",
      "\u001b[0;32m/opt/conda/lib/python3.7/site-packages/sklearn/metrics/_classification.py\u001b[0m in \u001b[0;36maccuracy_score\u001b[0;34m(y_true, y_pred, normalize, sample_weight)\u001b[0m\n\u001b[1;32m    209\u001b[0m \u001b[0;34m\u001b[0m\u001b[0m\n\u001b[1;32m    210\u001b[0m     \u001b[0;31m# Compute accuracy for each possible representation\u001b[0m\u001b[0;34m\u001b[0m\u001b[0;34m\u001b[0m\u001b[0;34m\u001b[0m\u001b[0m\n\u001b[0;32m--> 211\u001b[0;31m     \u001b[0my_type\u001b[0m\u001b[0;34m,\u001b[0m \u001b[0my_true\u001b[0m\u001b[0;34m,\u001b[0m \u001b[0my_pred\u001b[0m \u001b[0;34m=\u001b[0m \u001b[0m_check_targets\u001b[0m\u001b[0;34m(\u001b[0m\u001b[0my_true\u001b[0m\u001b[0;34m,\u001b[0m \u001b[0my_pred\u001b[0m\u001b[0;34m)\u001b[0m\u001b[0;34m\u001b[0m\u001b[0;34m\u001b[0m\u001b[0m\n\u001b[0m\u001b[1;32m    212\u001b[0m     \u001b[0mcheck_consistent_length\u001b[0m\u001b[0;34m(\u001b[0m\u001b[0my_true\u001b[0m\u001b[0;34m,\u001b[0m \u001b[0my_pred\u001b[0m\u001b[0;34m,\u001b[0m \u001b[0msample_weight\u001b[0m\u001b[0;34m)\u001b[0m\u001b[0;34m\u001b[0m\u001b[0;34m\u001b[0m\u001b[0m\n\u001b[1;32m    213\u001b[0m     \u001b[0;32mif\u001b[0m \u001b[0my_type\u001b[0m\u001b[0;34m.\u001b[0m\u001b[0mstartswith\u001b[0m\u001b[0;34m(\u001b[0m\u001b[0;34m\"multilabel\"\u001b[0m\u001b[0;34m)\u001b[0m\u001b[0;34m:\u001b[0m\u001b[0;34m\u001b[0m\u001b[0;34m\u001b[0m\u001b[0m\n",
      "\u001b[0;32m/opt/conda/lib/python3.7/site-packages/sklearn/metrics/_classification.py\u001b[0m in \u001b[0;36m_check_targets\u001b[0;34m(y_true, y_pred)\u001b[0m\n\u001b[1;32m     93\u001b[0m         raise ValueError(\n\u001b[1;32m     94\u001b[0m             \"Classification metrics can't handle a mix of {0} and {1} targets\".format(\n\u001b[0;32m---> 95\u001b[0;31m                 \u001b[0mtype_true\u001b[0m\u001b[0;34m,\u001b[0m \u001b[0mtype_pred\u001b[0m\u001b[0;34m\u001b[0m\u001b[0;34m\u001b[0m\u001b[0m\n\u001b[0m\u001b[1;32m     96\u001b[0m             )\n\u001b[1;32m     97\u001b[0m         )\n",
      "\u001b[0;31mValueError\u001b[0m: Classification metrics can't handle a mix of binary and continuous-multioutput targets"
     ]
    }
   ],
   "source": [
    "#--------------------\n",
    "test_2_final_model(model, train_generator, \n",
    "               val_generator, val2_generator, \n",
    "               train_label,\n",
    "               test_label,\n",
    "               val_label, \n",
    "               class_labels = ['idc-', 'idc+'])"
   ]
  },
  {
   "cell_type": "code",
   "execution_count": null,
   "id": "6f9dd3ae",
   "metadata": {
    "papermill": {
     "duration": null,
     "end_time": null,
     "exception": null,
     "start_time": null,
     "status": "pending"
    },
    "tags": []
   },
   "outputs": [],
   "source": [
    "#-----------------------\n",
    "\n",
    "\n",
    "print(\"1st train: report of val data\")\n",
    "report = sklearn.metrics.classification_report(\n",
    "    np.concatenate([val2_generator[i][1] for i in range(len(val2_generator))]),    \n",
    "    model.predict_generator(val2_generator, steps=len(val2_generator))\n",
    ")\n",
    "print(report)\n"
   ]
  },
  {
   "cell_type": "code",
   "execution_count": null,
   "id": "70f9e589",
   "metadata": {
    "execution": {
     "iopub.execute_input": "2022-05-24T21:43:24.264084Z",
     "iopub.status.busy": "2022-05-24T21:43:24.263724Z",
     "iopub.status.idle": "2022-05-24T21:43:30.790351Z",
     "shell.execute_reply": "2022-05-24T21:43:30.788764Z",
     "shell.execute_reply.started": "2022-05-24T21:43:24.264019Z"
    },
    "papermill": {
     "duration": null,
     "end_time": null,
     "exception": null,
     "start_time": null,
     "status": "pending"
    },
    "tags": []
   },
   "outputs": [],
   "source": [
    "MODEL_FT = '/kaggle/working/log/finetuning_model.h5'\n",
    "model_checkpoint3 = ModelCheckpoint(filepath=MODEL_FT,  monitor='val_accuracy', verbose=1, save_best_only=True, mode='max')\n",
    "#model_checkpoint3 = ModelCheckpoint(filepath=MODEL_FT,  monitor='val_loss', verbose=1, save_best_only=True, mode='min')\n",
    "board_name3 = './working/stage3/' + now + '/'\n",
    "board3 = TensorBoard(log_dir=board_name3,\n",
    "                     histogram_freq=0,\n",
    "                     write_graph=True,\n",
    "                     write_images=True)\n",
    "callback_list3 = [model_checkpoint3, board3, EarlyStopping(monitor='val_acc', patience=20)]\n",
    "\n",
    "\n",
    "model.load_weights(MODEL_PATH)\n",
    "for model1 in model.layers:\n",
    "    model1.trainable = True\n",
    "    \n",
    "model.compile(optimizer=sgd_optimizer, loss = [focal_loss(gamma=2)], metrics=['accuracy'])\n",
    "\n",
    "history2=model.fit_generator(train_generator, steps_per_epoch=nb_train_samples / float(batch_size), epochs=epochs, \n",
    "validation_steps=nb_val_samples / float(batch_size), validation_data=val_generator, callbacks=callback_list3, verbose=1)"
   ]
  },
  {
   "cell_type": "code",
   "execution_count": null,
   "id": "fc6ca404",
   "metadata": {
    "execution": {
     "iopub.execute_input": "2022-05-24T21:43:30.792255Z",
     "iopub.status.busy": "2022-05-24T21:43:30.791911Z",
     "iopub.status.idle": "2022-05-24T21:43:30.80298Z",
     "shell.execute_reply": "2022-05-24T21:43:30.801802Z",
     "shell.execute_reply.started": "2022-05-24T21:43:30.792221Z"
    },
    "papermill": {
     "duration": null,
     "end_time": null,
     "exception": null,
     "start_time": null,
     "status": "pending"
    },
    "tags": []
   },
   "outputs": [],
   "source": [
    "os.chdir('/kaggle/working/log')\n",
    "print(os.getcwd())\n",
    "print(os.listdir(\"/kaggle/working/log\"))"
   ]
  },
  {
   "cell_type": "code",
   "execution_count": null,
   "id": "d627f700",
   "metadata": {
    "execution": {
     "iopub.execute_input": "2022-05-24T21:43:30.807452Z",
     "iopub.status.busy": "2022-05-24T21:43:30.807221Z",
     "iopub.status.idle": "2022-05-24T21:43:30.817522Z",
     "shell.execute_reply": "2022-05-24T21:43:30.816015Z",
     "shell.execute_reply.started": "2022-05-24T21:43:30.807423Z"
    },
    "papermill": {
     "duration": null,
     "end_time": null,
     "exception": null,
     "start_time": null,
     "status": "pending"
    },
    "tags": []
   },
   "outputs": [],
   "source": [
    "from IPython.display import FileLink\n",
    "FileLink('/kaggle/working/log/finetuning_model.h5')"
   ]
  },
  {
   "cell_type": "code",
   "execution_count": null,
   "id": "e2da3a31",
   "metadata": {
    "execution": {
     "iopub.execute_input": "2022-05-24T21:44:34.671371Z",
     "iopub.status.busy": "2022-05-24T21:44:34.671035Z",
     "iopub.status.idle": "2022-05-24T21:44:34.692221Z",
     "shell.execute_reply": "2022-05-24T21:44:34.69123Z",
     "shell.execute_reply.started": "2022-05-24T21:44:34.67134Z"
    },
    "papermill": {
     "duration": null,
     "end_time": null,
     "exception": null,
     "start_time": null,
     "status": "pending"
    },
    "tags": []
   },
   "outputs": [],
   "source": []
  },
  {
   "cell_type": "code",
   "execution_count": null,
   "id": "9cdf20c3",
   "metadata": {
    "execution": {
     "iopub.execute_input": "2022-05-24T21:43:30.845764Z",
     "iopub.status.busy": "2022-05-24T21:43:30.845468Z",
     "iopub.status.idle": "2022-05-24T21:43:30.863945Z",
     "shell.execute_reply": "2022-05-24T21:43:30.862815Z",
     "shell.execute_reply.started": "2022-05-24T21:43:30.845722Z"
    },
    "papermill": {
     "duration": null,
     "end_time": null,
     "exception": null,
     "start_time": null,
     "status": "pending"
    },
    "tags": []
   },
   "outputs": [],
   "source": [
    "import glob\n",
    "nb_train_samples = len(train_label)  \n",
    "nb_validation_samples = len(test_label)  \n",
    "print(nb_train_samples //batch_size)\n",
    "print(nb_validation_samples //batch_size)"
   ]
  },
  {
   "cell_type": "code",
   "execution_count": null,
   "id": "d4c4e013",
   "metadata": {
    "execution": {
     "iopub.execute_input": "2022-05-24T21:43:30.865852Z",
     "iopub.status.busy": "2022-05-24T21:43:30.865441Z",
     "iopub.status.idle": "2022-05-24T21:43:31.687621Z",
     "shell.execute_reply": "2022-05-24T21:43:31.686552Z",
     "shell.execute_reply.started": "2022-05-24T21:43:30.865805Z"
    },
    "papermill": {
     "duration": null,
     "end_time": null,
     "exception": null,
     "start_time": null,
     "status": "pending"
    },
    "tags": []
   },
   "outputs": [],
   "source": [
    "os.chdir(\"/kaggle/working/\")\n",
    "!ls"
   ]
  },
  {
   "cell_type": "code",
   "execution_count": null,
   "id": "4ed8c5b7",
   "metadata": {
    "execution": {
     "iopub.execute_input": "2022-05-24T21:43:31.691751Z",
     "iopub.status.busy": "2022-05-24T21:43:31.691429Z",
     "iopub.status.idle": "2022-05-24T21:43:31.770276Z",
     "shell.execute_reply": "2022-05-24T21:43:31.76756Z",
     "shell.execute_reply.started": "2022-05-24T21:43:31.691719Z"
    },
    "papermill": {
     "duration": null,
     "end_time": null,
     "exception": null,
     "start_time": null,
     "status": "pending"
    },
    "tags": []
   },
   "outputs": [],
   "source": [
    "model.load_weights(MODEL_FT)\n",
    "model.evaluate_generator(val2_generator, verbose=1)"
   ]
  },
  {
   "cell_type": "code",
   "execution_count": null,
   "id": "4cb43ca4",
   "metadata": {
    "execution": {
     "iopub.execute_input": "2022-05-24T21:43:57.117468Z",
     "iopub.status.busy": "2022-05-24T21:43:57.117119Z",
     "iopub.status.idle": "2022-05-24T21:43:57.665688Z",
     "shell.execute_reply": "2022-05-24T21:43:57.664115Z",
     "shell.execute_reply.started": "2022-05-24T21:43:57.117407Z"
    },
    "papermill": {
     "duration": null,
     "end_time": null,
     "exception": null,
     "start_time": null,
     "status": "pending"
    },
    "tags": []
   },
   "outputs": [],
   "source": [
    "# model.load_weights(MODEL_PATH)\n",
    "model.evaluate_generator(val_generator, verbose=1)"
   ]
  },
  {
   "cell_type": "code",
   "execution_count": null,
   "id": "8f3b672b",
   "metadata": {
    "execution": {
     "iopub.execute_input": "2022-05-24T21:44:01.015578Z",
     "iopub.status.busy": "2022-05-24T21:44:01.015276Z",
     "iopub.status.idle": "2022-05-24T21:44:02.099877Z",
     "shell.execute_reply": "2022-05-24T21:44:02.098424Z",
     "shell.execute_reply.started": "2022-05-24T21:44:01.015546Z"
    },
    "papermill": {
     "duration": null,
     "end_time": null,
     "exception": null,
     "start_time": null,
     "status": "pending"
    },
    "tags": []
   },
   "outputs": [],
   "source": [
    "# model.load_weights(MODEL_PATH)\n",
    "model.evaluate_generator(train_generator, verbose=1)"
   ]
  },
  {
   "cell_type": "code",
   "execution_count": null,
   "id": "ba231d75",
   "metadata": {
    "papermill": {
     "duration": null,
     "end_time": null,
     "exception": null,
     "start_time": null,
     "status": "pending"
    },
    "tags": []
   },
   "outputs": [],
   "source": [
    "#显示第一次训练过程中accuracy和loss的变化\n",
    "import matplotlib.pyplot as plt\n",
    "import seaborn as sns\n",
    "plt.figure(figsize = (12, 6))\n",
    "plt.subplot(121)\n",
    "#plotting the Accuracy of test and training sets\n",
    "plt.plot(history2.history['accuracy'])\n",
    "plt.plot(history2.history['val_accuracy'])\n",
    "plt.title('2ND training Model Accuracy')\n",
    "plt.ylabel('accuracy')\n",
    "plt.xlabel('epoch')\n",
    "plt.legend(['train', 'test'], loc='upper left')\n",
    "\n",
    "plt.subplot(122)\n",
    "#plotting the loss of test and training sets\n",
    "plt.plot(history2.history['loss'])\n",
    "plt.plot(history2.history['val_loss'])\n",
    "plt.title('2ND training Model Loss')\n",
    "plt.ylabel('loss')\n",
    "plt.xlabel('epoch')\n",
    "plt.legend(['train', 'test'], loc='upper left')\n",
    "plt.show()"
   ]
  },
  {
   "cell_type": "code",
   "execution_count": null,
   "id": "30030f41",
   "metadata": {
    "execution": {
     "iopub.execute_input": "2022-05-24T21:44:05.17837Z",
     "iopub.status.busy": "2022-05-24T21:44:05.177372Z",
     "iopub.status.idle": "2022-05-24T21:44:07.618405Z",
     "shell.execute_reply": "2022-05-24T21:44:07.617308Z",
     "shell.execute_reply.started": "2022-05-24T21:44:05.178323Z"
    },
    "papermill": {
     "duration": null,
     "end_time": null,
     "exception": null,
     "start_time": null,
     "status": "pending"
    },
    "tags": []
   },
   "outputs": [],
   "source": [
    "##第二次训练后的模型计分\n",
    "test_2_final_model(model, train_generator, \n",
    "               val_generator, val2_generator, \n",
    "               train_label,\n",
    "               test_label,\n",
    "               val_label, \n",
    "               class_labels = ['idc-', 'idc+'])"
   ]
  },
  {
   "cell_type": "code",
   "execution_count": null,
   "id": "0aecdbf4",
   "metadata": {
    "papermill": {
     "duration": null,
     "end_time": null,
     "exception": null,
     "start_time": null,
     "status": "pending"
    },
    "tags": []
   },
   "outputs": [],
   "source": [
    "print(\"report of val data\")\n",
    "report = sklearn.metrics.classification_report(\n",
    "    np.concatenate([val2_generator[i][1] for i in range(len(val2_generator))]),    \n",
    "    model.predict_generator(val2_generator, steps=len(val2_generator)) \n",
    ")\n",
    "print(report)"
   ]
  },
  {
   "cell_type": "code",
   "execution_count": null,
   "id": "b017578f",
   "metadata": {
    "execution": {
     "iopub.execute_input": "2022-05-24T21:47:00.36366Z",
     "iopub.status.busy": "2022-05-24T21:47:00.363355Z",
     "iopub.status.idle": "2022-05-24T21:47:00.833142Z",
     "shell.execute_reply": "2022-05-24T21:47:00.830992Z",
     "shell.execute_reply.started": "2022-05-24T21:47:00.363628Z"
    },
    "papermill": {
     "duration": null,
     "end_time": null,
     "exception": null,
     "start_time": null,
     "status": "pending"
    },
    "tags": []
   },
   "outputs": [],
   "source": [
    "print(model.predict_generator(val2_generator, steps=len(val2_generator)))"
   ]
  },
  {
   "cell_type": "code",
   "execution_count": null,
   "id": "1c84ef2c",
   "metadata": {
    "execution": {
     "iopub.execute_input": "2022-05-24T21:49:32.882699Z",
     "iopub.status.busy": "2022-05-24T21:49:32.882329Z",
     "iopub.status.idle": "2022-05-24T21:49:33.398414Z",
     "shell.execute_reply": "2022-05-24T21:49:33.397159Z",
     "shell.execute_reply.started": "2022-05-24T21:49:32.882667Z"
    },
    "papermill": {
     "duration": null,
     "end_time": null,
     "exception": null,
     "start_time": null,
     "status": "pending"
    },
    "tags": []
   },
   "outputs": [],
   "source": []
  },
  {
   "cell_type": "code",
   "execution_count": null,
   "id": "787c4afe",
   "metadata": {
    "execution": {
     "iopub.execute_input": "2022-05-24T21:56:18.836679Z",
     "iopub.status.busy": "2022-05-24T21:56:18.835878Z",
     "iopub.status.idle": "2022-05-24T21:56:19.197471Z",
     "shell.execute_reply": "2022-05-24T21:56:19.196286Z",
     "shell.execute_reply.started": "2022-05-24T21:56:18.836642Z"
    },
    "papermill": {
     "duration": null,
     "end_time": null,
     "exception": null,
     "start_time": null,
     "status": "pending"
    },
    "tags": []
   },
   "outputs": [],
   "source": []
  },
  {
   "cell_type": "code",
   "execution_count": null,
   "id": "50980575",
   "metadata": {
    "execution": {
     "iopub.status.busy": "2022-05-24T21:43:31.793477Z",
     "iopub.status.idle": "2022-05-24T21:43:31.794035Z",
     "shell.execute_reply": "2022-05-24T21:43:31.793759Z",
     "shell.execute_reply.started": "2022-05-24T21:43:31.793728Z"
    },
    "papermill": {
     "duration": null,
     "end_time": null,
     "exception": null,
     "start_time": null,
     "status": "pending"
    },
    "tags": []
   },
   "outputs": [],
   "source": [
    "#get_accuracy_metrics(model, X_train, y_train, X_val, y_val, X_test, y_test)"
   ]
  },
  {
   "cell_type": "markdown",
   "id": "96cfcf23",
   "metadata": {
    "papermill": {
     "duration": null,
     "end_time": null,
     "exception": null,
     "start_time": null,
     "status": "pending"
    },
    "tags": []
   },
   "source": [
    "# analyse first model"
   ]
  },
  {
   "cell_type": "code",
   "execution_count": null,
   "id": "5f526e7d",
   "metadata": {
    "execution": {
     "iopub.execute_input": "2022-05-24T21:52:12.722912Z",
     "iopub.status.busy": "2022-05-24T21:52:12.722594Z",
     "iopub.status.idle": "2022-05-24T21:52:12.880411Z",
     "shell.execute_reply": "2022-05-24T21:52:12.879452Z",
     "shell.execute_reply.started": "2022-05-24T21:52:12.722875Z"
    },
    "papermill": {
     "duration": null,
     "end_time": null,
     "exception": null,
     "start_time": null,
     "status": "pending"
    },
    "tags": []
   },
   "outputs": [],
   "source": [
    "model.load_weights(MODEL_PATH)"
   ]
  },
  {
   "cell_type": "code",
   "execution_count": null,
   "id": "1c48ff85",
   "metadata": {
    "execution": {
     "iopub.execute_input": "2022-05-24T21:52:15.767026Z",
     "iopub.status.busy": "2022-05-24T21:52:15.766716Z",
     "iopub.status.idle": "2022-05-24T21:52:16.151893Z",
     "shell.execute_reply": "2022-05-24T21:52:16.15078Z",
     "shell.execute_reply.started": "2022-05-24T21:52:15.766995Z"
    },
    "papermill": {
     "duration": null,
     "end_time": null,
     "exception": null,
     "start_time": null,
     "status": "pending"
    },
    "tags": []
   },
   "outputs": [],
   "source": []
  },
  {
   "cell_type": "code",
   "execution_count": null,
   "id": "cb8e8862",
   "metadata": {
    "execution": {
     "iopub.status.busy": "2022-05-24T21:43:31.801308Z",
     "iopub.status.idle": "2022-05-24T21:43:31.802285Z",
     "shell.execute_reply": "2022-05-24T21:43:31.80197Z",
     "shell.execute_reply.started": "2022-05-24T21:43:31.801925Z"
    },
    "papermill": {
     "duration": null,
     "end_time": null,
     "exception": null,
     "start_time": null,
     "status": "pending"
    },
    "tags": []
   },
   "outputs": [],
   "source": []
  },
  {
   "cell_type": "code",
   "execution_count": null,
   "id": "1cbbc0a2",
   "metadata": {
    "execution": {
     "iopub.execute_input": "2022-05-24T21:52:19.92471Z",
     "iopub.status.busy": "2022-05-24T21:52:19.924033Z",
     "iopub.status.idle": "2022-05-24T21:52:22.866031Z",
     "shell.execute_reply": "2022-05-24T21:52:22.864936Z",
     "shell.execute_reply.started": "2022-05-24T21:52:19.924672Z"
    },
    "papermill": {
     "duration": null,
     "end_time": null,
     "exception": null,
     "start_time": null,
     "status": "pending"
    },
    "tags": []
   },
   "outputs": [],
   "source": []
  },
  {
   "cell_type": "code",
   "execution_count": null,
   "id": "f7d53f4f",
   "metadata": {
    "execution": {
     "iopub.execute_input": "2022-05-24T21:53:00.335392Z",
     "iopub.status.busy": "2022-05-24T21:53:00.33511Z",
     "iopub.status.idle": "2022-05-24T21:53:00.846417Z",
     "shell.execute_reply": "2022-05-24T21:53:00.844961Z",
     "shell.execute_reply.started": "2022-05-24T21:53:00.335362Z"
    },
    "papermill": {
     "duration": null,
     "end_time": null,
     "exception": null,
     "start_time": null,
     "status": "pending"
    },
    "tags": []
   },
   "outputs": [],
   "source": []
  },
  {
   "cell_type": "code",
   "execution_count": null,
   "id": "6389c7e6",
   "metadata": {
    "papermill": {
     "duration": null,
     "end_time": null,
     "exception": null,
     "start_time": null,
     "status": "pending"
    },
    "tags": []
   },
   "outputs": [],
   "source": [
    "model.load_weights(MODEL_FT)"
   ]
  },
  {
   "cell_type": "code",
   "execution_count": null,
   "id": "6ec548f0",
   "metadata": {
    "papermill": {
     "duration": null,
     "end_time": null,
     "exception": null,
     "start_time": null,
     "status": "pending"
    },
    "tags": []
   },
   "outputs": [],
   "source": []
  }
 ],
 "metadata": {
  "kernelspec": {
   "display_name": "Python 3",
   "language": "python",
   "name": "python3"
  },
  "language_info": {
   "codemirror_mode": {
    "name": "ipython",
    "version": 3
   },
   "file_extension": ".py",
   "mimetype": "text/x-python",
   "name": "python",
   "nbconvert_exporter": "python",
   "pygments_lexer": "ipython3",
   "version": "3.7.12"
  },
  "papermill": {
   "default_parameters": {},
   "duration": 14575.320806,
   "end_time": "2022-05-25T20:34:15.037695",
   "environment_variables": {},
   "exception": true,
   "input_path": "__notebook__.ipynb",
   "output_path": "__notebook__.ipynb",
   "parameters": {},
   "start_time": "2022-05-25T16:31:19.716889",
   "version": "2.3.4"
  }
 },
 "nbformat": 4,
 "nbformat_minor": 5
}
