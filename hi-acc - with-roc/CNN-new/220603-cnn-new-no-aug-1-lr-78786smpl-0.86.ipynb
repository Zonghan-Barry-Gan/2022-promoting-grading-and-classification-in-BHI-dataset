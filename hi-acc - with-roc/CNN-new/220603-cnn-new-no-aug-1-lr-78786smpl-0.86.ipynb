{
 "cells": [
  {
   "cell_type": "code",
   "execution_count": 1,
   "id": "9db1860c",
   "metadata": {
    "_cell_guid": "b1076dfc-b9ad-4769-8c92-a6c4dae69d19",
    "_uuid": "8f2839f25d086af736a60e9eeb907d3b93b6e0e5",
    "execution": {
     "iopub.execute_input": "2022-07-07T20:43:17.342984Z",
     "iopub.status.busy": "2022-07-07T20:43:17.341751Z",
     "iopub.status.idle": "2022-07-07T20:43:30.599391Z",
     "shell.execute_reply": "2022-07-07T20:43:30.597966Z"
    },
    "papermill": {
     "duration": 13.274307,
     "end_time": "2022-07-07T20:43:30.602386",
     "exception": false,
     "start_time": "2022-07-07T20:43:17.328079",
     "status": "completed"
    },
    "tags": []
   },
   "outputs": [
    {
     "name": "stdout",
     "output_type": "stream",
     "text": [
      "Collecting Livelossplot\r\n",
      "  Downloading livelossplot-0.5.5-py3-none-any.whl (22 kB)\r\n",
      "Requirement already satisfied: numpy<1.22 in /opt/conda/lib/python3.7/site-packages (from Livelossplot) (1.21.6)\r\n",
      "Requirement already satisfied: matplotlib in /opt/conda/lib/python3.7/site-packages (from Livelossplot) (3.5.2)\r\n",
      "Requirement already satisfied: bokeh in /opt/conda/lib/python3.7/site-packages (from Livelossplot) (2.4.3)\r\n",
      "Requirement already satisfied: ipython==7.* in /opt/conda/lib/python3.7/site-packages (from Livelossplot) (7.33.0)\r\n",
      "Requirement already satisfied: traitlets>=4.2 in /opt/conda/lib/python3.7/site-packages (from ipython==7.*->Livelossplot) (5.2.1.post0)\r\n",
      "Requirement already satisfied: setuptools>=18.5 in /opt/conda/lib/python3.7/site-packages (from ipython==7.*->Livelossplot) (59.8.0)\r\n",
      "Requirement already satisfied: matplotlib-inline in /opt/conda/lib/python3.7/site-packages (from ipython==7.*->Livelossplot) (0.1.3)\r\n",
      "Requirement already satisfied: prompt-toolkit!=3.0.0,!=3.0.1,<3.1.0,>=2.0.0 in /opt/conda/lib/python3.7/site-packages (from ipython==7.*->Livelossplot) (3.0.29)\r\n",
      "Requirement already satisfied: pexpect>4.3 in /opt/conda/lib/python3.7/site-packages (from ipython==7.*->Livelossplot) (4.8.0)\r\n",
      "Requirement already satisfied: backcall in /opt/conda/lib/python3.7/site-packages (from ipython==7.*->Livelossplot) (0.2.0)\r\n",
      "Requirement already satisfied: decorator in /opt/conda/lib/python3.7/site-packages (from ipython==7.*->Livelossplot) (5.1.1)\r\n",
      "Requirement already satisfied: pickleshare in /opt/conda/lib/python3.7/site-packages (from ipython==7.*->Livelossplot) (0.7.5)\r\n",
      "Requirement already satisfied: pygments in /opt/conda/lib/python3.7/site-packages (from ipython==7.*->Livelossplot) (2.12.0)\r\n",
      "Requirement already satisfied: jedi>=0.16 in /opt/conda/lib/python3.7/site-packages (from ipython==7.*->Livelossplot) (0.18.1)\r\n",
      "Requirement already satisfied: PyYAML>=3.10 in /opt/conda/lib/python3.7/site-packages (from bokeh->Livelossplot) (6.0)\r\n",
      "Requirement already satisfied: tornado>=5.1 in /opt/conda/lib/python3.7/site-packages (from bokeh->Livelossplot) (6.1)\r\n",
      "Requirement already satisfied: packaging>=16.8 in /opt/conda/lib/python3.7/site-packages (from bokeh->Livelossplot) (21.3)\r\n",
      "Requirement already satisfied: pillow>=7.1.0 in /opt/conda/lib/python3.7/site-packages (from bokeh->Livelossplot) (9.1.1)\r\n",
      "Requirement already satisfied: Jinja2>=2.9 in /opt/conda/lib/python3.7/site-packages (from bokeh->Livelossplot) (3.1.2)\r\n",
      "Requirement already satisfied: typing-extensions>=3.10.0 in /opt/conda/lib/python3.7/site-packages (from bokeh->Livelossplot) (4.1.1)\r\n",
      "Requirement already satisfied: python-dateutil>=2.7 in /opt/conda/lib/python3.7/site-packages (from matplotlib->Livelossplot) (2.8.2)\r\n",
      "Requirement already satisfied: fonttools>=4.22.0 in /opt/conda/lib/python3.7/site-packages (from matplotlib->Livelossplot) (4.33.3)\r\n",
      "Requirement already satisfied: pyparsing>=2.2.1 in /opt/conda/lib/python3.7/site-packages (from matplotlib->Livelossplot) (3.0.9)\r\n",
      "Requirement already satisfied: kiwisolver>=1.0.1 in /opt/conda/lib/python3.7/site-packages (from matplotlib->Livelossplot) (1.4.2)\r\n",
      "Requirement already satisfied: cycler>=0.10 in /opt/conda/lib/python3.7/site-packages (from matplotlib->Livelossplot) (0.11.0)\r\n",
      "Requirement already satisfied: parso<0.9.0,>=0.8.0 in /opt/conda/lib/python3.7/site-packages (from jedi>=0.16->ipython==7.*->Livelossplot) (0.8.3)\r\n",
      "Requirement already satisfied: MarkupSafe>=2.0 in /opt/conda/lib/python3.7/site-packages (from Jinja2>=2.9->bokeh->Livelossplot) (2.0.1)\r\n",
      "Requirement already satisfied: ptyprocess>=0.5 in /opt/conda/lib/python3.7/site-packages (from pexpect>4.3->ipython==7.*->Livelossplot) (0.7.0)\r\n",
      "Requirement already satisfied: wcwidth in /opt/conda/lib/python3.7/site-packages (from prompt-toolkit!=3.0.0,!=3.0.1,<3.1.0,>=2.0.0->ipython==7.*->Livelossplot) (0.2.5)\r\n",
      "Requirement already satisfied: six>=1.5 in /opt/conda/lib/python3.7/site-packages (from python-dateutil>=2.7->matplotlib->Livelossplot) (1.16.0)\r\n",
      "Installing collected packages: Livelossplot\r\n",
      "Successfully installed Livelossplot-0.5.5\r\n",
      "\u001b[33mWARNING: Running pip as the 'root' user can result in broken permissions and conflicting behaviour with the system package manager. It is recommended to use a virtual environment instead: https://pip.pypa.io/warnings/venv\u001b[0m\u001b[33m\r\n",
      "\u001b[0m"
     ]
    }
   ],
   "source": [
    "# This Python 3 environment comes with many helpful analytics libraries installed\n",
    "# It is defined by the kaggle/python Docker image: https://github.com/kaggle/docker-python\n",
    "# For example, here's several helpful packages to load\n",
    "\n",
    "import numpy as np # linear algebra\n",
    "import pandas as pd # data processing, CSV file I/O (e.g. pd.read_csv)\n",
    "\n",
    "# Input data files are available in the read-only \"../input/\" directory\n",
    "# For example, running this (by clicking run or pressing Shift+Enter) will list all files under the input directory\n",
    "\n",
    "import os\n",
    "\n",
    "import warnings\n",
    "warnings.filterwarnings('ignore')\n",
    "%matplotlib inline\n",
    "!pip install Livelossplot\n",
    "from livelossplot import PlotLossesKeras\n",
    "\n",
    "from glob import glob\n",
    "import os\n",
    "import shutil\n",
    "\n",
    "import numpy as np\n",
    "import pandas as pd\n",
    "# You can write up to 20GB to the current directory (/kaggle/working/) that gets preserved as output when you create a version using \"Save & Run All\" \n",
    "# You can also write temporary files to /kaggle/temp/, but they won't be saved outside of the current session"
   ]
  },
  {
   "cell_type": "markdown",
   "id": "650adcaf",
   "metadata": {
    "papermill": {
     "duration": 0.011414,
     "end_time": "2022-07-07T20:43:30.625882",
     "exception": false,
     "start_time": "2022-07-07T20:43:30.614468",
     "status": "completed"
    },
    "tags": []
   },
   "source": [
    "# AIM\n",
    "## To classify the images into \n",
    "### IDC+\n",
    "### IDC-\n",
    "\n",
    "# Validation Strategy:\n",
    "\n",
    "## Train Data Size= 0.7*Total_Data\n",
    "## Validation Data Size= 0.21* Total_Data\n",
    "## Test Data Size= 0.09 * Total_Data\n",
    "\n",
    "# Augmentaions Used:\n",
    "## Each Image is rotated through 45 angles\n"
   ]
  },
  {
   "cell_type": "code",
   "execution_count": 2,
   "id": "9209b650",
   "metadata": {
    "execution": {
     "iopub.execute_input": "2022-07-07T20:43:30.650757Z",
     "iopub.status.busy": "2022-07-07T20:43:30.650384Z",
     "iopub.status.idle": "2022-07-07T20:43:44.594679Z",
     "shell.execute_reply": "2022-07-07T20:43:44.593027Z"
    },
    "papermill": {
     "duration": 13.960591,
     "end_time": "2022-07-07T20:43:44.597768",
     "exception": false,
     "start_time": "2022-07-07T20:43:30.637177",
     "status": "completed"
    },
    "tags": []
   },
   "outputs": [
    {
     "data": {
      "text/html": [
       "<style type='text/css'>\n",
       ".datatable table.frame { margin-bottom: 0; }\n",
       ".datatable table.frame thead { border-bottom: none; }\n",
       ".datatable table.frame tr.coltypes td {  color: #FFFFFF;  line-height: 6px;  padding: 0 0.5em;}\n",
       ".datatable .bool    { background: #DDDD99; }\n",
       ".datatable .object  { background: #565656; }\n",
       ".datatable .int     { background: #5D9E5D; }\n",
       ".datatable .float   { background: #4040CC; }\n",
       ".datatable .str     { background: #CC4040; }\n",
       ".datatable .time    { background: #40CC40; }\n",
       ".datatable .row_index {  background: var(--jp-border-color3);  border-right: 1px solid var(--jp-border-color0);  color: var(--jp-ui-font-color3);  font-size: 9px;}\n",
       ".datatable .frame tbody td { text-align: left; }\n",
       ".datatable .frame tr.coltypes .row_index {  background: var(--jp-border-color0);}\n",
       ".datatable th:nth-child(2) { padding-left: 12px; }\n",
       ".datatable .hellipsis {  color: var(--jp-cell-editor-border-color);}\n",
       ".datatable .vellipsis {  background: var(--jp-layout-color0);  color: var(--jp-cell-editor-border-color);}\n",
       ".datatable .na {  color: var(--jp-cell-editor-border-color);  font-size: 80%;}\n",
       ".datatable .sp {  opacity: 0.25;}\n",
       ".datatable .footer { font-size: 9px; }\n",
       ".datatable .frame_dimensions {  background: var(--jp-border-color3);  border-top: 1px solid var(--jp-border-color0);  color: var(--jp-ui-font-color3);  display: inline-block;  opacity: 0.6;  padding: 1px 10px 1px 5px;}\n",
       "</style>\n"
      ],
      "text/plain": [
       "<IPython.core.display.HTML object>"
      ]
     },
     "metadata": {},
     "output_type": "display_data"
    },
    {
     "name": "stdout",
     "output_type": "stream",
     "text": [
      "All modules have been imported\n"
     ]
    }
   ],
   "source": [
    "\n",
    "import numpy as np\n",
    "import pandas as pd\n",
    "import cv2\n",
    "from PIL import Image\n",
    "import scipy\n",
    "\n",
    "import tensorflow as tf\n",
    "from tensorflow.keras.applications import *\n",
    "from tensorflow.keras.optimizers import *\n",
    "from tensorflow.keras.losses import *\n",
    "from tensorflow.keras.layers import *\n",
    "from tensorflow.keras.models import *\n",
    "from tensorflow.keras.callbacks import *\n",
    "from tensorflow.keras.preprocessing.image import *\n",
    "from tensorflow.keras.utils import *\n",
    "# import pydot\n",
    "\n",
    "from sklearn.metrics import *\n",
    "from sklearn.model_selection import *\n",
    "import tensorflow.keras.backend as K\n",
    "\n",
    "from tqdm import tqdm, tqdm_notebook\n",
    "from colorama import Fore\n",
    "import json\n",
    "import matplotlib.pyplot as plt\n",
    "import seaborn as sns\n",
    "from glob import glob\n",
    "from skimage.io import *\n",
    "%config Completer.use_jedi = False\n",
    "import time\n",
    "from sklearn.decomposition import PCA\n",
    "from sklearn.svm import LinearSVC\n",
    "from sklearn.linear_model import LogisticRegression\n",
    "from sklearn.metrics import accuracy_score\n",
    "import lightgbm as lgb\n",
    "import xgboost as xgb\n",
    "\n",
    "print(\"All modules have been imported\")"
   ]
  },
  {
   "cell_type": "code",
   "execution_count": 3,
   "id": "38e4ba7a",
   "metadata": {
    "execution": {
     "iopub.execute_input": "2022-07-07T20:43:44.623509Z",
     "iopub.status.busy": "2022-07-07T20:43:44.622479Z",
     "iopub.status.idle": "2022-07-07T20:43:44.628363Z",
     "shell.execute_reply": "2022-07-07T20:43:44.627324Z"
    },
    "papermill": {
     "duration": 0.021757,
     "end_time": "2022-07-07T20:43:44.631299",
     "exception": false,
     "start_time": "2022-07-07T20:43:44.609542",
     "status": "completed"
    },
    "tags": []
   },
   "outputs": [],
   "source": [
    "sampling_seed = 0\n",
    "size_4_training0 = 78786\n",
    "size_4_training1 = 78786\n",
    "img_size = 50\n",
    "training_reshape=(-1, img_size, img_size, 3)\n",
    "epoch_4_test = 30"
   ]
  },
  {
   "cell_type": "code",
   "execution_count": 4,
   "id": "de670b1c",
   "metadata": {
    "execution": {
     "iopub.execute_input": "2022-07-07T20:43:44.657730Z",
     "iopub.status.busy": "2022-07-07T20:43:44.657025Z",
     "iopub.status.idle": "2022-07-07T20:43:44.663160Z",
     "shell.execute_reply": "2022-07-07T20:43:44.662110Z"
    },
    "papermill": {
     "duration": 0.022055,
     "end_time": "2022-07-07T20:43:44.665551",
     "exception": false,
     "start_time": "2022-07-07T20:43:44.643496",
     "status": "completed"
    },
    "tags": []
   },
   "outputs": [],
   "source": [
    "import os\n",
    "os.makedirs('../working/data/train_seg/idc-minus/')     \n",
    "os.makedirs('../working/data/train_seg/idc-plus/')  \n",
    "os.makedirs('../working/data/test_seg/idc-minus/')     \n",
    "os.makedirs('../working/data/test_seg/idc-plus/')  \n",
    "os.makedirs('../working/data/val_seg/idc-minus/')     \n",
    "os.makedirs('../working/data/val_seg/idc-plus/') "
   ]
  },
  {
   "cell_type": "code",
   "execution_count": 5,
   "id": "1125b427",
   "metadata": {
    "execution": {
     "iopub.execute_input": "2022-07-07T20:43:44.691802Z",
     "iopub.status.busy": "2022-07-07T20:43:44.691079Z",
     "iopub.status.idle": "2022-07-07T21:01:14.123378Z",
     "shell.execute_reply": "2022-07-07T21:01:14.120228Z"
    },
    "papermill": {
     "duration": 1049.45357,
     "end_time": "2022-07-07T21:01:14.131770",
     "exception": false,
     "start_time": "2022-07-07T20:43:44.678200",
     "status": "completed"
    },
    "tags": []
   },
   "outputs": [
    {
     "name": "stdout",
     "output_type": "stream",
     "text": [
      "['../input/breast-histopathology-images/IDC_regular_ps50_idx5/10295/0/10295_idx5_x1351_y1101_class0.png', '../input/breast-histopathology-images/IDC_regular_ps50_idx5/10295/0/10295_idx5_x1501_y501_class0.png', '../input/breast-histopathology-images/IDC_regular_ps50_idx5/10295/0/10295_idx5_x1501_y1101_class0.png', '../input/breast-histopathology-images/IDC_regular_ps50_idx5/10295/0/10295_idx5_x451_y901_class0.png', '../input/breast-histopathology-images/IDC_regular_ps50_idx5/10295/0/10295_idx5_x801_y451_class0.png', '../input/breast-histopathology-images/IDC_regular_ps50_idx5/10295/0/10295_idx5_x151_y1051_class0.png', '../input/breast-histopathology-images/IDC_regular_ps50_idx5/10295/0/10295_idx5_x1351_y901_class0.png', '../input/breast-histopathology-images/IDC_regular_ps50_idx5/10295/0/10295_idx5_x701_y651_class0.png', '../input/breast-histopathology-images/IDC_regular_ps50_idx5/10295/0/10295_idx5_x951_y1401_class0.png', '../input/breast-histopathology-images/IDC_regular_ps50_idx5/10295/0/10295_idx5_x601_y501_class0.png']\n",
      "55150\n",
      "7091\n",
      "16545\n",
      "55150\n",
      "7091\n",
      "16545\n"
     ]
    }
   ],
   "source": [
    "\n",
    "import random\n",
    "from glob import glob\n",
    "imagePatches = glob('../input/breast-histopathology-images/IDC_regular_ps50_idx5/**/*.png', recursive=True)\n",
    "train_dir='../working/data/train_seg/'\n",
    "validation_dir='../working/data/val_seg/'\n",
    "#train_dir='../working/data/train_seg/'  \n",
    "#test_dir = '../working/data/test_seg/normal'  \n",
    "test_dir = '../working/data/test_seg/'  \n",
    "\n",
    "class0 = [] # 0 = idc+\n",
    "class1 = [] # 1 = idc-\n",
    "imagePatches = glob('../input/breast-histopathology-images/IDC_regular_ps50_idx5/**/*.png', recursive=True)\n",
    "for filename in imagePatches:\n",
    "    if filename.endswith(\"class0.png\"):\n",
    "         class0.append(filename)\n",
    "    else:\n",
    "        class1.append(filename)\n",
    "\n",
    "print(class0[0:10])\n",
    "\n",
    "#sampling 10000 images from class 0 and class 1 to train the model\n",
    "\n",
    "random.seed(sampling_seed)\n",
    "class0sample=random.sample(class0,size_4_training0)\n",
    "class0label=np.zeros(size_4_training0)\n",
    "class1sample=random.sample(class1,size_4_training1)\n",
    "class1label=np.ones(size_4_training1)\n",
    "\n",
    "class0sample_train, class0sample_test1, class0label_train, class0label_test1 = train_test_split(class0sample, class0label, test_size=0.3, random_state=42)\n",
    "class0sample_val, class0sample_test,  class0label_val, class0label_test = train_test_split(class0sample_test1, class0label_test1, test_size=0.3, random_state=42)\n",
    "print(len(class0sample_train))\n",
    "print(len(class0sample_test))\n",
    "print(len(class0sample_val))\n",
    "class1sample_train, class1sample_test1, class1label_train, class1label_test1 = train_test_split(class1sample, class1label, test_size=0.3, random_state=42)\n",
    "class1sample_val, class1sample_test, class1label_val, class1label_test = train_test_split(class1sample_test1, class1label_test1, test_size=0.3, random_state=42)\n",
    "print(len(class1sample_train))\n",
    "print(len(class1sample_test))\n",
    "print(len(class1sample_val))\n",
    "def read_and_save_data(path, file_name_array):\n",
    "    j=0\n",
    "    for i in file_name_array:\n",
    "        if i.endswith('.png'):\n",
    "          \n",
    "            \n",
    "            #second copy method\n",
    "            head, tail = os.path.split(i)\n",
    "            outputname=str(path+tail)\n",
    "            #outputname=str(path+str(j)+'.png')\n",
    "            #print(outputname)\n",
    "\n",
    "            shutil.copy(i, outputname)\n",
    "             \n",
    "            #print(status2)\n",
    "            \n",
    "            j=j+1\n",
    "            if j==120000:\n",
    "                break\n",
    "            \n",
    "   \n",
    "class0train_path='../working/data/train_seg/idc-minus/'\n",
    "class1train_path='../working/data/train_seg/idc-plus/'\n",
    "class0test_path='../working/data/test_seg/idc-minus/'\n",
    "class1test_path='../working/data/test_seg/idc-plus/'\n",
    "class0val_path='../working/data/val_seg/idc-minus/'\n",
    "class1val_path='../working/data/val_seg/idc-plus/'\n",
    "\n",
    "read_and_save_data(class0train_path,class0sample_train)\n",
    "read_and_save_data(class1train_path,class1sample_train)\n",
    "\n",
    "\n",
    "read_and_save_data(class0test_path,class0sample_test)\n",
    "read_and_save_data(class1test_path,class1sample_test)\n",
    "\n",
    "\n",
    "read_and_save_data(class0val_path,class0sample_val)\n",
    "read_and_save_data(class1val_path,class1sample_val)"
   ]
  },
  {
   "cell_type": "code",
   "execution_count": 6,
   "id": "1c7a5cf6",
   "metadata": {
    "execution": {
     "iopub.execute_input": "2022-07-07T21:01:14.167694Z",
     "iopub.status.busy": "2022-07-07T21:01:14.165982Z",
     "iopub.status.idle": "2022-07-07T21:01:48.077678Z",
     "shell.execute_reply": "2022-07-07T21:01:48.076861Z"
    },
    "papermill": {
     "duration": 33.930687,
     "end_time": "2022-07-07T21:01:48.080577",
     "exception": false,
     "start_time": "2022-07-07T21:01:14.149890",
     "status": "completed"
    },
    "tags": []
   },
   "outputs": [
    {
     "name": "stdout",
     "output_type": "stream",
     "text": [
      "(110300, 50, 50, 3)\n",
      "(14182, 50, 50, 3)\n",
      "(33090, 50, 50, 3)\n"
     ]
    }
   ],
   "source": [
    "\n",
    "\n",
    "\n",
    "import os #Operating System\n",
    "import sys #System\n",
    "import cv2\n",
    "def readImage(path, tag):\n",
    "    j=0\n",
    "    image_data = []\n",
    "    label=[]\n",
    "    for i in os.listdir(path):\n",
    "        imgname=path+i\n",
    "        #print(imgname)\n",
    "        img = cv2.imread(imgname, cv2.IMREAD_COLOR)\n",
    "        img_resized = cv2.resize(img, (img_size,img_size), interpolation=cv2.INTER_LINEAR)\n",
    "        image_data.append(img_resized)\n",
    "        label.append(tag)\n",
    "        #print(img[1])\n",
    "        j=j+1\n",
    "        #if j==10:\n",
    "        #    break\n",
    "        \n",
    "    return image_data, label\n",
    "\n",
    "import numpy as np\n",
    "from tensorflow.keras.utils import *\n",
    "from sklearn.utils import shuffle\n",
    "\n",
    "class0_train, train0_label = readImage(class0train_path, 0)\n",
    "class1_train, train1_label  = readImage(class1train_path, 1)\n",
    "class0_test, test0_label = readImage(class0test_path, 0)\n",
    "class1_test, test1_label = readImage(class1test_path, 1)\n",
    "class0_val, val0_label = readImage(class0val_path, 0)\n",
    "class1_val, val1_label = readImage(class1val_path, 1)\n",
    "\n",
    "def Image_array_process(class0array,label0, class1array, label1):\n",
    "    class0_array=np.array(class0array)\n",
    "    class1_array=np.array(class1array)\n",
    "    combined_data = np.concatenate((class0_array, class1_array))\n",
    "    combined_label= np.concatenate((label0,label1), axis=0)\n",
    "    assert len(combined_data) == len(combined_label)\n",
    "    combined_data, combined_label = shuffle(combined_data, combined_label, random_state=0)\n",
    "    print(combined_data.shape)\n",
    "    length=len(combined_data)\n",
    "    combined_label=to_categorical(combined_label,num_classes=2)\n",
    "    #i=0\n",
    "    #for i in range(length):\n",
    "    #    print(combined_label[i])\n",
    "\n",
    "    #print\n",
    "\n",
    "    #print(class0_array.shape)\n",
    "    #print(combined_data.shape)\n",
    "    '''\n",
    "    training_reshape=(224,224,3)\n",
    "    length=len(combined_data)\n",
    "    print(length)\n",
    "    x =[None]*length\n",
    "    #print(img_data.type)\n",
    "    y =np.zeros(length)\n",
    "    i=0\n",
    "   \n",
    "    for features,label in combined_data:\n",
    "        x[i]=features\n",
    "        #print(x.shape)\n",
    "        y[i]=label\n",
    "        #print(y[i])\n",
    "        i=i+1\n",
    "    \n",
    "            #x = np.array(x).reshape(training_reshape)\n",
    "    x = np.array(x)    \n",
    "    #print(x.shape)\n",
    "    #y=np.array(y)\n",
    "    y=y.astype(int)\n",
    "    y = to_categorical(y)\n",
    "    print(y)\n",
    "    '''  \n",
    "    return combined_data, combined_label\n",
    "\n",
    "\n",
    "X_train, y_train=Image_array_process(class0_train, train0_label, class1_train, train1_label)\n",
    "X_test, y_test=Image_array_process(class0_test, test0_label, class1_test, test1_label)\n",
    "X_val, y_val=Image_array_process(class0_val, val0_label, class1_val, val1_label)"
   ]
  },
  {
   "cell_type": "markdown",
   "id": "adcc8f05",
   "metadata": {
    "papermill": {
     "duration": 0.011403,
     "end_time": "2022-07-07T21:01:48.103752",
     "exception": false,
     "start_time": "2022-07-07T21:01:48.092349",
     "status": "completed"
    },
    "tags": []
   },
   "source": [
    "Image labelling"
   ]
  },
  {
   "cell_type": "code",
   "execution_count": 7,
   "id": "5168f1c4",
   "metadata": {
    "execution": {
     "iopub.execute_input": "2022-07-07T21:01:48.129802Z",
     "iopub.status.busy": "2022-07-07T21:01:48.128806Z",
     "iopub.status.idle": "2022-07-07T21:01:48.134481Z",
     "shell.execute_reply": "2022-07-07T21:01:48.133372Z"
    },
    "papermill": {
     "duration": 0.020998,
     "end_time": "2022-07-07T21:01:48.136602",
     "exception": false,
     "start_time": "2022-07-07T21:01:48.115604",
     "status": "completed"
    },
    "tags": []
   },
   "outputs": [],
   "source": [
    "train_data=X_train\n",
    "train_label=y_train\n",
    "\n",
    "test_data=X_test\n",
    "test_label=y_test\n",
    "\n",
    "val_data=X_val\n",
    "val_label=y_val"
   ]
  },
  {
   "cell_type": "markdown",
   "id": "b9128a21",
   "metadata": {
    "papermill": {
     "duration": 0.011548,
     "end_time": "2022-07-07T21:01:48.159988",
     "exception": false,
     "start_time": "2022-07-07T21:01:48.148440",
     "status": "completed"
    },
    "tags": []
   },
   "source": []
  },
  {
   "cell_type": "markdown",
   "id": "9db8b4bd",
   "metadata": {
    "papermill": {
     "duration": 0.011473,
     "end_time": "2022-07-07T21:01:48.183248",
     "exception": false,
     "start_time": "2022-07-07T21:01:48.171775",
     "status": "completed"
    },
    "tags": []
   },
   "source": [
    "#import image"
   ]
  },
  {
   "cell_type": "code",
   "execution_count": null,
   "id": "efafed32",
   "metadata": {
    "papermill": {
     "duration": 0.011499,
     "end_time": "2022-07-07T21:01:48.206384",
     "exception": false,
     "start_time": "2022-07-07T21:01:48.194885",
     "status": "completed"
    },
    "tags": []
   },
   "outputs": [],
   "source": []
  },
  {
   "cell_type": "code",
   "execution_count": null,
   "id": "9fa93db7",
   "metadata": {
    "papermill": {
     "duration": 0.011389,
     "end_time": "2022-07-07T21:01:48.229446",
     "exception": false,
     "start_time": "2022-07-07T21:01:48.218057",
     "status": "completed"
    },
    "tags": []
   },
   "outputs": [],
   "source": []
  },
  {
   "cell_type": "code",
   "execution_count": 8,
   "id": "30e6787a",
   "metadata": {
    "execution": {
     "iopub.execute_input": "2022-07-07T21:01:48.255002Z",
     "iopub.status.busy": "2022-07-07T21:01:48.254240Z",
     "iopub.status.idle": "2022-07-07T21:01:49.830386Z",
     "shell.execute_reply": "2022-07-07T21:01:49.829240Z"
    },
    "papermill": {
     "duration": 1.59212,
     "end_time": "2022-07-07T21:01:49.833212",
     "exception": false,
     "start_time": "2022-07-07T21:01:48.241092",
     "status": "completed"
    },
    "tags": []
   },
   "outputs": [],
   "source": [
    "from keras.preprocessing.image import ImageDataGenerator\n",
    "from keras.callbacks import ModelCheckpoint\n",
    "from keras.models import load_model\n",
    "from keras.callbacks import *\n",
    "\n",
    "\n",
    "#train_datagen2 = ImageDataGenerator(rescale = 1/255)\n",
    "\n",
    "train_datagen = ImageDataGenerator(rescale = 1.0/255,\n",
    "                                  #width_shift_range = 0.1,\n",
    "                                  #height_shift_range = 0.1,\n",
    "                                  #fill_mode = 'constant',\n",
    "                                  #zoom_range = 0.1,\n",
    "                                  #rotation_range = 20\n",
    "                                  )\n",
    "\n",
    "val_datagen = ImageDataGenerator(rescale = 1.0/255)\n",
    "val2_datagen = ImageDataGenerator(rescale = 1.0/255)\n",
    "\n",
    "train_generator = train_datagen.flow(train_data,\n",
    "                                     train_label, \n",
    "                                     #batch_size = 16, \n",
    "                                     shuffle = False\n",
    "                                    )\n",
    "\n",
    "val_generator = val_datagen.flow(test_data,\n",
    "                                 test_label,\n",
    "                                 #batch_size = 16,\n",
    "                                 shuffle = False\n",
    "                                )\n",
    "val2_generator = val_datagen.flow(val_data,\n",
    "                                 val_label,\n",
    "                                 #batch_size = 16,\n",
    "                                 shuffle = False\n",
    "                                 )"
   ]
  },
  {
   "cell_type": "markdown",
   "id": "1d8530dc",
   "metadata": {
    "papermill": {
     "duration": 0.011643,
     "end_time": "2022-07-07T21:01:49.856765",
     "exception": false,
     "start_time": "2022-07-07T21:01:49.845122",
     "status": "completed"
    },
    "tags": []
   },
   "source": [
    "# Model configure"
   ]
  },
  {
   "cell_type": "code",
   "execution_count": 9,
   "id": "00cf91ea",
   "metadata": {
    "execution": {
     "iopub.execute_input": "2022-07-07T21:01:49.882586Z",
     "iopub.status.busy": "2022-07-07T21:01:49.882178Z",
     "iopub.status.idle": "2022-07-07T21:01:50.351749Z",
     "shell.execute_reply": "2022-07-07T21:01:50.350896Z"
    },
    "papermill": {
     "duration": 0.485219,
     "end_time": "2022-07-07T21:01:50.354128",
     "exception": false,
     "start_time": "2022-07-07T21:01:49.868909",
     "status": "completed"
    },
    "tags": []
   },
   "outputs": [
    {
     "name": "stderr",
     "output_type": "stream",
     "text": [
      "2022-07-07 21:01:50.017641: I tensorflow/core/common_runtime/process_util.cc:146] Creating new thread pool with default inter op setting: 2. Tune using inter_op_parallelism_threads for best performance.\n"
     ]
    },
    {
     "name": "stdout",
     "output_type": "stream",
     "text": [
      "Model: \"sequential\"\n",
      "_________________________________________________________________\n",
      "Layer (type)                 Output Shape              Param #   \n",
      "=================================================================\n",
      "conv2d (Conv2D)              (None, 48, 48, 32)        896       \n",
      "_________________________________________________________________\n",
      "conv2d_1 (Conv2D)            (None, 46, 46, 32)        9248      \n",
      "_________________________________________________________________\n",
      "conv2d_2 (Conv2D)            (None, 44, 44, 32)        9248      \n",
      "_________________________________________________________________\n",
      "max_pooling2d (MaxPooling2D) (None, 22, 22, 32)        0         \n",
      "_________________________________________________________________\n",
      "dropout (Dropout)            (None, 22, 22, 32)        0         \n",
      "_________________________________________________________________\n",
      "conv2d_3 (Conv2D)            (None, 20, 20, 64)        18496     \n",
      "_________________________________________________________________\n",
      "conv2d_4 (Conv2D)            (None, 18, 18, 64)        36928     \n",
      "_________________________________________________________________\n",
      "conv2d_5 (Conv2D)            (None, 16, 16, 64)        36928     \n",
      "_________________________________________________________________\n",
      "max_pooling2d_1 (MaxPooling2 (None, 8, 8, 64)          0         \n",
      "_________________________________________________________________\n",
      "dropout_1 (Dropout)          (None, 8, 8, 64)          0         \n",
      "_________________________________________________________________\n",
      "conv2d_6 (Conv2D)            (None, 6, 6, 128)         73856     \n",
      "_________________________________________________________________\n",
      "conv2d_7 (Conv2D)            (None, 4, 4, 128)         147584    \n",
      "_________________________________________________________________\n",
      "conv2d_8 (Conv2D)            (None, 2, 2, 128)         147584    \n",
      "_________________________________________________________________\n",
      "max_pooling2d_2 (MaxPooling2 (None, 1, 1, 128)         0         \n",
      "_________________________________________________________________\n",
      "dropout_2 (Dropout)          (None, 1, 1, 128)         0         \n",
      "_________________________________________________________________\n",
      "flatten (Flatten)            (None, 128)               0         \n",
      "_________________________________________________________________\n",
      "dense (Dense)                (None, 256)               33024     \n",
      "_________________________________________________________________\n",
      "dropout_3 (Dropout)          (None, 256)               0         \n",
      "_________________________________________________________________\n",
      "dense_1 (Dense)              (None, 2)                 514       \n",
      "=================================================================\n",
      "Total params: 514,306\n",
      "Trainable params: 514,306\n",
      "Non-trainable params: 0\n",
      "_________________________________________________________________\n"
     ]
    }
   ],
   "source": [
    "from keras.models import Sequential\n",
    "\n",
    "\n",
    "kernel_size = (3,3)\n",
    "pool_size= (2,2)\n",
    "first_filters = 32\n",
    "second_filters = 64\n",
    "third_filters = 128\n",
    "\n",
    "dropout_conv = 0.3\n",
    "dropout_dense = 0.3\n",
    "\n",
    "RESNET50_POOLING_AVERAGE = 'avg'\n",
    "DENSE_LAYER_ACTIVATION = 'sigmoid'\n",
    "OBJECTIVE_FUNCTION = 'categorical_crossentropy'\n",
    "\n",
    "# Common accuracy metric for all outputs, but can use different metrics for different output\n",
    "LOSS_METRICS = ['accuracy']\n",
    "\n",
    "# EARLY_STOP_PATIENCE must be < NUM_EPOCHS\n",
    "NUM_EPOCHS = 30\n",
    "EARLY_STOP_PATIENCE = 10\n",
    "#resnet_weights_path = '../input/resnet50/resnet50_weights_tf_dim_ordering_tf_kernels_notop.h5'\n",
    "\n",
    "\n",
    "# fix pretrained layers for deep fea\n",
    "RESNET50_POOLING_AVERAGE = 'avg'\n",
    "DENSE_LAYER_ACTIVATION = 'sigmoid'\n",
    "OBJECTIVE_FUNCTION = 'categorical_crossentropy'\n",
    "\n",
    "# Common accuracy metric for all outputs, but can use different metrics for different output\n",
    "LOSS_METRICS = ['accuracy']\n",
    "\n",
    "#from keras.applications import resnet\n",
    "#base_model=resnet.ResNet50(include_top = True, input_shape=(img_size, img_size, 3), pooling = RESNET50_POOLING_AVERAGE, weights = 'imagenet')\n",
    "#from tensorflow.keras.applications.mobilenet import MobileNet\n",
    "#base_model.trainable = True\n",
    "#model=Sequential()\n",
    "\n",
    "\n",
    "\n",
    "model = Sequential()\n",
    "model.add(Conv2D(first_filters, kernel_size, activation = 'relu', \n",
    "                 input_shape = (img_size, img_size, 3)))\n",
    "model.add(Conv2D(first_filters, kernel_size, activation = 'relu'))\n",
    "model.add(Conv2D(first_filters, kernel_size, activation = 'relu'))\n",
    "model.add(MaxPooling2D(pool_size = pool_size)) \n",
    "model.add(Dropout(dropout_conv))\n",
    "\n",
    "model.add(Conv2D(second_filters, kernel_size, activation ='relu'))\n",
    "model.add(Conv2D(second_filters, kernel_size, activation ='relu'))\n",
    "model.add(Conv2D(second_filters, kernel_size, activation ='relu'))\n",
    "model.add(MaxPooling2D(pool_size = pool_size))\n",
    "model.add(Dropout(dropout_conv))\n",
    "\n",
    "model.add(Conv2D(third_filters, kernel_size, activation ='relu'))\n",
    "model.add(Conv2D(third_filters, kernel_size, activation ='relu'))\n",
    "model.add(Conv2D(third_filters, kernel_size, activation ='relu'))\n",
    "model.add(MaxPooling2D(pool_size = pool_size))\n",
    "model.add(Dropout(dropout_conv))\n",
    "\n",
    "model.add(Flatten())\n",
    "model.add(Dense(256, activation = \"relu\"))\n",
    "model.add(Dropout(dropout_dense))\n",
    "model.add(Dense(2, activation = \"softmax\"))\n",
    "\n",
    "model.summary()\n",
    "\n"
   ]
  },
  {
   "cell_type": "code",
   "execution_count": 10,
   "id": "43cc6437",
   "metadata": {
    "execution": {
     "iopub.execute_input": "2022-07-07T21:01:50.381568Z",
     "iopub.status.busy": "2022-07-07T21:01:50.381164Z",
     "iopub.status.idle": "2022-07-07T21:01:51.778489Z",
     "shell.execute_reply": "2022-07-07T21:01:51.777110Z"
    },
    "papermill": {
     "duration": 1.417201,
     "end_time": "2022-07-07T21:01:51.784207",
     "exception": false,
     "start_time": "2022-07-07T21:01:50.367006",
     "status": "completed"
    },
    "tags": []
   },
   "outputs": [
    {
     "data": {
      "image/png": "[encoded data removed]",
      "text/plain": [
       "<IPython.core.display.Image object>"
      ]
     },
     "execution_count": 10,
     "metadata": {},
     "output_type": "execute_result"
    }
   ],
   "source": [
    "from tensorflow.keras.utils import plot_model\n",
    "from IPython.display import Image\n",
    "plot_model(model, to_file='convnet.png', show_shapes=True, show_layer_names=True)\n",
    "Image(filename='convnet.png') "
   ]
  },
  {
   "cell_type": "code",
   "execution_count": 11,
   "id": "ff4e173d",
   "metadata": {
    "execution": {
     "iopub.execute_input": "2022-07-07T21:01:51.817283Z",
     "iopub.status.busy": "2022-07-07T21:01:51.816540Z",
     "iopub.status.idle": "2022-07-07T21:01:51.821705Z",
     "shell.execute_reply": "2022-07-07T21:01:51.820905Z"
    },
    "papermill": {
     "duration": 0.024113,
     "end_time": "2022-07-07T21:01:51.823872",
     "exception": false,
     "start_time": "2022-07-07T21:01:51.799759",
     "status": "completed"
    },
    "tags": []
   },
   "outputs": [],
   "source": [
    "# os.makedirs('../working/log/')\n",
    "MODEL_INIT = '../working/init_model.h5'\n",
    "MODEL_PATH = '../working/test_model.h5'"
   ]
  },
  {
   "cell_type": "code",
   "execution_count": 12,
   "id": "6ebc78a5",
   "metadata": {
    "execution": {
     "iopub.execute_input": "2022-07-07T21:01:51.856330Z",
     "iopub.status.busy": "2022-07-07T21:01:51.855554Z",
     "iopub.status.idle": "2022-07-07T21:01:51.877859Z",
     "shell.execute_reply": "2022-07-07T21:01:51.876952Z"
    },
    "papermill": {
     "duration": 0.041478,
     "end_time": "2022-07-07T21:01:51.880321",
     "exception": false,
     "start_time": "2022-07-07T21:01:51.838843",
     "status": "completed"
    },
    "tags": []
   },
   "outputs": [],
   "source": [
    "callbacks1 = [EarlyStopping(monitor='val_acc', patience=5, verbose=1), ModelCheckpoint(MODEL_INIT, monitor='val_accuracy', save_best_only=True)]\n",
    "opt = Adam(learning_rate=0.0001)\n",
    "model.compile(loss='categorical_crossentropy', optimizer=opt, metrics=['accuracy'])"
   ]
  },
  {
   "cell_type": "code",
   "execution_count": 13,
   "id": "237481b8",
   "metadata": {
    "execution": {
     "iopub.execute_input": "2022-07-07T21:01:51.912870Z",
     "iopub.status.busy": "2022-07-07T21:01:51.912109Z",
     "iopub.status.idle": "2022-07-08T02:35:51.061214Z",
     "shell.execute_reply": "2022-07-08T02:35:51.058135Z"
    },
    "papermill": {
     "duration": 20039.169627,
     "end_time": "2022-07-08T02:35:51.064881",
     "exception": false,
     "start_time": "2022-07-07T21:01:51.895254",
     "status": "completed"
    },
    "tags": []
   },
   "outputs": [
    {
     "name": "stdout",
     "output_type": "stream",
     "text": [
      "CPU times: user 3 µs, sys: 2 µs, total: 5 µs\n",
      "Wall time: 8.82 µs\n"
     ]
    },
    {
     "name": "stderr",
     "output_type": "stream",
     "text": [
      "2022-07-07 21:01:52.077841: I tensorflow/compiler/mlir/mlir_graph_optimization_pass.cc:185] None of the MLIR Optimization Passes are enabled (registered 2)\n"
     ]
    },
    {
     "name": "stdout",
     "output_type": "stream",
     "text": [
      "Epoch 1/30\n",
      "3447/3447 [==============================] - 587s 170ms/step - loss: 0.4805 - accuracy: 0.7795 - val_loss: 0.4638 - val_accuracy: 0.7907\n",
      "Epoch 2/30\n",
      "3447/3447 [==============================] - 582s 169ms/step - loss: 0.4219 - accuracy: 0.8166 - val_loss: 0.5535 - val_accuracy: 0.7389\n",
      "Epoch 3/30\n",
      "3447/3447 [==============================] - 590s 171ms/step - loss: 0.3955 - accuracy: 0.8294 - val_loss: 0.4184 - val_accuracy: 0.8162\n",
      "Epoch 4/30\n",
      "3447/3447 [==============================] - 590s 171ms/step - loss: 0.3792 - accuracy: 0.8388 - val_loss: 0.4335 - val_accuracy: 0.8119\n",
      "Epoch 5/30\n",
      "3447/3447 [==============================] - 644s 187ms/step - loss: 0.3703 - accuracy: 0.8432 - val_loss: 0.4020 - val_accuracy: 0.8202\n",
      "Epoch 6/30\n",
      "3447/3447 [==============================] - 669s 194ms/step - loss: 0.3607 - accuracy: 0.8475 - val_loss: 0.3899 - val_accuracy: 0.8332\n",
      "Epoch 7/30\n",
      "3447/3447 [==============================] - 658s 191ms/step - loss: 0.3558 - accuracy: 0.8502 - val_loss: 0.3913 - val_accuracy: 0.8278\n",
      "Epoch 8/30\n",
      "3447/3447 [==============================] - 643s 186ms/step - loss: 0.3473 - accuracy: 0.8544 - val_loss: 0.3461 - val_accuracy: 0.8542\n",
      "Epoch 9/30\n",
      "3447/3447 [==============================] - 680s 197ms/step - loss: 0.3425 - accuracy: 0.8564 - val_loss: 0.3682 - val_accuracy: 0.8472\n",
      "Epoch 10/30\n",
      "3447/3447 [==============================] - 679s 197ms/step - loss: 0.3376 - accuracy: 0.8585 - val_loss: 0.3398 - val_accuracy: 0.8560\n",
      "Epoch 11/30\n",
      "3447/3447 [==============================] - 684s 198ms/step - loss: 0.3351 - accuracy: 0.8605 - val_loss: 0.3504 - val_accuracy: 0.8546\n",
      "Epoch 12/30\n",
      "3447/3447 [==============================] - 674s 195ms/step - loss: 0.3294 - accuracy: 0.8625 - val_loss: 0.3701 - val_accuracy: 0.8447\n",
      "Epoch 13/30\n",
      "3447/3447 [==============================] - 682s 198ms/step - loss: 0.3285 - accuracy: 0.8638 - val_loss: 0.3607 - val_accuracy: 0.8401\n",
      "Epoch 14/30\n",
      "3447/3447 [==============================] - 689s 200ms/step - loss: 0.3239 - accuracy: 0.8663 - val_loss: 0.3409 - val_accuracy: 0.8535\n",
      "Epoch 15/30\n",
      "3447/3447 [==============================] - 676s 196ms/step - loss: 0.3191 - accuracy: 0.8668 - val_loss: 0.3446 - val_accuracy: 0.8522\n",
      "Epoch 16/30\n",
      "3447/3447 [==============================] - 647s 188ms/step - loss: 0.3177 - accuracy: 0.8678 - val_loss: 0.3321 - val_accuracy: 0.8572\n",
      "Epoch 17/30\n",
      "3447/3447 [==============================] - 608s 176ms/step - loss: 0.3149 - accuracy: 0.8697 - val_loss: 0.3199 - val_accuracy: 0.8670\n",
      "Epoch 18/30\n",
      "3447/3447 [==============================] - 609s 177ms/step - loss: 0.3124 - accuracy: 0.8703 - val_loss: 0.3780 - val_accuracy: 0.8456\n",
      "Epoch 19/30\n",
      "3447/3447 [==============================] - 651s 189ms/step - loss: 0.3088 - accuracy: 0.8722 - val_loss: 0.3414 - val_accuracy: 0.8520\n",
      "Epoch 20/30\n",
      "3447/3447 [==============================] - 684s 198ms/step - loss: 0.3064 - accuracy: 0.8735 - val_loss: 0.3350 - val_accuracy: 0.8534\n",
      "Epoch 21/30\n",
      "3447/3447 [==============================] - 669s 194ms/step - loss: 0.3036 - accuracy: 0.8746 - val_loss: 0.3436 - val_accuracy: 0.8540\n",
      "Epoch 22/30\n",
      "3447/3447 [==============================] - 671s 195ms/step - loss: 0.3028 - accuracy: 0.8743 - val_loss: 0.3367 - val_accuracy: 0.8572\n",
      "Epoch 23/30\n",
      "3447/3447 [==============================] - 683s 198ms/step - loss: 0.2999 - accuracy: 0.8754 - val_loss: 0.3270 - val_accuracy: 0.8588\n",
      "Epoch 24/30\n",
      "3447/3447 [==============================] - 672s 195ms/step - loss: 0.2981 - accuracy: 0.8768 - val_loss: 0.3399 - val_accuracy: 0.8558\n",
      "Epoch 25/30\n",
      "3447/3447 [==============================] - 673s 195ms/step - loss: 0.2936 - accuracy: 0.8789 - val_loss: 0.3192 - val_accuracy: 0.8646\n",
      "Epoch 26/30\n",
      "3447/3447 [==============================] - 624s 181ms/step - loss: 0.2924 - accuracy: 0.8796 - val_loss: 0.3165 - val_accuracy: 0.8646\n",
      "Epoch 27/30\n",
      "3447/3447 [==============================] - 602s 175ms/step - loss: 0.2903 - accuracy: 0.8804 - val_loss: 0.3270 - val_accuracy: 0.8611\n",
      "Epoch 28/30\n",
      "3447/3447 [==============================] - 602s 175ms/step - loss: 0.2874 - accuracy: 0.8807 - val_loss: 0.3194 - val_accuracy: 0.8643\n",
      "Epoch 29/30\n",
      "3447/3447 [==============================] - 652s 189ms/step - loss: 0.2863 - accuracy: 0.8818 - val_loss: 0.3340 - val_accuracy: 0.8566\n",
      "Epoch 30/30\n",
      "3447/3447 [==============================] - 672s 195ms/step - loss: 0.2822 - accuracy: 0.8838 - val_loss: 0.3686 - val_accuracy: 0.8382\n"
     ]
    }
   ],
   "source": [
    "%time\n",
    "#history1=model.fit(X_train, y_train,validation_data=(X_test, y_test),verbose = 1,epochs = 30,callbacks=callbacks1)\n",
    "history1=model.fit_generator(train_generator,validation_data=val_generator,verbose = 1,epochs = epoch_4_test,callbacks=callbacks1)"
   ]
  },
  {
   "cell_type": "code",
   "execution_count": 14,
   "id": "bd1fad32",
   "metadata": {
    "execution": {
     "iopub.execute_input": "2022-07-08T02:36:07.548219Z",
     "iopub.status.busy": "2022-07-08T02:36:07.547221Z",
     "iopub.status.idle": "2022-07-08T02:36:08.038711Z",
     "shell.execute_reply": "2022-07-08T02:36:08.037778Z"
    },
    "papermill": {
     "duration": 8.92905,
     "end_time": "2022-07-08T02:36:08.041526",
     "exception": false,
     "start_time": "2022-07-08T02:35:59.112476",
     "status": "completed"
    },
    "tags": []
   },
   "outputs": [
    {
     "data": {
      "image/png": "[encoded data removed]",
      "text/plain": [
       "<Figure size 864x432 with 2 Axes>"
      ]
     },
     "metadata": {
      "needs_background": "light"
     },
     "output_type": "display_data"
    }
   ],
   "source": [
    "import matplotlib.pyplot as plt\n",
    "import seaborn as sns\n",
    "plt.figure(figsize = (12, 6))\n",
    "plt.subplot(121)\n",
    "#plotting the Accuracy of test and training sets\n",
    "plt.plot(history1.history['accuracy'])\n",
    "plt.plot(history1.history['val_accuracy'])\n",
    "plt.title('1st training Model Accuracy')\n",
    "plt.ylabel('accuracy')\n",
    "plt.xlabel('epoch')\n",
    "plt.legend(['train', 'test'], loc='upper left')\n",
    "\n",
    "plt.subplot(122)\n",
    "#plotting the loss of test and training sets\n",
    "plt.plot(history1.history['loss'])\n",
    "plt.plot(history1.history['val_loss'])\n",
    "plt.title('1st training Model Loss')\n",
    "plt.ylabel('loss')\n",
    "plt.xlabel('epoch')\n",
    "plt.legend(['train', 'test'], loc='upper left')\n",
    "plt.show()"
   ]
  },
  {
   "cell_type": "code",
   "execution_count": 15,
   "id": "2f2d4f65",
   "metadata": {
    "execution": {
     "iopub.execute_input": "2022-07-08T02:36:24.460868Z",
     "iopub.status.busy": "2022-07-08T02:36:24.460377Z",
     "iopub.status.idle": "2022-07-08T02:39:00.802879Z",
     "shell.execute_reply": "2022-07-08T02:39:00.801647Z"
    },
    "papermill": {
     "duration": 172.432957,
     "end_time": "2022-07-08T02:39:08.743538",
     "exception": false,
     "start_time": "2022-07-08T02:36:16.310581",
     "status": "completed"
    },
    "tags": []
   },
   "outputs": [
    {
     "name": "stdout",
     "output_type": "stream",
     "text": [
      "analyse of 1st model\n",
      "VAL kappa\n",
      "0.7291628890903596\n",
      "analyse 1st model\n",
      "report of val data\n",
      "              precision    recall  f1-score   support\n",
      "\n",
      "           0   0.884302  0.838924  0.861015     16545\n",
      "           1   0.846786  0.890239  0.867969     16545\n",
      "\n",
      "    accuracy                       0.864581     33090\n",
      "   macro avg   0.865544  0.864581  0.864492     33090\n",
      "weighted avg   0.865544  0.864581  0.864492     33090\n",
      "\n"
     ]
    },
    {
     "data": {
      "image/png": "[encoded data removed]",
      "text/plain": [
       "<Figure size 864x432 with 2 Axes>"
      ]
     },
     "metadata": {
      "needs_background": "light"
     },
     "output_type": "display_data"
    }
   ],
   "source": [
    "import sklearn\n",
    "from sklearn.metrics import f1_score, roc_auc_score, cohen_kappa_score, precision_score, recall_score, accuracy_score, confusion_matrix\n",
    "#---------------\n",
    "from keras.models import load_model\n",
    "\n",
    "model1 = load_model(MODEL_INIT, compile=False)\n",
    "print(\"analyse of 1st model\")\n",
    "\n",
    "\n",
    "cf_matrix_val = confusion_matrix(\n",
    "    np.concatenate([np.argmax(val2_generator[i][1], axis=1) for i in range(len(val2_generator))]),    \n",
    "    np.argmax(model1.predict_generator(val2_generator, steps=len(val2_generator)), axis=1) \n",
    ")\n",
    "\n",
    "plt.figure(figsize = (12, 6))\n",
    "sns.heatmap(cf_matrix_val, annot=True, cmap='Blues', fmt='g')\n",
    "plt.title(\"VAL Confusion matrix\")\n",
    "# kappa VAL\n",
    "kappa_val = cohen_kappa_score(\n",
    "    np.concatenate([np.argmax(val2_generator[i][1], axis=1) for i in range(len(val2_generator))]),    \n",
    "    np.argmax(model1.predict_generator(val2_generator, steps=len(val2_generator)), axis=1) \n",
    ")\n",
    "print(\"VAL kappa\")\n",
    "print(kappa_val)\n",
    "\n",
    "\n",
    "\n",
    "print(\"analyse 1st model\")\n",
    "print(\"report of val data\")\n",
    "report = sklearn.metrics.classification_report(\n",
    "    np.concatenate([np.argmax(val2_generator[i][1], axis=1) for i in range(len(val2_generator))]),    \n",
    "    np.argmax(model1.predict_generator(val2_generator, steps=len(val2_generator)), axis=1) , digits=6\n",
    ")\n",
    "print(report)"
   ]
  },
  {
   "cell_type": "code",
   "execution_count": 16,
   "id": "7e49c749",
   "metadata": {
    "execution": {
     "iopub.execute_input": "2022-07-08T02:39:25.247443Z",
     "iopub.status.busy": "2022-07-08T02:39:25.246914Z",
     "iopub.status.idle": "2022-07-08T02:40:29.732541Z",
     "shell.execute_reply": "2022-07-08T02:40:29.731035Z"
    },
    "papermill": {
     "duration": 72.62729,
     "end_time": "2022-07-08T02:40:29.735663",
     "exception": false,
     "start_time": "2022-07-08T02:39:17.108373",
     "status": "completed"
    },
    "tags": []
   },
   "outputs": [
    {
     "name": "stdout",
     "output_type": "stream",
     "text": [
      "report of test data\n",
      "              precision    recall  f1-score   support\n",
      "\n",
      "           0  0.8903555 0.8371175 0.8629161      7091\n",
      "           1  0.8463074 0.8969116 0.8708750      7091\n",
      "\n",
      "    accuracy                      0.8670145     14182\n",
      "   macro avg  0.8683314 0.8670145 0.8668956     14182\n",
      "weighted avg  0.8683314 0.8670145 0.8668956     14182\n",
      "\n",
      "TEST kappa\n",
      "0.7340290509096037\n"
     ]
    },
    {
     "data": {
      "image/png": "[encoded data removed]",
      "text/plain": [
       "<Figure size 864x432 with 2 Axes>"
      ]
     },
     "metadata": {
      "needs_background": "light"
     },
     "output_type": "display_data"
    }
   ],
   "source": [
    "#------------------\n",
    "cf_matrix_test = confusion_matrix(\n",
    "    np.concatenate([np.argmax(val_generator[i][1], axis=1) for i in range(len(val_generator))]),    \n",
    "    np.argmax(model1.predict_generator(val_generator, steps=len(val_generator)), axis=1) \n",
    ")\n",
    "\n",
    "plt.figure(figsize = (12, 6))\n",
    "sns.heatmap(cf_matrix_test, annot=True, cmap='Blues', fmt='g')\n",
    "plt.title(\"Test Confusion matrix\")\n",
    "\n",
    "\n",
    "\n",
    "print(\"report of test data\")\n",
    "import sklearn\n",
    "\n",
    "report = sklearn.metrics.classification_report(\n",
    "    np.concatenate([np.argmax(val_generator[i][1], axis=1) for i in range(len(val_generator))]),    \n",
    "    np.argmax(model1.predict_generator(val_generator, steps=len(val_generator)), axis=1) , digits=7\n",
    ")\n",
    "print(report)\n",
    "\n",
    "\n",
    "# kappa TEST\n",
    "kappa_test = cohen_kappa_score(\n",
    "    np.concatenate([np.argmax(val_generator[i][1], axis=1) for i in range(len(val_generator))]),    \n",
    "    np.argmax(model1.predict_generator(val_generator, steps=len(val_generator)), axis=1)\n",
    ")\n",
    "print(\"TEST kappa\")\n",
    "print(kappa_test)"
   ]
  },
  {
   "cell_type": "markdown",
   "id": "edaa1046",
   "metadata": {
    "papermill": {
     "duration": 7.885345,
     "end_time": "2022-07-08T02:40:45.646729",
     "exception": false,
     "start_time": "2022-07-08T02:40:37.761384",
     "status": "completed"
    },
    "tags": []
   },
   "source": [
    "new roc attempt module"
   ]
  },
  {
   "cell_type": "code",
   "execution_count": 17,
   "id": "b6d85c12",
   "metadata": {
    "execution": {
     "iopub.execute_input": "2022-07-08T02:41:01.896480Z",
     "iopub.status.busy": "2022-07-08T02:41:01.896024Z",
     "iopub.status.idle": "2022-07-08T02:41:23.277649Z",
     "shell.execute_reply": "2022-07-08T02:41:23.276572Z"
    },
    "papermill": {
     "duration": 29.590478,
     "end_time": "2022-07-08T02:41:23.279911",
     "exception": false,
     "start_time": "2022-07-08T02:40:53.689433",
     "status": "completed"
    },
    "tags": []
   },
   "outputs": [
    {
     "name": "stdout",
     "output_type": "stream",
     "text": [
      "roc analysis of test dataset\n"
     ]
    },
    {
     "data": {
      "image/png": "[encoded data removed]",
      "text/plain": [
       "<Figure size 432x288 with 1 Axes>"
      ]
     },
     "metadata": {
      "needs_background": "light"
     },
     "output_type": "display_data"
    },
    {
     "name": "stdout",
     "output_type": "stream",
     "text": [
      "auc value\n",
      "0.9387883576721588\n"
     ]
    }
   ],
   "source": [
    "print(\"roc analysis of test dataset\")\n",
    "#y_score = model1.predict_proba(test_label)\n",
    "y_score = model1.predict_generator(val_generator)\n",
    "from scipy import interp\n",
    "import matplotlib.pyplot as plt\n",
    "from sklearn.metrics import roc_curve, auc\n",
    "# Learn to predict each class against the other\n",
    "\n",
    "\n",
    "n_classes = 2 # number of class\n",
    "\n",
    "\n",
    "\n",
    "\n",
    "# Compute ROC curve and ROC area for each class\n",
    "fpr = dict()\n",
    "tpr = dict()\n",
    "roc_auc = dict()\n",
    "for i in range(n_classes):\n",
    "    fpr[i], tpr[i], _ = roc_curve(test_label[:, i], y_score[:, i])\n",
    "    roc_auc[i] = auc(fpr[i], tpr[i])\n",
    "\n",
    "# Compute micro-average ROC curve and ROC area\n",
    "fpr[\"micro\"], tpr[\"micro\"], _ = roc_curve(test_label.ravel(), y_score.ravel())\n",
    "roc_auc[\"micro\"] = auc(fpr[\"micro\"], tpr[\"micro\"])\n",
    "\n",
    "\n",
    "# The process of drawing a roc-auc curve belonging to a specific class\n",
    "\n",
    "plt.figure()\n",
    "lw = 2 # line_width\n",
    "no_class=1\n",
    "plt.plot(fpr[no_class], tpr[no_class], color='darkorange',\n",
    "         lw=lw, label='ROC curve (area = %0.2f)' % roc_auc[no_class]) # Drawing Curve according to 1. class \n",
    "plt.plot([0, 1], [0, 1], color='navy', lw=lw, linestyle='--')\n",
    "plt.xlim([0.0, 1.0])\n",
    "plt.ylim([0.0, 1.05])\n",
    "plt.xlabel('False Positive Rate')\n",
    "plt.ylabel('True Positive Rate')\n",
    "plt.title('ROC curve')\n",
    "plt.legend(loc=\"lower right\")\n",
    "plt.show()\n",
    "roc_auc = auc(fpr[no_class], tpr[no_class])\n",
    "print(\"auc value\")\n",
    "print(roc_auc)"
   ]
  },
  {
   "cell_type": "code",
   "execution_count": null,
   "id": "c024c46d",
   "metadata": {
    "execution": {
     "iopub.execute_input": "2022-07-06T10:00:37.957502Z",
     "iopub.status.busy": "2022-07-06T10:00:37.956703Z",
     "iopub.status.idle": "2022-07-06T10:00:38.154619Z",
     "shell.execute_reply": "2022-07-06T10:00:38.153486Z",
     "shell.execute_reply.started": "2022-07-06T10:00:37.95746Z"
    },
    "papermill": {
     "duration": 8.173043,
     "end_time": "2022-07-08T02:41:39.536830",
     "exception": false,
     "start_time": "2022-07-08T02:41:31.363787",
     "status": "completed"
    },
    "tags": []
   },
   "outputs": [],
   "source": []
  },
  {
   "cell_type": "code",
   "execution_count": 18,
   "id": "153ec7fb",
   "metadata": {
    "execution": {
     "iopub.execute_input": "2022-07-08T02:41:55.567655Z",
     "iopub.status.busy": "2022-07-08T02:41:55.567217Z",
     "iopub.status.idle": "2022-07-08T02:42:45.519380Z",
     "shell.execute_reply": "2022-07-08T02:42:45.518283Z"
    },
    "papermill": {
     "duration": 58.112284,
     "end_time": "2022-07-08T02:42:45.522349",
     "exception": false,
     "start_time": "2022-07-08T02:41:47.410065",
     "status": "completed"
    },
    "tags": []
   },
   "outputs": [
    {
     "name": "stdout",
     "output_type": "stream",
     "text": [
      "roc analysis of validation dataset\n"
     ]
    },
    {
     "data": {
      "image/png": "[encoded data removed]",
      "text/plain": [
       "<Figure size 432x288 with 1 Axes>"
      ]
     },
     "metadata": {
      "needs_background": "light"
     },
     "output_type": "display_data"
    },
    {
     "name": "stdout",
     "output_type": "stream",
     "text": [
      "auc value\n",
      "0.9371104511711561\n"
     ]
    }
   ],
   "source": [
    "print(\"roc analysis of validation dataset\")\n",
    "#y_score = model1.predict_proba(test_label)\n",
    "y_score = model1.predict_generator(val2_generator)\n",
    "from scipy import interp\n",
    "import matplotlib.pyplot as plt\n",
    "from sklearn.metrics import roc_curve, auc\n",
    "# Learn to predict each class against the other\n",
    "\n",
    "\n",
    "n_classes = 2 # number of class\n",
    "\n",
    "\n",
    "\n",
    "\n",
    "# Compute ROC curve and ROC area for each class\n",
    "fpr = dict()\n",
    "tpr = dict()\n",
    "roc_auc = dict()\n",
    "for i in range(n_classes):\n",
    "    fpr[i], tpr[i], _ = roc_curve(val_label[:, i], y_score[:, i])\n",
    "    roc_auc[i] = auc(fpr[i], tpr[i])\n",
    "\n",
    "# Compute micro-average ROC curve and ROC area\n",
    "fpr[\"micro\"], tpr[\"micro\"], _ = roc_curve(val_label.ravel(), y_score.ravel())\n",
    "roc_auc[\"micro\"] = auc(fpr[\"micro\"], tpr[\"micro\"])\n",
    "\n",
    "\n",
    "# The process of drawing a roc-auc curve belonging to a specific class\n",
    "\n",
    "plt.figure()\n",
    "lw = 2 # line_width\n",
    "no_class=1\n",
    "plt.plot(fpr[no_class], tpr[no_class], color='darkorange',\n",
    "         lw=lw, label='ROC curve (area = %0.2f)' % roc_auc[no_class]) # Drawing Curve according to 1. class \n",
    "plt.plot([0, 1], [0, 1], color='navy', lw=lw, linestyle='--')\n",
    "plt.xlim([0.0, 1.0])\n",
    "plt.ylim([0.0, 1.05])\n",
    "plt.xlabel('False Positive Rate')\n",
    "plt.ylabel('True Positive Rate')\n",
    "plt.title('ROC curve')\n",
    "plt.legend(loc=\"lower right\")\n",
    "plt.show()\n",
    "roc_auc = auc(fpr[no_class], tpr[no_class])\n",
    "print(\"auc value\")\n",
    "print(roc_auc)"
   ]
  },
  {
   "cell_type": "code",
   "execution_count": null,
   "id": "b37536a9",
   "metadata": {
    "papermill": {
     "duration": 8.159357,
     "end_time": "2022-07-08T02:43:02.142793",
     "exception": false,
     "start_time": "2022-07-08T02:42:53.983436",
     "status": "completed"
    },
    "tags": []
   },
   "outputs": [],
   "source": []
  },
  {
   "cell_type": "code",
   "execution_count": null,
   "id": "1470a573",
   "metadata": {
    "papermill": {
     "duration": 8.082203,
     "end_time": "2022-07-08T02:43:18.927547",
     "exception": false,
     "start_time": "2022-07-08T02:43:10.845344",
     "status": "completed"
    },
    "tags": []
   },
   "outputs": [],
   "source": []
  },
  {
   "cell_type": "markdown",
   "id": "47f1f2a8",
   "metadata": {
    "papermill": {
     "duration": 8.077343,
     "end_time": "2022-07-08T02:43:35.415495",
     "exception": false,
     "start_time": "2022-07-08T02:43:27.338152",
     "status": "completed"
    },
    "tags": []
   },
   "source": []
  },
  {
   "cell_type": "code",
   "execution_count": null,
   "id": "af0ed27a",
   "metadata": {
    "papermill": {
     "duration": 8.369629,
     "end_time": "2022-07-08T02:43:52.281560",
     "exception": false,
     "start_time": "2022-07-08T02:43:43.911931",
     "status": "completed"
    },
    "tags": []
   },
   "outputs": [],
   "source": []
  },
  {
   "cell_type": "code",
   "execution_count": null,
   "id": "1f159cad",
   "metadata": {
    "papermill": {
     "duration": 8.453109,
     "end_time": "2022-07-08T02:44:09.098445",
     "exception": false,
     "start_time": "2022-07-08T02:44:00.645336",
     "status": "completed"
    },
    "tags": []
   },
   "outputs": [],
   "source": []
  },
  {
   "cell_type": "code",
   "execution_count": 19,
   "id": "e2af3ea3",
   "metadata": {
    "execution": {
     "iopub.execute_input": "2022-07-08T02:44:25.559333Z",
     "iopub.status.busy": "2022-07-08T02:44:25.558729Z",
     "iopub.status.idle": "2022-07-08T02:45:14.424307Z",
     "shell.execute_reply": "2022-07-08T02:45:14.422594Z"
    },
    "papermill": {
     "duration": 57.178599,
     "end_time": "2022-07-08T02:45:14.427272",
     "exception": false,
     "start_time": "2022-07-08T02:44:17.248673",
     "status": "completed"
    },
    "tags": []
   },
   "outputs": [
    {
     "name": "stdout",
     "output_type": "stream",
     "text": [
      "[[0.0151447  0.98485523]\n",
      " [0.06441884 0.9355812 ]\n",
      " [0.98145264 0.01854739]\n",
      " ...\n",
      " [0.1645062  0.83549374]\n",
      " [0.93591887 0.06408116]\n",
      " [0.78950995 0.21049006]]\n"
     ]
    }
   ],
   "source": [
    "print(model1.predict_generator(val2_generator))"
   ]
  },
  {
   "cell_type": "markdown",
   "id": "83bea7fd",
   "metadata": {
    "papermill": {
     "duration": 8.389646,
     "end_time": "2022-07-08T02:45:30.860174",
     "exception": false,
     "start_time": "2022-07-08T02:45:22.470528",
     "status": "completed"
    },
    "tags": []
   },
   "source": [
    "# Second Training Fine Tune"
   ]
  },
  {
   "cell_type": "markdown",
   "id": "22fa5910",
   "metadata": {
    "execution": {
     "iopub.execute_input": "2022-06-03T23:27:17.22676Z",
     "iopub.status.busy": "2022-06-03T23:27:17.225925Z",
     "iopub.status.idle": "2022-06-03T23:27:17.261756Z",
     "shell.execute_reply": "2022-06-03T23:27:17.260792Z",
     "shell.execute_reply.started": "2022-06-03T23:27:17.22672Z"
    },
    "papermill": {
     "duration": 8.018734,
     "end_time": "2022-07-08T02:45:47.195953",
     "exception": false,
     "start_time": "2022-07-08T02:45:39.177219",
     "status": "completed"
    },
    "tags": []
   },
   "source": [
    "model.load_weights(MODEL_INIT)\n",
    "for model_ly in model.layers:\n",
    "    model_ly.trainable = True"
   ]
  },
  {
   "cell_type": "markdown",
   "id": "e32f3922",
   "metadata": {
    "execution": {
     "iopub.execute_input": "2022-06-03T23:27:17.264461Z",
     "iopub.status.busy": "2022-06-03T23:27:17.263307Z",
     "iopub.status.idle": "2022-06-03T23:27:17.271101Z",
     "shell.execute_reply": "2022-06-03T23:27:17.269841Z",
     "shell.execute_reply.started": "2022-06-03T23:27:17.26442Z"
    },
    "papermill": {
     "duration": 7.966726,
     "end_time": "2022-07-08T02:46:03.691446",
     "exception": false,
     "start_time": "2022-07-08T02:45:55.724720",
     "status": "completed"
    },
    "tags": []
   },
   "source": [
    "callbacks2 = [EarlyStopping(monitor='val_acc', patience=5, verbose=1), \n",
    "              ModelCheckpoint(MODEL_PATH, monitor='val_accuracy', save_best_only=True)]\n",
    "opt = Adam(learning_rate=0.00001)\n",
    "#model.compile(loss='categorical_crossentropy', optimizer=opt, metrics=['accuracy'])"
   ]
  },
  {
   "cell_type": "markdown",
   "id": "18bdf89d",
   "metadata": {
    "execution": {
     "iopub.execute_input": "2022-06-03T23:27:17.273147Z",
     "iopub.status.busy": "2022-06-03T23:27:17.27238Z",
     "iopub.status.idle": "2022-06-03T23:27:17.285806Z",
     "shell.execute_reply": "2022-06-03T23:27:17.284602Z",
     "shell.execute_reply.started": "2022-06-03T23:27:17.273112Z"
    },
    "papermill": {
     "duration": 7.929067,
     "end_time": "2022-07-08T02:46:20.200732",
     "exception": false,
     "start_time": "2022-07-08T02:46:12.271665",
     "status": "completed"
    },
    "tags": []
   },
   "source": [
    "# model.load_weights(\"model.hdf5\")\n",
    "#history2 = model.fit(X_train, y_train,validation_data=(X_test, y_test),verbose = 1,epochs = 30, callbacks=callbacks2)"
   ]
  },
  {
   "cell_type": "markdown",
   "id": "22237128",
   "metadata": {
    "execution": {
     "iopub.execute_input": "2022-06-03T23:27:17.2884Z",
     "iopub.status.busy": "2022-06-03T23:27:17.287804Z",
     "iopub.status.idle": "2022-06-03T23:27:26.604297Z",
     "shell.execute_reply": "2022-06-03T23:27:26.60351Z",
     "shell.execute_reply.started": "2022-06-03T23:27:17.28835Z"
    },
    "papermill": {
     "duration": 7.945263,
     "end_time": "2022-07-08T02:46:36.531510",
     "exception": false,
     "start_time": "2022-07-08T02:46:28.586247",
     "status": "completed"
    },
    "tags": []
   },
   "source": [
    "# model.load_weights(\"model.hdf5\")\n",
    "#history2 = model.fit(X_train, y_train,validation_data=(X_test, y_test),verbose = 1,epochs = 15, callbacks=callbacks2)\n",
    "history2=model.fit_generator(train_generator,validation_data=val_generator,verbose = 1,epochs = epoch_4_test,callbacks=callbacks2)"
   ]
  },
  {
   "cell_type": "markdown",
   "id": "e16630d9",
   "metadata": {
    "execution": {
     "iopub.execute_input": "2022-06-03T23:27:26.606228Z",
     "iopub.status.busy": "2022-06-03T23:27:26.605687Z",
     "iopub.status.idle": "2022-06-03T23:27:26.877721Z",
     "shell.execute_reply": "2022-06-03T23:27:26.87653Z",
     "shell.execute_reply.started": "2022-06-03T23:27:26.606195Z"
    },
    "papermill": {
     "duration": 7.718762,
     "end_time": "2022-07-08T02:46:52.650402",
     "exception": false,
     "start_time": "2022-07-08T02:46:44.931640",
     "status": "completed"
    },
    "tags": []
   },
   "source": [
    "import matplotlib.pyplot as plt\n",
    "import seaborn as sns\n",
    "plt.figure(figsize = (12, 6))\n",
    "plt.subplot(121)\n",
    "#plotting the Accuracy of test and training sets\n",
    "plt.plot(history2.history['accuracy'])\n",
    "plt.plot(history2.history['val_accuracy'])\n",
    "plt.title('2nd training Model Accuracy')\n",
    "plt.ylabel('accuracy')\n",
    "plt.xlabel('epoch')\n",
    "plt.legend(['train', 'test'], loc='upper left')\n",
    "\n",
    "plt.subplot(122)\n",
    "#plotting the loss of test and training sets\n",
    "plt.plot(history2.history['loss'])\n",
    "plt.plot(history2.history['val_loss'])\n",
    "plt.title('2nd training Model Loss')\n",
    "plt.ylabel('loss')\n",
    "plt.xlabel('epoch')\n",
    "plt.legend(['train', 'test'], loc='upper left')\n",
    "plt.show()"
   ]
  },
  {
   "cell_type": "markdown",
   "id": "aad713ae",
   "metadata": {
    "execution": {
     "iopub.execute_input": "2022-06-03T23:27:26.880585Z",
     "iopub.status.busy": "2022-06-03T23:27:26.879459Z",
     "iopub.status.idle": "2022-06-03T23:27:29.499542Z",
     "shell.execute_reply": "2022-06-03T23:27:29.498328Z",
     "shell.execute_reply.started": "2022-06-03T23:27:26.880529Z"
    },
    "papermill": {
     "duration": 7.852944,
     "end_time": "2022-07-08T02:47:08.461594",
     "exception": false,
     "start_time": "2022-07-08T02:47:00.608650",
     "status": "completed"
    },
    "tags": []
   },
   "source": [
    "import sklearn\n",
    "from sklearn.metrics import f1_score, roc_auc_score, cohen_kappa_score, precision_score, recall_score, accuracy_score, confusion_matrix\n",
    "# model是最新版本的mode（stage 2）\n",
    "# 混淆矩阵\n",
    "from keras.models import load_model\n",
    "\n",
    "model2 = load_model(MODEL_PATH, compile=False)\n",
    "print(\"analyse of final model\")\n",
    "\n",
    "\n",
    "cf_matrix_val = confusion_matrix(\n",
    "    np.concatenate([np.argmax(val2_generator[i][1], axis=1) for i in range(len(val2_generator))]),    \n",
    "    np.argmax(model2.predict_generator(val2_generator, steps=len(val2_generator)), axis=1) \n",
    ")\n",
    "\n",
    "plt.figure(figsize = (12, 6))\n",
    "sns.heatmap(cf_matrix_val, annot=True, cmap='Blues')\n",
    "plt.title(\"VAL Confusion matrix\")\n",
    "# kappa VAL\n",
    "kappa_val = cohen_kappa_score(\n",
    "    np.concatenate([np.argmax(val2_generator[i][1], axis=1) for i in range(len(val2_generator))]),    \n",
    "    np.argmax(model2.predict_generator(val2_generator, steps=len(val2_generator)), axis=1) \n",
    ")\n",
    "print(\"VAL kappa\")\n",
    "print(kappa_val)\n",
    "\n",
    "\n",
    "\n",
    "print(\"analyse 1st model\")\n",
    "print(\"report of val data\")\n",
    "report = sklearn.metrics.classification_report(\n",
    "    np.concatenate([np.argmax(val2_generator[i][1], axis=1) for i in range(len(val2_generator))]),    \n",
    "    np.argmax(model2.predict_generator(val2_generator, steps=len(val2_generator)), axis=1) \n",
    ")\n",
    "print(report)"
   ]
  },
  {
   "cell_type": "markdown",
   "id": "bae4d6c1",
   "metadata": {
    "execution": {
     "iopub.execute_input": "2022-06-03T23:27:29.502165Z",
     "iopub.status.busy": "2022-06-03T23:27:29.501602Z",
     "iopub.status.idle": "2022-06-03T23:27:30.853738Z",
     "shell.execute_reply": "2022-06-03T23:27:30.852725Z",
     "shell.execute_reply.started": "2022-06-03T23:27:29.502116Z"
    },
    "papermill": {
     "duration": 8.116413,
     "end_time": "2022-07-08T02:47:24.650670",
     "exception": false,
     "start_time": "2022-07-08T02:47:16.534257",
     "status": "completed"
    },
    "tags": []
   },
   "source": [
    "cf_matrix_test = confusion_matrix(\n",
    "    np.concatenate([np.argmax(val_generator[i][1], axis=1) for i in range(len(val_generator))]),    \n",
    "    np.argmax(model2.predict_generator(val_generator, steps=len(val_generator)), axis=1) \n",
    ")\n",
    "\n",
    "plt.figure(figsize = (12, 6))\n",
    "sns.heatmap(cf_matrix_test, annot=True, cmap='Blues')\n",
    "plt.title(\"Test Confusion matrix\")\n",
    "\n",
    "\n",
    "\n",
    "print(\"report of test data\")\n",
    "import sklearn\n",
    "\n",
    "report = sklearn.metrics.classification_report(\n",
    "    np.concatenate([np.argmax(val_generator[i][1], axis=1) for i in range(len(val_generator))]),    \n",
    "    np.argmax(model2.predict_generator(val_generator, steps=len(val_generator)), axis=1) \n",
    ")\n",
    "print(report)\n",
    "\n",
    "\n",
    "# kappa TEST\n",
    "kappa_test = cohen_kappa_score(\n",
    "    np.concatenate([np.argmax(val_generator[i][1], axis=1) for i in range(len(val_generator))]),    \n",
    "    np.argmax(model2.predict_generator(val_generator, steps=len(val_generator)), axis=1) \n",
    ")\n",
    "print(\"TEST kappa\")\n",
    "print(kappa_test)"
   ]
  }
 ],
 "metadata": {
  "kernelspec": {
   "display_name": "Python 3",
   "language": "python",
   "name": "python3"
  },
  "language_info": {
   "codemirror_mode": {
    "name": "ipython",
    "version": 3
   },
   "file_extension": ".py",
   "mimetype": "text/x-python",
   "name": "python",
   "nbconvert_exporter": "python",
   "pygments_lexer": "ipython3",
   "version": "3.7.12"
  },
  "papermill": {
   "default_parameters": {},
   "duration": 21868.108629,
   "end_time": "2022-07-08T02:47:35.254669",
   "environment_variables": {},
   "exception": null,
   "input_path": "__notebook__.ipynb",
   "output_path": "__notebook__.ipynb",
   "parameters": {},
   "start_time": "2022-07-07T20:43:07.146040",
   "version": "2.3.4"
  }
 },
 "nbformat": 4,
 "nbformat_minor": 5
}
