{
 "cells": [
  {
   "cell_type": "code",
   "execution_count": 1,
   "id": "2a65fc69",
   "metadata": {
    "_cell_guid": "b1076dfc-b9ad-4769-8c92-a6c4dae69d19",
    "_uuid": "8f2839f25d086af736a60e9eeb907d3b93b6e0e5",
    "execution": {
     "iopub.execute_input": "2022-05-16T21:08:19.166306Z",
     "iopub.status.busy": "2022-05-16T21:08:19.165475Z",
     "iopub.status.idle": "2022-05-16T21:08:32.555653Z",
     "shell.execute_reply": "2022-05-16T21:08:32.554880Z"
    },
    "papermill": {
     "duration": 13.422369,
     "end_time": "2022-05-16T21:08:32.557745",
     "exception": false,
     "start_time": "2022-05-16T21:08:19.135376",
     "status": "completed"
    },
    "tags": []
   },
   "outputs": [
    {
     "name": "stdout",
     "output_type": "stream",
     "text": [
      "Collecting Livelossplot\r\n",
      "  Downloading livelossplot-0.5.5-py3-none-any.whl (22 kB)\r\n",
      "Requirement already satisfied: ipython==7.* in /opt/conda/lib/python3.7/site-packages (from Livelossplot) (7.32.0)\r\n",
      "Requirement already satisfied: bokeh in /opt/conda/lib/python3.7/site-packages (from Livelossplot) (2.4.2)\r\n",
      "Requirement already satisfied: numpy<1.22 in /opt/conda/lib/python3.7/site-packages (from Livelossplot) (1.21.6)\r\n",
      "Requirement already satisfied: matplotlib in /opt/conda/lib/python3.7/site-packages (from Livelossplot) (3.5.2)\r\n",
      "Requirement already satisfied: pickleshare in /opt/conda/lib/python3.7/site-packages (from ipython==7.*->Livelossplot) (0.7.5)\r\n",
      "Requirement already satisfied: jedi>=0.16 in /opt/conda/lib/python3.7/site-packages (from ipython==7.*->Livelossplot) (0.18.1)\r\n",
      "Requirement already satisfied: decorator in /opt/conda/lib/python3.7/site-packages (from ipython==7.*->Livelossplot) (5.1.1)\r\n",
      "Requirement already satisfied: setuptools>=18.5 in /opt/conda/lib/python3.7/site-packages (from ipython==7.*->Livelossplot) (59.8.0)\r\n",
      "Requirement already satisfied: backcall in /opt/conda/lib/python3.7/site-packages (from ipython==7.*->Livelossplot) (0.2.0)\r\n",
      "Requirement already satisfied: matplotlib-inline in /opt/conda/lib/python3.7/site-packages (from ipython==7.*->Livelossplot) (0.1.3)\r\n",
      "Requirement already satisfied: pexpect>4.3 in /opt/conda/lib/python3.7/site-packages (from ipython==7.*->Livelossplot) (4.8.0)\r\n",
      "Requirement already satisfied: pygments in /opt/conda/lib/python3.7/site-packages (from ipython==7.*->Livelossplot) (2.11.2)\r\n",
      "Requirement already satisfied: prompt-toolkit!=3.0.0,!=3.0.1,<3.1.0,>=2.0.0 in /opt/conda/lib/python3.7/site-packages (from ipython==7.*->Livelossplot) (3.0.27)\r\n",
      "Requirement already satisfied: traitlets>=4.2 in /opt/conda/lib/python3.7/site-packages (from ipython==7.*->Livelossplot) (5.1.1)\r\n",
      "Requirement already satisfied: PyYAML>=3.10 in /opt/conda/lib/python3.7/site-packages (from bokeh->Livelossplot) (6.0)\r\n",
      "Requirement already satisfied: packaging>=16.8 in /opt/conda/lib/python3.7/site-packages (from bokeh->Livelossplot) (21.3)\r\n",
      "Requirement already satisfied: pillow>=7.1.0 in /opt/conda/lib/python3.7/site-packages (from bokeh->Livelossplot) (9.0.1)\r\n",
      "Requirement already satisfied: Jinja2>=2.9 in /opt/conda/lib/python3.7/site-packages (from bokeh->Livelossplot) (3.1.2)\r\n",
      "Requirement already satisfied: typing-extensions>=3.10.0 in /opt/conda/lib/python3.7/site-packages (from bokeh->Livelossplot) (4.2.0)\r\n",
      "Requirement already satisfied: tornado>=5.1 in /opt/conda/lib/python3.7/site-packages (from bokeh->Livelossplot) (6.1)\r\n",
      "Requirement already satisfied: cycler>=0.10 in /opt/conda/lib/python3.7/site-packages (from matplotlib->Livelossplot) (0.11.0)\r\n",
      "Requirement already satisfied: pyparsing>=2.2.1 in /opt/conda/lib/python3.7/site-packages (from matplotlib->Livelossplot) (3.0.7)\r\n",
      "Requirement already satisfied: fonttools>=4.22.0 in /opt/conda/lib/python3.7/site-packages (from matplotlib->Livelossplot) (4.30.0)\r\n",
      "Requirement already satisfied: python-dateutil>=2.7 in /opt/conda/lib/python3.7/site-packages (from matplotlib->Livelossplot) (2.8.2)\r\n",
      "Requirement already satisfied: kiwisolver>=1.0.1 in /opt/conda/lib/python3.7/site-packages (from matplotlib->Livelossplot) (1.4.0)\r\n",
      "Requirement already satisfied: parso<0.9.0,>=0.8.0 in /opt/conda/lib/python3.7/site-packages (from jedi>=0.16->ipython==7.*->Livelossplot) (0.8.3)\r\n",
      "Requirement already satisfied: MarkupSafe>=2.0 in /opt/conda/lib/python3.7/site-packages (from Jinja2>=2.9->bokeh->Livelossplot) (2.0.1)\r\n",
      "Requirement already satisfied: ptyprocess>=0.5 in /opt/conda/lib/python3.7/site-packages (from pexpect>4.3->ipython==7.*->Livelossplot) (0.7.0)\r\n",
      "Requirement already satisfied: wcwidth in /opt/conda/lib/python3.7/site-packages (from prompt-toolkit!=3.0.0,!=3.0.1,<3.1.0,>=2.0.0->ipython==7.*->Livelossplot) (0.2.5)\r\n",
      "Requirement already satisfied: six>=1.5 in /opt/conda/lib/python3.7/site-packages (from python-dateutil>=2.7->matplotlib->Livelossplot) (1.16.0)\r\n",
      "Installing collected packages: Livelossplot\r\n",
      "Successfully installed Livelossplot-0.5.5\r\n",
      "\u001b[33mWARNING: Running pip as the 'root' user can result in broken permissions and conflicting behaviour with the system package manager. It is recommended to use a virtual environment instead: https://pip.pypa.io/warnings/venv\u001b[0m\u001b[33m\r\n",
      "\u001b[0m"
     ]
    }
   ],
   "source": [
    "# This Python 3 environment comes with many helpful analytics libraries installed\n",
    "# It is defined by the kaggle/python Docker image: https://github.com/kaggle/docker-python\n",
    "# For example, here's several helpful packages to load\n",
    "\n",
    "import numpy as np # linear algebra\n",
    "import pandas as pd # data processing, CSV file I/O (e.g. pd.read_csv)\n",
    "\n",
    "# Input data files are available in the read-only \"../input/\" directory\n",
    "# For example, running this (by clicking run or pressing Shift+Enter) will list all files under the input directory\n",
    "\n",
    "import os\n",
    "\n",
    "import warnings\n",
    "warnings.filterwarnings('ignore')\n",
    "%matplotlib inline\n",
    "!pip install Livelossplot\n",
    "from livelossplot import PlotLossesKeras\n",
    "\n",
    "from glob import glob\n",
    "import os\n",
    "import shutil\n",
    "\n",
    "import numpy as np\n",
    "import pandas as pd\n",
    "# You can write up to 20GB to the current directory (/kaggle/working/) that gets preserved as output when you create a version using \"Save & Run All\" \n",
    "# You can also write temporary files to /kaggle/temp/, but they won't be saved outside of the current session"
   ]
  },
  {
   "cell_type": "markdown",
   "id": "15729704",
   "metadata": {
    "papermill": {
     "duration": 0.047195,
     "end_time": "2022-05-16T21:08:32.648371",
     "exception": false,
     "start_time": "2022-05-16T21:08:32.601176",
     "status": "completed"
    },
    "tags": []
   },
   "source": [
    "# AIM\n",
    "## To classify the images into \n",
    "### IDC+\n",
    "### IDC-\n",
    "\n",
    "# Validation Strategy:\n",
    "\n",
    "## Train Data Size= 0.7*Total_Data\n",
    "## Validation Data Size= 0.21* Total_Data\n",
    "## Test Data Size= 0.09 * Total_Data\n",
    "\n",
    "# Augmentaions Used:\n",
    "## Each Image is rotated through 45 angles\n"
   ]
  },
  {
   "cell_type": "code",
   "execution_count": 2,
   "id": "23609a61",
   "metadata": {
    "execution": {
     "iopub.execute_input": "2022-05-16T21:08:32.744298Z",
     "iopub.status.busy": "2022-05-16T21:08:32.744085Z",
     "iopub.status.idle": "2022-05-16T21:08:40.858440Z",
     "shell.execute_reply": "2022-05-16T21:08:40.857495Z"
    },
    "papermill": {
     "duration": 8.165016,
     "end_time": "2022-05-16T21:08:40.860635",
     "exception": false,
     "start_time": "2022-05-16T21:08:32.695619",
     "status": "completed"
    },
    "tags": []
   },
   "outputs": [
    {
     "data": {
      "text/html": [
       "<style type='text/css'>\n",
       ".datatable table.frame { margin-bottom: 0; }\n",
       ".datatable table.frame thead { border-bottom: none; }\n",
       ".datatable table.frame tr.coltypes td {  color: #FFFFFF;  line-height: 6px;  padding: 0 0.5em;}\n",
       ".datatable .bool    { background: #DDDD99; }\n",
       ".datatable .object  { background: #565656; }\n",
       ".datatable .int     { background: #5D9E5D; }\n",
       ".datatable .float   { background: #4040CC; }\n",
       ".datatable .str     { background: #CC4040; }\n",
       ".datatable .time    { background: #40CC40; }\n",
       ".datatable .row_index {  background: var(--jp-border-color3);  border-right: 1px solid var(--jp-border-color0);  color: var(--jp-ui-font-color3);  font-size: 9px;}\n",
       ".datatable .frame tbody td { text-align: left; }\n",
       ".datatable .frame tr.coltypes .row_index {  background: var(--jp-border-color0);}\n",
       ".datatable th:nth-child(2) { padding-left: 12px; }\n",
       ".datatable .hellipsis {  color: var(--jp-cell-editor-border-color);}\n",
       ".datatable .vellipsis {  background: var(--jp-layout-color0);  color: var(--jp-cell-editor-border-color);}\n",
       ".datatable .na {  color: var(--jp-cell-editor-border-color);  font-size: 80%;}\n",
       ".datatable .sp {  opacity: 0.25;}\n",
       ".datatable .footer { font-size: 9px; }\n",
       ".datatable .frame_dimensions {  background: var(--jp-border-color3);  border-top: 1px solid var(--jp-border-color0);  color: var(--jp-ui-font-color3);  display: inline-block;  opacity: 0.6;  padding: 1px 10px 1px 5px;}\n",
       "</style>\n"
      ],
      "text/plain": [
       "<IPython.core.display.HTML object>"
      ]
     },
     "metadata": {},
     "output_type": "display_data"
    },
    {
     "name": "stdout",
     "output_type": "stream",
     "text": [
      "All modules have been imported\n"
     ]
    }
   ],
   "source": [
    "\n",
    "import numpy as np\n",
    "import pandas as pd\n",
    "import cv2\n",
    "from PIL import Image\n",
    "import scipy\n",
    "\n",
    "import tensorflow as tf\n",
    "from tensorflow.keras.applications import *\n",
    "from tensorflow.keras.optimizers import *\n",
    "from tensorflow.keras.losses import *\n",
    "from tensorflow.keras.layers import *\n",
    "from tensorflow.keras.models import *\n",
    "from tensorflow.keras.callbacks import *\n",
    "from tensorflow.keras.preprocessing.image import *\n",
    "from tensorflow.keras.utils import *\n",
    "# import pydot\n",
    "\n",
    "from sklearn.metrics import *\n",
    "from sklearn.model_selection import *\n",
    "import tensorflow.keras.backend as K\n",
    "\n",
    "from tqdm import tqdm, tqdm_notebook\n",
    "from colorama import Fore\n",
    "import json\n",
    "import matplotlib.pyplot as plt\n",
    "import seaborn as sns\n",
    "from glob import glob\n",
    "from skimage.io import *\n",
    "%config Completer.use_jedi = False\n",
    "import time\n",
    "from sklearn.decomposition import PCA\n",
    "from sklearn.svm import LinearSVC\n",
    "from sklearn.linear_model import LogisticRegression\n",
    "from sklearn.metrics import accuracy_score\n",
    "import lightgbm as lgb\n",
    "import xgboost as xgb\n",
    "\n",
    "print(\"All modules have been imported\")"
   ]
  },
  {
   "cell_type": "code",
   "execution_count": 3,
   "id": "73281dd0",
   "metadata": {
    "execution": {
     "iopub.execute_input": "2022-05-16T21:08:40.960665Z",
     "iopub.status.busy": "2022-05-16T21:08:40.960416Z",
     "iopub.status.idle": "2022-05-16T21:08:40.964442Z",
     "shell.execute_reply": "2022-05-16T21:08:40.963687Z"
    },
    "papermill": {
     "duration": 0.055643,
     "end_time": "2022-05-16T21:08:40.966170",
     "exception": false,
     "start_time": "2022-05-16T21:08:40.910527",
     "status": "completed"
    },
    "tags": []
   },
   "outputs": [],
   "source": [
    "sampling_seed=0\n",
    "size_4_training=5000\n",
    "img_size=224\n",
    "training_reshape=(-1, img_size, img_size, 3)"
   ]
  },
  {
   "cell_type": "markdown",
   "id": "f7085b7e",
   "metadata": {
    "papermill": {
     "duration": 0.047973,
     "end_time": "2022-05-16T21:08:41.064617",
     "exception": false,
     "start_time": "2022-05-16T21:08:41.016644",
     "status": "completed"
    },
    "tags": []
   },
   "source": [
    "Image labelling"
   ]
  },
  {
   "cell_type": "code",
   "execution_count": 4,
   "id": "6652431d",
   "metadata": {
    "execution": {
     "iopub.execute_input": "2022-05-16T21:08:41.163175Z",
     "iopub.status.busy": "2022-05-16T21:08:41.162323Z",
     "iopub.status.idle": "2022-05-16T21:10:40.331961Z",
     "shell.execute_reply": "2022-05-16T21:10:40.331111Z"
    },
    "papermill": {
     "duration": 119.221275,
     "end_time": "2022-05-16T21:10:40.334238",
     "exception": false,
     "start_time": "2022-05-16T21:08:41.112963",
     "status": "completed"
    },
    "tags": []
   },
   "outputs": [
    {
     "name": "stdout",
     "output_type": "stream",
     "text": [
      "['../input/breast-histopathology-images/IDC_regular_ps50_idx5/10295/0/10295_idx5_x1351_y1101_class0.png', '../input/breast-histopathology-images/IDC_regular_ps50_idx5/10295/0/10295_idx5_x1501_y501_class0.png', '../input/breast-histopathology-images/IDC_regular_ps50_idx5/10295/0/10295_idx5_x1501_y1101_class0.png', '../input/breast-histopathology-images/IDC_regular_ps50_idx5/10295/0/10295_idx5_x451_y901_class0.png', '../input/breast-histopathology-images/IDC_regular_ps50_idx5/10295/0/10295_idx5_x801_y451_class0.png', '../input/breast-histopathology-images/IDC_regular_ps50_idx5/10295/0/10295_idx5_x151_y1051_class0.png', '../input/breast-histopathology-images/IDC_regular_ps50_idx5/10295/0/10295_idx5_x1351_y901_class0.png', '../input/breast-histopathology-images/IDC_regular_ps50_idx5/10295/0/10295_idx5_x701_y651_class0.png', '../input/breast-histopathology-images/IDC_regular_ps50_idx5/10295/0/10295_idx5_x951_y1401_class0.png', '../input/breast-histopathology-images/IDC_regular_ps50_idx5/10295/0/10295_idx5_x601_y501_class0.png']\n"
     ]
    }
   ],
   "source": [
    "import random\n",
    "#make directory for labelling\n",
    "os.makedirs('../working/idc2/idc-minus/')     \n",
    "os.makedirs('../working/idc2/idc-plus/')  \n",
    "\n",
    "\n",
    "class0 = [] # 0 = idc+\n",
    "class1 = [] # 1 = idc-\n",
    "imagePatches = glob('../input/breast-histopathology-images/IDC_regular_ps50_idx5/**/*.png', recursive=True)\n",
    "for filename in imagePatches:\n",
    "    if filename.endswith(\"class0.png\"):\n",
    "         class0.append(filename)\n",
    "    else:\n",
    "        class1.append(filename)\n",
    "\n",
    "print(class0[0:10])\n",
    "\n",
    "#sampling 10000 images from class 0 and class 1 to train the model\n",
    "\n",
    "random.seed(sampling_seed)\n",
    "class0sample=random.sample(class0,size_4_training)\n",
    "class1sample=random.sample(class1,size_4_training)\n",
    "\n",
    "\n",
    "def read_and_save_data(path, file_name_array):\n",
    "    j=0\n",
    "    for i in file_name_array:\n",
    "        if i.endswith('.png'):\n",
    "          \n",
    "            \n",
    "            #second copy method\n",
    "            head, tail = os.path.split(i)\n",
    "            outputname=str(path+tail)\n",
    "            #outputname=str(path+str(j)+'.png')\n",
    "            #print(outputname)\n",
    "            shutil.copy(i, outputname)\n",
    "   \n",
    "            #print(status2)\n",
    "            \n",
    "            j=j+1\n",
    "            if j==120000:\n",
    "                break\n",
    "            \n",
    "   \n",
    "class0path='../working/idc2/idc-minus/'\n",
    "class1path='../working/idc2/idc-plus/'\n",
    "\n",
    "\n",
    "\n",
    "\n",
    "read_and_save_data(class0path,class0sample)\n",
    "read_and_save_data(class1path,class1sample)"
   ]
  },
  {
   "cell_type": "markdown",
   "id": "e2f8a4ff",
   "metadata": {
    "papermill": {
     "duration": 0.051113,
     "end_time": "2022-05-16T21:10:40.434169",
     "exception": false,
     "start_time": "2022-05-16T21:10:40.383056",
     "status": "completed"
    },
    "tags": []
   },
   "source": []
  },
  {
   "cell_type": "code",
   "execution_count": null,
   "id": "60ac2e0c",
   "metadata": {
    "papermill": {
     "duration": 0.034207,
     "end_time": "2022-05-16T21:10:40.500392",
     "exception": false,
     "start_time": "2022-05-16T21:10:40.466185",
     "status": "completed"
    },
    "tags": []
   },
   "outputs": [],
   "source": [
    "\n"
   ]
  },
  {
   "cell_type": "code",
   "execution_count": 5,
   "id": "ddca020d",
   "metadata": {
    "execution": {
     "iopub.execute_input": "2022-05-16T21:10:40.575595Z",
     "iopub.status.busy": "2022-05-16T21:10:40.575354Z",
     "iopub.status.idle": "2022-05-16T21:10:40.578638Z",
     "shell.execute_reply": "2022-05-16T21:10:40.578003Z"
    },
    "papermill": {
     "duration": 0.042081,
     "end_time": "2022-05-16T21:10:40.580126",
     "exception": false,
     "start_time": "2022-05-16T21:10:40.538045",
     "status": "completed"
    },
    "tags": []
   },
   "outputs": [],
   "source": [
    "\n",
    "from PIL import Image\n",
    "import glob\n"
   ]
  },
  {
   "cell_type": "code",
   "execution_count": null,
   "id": "01ddd8d8",
   "metadata": {
    "papermill": {
     "duration": 0.032398,
     "end_time": "2022-05-16T21:10:40.645409",
     "exception": false,
     "start_time": "2022-05-16T21:10:40.613011",
     "status": "completed"
    },
    "tags": []
   },
   "outputs": [],
   "source": []
  },
  {
   "cell_type": "code",
   "execution_count": null,
   "id": "4cc9bb1b",
   "metadata": {
    "papermill": {
     "duration": 0.032866,
     "end_time": "2022-05-16T21:10:40.711186",
     "exception": false,
     "start_time": "2022-05-16T21:10:40.678320",
     "status": "completed"
    },
    "tags": []
   },
   "outputs": [],
   "source": []
  },
  {
   "cell_type": "code",
   "execution_count": 6,
   "id": "de692f75",
   "metadata": {
    "execution": {
     "iopub.execute_input": "2022-05-16T21:10:40.779504Z",
     "iopub.status.busy": "2022-05-16T21:10:40.779240Z",
     "iopub.status.idle": "2022-05-16T21:10:40.783731Z",
     "shell.execute_reply": "2022-05-16T21:10:40.783300Z"
    },
    "papermill": {
     "duration": 0.040549,
     "end_time": "2022-05-16T21:10:40.785208",
     "exception": false,
     "start_time": "2022-05-16T21:10:40.744659",
     "status": "completed"
    },
    "tags": []
   },
   "outputs": [],
   "source": [
    "import os #Operating System\n",
    "import sys #System\n",
    "# train_generator = train_datagen.flow(x_train, y_train, batch_size =)\n",
    "# val_generator = val_datagen.flow(x_val, y_val, batch_size = 64)\n",
    "# test_generator=test_datagen.flow(x_test,y_test,batch_size = 64)\n"
   ]
  },
  {
   "cell_type": "markdown",
   "id": "72263d54",
   "metadata": {
    "papermill": {
     "duration": 0.032653,
     "end_time": "2022-05-16T21:10:40.853273",
     "exception": false,
     "start_time": "2022-05-16T21:10:40.820620",
     "status": "completed"
    },
    "tags": []
   },
   "source": [
    "#import image"
   ]
  },
  {
   "cell_type": "code",
   "execution_count": 7,
   "id": "1ea15084",
   "metadata": {
    "execution": {
     "iopub.execute_input": "2022-05-16T21:10:40.921822Z",
     "iopub.status.busy": "2022-05-16T21:10:40.921605Z",
     "iopub.status.idle": "2022-05-16T21:10:40.927083Z",
     "shell.execute_reply": "2022-05-16T21:10:40.926332Z"
    },
    "papermill": {
     "duration": 0.042883,
     "end_time": "2022-05-16T21:10:40.929319",
     "exception": false,
     "start_time": "2022-05-16T21:10:40.886436",
     "status": "completed"
    },
    "tags": []
   },
   "outputs": [],
   "source": [
    "import cv2\n",
    "'''\n",
    "def readImage(path, X, Y, label):\n",
    "    j=0\n",
    " \n",
    "    for i in os.listdir(path):\n",
    "        imgname=path+i\n",
    "        #print(imgname)\n",
    "        img = cv2.imread(imgname, cv2.IMREAD_COLOR)\n",
    "        img =cv2.resize(img,(50, 50))\n",
    "        X.append(img)\n",
    "        Y.append(label)\n",
    "        j=j+1\n",
    "        #if j==10:\n",
    "        #    break\n",
    "        \n",
    "    return X, Y\n",
    "    '''\n",
    "def readImage(path, tag):\n",
    "    j=0\n",
    "    image_array = []\n",
    "    for i in os.listdir(path):\n",
    "        imgname=path+i\n",
    "        #print(imgname)\n",
    "        img = cv2.imread(imgname, cv2.IMREAD_COLOR)\n",
    "        img_resized = cv2.resize(img, (img_size,img_size), interpolation=cv2.INTER_LINEAR)\n",
    "        image_array.append([img_resized, tag])\n",
    "        #print(img[1])\n",
    "        j=j+1\n",
    "        #if j==10:\n",
    "        #    break\n",
    "        \n",
    "    return image_array"
   ]
  },
  {
   "cell_type": "code",
   "execution_count": 8,
   "id": "876361d7",
   "metadata": {
    "execution": {
     "iopub.execute_input": "2022-05-16T21:10:41.030768Z",
     "iopub.status.busy": "2022-05-16T21:10:41.030491Z",
     "iopub.status.idle": "2022-05-16T21:10:43.635672Z",
     "shell.execute_reply": "2022-05-16T21:10:43.634858Z"
    },
    "papermill": {
     "duration": 2.658206,
     "end_time": "2022-05-16T21:10:43.638056",
     "exception": false,
     "start_time": "2022-05-16T21:10:40.979850",
     "status": "completed"
    },
    "tags": []
   },
   "outputs": [
    {
     "name": "stdout",
     "output_type": "stream",
     "text": [
      "(5000, 2)\n",
      "(10000, 2)\n",
      "(10000, 224, 224, 3)\n"
     ]
    }
   ],
   "source": [
    "import numpy as np\n",
    "\n",
    "\n",
    "class0_array = readImage(class0path, 0)\n",
    "class1_array = readImage(class1path, 1)\n",
    "class0_array=np.array(class0_array)\n",
    "class1_array=np.array(class1_array)\n",
    "combined_data = np.concatenate((class0_array, class1_array))\n",
    "random.seed(41)\n",
    "random.shuffle(combined_data)\n",
    "print(class0_array.shape)\n",
    "print(combined_data.shape)\n",
    "\n",
    "X = []\n",
    "y = []\n",
    "\n",
    "for features,label in combined_data:\n",
    "    X.append(features)\n",
    "    y.append(label)\n",
    "#print(X.shape)\n",
    "#pring(y.shape)\n",
    "\n",
    "# reshape X data\n",
    "X = np.array(X).reshape(training_reshape)\n",
    "print(X.shape)"
   ]
  },
  {
   "cell_type": "code",
   "execution_count": 9,
   "id": "d3d28241",
   "metadata": {
    "execution": {
     "iopub.execute_input": "2022-05-16T21:10:43.741204Z",
     "iopub.status.busy": "2022-05-16T21:10:43.741000Z",
     "iopub.status.idle": "2022-05-16T21:10:44.072283Z",
     "shell.execute_reply": "2022-05-16T21:10:44.071428Z"
    },
    "papermill": {
     "duration": 0.385423,
     "end_time": "2022-05-16T21:10:44.074777",
     "exception": false,
     "start_time": "2022-05-16T21:10:43.689354",
     "status": "completed"
    },
    "tags": []
   },
   "outputs": [
    {
     "name": "stdout",
     "output_type": "stream",
     "text": [
      "(7000, 224, 224, 3) (900, 224, 224, 3) (2100, 224, 224, 3) (7000, 2) (900, 2) (2100, 2)\n"
     ]
    }
   ],
   "source": [
    "X_train, X_test1, y_train, y_test1 = train_test_split(X, y, test_size=0.3, random_state=42)\n",
    "X_val, X_test, y_val, y_test = train_test_split(X_test1, y_test1, test_size=0.3, random_state=42)\n",
    "y_train = to_categorical(y_train)\n",
    "y_test = to_categorical(y_test)\n",
    "y_val = to_categorical(y_val)\n",
    "print(X_train.shape, X_test.shape, X_val.shape, y_train.shape, y_test.shape, y_val.shape)"
   ]
  },
  {
   "cell_type": "code",
   "execution_count": 10,
   "id": "eced2643",
   "metadata": {
    "execution": {
     "iopub.execute_input": "2022-05-16T21:10:44.144881Z",
     "iopub.status.busy": "2022-05-16T21:10:44.144455Z",
     "iopub.status.idle": "2022-05-16T21:10:44.148617Z",
     "shell.execute_reply": "2022-05-16T21:10:44.148140Z"
    },
    "papermill": {
     "duration": 0.040533,
     "end_time": "2022-05-16T21:10:44.150015",
     "exception": false,
     "start_time": "2022-05-16T21:10:44.109482",
     "status": "completed"
    },
    "tags": []
   },
   "outputs": [],
   "source": [
    "#Callbacks\n",
    "c2=tf.keras.callbacks.EarlyStopping(\n",
    "    monitor=\"val_loss\",\n",
    "    min_delta=0,\n",
    "    patience=6,\n",
    "    mode=\"auto\",\n",
    "    baseline=None,\n",
    "    restore_best_weights=True,\n",
    ")\n",
    "\n",
    "c3=tf.keras.callbacks.ReduceLROnPlateau(\n",
    "    monitor=\"val_loss\",\n",
    "    factor=0.1,\n",
    "    patience=6,\n",
    "    mode=\"auto\",\n",
    "    min_delta=0.0001,\n",
    "    cooldown=0,\n",
    "    min_lr=0.001\n",
    ")\n",
    "nClasses=2"
   ]
  },
  {
   "cell_type": "markdown",
   "id": "91bc1e5b",
   "metadata": {
    "papermill": {
     "duration": 0.034867,
     "end_time": "2022-05-16T21:10:44.218663",
     "exception": false,
     "start_time": "2022-05-16T21:10:44.183796",
     "status": "completed"
    },
    "tags": []
   },
   "source": [
    "# MobileNet"
   ]
  },
  {
   "cell_type": "code",
   "execution_count": 11,
   "id": "1a94f07e",
   "metadata": {
    "execution": {
     "iopub.execute_input": "2022-05-16T21:10:44.288496Z",
     "iopub.status.busy": "2022-05-16T21:10:44.287816Z",
     "iopub.status.idle": "2022-05-16T21:10:46.867791Z",
     "shell.execute_reply": "2022-05-16T21:10:46.866498Z"
    },
    "papermill": {
     "duration": 2.617732,
     "end_time": "2022-05-16T21:10:46.870307",
     "exception": false,
     "start_time": "2022-05-16T21:10:44.252575",
     "status": "completed"
    },
    "tags": []
   },
   "outputs": [
    {
     "name": "stderr",
     "output_type": "stream",
     "text": [
      "2022-05-16 21:10:44.344496: I tensorflow/core/common_runtime/process_util.cc:146] Creating new thread pool with default inter op setting: 2. Tune using inter_op_parallelism_threads for best performance.\n"
     ]
    },
    {
     "name": "stdout",
     "output_type": "stream",
     "text": [
      "Downloading data from https://storage.googleapis.com/tensorflow/keras-applications/mobilenet/mobilenet_1_0_224_tf_no_top.h5\n",
      "17227776/17225924 [==============================] - 0s 0us/step\n",
      "17235968/17225924 [==============================] - 0s 0us/step\n",
      "Model: \"sequential\"\n",
      "_________________________________________________________________\n",
      "Layer (type)                 Output Shape              Param #   \n",
      "=================================================================\n",
      "mobilenet_1.00_224 (Function (None, 7, 7, 1024)        3228864   \n",
      "_________________________________________________________________\n",
      "flatten (Flatten)            (None, 50176)             0         \n",
      "_________________________________________________________________\n",
      "batch_normalization (BatchNo (None, 50176)             200704    \n",
      "_________________________________________________________________\n",
      "dense (Dense)                (None, 4096)              205524992 \n",
      "_________________________________________________________________\n",
      "batch_normalization_1 (Batch (None, 4096)              16384     \n",
      "_________________________________________________________________\n",
      "activation (Activation)      (None, 4096)              0         \n",
      "_________________________________________________________________\n",
      "dropout (Dropout)            (None, 4096)              0         \n",
      "_________________________________________________________________\n",
      "dense_1 (Dense)              (None, 2096)              8587312   \n",
      "_________________________________________________________________\n",
      "dense_2 (Dense)              (None, 2)                 4194      \n",
      "=================================================================\n",
      "Total params: 217,562,450\n",
      "Trainable params: 214,225,042\n",
      "Non-trainable params: 3,337,408\n",
      "_________________________________________________________________\n"
     ]
    }
   ],
   "source": [
    "\n",
    "\n",
    "from tensorflow.keras.applications import MobileNet\n",
    "base_Neural_Net= MobileNet(input_shape=(img_size, img_size, 3), weights='imagenet', include_top=False)\n",
    "base_Neural_Net.trainable = False\n",
    "model=Sequential()\n",
    "model.add(base_Neural_Net)\n",
    "model.add(Flatten())\n",
    "model.add(BatchNormalization())\n",
    "model.add(Dense(4096,kernel_initializer='he_uniform'))\n",
    "model.add(BatchNormalization())\n",
    "model.add(Activation('relu'))\n",
    "model.add(Dropout(0.5))\n",
    "model.add(Dense(2096,activation=\"relu\"))\n",
    "model.add(Dense(2, activation='sigmoid'))\n",
    "#model = Model(inputs=resnet50_base_model.input, outputs=predictions)\n",
    "model.summary()\n"
   ]
  },
  {
   "cell_type": "code",
   "execution_count": 12,
   "id": "79696ac4",
   "metadata": {
    "execution": {
     "iopub.execute_input": "2022-05-16T21:10:46.944134Z",
     "iopub.status.busy": "2022-05-16T21:10:46.943799Z",
     "iopub.status.idle": "2022-05-16T21:10:48.113195Z",
     "shell.execute_reply": "2022-05-16T21:10:48.112483Z"
    },
    "papermill": {
     "duration": 1.208074,
     "end_time": "2022-05-16T21:10:48.114977",
     "exception": false,
     "start_time": "2022-05-16T21:10:46.906903",
     "status": "completed"
    },
    "tags": []
   },
   "outputs": [
    {
     "data": {
      "image/png": "[encoded data removed]",
      "text/plain": [
       "<IPython.core.display.Image object>"
      ]
     },
     "execution_count": 12,
     "metadata": {},
     "output_type": "execute_result"
    }
   ],
   "source": [
    "from tensorflow.keras.utils import plot_model\n",
    "from IPython.display import Image\n",
    "plot_model(model, to_file='convnet.png', show_shapes=True,show_layer_names=True)\n",
    "Image(filename='convnet.png') "
   ]
  },
  {
   "cell_type": "code",
   "execution_count": 13,
   "id": "ed8040d1",
   "metadata": {
    "execution": {
     "iopub.execute_input": "2022-05-16T21:10:48.195031Z",
     "iopub.status.busy": "2022-05-16T21:10:48.194768Z",
     "iopub.status.idle": "2022-05-16T21:10:48.212978Z",
     "shell.execute_reply": "2022-05-16T21:10:48.212284Z"
    },
    "papermill": {
     "duration": 0.060294,
     "end_time": "2022-05-16T21:10:48.214731",
     "exception": false,
     "start_time": "2022-05-16T21:10:48.154437",
     "status": "completed"
    },
    "tags": []
   },
   "outputs": [],
   "source": [
    "callbacks1 = [EarlyStopping(monitor='val_loss', patience=5, verbose=1), ModelCheckpoint('model.hdf5', save_best_only=True)]\n",
    "opt = Adam(learning_rate=0.001)\n",
    "model.compile(loss='categorical_crossentropy', optimizer=opt, metrics=['accuracy'])"
   ]
  },
  {
   "cell_type": "code",
   "execution_count": 14,
   "id": "41261c74",
   "metadata": {
    "execution": {
     "iopub.execute_input": "2022-05-16T21:10:48.295934Z",
     "iopub.status.busy": "2022-05-16T21:10:48.294292Z",
     "iopub.status.idle": "2022-05-16T21:36:10.293832Z",
     "shell.execute_reply": "2022-05-16T21:36:10.292290Z"
    },
    "papermill": {
     "duration": 1522.041354,
     "end_time": "2022-05-16T21:36:10.295994",
     "exception": false,
     "start_time": "2022-05-16T21:10:48.254640",
     "status": "completed"
    },
    "tags": []
   },
   "outputs": [
    {
     "name": "stdout",
     "output_type": "stream",
     "text": [
      "CPU times: user 2 µs, sys: 1e+03 ns, total: 3 µs\n",
      "Wall time: 5.25 µs\n"
     ]
    },
    {
     "name": "stderr",
     "output_type": "stream",
     "text": [
      "2022-05-16 21:10:48.650766: I tensorflow/compiler/mlir/mlir_graph_optimization_pass.cc:185] None of the MLIR Optimization Passes are enabled (registered 2)\n"
     ]
    },
    {
     "name": "stdout",
     "output_type": "stream",
     "text": [
      "Epoch 1/30\n",
      "219/219 [==============================] - 214s 965ms/step - loss: 0.4310 - accuracy: 0.8709 - val_loss: 0.2782 - val_accuracy: 0.8944\n",
      "Epoch 2/30\n",
      "219/219 [==============================] - 211s 962ms/step - loss: 0.2008 - accuracy: 0.9214 - val_loss: 0.2663 - val_accuracy: 0.9156\n",
      "Epoch 3/30\n",
      "219/219 [==============================] - 213s 972ms/step - loss: 0.1072 - accuracy: 0.9617 - val_loss: 0.2993 - val_accuracy: 0.9222\n",
      "Epoch 4/30\n",
      "219/219 [==============================] - 219s 1s/step - loss: 0.0725 - accuracy: 0.9733 - val_loss: 0.4136 - val_accuracy: 0.9211\n",
      "Epoch 5/30\n",
      "219/219 [==============================] - 219s 999ms/step - loss: 0.0478 - accuracy: 0.9826 - val_loss: 0.4313 - val_accuracy: 0.9344\n",
      "Epoch 6/30\n",
      "219/219 [==============================] - 217s 991ms/step - loss: 0.0360 - accuracy: 0.9857 - val_loss: 0.5753 - val_accuracy: 0.9322\n",
      "Epoch 7/30\n",
      "219/219 [==============================] - 213s 971ms/step - loss: 0.0337 - accuracy: 0.9890 - val_loss: 0.4672 - val_accuracy: 0.9356\n",
      "Epoch 00007: early stopping\n"
     ]
    }
   ],
   "source": [
    "%time\n",
    "history1=model.fit(X_train, y_train,validation_data=(X_test, y_test),verbose = 1,epochs = 30,callbacks=callbacks1)"
   ]
  },
  {
   "cell_type": "code",
   "execution_count": 15,
   "id": "3affa251",
   "metadata": {
    "execution": {
     "iopub.execute_input": "2022-05-16T21:36:11.462909Z",
     "iopub.status.busy": "2022-05-16T21:36:11.462499Z",
     "iopub.status.idle": "2022-05-16T21:36:11.468859Z",
     "shell.execute_reply": "2022-05-16T21:36:11.468131Z"
    },
    "papermill": {
     "duration": 0.507297,
     "end_time": "2022-05-16T21:36:11.470302",
     "exception": false,
     "start_time": "2022-05-16T21:36:10.963005",
     "status": "completed"
    },
    "tags": []
   },
   "outputs": [],
   "source": [
    "def f1_score(y_true, y_pred): #taken from old keras source code\n",
    "    true_positives = K.sum(K.round(K.clip(y_true * y_pred, 0, 1)))\n",
    "    possible_positives = K.sum(K.round(K.clip(y_true, 0, 1)))\n",
    "    predicted_positives = K.sum(K.round(K.clip(y_pred, 0, 1)))\n",
    "    precision = true_positives / (predicted_positives + K.epsilon())\n",
    "    recall = true_positives / (possible_positives + K.epsilon())\n",
    "    f1_val = 2*(precision*recall)/(precision+recall+K.epsilon())\n",
    "    return f1_val"
   ]
  },
  {
   "cell_type": "code",
   "execution_count": 16,
   "id": "cc37f46c",
   "metadata": {
    "execution": {
     "iopub.execute_input": "2022-05-16T21:36:12.493434Z",
     "iopub.status.busy": "2022-05-16T21:36:12.493157Z",
     "iopub.status.idle": "2022-05-16T21:36:12.516668Z",
     "shell.execute_reply": "2022-05-16T21:36:12.515592Z"
    },
    "papermill": {
     "duration": 0.542933,
     "end_time": "2022-05-16T21:36:12.518527",
     "exception": false,
     "start_time": "2022-05-16T21:36:11.975594",
     "status": "completed"
    },
    "tags": []
   },
   "outputs": [],
   "source": [
    "METRICS = [\n",
    "      tf.keras.metrics.BinaryAccuracy(name='accuracy'),\n",
    "      tf.keras.metrics.Precision(name='precision'),\n",
    "      tf.keras.metrics.Recall(name='recall'),  \n",
    "      tf.keras.metrics.AUC(name='auc'),\n",
    "        f1_score,\n",
    "]"
   ]
  },
  {
   "cell_type": "code",
   "execution_count": null,
   "id": "f27d203f",
   "metadata": {
    "execution": {
     "iopub.execute_input": "2022-05-06T15:08:04.489795Z",
     "iopub.status.busy": "2022-05-06T15:08:04.488846Z",
     "iopub.status.idle": "2022-05-06T15:08:04.918152Z",
     "shell.execute_reply": "2022-05-06T15:08:04.917046Z",
     "shell.execute_reply.started": "2022-05-06T15:08:04.489742Z"
    },
    "papermill": {
     "duration": 0.507683,
     "end_time": "2022-05-16T21:36:13.789601",
     "exception": false,
     "start_time": "2022-05-16T21:36:13.281918",
     "status": "completed"
    },
    "tags": []
   },
   "outputs": [],
   "source": []
  },
  {
   "cell_type": "code",
   "execution_count": 17,
   "id": "a1b57769",
   "metadata": {
    "execution": {
     "iopub.execute_input": "2022-05-16T21:36:14.807696Z",
     "iopub.status.busy": "2022-05-16T21:36:14.807094Z",
     "iopub.status.idle": "2022-05-16T21:36:48.209347Z",
     "shell.execute_reply": "2022-05-16T21:36:48.208379Z"
    },
    "papermill": {
     "duration": 34.686783,
     "end_time": "2022-05-16T21:36:48.987691",
     "exception": false,
     "start_time": "2022-05-16T21:36:14.300908",
     "status": "completed"
    },
    "tags": []
   },
   "outputs": [
    {
     "data": {
      "image/png": "[encoded data removed]",
      "text/plain": [
       "<Figure size 576x576 with 2 Axes>"
      ]
     },
     "metadata": {
      "needs_background": "light"
     },
     "output_type": "display_data"
    }
   ],
   "source": [
    "from sklearn.metrics import confusion_matrix\n",
    "import seaborn as sns\n",
    "\n",
    "Y_pred = model.predict(X_val)\n",
    "Y_pred_classes = np.argmax(Y_pred,axis = 1) \n",
    "Y_true = np.argmax(y_val,axis = 1) \n",
    "\n",
    "confusion_mtx = confusion_matrix(Y_true, Y_pred_classes) \n",
    "\n",
    "f,ax = plt.subplots(figsize=(8, 8))\n",
    "sns.heatmap(confusion_mtx, annot=True, linewidths=0.01,cmap=\"OrRd\",linecolor=\"black\", fmt= '.1f',ax=ax)\n",
    "plt.xlabel(\"Predicted Label\")\n",
    "plt.ylabel(\"True Label\")\n",
    "plt.title(\"Confusion Matrix\")\n",
    "plt.show()"
   ]
  },
  {
   "cell_type": "code",
   "execution_count": 18,
   "id": "12499240",
   "metadata": {
    "execution": {
     "iopub.execute_input": "2022-05-16T21:36:50.367217Z",
     "iopub.status.busy": "2022-05-16T21:36:50.366759Z",
     "iopub.status.idle": "2022-05-16T21:36:50.375485Z",
     "shell.execute_reply": "2022-05-16T21:36:50.375072Z"
    },
    "papermill": {
     "duration": 0.61975,
     "end_time": "2022-05-16T21:36:50.377340",
     "exception": false,
     "start_time": "2022-05-16T21:36:49.757590",
     "status": "completed"
    },
    "tags": []
   },
   "outputs": [
    {
     "name": "stdout",
     "output_type": "stream",
     "text": [
      "              precision    recall  f1-score   support\n",
      "\n",
      "           0       0.97      0.96      0.96      1806\n",
      "           1       0.76      0.82      0.79       294\n",
      "\n",
      "    accuracy                           0.94      2100\n",
      "   macro avg       0.86      0.89      0.87      2100\n",
      "weighted avg       0.94      0.94      0.94      2100\n",
      "\n"
     ]
    }
   ],
   "source": [
    "from sklearn.metrics import classification_report\n",
    "\n",
    "print(classification_report(Y_true, Y_pred_classes))"
   ]
  },
  {
   "cell_type": "markdown",
   "id": "d8dbd517",
   "metadata": {
    "papermill": {
     "duration": 0.508913,
     "end_time": "2022-05-16T21:36:51.396771",
     "exception": false,
     "start_time": "2022-05-16T21:36:50.887858",
     "status": "completed"
    },
    "tags": []
   },
   "source": []
  },
  {
   "cell_type": "code",
   "execution_count": null,
   "id": "fea1acc8",
   "metadata": {
    "execution": {
     "iopub.execute_input": "2022-05-06T15:08:41.911737Z",
     "iopub.status.busy": "2022-05-06T15:08:41.911171Z",
     "iopub.status.idle": "2022-05-06T15:08:41.922881Z",
     "shell.execute_reply": "2022-05-06T15:08:41.922041Z",
     "shell.execute_reply.started": "2022-05-06T15:08:41.911677Z"
    },
    "papermill": {
     "duration": 0.508739,
     "end_time": "2022-05-16T21:36:52.403888",
     "exception": false,
     "start_time": "2022-05-16T21:36:51.895149",
     "status": "completed"
    },
    "tags": []
   },
   "outputs": [],
   "source": []
  },
  {
   "cell_type": "code",
   "execution_count": 19,
   "id": "4145319b",
   "metadata": {
    "execution": {
     "iopub.execute_input": "2022-05-16T21:36:53.556064Z",
     "iopub.status.busy": "2022-05-16T21:36:53.555654Z",
     "iopub.status.idle": "2022-05-16T21:36:53.565951Z",
     "shell.execute_reply": "2022-05-16T21:36:53.565390Z"
    },
    "papermill": {
     "duration": 0.650596,
     "end_time": "2022-05-16T21:36:53.568039",
     "exception": false,
     "start_time": "2022-05-16T21:36:52.917443",
     "status": "completed"
    },
    "tags": []
   },
   "outputs": [],
   "source": [
    "from sklearn.metrics import f1_score, roc_auc_score, cohen_kappa_score, precision_score, recall_score, accuracy_score, confusion_matrix\n",
    "def get_accuracy_metrics(model, X_train, y_train, X_val, y_val, X_test, y_test):\n",
    "    y_train=np.argmax(y_train, axis=1)\n",
    "    y_test=np.argmax(y_test, axis=1)\n",
    "    y_val=np.argmax(y_val, axis=1)\n",
    "    y_train_pred=np.argmax(model.predict(X_train),axis=1)\n",
    "    y_test_pred=np.argmax(model.predict(X_test),axis=1)\n",
    "    y_val_pred=np.argmax(model.predict(X_val),axis=1)\n",
    "    #ps:all the Y value must turn back to 1 dimension array. otherwise, the scoring functions in sklearn cannot compare, and will give an error\n",
    "    #classification metrics can't handle a mix of continuous-multioutput and multi-label-indicator targets\n",
    "    \n",
    "    print(\"Train accuracy Score------------>\")\n",
    "    print (\"{0:.3f}\".format(accuracy_score(y_train, y_train_pred)*100), \"%\")\n",
    "    \n",
    "    print(\"Val accuracy Score--------->\")\n",
    "    \n",
    "    print(\"{0:.3f}\".format(accuracy_score(y_val, y_val_pred)*100), \"%\")\n",
    "    \n",
    "  \n",
    "    print(\"Test accuracy Score--------->\")\n",
    "    print(\"{0:.3f}\".format(accuracy_score(y_test, y_test_pred)*100), \"%\")\n",
    "    \n",
    "    print(\"F1 Score--------------->\")\n",
    "    print(\"{0:.3f}\".format(f1_score(y_test, y_test_pred, average = 'weighted')*100), \"%\")\n",
    "    \n",
    "    print(\"Cohen Kappa Score------------->\")\n",
    "    print(\"{0:.3f}\".format(cohen_kappa_score(y_test, y_test_pred)*100), \"%\")\n",
    "    \n",
    "    print(\"Recall-------------->\")\n",
    "    print(\"{0:.3f}\".format(recall_score(y_test, y_test_pred, average = 'weighted')*100), \"%\")\n",
    "    \n",
    "    print(\"Precision-------------->\")\n",
    "    print(\"{0:.3f}\".format(precision_score(y_test, y_test_pred, average = 'weighted')*100), \"%\")\n",
    "    \n",
    "    cf_matrix_test = confusion_matrix(y_test, y_test_pred)\n",
    "    cf_matrix_val = confusion_matrix(y_val, y_val_pred)\n",
    "    \n",
    "    plt.figure(figsize = (12, 6))\n",
    "    plt.subplot(121)\n",
    "    sns.heatmap(cf_matrix_val, annot=True, cmap='Blues')\n",
    "    plt.title(\"Val Confusion matrix\")\n",
    "    \n",
    "    plt.subplot(122)\n",
    "    sns.heatmap(cf_matrix_test, annot=True, cmap='Blues')\n",
    "    plt.title(\"Test Confusion matrix\")\n",
    "    \n",
    "    plt.show()"
   ]
  },
  {
   "cell_type": "code",
   "execution_count": null,
   "id": "f5e7bfe7",
   "metadata": {
    "papermill": {
     "duration": 0.756655,
     "end_time": "2022-05-16T21:36:55.097849",
     "exception": false,
     "start_time": "2022-05-16T21:36:54.341194",
     "status": "completed"
    },
    "tags": []
   },
   "outputs": [],
   "source": []
  },
  {
   "cell_type": "code",
   "execution_count": 20,
   "id": "f8f413d2",
   "metadata": {
    "execution": {
     "iopub.execute_input": "2022-05-16T21:36:56.642125Z",
     "iopub.status.busy": "2022-05-16T21:36:56.641572Z",
     "iopub.status.idle": "2022-05-16T21:39:30.811101Z",
     "shell.execute_reply": "2022-05-16T21:39:30.810355Z"
    },
    "papermill": {
     "duration": 155.31308,
     "end_time": "2022-05-16T21:39:31.164955",
     "exception": false,
     "start_time": "2022-05-16T21:36:55.851875",
     "status": "completed"
    },
    "tags": []
   },
   "outputs": [
    {
     "name": "stdout",
     "output_type": "stream",
     "text": [
      "Train accuracy Score------------>\n",
      "99.229 %\n",
      "Val accuracy Score--------->\n",
      "93.762 %\n",
      "Test accuracy Score--------->\n",
      "93.556 %\n",
      "F1 Score--------------->\n",
      "93.469 %\n",
      "Cohen Kappa Score------------->\n",
      "76.681 %\n",
      "Recall-------------->\n",
      "93.556 %\n",
      "Precision-------------->\n",
      "93.420 %\n"
     ]
    },
    {
     "data": {
      "image/png": "[encoded data removed]",
      "text/plain": [
       "<Figure size 864x432 with 4 Axes>"
      ]
     },
     "metadata": {
      "needs_background": "light"
     },
     "output_type": "display_data"
    }
   ],
   "source": [
    "get_accuracy_metrics(model,  X_train, y_train, X_val, y_val, X_test, y_test)"
   ]
  },
  {
   "cell_type": "code",
   "execution_count": 21,
   "id": "dda77f3f",
   "metadata": {
    "execution": {
     "iopub.execute_input": "2022-05-16T21:39:32.185403Z",
     "iopub.status.busy": "2022-05-16T21:39:32.184989Z",
     "iopub.status.idle": "2022-05-16T21:39:32.465049Z",
     "shell.execute_reply": "2022-05-16T21:39:32.464335Z"
    },
    "papermill": {
     "duration": 0.789388,
     "end_time": "2022-05-16T21:39:32.466853",
     "exception": false,
     "start_time": "2022-05-16T21:39:31.677465",
     "status": "completed"
    },
    "tags": []
   },
   "outputs": [
    {
     "data": {
      "image/png": "[encoded data removed]",
      "text/plain": [
       "<Figure size 864x432 with 2 Axes>"
      ]
     },
     "metadata": {
      "needs_background": "light"
     },
     "output_type": "display_data"
    }
   ],
   "source": [
    "import matplotlib.pyplot as plt\n",
    "import seaborn as sns\n",
    "plt.figure(figsize = (12, 6))\n",
    "plt.subplot(121)\n",
    "#plotting the Accuracy of test and training sets\n",
    "plt.plot(history1.history['accuracy'])\n",
    "plt.plot(history1.history['val_accuracy'])\n",
    "plt.title('1st training Model Accuracy')\n",
    "plt.ylabel('accuracy')\n",
    "plt.xlabel('epoch')\n",
    "plt.legend(['train', 'test'], loc='upper left')\n",
    "\n",
    "plt.subplot(122)\n",
    "#plotting the loss of test and training sets\n",
    "plt.plot(history1.history['loss'])\n",
    "plt.plot(history1.history['val_loss'])\n",
    "plt.title('1st training Model Loss')\n",
    "plt.ylabel('loss')\n",
    "plt.xlabel('epoch')\n",
    "plt.legend(['train', 'test'], loc='upper left')\n",
    "plt.show()"
   ]
  },
  {
   "cell_type": "markdown",
   "id": "03aaebc4",
   "metadata": {
    "papermill": {
     "duration": 0.779692,
     "end_time": "2022-05-16T21:39:33.770962",
     "exception": false,
     "start_time": "2022-05-16T21:39:32.991270",
     "status": "completed"
    },
    "tags": []
   },
   "source": [
    "# Second Training Fine Tune"
   ]
  },
  {
   "cell_type": "code",
   "execution_count": 22,
   "id": "72998274",
   "metadata": {
    "execution": {
     "iopub.execute_input": "2022-05-16T21:39:35.112258Z",
     "iopub.status.busy": "2022-05-16T21:39:35.111740Z",
     "iopub.status.idle": "2022-05-16T21:39:35.120160Z",
     "shell.execute_reply": "2022-05-16T21:39:35.119602Z"
    },
    "papermill": {
     "duration": 0.519334,
     "end_time": "2022-05-16T21:39:35.121763",
     "exception": false,
     "start_time": "2022-05-16T21:39:34.602429",
     "status": "completed"
    },
    "tags": []
   },
   "outputs": [],
   "source": [
    "for model1 in model.layers:\n",
    "    model1.trainable = True"
   ]
  },
  {
   "cell_type": "code",
   "execution_count": 23,
   "id": "845a2078",
   "metadata": {
    "execution": {
     "iopub.execute_input": "2022-05-16T21:39:36.120561Z",
     "iopub.status.busy": "2022-05-16T21:39:36.120316Z",
     "iopub.status.idle": "2022-05-16T21:39:36.124213Z",
     "shell.execute_reply": "2022-05-16T21:39:36.123601Z"
    },
    "papermill": {
     "duration": 0.503938,
     "end_time": "2022-05-16T21:39:36.126245",
     "exception": false,
     "start_time": "2022-05-16T21:39:35.622307",
     "status": "completed"
    },
    "tags": []
   },
   "outputs": [],
   "source": [
    "callbacks2 = [EarlyStopping(monitor='val_loss', patience=5, verbose=1), ModelCheckpoint('test_model.hdf5', save_best_only=True)]\n",
    "opt = Adam(learning_rate=0.001)\n",
    "#model.compile(loss='categorical_crossentropy', optimizer=opt, metrics=['accuracy'])"
   ]
  },
  {
   "cell_type": "code",
   "execution_count": 24,
   "id": "12fb31cb",
   "metadata": {
    "execution": {
     "iopub.execute_input": "2022-05-16T21:39:37.673817Z",
     "iopub.status.busy": "2022-05-16T21:39:37.673436Z",
     "iopub.status.idle": "2022-05-16T22:01:31.369497Z",
     "shell.execute_reply": "2022-05-16T22:01:31.368608Z"
    },
    "papermill": {
     "duration": 1314.477725,
     "end_time": "2022-05-16T22:01:31.371865",
     "exception": false,
     "start_time": "2022-05-16T21:39:36.894140",
     "status": "completed"
    },
    "tags": []
   },
   "outputs": [
    {
     "name": "stdout",
     "output_type": "stream",
     "text": [
      "Epoch 1/30\n",
      "219/219 [==============================] - 214s 975ms/step - loss: 0.0277 - accuracy: 0.9906 - val_loss: 0.4427 - val_accuracy: 0.9244\n",
      "Epoch 2/30\n",
      "219/219 [==============================] - 220s 1s/step - loss: 0.0292 - accuracy: 0.9909 - val_loss: 0.5725 - val_accuracy: 0.9278\n",
      "Epoch 3/30\n",
      "219/219 [==============================] - 220s 1s/step - loss: 0.0239 - accuracy: 0.9907 - val_loss: 0.6570 - val_accuracy: 0.9244\n",
      "Epoch 4/30\n",
      "219/219 [==============================] - 221s 1s/step - loss: 0.0196 - accuracy: 0.9931 - val_loss: 0.5630 - val_accuracy: 0.9222\n",
      "Epoch 5/30\n",
      "219/219 [==============================] - 214s 979ms/step - loss: 0.0288 - accuracy: 0.9907 - val_loss: 0.5727 - val_accuracy: 0.9222\n",
      "Epoch 6/30\n",
      "219/219 [==============================] - 216s 986ms/step - loss: 0.0180 - accuracy: 0.9936 - val_loss: 0.6360 - val_accuracy: 0.9167\n",
      "Epoch 00006: early stopping\n"
     ]
    }
   ],
   "source": [
    "history2=model.fit(X_train, y_train,validation_data=(X_test, y_test),verbose = 1,epochs = 30,callbacks=callbacks2)"
   ]
  },
  {
   "cell_type": "code",
   "execution_count": 25,
   "id": "20a2d789",
   "metadata": {
    "execution": {
     "iopub.execute_input": "2022-05-16T22:01:33.309141Z",
     "iopub.status.busy": "2022-05-16T22:01:33.308855Z",
     "iopub.status.idle": "2022-05-16T22:02:05.884418Z",
     "shell.execute_reply": "2022-05-16T22:02:05.883400Z"
    },
    "papermill": {
     "duration": 34.845917,
     "end_time": "2022-05-16T22:02:07.259072",
     "exception": false,
     "start_time": "2022-05-16T22:01:32.413155",
     "status": "completed"
    },
    "tags": []
   },
   "outputs": [
    {
     "data": {
      "image/png": "[encoded data removed]",
      "text/plain": [
       "<Figure size 576x576 with 2 Axes>"
      ]
     },
     "metadata": {
      "needs_background": "light"
     },
     "output_type": "display_data"
    }
   ],
   "source": [
    "Y_pred = model.predict(X_val)\n",
    "Y_pred_classes = np.argmax(Y_pred,axis = 1) \n",
    "Y_true = np.argmax(y_val,axis = 1) \n",
    "\n",
    "confusion_mtx = confusion_matrix(Y_true, Y_pred_classes) \n",
    "\n",
    "f,ax = plt.subplots(figsize=(8, 8))\n",
    "sns.heatmap(confusion_mtx, annot=True, linewidths=0.01,cmap=\"OrRd\",linecolor=\"black\", fmt= '.1f',ax=ax)\n",
    "plt.xlabel(\"Predicted Label\")\n",
    "plt.ylabel(\"True Label\")\n",
    "plt.title(\"Confusion Matrix\")\n",
    "plt.show()"
   ]
  },
  {
   "cell_type": "code",
   "execution_count": 26,
   "id": "999fc6f6",
   "metadata": {
    "execution": {
     "iopub.execute_input": "2022-05-16T22:02:10.041647Z",
     "iopub.status.busy": "2022-05-16T22:02:10.041248Z",
     "iopub.status.idle": "2022-05-16T22:02:10.050280Z",
     "shell.execute_reply": "2022-05-16T22:02:10.049620Z"
    },
    "papermill": {
     "duration": 1.407745,
     "end_time": "2022-05-16T22:02:10.051893",
     "exception": false,
     "start_time": "2022-05-16T22:02:08.644148",
     "status": "completed"
    },
    "tags": []
   },
   "outputs": [
    {
     "name": "stdout",
     "output_type": "stream",
     "text": [
      "              precision    recall  f1-score   support\n",
      "\n",
      "           0       0.95      0.98      0.97      1806\n",
      "           1       0.85      0.70      0.77       294\n",
      "\n",
      "    accuracy                           0.94      2100\n",
      "   macro avg       0.90      0.84      0.87      2100\n",
      "weighted avg       0.94      0.94      0.94      2100\n",
      "\n"
     ]
    }
   ],
   "source": [
    "print(classification_report(Y_true, Y_pred_classes))"
   ]
  },
  {
   "cell_type": "code",
   "execution_count": 27,
   "id": "bbf9d014",
   "metadata": {
    "execution": {
     "iopub.execute_input": "2022-05-16T22:02:12.135962Z",
     "iopub.status.busy": "2022-05-16T22:02:12.135674Z",
     "iopub.status.idle": "2022-05-16T22:04:47.243696Z",
     "shell.execute_reply": "2022-05-16T22:04:47.243232Z"
    },
    "papermill": {
     "duration": 157.231842,
     "end_time": "2022-05-16T22:04:48.399651",
     "exception": false,
     "start_time": "2022-05-16T22:02:11.167809",
     "status": "completed"
    },
    "tags": []
   },
   "outputs": [
    {
     "name": "stdout",
     "output_type": "stream",
     "text": [
      "Train accuracy Score------------>\n",
      "99.686 %\n",
      "Val accuracy Score--------->\n",
      "94.095 %\n",
      "Test accuracy Score--------->\n",
      "91.667 %\n",
      "F1 Score--------------->\n",
      "91.044 %\n",
      "Cohen Kappa Score------------->\n",
      "66.575 %\n",
      "Recall-------------->\n",
      "91.667 %\n",
      "Precision-------------->\n",
      "91.385 %\n"
     ]
    },
    {
     "data": {
      "image/png": "[encoded data removed]",
      "text/plain": [
       "<Figure size 864x432 with 4 Axes>"
      ]
     },
     "metadata": {
      "needs_background": "light"
     },
     "output_type": "display_data"
    }
   ],
   "source": [
    "get_accuracy_metrics(model,  X_train, y_train, X_val, y_val, X_test, y_test)"
   ]
  },
  {
   "cell_type": "code",
   "execution_count": 28,
   "id": "c33d1d45",
   "metadata": {
    "execution": {
     "iopub.execute_input": "2022-05-16T22:04:50.284186Z",
     "iopub.status.busy": "2022-05-16T22:04:50.283929Z",
     "iopub.status.idle": "2022-05-16T22:04:50.585708Z",
     "shell.execute_reply": "2022-05-16T22:04:50.584860Z"
    },
    "papermill": {
     "duration": 1.229353,
     "end_time": "2022-05-16T22:04:50.587450",
     "exception": false,
     "start_time": "2022-05-16T22:04:49.358097",
     "status": "completed"
    },
    "tags": []
   },
   "outputs": [
    {
     "data": {
      "image/png": "[encoded data removed]",
      "text/plain": [
       "<Figure size 864x432 with 2 Axes>"
      ]
     },
     "metadata": {
      "needs_background": "light"
     },
     "output_type": "display_data"
    }
   ],
   "source": [
    "plt.figure(figsize = (12, 6))\n",
    "plt.subplot(121)\n",
    "#plotting the Accuracy of test and training sets\n",
    "plt.plot(history2.history['accuracy'])\n",
    "plt.plot(history2.history['val_accuracy'])\n",
    "plt.title('1st training Model Accuracy')\n",
    "plt.ylabel('accuracy')\n",
    "plt.xlabel('epoch')\n",
    "plt.legend(['train', 'test'], loc='upper left')\n",
    "\n",
    "plt.subplot(122)\n",
    "#plotting the loss of test and training sets\n",
    "plt.plot(history2.history['loss'])\n",
    "plt.plot(history2.history['val_loss'])\n",
    "plt.title('1st training Model Loss')\n",
    "plt.ylabel('loss')\n",
    "plt.xlabel('epoch')\n",
    "plt.legend(['train', 'test'], loc='upper left')\n",
    "plt.show()"
   ]
  }
 ],
 "metadata": {
  "kernelspec": {
   "display_name": "Python 3",
   "language": "python",
   "name": "python3"
  },
  "language_info": {
   "codemirror_mode": {
    "name": "ipython",
    "version": 3
   },
   "file_extension": ".py",
   "mimetype": "text/x-python",
   "name": "python",
   "nbconvert_exporter": "python",
   "pygments_lexer": "ipython3",
   "version": "3.7.12"
  },
  "papermill": {
   "default_parameters": {},
   "duration": 3405.951454,
   "end_time": "2022-05-16T22:04:54.992620",
   "environment_variables": {},
   "exception": null,
   "input_path": "__notebook__.ipynb",
   "output_path": "__notebook__.ipynb",
   "parameters": {},
   "start_time": "2022-05-16T21:08:09.041166",
   "version": "2.3.4"
  }
 },
 "nbformat": 4,
 "nbformat_minor": 5
}
