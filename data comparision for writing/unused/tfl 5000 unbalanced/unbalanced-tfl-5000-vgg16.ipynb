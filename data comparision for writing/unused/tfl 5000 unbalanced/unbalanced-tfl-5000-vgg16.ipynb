{
 "cells": [
  {
   "cell_type": "code",
   "execution_count": 1,
   "id": "d67795ea",
   "metadata": {
    "_cell_guid": "b1076dfc-b9ad-4769-8c92-a6c4dae69d19",
    "_uuid": "8f2839f25d086af736a60e9eeb907d3b93b6e0e5",
    "execution": {
     "iopub.execute_input": "2022-05-18T12:29:41.155158Z",
     "iopub.status.busy": "2022-05-18T12:29:41.154441Z",
     "iopub.status.idle": "2022-05-18T12:29:54.148410Z",
     "shell.execute_reply": "2022-05-18T12:29:54.147422Z"
    },
    "papermill": {
     "duration": 13.040895,
     "end_time": "2022-05-18T12:29:54.151125",
     "exception": false,
     "start_time": "2022-05-18T12:29:41.110230",
     "status": "completed"
    },
    "tags": []
   },
   "outputs": [
    {
     "name": "stdout",
     "output_type": "stream",
     "text": [
      "Collecting Livelossplot\r\n",
      "  Downloading livelossplot-0.5.5-py3-none-any.whl (22 kB)\r\n",
      "Requirement already satisfied: bokeh in /opt/conda/lib/python3.7/site-packages (from Livelossplot) (2.4.2)\r\n",
      "Requirement already satisfied: numpy<1.22 in /opt/conda/lib/python3.7/site-packages (from Livelossplot) (1.21.6)\r\n",
      "Requirement already satisfied: ipython==7.* in /opt/conda/lib/python3.7/site-packages (from Livelossplot) (7.32.0)\r\n",
      "Requirement already satisfied: matplotlib in /opt/conda/lib/python3.7/site-packages (from Livelossplot) (3.5.2)\r\n",
      "Requirement already satisfied: pickleshare in /opt/conda/lib/python3.7/site-packages (from ipython==7.*->Livelossplot) (0.7.5)\r\n",
      "Requirement already satisfied: pexpect>4.3 in /opt/conda/lib/python3.7/site-packages (from ipython==7.*->Livelossplot) (4.8.0)\r\n",
      "Requirement already satisfied: jedi>=0.16 in /opt/conda/lib/python3.7/site-packages (from ipython==7.*->Livelossplot) (0.18.1)\r\n",
      "Requirement already satisfied: backcall in /opt/conda/lib/python3.7/site-packages (from ipython==7.*->Livelossplot) (0.2.0)\r\n",
      "Requirement already satisfied: pygments in /opt/conda/lib/python3.7/site-packages (from ipython==7.*->Livelossplot) (2.11.2)\r\n",
      "Requirement already satisfied: prompt-toolkit!=3.0.0,!=3.0.1,<3.1.0,>=2.0.0 in /opt/conda/lib/python3.7/site-packages (from ipython==7.*->Livelossplot) (3.0.27)\r\n",
      "Requirement already satisfied: decorator in /opt/conda/lib/python3.7/site-packages (from ipython==7.*->Livelossplot) (5.1.1)\r\n",
      "Requirement already satisfied: matplotlib-inline in /opt/conda/lib/python3.7/site-packages (from ipython==7.*->Livelossplot) (0.1.3)\r\n",
      "Requirement already satisfied: traitlets>=4.2 in /opt/conda/lib/python3.7/site-packages (from ipython==7.*->Livelossplot) (5.1.1)\r\n",
      "Requirement already satisfied: setuptools>=18.5 in /opt/conda/lib/python3.7/site-packages (from ipython==7.*->Livelossplot) (59.8.0)\r\n",
      "Requirement already satisfied: pillow>=7.1.0 in /opt/conda/lib/python3.7/site-packages (from bokeh->Livelossplot) (9.0.1)\r\n",
      "Requirement already satisfied: Jinja2>=2.9 in /opt/conda/lib/python3.7/site-packages (from bokeh->Livelossplot) (3.1.2)\r\n",
      "Requirement already satisfied: tornado>=5.1 in /opt/conda/lib/python3.7/site-packages (from bokeh->Livelossplot) (6.1)\r\n",
      "Requirement already satisfied: PyYAML>=3.10 in /opt/conda/lib/python3.7/site-packages (from bokeh->Livelossplot) (6.0)\r\n",
      "Requirement already satisfied: packaging>=16.8 in /opt/conda/lib/python3.7/site-packages (from bokeh->Livelossplot) (21.3)\r\n",
      "Requirement already satisfied: typing-extensions>=3.10.0 in /opt/conda/lib/python3.7/site-packages (from bokeh->Livelossplot) (4.2.0)\r\n",
      "Requirement already satisfied: pyparsing>=2.2.1 in /opt/conda/lib/python3.7/site-packages (from matplotlib->Livelossplot) (3.0.7)\r\n",
      "Requirement already satisfied: python-dateutil>=2.7 in /opt/conda/lib/python3.7/site-packages (from matplotlib->Livelossplot) (2.8.2)\r\n",
      "Requirement already satisfied: cycler>=0.10 in /opt/conda/lib/python3.7/site-packages (from matplotlib->Livelossplot) (0.11.0)\r\n",
      "Requirement already satisfied: fonttools>=4.22.0 in /opt/conda/lib/python3.7/site-packages (from matplotlib->Livelossplot) (4.30.0)\r\n",
      "Requirement already satisfied: kiwisolver>=1.0.1 in /opt/conda/lib/python3.7/site-packages (from matplotlib->Livelossplot) (1.4.0)\r\n",
      "Requirement already satisfied: parso<0.9.0,>=0.8.0 in /opt/conda/lib/python3.7/site-packages (from jedi>=0.16->ipython==7.*->Livelossplot) (0.8.3)\r\n",
      "Requirement already satisfied: MarkupSafe>=2.0 in /opt/conda/lib/python3.7/site-packages (from Jinja2>=2.9->bokeh->Livelossplot) (2.0.1)\r\n",
      "Requirement already satisfied: ptyprocess>=0.5 in /opt/conda/lib/python3.7/site-packages (from pexpect>4.3->ipython==7.*->Livelossplot) (0.7.0)\r\n",
      "Requirement already satisfied: wcwidth in /opt/conda/lib/python3.7/site-packages (from prompt-toolkit!=3.0.0,!=3.0.1,<3.1.0,>=2.0.0->ipython==7.*->Livelossplot) (0.2.5)\r\n",
      "Requirement already satisfied: six>=1.5 in /opt/conda/lib/python3.7/site-packages (from python-dateutil>=2.7->matplotlib->Livelossplot) (1.16.0)\r\n",
      "Installing collected packages: Livelossplot\r\n",
      "Successfully installed Livelossplot-0.5.5\r\n",
      "\u001b[33mWARNING: Running pip as the 'root' user can result in broken permissions and conflicting behaviour with the system package manager. It is recommended to use a virtual environment instead: https://pip.pypa.io/warnings/venv\u001b[0m\u001b[33m\r\n",
      "\u001b[0m"
     ]
    }
   ],
   "source": [
    "# This Python 3 environment comes with many helpful analytics libraries installed\n",
    "# It is defined by the kaggle/python Docker image: https://github.com/kaggle/docker-python\n",
    "# For example, here's several helpful packages to load\n",
    "\n",
    "import numpy as np # linear algebra\n",
    "import pandas as pd # data processing, CSV file I/O (e.g. pd.read_csv)\n",
    "\n",
    "# Input data files are available in the read-only \"../input/\" directory\n",
    "# For example, running this (by clicking run or pressing Shift+Enter) will list all files under the input directory\n",
    "\n",
    "import os\n",
    "\n",
    "import warnings\n",
    "warnings.filterwarnings('ignore')\n",
    "%matplotlib inline\n",
    "!pip install Livelossplot\n",
    "from livelossplot import PlotLossesKeras\n",
    "\n",
    "from glob import glob\n",
    "import os\n",
    "import shutil\n",
    "\n",
    "import numpy as np\n",
    "import pandas as pd\n",
    "# You can write up to 20GB to the current directory (/kaggle/working/) that gets preserved as output when you create a version using \"Save & Run All\" \n",
    "# You can also write temporary files to /kaggle/temp/, but they won't be saved outside of the current session"
   ]
  },
  {
   "cell_type": "markdown",
   "id": "98eb8ad6",
   "metadata": {
    "papermill": {
     "duration": 0.039687,
     "end_time": "2022-05-18T12:29:54.231363",
     "exception": false,
     "start_time": "2022-05-18T12:29:54.191676",
     "status": "completed"
    },
    "tags": []
   },
   "source": [
    "# AIM\n",
    "## To classify the images into \n",
    "### IDC+\n",
    "### IDC-\n",
    "\n",
    "# Validation Strategy:\n",
    "\n",
    "## Train Data Size= 0.7*Total_Data\n",
    "## Validation Data Size= 0.21* Total_Data\n",
    "## Test Data Size= 0.09 * Total_Data\n",
    "\n",
    "# Augmentaions Used:\n",
    "## Each Image is rotated through 45 angles\n"
   ]
  },
  {
   "cell_type": "code",
   "execution_count": 2,
   "id": "ff33fe82",
   "metadata": {
    "execution": {
     "iopub.execute_input": "2022-05-18T12:29:54.313549Z",
     "iopub.status.busy": "2022-05-18T12:29:54.313220Z",
     "iopub.status.idle": "2022-05-18T12:30:04.735946Z",
     "shell.execute_reply": "2022-05-18T12:30:04.734961Z"
    },
    "papermill": {
     "duration": 10.468219,
     "end_time": "2022-05-18T12:30:04.739290",
     "exception": false,
     "start_time": "2022-05-18T12:29:54.271071",
     "status": "completed"
    },
    "tags": []
   },
   "outputs": [
    {
     "data": {
      "text/html": [
       "<style type='text/css'>\n",
       ".datatable table.frame { margin-bottom: 0; }\n",
       ".datatable table.frame thead { border-bottom: none; }\n",
       ".datatable table.frame tr.coltypes td {  color: #FFFFFF;  line-height: 6px;  padding: 0 0.5em;}\n",
       ".datatable .bool    { background: #DDDD99; }\n",
       ".datatable .object  { background: #565656; }\n",
       ".datatable .int     { background: #5D9E5D; }\n",
       ".datatable .float   { background: #4040CC; }\n",
       ".datatable .str     { background: #CC4040; }\n",
       ".datatable .time    { background: #40CC40; }\n",
       ".datatable .row_index {  background: var(--jp-border-color3);  border-right: 1px solid var(--jp-border-color0);  color: var(--jp-ui-font-color3);  font-size: 9px;}\n",
       ".datatable .frame tbody td { text-align: left; }\n",
       ".datatable .frame tr.coltypes .row_index {  background: var(--jp-border-color0);}\n",
       ".datatable th:nth-child(2) { padding-left: 12px; }\n",
       ".datatable .hellipsis {  color: var(--jp-cell-editor-border-color);}\n",
       ".datatable .vellipsis {  background: var(--jp-layout-color0);  color: var(--jp-cell-editor-border-color);}\n",
       ".datatable .na {  color: var(--jp-cell-editor-border-color);  font-size: 80%;}\n",
       ".datatable .sp {  opacity: 0.25;}\n",
       ".datatable .footer { font-size: 9px; }\n",
       ".datatable .frame_dimensions {  background: var(--jp-border-color3);  border-top: 1px solid var(--jp-border-color0);  color: var(--jp-ui-font-color3);  display: inline-block;  opacity: 0.6;  padding: 1px 10px 1px 5px;}\n",
       "</style>\n"
      ],
      "text/plain": [
       "<IPython.core.display.HTML object>"
      ]
     },
     "metadata": {},
     "output_type": "display_data"
    },
    {
     "name": "stdout",
     "output_type": "stream",
     "text": [
      "All modules have been imported\n"
     ]
    }
   ],
   "source": [
    "\n",
    "import numpy as np\n",
    "import pandas as pd\n",
    "import cv2\n",
    "from PIL import Image\n",
    "import scipy\n",
    "\n",
    "import tensorflow as tf\n",
    "from tensorflow.keras.applications import *\n",
    "from tensorflow.keras.optimizers import *\n",
    "from tensorflow.keras.losses import *\n",
    "from tensorflow.keras.layers import *\n",
    "from tensorflow.keras.models import *\n",
    "from tensorflow.keras.callbacks import *\n",
    "from tensorflow.keras.preprocessing.image import *\n",
    "from tensorflow.keras.utils import *\n",
    "# import pydot\n",
    "\n",
    "from sklearn.metrics import *\n",
    "from sklearn.model_selection import *\n",
    "import tensorflow.keras.backend as K\n",
    "\n",
    "from tqdm import tqdm, tqdm_notebook\n",
    "from colorama import Fore\n",
    "import json\n",
    "import matplotlib.pyplot as plt\n",
    "import seaborn as sns\n",
    "from glob import glob\n",
    "from skimage.io import *\n",
    "%config Completer.use_jedi = False\n",
    "import time\n",
    "from sklearn.decomposition import PCA\n",
    "from sklearn.svm import LinearSVC\n",
    "from sklearn.linear_model import LogisticRegression\n",
    "from sklearn.metrics import accuracy_score\n",
    "import lightgbm as lgb\n",
    "import xgboost as xgb\n",
    "\n",
    "print(\"All modules have been imported\")"
   ]
  },
  {
   "cell_type": "code",
   "execution_count": 3,
   "id": "355e6383",
   "metadata": {
    "execution": {
     "iopub.execute_input": "2022-05-18T12:30:04.824984Z",
     "iopub.status.busy": "2022-05-18T12:30:04.824703Z",
     "iopub.status.idle": "2022-05-18T12:30:04.829914Z",
     "shell.execute_reply": "2022-05-18T12:30:04.828895Z"
    },
    "papermill": {
     "duration": 0.050061,
     "end_time": "2022-05-18T12:30:04.832023",
     "exception": false,
     "start_time": "2022-05-18T12:30:04.781962",
     "status": "completed"
    },
    "tags": []
   },
   "outputs": [],
   "source": [
    "sampling_seed=0\n",
    "size_4_training=5000\n",
    "img_size=224\n",
    "training_reshape=(-1, img_size, img_size, 3)\n",
    "epoch_4_test=10"
   ]
  },
  {
   "cell_type": "markdown",
   "id": "76c9f768",
   "metadata": {
    "papermill": {
     "duration": 0.040965,
     "end_time": "2022-05-18T12:30:04.917023",
     "exception": false,
     "start_time": "2022-05-18T12:30:04.876058",
     "status": "completed"
    },
    "tags": []
   },
   "source": [
    "Image labelling"
   ]
  },
  {
   "cell_type": "code",
   "execution_count": 4,
   "id": "0d7fbd5d",
   "metadata": {
    "execution": {
     "iopub.execute_input": "2022-05-18T12:30:05.003891Z",
     "iopub.status.busy": "2022-05-18T12:30:05.003098Z",
     "iopub.status.idle": "2022-05-18T12:33:12.086020Z",
     "shell.execute_reply": "2022-05-18T12:33:12.084816Z"
    },
    "papermill": {
     "duration": 187.128418,
     "end_time": "2022-05-18T12:33:12.088602",
     "exception": false,
     "start_time": "2022-05-18T12:30:04.960184",
     "status": "completed"
    },
    "tags": []
   },
   "outputs": [
    {
     "name": "stdout",
     "output_type": "stream",
     "text": [
      "['../input/breast-histopathology-images/IDC_regular_ps50_idx5/10295/0/10295_idx5_x1351_y1101_class0.png', '../input/breast-histopathology-images/IDC_regular_ps50_idx5/10295/0/10295_idx5_x1501_y501_class0.png', '../input/breast-histopathology-images/IDC_regular_ps50_idx5/10295/0/10295_idx5_x1501_y1101_class0.png', '../input/breast-histopathology-images/IDC_regular_ps50_idx5/10295/0/10295_idx5_x451_y901_class0.png', '../input/breast-histopathology-images/IDC_regular_ps50_idx5/10295/0/10295_idx5_x801_y451_class0.png', '../input/breast-histopathology-images/IDC_regular_ps50_idx5/10295/0/10295_idx5_x151_y1051_class0.png', '../input/breast-histopathology-images/IDC_regular_ps50_idx5/10295/0/10295_idx5_x1351_y901_class0.png', '../input/breast-histopathology-images/IDC_regular_ps50_idx5/10295/0/10295_idx5_x701_y651_class0.png', '../input/breast-histopathology-images/IDC_regular_ps50_idx5/10295/0/10295_idx5_x951_y1401_class0.png', '../input/breast-histopathology-images/IDC_regular_ps50_idx5/10295/0/10295_idx5_x601_y501_class0.png']\n"
     ]
    }
   ],
   "source": [
    "import random\n",
    "#make directory for labelling\n",
    "os.makedirs('../working/idc2/idc-minus/')     \n",
    "os.makedirs('../working/idc2/idc-plus/')  \n",
    "\n",
    "\n",
    "class0 = [] # 0 = idc+\n",
    "class1 = [] # 1 = idc-\n",
    "imagePatches = glob('../input/breast-histopathology-images/IDC_regular_ps50_idx5/**/*.png', recursive=True)\n",
    "for filename in imagePatches:\n",
    "    if filename.endswith(\"class0.png\"):\n",
    "         class0.append(filename)\n",
    "    else:\n",
    "        class1.append(filename)\n",
    "\n",
    "print(class0[0:10])\n",
    "\n",
    "#sampling 10000 images from class 0 and class 1 to train the model\n",
    "\n",
    "random.seed(sampling_seed)\n",
    "class0sample=random.sample(class0,size_4_training)\n",
    "class1sample=random.sample(class1,size_4_training)\n",
    "\n",
    "\n",
    "def read_and_save_data(path, file_name_array):\n",
    "    j=0\n",
    "    for i in file_name_array:\n",
    "        if i.endswith('.png'):\n",
    "          \n",
    "            \n",
    "            #second copy method\n",
    "            head, tail = os.path.split(i)\n",
    "            outputname=str(path+tail)\n",
    "            #outputname=str(path+str(j)+'.png')\n",
    "            #print(outputname)\n",
    "            shutil.copy(i, outputname)\n",
    "   \n",
    "            #print(status2)\n",
    "            \n",
    "            j=j+1\n",
    "            if j==120000:\n",
    "                break\n",
    "            \n",
    "   \n",
    "class0path='../working/idc2/idc-minus/'\n",
    "class1path='../working/idc2/idc-plus/'\n",
    "\n",
    "\n",
    "\n",
    "\n",
    "read_and_save_data(class0path,class0sample)\n",
    "read_and_save_data(class1path,class1sample)"
   ]
  },
  {
   "cell_type": "markdown",
   "id": "9417e18a",
   "metadata": {
    "papermill": {
     "duration": 0.040936,
     "end_time": "2022-05-18T12:33:12.171030",
     "exception": false,
     "start_time": "2022-05-18T12:33:12.130094",
     "status": "completed"
    },
    "tags": []
   },
   "source": []
  },
  {
   "cell_type": "code",
   "execution_count": null,
   "id": "92c0c332",
   "metadata": {
    "papermill": {
     "duration": 0.040769,
     "end_time": "2022-05-18T12:33:12.252836",
     "exception": false,
     "start_time": "2022-05-18T12:33:12.212067",
     "status": "completed"
    },
    "tags": []
   },
   "outputs": [],
   "source": [
    "\n"
   ]
  },
  {
   "cell_type": "code",
   "execution_count": 5,
   "id": "e266e835",
   "metadata": {
    "execution": {
     "iopub.execute_input": "2022-05-18T12:33:12.344323Z",
     "iopub.status.busy": "2022-05-18T12:33:12.343679Z",
     "iopub.status.idle": "2022-05-18T12:33:12.348486Z",
     "shell.execute_reply": "2022-05-18T12:33:12.347552Z"
    },
    "papermill": {
     "duration": 0.056943,
     "end_time": "2022-05-18T12:33:12.350715",
     "exception": false,
     "start_time": "2022-05-18T12:33:12.293772",
     "status": "completed"
    },
    "tags": []
   },
   "outputs": [],
   "source": [
    "\n",
    "from PIL import Image\n",
    "import glob\n"
   ]
  },
  {
   "cell_type": "code",
   "execution_count": null,
   "id": "f2b0394a",
   "metadata": {
    "papermill": {
     "duration": 0.041377,
     "end_time": "2022-05-18T12:33:12.434580",
     "exception": false,
     "start_time": "2022-05-18T12:33:12.393203",
     "status": "completed"
    },
    "tags": []
   },
   "outputs": [],
   "source": []
  },
  {
   "cell_type": "code",
   "execution_count": null,
   "id": "0c11608f",
   "metadata": {
    "papermill": {
     "duration": 0.040265,
     "end_time": "2022-05-18T12:33:12.515742",
     "exception": false,
     "start_time": "2022-05-18T12:33:12.475477",
     "status": "completed"
    },
    "tags": []
   },
   "outputs": [],
   "source": []
  },
  {
   "cell_type": "code",
   "execution_count": 6,
   "id": "f0568653",
   "metadata": {
    "execution": {
     "iopub.execute_input": "2022-05-18T12:33:12.599003Z",
     "iopub.status.busy": "2022-05-18T12:33:12.598175Z",
     "iopub.status.idle": "2022-05-18T12:33:12.602401Z",
     "shell.execute_reply": "2022-05-18T12:33:12.601587Z"
    },
    "papermill": {
     "duration": 0.048251,
     "end_time": "2022-05-18T12:33:12.604625",
     "exception": false,
     "start_time": "2022-05-18T12:33:12.556374",
     "status": "completed"
    },
    "tags": []
   },
   "outputs": [],
   "source": [
    "import os #Operating System\n",
    "import sys #System\n",
    "# train_generator = train_datagen.flow(x_train, y_train, batch_size =)\n",
    "# val_generator = val_datagen.flow(x_val, y_val, batch_size = 64)\n",
    "# test_generator=test_datagen.flow(x_test,y_test,batch_size = 64)\n"
   ]
  },
  {
   "cell_type": "markdown",
   "id": "fea8b5ce",
   "metadata": {
    "papermill": {
     "duration": 0.040477,
     "end_time": "2022-05-18T12:33:12.685885",
     "exception": false,
     "start_time": "2022-05-18T12:33:12.645408",
     "status": "completed"
    },
    "tags": []
   },
   "source": [
    "#import image"
   ]
  },
  {
   "cell_type": "code",
   "execution_count": 7,
   "id": "e90ff566",
   "metadata": {
    "execution": {
     "iopub.execute_input": "2022-05-18T12:33:12.770152Z",
     "iopub.status.busy": "2022-05-18T12:33:12.769825Z",
     "iopub.status.idle": "2022-05-18T12:33:12.777378Z",
     "shell.execute_reply": "2022-05-18T12:33:12.776395Z"
    },
    "papermill": {
     "duration": 0.051646,
     "end_time": "2022-05-18T12:33:12.779459",
     "exception": false,
     "start_time": "2022-05-18T12:33:12.727813",
     "status": "completed"
    },
    "tags": []
   },
   "outputs": [],
   "source": [
    "import cv2\n",
    "'''\n",
    "def readImage(path, X, Y, label):\n",
    "    j=0\n",
    " \n",
    "    for i in os.listdir(path):\n",
    "        imgname=path+i\n",
    "        #print(imgname)\n",
    "        img = cv2.imread(imgname, cv2.IMREAD_COLOR)\n",
    "        img =cv2.resize(img,(50, 50))\n",
    "        X.append(img)\n",
    "        Y.append(label)\n",
    "        j=j+1\n",
    "        #if j==10:\n",
    "        #    break\n",
    "        \n",
    "    return X, Y\n",
    "    '''\n",
    "def readImage(path, tag):\n",
    "    j=0\n",
    "    image_array = []\n",
    "    for i in os.listdir(path):\n",
    "        imgname=path+i\n",
    "        #print(imgname)\n",
    "        img = cv2.imread(imgname, cv2.IMREAD_COLOR)\n",
    "        img_resized = cv2.resize(img, (img_size,img_size), interpolation=cv2.INTER_LINEAR)\n",
    "        image_array.append([img_resized, tag])\n",
    "        #print(img[1])\n",
    "        j=j+1\n",
    "        #if j==10:\n",
    "        #    break\n",
    "        \n",
    "    return image_array"
   ]
  },
  {
   "cell_type": "code",
   "execution_count": 8,
   "id": "6944ad5f",
   "metadata": {
    "execution": {
     "iopub.execute_input": "2022-05-18T12:33:12.863211Z",
     "iopub.status.busy": "2022-05-18T12:33:12.862412Z",
     "iopub.status.idle": "2022-05-18T12:33:17.246388Z",
     "shell.execute_reply": "2022-05-18T12:33:17.245466Z"
    },
    "papermill": {
     "duration": 4.42898,
     "end_time": "2022-05-18T12:33:17.249233",
     "exception": false,
     "start_time": "2022-05-18T12:33:12.820253",
     "status": "completed"
    },
    "tags": []
   },
   "outputs": [
    {
     "name": "stdout",
     "output_type": "stream",
     "text": [
      "(5000, 2)\n",
      "(10000, 2)\n",
      "(10000, 224, 224, 3)\n"
     ]
    }
   ],
   "source": [
    "import numpy as np\n",
    "\n",
    "\n",
    "class0_array = readImage(class0path, 0)\n",
    "class1_array = readImage(class1path, 1)\n",
    "class0_array=np.array(class0_array)\n",
    "class1_array=np.array(class1_array)\n",
    "combined_data = np.concatenate((class0_array, class1_array))\n",
    "random.seed(41)\n",
    "random.shuffle(combined_data)\n",
    "print(class0_array.shape)\n",
    "print(combined_data.shape)\n",
    "\n",
    "X = []\n",
    "y = []\n",
    "\n",
    "for features,label in combined_data:\n",
    "    X.append(features)\n",
    "    y.append(label)\n",
    "#print(X.shape)\n",
    "#pring(y.shape)\n",
    "\n",
    "# reshape X data\n",
    "X = np.array(X).reshape(training_reshape)\n",
    "print(X.shape)"
   ]
  },
  {
   "cell_type": "code",
   "execution_count": 9,
   "id": "c2249d2c",
   "metadata": {
    "execution": {
     "iopub.execute_input": "2022-05-18T12:33:17.336661Z",
     "iopub.status.busy": "2022-05-18T12:33:17.335747Z",
     "iopub.status.idle": "2022-05-18T12:33:18.340857Z",
     "shell.execute_reply": "2022-05-18T12:33:18.339786Z"
    },
    "papermill": {
     "duration": 1.051025,
     "end_time": "2022-05-18T12:33:18.343450",
     "exception": false,
     "start_time": "2022-05-18T12:33:17.292425",
     "status": "completed"
    },
    "tags": []
   },
   "outputs": [
    {
     "name": "stdout",
     "output_type": "stream",
     "text": [
      "(7000, 224, 224, 3) (900, 224, 224, 3) (2100, 224, 224, 3) (7000, 2) (900, 2) (2100, 2)\n"
     ]
    }
   ],
   "source": [
    "X_train, X_test1, y_train, y_test1 = train_test_split(X, y, test_size=0.3, random_state=42)\n",
    "X_val, X_test, y_val, y_test = train_test_split(X_test1, y_test1, test_size=0.3, random_state=42)\n",
    "y_train = to_categorical(y_train)\n",
    "y_test = to_categorical(y_test)\n",
    "y_val = to_categorical(y_val)\n",
    "print(X_train.shape, X_test.shape, X_val.shape, y_train.shape, y_test.shape, y_val.shape)"
   ]
  },
  {
   "cell_type": "code",
   "execution_count": 10,
   "id": "61b27c57",
   "metadata": {
    "execution": {
     "iopub.execute_input": "2022-05-18T12:33:18.431253Z",
     "iopub.status.busy": "2022-05-18T12:33:18.430354Z",
     "iopub.status.idle": "2022-05-18T12:33:18.437251Z",
     "shell.execute_reply": "2022-05-18T12:33:18.436087Z"
    },
    "papermill": {
     "duration": 0.052837,
     "end_time": "2022-05-18T12:33:18.439500",
     "exception": false,
     "start_time": "2022-05-18T12:33:18.386663",
     "status": "completed"
    },
    "tags": []
   },
   "outputs": [],
   "source": [
    "#Callbacks\n",
    "c2=tf.keras.callbacks.EarlyStopping(\n",
    "    monitor=\"val_loss\",\n",
    "    min_delta=0,\n",
    "    patience=6,\n",
    "    mode=\"auto\",\n",
    "    baseline=None,\n",
    "    restore_best_weights=True,\n",
    ")\n",
    "\n",
    "c3=tf.keras.callbacks.ReduceLROnPlateau(\n",
    "    monitor=\"val_loss\",\n",
    "    factor=0.1,\n",
    "    patience=6,\n",
    "    mode=\"auto\",\n",
    "    min_delta=0.0001,\n",
    "    cooldown=0,\n",
    "    min_lr=0.001\n",
    ")\n",
    "nClasses=2"
   ]
  },
  {
   "cell_type": "markdown",
   "id": "1bf8c789",
   "metadata": {
    "papermill": {
     "duration": 0.041162,
     "end_time": "2022-05-18T12:33:18.522761",
     "exception": false,
     "start_time": "2022-05-18T12:33:18.481599",
     "status": "completed"
    },
    "tags": []
   },
   "source": [
    "# Model configure"
   ]
  },
  {
   "cell_type": "code",
   "execution_count": 11,
   "id": "a95cfcb8",
   "metadata": {
    "execution": {
     "iopub.execute_input": "2022-05-18T12:33:18.608440Z",
     "iopub.status.busy": "2022-05-18T12:33:18.607823Z",
     "iopub.status.idle": "2022-05-18T12:33:22.722509Z",
     "shell.execute_reply": "2022-05-18T12:33:22.719738Z"
    },
    "papermill": {
     "duration": 4.162644,
     "end_time": "2022-05-18T12:33:22.727028",
     "exception": false,
     "start_time": "2022-05-18T12:33:18.564384",
     "status": "completed"
    },
    "tags": []
   },
   "outputs": [
    {
     "name": "stderr",
     "output_type": "stream",
     "text": [
      "2022-05-18 12:33:18.675903: I tensorflow/core/common_runtime/process_util.cc:146] Creating new thread pool with default inter op setting: 2. Tune using inter_op_parallelism_threads for best performance.\n"
     ]
    },
    {
     "name": "stdout",
     "output_type": "stream",
     "text": [
      "Downloading data from https://storage.googleapis.com/tensorflow/keras-applications/vgg16/vgg16_weights_tf_dim_ordering_tf_kernels_notop.h5\n",
      "58892288/58889256 [==============================] - 1s 0us/step\n",
      "58900480/58889256 [==============================] - 1s 0us/step\n",
      "Model: \"sequential\"\n",
      "_________________________________________________________________\n",
      "Layer (type)                 Output Shape              Param #   \n",
      "=================================================================\n",
      "vgg16 (Functional)           (None, 7, 7, 512)         14714688  \n",
      "_________________________________________________________________\n",
      "flatten (Flatten)            (None, 25088)             0         \n",
      "_________________________________________________________________\n",
      "batch_normalization (BatchNo (None, 25088)             100352    \n",
      "_________________________________________________________________\n",
      "dense (Dense)                (None, 4096)              102764544 \n",
      "_________________________________________________________________\n",
      "batch_normalization_1 (Batch (None, 4096)              16384     \n",
      "_________________________________________________________________\n",
      "activation (Activation)      (None, 4096)              0         \n",
      "_________________________________________________________________\n",
      "dropout (Dropout)            (None, 4096)              0         \n",
      "_________________________________________________________________\n",
      "dense_1 (Dense)              (None, 2096)              8587312   \n",
      "_________________________________________________________________\n",
      "dense_2 (Dense)              (None, 2)                 4194      \n",
      "=================================================================\n",
      "Total params: 126,187,474\n",
      "Trainable params: 111,414,418\n",
      "Non-trainable params: 14,773,056\n",
      "_________________________________________________________________\n"
     ]
    }
   ],
   "source": [
    "RESNET50_POOLING_AVERAGE = 'avg'\n",
    "DENSE_LAYER_ACTIVATION = 'sigmoid'\n",
    "OBJECTIVE_FUNCTION = 'categorical_crossentropy'\n",
    "\n",
    "# Common accuracy metric for all outputs, but can use different metrics for different output\n",
    "LOSS_METRICS = ['accuracy']\n",
    "\n",
    "# EARLY_STOP_PATIENCE must be < NUM_EPOCHS\n",
    "NUM_EPOCHS = 30\n",
    "EARLY_STOP_PATIENCE = 3\n",
    "#resnet_weights_path = '../input/resnet50/resnet50_weights_tf_dim_ordering_tf_kernels_notop.h5'\n",
    "\n",
    "\n",
    "# fix pretrained layers for deep fea\n",
    "from keras.applications.vgg16 import VGG16\n",
    "base_model=VGG16(include_top=False, input_shape=(img_size, img_size,3), weights='imagenet')\n",
    "base_model.trainable = False\n",
    "model=Sequential()\n",
    "model.add(base_model)\n",
    "model.add(Flatten())\n",
    "model.add(BatchNormalization())\n",
    "model.add(Dense(4096,kernel_initializer='he_uniform'))\n",
    "model.add(BatchNormalization())\n",
    "model.add(Activation('relu'))\n",
    "model.add(Dropout(0.5))\n",
    "model.add(Dense(2096,activation=\"relu\"))\n",
    "model.add(Dense(2, activation='sigmoid'))\n",
    "#model = Model(inputs=resnet50_base_model.input, outputs=predictions)\n",
    "model.summary()\n"
   ]
  },
  {
   "cell_type": "code",
   "execution_count": 12,
   "id": "26d78363",
   "metadata": {
    "execution": {
     "iopub.execute_input": "2022-05-18T12:33:22.846118Z",
     "iopub.status.busy": "2022-05-18T12:33:22.844629Z",
     "iopub.status.idle": "2022-05-18T12:33:24.526854Z",
     "shell.execute_reply": "2022-05-18T12:33:24.525743Z"
    },
    "papermill": {
     "duration": 1.753063,
     "end_time": "2022-05-18T12:33:24.534787",
     "exception": false,
     "start_time": "2022-05-18T12:33:22.781724",
     "status": "completed"
    },
    "tags": []
   },
   "outputs": [
    {
     "data": {
      "image/png": "[encoded data removed]",
      "text/plain": [
       "<IPython.core.display.Image object>"
      ]
     },
     "execution_count": 12,
     "metadata": {},
     "output_type": "execute_result"
    }
   ],
   "source": [
    "from tensorflow.keras.utils import plot_model\n",
    "from IPython.display import Image\n",
    "plot_model(model, to_file='convnet.png', show_shapes=True,show_layer_names=True)\n",
    "Image(filename='convnet.png') "
   ]
  },
  {
   "cell_type": "code",
   "execution_count": 13,
   "id": "448e6e3c",
   "metadata": {
    "execution": {
     "iopub.execute_input": "2022-05-18T12:33:24.672652Z",
     "iopub.status.busy": "2022-05-18T12:33:24.671656Z",
     "iopub.status.idle": "2022-05-18T12:33:24.720033Z",
     "shell.execute_reply": "2022-05-18T12:33:24.719363Z"
    },
    "papermill": {
     "duration": 0.118962,
     "end_time": "2022-05-18T12:33:24.723570",
     "exception": false,
     "start_time": "2022-05-18T12:33:24.604608",
     "status": "completed"
    },
    "tags": []
   },
   "outputs": [],
   "source": [
    "callbacks1 = [EarlyStopping(monitor='val_loss', patience=5, verbose=1), ModelCheckpoint('model.hdf5', save_best_only=True)]\n",
    "opt = Adam(learning_rate=0.001)\n",
    "model.compile(loss='categorical_crossentropy', optimizer=opt, metrics=['accuracy'])"
   ]
  },
  {
   "cell_type": "code",
   "execution_count": 14,
   "id": "b9a50f73",
   "metadata": {
    "execution": {
     "iopub.execute_input": "2022-05-18T12:33:24.855405Z",
     "iopub.status.busy": "2022-05-18T12:33:24.855013Z",
     "iopub.status.idle": "2022-05-18T16:04:42.948241Z",
     "shell.execute_reply": "2022-05-18T16:04:42.945639Z"
    },
    "papermill": {
     "duration": 12678.722477,
     "end_time": "2022-05-18T16:04:43.512693",
     "exception": false,
     "start_time": "2022-05-18T12:33:24.790216",
     "status": "completed"
    },
    "tags": []
   },
   "outputs": [
    {
     "name": "stdout",
     "output_type": "stream",
     "text": [
      "CPU times: user 4 µs, sys: 4 µs, total: 8 µs\n",
      "Wall time: 33.9 µs\n"
     ]
    },
    {
     "name": "stderr",
     "output_type": "stream",
     "text": [
      "2022-05-18 12:33:28.001952: I tensorflow/compiler/mlir/mlir_graph_optimization_pass.cc:185] None of the MLIR Optimization Passes are enabled (registered 2)\n"
     ]
    },
    {
     "name": "stdout",
     "output_type": "stream",
     "text": [
      "Epoch 1/10\n",
      "219/219 [==============================] - 2104s 10s/step - loss: 0.4079 - accuracy: 0.8800 - val_loss: 0.3164 - val_accuracy: 0.8789\n",
      "Epoch 2/10\n",
      "219/219 [==============================] - 2119s 10s/step - loss: 0.1215 - accuracy: 0.9556 - val_loss: 0.3923 - val_accuracy: 0.9222\n",
      "Epoch 3/10\n",
      "219/219 [==============================] - 2114s 10s/step - loss: 0.0520 - accuracy: 0.9796 - val_loss: 0.4026 - val_accuracy: 0.9167\n",
      "Epoch 4/10\n",
      "219/219 [==============================] - 2116s 10s/step - loss: 0.0393 - accuracy: 0.9874 - val_loss: 0.4575 - val_accuracy: 0.9122\n",
      "Epoch 5/10\n",
      "219/219 [==============================] - 2108s 10s/step - loss: 0.0319 - accuracy: 0.9887 - val_loss: 0.4741 - val_accuracy: 0.9267\n",
      "Epoch 6/10\n",
      "219/219 [==============================] - 2110s 10s/step - loss: 0.0215 - accuracy: 0.9933 - val_loss: 0.5283 - val_accuracy: 0.9200\n",
      "Epoch 00006: early stopping\n"
     ]
    }
   ],
   "source": [
    "%time\n",
    "history1=model.fit(X_train, y_train,validation_data=(X_test, y_test),verbose = 1,epochs = epoch_4_test,callbacks=callbacks1)"
   ]
  },
  {
   "cell_type": "code",
   "execution_count": 15,
   "id": "3da53473",
   "metadata": {
    "execution": {
     "iopub.execute_input": "2022-05-18T16:04:44.599370Z",
     "iopub.status.busy": "2022-05-18T16:04:44.598397Z",
     "iopub.status.idle": "2022-05-18T16:04:44.610109Z",
     "shell.execute_reply": "2022-05-18T16:04:44.609203Z"
    },
    "papermill": {
     "duration": 0.559884,
     "end_time": "2022-05-18T16:04:44.612321",
     "exception": false,
     "start_time": "2022-05-18T16:04:44.052437",
     "status": "completed"
    },
    "tags": []
   },
   "outputs": [],
   "source": [
    "def f1_score(y_true, y_pred): #taken from old keras source code\n",
    "    true_positives = K.sum(K.round(K.clip(y_true * y_pred, 0, 1)))\n",
    "    possible_positives = K.sum(K.round(K.clip(y_true, 0, 1)))\n",
    "    predicted_positives = K.sum(K.round(K.clip(y_pred, 0, 1)))\n",
    "    precision = true_positives / (predicted_positives + K.epsilon())\n",
    "    recall = true_positives / (possible_positives + K.epsilon())\n",
    "    f1_val = 2*(precision*recall)/(precision+recall+K.epsilon())\n",
    "    return f1_val"
   ]
  },
  {
   "cell_type": "code",
   "execution_count": 16,
   "id": "e9e5fea7",
   "metadata": {
    "execution": {
     "iopub.execute_input": "2022-05-18T16:04:45.689591Z",
     "iopub.status.busy": "2022-05-18T16:04:45.688750Z",
     "iopub.status.idle": "2022-05-18T16:04:51.810503Z",
     "shell.execute_reply": "2022-05-18T16:04:51.809480Z"
    },
    "papermill": {
     "duration": 6.660525,
     "end_time": "2022-05-18T16:04:51.813326",
     "exception": false,
     "start_time": "2022-05-18T16:04:45.152801",
     "status": "completed"
    },
    "tags": []
   },
   "outputs": [],
   "source": [
    "METRICS = [\n",
    "      tf.keras.metrics.BinaryAccuracy(name='accuracy'),\n",
    "      tf.keras.metrics.Precision(name='precision'),\n",
    "      tf.keras.metrics.Recall(name='recall'),  \n",
    "      tf.keras.metrics.AUC(name='auc'),\n",
    "        f1_score,\n",
    "]"
   ]
  },
  {
   "cell_type": "code",
   "execution_count": null,
   "id": "e67ecd0f",
   "metadata": {
    "execution": {
     "iopub.execute_input": "2022-05-06T15:08:04.489795Z",
     "iopub.status.busy": "2022-05-06T15:08:04.488846Z",
     "iopub.status.idle": "2022-05-06T15:08:04.918152Z",
     "shell.execute_reply": "2022-05-06T15:08:04.917046Z",
     "shell.execute_reply.started": "2022-05-06T15:08:04.489742Z"
    },
    "papermill": {
     "duration": 0.533892,
     "end_time": "2022-05-18T16:04:52.884176",
     "exception": false,
     "start_time": "2022-05-18T16:04:52.350284",
     "status": "completed"
    },
    "tags": []
   },
   "outputs": [],
   "source": []
  },
  {
   "cell_type": "code",
   "execution_count": 17,
   "id": "49f9dbf8",
   "metadata": {
    "execution": {
     "iopub.execute_input": "2022-05-18T16:04:53.954911Z",
     "iopub.status.busy": "2022-05-18T16:04:53.954434Z",
     "iopub.status.idle": "2022-05-18T16:13:49.960123Z",
     "shell.execute_reply": "2022-05-18T16:13:49.959018Z"
    },
    "papermill": {
     "duration": 537.173632,
     "end_time": "2022-05-18T16:13:50.593599",
     "exception": false,
     "start_time": "2022-05-18T16:04:53.419967",
     "status": "completed"
    },
    "tags": []
   },
   "outputs": [
    {
     "data": {
      "image/png": "[encoded data removed]",
      "text/plain": [
       "<Figure size 576x576 with 2 Axes>"
      ]
     },
     "metadata": {
      "needs_background": "light"
     },
     "output_type": "display_data"
    }
   ],
   "source": [
    "from sklearn.metrics import confusion_matrix\n",
    "import seaborn as sns\n",
    "\n",
    "Y_pred = model.predict(X_val)\n",
    "Y_pred_classes = np.argmax(Y_pred,axis = 1) \n",
    "Y_true = np.argmax(y_val,axis = 1) \n",
    "\n",
    "confusion_mtx = confusion_matrix(Y_true, Y_pred_classes) \n",
    "\n",
    "f,ax = plt.subplots(figsize=(8, 8))\n",
    "sns.heatmap(confusion_mtx, annot=True, linewidths=0.01,cmap=\"OrRd\",linecolor=\"black\", fmt= '.1f',ax=ax)\n",
    "plt.xlabel(\"Predicted Label\")\n",
    "plt.ylabel(\"True Label\")\n",
    "plt.title(\"Confusion Matrix\")\n",
    "plt.show()"
   ]
  },
  {
   "cell_type": "code",
   "execution_count": 18,
   "id": "d29a2ed2",
   "metadata": {
    "execution": {
     "iopub.execute_input": "2022-05-18T16:13:51.675382Z",
     "iopub.status.busy": "2022-05-18T16:13:51.674791Z",
     "iopub.status.idle": "2022-05-18T16:13:51.687662Z",
     "shell.execute_reply": "2022-05-18T16:13:51.686991Z"
    },
    "papermill": {
     "duration": 0.556569,
     "end_time": "2022-05-18T16:13:51.690904",
     "exception": false,
     "start_time": "2022-05-18T16:13:51.134335",
     "status": "completed"
    },
    "tags": []
   },
   "outputs": [
    {
     "name": "stdout",
     "output_type": "stream",
     "text": [
      "              precision    recall  f1-score   support\n",
      "\n",
      "           0       0.94      0.97      0.96      1806\n",
      "           1       0.80      0.64      0.71       294\n",
      "\n",
      "    accuracy                           0.93      2100\n",
      "   macro avg       0.87      0.81      0.84      2100\n",
      "weighted avg       0.92      0.93      0.92      2100\n",
      "\n"
     ]
    }
   ],
   "source": [
    "from sklearn.metrics import classification_report\n",
    "\n",
    "print(classification_report(Y_true, Y_pred_classes))"
   ]
  },
  {
   "cell_type": "markdown",
   "id": "f14aca99",
   "metadata": {
    "papermill": {
     "duration": 0.550306,
     "end_time": "2022-05-18T16:13:52.785618",
     "exception": false,
     "start_time": "2022-05-18T16:13:52.235312",
     "status": "completed"
    },
    "tags": []
   },
   "source": []
  },
  {
   "cell_type": "code",
   "execution_count": null,
   "id": "14925086",
   "metadata": {
    "execution": {
     "iopub.execute_input": "2022-05-06T15:08:41.911737Z",
     "iopub.status.busy": "2022-05-06T15:08:41.911171Z",
     "iopub.status.idle": "2022-05-06T15:08:41.922881Z",
     "shell.execute_reply": "2022-05-06T15:08:41.922041Z",
     "shell.execute_reply.started": "2022-05-06T15:08:41.911677Z"
    },
    "papermill": {
     "duration": 0.534387,
     "end_time": "2022-05-18T16:13:53.883556",
     "exception": false,
     "start_time": "2022-05-18T16:13:53.349169",
     "status": "completed"
    },
    "tags": []
   },
   "outputs": [],
   "source": []
  },
  {
   "cell_type": "code",
   "execution_count": 19,
   "id": "fdecfda4",
   "metadata": {
    "execution": {
     "iopub.execute_input": "2022-05-18T16:13:54.963583Z",
     "iopub.status.busy": "2022-05-18T16:13:54.963267Z",
     "iopub.status.idle": "2022-05-18T16:13:54.977423Z",
     "shell.execute_reply": "2022-05-18T16:13:54.976683Z"
    },
    "papermill": {
     "duration": 0.554889,
     "end_time": "2022-05-18T16:13:54.979749",
     "exception": false,
     "start_time": "2022-05-18T16:13:54.424860",
     "status": "completed"
    },
    "tags": []
   },
   "outputs": [],
   "source": [
    "from sklearn.metrics import f1_score, roc_auc_score, cohen_kappa_score, precision_score, recall_score, accuracy_score, confusion_matrix\n",
    "def get_accuracy_metrics(model, X_train, y_train, X_val, y_val, X_test, y_test):\n",
    "    y_train=np.argmax(y_train, axis=1)\n",
    "    y_test=np.argmax(y_test, axis=1)\n",
    "    y_val=np.argmax(y_val, axis=1)\n",
    "    y_train_pred=np.argmax(model.predict(X_train),axis=1)\n",
    "    y_test_pred=np.argmax(model.predict(X_test),axis=1)\n",
    "    y_val_pred=np.argmax(model.predict(X_val),axis=1)\n",
    "    #ps:all the Y value must turn back to 1 dimension array. otherwise, the scoring functions in sklearn cannot compare, and will give an error\n",
    "    #classification metrics can't handle a mix of continuous-multioutput and multi-label-indicator targets\n",
    "    \n",
    "    print(\"Train accuracy Score------------>\")\n",
    "    print (\"{0:.3f}\".format(accuracy_score(y_train, y_train_pred)*100), \"%\")\n",
    "    \n",
    "    print(\"Val accuracy Score--------->\")\n",
    "    \n",
    "    print(\"{0:.3f}\".format(accuracy_score(y_val, y_val_pred)*100), \"%\")\n",
    "    \n",
    "  \n",
    "    print(\"Test accuracy Score--------->\")\n",
    "    print(\"{0:.3f}\".format(accuracy_score(y_test, y_test_pred)*100), \"%\")\n",
    "    \n",
    "    print(\"F1 Score--------------->\")\n",
    "    print(\"{0:.3f}\".format(f1_score(y_test, y_test_pred, average = 'weighted')*100), \"%\")\n",
    "    \n",
    "    print(\"Cohen Kappa Score------------->\")\n",
    "    print(\"{0:.3f}\".format(cohen_kappa_score(y_test, y_test_pred)*100), \"%\")\n",
    "    \n",
    "    print(\"Recall-------------->\")\n",
    "    print(\"{0:.3f}\".format(recall_score(y_test, y_test_pred, average = 'weighted')*100), \"%\")\n",
    "    \n",
    "    print(\"Precision-------------->\")\n",
    "    print(\"{0:.3f}\".format(precision_score(y_test, y_test_pred, average = 'weighted')*100), \"%\")\n",
    "    \n",
    "    cf_matrix_test = confusion_matrix(y_test, y_test_pred)\n",
    "    cf_matrix_val = confusion_matrix(y_val, y_val_pred)\n",
    "    \n",
    "    plt.figure(figsize = (12, 6))\n",
    "    plt.subplot(121)\n",
    "    sns.heatmap(cf_matrix_val, annot=True, cmap='Blues')\n",
    "    plt.title(\"Val Confusion matrix\")\n",
    "    \n",
    "    plt.subplot(122)\n",
    "    sns.heatmap(cf_matrix_test, annot=True, cmap='Blues')\n",
    "    plt.title(\"Test Confusion matrix\")\n",
    "    \n",
    "    plt.show()"
   ]
  },
  {
   "cell_type": "code",
   "execution_count": null,
   "id": "2f70c1d9",
   "metadata": {
    "papermill": {
     "duration": 0.54069,
     "end_time": "2022-05-18T16:13:56.065694",
     "exception": false,
     "start_time": "2022-05-18T16:13:55.525004",
     "status": "completed"
    },
    "tags": []
   },
   "outputs": [],
   "source": []
  },
  {
   "cell_type": "code",
   "execution_count": 20,
   "id": "2857c988",
   "metadata": {
    "execution": {
     "iopub.execute_input": "2022-05-18T16:13:57.148613Z",
     "iopub.status.busy": "2022-05-18T16:13:57.148316Z",
     "iopub.status.idle": "2022-05-18T16:56:38.209996Z",
     "shell.execute_reply": "2022-05-18T16:56:38.208854Z"
    },
    "papermill": {
     "duration": 2561.920901,
     "end_time": "2022-05-18T16:56:38.524875",
     "exception": false,
     "start_time": "2022-05-18T16:13:56.603974",
     "status": "completed"
    },
    "tags": []
   },
   "outputs": [
    {
     "name": "stdout",
     "output_type": "stream",
     "text": [
      "Train accuracy Score------------>\n",
      "99.814 %\n",
      "Val accuracy Score--------->\n",
      "92.714 %\n",
      "Test accuracy Score--------->\n",
      "92.000 %\n",
      "F1 Score--------------->\n",
      "91.593 %\n",
      "Cohen Kappa Score------------->\n",
      "69.090 %\n",
      "Recall-------------->\n",
      "92.000 %\n",
      "Precision-------------->\n",
      "91.659 %\n"
     ]
    },
    {
     "data": {
      "image/png": "[encoded data removed]",
      "text/plain": [
       "<Figure size 864x432 with 4 Axes>"
      ]
     },
     "metadata": {
      "needs_background": "light"
     },
     "output_type": "display_data"
    }
   ],
   "source": [
    "get_accuracy_metrics(model,  X_train, y_train, X_val, y_val, X_test, y_test)"
   ]
  },
  {
   "cell_type": "code",
   "execution_count": 21,
   "id": "b4d47ed5",
   "metadata": {
    "execution": {
     "iopub.execute_input": "2022-05-18T16:56:39.604452Z",
     "iopub.status.busy": "2022-05-18T16:56:39.603640Z",
     "iopub.status.idle": "2022-05-18T16:56:39.903404Z",
     "shell.execute_reply": "2022-05-18T16:56:39.902323Z"
    },
    "papermill": {
     "duration": 0.838479,
     "end_time": "2022-05-18T16:56:39.905970",
     "exception": false,
     "start_time": "2022-05-18T16:56:39.067491",
     "status": "completed"
    },
    "tags": []
   },
   "outputs": [
    {
     "data": {
      "image/png": "[encoded data removed]",
      "text/plain": [
       "<Figure size 864x432 with 2 Axes>"
      ]
     },
     "metadata": {
      "needs_background": "light"
     },
     "output_type": "display_data"
    }
   ],
   "source": [
    "import matplotlib.pyplot as plt\n",
    "import seaborn as sns\n",
    "plt.figure(figsize = (12, 6))\n",
    "plt.subplot(121)\n",
    "#plotting the Accuracy of test and training sets\n",
    "plt.plot(history1.history['accuracy'])\n",
    "plt.plot(history1.history['val_accuracy'])\n",
    "plt.title('1st training Model Accuracy')\n",
    "plt.ylabel('accuracy')\n",
    "plt.xlabel('epoch')\n",
    "plt.legend(['train', 'test'], loc='upper left')\n",
    "\n",
    "plt.subplot(122)\n",
    "#plotting the loss of test and training sets\n",
    "plt.plot(history1.history['loss'])\n",
    "plt.plot(history1.history['val_loss'])\n",
    "plt.title('1st training Model Loss')\n",
    "plt.ylabel('loss')\n",
    "plt.xlabel('epoch')\n",
    "plt.legend(['train', 'test'], loc='upper left')\n",
    "plt.show()"
   ]
  },
  {
   "cell_type": "markdown",
   "id": "1c7dbd19",
   "metadata": {
    "papermill": {
     "duration": 0.541812,
     "end_time": "2022-05-18T16:56:40.989502",
     "exception": false,
     "start_time": "2022-05-18T16:56:40.447690",
     "status": "completed"
    },
    "tags": []
   },
   "source": [
    "# Second Training Fine Tune"
   ]
  },
  {
   "cell_type": "code",
   "execution_count": 22,
   "id": "6e430135",
   "metadata": {
    "execution": {
     "iopub.execute_input": "2022-05-18T16:56:42.075507Z",
     "iopub.status.busy": "2022-05-18T16:56:42.074967Z",
     "iopub.status.idle": "2022-05-18T16:56:42.081392Z",
     "shell.execute_reply": "2022-05-18T16:56:42.080756Z"
    },
    "papermill": {
     "duration": 0.553972,
     "end_time": "2022-05-18T16:56:42.083446",
     "exception": false,
     "start_time": "2022-05-18T16:56:41.529474",
     "status": "completed"
    },
    "tags": []
   },
   "outputs": [],
   "source": [
    "for model1 in model.layers:\n",
    "    model1.trainable = True"
   ]
  },
  {
   "cell_type": "code",
   "execution_count": 23,
   "id": "a258dac4",
   "metadata": {
    "execution": {
     "iopub.execute_input": "2022-05-18T16:56:43.172119Z",
     "iopub.status.busy": "2022-05-18T16:56:43.171569Z",
     "iopub.status.idle": "2022-05-18T16:56:43.178372Z",
     "shell.execute_reply": "2022-05-18T16:56:43.177503Z"
    },
    "papermill": {
     "duration": 0.555442,
     "end_time": "2022-05-18T16:56:43.180685",
     "exception": false,
     "start_time": "2022-05-18T16:56:42.625243",
     "status": "completed"
    },
    "tags": []
   },
   "outputs": [],
   "source": [
    "callbacks2 = [EarlyStopping(monitor='val_loss', patience=5, verbose=1), ModelCheckpoint('test_model.hdf5', save_best_only=True)]\n",
    "opt = Adam(learning_rate=0.001)\n",
    "#model.compile(loss='categorical_crossentropy', optimizer=opt, metrics=['accuracy'])"
   ]
  },
  {
   "cell_type": "code",
   "execution_count": 24,
   "id": "98834bef",
   "metadata": {
    "execution": {
     "iopub.execute_input": "2022-05-18T16:56:44.283315Z",
     "iopub.status.busy": "2022-05-18T16:56:44.282995Z",
     "iopub.status.idle": "2022-05-18T19:54:07.918978Z",
     "shell.execute_reply": "2022-05-18T19:54:07.916172Z"
    },
    "papermill": {
     "duration": 10644.187003,
     "end_time": "2022-05-18T19:54:07.922298",
     "exception": false,
     "start_time": "2022-05-18T16:56:43.735295",
     "status": "completed"
    },
    "tags": []
   },
   "outputs": [
    {
     "name": "stdout",
     "output_type": "stream",
     "text": [
      "Epoch 1/5\n",
      "219/219 [==============================] - 2104s 10s/step - loss: 0.0149 - accuracy: 0.9944 - val_loss: 0.7318 - val_accuracy: 0.9311\n",
      "Epoch 2/5\n",
      "219/219 [==============================] - 2127s 10s/step - loss: 0.0232 - accuracy: 0.9933 - val_loss: 0.6434 - val_accuracy: 0.9122\n",
      "Epoch 3/5\n",
      "219/219 [==============================] - 2111s 10s/step - loss: 0.0167 - accuracy: 0.9947 - val_loss: 0.7769 - val_accuracy: 0.9178\n",
      "Epoch 4/5\n",
      "219/219 [==============================] - 2122s 10s/step - loss: 0.0187 - accuracy: 0.9947 - val_loss: 0.5363 - val_accuracy: 0.9089\n",
      "Epoch 5/5\n",
      "219/219 [==============================] - 2112s 10s/step - loss: 0.0231 - accuracy: 0.9920 - val_loss: 0.6509 - val_accuracy: 0.9322\n"
     ]
    }
   ],
   "source": [
    "history2=model.fit(X_train, y_train,validation_data=(X_test, y_test),verbose = 1,epochs = 5,callbacks=callbacks2)"
   ]
  },
  {
   "cell_type": "code",
   "execution_count": 25,
   "id": "675091c5",
   "metadata": {
    "execution": {
     "iopub.execute_input": "2022-05-18T19:54:09.817887Z",
     "iopub.status.busy": "2022-05-18T19:54:09.817343Z",
     "iopub.status.idle": "2022-05-18T20:03:02.216155Z",
     "shell.execute_reply": "2022-05-18T20:03:02.214773Z"
    },
    "papermill": {
     "duration": 534.29403,
     "end_time": "2022-05-18T20:03:03.161979",
     "exception": false,
     "start_time": "2022-05-18T19:54:08.867949",
     "status": "completed"
    },
    "tags": []
   },
   "outputs": [
    {
     "data": {
      "image/png": "[encoded data removed]",
      "text/plain": [
       "<Figure size 576x576 with 2 Axes>"
      ]
     },
     "metadata": {
      "needs_background": "light"
     },
     "output_type": "display_data"
    }
   ],
   "source": [
    "Y_pred = model.predict(X_val)\n",
    "Y_pred_classes = np.argmax(Y_pred,axis = 1) \n",
    "Y_true = np.argmax(y_val,axis = 1) \n",
    "\n",
    "confusion_mtx = confusion_matrix(Y_true, Y_pred_classes) \n",
    "\n",
    "f,ax = plt.subplots(figsize=(8, 8))\n",
    "sns.heatmap(confusion_mtx, annot=True, linewidths=0.01,cmap=\"OrRd\",linecolor=\"black\", fmt= '.1f',ax=ax)\n",
    "plt.xlabel(\"Predicted Label\")\n",
    "plt.ylabel(\"True Label\")\n",
    "plt.title(\"Confusion Matrix\")\n",
    "plt.show()"
   ]
  },
  {
   "cell_type": "code",
   "execution_count": 26,
   "id": "883bee57",
   "metadata": {
    "execution": {
     "iopub.execute_input": "2022-05-18T20:03:05.090996Z",
     "iopub.status.busy": "2022-05-18T20:03:05.090695Z",
     "iopub.status.idle": "2022-05-18T20:03:05.105229Z",
     "shell.execute_reply": "2022-05-18T20:03:05.104595Z"
    },
    "papermill": {
     "duration": 0.99353,
     "end_time": "2022-05-18T20:03:05.107194",
     "exception": false,
     "start_time": "2022-05-18T20:03:04.113664",
     "status": "completed"
    },
    "tags": []
   },
   "outputs": [
    {
     "name": "stdout",
     "output_type": "stream",
     "text": [
      "              precision    recall  f1-score   support\n",
      "\n",
      "           0       0.96      0.97      0.97      1806\n",
      "           1       0.81      0.74      0.78       294\n",
      "\n",
      "    accuracy                           0.94      2100\n",
      "   macro avg       0.89      0.86      0.87      2100\n",
      "weighted avg       0.94      0.94      0.94      2100\n",
      "\n"
     ]
    }
   ],
   "source": [
    "print(classification_report(Y_true, Y_pred_classes))"
   ]
  },
  {
   "cell_type": "code",
   "execution_count": 27,
   "id": "9ee3b8c5",
   "metadata": {
    "execution": {
     "iopub.execute_input": "2022-05-18T20:03:07.007687Z",
     "iopub.status.busy": "2022-05-18T20:03:07.006998Z",
     "iopub.status.idle": "2022-05-18T20:45:36.666568Z",
     "shell.execute_reply": "2022-05-18T20:45:36.665216Z"
    },
    "papermill": {
     "duration": 2551.457561,
     "end_time": "2022-05-18T20:45:37.515173",
     "exception": false,
     "start_time": "2022-05-18T20:03:06.057612",
     "status": "completed"
    },
    "tags": []
   },
   "outputs": [
    {
     "name": "stdout",
     "output_type": "stream",
     "text": [
      "Train accuracy Score------------>\n",
      "99.443 %\n",
      "Val accuracy Score--------->\n",
      "94.000 %\n",
      "Test accuracy Score--------->\n",
      "93.222 %\n",
      "F1 Score--------------->\n",
      "92.957 %\n",
      "Cohen Kappa Score------------->\n",
      "74.320 %\n",
      "Recall-------------->\n",
      "93.222 %\n",
      "Precision-------------->\n",
      "92.991 %\n"
     ]
    },
    {
     "data": {
      "image/png": "[encoded data removed]",
      "text/plain": [
       "<Figure size 864x432 with 4 Axes>"
      ]
     },
     "metadata": {
      "needs_background": "light"
     },
     "output_type": "display_data"
    }
   ],
   "source": [
    "get_accuracy_metrics(model,  X_train, y_train, X_val, y_val, X_test, y_test)"
   ]
  },
  {
   "cell_type": "code",
   "execution_count": 28,
   "id": "f5f813c7",
   "metadata": {
    "execution": {
     "iopub.execute_input": "2022-05-18T20:45:39.532318Z",
     "iopub.status.busy": "2022-05-18T20:45:39.531759Z",
     "iopub.status.idle": "2022-05-18T20:45:39.848949Z",
     "shell.execute_reply": "2022-05-18T20:45:39.848262Z"
    },
    "papermill": {
     "duration": 1.3255,
     "end_time": "2022-05-18T20:45:39.851207",
     "exception": false,
     "start_time": "2022-05-18T20:45:38.525707",
     "status": "completed"
    },
    "tags": []
   },
   "outputs": [
    {
     "data": {
      "image/png": "[encoded data removed]",
      "text/plain": [
       "<Figure size 864x432 with 2 Axes>"
      ]
     },
     "metadata": {
      "needs_background": "light"
     },
     "output_type": "display_data"
    }
   ],
   "source": [
    "plt.figure(figsize = (12, 6))\n",
    "plt.subplot(121)\n",
    "#plotting the Accuracy of test and training sets\n",
    "plt.plot(history2.history['accuracy'])\n",
    "plt.plot(history2.history['val_accuracy'])\n",
    "plt.title('2nd training Model Accuracy')\n",
    "plt.ylabel('accuracy')\n",
    "plt.xlabel('epoch')\n",
    "plt.legend(['train', 'test'], loc='upper left')\n",
    "\n",
    "plt.subplot(122)\n",
    "#plotting the loss of test and training sets\n",
    "plt.plot(history2.history['loss'])\n",
    "plt.plot(history2.history['val_loss'])\n",
    "plt.title('2nd training Model Loss')\n",
    "plt.ylabel('loss')\n",
    "plt.xlabel('epoch')\n",
    "plt.legend(['train', 'test'], loc='upper left')\n",
    "plt.show()"
   ]
  }
 ],
 "metadata": {
  "kernelspec": {
   "display_name": "Python 3",
   "language": "python",
   "name": "python3"
  },
  "language_info": {
   "codemirror_mode": {
    "name": "ipython",
    "version": 3
   },
   "file_extension": ".py",
   "mimetype": "text/x-python",
   "name": "python",
   "nbconvert_exporter": "python",
   "pygments_lexer": "ipython3",
   "version": "3.7.12"
  },
  "papermill": {
   "default_parameters": {},
   "duration": 29773.544324,
   "end_time": "2022-05-18T20:45:44.544117",
   "environment_variables": {},
   "exception": null,
   "input_path": "__notebook__.ipynb",
   "output_path": "__notebook__.ipynb",
   "parameters": {},
   "start_time": "2022-05-18T12:29:30.999793",
   "version": "2.3.4"
  }
 },
 "nbformat": 4,
 "nbformat_minor": 5
}
