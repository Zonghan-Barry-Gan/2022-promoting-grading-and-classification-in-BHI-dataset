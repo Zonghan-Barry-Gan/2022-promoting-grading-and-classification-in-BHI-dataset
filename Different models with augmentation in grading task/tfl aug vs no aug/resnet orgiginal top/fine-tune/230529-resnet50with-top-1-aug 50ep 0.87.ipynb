{
 "cells": [
  {
   "cell_type": "code",
   "execution_count": 1,
   "id": "2ceb8679",
   "metadata": {
    "_cell_guid": "b1076dfc-b9ad-4769-8c92-a6c4dae69d19",
    "_uuid": "8f2839f25d086af736a60e9eeb907d3b93b6e0e5",
    "execution": {
     "iopub.execute_input": "2022-11-14T12:39:02.393763Z",
     "iopub.status.busy": "2022-11-14T12:39:02.393213Z",
     "iopub.status.idle": "2022-11-14T12:39:14.478463Z",
     "shell.execute_reply": "2022-11-14T12:39:14.477352Z"
    },
    "papermill": {
     "duration": 12.095862,
     "end_time": "2022-11-14T12:39:14.480956",
     "exception": false,
     "start_time": "2022-11-14T12:39:02.385094",
     "status": "completed"
    },
    "tags": []
   },
   "outputs": [
    {
     "name": "stdout",
     "output_type": "stream",
     "text": [
      "Collecting Livelossplot\r\n",
      "  Downloading livelossplot-0.5.5-py3-none-any.whl (22 kB)\r\n",
      "Requirement already satisfied: bokeh in /opt/conda/lib/python3.7/site-packages (from Livelossplot) (2.4.3)\r\n",
      "Requirement already satisfied: numpy<1.22 in /opt/conda/lib/python3.7/site-packages (from Livelossplot) (1.21.6)\r\n",
      "Requirement already satisfied: ipython==7.* in /opt/conda/lib/python3.7/site-packages (from Livelossplot) (7.33.0)\r\n",
      "Requirement already satisfied: matplotlib in /opt/conda/lib/python3.7/site-packages (from Livelossplot) (3.5.3)\r\n",
      "Requirement already satisfied: traitlets>=4.2 in /opt/conda/lib/python3.7/site-packages (from ipython==7.*->Livelossplot) (5.3.0)\r\n",
      "Requirement already satisfied: decorator in /opt/conda/lib/python3.7/site-packages (from ipython==7.*->Livelossplot) (5.1.1)\r\n",
      "Requirement already satisfied: backcall in /opt/conda/lib/python3.7/site-packages (from ipython==7.*->Livelossplot) (0.2.0)\r\n",
      "Requirement already satisfied: pexpect>4.3 in /opt/conda/lib/python3.7/site-packages (from ipython==7.*->Livelossplot) (4.8.0)\r\n",
      "Requirement already satisfied: prompt-toolkit!=3.0.0,!=3.0.1,<3.1.0,>=2.0.0 in /opt/conda/lib/python3.7/site-packages (from ipython==7.*->Livelossplot) (3.0.30)\r\n",
      "Requirement already satisfied: setuptools>=18.5 in /opt/conda/lib/python3.7/site-packages (from ipython==7.*->Livelossplot) (59.8.0)\r\n",
      "Requirement already satisfied: pygments in /opt/conda/lib/python3.7/site-packages (from ipython==7.*->Livelossplot) (2.12.0)\r\n",
      "Requirement already satisfied: jedi>=0.16 in /opt/conda/lib/python3.7/site-packages (from ipython==7.*->Livelossplot) (0.18.1)\r\n",
      "Requirement already satisfied: pickleshare in /opt/conda/lib/python3.7/site-packages (from ipython==7.*->Livelossplot) (0.7.5)\r\n",
      "Requirement already satisfied: matplotlib-inline in /opt/conda/lib/python3.7/site-packages (from ipython==7.*->Livelossplot) (0.1.3)\r\n",
      "Requirement already satisfied: Jinja2>=2.9 in /opt/conda/lib/python3.7/site-packages (from bokeh->Livelossplot) (3.1.2)\r\n",
      "Requirement already satisfied: typing-extensions>=3.10.0 in /opt/conda/lib/python3.7/site-packages (from bokeh->Livelossplot) (4.3.0)\r\n",
      "Requirement already satisfied: packaging>=16.8 in /opt/conda/lib/python3.7/site-packages (from bokeh->Livelossplot) (21.3)\r\n",
      "Requirement already satisfied: pillow>=7.1.0 in /opt/conda/lib/python3.7/site-packages (from bokeh->Livelossplot) (9.1.1)\r\n",
      "Requirement already satisfied: PyYAML>=3.10 in /opt/conda/lib/python3.7/site-packages (from bokeh->Livelossplot) (6.0)\r\n",
      "Requirement already satisfied: tornado>=5.1 in /opt/conda/lib/python3.7/site-packages (from bokeh->Livelossplot) (6.1)\r\n",
      "Requirement already satisfied: fonttools>=4.22.0 in /opt/conda/lib/python3.7/site-packages (from matplotlib->Livelossplot) (4.33.3)\r\n",
      "Requirement already satisfied: pyparsing>=2.2.1 in /opt/conda/lib/python3.7/site-packages (from matplotlib->Livelossplot) (3.0.9)\r\n",
      "Requirement already satisfied: python-dateutil>=2.7 in /opt/conda/lib/python3.7/site-packages (from matplotlib->Livelossplot) (2.8.2)\r\n",
      "Requirement already satisfied: kiwisolver>=1.0.1 in /opt/conda/lib/python3.7/site-packages (from matplotlib->Livelossplot) (1.4.3)\r\n",
      "Requirement already satisfied: cycler>=0.10 in /opt/conda/lib/python3.7/site-packages (from matplotlib->Livelossplot) (0.11.0)\r\n",
      "Requirement already satisfied: parso<0.9.0,>=0.8.0 in /opt/conda/lib/python3.7/site-packages (from jedi>=0.16->ipython==7.*->Livelossplot) (0.8.3)\r\n",
      "Requirement already satisfied: MarkupSafe>=2.0 in /opt/conda/lib/python3.7/site-packages (from Jinja2>=2.9->bokeh->Livelossplot) (2.1.1)\r\n",
      "Requirement already satisfied: ptyprocess>=0.5 in /opt/conda/lib/python3.7/site-packages (from pexpect>4.3->ipython==7.*->Livelossplot) (0.7.0)\r\n",
      "Requirement already satisfied: wcwidth in /opt/conda/lib/python3.7/site-packages (from prompt-toolkit!=3.0.0,!=3.0.1,<3.1.0,>=2.0.0->ipython==7.*->Livelossplot) (0.2.5)\r\n",
      "Requirement already satisfied: six>=1.5 in /opt/conda/lib/python3.7/site-packages (from python-dateutil>=2.7->matplotlib->Livelossplot) (1.15.0)\r\n",
      "Installing collected packages: Livelossplot\r\n",
      "Successfully installed Livelossplot-0.5.5\r\n",
      "\u001b[33mWARNING: Running pip as the 'root' user can result in broken permissions and conflicting behaviour with the system package manager. It is recommended to use a virtual environment instead: https://pip.pypa.io/warnings/venv\u001b[0m\u001b[33m\r\n",
      "\u001b[0m"
     ]
    }
   ],
   "source": [
    "# This Python 3 environment comes with many helpful analytics libraries installed\n",
    "# It is defined by the kaggle/python Docker image: https://github.com/kaggle/docker-python\n",
    "# For example, here's several helpful packages to load\n",
    "\n",
    "import numpy as np # linear algebra\n",
    "import pandas as pd # data processing, CSV file I/O (e.g. pd.read_csv)\n",
    "\n",
    "# Input data files are available in the read-only \"../input/\" directory\n",
    "# For example, running this (by clicking run or pressing Shift+Enter) will list all files under the input directory\n",
    "\n",
    "import os\n",
    "\n",
    "import warnings\n",
    "warnings.filterwarnings('ignore')\n",
    "%matplotlib inline\n",
    "!pip install Livelossplot\n",
    "from livelossplot import PlotLossesKeras\n",
    "\n",
    "from glob import glob\n",
    "import os\n",
    "import shutil\n",
    "\n",
    "import numpy as np\n",
    "import pandas as pd\n",
    "# You can write up to 20GB to the current directory (/kaggle/working/) that gets preserved as output when you create a version using \"Save & Run All\" \n",
    "# You can also write temporary files to /kaggle/temp/, but they won't be saved outside of the current session"
   ]
  },
  {
   "cell_type": "markdown",
   "id": "7ddb44f2",
   "metadata": {
    "papermill": {
     "duration": 0.005297,
     "end_time": "2022-11-14T12:39:14.492758",
     "exception": false,
     "start_time": "2022-11-14T12:39:14.487461",
     "status": "completed"
    },
    "tags": []
   },
   "source": [
    "# AIM\n",
    "## To classify the images into \n",
    "### IDC+\n",
    "### IDC-\n",
    "\n",
    "# Validation Strategy:\n",
    "\n",
    "## Train Data Size= 0.7*Total_Data\n",
    "## Validation Data Size= 0.21* Total_Data\n",
    "## Test Data Size= 0.09 * Total_Data\n",
    "\n",
    "# Augmentaions Used:\n",
    "## Each Image is rotated through 45 angles\n"
   ]
  },
  {
   "cell_type": "code",
   "execution_count": 2,
   "id": "f9504de8",
   "metadata": {
    "execution": {
     "iopub.execute_input": "2022-11-14T12:39:14.505604Z",
     "iopub.status.busy": "2022-11-14T12:39:14.504828Z",
     "iopub.status.idle": "2022-11-14T12:39:22.543907Z",
     "shell.execute_reply": "2022-11-14T12:39:22.542896Z"
    },
    "papermill": {
     "duration": 8.047934,
     "end_time": "2022-11-14T12:39:22.546143",
     "exception": false,
     "start_time": "2022-11-14T12:39:14.498209",
     "status": "completed"
    },
    "tags": []
   },
   "outputs": [
    {
     "data": {
      "text/html": [
       "<style type='text/css'>\n",
       ".datatable table.frame { margin-bottom: 0; }\n",
       ".datatable table.frame thead { border-bottom: none; }\n",
       ".datatable table.frame tr.coltypes td {  color: #FFFFFF;  line-height: 6px;  padding: 0 0.5em;}\n",
       ".datatable .bool    { background: #DDDD99; }\n",
       ".datatable .object  { background: #565656; }\n",
       ".datatable .int     { background: #5D9E5D; }\n",
       ".datatable .float   { background: #4040CC; }\n",
       ".datatable .str     { background: #CC4040; }\n",
       ".datatable .time    { background: #40CC40; }\n",
       ".datatable .row_index {  background: var(--jp-border-color3);  border-right: 1px solid var(--jp-border-color0);  color: var(--jp-ui-font-color3);  font-size: 9px;}\n",
       ".datatable .frame tbody td { text-align: left; }\n",
       ".datatable .frame tr.coltypes .row_index {  background: var(--jp-border-color0);}\n",
       ".datatable th:nth-child(2) { padding-left: 12px; }\n",
       ".datatable .hellipsis {  color: var(--jp-cell-editor-border-color);}\n",
       ".datatable .vellipsis {  background: var(--jp-layout-color0);  color: var(--jp-cell-editor-border-color);}\n",
       ".datatable .na {  color: var(--jp-cell-editor-border-color);  font-size: 80%;}\n",
       ".datatable .sp {  opacity: 0.25;}\n",
       ".datatable .footer { font-size: 9px; }\n",
       ".datatable .frame_dimensions {  background: var(--jp-border-color3);  border-top: 1px solid var(--jp-border-color0);  color: var(--jp-ui-font-color3);  display: inline-block;  opacity: 0.6;  padding: 1px 10px 1px 5px;}\n",
       "</style>\n"
      ],
      "text/plain": [
       "<IPython.core.display.HTML object>"
      ]
     },
     "metadata": {},
     "output_type": "display_data"
    },
    {
     "name": "stdout",
     "output_type": "stream",
     "text": [
      "All modules have been imported\n"
     ]
    }
   ],
   "source": [
    "\n",
    "import numpy as np\n",
    "import pandas as pd\n",
    "import cv2\n",
    "from PIL import Image\n",
    "import scipy\n",
    "\n",
    "import tensorflow as tf\n",
    "from tensorflow.keras.applications import *\n",
    "from tensorflow.keras.optimizers import *\n",
    "from tensorflow.keras.losses import *\n",
    "from tensorflow.keras.layers import *\n",
    "from tensorflow.keras.models import *\n",
    "from tensorflow.keras.callbacks import *\n",
    "from tensorflow.keras.preprocessing.image import *\n",
    "from tensorflow.keras.utils import *\n",
    "# import pydot\n",
    "\n",
    "from sklearn.metrics import *\n",
    "from sklearn.model_selection import *\n",
    "import tensorflow.keras.backend as K\n",
    "\n",
    "from tqdm import tqdm, tqdm_notebook\n",
    "from colorama import Fore\n",
    "import json\n",
    "import matplotlib.pyplot as plt\n",
    "import seaborn as sns\n",
    "from glob import glob\n",
    "from skimage.io import *\n",
    "%config Completer.use_jedi = False\n",
    "import time\n",
    "from sklearn.decomposition import PCA\n",
    "from sklearn.svm import LinearSVC\n",
    "from sklearn.linear_model import LogisticRegression\n",
    "from sklearn.metrics import accuracy_score\n",
    "import lightgbm as lgb\n",
    "import xgboost as xgb\n",
    "\n",
    "print(\"All modules have been imported\")"
   ]
  },
  {
   "cell_type": "code",
   "execution_count": 3,
   "id": "ccf1990e",
   "metadata": {
    "execution": {
     "iopub.execute_input": "2022-11-14T12:39:22.560263Z",
     "iopub.status.busy": "2022-11-14T12:39:22.558786Z",
     "iopub.status.idle": "2022-11-14T12:39:22.564212Z",
     "shell.execute_reply": "2022-11-14T12:39:22.563339Z"
    },
    "papermill": {
     "duration": 0.014394,
     "end_time": "2022-11-14T12:39:22.566387",
     "exception": false,
     "start_time": "2022-11-14T12:39:22.551993",
     "status": "completed"
    },
    "tags": []
   },
   "outputs": [],
   "source": [
    "sampling_seed = 0\n",
    "size_4_training0 = 78786\n",
    "size_4_training1 = 78786\n",
    "img_size = 50\n",
    "training_reshape=(-1, img_size, img_size, 3)\n",
    "epoch_4_test = 50"
   ]
  },
  {
   "cell_type": "code",
   "execution_count": 4,
   "id": "56745092",
   "metadata": {
    "execution": {
     "iopub.execute_input": "2022-11-14T12:39:22.578934Z",
     "iopub.status.busy": "2022-11-14T12:39:22.578660Z",
     "iopub.status.idle": "2022-11-14T12:39:22.585025Z",
     "shell.execute_reply": "2022-11-14T12:39:22.583912Z"
    },
    "papermill": {
     "duration": 0.01502,
     "end_time": "2022-11-14T12:39:22.586979",
     "exception": false,
     "start_time": "2022-11-14T12:39:22.571959",
     "status": "completed"
    },
    "tags": []
   },
   "outputs": [],
   "source": [
    "import os\n",
    "os.makedirs('../working/data/train_seg/idc-minus/')     \n",
    "os.makedirs('../working/data/train_seg/idc-plus/')  \n",
    "os.makedirs('../working/data/test_seg/idc-minus/')     \n",
    "os.makedirs('../working/data/test_seg/idc-plus/')  \n",
    "os.makedirs('../working/data/val_seg/idc-minus/')     \n",
    "os.makedirs('../working/data/val_seg/idc-plus/') "
   ]
  },
  {
   "cell_type": "code",
   "execution_count": 5,
   "id": "79f43548",
   "metadata": {
    "execution": {
     "iopub.execute_input": "2022-11-14T12:39:22.600411Z",
     "iopub.status.busy": "2022-11-14T12:39:22.599020Z",
     "iopub.status.idle": "2022-11-14T12:42:36.409010Z",
     "shell.execute_reply": "2022-11-14T12:42:36.408000Z"
    },
    "papermill": {
     "duration": 193.825028,
     "end_time": "2022-11-14T12:42:36.417502",
     "exception": false,
     "start_time": "2022-11-14T12:39:22.592474",
     "status": "completed"
    },
    "tags": []
   },
   "outputs": [
    {
     "name": "stdout",
     "output_type": "stream",
     "text": [
      "['../input/breast-histopathology-images/IDC_regular_ps50_idx5/10295/0/10295_idx5_x1351_y1101_class0.png', '../input/breast-histopathology-images/IDC_regular_ps50_idx5/10295/0/10295_idx5_x1501_y501_class0.png', '../input/breast-histopathology-images/IDC_regular_ps50_idx5/10295/0/10295_idx5_x1501_y1101_class0.png', '../input/breast-histopathology-images/IDC_regular_ps50_idx5/10295/0/10295_idx5_x451_y901_class0.png', '../input/breast-histopathology-images/IDC_regular_ps50_idx5/10295/0/10295_idx5_x801_y451_class0.png', '../input/breast-histopathology-images/IDC_regular_ps50_idx5/10295/0/10295_idx5_x151_y1051_class0.png', '../input/breast-histopathology-images/IDC_regular_ps50_idx5/10295/0/10295_idx5_x1351_y901_class0.png', '../input/breast-histopathology-images/IDC_regular_ps50_idx5/10295/0/10295_idx5_x701_y651_class0.png', '../input/breast-histopathology-images/IDC_regular_ps50_idx5/10295/0/10295_idx5_x951_y1401_class0.png', '../input/breast-histopathology-images/IDC_regular_ps50_idx5/10295/0/10295_idx5_x601_y501_class0.png']\n"
     ]
    }
   ],
   "source": [
    "\n",
    "import random\n",
    "from glob import glob\n",
    "imagePatches = glob('../input/breast-histopathology-images/IDC_regular_ps50_idx5/**/*.png', recursive=True)\n",
    "train_dir='../working/data/train_seg/'\n",
    "validation_dir='../working/data/val_seg/'\n",
    "test_dir = '../working/data/test_seg/'  \n",
    "\n",
    "class0 = [] # 0 = idc+\n",
    "class1 = [] # 1 = idc-\n",
    "imagePatches = glob('../input/breast-histopathology-images/IDC_regular_ps50_idx5/**/*.png', recursive=True)\n",
    "for filename in imagePatches:\n",
    "    if filename.endswith(\"class0.png\"):\n",
    "         class0.append(filename)\n",
    "    elif filename.endswith(\"class1.png\"):\n",
    "         class1.append(filename)\n",
    "\n",
    "print(class0[0:10])\n",
    "\n",
    "#sampling 10000 images from class 0 and class 1 to train the model"
   ]
  },
  {
   "cell_type": "code",
   "execution_count": 6,
   "id": "47f28812",
   "metadata": {
    "execution": {
     "iopub.execute_input": "2022-11-14T12:42:36.430452Z",
     "iopub.status.busy": "2022-11-14T12:42:36.430131Z",
     "iopub.status.idle": "2022-11-14T12:57:51.305121Z",
     "shell.execute_reply": "2022-11-14T12:57:51.304080Z"
    },
    "papermill": {
     "duration": 914.884563,
     "end_time": "2022-11-14T12:57:51.307804",
     "exception": false,
     "start_time": "2022-11-14T12:42:36.423241",
     "status": "completed"
    },
    "tags": []
   },
   "outputs": [
    {
     "name": "stdout",
     "output_type": "stream",
     "text": [
      "55150\n",
      "7091\n",
      "16545\n",
      "55150\n",
      "7091\n",
      "16545\n"
     ]
    }
   ],
   "source": [
    "random.seed(sampling_seed)\n",
    "class0sample=random.sample(class0,size_4_training0)\n",
    "class0label=np.zeros(size_4_training0)\n",
    "class1sample=random.sample(class1,size_4_training1)\n",
    "class1label=np.ones(size_4_training1)\n",
    "\n",
    "class0sample_train, class0sample_test1, class0label_train, class0label_test1 = train_test_split(class0sample, class0label, test_size=0.3, random_state=42)\n",
    "class0sample_val, class0sample_test,  class0label_val, class0label_test = train_test_split(class0sample_test1, class0label_test1, test_size=0.3, random_state=42)\n",
    "print(len(class0sample_train))\n",
    "print(len(class0sample_test))\n",
    "print(len(class0sample_val))\n",
    "class1sample_train, class1sample_test1, class1label_train, class1label_test1 = train_test_split(class1sample, class1label, test_size=0.3, random_state=42)\n",
    "class1sample_val, class1sample_test, class1label_val, class1label_test = train_test_split(class1sample_test1, class1label_test1, test_size=0.3, random_state=42)\n",
    "print(len(class1sample_train))\n",
    "print(len(class1sample_test))\n",
    "print(len(class1sample_val))\n",
    "\n",
    "def read_and_save_data(path, file_name_array):\n",
    "    for i in file_name_array:\n",
    "        if i.endswith('.png'):\n",
    "            head, tail = os.path.split(i)\n",
    "            outputname=str(path+tail)\n",
    "            shutil.copy(i, outputname)\n",
    "    \n",
    "class0train_path='../working/data/train_seg/idc-minus/'\n",
    "class1train_path='../working/data/train_seg/idc-plus/'\n",
    "class0test_path='../working/data/test_seg/idc-minus/'\n",
    "class1test_path='../working/data/test_seg/idc-plus/'\n",
    "class0val_path='../working/data/val_seg/idc-minus/'\n",
    "class1val_path='../working/data/val_seg/idc-plus/'\n",
    "\n",
    "read_and_save_data(class0train_path,class0sample_train)\n",
    "read_and_save_data(class1train_path,class1sample_train)\n",
    "\n",
    "\n",
    "read_and_save_data(class0test_path,class0sample_test)\n",
    "read_and_save_data(class1test_path,class1sample_test)\n",
    "\n",
    "\n",
    "read_and_save_data(class0val_path,class0sample_val)\n",
    "read_and_save_data(class1val_path,class1sample_val)"
   ]
  },
  {
   "cell_type": "code",
   "execution_count": 7,
   "id": "9875eb9a",
   "metadata": {
    "execution": {
     "iopub.execute_input": "2022-11-14T12:57:51.322009Z",
     "iopub.status.busy": "2022-11-14T12:57:51.321076Z",
     "iopub.status.idle": "2022-11-14T12:58:14.296114Z",
     "shell.execute_reply": "2022-11-14T12:58:14.295114Z"
    },
    "papermill": {
     "duration": 22.984325,
     "end_time": "2022-11-14T12:58:14.298526",
     "exception": false,
     "start_time": "2022-11-14T12:57:51.314201",
     "status": "completed"
    },
    "tags": []
   },
   "outputs": [],
   "source": [
    "import os #Operating System\n",
    "import sys #System\n",
    "import cv2\n",
    "def readImage(path, tag):\n",
    "    j=0\n",
    "    image_data = []\n",
    "    label=[]\n",
    "    for i in os.listdir(path):\n",
    "        imgname=path+i\n",
    "        img = cv2.imread(imgname, cv2.IMREAD_COLOR)\n",
    "        img_resized = cv2.resize(img, (img_size,img_size), interpolation=cv2.INTER_LINEAR)\n",
    "        image_data.append(img_resized)\n",
    "        label.append(tag)\n",
    "        \n",
    "    return image_data, label\n",
    "\n",
    "import numpy as np\n",
    "from tensorflow.keras.utils import *\n",
    "from sklearn.utils import shuffle\n",
    "\n",
    "class0_train, train0_label = readImage(class0train_path, 0)\n",
    "class1_train, train1_label  = readImage(class1train_path, 1)\n",
    "class0_test, test0_label = readImage(class0test_path, 0)\n",
    "class1_test, test1_label = readImage(class1test_path, 1)\n",
    "class0_val, val0_label = readImage(class0val_path, 0)\n",
    "class1_val, val1_label = readImage(class1val_path, 1)\n",
    "\n",
    "def Image_array_process(class0array,label0, class1array, label1):\n",
    "    class0_array=np.array(class0array)\n",
    "    class1_array=np.array(class1array)\n",
    "    combined_data = np.concatenate((class0_array, class1_array))\n",
    "    combined_label= np.concatenate((label0,label1), axis=0)\n",
    "    assert len(combined_data) == len(combined_label)\n",
    "    combined_data, combined_label = shuffle(combined_data, combined_label, random_state=0)\n",
    "    # print(combined_data.shape)\n",
    "    length=len(combined_data)\n",
    "    combined_label=to_categorical(combined_label,num_classes=2)\n",
    "    \n",
    "    return combined_data, combined_label\n",
    "\n",
    "\n",
    "X_train, y_train=Image_array_process(class0_train, train0_label, class1_train, train1_label)\n",
    "X_test, y_test=Image_array_process(class0_test, test0_label, class1_test, test1_label)\n",
    "X_val, y_val=Image_array_process(class0_val, val0_label, class1_val, val1_label)"
   ]
  },
  {
   "cell_type": "code",
   "execution_count": 8,
   "id": "2e7e7a2d",
   "metadata": {
    "execution": {
     "iopub.execute_input": "2022-11-14T12:58:14.312573Z",
     "iopub.status.busy": "2022-11-14T12:58:14.311975Z",
     "iopub.status.idle": "2022-11-14T12:58:14.320243Z",
     "shell.execute_reply": "2022-11-14T12:58:14.319160Z"
    },
    "papermill": {
     "duration": 0.018102,
     "end_time": "2022-11-14T12:58:14.322808",
     "exception": false,
     "start_time": "2022-11-14T12:58:14.304706",
     "status": "completed"
    },
    "tags": []
   },
   "outputs": [
    {
     "name": "stdout",
     "output_type": "stream",
     "text": [
      "55150\n",
      "55150\n",
      "7091\n",
      "7091\n",
      "16545\n",
      "16545\n"
     ]
    }
   ],
   "source": [
    "print(len(class0_train))\n",
    "print(len(class1_train))\n",
    "print(len(class0_test))\n",
    "print(len(class1_test))\n",
    "print(len(class0_val))\n",
    "print(len(class1_val))"
   ]
  },
  {
   "cell_type": "markdown",
   "id": "8cc3a6ce",
   "metadata": {
    "papermill": {
     "duration": 0.00565,
     "end_time": "2022-11-14T12:58:14.334620",
     "exception": false,
     "start_time": "2022-11-14T12:58:14.328970",
     "status": "completed"
    },
    "tags": []
   },
   "source": [
    "# Data generator"
   ]
  },
  {
   "cell_type": "code",
   "execution_count": 9,
   "id": "5e6a379c",
   "metadata": {
    "execution": {
     "iopub.execute_input": "2022-11-14T12:58:14.348537Z",
     "iopub.status.busy": "2022-11-14T12:58:14.347747Z",
     "iopub.status.idle": "2022-11-14T12:58:14.352628Z",
     "shell.execute_reply": "2022-11-14T12:58:14.351696Z"
    },
    "papermill": {
     "duration": 0.013781,
     "end_time": "2022-11-14T12:58:14.354615",
     "exception": false,
     "start_time": "2022-11-14T12:58:14.340834",
     "status": "completed"
    },
    "tags": []
   },
   "outputs": [],
   "source": [
    "train_data=X_train\n",
    "train_label=y_train\n",
    "\n",
    "test_data=X_test\n",
    "test_label=y_test\n",
    "\n",
    "val_data=X_val\n",
    "val_label=y_val"
   ]
  },
  {
   "cell_type": "code",
   "execution_count": 10,
   "id": "1ca365ec",
   "metadata": {
    "execution": {
     "iopub.execute_input": "2022-11-14T12:58:14.367990Z",
     "iopub.status.busy": "2022-11-14T12:58:14.367160Z",
     "iopub.status.idle": "2022-11-14T12:58:17.607770Z",
     "shell.execute_reply": "2022-11-14T12:58:17.606742Z"
    },
    "papermill": {
     "duration": 3.249848,
     "end_time": "2022-11-14T12:58:17.610187",
     "exception": false,
     "start_time": "2022-11-14T12:58:14.360339",
     "status": "completed"
    },
    "tags": []
   },
   "outputs": [],
   "source": [
    "from keras.preprocessing.image import ImageDataGenerator\n",
    "from keras.callbacks import ModelCheckpoint\n",
    "from keras.models import load_model\n",
    "from keras.callbacks import *\n",
    "\n",
    "\n",
    "#train_datagen2 = ImageDataGenerator(rescale = 1/255)\n",
    "\n",
    "train_datagen = ImageDataGenerator(rescale = 1.0/255,\n",
    "                                  width_shift_range = 0.1,\n",
    "                                  height_shift_range = 0.1,\n",
    "                                  fill_mode = 'constant',\n",
    "                                  zoom_range = 0.1,\n",
    "                                  rotation_range = 20\n",
    "                                  )\n",
    "\n",
    "val_datagen = ImageDataGenerator(rescale = 1.0/255)\n",
    "val2_datagen = ImageDataGenerator(rescale = 1.0/255)\n",
    "\n",
    "train_generator = train_datagen.flow(train_data,\n",
    "                                     train_label, \n",
    "                                     #batch_size = 16, \n",
    "                                     #shuffle = False\n",
    "                                    )\n",
    "\n",
    "val_generator = val_datagen.flow(test_data,\n",
    "                                 test_label,\n",
    "                                 #batch_size = 16,\n",
    "                                 #shuffle = False\n",
    "                                )\n",
    "val2_generator = val_datagen.flow(val_data,\n",
    "                                 val_label,\n",
    "                                 #batch_size = 16,\n",
    "                                 #shuffle = False\n",
    "                                 )"
   ]
  },
  {
   "cell_type": "markdown",
   "id": "8038d29e",
   "metadata": {
    "papermill": {
     "duration": 0.011386,
     "end_time": "2022-11-14T12:58:17.627981",
     "exception": false,
     "start_time": "2022-11-14T12:58:17.616595",
     "status": "completed"
    },
    "tags": []
   },
   "source": [
    "# Model configure"
   ]
  },
  {
   "cell_type": "code",
   "execution_count": 11,
   "id": "4a741fd9",
   "metadata": {
    "execution": {
     "iopub.execute_input": "2022-11-14T12:58:17.644631Z",
     "iopub.status.busy": "2022-11-14T12:58:17.644143Z",
     "iopub.status.idle": "2022-11-14T12:58:22.294253Z",
     "shell.execute_reply": "2022-11-14T12:58:22.293304Z"
    },
    "papermill": {
     "duration": 4.660892,
     "end_time": "2022-11-14T12:58:22.296418",
     "exception": false,
     "start_time": "2022-11-14T12:58:17.635526",
     "status": "completed"
    },
    "tags": []
   },
   "outputs": [
    {
     "name": "stderr",
     "output_type": "stream",
     "text": [
      "2022-11-14 12:58:17.795279: I tensorflow/stream_executor/cuda/cuda_gpu_executor.cc:937] successful NUMA node read from SysFS had negative value (-1), but there must be at least one NUMA node, so returning NUMA node zero\n",
      "2022-11-14 12:58:17.798786: I tensorflow/stream_executor/cuda/cuda_gpu_executor.cc:937] successful NUMA node read from SysFS had negative value (-1), but there must be at least one NUMA node, so returning NUMA node zero\n",
      "2022-11-14 12:58:17.799512: I tensorflow/stream_executor/cuda/cuda_gpu_executor.cc:937] successful NUMA node read from SysFS had negative value (-1), but there must be at least one NUMA node, so returning NUMA node zero\n",
      "2022-11-14 12:58:17.800455: I tensorflow/core/platform/cpu_feature_guard.cc:142] This TensorFlow binary is optimized with oneAPI Deep Neural Network Library (oneDNN) to use the following CPU instructions in performance-critical operations:  AVX2 AVX512F FMA\n",
      "To enable them in other operations, rebuild TensorFlow with the appropriate compiler flags.\n",
      "2022-11-14 12:58:17.800919: I tensorflow/stream_executor/cuda/cuda_gpu_executor.cc:937] successful NUMA node read from SysFS had negative value (-1), but there must be at least one NUMA node, so returning NUMA node zero\n",
      "2022-11-14 12:58:17.801748: I tensorflow/stream_executor/cuda/cuda_gpu_executor.cc:937] successful NUMA node read from SysFS had negative value (-1), but there must be at least one NUMA node, so returning NUMA node zero\n",
      "2022-11-14 12:58:17.802402: I tensorflow/stream_executor/cuda/cuda_gpu_executor.cc:937] successful NUMA node read from SysFS had negative value (-1), but there must be at least one NUMA node, so returning NUMA node zero\n",
      "2022-11-14 12:58:20.120821: I tensorflow/stream_executor/cuda/cuda_gpu_executor.cc:937] successful NUMA node read from SysFS had negative value (-1), but there must be at least one NUMA node, so returning NUMA node zero\n",
      "2022-11-14 12:58:20.121689: I tensorflow/stream_executor/cuda/cuda_gpu_executor.cc:937] successful NUMA node read from SysFS had negative value (-1), but there must be at least one NUMA node, so returning NUMA node zero\n",
      "2022-11-14 12:58:20.122344: I tensorflow/stream_executor/cuda/cuda_gpu_executor.cc:937] successful NUMA node read from SysFS had negative value (-1), but there must be at least one NUMA node, so returning NUMA node zero\n",
      "2022-11-14 12:58:20.122961: I tensorflow/core/common_runtime/gpu/gpu_device.cc:1510] Created device /job:localhost/replica:0/task:0/device:GPU:0 with 15381 MB memory:  -> device: 0, name: Tesla P100-PCIE-16GB, pci bus id: 0000:00:04.0, compute capability: 6.0\n"
     ]
    },
    {
     "name": "stdout",
     "output_type": "stream",
     "text": [
      "Model: \"sequential\"\n",
      "_________________________________________________________________\n",
      "Layer (type)                 Output Shape              Param #   \n",
      "=================================================================\n",
      "resnet50 (Functional)        (None, 2)                 23591810  \n",
      "=================================================================\n",
      "Total params: 23,591,810\n",
      "Trainable params: 23,538,690\n",
      "Non-trainable params: 53,120\n",
      "_________________________________________________________________\n"
     ]
    }
   ],
   "source": [
    "RESNET50_POOLING_AVERAGE = 'avg'\n",
    "DENSE_LAYER_ACTIVATION = 'sigmoid'\n",
    "OBJECTIVE_FUNCTION = 'categorical_crossentropy'\n",
    "\n",
    "# Common accuracy metric for all outputs, but can use different metrics for different output\n",
    "LOSS_METRICS = ['accuracy']\n",
    "\n",
    "# EARLY_STOP_PATIENCE must be < NUM_EPOCHS\n",
    "NUM_EPOCHS = 30\n",
    "EARLY_STOP_PATIENCE = 10\n",
    "#resnet_weights_path = '../input/resnet50/resnet50_weights_tf_dim_ordering_tf_kernels_notop.h5'\n",
    "\n",
    "from keras.applications import resnet\n",
    "base_model1=resnet.ResNet50(include_top = True, input_shape=(img_size, img_size, 3), pooling = RESNET50_POOLING_AVERAGE, weights = None, classes = 2)\n",
    "#from tensorflow.keras.applications.mobilenet import MobileNet\n",
    "base_model1.trainable = True\n",
    "model=Sequential()\n",
    "model.add(base_model1)\n",
    "#model.add(Flatten())\n",
    "#model.add(BatchNormalization())\n",
    "#model.add(Dense(4096,kernel_initializer='he_uniform'))\n",
    "#model.add(BatchNormalization())\n",
    "#model.add(Activation('relu'))\n",
    "#model.add(Dropout(0.2))\n",
    "#model.add(Dense(512, activation='relu'))\n",
    "#model.add(Dense(128, activation='relu'))\n",
    "#model.add(Dense(2, activation='sigmoid'))\n",
    "model.summary()\n"
   ]
  },
  {
   "cell_type": "code",
   "execution_count": 12,
   "id": "6adfe40a",
   "metadata": {
    "execution": {
     "iopub.execute_input": "2022-11-14T12:58:22.310071Z",
     "iopub.status.busy": "2022-11-14T12:58:22.309765Z",
     "iopub.status.idle": "2022-11-14T12:58:23.413682Z",
     "shell.execute_reply": "2022-11-14T12:58:23.412441Z"
    },
    "papermill": {
     "duration": 1.113318,
     "end_time": "2022-11-14T12:58:23.415921",
     "exception": false,
     "start_time": "2022-11-14T12:58:22.302603",
     "status": "completed"
    },
    "tags": []
   },
   "outputs": [
    {
     "data": {
      "image/png": "[encoded data removed]",
      "text/plain": [
       "<IPython.core.display.Image object>"
      ]
     },
     "execution_count": 12,
     "metadata": {},
     "output_type": "execute_result"
    }
   ],
   "source": [
    "from tensorflow.keras.utils import plot_model\n",
    "from IPython.display import Image\n",
    "plot_model(model, to_file='convnet.png', show_shapes=True, show_layer_names=True)\n",
    "Image(filename='convnet.png') "
   ]
  },
  {
   "cell_type": "code",
   "execution_count": 13,
   "id": "4bae88fd",
   "metadata": {
    "execution": {
     "iopub.execute_input": "2022-11-14T12:58:23.430179Z",
     "iopub.status.busy": "2022-11-14T12:58:23.429845Z",
     "iopub.status.idle": "2022-11-14T12:58:23.434468Z",
     "shell.execute_reply": "2022-11-14T12:58:23.433452Z"
    },
    "papermill": {
     "duration": 0.014281,
     "end_time": "2022-11-14T12:58:23.436745",
     "exception": false,
     "start_time": "2022-11-14T12:58:23.422464",
     "status": "completed"
    },
    "tags": []
   },
   "outputs": [],
   "source": [
    "# os.makedirs('../working/log/')\n",
    "MODEL_INIT = '../working/init_model.h5'\n",
    "MODEL_PATH = '../working/test_model.h5'"
   ]
  },
  {
   "cell_type": "code",
   "execution_count": 14,
   "id": "7d5ba2c7",
   "metadata": {
    "execution": {
     "iopub.execute_input": "2022-11-14T12:58:23.450289Z",
     "iopub.status.busy": "2022-11-14T12:58:23.450018Z",
     "iopub.status.idle": "2022-11-14T12:58:23.469817Z",
     "shell.execute_reply": "2022-11-14T12:58:23.468956Z"
    },
    "papermill": {
     "duration": 0.029058,
     "end_time": "2022-11-14T12:58:23.472066",
     "exception": false,
     "start_time": "2022-11-14T12:58:23.443008",
     "status": "completed"
    },
    "tags": []
   },
   "outputs": [],
   "source": [
    "callbacks1 = [ModelCheckpoint(MODEL_INIT, monitor='val_accuracy', save_best_only=True)]\n",
    "opt = Adam(learning_rate=0.001)\n",
    "model.compile(loss='categorical_crossentropy', optimizer=opt, metrics=['accuracy'])"
   ]
  },
  {
   "cell_type": "code",
   "execution_count": 15,
   "id": "c8702b99",
   "metadata": {
    "execution": {
     "iopub.execute_input": "2022-11-14T12:58:23.485710Z",
     "iopub.status.busy": "2022-11-14T12:58:23.485432Z",
     "iopub.status.idle": "2022-11-14T15:42:52.079348Z",
     "shell.execute_reply": "2022-11-14T15:42:52.078253Z"
    },
    "papermill": {
     "duration": 9868.603787,
     "end_time": "2022-11-14T15:42:52.082144",
     "exception": false,
     "start_time": "2022-11-14T12:58:23.478357",
     "status": "completed"
    },
    "tags": []
   },
   "outputs": [
    {
     "name": "stdout",
     "output_type": "stream",
     "text": [
      "CPU times: user 2 µs, sys: 1e+03 ns, total: 3 µs\n",
      "Wall time: 6.44 µs\n"
     ]
    },
    {
     "name": "stderr",
     "output_type": "stream",
     "text": [
      "2022-11-14 12:58:23.641704: I tensorflow/compiler/mlir/mlir_graph_optimization_pass.cc:185] None of the MLIR Optimization Passes are enabled (registered 2)\n"
     ]
    },
    {
     "name": "stdout",
     "output_type": "stream",
     "text": [
      "Epoch 1/50\n"
     ]
    },
    {
     "name": "stderr",
     "output_type": "stream",
     "text": [
      "2022-11-14 12:58:29.862472: I tensorflow/stream_executor/cuda/cuda_dnn.cc:369] Loaded cuDNN version 8005\n"
     ]
    },
    {
     "name": "stdout",
     "output_type": "stream",
     "text": [
      "3447/3447 [==============================] - 202s 55ms/step - loss: 0.5014 - accuracy: 0.7922 - val_loss: 0.5460 - val_accuracy: 0.7929\n",
      "Epoch 2/50\n",
      "3447/3447 [==============================] - 191s 55ms/step - loss: 0.4271 - accuracy: 0.8147 - val_loss: 5.1393 - val_accuracy: 0.6304\n",
      "Epoch 3/50\n",
      "3447/3447 [==============================] - 192s 56ms/step - loss: 0.3964 - accuracy: 0.8289 - val_loss: 0.4212 - val_accuracy: 0.8261\n",
      "Epoch 4/50\n",
      "3447/3447 [==============================] - 192s 56ms/step - loss: 0.3865 - accuracy: 0.8346 - val_loss: 0.8930 - val_accuracy: 0.5648\n",
      "Epoch 5/50\n",
      "3447/3447 [==============================] - 193s 56ms/step - loss: 0.3756 - accuracy: 0.8408 - val_loss: 0.8265 - val_accuracy: 0.5926\n",
      "Epoch 6/50\n",
      "3447/3447 [==============================] - 194s 56ms/step - loss: 0.3601 - accuracy: 0.8476 - val_loss: 0.4200 - val_accuracy: 0.8111\n",
      "Epoch 7/50\n",
      "3447/3447 [==============================] - 194s 56ms/step - loss: 0.3507 - accuracy: 0.8528 - val_loss: 0.3769 - val_accuracy: 0.8527\n",
      "Epoch 8/50\n",
      "3447/3447 [==============================] - 195s 57ms/step - loss: 0.3483 - accuracy: 0.8540 - val_loss: 1.1059 - val_accuracy: 0.6973\n",
      "Epoch 9/50\n",
      "3447/3447 [==============================] - 195s 57ms/step - loss: 0.3416 - accuracy: 0.8569 - val_loss: 0.7915 - val_accuracy: 0.7063\n",
      "Epoch 10/50\n",
      "3447/3447 [==============================] - 195s 56ms/step - loss: 0.3370 - accuracy: 0.8595 - val_loss: 0.5410 - val_accuracy: 0.7920\n",
      "Epoch 11/50\n",
      "3447/3447 [==============================] - 195s 57ms/step - loss: 0.3360 - accuracy: 0.8595 - val_loss: 0.4908 - val_accuracy: 0.7629\n",
      "Epoch 12/50\n",
      "3447/3447 [==============================] - 196s 57ms/step - loss: 0.3359 - accuracy: 0.8592 - val_loss: 0.6416 - val_accuracy: 0.7354\n",
      "Epoch 13/50\n",
      "3447/3447 [==============================] - 197s 57ms/step - loss: 0.3298 - accuracy: 0.8620 - val_loss: 0.3859 - val_accuracy: 0.8499\n",
      "Epoch 14/50\n",
      "3447/3447 [==============================] - 196s 57ms/step - loss: 0.3249 - accuracy: 0.8644 - val_loss: 0.4475 - val_accuracy: 0.8239\n",
      "Epoch 15/50\n",
      "3447/3447 [==============================] - 198s 58ms/step - loss: 0.3233 - accuracy: 0.8644 - val_loss: 0.4628 - val_accuracy: 0.8134\n",
      "Epoch 16/50\n",
      "3447/3447 [==============================] - 198s 57ms/step - loss: 0.3210 - accuracy: 0.8655 - val_loss: 0.7303 - val_accuracy: 0.6893\n",
      "Epoch 17/50\n",
      "3447/3447 [==============================] - 198s 57ms/step - loss: 0.3179 - accuracy: 0.8669 - val_loss: 3.7585 - val_accuracy: 0.5644\n",
      "Epoch 18/50\n",
      "3447/3447 [==============================] - 199s 58ms/step - loss: 0.3160 - accuracy: 0.8688 - val_loss: 0.3141 - val_accuracy: 0.8686\n",
      "Epoch 19/50\n",
      "3447/3447 [==============================] - 199s 58ms/step - loss: 0.3211 - accuracy: 0.8663 - val_loss: 0.3207 - val_accuracy: 0.8672\n",
      "Epoch 20/50\n",
      "3447/3447 [==============================] - 196s 57ms/step - loss: 0.3151 - accuracy: 0.8680 - val_loss: 0.4454 - val_accuracy: 0.7825\n",
      "Epoch 21/50\n",
      "3447/3447 [==============================] - 194s 56ms/step - loss: 0.3180 - accuracy: 0.8674 - val_loss: 0.3494 - val_accuracy: 0.8524\n",
      "Epoch 22/50\n",
      "3447/3447 [==============================] - 194s 56ms/step - loss: 0.3227 - accuracy: 0.8656 - val_loss: 0.6509 - val_accuracy: 0.7058\n",
      "Epoch 23/50\n",
      "3447/3447 [==============================] - 197s 57ms/step - loss: 0.3225 - accuracy: 0.8655 - val_loss: 30.2078 - val_accuracy: 0.5123\n",
      "Epoch 24/50\n",
      "3447/3447 [==============================] - 197s 57ms/step - loss: 0.3144 - accuracy: 0.8689 - val_loss: 1.0574 - val_accuracy: 0.6483\n",
      "Epoch 25/50\n",
      "3447/3447 [==============================] - 197s 57ms/step - loss: 0.3150 - accuracy: 0.8677 - val_loss: 1.3798 - val_accuracy: 0.7535\n",
      "Epoch 26/50\n",
      "3447/3447 [==============================] - 197s 57ms/step - loss: 0.3170 - accuracy: 0.8679 - val_loss: 1.7180 - val_accuracy: 0.5458\n",
      "Epoch 27/50\n",
      "3447/3447 [==============================] - 197s 57ms/step - loss: 0.3170 - accuracy: 0.8679 - val_loss: 1.6461 - val_accuracy: 0.5722\n",
      "Epoch 28/50\n",
      "3447/3447 [==============================] - 196s 57ms/step - loss: 0.3093 - accuracy: 0.8699 - val_loss: 0.6765 - val_accuracy: 0.8112\n",
      "Epoch 29/50\n",
      "3447/3447 [==============================] - 198s 57ms/step - loss: 0.3129 - accuracy: 0.8696 - val_loss: 4.2566 - val_accuracy: 0.3751\n",
      "Epoch 30/50\n",
      "3447/3447 [==============================] - 198s 57ms/step - loss: 0.3052 - accuracy: 0.8724 - val_loss: 0.3837 - val_accuracy: 0.8411\n",
      "Epoch 31/50\n",
      "3447/3447 [==============================] - 199s 58ms/step - loss: 0.3049 - accuracy: 0.8728 - val_loss: 0.4239 - val_accuracy: 0.8453\n",
      "Epoch 32/50\n",
      "3447/3447 [==============================] - 197s 57ms/step - loss: 0.3034 - accuracy: 0.8743 - val_loss: 0.4221 - val_accuracy: 0.8214\n",
      "Epoch 33/50\n",
      "3447/3447 [==============================] - 196s 57ms/step - loss: 0.2997 - accuracy: 0.8750 - val_loss: 1.5129 - val_accuracy: 0.7189\n",
      "Epoch 34/50\n",
      "3447/3447 [==============================] - 199s 58ms/step - loss: 0.3003 - accuracy: 0.8748 - val_loss: 1.2506 - val_accuracy: 0.6791\n",
      "Epoch 35/50\n",
      "3447/3447 [==============================] - 200s 58ms/step - loss: 0.2959 - accuracy: 0.8768 - val_loss: 0.3438 - val_accuracy: 0.8595\n",
      "Epoch 36/50\n",
      "3447/3447 [==============================] - 197s 57ms/step - loss: 0.2958 - accuracy: 0.8768 - val_loss: 0.6273 - val_accuracy: 0.7509\n",
      "Epoch 37/50\n",
      "3447/3447 [==============================] - 194s 56ms/step - loss: 0.3001 - accuracy: 0.8757 - val_loss: 0.5910 - val_accuracy: 0.7521\n",
      "Epoch 38/50\n",
      "3447/3447 [==============================] - 197s 57ms/step - loss: 0.2945 - accuracy: 0.8785 - val_loss: 0.4675 - val_accuracy: 0.8402\n",
      "Epoch 39/50\n",
      "3447/3447 [==============================] - 194s 56ms/step - loss: 0.2919 - accuracy: 0.8799 - val_loss: 1.3062 - val_accuracy: 0.6491\n",
      "Epoch 40/50\n",
      "3447/3447 [==============================] - 197s 57ms/step - loss: 0.2917 - accuracy: 0.8788 - val_loss: 1.2058 - val_accuracy: 0.6461\n",
      "Epoch 41/50\n",
      "3447/3447 [==============================] - 194s 56ms/step - loss: 0.2913 - accuracy: 0.8790 - val_loss: 1.1198 - val_accuracy: 0.6425\n",
      "Epoch 42/50\n",
      "3447/3447 [==============================] - 198s 58ms/step - loss: 0.2902 - accuracy: 0.8795 - val_loss: 0.9800 - val_accuracy: 0.6364\n",
      "Epoch 43/50\n",
      "3447/3447 [==============================] - 195s 57ms/step - loss: 0.3037 - accuracy: 0.8735 - val_loss: 0.2897 - val_accuracy: 0.8793\n",
      "Epoch 44/50\n",
      "3447/3447 [==============================] - 196s 57ms/step - loss: 0.2866 - accuracy: 0.8814 - val_loss: 0.3543 - val_accuracy: 0.8552\n",
      "Epoch 45/50\n",
      "3447/3447 [==============================] - 195s 57ms/step - loss: 0.2861 - accuracy: 0.8811 - val_loss: 0.3761 - val_accuracy: 0.8277\n",
      "Epoch 46/50\n",
      "3447/3447 [==============================] - 193s 56ms/step - loss: 0.2891 - accuracy: 0.8800 - val_loss: 0.7940 - val_accuracy: 0.7297\n",
      "Epoch 47/50\n",
      "3447/3447 [==============================] - 200s 58ms/step - loss: 0.2858 - accuracy: 0.8812 - val_loss: 1.0183 - val_accuracy: 0.7201\n",
      "Epoch 48/50\n",
      "3447/3447 [==============================] - 194s 56ms/step - loss: 0.2850 - accuracy: 0.8820 - val_loss: 0.4155 - val_accuracy: 0.8131\n",
      "Epoch 49/50\n",
      "3447/3447 [==============================] - 199s 58ms/step - loss: 0.2831 - accuracy: 0.8828 - val_loss: 0.3428 - val_accuracy: 0.8584\n",
      "Epoch 50/50\n",
      "3447/3447 [==============================] - 194s 56ms/step - loss: 0.2829 - accuracy: 0.8827 - val_loss: 5.0486 - val_accuracy: 0.7120\n"
     ]
    }
   ],
   "source": [
    "%time\n",
    "#history1=model.fit(X_train, y_train,validation_data=(X_test, y_test),verbose = 1,epochs = 100, callbacks=callbacks1)\n",
    "history1=model.fit_generator(train_generator,validation_data=val_generator,verbose = 1,epochs = epoch_4_test,callbacks=callbacks1)"
   ]
  },
  {
   "cell_type": "code",
   "execution_count": 16,
   "id": "4165b5a2",
   "metadata": {
    "execution": {
     "iopub.execute_input": "2022-11-14T15:43:08.086686Z",
     "iopub.status.busy": "2022-11-14T15:43:08.086293Z",
     "iopub.status.idle": "2022-11-14T15:43:08.457368Z",
     "shell.execute_reply": "2022-11-14T15:43:08.456400Z"
    },
    "papermill": {
     "duration": 8.195207,
     "end_time": "2022-11-14T15:43:08.459832",
     "exception": false,
     "start_time": "2022-11-14T15:43:00.264625",
     "status": "completed"
    },
    "tags": []
   },
   "outputs": [
    {
     "data": {
      "image/png": "[encoded data removed]",
      "text/plain": [
       "<Figure size 864x432 with 2 Axes>"
      ]
     },
     "metadata": {
      "needs_background": "light"
     },
     "output_type": "display_data"
    }
   ],
   "source": [
    "import matplotlib.pyplot as plt\n",
    "import seaborn as sns\n",
    "plt.figure(figsize = (12, 6))\n",
    "plt.subplot(121)\n",
    "#plotting the Accuracy of test and training sets\n",
    "plt.plot(history1.history['accuracy'])\n",
    "plt.plot(history1.history['val_accuracy'])\n",
    "plt.title('1st training Model Accuracy')\n",
    "plt.ylabel('accuracy')\n",
    "plt.xlabel('epoch')\n",
    "plt.legend(['train', 'test'], loc='upper left')\n",
    "\n",
    "plt.subplot(122)\n",
    "#plotting the loss of test and training sets\n",
    "plt.plot(history1.history['loss'])\n",
    "plt.plot(history1.history['val_loss'])\n",
    "plt.title('1st training Model Loss')\n",
    "plt.ylabel('loss')\n",
    "plt.xlabel('epoch')\n",
    "plt.legend(['train', 'test'], loc='upper left')\n",
    "plt.show()"
   ]
  },
  {
   "cell_type": "code",
   "execution_count": 17,
   "id": "1cf18d31",
   "metadata": {
    "execution": {
     "iopub.execute_input": "2022-11-14T15:43:25.026777Z",
     "iopub.status.busy": "2022-11-14T15:43:25.026406Z",
     "iopub.status.idle": "2022-11-14T15:44:14.791234Z",
     "shell.execute_reply": "2022-11-14T15:44:14.789994Z"
    },
    "papermill": {
     "duration": 57.80471,
     "end_time": "2022-11-14T15:44:14.793384",
     "exception": false,
     "start_time": "2022-11-14T15:43:16.988674",
     "status": "completed"
    },
    "tags": []
   },
   "outputs": [
    {
     "name": "stdout",
     "output_type": "stream",
     "text": [
      "analyse of 1st model\n",
      "VAL kappa\n",
      "0.7569054094892717\n",
      "analyse 1st model\n",
      "report of val data\n",
      "              precision    recall  f1-score   support\n",
      "\n",
      "           0   0.879324  0.877304  0.878313     16545\n",
      "           1   0.877585  0.879601  0.878592     16545\n",
      "\n",
      "    accuracy                       0.878453     33090\n",
      "   macro avg   0.878455  0.878453  0.878453     33090\n",
      "weighted avg   0.878455  0.878453  0.878453     33090\n",
      "\n"
     ]
    },
    {
     "data": {
      "image/png": "[encoded data removed]",
      "text/plain": [
       "<Figure size 864x432 with 2 Axes>"
      ]
     },
     "metadata": {
      "needs_background": "light"
     },
     "output_type": "display_data"
    }
   ],
   "source": [
    "import sklearn\n",
    "from sklearn.metrics import f1_score, roc_auc_score, cohen_kappa_score, precision_score, recall_score, accuracy_score, confusion_matrix\n",
    "#---------------\n",
    "from keras.models import load_model\n",
    "\n",
    "model1 = load_model(MODEL_INIT, compile=False)\n",
    "print(\"analyse of 1st model\")\n",
    "\n",
    "\n",
    "cf_matrix_val = confusion_matrix(\n",
    "    np.concatenate([np.argmax(val2_generator[i][1], axis=1) for i in range(len(val2_generator))]),    \n",
    "    np.argmax(model1.predict_generator(val2_generator, steps=len(val2_generator)), axis=1) \n",
    ")\n",
    "\n",
    "plt.figure(figsize = (12, 6))\n",
    "sns.heatmap(cf_matrix_val, annot=True, cmap='Blues', fmt='g')\n",
    "plt.title(\"VAL Confusion matrix\")\n",
    "# kappa VAL\n",
    "kappa_val = cohen_kappa_score(\n",
    "    np.concatenate([np.argmax(val2_generator[i][1], axis=1) for i in range(len(val2_generator))]),    \n",
    "    np.argmax(model1.predict_generator(val2_generator, steps=len(val2_generator)), axis=1) \n",
    ")\n",
    "print(\"VAL kappa\")\n",
    "print(kappa_val)\n",
    "\n",
    "\n",
    "\n",
    "print(\"analyse 1st model\")\n",
    "print(\"report of val data\")\n",
    "report = sklearn.metrics.classification_report(\n",
    "    np.concatenate([np.argmax(val2_generator[i][1], axis=1) for i in range(len(val2_generator))]),    \n",
    "    np.argmax(model1.predict_generator(val2_generator, steps=len(val2_generator)), axis=1) , digits=6\n",
    ")\n",
    "print(report)"
   ]
  },
  {
   "cell_type": "code",
   "execution_count": 18,
   "id": "7088abf3",
   "metadata": {
    "execution": {
     "iopub.execute_input": "2022-11-14T15:44:31.527153Z",
     "iopub.status.busy": "2022-11-14T15:44:31.526349Z",
     "iopub.status.idle": "2022-11-14T15:44:48.885535Z",
     "shell.execute_reply": "2022-11-14T15:44:48.882838Z"
    },
    "papermill": {
     "duration": 25.533861,
     "end_time": "2022-11-14T15:44:48.888241",
     "exception": false,
     "start_time": "2022-11-14T15:44:23.354380",
     "status": "completed"
    },
    "tags": []
   },
   "outputs": [
    {
     "name": "stdout",
     "output_type": "stream",
     "text": [
      "report of test data\n",
      "              precision    recall  f1-score   support\n",
      "\n",
      "           0  0.8814353 0.8764631 0.8789422      7091\n",
      "           1  0.8771561 0.8821041 0.8796231      7091\n",
      "\n",
      "    accuracy                      0.8792836     14182\n",
      "   macro avg  0.8792957 0.8792836 0.8792826     14182\n",
      "weighted avg  0.8792957 0.8792836 0.8792826     14182\n",
      "\n",
      "TEST kappa\n",
      "0.7585671978564377\n"
     ]
    },
    {
     "data": {
      "image/png": "[encoded data removed]",
      "text/plain": [
       "<Figure size 864x432 with 2 Axes>"
      ]
     },
     "metadata": {
      "needs_background": "light"
     },
     "output_type": "display_data"
    }
   ],
   "source": [
    "#------------------\n",
    "cf_matrix_test = confusion_matrix(\n",
    "    np.concatenate([np.argmax(val_generator[i][1], axis=1) for i in range(len(val_generator))]),    \n",
    "    np.argmax(model1.predict_generator(val_generator, steps=len(val_generator)), axis=1) \n",
    ")\n",
    "\n",
    "plt.figure(figsize = (12, 6))\n",
    "sns.heatmap(cf_matrix_test, annot=True, cmap='Blues', fmt='g')\n",
    "plt.title(\"Test Confusion matrix\")\n",
    "\n",
    "\n",
    "\n",
    "print(\"report of test data\")\n",
    "import sklearn\n",
    "\n",
    "report = sklearn.metrics.classification_report(\n",
    "    np.concatenate([np.argmax(val_generator[i][1], axis=1) for i in range(len(val_generator))]),    \n",
    "    np.argmax(model1.predict_generator(val_generator, steps=len(val_generator)), axis=1) , digits=7\n",
    ")\n",
    "print(report)\n",
    "\n",
    "\n",
    "# kappa TEST\n",
    "kappa_test = cohen_kappa_score(\n",
    "    np.concatenate([np.argmax(val_generator[i][1], axis=1) for i in range(len(val_generator))]),    \n",
    "    np.argmax(model1.predict_generator(val_generator, steps=len(val_generator)), axis=1)\n",
    ")\n",
    "print(\"TEST kappa\")\n",
    "print(kappa_test)"
   ]
  },
  {
   "cell_type": "code",
   "execution_count": 19,
   "id": "720be905",
   "metadata": {
    "execution": {
     "iopub.execute_input": "2022-11-14T15:45:04.710050Z",
     "iopub.status.busy": "2022-11-14T15:45:04.709680Z",
     "iopub.status.idle": "2022-11-14T15:45:18.022744Z",
     "shell.execute_reply": "2022-11-14T15:45:18.021661Z"
    },
    "papermill": {
     "duration": 21.464916,
     "end_time": "2022-11-14T15:45:18.024792",
     "exception": false,
     "start_time": "2022-11-14T15:44:56.559876",
     "status": "completed"
    },
    "tags": []
   },
   "outputs": [
    {
     "name": "stdout",
     "output_type": "stream",
     "text": [
      "roc analysis of val dataset\n",
      "[1 1 0 ... 1 0 1]\n",
      "[[3.5551503e-01 6.4448500e-01]\n",
      " [6.0987848e-01 3.9012149e-01]\n",
      " [9.9909031e-01 9.0973749e-04]\n",
      " ...\n",
      " [2.6634789e-01 7.3365206e-01]\n",
      " [9.9528390e-01 4.7160499e-03]\n",
      " [2.0907323e-03 9.9790925e-01]]\n",
      "[6.44484997e-01 3.90121490e-01 9.09737486e-04 ... 7.33652115e-01\n",
      " 4.71605035e-03 9.97909248e-01]\n"
     ]
    },
    {
     "data": {
      "image/png": "[encoded data removed]",
      "text/plain": [
       "<Figure size 432x288 with 1 Axes>"
      ]
     },
     "metadata": {
      "needs_background": "light"
     },
     "output_type": "display_data"
    },
    {
     "name": "stdout",
     "output_type": "stream",
     "text": [
      "auc value\n",
      "0.947514489499548\n"
     ]
    }
   ],
   "source": [
    "print(\"roc analysis of val dataset\")\n",
    "from scipy import interp\n",
    "import matplotlib.pyplot as plt\n",
    "from sklearn.metrics import roc_curve, auc\n",
    "n_classes=2\n",
    "test_labels = np.concatenate([np.argmax(val2_generator[i][1], axis=1) for i in range(len(val2_generator))])\n",
    "print(test_labels)\n",
    "\n",
    "y_score = model1.predict_generator(val2_generator)\n",
    "print(y_score)\n",
    "\n",
    "y_predict_score = []\n",
    "y_score_normalise=np.zeros((len(test_labels),n_classes))\n",
    "for i in range(len(test_labels)):\n",
    "    y_score_normalise1=y_score[i][1]/(y_score[i][0]+y_score[i][1])*1.0\n",
    "    y_score_normalise0=y_score[i][0]/(y_score[i][0]+y_score[i][1])*1.0\n",
    "    #if test_labels[i] == 0:\n",
    "    #    y_predict_score.append(1 - y_score_normalise0)\n",
    "    #if test_labels[i] == 1:\n",
    "    y_predict_score.append(y_score_normalise1)\n",
    "    y_score_normalise[i][0]=y_score_normalise0\n",
    "    y_score_normalise[i][1]=y_score_normalise1\n",
    "y_predict_score = np.array(y_predict_score)\n",
    "y_score_normalise = np.array(y_score_normalise)\n",
    "print(y_predict_score)\n",
    "\n",
    "fpr,tpr, thresholds = roc_curve(test_labels, y_predict_score )   \n",
    "# 这个地方可以按照原来代码里加marco与micro参数\n",
    "\n",
    "auc_score = auc(fpr,tpr)\n",
    " \n",
    "plt.figure()\n",
    "lw = 2 # line_width\n",
    "plt.plot(fpr,tpr, color='darkorange',\n",
    "         lw=lw, label='ROC curve (area = %0.2f)' % auc_score)\n",
    " \n",
    "plt.plot([0, 1], [0, 1], color='navy', lw=lw, linestyle='--')\n",
    "plt.xlim([0.0, 1.0])\n",
    "plt.ylim([0.0, 1.05])\n",
    "plt.xlabel('False Positive Rate')\n",
    "plt.ylabel('True Positive Rate')\n",
    "plt.title('ROC curve')\n",
    "plt.legend(loc=\"lower right\")\n",
    "plt.show()\n",
    "\n",
    "print(\"auc value\")\n",
    "print(auc_score)"
   ]
  },
  {
   "cell_type": "markdown",
   "id": "6c61bf11",
   "metadata": {
    "papermill": {
     "duration": 8.164935,
     "end_time": "2022-11-14T15:45:34.655507",
     "exception": false,
     "start_time": "2022-11-14T15:45:26.490572",
     "status": "completed"
    },
    "tags": []
   },
   "source": []
  },
  {
   "cell_type": "markdown",
   "id": "f59ef1bd",
   "metadata": {
    "papermill": {
     "duration": 8.092071,
     "end_time": "2022-11-14T15:45:50.536149",
     "exception": false,
     "start_time": "2022-11-14T15:45:42.444078",
     "status": "completed"
    },
    "tags": []
   },
   "source": [
    "# Second Training Fine Tune"
   ]
  }
 ],
 "metadata": {
  "kernelspec": {
   "display_name": "Python 3",
   "language": "python",
   "name": "python3"
  },
  "language_info": {
   "codemirror_mode": {
    "name": "ipython",
    "version": 3
   },
   "file_extension": ".py",
   "mimetype": "text/x-python",
   "name": "python",
   "nbconvert_exporter": "python",
   "pygments_lexer": "ipython3",
   "version": "3.7.12"
  },
  "papermill": {
   "default_parameters": {},
   "duration": 11228.081487,
   "end_time": "2022-11-14T15:46:02.957099",
   "environment_variables": {},
   "exception": null,
   "input_path": "__notebook__.ipynb",
   "output_path": "__notebook__.ipynb",
   "parameters": {},
   "start_time": "2022-11-14T12:38:54.875612",
   "version": "2.3.4"
  }
 },
 "nbformat": 4,
 "nbformat_minor": 5
}
