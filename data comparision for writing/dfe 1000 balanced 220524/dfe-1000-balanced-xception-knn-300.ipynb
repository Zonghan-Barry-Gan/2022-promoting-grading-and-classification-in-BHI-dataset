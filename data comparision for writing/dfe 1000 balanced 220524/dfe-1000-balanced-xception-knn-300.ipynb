{
 "cells": [
  {
   "cell_type": "code",
   "execution_count": 1,
   "id": "c5f3854d",
   "metadata": {
    "_cell_guid": "b1076dfc-b9ad-4769-8c92-a6c4dae69d19",
    "_uuid": "8f2839f25d086af736a60e9eeb907d3b93b6e0e5",
    "execution": {
     "iopub.execute_input": "2022-05-25T19:49:50.845887Z",
     "iopub.status.busy": "2022-05-25T19:49:50.845313Z",
     "iopub.status.idle": "2022-05-25T19:49:58.907611Z",
     "shell.execute_reply": "2022-05-25T19:49:58.906658Z"
    },
    "papermill": {
     "duration": 8.075712,
     "end_time": "2022-05-25T19:49:58.910075",
     "exception": false,
     "start_time": "2022-05-25T19:49:50.834363",
     "status": "completed"
    },
    "tags": []
   },
   "outputs": [],
   "source": [
    "from glob import glob\n",
    "import os\n",
    "import shutil\n",
    "\n",
    "import numpy as np\n",
    "import pandas as pd\n",
    "\n",
    "from sklearn.metrics import f1_score, roc_auc_score, cohen_kappa_score, precision_score, recall_score, accuracy_score, confusion_matrix\n",
    "from keras.layers import Dense, Flatten, Conv2D, MaxPooling2D, Dropout\n",
    "from keras.models import Sequential\n",
    "import tensorflow as tf\n",
    "import matplotlib.pyplot as plt\n",
    "import cv2\n",
    "from keras.layers import BatchNormalization\n",
    "from keras.models import Model, Sequential\n",
    "from keras.applications.xception import Xception\n",
    "from keras.applications import *\n",
    "import matplotlib.pyplot as plt\n",
    "from sklearn.pipeline import make_pipeline\n",
    "from sklearn.pipeline import Pipeline\n",
    "from PIL import Image\n",
    "import random\n",
    "import os\n",
    "import cv2\n",
    "from sklearn.model_selection import train_test_split\n",
    "from sklearn.neighbors import KNeighborsClassifier\n",
    "from sklearn.svm import SVC\n",
    "from sklearn.ensemble import RandomForestClassifier, AdaBoostClassifier\n",
    "from xgboost import XGBClassifier \n",
    "from keras.callbacks import EarlyStopping\n",
    "import seaborn as sns\n",
    "from sklearn.preprocessing import StandardScaler\n",
    "from tqdm import tqdm\n",
    "from sklearn.decomposition import PCA"
   ]
  },
  {
   "cell_type": "markdown",
   "id": "1b242af4",
   "metadata": {
    "papermill": {
     "duration": 0.007579,
     "end_time": "2022-05-25T19:49:58.925867",
     "exception": false,
     "start_time": "2022-05-25T19:49:58.918288",
     "status": "completed"
    },
    "tags": []
   },
   "source": [
    "make path for image classification"
   ]
  },
  {
   "cell_type": "code",
   "execution_count": 2,
   "id": "31c92a7e",
   "metadata": {
    "execution": {
     "iopub.execute_input": "2022-05-25T19:49:58.943625Z",
     "iopub.status.busy": "2022-05-25T19:49:58.942939Z",
     "iopub.status.idle": "2022-05-25T19:49:58.948589Z",
     "shell.execute_reply": "2022-05-25T19:49:58.947812Z"
    },
    "papermill": {
     "duration": 0.017064,
     "end_time": "2022-05-25T19:49:58.950865",
     "exception": false,
     "start_time": "2022-05-25T19:49:58.933801",
     "status": "completed"
    },
    "tags": []
   },
   "outputs": [],
   "source": [
    "os.makedirs('../working/data/train_seg/idc-minus/')     \n",
    "os.makedirs('../working/data/train_seg/idc-plus/')  \n",
    "os.makedirs('../working/data/test_seg/idc-minus/')     \n",
    "os.makedirs('../working/data/test_seg/idc-plus/')  \n",
    "#os.makedirs('../working/data/val_seg/idc-minus/')     \n",
    "#os.makedirs('../working/data/val_seg/idc-plus/')  "
   ]
  },
  {
   "cell_type": "markdown",
   "id": "3d205d5b",
   "metadata": {
    "papermill": {
     "duration": 0.00899,
     "end_time": "2022-05-25T19:49:58.968284",
     "exception": false,
     "start_time": "2022-05-25T19:49:58.959294",
     "status": "completed"
    },
    "tags": []
   },
   "source": [
    "# **Image Import**\n",
    "for first time run uncomment this cell\n",
    "this will catagorise files into different directory\n",
    "for second time run please comment this cell"
   ]
  },
  {
   "cell_type": "code",
   "execution_count": 3,
   "id": "3b6c9957",
   "metadata": {
    "execution": {
     "iopub.execute_input": "2022-05-25T19:49:58.988392Z",
     "iopub.status.busy": "2022-05-25T19:49:58.988009Z",
     "iopub.status.idle": "2022-05-25T19:49:58.992327Z",
     "shell.execute_reply": "2022-05-25T19:49:58.991565Z"
    },
    "papermill": {
     "duration": 0.016211,
     "end_time": "2022-05-25T19:49:58.994025",
     "exception": false,
     "start_time": "2022-05-25T19:49:58.977814",
     "status": "completed"
    },
    "tags": []
   },
   "outputs": [],
   "source": [
    "sampling_seed=0\n",
    "size_4_training=300\n",
    "img_size=224\n",
    "n_of_classes=2\n",
    "#training_reshape=(-1, img_size, img_size, 3)"
   ]
  },
  {
   "cell_type": "markdown",
   "id": "c8e0d32b",
   "metadata": {
    "papermill": {
     "duration": 0.008039,
     "end_time": "2022-05-25T19:49:59.010269",
     "exception": false,
     "start_time": "2022-05-25T19:49:59.002230",
     "status": "completed"
    },
    "tags": []
   },
   "source": [
    "Image classification"
   ]
  },
  {
   "cell_type": "code",
   "execution_count": 4,
   "id": "aa3055b7",
   "metadata": {
    "execution": {
     "iopub.execute_input": "2022-05-25T19:49:59.028176Z",
     "iopub.status.busy": "2022-05-25T19:49:59.027610Z",
     "iopub.status.idle": "2022-05-25T19:51:00.265139Z",
     "shell.execute_reply": "2022-05-25T19:51:00.263973Z"
    },
    "papermill": {
     "duration": 61.249908,
     "end_time": "2022-05-25T19:51:00.268402",
     "exception": false,
     "start_time": "2022-05-25T19:49:59.018494",
     "status": "completed"
    },
    "tags": []
   },
   "outputs": [
    {
     "name": "stdout",
     "output_type": "stream",
     "text": [
      "['../input/breast-histopathology-images/IDC_regular_ps50_idx5/10295/0/10295_idx5_x1351_y1101_class0.png', '../input/breast-histopathology-images/IDC_regular_ps50_idx5/10295/0/10295_idx5_x1501_y501_class0.png', '../input/breast-histopathology-images/IDC_regular_ps50_idx5/10295/0/10295_idx5_x1501_y1101_class0.png', '../input/breast-histopathology-images/IDC_regular_ps50_idx5/10295/0/10295_idx5_x451_y901_class0.png', '../input/breast-histopathology-images/IDC_regular_ps50_idx5/10295/0/10295_idx5_x801_y451_class0.png', '../input/breast-histopathology-images/IDC_regular_ps50_idx5/10295/0/10295_idx5_x151_y1051_class0.png', '../input/breast-histopathology-images/IDC_regular_ps50_idx5/10295/0/10295_idx5_x1351_y901_class0.png', '../input/breast-histopathology-images/IDC_regular_ps50_idx5/10295/0/10295_idx5_x701_y651_class0.png', '../input/breast-histopathology-images/IDC_regular_ps50_idx5/10295/0/10295_idx5_x951_y1401_class0.png', '../input/breast-histopathology-images/IDC_regular_ps50_idx5/10295/0/10295_idx5_x601_y501_class0.png']\n",
      "(300, 2)\n",
      "(600, 2)\n"
     ]
    },
    {
     "name": "stderr",
     "output_type": "stream",
     "text": [
      "/opt/conda/lib/python3.7/site-packages/ipykernel_launcher.py:81: VisibleDeprecationWarning: Creating an ndarray from ragged nested sequences (which is a list-or-tuple of lists-or-tuples-or ndarrays with different lengths or shapes) is deprecated. If you meant to do this, you must specify 'dtype=object' when creating the ndarray.\n",
      "/opt/conda/lib/python3.7/site-packages/ipykernel_launcher.py:82: VisibleDeprecationWarning: Creating an ndarray from ragged nested sequences (which is a list-or-tuple of lists-or-tuples-or ndarrays with different lengths or shapes) is deprecated. If you meant to do this, you must specify 'dtype=object' when creating the ndarray.\n"
     ]
    }
   ],
   "source": [
    "training_reshape=(-1, img_size, img_size, 3)\n",
    "import random\n",
    "#make directory for labelling\n",
    "os.makedirs('../working/idc2/idc-minus/')     \n",
    "os.makedirs('../working/idc2/idc-plus/')  \n",
    "\n",
    "\n",
    "class0 = [] # 0 = idc+\n",
    "class1 = [] # 1 = idc-\n",
    "imagePatches = glob('../input/breast-histopathology-images/IDC_regular_ps50_idx5/**/*.png', recursive=True)\n",
    "for filename in imagePatches:\n",
    "    if filename.endswith(\"class0.png\"):\n",
    "         class0.append(filename)\n",
    "    else:\n",
    "        class1.append(filename)\n",
    "\n",
    "print(class0[0:10])\n",
    "\n",
    "#sampling 10000 images from class 0 and class 1 to train the model\n",
    "\n",
    "random.seed(sampling_seed)\n",
    "class0sample=random.sample(class0,size_4_training)\n",
    "class1sample=random.sample(class1,size_4_training)\n",
    "\n",
    "\n",
    "def read_and_save_data(path, file_name_array):\n",
    "    j=0\n",
    "    for i in file_name_array:\n",
    "        if i.endswith('.png'):\n",
    "          \n",
    "            \n",
    "            #second copy method\n",
    "            head, tail = os.path.split(i)\n",
    "            outputname=str(path+tail)\n",
    "            #outputname=str(path+str(j)+'.png')\n",
    "            #print(outputname)\n",
    "            shutil.copy(i, outputname)\n",
    "   \n",
    "            #print(status2)\n",
    "            \n",
    "            j=j+1\n",
    "            if j==120000:\n",
    "                break\n",
    "            \n",
    "   \n",
    "class0path='../working/idc2/idc-minus/'\n",
    "class1path='../working/idc2/idc-plus/'\n",
    "\n",
    "\n",
    "\n",
    "\n",
    "read_and_save_data(class0path,class0sample)\n",
    "read_and_save_data(class1path,class1sample)\n",
    "\n",
    "#--------------------------------------------\n",
    "import os #Operating System\n",
    "import sys #System\n",
    "import cv2\n",
    "\n",
    "def readImage(path, tag):\n",
    "    j=0\n",
    "    image_array = []\n",
    "    for i in os.listdir(path):\n",
    "        imgname=path+i\n",
    "        #print(imgname)\n",
    "        img = cv2.imread(imgname, cv2.IMREAD_COLOR)\n",
    "        img_resized = cv2.resize(img, (img_size,img_size), interpolation=cv2.INTER_LINEAR)\n",
    "        image_array.append([img_resized, tag])\n",
    "        #print(img[1])\n",
    "        j=j+1\n",
    "        #if j==10:\n",
    "        #    break\n",
    "        \n",
    "    return image_array\n",
    "\n",
    "import numpy as np\n",
    "\n",
    "\n",
    "class0_array = readImage(class0path, 0)\n",
    "class1_array = readImage(class1path, 1)\n",
    "class0_array=np.array(class0_array)\n",
    "class1_array=np.array(class1_array)\n",
    "combined_data = np.concatenate((class0_array, class1_array))\n",
    "random.seed(41)\n",
    "random.shuffle(combined_data)\n",
    "print(class0_array.shape)\n",
    "print(combined_data.shape)\n",
    "\n",
    "X = []\n",
    "y = []\n",
    "\n",
    "for features,label in combined_data:\n",
    "    X.append(features)\n",
    "    y.append(label)\n",
    "#print(X.shape)\n",
    "#pring(y.shape)\n",
    "\n",
    "# reshape X data\n",
    "X = np.array(X).reshape(training_reshape)\n",
    "#print(X.shape)\n",
    "y=np.array(y)\n",
    "\n",
    "X_train, X_test, y_train, y_test = train_test_split(X, y, test_size=0.3, random_state=42)\n",
    "\n",
    "\n",
    "\n",
    "#X_val, y_val=Image_array_process(class0_val, val0_label, class1_val, val1_label)\n",
    "X_train_original=X_train\n",
    "X_test_original=X_test\n",
    "y_train_original=y_train\n",
    "y_test_original=y_test\n"
   ]
  },
  {
   "cell_type": "code",
   "execution_count": 5,
   "id": "e5e633e8",
   "metadata": {
    "execution": {
     "iopub.execute_input": "2022-05-25T19:51:00.287848Z",
     "iopub.status.busy": "2022-05-25T19:51:00.287029Z",
     "iopub.status.idle": "2022-05-25T19:51:00.292746Z",
     "shell.execute_reply": "2022-05-25T19:51:00.291812Z"
    },
    "papermill": {
     "duration": 0.01779,
     "end_time": "2022-05-25T19:51:00.294805",
     "exception": false,
     "start_time": "2022-05-25T19:51:00.277015",
     "status": "completed"
    },
    "tags": []
   },
   "outputs": [
    {
     "name": "stdout",
     "output_type": "stream",
     "text": [
      "[0 0 0 0 0 0 0 0 0 0 0 0 0 0 0 0 0 0 0 0 0 0 1 0 1 0 0 0 1 0 1 0 0 0 0 0 0\n",
      " 0 1 0 0 0 1 1 0 0 1 0 0 0 0 0 0 1 0 1 0 0 0 0 0 0 0 1 1 0 0 0 0 0 0 0 0 1\n",
      " 1 0 0 0 0 0 0 0 1 0 0 0 0 0 0 0 0 0 0 0 0 0 0 0 0 0 0 0 0 0 0 0 0 0 0 0 0\n",
      " 1 0 0 0 1 0 0 0 0 0 0 1 0 0 0 1 0 1 0 0 1 0 0 0 0 0 0 0 0 0 0 0 0 0 0 0 0\n",
      " 0 0 0 0 0 0 0 0 0 0 0 0 0 0 0 0 0 0 0 0 1 0 0 0 1 0 0 0 0 0 0 0]\n"
     ]
    }
   ],
   "source": [
    "print(y_test)"
   ]
  },
  {
   "cell_type": "code",
   "execution_count": 6,
   "id": "83f7ca08",
   "metadata": {
    "execution": {
     "iopub.execute_input": "2022-05-25T19:51:00.313269Z",
     "iopub.status.busy": "2022-05-25T19:51:00.312612Z",
     "iopub.status.idle": "2022-05-25T19:51:00.319121Z",
     "shell.execute_reply": "2022-05-25T19:51:00.318267Z"
    },
    "papermill": {
     "duration": 0.018129,
     "end_time": "2022-05-25T19:51:00.321308",
     "exception": false,
     "start_time": "2022-05-25T19:51:00.303179",
     "status": "completed"
    },
    "tags": []
   },
   "outputs": [
    {
     "name": "stdout",
     "output_type": "stream",
     "text": [
      "[0 0 1 0 0 0 1 1 1 0 0 0 0 0 0 0 1 0 1 0 0 0 0 0 0 0 0 0 0 1 1 0 0 0 0 0 0\n",
      " 0 1 0 0 1 0 0 0 0 0 0 0 0 0 1 0 0 1 0 0 0 0 0 0 0 0 0 0 0 1 0 0 0 0 0 0 0\n",
      " 0 0 0 0 0 0 0 0 1 0 0 0 0 0 0 0 0 0 0 0 1 0 1 0 0 0 0 0 0 1 0 0 0 0 0 1 0\n",
      " 0 0 0 0 0 0 0 0 0 0 1 0 1 0 0 0 0 0 0 0 1 0 1 0 0 0 0 0 1 0 0 0 0 0 0 0 0\n",
      " 0 0 0 0 0 0 0 1 0 0 0 0 0 0 0 0 0 1 0 0 1 0 0 0 0 0 0 0 1 0 0 0 0 0 0 0 0\n",
      " 1 0 0 0 0 1 0 0 0 0 0 1 1 1 0 0 0 0 0 0 0 0 0 0 0 1 1 0 0 0 0 0 0 0 0 0 0\n",
      " 0 0 0 0 0 0 0 0 0 0 0 1 0 0 0 0 0 0 0 0 0 0 0 0 0 0 0 0 0 0 1 0 0 0 0 0 0\n",
      " 0 0 0 0 0 0 0 0 0 0 0 0 0 0 0 0 0 0 0 0 0 0 0 0 0 0 0 0 0 1 0 0 1 0 1 0 1\n",
      " 1 0 0 0 0 0 0 0 0 0 1 0 0 0 0 0 0 0 0 0 0 0 0 0 0 0 0 0 0 0 1 0 0 0 0 0 1\n",
      " 0 0 0 0 1 0 1 1 0 0 0 0 0 0 0 0 0 0 0 0 0 1 0 0 0 0 0 0 0 0 0 1 0 0 0 1 1\n",
      " 0 0 0 0 0 0 0 0 0 0 0 1 0 0 0 0 1 0 1 1 0 0 0 0 0 0 0 0 0 0 0 1 1 1 0 0 0\n",
      " 0 0 1 0 0 0 0 0 0 0 0 0 0]\n"
     ]
    }
   ],
   "source": [
    "print(y_train)"
   ]
  },
  {
   "cell_type": "code",
   "execution_count": 7,
   "id": "b6b87bdf",
   "metadata": {
    "execution": {
     "iopub.execute_input": "2022-05-25T19:51:00.344556Z",
     "iopub.status.busy": "2022-05-25T19:51:00.344130Z",
     "iopub.status.idle": "2022-05-25T19:51:01.027547Z",
     "shell.execute_reply": "2022-05-25T19:51:01.026634Z"
    },
    "papermill": {
     "duration": 0.699125,
     "end_time": "2022-05-25T19:51:01.029675",
     "exception": false,
     "start_time": "2022-05-25T19:51:00.330550",
     "status": "completed"
    },
    "tags": []
   },
   "outputs": [
    {
     "name": "stdout",
     "output_type": "stream",
     "text": [
      "Found 0 images belonging to 2 classes.\n",
      "Found 0 images belonging to 2 classes.\n"
     ]
    },
    {
     "data": {
      "text/plain": [
       "'\\nval2_it = val_gen.flow_from_directory(validation_dir,\\n                                       class_mode = \"categorical\",\\n                                       target_size = (img_size, img_size),\\n                                       color_mode=\"rgb\",\\n                                       batch_size = 12, \\n                                       shuffle = False,\\n                                       subset=\\'validation\\',\\n                                       seed = 42)\\n'"
      ]
     },
     "execution_count": 7,
     "metadata": {},
     "output_type": "execute_result"
    }
   ],
   "source": [
    "data_dir = \"../working/idc2\"\n",
    "#img_size = img_size = img_size\n",
    "\n",
    "train_dir='../working/data/train_seg/'\n",
    "#validation_dir='../working/data/val_seg/'\n",
    "test_dir = '../working/data/test_seg/' \n",
    "\n",
    "train_gen = tf.keras.preprocessing.image.ImageDataGenerator()\n",
    "test_gen=tf.keras.preprocessing.image.ImageDataGenerator()\n",
    "val_gen=tf.keras.preprocessing.image.ImageDataGenerator()\n",
    "\n",
    " \n",
    "train_it = train_gen.flow_from_directory(train_dir,\n",
    "                                       class_mode = \"categorical\",\n",
    "                                       target_size = (img_size,img_size),\n",
    "                                       color_mode=\"rgb\",\n",
    "                                       batch_size = 12, \n",
    "                                       shuffle = False,\n",
    "                                       subset='training',\n",
    "                                       seed = 42)\n",
    "\n",
    "validate_it = test_gen.flow_from_directory('./data/test_seg',\n",
    "                                       class_mode = \"categorical\",\n",
    "                                       target_size = (img_size, img_size),\n",
    "                                       color_mode=\"rgb\",\n",
    "                                       batch_size = 12, \n",
    "                                       shuffle = False,\n",
    "                                       subset='training',\n",
    "                                       seed = 42)\n",
    "'''\n",
    "val2_it = val_gen.flow_from_directory(validation_dir,\n",
    "                                       class_mode = \"categorical\",\n",
    "                                       target_size = (img_size, img_size),\n",
    "                                       color_mode=\"rgb\",\n",
    "                                       batch_size = 12, \n",
    "                                       shuffle = False,\n",
    "                                       subset='validation',\n",
    "                                       seed = 42)\n",
    "'''"
   ]
  },
  {
   "cell_type": "code",
   "execution_count": 8,
   "id": "20a4884a",
   "metadata": {
    "execution": {
     "iopub.execute_input": "2022-05-25T19:51:01.050009Z",
     "iopub.status.busy": "2022-05-25T19:51:01.048962Z",
     "iopub.status.idle": "2022-05-25T19:51:01.056838Z",
     "shell.execute_reply": "2022-05-25T19:51:01.055957Z"
    },
    "papermill": {
     "duration": 0.02037,
     "end_time": "2022-05-25T19:51:01.059042",
     "exception": false,
     "start_time": "2022-05-25T19:51:01.038672",
     "status": "completed"
    },
    "tags": []
   },
   "outputs": [],
   "source": [
    "def get_features2(base_model, X_train1, y_train1, X_test1, y_test1):\n",
    "    X_train2 = base_model.predict(X_train1)\n",
    "    y_train2 = y_train1\n",
    "\n",
    "    X_test2 = base_model.predict(X_test1)\n",
    "    y_test2 = y_test1\n",
    "\n",
    "    X_val, X_test, y_val, y_test = train_test_split(X_test2, y_test2, test_size = 0.3, shuffle = True)\n",
    "    print('Shape of X_train----->', str(X_train2.shape))\n",
    "    print('Shape of X_val----->', str(X_val.shape))\n",
    "    print('Shape of X_test----->', str(X_test.shape))\n",
    "    return (X_train2, X_val, X_test, y_train2, y_val, y_test)"
   ]
  },
  {
   "cell_type": "code",
   "execution_count": 9,
   "id": "311e2d4f",
   "metadata": {
    "execution": {
     "iopub.execute_input": "2022-05-25T19:51:01.081295Z",
     "iopub.status.busy": "2022-05-25T19:51:01.080492Z",
     "iopub.status.idle": "2022-05-25T19:51:01.092514Z",
     "shell.execute_reply": "2022-05-25T19:51:01.091561Z"
    },
    "papermill": {
     "duration": 0.025308,
     "end_time": "2022-05-25T19:51:01.094855",
     "exception": false,
     "start_time": "2022-05-25T19:51:01.069547",
     "status": "completed"
    },
    "tags": []
   },
   "outputs": [],
   "source": [
    "from keras.callbacks import ModelCheckpoint\n",
    "from tensorflow.keras.optimizers import *\n",
    "def get_models():\n",
    "    ANN = Sequential()\n",
    "    ANN.add(Dense(1096, input_dim = X_train.shape[1], activation = 'relu'))\n",
    "    ANN.add(BatchNormalization())\n",
    "    ANN.add(Dense(1096, activation='relu'))\n",
    "    ANN.add(Dropout(0.2))\n",
    "    ANN.add(Dense(256, activation='relu'))\n",
    "    #ANN.add(Dense(16, activation='relu'))\n",
    "    #ANN.add(Dense(8, activation='relu'))\n",
    "    ANN.add(Dense(n_of_classes, activation='sigmoid'))\n",
    "    \n",
    "\n",
    "    opt = Adam(learning_rate=0.001)\n",
    "    ANN.compile(loss='categorical_crossentropy', optimizer=opt, metrics=['accuracy'])\n",
    " \n",
    "    KNN = KNeighborsClassifier()\n",
    "    \n",
    "    SVM = SVC(kernel = 'linear')\n",
    "    \n",
    "    RF = RandomForestClassifier(n_estimators = 50)\n",
    "    \n",
    "    ADB = AdaBoostClassifier()\n",
    "    \n",
    "    XGB = XGBClassifier(n_estimators = 50, use_label_encoder=False)\n",
    "    \n",
    "    print(\"Defined------->\")\n",
    "    print(\"ANN -------->\", \"(4096x4096x2096x2)\")\n",
    "    print(\"KNeighborsClassifier()\")\n",
    "    print(\"SVC(kernel = 'linear')\")\n",
    "    print(\"RandomForestClassifier(n_estimators = 50)\")\n",
    "    print(\"AdaBoostClassifier()\")\n",
    "    print(\"XGBClassifier(n_estimators = 50)\")\n",
    "    \n",
    "    return (ANN, KNN, SVM, RF, ADB, XGB)"
   ]
  },
  {
   "cell_type": "code",
   "execution_count": 10,
   "id": "9b91b60e",
   "metadata": {
    "execution": {
     "iopub.execute_input": "2022-05-25T19:51:01.116047Z",
     "iopub.status.busy": "2022-05-25T19:51:01.115218Z",
     "iopub.status.idle": "2022-05-25T19:51:01.123905Z",
     "shell.execute_reply": "2022-05-25T19:51:01.123042Z"
    },
    "papermill": {
     "duration": 0.022253,
     "end_time": "2022-05-25T19:51:01.126547",
     "exception": false,
     "start_time": "2022-05-25T19:51:01.104294",
     "status": "completed"
    },
    "tags": []
   },
   "outputs": [],
   "source": [
    "def reshape_data(X_train, X_val, X_test):\n",
    "    X_train = X_train.reshape(X_train.shape[0], -1)\n",
    "    X_val = X_val.reshape(X_val.shape[0], -1)\n",
    "    X_test = X_test.reshape(X_test.shape[0], -1)\n",
    "\n",
    "    print(\"Shape after reshaping------->\")\n",
    "    print(\"X train------->\", str(X_train.shape))\n",
    "    print(\"X val-------->\", str(X_val.shape))\n",
    "    print(\"X test-------->\", str(X_test.shape))\n",
    "    \n",
    "    return (X_train, X_val, X_test)"
   ]
  },
  {
   "cell_type": "code",
   "execution_count": 11,
   "id": "99ef48bd",
   "metadata": {
    "execution": {
     "iopub.execute_input": "2022-05-25T19:51:01.147430Z",
     "iopub.status.busy": "2022-05-25T19:51:01.146608Z",
     "iopub.status.idle": "2022-05-25T19:51:01.187550Z",
     "shell.execute_reply": "2022-05-25T19:51:01.186139Z"
    },
    "papermill": {
     "duration": 0.054287,
     "end_time": "2022-05-25T19:51:01.190062",
     "exception": false,
     "start_time": "2022-05-25T19:51:01.135775",
     "status": "completed"
    },
    "tags": []
   },
   "outputs": [],
   "source": [
    "from sklearn.metrics import classification_report\n",
    "from tensorflow.keras.utils import to_categorical\n",
    "def fit_ANN(model, X_train, y_train, X_val, y_test):\n",
    "    callbacks = [EarlyStopping(monitor='val_loss', patience=5, verbose=1), ModelCheckpoint('ANN.hdf5', save_best_only=True)]\n",
    "    y_train=to_categorical(y_train)\n",
    "    y_test=to_categorical(y_test)\n",
    "    history = model.fit(X_train, y_train, validation_data=(X_val, y_test), epochs=10, verbose=1, callbacks=callbacks)\n",
    "    return model\n",
    "\n",
    "def fit_model(model, X_train, y_train):\n",
    "    model.fit(X_train, y_train)\n",
    "    return model\n",
    "from tensorflow.keras.utils import plot_model\n",
    "from IPython.display import Image\n",
    "def get_accuracy_metrics_for_ANN(model, X_train, y_train, X_val, y_val, X_test, y_test):\n",
    "    model.summary()\n",
    "    plot_model(model, to_file='ANN.png', show_shapes=True,show_layer_names=True)\n",
    "    Image(filename='ANN.png') \n",
    "    #y_train=np.argmax(y_train, axis=1)\n",
    "    #y_test=np.argmax(y_test, axis=1)\n",
    "    #y_val=np.argmax(y_val, axis=1)\n",
    "    y_train_pred=np.argmax(model.predict(X_train),axis=1)\n",
    "    y_test_pred=np.argmax(model.predict(X_test),axis=1)\n",
    "    y_val_pred=np.argmax(model.predict(X_val),axis=1)\n",
    "    print(\"Train accuracy Score------------>\")\n",
    "    print (\"{0:.3f}\".format(accuracy_score(y_train, np.argmax(model.predict(X_train), axis = 1))*100), \"%\")\n",
    "    \n",
    "    print(\"Val accuracy Score--------->\")\n",
    "    #val_pred = np.argmax(model.predict(X_val), axis = 1)\n",
    "    print(\"{0:.3f}\".format(accuracy_score(y_val, y_val_pred)*100), \"%\")\n",
    "    \n",
    "    #predicted =  np.argmax(model.predict(X_test), axis = 1)\n",
    "    print(\"Test accuracy Score--------->\")\n",
    "    print(\"{0:.3f}\".format(accuracy_score(y_test, y_test_pred)*100), \"%\")\n",
    "    \n",
    "    print(\"F1 Score--------------->\")\n",
    "    print(\"{0:.3f}\".format(f1_score(y_test, y_test_pred, average = 'weighted')*100), \"%\")\n",
    "    \n",
    "    print(\"Cohen Kappa Score------------->\")\n",
    "    print(\"{0:.3f}\".format(cohen_kappa_score(y_test, y_test_pred)*100), \"%\")\n",
    "    \n",
    "    print(\"Recall-------------->\")\n",
    "    print(\"{0:.3f}\".format(recall_score(y_test, y_test_pred, average = 'weighted')*100), \"%\")\n",
    "    \n",
    "    print(\"Precision-------------->\")\n",
    "    print(\"{0:.3f}\".format(precision_score(y_test, y_test_pred, average = 'weighted')*100), \"%\")\n",
    "    \n",
    "    cf_matrix_test = confusion_matrix(y_test, y_test_pred)\n",
    "    cf_matrix_val = confusion_matrix(y_val, y_val_pred)\n",
    "    \n",
    "    plt.figure(figsize = (12, 6))\n",
    "    plt.subplot(121)\n",
    "    sns.heatmap(cf_matrix_val, annot=True, cmap='Blues')\n",
    "    plt.title(\"Val Confusion matrix\")\n",
    "    \n",
    "    plt.subplot(122)\n",
    "    sns.heatmap(cf_matrix_test, annot=True, cmap='Blues')\n",
    "    plt.title(\"Test Confusion matrix\")\n",
    "    \n",
    "    plt.show()\n",
    "    print(\"classification report\")\n",
    "    print(classification_report(y_val, y_val_pred))"
   ]
  },
  {
   "cell_type": "code",
   "execution_count": 12,
   "id": "ac7b0674",
   "metadata": {
    "execution": {
     "iopub.execute_input": "2022-05-25T19:51:01.210674Z",
     "iopub.status.busy": "2022-05-25T19:51:01.210265Z",
     "iopub.status.idle": "2022-05-25T19:51:01.226646Z",
     "shell.execute_reply": "2022-05-25T19:51:01.225749Z"
    },
    "papermill": {
     "duration": 0.02929,
     "end_time": "2022-05-25T19:51:01.228829",
     "exception": false,
     "start_time": "2022-05-25T19:51:01.199539",
     "status": "completed"
    },
    "tags": []
   },
   "outputs": [],
   "source": [
    "def fit_KNN_metrics(model, X_train, y_train, X_val, y_val, X_test, y_test):\n",
    "    #pca = PCA(n_components=1000)\n",
    "    pca = PCA(n_components=130)\n",
    "    #randlist = random.sample(range(0, X_train.shape[0]), 1000)\n",
    "    randlist = random.sample(range(0, X_train.shape[0]), 90)\n",
    "    #if(X_train.shape[1] > 10000):\n",
    "    if(X_train.shape[1] > 100):\n",
    "        X_train = pca.fit_transform(X_train)\n",
    "        X_val = pca.transform(X_val)\n",
    "        X_test = pca.transform(X_test)\n",
    "\n",
    "    model.fit(X_train, y_train)\n",
    "    get_accuracy_metrics(model, X_train[randlist, :], y_train[randlist], X_val, y_val, X_test, y_test)\n",
    "\n",
    "def get_accuracy_metrics(model, X_train, y_train, X_val, y_val, X_test, y_test):\n",
    "    print(\"Train accuracy Score------------>\")\n",
    "    print (\"{0:.3f}\".format(accuracy_score(y_train, model.predict(X_train))*100), \"%\")\n",
    "    \n",
    "    print(\"Val accuracy Score--------->\")\n",
    "    val_pred = model.predict(X_val)\n",
    "    print(\"{0:.3f}\".format(accuracy_score(y_val, val_pred)*100), \"%\")\n",
    "    \n",
    "    predicted =  model.predict(X_test)\n",
    "    print(\"Test accuracy Score--------->\")\n",
    "    print(\"{0:.3f}\".format(accuracy_score(y_test, predicted)*100), \"%\")\n",
    "    \n",
    "    print(\"F1 Score--------------->\")\n",
    "    print(\"{0:.3f}\".format(f1_score(y_test, predicted, average = 'weighted')*100), \"%\")\n",
    "    \n",
    "    print(\"Cohen Kappa Score------------->\")\n",
    "    print(\"{0:.3f}\".format(cohen_kappa_score(y_test, predicted)*100), \"%\")\n",
    "    \n",
    "    print(\"Recall-------------->\")\n",
    "    print(\"{0:.3f}\".format(recall_score(y_test, predicted, average = 'weighted')*100), \"%\")\n",
    "    \n",
    "    print(\"Precision-------------->\")\n",
    "    print(\"{0:.3f}\".format(precision_score(y_test, predicted, average = 'weighted')*100), \"%\")\n",
    "    \n",
    "    cf_matrix_test = confusion_matrix(y_test, predicted)\n",
    "    cf_matrix_val = confusion_matrix(y_val, val_pred)\n",
    "    \n",
    "    plt.figure(figsize = (12, 6))\n",
    "    plt.subplot(121)\n",
    "    sns.heatmap(cf_matrix_val, annot=True, cmap='Blues')\n",
    "    plt.title(\"Val Confusion matrix\")\n",
    "    \n",
    "    plt.subplot(122)\n",
    "    sns.heatmap(cf_matrix_test, annot=True, cmap='Blues')\n",
    "    plt.title(\"Test Confusion matrix\")\n",
    "    \n",
    "    plt.show()\n",
    "    print(\"classification report\")\n",
    "    print(classification_report(y_val, val_pred))"
   ]
  },
  {
   "cell_type": "markdown",
   "id": "c9103f36",
   "metadata": {
    "papermill": {
     "duration": 0.009525,
     "end_time": "2022-05-25T19:51:01.248480",
     "exception": false,
     "start_time": "2022-05-25T19:51:01.238955",
     "status": "completed"
    },
    "tags": []
   },
   "source": [
    "# Model selection"
   ]
  },
  {
   "cell_type": "code",
   "execution_count": 13,
   "id": "dc784339",
   "metadata": {
    "execution": {
     "iopub.execute_input": "2022-05-25T19:51:01.268874Z",
     "iopub.status.busy": "2022-05-25T19:51:01.268463Z",
     "iopub.status.idle": "2022-05-25T19:51:03.640155Z",
     "shell.execute_reply": "2022-05-25T19:51:03.639136Z"
    },
    "papermill": {
     "duration": 2.385971,
     "end_time": "2022-05-25T19:51:03.643973",
     "exception": false,
     "start_time": "2022-05-25T19:51:01.258002",
     "status": "completed"
    },
    "tags": []
   },
   "outputs": [
    {
     "name": "stderr",
     "output_type": "stream",
     "text": [
      "2022-05-25 19:51:01.328906: I tensorflow/core/common_runtime/process_util.cc:146] Creating new thread pool with default inter op setting: 2. Tune using inter_op_parallelism_threads for best performance.\n"
     ]
    },
    {
     "name": "stdout",
     "output_type": "stream",
     "text": [
      "Downloading data from https://storage.googleapis.com/tensorflow/keras-applications/xception/xception_weights_tf_dim_ordering_tf_kernels_notop.h5\n",
      "83689472/83683744 [==============================] - 0s 0us/step\n",
      "83697664/83683744 [==============================] - 0s 0us/step\n",
      "Model: \"model\"\n",
      "__________________________________________________________________________________________________\n",
      "Layer (type)                    Output Shape         Param #     Connected to                     \n",
      "==================================================================================================\n",
      "input_1 (InputLayer)            [(None, 224, 224, 3) 0                                            \n",
      "__________________________________________________________________________________________________\n",
      "block1_conv1 (Conv2D)           (None, 111, 111, 32) 864         input_1[0][0]                    \n",
      "__________________________________________________________________________________________________\n",
      "block1_conv1_bn (BatchNormaliza (None, 111, 111, 32) 128         block1_conv1[0][0]               \n",
      "__________________________________________________________________________________________________\n",
      "block1_conv1_act (Activation)   (None, 111, 111, 32) 0           block1_conv1_bn[0][0]            \n",
      "__________________________________________________________________________________________________\n",
      "block1_conv2 (Conv2D)           (None, 109, 109, 64) 18432       block1_conv1_act[0][0]           \n",
      "__________________________________________________________________________________________________\n",
      "block1_conv2_bn (BatchNormaliza (None, 109, 109, 64) 256         block1_conv2[0][0]               \n",
      "__________________________________________________________________________________________________\n",
      "block1_conv2_act (Activation)   (None, 109, 109, 64) 0           block1_conv2_bn[0][0]            \n",
      "__________________________________________________________________________________________________\n",
      "block2_sepconv1 (SeparableConv2 (None, 109, 109, 128 8768        block1_conv2_act[0][0]           \n",
      "__________________________________________________________________________________________________\n",
      "block2_sepconv1_bn (BatchNormal (None, 109, 109, 128 512         block2_sepconv1[0][0]            \n",
      "__________________________________________________________________________________________________\n",
      "block2_sepconv2_act (Activation (None, 109, 109, 128 0           block2_sepconv1_bn[0][0]         \n",
      "__________________________________________________________________________________________________\n",
      "block2_sepconv2 (SeparableConv2 (None, 109, 109, 128 17536       block2_sepconv2_act[0][0]        \n",
      "__________________________________________________________________________________________________\n",
      "block2_sepconv2_bn (BatchNormal (None, 109, 109, 128 512         block2_sepconv2[0][0]            \n",
      "__________________________________________________________________________________________________\n",
      "conv2d (Conv2D)                 (None, 55, 55, 128)  8192        block1_conv2_act[0][0]           \n",
      "__________________________________________________________________________________________________\n",
      "block2_pool (MaxPooling2D)      (None, 55, 55, 128)  0           block2_sepconv2_bn[0][0]         \n",
      "__________________________________________________________________________________________________\n",
      "batch_normalization (BatchNorma (None, 55, 55, 128)  512         conv2d[0][0]                     \n",
      "__________________________________________________________________________________________________\n",
      "add (Add)                       (None, 55, 55, 128)  0           block2_pool[0][0]                \n",
      "                                                                 batch_normalization[0][0]        \n",
      "__________________________________________________________________________________________________\n",
      "block3_sepconv1_act (Activation (None, 55, 55, 128)  0           add[0][0]                        \n",
      "__________________________________________________________________________________________________\n",
      "block3_sepconv1 (SeparableConv2 (None, 55, 55, 256)  33920       block3_sepconv1_act[0][0]        \n",
      "__________________________________________________________________________________________________\n",
      "block3_sepconv1_bn (BatchNormal (None, 55, 55, 256)  1024        block3_sepconv1[0][0]            \n",
      "__________________________________________________________________________________________________\n",
      "block3_sepconv2_act (Activation (None, 55, 55, 256)  0           block3_sepconv1_bn[0][0]         \n",
      "__________________________________________________________________________________________________\n",
      "block3_sepconv2 (SeparableConv2 (None, 55, 55, 256)  67840       block3_sepconv2_act[0][0]        \n",
      "__________________________________________________________________________________________________\n",
      "block3_sepconv2_bn (BatchNormal (None, 55, 55, 256)  1024        block3_sepconv2[0][0]            \n",
      "__________________________________________________________________________________________________\n",
      "conv2d_1 (Conv2D)               (None, 28, 28, 256)  32768       add[0][0]                        \n",
      "__________________________________________________________________________________________________\n",
      "block3_pool (MaxPooling2D)      (None, 28, 28, 256)  0           block3_sepconv2_bn[0][0]         \n",
      "__________________________________________________________________________________________________\n",
      "batch_normalization_1 (BatchNor (None, 28, 28, 256)  1024        conv2d_1[0][0]                   \n",
      "__________________________________________________________________________________________________\n",
      "add_1 (Add)                     (None, 28, 28, 256)  0           block3_pool[0][0]                \n",
      "                                                                 batch_normalization_1[0][0]      \n",
      "__________________________________________________________________________________________________\n",
      "block4_sepconv1_act (Activation (None, 28, 28, 256)  0           add_1[0][0]                      \n",
      "__________________________________________________________________________________________________\n",
      "block4_sepconv1 (SeparableConv2 (None, 28, 28, 728)  188672      block4_sepconv1_act[0][0]        \n",
      "__________________________________________________________________________________________________\n",
      "block4_sepconv1_bn (BatchNormal (None, 28, 28, 728)  2912        block4_sepconv1[0][0]            \n",
      "__________________________________________________________________________________________________\n",
      "block4_sepconv2_act (Activation (None, 28, 28, 728)  0           block4_sepconv1_bn[0][0]         \n",
      "__________________________________________________________________________________________________\n",
      "block4_sepconv2 (SeparableConv2 (None, 28, 28, 728)  536536      block4_sepconv2_act[0][0]        \n",
      "__________________________________________________________________________________________________\n",
      "block4_sepconv2_bn (BatchNormal (None, 28, 28, 728)  2912        block4_sepconv2[0][0]            \n",
      "__________________________________________________________________________________________________\n",
      "conv2d_2 (Conv2D)               (None, 14, 14, 728)  186368      add_1[0][0]                      \n",
      "__________________________________________________________________________________________________\n",
      "block4_pool (MaxPooling2D)      (None, 14, 14, 728)  0           block4_sepconv2_bn[0][0]         \n",
      "__________________________________________________________________________________________________\n",
      "batch_normalization_2 (BatchNor (None, 14, 14, 728)  2912        conv2d_2[0][0]                   \n",
      "__________________________________________________________________________________________________\n",
      "add_2 (Add)                     (None, 14, 14, 728)  0           block4_pool[0][0]                \n",
      "                                                                 batch_normalization_2[0][0]      \n",
      "__________________________________________________________________________________________________\n",
      "block5_sepconv1_act (Activation (None, 14, 14, 728)  0           add_2[0][0]                      \n",
      "__________________________________________________________________________________________________\n",
      "block5_sepconv1 (SeparableConv2 (None, 14, 14, 728)  536536      block5_sepconv1_act[0][0]        \n",
      "__________________________________________________________________________________________________\n",
      "block5_sepconv1_bn (BatchNormal (None, 14, 14, 728)  2912        block5_sepconv1[0][0]            \n",
      "__________________________________________________________________________________________________\n",
      "block5_sepconv2_act (Activation (None, 14, 14, 728)  0           block5_sepconv1_bn[0][0]         \n",
      "__________________________________________________________________________________________________\n",
      "block5_sepconv2 (SeparableConv2 (None, 14, 14, 728)  536536      block5_sepconv2_act[0][0]        \n",
      "__________________________________________________________________________________________________\n",
      "block5_sepconv2_bn (BatchNormal (None, 14, 14, 728)  2912        block5_sepconv2[0][0]            \n",
      "__________________________________________________________________________________________________\n",
      "block5_sepconv3_act (Activation (None, 14, 14, 728)  0           block5_sepconv2_bn[0][0]         \n",
      "__________________________________________________________________________________________________\n",
      "block5_sepconv3 (SeparableConv2 (None, 14, 14, 728)  536536      block5_sepconv3_act[0][0]        \n",
      "__________________________________________________________________________________________________\n",
      "block5_sepconv3_bn (BatchNormal (None, 14, 14, 728)  2912        block5_sepconv3[0][0]            \n",
      "__________________________________________________________________________________________________\n",
      "add_3 (Add)                     (None, 14, 14, 728)  0           block5_sepconv3_bn[0][0]         \n",
      "                                                                 add_2[0][0]                      \n",
      "__________________________________________________________________________________________________\n",
      "block6_sepconv1_act (Activation (None, 14, 14, 728)  0           add_3[0][0]                      \n",
      "__________________________________________________________________________________________________\n",
      "block6_sepconv1 (SeparableConv2 (None, 14, 14, 728)  536536      block6_sepconv1_act[0][0]        \n",
      "__________________________________________________________________________________________________\n",
      "block6_sepconv1_bn (BatchNormal (None, 14, 14, 728)  2912        block6_sepconv1[0][0]            \n",
      "__________________________________________________________________________________________________\n",
      "block6_sepconv2_act (Activation (None, 14, 14, 728)  0           block6_sepconv1_bn[0][0]         \n",
      "__________________________________________________________________________________________________\n",
      "block6_sepconv2 (SeparableConv2 (None, 14, 14, 728)  536536      block6_sepconv2_act[0][0]        \n",
      "__________________________________________________________________________________________________\n",
      "block6_sepconv2_bn (BatchNormal (None, 14, 14, 728)  2912        block6_sepconv2[0][0]            \n",
      "__________________________________________________________________________________________________\n",
      "block6_sepconv3_act (Activation (None, 14, 14, 728)  0           block6_sepconv2_bn[0][0]         \n",
      "__________________________________________________________________________________________________\n",
      "block6_sepconv3 (SeparableConv2 (None, 14, 14, 728)  536536      block6_sepconv3_act[0][0]        \n",
      "__________________________________________________________________________________________________\n",
      "block6_sepconv3_bn (BatchNormal (None, 14, 14, 728)  2912        block6_sepconv3[0][0]            \n",
      "__________________________________________________________________________________________________\n",
      "add_4 (Add)                     (None, 14, 14, 728)  0           block6_sepconv3_bn[0][0]         \n",
      "                                                                 add_3[0][0]                      \n",
      "__________________________________________________________________________________________________\n",
      "block7_sepconv1_act (Activation (None, 14, 14, 728)  0           add_4[0][0]                      \n",
      "__________________________________________________________________________________________________\n",
      "block7_sepconv1 (SeparableConv2 (None, 14, 14, 728)  536536      block7_sepconv1_act[0][0]        \n",
      "__________________________________________________________________________________________________\n",
      "block7_sepconv1_bn (BatchNormal (None, 14, 14, 728)  2912        block7_sepconv1[0][0]            \n",
      "__________________________________________________________________________________________________\n",
      "block7_sepconv2_act (Activation (None, 14, 14, 728)  0           block7_sepconv1_bn[0][0]         \n",
      "__________________________________________________________________________________________________\n",
      "block7_sepconv2 (SeparableConv2 (None, 14, 14, 728)  536536      block7_sepconv2_act[0][0]        \n",
      "__________________________________________________________________________________________________\n",
      "block7_sepconv2_bn (BatchNormal (None, 14, 14, 728)  2912        block7_sepconv2[0][0]            \n",
      "__________________________________________________________________________________________________\n",
      "block7_sepconv3_act (Activation (None, 14, 14, 728)  0           block7_sepconv2_bn[0][0]         \n",
      "__________________________________________________________________________________________________\n",
      "block7_sepconv3 (SeparableConv2 (None, 14, 14, 728)  536536      block7_sepconv3_act[0][0]        \n",
      "__________________________________________________________________________________________________\n",
      "block7_sepconv3_bn (BatchNormal (None, 14, 14, 728)  2912        block7_sepconv3[0][0]            \n",
      "__________________________________________________________________________________________________\n",
      "add_5 (Add)                     (None, 14, 14, 728)  0           block7_sepconv3_bn[0][0]         \n",
      "                                                                 add_4[0][0]                      \n",
      "__________________________________________________________________________________________________\n",
      "block8_sepconv1_act (Activation (None, 14, 14, 728)  0           add_5[0][0]                      \n",
      "__________________________________________________________________________________________________\n",
      "block8_sepconv1 (SeparableConv2 (None, 14, 14, 728)  536536      block8_sepconv1_act[0][0]        \n",
      "__________________________________________________________________________________________________\n",
      "block8_sepconv1_bn (BatchNormal (None, 14, 14, 728)  2912        block8_sepconv1[0][0]            \n",
      "__________________________________________________________________________________________________\n",
      "block8_sepconv2_act (Activation (None, 14, 14, 728)  0           block8_sepconv1_bn[0][0]         \n",
      "__________________________________________________________________________________________________\n",
      "block8_sepconv2 (SeparableConv2 (None, 14, 14, 728)  536536      block8_sepconv2_act[0][0]        \n",
      "__________________________________________________________________________________________________\n",
      "block8_sepconv2_bn (BatchNormal (None, 14, 14, 728)  2912        block8_sepconv2[0][0]            \n",
      "__________________________________________________________________________________________________\n",
      "block8_sepconv3_act (Activation (None, 14, 14, 728)  0           block8_sepconv2_bn[0][0]         \n",
      "__________________________________________________________________________________________________\n",
      "block8_sepconv3 (SeparableConv2 (None, 14, 14, 728)  536536      block8_sepconv3_act[0][0]        \n",
      "__________________________________________________________________________________________________\n",
      "block8_sepconv3_bn (BatchNormal (None, 14, 14, 728)  2912        block8_sepconv3[0][0]            \n",
      "__________________________________________________________________________________________________\n",
      "add_6 (Add)                     (None, 14, 14, 728)  0           block8_sepconv3_bn[0][0]         \n",
      "                                                                 add_5[0][0]                      \n",
      "__________________________________________________________________________________________________\n",
      "block9_sepconv1_act (Activation (None, 14, 14, 728)  0           add_6[0][0]                      \n",
      "__________________________________________________________________________________________________\n",
      "block9_sepconv1 (SeparableConv2 (None, 14, 14, 728)  536536      block9_sepconv1_act[0][0]        \n",
      "__________________________________________________________________________________________________\n",
      "block9_sepconv1_bn (BatchNormal (None, 14, 14, 728)  2912        block9_sepconv1[0][0]            \n",
      "__________________________________________________________________________________________________\n",
      "block9_sepconv2_act (Activation (None, 14, 14, 728)  0           block9_sepconv1_bn[0][0]         \n",
      "__________________________________________________________________________________________________\n",
      "block9_sepconv2 (SeparableConv2 (None, 14, 14, 728)  536536      block9_sepconv2_act[0][0]        \n",
      "__________________________________________________________________________________________________\n",
      "block9_sepconv2_bn (BatchNormal (None, 14, 14, 728)  2912        block9_sepconv2[0][0]            \n",
      "__________________________________________________________________________________________________\n",
      "block9_sepconv3_act (Activation (None, 14, 14, 728)  0           block9_sepconv2_bn[0][0]         \n",
      "__________________________________________________________________________________________________\n",
      "block9_sepconv3 (SeparableConv2 (None, 14, 14, 728)  536536      block9_sepconv3_act[0][0]        \n",
      "__________________________________________________________________________________________________\n",
      "block9_sepconv3_bn (BatchNormal (None, 14, 14, 728)  2912        block9_sepconv3[0][0]            \n",
      "__________________________________________________________________________________________________\n",
      "add_7 (Add)                     (None, 14, 14, 728)  0           block9_sepconv3_bn[0][0]         \n",
      "                                                                 add_6[0][0]                      \n",
      "__________________________________________________________________________________________________\n",
      "block10_sepconv1_act (Activatio (None, 14, 14, 728)  0           add_7[0][0]                      \n",
      "__________________________________________________________________________________________________\n",
      "block10_sepconv1 (SeparableConv (None, 14, 14, 728)  536536      block10_sepconv1_act[0][0]       \n",
      "__________________________________________________________________________________________________\n",
      "block10_sepconv1_bn (BatchNorma (None, 14, 14, 728)  2912        block10_sepconv1[0][0]           \n",
      "__________________________________________________________________________________________________\n",
      "block10_sepconv2_act (Activatio (None, 14, 14, 728)  0           block10_sepconv1_bn[0][0]        \n",
      "__________________________________________________________________________________________________\n",
      "block10_sepconv2 (SeparableConv (None, 14, 14, 728)  536536      block10_sepconv2_act[0][0]       \n",
      "__________________________________________________________________________________________________\n",
      "block10_sepconv2_bn (BatchNorma (None, 14, 14, 728)  2912        block10_sepconv2[0][0]           \n",
      "__________________________________________________________________________________________________\n",
      "block10_sepconv3_act (Activatio (None, 14, 14, 728)  0           block10_sepconv2_bn[0][0]        \n",
      "__________________________________________________________________________________________________\n",
      "block10_sepconv3 (SeparableConv (None, 14, 14, 728)  536536      block10_sepconv3_act[0][0]       \n",
      "__________________________________________________________________________________________________\n",
      "block10_sepconv3_bn (BatchNorma (None, 14, 14, 728)  2912        block10_sepconv3[0][0]           \n",
      "__________________________________________________________________________________________________\n",
      "add_8 (Add)                     (None, 14, 14, 728)  0           block10_sepconv3_bn[0][0]        \n",
      "                                                                 add_7[0][0]                      \n",
      "__________________________________________________________________________________________________\n",
      "block11_sepconv1_act (Activatio (None, 14, 14, 728)  0           add_8[0][0]                      \n",
      "__________________________________________________________________________________________________\n",
      "block11_sepconv1 (SeparableConv (None, 14, 14, 728)  536536      block11_sepconv1_act[0][0]       \n",
      "__________________________________________________________________________________________________\n",
      "block11_sepconv1_bn (BatchNorma (None, 14, 14, 728)  2912        block11_sepconv1[0][0]           \n",
      "__________________________________________________________________________________________________\n",
      "block11_sepconv2_act (Activatio (None, 14, 14, 728)  0           block11_sepconv1_bn[0][0]        \n",
      "__________________________________________________________________________________________________\n",
      "block11_sepconv2 (SeparableConv (None, 14, 14, 728)  536536      block11_sepconv2_act[0][0]       \n",
      "__________________________________________________________________________________________________\n",
      "block11_sepconv2_bn (BatchNorma (None, 14, 14, 728)  2912        block11_sepconv2[0][0]           \n",
      "__________________________________________________________________________________________________\n",
      "block11_sepconv3_act (Activatio (None, 14, 14, 728)  0           block11_sepconv2_bn[0][0]        \n",
      "__________________________________________________________________________________________________\n",
      "block11_sepconv3 (SeparableConv (None, 14, 14, 728)  536536      block11_sepconv3_act[0][0]       \n",
      "__________________________________________________________________________________________________\n",
      "block11_sepconv3_bn (BatchNorma (None, 14, 14, 728)  2912        block11_sepconv3[0][0]           \n",
      "__________________________________________________________________________________________________\n",
      "add_9 (Add)                     (None, 14, 14, 728)  0           block11_sepconv3_bn[0][0]        \n",
      "                                                                 add_8[0][0]                      \n",
      "__________________________________________________________________________________________________\n",
      "block12_sepconv1_act (Activatio (None, 14, 14, 728)  0           add_9[0][0]                      \n",
      "__________________________________________________________________________________________________\n",
      "block12_sepconv1 (SeparableConv (None, 14, 14, 728)  536536      block12_sepconv1_act[0][0]       \n",
      "__________________________________________________________________________________________________\n",
      "block12_sepconv1_bn (BatchNorma (None, 14, 14, 728)  2912        block12_sepconv1[0][0]           \n",
      "__________________________________________________________________________________________________\n",
      "block12_sepconv2_act (Activatio (None, 14, 14, 728)  0           block12_sepconv1_bn[0][0]        \n",
      "__________________________________________________________________________________________________\n",
      "block12_sepconv2 (SeparableConv (None, 14, 14, 728)  536536      block12_sepconv2_act[0][0]       \n",
      "__________________________________________________________________________________________________\n",
      "block12_sepconv2_bn (BatchNorma (None, 14, 14, 728)  2912        block12_sepconv2[0][0]           \n",
      "__________________________________________________________________________________________________\n",
      "block12_sepconv3_act (Activatio (None, 14, 14, 728)  0           block12_sepconv2_bn[0][0]        \n",
      "__________________________________________________________________________________________________\n",
      "block12_sepconv3 (SeparableConv (None, 14, 14, 728)  536536      block12_sepconv3_act[0][0]       \n",
      "__________________________________________________________________________________________________\n",
      "block12_sepconv3_bn (BatchNorma (None, 14, 14, 728)  2912        block12_sepconv3[0][0]           \n",
      "__________________________________________________________________________________________________\n",
      "add_10 (Add)                    (None, 14, 14, 728)  0           block12_sepconv3_bn[0][0]        \n",
      "                                                                 add_9[0][0]                      \n",
      "__________________________________________________________________________________________________\n",
      "block13_sepconv1_act (Activatio (None, 14, 14, 728)  0           add_10[0][0]                     \n",
      "__________________________________________________________________________________________________\n",
      "block13_sepconv1 (SeparableConv (None, 14, 14, 728)  536536      block13_sepconv1_act[0][0]       \n",
      "__________________________________________________________________________________________________\n",
      "block13_sepconv1_bn (BatchNorma (None, 14, 14, 728)  2912        block13_sepconv1[0][0]           \n",
      "__________________________________________________________________________________________________\n",
      "block13_sepconv2_act (Activatio (None, 14, 14, 728)  0           block13_sepconv1_bn[0][0]        \n",
      "__________________________________________________________________________________________________\n",
      "block13_sepconv2 (SeparableConv (None, 14, 14, 1024) 752024      block13_sepconv2_act[0][0]       \n",
      "__________________________________________________________________________________________________\n",
      "block13_sepconv2_bn (BatchNorma (None, 14, 14, 1024) 4096        block13_sepconv2[0][0]           \n",
      "__________________________________________________________________________________________________\n",
      "conv2d_3 (Conv2D)               (None, 7, 7, 1024)   745472      add_10[0][0]                     \n",
      "__________________________________________________________________________________________________\n",
      "block13_pool (MaxPooling2D)     (None, 7, 7, 1024)   0           block13_sepconv2_bn[0][0]        \n",
      "__________________________________________________________________________________________________\n",
      "batch_normalization_3 (BatchNor (None, 7, 7, 1024)   4096        conv2d_3[0][0]                   \n",
      "__________________________________________________________________________________________________\n",
      "add_11 (Add)                    (None, 7, 7, 1024)   0           block13_pool[0][0]               \n",
      "                                                                 batch_normalization_3[0][0]      \n",
      "__________________________________________________________________________________________________\n",
      "block14_sepconv1 (SeparableConv (None, 7, 7, 1536)   1582080     add_11[0][0]                     \n",
      "__________________________________________________________________________________________________\n",
      "block14_sepconv1_bn (BatchNorma (None, 7, 7, 1536)   6144        block14_sepconv1[0][0]           \n",
      "__________________________________________________________________________________________________\n",
      "block14_sepconv1_act (Activatio (None, 7, 7, 1536)   0           block14_sepconv1_bn[0][0]        \n",
      "__________________________________________________________________________________________________\n",
      "block14_sepconv2 (SeparableConv (None, 7, 7, 2048)   3159552     block14_sepconv1_act[0][0]       \n",
      "__________________________________________________________________________________________________\n",
      "block14_sepconv2_bn (BatchNorma (None, 7, 7, 2048)   8192        block14_sepconv2[0][0]           \n",
      "__________________________________________________________________________________________________\n",
      "block14_sepconv2_act (Activatio (None, 7, 7, 2048)   0           block14_sepconv2_bn[0][0]        \n",
      "==================================================================================================\n",
      "Total params: 20,861,480\n",
      "Trainable params: 0\n",
      "Non-trainable params: 20,861,480\n",
      "__________________________________________________________________________________________________\n"
     ]
    }
   ],
   "source": [
    "from tensorflow.keras.applications import Xception\n",
    "base_model = Xception(input_shape=(img_size, img_size, 3), weights='imagenet', include_top=False)\n",
    "\n",
    "#base_model = VGG16(include_top=False, input_shape=(img_size, img_size, 2), weights='imagenet')\n",
    "\n",
    "\n",
    "for layer in base_model.layers:\n",
    "    layer.trainable = False\n",
    "                   \n",
    "model = Model(inputs=base_model.input, outputs=base_model.layers[-1].output)\n",
    "model.summary()"
   ]
  },
  {
   "cell_type": "markdown",
   "id": "b8db0c94",
   "metadata": {
    "papermill": {
     "duration": 0.01056,
     "end_time": "2022-05-25T19:51:03.664875",
     "exception": false,
     "start_time": "2022-05-25T19:51:03.654315",
     "status": "completed"
    },
    "tags": []
   },
   "source": [
    "# here is the input place of data"
   ]
  },
  {
   "cell_type": "code",
   "execution_count": 14,
   "id": "46e5343d",
   "metadata": {
    "execution": {
     "iopub.execute_input": "2022-05-25T19:51:03.688089Z",
     "iopub.status.busy": "2022-05-25T19:51:03.687253Z",
     "iopub.status.idle": "2022-05-25T19:51:03.691904Z",
     "shell.execute_reply": "2022-05-25T19:51:03.691044Z"
    },
    "papermill": {
     "duration": 0.018282,
     "end_time": "2022-05-25T19:51:03.693743",
     "exception": false,
     "start_time": "2022-05-25T19:51:03.675461",
     "status": "completed"
    },
    "tags": []
   },
   "outputs": [
    {
     "name": "stdout",
     "output_type": "stream",
     "text": [
      "(180, 224, 224, 3)\n"
     ]
    }
   ],
   "source": [
    "print(X_test_original.shape)"
   ]
  },
  {
   "cell_type": "code",
   "execution_count": 15,
   "id": "69697bea",
   "metadata": {
    "execution": {
     "iopub.execute_input": "2022-05-25T19:51:03.716401Z",
     "iopub.status.busy": "2022-05-25T19:51:03.715873Z",
     "iopub.status.idle": "2022-05-25T19:51:51.878308Z",
     "shell.execute_reply": "2022-05-25T19:51:51.876955Z"
    },
    "papermill": {
     "duration": 48.184072,
     "end_time": "2022-05-25T19:51:51.888120",
     "exception": false,
     "start_time": "2022-05-25T19:51:03.704048",
     "status": "completed"
    },
    "tags": []
   },
   "outputs": [
    {
     "name": "stderr",
     "output_type": "stream",
     "text": [
      "2022-05-25 19:51:03.857320: I tensorflow/compiler/mlir/mlir_graph_optimization_pass.cc:185] None of the MLIR Optimization Passes are enabled (registered 2)\n"
     ]
    },
    {
     "name": "stdout",
     "output_type": "stream",
     "text": [
      "Shape of X_train-----> (420, 7, 7, 2048)\n",
      "Shape of X_val-----> (126, 7, 7, 2048)\n",
      "Shape of X_test-----> (54, 7, 7, 2048)\n"
     ]
    }
   ],
   "source": [
    "\n",
    "X_train, X_val, X_test, y_train, y_val, y_test = get_features2(model, X_train_original, y_train_original, X_test_original, y_test_original)\n",
    "\n",
    "#def get_features2(base_model, X_train1, y_train1, X_test1, y_test1):"
   ]
  },
  {
   "cell_type": "code",
   "execution_count": 16,
   "id": "ea88bd3a",
   "metadata": {
    "execution": {
     "iopub.execute_input": "2022-05-25T19:51:51.911347Z",
     "iopub.status.busy": "2022-05-25T19:51:51.910934Z",
     "iopub.status.idle": "2022-05-25T19:51:51.916578Z",
     "shell.execute_reply": "2022-05-25T19:51:51.915442Z"
    },
    "papermill": {
     "duration": 0.020353,
     "end_time": "2022-05-25T19:51:51.919405",
     "exception": false,
     "start_time": "2022-05-25T19:51:51.899052",
     "status": "completed"
    },
    "tags": []
   },
   "outputs": [
    {
     "name": "stdout",
     "output_type": "stream",
     "text": [
      "(420,)\n",
      "(54,)\n",
      "(126,)\n"
     ]
    }
   ],
   "source": [
    "print(y_train.shape)\n",
    "print(y_test.shape)\n",
    "print(y_val.shape)"
   ]
  },
  {
   "cell_type": "code",
   "execution_count": 17,
   "id": "4aec31bd",
   "metadata": {
    "execution": {
     "iopub.execute_input": "2022-05-25T19:51:51.942493Z",
     "iopub.status.busy": "2022-05-25T19:51:51.942086Z",
     "iopub.status.idle": "2022-05-25T19:53:19.706551Z",
     "shell.execute_reply": "2022-05-25T19:53:19.705137Z"
    },
    "papermill": {
     "duration": 87.779503,
     "end_time": "2022-05-25T19:53:19.709794",
     "exception": false,
     "start_time": "2022-05-25T19:51:51.930291",
     "status": "completed"
    },
    "tags": []
   },
   "outputs": [
    {
     "name": "stdout",
     "output_type": "stream",
     "text": [
      "Shape after reshaping------->\n",
      "X train-------> (420, 100352)\n",
      "X val--------> (126, 100352)\n",
      "X test--------> (54, 100352)\n",
      "Defined------->\n",
      "ANN --------> (4096x4096x2096x2)\n",
      "KNeighborsClassifier()\n",
      "SVC(kernel = 'linear')\n",
      "RandomForestClassifier(n_estimators = 50)\n",
      "AdaBoostClassifier()\n",
      "XGBClassifier(n_estimators = 50)\n",
      "Epoch 1/10\n",
      "14/14 [==============================] - 6s 325ms/step - loss: 0.6376 - accuracy: 0.8333 - val_loss: 6.8266 - val_accuracy: 0.8651\n",
      "Epoch 2/10\n",
      "14/14 [==============================] - 8s 573ms/step - loss: 0.6134 - accuracy: 0.8357 - val_loss: 3.8440 - val_accuracy: 0.8651\n",
      "Epoch 3/10\n",
      "14/14 [==============================] - 5s 325ms/step - loss: 0.3112 - accuracy: 0.8810 - val_loss: 1.3445 - val_accuracy: 0.8651\n",
      "Epoch 4/10\n",
      "14/14 [==============================] - 5s 319ms/step - loss: 0.2640 - accuracy: 0.9167 - val_loss: 0.9187 - val_accuracy: 0.8651\n",
      "Epoch 5/10\n",
      "14/14 [==============================] - 5s 347ms/step - loss: 0.1535 - accuracy: 0.9357 - val_loss: 0.9173 - val_accuracy: 0.8571\n",
      "Epoch 6/10\n",
      "14/14 [==============================] - 5s 336ms/step - loss: 0.1649 - accuracy: 0.9429 - val_loss: 1.0027 - val_accuracy: 0.5794\n",
      "Epoch 7/10\n",
      "14/14 [==============================] - 4s 315ms/step - loss: 0.1467 - accuracy: 0.9476 - val_loss: 1.3610 - val_accuracy: 0.8730\n",
      "Epoch 8/10\n",
      "14/14 [==============================] - 4s 315ms/step - loss: 0.2113 - accuracy: 0.9357 - val_loss: 0.6841 - val_accuracy: 0.8651\n",
      "Epoch 9/10\n",
      "14/14 [==============================] - 5s 324ms/step - loss: 0.1965 - accuracy: 0.9405 - val_loss: 0.4824 - val_accuracy: 0.8571\n",
      "Epoch 10/10\n",
      "14/14 [==============================] - 5s 347ms/step - loss: 0.1077 - accuracy: 0.9595 - val_loss: 0.4533 - val_accuracy: 0.8571\n"
     ]
    }
   ],
   "source": [
    "X_train, X_val, X_test = reshape_data(X_train, X_val, X_test)\n",
    "ANN, KNN, SVM, RF, ADB, XGB = get_models()\n",
    "\n",
    "ANN = fit_ANN(ANN, X_train, y_train, X_val, y_val)"
   ]
  },
  {
   "cell_type": "code",
   "execution_count": 18,
   "id": "a7bfefbe",
   "metadata": {
    "execution": {
     "iopub.execute_input": "2022-05-25T19:53:19.760249Z",
     "iopub.status.busy": "2022-05-25T19:53:19.759767Z",
     "iopub.status.idle": "2022-05-25T19:53:25.757555Z",
     "shell.execute_reply": "2022-05-25T19:53:25.756332Z"
    },
    "papermill": {
     "duration": 6.024844,
     "end_time": "2022-05-25T19:53:25.760123",
     "exception": false,
     "start_time": "2022-05-25T19:53:19.735279",
     "status": "completed"
    },
    "tags": []
   },
   "outputs": [
    {
     "name": "stdout",
     "output_type": "stream",
     "text": [
      "Model: \"sequential\"\n",
      "_________________________________________________________________\n",
      "Layer (type)                 Output Shape              Param #   \n",
      "=================================================================\n",
      "dense (Dense)                (None, 1096)              109986888 \n",
      "_________________________________________________________________\n",
      "batch_normalization_4 (Batch (None, 1096)              4384      \n",
      "_________________________________________________________________\n",
      "dense_1 (Dense)              (None, 1096)              1202312   \n",
      "_________________________________________________________________\n",
      "dropout (Dropout)            (None, 1096)              0         \n",
      "_________________________________________________________________\n",
      "dense_2 (Dense)              (None, 256)               280832    \n",
      "_________________________________________________________________\n",
      "dense_3 (Dense)              (None, 2)                 514       \n",
      "=================================================================\n",
      "Total params: 111,474,930\n",
      "Trainable params: 111,472,738\n",
      "Non-trainable params: 2,192\n",
      "_________________________________________________________________\n",
      "Train accuracy Score------------>\n",
      "96.190 %\n",
      "Val accuracy Score--------->\n",
      "85.714 %\n",
      "Test accuracy Score--------->\n",
      "94.444 %\n",
      "F1 Score--------------->\n",
      "94.221 %\n",
      "Cohen Kappa Score------------->\n",
      "69.663 %\n",
      "Recall-------------->\n",
      "94.444 %\n",
      "Precision-------------->\n",
      "94.150 %\n"
     ]
    },
    {
     "data": {
      "image/png": "[encoded data removed]",
      "text/plain": [
       "<Figure size 864x432 with 4 Axes>"
      ]
     },
     "metadata": {
      "needs_background": "light"
     },
     "output_type": "display_data"
    },
    {
     "name": "stdout",
     "output_type": "stream",
     "text": [
      "classification report\n",
      "              precision    recall  f1-score   support\n",
      "\n",
      "           0       0.89      0.95      0.92       109\n",
      "           1       0.44      0.24      0.31        17\n",
      "\n",
      "    accuracy                           0.86       126\n",
      "   macro avg       0.67      0.59      0.61       126\n",
      "weighted avg       0.83      0.86      0.84       126\n",
      "\n"
     ]
    }
   ],
   "source": [
    "get_accuracy_metrics_for_ANN(ANN, X_train, y_train, X_val, y_val, X_test, y_test)"
   ]
  },
  {
   "cell_type": "code",
   "execution_count": 19,
   "id": "09ec0c70",
   "metadata": {
    "execution": {
     "iopub.execute_input": "2022-05-25T19:53:26.954007Z",
     "iopub.status.busy": "2022-05-25T19:53:26.952924Z",
     "iopub.status.idle": "2022-05-25T19:53:28.180122Z",
     "shell.execute_reply": "2022-05-25T19:53:28.178955Z"
    },
    "papermill": {
     "duration": 2.399491,
     "end_time": "2022-05-25T19:53:28.182792",
     "exception": false,
     "start_time": "2022-05-25T19:53:25.783301",
     "status": "completed"
    },
    "tags": []
   },
   "outputs": [],
   "source": [
    "scaler = StandardScaler()\n",
    "X_train_scaled = scaler.fit_transform(X_train)\n",
    "X_val_scaled = scaler.transform(X_val)\n",
    "X_test_scaled = scaler.transform(X_test)"
   ]
  },
  {
   "cell_type": "code",
   "execution_count": 20,
   "id": "1da9a9a7",
   "metadata": {
    "execution": {
     "iopub.execute_input": "2022-05-25T19:53:28.230081Z",
     "iopub.status.busy": "2022-05-25T19:53:28.229034Z",
     "iopub.status.idle": "2022-05-25T19:53:36.866809Z",
     "shell.execute_reply": "2022-05-25T19:53:36.865603Z"
    },
    "papermill": {
     "duration": 8.663674,
     "end_time": "2022-05-25T19:53:36.868892",
     "exception": false,
     "start_time": "2022-05-25T19:53:28.205218",
     "status": "completed"
    },
    "tags": []
   },
   "outputs": [
    {
     "name": "stdout",
     "output_type": "stream",
     "text": [
      "Train accuracy Score------------>\n",
      "100.000 %\n",
      "Val accuracy Score--------->\n",
      "83.333 %\n",
      "Test accuracy Score--------->\n",
      "96.296 %\n",
      "F1 Score--------------->\n",
      "96.521 %\n",
      "Cohen Kappa Score------------->\n",
      "83.636 %\n",
      "Recall-------------->\n",
      "96.296 %\n",
      "Precision-------------->\n",
      "97.222 %\n"
     ]
    },
    {
     "data": {
      "image/png": "[encoded data removed]",
      "text/plain": [
       "<Figure size 864x432 with 4 Axes>"
      ]
     },
     "metadata": {
      "needs_background": "light"
     },
     "output_type": "display_data"
    },
    {
     "name": "stdout",
     "output_type": "stream",
     "text": [
      "classification report\n",
      "              precision    recall  f1-score   support\n",
      "\n",
      "           0       0.93      0.87      0.90       109\n",
      "           1       0.42      0.59      0.49        17\n",
      "\n",
      "    accuracy                           0.83       126\n",
      "   macro avg       0.67      0.73      0.69       126\n",
      "weighted avg       0.86      0.83      0.84       126\n",
      "\n"
     ]
    }
   ],
   "source": [
    "SVM = fit_model(SVM, X_train_scaled, y_train)\n",
    "get_accuracy_metrics(SVM, X_train_scaled, y_train, X_val_scaled, y_val, X_test_scaled, y_test)"
   ]
  },
  {
   "cell_type": "code",
   "execution_count": 21,
   "id": "e12be5ca",
   "metadata": {
    "execution": {
     "iopub.execute_input": "2022-05-25T19:53:36.918630Z",
     "iopub.status.busy": "2022-05-25T19:53:36.917655Z",
     "iopub.status.idle": "2022-05-25T19:53:38.304590Z",
     "shell.execute_reply": "2022-05-25T19:53:38.303543Z"
    },
    "papermill": {
     "duration": 1.414586,
     "end_time": "2022-05-25T19:53:38.306771",
     "exception": false,
     "start_time": "2022-05-25T19:53:36.892185",
     "status": "completed"
    },
    "tags": []
   },
   "outputs": [
    {
     "name": "stdout",
     "output_type": "stream",
     "text": [
      "Train accuracy Score------------>\n",
      "100.000 %\n",
      "Val accuracy Score--------->\n",
      "87.302 %\n",
      "Test accuracy Score--------->\n",
      "98.148 %\n",
      "F1 Score--------------->\n",
      "98.074 %\n",
      "Cohen Kappa Score------------->\n",
      "89.888 %\n",
      "Recall-------------->\n",
      "98.148 %\n",
      "Precision-------------->\n",
      "98.186 %\n"
     ]
    },
    {
     "data": {
      "image/png": "[encoded data removed]",
      "text/plain": [
       "<Figure size 864x432 with 4 Axes>"
      ]
     },
     "metadata": {
      "needs_background": "light"
     },
     "output_type": "display_data"
    },
    {
     "name": "stdout",
     "output_type": "stream",
     "text": [
      "classification report\n",
      "              precision    recall  f1-score   support\n",
      "\n",
      "           0       0.89      0.97      0.93       109\n",
      "           1       0.57      0.24      0.33        17\n",
      "\n",
      "    accuracy                           0.87       126\n",
      "   macro avg       0.73      0.60      0.63       126\n",
      "weighted avg       0.85      0.87      0.85       126\n",
      "\n"
     ]
    }
   ],
   "source": [
    "RF = fit_model(RF, X_train, y_train)\n",
    "get_accuracy_metrics(RF,  X_train, y_train, X_val, y_val, X_test, y_test)"
   ]
  },
  {
   "cell_type": "code",
   "execution_count": 22,
   "id": "c308d3d1",
   "metadata": {
    "execution": {
     "iopub.execute_input": "2022-05-25T19:53:38.356920Z",
     "iopub.status.busy": "2022-05-25T19:53:38.355934Z",
     "iopub.status.idle": "2022-05-25T19:54:35.459615Z",
     "shell.execute_reply": "2022-05-25T19:54:35.458609Z"
    },
    "papermill": {
     "duration": 57.131143,
     "end_time": "2022-05-25T19:54:35.461966",
     "exception": false,
     "start_time": "2022-05-25T19:53:38.330823",
     "status": "completed"
    },
    "tags": []
   },
   "outputs": [
    {
     "name": "stdout",
     "output_type": "stream",
     "text": [
      "Train accuracy Score------------>\n",
      "100.000 %\n",
      "Val accuracy Score--------->\n",
      "88.095 %\n",
      "Test accuracy Score--------->\n",
      "96.296 %\n",
      "F1 Score--------------->\n",
      "96.296 %\n",
      "Cohen Kappa Score------------->\n",
      "81.250 %\n",
      "Recall-------------->\n",
      "96.296 %\n",
      "Precision-------------->\n",
      "96.296 %\n"
     ]
    },
    {
     "data": {
      "image/png": "[encoded data removed]",
      "text/plain": [
       "<Figure size 864x432 with 4 Axes>"
      ]
     },
     "metadata": {
      "needs_background": "light"
     },
     "output_type": "display_data"
    },
    {
     "name": "stdout",
     "output_type": "stream",
     "text": [
      "classification report\n",
      "              precision    recall  f1-score   support\n",
      "\n",
      "           0       0.93      0.94      0.93       109\n",
      "           1       0.56      0.53      0.55        17\n",
      "\n",
      "    accuracy                           0.88       126\n",
      "   macro avg       0.74      0.73      0.74       126\n",
      "weighted avg       0.88      0.88      0.88       126\n",
      "\n"
     ]
    }
   ],
   "source": [
    "ADB = fit_model(ADB, X_train, y_train)\n",
    "get_accuracy_metrics(ADB,  X_train, y_train, X_val, y_val, X_test, y_test)"
   ]
  },
  {
   "cell_type": "code",
   "execution_count": 23,
   "id": "2e436524",
   "metadata": {
    "execution": {
     "iopub.execute_input": "2022-05-25T19:54:35.514079Z",
     "iopub.status.busy": "2022-05-25T19:54:35.512947Z",
     "iopub.status.idle": "2022-05-25T19:55:04.012680Z",
     "shell.execute_reply": "2022-05-25T19:55:04.011579Z"
    },
    "papermill": {
     "duration": 28.528197,
     "end_time": "2022-05-25T19:55:04.014967",
     "exception": false,
     "start_time": "2022-05-25T19:54:35.486770",
     "status": "completed"
    },
    "tags": []
   },
   "outputs": [
    {
     "name": "stdout",
     "output_type": "stream",
     "text": [
      "Train accuracy Score------------>\n",
      "100.000 %\n",
      "Val accuracy Score--------->\n",
      "86.508 %\n",
      "Test accuracy Score--------->\n",
      "98.148 %\n",
      "F1 Score--------------->\n",
      "98.210 %\n",
      "Cohen Kappa Score------------->\n",
      "91.262 %\n",
      "Recall-------------->\n",
      "98.148 %\n",
      "Precision-------------->\n",
      "98.413 %\n"
     ]
    },
    {
     "data": {
      "image/png": "[encoded data removed]",
      "text/plain": [
       "<Figure size 864x432 with 4 Axes>"
      ]
     },
     "metadata": {
      "needs_background": "light"
     },
     "output_type": "display_data"
    },
    {
     "name": "stdout",
     "output_type": "stream",
     "text": [
      "classification report\n",
      "              precision    recall  f1-score   support\n",
      "\n",
      "           0       0.90      0.94      0.92       109\n",
      "           1       0.50      0.35      0.41        17\n",
      "\n",
      "    accuracy                           0.87       126\n",
      "   macro avg       0.70      0.65      0.67       126\n",
      "weighted avg       0.85      0.87      0.85       126\n",
      "\n"
     ]
    }
   ],
   "source": [
    "XGB = fit_model(XGB, X_train, y_train)\n",
    "get_accuracy_metrics(XGB,  X_train, y_train, X_val, y_val, X_test, y_test)"
   ]
  },
  {
   "cell_type": "code",
   "execution_count": 24,
   "id": "15199c63",
   "metadata": {
    "execution": {
     "iopub.execute_input": "2022-05-25T19:55:04.067173Z",
     "iopub.status.busy": "2022-05-25T19:55:04.066764Z",
     "iopub.status.idle": "2022-05-25T19:55:08.864580Z",
     "shell.execute_reply": "2022-05-25T19:55:08.863288Z"
    },
    "papermill": {
     "duration": 4.826174,
     "end_time": "2022-05-25T19:55:08.866671",
     "exception": false,
     "start_time": "2022-05-25T19:55:04.040497",
     "status": "completed"
    },
    "tags": []
   },
   "outputs": [
    {
     "name": "stdout",
     "output_type": "stream",
     "text": [
      "Train accuracy Score------------>\n",
      "94.444 %\n",
      "Val accuracy Score--------->\n",
      "83.333 %\n",
      "Test accuracy Score--------->\n",
      "94.444 %\n",
      "F1 Score--------------->\n",
      "94.221 %\n",
      "Cohen Kappa Score------------->\n",
      "69.663 %\n",
      "Recall-------------->\n",
      "94.444 %\n",
      "Precision-------------->\n",
      "94.150 %\n"
     ]
    },
    {
     "data": {
      "image/png": "[encoded data removed]",
      "text/plain": [
       "<Figure size 864x432 with 4 Axes>"
      ]
     },
     "metadata": {
      "needs_background": "light"
     },
     "output_type": "display_data"
    },
    {
     "name": "stdout",
     "output_type": "stream",
     "text": [
      "classification report\n",
      "              precision    recall  f1-score   support\n",
      "\n",
      "           0       0.92      0.89      0.90       109\n",
      "           1       0.40      0.47      0.43        17\n",
      "\n",
      "    accuracy                           0.83       126\n",
      "   macro avg       0.66      0.68      0.67       126\n",
      "weighted avg       0.85      0.83      0.84       126\n",
      "\n"
     ]
    }
   ],
   "source": [
    "fit_KNN_metrics(KNN, X_train_scaled, y_train, X_val_scaled, y_val, X_test_scaled, y_test)"
   ]
  }
 ],
 "metadata": {
  "kernelspec": {
   "display_name": "Python 3",
   "language": "python",
   "name": "python3"
  },
  "language_info": {
   "codemirror_mode": {
    "name": "ipython",
    "version": 3
   },
   "file_extension": ".py",
   "mimetype": "text/x-python",
   "name": "python",
   "nbconvert_exporter": "python",
   "pygments_lexer": "ipython3",
   "version": "3.7.12"
  },
  "papermill": {
   "default_parameters": {},
   "duration": 330.893058,
   "end_time": "2022-05-25T19:55:11.850138",
   "environment_variables": {},
   "exception": null,
   "input_path": "__notebook__.ipynb",
   "output_path": "__notebook__.ipynb",
   "parameters": {},
   "start_time": "2022-05-25T19:49:40.957080",
   "version": "2.3.4"
  }
 },
 "nbformat": 4,
 "nbformat_minor": 5
}
