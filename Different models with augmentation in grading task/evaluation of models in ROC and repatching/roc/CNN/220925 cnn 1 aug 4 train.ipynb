{
 "cells": [
  {
   "cell_type": "code",
   "execution_count": 1,
   "id": "532d9025",
   "metadata": {
    "_cell_guid": "b1076dfc-b9ad-4769-8c92-a6c4dae69d19",
    "_uuid": "8f2839f25d086af736a60e9eeb907d3b93b6e0e5",
    "execution": {
     "iopub.execute_input": "2022-09-24T23:23:36.032421Z",
     "iopub.status.busy": "2022-09-24T23:23:36.031933Z",
     "iopub.status.idle": "2022-09-24T23:23:48.747104Z",
     "shell.execute_reply": "2022-09-24T23:23:48.745995Z"
    },
    "papermill": {
     "duration": 12.730441,
     "end_time": "2022-09-24T23:23:48.749932",
     "exception": false,
     "start_time": "2022-09-24T23:23:36.019491",
     "status": "completed"
    },
    "tags": []
   },
   "outputs": [
    {
     "name": "stdout",
     "output_type": "stream",
     "text": [
      "Collecting Livelossplot\r\n",
      "  Downloading livelossplot-0.5.5-py3-none-any.whl (22 kB)\r\n",
      "Requirement already satisfied: ipython==7.* in /opt/conda/lib/python3.7/site-packages (from Livelossplot) (7.33.0)\r\n",
      "Requirement already satisfied: bokeh in /opt/conda/lib/python3.7/site-packages (from Livelossplot) (2.4.3)\r\n",
      "Requirement already satisfied: matplotlib in /opt/conda/lib/python3.7/site-packages (from Livelossplot) (3.5.2)\r\n",
      "Requirement already satisfied: numpy<1.22 in /opt/conda/lib/python3.7/site-packages (from Livelossplot) (1.21.6)\r\n",
      "Requirement already satisfied: pexpect>4.3 in /opt/conda/lib/python3.7/site-packages (from ipython==7.*->Livelossplot) (4.8.0)\r\n",
      "Requirement already satisfied: jedi>=0.16 in /opt/conda/lib/python3.7/site-packages (from ipython==7.*->Livelossplot) (0.18.1)\r\n",
      "Requirement already satisfied: backcall in /opt/conda/lib/python3.7/site-packages (from ipython==7.*->Livelossplot) (0.2.0)\r\n",
      "Requirement already satisfied: matplotlib-inline in /opt/conda/lib/python3.7/site-packages (from ipython==7.*->Livelossplot) (0.1.3)\r\n",
      "Requirement already satisfied: setuptools>=18.5 in /opt/conda/lib/python3.7/site-packages (from ipython==7.*->Livelossplot) (59.8.0)\r\n",
      "Requirement already satisfied: traitlets>=4.2 in /opt/conda/lib/python3.7/site-packages (from ipython==7.*->Livelossplot) (5.2.1.post0)\r\n",
      "Requirement already satisfied: prompt-toolkit!=3.0.0,!=3.0.1,<3.1.0,>=2.0.0 in /opt/conda/lib/python3.7/site-packages (from ipython==7.*->Livelossplot) (3.0.29)\r\n",
      "Requirement already satisfied: decorator in /opt/conda/lib/python3.7/site-packages (from ipython==7.*->Livelossplot) (5.1.1)\r\n",
      "Requirement already satisfied: pickleshare in /opt/conda/lib/python3.7/site-packages (from ipython==7.*->Livelossplot) (0.7.5)\r\n",
      "Requirement already satisfied: pygments in /opt/conda/lib/python3.7/site-packages (from ipython==7.*->Livelossplot) (2.12.0)\r\n",
      "Requirement already satisfied: packaging>=16.8 in /opt/conda/lib/python3.7/site-packages (from bokeh->Livelossplot) (21.3)\r\n",
      "Requirement already satisfied: typing-extensions>=3.10.0 in /opt/conda/lib/python3.7/site-packages (from bokeh->Livelossplot) (4.1.1)\r\n",
      "Requirement already satisfied: tornado>=5.1 in /opt/conda/lib/python3.7/site-packages (from bokeh->Livelossplot) (6.1)\r\n",
      "Requirement already satisfied: PyYAML>=3.10 in /opt/conda/lib/python3.7/site-packages (from bokeh->Livelossplot) (6.0)\r\n",
      "Requirement already satisfied: pillow>=7.1.0 in /opt/conda/lib/python3.7/site-packages (from bokeh->Livelossplot) (9.1.1)\r\n",
      "Requirement already satisfied: Jinja2>=2.9 in /opt/conda/lib/python3.7/site-packages (from bokeh->Livelossplot) (3.1.2)\r\n",
      "Requirement already satisfied: python-dateutil>=2.7 in /opt/conda/lib/python3.7/site-packages (from matplotlib->Livelossplot) (2.8.2)\r\n",
      "Requirement already satisfied: fonttools>=4.22.0 in /opt/conda/lib/python3.7/site-packages (from matplotlib->Livelossplot) (4.33.3)\r\n",
      "Requirement already satisfied: pyparsing>=2.2.1 in /opt/conda/lib/python3.7/site-packages (from matplotlib->Livelossplot) (3.0.9)\r\n",
      "Requirement already satisfied: cycler>=0.10 in /opt/conda/lib/python3.7/site-packages (from matplotlib->Livelossplot) (0.11.0)\r\n",
      "Requirement already satisfied: kiwisolver>=1.0.1 in /opt/conda/lib/python3.7/site-packages (from matplotlib->Livelossplot) (1.4.2)\r\n",
      "Requirement already satisfied: parso<0.9.0,>=0.8.0 in /opt/conda/lib/python3.7/site-packages (from jedi>=0.16->ipython==7.*->Livelossplot) (0.8.3)\r\n",
      "Requirement already satisfied: MarkupSafe>=2.0 in /opt/conda/lib/python3.7/site-packages (from Jinja2>=2.9->bokeh->Livelossplot) (2.0.1)\r\n",
      "Requirement already satisfied: ptyprocess>=0.5 in /opt/conda/lib/python3.7/site-packages (from pexpect>4.3->ipython==7.*->Livelossplot) (0.7.0)\r\n",
      "Requirement already satisfied: wcwidth in /opt/conda/lib/python3.7/site-packages (from prompt-toolkit!=3.0.0,!=3.0.1,<3.1.0,>=2.0.0->ipython==7.*->Livelossplot) (0.2.5)\r\n",
      "Requirement already satisfied: six>=1.5 in /opt/conda/lib/python3.7/site-packages (from python-dateutil>=2.7->matplotlib->Livelossplot) (1.16.0)\r\n",
      "Installing collected packages: Livelossplot\r\n",
      "Successfully installed Livelossplot-0.5.5\r\n",
      "\u001b[33mWARNING: Running pip as the 'root' user can result in broken permissions and conflicting behaviour with the system package manager. It is recommended to use a virtual environment instead: https://pip.pypa.io/warnings/venv\u001b[0m\u001b[33m\r\n",
      "\u001b[0m"
     ]
    }
   ],
   "source": [
    "# This Python 3 environment comes with many helpful analytics libraries installed\n",
    "# It is defined by the kaggle/python Docker image: https://github.com/kaggle/docker-python\n",
    "# For example, here's several helpful packages to load\n",
    "\n",
    "import numpy as np # linear algebra\n",
    "import pandas as pd # data processing, CSV file I/O (e.g. pd.read_csv)\n",
    "\n",
    "# Input data files are available in the read-only \"../input/\" directory\n",
    "# For example, running this (by clicking run or pressing Shift+Enter) will list all files under the input directory\n",
    "\n",
    "import os\n",
    "\n",
    "import warnings\n",
    "warnings.filterwarnings('ignore')\n",
    "%matplotlib inline\n",
    "!pip install Livelossplot\n",
    "from livelossplot import PlotLossesKeras\n",
    "\n",
    "from glob import glob\n",
    "import os\n",
    "import shutil\n",
    "\n",
    "import numpy as np\n",
    "import pandas as pd\n",
    "# You can write up to 20GB to the current directory (/kaggle/working/) that gets preserved as output when you create a version using \"Save & Run All\" \n",
    "# You can also write temporary files to /kaggle/temp/, but they won't be saved outside of the current session"
   ]
  },
  {
   "cell_type": "markdown",
   "id": "7593800c",
   "metadata": {
    "papermill": {
     "duration": 0.009359,
     "end_time": "2022-09-24T23:23:48.769387",
     "exception": false,
     "start_time": "2022-09-24T23:23:48.760028",
     "status": "completed"
    },
    "tags": []
   },
   "source": [
    "# AIM\n",
    "## To classify the images into \n",
    "### IDC+\n",
    "### IDC-\n",
    "\n",
    "# Validation Strategy:\n",
    "\n",
    "## Train Data Size= 0.7*Total_Data\n",
    "## Validation Data Size= 0.21* Total_Data\n",
    "## Test Data Size= 0.09 * Total_Data\n",
    "\n",
    "# Augmentaions Used:\n",
    "## Each Image is rotated through 45 angles\n"
   ]
  },
  {
   "cell_type": "code",
   "execution_count": 2,
   "id": "e5a87b50",
   "metadata": {
    "execution": {
     "iopub.execute_input": "2022-09-24T23:23:48.791045Z",
     "iopub.status.busy": "2022-09-24T23:23:48.790591Z",
     "iopub.status.idle": "2022-09-24T23:24:01.694660Z",
     "shell.execute_reply": "2022-09-24T23:24:01.693377Z"
    },
    "papermill": {
     "duration": 12.918289,
     "end_time": "2022-09-24T23:24:01.697441",
     "exception": false,
     "start_time": "2022-09-24T23:23:48.779152",
     "status": "completed"
    },
    "tags": []
   },
   "outputs": [
    {
     "data": {
      "text/html": [
       "<style type='text/css'>\n",
       ".datatable table.frame { margin-bottom: 0; }\n",
       ".datatable table.frame thead { border-bottom: none; }\n",
       ".datatable table.frame tr.coltypes td {  color: #FFFFFF;  line-height: 6px;  padding: 0 0.5em;}\n",
       ".datatable .bool    { background: #DDDD99; }\n",
       ".datatable .object  { background: #565656; }\n",
       ".datatable .int     { background: #5D9E5D; }\n",
       ".datatable .float   { background: #4040CC; }\n",
       ".datatable .str     { background: #CC4040; }\n",
       ".datatable .time    { background: #40CC40; }\n",
       ".datatable .row_index {  background: var(--jp-border-color3);  border-right: 1px solid var(--jp-border-color0);  color: var(--jp-ui-font-color3);  font-size: 9px;}\n",
       ".datatable .frame tbody td { text-align: left; }\n",
       ".datatable .frame tr.coltypes .row_index {  background: var(--jp-border-color0);}\n",
       ".datatable th:nth-child(2) { padding-left: 12px; }\n",
       ".datatable .hellipsis {  color: var(--jp-cell-editor-border-color);}\n",
       ".datatable .vellipsis {  background: var(--jp-layout-color0);  color: var(--jp-cell-editor-border-color);}\n",
       ".datatable .na {  color: var(--jp-cell-editor-border-color);  font-size: 80%;}\n",
       ".datatable .sp {  opacity: 0.25;}\n",
       ".datatable .footer { font-size: 9px; }\n",
       ".datatable .frame_dimensions {  background: var(--jp-border-color3);  border-top: 1px solid var(--jp-border-color0);  color: var(--jp-ui-font-color3);  display: inline-block;  opacity: 0.6;  padding: 1px 10px 1px 5px;}\n",
       "</style>\n"
      ],
      "text/plain": [
       "<IPython.core.display.HTML object>"
      ]
     },
     "metadata": {},
     "output_type": "display_data"
    },
    {
     "name": "stdout",
     "output_type": "stream",
     "text": [
      "All modules have been imported\n"
     ]
    }
   ],
   "source": [
    "\n",
    "import numpy as np\n",
    "import pandas as pd\n",
    "import cv2\n",
    "from PIL import Image\n",
    "import scipy\n",
    "\n",
    "import tensorflow as tf\n",
    "from tensorflow.keras.applications import *\n",
    "from tensorflow.keras.optimizers import *\n",
    "from tensorflow.keras.losses import *\n",
    "from tensorflow.keras.layers import *\n",
    "from tensorflow.keras.models import *\n",
    "from tensorflow.keras.callbacks import *\n",
    "from tensorflow.keras.preprocessing.image import *\n",
    "from tensorflow.keras.utils import *\n",
    "# import pydot\n",
    "\n",
    "from sklearn.metrics import *\n",
    "from sklearn.model_selection import *\n",
    "import tensorflow.keras.backend as K\n",
    "\n",
    "from tqdm import tqdm, tqdm_notebook\n",
    "from colorama import Fore\n",
    "import json\n",
    "import matplotlib.pyplot as plt\n",
    "import seaborn as sns\n",
    "from glob import glob\n",
    "from skimage.io import *\n",
    "%config Completer.use_jedi = False\n",
    "import time\n",
    "from sklearn.decomposition import PCA\n",
    "from sklearn.svm import LinearSVC\n",
    "from sklearn.linear_model import LogisticRegression\n",
    "from sklearn.metrics import accuracy_score\n",
    "import lightgbm as lgb\n",
    "import xgboost as xgb\n",
    "\n",
    "print(\"All modules have been imported\")"
   ]
  },
  {
   "cell_type": "code",
   "execution_count": 3,
   "id": "63e55a07",
   "metadata": {
    "execution": {
     "iopub.execute_input": "2022-09-24T23:24:01.719994Z",
     "iopub.status.busy": "2022-09-24T23:24:01.719591Z",
     "iopub.status.idle": "2022-09-24T23:24:01.724834Z",
     "shell.execute_reply": "2022-09-24T23:24:01.723612Z"
    },
    "papermill": {
     "duration": 0.019611,
     "end_time": "2022-09-24T23:24:01.727417",
     "exception": false,
     "start_time": "2022-09-24T23:24:01.707806",
     "status": "completed"
    },
    "tags": []
   },
   "outputs": [],
   "source": [
    "sampling_seed = 0\n",
    "size_4_training0 = 78786\n",
    "size_4_training1 = 78786\n",
    "img_size = 50\n",
    "training_reshape=(-1, img_size, img_size, 3)\n",
    "epoch_4_test = 50"
   ]
  },
  {
   "cell_type": "code",
   "execution_count": 4,
   "id": "03c8a7dd",
   "metadata": {
    "execution": {
     "iopub.execute_input": "2022-09-24T23:24:01.750368Z",
     "iopub.status.busy": "2022-09-24T23:24:01.749948Z",
     "iopub.status.idle": "2022-09-24T23:24:01.756475Z",
     "shell.execute_reply": "2022-09-24T23:24:01.755390Z"
    },
    "papermill": {
     "duration": 0.020478,
     "end_time": "2022-09-24T23:24:01.758872",
     "exception": false,
     "start_time": "2022-09-24T23:24:01.738394",
     "status": "completed"
    },
    "tags": []
   },
   "outputs": [],
   "source": [
    "import os\n",
    "os.makedirs('../working/data/train_seg/idc-minus/')     \n",
    "os.makedirs('../working/data/train_seg/idc-plus/')  \n",
    "os.makedirs('../working/data/test_seg/idc-minus/')     \n",
    "os.makedirs('../working/data/test_seg/idc-plus/')  \n",
    "os.makedirs('../working/data/val_seg/idc-minus/')     \n",
    "os.makedirs('../working/data/val_seg/idc-plus/') "
   ]
  },
  {
   "cell_type": "code",
   "execution_count": 5,
   "id": "382be447",
   "metadata": {
    "execution": {
     "iopub.execute_input": "2022-09-24T23:24:01.781605Z",
     "iopub.status.busy": "2022-09-24T23:24:01.781192Z",
     "iopub.status.idle": "2022-09-24T23:41:44.015612Z",
     "shell.execute_reply": "2022-09-24T23:41:44.011774Z"
    },
    "papermill": {
     "duration": 1062.256016,
     "end_time": "2022-09-24T23:41:44.025076",
     "exception": false,
     "start_time": "2022-09-24T23:24:01.769060",
     "status": "completed"
    },
    "tags": []
   },
   "outputs": [
    {
     "name": "stdout",
     "output_type": "stream",
     "text": [
      "['../input/breast-histopathology-images/IDC_regular_ps50_idx5/10295/0/10295_idx5_x1351_y1101_class0.png', '../input/breast-histopathology-images/IDC_regular_ps50_idx5/10295/0/10295_idx5_x1501_y501_class0.png', '../input/breast-histopathology-images/IDC_regular_ps50_idx5/10295/0/10295_idx5_x1501_y1101_class0.png', '../input/breast-histopathology-images/IDC_regular_ps50_idx5/10295/0/10295_idx5_x451_y901_class0.png', '../input/breast-histopathology-images/IDC_regular_ps50_idx5/10295/0/10295_idx5_x801_y451_class0.png', '../input/breast-histopathology-images/IDC_regular_ps50_idx5/10295/0/10295_idx5_x151_y1051_class0.png', '../input/breast-histopathology-images/IDC_regular_ps50_idx5/10295/0/10295_idx5_x1351_y901_class0.png', '../input/breast-histopathology-images/IDC_regular_ps50_idx5/10295/0/10295_idx5_x701_y651_class0.png', '../input/breast-histopathology-images/IDC_regular_ps50_idx5/10295/0/10295_idx5_x951_y1401_class0.png', '../input/breast-histopathology-images/IDC_regular_ps50_idx5/10295/0/10295_idx5_x601_y501_class0.png']\n",
      "55150\n",
      "7091\n",
      "16545\n",
      "55150\n",
      "7091\n",
      "16545\n"
     ]
    }
   ],
   "source": [
    "\n",
    "import random\n",
    "from glob import glob\n",
    "imagePatches = glob('../input/breast-histopathology-images/IDC_regular_ps50_idx5/**/*.png', recursive=True)\n",
    "train_dir='../working/data/train_seg/'\n",
    "validation_dir='../working/data/val_seg/'\n",
    "#train_dir='../working/data/train_seg/'  \n",
    "#test_dir = '../working/data/test_seg/normal'  \n",
    "test_dir = '../working/data/test_seg/'  \n",
    "\n",
    "class0 = [] # 0 = idc+\n",
    "class1 = [] # 1 = idc-\n",
    "imagePatches = glob('../input/breast-histopathology-images/IDC_regular_ps50_idx5/**/*.png', recursive=True)\n",
    "for filename in imagePatches:\n",
    "    if filename.endswith(\"class0.png\"):\n",
    "         class0.append(filename)\n",
    "    else:\n",
    "        class1.append(filename)\n",
    "\n",
    "print(class0[0:10])\n",
    "\n",
    "#sampling 10000 images from class 0 and class 1 to train the model\n",
    "\n",
    "random.seed(sampling_seed)\n",
    "class0sample=random.sample(class0,size_4_training0)\n",
    "class0label=np.zeros(size_4_training0)\n",
    "class1sample=random.sample(class1,size_4_training1)\n",
    "class1label=np.ones(size_4_training1)\n",
    "\n",
    "class0sample_train, class0sample_test1, class0label_train, class0label_test1 = train_test_split(class0sample, class0label, test_size=0.3, random_state=42)\n",
    "class0sample_val, class0sample_test,  class0label_val, class0label_test = train_test_split(class0sample_test1, class0label_test1, test_size=0.3, random_state=42)\n",
    "print(len(class0sample_train))\n",
    "print(len(class0sample_test))\n",
    "print(len(class0sample_val))\n",
    "class1sample_train, class1sample_test1, class1label_train, class1label_test1 = train_test_split(class1sample, class1label, test_size=0.3, random_state=42)\n",
    "class1sample_val, class1sample_test, class1label_val, class1label_test = train_test_split(class1sample_test1, class1label_test1, test_size=0.3, random_state=42)\n",
    "print(len(class1sample_train))\n",
    "print(len(class1sample_test))\n",
    "print(len(class1sample_val))\n",
    "def read_and_save_data(path, file_name_array):\n",
    "    j=0\n",
    "    for i in file_name_array:\n",
    "        if i.endswith('.png'):\n",
    "          \n",
    "            \n",
    "            #second copy method\n",
    "            head, tail = os.path.split(i)\n",
    "            outputname=str(path+tail)\n",
    "            #outputname=str(path+str(j)+'.png')\n",
    "            #print(outputname)\n",
    "\n",
    "            shutil.copy(i, outputname)\n",
    "             \n",
    "            #print(status2)\n",
    "            \n",
    "            j=j+1\n",
    "            if j==120000:\n",
    "                break\n",
    "            \n",
    "   \n",
    "class0train_path='../working/data/train_seg/idc-minus/'\n",
    "class1train_path='../working/data/train_seg/idc-plus/'\n",
    "class0test_path='../working/data/test_seg/idc-minus/'\n",
    "class1test_path='../working/data/test_seg/idc-plus/'\n",
    "class0val_path='../working/data/val_seg/idc-minus/'\n",
    "class1val_path='../working/data/val_seg/idc-plus/'\n",
    "\n",
    "read_and_save_data(class0train_path,class0sample_train)\n",
    "read_and_save_data(class1train_path,class1sample_train)\n",
    "\n",
    "\n",
    "read_and_save_data(class0test_path,class0sample_test)\n",
    "read_and_save_data(class1test_path,class1sample_test)\n",
    "\n",
    "\n",
    "read_and_save_data(class0val_path,class0sample_val)\n",
    "read_and_save_data(class1val_path,class1sample_val)"
   ]
  },
  {
   "cell_type": "code",
   "execution_count": 6,
   "id": "85f09981",
   "metadata": {
    "execution": {
     "iopub.execute_input": "2022-09-24T23:41:44.059632Z",
     "iopub.status.busy": "2022-09-24T23:41:44.058542Z",
     "iopub.status.idle": "2022-09-24T23:42:13.211860Z",
     "shell.execute_reply": "2022-09-24T23:42:13.210589Z"
    },
    "papermill": {
     "duration": 29.172155,
     "end_time": "2022-09-24T23:42:13.214583",
     "exception": false,
     "start_time": "2022-09-24T23:41:44.042428",
     "status": "completed"
    },
    "tags": []
   },
   "outputs": [
    {
     "name": "stdout",
     "output_type": "stream",
     "text": [
      "(110300, 50, 50, 3)\n",
      "(14182, 50, 50, 3)\n",
      "(33090, 50, 50, 3)\n"
     ]
    }
   ],
   "source": [
    "\n",
    "\n",
    "\n",
    "import os #Operating System\n",
    "import sys #System\n",
    "import cv2\n",
    "def readImage(path, tag):\n",
    "    j=0\n",
    "    image_data = []\n",
    "    label=[]\n",
    "    for i in os.listdir(path):\n",
    "        imgname=path+i\n",
    "        #print(imgname)\n",
    "        img = cv2.imread(imgname, cv2.IMREAD_COLOR)\n",
    "        img_resized = cv2.resize(img, (img_size,img_size), interpolation=cv2.INTER_LINEAR)\n",
    "        image_data.append(img_resized)\n",
    "        label.append(tag)\n",
    "        #print(img[1])\n",
    "        j=j+1\n",
    "        #if j==10:\n",
    "        #    break\n",
    "        \n",
    "    return image_data, label\n",
    "\n",
    "import numpy as np\n",
    "from tensorflow.keras.utils import *\n",
    "from sklearn.utils import shuffle\n",
    "\n",
    "class0_train, train0_label = readImage(class0train_path, 0)\n",
    "class1_train, train1_label  = readImage(class1train_path, 1)\n",
    "class0_test, test0_label = readImage(class0test_path, 0)\n",
    "class1_test, test1_label = readImage(class1test_path, 1)\n",
    "class0_val, val0_label = readImage(class0val_path, 0)\n",
    "class1_val, val1_label = readImage(class1val_path, 1)\n",
    "\n",
    "def Image_array_process(class0array,label0, class1array, label1):\n",
    "    class0_array=np.array(class0array)\n",
    "    class1_array=np.array(class1array)\n",
    "    combined_data = np.concatenate((class0_array, class1_array))\n",
    "    combined_label= np.concatenate((label0,label1), axis=0)\n",
    "    assert len(combined_data) == len(combined_label)\n",
    "    combined_data, combined_label = shuffle(combined_data, combined_label, random_state=0)\n",
    "    print(combined_data.shape)\n",
    "    length=len(combined_data)\n",
    "    combined_label=to_categorical(combined_label,num_classes=2)\n",
    "    #i=0\n",
    "    #for i in range(length):\n",
    "    #    print(combined_label[i])\n",
    "\n",
    "    #print\n",
    "\n",
    "    #print(class0_array.shape)\n",
    "    #print(combined_data.shape)\n",
    "    '''\n",
    "    training_reshape=(224,224,3)\n",
    "    length=len(combined_data)\n",
    "    print(length)\n",
    "    x =[None]*length\n",
    "    #print(img_data.type)\n",
    "    y =np.zeros(length)\n",
    "    i=0\n",
    "   \n",
    "    for features,label in combined_data:\n",
    "        x[i]=features\n",
    "        #print(x.shape)\n",
    "        y[i]=label\n",
    "        #print(y[i])\n",
    "        i=i+1\n",
    "    \n",
    "            #x = np.array(x).reshape(training_reshape)\n",
    "    x = np.array(x)    \n",
    "    #print(x.shape)\n",
    "    #y=np.array(y)\n",
    "    y=y.astype(int)\n",
    "    y = to_categorical(y)\n",
    "    print(y)\n",
    "    '''  \n",
    "    return combined_data, combined_label\n",
    "\n",
    "\n",
    "X_train, y_train=Image_array_process(class0_train, train0_label, class1_train, train1_label)\n",
    "X_test, y_test=Image_array_process(class0_test, test0_label, class1_test, test1_label)\n",
    "X_val, y_val=Image_array_process(class0_val, val0_label, class1_val, val1_label)"
   ]
  },
  {
   "cell_type": "markdown",
   "id": "d62f3af7",
   "metadata": {
    "papermill": {
     "duration": 0.009741,
     "end_time": "2022-09-24T23:42:13.234497",
     "exception": false,
     "start_time": "2022-09-24T23:42:13.224756",
     "status": "completed"
    },
    "tags": []
   },
   "source": [
    "Image labelling"
   ]
  },
  {
   "cell_type": "code",
   "execution_count": 7,
   "id": "a666b53e",
   "metadata": {
    "execution": {
     "iopub.execute_input": "2022-09-24T23:42:13.257340Z",
     "iopub.status.busy": "2022-09-24T23:42:13.256873Z",
     "iopub.status.idle": "2022-09-24T23:42:13.262739Z",
     "shell.execute_reply": "2022-09-24T23:42:13.261606Z"
    },
    "papermill": {
     "duration": 0.020819,
     "end_time": "2022-09-24T23:42:13.265366",
     "exception": false,
     "start_time": "2022-09-24T23:42:13.244547",
     "status": "completed"
    },
    "tags": []
   },
   "outputs": [],
   "source": [
    "train_data=X_train\n",
    "train_label=y_train\n",
    "\n",
    "test_data=X_test\n",
    "test_label=y_test\n",
    "\n",
    "val_data=X_val\n",
    "val_label=y_val"
   ]
  },
  {
   "cell_type": "markdown",
   "id": "4796a828",
   "metadata": {
    "papermill": {
     "duration": 0.010231,
     "end_time": "2022-09-24T23:42:13.285952",
     "exception": false,
     "start_time": "2022-09-24T23:42:13.275721",
     "status": "completed"
    },
    "tags": []
   },
   "source": []
  },
  {
   "cell_type": "markdown",
   "id": "039751e9",
   "metadata": {
    "papermill": {
     "duration": 0.009966,
     "end_time": "2022-09-24T23:42:13.306435",
     "exception": false,
     "start_time": "2022-09-24T23:42:13.296469",
     "status": "completed"
    },
    "tags": []
   },
   "source": [
    "#import image"
   ]
  },
  {
   "cell_type": "code",
   "execution_count": null,
   "id": "50982b5c",
   "metadata": {
    "papermill": {
     "duration": 0.010055,
     "end_time": "2022-09-24T23:42:13.326769",
     "exception": false,
     "start_time": "2022-09-24T23:42:13.316714",
     "status": "completed"
    },
    "tags": []
   },
   "outputs": [],
   "source": []
  },
  {
   "cell_type": "code",
   "execution_count": null,
   "id": "81dc7625",
   "metadata": {
    "papermill": {
     "duration": 0.010584,
     "end_time": "2022-09-24T23:42:13.347953",
     "exception": false,
     "start_time": "2022-09-24T23:42:13.337369",
     "status": "completed"
    },
    "tags": []
   },
   "outputs": [],
   "source": []
  },
  {
   "cell_type": "code",
   "execution_count": 8,
   "id": "12d29cef",
   "metadata": {
    "execution": {
     "iopub.execute_input": "2022-09-24T23:42:13.371160Z",
     "iopub.status.busy": "2022-09-24T23:42:13.370762Z",
     "iopub.status.idle": "2022-09-24T23:42:14.999027Z",
     "shell.execute_reply": "2022-09-24T23:42:14.998145Z"
    },
    "papermill": {
     "duration": 1.643498,
     "end_time": "2022-09-24T23:42:15.001659",
     "exception": false,
     "start_time": "2022-09-24T23:42:13.358161",
     "status": "completed"
    },
    "tags": []
   },
   "outputs": [],
   "source": [
    "from keras.preprocessing.image import ImageDataGenerator\n",
    "from keras.callbacks import ModelCheckpoint\n",
    "from keras.models import load_model\n",
    "from keras.callbacks import *\n",
    "\n",
    "\n",
    "#train_datagen2 = ImageDataGenerator(rescale = 1/255)\n",
    "\n",
    "train_datagen = ImageDataGenerator(rescale = 1.0/255,\n",
    "                                  width_shift_range = 0.1,\n",
    "                                  height_shift_range = 0.1,\n",
    "                                  fill_mode = 'constant',\n",
    "                                  zoom_range = 0.1,\n",
    "                                  rotation_range = 20\n",
    "                                  )\n",
    "\n",
    "val_datagen = ImageDataGenerator(rescale = 1.0/255)\n",
    "val2_datagen = ImageDataGenerator(rescale = 1.0/255)\n",
    "\n",
    "train_generator = train_datagen.flow(train_data,\n",
    "                                     train_label, \n",
    "                                     #batch_size = 16, \n",
    "                                     shuffle = False\n",
    "                                    )\n",
    "\n",
    "val_generator = val_datagen.flow(test_data,\n",
    "                                 test_label,\n",
    "                                 #batch_size = 16,\n",
    "                                 shuffle = False\n",
    "                                )\n",
    "val2_generator = val_datagen.flow(val_data,\n",
    "                                 val_label,\n",
    "                                 #batch_size = 16,\n",
    "                                 shuffle = False\n",
    "                                 )"
   ]
  },
  {
   "cell_type": "markdown",
   "id": "83df3fdb",
   "metadata": {
    "papermill": {
     "duration": 0.009992,
     "end_time": "2022-09-24T23:42:15.021905",
     "exception": false,
     "start_time": "2022-09-24T23:42:15.011913",
     "status": "completed"
    },
    "tags": []
   },
   "source": [
    "# Model configure"
   ]
  },
  {
   "cell_type": "code",
   "execution_count": 9,
   "id": "13f32a6b",
   "metadata": {
    "execution": {
     "iopub.execute_input": "2022-09-24T23:42:15.045159Z",
     "iopub.status.busy": "2022-09-24T23:42:15.044465Z",
     "iopub.status.idle": "2022-09-24T23:42:15.506726Z",
     "shell.execute_reply": "2022-09-24T23:42:15.505835Z"
    },
    "papermill": {
     "duration": 0.477236,
     "end_time": "2022-09-24T23:42:15.509315",
     "exception": false,
     "start_time": "2022-09-24T23:42:15.032079",
     "status": "completed"
    },
    "tags": []
   },
   "outputs": [
    {
     "name": "stderr",
     "output_type": "stream",
     "text": [
      "2022-09-24 23:42:15.168338: I tensorflow/core/common_runtime/process_util.cc:146] Creating new thread pool with default inter op setting: 2. Tune using inter_op_parallelism_threads for best performance.\n"
     ]
    },
    {
     "name": "stdout",
     "output_type": "stream",
     "text": [
      "Model: \"sequential\"\n",
      "_________________________________________________________________\n",
      "Layer (type)                 Output Shape              Param #   \n",
      "=================================================================\n",
      "conv2d (Conv2D)              (None, 48, 48, 32)        896       \n",
      "_________________________________________________________________\n",
      "conv2d_1 (Conv2D)            (None, 46, 46, 32)        9248      \n",
      "_________________________________________________________________\n",
      "conv2d_2 (Conv2D)            (None, 44, 44, 32)        9248      \n",
      "_________________________________________________________________\n",
      "max_pooling2d (MaxPooling2D) (None, 22, 22, 32)        0         \n",
      "_________________________________________________________________\n",
      "dropout (Dropout)            (None, 22, 22, 32)        0         \n",
      "_________________________________________________________________\n",
      "conv2d_3 (Conv2D)            (None, 20, 20, 64)        18496     \n",
      "_________________________________________________________________\n",
      "conv2d_4 (Conv2D)            (None, 18, 18, 64)        36928     \n",
      "_________________________________________________________________\n",
      "conv2d_5 (Conv2D)            (None, 16, 16, 64)        36928     \n",
      "_________________________________________________________________\n",
      "max_pooling2d_1 (MaxPooling2 (None, 8, 8, 64)          0         \n",
      "_________________________________________________________________\n",
      "dropout_1 (Dropout)          (None, 8, 8, 64)          0         \n",
      "_________________________________________________________________\n",
      "conv2d_6 (Conv2D)            (None, 6, 6, 128)         73856     \n",
      "_________________________________________________________________\n",
      "conv2d_7 (Conv2D)            (None, 4, 4, 128)         147584    \n",
      "_________________________________________________________________\n",
      "conv2d_8 (Conv2D)            (None, 2, 2, 128)         147584    \n",
      "_________________________________________________________________\n",
      "max_pooling2d_2 (MaxPooling2 (None, 1, 1, 128)         0         \n",
      "_________________________________________________________________\n",
      "dropout_2 (Dropout)          (None, 1, 1, 128)         0         \n",
      "_________________________________________________________________\n",
      "flatten (Flatten)            (None, 128)               0         \n",
      "_________________________________________________________________\n",
      "dense (Dense)                (None, 256)               33024     \n",
      "_________________________________________________________________\n",
      "dropout_3 (Dropout)          (None, 256)               0         \n",
      "_________________________________________________________________\n",
      "dense_1 (Dense)              (None, 2)                 514       \n",
      "=================================================================\n",
      "Total params: 514,306\n",
      "Trainable params: 514,306\n",
      "Non-trainable params: 0\n",
      "_________________________________________________________________\n"
     ]
    }
   ],
   "source": [
    "from keras.models import Sequential\n",
    "\n",
    "\n",
    "kernel_size = (3,3)\n",
    "pool_size= (2,2)\n",
    "first_filters = 32\n",
    "second_filters = 64\n",
    "third_filters = 128\n",
    "\n",
    "dropout_conv = 0.3\n",
    "dropout_dense = 0.3\n",
    "\n",
    "RESNET50_POOLING_AVERAGE = 'avg'\n",
    "DENSE_LAYER_ACTIVATION = 'sigmoid'\n",
    "OBJECTIVE_FUNCTION = 'categorical_crossentropy'\n",
    "\n",
    "# Common accuracy metric for all outputs, but can use different metrics for different output\n",
    "LOSS_METRICS = ['accuracy']\n",
    "\n",
    "# EARLY_STOP_PATIENCE must be < NUM_EPOCHS\n",
    "NUM_EPOCHS = 30\n",
    "EARLY_STOP_PATIENCE = 10\n",
    "#resnet_weights_path = '../input/resnet50/resnet50_weights_tf_dim_ordering_tf_kernels_notop.h5'\n",
    "\n",
    "\n",
    "# fix pretrained layers for deep fea\n",
    "RESNET50_POOLING_AVERAGE = 'avg'\n",
    "DENSE_LAYER_ACTIVATION = 'sigmoid'\n",
    "OBJECTIVE_FUNCTION = 'categorical_crossentropy'\n",
    "\n",
    "# Common accuracy metric for all outputs, but can use different metrics for different output\n",
    "LOSS_METRICS = ['accuracy']\n",
    "\n",
    "#from keras.applications import resnet\n",
    "#base_model=resnet.ResNet50(include_top = True, input_shape=(img_size, img_size, 3), pooling = RESNET50_POOLING_AVERAGE, weights = 'imagenet')\n",
    "#from tensorflow.keras.applications.mobilenet import MobileNet\n",
    "#base_model.trainable = True\n",
    "#model=Sequential()\n",
    "\n",
    "\n",
    "\n",
    "model = Sequential()\n",
    "model.add(Conv2D(first_filters, kernel_size, activation = 'relu', \n",
    "                 input_shape = (img_size, img_size, 3)))\n",
    "model.add(Conv2D(first_filters, kernel_size, activation = 'relu'))\n",
    "model.add(Conv2D(first_filters, kernel_size, activation = 'relu'))\n",
    "model.add(MaxPooling2D(pool_size = pool_size)) \n",
    "model.add(Dropout(dropout_conv))\n",
    "\n",
    "model.add(Conv2D(second_filters, kernel_size, activation ='relu'))\n",
    "model.add(Conv2D(second_filters, kernel_size, activation ='relu'))\n",
    "model.add(Conv2D(second_filters, kernel_size, activation ='relu'))\n",
    "model.add(MaxPooling2D(pool_size = pool_size))\n",
    "model.add(Dropout(dropout_conv))\n",
    "\n",
    "model.add(Conv2D(third_filters, kernel_size, activation ='relu'))\n",
    "model.add(Conv2D(third_filters, kernel_size, activation ='relu'))\n",
    "model.add(Conv2D(third_filters, kernel_size, activation ='relu'))\n",
    "model.add(MaxPooling2D(pool_size = pool_size))\n",
    "model.add(Dropout(dropout_conv))\n",
    "\n",
    "model.add(Flatten())\n",
    "model.add(Dense(256, activation = \"relu\"))\n",
    "model.add(Dropout(dropout_dense))\n",
    "model.add(Dense(2, activation = \"softmax\"))\n",
    "\n",
    "model.summary()\n",
    "\n"
   ]
  },
  {
   "cell_type": "code",
   "execution_count": 10,
   "id": "ad9dc6cc",
   "metadata": {
    "execution": {
     "iopub.execute_input": "2022-09-24T23:42:15.532302Z",
     "iopub.status.busy": "2022-09-24T23:42:15.531499Z",
     "iopub.status.idle": "2022-09-24T23:42:17.045474Z",
     "shell.execute_reply": "2022-09-24T23:42:17.044367Z"
    },
    "papermill": {
     "duration": 1.531388,
     "end_time": "2022-09-24T23:42:17.051039",
     "exception": false,
     "start_time": "2022-09-24T23:42:15.519651",
     "status": "completed"
    },
    "tags": []
   },
   "outputs": [
    {
     "data": {
      "image/png": "[encoded data removed]",
      "text/plain": [
       "<IPython.core.display.Image object>"
      ]
     },
     "execution_count": 10,
     "metadata": {},
     "output_type": "execute_result"
    }
   ],
   "source": [
    "from tensorflow.keras.utils import plot_model\n",
    "from IPython.display import Image\n",
    "plot_model(model, to_file='convnet.png', show_shapes=True, show_layer_names=True)\n",
    "Image(filename='convnet.png') "
   ]
  },
  {
   "cell_type": "code",
   "execution_count": 11,
   "id": "8a1425fe",
   "metadata": {
    "execution": {
     "iopub.execute_input": "2022-09-24T23:42:17.082947Z",
     "iopub.status.busy": "2022-09-24T23:42:17.082471Z",
     "iopub.status.idle": "2022-09-24T23:42:17.088479Z",
     "shell.execute_reply": "2022-09-24T23:42:17.087516Z"
    },
    "papermill": {
     "duration": 0.024905,
     "end_time": "2022-09-24T23:42:17.090997",
     "exception": false,
     "start_time": "2022-09-24T23:42:17.066092",
     "status": "completed"
    },
    "tags": []
   },
   "outputs": [],
   "source": [
    "# os.makedirs('../working/log/')\n",
    "MODEL_INIT = '../working/init_model.h5'\n",
    "MODEL_PATH = '/kaggle/input/cnn1aug1lr3rdtrain/220630 new roc CNN 1 aug 78786train 50ep 3rd train.h5'"
   ]
  },
  {
   "cell_type": "code",
   "execution_count": 12,
   "id": "938a67e6",
   "metadata": {
    "execution": {
     "iopub.execute_input": "2022-09-24T23:42:17.120745Z",
     "iopub.status.busy": "2022-09-24T23:42:17.119779Z",
     "iopub.status.idle": "2022-09-24T23:42:17.246743Z",
     "shell.execute_reply": "2022-09-24T23:42:17.245683Z"
    },
    "papermill": {
     "duration": 0.14482,
     "end_time": "2022-09-24T23:42:17.249651",
     "exception": false,
     "start_time": "2022-09-24T23:42:17.104831",
     "status": "completed"
    },
    "tags": []
   },
   "outputs": [],
   "source": [
    "callbacks1 = [EarlyStopping(monitor='val_acc', patience=5, verbose=1), ModelCheckpoint(MODEL_INIT, monitor='val_accuracy', save_best_only=True)]\n",
    "opt = Adam(learning_rate=0.0001)\n",
    "model.compile(loss='categorical_crossentropy', optimizer=opt, metrics=['accuracy'])\n",
    "model.load_weights(MODEL_PATH)"
   ]
  },
  {
   "cell_type": "code",
   "execution_count": 13,
   "id": "4a665db9",
   "metadata": {
    "execution": {
     "iopub.execute_input": "2022-09-24T23:42:17.279396Z",
     "iopub.status.busy": "2022-09-24T23:42:17.278192Z",
     "iopub.status.idle": "2022-09-25T09:49:41.608232Z",
     "shell.execute_reply": "2022-09-25T09:49:41.605242Z"
    },
    "papermill": {
     "duration": 36444.34894,
     "end_time": "2022-09-25T09:49:41.612113",
     "exception": false,
     "start_time": "2022-09-24T23:42:17.263173",
     "status": "completed"
    },
    "tags": []
   },
   "outputs": [
    {
     "name": "stdout",
     "output_type": "stream",
     "text": [
      "CPU times: user 3 µs, sys: 3 µs, total: 6 µs\n",
      "Wall time: 23.8 µs\n"
     ]
    },
    {
     "name": "stderr",
     "output_type": "stream",
     "text": [
      "2022-09-24 23:42:17.491134: I tensorflow/compiler/mlir/mlir_graph_optimization_pass.cc:185] None of the MLIR Optimization Passes are enabled (registered 2)\n"
     ]
    },
    {
     "name": "stdout",
     "output_type": "stream",
     "text": [
      "Epoch 1/50\n",
      "3447/3447 [==============================] - 679s 196ms/step - loss: 0.2473 - accuracy: 0.8995 - val_loss: 0.2864 - val_accuracy: 0.8813\n",
      "Epoch 2/50\n",
      "3447/3447 [==============================] - 679s 197ms/step - loss: 0.2457 - accuracy: 0.8990 - val_loss: 0.2812 - val_accuracy: 0.8834\n",
      "Epoch 3/50\n",
      "3447/3447 [==============================] - 679s 197ms/step - loss: 0.2452 - accuracy: 0.8995 - val_loss: 0.2920 - val_accuracy: 0.8770\n",
      "Epoch 4/50\n",
      "3447/3447 [==============================] - 678s 197ms/step - loss: 0.2461 - accuracy: 0.8990 - val_loss: 0.2907 - val_accuracy: 0.8798\n",
      "Epoch 5/50\n",
      "3447/3447 [==============================] - 687s 199ms/step - loss: 0.2445 - accuracy: 0.8996 - val_loss: 0.3179 - val_accuracy: 0.8679\n",
      "Epoch 6/50\n",
      "3447/3447 [==============================] - 685s 199ms/step - loss: 0.2449 - accuracy: 0.9004 - val_loss: 0.2966 - val_accuracy: 0.8793\n",
      "Epoch 7/50\n",
      "3447/3447 [==============================] - 692s 201ms/step - loss: 0.2445 - accuracy: 0.9007 - val_loss: 0.2846 - val_accuracy: 0.8808\n",
      "Epoch 8/50\n",
      "3447/3447 [==============================] - 696s 202ms/step - loss: 0.2452 - accuracy: 0.8993 - val_loss: 0.2832 - val_accuracy: 0.8818\n",
      "Epoch 9/50\n",
      "3447/3447 [==============================] - 699s 203ms/step - loss: 0.2433 - accuracy: 0.9001 - val_loss: 0.3031 - val_accuracy: 0.8678\n",
      "Epoch 10/50\n",
      "3447/3447 [==============================] - 699s 203ms/step - loss: 0.2427 - accuracy: 0.9000 - val_loss: 0.2853 - val_accuracy: 0.8839\n",
      "Epoch 11/50\n",
      "3447/3447 [==============================] - 700s 203ms/step - loss: 0.2437 - accuracy: 0.9005 - val_loss: 0.3217 - val_accuracy: 0.8598\n",
      "Epoch 12/50\n",
      "3447/3447 [==============================] - 702s 204ms/step - loss: 0.2421 - accuracy: 0.9003 - val_loss: 0.2990 - val_accuracy: 0.8829\n",
      "Epoch 13/50\n",
      "3447/3447 [==============================] - 690s 200ms/step - loss: 0.2402 - accuracy: 0.9012 - val_loss: 0.2984 - val_accuracy: 0.8737\n",
      "Epoch 14/50\n",
      "3447/3447 [==============================] - 692s 201ms/step - loss: 0.2419 - accuracy: 0.9009 - val_loss: 0.2977 - val_accuracy: 0.8779\n",
      "Epoch 15/50\n",
      "3447/3447 [==============================] - 693s 201ms/step - loss: 0.2416 - accuracy: 0.9017 - val_loss: 0.2914 - val_accuracy: 0.8782\n",
      "Epoch 16/50\n",
      "3447/3447 [==============================] - 694s 201ms/step - loss: 0.2426 - accuracy: 0.9002 - val_loss: 0.3104 - val_accuracy: 0.8672\n",
      "Epoch 17/50\n",
      "3447/3447 [==============================] - 695s 202ms/step - loss: 0.2396 - accuracy: 0.9021 - val_loss: 0.3055 - val_accuracy: 0.8775\n",
      "Epoch 18/50\n",
      "3447/3447 [==============================] - 698s 202ms/step - loss: 0.2396 - accuracy: 0.9027 - val_loss: 0.3068 - val_accuracy: 0.8789\n",
      "Epoch 19/50\n",
      "3447/3447 [==============================] - 699s 203ms/step - loss: 0.2394 - accuracy: 0.9025 - val_loss: 0.2892 - val_accuracy: 0.8836\n",
      "Epoch 20/50\n",
      "3447/3447 [==============================] - 700s 203ms/step - loss: 0.2396 - accuracy: 0.9029 - val_loss: 0.2863 - val_accuracy: 0.8820\n",
      "Epoch 21/50\n",
      "3447/3447 [==============================] - 700s 203ms/step - loss: 0.2398 - accuracy: 0.9017 - val_loss: 0.2955 - val_accuracy: 0.8810\n",
      "Epoch 22/50\n",
      "3447/3447 [==============================] - 703s 204ms/step - loss: 0.2424 - accuracy: 0.9006 - val_loss: 0.3084 - val_accuracy: 0.8691\n",
      "Epoch 23/50\n",
      "3447/3447 [==============================] - 712s 207ms/step - loss: 0.2377 - accuracy: 0.9021 - val_loss: 0.2956 - val_accuracy: 0.8755\n",
      "Epoch 24/50\n",
      "3447/3447 [==============================] - 692s 201ms/step - loss: 0.2383 - accuracy: 0.9020 - val_loss: 0.2887 - val_accuracy: 0.8805\n",
      "Epoch 25/50\n",
      "3447/3447 [==============================] - 693s 201ms/step - loss: 0.2381 - accuracy: 0.9019 - val_loss: 0.2958 - val_accuracy: 0.8746\n",
      "Epoch 26/50\n",
      "3447/3447 [==============================] - 694s 201ms/step - loss: 0.2376 - accuracy: 0.9024 - val_loss: 0.2906 - val_accuracy: 0.8798\n",
      "Epoch 27/50\n",
      "3447/3447 [==============================] - 695s 202ms/step - loss: 0.2372 - accuracy: 0.9031 - val_loss: 0.2935 - val_accuracy: 0.8773\n",
      "Epoch 28/50\n",
      "3447/3447 [==============================] - 696s 202ms/step - loss: 0.2365 - accuracy: 0.9042 - val_loss: 0.2949 - val_accuracy: 0.8788\n",
      "Epoch 29/50\n",
      "3447/3447 [==============================] - 697s 202ms/step - loss: 0.2363 - accuracy: 0.9037 - val_loss: 0.3093 - val_accuracy: 0.8731\n",
      "Epoch 30/50\n",
      "3447/3447 [==============================] - 698s 203ms/step - loss: 0.2362 - accuracy: 0.9032 - val_loss: 0.2891 - val_accuracy: 0.8820\n",
      "Epoch 31/50\n",
      "3447/3447 [==============================] - 694s 201ms/step - loss: 0.2370 - accuracy: 0.9031 - val_loss: 0.3101 - val_accuracy: 0.8764\n",
      "Epoch 32/50\n",
      "3447/3447 [==============================] - 694s 201ms/step - loss: 0.2362 - accuracy: 0.9026 - val_loss: 0.3087 - val_accuracy: 0.8714\n",
      "Epoch 33/50\n",
      "3447/3447 [==============================] - 699s 203ms/step - loss: 0.2346 - accuracy: 0.9042 - val_loss: 0.2880 - val_accuracy: 0.8780\n",
      "Epoch 34/50\n",
      "3447/3447 [==============================] - 698s 202ms/step - loss: 0.2352 - accuracy: 0.9041 - val_loss: 0.2954 - val_accuracy: 0.8791\n",
      "Epoch 35/50\n",
      "3447/3447 [==============================] - 700s 203ms/step - loss: 0.2351 - accuracy: 0.9042 - val_loss: 0.2947 - val_accuracy: 0.8789\n",
      "Epoch 36/50\n",
      "3447/3447 [==============================] - 701s 203ms/step - loss: 0.2338 - accuracy: 0.9048 - val_loss: 0.2906 - val_accuracy: 0.8861\n",
      "Epoch 37/50\n",
      "3447/3447 [==============================] - 700s 203ms/step - loss: 0.2339 - accuracy: 0.9038 - val_loss: 0.3075 - val_accuracy: 0.8797\n",
      "Epoch 38/50\n",
      "3447/3447 [==============================] - 702s 204ms/step - loss: 0.2347 - accuracy: 0.9039 - val_loss: 0.3119 - val_accuracy: 0.8798\n",
      "Epoch 39/50\n",
      "3447/3447 [==============================] - 703s 204ms/step - loss: 0.2335 - accuracy: 0.9042 - val_loss: 0.2975 - val_accuracy: 0.8772\n",
      "Epoch 40/50\n",
      "3447/3447 [==============================] - 705s 204ms/step - loss: 0.2337 - accuracy: 0.9045 - val_loss: 0.2932 - val_accuracy: 0.8786\n",
      "Epoch 41/50\n",
      "3447/3447 [==============================] - 707s 205ms/step - loss: 0.2328 - accuracy: 0.9052 - val_loss: 0.3338 - val_accuracy: 0.8608\n",
      "Epoch 42/50\n",
      "3447/3447 [==============================] - 704s 204ms/step - loss: 0.2346 - accuracy: 0.9040 - val_loss: 0.3001 - val_accuracy: 0.8777\n",
      "Epoch 43/50\n",
      "3447/3447 [==============================] - 705s 204ms/step - loss: 0.2331 - accuracy: 0.9050 - val_loss: 0.2954 - val_accuracy: 0.8827\n",
      "Epoch 44/50\n",
      "3447/3447 [==============================] - 706s 205ms/step - loss: 0.2333 - accuracy: 0.9042 - val_loss: 0.2929 - val_accuracy: 0.8780\n",
      "Epoch 45/50\n",
      "3447/3447 [==============================] - 706s 205ms/step - loss: 0.2323 - accuracy: 0.9045 - val_loss: 0.3101 - val_accuracy: 0.8703\n",
      "Epoch 46/50\n",
      "3447/3447 [==============================] - 702s 204ms/step - loss: 0.2326 - accuracy: 0.9048 - val_loss: 0.2967 - val_accuracy: 0.8767\n",
      "Epoch 47/50\n",
      "3447/3447 [==============================] - 709s 206ms/step - loss: 0.2307 - accuracy: 0.9062 - val_loss: 0.3099 - val_accuracy: 0.8708\n",
      "Epoch 48/50\n",
      "3447/3447 [==============================] - 708s 205ms/step - loss: 0.2313 - accuracy: 0.9054 - val_loss: 0.2969 - val_accuracy: 0.8777\n",
      "Epoch 49/50\n",
      "3447/3447 [==============================] - 698s 203ms/step - loss: 0.2326 - accuracy: 0.9050 - val_loss: 0.2971 - val_accuracy: 0.8749\n",
      "Epoch 50/50\n",
      "3447/3447 [==============================] - 695s 202ms/step - loss: 0.2325 - accuracy: 0.9044 - val_loss: 0.2783 - val_accuracy: 0.8857\n"
     ]
    }
   ],
   "source": [
    "%time\n",
    "#history1=model.fit(X_train, y_train,validation_data=(X_test, y_test),verbose = 1,epochs = 30,callbacks=callbacks1)\n",
    "history1=model.fit_generator(train_generator,validation_data=val_generator,verbose = 1,epochs = epoch_4_test,callbacks=callbacks1)"
   ]
  },
  {
   "cell_type": "code",
   "execution_count": 14,
   "id": "8953a8e5",
   "metadata": {
    "execution": {
     "iopub.execute_input": "2022-09-25T09:50:05.092599Z",
     "iopub.status.busy": "2022-09-25T09:50:05.090929Z",
     "iopub.status.idle": "2022-09-25T09:50:05.613736Z",
     "shell.execute_reply": "2022-09-25T09:50:05.612176Z"
    },
    "papermill": {
     "duration": 12.02291,
     "end_time": "2022-09-25T09:50:05.616682",
     "exception": false,
     "start_time": "2022-09-25T09:49:53.593772",
     "status": "completed"
    },
    "tags": []
   },
   "outputs": [
    {
     "data": {
      "image/png": "[encoded data removed]",
      "text/plain": [
       "<Figure size 864x432 with 2 Axes>"
      ]
     },
     "metadata": {
      "needs_background": "light"
     },
     "output_type": "display_data"
    }
   ],
   "source": [
    "import matplotlib.pyplot as plt\n",
    "import seaborn as sns\n",
    "plt.figure(figsize = (12, 6))\n",
    "plt.subplot(121)\n",
    "#plotting the Accuracy of test and training sets\n",
    "plt.plot(history1.history['accuracy'])\n",
    "plt.plot(history1.history['val_accuracy'])\n",
    "plt.title('1st training Model Accuracy')\n",
    "plt.ylabel('accuracy')\n",
    "plt.xlabel('epoch')\n",
    "plt.legend(['train', 'test'], loc='upper left')\n",
    "\n",
    "plt.subplot(122)\n",
    "#plotting the loss of test and training sets\n",
    "plt.plot(history1.history['loss'])\n",
    "plt.plot(history1.history['val_loss'])\n",
    "plt.title('1st training Model Loss')\n",
    "plt.ylabel('loss')\n",
    "plt.xlabel('epoch')\n",
    "plt.legend(['train', 'test'], loc='upper left')\n",
    "plt.show()"
   ]
  },
  {
   "cell_type": "code",
   "execution_count": 15,
   "id": "5ca5cff1",
   "metadata": {
    "execution": {
     "iopub.execute_input": "2022-09-25T09:50:29.161722Z",
     "iopub.status.busy": "2022-09-25T09:50:29.161294Z",
     "iopub.status.idle": "2022-09-25T09:52:59.511371Z",
     "shell.execute_reply": "2022-09-25T09:52:59.509925Z"
    },
    "papermill": {
     "duration": 162.056042,
     "end_time": "2022-09-25T09:52:59.514486",
     "exception": false,
     "start_time": "2022-09-25T09:50:17.458444",
     "status": "completed"
    },
    "tags": []
   },
   "outputs": [
    {
     "name": "stdout",
     "output_type": "stream",
     "text": [
      "analyse of 1st model\n",
      "VAL kappa\n",
      "0.7695980658809308\n",
      "analyse 1st model\n",
      "report of val data\n",
      "              precision    recall  f1-score   support\n",
      "\n",
      "           0   0.903940  0.861106  0.882003     16545\n",
      "           1   0.867390  0.908492  0.887465     16545\n",
      "\n",
      "    accuracy                       0.884799     33090\n",
      "   macro avg   0.885665  0.884799  0.884734     33090\n",
      "weighted avg   0.885665  0.884799  0.884734     33090\n",
      "\n"
     ]
    },
    {
     "data": {
      "image/png": "[encoded data removed]",
      "text/plain": [
       "<Figure size 864x432 with 2 Axes>"
      ]
     },
     "metadata": {
      "needs_background": "light"
     },
     "output_type": "display_data"
    }
   ],
   "source": [
    "import sklearn\n",
    "from sklearn.metrics import f1_score, roc_auc_score, cohen_kappa_score, precision_score, recall_score, accuracy_score, confusion_matrix\n",
    "#---------------\n",
    "from keras.models import load_model\n",
    "\n",
    "model1 = load_model(MODEL_INIT, compile=False)\n",
    "print(\"analyse of 1st model\")\n",
    "\n",
    "\n",
    "cf_matrix_val = confusion_matrix(\n",
    "    np.concatenate([np.argmax(val2_generator[i][1], axis=1) for i in range(len(val2_generator))]),    \n",
    "    np.argmax(model1.predict_generator(val2_generator, steps=len(val2_generator)), axis=1) \n",
    ")\n",
    "\n",
    "plt.figure(figsize = (12, 6))\n",
    "sns.heatmap(cf_matrix_val, annot=True, cmap='Blues', fmt='g')\n",
    "plt.title(\"VAL Confusion matrix\")\n",
    "# kappa VAL\n",
    "kappa_val = cohen_kappa_score(\n",
    "    np.concatenate([np.argmax(val2_generator[i][1], axis=1) for i in range(len(val2_generator))]),    \n",
    "    np.argmax(model1.predict_generator(val2_generator, steps=len(val2_generator)), axis=1) \n",
    ")\n",
    "print(\"VAL kappa\")\n",
    "print(kappa_val)\n",
    "\n",
    "\n",
    "\n",
    "print(\"analyse 1st model\")\n",
    "print(\"report of val data\")\n",
    "report = sklearn.metrics.classification_report(\n",
    "    np.concatenate([np.argmax(val2_generator[i][1], axis=1) for i in range(len(val2_generator))]),    \n",
    "    np.argmax(model1.predict_generator(val2_generator, steps=len(val2_generator)), axis=1) , digits=6\n",
    ")\n",
    "print(report)"
   ]
  },
  {
   "cell_type": "code",
   "execution_count": 16,
   "id": "dff2e961",
   "metadata": {
    "execution": {
     "iopub.execute_input": "2022-09-25T09:53:23.058425Z",
     "iopub.status.busy": "2022-09-25T09:53:23.057348Z",
     "iopub.status.idle": "2022-09-25T09:54:24.756569Z",
     "shell.execute_reply": "2022-09-25T09:54:24.755351Z"
    },
    "papermill": {
     "duration": 73.440134,
     "end_time": "2022-09-25T09:54:24.758971",
     "exception": false,
     "start_time": "2022-09-25T09:53:11.318837",
     "status": "completed"
    },
    "tags": []
   },
   "outputs": [
    {
     "name": "stdout",
     "output_type": "stream",
     "text": [
      "report of test data\n",
      "              precision    recall  f1-score   support\n",
      "\n",
      "           0  0.9073055 0.8599633 0.8830003      7091\n",
      "           1  0.8669079 0.9121422 0.8889500      7091\n",
      "\n",
      "    accuracy                      0.8860527     14182\n",
      "   macro avg  0.8871067 0.8860527 0.8859751     14182\n",
      "weighted avg  0.8871067 0.8860527 0.8859751     14182\n",
      "\n",
      "TEST kappa\n",
      "0.7721054858271048\n"
     ]
    },
    {
     "data": {
      "image/png": "[encoded data removed]",
      "text/plain": [
       "<Figure size 864x432 with 2 Axes>"
      ]
     },
     "metadata": {
      "needs_background": "light"
     },
     "output_type": "display_data"
    }
   ],
   "source": [
    "#------------------\n",
    "cf_matrix_test = confusion_matrix(\n",
    "    np.concatenate([np.argmax(val_generator[i][1], axis=1) for i in range(len(val_generator))]),    \n",
    "    np.argmax(model1.predict_generator(val_generator, steps=len(val_generator)), axis=1) \n",
    ")\n",
    "\n",
    "plt.figure(figsize = (12, 6))\n",
    "sns.heatmap(cf_matrix_test, annot=True, cmap='Blues', fmt='g')\n",
    "plt.title(\"Test Confusion matrix\")\n",
    "\n",
    "\n",
    "\n",
    "print(\"report of test data\")\n",
    "import sklearn\n",
    "\n",
    "report = sklearn.metrics.classification_report(\n",
    "    np.concatenate([np.argmax(val_generator[i][1], axis=1) for i in range(len(val_generator))]),    \n",
    "    np.argmax(model1.predict_generator(val_generator, steps=len(val_generator)), axis=1) , digits=7\n",
    ")\n",
    "print(report)\n",
    "\n",
    "\n",
    "# kappa TEST\n",
    "kappa_test = cohen_kappa_score(\n",
    "    np.concatenate([np.argmax(val_generator[i][1], axis=1) for i in range(len(val_generator))]),    \n",
    "    np.argmax(model1.predict_generator(val_generator, steps=len(val_generator)), axis=1)\n",
    ")\n",
    "print(\"TEST kappa\")\n",
    "print(kappa_test)"
   ]
  },
  {
   "cell_type": "code",
   "execution_count": 17,
   "id": "343c9167",
   "metadata": {
    "execution": {
     "iopub.execute_input": "2022-09-25T09:54:48.488666Z",
     "iopub.status.busy": "2022-09-25T09:54:48.487779Z",
     "iopub.status.idle": "2022-09-25T09:55:38.209833Z",
     "shell.execute_reply": "2022-09-25T09:55:38.208616Z"
    },
    "papermill": {
     "duration": 61.528507,
     "end_time": "2022-09-25T09:55:38.212381",
     "exception": false,
     "start_time": "2022-09-25T09:54:36.683874",
     "status": "completed"
    },
    "tags": []
   },
   "outputs": [
    {
     "name": "stdout",
     "output_type": "stream",
     "text": [
      "roc analysis of val dataset\n",
      "[1 0 0 ... 1 1 0]\n",
      "[[4.4720406e-03 9.9552792e-01]\n",
      " [9.9925095e-01 7.4902840e-04]\n",
      " [9.9606675e-01 3.9332299e-03]\n",
      " ...\n",
      " [3.5119969e-02 9.6487999e-01]\n",
      " [1.0011539e-02 9.8998851e-01]\n",
      " [9.2205870e-01 7.7941254e-02]]\n",
      "[9.95527983e-01 7.49028404e-04 3.93322995e-03 ... 9.64880049e-01\n",
      " 9.89988506e-01 7.79412612e-02]\n"
     ]
    },
    {
     "data": {
      "image/png": "[encoded data removed]",
      "text/plain": [
       "<Figure size 432x288 with 1 Axes>"
      ]
     },
     "metadata": {
      "needs_background": "light"
     },
     "output_type": "display_data"
    },
    {
     "name": "stdout",
     "output_type": "stream",
     "text": [
      "auc value\n",
      "0.9491792898677116\n"
     ]
    }
   ],
   "source": [
    "print(\"roc analysis of val dataset\")\n",
    "from scipy import interp\n",
    "import matplotlib.pyplot as plt\n",
    "from sklearn.metrics import roc_curve, auc\n",
    "n_classes=2\n",
    "test_labels = np.concatenate([np.argmax(val2_generator[i][1], axis=1) for i in range(len(val2_generator))])\n",
    "print(test_labels)\n",
    "\n",
    "y_score = model1.predict_generator(val2_generator)\n",
    "print(y_score)\n",
    "\n",
    "y_predict_score = []\n",
    "y_score_normalise=np.zeros((len(test_labels),n_classes))\n",
    "for i in range(len(test_labels)):\n",
    "    y_score_normalise1=y_score[i][1]/(y_score[i][0]+y_score[i][1])*1.0\n",
    "    y_score_normalise0=y_score[i][0]/(y_score[i][0]+y_score[i][1])*1.0\n",
    "    #if test_labels[i] == 0:\n",
    "    #    y_predict_score.append(1 - y_score_normalise0)\n",
    "    #if test_labels[i] == 1:\n",
    "    y_predict_score.append(y_score_normalise1)\n",
    "    y_score_normalise[i][0]=y_score_normalise0\n",
    "    y_score_normalise[i][1]=y_score_normalise1\n",
    "y_predict_score = np.array(y_predict_score)\n",
    "y_score_normalise = np.array(y_score_normalise)\n",
    "print(y_predict_score)\n",
    "\n",
    "fpr,tpr, thresholds = roc_curve(test_labels, y_predict_score )   \n",
    "# 这个地方可以按照原来代码里加marco与micro参数\n",
    "\n",
    "auc_score = auc(fpr,tpr)\n",
    " \n",
    "plt.figure()\n",
    "lw = 2 # line_width\n",
    "plt.plot(fpr,tpr, color='darkorange',\n",
    "         lw=lw, label='ROC curve (area = %0.2f)' % auc_score)\n",
    " \n",
    "plt.plot([0, 1], [0, 1], color='navy', lw=lw, linestyle='--')\n",
    "plt.xlim([0.0, 1.0])\n",
    "plt.ylim([0.0, 1.05])\n",
    "plt.xlabel('False Positive Rate')\n",
    "plt.ylabel('True Positive Rate')\n",
    "plt.title('ROC curve')\n",
    "plt.legend(loc=\"lower right\")\n",
    "plt.show()\n",
    "\n",
    "print(\"auc value\")\n",
    "print(auc_score)"
   ]
  },
  {
   "cell_type": "markdown",
   "id": "0ba82718",
   "metadata": {
    "papermill": {
     "duration": 11.573935,
     "end_time": "2022-09-25T09:56:01.771515",
     "exception": false,
     "start_time": "2022-09-25T09:55:50.197580",
     "status": "completed"
    },
    "tags": []
   },
   "source": [
    "new roc attempt module"
   ]
  },
  {
   "cell_type": "code",
   "execution_count": null,
   "id": "fd23e0a0",
   "metadata": {
    "execution": {
     "iopub.execute_input": "2022-07-06T10:00:37.957502Z",
     "iopub.status.busy": "2022-07-06T10:00:37.956703Z",
     "iopub.status.idle": "2022-07-06T10:00:38.154619Z",
     "shell.execute_reply": "2022-07-06T10:00:38.153486Z",
     "shell.execute_reply.started": "2022-07-06T10:00:37.95746Z"
    },
    "papermill": {
     "duration": 11.863955,
     "end_time": "2022-09-25T09:56:25.402386",
     "exception": false,
     "start_time": "2022-09-25T09:56:13.538431",
     "status": "completed"
    },
    "tags": []
   },
   "outputs": [],
   "source": []
  },
  {
   "cell_type": "code",
   "execution_count": null,
   "id": "d9c9dd2b",
   "metadata": {
    "papermill": {
     "duration": 11.80364,
     "end_time": "2022-09-25T09:56:48.912638",
     "exception": false,
     "start_time": "2022-09-25T09:56:37.108998",
     "status": "completed"
    },
    "tags": []
   },
   "outputs": [],
   "source": []
  },
  {
   "cell_type": "code",
   "execution_count": null,
   "id": "7c5f50e3",
   "metadata": {
    "papermill": {
     "duration": 12.100289,
     "end_time": "2022-09-25T09:57:13.788469",
     "exception": false,
     "start_time": "2022-09-25T09:57:01.688180",
     "status": "completed"
    },
    "tags": []
   },
   "outputs": [],
   "source": []
  },
  {
   "cell_type": "markdown",
   "id": "8b13d112",
   "metadata": {
    "papermill": {
     "duration": 11.815577,
     "end_time": "2022-09-25T09:57:37.029541",
     "exception": false,
     "start_time": "2022-09-25T09:57:25.213964",
     "status": "completed"
    },
    "tags": []
   },
   "source": []
  },
  {
   "cell_type": "code",
   "execution_count": null,
   "id": "9f9afd7d",
   "metadata": {
    "papermill": {
     "duration": 11.845148,
     "end_time": "2022-09-25T09:58:00.620264",
     "exception": false,
     "start_time": "2022-09-25T09:57:48.775116",
     "status": "completed"
    },
    "tags": []
   },
   "outputs": [],
   "source": []
  },
  {
   "cell_type": "code",
   "execution_count": null,
   "id": "1c90c4f6",
   "metadata": {
    "papermill": {
     "duration": 11.482231,
     "end_time": "2022-09-25T09:58:23.890587",
     "exception": false,
     "start_time": "2022-09-25T09:58:12.408356",
     "status": "completed"
    },
    "tags": []
   },
   "outputs": [],
   "source": []
  },
  {
   "cell_type": "code",
   "execution_count": 18,
   "id": "2eb68209",
   "metadata": {
    "execution": {
     "iopub.execute_input": "2022-09-25T09:58:47.715959Z",
     "iopub.status.busy": "2022-09-25T09:58:47.715430Z",
     "iopub.status.idle": "2022-09-25T09:59:35.879695Z",
     "shell.execute_reply": "2022-09-25T09:59:35.878441Z"
    },
    "papermill": {
     "duration": 60.222432,
     "end_time": "2022-09-25T09:59:35.882458",
     "exception": false,
     "start_time": "2022-09-25T09:58:35.660026",
     "status": "completed"
    },
    "tags": []
   },
   "outputs": [
    {
     "name": "stdout",
     "output_type": "stream",
     "text": [
      "[[4.4720406e-03 9.9552792e-01]\n",
      " [9.9925095e-01 7.4902840e-04]\n",
      " [9.9606675e-01 3.9332299e-03]\n",
      " ...\n",
      " [3.5119969e-02 9.6487999e-01]\n",
      " [1.0011539e-02 9.8998851e-01]\n",
      " [9.2205870e-01 7.7941254e-02]]\n"
     ]
    }
   ],
   "source": [
    "print(model1.predict_generator(val2_generator))"
   ]
  },
  {
   "cell_type": "markdown",
   "id": "a3c9670f",
   "metadata": {
    "papermill": {
     "duration": 11.767296,
     "end_time": "2022-09-25T09:59:59.088656",
     "exception": false,
     "start_time": "2022-09-25T09:59:47.321360",
     "status": "completed"
    },
    "tags": []
   },
   "source": [
    "# Second Training Fine Tune"
   ]
  },
  {
   "cell_type": "markdown",
   "id": "df854444",
   "metadata": {
    "execution": {
     "iopub.execute_input": "2022-06-03T23:27:17.22676Z",
     "iopub.status.busy": "2022-06-03T23:27:17.225925Z",
     "iopub.status.idle": "2022-06-03T23:27:17.261756Z",
     "shell.execute_reply": "2022-06-03T23:27:17.260792Z",
     "shell.execute_reply.started": "2022-06-03T23:27:17.22672Z"
    },
    "papermill": {
     "duration": 11.55874,
     "end_time": "2022-09-25T10:00:22.619890",
     "exception": false,
     "start_time": "2022-09-25T10:00:11.061150",
     "status": "completed"
    },
    "tags": []
   },
   "source": [
    "model.load_weights(MODEL_INIT)\n",
    "for model_ly in model.layers:\n",
    "    model_ly.trainable = True"
   ]
  },
  {
   "cell_type": "markdown",
   "id": "ce0cd5b8",
   "metadata": {
    "execution": {
     "iopub.execute_input": "2022-06-03T23:27:17.264461Z",
     "iopub.status.busy": "2022-06-03T23:27:17.263307Z",
     "iopub.status.idle": "2022-06-03T23:27:17.271101Z",
     "shell.execute_reply": "2022-06-03T23:27:17.269841Z",
     "shell.execute_reply.started": "2022-06-03T23:27:17.26442Z"
    },
    "papermill": {
     "duration": 12.060318,
     "end_time": "2022-09-25T10:00:46.456092",
     "exception": false,
     "start_time": "2022-09-25T10:00:34.395774",
     "status": "completed"
    },
    "tags": []
   },
   "source": [
    "callbacks2 = [EarlyStopping(monitor='val_acc', patience=5, verbose=1), \n",
    "              ModelCheckpoint(MODEL_PATH, monitor='val_accuracy', save_best_only=True)]\n",
    "opt = Adam(learning_rate=0.00001)\n",
    "#model.compile(loss='categorical_crossentropy', optimizer=opt, metrics=['accuracy'])"
   ]
  },
  {
   "cell_type": "markdown",
   "id": "5cef5108",
   "metadata": {
    "execution": {
     "iopub.execute_input": "2022-06-03T23:27:17.273147Z",
     "iopub.status.busy": "2022-06-03T23:27:17.27238Z",
     "iopub.status.idle": "2022-06-03T23:27:17.285806Z",
     "shell.execute_reply": "2022-06-03T23:27:17.284602Z",
     "shell.execute_reply.started": "2022-06-03T23:27:17.273112Z"
    },
    "papermill": {
     "duration": 12.286532,
     "end_time": "2022-09-25T10:01:10.228325",
     "exception": false,
     "start_time": "2022-09-25T10:00:57.941793",
     "status": "completed"
    },
    "tags": []
   },
   "source": [
    "# model.load_weights(\"model.hdf5\")\n",
    "#history2 = model.fit(X_train, y_train,validation_data=(X_test, y_test),verbose = 1,epochs = 30, callbacks=callbacks2)"
   ]
  },
  {
   "cell_type": "markdown",
   "id": "da78e69d",
   "metadata": {
    "execution": {
     "iopub.execute_input": "2022-06-03T23:27:17.2884Z",
     "iopub.status.busy": "2022-06-03T23:27:17.287804Z",
     "iopub.status.idle": "2022-06-03T23:27:26.604297Z",
     "shell.execute_reply": "2022-06-03T23:27:26.60351Z",
     "shell.execute_reply.started": "2022-06-03T23:27:17.28835Z"
    },
    "papermill": {
     "duration": 11.734529,
     "end_time": "2022-09-25T10:01:33.711771",
     "exception": false,
     "start_time": "2022-09-25T10:01:21.977242",
     "status": "completed"
    },
    "tags": []
   },
   "source": [
    "# model.load_weights(\"model.hdf5\")\n",
    "#history2 = model.fit(X_train, y_train,validation_data=(X_test, y_test),verbose = 1,epochs = 15, callbacks=callbacks2)\n",
    "history2=model.fit_generator(train_generator,validation_data=val_generator,verbose = 1,epochs = epoch_4_test,callbacks=callbacks2)"
   ]
  },
  {
   "cell_type": "markdown",
   "id": "9d8f1477",
   "metadata": {
    "execution": {
     "iopub.execute_input": "2022-06-03T23:27:26.606228Z",
     "iopub.status.busy": "2022-06-03T23:27:26.605687Z",
     "iopub.status.idle": "2022-06-03T23:27:26.877721Z",
     "shell.execute_reply": "2022-06-03T23:27:26.87653Z",
     "shell.execute_reply.started": "2022-06-03T23:27:26.606195Z"
    },
    "papermill": {
     "duration": 11.71345,
     "end_time": "2022-09-25T10:01:57.213884",
     "exception": false,
     "start_time": "2022-09-25T10:01:45.500434",
     "status": "completed"
    },
    "tags": []
   },
   "source": [
    "import matplotlib.pyplot as plt\n",
    "import seaborn as sns\n",
    "plt.figure(figsize = (12, 6))\n",
    "plt.subplot(121)\n",
    "#plotting the Accuracy of test and training sets\n",
    "plt.plot(history2.history['accuracy'])\n",
    "plt.plot(history2.history['val_accuracy'])\n",
    "plt.title('2nd training Model Accuracy')\n",
    "plt.ylabel('accuracy')\n",
    "plt.xlabel('epoch')\n",
    "plt.legend(['train', 'test'], loc='upper left')\n",
    "\n",
    "plt.subplot(122)\n",
    "#plotting the loss of test and training sets\n",
    "plt.plot(history2.history['loss'])\n",
    "plt.plot(history2.history['val_loss'])\n",
    "plt.title('2nd training Model Loss')\n",
    "plt.ylabel('loss')\n",
    "plt.xlabel('epoch')\n",
    "plt.legend(['train', 'test'], loc='upper left')\n",
    "plt.show()"
   ]
  },
  {
   "cell_type": "markdown",
   "id": "44edd3c8",
   "metadata": {
    "execution": {
     "iopub.execute_input": "2022-06-03T23:27:26.880585Z",
     "iopub.status.busy": "2022-06-03T23:27:26.879459Z",
     "iopub.status.idle": "2022-06-03T23:27:29.499542Z",
     "shell.execute_reply": "2022-06-03T23:27:29.498328Z",
     "shell.execute_reply.started": "2022-06-03T23:27:26.880529Z"
    },
    "papermill": {
     "duration": 11.569456,
     "end_time": "2022-09-25T10:02:20.702130",
     "exception": false,
     "start_time": "2022-09-25T10:02:09.132674",
     "status": "completed"
    },
    "tags": []
   },
   "source": [
    "import sklearn\n",
    "from sklearn.metrics import f1_score, roc_auc_score, cohen_kappa_score, precision_score, recall_score, accuracy_score, confusion_matrix\n",
    "# model是最新版本的mode（stage 2）\n",
    "# 混淆矩阵\n",
    "from keras.models import load_model\n",
    "\n",
    "model2 = load_model(MODEL_PATH, compile=False)\n",
    "print(\"analyse of final model\")\n",
    "\n",
    "\n",
    "cf_matrix_val = confusion_matrix(\n",
    "    np.concatenate([np.argmax(val2_generator[i][1], axis=1) for i in range(len(val2_generator))]),    \n",
    "    np.argmax(model2.predict_generator(val2_generator, steps=len(val2_generator)), axis=1) \n",
    ")\n",
    "\n",
    "plt.figure(figsize = (12, 6))\n",
    "sns.heatmap(cf_matrix_val, annot=True, cmap='Blues')\n",
    "plt.title(\"VAL Confusion matrix\")\n",
    "# kappa VAL\n",
    "kappa_val = cohen_kappa_score(\n",
    "    np.concatenate([np.argmax(val2_generator[i][1], axis=1) for i in range(len(val2_generator))]),    \n",
    "    np.argmax(model2.predict_generator(val2_generator, steps=len(val2_generator)), axis=1) \n",
    ")\n",
    "print(\"VAL kappa\")\n",
    "print(kappa_val)\n",
    "\n",
    "\n",
    "\n",
    "print(\"analyse 1st model\")\n",
    "print(\"report of val data\")\n",
    "report = sklearn.metrics.classification_report(\n",
    "    np.concatenate([np.argmax(val2_generator[i][1], axis=1) for i in range(len(val2_generator))]),    \n",
    "    np.argmax(model2.predict_generator(val2_generator, steps=len(val2_generator)), axis=1) \n",
    ")\n",
    "print(report)"
   ]
  },
  {
   "cell_type": "markdown",
   "id": "87575490",
   "metadata": {
    "execution": {
     "iopub.execute_input": "2022-06-03T23:27:29.502165Z",
     "iopub.status.busy": "2022-06-03T23:27:29.501602Z",
     "iopub.status.idle": "2022-06-03T23:27:30.853738Z",
     "shell.execute_reply": "2022-06-03T23:27:30.852725Z",
     "shell.execute_reply.started": "2022-06-03T23:27:29.502116Z"
    },
    "papermill": {
     "duration": 12.126223,
     "end_time": "2022-09-25T10:02:44.544921",
     "exception": false,
     "start_time": "2022-09-25T10:02:32.418698",
     "status": "completed"
    },
    "tags": []
   },
   "source": [
    "cf_matrix_test = confusion_matrix(\n",
    "    np.concatenate([np.argmax(val_generator[i][1], axis=1) for i in range(len(val_generator))]),    \n",
    "    np.argmax(model2.predict_generator(val_generator, steps=len(val_generator)), axis=1) \n",
    ")\n",
    "\n",
    "plt.figure(figsize = (12, 6))\n",
    "sns.heatmap(cf_matrix_test, annot=True, cmap='Blues')\n",
    "plt.title(\"Test Confusion matrix\")\n",
    "\n",
    "\n",
    "\n",
    "print(\"report of test data\")\n",
    "import sklearn\n",
    "\n",
    "report = sklearn.metrics.classification_report(\n",
    "    np.concatenate([np.argmax(val_generator[i][1], axis=1) for i in range(len(val_generator))]),    \n",
    "    np.argmax(model2.predict_generator(val_generator, steps=len(val_generator)), axis=1) \n",
    ")\n",
    "print(report)\n",
    "\n",
    "\n",
    "# kappa TEST\n",
    "kappa_test = cohen_kappa_score(\n",
    "    np.concatenate([np.argmax(val_generator[i][1], axis=1) for i in range(len(val_generator))]),    \n",
    "    np.argmax(model2.predict_generator(val_generator, steps=len(val_generator)), axis=1) \n",
    ")\n",
    "print(\"TEST kappa\")\n",
    "print(kappa_test)"
   ]
  }
 ],
 "metadata": {
  "kernelspec": {
   "display_name": "Python 3",
   "language": "python",
   "name": "python3"
  },
  "language_info": {
   "codemirror_mode": {
    "name": "ipython",
    "version": 3
   },
   "file_extension": ".py",
   "mimetype": "text/x-python",
   "name": "python",
   "nbconvert_exporter": "python",
   "pygments_lexer": "ipython3",
   "version": "3.7.12"
  },
  "papermill": {
   "default_parameters": {},
   "duration": 38372.8174,
   "end_time": "2022-09-25T10:02:59.000956",
   "environment_variables": {},
   "exception": null,
   "input_path": "__notebook__.ipynb",
   "output_path": "__notebook__.ipynb",
   "parameters": {},
   "start_time": "2022-09-24T23:23:26.183556",
   "version": "2.3.4"
  }
 },
 "nbformat": 4,
 "nbformat_minor": 5
}
