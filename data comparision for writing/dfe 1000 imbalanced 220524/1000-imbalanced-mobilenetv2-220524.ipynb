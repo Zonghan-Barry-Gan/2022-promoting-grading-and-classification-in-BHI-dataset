{
 "cells": [
  {
   "cell_type": "code",
   "execution_count": 1,
   "id": "2dd94f1b",
   "metadata": {
    "_cell_guid": "b1076dfc-b9ad-4769-8c92-a6c4dae69d19",
    "_uuid": "8f2839f25d086af736a60e9eeb907d3b93b6e0e5",
    "execution": {
     "iopub.execute_input": "2022-05-24T23:04:16.568371Z",
     "iopub.status.busy": "2022-05-24T23:04:16.567949Z",
     "iopub.status.idle": "2022-05-24T23:04:24.657165Z",
     "shell.execute_reply": "2022-05-24T23:04:24.656179Z"
    },
    "papermill": {
     "duration": 8.124332,
     "end_time": "2022-05-24T23:04:24.659922",
     "exception": false,
     "start_time": "2022-05-24T23:04:16.535590",
     "status": "completed"
    },
    "tags": []
   },
   "outputs": [],
   "source": [
    "from glob import glob\n",
    "import os\n",
    "import shutil\n",
    "\n",
    "import numpy as np\n",
    "import pandas as pd\n",
    "\n",
    "from sklearn.metrics import f1_score, roc_auc_score, cohen_kappa_score, precision_score, recall_score, accuracy_score, confusion_matrix\n",
    "from keras.layers import Dense, Flatten, Conv2D, MaxPooling2D, Dropout\n",
    "from keras.models import Sequential\n",
    "import tensorflow as tf\n",
    "import matplotlib.pyplot as plt\n",
    "import cv2\n",
    "from keras.layers import BatchNormalization\n",
    "from keras.models import Model, Sequential\n",
    "from keras.applications.xception import Xception\n",
    "from keras.applications import *\n",
    "import matplotlib.pyplot as plt\n",
    "from sklearn.pipeline import make_pipeline\n",
    "from sklearn.pipeline import Pipeline\n",
    "from PIL import Image\n",
    "import random\n",
    "import os\n",
    "import cv2\n",
    "from sklearn.model_selection import train_test_split\n",
    "from sklearn.neighbors import KNeighborsClassifier\n",
    "from sklearn.svm import SVC\n",
    "from sklearn.ensemble import RandomForestClassifier, AdaBoostClassifier\n",
    "from xgboost import XGBClassifier \n",
    "from keras.callbacks import EarlyStopping\n",
    "import seaborn as sns\n",
    "from sklearn.preprocessing import StandardScaler\n",
    "from tqdm import tqdm\n",
    "from sklearn.decomposition import PCA"
   ]
  },
  {
   "cell_type": "markdown",
   "id": "89455061",
   "metadata": {
    "papermill": {
     "duration": 0.028925,
     "end_time": "2022-05-24T23:04:24.718842",
     "exception": false,
     "start_time": "2022-05-24T23:04:24.689917",
     "status": "completed"
    },
    "tags": []
   },
   "source": [
    "make path for image classification"
   ]
  },
  {
   "cell_type": "code",
   "execution_count": 2,
   "id": "681b6d51",
   "metadata": {
    "execution": {
     "iopub.execute_input": "2022-05-24T23:04:24.778897Z",
     "iopub.status.busy": "2022-05-24T23:04:24.778606Z",
     "iopub.status.idle": "2022-05-24T23:04:24.784542Z",
     "shell.execute_reply": "2022-05-24T23:04:24.783667Z"
    },
    "papermill": {
     "duration": 0.038675,
     "end_time": "2022-05-24T23:04:24.786794",
     "exception": false,
     "start_time": "2022-05-24T23:04:24.748119",
     "status": "completed"
    },
    "tags": []
   },
   "outputs": [],
   "source": [
    "os.makedirs('../working/data/train_seg/idc-minus/')     \n",
    "os.makedirs('../working/data/train_seg/idc-plus/')  \n",
    "os.makedirs('../working/data/test_seg/idc-minus/')     \n",
    "os.makedirs('../working/data/test_seg/idc-plus/')  \n",
    "#os.makedirs('../working/data/val_seg/idc-minus/')     \n",
    "#os.makedirs('../working/data/val_seg/idc-plus/')  "
   ]
  },
  {
   "cell_type": "markdown",
   "id": "4277aa30",
   "metadata": {
    "papermill": {
     "duration": 0.028761,
     "end_time": "2022-05-24T23:04:24.845597",
     "exception": false,
     "start_time": "2022-05-24T23:04:24.816836",
     "status": "completed"
    },
    "tags": []
   },
   "source": [
    "# **Image Import**\n",
    "for first time run uncomment this cell\n",
    "this will catagorise files into different directory\n",
    "for second time run please comment this cell"
   ]
  },
  {
   "cell_type": "code",
   "execution_count": 3,
   "id": "e9cbd01f",
   "metadata": {
    "execution": {
     "iopub.execute_input": "2022-05-24T23:04:24.905457Z",
     "iopub.status.busy": "2022-05-24T23:04:24.905123Z",
     "iopub.status.idle": "2022-05-24T23:04:24.909761Z",
     "shell.execute_reply": "2022-05-24T23:04:24.909024Z"
    },
    "papermill": {
     "duration": 0.036687,
     "end_time": "2022-05-24T23:04:24.911648",
     "exception": false,
     "start_time": "2022-05-24T23:04:24.874961",
     "status": "completed"
    },
    "tags": []
   },
   "outputs": [],
   "source": [
    "sampling_seed=0\n",
    "size_4_training=1000\n",
    "img_size=224\n",
    "n_of_classes=2\n",
    "training_reshape=(-1, img_size, img_size, 3)"
   ]
  },
  {
   "cell_type": "code",
   "execution_count": 4,
   "id": "b7789ea3",
   "metadata": {
    "execution": {
     "iopub.execute_input": "2022-05-24T23:04:24.972882Z",
     "iopub.status.busy": "2022-05-24T23:04:24.971921Z",
     "iopub.status.idle": "2022-05-24T23:05:54.984306Z",
     "shell.execute_reply": "2022-05-24T23:05:54.983261Z"
    },
    "papermill": {
     "duration": 90.046156,
     "end_time": "2022-05-24T23:05:54.987105",
     "exception": false,
     "start_time": "2022-05-24T23:04:24.940949",
     "status": "completed"
    },
    "tags": []
   },
   "outputs": [
    {
     "name": "stdout",
     "output_type": "stream",
     "text": [
      "['../input/breast-histopathology-images/IDC_regular_ps50_idx5/10295/0/10295_idx5_x1351_y1101_class0.png', '../input/breast-histopathology-images/IDC_regular_ps50_idx5/10295/0/10295_idx5_x1501_y501_class0.png', '../input/breast-histopathology-images/IDC_regular_ps50_idx5/10295/0/10295_idx5_x1501_y1101_class0.png', '../input/breast-histopathology-images/IDC_regular_ps50_idx5/10295/0/10295_idx5_x451_y901_class0.png', '../input/breast-histopathology-images/IDC_regular_ps50_idx5/10295/0/10295_idx5_x801_y451_class0.png', '../input/breast-histopathology-images/IDC_regular_ps50_idx5/10295/0/10295_idx5_x151_y1051_class0.png', '../input/breast-histopathology-images/IDC_regular_ps50_idx5/10295/0/10295_idx5_x1351_y901_class0.png', '../input/breast-histopathology-images/IDC_regular_ps50_idx5/10295/0/10295_idx5_x701_y651_class0.png', '../input/breast-histopathology-images/IDC_regular_ps50_idx5/10295/0/10295_idx5_x951_y1401_class0.png', '../input/breast-histopathology-images/IDC_regular_ps50_idx5/10295/0/10295_idx5_x601_y501_class0.png']\n"
     ]
    }
   ],
   "source": [
    "\n",
    "import random\n",
    "#make directory for labelling\n",
    "os.makedirs('../working/idc2/idc-minus/')     \n",
    "os.makedirs('../working/idc2/idc-plus/')  \n",
    "\n",
    "\n",
    "class0 = [] # 0 = idc+\n",
    "class1 = [] # 1 = idc-\n",
    "imagePatches = glob('../input/breast-histopathology-images/IDC_regular_ps50_idx5/**/*.png', recursive=True)\n",
    "for filename in imagePatches:\n",
    "    if filename.endswith(\"class0.png\"):\n",
    "         class0.append(filename)\n",
    "    else:\n",
    "        class1.append(filename)\n",
    "\n",
    "print(class0[0:10])\n",
    "\n",
    "#sampling 10000 images from class 0 and class 1 to train the model\n",
    "\n",
    "random.seed(sampling_seed)\n",
    "class0sample=random.sample(class0,size_4_training)\n",
    "class1sample=random.sample(class1,size_4_training)\n",
    "\n",
    "\n",
    "def read_and_save_data(path, file_name_array):\n",
    "    j=0\n",
    "    for i in file_name_array:\n",
    "        if i.endswith('.png'):\n",
    "          \n",
    "            \n",
    "            #second copy method\n",
    "            head, tail = os.path.split(i)\n",
    "            outputname=str(path+tail)\n",
    "            #outputname=str(path+str(j)+'.png')\n",
    "            #print(outputname)\n",
    "            shutil.copy(i, outputname)\n",
    "   \n",
    "            #print(status2)\n",
    "            \n",
    "            j=j+1\n",
    "            if j==120000:\n",
    "                break\n",
    "            \n",
    "   \n",
    "class0path='../working/idc2/idc-minus/'\n",
    "class1path='../working/idc2/idc-plus/'\n",
    "\n",
    "\n",
    "\n",
    "\n",
    "read_and_save_data(class0path,class0sample)\n",
    "read_and_save_data(class1path,class1sample)"
   ]
  },
  {
   "cell_type": "markdown",
   "id": "a668e77e",
   "metadata": {
    "papermill": {
     "duration": 0.031181,
     "end_time": "2022-05-24T23:05:55.050920",
     "exception": false,
     "start_time": "2022-05-24T23:05:55.019739",
     "status": "completed"
    },
    "tags": []
   },
   "source": [
    "Image classification"
   ]
  },
  {
   "cell_type": "code",
   "execution_count": 5,
   "id": "d839f2b2",
   "metadata": {
    "execution": {
     "iopub.execute_input": "2022-05-24T23:05:55.112867Z",
     "iopub.status.busy": "2022-05-24T23:05:55.112577Z",
     "iopub.status.idle": "2022-05-24T23:05:55.117069Z",
     "shell.execute_reply": "2022-05-24T23:05:55.116082Z"
    },
    "papermill": {
     "duration": 0.038038,
     "end_time": "2022-05-24T23:05:55.119678",
     "exception": false,
     "start_time": "2022-05-24T23:05:55.081640",
     "status": "completed"
    },
    "tags": []
   },
   "outputs": [],
   "source": [
    "import os #Operating System\n",
    "import sys #System\n",
    "# train_generator = train_datagen.flow(x_train, y_train, batch_size =)\n",
    "# val_generator = val_datagen.flow(x_val, y_val, batch_size = 64)\n",
    "# test_generator=test_datagen.flow(x_test,y_test,batch_size = 64)"
   ]
  },
  {
   "cell_type": "code",
   "execution_count": 6,
   "id": "a7b7782f",
   "metadata": {
    "execution": {
     "iopub.execute_input": "2022-05-24T23:05:55.182803Z",
     "iopub.status.busy": "2022-05-24T23:05:55.182519Z",
     "iopub.status.idle": "2022-05-24T23:05:56.214277Z",
     "shell.execute_reply": "2022-05-24T23:05:56.213294Z"
    },
    "papermill": {
     "duration": 1.066816,
     "end_time": "2022-05-24T23:05:56.217142",
     "exception": false,
     "start_time": "2022-05-24T23:05:55.150326",
     "status": "completed"
    },
    "tags": []
   },
   "outputs": [
    {
     "name": "stderr",
     "output_type": "stream",
     "text": [
      "/opt/conda/lib/python3.7/site-packages/ipykernel_launcher.py:24: VisibleDeprecationWarning: Creating an ndarray from ragged nested sequences (which is a list-or-tuple of lists-or-tuples-or ndarrays with different lengths or shapes) is deprecated. If you meant to do this, you must specify 'dtype=object' when creating the ndarray.\n",
      "/opt/conda/lib/python3.7/site-packages/ipykernel_launcher.py:25: VisibleDeprecationWarning: Creating an ndarray from ragged nested sequences (which is a list-or-tuple of lists-or-tuples-or ndarrays with different lengths or shapes) is deprecated. If you meant to do this, you must specify 'dtype=object' when creating the ndarray.\n"
     ]
    },
    {
     "name": "stdout",
     "output_type": "stream",
     "text": [
      "(1000, 2)\n",
      "(2000, 2)\n"
     ]
    }
   ],
   "source": [
    "import os\n",
    "import cv2\n",
    "def readImage(path, tag):\n",
    "    j=0\n",
    "    image_array = []\n",
    "    for i in os.listdir(path):\n",
    "        imgname=path+i\n",
    "        #print(imgname)\n",
    "        img = cv2.imread(imgname, cv2.IMREAD_COLOR)\n",
    "        img_resized = cv2.resize(img, (img_size,img_size), interpolation=cv2.INTER_LINEAR)\n",
    "        image_array.append([img_resized, tag])\n",
    "        #print(img[1])\n",
    "        j=j+1\n",
    "        #if j==10:\n",
    "        #    break\n",
    "        \n",
    "    return image_array\n",
    "\n",
    "import numpy as np\n",
    "\n",
    "\n",
    "class0_array = readImage(class0path, 0)\n",
    "class1_array = readImage(class1path, 1)\n",
    "class0_array=np.array(class0_array)\n",
    "class1_array=np.array(class1_array)\n",
    "combined_data = np.concatenate((class0_array, class1_array))\n",
    "random.seed(41)\n",
    "random.shuffle(combined_data)\n",
    "print(class0_array.shape)\n",
    "print(combined_data.shape)\n",
    "\n",
    "X = []\n",
    "y = []\n",
    "\n",
    "for features,label in combined_data:\n",
    "    X.append(features)\n",
    "    y.append(label)\n",
    "#print(X.shape)\n",
    "#pring(y.shape)\n",
    "\n",
    "# reshape X data\n",
    "X = np.array(X).reshape(training_reshape)\n",
    "#print(X.shape)\n",
    "y=np.array(y)\n",
    "\n",
    "X_train, X_test, y_train, y_test = train_test_split(X, y, test_size=0.3, random_state=42)\n",
    "\n",
    "\n",
    "\n",
    "#X_val, y_val=Image_array_process(class0_val, val0_label, class1_val, val1_label)\n",
    "X_train_original=X_train\n",
    "X_test_original=X_test\n",
    "y_train_original=y_train\n",
    "y_test_original=y_test\n"
   ]
  },
  {
   "cell_type": "code",
   "execution_count": 7,
   "id": "f5f33195",
   "metadata": {
    "execution": {
     "iopub.execute_input": "2022-05-24T23:05:56.289383Z",
     "iopub.status.busy": "2022-05-24T23:05:56.289104Z",
     "iopub.status.idle": "2022-05-24T23:05:56.294818Z",
     "shell.execute_reply": "2022-05-24T23:05:56.293753Z"
    },
    "papermill": {
     "duration": 0.04798,
     "end_time": "2022-05-24T23:05:56.297464",
     "exception": false,
     "start_time": "2022-05-24T23:05:56.249484",
     "status": "completed"
    },
    "tags": []
   },
   "outputs": [
    {
     "name": "stdout",
     "output_type": "stream",
     "text": [
      "(1400, 224, 224, 3)\n"
     ]
    }
   ],
   "source": [
    "print(X_train.shape)"
   ]
  },
  {
   "cell_type": "code",
   "execution_count": 8,
   "id": "9f81d7e4",
   "metadata": {
    "execution": {
     "iopub.execute_input": "2022-05-24T23:05:56.373271Z",
     "iopub.status.busy": "2022-05-24T23:05:56.372809Z",
     "iopub.status.idle": "2022-05-24T23:05:56.379239Z",
     "shell.execute_reply": "2022-05-24T23:05:56.378227Z"
    },
    "papermill": {
     "duration": 0.049493,
     "end_time": "2022-05-24T23:05:56.382894",
     "exception": false,
     "start_time": "2022-05-24T23:05:56.333401",
     "status": "completed"
    },
    "tags": []
   },
   "outputs": [
    {
     "name": "stdout",
     "output_type": "stream",
     "text": [
      "[0 0 0 ... 0 1 0]\n"
     ]
    }
   ],
   "source": [
    "print(y_train)"
   ]
  },
  {
   "cell_type": "code",
   "execution_count": 9,
   "id": "3846c742",
   "metadata": {
    "execution": {
     "iopub.execute_input": "2022-05-24T23:05:56.451798Z",
     "iopub.status.busy": "2022-05-24T23:05:56.451045Z",
     "iopub.status.idle": "2022-05-24T23:05:57.180988Z",
     "shell.execute_reply": "2022-05-24T23:05:57.179870Z"
    },
    "papermill": {
     "duration": 0.767616,
     "end_time": "2022-05-24T23:05:57.183938",
     "exception": false,
     "start_time": "2022-05-24T23:05:56.416322",
     "status": "completed"
    },
    "tags": []
   },
   "outputs": [
    {
     "name": "stdout",
     "output_type": "stream",
     "text": [
      "Found 0 images belonging to 2 classes.\n",
      "Found 0 images belonging to 2 classes.\n"
     ]
    },
    {
     "data": {
      "text/plain": [
       "'\\nval2_it = val_gen.flow_from_directory(validation_dir,\\n                                       class_mode = \"categorical\",\\n                                       target_size = (img_size, img_size),\\n                                       color_mode=\"rgb\",\\n                                       batch_size = 12, \\n                                       shuffle = False,\\n                                       subset=\\'validation\\',\\n                                       seed = 42)\\n'"
      ]
     },
     "execution_count": 9,
     "metadata": {},
     "output_type": "execute_result"
    }
   ],
   "source": [
    "data_dir = \"../working/idc2\"\n",
    "#img_size = img_size = img_size\n",
    "\n",
    "train_dir='../working/data/train_seg/'\n",
    "#validation_dir='../working/data/val_seg/'\n",
    "test_dir = '../working/data/test_seg/' \n",
    "\n",
    "train_gen = tf.keras.preprocessing.image.ImageDataGenerator()\n",
    "test_gen=tf.keras.preprocessing.image.ImageDataGenerator()\n",
    "val_gen=tf.keras.preprocessing.image.ImageDataGenerator()\n",
    "\n",
    " \n",
    "train_it = train_gen.flow_from_directory(train_dir,\n",
    "                                       class_mode = \"categorical\",\n",
    "                                       target_size = (img_size,img_size),\n",
    "                                       color_mode=\"rgb\",\n",
    "                                       batch_size = 12, \n",
    "                                       shuffle = False,\n",
    "                                       subset='training',\n",
    "                                       seed = 42)\n",
    "\n",
    "validate_it = test_gen.flow_from_directory('./data/test_seg',\n",
    "                                       class_mode = \"categorical\",\n",
    "                                       target_size = (img_size, img_size),\n",
    "                                       color_mode=\"rgb\",\n",
    "                                       batch_size = 12, \n",
    "                                       shuffle = False,\n",
    "                                       subset='training',\n",
    "                                       seed = 42)\n",
    "'''\n",
    "val2_it = val_gen.flow_from_directory(validation_dir,\n",
    "                                       class_mode = \"categorical\",\n",
    "                                       target_size = (img_size, img_size),\n",
    "                                       color_mode=\"rgb\",\n",
    "                                       batch_size = 12, \n",
    "                                       shuffle = False,\n",
    "                                       subset='validation',\n",
    "                                       seed = 42)\n",
    "'''"
   ]
  },
  {
   "cell_type": "code",
   "execution_count": 10,
   "id": "50de8a57",
   "metadata": {
    "execution": {
     "iopub.execute_input": "2022-05-24T23:05:57.254813Z",
     "iopub.status.busy": "2022-05-24T23:05:57.253299Z",
     "iopub.status.idle": "2022-05-24T23:05:57.261498Z",
     "shell.execute_reply": "2022-05-24T23:05:57.260755Z"
    },
    "papermill": {
     "duration": 0.045008,
     "end_time": "2022-05-24T23:05:57.263763",
     "exception": false,
     "start_time": "2022-05-24T23:05:57.218755",
     "status": "completed"
    },
    "tags": []
   },
   "outputs": [],
   "source": [
    "def get_features2(base_model, X_train1, y_train1, X_test1, y_test1):\n",
    "    X_train2 = base_model.predict(X_train1)\n",
    "    y_train2 = y_train1\n",
    "\n",
    "    X_test2 = base_model.predict(X_test1)\n",
    "    y_test2 = y_test1\n",
    "\n",
    "    X_val, X_test, y_val, y_test = train_test_split(X_test2, y_test2, test_size = 0.3, shuffle = True)\n",
    "    print('Shape of X_train----->', str(X_train2.shape))\n",
    "    print('Shape of X_val----->', str(X_val.shape))\n",
    "    print('Shape of X_test----->', str(X_test.shape))\n",
    "    return (X_train2, X_val, X_test, y_train2, y_val, y_test)"
   ]
  },
  {
   "cell_type": "code",
   "execution_count": 11,
   "id": "27e9597f",
   "metadata": {
    "execution": {
     "iopub.execute_input": "2022-05-24T23:05:57.331901Z",
     "iopub.status.busy": "2022-05-24T23:05:57.330967Z",
     "iopub.status.idle": "2022-05-24T23:05:57.343355Z",
     "shell.execute_reply": "2022-05-24T23:05:57.342416Z"
    },
    "papermill": {
     "duration": 0.047864,
     "end_time": "2022-05-24T23:05:57.345848",
     "exception": false,
     "start_time": "2022-05-24T23:05:57.297984",
     "status": "completed"
    },
    "tags": []
   },
   "outputs": [],
   "source": [
    "from keras.callbacks import ModelCheckpoint\n",
    "from tensorflow.keras.optimizers import *\n",
    "def get_models():\n",
    "    ANN = Sequential()\n",
    "    ANN.add(Dense(4096, input_dim = X_train.shape[1], activation = 'relu'))\n",
    "    ANN.add(BatchNormalization())\n",
    "    ANN.add(Dense(4096, activation='relu'))\n",
    "    ANN.add(Dropout(0.2))\n",
    "    ANN.add(Dense(2096, activation='relu'))\n",
    "    #ANN.add(Dense(16, activation='relu'))\n",
    "    #ANN.add(Dense(8, activation='relu'))\n",
    "    ANN.add(Dense(n_of_classes, activation='sigmoid'))\n",
    "    \n",
    "\n",
    "    opt = Adam(learning_rate=0.001)\n",
    "    ANN.compile(loss='categorical_crossentropy', optimizer=opt, metrics=['accuracy'])\n",
    " \n",
    "    KNN = KNeighborsClassifier()\n",
    "    \n",
    "    SVM = SVC(kernel = 'linear')\n",
    "    \n",
    "    RF = RandomForestClassifier(n_estimators = 50)\n",
    "    \n",
    "    ADB = AdaBoostClassifier()\n",
    "    \n",
    "    XGB = XGBClassifier(n_estimators = 50, use_label_encoder=False)\n",
    "    \n",
    "    print(\"Defined------->\")\n",
    "    print(\"ANN -------->\", \"(4096x4096x2096x2)\")\n",
    "    print(\"KNeighborsClassifier()\")\n",
    "    print(\"SVC(kernel = 'linear')\")\n",
    "    print(\"RandomForestClassifier(n_estimators = 50)\")\n",
    "    print(\"AdaBoostClassifier()\")\n",
    "    print(\"XGBClassifier(n_estimators = 50)\")\n",
    "    \n",
    "    return (ANN, KNN, SVM, RF, ADB, XGB)"
   ]
  },
  {
   "cell_type": "code",
   "execution_count": 12,
   "id": "53a31421",
   "metadata": {
    "execution": {
     "iopub.execute_input": "2022-05-24T23:05:57.413203Z",
     "iopub.status.busy": "2022-05-24T23:05:57.412039Z",
     "iopub.status.idle": "2022-05-24T23:05:57.419746Z",
     "shell.execute_reply": "2022-05-24T23:05:57.418612Z"
    },
    "papermill": {
     "duration": 0.043569,
     "end_time": "2022-05-24T23:05:57.422056",
     "exception": false,
     "start_time": "2022-05-24T23:05:57.378487",
     "status": "completed"
    },
    "tags": []
   },
   "outputs": [],
   "source": [
    "def reshape_data(X_train, X_val, X_test):\n",
    "    X_train = X_train.reshape(X_train.shape[0], -1)\n",
    "    X_val = X_val.reshape(X_val.shape[0], -1)\n",
    "    X_test = X_test.reshape(X_test.shape[0], -1)\n",
    "\n",
    "    print(\"Shape after reshaping------->\")\n",
    "    print(\"X train------->\", str(X_train.shape))\n",
    "    print(\"X val-------->\", str(X_val.shape))\n",
    "    print(\"X test-------->\", str(X_test.shape))\n",
    "    \n",
    "    return (X_train, X_val, X_test)"
   ]
  },
  {
   "cell_type": "code",
   "execution_count": 13,
   "id": "42153950",
   "metadata": {
    "execution": {
     "iopub.execute_input": "2022-05-24T23:05:57.486818Z",
     "iopub.status.busy": "2022-05-24T23:05:57.486517Z",
     "iopub.status.idle": "2022-05-24T23:05:57.505977Z",
     "shell.execute_reply": "2022-05-24T23:05:57.505238Z"
    },
    "papermill": {
     "duration": 0.054838,
     "end_time": "2022-05-24T23:05:57.508454",
     "exception": false,
     "start_time": "2022-05-24T23:05:57.453616",
     "status": "completed"
    },
    "tags": []
   },
   "outputs": [],
   "source": [
    "from sklearn.metrics import classification_report\n",
    "from tensorflow.keras.utils import to_categorical\n",
    "def fit_ANN(model, X_train, y_train, X_val, y_test):\n",
    "    callbacks = [EarlyStopping(monitor='val_loss', patience=5, verbose=1), ModelCheckpoint('ANN.hdf5', save_best_only=True)]\n",
    "    y_train=to_categorical(y_train)\n",
    "    y_test=to_categorical(y_test)\n",
    "    history = model.fit(X_train, y_train, validation_data=(X_val, y_test), epochs=10, verbose=1, callbacks=callbacks)\n",
    "    return model\n",
    "\n",
    "def fit_model(model, X_train, y_train):\n",
    "    model.fit(X_train, y_train)\n",
    "    return model\n",
    "from tensorflow.keras.utils import plot_model\n",
    "from IPython.display import Image\n",
    "def get_accuracy_metrics_for_ANN(model, X_train, y_train, X_val, y_val, X_test, y_test):\n",
    "    model.summary()\n",
    "    plot_model(model, to_file='ANN.png', show_shapes=True,show_layer_names=True)\n",
    "    Image(filename='ANN.png') \n",
    "    #y_train=np.argmax(y_train, axis=1)\n",
    "    #y_test=np.argmax(y_test, axis=1)\n",
    "    #y_val=np.argmax(y_val, axis=1)\n",
    "    y_train_pred=np.argmax(model.predict(X_train),axis=1)\n",
    "    y_test_pred=np.argmax(model.predict(X_test),axis=1)\n",
    "    y_val_pred=np.argmax(model.predict(X_val),axis=1)\n",
    "    print(\"Train accuracy Score------------>\")\n",
    "    print (\"{0:.3f}\".format(accuracy_score(y_train, np.argmax(model.predict(X_train), axis = 1))*100), \"%\")\n",
    "    \n",
    "    print(\"Val accuracy Score--------->\")\n",
    "    #val_pred = np.argmax(model.predict(X_val), axis = 1)\n",
    "    print(\"{0:.3f}\".format(accuracy_score(y_val, y_val_pred)*100), \"%\")\n",
    "    \n",
    "    #predicted =  np.argmax(model.predict(X_test), axis = 1)\n",
    "    print(\"Test accuracy Score--------->\")\n",
    "    print(\"{0:.3f}\".format(accuracy_score(y_test, y_test_pred)*100), \"%\")\n",
    "    \n",
    "    print(\"F1 Score--------------->\")\n",
    "    print(\"{0:.3f}\".format(f1_score(y_test, y_test_pred, average = 'weighted')*100), \"%\")\n",
    "    \n",
    "    print(\"Cohen Kappa Score------------->\")\n",
    "    print(\"{0:.3f}\".format(cohen_kappa_score(y_test, y_test_pred)*100), \"%\")\n",
    "    \n",
    "    print(\"Recall-------------->\")\n",
    "    print(\"{0:.3f}\".format(recall_score(y_test, y_test_pred, average = 'weighted')*100), \"%\")\n",
    "    \n",
    "    print(\"Precision-------------->\")\n",
    "    print(\"{0:.3f}\".format(precision_score(y_test, y_test_pred, average = 'weighted')*100), \"%\")\n",
    "    \n",
    "    cf_matrix_test = confusion_matrix(y_test, y_test_pred)\n",
    "    cf_matrix_val = confusion_matrix(y_val, y_val_pred)\n",
    "    \n",
    "    plt.figure(figsize = (12, 6))\n",
    "    plt.subplot(121)\n",
    "    sns.heatmap(cf_matrix_val, annot=True, cmap='Blues')\n",
    "    plt.title(\"Val Confusion matrix\")\n",
    "    \n",
    "    plt.subplot(122)\n",
    "    sns.heatmap(cf_matrix_test, annot=True, cmap='Blues')\n",
    "    plt.title(\"Test Confusion matrix\")\n",
    "    \n",
    "    plt.show()\n",
    "    print(\"classification report\")\n",
    "    print(classification_report(y_val, y_val_pred))"
   ]
  },
  {
   "cell_type": "code",
   "execution_count": 14,
   "id": "de79207b",
   "metadata": {
    "execution": {
     "iopub.execute_input": "2022-05-24T23:05:57.575098Z",
     "iopub.status.busy": "2022-05-24T23:05:57.574793Z",
     "iopub.status.idle": "2022-05-24T23:05:57.590418Z",
     "shell.execute_reply": "2022-05-24T23:05:57.589497Z"
    },
    "papermill": {
     "duration": 0.052222,
     "end_time": "2022-05-24T23:05:57.592522",
     "exception": false,
     "start_time": "2022-05-24T23:05:57.540300",
     "status": "completed"
    },
    "tags": []
   },
   "outputs": [],
   "source": [
    "def fit_KNN_metrics(model, X_train, y_train, X_val, y_val, X_test, y_test):\n",
    "    pca = PCA(n_components=1000)\n",
    "    #pca = PCA(n_components=130)\n",
    "    randlist = random.sample(range(0, X_train.shape[0]), 1000)\n",
    "    #randlist = random.sample(range(0, X_train.shape[0]), 90)\n",
    "    if(X_train.shape[1] > 10000):\n",
    "    #if(X_train.shape[1] > 100):\n",
    "        X_train = pca.fit_transform(X_train)\n",
    "        X_val = pca.transform(X_val)\n",
    "        X_test = pca.transform(X_test)\n",
    "\n",
    "    model.fit(X_train, y_train)\n",
    "    get_accuracy_metrics(model, X_train[randlist, :], y_train[randlist], X_val, y_val, X_test, y_test)\n",
    "    \n",
    "def get_accuracy_metrics(model, X_train, y_train, X_val, y_val, X_test, y_test):\n",
    "    print(\"Train accuracy Score------------>\")\n",
    "    print (\"{0:.3f}\".format(accuracy_score(y_train, model.predict(X_train))*100), \"%\")\n",
    "    \n",
    "    print(\"Val accuracy Score--------->\")\n",
    "    val_pred = model.predict(X_val)\n",
    "    print(\"{0:.3f}\".format(accuracy_score(y_val, val_pred)*100), \"%\")\n",
    "    \n",
    "    predicted =  model.predict(X_test)\n",
    "    print(\"Test accuracy Score--------->\")\n",
    "    print(\"{0:.3f}\".format(accuracy_score(y_test, predicted)*100), \"%\")\n",
    "    \n",
    "    print(\"F1 Score--------------->\")\n",
    "    print(\"{0:.3f}\".format(f1_score(y_test, predicted, average = 'weighted')*100), \"%\")\n",
    "    \n",
    "    print(\"Cohen Kappa Score------------->\")\n",
    "    print(\"{0:.3f}\".format(cohen_kappa_score(y_test, predicted)*100), \"%\")\n",
    "    \n",
    "    print(\"Recall-------------->\")\n",
    "    print(\"{0:.3f}\".format(recall_score(y_test, predicted, average = 'weighted')*100), \"%\")\n",
    "    \n",
    "    print(\"Precision-------------->\")\n",
    "    print(\"{0:.3f}\".format(precision_score(y_test, predicted, average = 'weighted')*100), \"%\")\n",
    "    \n",
    "    cf_matrix_test = confusion_matrix(y_test, predicted)\n",
    "    cf_matrix_val = confusion_matrix(y_val, val_pred)\n",
    "    \n",
    "    plt.figure(figsize = (12, 6))\n",
    "    plt.subplot(121)\n",
    "    sns.heatmap(cf_matrix_val, annot=True, cmap='Blues')\n",
    "    plt.title(\"Val Confusion matrix\")\n",
    "    \n",
    "    plt.subplot(122)\n",
    "    sns.heatmap(cf_matrix_test, annot=True, cmap='Blues')\n",
    "    plt.title(\"Test Confusion matrix\")\n",
    "    \n",
    "    plt.show()\n",
    "    print(\"classification report\")\n",
    "    print(classification_report(y_val, val_pred))"
   ]
  },
  {
   "cell_type": "markdown",
   "id": "de39e9d9",
   "metadata": {
    "papermill": {
     "duration": 0.032388,
     "end_time": "2022-05-24T23:05:57.658152",
     "exception": false,
     "start_time": "2022-05-24T23:05:57.625764",
     "status": "completed"
    },
    "tags": []
   },
   "source": [
    "# Mobilenet"
   ]
  },
  {
   "cell_type": "code",
   "execution_count": 15,
   "id": "c187e7e0",
   "metadata": {
    "execution": {
     "iopub.execute_input": "2022-05-24T23:05:57.725903Z",
     "iopub.status.busy": "2022-05-24T23:05:57.725477Z",
     "iopub.status.idle": "2022-05-24T23:05:59.426495Z",
     "shell.execute_reply": "2022-05-24T23:05:59.425466Z"
    },
    "papermill": {
     "duration": 1.741475,
     "end_time": "2022-05-24T23:05:59.432209",
     "exception": false,
     "start_time": "2022-05-24T23:05:57.690734",
     "status": "completed"
    },
    "tags": []
   },
   "outputs": [
    {
     "name": "stderr",
     "output_type": "stream",
     "text": [
      "2022-05-24 23:05:57.784195: I tensorflow/core/common_runtime/process_util.cc:146] Creating new thread pool with default inter op setting: 2. Tune using inter_op_parallelism_threads for best performance.\n"
     ]
    },
    {
     "name": "stdout",
     "output_type": "stream",
     "text": [
      "Downloading data from https://storage.googleapis.com/tensorflow/keras-applications/mobilenet_v2/mobilenet_v2_weights_tf_dim_ordering_tf_kernels_1.0_224_no_top.h5\n",
      "9412608/9406464 [==============================] - 0s 0us/step\n",
      "9420800/9406464 [==============================] - 0s 0us/step\n",
      "Model: \"model\"\n",
      "__________________________________________________________________________________________________\n",
      "Layer (type)                    Output Shape         Param #     Connected to                     \n",
      "==================================================================================================\n",
      "input_1 (InputLayer)            [(None, 224, 224, 3) 0                                            \n",
      "__________________________________________________________________________________________________\n",
      "Conv1 (Conv2D)                  (None, 112, 112, 32) 864         input_1[0][0]                    \n",
      "__________________________________________________________________________________________________\n",
      "bn_Conv1 (BatchNormalization)   (None, 112, 112, 32) 128         Conv1[0][0]                      \n",
      "__________________________________________________________________________________________________\n",
      "Conv1_relu (ReLU)               (None, 112, 112, 32) 0           bn_Conv1[0][0]                   \n",
      "__________________________________________________________________________________________________\n",
      "expanded_conv_depthwise (Depthw (None, 112, 112, 32) 288         Conv1_relu[0][0]                 \n",
      "__________________________________________________________________________________________________\n",
      "expanded_conv_depthwise_BN (Bat (None, 112, 112, 32) 128         expanded_conv_depthwise[0][0]    \n",
      "__________________________________________________________________________________________________\n",
      "expanded_conv_depthwise_relu (R (None, 112, 112, 32) 0           expanded_conv_depthwise_BN[0][0] \n",
      "__________________________________________________________________________________________________\n",
      "expanded_conv_project (Conv2D)  (None, 112, 112, 16) 512         expanded_conv_depthwise_relu[0][0\n",
      "__________________________________________________________________________________________________\n",
      "expanded_conv_project_BN (Batch (None, 112, 112, 16) 64          expanded_conv_project[0][0]      \n",
      "__________________________________________________________________________________________________\n",
      "block_1_expand (Conv2D)         (None, 112, 112, 96) 1536        expanded_conv_project_BN[0][0]   \n",
      "__________________________________________________________________________________________________\n",
      "block_1_expand_BN (BatchNormali (None, 112, 112, 96) 384         block_1_expand[0][0]             \n",
      "__________________________________________________________________________________________________\n",
      "block_1_expand_relu (ReLU)      (None, 112, 112, 96) 0           block_1_expand_BN[0][0]          \n",
      "__________________________________________________________________________________________________\n",
      "block_1_pad (ZeroPadding2D)     (None, 113, 113, 96) 0           block_1_expand_relu[0][0]        \n",
      "__________________________________________________________________________________________________\n",
      "block_1_depthwise (DepthwiseCon (None, 56, 56, 96)   864         block_1_pad[0][0]                \n",
      "__________________________________________________________________________________________________\n",
      "block_1_depthwise_BN (BatchNorm (None, 56, 56, 96)   384         block_1_depthwise[0][0]          \n",
      "__________________________________________________________________________________________________\n",
      "block_1_depthwise_relu (ReLU)   (None, 56, 56, 96)   0           block_1_depthwise_BN[0][0]       \n",
      "__________________________________________________________________________________________________\n",
      "block_1_project (Conv2D)        (None, 56, 56, 24)   2304        block_1_depthwise_relu[0][0]     \n",
      "__________________________________________________________________________________________________\n",
      "block_1_project_BN (BatchNormal (None, 56, 56, 24)   96          block_1_project[0][0]            \n",
      "__________________________________________________________________________________________________\n",
      "block_2_expand (Conv2D)         (None, 56, 56, 144)  3456        block_1_project_BN[0][0]         \n",
      "__________________________________________________________________________________________________\n",
      "block_2_expand_BN (BatchNormali (None, 56, 56, 144)  576         block_2_expand[0][0]             \n",
      "__________________________________________________________________________________________________\n",
      "block_2_expand_relu (ReLU)      (None, 56, 56, 144)  0           block_2_expand_BN[0][0]          \n",
      "__________________________________________________________________________________________________\n",
      "block_2_depthwise (DepthwiseCon (None, 56, 56, 144)  1296        block_2_expand_relu[0][0]        \n",
      "__________________________________________________________________________________________________\n",
      "block_2_depthwise_BN (BatchNorm (None, 56, 56, 144)  576         block_2_depthwise[0][0]          \n",
      "__________________________________________________________________________________________________\n",
      "block_2_depthwise_relu (ReLU)   (None, 56, 56, 144)  0           block_2_depthwise_BN[0][0]       \n",
      "__________________________________________________________________________________________________\n",
      "block_2_project (Conv2D)        (None, 56, 56, 24)   3456        block_2_depthwise_relu[0][0]     \n",
      "__________________________________________________________________________________________________\n",
      "block_2_project_BN (BatchNormal (None, 56, 56, 24)   96          block_2_project[0][0]            \n",
      "__________________________________________________________________________________________________\n",
      "block_2_add (Add)               (None, 56, 56, 24)   0           block_1_project_BN[0][0]         \n",
      "                                                                 block_2_project_BN[0][0]         \n",
      "__________________________________________________________________________________________________\n",
      "block_3_expand (Conv2D)         (None, 56, 56, 144)  3456        block_2_add[0][0]                \n",
      "__________________________________________________________________________________________________\n",
      "block_3_expand_BN (BatchNormali (None, 56, 56, 144)  576         block_3_expand[0][0]             \n",
      "__________________________________________________________________________________________________\n",
      "block_3_expand_relu (ReLU)      (None, 56, 56, 144)  0           block_3_expand_BN[0][0]          \n",
      "__________________________________________________________________________________________________\n",
      "block_3_pad (ZeroPadding2D)     (None, 57, 57, 144)  0           block_3_expand_relu[0][0]        \n",
      "__________________________________________________________________________________________________\n",
      "block_3_depthwise (DepthwiseCon (None, 28, 28, 144)  1296        block_3_pad[0][0]                \n",
      "__________________________________________________________________________________________________\n",
      "block_3_depthwise_BN (BatchNorm (None, 28, 28, 144)  576         block_3_depthwise[0][0]          \n",
      "__________________________________________________________________________________________________\n",
      "block_3_depthwise_relu (ReLU)   (None, 28, 28, 144)  0           block_3_depthwise_BN[0][0]       \n",
      "__________________________________________________________________________________________________\n",
      "block_3_project (Conv2D)        (None, 28, 28, 32)   4608        block_3_depthwise_relu[0][0]     \n",
      "__________________________________________________________________________________________________\n",
      "block_3_project_BN (BatchNormal (None, 28, 28, 32)   128         block_3_project[0][0]            \n",
      "__________________________________________________________________________________________________\n",
      "block_4_expand (Conv2D)         (None, 28, 28, 192)  6144        block_3_project_BN[0][0]         \n",
      "__________________________________________________________________________________________________\n",
      "block_4_expand_BN (BatchNormali (None, 28, 28, 192)  768         block_4_expand[0][0]             \n",
      "__________________________________________________________________________________________________\n",
      "block_4_expand_relu (ReLU)      (None, 28, 28, 192)  0           block_4_expand_BN[0][0]          \n",
      "__________________________________________________________________________________________________\n",
      "block_4_depthwise (DepthwiseCon (None, 28, 28, 192)  1728        block_4_expand_relu[0][0]        \n",
      "__________________________________________________________________________________________________\n",
      "block_4_depthwise_BN (BatchNorm (None, 28, 28, 192)  768         block_4_depthwise[0][0]          \n",
      "__________________________________________________________________________________________________\n",
      "block_4_depthwise_relu (ReLU)   (None, 28, 28, 192)  0           block_4_depthwise_BN[0][0]       \n",
      "__________________________________________________________________________________________________\n",
      "block_4_project (Conv2D)        (None, 28, 28, 32)   6144        block_4_depthwise_relu[0][0]     \n",
      "__________________________________________________________________________________________________\n",
      "block_4_project_BN (BatchNormal (None, 28, 28, 32)   128         block_4_project[0][0]            \n",
      "__________________________________________________________________________________________________\n",
      "block_4_add (Add)               (None, 28, 28, 32)   0           block_3_project_BN[0][0]         \n",
      "                                                                 block_4_project_BN[0][0]         \n",
      "__________________________________________________________________________________________________\n",
      "block_5_expand (Conv2D)         (None, 28, 28, 192)  6144        block_4_add[0][0]                \n",
      "__________________________________________________________________________________________________\n",
      "block_5_expand_BN (BatchNormali (None, 28, 28, 192)  768         block_5_expand[0][0]             \n",
      "__________________________________________________________________________________________________\n",
      "block_5_expand_relu (ReLU)      (None, 28, 28, 192)  0           block_5_expand_BN[0][0]          \n",
      "__________________________________________________________________________________________________\n",
      "block_5_depthwise (DepthwiseCon (None, 28, 28, 192)  1728        block_5_expand_relu[0][0]        \n",
      "__________________________________________________________________________________________________\n",
      "block_5_depthwise_BN (BatchNorm (None, 28, 28, 192)  768         block_5_depthwise[0][0]          \n",
      "__________________________________________________________________________________________________\n",
      "block_5_depthwise_relu (ReLU)   (None, 28, 28, 192)  0           block_5_depthwise_BN[0][0]       \n",
      "__________________________________________________________________________________________________\n",
      "block_5_project (Conv2D)        (None, 28, 28, 32)   6144        block_5_depthwise_relu[0][0]     \n",
      "__________________________________________________________________________________________________\n",
      "block_5_project_BN (BatchNormal (None, 28, 28, 32)   128         block_5_project[0][0]            \n",
      "__________________________________________________________________________________________________\n",
      "block_5_add (Add)               (None, 28, 28, 32)   0           block_4_add[0][0]                \n",
      "                                                                 block_5_project_BN[0][0]         \n",
      "__________________________________________________________________________________________________\n",
      "block_6_expand (Conv2D)         (None, 28, 28, 192)  6144        block_5_add[0][0]                \n",
      "__________________________________________________________________________________________________\n",
      "block_6_expand_BN (BatchNormali (None, 28, 28, 192)  768         block_6_expand[0][0]             \n",
      "__________________________________________________________________________________________________\n",
      "block_6_expand_relu (ReLU)      (None, 28, 28, 192)  0           block_6_expand_BN[0][0]          \n",
      "__________________________________________________________________________________________________\n",
      "block_6_pad (ZeroPadding2D)     (None, 29, 29, 192)  0           block_6_expand_relu[0][0]        \n",
      "__________________________________________________________________________________________________\n",
      "block_6_depthwise (DepthwiseCon (None, 14, 14, 192)  1728        block_6_pad[0][0]                \n",
      "__________________________________________________________________________________________________\n",
      "block_6_depthwise_BN (BatchNorm (None, 14, 14, 192)  768         block_6_depthwise[0][0]          \n",
      "__________________________________________________________________________________________________\n",
      "block_6_depthwise_relu (ReLU)   (None, 14, 14, 192)  0           block_6_depthwise_BN[0][0]       \n",
      "__________________________________________________________________________________________________\n",
      "block_6_project (Conv2D)        (None, 14, 14, 64)   12288       block_6_depthwise_relu[0][0]     \n",
      "__________________________________________________________________________________________________\n",
      "block_6_project_BN (BatchNormal (None, 14, 14, 64)   256         block_6_project[0][0]            \n",
      "__________________________________________________________________________________________________\n",
      "block_7_expand (Conv2D)         (None, 14, 14, 384)  24576       block_6_project_BN[0][0]         \n",
      "__________________________________________________________________________________________________\n",
      "block_7_expand_BN (BatchNormali (None, 14, 14, 384)  1536        block_7_expand[0][0]             \n",
      "__________________________________________________________________________________________________\n",
      "block_7_expand_relu (ReLU)      (None, 14, 14, 384)  0           block_7_expand_BN[0][0]          \n",
      "__________________________________________________________________________________________________\n",
      "block_7_depthwise (DepthwiseCon (None, 14, 14, 384)  3456        block_7_expand_relu[0][0]        \n",
      "__________________________________________________________________________________________________\n",
      "block_7_depthwise_BN (BatchNorm (None, 14, 14, 384)  1536        block_7_depthwise[0][0]          \n",
      "__________________________________________________________________________________________________\n",
      "block_7_depthwise_relu (ReLU)   (None, 14, 14, 384)  0           block_7_depthwise_BN[0][0]       \n",
      "__________________________________________________________________________________________________\n",
      "block_7_project (Conv2D)        (None, 14, 14, 64)   24576       block_7_depthwise_relu[0][0]     \n",
      "__________________________________________________________________________________________________\n",
      "block_7_project_BN (BatchNormal (None, 14, 14, 64)   256         block_7_project[0][0]            \n",
      "__________________________________________________________________________________________________\n",
      "block_7_add (Add)               (None, 14, 14, 64)   0           block_6_project_BN[0][0]         \n",
      "                                                                 block_7_project_BN[0][0]         \n",
      "__________________________________________________________________________________________________\n",
      "block_8_expand (Conv2D)         (None, 14, 14, 384)  24576       block_7_add[0][0]                \n",
      "__________________________________________________________________________________________________\n",
      "block_8_expand_BN (BatchNormali (None, 14, 14, 384)  1536        block_8_expand[0][0]             \n",
      "__________________________________________________________________________________________________\n",
      "block_8_expand_relu (ReLU)      (None, 14, 14, 384)  0           block_8_expand_BN[0][0]          \n",
      "__________________________________________________________________________________________________\n",
      "block_8_depthwise (DepthwiseCon (None, 14, 14, 384)  3456        block_8_expand_relu[0][0]        \n",
      "__________________________________________________________________________________________________\n",
      "block_8_depthwise_BN (BatchNorm (None, 14, 14, 384)  1536        block_8_depthwise[0][0]          \n",
      "__________________________________________________________________________________________________\n",
      "block_8_depthwise_relu (ReLU)   (None, 14, 14, 384)  0           block_8_depthwise_BN[0][0]       \n",
      "__________________________________________________________________________________________________\n",
      "block_8_project (Conv2D)        (None, 14, 14, 64)   24576       block_8_depthwise_relu[0][0]     \n",
      "__________________________________________________________________________________________________\n",
      "block_8_project_BN (BatchNormal (None, 14, 14, 64)   256         block_8_project[0][0]            \n",
      "__________________________________________________________________________________________________\n",
      "block_8_add (Add)               (None, 14, 14, 64)   0           block_7_add[0][0]                \n",
      "                                                                 block_8_project_BN[0][0]         \n",
      "__________________________________________________________________________________________________\n",
      "block_9_expand (Conv2D)         (None, 14, 14, 384)  24576       block_8_add[0][0]                \n",
      "__________________________________________________________________________________________________\n",
      "block_9_expand_BN (BatchNormali (None, 14, 14, 384)  1536        block_9_expand[0][0]             \n",
      "__________________________________________________________________________________________________\n",
      "block_9_expand_relu (ReLU)      (None, 14, 14, 384)  0           block_9_expand_BN[0][0]          \n",
      "__________________________________________________________________________________________________\n",
      "block_9_depthwise (DepthwiseCon (None, 14, 14, 384)  3456        block_9_expand_relu[0][0]        \n",
      "__________________________________________________________________________________________________\n",
      "block_9_depthwise_BN (BatchNorm (None, 14, 14, 384)  1536        block_9_depthwise[0][0]          \n",
      "__________________________________________________________________________________________________\n",
      "block_9_depthwise_relu (ReLU)   (None, 14, 14, 384)  0           block_9_depthwise_BN[0][0]       \n",
      "__________________________________________________________________________________________________\n",
      "block_9_project (Conv2D)        (None, 14, 14, 64)   24576       block_9_depthwise_relu[0][0]     \n",
      "__________________________________________________________________________________________________\n",
      "block_9_project_BN (BatchNormal (None, 14, 14, 64)   256         block_9_project[0][0]            \n",
      "__________________________________________________________________________________________________\n",
      "block_9_add (Add)               (None, 14, 14, 64)   0           block_8_add[0][0]                \n",
      "                                                                 block_9_project_BN[0][0]         \n",
      "__________________________________________________________________________________________________\n",
      "block_10_expand (Conv2D)        (None, 14, 14, 384)  24576       block_9_add[0][0]                \n",
      "__________________________________________________________________________________________________\n",
      "block_10_expand_BN (BatchNormal (None, 14, 14, 384)  1536        block_10_expand[0][0]            \n",
      "__________________________________________________________________________________________________\n",
      "block_10_expand_relu (ReLU)     (None, 14, 14, 384)  0           block_10_expand_BN[0][0]         \n",
      "__________________________________________________________________________________________________\n",
      "block_10_depthwise (DepthwiseCo (None, 14, 14, 384)  3456        block_10_expand_relu[0][0]       \n",
      "__________________________________________________________________________________________________\n",
      "block_10_depthwise_BN (BatchNor (None, 14, 14, 384)  1536        block_10_depthwise[0][0]         \n",
      "__________________________________________________________________________________________________\n",
      "block_10_depthwise_relu (ReLU)  (None, 14, 14, 384)  0           block_10_depthwise_BN[0][0]      \n",
      "__________________________________________________________________________________________________\n",
      "block_10_project (Conv2D)       (None, 14, 14, 96)   36864       block_10_depthwise_relu[0][0]    \n",
      "__________________________________________________________________________________________________\n",
      "block_10_project_BN (BatchNorma (None, 14, 14, 96)   384         block_10_project[0][0]           \n",
      "__________________________________________________________________________________________________\n",
      "block_11_expand (Conv2D)        (None, 14, 14, 576)  55296       block_10_project_BN[0][0]        \n",
      "__________________________________________________________________________________________________\n",
      "block_11_expand_BN (BatchNormal (None, 14, 14, 576)  2304        block_11_expand[0][0]            \n",
      "__________________________________________________________________________________________________\n",
      "block_11_expand_relu (ReLU)     (None, 14, 14, 576)  0           block_11_expand_BN[0][0]         \n",
      "__________________________________________________________________________________________________\n",
      "block_11_depthwise (DepthwiseCo (None, 14, 14, 576)  5184        block_11_expand_relu[0][0]       \n",
      "__________________________________________________________________________________________________\n",
      "block_11_depthwise_BN (BatchNor (None, 14, 14, 576)  2304        block_11_depthwise[0][0]         \n",
      "__________________________________________________________________________________________________\n",
      "block_11_depthwise_relu (ReLU)  (None, 14, 14, 576)  0           block_11_depthwise_BN[0][0]      \n",
      "__________________________________________________________________________________________________\n",
      "block_11_project (Conv2D)       (None, 14, 14, 96)   55296       block_11_depthwise_relu[0][0]    \n",
      "__________________________________________________________________________________________________\n",
      "block_11_project_BN (BatchNorma (None, 14, 14, 96)   384         block_11_project[0][0]           \n",
      "__________________________________________________________________________________________________\n",
      "block_11_add (Add)              (None, 14, 14, 96)   0           block_10_project_BN[0][0]        \n",
      "                                                                 block_11_project_BN[0][0]        \n",
      "__________________________________________________________________________________________________\n",
      "block_12_expand (Conv2D)        (None, 14, 14, 576)  55296       block_11_add[0][0]               \n",
      "__________________________________________________________________________________________________\n",
      "block_12_expand_BN (BatchNormal (None, 14, 14, 576)  2304        block_12_expand[0][0]            \n",
      "__________________________________________________________________________________________________\n",
      "block_12_expand_relu (ReLU)     (None, 14, 14, 576)  0           block_12_expand_BN[0][0]         \n",
      "__________________________________________________________________________________________________\n",
      "block_12_depthwise (DepthwiseCo (None, 14, 14, 576)  5184        block_12_expand_relu[0][0]       \n",
      "__________________________________________________________________________________________________\n",
      "block_12_depthwise_BN (BatchNor (None, 14, 14, 576)  2304        block_12_depthwise[0][0]         \n",
      "__________________________________________________________________________________________________\n",
      "block_12_depthwise_relu (ReLU)  (None, 14, 14, 576)  0           block_12_depthwise_BN[0][0]      \n",
      "__________________________________________________________________________________________________\n",
      "block_12_project (Conv2D)       (None, 14, 14, 96)   55296       block_12_depthwise_relu[0][0]    \n",
      "__________________________________________________________________________________________________\n",
      "block_12_project_BN (BatchNorma (None, 14, 14, 96)   384         block_12_project[0][0]           \n",
      "__________________________________________________________________________________________________\n",
      "block_12_add (Add)              (None, 14, 14, 96)   0           block_11_add[0][0]               \n",
      "                                                                 block_12_project_BN[0][0]        \n",
      "__________________________________________________________________________________________________\n",
      "block_13_expand (Conv2D)        (None, 14, 14, 576)  55296       block_12_add[0][0]               \n",
      "__________________________________________________________________________________________________\n",
      "block_13_expand_BN (BatchNormal (None, 14, 14, 576)  2304        block_13_expand[0][0]            \n",
      "__________________________________________________________________________________________________\n",
      "block_13_expand_relu (ReLU)     (None, 14, 14, 576)  0           block_13_expand_BN[0][0]         \n",
      "__________________________________________________________________________________________________\n",
      "block_13_pad (ZeroPadding2D)    (None, 15, 15, 576)  0           block_13_expand_relu[0][0]       \n",
      "__________________________________________________________________________________________________\n",
      "block_13_depthwise (DepthwiseCo (None, 7, 7, 576)    5184        block_13_pad[0][0]               \n",
      "__________________________________________________________________________________________________\n",
      "block_13_depthwise_BN (BatchNor (None, 7, 7, 576)    2304        block_13_depthwise[0][0]         \n",
      "__________________________________________________________________________________________________\n",
      "block_13_depthwise_relu (ReLU)  (None, 7, 7, 576)    0           block_13_depthwise_BN[0][0]      \n",
      "__________________________________________________________________________________________________\n",
      "block_13_project (Conv2D)       (None, 7, 7, 160)    92160       block_13_depthwise_relu[0][0]    \n",
      "__________________________________________________________________________________________________\n",
      "block_13_project_BN (BatchNorma (None, 7, 7, 160)    640         block_13_project[0][0]           \n",
      "__________________________________________________________________________________________________\n",
      "block_14_expand (Conv2D)        (None, 7, 7, 960)    153600      block_13_project_BN[0][0]        \n",
      "__________________________________________________________________________________________________\n",
      "block_14_expand_BN (BatchNormal (None, 7, 7, 960)    3840        block_14_expand[0][0]            \n",
      "__________________________________________________________________________________________________\n",
      "block_14_expand_relu (ReLU)     (None, 7, 7, 960)    0           block_14_expand_BN[0][0]         \n",
      "__________________________________________________________________________________________________\n",
      "block_14_depthwise (DepthwiseCo (None, 7, 7, 960)    8640        block_14_expand_relu[0][0]       \n",
      "__________________________________________________________________________________________________\n",
      "block_14_depthwise_BN (BatchNor (None, 7, 7, 960)    3840        block_14_depthwise[0][0]         \n",
      "__________________________________________________________________________________________________\n",
      "block_14_depthwise_relu (ReLU)  (None, 7, 7, 960)    0           block_14_depthwise_BN[0][0]      \n",
      "__________________________________________________________________________________________________\n",
      "block_14_project (Conv2D)       (None, 7, 7, 160)    153600      block_14_depthwise_relu[0][0]    \n",
      "__________________________________________________________________________________________________\n",
      "block_14_project_BN (BatchNorma (None, 7, 7, 160)    640         block_14_project[0][0]           \n",
      "__________________________________________________________________________________________________\n",
      "block_14_add (Add)              (None, 7, 7, 160)    0           block_13_project_BN[0][0]        \n",
      "                                                                 block_14_project_BN[0][0]        \n",
      "__________________________________________________________________________________________________\n",
      "block_15_expand (Conv2D)        (None, 7, 7, 960)    153600      block_14_add[0][0]               \n",
      "__________________________________________________________________________________________________\n",
      "block_15_expand_BN (BatchNormal (None, 7, 7, 960)    3840        block_15_expand[0][0]            \n",
      "__________________________________________________________________________________________________\n",
      "block_15_expand_relu (ReLU)     (None, 7, 7, 960)    0           block_15_expand_BN[0][0]         \n",
      "__________________________________________________________________________________________________\n",
      "block_15_depthwise (DepthwiseCo (None, 7, 7, 960)    8640        block_15_expand_relu[0][0]       \n",
      "__________________________________________________________________________________________________\n",
      "block_15_depthwise_BN (BatchNor (None, 7, 7, 960)    3840        block_15_depthwise[0][0]         \n",
      "__________________________________________________________________________________________________\n",
      "block_15_depthwise_relu (ReLU)  (None, 7, 7, 960)    0           block_15_depthwise_BN[0][0]      \n",
      "__________________________________________________________________________________________________\n",
      "block_15_project (Conv2D)       (None, 7, 7, 160)    153600      block_15_depthwise_relu[0][0]    \n",
      "__________________________________________________________________________________________________\n",
      "block_15_project_BN (BatchNorma (None, 7, 7, 160)    640         block_15_project[0][0]           \n",
      "__________________________________________________________________________________________________\n",
      "block_15_add (Add)              (None, 7, 7, 160)    0           block_14_add[0][0]               \n",
      "                                                                 block_15_project_BN[0][0]        \n",
      "__________________________________________________________________________________________________\n",
      "block_16_expand (Conv2D)        (None, 7, 7, 960)    153600      block_15_add[0][0]               \n",
      "__________________________________________________________________________________________________\n",
      "block_16_expand_BN (BatchNormal (None, 7, 7, 960)    3840        block_16_expand[0][0]            \n",
      "__________________________________________________________________________________________________\n",
      "block_16_expand_relu (ReLU)     (None, 7, 7, 960)    0           block_16_expand_BN[0][0]         \n",
      "__________________________________________________________________________________________________\n",
      "block_16_depthwise (DepthwiseCo (None, 7, 7, 960)    8640        block_16_expand_relu[0][0]       \n",
      "__________________________________________________________________________________________________\n",
      "block_16_depthwise_BN (BatchNor (None, 7, 7, 960)    3840        block_16_depthwise[0][0]         \n",
      "__________________________________________________________________________________________________\n",
      "block_16_depthwise_relu (ReLU)  (None, 7, 7, 960)    0           block_16_depthwise_BN[0][0]      \n",
      "__________________________________________________________________________________________________\n",
      "block_16_project (Conv2D)       (None, 7, 7, 320)    307200      block_16_depthwise_relu[0][0]    \n",
      "__________________________________________________________________________________________________\n",
      "block_16_project_BN (BatchNorma (None, 7, 7, 320)    1280        block_16_project[0][0]           \n",
      "__________________________________________________________________________________________________\n",
      "Conv_1 (Conv2D)                 (None, 7, 7, 1280)   409600      block_16_project_BN[0][0]        \n",
      "__________________________________________________________________________________________________\n",
      "Conv_1_bn (BatchNormalization)  (None, 7, 7, 1280)   5120        Conv_1[0][0]                     \n",
      "__________________________________________________________________________________________________\n",
      "out_relu (ReLU)                 (None, 7, 7, 1280)   0           Conv_1_bn[0][0]                  \n",
      "==================================================================================================\n",
      "Total params: 2,257,984\n",
      "Trainable params: 0\n",
      "Non-trainable params: 2,257,984\n",
      "__________________________________________________________________________________________________\n"
     ]
    }
   ],
   "source": [
    "from tensorflow.keras.applications import MobileNetV2\n",
    "base_model = MobileNetV2(include_top=False, input_shape=(img_size, img_size, 3), weights='imagenet')\n",
    "#base_model = VGG16(include_top=False, input_shape=(img_size, img_size, 2), weights='imagenet')\n",
    "\n",
    "\n",
    "for layer in base_model.layers:\n",
    "    layer.trainable = False\n",
    "                   \n",
    "model = Model(inputs=base_model.input, outputs=base_model.layers[-1].output)\n",
    "model.summary()"
   ]
  },
  {
   "cell_type": "markdown",
   "id": "f24145f6",
   "metadata": {
    "papermill": {
     "duration": 0.035605,
     "end_time": "2022-05-24T23:05:59.503359",
     "exception": false,
     "start_time": "2022-05-24T23:05:59.467754",
     "status": "completed"
    },
    "tags": []
   },
   "source": [
    "# here is the input place of data"
   ]
  },
  {
   "cell_type": "code",
   "execution_count": 16,
   "id": "0f3e526e",
   "metadata": {
    "execution": {
     "iopub.execute_input": "2022-05-24T23:05:59.578820Z",
     "iopub.status.busy": "2022-05-24T23:05:59.578531Z",
     "iopub.status.idle": "2022-05-24T23:05:59.583218Z",
     "shell.execute_reply": "2022-05-24T23:05:59.582135Z"
    },
    "papermill": {
     "duration": 0.046566,
     "end_time": "2022-05-24T23:05:59.586089",
     "exception": false,
     "start_time": "2022-05-24T23:05:59.539523",
     "status": "completed"
    },
    "tags": []
   },
   "outputs": [
    {
     "name": "stdout",
     "output_type": "stream",
     "text": [
      "(600, 224, 224, 3)\n"
     ]
    }
   ],
   "source": [
    "print(X_test_original.shape)"
   ]
  },
  {
   "cell_type": "code",
   "execution_count": 17,
   "id": "aae5f5b0",
   "metadata": {
    "execution": {
     "iopub.execute_input": "2022-05-24T23:05:59.659318Z",
     "iopub.status.busy": "2022-05-24T23:05:59.659001Z",
     "iopub.status.idle": "2022-05-24T23:06:32.005668Z",
     "shell.execute_reply": "2022-05-24T23:06:32.004477Z"
    },
    "papermill": {
     "duration": 32.420977,
     "end_time": "2022-05-24T23:06:32.042749",
     "exception": false,
     "start_time": "2022-05-24T23:05:59.621772",
     "status": "completed"
    },
    "tags": []
   },
   "outputs": [
    {
     "name": "stderr",
     "output_type": "stream",
     "text": [
      "2022-05-24 23:05:59.954143: I tensorflow/compiler/mlir/mlir_graph_optimization_pass.cc:185] None of the MLIR Optimization Passes are enabled (registered 2)\n"
     ]
    },
    {
     "name": "stdout",
     "output_type": "stream",
     "text": [
      "Shape of X_train-----> (1400, 7, 7, 1280)\n",
      "Shape of X_val-----> (420, 7, 7, 1280)\n",
      "Shape of X_test-----> (180, 7, 7, 1280)\n"
     ]
    }
   ],
   "source": [
    "\n",
    "X_train, X_val, X_test, y_train, y_val, y_test = get_features2(model, X_train_original, y_train_original, X_test_original, y_test_original)\n",
    "\n",
    "#def get_features2(base_model, X_train1, y_train1, X_test1, y_test1):"
   ]
  },
  {
   "cell_type": "code",
   "execution_count": 18,
   "id": "cc5b9b6c",
   "metadata": {
    "execution": {
     "iopub.execute_input": "2022-05-24T23:06:32.121174Z",
     "iopub.status.busy": "2022-05-24T23:06:32.120842Z",
     "iopub.status.idle": "2022-05-24T23:06:32.126221Z",
     "shell.execute_reply": "2022-05-24T23:06:32.125120Z"
    },
    "papermill": {
     "duration": 0.046492,
     "end_time": "2022-05-24T23:06:32.128476",
     "exception": false,
     "start_time": "2022-05-24T23:06:32.081984",
     "status": "completed"
    },
    "tags": []
   },
   "outputs": [
    {
     "name": "stdout",
     "output_type": "stream",
     "text": [
      "(1400,)\n",
      "(180,)\n",
      "(420,)\n"
     ]
    }
   ],
   "source": [
    "print(y_train.shape)\n",
    "print(y_test.shape)\n",
    "print(y_val.shape)"
   ]
  },
  {
   "cell_type": "code",
   "execution_count": 19,
   "id": "716a7046",
   "metadata": {
    "execution": {
     "iopub.execute_input": "2022-05-24T23:06:32.203592Z",
     "iopub.status.busy": "2022-05-24T23:06:32.202668Z",
     "iopub.status.idle": "2022-05-24T23:13:44.321714Z",
     "shell.execute_reply": "2022-05-24T23:13:44.320526Z"
    },
    "papermill": {
     "duration": 432.159204,
     "end_time": "2022-05-24T23:13:44.324375",
     "exception": false,
     "start_time": "2022-05-24T23:06:32.165171",
     "status": "completed"
    },
    "tags": []
   },
   "outputs": [
    {
     "name": "stdout",
     "output_type": "stream",
     "text": [
      "Shape after reshaping------->\n",
      "X train-------> (1400, 62720)\n",
      "X val--------> (420, 62720)\n",
      "X test--------> (180, 62720)\n",
      "Defined------->\n",
      "ANN --------> (4096x4096x2096x2)\n",
      "KNeighborsClassifier()\n",
      "SVC(kernel = 'linear')\n",
      "RandomForestClassifier(n_estimators = 50)\n",
      "AdaBoostClassifier()\n",
      "XGBClassifier(n_estimators = 50)\n",
      "Epoch 1/10\n",
      "44/44 [==============================] - 40s 883ms/step - loss: 1.4777 - accuracy: 0.8293 - val_loss: 0.4079 - val_accuracy: 0.8929\n",
      "Epoch 2/10\n",
      "44/44 [==============================] - 40s 908ms/step - loss: 0.2999 - accuracy: 0.8764 - val_loss: 1.1233 - val_accuracy: 0.8548\n",
      "Epoch 3/10\n",
      "44/44 [==============================] - 39s 884ms/step - loss: 0.2479 - accuracy: 0.8979 - val_loss: 0.4080 - val_accuracy: 0.8548\n",
      "Epoch 4/10\n",
      "44/44 [==============================] - 39s 884ms/step - loss: 0.2028 - accuracy: 0.9171 - val_loss: 0.2987 - val_accuracy: 0.8833\n",
      "Epoch 5/10\n",
      "44/44 [==============================] - 38s 873ms/step - loss: 0.1313 - accuracy: 0.9471 - val_loss: 0.2974 - val_accuracy: 0.9167\n",
      "Epoch 6/10\n",
      "44/44 [==============================] - 39s 890ms/step - loss: 0.1071 - accuracy: 0.9607 - val_loss: 0.3336 - val_accuracy: 0.8714\n",
      "Epoch 7/10\n",
      "44/44 [==============================] - 39s 879ms/step - loss: 0.0930 - accuracy: 0.9650 - val_loss: 0.3178 - val_accuracy: 0.9452\n",
      "Epoch 8/10\n",
      "44/44 [==============================] - 39s 883ms/step - loss: 0.0538 - accuracy: 0.9800 - val_loss: 0.4032 - val_accuracy: 0.9595\n",
      "Epoch 9/10\n",
      "44/44 [==============================] - 39s 885ms/step - loss: 0.0900 - accuracy: 0.9693 - val_loss: 0.3917 - val_accuracy: 0.9000\n",
      "Epoch 10/10\n",
      "44/44 [==============================] - 38s 871ms/step - loss: 0.0433 - accuracy: 0.9843 - val_loss: 0.4400 - val_accuracy: 0.9524\n",
      "Epoch 00010: early stopping\n"
     ]
    }
   ],
   "source": [
    "X_train, X_val, X_test = reshape_data(X_train, X_val, X_test)\n",
    "ANN, KNN, SVM, RF, ADB, XGB = get_models()\n",
    "\n",
    "ANN = fit_ANN(ANN, X_train, y_train, X_val, y_val)"
   ]
  },
  {
   "cell_type": "code",
   "execution_count": 20,
   "id": "6d73399d",
   "metadata": {
    "execution": {
     "iopub.execute_input": "2022-05-24T23:13:44.739398Z",
     "iopub.status.busy": "2022-05-24T23:13:44.738379Z",
     "iopub.status.idle": "2022-05-24T23:14:16.313338Z",
     "shell.execute_reply": "2022-05-24T23:14:16.312373Z"
    },
    "papermill": {
     "duration": 31.783679,
     "end_time": "2022-05-24T23:14:16.315477",
     "exception": false,
     "start_time": "2022-05-24T23:13:44.531798",
     "status": "completed"
    },
    "tags": []
   },
   "outputs": [
    {
     "name": "stdout",
     "output_type": "stream",
     "text": [
      "Model: \"sequential\"\n",
      "_________________________________________________________________\n",
      "Layer (type)                 Output Shape              Param #   \n",
      "=================================================================\n",
      "dense (Dense)                (None, 4096)              256905216 \n",
      "_________________________________________________________________\n",
      "batch_normalization (BatchNo (None, 4096)              16384     \n",
      "_________________________________________________________________\n",
      "dense_1 (Dense)              (None, 4096)              16781312  \n",
      "_________________________________________________________________\n",
      "dropout (Dropout)            (None, 4096)              0         \n",
      "_________________________________________________________________\n",
      "dense_2 (Dense)              (None, 2096)              8587312   \n",
      "_________________________________________________________________\n",
      "dense_3 (Dense)              (None, 2)                 4194      \n",
      "=================================================================\n",
      "Total params: 282,294,418\n",
      "Trainable params: 282,286,226\n",
      "Non-trainable params: 8,192\n",
      "_________________________________________________________________\n",
      "Train accuracy Score------------>\n",
      "99.357 %\n",
      "Val accuracy Score--------->\n",
      "95.238 %\n",
      "Test accuracy Score--------->\n",
      "93.889 %\n",
      "F1 Score--------------->\n",
      "93.311 %\n",
      "Cohen Kappa Score------------->\n",
      "74.219 %\n",
      "Recall-------------->\n",
      "93.889 %\n",
      "Precision-------------->\n",
      "94.306 %\n"
     ]
    },
    {
     "data": {
      "image/png": "[encoded data removed]",
      "text/plain": [
       "<Figure size 864x432 with 4 Axes>"
      ]
     },
     "metadata": {
      "needs_background": "light"
     },
     "output_type": "display_data"
    },
    {
     "name": "stdout",
     "output_type": "stream",
     "text": [
      "classification report\n",
      "              precision    recall  f1-score   support\n",
      "\n",
      "           0       0.96      0.99      0.97       359\n",
      "           1       0.92      0.74      0.82        61\n",
      "\n",
      "    accuracy                           0.95       420\n",
      "   macro avg       0.94      0.86      0.90       420\n",
      "weighted avg       0.95      0.95      0.95       420\n",
      "\n"
     ]
    }
   ],
   "source": [
    "get_accuracy_metrics_for_ANN(ANN, X_train, y_train, X_val, y_val, X_test, y_test)"
   ]
  },
  {
   "cell_type": "code",
   "execution_count": 21,
   "id": "e25910e5",
   "metadata": {
    "execution": {
     "iopub.execute_input": "2022-05-24T23:14:16.739474Z",
     "iopub.status.busy": "2022-05-24T23:14:16.738910Z",
     "iopub.status.idle": "2022-05-24T23:14:18.244778Z",
     "shell.execute_reply": "2022-05-24T23:14:18.243646Z"
    },
    "papermill": {
     "duration": 1.723536,
     "end_time": "2022-05-24T23:14:18.247337",
     "exception": false,
     "start_time": "2022-05-24T23:14:16.523801",
     "status": "completed"
    },
    "tags": []
   },
   "outputs": [],
   "source": [
    "scaler = StandardScaler()\n",
    "X_train_scaled = scaler.fit_transform(X_train)\n",
    "X_val_scaled = scaler.transform(X_val)\n",
    "X_test_scaled = scaler.transform(X_test)"
   ]
  },
  {
   "cell_type": "code",
   "execution_count": 22,
   "id": "bb3e5973",
   "metadata": {
    "execution": {
     "iopub.execute_input": "2022-05-24T23:14:18.676732Z",
     "iopub.status.busy": "2022-05-24T23:14:18.675832Z",
     "iopub.status.idle": "2022-05-24T23:15:12.809751Z",
     "shell.execute_reply": "2022-05-24T23:15:12.808777Z"
    },
    "papermill": {
     "duration": 54.35122,
     "end_time": "2022-05-24T23:15:12.812071",
     "exception": false,
     "start_time": "2022-05-24T23:14:18.460851",
     "status": "completed"
    },
    "tags": []
   },
   "outputs": [
    {
     "name": "stdout",
     "output_type": "stream",
     "text": [
      "Train accuracy Score------------>\n",
      "100.000 %\n",
      "Val accuracy Score--------->\n",
      "94.524 %\n",
      "Test accuracy Score--------->\n",
      "91.667 %\n",
      "F1 Score--------------->\n",
      "91.053 %\n",
      "Cohen Kappa Score------------->\n",
      "65.909 %\n",
      "Recall-------------->\n",
      "91.667 %\n",
      "Precision-------------->\n",
      "91.330 %\n"
     ]
    },
    {
     "data": {
      "image/png": "[encoded data removed]",
      "text/plain": [
       "<Figure size 864x432 with 4 Axes>"
      ]
     },
     "metadata": {
      "needs_background": "light"
     },
     "output_type": "display_data"
    },
    {
     "name": "stdout",
     "output_type": "stream",
     "text": [
      "classification report\n",
      "              precision    recall  f1-score   support\n",
      "\n",
      "           0       0.97      0.97      0.97       359\n",
      "           1       0.82      0.80      0.81        61\n",
      "\n",
      "    accuracy                           0.95       420\n",
      "   macro avg       0.89      0.89      0.89       420\n",
      "weighted avg       0.94      0.95      0.95       420\n",
      "\n"
     ]
    }
   ],
   "source": [
    "SVM = fit_model(SVM, X_train_scaled, y_train)\n",
    "get_accuracy_metrics(SVM, X_train_scaled, y_train, X_val_scaled, y_val, X_test_scaled, y_test)"
   ]
  },
  {
   "cell_type": "code",
   "execution_count": 23,
   "id": "7be60d14",
   "metadata": {
    "execution": {
     "iopub.execute_input": "2022-05-24T23:15:13.233765Z",
     "iopub.status.busy": "2022-05-24T23:15:13.233239Z",
     "iopub.status.idle": "2022-05-24T23:15:19.504282Z",
     "shell.execute_reply": "2022-05-24T23:15:19.503085Z"
    },
    "papermill": {
     "duration": 6.484352,
     "end_time": "2022-05-24T23:15:19.506687",
     "exception": false,
     "start_time": "2022-05-24T23:15:13.022335",
     "status": "completed"
    },
    "tags": []
   },
   "outputs": [
    {
     "name": "stdout",
     "output_type": "stream",
     "text": [
      "Train accuracy Score------------>\n",
      "100.000 %\n",
      "Val accuracy Score--------->\n",
      "94.286 %\n",
      "Test accuracy Score--------->\n",
      "92.222 %\n",
      "F1 Score--------------->\n",
      "91.400 %\n",
      "Cohen Kappa Score------------->\n",
      "66.667 %\n",
      "Recall-------------->\n",
      "92.222 %\n",
      "Precision-------------->\n",
      "92.387 %\n"
     ]
    },
    {
     "data": {
      "image/png": "[encoded data removed]",
      "text/plain": [
       "<Figure size 864x432 with 4 Axes>"
      ]
     },
     "metadata": {
      "needs_background": "light"
     },
     "output_type": "display_data"
    },
    {
     "name": "stdout",
     "output_type": "stream",
     "text": [
      "classification report\n",
      "              precision    recall  f1-score   support\n",
      "\n",
      "           0       0.94      0.99      0.97       359\n",
      "           1       0.93      0.66      0.77        61\n",
      "\n",
      "    accuracy                           0.94       420\n",
      "   macro avg       0.94      0.82      0.87       420\n",
      "weighted avg       0.94      0.94      0.94       420\n",
      "\n"
     ]
    }
   ],
   "source": [
    "RF = fit_model(RF, X_train, y_train)\n",
    "get_accuracy_metrics(RF,  X_train, y_train, X_val, y_val, X_test, y_test)"
   ]
  },
  {
   "cell_type": "code",
   "execution_count": 24,
   "id": "e4f15514",
   "metadata": {
    "execution": {
     "iopub.execute_input": "2022-05-24T23:15:19.936883Z",
     "iopub.status.busy": "2022-05-24T23:15:19.936605Z",
     "iopub.status.idle": "2022-05-24T23:17:36.654833Z",
     "shell.execute_reply": "2022-05-24T23:17:36.653739Z"
    },
    "papermill": {
     "duration": 136.938829,
     "end_time": "2022-05-24T23:17:36.657732",
     "exception": false,
     "start_time": "2022-05-24T23:15:19.718903",
     "status": "completed"
    },
    "tags": []
   },
   "outputs": [
    {
     "name": "stdout",
     "output_type": "stream",
     "text": [
      "Train accuracy Score------------>\n",
      "99.357 %\n",
      "Val accuracy Score--------->\n",
      "94.048 %\n",
      "Test accuracy Score--------->\n",
      "91.111 %\n",
      "F1 Score--------------->\n",
      "90.543 %\n",
      "Cohen Kappa Score------------->\n",
      "64.179 %\n",
      "Recall-------------->\n",
      "91.111 %\n",
      "Precision-------------->\n",
      "90.641 %\n"
     ]
    },
    {
     "data": {
      "image/png": "[encoded data removed]",
      "text/plain": [
       "<Figure size 864x432 with 4 Axes>"
      ]
     },
     "metadata": {
      "needs_background": "light"
     },
     "output_type": "display_data"
    },
    {
     "name": "stdout",
     "output_type": "stream",
     "text": [
      "classification report\n",
      "              precision    recall  f1-score   support\n",
      "\n",
      "           0       0.95      0.98      0.97       359\n",
      "           1       0.85      0.72      0.78        61\n",
      "\n",
      "    accuracy                           0.94       420\n",
      "   macro avg       0.90      0.85      0.87       420\n",
      "weighted avg       0.94      0.94      0.94       420\n",
      "\n"
     ]
    }
   ],
   "source": [
    "ADB = fit_model(ADB, X_train, y_train)\n",
    "get_accuracy_metrics(ADB,  X_train, y_train, X_val, y_val, X_test, y_test)"
   ]
  },
  {
   "cell_type": "code",
   "execution_count": 25,
   "id": "cd59ac50",
   "metadata": {
    "execution": {
     "iopub.execute_input": "2022-05-24T23:17:37.097905Z",
     "iopub.status.busy": "2022-05-24T23:17:37.097331Z",
     "iopub.status.idle": "2022-05-24T23:19:09.660413Z",
     "shell.execute_reply": "2022-05-24T23:19:09.658613Z"
    },
    "papermill": {
     "duration": 92.78453,
     "end_time": "2022-05-24T23:19:09.662728",
     "exception": false,
     "start_time": "2022-05-24T23:17:36.878198",
     "status": "completed"
    },
    "tags": []
   },
   "outputs": [
    {
     "name": "stdout",
     "output_type": "stream",
     "text": [
      "Train accuracy Score------------>\n",
      "100.000 %\n",
      "Val accuracy Score--------->\n",
      "95.000 %\n",
      "Test accuracy Score--------->\n",
      "92.778 %\n",
      "F1 Score--------------->\n",
      "92.246 %\n",
      "Cohen Kappa Score------------->\n",
      "70.455 %\n",
      "Recall-------------->\n",
      "92.778 %\n",
      "Precision-------------->\n",
      "92.647 %\n"
     ]
    },
    {
     "data": {
      "image/png": "[encoded data removed]",
      "text/plain": [
       "<Figure size 864x432 with 4 Axes>"
      ]
     },
     "metadata": {
      "needs_background": "light"
     },
     "output_type": "display_data"
    },
    {
     "name": "stdout",
     "output_type": "stream",
     "text": [
      "classification report\n",
      "              precision    recall  f1-score   support\n",
      "\n",
      "           0       0.95      0.99      0.97       359\n",
      "           1       0.92      0.72      0.81        61\n",
      "\n",
      "    accuracy                           0.95       420\n",
      "   macro avg       0.94      0.86      0.89       420\n",
      "weighted avg       0.95      0.95      0.95       420\n",
      "\n"
     ]
    }
   ],
   "source": [
    "XGB = fit_model(XGB, X_train, y_train)\n",
    "get_accuracy_metrics(XGB,  X_train, y_train, X_val, y_val, X_test, y_test)"
   ]
  },
  {
   "cell_type": "code",
   "execution_count": 26,
   "id": "6a6d4bd0",
   "metadata": {
    "execution": {
     "iopub.execute_input": "2022-05-24T23:19:10.107299Z",
     "iopub.status.busy": "2022-05-24T23:19:10.106448Z",
     "iopub.status.idle": "2022-05-24T23:19:40.039330Z",
     "shell.execute_reply": "2022-05-24T23:19:40.037727Z"
    },
    "papermill": {
     "duration": 30.16237,
     "end_time": "2022-05-24T23:19:40.042205",
     "exception": false,
     "start_time": "2022-05-24T23:19:09.879835",
     "status": "completed"
    },
    "tags": []
   },
   "outputs": [
    {
     "name": "stdout",
     "output_type": "stream",
     "text": [
      "Train accuracy Score------------>\n",
      "88.800 %\n",
      "Val accuracy Score--------->\n",
      "87.381 %\n",
      "Test accuracy Score--------->\n",
      "86.111 %\n",
      "F1 Score--------------->\n",
      "85.594 %\n",
      "Cohen Kappa Score------------->\n",
      "46.429 %\n",
      "Recall-------------->\n",
      "86.111 %\n",
      "Precision-------------->\n",
      "85.269 %\n"
     ]
    },
    {
     "data": {
      "image/png": "[encoded data removed]",
      "text/plain": [
       "<Figure size 864x432 with 4 Axes>"
      ]
     },
     "metadata": {
      "needs_background": "light"
     },
     "output_type": "display_data"
    },
    {
     "name": "stdout",
     "output_type": "stream",
     "text": [
      "classification report\n",
      "              precision    recall  f1-score   support\n",
      "\n",
      "           0       0.93      0.92      0.93       359\n",
      "           1       0.56      0.62      0.59        61\n",
      "\n",
      "    accuracy                           0.87       420\n",
      "   macro avg       0.75      0.77      0.76       420\n",
      "weighted avg       0.88      0.87      0.88       420\n",
      "\n"
     ]
    }
   ],
   "source": [
    "fit_KNN_metrics(KNN, X_train_scaled, y_train, X_val_scaled, y_val, X_test_scaled, y_test)"
   ]
  }
 ],
 "metadata": {
  "kernelspec": {
   "display_name": "Python 3",
   "language": "python",
   "name": "python3"
  },
  "language_info": {
   "codemirror_mode": {
    "name": "ipython",
    "version": 3
   },
   "file_extension": ".py",
   "mimetype": "text/x-python",
   "name": "python",
   "nbconvert_exporter": "python",
   "pygments_lexer": "ipython3",
   "version": "3.7.12"
  },
  "papermill": {
   "default_parameters": {},
   "duration": 938.391036,
   "end_time": "2022-05-24T23:19:43.967907",
   "environment_variables": {},
   "exception": null,
   "input_path": "__notebook__.ipynb",
   "output_path": "__notebook__.ipynb",
   "parameters": {},
   "start_time": "2022-05-24T23:04:05.576871",
   "version": "2.3.4"
  }
 },
 "nbformat": 4,
 "nbformat_minor": 5
}
