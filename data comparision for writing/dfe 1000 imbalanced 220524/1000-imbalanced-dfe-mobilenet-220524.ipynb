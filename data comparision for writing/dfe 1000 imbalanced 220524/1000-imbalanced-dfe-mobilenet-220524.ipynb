{
 "cells": [
  {
   "cell_type": "code",
   "execution_count": 1,
   "id": "e26c4a24",
   "metadata": {
    "_cell_guid": "b1076dfc-b9ad-4769-8c92-a6c4dae69d19",
    "_uuid": "8f2839f25d086af736a60e9eeb907d3b93b6e0e5",
    "execution": {
     "iopub.execute_input": "2022-05-25T19:13:36.828774Z",
     "iopub.status.busy": "2022-05-25T19:13:36.828312Z",
     "iopub.status.idle": "2022-05-25T19:13:44.924159Z",
     "shell.execute_reply": "2022-05-25T19:13:44.923267Z"
    },
    "papermill": {
     "duration": 8.129851,
     "end_time": "2022-05-25T19:13:44.926736",
     "exception": false,
     "start_time": "2022-05-25T19:13:36.796885",
     "status": "completed"
    },
    "tags": []
   },
   "outputs": [],
   "source": [
    "from glob import glob\n",
    "import os\n",
    "import shutil\n",
    "\n",
    "import numpy as np\n",
    "import pandas as pd\n",
    "\n",
    "from sklearn.metrics import f1_score, roc_auc_score, cohen_kappa_score, precision_score, recall_score, accuracy_score, confusion_matrix\n",
    "from keras.layers import Dense, Flatten, Conv2D, MaxPooling2D, Dropout\n",
    "from keras.models import Sequential\n",
    "import tensorflow as tf\n",
    "import matplotlib.pyplot as plt\n",
    "import cv2\n",
    "from keras.layers import BatchNormalization\n",
    "from keras.models import Model, Sequential\n",
    "from keras.applications.xception import Xception\n",
    "from keras.applications import *\n",
    "import matplotlib.pyplot as plt\n",
    "from sklearn.pipeline import make_pipeline\n",
    "from sklearn.pipeline import Pipeline\n",
    "from PIL import Image\n",
    "import random\n",
    "import os\n",
    "import cv2\n",
    "from sklearn.model_selection import train_test_split\n",
    "from sklearn.neighbors import KNeighborsClassifier\n",
    "from sklearn.svm import SVC\n",
    "from sklearn.ensemble import RandomForestClassifier, AdaBoostClassifier\n",
    "from xgboost import XGBClassifier \n",
    "from keras.callbacks import EarlyStopping\n",
    "import seaborn as sns\n",
    "from sklearn.preprocessing import StandardScaler\n",
    "from tqdm import tqdm\n",
    "from sklearn.decomposition import PCA"
   ]
  },
  {
   "cell_type": "markdown",
   "id": "ebd40a78",
   "metadata": {
    "papermill": {
     "duration": 0.028191,
     "end_time": "2022-05-25T19:13:44.983555",
     "exception": false,
     "start_time": "2022-05-25T19:13:44.955364",
     "status": "completed"
    },
    "tags": []
   },
   "source": [
    "make path for image classification"
   ]
  },
  {
   "cell_type": "code",
   "execution_count": 2,
   "id": "f14ff85a",
   "metadata": {
    "execution": {
     "iopub.execute_input": "2022-05-25T19:13:45.043095Z",
     "iopub.status.busy": "2022-05-25T19:13:45.042249Z",
     "iopub.status.idle": "2022-05-25T19:13:45.047654Z",
     "shell.execute_reply": "2022-05-25T19:13:45.047035Z"
    },
    "papermill": {
     "duration": 0.03718,
     "end_time": "2022-05-25T19:13:45.049767",
     "exception": false,
     "start_time": "2022-05-25T19:13:45.012587",
     "status": "completed"
    },
    "tags": []
   },
   "outputs": [],
   "source": [
    "os.makedirs('../working/data/train_seg/idc-minus/')     \n",
    "os.makedirs('../working/data/train_seg/idc-plus/')  \n",
    "os.makedirs('../working/data/test_seg/idc-minus/')     \n",
    "os.makedirs('../working/data/test_seg/idc-plus/')  \n",
    "#os.makedirs('../working/data/val_seg/idc-minus/')     \n",
    "#os.makedirs('../working/data/val_seg/idc-plus/')  "
   ]
  },
  {
   "cell_type": "markdown",
   "id": "05b66234",
   "metadata": {
    "papermill": {
     "duration": 0.028259,
     "end_time": "2022-05-25T19:13:45.106703",
     "exception": false,
     "start_time": "2022-05-25T19:13:45.078444",
     "status": "completed"
    },
    "tags": []
   },
   "source": [
    "# **Image Import**\n",
    "for first time run uncomment this cell\n",
    "this will catagorise files into different directory\n",
    "for second time run please comment this cell"
   ]
  },
  {
   "cell_type": "code",
   "execution_count": 3,
   "id": "bc3491a6",
   "metadata": {
    "execution": {
     "iopub.execute_input": "2022-05-25T19:13:45.166625Z",
     "iopub.status.busy": "2022-05-25T19:13:45.166188Z",
     "iopub.status.idle": "2022-05-25T19:13:45.170570Z",
     "shell.execute_reply": "2022-05-25T19:13:45.169957Z"
    },
    "papermill": {
     "duration": 0.036184,
     "end_time": "2022-05-25T19:13:45.172565",
     "exception": false,
     "start_time": "2022-05-25T19:13:45.136381",
     "status": "completed"
    },
    "tags": []
   },
   "outputs": [],
   "source": [
    "sampling_seed=0\n",
    "size_4_training=1000\n",
    "img_size=224\n",
    "n_of_classes=2\n",
    "#training_reshape=(-1, img_size, img_size, 3)"
   ]
  },
  {
   "cell_type": "markdown",
   "id": "c9512831",
   "metadata": {
    "papermill": {
     "duration": 0.028279,
     "end_time": "2022-05-25T19:13:45.229485",
     "exception": false,
     "start_time": "2022-05-25T19:13:45.201206",
     "status": "completed"
    },
    "tags": []
   },
   "source": [
    "Image classification"
   ]
  },
  {
   "cell_type": "code",
   "execution_count": 4,
   "id": "9831207c",
   "metadata": {
    "execution": {
     "iopub.execute_input": "2022-05-25T19:13:45.290988Z",
     "iopub.status.busy": "2022-05-25T19:13:45.290430Z",
     "iopub.status.idle": "2022-05-25T19:14:56.731142Z",
     "shell.execute_reply": "2022-05-25T19:14:56.730241Z"
    },
    "papermill": {
     "duration": 71.473678,
     "end_time": "2022-05-25T19:14:56.733536",
     "exception": false,
     "start_time": "2022-05-25T19:13:45.259858",
     "status": "completed"
    },
    "tags": []
   },
   "outputs": [
    {
     "name": "stdout",
     "output_type": "stream",
     "text": [
      "['../input/breast-histopathology-images/IDC_regular_ps50_idx5/10295/0/10295_idx5_x1351_y1101_class0.png', '../input/breast-histopathology-images/IDC_regular_ps50_idx5/10295/0/10295_idx5_x1501_y501_class0.png', '../input/breast-histopathology-images/IDC_regular_ps50_idx5/10295/0/10295_idx5_x1501_y1101_class0.png', '../input/breast-histopathology-images/IDC_regular_ps50_idx5/10295/0/10295_idx5_x451_y901_class0.png', '../input/breast-histopathology-images/IDC_regular_ps50_idx5/10295/0/10295_idx5_x801_y451_class0.png', '../input/breast-histopathology-images/IDC_regular_ps50_idx5/10295/0/10295_idx5_x151_y1051_class0.png', '../input/breast-histopathology-images/IDC_regular_ps50_idx5/10295/0/10295_idx5_x1351_y901_class0.png', '../input/breast-histopathology-images/IDC_regular_ps50_idx5/10295/0/10295_idx5_x701_y651_class0.png', '../input/breast-histopathology-images/IDC_regular_ps50_idx5/10295/0/10295_idx5_x951_y1401_class0.png', '../input/breast-histopathology-images/IDC_regular_ps50_idx5/10295/0/10295_idx5_x601_y501_class0.png']\n"
     ]
    },
    {
     "name": "stderr",
     "output_type": "stream",
     "text": [
      "/opt/conda/lib/python3.7/site-packages/ipykernel_launcher.py:81: VisibleDeprecationWarning: Creating an ndarray from ragged nested sequences (which is a list-or-tuple of lists-or-tuples-or ndarrays with different lengths or shapes) is deprecated. If you meant to do this, you must specify 'dtype=object' when creating the ndarray.\n",
      "/opt/conda/lib/python3.7/site-packages/ipykernel_launcher.py:82: VisibleDeprecationWarning: Creating an ndarray from ragged nested sequences (which is a list-or-tuple of lists-or-tuples-or ndarrays with different lengths or shapes) is deprecated. If you meant to do this, you must specify 'dtype=object' when creating the ndarray.\n"
     ]
    },
    {
     "name": "stdout",
     "output_type": "stream",
     "text": [
      "(1000, 2)\n",
      "(2000, 2)\n"
     ]
    }
   ],
   "source": [
    "training_reshape=(-1, img_size, img_size, 3)\n",
    "import random\n",
    "#make directory for labelling\n",
    "os.makedirs('../working/idc2/idc-minus/')     \n",
    "os.makedirs('../working/idc2/idc-plus/')  \n",
    "\n",
    "\n",
    "class0 = [] # 0 = idc+\n",
    "class1 = [] # 1 = idc-\n",
    "imagePatches = glob('../input/breast-histopathology-images/IDC_regular_ps50_idx5/**/*.png', recursive=True)\n",
    "for filename in imagePatches:\n",
    "    if filename.endswith(\"class0.png\"):\n",
    "         class0.append(filename)\n",
    "    else:\n",
    "        class1.append(filename)\n",
    "\n",
    "print(class0[0:10])\n",
    "\n",
    "#sampling 10000 images from class 0 and class 1 to train the model\n",
    "\n",
    "random.seed(sampling_seed)\n",
    "class0sample=random.sample(class0,size_4_training)\n",
    "class1sample=random.sample(class1,size_4_training)\n",
    "\n",
    "\n",
    "def read_and_save_data(path, file_name_array):\n",
    "    j=0\n",
    "    for i in file_name_array:\n",
    "        if i.endswith('.png'):\n",
    "          \n",
    "            \n",
    "            #second copy method\n",
    "            head, tail = os.path.split(i)\n",
    "            outputname=str(path+tail)\n",
    "            #outputname=str(path+str(j)+'.png')\n",
    "            #print(outputname)\n",
    "            shutil.copy(i, outputname)\n",
    "   \n",
    "            #print(status2)\n",
    "            \n",
    "            j=j+1\n",
    "            if j==120000:\n",
    "                break\n",
    "            \n",
    "   \n",
    "class0path='../working/idc2/idc-minus/'\n",
    "class1path='../working/idc2/idc-plus/'\n",
    "\n",
    "\n",
    "\n",
    "\n",
    "read_and_save_data(class0path,class0sample)\n",
    "read_and_save_data(class1path,class1sample)\n",
    "\n",
    "#--------------------------------------------\n",
    "import os #Operating System\n",
    "import sys #System\n",
    "import cv2\n",
    "\n",
    "def readImage(path, tag):\n",
    "    j=0\n",
    "    image_array = []\n",
    "    for i in os.listdir(path):\n",
    "        imgname=path+i\n",
    "        #print(imgname)\n",
    "        img = cv2.imread(imgname, cv2.IMREAD_COLOR)\n",
    "        img_resized = cv2.resize(img, (img_size,img_size), interpolation=cv2.INTER_LINEAR)\n",
    "        image_array.append([img_resized, tag])\n",
    "        #print(img[1])\n",
    "        j=j+1\n",
    "        #if j==10:\n",
    "        #    break\n",
    "        \n",
    "    return image_array\n",
    "\n",
    "import numpy as np\n",
    "\n",
    "\n",
    "class0_array = readImage(class0path, 0)\n",
    "class1_array = readImage(class1path, 1)\n",
    "class0_array=np.array(class0_array)\n",
    "class1_array=np.array(class1_array)\n",
    "combined_data = np.concatenate((class0_array, class1_array))\n",
    "random.seed(41)\n",
    "random.shuffle(combined_data)\n",
    "print(class0_array.shape)\n",
    "print(combined_data.shape)\n",
    "\n",
    "X = []\n",
    "y = []\n",
    "\n",
    "for features,label in combined_data:\n",
    "    X.append(features)\n",
    "    y.append(label)\n",
    "#print(X.shape)\n",
    "#pring(y.shape)\n",
    "\n",
    "# reshape X data\n",
    "X = np.array(X).reshape(training_reshape)\n",
    "#print(X.shape)\n",
    "y=np.array(y)\n",
    "\n",
    "X_train, X_test, y_train, y_test = train_test_split(X, y, test_size=0.3, random_state=42)\n",
    "\n",
    "\n",
    "\n",
    "#X_val, y_val=Image_array_process(class0_val, val0_label, class1_val, val1_label)\n",
    "X_train_original=X_train\n",
    "X_test_original=X_test\n",
    "y_train_original=y_train\n",
    "y_test_original=y_test\n"
   ]
  },
  {
   "cell_type": "code",
   "execution_count": 5,
   "id": "8f2906cb",
   "metadata": {
    "execution": {
     "iopub.execute_input": "2022-05-25T19:14:56.794226Z",
     "iopub.status.busy": "2022-05-25T19:14:56.793921Z",
     "iopub.status.idle": "2022-05-25T19:14:56.800935Z",
     "shell.execute_reply": "2022-05-25T19:14:56.800072Z"
    },
    "papermill": {
     "duration": 0.039574,
     "end_time": "2022-05-25T19:14:56.803078",
     "exception": false,
     "start_time": "2022-05-25T19:14:56.763504",
     "status": "completed"
    },
    "tags": []
   },
   "outputs": [
    {
     "name": "stdout",
     "output_type": "stream",
     "text": [
      "[0 0 0 0 0 0 0 1 0 0 0 0 0 0 0 0 0 0 0 0 0 0 0 0 0 0 0 0 0 0 0 0 0 0 0 0 0\n",
      " 1 0 0 0 0 0 0 0 0 0 0 0 0 0 0 0 0 0 0 1 1 0 0 0 0 0 0 0 0 0 0 0 0 0 0 1 0\n",
      " 0 0 0 0 0 1 0 0 0 0 0 0 0 0 0 1 1 1 0 0 1 1 0 0 0 0 0 0 0 0 0 0 0 0 0 0 0\n",
      " 0 0 0 0 0 0 0 0 1 0 0 0 0 0 0 0 0 0 0 1 1 0 0 0 0 1 0 0 0 0 0 0 0 1 0 0 0\n",
      " 0 0 1 0 0 0 0 0 0 1 0 0 0 0 0 1 0 0 1 0 0 1 1 0 0 0 0 0 0 0 0 0 0 0 0 0 0\n",
      " 0 1 1 0 0 0 0 0 0 0 0 0 0 0 0 1 0 0 0 0 0 0 0 0 0 0 0 0 0 0 1 0 0 0 1 0 0\n",
      " 0 0 1 0 0 0 0 0 1 0 1 1 1 0 0 0 0 0 0 1 0 0 1 0 0 0 0 0 0 0 0 0 1 0 0 0 1\n",
      " 0 0 1 0 1 0 0 0 0 0 0 0 1 0 0 1 0 0 0 0 0 1 1 0 0 0 0 0 0 0 0 0 0 0 1 0 0\n",
      " 0 0 1 0 0 0 0 0 0 0 0 0 0 0 0 0 0 0 0 0 0 1 0 0 0 1 0 0 0 0 1 0 1 0 0 0 1\n",
      " 0 0 0 0 0 0 0 0 0 1 0 0 1 0 1 1 0 0 0 0 0 0 0 0 1 1 0 0 0 0 0 0 0 1 0 1 0\n",
      " 1 1 0 0 1 0 0 0 1 0 0 0 0 0 0 0 0 1 0 0 1 0 0 0 0 0 0 0 0 0 0 0 0 0 0 0 0\n",
      " 0 0 0 0 0 1 0 0 0 0 0 0 0 0 0 0 0 1 1 0 0 0 0 0 0 1 0 1 0 0 0 0 0 0 0 0 0\n",
      " 1 0 0 0 0 0 0 0 0 0 1 0 0 0 0 0 0 0 0 0 0 0 0 0 0 0 0 0 0 1 1 0 0 0 0 0 1\n",
      " 0 0 0 0 0 0 0 0 0 1 0 0 0 0 0 0 0 1 0 0 0 0 0 1 1 1 0 0 0 0 0 0 0 1 1 0 0\n",
      " 0 0 0 0 1 0 0 0 0 0 0 0 0 0 0 0 0 0 0 0 0 1 0 0 0 0 0 0 0 1 0 0 0 0 0 0 0\n",
      " 0 1 0 0 0 0 1 0 0 0 0 0 0 0 0 1 0 0 1 0 0 0 0 0 0 0 1 1 0 0 0 1 1 0 0 0 0\n",
      " 0 0 0 0 0 0 0 0]\n"
     ]
    }
   ],
   "source": [
    "print(y_test)"
   ]
  },
  {
   "cell_type": "code",
   "execution_count": 6,
   "id": "31a1c936",
   "metadata": {
    "execution": {
     "iopub.execute_input": "2022-05-25T19:14:56.864237Z",
     "iopub.status.busy": "2022-05-25T19:14:56.863915Z",
     "iopub.status.idle": "2022-05-25T19:14:56.869122Z",
     "shell.execute_reply": "2022-05-25T19:14:56.868118Z"
    },
    "papermill": {
     "duration": 0.038595,
     "end_time": "2022-05-25T19:14:56.871706",
     "exception": false,
     "start_time": "2022-05-25T19:14:56.833111",
     "status": "completed"
    },
    "tags": []
   },
   "outputs": [
    {
     "name": "stdout",
     "output_type": "stream",
     "text": [
      "[0 0 0 ... 0 1 0]\n"
     ]
    }
   ],
   "source": [
    "print(y_train)"
   ]
  },
  {
   "cell_type": "code",
   "execution_count": 7,
   "id": "8fa2cd17",
   "metadata": {
    "execution": {
     "iopub.execute_input": "2022-05-25T19:14:56.934390Z",
     "iopub.status.busy": "2022-05-25T19:14:56.934141Z",
     "iopub.status.idle": "2022-05-25T19:14:57.582196Z",
     "shell.execute_reply": "2022-05-25T19:14:57.581279Z"
    },
    "papermill": {
     "duration": 0.682211,
     "end_time": "2022-05-25T19:14:57.584536",
     "exception": false,
     "start_time": "2022-05-25T19:14:56.902325",
     "status": "completed"
    },
    "tags": []
   },
   "outputs": [
    {
     "name": "stdout",
     "output_type": "stream",
     "text": [
      "Found 0 images belonging to 2 classes.\n",
      "Found 0 images belonging to 2 classes.\n"
     ]
    },
    {
     "data": {
      "text/plain": [
       "'\\nval2_it = val_gen.flow_from_directory(validation_dir,\\n                                       class_mode = \"categorical\",\\n                                       target_size = (img_size, img_size),\\n                                       color_mode=\"rgb\",\\n                                       batch_size = 12, \\n                                       shuffle = False,\\n                                       subset=\\'validation\\',\\n                                       seed = 42)\\n'"
      ]
     },
     "execution_count": 7,
     "metadata": {},
     "output_type": "execute_result"
    }
   ],
   "source": [
    "data_dir = \"../working/idc2\"\n",
    "#img_size = img_size = img_size\n",
    "\n",
    "train_dir='../working/data/train_seg/'\n",
    "#validation_dir='../working/data/val_seg/'\n",
    "test_dir = '../working/data/test_seg/' \n",
    "\n",
    "train_gen = tf.keras.preprocessing.image.ImageDataGenerator()\n",
    "test_gen=tf.keras.preprocessing.image.ImageDataGenerator()\n",
    "val_gen=tf.keras.preprocessing.image.ImageDataGenerator()\n",
    "\n",
    " \n",
    "train_it = train_gen.flow_from_directory(train_dir,\n",
    "                                       class_mode = \"categorical\",\n",
    "                                       target_size = (img_size,img_size),\n",
    "                                       color_mode=\"rgb\",\n",
    "                                       batch_size = 12, \n",
    "                                       shuffle = False,\n",
    "                                       subset='training',\n",
    "                                       seed = 42)\n",
    "\n",
    "validate_it = test_gen.flow_from_directory('./data/test_seg',\n",
    "                                       class_mode = \"categorical\",\n",
    "                                       target_size = (img_size, img_size),\n",
    "                                       color_mode=\"rgb\",\n",
    "                                       batch_size = 12, \n",
    "                                       shuffle = False,\n",
    "                                       subset='training',\n",
    "                                       seed = 42)\n",
    "'''\n",
    "val2_it = val_gen.flow_from_directory(validation_dir,\n",
    "                                       class_mode = \"categorical\",\n",
    "                                       target_size = (img_size, img_size),\n",
    "                                       color_mode=\"rgb\",\n",
    "                                       batch_size = 12, \n",
    "                                       shuffle = False,\n",
    "                                       subset='validation',\n",
    "                                       seed = 42)\n",
    "'''"
   ]
  },
  {
   "cell_type": "code",
   "execution_count": 8,
   "id": "e57781d7",
   "metadata": {
    "execution": {
     "iopub.execute_input": "2022-05-25T19:14:57.647897Z",
     "iopub.status.busy": "2022-05-25T19:14:57.646907Z",
     "iopub.status.idle": "2022-05-25T19:14:57.654050Z",
     "shell.execute_reply": "2022-05-25T19:14:57.653447Z"
    },
    "papermill": {
     "duration": 0.040759,
     "end_time": "2022-05-25T19:14:57.655976",
     "exception": false,
     "start_time": "2022-05-25T19:14:57.615217",
     "status": "completed"
    },
    "tags": []
   },
   "outputs": [],
   "source": [
    "def get_features2(base_model, X_train1, y_train1, X_test1, y_test1):\n",
    "    X_train2 = base_model.predict(X_train1)\n",
    "    y_train2 = y_train1\n",
    "\n",
    "    X_test2 = base_model.predict(X_test1)\n",
    "    y_test2 = y_test1\n",
    "\n",
    "    X_val, X_test, y_val, y_test = train_test_split(X_test2, y_test2, test_size = 0.3, shuffle = True)\n",
    "    print('Shape of X_train----->', str(X_train2.shape))\n",
    "    print('Shape of X_val----->', str(X_val.shape))\n",
    "    print('Shape of X_test----->', str(X_test.shape))\n",
    "    return (X_train2, X_val, X_test, y_train2, y_val, y_test)"
   ]
  },
  {
   "cell_type": "code",
   "execution_count": 9,
   "id": "abde0f91",
   "metadata": {
    "execution": {
     "iopub.execute_input": "2022-05-25T19:14:57.718740Z",
     "iopub.status.busy": "2022-05-25T19:14:57.718236Z",
     "iopub.status.idle": "2022-05-25T19:14:57.728914Z",
     "shell.execute_reply": "2022-05-25T19:14:57.728194Z"
    },
    "papermill": {
     "duration": 0.044265,
     "end_time": "2022-05-25T19:14:57.730775",
     "exception": false,
     "start_time": "2022-05-25T19:14:57.686510",
     "status": "completed"
    },
    "tags": []
   },
   "outputs": [],
   "source": [
    "from keras.callbacks import ModelCheckpoint\n",
    "from tensorflow.keras.optimizers import *\n",
    "def get_models():\n",
    "    ANN = Sequential()\n",
    "    ANN.add(Dense(4096, input_dim = X_train.shape[1], activation = 'relu'))\n",
    "    ANN.add(BatchNormalization())\n",
    "    ANN.add(Dense(4096, activation='relu'))\n",
    "    ANN.add(Dropout(0.2))\n",
    "    ANN.add(Dense(2096, activation='relu'))\n",
    "    #ANN.add(Dense(16, activation='relu'))\n",
    "    #ANN.add(Dense(8, activation='relu'))\n",
    "    ANN.add(Dense(n_of_classes, activation='sigmoid'))\n",
    "    \n",
    "\n",
    "    opt = Adam(learning_rate=0.001)\n",
    "    ANN.compile(loss='categorical_crossentropy', optimizer=opt, metrics=['accuracy'])\n",
    " \n",
    "    KNN = KNeighborsClassifier()\n",
    "    \n",
    "    SVM = SVC(kernel = 'linear')\n",
    "    \n",
    "    RF = RandomForestClassifier(n_estimators = 50)\n",
    "    \n",
    "    ADB = AdaBoostClassifier()\n",
    "    \n",
    "    XGB = XGBClassifier(n_estimators = 50, use_label_encoder=False)\n",
    "    \n",
    "    print(\"Defined------->\")\n",
    "    print(\"ANN -------->\", \"(4096x4096x2096x2)\")\n",
    "    print(\"KNeighborsClassifier()\")\n",
    "    print(\"SVC(kernel = 'linear')\")\n",
    "    print(\"RandomForestClassifier(n_estimators = 50)\")\n",
    "    print(\"AdaBoostClassifier()\")\n",
    "    print(\"XGBClassifier(n_estimators = 50)\")\n",
    "    \n",
    "    return (ANN, KNN, SVM, RF, ADB, XGB)"
   ]
  },
  {
   "cell_type": "code",
   "execution_count": 10,
   "id": "67395570",
   "metadata": {
    "execution": {
     "iopub.execute_input": "2022-05-25T19:14:57.793453Z",
     "iopub.status.busy": "2022-05-25T19:14:57.793174Z",
     "iopub.status.idle": "2022-05-25T19:14:57.799226Z",
     "shell.execute_reply": "2022-05-25T19:14:57.798411Z"
    },
    "papermill": {
     "duration": 0.039903,
     "end_time": "2022-05-25T19:14:57.801282",
     "exception": false,
     "start_time": "2022-05-25T19:14:57.761379",
     "status": "completed"
    },
    "tags": []
   },
   "outputs": [],
   "source": [
    "def reshape_data(X_train, X_val, X_test):\n",
    "    X_train = X_train.reshape(X_train.shape[0], -1)\n",
    "    X_val = X_val.reshape(X_val.shape[0], -1)\n",
    "    X_test = X_test.reshape(X_test.shape[0], -1)\n",
    "\n",
    "    print(\"Shape after reshaping------->\")\n",
    "    print(\"X train------->\", str(X_train.shape))\n",
    "    print(\"X val-------->\", str(X_val.shape))\n",
    "    print(\"X test-------->\", str(X_test.shape))\n",
    "    \n",
    "    return (X_train, X_val, X_test)"
   ]
  },
  {
   "cell_type": "code",
   "execution_count": 11,
   "id": "30311401",
   "metadata": {
    "execution": {
     "iopub.execute_input": "2022-05-25T19:14:57.863631Z",
     "iopub.status.busy": "2022-05-25T19:14:57.863363Z",
     "iopub.status.idle": "2022-05-25T19:14:57.898908Z",
     "shell.execute_reply": "2022-05-25T19:14:57.897987Z"
    },
    "papermill": {
     "duration": 0.069368,
     "end_time": "2022-05-25T19:14:57.901153",
     "exception": false,
     "start_time": "2022-05-25T19:14:57.831785",
     "status": "completed"
    },
    "tags": []
   },
   "outputs": [],
   "source": [
    "from sklearn.metrics import classification_report\n",
    "from tensorflow.keras.utils import to_categorical\n",
    "def fit_ANN(model, X_train, y_train, X_val, y_test):\n",
    "    callbacks = [EarlyStopping(monitor='val_loss', patience=5, verbose=1), ModelCheckpoint('ANN.hdf5', save_best_only=True)]\n",
    "    y_train=to_categorical(y_train)\n",
    "    y_test=to_categorical(y_test)\n",
    "    history = model.fit(X_train, y_train, validation_data=(X_val, y_test), epochs=10, verbose=1, callbacks=callbacks)\n",
    "    return model\n",
    "\n",
    "def fit_model(model, X_train, y_train):\n",
    "    model.fit(X_train, y_train)\n",
    "    return model\n",
    "from tensorflow.keras.utils import plot_model\n",
    "from IPython.display import Image\n",
    "def get_accuracy_metrics_for_ANN(model, X_train, y_train, X_val, y_val, X_test, y_test):\n",
    "    model.summary()\n",
    "    plot_model(model, to_file='ANN.png', show_shapes=True,show_layer_names=True)\n",
    "    Image(filename='ANN.png') \n",
    "    #y_train=np.argmax(y_train, axis=1)\n",
    "    #y_test=np.argmax(y_test, axis=1)\n",
    "    #y_val=np.argmax(y_val, axis=1)\n",
    "    y_train_pred=np.argmax(model.predict(X_train),axis=1)\n",
    "    y_test_pred=np.argmax(model.predict(X_test),axis=1)\n",
    "    y_val_pred=np.argmax(model.predict(X_val),axis=1)\n",
    "    print(\"Train accuracy Score------------>\")\n",
    "    print (\"{0:.3f}\".format(accuracy_score(y_train, np.argmax(model.predict(X_train), axis = 1))*100), \"%\")\n",
    "    \n",
    "    print(\"Val accuracy Score--------->\")\n",
    "    #val_pred = np.argmax(model.predict(X_val), axis = 1)\n",
    "    print(\"{0:.3f}\".format(accuracy_score(y_val, y_val_pred)*100), \"%\")\n",
    "    \n",
    "    #predicted =  np.argmax(model.predict(X_test), axis = 1)\n",
    "    print(\"Test accuracy Score--------->\")\n",
    "    print(\"{0:.3f}\".format(accuracy_score(y_test, y_test_pred)*100), \"%\")\n",
    "    \n",
    "    print(\"F1 Score--------------->\")\n",
    "    print(\"{0:.3f}\".format(f1_score(y_test, y_test_pred, average = 'weighted')*100), \"%\")\n",
    "    \n",
    "    print(\"Cohen Kappa Score------------->\")\n",
    "    print(\"{0:.3f}\".format(cohen_kappa_score(y_test, y_test_pred)*100), \"%\")\n",
    "    \n",
    "    print(\"Recall-------------->\")\n",
    "    print(\"{0:.3f}\".format(recall_score(y_test, y_test_pred, average = 'weighted')*100), \"%\")\n",
    "    \n",
    "    print(\"Precision-------------->\")\n",
    "    print(\"{0:.3f}\".format(precision_score(y_test, y_test_pred, average = 'weighted')*100), \"%\")\n",
    "    \n",
    "    cf_matrix_test = confusion_matrix(y_test, y_test_pred)\n",
    "    cf_matrix_val = confusion_matrix(y_val, y_val_pred)\n",
    "    \n",
    "    plt.figure(figsize = (12, 6))\n",
    "    plt.subplot(121)\n",
    "    sns.heatmap(cf_matrix_val, annot=True, cmap='Blues')\n",
    "    plt.title(\"Val Confusion matrix\")\n",
    "    \n",
    "    plt.subplot(122)\n",
    "    sns.heatmap(cf_matrix_test, annot=True, cmap='Blues')\n",
    "    plt.title(\"Test Confusion matrix\")\n",
    "    \n",
    "    plt.show()\n",
    "    print(\"classification report\")\n",
    "    print(classification_report(y_val, y_val_pred))"
   ]
  },
  {
   "cell_type": "code",
   "execution_count": 12,
   "id": "3d21dfc6",
   "metadata": {
    "execution": {
     "iopub.execute_input": "2022-05-25T19:14:57.965624Z",
     "iopub.status.busy": "2022-05-25T19:14:57.965076Z",
     "iopub.status.idle": "2022-05-25T19:14:57.980437Z",
     "shell.execute_reply": "2022-05-25T19:14:57.979709Z"
    },
    "papermill": {
     "duration": 0.049952,
     "end_time": "2022-05-25T19:14:57.982475",
     "exception": false,
     "start_time": "2022-05-25T19:14:57.932523",
     "status": "completed"
    },
    "tags": []
   },
   "outputs": [],
   "source": [
    "def fit_KNN_metrics(model, X_train, y_train, X_val, y_val, X_test, y_test):\n",
    "    pca = PCA(n_components=1000)\n",
    "    #pca = PCA(n_components=130)\n",
    "    randlist = random.sample(range(0, X_train.shape[0]), 1000)\n",
    "    #randlist = random.sample(range(0, X_train.shape[0]), 90)\n",
    "    if(X_train.shape[1] > 10000):\n",
    "    #if(X_train.shape[1] > 100):\n",
    "        X_train = pca.fit_transform(X_train)\n",
    "        X_val = pca.transform(X_val)\n",
    "        X_test = pca.transform(X_test)\n",
    "\n",
    "    model.fit(X_train, y_train)\n",
    "    get_accuracy_metrics(model, X_train[randlist, :], y_train[randlist], X_val, y_val, X_test, y_test)\n",
    "    \n",
    "def get_accuracy_metrics(model, X_train, y_train, X_val, y_val, X_test, y_test):\n",
    "    print(\"Train accuracy Score------------>\")\n",
    "    print (\"{0:.3f}\".format(accuracy_score(y_train, model.predict(X_train))*100), \"%\")\n",
    "    \n",
    "    print(\"Val accuracy Score--------->\")\n",
    "    val_pred = model.predict(X_val)\n",
    "    print(\"{0:.3f}\".format(accuracy_score(y_val, val_pred)*100), \"%\")\n",
    "    \n",
    "    predicted =  model.predict(X_test)\n",
    "    print(\"Test accuracy Score--------->\")\n",
    "    print(\"{0:.3f}\".format(accuracy_score(y_test, predicted)*100), \"%\")\n",
    "    \n",
    "    print(\"F1 Score--------------->\")\n",
    "    print(\"{0:.3f}\".format(f1_score(y_test, predicted, average = 'weighted')*100), \"%\")\n",
    "    \n",
    "    print(\"Cohen Kappa Score------------->\")\n",
    "    print(\"{0:.3f}\".format(cohen_kappa_score(y_test, predicted)*100), \"%\")\n",
    "    \n",
    "    print(\"Recall-------------->\")\n",
    "    print(\"{0:.3f}\".format(recall_score(y_test, predicted, average = 'weighted')*100), \"%\")\n",
    "    \n",
    "    print(\"Precision-------------->\")\n",
    "    print(\"{0:.3f}\".format(precision_score(y_test, predicted, average = 'weighted')*100), \"%\")\n",
    "    \n",
    "    cf_matrix_test = confusion_matrix(y_test, predicted)\n",
    "    cf_matrix_val = confusion_matrix(y_val, val_pred)\n",
    "    \n",
    "    plt.figure(figsize = (12, 6))\n",
    "    plt.subplot(121)\n",
    "    sns.heatmap(cf_matrix_val, annot=True, cmap='Blues')\n",
    "    plt.title(\"Val Confusion matrix\")\n",
    "    \n",
    "    plt.subplot(122)\n",
    "    sns.heatmap(cf_matrix_test, annot=True, cmap='Blues')\n",
    "    plt.title(\"Test Confusion matrix\")\n",
    "    \n",
    "    plt.show()\n",
    "    print(\"classification report\")\n",
    "    print(classification_report(y_val, val_pred))"
   ]
  },
  {
   "cell_type": "markdown",
   "id": "d50d971d",
   "metadata": {
    "papermill": {
     "duration": 0.030361,
     "end_time": "2022-05-25T19:14:58.043644",
     "exception": false,
     "start_time": "2022-05-25T19:14:58.013283",
     "status": "completed"
    },
    "tags": []
   },
   "source": [
    "# Mobilenet"
   ]
  },
  {
   "cell_type": "code",
   "execution_count": 13,
   "id": "5a52b013",
   "metadata": {
    "execution": {
     "iopub.execute_input": "2022-05-25T19:14:58.107377Z",
     "iopub.status.busy": "2022-05-25T19:14:58.106802Z",
     "iopub.status.idle": "2022-05-25T19:14:59.152274Z",
     "shell.execute_reply": "2022-05-25T19:14:59.151160Z"
    },
    "papermill": {
     "duration": 1.079417,
     "end_time": "2022-05-25T19:14:59.154434",
     "exception": false,
     "start_time": "2022-05-25T19:14:58.075017",
     "status": "completed"
    },
    "tags": []
   },
   "outputs": [
    {
     "name": "stderr",
     "output_type": "stream",
     "text": [
      "2022-05-25 19:14:58.164940: I tensorflow/core/common_runtime/process_util.cc:146] Creating new thread pool with default inter op setting: 2. Tune using inter_op_parallelism_threads for best performance.\n"
     ]
    },
    {
     "name": "stdout",
     "output_type": "stream",
     "text": [
      "Downloading data from https://storage.googleapis.com/tensorflow/keras-applications/mobilenet/mobilenet_1_0_224_tf_no_top.h5\n",
      "17227776/17225924 [==============================] - 0s 0us/step\n",
      "17235968/17225924 [==============================] - 0s 0us/step\n",
      "Model: \"model\"\n",
      "_________________________________________________________________\n",
      "Layer (type)                 Output Shape              Param #   \n",
      "=================================================================\n",
      "input_1 (InputLayer)         [(None, 224, 224, 3)]     0         \n",
      "_________________________________________________________________\n",
      "conv1 (Conv2D)               (None, 112, 112, 32)      864       \n",
      "_________________________________________________________________\n",
      "conv1_bn (BatchNormalization (None, 112, 112, 32)      128       \n",
      "_________________________________________________________________\n",
      "conv1_relu (ReLU)            (None, 112, 112, 32)      0         \n",
      "_________________________________________________________________\n",
      "conv_dw_1 (DepthwiseConv2D)  (None, 112, 112, 32)      288       \n",
      "_________________________________________________________________\n",
      "conv_dw_1_bn (BatchNormaliza (None, 112, 112, 32)      128       \n",
      "_________________________________________________________________\n",
      "conv_dw_1_relu (ReLU)        (None, 112, 112, 32)      0         \n",
      "_________________________________________________________________\n",
      "conv_pw_1 (Conv2D)           (None, 112, 112, 64)      2048      \n",
      "_________________________________________________________________\n",
      "conv_pw_1_bn (BatchNormaliza (None, 112, 112, 64)      256       \n",
      "_________________________________________________________________\n",
      "conv_pw_1_relu (ReLU)        (None, 112, 112, 64)      0         \n",
      "_________________________________________________________________\n",
      "conv_pad_2 (ZeroPadding2D)   (None, 113, 113, 64)      0         \n",
      "_________________________________________________________________\n",
      "conv_dw_2 (DepthwiseConv2D)  (None, 56, 56, 64)        576       \n",
      "_________________________________________________________________\n",
      "conv_dw_2_bn (BatchNormaliza (None, 56, 56, 64)        256       \n",
      "_________________________________________________________________\n",
      "conv_dw_2_relu (ReLU)        (None, 56, 56, 64)        0         \n",
      "_________________________________________________________________\n",
      "conv_pw_2 (Conv2D)           (None, 56, 56, 128)       8192      \n",
      "_________________________________________________________________\n",
      "conv_pw_2_bn (BatchNormaliza (None, 56, 56, 128)       512       \n",
      "_________________________________________________________________\n",
      "conv_pw_2_relu (ReLU)        (None, 56, 56, 128)       0         \n",
      "_________________________________________________________________\n",
      "conv_dw_3 (DepthwiseConv2D)  (None, 56, 56, 128)       1152      \n",
      "_________________________________________________________________\n",
      "conv_dw_3_bn (BatchNormaliza (None, 56, 56, 128)       512       \n",
      "_________________________________________________________________\n",
      "conv_dw_3_relu (ReLU)        (None, 56, 56, 128)       0         \n",
      "_________________________________________________________________\n",
      "conv_pw_3 (Conv2D)           (None, 56, 56, 128)       16384     \n",
      "_________________________________________________________________\n",
      "conv_pw_3_bn (BatchNormaliza (None, 56, 56, 128)       512       \n",
      "_________________________________________________________________\n",
      "conv_pw_3_relu (ReLU)        (None, 56, 56, 128)       0         \n",
      "_________________________________________________________________\n",
      "conv_pad_4 (ZeroPadding2D)   (None, 57, 57, 128)       0         \n",
      "_________________________________________________________________\n",
      "conv_dw_4 (DepthwiseConv2D)  (None, 28, 28, 128)       1152      \n",
      "_________________________________________________________________\n",
      "conv_dw_4_bn (BatchNormaliza (None, 28, 28, 128)       512       \n",
      "_________________________________________________________________\n",
      "conv_dw_4_relu (ReLU)        (None, 28, 28, 128)       0         \n",
      "_________________________________________________________________\n",
      "conv_pw_4 (Conv2D)           (None, 28, 28, 256)       32768     \n",
      "_________________________________________________________________\n",
      "conv_pw_4_bn (BatchNormaliza (None, 28, 28, 256)       1024      \n",
      "_________________________________________________________________\n",
      "conv_pw_4_relu (ReLU)        (None, 28, 28, 256)       0         \n",
      "_________________________________________________________________\n",
      "conv_dw_5 (DepthwiseConv2D)  (None, 28, 28, 256)       2304      \n",
      "_________________________________________________________________\n",
      "conv_dw_5_bn (BatchNormaliza (None, 28, 28, 256)       1024      \n",
      "_________________________________________________________________\n",
      "conv_dw_5_relu (ReLU)        (None, 28, 28, 256)       0         \n",
      "_________________________________________________________________\n",
      "conv_pw_5 (Conv2D)           (None, 28, 28, 256)       65536     \n",
      "_________________________________________________________________\n",
      "conv_pw_5_bn (BatchNormaliza (None, 28, 28, 256)       1024      \n",
      "_________________________________________________________________\n",
      "conv_pw_5_relu (ReLU)        (None, 28, 28, 256)       0         \n",
      "_________________________________________________________________\n",
      "conv_pad_6 (ZeroPadding2D)   (None, 29, 29, 256)       0         \n",
      "_________________________________________________________________\n",
      "conv_dw_6 (DepthwiseConv2D)  (None, 14, 14, 256)       2304      \n",
      "_________________________________________________________________\n",
      "conv_dw_6_bn (BatchNormaliza (None, 14, 14, 256)       1024      \n",
      "_________________________________________________________________\n",
      "conv_dw_6_relu (ReLU)        (None, 14, 14, 256)       0         \n",
      "_________________________________________________________________\n",
      "conv_pw_6 (Conv2D)           (None, 14, 14, 512)       131072    \n",
      "_________________________________________________________________\n",
      "conv_pw_6_bn (BatchNormaliza (None, 14, 14, 512)       2048      \n",
      "_________________________________________________________________\n",
      "conv_pw_6_relu (ReLU)        (None, 14, 14, 512)       0         \n",
      "_________________________________________________________________\n",
      "conv_dw_7 (DepthwiseConv2D)  (None, 14, 14, 512)       4608      \n",
      "_________________________________________________________________\n",
      "conv_dw_7_bn (BatchNormaliza (None, 14, 14, 512)       2048      \n",
      "_________________________________________________________________\n",
      "conv_dw_7_relu (ReLU)        (None, 14, 14, 512)       0         \n",
      "_________________________________________________________________\n",
      "conv_pw_7 (Conv2D)           (None, 14, 14, 512)       262144    \n",
      "_________________________________________________________________\n",
      "conv_pw_7_bn (BatchNormaliza (None, 14, 14, 512)       2048      \n",
      "_________________________________________________________________\n",
      "conv_pw_7_relu (ReLU)        (None, 14, 14, 512)       0         \n",
      "_________________________________________________________________\n",
      "conv_dw_8 (DepthwiseConv2D)  (None, 14, 14, 512)       4608      \n",
      "_________________________________________________________________\n",
      "conv_dw_8_bn (BatchNormaliza (None, 14, 14, 512)       2048      \n",
      "_________________________________________________________________\n",
      "conv_dw_8_relu (ReLU)        (None, 14, 14, 512)       0         \n",
      "_________________________________________________________________\n",
      "conv_pw_8 (Conv2D)           (None, 14, 14, 512)       262144    \n",
      "_________________________________________________________________\n",
      "conv_pw_8_bn (BatchNormaliza (None, 14, 14, 512)       2048      \n",
      "_________________________________________________________________\n",
      "conv_pw_8_relu (ReLU)        (None, 14, 14, 512)       0         \n",
      "_________________________________________________________________\n",
      "conv_dw_9 (DepthwiseConv2D)  (None, 14, 14, 512)       4608      \n",
      "_________________________________________________________________\n",
      "conv_dw_9_bn (BatchNormaliza (None, 14, 14, 512)       2048      \n",
      "_________________________________________________________________\n",
      "conv_dw_9_relu (ReLU)        (None, 14, 14, 512)       0         \n",
      "_________________________________________________________________\n",
      "conv_pw_9 (Conv2D)           (None, 14, 14, 512)       262144    \n",
      "_________________________________________________________________\n",
      "conv_pw_9_bn (BatchNormaliza (None, 14, 14, 512)       2048      \n",
      "_________________________________________________________________\n",
      "conv_pw_9_relu (ReLU)        (None, 14, 14, 512)       0         \n",
      "_________________________________________________________________\n",
      "conv_dw_10 (DepthwiseConv2D) (None, 14, 14, 512)       4608      \n",
      "_________________________________________________________________\n",
      "conv_dw_10_bn (BatchNormaliz (None, 14, 14, 512)       2048      \n",
      "_________________________________________________________________\n",
      "conv_dw_10_relu (ReLU)       (None, 14, 14, 512)       0         \n",
      "_________________________________________________________________\n",
      "conv_pw_10 (Conv2D)          (None, 14, 14, 512)       262144    \n",
      "_________________________________________________________________\n",
      "conv_pw_10_bn (BatchNormaliz (None, 14, 14, 512)       2048      \n",
      "_________________________________________________________________\n",
      "conv_pw_10_relu (ReLU)       (None, 14, 14, 512)       0         \n",
      "_________________________________________________________________\n",
      "conv_dw_11 (DepthwiseConv2D) (None, 14, 14, 512)       4608      \n",
      "_________________________________________________________________\n",
      "conv_dw_11_bn (BatchNormaliz (None, 14, 14, 512)       2048      \n",
      "_________________________________________________________________\n",
      "conv_dw_11_relu (ReLU)       (None, 14, 14, 512)       0         \n",
      "_________________________________________________________________\n",
      "conv_pw_11 (Conv2D)          (None, 14, 14, 512)       262144    \n",
      "_________________________________________________________________\n",
      "conv_pw_11_bn (BatchNormaliz (None, 14, 14, 512)       2048      \n",
      "_________________________________________________________________\n",
      "conv_pw_11_relu (ReLU)       (None, 14, 14, 512)       0         \n",
      "_________________________________________________________________\n",
      "conv_pad_12 (ZeroPadding2D)  (None, 15, 15, 512)       0         \n",
      "_________________________________________________________________\n",
      "conv_dw_12 (DepthwiseConv2D) (None, 7, 7, 512)         4608      \n",
      "_________________________________________________________________\n",
      "conv_dw_12_bn (BatchNormaliz (None, 7, 7, 512)         2048      \n",
      "_________________________________________________________________\n",
      "conv_dw_12_relu (ReLU)       (None, 7, 7, 512)         0         \n",
      "_________________________________________________________________\n",
      "conv_pw_12 (Conv2D)          (None, 7, 7, 1024)        524288    \n",
      "_________________________________________________________________\n",
      "conv_pw_12_bn (BatchNormaliz (None, 7, 7, 1024)        4096      \n",
      "_________________________________________________________________\n",
      "conv_pw_12_relu (ReLU)       (None, 7, 7, 1024)        0         \n",
      "_________________________________________________________________\n",
      "conv_dw_13 (DepthwiseConv2D) (None, 7, 7, 1024)        9216      \n",
      "_________________________________________________________________\n",
      "conv_dw_13_bn (BatchNormaliz (None, 7, 7, 1024)        4096      \n",
      "_________________________________________________________________\n",
      "conv_dw_13_relu (ReLU)       (None, 7, 7, 1024)        0         \n",
      "_________________________________________________________________\n",
      "conv_pw_13 (Conv2D)          (None, 7, 7, 1024)        1048576   \n",
      "_________________________________________________________________\n",
      "conv_pw_13_bn (BatchNormaliz (None, 7, 7, 1024)        4096      \n",
      "_________________________________________________________________\n",
      "conv_pw_13_relu (ReLU)       (None, 7, 7, 1024)        0         \n",
      "=================================================================\n",
      "Total params: 3,228,864\n",
      "Trainable params: 0\n",
      "Non-trainable params: 3,228,864\n",
      "_________________________________________________________________\n"
     ]
    }
   ],
   "source": [
    "from tensorflow.keras.applications.mobilenet import MobileNet\n",
    "base_model = MobileNet(include_top=False, input_shape=(img_size, img_size, 3), weights='imagenet')\n",
    "#base_model = VGG16(include_top=False, input_shape=(img_size, img_size, 2), weights='imagenet')\n",
    "\n",
    "\n",
    "for layer in base_model.layers:\n",
    "    layer.trainable = False\n",
    "                   \n",
    "model = Model(inputs=base_model.input, outputs=base_model.layers[-1].output)\n",
    "model.summary()"
   ]
  },
  {
   "cell_type": "markdown",
   "id": "dfc8703f",
   "metadata": {
    "papermill": {
     "duration": 0.033845,
     "end_time": "2022-05-25T19:14:59.223664",
     "exception": false,
     "start_time": "2022-05-25T19:14:59.189819",
     "status": "completed"
    },
    "tags": []
   },
   "source": [
    "# here is the input place of data"
   ]
  },
  {
   "cell_type": "code",
   "execution_count": 14,
   "id": "654a58ab",
   "metadata": {
    "execution": {
     "iopub.execute_input": "2022-05-25T19:14:59.295429Z",
     "iopub.status.busy": "2022-05-25T19:14:59.294844Z",
     "iopub.status.idle": "2022-05-25T19:14:59.301724Z",
     "shell.execute_reply": "2022-05-25T19:14:59.299596Z"
    },
    "papermill": {
     "duration": 0.047381,
     "end_time": "2022-05-25T19:14:59.305103",
     "exception": false,
     "start_time": "2022-05-25T19:14:59.257722",
     "status": "completed"
    },
    "tags": []
   },
   "outputs": [
    {
     "name": "stdout",
     "output_type": "stream",
     "text": [
      "(600, 224, 224, 3)\n"
     ]
    }
   ],
   "source": [
    "print(X_test_original.shape)"
   ]
  },
  {
   "cell_type": "code",
   "execution_count": 15,
   "id": "fd518572",
   "metadata": {
    "execution": {
     "iopub.execute_input": "2022-05-25T19:14:59.390065Z",
     "iopub.status.busy": "2022-05-25T19:14:59.389772Z",
     "iopub.status.idle": "2022-05-25T19:15:26.545742Z",
     "shell.execute_reply": "2022-05-25T19:15:26.544691Z"
    },
    "papermill": {
     "duration": 27.198824,
     "end_time": "2022-05-25T19:15:26.548322",
     "exception": false,
     "start_time": "2022-05-25T19:14:59.349498",
     "status": "completed"
    },
    "tags": []
   },
   "outputs": [
    {
     "name": "stderr",
     "output_type": "stream",
     "text": [
      "2022-05-25 19:14:59.665627: I tensorflow/compiler/mlir/mlir_graph_optimization_pass.cc:185] None of the MLIR Optimization Passes are enabled (registered 2)\n"
     ]
    },
    {
     "name": "stdout",
     "output_type": "stream",
     "text": [
      "Shape of X_train-----> (1400, 7, 7, 1024)\n",
      "Shape of X_val-----> (420, 7, 7, 1024)\n",
      "Shape of X_test-----> (180, 7, 7, 1024)\n"
     ]
    }
   ],
   "source": [
    "\n",
    "X_train, X_val, X_test, y_train, y_val, y_test = get_features2(model, X_train_original, y_train_original, X_test_original, y_test_original)\n",
    "\n",
    "#def get_features2(base_model, X_train1, y_train1, X_test1, y_test1):"
   ]
  },
  {
   "cell_type": "code",
   "execution_count": 16,
   "id": "145a2bff",
   "metadata": {
    "execution": {
     "iopub.execute_input": "2022-05-25T19:15:26.620607Z",
     "iopub.status.busy": "2022-05-25T19:15:26.620111Z",
     "iopub.status.idle": "2022-05-25T19:15:26.625122Z",
     "shell.execute_reply": "2022-05-25T19:15:26.624420Z"
    },
    "papermill": {
     "duration": 0.043576,
     "end_time": "2022-05-25T19:15:26.627154",
     "exception": false,
     "start_time": "2022-05-25T19:15:26.583578",
     "status": "completed"
    },
    "tags": []
   },
   "outputs": [
    {
     "name": "stdout",
     "output_type": "stream",
     "text": [
      "(1400,)\n",
      "(180,)\n",
      "(420,)\n"
     ]
    }
   ],
   "source": [
    "print(y_train.shape)\n",
    "print(y_test.shape)\n",
    "print(y_val.shape)"
   ]
  },
  {
   "cell_type": "code",
   "execution_count": 17,
   "id": "0760a059",
   "metadata": {
    "execution": {
     "iopub.execute_input": "2022-05-25T19:15:26.701023Z",
     "iopub.status.busy": "2022-05-25T19:15:26.700475Z",
     "iopub.status.idle": "2022-05-25T19:21:29.441466Z",
     "shell.execute_reply": "2022-05-25T19:21:29.440093Z"
    },
    "papermill": {
     "duration": 362.781091,
     "end_time": "2022-05-25T19:21:29.444467",
     "exception": false,
     "start_time": "2022-05-25T19:15:26.663376",
     "status": "completed"
    },
    "tags": []
   },
   "outputs": [
    {
     "name": "stdout",
     "output_type": "stream",
     "text": [
      "Shape after reshaping------->\n",
      "X train-------> (1400, 50176)\n",
      "X val--------> (420, 50176)\n",
      "X test--------> (180, 50176)\n",
      "Defined------->\n",
      "ANN --------> (4096x4096x2096x2)\n",
      "KNeighborsClassifier()\n",
      "SVC(kernel = 'linear')\n",
      "RandomForestClassifier(n_estimators = 50)\n",
      "AdaBoostClassifier()\n",
      "XGBClassifier(n_estimators = 50)\n",
      "Epoch 1/10\n",
      "44/44 [==============================] - 33s 715ms/step - loss: 1.2874 - accuracy: 0.7957 - val_loss: 1.4826 - val_accuracy: 0.8405\n",
      "Epoch 2/10\n",
      "44/44 [==============================] - 32s 707ms/step - loss: 0.2972 - accuracy: 0.8614 - val_loss: 0.8198 - val_accuracy: 0.8476\n",
      "Epoch 3/10\n",
      "44/44 [==============================] - 31s 707ms/step - loss: 0.2340 - accuracy: 0.9086 - val_loss: 0.5117 - val_accuracy: 0.8548\n",
      "Epoch 4/10\n",
      "44/44 [==============================] - 31s 713ms/step - loss: 0.1462 - accuracy: 0.9429 - val_loss: 0.4694 - val_accuracy: 0.8810\n",
      "Epoch 5/10\n",
      "44/44 [==============================] - 31s 713ms/step - loss: 0.0894 - accuracy: 0.9707 - val_loss: 0.3102 - val_accuracy: 0.9143\n",
      "Epoch 6/10\n",
      "44/44 [==============================] - 32s 719ms/step - loss: 0.0353 - accuracy: 0.9871 - val_loss: 0.5226 - val_accuracy: 0.8810\n",
      "Epoch 7/10\n",
      "44/44 [==============================] - 31s 709ms/step - loss: 0.0476 - accuracy: 0.9821 - val_loss: 0.3986 - val_accuracy: 0.9310\n",
      "Epoch 8/10\n",
      "44/44 [==============================] - 31s 714ms/step - loss: 0.0702 - accuracy: 0.9750 - val_loss: 0.3484 - val_accuracy: 0.9119\n",
      "Epoch 9/10\n",
      "44/44 [==============================] - 32s 735ms/step - loss: 0.0272 - accuracy: 0.9900 - val_loss: 0.4921 - val_accuracy: 0.9262\n",
      "Epoch 10/10\n",
      "44/44 [==============================] - 32s 718ms/step - loss: 0.0082 - accuracy: 0.9979 - val_loss: 0.5194 - val_accuracy: 0.9262\n",
      "Epoch 00010: early stopping\n"
     ]
    }
   ],
   "source": [
    "X_train, X_val, X_test = reshape_data(X_train, X_val, X_test)\n",
    "ANN, KNN, SVM, RF, ADB, XGB = get_models()\n",
    "\n",
    "ANN = fit_ANN(ANN, X_train, y_train, X_val, y_val)"
   ]
  },
  {
   "cell_type": "code",
   "execution_count": 18,
   "id": "4ad63f87",
   "metadata": {
    "execution": {
     "iopub.execute_input": "2022-05-25T19:21:29.871439Z",
     "iopub.status.busy": "2022-05-25T19:21:29.870704Z",
     "iopub.status.idle": "2022-05-25T19:21:55.220288Z",
     "shell.execute_reply": "2022-05-25T19:21:55.219166Z"
    },
    "papermill": {
     "duration": 25.561277,
     "end_time": "2022-05-25T19:21:55.222402",
     "exception": false,
     "start_time": "2022-05-25T19:21:29.661125",
     "status": "completed"
    },
    "tags": []
   },
   "outputs": [
    {
     "name": "stdout",
     "output_type": "stream",
     "text": [
      "Model: \"sequential\"\n",
      "_________________________________________________________________\n",
      "Layer (type)                 Output Shape              Param #   \n",
      "=================================================================\n",
      "dense (Dense)                (None, 4096)              205524992 \n",
      "_________________________________________________________________\n",
      "batch_normalization (BatchNo (None, 4096)              16384     \n",
      "_________________________________________________________________\n",
      "dense_1 (Dense)              (None, 4096)              16781312  \n",
      "_________________________________________________________________\n",
      "dropout (Dropout)            (None, 4096)              0         \n",
      "_________________________________________________________________\n",
      "dense_2 (Dense)              (None, 2096)              8587312   \n",
      "_________________________________________________________________\n",
      "dense_3 (Dense)              (None, 2)                 4194      \n",
      "=================================================================\n",
      "Total params: 230,914,194\n",
      "Trainable params: 230,906,002\n",
      "Non-trainable params: 8,192\n",
      "_________________________________________________________________\n",
      "Train accuracy Score------------>\n",
      "100.000 %\n",
      "Val accuracy Score--------->\n",
      "92.619 %\n",
      "Test accuracy Score--------->\n",
      "92.222 %\n",
      "F1 Score--------------->\n",
      "91.542 %\n",
      "Cohen Kappa Score------------->\n",
      "60.821 %\n",
      "Recall-------------->\n",
      "92.222 %\n",
      "Precision-------------->\n",
      "91.687 %\n"
     ]
    },
    {
     "data": {
      "image/png": "[encoded data removed]",
      "text/plain": [
       "<Figure size 864x432 with 4 Axes>"
      ]
     },
     "metadata": {
      "needs_background": "light"
     },
     "output_type": "display_data"
    },
    {
     "name": "stdout",
     "output_type": "stream",
     "text": [
      "classification report\n",
      "              precision    recall  f1-score   support\n",
      "\n",
      "           0       0.93      0.99      0.96       353\n",
      "           1       0.93      0.58      0.72        67\n",
      "\n",
      "    accuracy                           0.93       420\n",
      "   macro avg       0.93      0.79      0.84       420\n",
      "weighted avg       0.93      0.93      0.92       420\n",
      "\n"
     ]
    }
   ],
   "source": [
    "get_accuracy_metrics_for_ANN(ANN, X_train, y_train, X_val, y_val, X_test, y_test)"
   ]
  },
  {
   "cell_type": "code",
   "execution_count": 19,
   "id": "d777a2d7",
   "metadata": {
    "execution": {
     "iopub.execute_input": "2022-05-25T19:21:55.644381Z",
     "iopub.status.busy": "2022-05-25T19:21:55.644101Z",
     "iopub.status.idle": "2022-05-25T19:21:56.897489Z",
     "shell.execute_reply": "2022-05-25T19:21:56.896545Z"
    },
    "papermill": {
     "duration": 1.46683,
     "end_time": "2022-05-25T19:21:56.900043",
     "exception": false,
     "start_time": "2022-05-25T19:21:55.433213",
     "status": "completed"
    },
    "tags": []
   },
   "outputs": [],
   "source": [
    "scaler = StandardScaler()\n",
    "X_train_scaled = scaler.fit_transform(X_train)\n",
    "X_val_scaled = scaler.transform(X_val)\n",
    "X_test_scaled = scaler.transform(X_test)"
   ]
  },
  {
   "cell_type": "code",
   "execution_count": 20,
   "id": "77ec7949",
   "metadata": {
    "execution": {
     "iopub.execute_input": "2022-05-25T19:21:57.314296Z",
     "iopub.status.busy": "2022-05-25T19:21:57.313733Z",
     "iopub.status.idle": "2022-05-25T19:22:54.336039Z",
     "shell.execute_reply": "2022-05-25T19:22:54.335091Z"
    },
    "papermill": {
     "duration": 57.23191,
     "end_time": "2022-05-25T19:22:54.338556",
     "exception": false,
     "start_time": "2022-05-25T19:21:57.106646",
     "status": "completed"
    },
    "tags": []
   },
   "outputs": [
    {
     "name": "stdout",
     "output_type": "stream",
     "text": [
      "Train accuracy Score------------>\n",
      "100.000 %\n",
      "Val accuracy Score--------->\n",
      "92.381 %\n",
      "Test accuracy Score--------->\n",
      "90.000 %\n",
      "F1 Score--------------->\n",
      "89.380 %\n",
      "Cohen Kappa Score------------->\n",
      "51.613 %\n",
      "Recall-------------->\n",
      "90.000 %\n",
      "Precision-------------->\n",
      "89.136 %\n"
     ]
    },
    {
     "data": {
      "image/png": "[encoded data removed]",
      "text/plain": [
       "<Figure size 864x432 with 4 Axes>"
      ]
     },
     "metadata": {
      "needs_background": "light"
     },
     "output_type": "display_data"
    },
    {
     "name": "stdout",
     "output_type": "stream",
     "text": [
      "classification report\n",
      "              precision    recall  f1-score   support\n",
      "\n",
      "           0       0.93      0.99      0.96       353\n",
      "           1       0.91      0.58      0.71        67\n",
      "\n",
      "    accuracy                           0.92       420\n",
      "   macro avg       0.92      0.79      0.83       420\n",
      "weighted avg       0.92      0.92      0.92       420\n",
      "\n"
     ]
    }
   ],
   "source": [
    "SVM = fit_model(SVM, X_train_scaled, y_train)\n",
    "get_accuracy_metrics(SVM, X_train_scaled, y_train, X_val_scaled, y_val, X_test_scaled, y_test)"
   ]
  },
  {
   "cell_type": "code",
   "execution_count": 21,
   "id": "a4ed839c",
   "metadata": {
    "execution": {
     "iopub.execute_input": "2022-05-25T19:22:54.763865Z",
     "iopub.status.busy": "2022-05-25T19:22:54.763581Z",
     "iopub.status.idle": "2022-05-25T19:23:00.668553Z",
     "shell.execute_reply": "2022-05-25T19:23:00.667909Z"
    },
    "papermill": {
     "duration": 6.119555,
     "end_time": "2022-05-25T19:23:00.670443",
     "exception": false,
     "start_time": "2022-05-25T19:22:54.550888",
     "status": "completed"
    },
    "tags": []
   },
   "outputs": [
    {
     "name": "stdout",
     "output_type": "stream",
     "text": [
      "Train accuracy Score------------>\n",
      "100.000 %\n",
      "Val accuracy Score--------->\n",
      "90.952 %\n",
      "Test accuracy Score--------->\n",
      "90.000 %\n",
      "F1 Score--------------->\n",
      "88.156 %\n",
      "Cohen Kappa Score------------->\n",
      "42.553 %\n",
      "Recall-------------->\n",
      "90.000 %\n",
      "Precision-------------->\n",
      "89.176 %\n"
     ]
    },
    {
     "data": {
      "image/png": "[encoded data removed]",
      "text/plain": [
       "<Figure size 864x432 with 4 Axes>"
      ]
     },
     "metadata": {
      "needs_background": "light"
     },
     "output_type": "display_data"
    },
    {
     "name": "stdout",
     "output_type": "stream",
     "text": [
      "classification report\n",
      "              precision    recall  f1-score   support\n",
      "\n",
      "           0       0.90      1.00      0.95       353\n",
      "           1       1.00      0.43      0.60        67\n",
      "\n",
      "    accuracy                           0.91       420\n",
      "   macro avg       0.95      0.72      0.78       420\n",
      "weighted avg       0.92      0.91      0.89       420\n",
      "\n"
     ]
    }
   ],
   "source": [
    "RF = fit_model(RF, X_train, y_train)\n",
    "get_accuracy_metrics(RF,  X_train, y_train, X_val, y_val, X_test, y_test)"
   ]
  },
  {
   "cell_type": "code",
   "execution_count": 22,
   "id": "326bbbc2",
   "metadata": {
    "execution": {
     "iopub.execute_input": "2022-05-25T19:23:01.098745Z",
     "iopub.status.busy": "2022-05-25T19:23:01.098238Z",
     "iopub.status.idle": "2022-05-25T19:24:40.593001Z",
     "shell.execute_reply": "2022-05-25T19:24:40.592102Z"
    },
    "papermill": {
     "duration": 99.71086,
     "end_time": "2022-05-25T19:24:40.595574",
     "exception": false,
     "start_time": "2022-05-25T19:23:00.884714",
     "status": "completed"
    },
    "tags": []
   },
   "outputs": [
    {
     "name": "stdout",
     "output_type": "stream",
     "text": [
      "Train accuracy Score------------>\n",
      "98.786 %\n",
      "Val accuracy Score--------->\n",
      "92.143 %\n",
      "Test accuracy Score--------->\n",
      "91.667 %\n",
      "F1 Score--------------->\n",
      "91.047 %\n",
      "Cohen Kappa Score------------->\n",
      "58.867 %\n",
      "Recall-------------->\n",
      "91.667 %\n",
      "Precision-------------->\n",
      "91.014 %\n"
     ]
    },
    {
     "data": {
      "image/png": "[encoded data removed]",
      "text/plain": [
       "<Figure size 864x432 with 4 Axes>"
      ]
     },
     "metadata": {
      "needs_background": "light"
     },
     "output_type": "display_data"
    },
    {
     "name": "stdout",
     "output_type": "stream",
     "text": [
      "classification report\n",
      "              precision    recall  f1-score   support\n",
      "\n",
      "           0       0.93      0.98      0.95       353\n",
      "           1       0.87      0.60      0.71        67\n",
      "\n",
      "    accuracy                           0.92       420\n",
      "   macro avg       0.90      0.79      0.83       420\n",
      "weighted avg       0.92      0.92      0.92       420\n",
      "\n"
     ]
    }
   ],
   "source": [
    "ADB = fit_model(ADB, X_train, y_train)\n",
    "get_accuracy_metrics(ADB,  X_train, y_train, X_val, y_val, X_test, y_test)"
   ]
  },
  {
   "cell_type": "code",
   "execution_count": 23,
   "id": "8f53918a",
   "metadata": {
    "execution": {
     "iopub.execute_input": "2022-05-25T19:24:41.032420Z",
     "iopub.status.busy": "2022-05-25T19:24:41.031997Z",
     "iopub.status.idle": "2022-05-25T19:25:55.630685Z",
     "shell.execute_reply": "2022-05-25T19:25:55.629739Z"
    },
    "papermill": {
     "duration": 74.82079,
     "end_time": "2022-05-25T19:25:55.632811",
     "exception": false,
     "start_time": "2022-05-25T19:24:40.812021",
     "status": "completed"
    },
    "tags": []
   },
   "outputs": [
    {
     "name": "stdout",
     "output_type": "stream",
     "text": [
      "Train accuracy Score------------>\n",
      "100.000 %\n",
      "Val accuracy Score--------->\n",
      "91.905 %\n",
      "Test accuracy Score--------->\n",
      "92.778 %\n",
      "F1 Score--------------->\n",
      "91.827 %\n",
      "Cohen Kappa Score------------->\n",
      "61.233 %\n",
      "Recall-------------->\n",
      "92.778 %\n",
      "Precision-------------->\n",
      "92.747 %\n"
     ]
    },
    {
     "data": {
      "image/png": "[encoded data removed]",
      "text/plain": [
       "<Figure size 864x432 with 4 Axes>"
      ]
     },
     "metadata": {
      "needs_background": "light"
     },
     "output_type": "display_data"
    },
    {
     "name": "stdout",
     "output_type": "stream",
     "text": [
      "classification report\n",
      "              precision    recall  f1-score   support\n",
      "\n",
      "           0       0.91      1.00      0.95       353\n",
      "           1       0.97      0.51      0.67        67\n",
      "\n",
      "    accuracy                           0.92       420\n",
      "   macro avg       0.94      0.75      0.81       420\n",
      "weighted avg       0.92      0.92      0.91       420\n",
      "\n"
     ]
    }
   ],
   "source": [
    "XGB = fit_model(XGB, X_train, y_train)\n",
    "get_accuracy_metrics(XGB,  X_train, y_train, X_val, y_val, X_test, y_test)"
   ]
  },
  {
   "cell_type": "code",
   "execution_count": 24,
   "id": "8ff0a98d",
   "metadata": {
    "execution": {
     "iopub.execute_input": "2022-05-25T19:25:56.110206Z",
     "iopub.status.busy": "2022-05-25T19:25:56.109088Z",
     "iopub.status.idle": "2022-05-25T19:26:20.440831Z",
     "shell.execute_reply": "2022-05-25T19:26:20.439930Z"
    },
    "papermill": {
     "duration": 24.580175,
     "end_time": "2022-05-25T19:26:20.443035",
     "exception": false,
     "start_time": "2022-05-25T19:25:55.862860",
     "status": "completed"
    },
    "tags": []
   },
   "outputs": [
    {
     "name": "stdout",
     "output_type": "stream",
     "text": [
      "Train accuracy Score------------>\n",
      "88.500 %\n",
      "Val accuracy Score--------->\n",
      "85.714 %\n",
      "Test accuracy Score--------->\n",
      "88.333 %\n",
      "F1 Score--------------->\n",
      "84.846 %\n",
      "Cohen Kappa Score------------->\n",
      "24.096 %\n",
      "Recall-------------->\n",
      "88.333 %\n",
      "Precision-------------->\n",
      "87.429 %\n"
     ]
    },
    {
     "data": {
      "image/png": "[encoded data removed]",
      "text/plain": [
       "<Figure size 864x432 with 4 Axes>"
      ]
     },
     "metadata": {
      "needs_background": "light"
     },
     "output_type": "display_data"
    },
    {
     "name": "stdout",
     "output_type": "stream",
     "text": [
      "classification report\n",
      "              precision    recall  f1-score   support\n",
      "\n",
      "           0       0.86      1.00      0.92       353\n",
      "           1       0.89      0.12      0.21        67\n",
      "\n",
      "    accuracy                           0.86       420\n",
      "   macro avg       0.87      0.56      0.57       420\n",
      "weighted avg       0.86      0.86      0.81       420\n",
      "\n"
     ]
    }
   ],
   "source": [
    "fit_KNN_metrics(KNN, X_train_scaled, y_train, X_val_scaled, y_val, X_test_scaled, y_test)"
   ]
  }
 ],
 "metadata": {
  "kernelspec": {
   "display_name": "Python 3",
   "language": "python",
   "name": "python3"
  },
  "language_info": {
   "codemirror_mode": {
    "name": "ipython",
    "version": 3
   },
   "file_extension": ".py",
   "mimetype": "text/x-python",
   "name": "python",
   "nbconvert_exporter": "python",
   "pygments_lexer": "ipython3",
   "version": "3.7.12"
  },
  "papermill": {
   "default_parameters": {},
   "duration": 777.179626,
   "end_time": "2022-05-25T19:26:23.913554",
   "environment_variables": {},
   "exception": null,
   "input_path": "__notebook__.ipynb",
   "output_path": "__notebook__.ipynb",
   "parameters": {},
   "start_time": "2022-05-25T19:13:26.733928",
   "version": "2.3.4"
  }
 },
 "nbformat": 4,
 "nbformat_minor": 5
}
