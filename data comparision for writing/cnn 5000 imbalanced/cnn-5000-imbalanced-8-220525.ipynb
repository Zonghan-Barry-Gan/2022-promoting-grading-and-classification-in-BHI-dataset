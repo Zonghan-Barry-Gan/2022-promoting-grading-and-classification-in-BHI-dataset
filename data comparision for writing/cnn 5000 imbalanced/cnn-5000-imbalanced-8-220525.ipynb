{
 "cells": [
  {
   "cell_type": "code",
   "execution_count": 1,
   "id": "b52cd5f8",
   "metadata": {
    "_cell_guid": "b1076dfc-b9ad-4769-8c92-a6c4dae69d19",
    "_uuid": "8f2839f25d086af736a60e9eeb907d3b93b6e0e5",
    "execution": {
     "iopub.execute_input": "2022-05-25T20:38:13.250947Z",
     "iopub.status.busy": "2022-05-25T20:38:13.250499Z",
     "iopub.status.idle": "2022-05-25T20:38:26.628456Z",
     "shell.execute_reply": "2022-05-25T20:38:26.627113Z"
    },
    "papermill": {
     "duration": 13.394039,
     "end_time": "2022-05-25T20:38:26.631234",
     "exception": false,
     "start_time": "2022-05-25T20:38:13.237195",
     "status": "completed"
    },
    "tags": []
   },
   "outputs": [
    {
     "name": "stdout",
     "output_type": "stream",
     "text": [
      "Collecting Livelossplot\r\n",
      "  Downloading livelossplot-0.5.5-py3-none-any.whl (22 kB)\r\n",
      "Requirement already satisfied: ipython==7.* in /opt/conda/lib/python3.7/site-packages (from Livelossplot) (7.33.0)\r\n",
      "Requirement already satisfied: matplotlib in /opt/conda/lib/python3.7/site-packages (from Livelossplot) (3.5.2)\r\n",
      "Requirement already satisfied: bokeh in /opt/conda/lib/python3.7/site-packages (from Livelossplot) (2.4.3)\r\n",
      "Requirement already satisfied: numpy<1.22 in /opt/conda/lib/python3.7/site-packages (from Livelossplot) (1.21.6)\r\n",
      "Requirement already satisfied: prompt-toolkit!=3.0.0,!=3.0.1,<3.1.0,>=2.0.0 in /opt/conda/lib/python3.7/site-packages (from ipython==7.*->Livelossplot) (3.0.29)\r\n",
      "Requirement already satisfied: decorator in /opt/conda/lib/python3.7/site-packages (from ipython==7.*->Livelossplot) (5.1.1)\r\n",
      "Requirement already satisfied: jedi>=0.16 in /opt/conda/lib/python3.7/site-packages (from ipython==7.*->Livelossplot) (0.18.1)\r\n",
      "Requirement already satisfied: pexpect>4.3 in /opt/conda/lib/python3.7/site-packages (from ipython==7.*->Livelossplot) (4.8.0)\r\n",
      "Requirement already satisfied: pickleshare in /opt/conda/lib/python3.7/site-packages (from ipython==7.*->Livelossplot) (0.7.5)\r\n",
      "Requirement already satisfied: traitlets>=4.2 in /opt/conda/lib/python3.7/site-packages (from ipython==7.*->Livelossplot) (5.2.0)\r\n",
      "Requirement already satisfied: pygments in /opt/conda/lib/python3.7/site-packages (from ipython==7.*->Livelossplot) (2.12.0)\r\n",
      "Requirement already satisfied: setuptools>=18.5 in /opt/conda/lib/python3.7/site-packages (from ipython==7.*->Livelossplot) (59.8.0)\r\n",
      "Requirement already satisfied: backcall in /opt/conda/lib/python3.7/site-packages (from ipython==7.*->Livelossplot) (0.2.0)\r\n",
      "Requirement already satisfied: matplotlib-inline in /opt/conda/lib/python3.7/site-packages (from ipython==7.*->Livelossplot) (0.1.3)\r\n",
      "Requirement already satisfied: packaging>=16.8 in /opt/conda/lib/python3.7/site-packages (from bokeh->Livelossplot) (21.3)\r\n",
      "Requirement already satisfied: Jinja2>=2.9 in /opt/conda/lib/python3.7/site-packages (from bokeh->Livelossplot) (3.1.2)\r\n",
      "Requirement already satisfied: PyYAML>=3.10 in /opt/conda/lib/python3.7/site-packages (from bokeh->Livelossplot) (6.0)\r\n",
      "Requirement already satisfied: typing-extensions>=3.10.0 in /opt/conda/lib/python3.7/site-packages (from bokeh->Livelossplot) (4.2.0)\r\n",
      "Requirement already satisfied: pillow>=7.1.0 in /opt/conda/lib/python3.7/site-packages (from bokeh->Livelossplot) (9.1.0)\r\n",
      "Requirement already satisfied: tornado>=5.1 in /opt/conda/lib/python3.7/site-packages (from bokeh->Livelossplot) (6.1)\r\n",
      "Requirement already satisfied: python-dateutil>=2.7 in /opt/conda/lib/python3.7/site-packages (from matplotlib->Livelossplot) (2.8.2)\r\n",
      "Requirement already satisfied: kiwisolver>=1.0.1 in /opt/conda/lib/python3.7/site-packages (from matplotlib->Livelossplot) (1.4.2)\r\n",
      "Requirement already satisfied: fonttools>=4.22.0 in /opt/conda/lib/python3.7/site-packages (from matplotlib->Livelossplot) (4.33.3)\r\n",
      "Requirement already satisfied: pyparsing>=2.2.1 in /opt/conda/lib/python3.7/site-packages (from matplotlib->Livelossplot) (3.0.9)\r\n",
      "Requirement already satisfied: cycler>=0.10 in /opt/conda/lib/python3.7/site-packages (from matplotlib->Livelossplot) (0.11.0)\r\n",
      "Requirement already satisfied: parso<0.9.0,>=0.8.0 in /opt/conda/lib/python3.7/site-packages (from jedi>=0.16->ipython==7.*->Livelossplot) (0.8.3)\r\n",
      "Requirement already satisfied: MarkupSafe>=2.0 in /opt/conda/lib/python3.7/site-packages (from Jinja2>=2.9->bokeh->Livelossplot) (2.0.1)\r\n",
      "Requirement already satisfied: ptyprocess>=0.5 in /opt/conda/lib/python3.7/site-packages (from pexpect>4.3->ipython==7.*->Livelossplot) (0.7.0)\r\n",
      "Requirement already satisfied: wcwidth in /opt/conda/lib/python3.7/site-packages (from prompt-toolkit!=3.0.0,!=3.0.1,<3.1.0,>=2.0.0->ipython==7.*->Livelossplot) (0.2.5)\r\n",
      "Requirement already satisfied: six>=1.5 in /opt/conda/lib/python3.7/site-packages (from python-dateutil>=2.7->matplotlib->Livelossplot) (1.16.0)\r\n",
      "Installing collected packages: Livelossplot\r\n",
      "Successfully installed Livelossplot-0.5.5\r\n",
      "\u001b[33mWARNING: Running pip as the 'root' user can result in broken permissions and conflicting behaviour with the system package manager. It is recommended to use a virtual environment instead: https://pip.pypa.io/warnings/venv\u001b[0m\u001b[33m\r\n",
      "\u001b[0m"
     ]
    }
   ],
   "source": [
    "# This Python 3 environment comes with many helpful analytics libraries installed\n",
    "# It is defined by the kaggle/python Docker image: https://github.com/kaggle/docker-python\n",
    "# For example, here's several helpful packages to load\n",
    "\n",
    "import numpy as np # linear algebra\n",
    "import pandas as pd # data processing, CSV file I/O (e.g. pd.read_csv)\n",
    "\n",
    "# Input data files are available in the read-only \"../input/\" directory\n",
    "# For example, running this (by clicking run or pressing Shift+Enter) will list all files under the input directory\n",
    "\n",
    "import os\n",
    "\n",
    "import warnings\n",
    "warnings.filterwarnings('ignore')\n",
    "%matplotlib inline\n",
    "!pip install Livelossplot\n",
    "from livelossplot import PlotLossesKeras\n",
    "\n",
    "from glob import glob\n",
    "import os\n",
    "import shutil\n",
    "\n",
    "import numpy as np\n",
    "import pandas as pd\n",
    "# You can write up to 20GB to the current directory (/kaggle/working/) that gets preserved as output when you create a version using \"Save & Run All\" \n",
    "# You can also write temporary files to /kaggle/temp/, but they won't be saved outside of the current session"
   ]
  },
  {
   "cell_type": "markdown",
   "id": "2e9a20ca",
   "metadata": {
    "papermill": {
     "duration": 0.009931,
     "end_time": "2022-05-25T20:38:26.653968",
     "exception": false,
     "start_time": "2022-05-25T20:38:26.644037",
     "status": "completed"
    },
    "tags": []
   },
   "source": [
    "# AIM\n",
    "## To classify the images into \n",
    "### IDC+\n",
    "### IDC-\n",
    "\n",
    "# Validation Strategy:\n",
    "\n",
    "\n",
    "# Augmentaions Used:\n",
    "## No Augmentation\n"
   ]
  },
  {
   "cell_type": "code",
   "execution_count": 2,
   "id": "6d250329",
   "metadata": {
    "execution": {
     "iopub.execute_input": "2022-05-25T20:38:26.677565Z",
     "iopub.status.busy": "2022-05-25T20:38:26.676758Z",
     "iopub.status.idle": "2022-05-25T20:38:36.824151Z",
     "shell.execute_reply": "2022-05-25T20:38:36.822727Z"
    },
    "papermill": {
     "duration": 10.162974,
     "end_time": "2022-05-25T20:38:36.827461",
     "exception": false,
     "start_time": "2022-05-25T20:38:26.664487",
     "status": "completed"
    },
    "tags": []
   },
   "outputs": [
    {
     "data": {
      "text/html": [
       "<style type='text/css'>\n",
       ".datatable table.frame { margin-bottom: 0; }\n",
       ".datatable table.frame thead { border-bottom: none; }\n",
       ".datatable table.frame tr.coltypes td {  color: #FFFFFF;  line-height: 6px;  padding: 0 0.5em;}\n",
       ".datatable .bool    { background: #DDDD99; }\n",
       ".datatable .object  { background: #565656; }\n",
       ".datatable .int     { background: #5D9E5D; }\n",
       ".datatable .float   { background: #4040CC; }\n",
       ".datatable .str     { background: #CC4040; }\n",
       ".datatable .time    { background: #40CC40; }\n",
       ".datatable .row_index {  background: var(--jp-border-color3);  border-right: 1px solid var(--jp-border-color0);  color: var(--jp-ui-font-color3);  font-size: 9px;}\n",
       ".datatable .frame tbody td { text-align: left; }\n",
       ".datatable .frame tr.coltypes .row_index {  background: var(--jp-border-color0);}\n",
       ".datatable th:nth-child(2) { padding-left: 12px; }\n",
       ".datatable .hellipsis {  color: var(--jp-cell-editor-border-color);}\n",
       ".datatable .vellipsis {  background: var(--jp-layout-color0);  color: var(--jp-cell-editor-border-color);}\n",
       ".datatable .na {  color: var(--jp-cell-editor-border-color);  font-size: 80%;}\n",
       ".datatable .sp {  opacity: 0.25;}\n",
       ".datatable .footer { font-size: 9px; }\n",
       ".datatable .frame_dimensions {  background: var(--jp-border-color3);  border-top: 1px solid var(--jp-border-color0);  color: var(--jp-ui-font-color3);  display: inline-block;  opacity: 0.6;  padding: 1px 10px 1px 5px;}\n",
       "</style>\n"
      ],
      "text/plain": [
       "<IPython.core.display.HTML object>"
      ]
     },
     "metadata": {},
     "output_type": "display_data"
    },
    {
     "name": "stdout",
     "output_type": "stream",
     "text": [
      "All modules have been imported\n"
     ]
    }
   ],
   "source": [
    "\n",
    "import numpy as np\n",
    "import pandas as pd\n",
    "import cv2\n",
    "from PIL import Image\n",
    "import scipy\n",
    "\n",
    "import tensorflow as tf\n",
    "from tensorflow.keras.applications import *\n",
    "from tensorflow.keras.optimizers import *\n",
    "from tensorflow.keras.losses import *\n",
    "from tensorflow.keras.layers import *\n",
    "from tensorflow.keras.models import *\n",
    "from tensorflow.keras.callbacks import *\n",
    "from tensorflow.keras.preprocessing.image import *\n",
    "from tensorflow.keras.utils import *\n",
    "# import pydot\n",
    "\n",
    "from sklearn.metrics import *\n",
    "from sklearn.model_selection import *\n",
    "import tensorflow.keras.backend as K\n",
    "\n",
    "from tqdm import tqdm, tqdm_notebook\n",
    "from colorama import Fore\n",
    "import json\n",
    "import matplotlib.pyplot as plt\n",
    "import seaborn as sns\n",
    "from glob import glob\n",
    "from skimage.io import *\n",
    "%config Completer.use_jedi = False\n",
    "import time\n",
    "from sklearn.decomposition import PCA\n",
    "from sklearn.svm import LinearSVC\n",
    "from sklearn.linear_model import LogisticRegression\n",
    "from sklearn.metrics import accuracy_score\n",
    "import lightgbm as lgb\n",
    "import xgboost as xgb\n",
    "\n",
    "print(\"All modules have been imported\")"
   ]
  },
  {
   "cell_type": "code",
   "execution_count": 3,
   "id": "3e3f8d07",
   "metadata": {
    "execution": {
     "iopub.execute_input": "2022-05-25T20:38:36.852645Z",
     "iopub.status.busy": "2022-05-25T20:38:36.852188Z",
     "iopub.status.idle": "2022-05-25T20:38:36.858781Z",
     "shell.execute_reply": "2022-05-25T20:38:36.857808Z"
    },
    "papermill": {
     "duration": 0.022211,
     "end_time": "2022-05-25T20:38:36.861306",
     "exception": false,
     "start_time": "2022-05-25T20:38:36.839095",
     "status": "completed"
    },
    "tags": []
   },
   "outputs": [],
   "source": [
    "import os\n",
    "os.makedirs('../working/data/train_seg/idc-minus/')     \n",
    "os.makedirs('../working/data/train_seg/idc-plus/')  \n",
    "os.makedirs('../working/data/test_seg/idc-minus/')     \n",
    "os.makedirs('../working/data/test_seg/idc-plus/')  \n",
    "os.makedirs('../working/data/val_seg/idc-minus/')     \n",
    "os.makedirs('../working/data/val_seg/idc-plus/')  "
   ]
  },
  {
   "cell_type": "code",
   "execution_count": 4,
   "id": "09e95b6e",
   "metadata": {
    "execution": {
     "iopub.execute_input": "2022-05-25T20:38:36.885423Z",
     "iopub.status.busy": "2022-05-25T20:38:36.884986Z",
     "iopub.status.idle": "2022-05-25T20:38:36.891086Z",
     "shell.execute_reply": "2022-05-25T20:38:36.889823Z"
    },
    "papermill": {
     "duration": 0.020856,
     "end_time": "2022-05-25T20:38:36.893470",
     "exception": false,
     "start_time": "2022-05-25T20:38:36.872614",
     "status": "completed"
    },
    "tags": []
   },
   "outputs": [],
   "source": [
    "sampling_seed=0\n",
    "size_4_training=5000\n",
    "img_size=50\n",
    "epoch1=10\n",
    "epoch2=3\n",
    "training_reshape=(-1, img_size, img_size, 3)"
   ]
  },
  {
   "cell_type": "markdown",
   "id": "72553bb2",
   "metadata": {
    "papermill": {
     "duration": 0.010642,
     "end_time": "2022-05-25T20:38:36.915258",
     "exception": false,
     "start_time": "2022-05-25T20:38:36.904616",
     "status": "completed"
    },
    "tags": []
   },
   "source": [
    "Image labelling"
   ]
  },
  {
   "cell_type": "code",
   "execution_count": 5,
   "id": "9ee69578",
   "metadata": {
    "execution": {
     "iopub.execute_input": "2022-05-25T20:38:36.939704Z",
     "iopub.status.busy": "2022-05-25T20:38:36.939307Z",
     "iopub.status.idle": "2022-05-25T20:40:27.190290Z",
     "shell.execute_reply": "2022-05-25T20:40:27.188875Z"
    },
    "papermill": {
     "duration": 110.275342,
     "end_time": "2022-05-25T20:40:27.202234",
     "exception": false,
     "start_time": "2022-05-25T20:38:36.926892",
     "status": "completed"
    },
    "tags": []
   },
   "outputs": [
    {
     "name": "stdout",
     "output_type": "stream",
     "text": [
      "['../input/breast-histopathology-images/IDC_regular_ps50_idx5/10295/0/10295_idx5_x1351_y1101_class0.png', '../input/breast-histopathology-images/IDC_regular_ps50_idx5/10295/0/10295_idx5_x1501_y501_class0.png', '../input/breast-histopathology-images/IDC_regular_ps50_idx5/10295/0/10295_idx5_x1501_y1101_class0.png', '../input/breast-histopathology-images/IDC_regular_ps50_idx5/10295/0/10295_idx5_x451_y901_class0.png', '../input/breast-histopathology-images/IDC_regular_ps50_idx5/10295/0/10295_idx5_x801_y451_class0.png', '../input/breast-histopathology-images/IDC_regular_ps50_idx5/10295/0/10295_idx5_x151_y1051_class0.png', '../input/breast-histopathology-images/IDC_regular_ps50_idx5/10295/0/10295_idx5_x1351_y901_class0.png', '../input/breast-histopathology-images/IDC_regular_ps50_idx5/10295/0/10295_idx5_x701_y651_class0.png', '../input/breast-histopathology-images/IDC_regular_ps50_idx5/10295/0/10295_idx5_x951_y1401_class0.png', '../input/breast-histopathology-images/IDC_regular_ps50_idx5/10295/0/10295_idx5_x601_y501_class0.png']\n",
      "(5000, 2)\n",
      "(10000, 2)\n",
      "(10000, 50, 50, 3)\n",
      "(7000, 50, 50, 3) (900, 50, 50, 3) (2100, 50, 50, 3) (7000, 2) (900, 2) (2100, 2)\n"
     ]
    }
   ],
   "source": [
    "\n",
    "training_reshape=(-1, img_size, img_size, 3)\n",
    "import random\n",
    "#make directory for labelling\n",
    "os.makedirs('../working/idc2/idc-minus/')     \n",
    "os.makedirs('../working/idc2/idc-plus/')  \n",
    "\n",
    "\n",
    "class0 = [] # 0 = idc+\n",
    "class1 = [] # 1 = idc-\n",
    "imagePatches = glob('../input/breast-histopathology-images/IDC_regular_ps50_idx5/**/*.png', recursive=True)\n",
    "for filename in imagePatches:\n",
    "    if filename.endswith(\"class0.png\"):\n",
    "         class0.append(filename)\n",
    "    else:\n",
    "        class1.append(filename)\n",
    "\n",
    "print(class0[0:10])\n",
    "\n",
    "#sampling 10000 images from class 0 and class 1 to train the model\n",
    "\n",
    "random.seed(sampling_seed)\n",
    "class0sample=random.sample(class0,size_4_training)\n",
    "class1sample=random.sample(class1,size_4_training)\n",
    "\n",
    "\n",
    "def read_and_save_data(path, file_name_array):\n",
    "    j=0\n",
    "    for i in file_name_array:\n",
    "        if i.endswith('.png'):\n",
    "          \n",
    "            \n",
    "            #second copy method\n",
    "            head, tail = os.path.split(i)\n",
    "            outputname=str(path+tail)\n",
    "            #outputname=str(path+str(j)+'.png')\n",
    "            #print(outputname)\n",
    "            shutil.copy(i, outputname)\n",
    "   \n",
    "            #print(status2)\n",
    "            \n",
    "            j=j+1\n",
    "            if j==120000:\n",
    "                break\n",
    "            \n",
    "   \n",
    "class0path='../working/idc2/idc-minus/'\n",
    "class1path='../working/idc2/idc-plus/'\n",
    "\n",
    "\n",
    "\n",
    "\n",
    "read_and_save_data(class0path,class0sample)\n",
    "read_and_save_data(class1path,class1sample)\n",
    "\n",
    "\n",
    "from PIL import Image\n",
    "import glob\n",
    "\n",
    "import os #Operating System\n",
    "import sys #System\n",
    "# train_generator = train_datagen.flow(x_train, y_train, batch_size =)\n",
    "# val_generator = val_datagen.flow(x_val, y_val, batch_size = 64)\n",
    "# test_generator=test_datagen.flow(x_test,y_test,batch_size = 64)\n",
    "\n",
    "\n",
    "def readImage(path, tag):\n",
    "    j=0\n",
    "    image_array = []\n",
    "    for i in os.listdir(path):\n",
    "        imgname=path+i\n",
    "        #print(imgname)\n",
    "        img = cv2.imread(imgname, cv2.IMREAD_COLOR)\n",
    "        img_resized = cv2.resize(img, (img_size,img_size), interpolation=cv2.INTER_LINEAR)\n",
    "        image_array.append([img_resized, tag])\n",
    "        #print(img[1])\n",
    "        j=j+1\n",
    "        #if j==10:\n",
    "        #    break\n",
    "        \n",
    "    return image_array\n",
    "\n",
    "\n",
    "import numpy as np\n",
    "\n",
    "\n",
    "class0_array = readImage(class0path, 0)\n",
    "class1_array = readImage(class1path, 1)\n",
    "class0_array=np.array(class0_array)\n",
    "class1_array=np.array(class1_array)\n",
    "combined_data = np.concatenate((class0_array, class1_array))\n",
    "random.seed(41)\n",
    "random.shuffle(combined_data)\n",
    "print(class0_array.shape)\n",
    "print(combined_data.shape)\n",
    "\n",
    "X = []\n",
    "y = []\n",
    "\n",
    "for features,label in combined_data:\n",
    "    X.append(features)\n",
    "    y.append(label)\n",
    "#print(X.shape)\n",
    "#pring(y.shape)\n",
    "\n",
    "# reshape X data\n",
    "X = np.array(X).reshape(training_reshape)\n",
    "print(X.shape)\n",
    "\n",
    "\n",
    "X_train, X_test1, y_train, y_test1 = train_test_split(X, y, test_size=0.3, random_state=42)\n",
    "X_val, X_test, y_val, y_test = train_test_split(X_test1, y_test1, test_size=0.3, random_state=42)\n",
    "y_train = to_categorical(y_train)\n",
    "y_test = to_categorical(y_test)\n",
    "y_val = to_categorical(y_val)\n",
    "print(X_train.shape, X_test.shape, X_val.shape, y_train.shape, y_test.shape, y_val.shape)"
   ]
  },
  {
   "cell_type": "markdown",
   "id": "55ccbe6b",
   "metadata": {
    "papermill": {
     "duration": 0.010721,
     "end_time": "2022-05-25T20:40:27.224306",
     "exception": false,
     "start_time": "2022-05-25T20:40:27.213585",
     "status": "completed"
    },
    "tags": []
   },
   "source": []
  },
  {
   "cell_type": "code",
   "execution_count": 6,
   "id": "f1d2972f",
   "metadata": {
    "execution": {
     "iopub.execute_input": "2022-05-25T20:40:27.249809Z",
     "iopub.status.busy": "2022-05-25T20:40:27.248872Z",
     "iopub.status.idle": "2022-05-25T20:40:27.256792Z",
     "shell.execute_reply": "2022-05-25T20:40:27.255778Z"
    },
    "papermill": {
     "duration": 0.023701,
     "end_time": "2022-05-25T20:40:27.259029",
     "exception": false,
     "start_time": "2022-05-25T20:40:27.235328",
     "status": "completed"
    },
    "tags": []
   },
   "outputs": [],
   "source": [
    "\n",
    "#Callbacks\n",
    "c2=tf.keras.callbacks.EarlyStopping(\n",
    "    monitor=\"val_loss\",\n",
    "    min_delta=0,\n",
    "    patience=6,\n",
    "    mode=\"auto\",\n",
    "    baseline=None,\n",
    "    restore_best_weights=True,\n",
    ")\n",
    "\n",
    "c3=tf.keras.callbacks.ReduceLROnPlateau(\n",
    "    monitor=\"val_loss\",\n",
    "    factor=0.1,\n",
    "    patience=6,\n",
    "    mode=\"auto\",\n",
    "    min_delta=0.0001,\n",
    "    cooldown=0,\n",
    "    min_lr=0.001\n",
    ")\n",
    "nClasses=3"
   ]
  },
  {
   "cell_type": "code",
   "execution_count": 7,
   "id": "0a550cd2",
   "metadata": {
    "execution": {
     "iopub.execute_input": "2022-05-25T20:40:27.285186Z",
     "iopub.status.busy": "2022-05-25T20:40:27.284676Z",
     "iopub.status.idle": "2022-05-25T20:40:27.289928Z",
     "shell.execute_reply": "2022-05-25T20:40:27.288714Z"
    },
    "papermill": {
     "duration": 0.021258,
     "end_time": "2022-05-25T20:40:27.292143",
     "exception": false,
     "start_time": "2022-05-25T20:40:27.270885",
     "status": "completed"
    },
    "tags": []
   },
   "outputs": [],
   "source": [
    "\n",
    "from PIL import Image\n",
    "import glob\n"
   ]
  },
  {
   "cell_type": "code",
   "execution_count": null,
   "id": "b5725895",
   "metadata": {
    "papermill": {
     "duration": 0.011992,
     "end_time": "2022-05-25T20:40:27.316895",
     "exception": false,
     "start_time": "2022-05-25T20:40:27.304903",
     "status": "completed"
    },
    "tags": []
   },
   "outputs": [],
   "source": []
  },
  {
   "cell_type": "code",
   "execution_count": null,
   "id": "dcc9d161",
   "metadata": {
    "papermill": {
     "duration": 0.012479,
     "end_time": "2022-05-25T20:40:27.342328",
     "exception": false,
     "start_time": "2022-05-25T20:40:27.329849",
     "status": "completed"
    },
    "tags": []
   },
   "outputs": [],
   "source": []
  },
  {
   "cell_type": "code",
   "execution_count": 8,
   "id": "c6d86393",
   "metadata": {
    "execution": {
     "iopub.execute_input": "2022-05-25T20:40:27.368868Z",
     "iopub.status.busy": "2022-05-25T20:40:27.368295Z",
     "iopub.status.idle": "2022-05-25T20:40:27.373686Z",
     "shell.execute_reply": "2022-05-25T20:40:27.372401Z"
    },
    "papermill": {
     "duration": 0.021904,
     "end_time": "2022-05-25T20:40:27.376074",
     "exception": false,
     "start_time": "2022-05-25T20:40:27.354170",
     "status": "completed"
    },
    "tags": []
   },
   "outputs": [],
   "source": [
    "import os #Operating System\n",
    "import sys #System\n",
    "# train_generator = train_datagen.flow(x_train, y_train, batch_size =)\n",
    "# val_generator = val_datagen.flow(x_val, y_val, batch_size = 64)\n",
    "# test_generator=test_datagen.flow(x_test,y_test,batch_size = 64)\n"
   ]
  },
  {
   "cell_type": "markdown",
   "id": "f209ec0f",
   "metadata": {
    "papermill": {
     "duration": 0.011954,
     "end_time": "2022-05-25T20:40:27.399619",
     "exception": false,
     "start_time": "2022-05-25T20:40:27.387665",
     "status": "completed"
    },
    "tags": []
   },
   "source": [
    "#import image"
   ]
  },
  {
   "cell_type": "code",
   "execution_count": null,
   "id": "5246c90e",
   "metadata": {
    "papermill": {
     "duration": 0.010685,
     "end_time": "2022-05-25T20:40:27.422235",
     "exception": false,
     "start_time": "2022-05-25T20:40:27.411550",
     "status": "completed"
    },
    "tags": []
   },
   "outputs": [],
   "source": []
  },
  {
   "cell_type": "code",
   "execution_count": null,
   "id": "6af95810",
   "metadata": {
    "papermill": {
     "duration": 0.010826,
     "end_time": "2022-05-25T20:40:27.444752",
     "exception": false,
     "start_time": "2022-05-25T20:40:27.433926",
     "status": "completed"
    },
    "tags": []
   },
   "outputs": [],
   "source": []
  },
  {
   "cell_type": "code",
   "execution_count": 9,
   "id": "85d95cac",
   "metadata": {
    "execution": {
     "iopub.execute_input": "2022-05-25T20:40:27.468731Z",
     "iopub.status.busy": "2022-05-25T20:40:27.468333Z",
     "iopub.status.idle": "2022-05-25T20:40:27.475980Z",
     "shell.execute_reply": "2022-05-25T20:40:27.474326Z"
    },
    "papermill": {
     "duration": 0.022517,
     "end_time": "2022-05-25T20:40:27.478532",
     "exception": false,
     "start_time": "2022-05-25T20:40:27.456015",
     "status": "completed"
    },
    "tags": []
   },
   "outputs": [
    {
     "name": "stdout",
     "output_type": "stream",
     "text": [
      "(7000, 50, 50, 3) (900, 50, 50, 3) (2100, 50, 50, 3) (7000, 2) (900, 2) (2100, 2)\n"
     ]
    }
   ],
   "source": [
    "print(X_train.shape, X_test.shape, X_val.shape, y_train.shape, y_test.shape, y_val.shape)"
   ]
  },
  {
   "cell_type": "code",
   "execution_count": 10,
   "id": "87077b15",
   "metadata": {
    "execution": {
     "iopub.execute_input": "2022-05-25T20:40:27.502687Z",
     "iopub.status.busy": "2022-05-25T20:40:27.502264Z",
     "iopub.status.idle": "2022-05-25T20:40:27.510090Z",
     "shell.execute_reply": "2022-05-25T20:40:27.508832Z"
    },
    "papermill": {
     "duration": 0.022443,
     "end_time": "2022-05-25T20:40:27.512383",
     "exception": false,
     "start_time": "2022-05-25T20:40:27.489940",
     "status": "completed"
    },
    "tags": []
   },
   "outputs": [],
   "source": [
    "#Callbacks\n",
    "c2=tf.keras.callbacks.EarlyStopping(\n",
    "    monitor=\"val_loss\",\n",
    "    min_delta=0,\n",
    "    patience=6,\n",
    "    mode=\"auto\",\n",
    "    baseline=None,\n",
    "    restore_best_weights=True,\n",
    ")\n",
    "\n",
    "c3=tf.keras.callbacks.ReduceLROnPlateau(\n",
    "    monitor=\"val_loss\",\n",
    "    factor=0.1,\n",
    "    patience=6,\n",
    "    mode=\"auto\",\n",
    "    min_delta=0.0001,\n",
    "    cooldown=0,\n",
    "    min_lr=0.001\n",
    ")\n",
    "nClasses=2"
   ]
  },
  {
   "cell_type": "markdown",
   "id": "9e0ba22d",
   "metadata": {
    "papermill": {
     "duration": 0.010467,
     "end_time": "2022-05-25T20:40:27.533545",
     "exception": false,
     "start_time": "2022-05-25T20:40:27.523078",
     "status": "completed"
    },
    "tags": []
   },
   "source": [
    "# model"
   ]
  },
  {
   "cell_type": "code",
   "execution_count": 11,
   "id": "f2ba1e3d",
   "metadata": {
    "execution": {
     "iopub.execute_input": "2022-05-25T20:40:27.556469Z",
     "iopub.status.busy": "2022-05-25T20:40:27.556059Z",
     "iopub.status.idle": "2022-05-25T20:40:27.762832Z",
     "shell.execute_reply": "2022-05-25T20:40:27.761059Z"
    },
    "papermill": {
     "duration": 0.221814,
     "end_time": "2022-05-25T20:40:27.765981",
     "exception": false,
     "start_time": "2022-05-25T20:40:27.544167",
     "status": "completed"
    },
    "tags": []
   },
   "outputs": [
    {
     "name": "stdout",
     "output_type": "stream",
     "text": [
      "Model: \"sequential\"\n",
      "_________________________________________________________________\n",
      "Layer (type)                 Output Shape              Param #   \n",
      "=================================================================\n",
      "conv2d (Conv2D)              (None, 48, 48, 64)        1792      \n",
      "_________________________________________________________________\n",
      "conv2d_1 (Conv2D)            (None, 46, 46, 32)        18464     \n",
      "_________________________________________________________________\n",
      "conv2d_2 (Conv2D)            (None, 44, 44, 32)        9248      \n",
      "_________________________________________________________________\n",
      "conv2d_3 (Conv2D)            (None, 42, 42, 32)        9248      \n",
      "_________________________________________________________________\n",
      "conv2d_4 (Conv2D)            (None, 40, 40, 32)        9248      \n",
      "_________________________________________________________________\n",
      "conv2d_5 (Conv2D)            (None, 38, 38, 32)        9248      \n",
      "_________________________________________________________________\n",
      "conv2d_6 (Conv2D)            (None, 36, 36, 32)        9248      \n",
      "_________________________________________________________________\n",
      "conv2d_7 (Conv2D)            (None, 34, 34, 32)        9248      \n",
      "_________________________________________________________________\n",
      "flatten (Flatten)            (None, 36992)             0         \n",
      "_________________________________________________________________\n",
      "dense (Dense)                (None, 2)                 73986     \n",
      "=================================================================\n",
      "Total params: 149,730\n",
      "Trainable params: 149,730\n",
      "Non-trainable params: 0\n",
      "_________________________________________________________________\n"
     ]
    },
    {
     "name": "stderr",
     "output_type": "stream",
     "text": [
      "2022-05-25 20:40:27.602481: I tensorflow/core/common_runtime/process_util.cc:146] Creating new thread pool with default inter op setting: 2. Tune using inter_op_parallelism_threads for best performance.\n"
     ]
    }
   ],
   "source": [
    "RESNET50_POOLING_AVERAGE = 'avg'\n",
    "DENSE_LAYER_ACTIVATION = 'sigmoid'\n",
    "OBJECTIVE_FUNCTION = 'categorical_crossentropy'\n",
    "\n",
    "# Common accuracy metric for all outputs, but can use different metrics for different output\n",
    "LOSS_METRICS = ['accuracy']\n",
    "\n",
    "model = Sequential()\n",
    "model.add(Conv2D(64, kernel_size=3, activation='relu', input_shape=(50,50,3)))\n",
    "model.add(Conv2D(32, kernel_size=3, activation='relu'))\n",
    "model.add(Conv2D(32, kernel_size=3, activation='relu'))\n",
    "model.add(Conv2D(32, kernel_size=3, activation='relu'))\n",
    "model.add(Conv2D(32, kernel_size=3, activation='relu'))\n",
    "model.add(Conv2D(32, kernel_size=3, activation='relu'))\n",
    "model.add(Conv2D(32, kernel_size=3, activation='relu'))\n",
    "model.add(Conv2D(32, kernel_size=3, activation='relu'))\n",
    "model.add(Flatten())\n",
    "model.add(Dense(2, activation=\"softmax\"))\n",
    "#adam = Adam(learning_rate=0.0001)\n",
    "#binary_crossentropy is used as Cancer detecion is  binary classification model\n",
    "#model.compile(loss=\"binary_crossentropy\", optimizer=adam, metrics=['accuracy'])   \n",
    "\n",
    "#model = Model(inputs=resnet50_base_model.input, outputs=predictions)\n",
    "model.summary()\n"
   ]
  },
  {
   "cell_type": "code",
   "execution_count": 12,
   "id": "e9941e10",
   "metadata": {
    "execution": {
     "iopub.execute_input": "2022-05-25T20:40:27.791493Z",
     "iopub.status.busy": "2022-05-25T20:40:27.791015Z",
     "iopub.status.idle": "2022-05-25T20:40:29.084392Z",
     "shell.execute_reply": "2022-05-25T20:40:29.083400Z"
    },
    "papermill": {
     "duration": 1.310039,
     "end_time": "2022-05-25T20:40:29.087342",
     "exception": false,
     "start_time": "2022-05-25T20:40:27.777303",
     "status": "completed"
    },
    "tags": []
   },
   "outputs": [
    {
     "data": {
      "image/png": "[encoded data removed]",
      "text/plain": [
       "<IPython.core.display.Image object>"
      ]
     },
     "execution_count": 12,
     "metadata": {},
     "output_type": "execute_result"
    }
   ],
   "source": [
    "from tensorflow.keras.utils import plot_model\n",
    "from IPython.display import Image\n",
    "plot_model(model, to_file='convnet.png', show_shapes=True,show_layer_names=True)\n",
    "Image(filename='convnet.png') "
   ]
  },
  {
   "cell_type": "code",
   "execution_count": 13,
   "id": "550e70eb",
   "metadata": {
    "execution": {
     "iopub.execute_input": "2022-05-25T20:40:29.116820Z",
     "iopub.status.busy": "2022-05-25T20:40:29.115786Z",
     "iopub.status.idle": "2022-05-25T20:40:29.145109Z",
     "shell.execute_reply": "2022-05-25T20:40:29.144416Z"
    },
    "papermill": {
     "duration": 0.047353,
     "end_time": "2022-05-25T20:40:29.147647",
     "exception": false,
     "start_time": "2022-05-25T20:40:29.100294",
     "status": "completed"
    },
    "tags": []
   },
   "outputs": [],
   "source": [
    "def f1_score(y_true, y_pred): #taken from old keras source code\n",
    "    true_positives = K.sum(K.round(K.clip(y_true * y_pred, 0, 1)))\n",
    "    possible_positives = K.sum(K.round(K.clip(y_true, 0, 1)))\n",
    "    predicted_positives = K.sum(K.round(K.clip(y_pred, 0, 1)))\n",
    "    precision = true_positives / (predicted_positives + K.epsilon())\n",
    "    recall = true_positives / (possible_positives + K.epsilon())\n",
    "    f1_val = 2*(precision*recall)/(precision+recall+K.epsilon())\n",
    "    return f1_val\n",
    "\n",
    "METRICS = [\n",
    "      tf.keras.metrics.BinaryAccuracy(name='accuracy'),\n",
    "      tf.keras.metrics.Precision(name='precision'),\n",
    "      tf.keras.metrics.Recall(name='recall'),  \n",
    "      tf.keras.metrics.AUC(name='auc'),\n",
    "        f1_score,\n",
    "]"
   ]
  },
  {
   "cell_type": "code",
   "execution_count": 14,
   "id": "0d2cf94e",
   "metadata": {
    "execution": {
     "iopub.execute_input": "2022-05-25T20:40:29.177544Z",
     "iopub.status.busy": "2022-05-25T20:40:29.176638Z",
     "iopub.status.idle": "2022-05-25T20:40:29.193054Z",
     "shell.execute_reply": "2022-05-25T20:40:29.192076Z"
    },
    "papermill": {
     "duration": 0.033426,
     "end_time": "2022-05-25T20:40:29.195163",
     "exception": false,
     "start_time": "2022-05-25T20:40:29.161737",
     "status": "completed"
    },
    "tags": []
   },
   "outputs": [],
   "source": [
    "import sklearn\n",
    "from sklearn.metrics import classification_report\n",
    "from sklearn.metrics import f1_score, roc_auc_score, cohen_kappa_score, precision_score, recall_score, accuracy_score, confusion_matrix\n",
    "def get_accuracy_metrics(model, X_train, y_train, X_val, y_val, X_test, y_test):\n",
    "    y_train=np.argmax(y_train, axis=1)\n",
    "    y_test=np.argmax(y_test, axis=1)\n",
    "    y_val=np.argmax(y_val, axis=1)\n",
    "    y_train_pred=np.argmax(model.predict(X_train),axis=1)\n",
    "    y_test_pred=np.argmax(model.predict(X_test),axis=1)\n",
    "    y_val_pred=np.argmax(model.predict(X_val),axis=1)\n",
    "    #ps:all the Y value must turn back to 1 dimension array. otherwise, the scoring functions in sklearn cannot compare, and will give an error\n",
    "    #classification metrics can't handle a mix of continuous-multioutput and multi-label-indicator targets\n",
    "    \n",
    "    print(\"Train accuracy Score------------>\")\n",
    "    print (\"{0:.3f}\".format(accuracy_score(y_train, y_train_pred)*100), \"%\")\n",
    "    \n",
    "    print(\"Val accuracy Score--------->\")\n",
    "    \n",
    "    print(\"{0:.3f}\".format(accuracy_score(y_val, y_val_pred)*100), \"%\")\n",
    "    \n",
    "  \n",
    "    print(\"Test accuracy Score--------->\")\n",
    "    print(\"{0:.3f}\".format(accuracy_score(y_test, y_test_pred)*100), \"%\")\n",
    "    \n",
    "    print(\"F1 Score--------------->\")\n",
    "    print(\"{0:.3f}\".format(f1_score(y_test, y_test_pred, average = 'weighted')*100), \"%\")\n",
    "    \n",
    "    print(\"Cohen Kappa Score------------->\")\n",
    "    print(\"{0:.3f}\".format(cohen_kappa_score(y_test, y_test_pred)*100), \"%\")\n",
    "    \n",
    "    print(\"Recall-------------->\")\n",
    "    print(\"{0:.3f}\".format(recall_score(y_test, y_test_pred, average = 'weighted')*100), \"%\")\n",
    "    \n",
    "    print(\"Precision-------------->\")\n",
    "    print(\"{0:.3f}\".format(precision_score(y_test, y_test_pred, average = 'weighted')*100), \"%\")\n",
    "    \n",
    "    cf_matrix_test = confusion_matrix(y_test, y_test_pred)\n",
    "    cf_matrix_val = confusion_matrix(y_val, y_val_pred)\n",
    "    \n",
    "    plt.figure(figsize = (12, 6))\n",
    "    plt.subplot(121)\n",
    "    sns.heatmap(cf_matrix_val, annot=True, cmap='Blues')\n",
    "    plt.title(\"Val Confusion matrix\")\n",
    "    \n",
    "    plt.subplot(122)\n",
    "    sns.heatmap(cf_matrix_test, annot=True, cmap='Blues')\n",
    "    plt.title(\"Test Confusion matrix\")\n",
    "    \n",
    "    plt.show()\n",
    "    print(\"train report\")\n",
    "    print(classification_report(y_train, y_train_pred))\n",
    "    print(\"test report\")\n",
    "    print(classification_report(y_test, y_test_pred))"
   ]
  },
  {
   "cell_type": "code",
   "execution_count": 15,
   "id": "56c47250",
   "metadata": {
    "execution": {
     "iopub.execute_input": "2022-05-25T20:40:29.222163Z",
     "iopub.status.busy": "2022-05-25T20:40:29.221473Z",
     "iopub.status.idle": "2022-05-25T20:40:29.236023Z",
     "shell.execute_reply": "2022-05-25T20:40:29.235248Z"
    },
    "papermill": {
     "duration": 0.030728,
     "end_time": "2022-05-25T20:40:29.238324",
     "exception": false,
     "start_time": "2022-05-25T20:40:29.207596",
     "status": "completed"
    },
    "tags": []
   },
   "outputs": [],
   "source": [
    "callbacks1 =  [EarlyStopping(monitor='val_loss', patience=5, verbose=1), ModelCheckpoint('init_model.h5', save_best_only=True)]\n",
    "opt = Adam(learning_rate=0.0001)\n",
    "model.compile(loss=\"binary_crossentropy\", optimizer=opt, metrics=['accuracy'])"
   ]
  },
  {
   "cell_type": "code",
   "execution_count": 16,
   "id": "6606171b",
   "metadata": {
    "execution": {
     "iopub.execute_input": "2022-05-25T20:40:29.265313Z",
     "iopub.status.busy": "2022-05-25T20:40:29.264588Z",
     "iopub.status.idle": "2022-05-25T20:51:52.626746Z",
     "shell.execute_reply": "2022-05-25T20:51:52.625535Z"
    },
    "papermill": {
     "duration": 683.379333,
     "end_time": "2022-05-25T20:51:52.630002",
     "exception": false,
     "start_time": "2022-05-25T20:40:29.250669",
     "status": "completed"
    },
    "tags": []
   },
   "outputs": [
    {
     "name": "stdout",
     "output_type": "stream",
     "text": [
      "CPU times: user 2 µs, sys: 1e+03 ns, total: 3 µs\n",
      "Wall time: 7.63 µs\n"
     ]
    },
    {
     "name": "stderr",
     "output_type": "stream",
     "text": [
      "2022-05-25 20:40:29.425477: I tensorflow/compiler/mlir/mlir_graph_optimization_pass.cc:185] None of the MLIR Optimization Passes are enabled (registered 2)\n"
     ]
    },
    {
     "name": "stdout",
     "output_type": "stream",
     "text": [
      "Epoch 1/10\n",
      "219/219 [==============================] - 66s 294ms/step - loss: 0.3994 - accuracy: 0.8469 - val_loss: 0.3605 - val_accuracy: 0.8300\n",
      "Epoch 2/10\n",
      "219/219 [==============================] - 63s 290ms/step - loss: 0.3219 - accuracy: 0.8704 - val_loss: 0.3141 - val_accuracy: 0.8733\n",
      "Epoch 3/10\n",
      "219/219 [==============================] - 64s 293ms/step - loss: 0.2858 - accuracy: 0.8906 - val_loss: 0.3390 - val_accuracy: 0.8711\n",
      "Epoch 4/10\n",
      "219/219 [==============================] - 64s 292ms/step - loss: 0.2559 - accuracy: 0.9070 - val_loss: 0.3029 - val_accuracy: 0.8878\n",
      "Epoch 5/10\n",
      "219/219 [==============================] - 64s 290ms/step - loss: 0.2158 - accuracy: 0.9236 - val_loss: 0.3874 - val_accuracy: 0.8567\n",
      "Epoch 6/10\n",
      "219/219 [==============================] - 64s 290ms/step - loss: 0.1865 - accuracy: 0.9333 - val_loss: 0.2966 - val_accuracy: 0.9000\n",
      "Epoch 7/10\n",
      "219/219 [==============================] - 64s 292ms/step - loss: 0.1555 - accuracy: 0.9486 - val_loss: 0.3147 - val_accuracy: 0.8878\n",
      "Epoch 8/10\n",
      "219/219 [==============================] - 64s 293ms/step - loss: 0.1188 - accuracy: 0.9623 - val_loss: 0.3012 - val_accuracy: 0.9011\n",
      "Epoch 9/10\n",
      "219/219 [==============================] - 64s 291ms/step - loss: 0.1005 - accuracy: 0.9681 - val_loss: 0.3143 - val_accuracy: 0.9089\n",
      "Epoch 10/10\n",
      "219/219 [==============================] - 65s 294ms/step - loss: 0.0946 - accuracy: 0.9709 - val_loss: 0.3264 - val_accuracy: 0.9033\n"
     ]
    }
   ],
   "source": [
    "%time\n",
    "history1=model.fit(X_train, y_train,validation_data=(X_test, y_test),verbose = 1,epochs = epoch1,callbacks=callbacks1)"
   ]
  },
  {
   "cell_type": "code",
   "execution_count": 17,
   "id": "785ba6d2",
   "metadata": {
    "execution": {
     "iopub.execute_input": "2022-05-25T20:51:52.973782Z",
     "iopub.status.busy": "2022-05-25T20:51:52.972972Z",
     "iopub.status.idle": "2022-05-25T20:52:16.011892Z",
     "shell.execute_reply": "2022-05-25T20:52:16.010884Z"
    },
    "papermill": {
     "duration": 23.213663,
     "end_time": "2022-05-25T20:52:16.014381",
     "exception": false,
     "start_time": "2022-05-25T20:51:52.800718",
     "status": "completed"
    },
    "tags": []
   },
   "outputs": [
    {
     "name": "stdout",
     "output_type": "stream",
     "text": [
      "Train accuracy Score------------>\n",
      "97.957 %\n",
      "Val accuracy Score--------->\n",
      "89.619 %\n",
      "Test accuracy Score--------->\n",
      "90.333 %\n",
      "F1 Score--------------->\n",
      "89.986 %\n",
      "Cohen Kappa Score------------->\n",
      "63.576 %\n",
      "Recall-------------->\n",
      "90.333 %\n",
      "Precision-------------->\n",
      "89.868 %\n"
     ]
    },
    {
     "data": {
      "image/png": "[encoded data removed]",
      "text/plain": [
       "<Figure size 864x432 with 4 Axes>"
      ]
     },
     "metadata": {
      "needs_background": "light"
     },
     "output_type": "display_data"
    },
    {
     "name": "stdout",
     "output_type": "stream",
     "text": [
      "train report\n",
      "              precision    recall  f1-score   support\n",
      "\n",
      "           0       0.99      0.99      0.99      5945\n",
      "           1       0.92      0.95      0.93      1055\n",
      "\n",
      "    accuracy                           0.98      7000\n",
      "   macro avg       0.95      0.97      0.96      7000\n",
      "weighted avg       0.98      0.98      0.98      7000\n",
      "\n",
      "test report\n",
      "              precision    recall  f1-score   support\n",
      "\n",
      "           0       0.93      0.96      0.94       746\n",
      "           1       0.76      0.64      0.69       154\n",
      "\n",
      "    accuracy                           0.90       900\n",
      "   macro avg       0.84      0.80      0.82       900\n",
      "weighted avg       0.90      0.90      0.90       900\n",
      "\n"
     ]
    }
   ],
   "source": [
    "#MODEL_PATH = './test_model.hdf5'\n",
    "#from keras.models import load_model\n",
    "##best_model = load_model('./test_model.h5')\n",
    "#init_model = load_model('./init_model.h5', compile=False)\n",
    "#best_model = load_model(\"./test_model.h5\", custom_objects={'focal_loss_fixed': focal_loss()})\n",
    "get_accuracy_metrics(model,  X_train, y_train, X_val, y_val, X_test, y_test)"
   ]
  },
  {
   "cell_type": "markdown",
   "id": "11670cf1",
   "metadata": {
    "papermill": {
     "duration": 0.171392,
     "end_time": "2022-05-25T20:52:16.359347",
     "exception": false,
     "start_time": "2022-05-25T20:52:16.187955",
     "status": "completed"
    },
    "tags": []
   },
   "source": [
    "plot training history"
   ]
  },
  {
   "cell_type": "code",
   "execution_count": 18,
   "id": "60bf0127",
   "metadata": {
    "execution": {
     "iopub.execute_input": "2022-05-25T20:52:16.707716Z",
     "iopub.status.busy": "2022-05-25T20:52:16.707296Z",
     "iopub.status.idle": "2022-05-25T20:52:17.037615Z",
     "shell.execute_reply": "2022-05-25T20:52:17.036643Z"
    },
    "papermill": {
     "duration": 0.507131,
     "end_time": "2022-05-25T20:52:17.040002",
     "exception": false,
     "start_time": "2022-05-25T20:52:16.532871",
     "status": "completed"
    },
    "tags": []
   },
   "outputs": [
    {
     "data": {
      "image/png": "[encoded data removed]",
      "text/plain": [
       "<Figure size 864x432 with 2 Axes>"
      ]
     },
     "metadata": {
      "needs_background": "light"
     },
     "output_type": "display_data"
    }
   ],
   "source": [
    "import matplotlib.pyplot as plt\n",
    "import seaborn as sns\n",
    "plt.figure(figsize = (12, 6))\n",
    "plt.subplot(121)\n",
    "#plotting the Accuracy of test and training sets\n",
    "plt.plot(history1.history['accuracy'])\n",
    "plt.plot(history1.history['val_accuracy'])\n",
    "plt.title('1st training Model Accuracy')\n",
    "plt.ylabel('accuracy')\n",
    "plt.xlabel('epoch')\n",
    "plt.legend(['train', 'test'], loc='upper left')\n",
    "\n",
    "plt.subplot(122)\n",
    "#plotting the loss of test and training sets\n",
    "plt.plot(history1.history['loss'])\n",
    "plt.plot(history1.history['val_loss'])\n",
    "plt.title('1st training Model Loss')\n",
    "plt.ylabel('loss')\n",
    "plt.xlabel('epoch')\n",
    "plt.legend(['train', 'test'], loc='upper left')\n",
    "plt.show()\n"
   ]
  },
  {
   "cell_type": "markdown",
   "id": "86383464",
   "metadata": {
    "papermill": {
     "duration": 0.172526,
     "end_time": "2022-05-25T20:52:17.385493",
     "exception": false,
     "start_time": "2022-05-25T20:52:17.212967",
     "status": "completed"
    },
    "tags": []
   },
   "source": [
    "plot confusion report"
   ]
  },
  {
   "cell_type": "code",
   "execution_count": 19,
   "id": "b60aac15",
   "metadata": {
    "execution": {
     "iopub.execute_input": "2022-05-25T20:52:17.734238Z",
     "iopub.status.busy": "2022-05-25T20:52:17.733611Z",
     "iopub.status.idle": "2022-05-25T20:52:22.561648Z",
     "shell.execute_reply": "2022-05-25T20:52:22.560476Z"
    },
    "papermill": {
     "duration": 5.004994,
     "end_time": "2022-05-25T20:52:22.564408",
     "exception": false,
     "start_time": "2022-05-25T20:52:17.559414",
     "status": "completed"
    },
    "tags": []
   },
   "outputs": [
    {
     "data": {
      "image/png": "[encoded data removed]",
      "text/plain": [
       "<Figure size 576x576 with 2 Axes>"
      ]
     },
     "metadata": {
      "needs_background": "light"
     },
     "output_type": "display_data"
    }
   ],
   "source": [
    "from sklearn.metrics import confusion_matrix\n",
    "import seaborn as sns\n",
    "\n",
    "Y_pred = model.predict(X_val)\n",
    "Y_pred_classes = np.argmax(Y_pred,axis = 1) \n",
    "Y_true = np.argmax(y_val,axis = 1) \n",
    "\n",
    "confusion_mtx = confusion_matrix(Y_true, Y_pred_classes) \n",
    "\n",
    "f,ax = plt.subplots(figsize=(8, 8))\n",
    "sns.heatmap(confusion_mtx, annot=True, linewidths=0.01,cmap=\"OrRd\",linecolor=\"black\", fmt= '.1f',ax=ax)\n",
    "plt.xlabel(\"Predicted Label\")\n",
    "plt.ylabel(\"True Label\")\n",
    "plt.title(\"Confusion Matrix\")\n",
    "plt.show()"
   ]
  },
  {
   "cell_type": "code",
   "execution_count": 20,
   "id": "faa6f5f1",
   "metadata": {
    "execution": {
     "iopub.execute_input": "2022-05-25T20:52:22.941024Z",
     "iopub.status.busy": "2022-05-25T20:52:22.940618Z",
     "iopub.status.idle": "2022-05-25T20:52:22.953787Z",
     "shell.execute_reply": "2022-05-25T20:52:22.952944Z"
    },
    "papermill": {
     "duration": 0.191409,
     "end_time": "2022-05-25T20:52:22.956019",
     "exception": false,
     "start_time": "2022-05-25T20:52:22.764610",
     "status": "completed"
    },
    "tags": []
   },
   "outputs": [
    {
     "name": "stdout",
     "output_type": "stream",
     "text": [
      "              precision    recall  f1-score   support\n",
      "\n",
      "           0       0.93      0.95      0.94      1806\n",
      "           1       0.64      0.60      0.62       294\n",
      "\n",
      "    accuracy                           0.90      2100\n",
      "   macro avg       0.79      0.77      0.78      2100\n",
      "weighted avg       0.89      0.90      0.89      2100\n",
      "\n"
     ]
    }
   ],
   "source": [
    "from sklearn.metrics import classification_report\n",
    "\n",
    "print(classification_report(Y_true, Y_pred_classes))"
   ]
  },
  {
   "cell_type": "markdown",
   "id": "5ca15c4d",
   "metadata": {
    "papermill": {
     "duration": 0.169523,
     "end_time": "2022-05-25T20:52:23.296244",
     "exception": false,
     "start_time": "2022-05-25T20:52:23.126721",
     "status": "completed"
    },
    "tags": []
   },
   "source": [
    "plot training history"
   ]
  },
  {
   "cell_type": "markdown",
   "id": "39225edb",
   "metadata": {
    "papermill": {
     "duration": 0.171226,
     "end_time": "2022-05-25T20:52:23.637431",
     "exception": false,
     "start_time": "2022-05-25T20:52:23.466205",
     "status": "completed"
    },
    "tags": []
   },
   "source": [
    "plot confusion report"
   ]
  },
  {
   "cell_type": "markdown",
   "id": "f178fe48",
   "metadata": {
    "papermill": {
     "duration": 0.169877,
     "end_time": "2022-05-25T20:52:24.040602",
     "exception": false,
     "start_time": "2022-05-25T20:52:23.870725",
     "status": "completed"
    },
    "tags": []
   },
   "source": []
  },
  {
   "cell_type": "code",
   "execution_count": 21,
   "id": "64b69ffd",
   "metadata": {
    "execution": {
     "iopub.execute_input": "2022-05-25T20:52:24.382158Z",
     "iopub.status.busy": "2022-05-25T20:52:24.381140Z",
     "iopub.status.idle": "2022-05-25T20:52:24.391148Z",
     "shell.execute_reply": "2022-05-25T20:52:24.389977Z"
    },
    "papermill": {
     "duration": 0.184009,
     "end_time": "2022-05-25T20:52:24.393278",
     "exception": false,
     "start_time": "2022-05-25T20:52:24.209269",
     "status": "completed"
    },
    "tags": []
   },
   "outputs": [
    {
     "name": "stdout",
     "output_type": "stream",
     "text": [
      "/kaggle/working\n"
     ]
    },
    {
     "data": {
      "text/html": [
       "Path (<tt>model.hdf5</tt>) doesn't exist. It may still be in the process of being generated, or you may have the incorrect path."
      ],
      "text/plain": [
       "/kaggle/working/model.hdf5"
      ]
     },
     "execution_count": 21,
     "metadata": {},
     "output_type": "execute_result"
    }
   ],
   "source": [
    "%cd /kaggle/working\n",
    "from IPython.display import FileLink\n",
    "FileLink('model.hdf5')"
   ]
  },
  {
   "cell_type": "code",
   "execution_count": null,
   "id": "b95ab593",
   "metadata": {
    "papermill": {
     "duration": 0.169572,
     "end_time": "2022-05-25T20:52:24.731725",
     "exception": false,
     "start_time": "2022-05-25T20:52:24.562153",
     "status": "completed"
    },
    "tags": []
   },
   "outputs": [],
   "source": []
  },
  {
   "cell_type": "code",
   "execution_count": null,
   "id": "e881ecbb",
   "metadata": {
    "papermill": {
     "duration": 0.169634,
     "end_time": "2022-05-25T20:52:25.069269",
     "exception": false,
     "start_time": "2022-05-25T20:52:24.899635",
     "status": "completed"
    },
    "tags": []
   },
   "outputs": [],
   "source": []
  },
  {
   "cell_type": "code",
   "execution_count": null,
   "id": "5f7f9507",
   "metadata": {
    "papermill": {
     "duration": 0.169375,
     "end_time": "2022-05-25T20:52:25.409033",
     "exception": false,
     "start_time": "2022-05-25T20:52:25.239658",
     "status": "completed"
    },
    "tags": []
   },
   "outputs": [],
   "source": []
  }
 ],
 "metadata": {
  "kernelspec": {
   "display_name": "Python 3",
   "language": "python",
   "name": "python3"
  },
  "language_info": {
   "codemirror_mode": {
    "name": "ipython",
    "version": 3
   },
   "file_extension": ".py",
   "mimetype": "text/x-python",
   "name": "python",
   "nbconvert_exporter": "python",
   "pygments_lexer": "ipython3",
   "version": "3.7.12"
  },
  "papermill": {
   "default_parameters": {},
   "duration": 865.565656,
   "end_time": "2022-05-25T20:52:28.226813",
   "environment_variables": {},
   "exception": null,
   "input_path": "__notebook__.ipynb",
   "output_path": "__notebook__.ipynb",
   "parameters": {},
   "start_time": "2022-05-25T20:38:02.661157",
   "version": "2.3.4"
  }
 },
 "nbformat": 4,
 "nbformat_minor": 5
}
