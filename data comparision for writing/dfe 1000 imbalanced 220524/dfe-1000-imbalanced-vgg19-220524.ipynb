{
 "cells": [
  {
   "cell_type": "code",
   "execution_count": 1,
   "id": "8c6148c8",
   "metadata": {
    "_cell_guid": "b1076dfc-b9ad-4769-8c92-a6c4dae69d19",
    "_uuid": "8f2839f25d086af736a60e9eeb907d3b93b6e0e5",
    "execution": {
     "iopub.execute_input": "2022-05-25T19:01:26.155169Z",
     "iopub.status.busy": "2022-05-25T19:01:26.154416Z",
     "iopub.status.idle": "2022-05-25T19:01:34.855531Z",
     "shell.execute_reply": "2022-05-25T19:01:34.854597Z"
    },
    "papermill": {
     "duration": 8.716581,
     "end_time": "2022-05-25T19:01:34.858483",
     "exception": false,
     "start_time": "2022-05-25T19:01:26.141902",
     "status": "completed"
    },
    "tags": []
   },
   "outputs": [],
   "source": [
    "from glob import glob\n",
    "import os\n",
    "import shutil\n",
    "\n",
    "import numpy as np\n",
    "import pandas as pd\n",
    "\n",
    "from sklearn.metrics import f1_score, roc_auc_score, cohen_kappa_score, precision_score, recall_score, accuracy_score, confusion_matrix\n",
    "from keras.layers import Dense, Flatten, Conv2D, MaxPooling2D, Dropout\n",
    "from keras.models import Sequential\n",
    "import tensorflow as tf\n",
    "import matplotlib.pyplot as plt\n",
    "import cv2\n",
    "from keras.layers import BatchNormalization\n",
    "from keras.models import Model, Sequential\n",
    "from keras.applications.xception import Xception\n",
    "from keras.applications import *\n",
    "import matplotlib.pyplot as plt\n",
    "from sklearn.pipeline import make_pipeline\n",
    "from sklearn.pipeline import Pipeline\n",
    "from PIL import Image\n",
    "import random\n",
    "import os\n",
    "import cv2\n",
    "from sklearn.model_selection import train_test_split\n",
    "from sklearn.neighbors import KNeighborsClassifier\n",
    "from sklearn.svm import SVC\n",
    "from sklearn.ensemble import RandomForestClassifier, AdaBoostClassifier\n",
    "from xgboost import XGBClassifier \n",
    "from keras.callbacks import EarlyStopping\n",
    "import seaborn as sns\n",
    "from sklearn.preprocessing import StandardScaler\n",
    "from tqdm import tqdm\n",
    "from sklearn.decomposition import PCA"
   ]
  },
  {
   "cell_type": "markdown",
   "id": "1ed6a7ac",
   "metadata": {
    "papermill": {
     "duration": 0.008336,
     "end_time": "2022-05-25T19:01:34.876073",
     "exception": false,
     "start_time": "2022-05-25T19:01:34.867737",
     "status": "completed"
    },
    "tags": []
   },
   "source": [
    "make path for image classification"
   ]
  },
  {
   "cell_type": "code",
   "execution_count": 2,
   "id": "9a989f04",
   "metadata": {
    "execution": {
     "iopub.execute_input": "2022-05-25T19:01:34.895667Z",
     "iopub.status.busy": "2022-05-25T19:01:34.894809Z",
     "iopub.status.idle": "2022-05-25T19:01:34.901783Z",
     "shell.execute_reply": "2022-05-25T19:01:34.900990Z"
    },
    "papermill": {
     "duration": 0.018979,
     "end_time": "2022-05-25T19:01:34.903758",
     "exception": false,
     "start_time": "2022-05-25T19:01:34.884779",
     "status": "completed"
    },
    "tags": []
   },
   "outputs": [],
   "source": [
    "os.makedirs('../working/data/train_seg/idc-minus/')     \n",
    "os.makedirs('../working/data/train_seg/idc-plus/')  \n",
    "os.makedirs('../working/data/test_seg/idc-minus/')     \n",
    "os.makedirs('../working/data/test_seg/idc-plus/')  \n",
    "#os.makedirs('../working/data/val_seg/idc-minus/')     \n",
    "#os.makedirs('../working/data/val_seg/idc-plus/')  "
   ]
  },
  {
   "cell_type": "markdown",
   "id": "1344df1b",
   "metadata": {
    "papermill": {
     "duration": 0.00838,
     "end_time": "2022-05-25T19:01:34.920996",
     "exception": false,
     "start_time": "2022-05-25T19:01:34.912616",
     "status": "completed"
    },
    "tags": []
   },
   "source": [
    "# **Image Import**\n",
    "for first time run uncomment this cell\n",
    "this will catagorise files into different directory\n",
    "for second time run please comment this cell"
   ]
  },
  {
   "cell_type": "code",
   "execution_count": 3,
   "id": "2e5c2c1e",
   "metadata": {
    "execution": {
     "iopub.execute_input": "2022-05-25T19:01:34.940399Z",
     "iopub.status.busy": "2022-05-25T19:01:34.939648Z",
     "iopub.status.idle": "2022-05-25T19:01:34.944190Z",
     "shell.execute_reply": "2022-05-25T19:01:34.943508Z"
    },
    "papermill": {
     "duration": 0.016379,
     "end_time": "2022-05-25T19:01:34.946015",
     "exception": false,
     "start_time": "2022-05-25T19:01:34.929636",
     "status": "completed"
    },
    "tags": []
   },
   "outputs": [],
   "source": [
    "sampling_seed=0\n",
    "size_4_training=1000\n",
    "img_size=224\n",
    "n_of_classes=2\n",
    "#training_reshape=(-1, img_size, img_size, 3)"
   ]
  },
  {
   "cell_type": "code",
   "execution_count": 4,
   "id": "52fe4a73",
   "metadata": {
    "execution": {
     "iopub.execute_input": "2022-05-25T19:01:34.965720Z",
     "iopub.status.busy": "2022-05-25T19:01:34.964962Z",
     "iopub.status.idle": "2022-05-25T19:04:33.611126Z",
     "shell.execute_reply": "2022-05-25T19:04:33.610313Z"
    },
    "papermill": {
     "duration": 178.65923,
     "end_time": "2022-05-25T19:04:33.613929",
     "exception": false,
     "start_time": "2022-05-25T19:01:34.954699",
     "status": "completed"
    },
    "tags": []
   },
   "outputs": [
    {
     "name": "stdout",
     "output_type": "stream",
     "text": [
      "['../input/breast-histopathology-images/IDC_regular_ps50_idx5/10295/0/10295_idx5_x1351_y1101_class0.png', '../input/breast-histopathology-images/IDC_regular_ps50_idx5/10295/0/10295_idx5_x1501_y501_class0.png', '../input/breast-histopathology-images/IDC_regular_ps50_idx5/10295/0/10295_idx5_x1501_y1101_class0.png', '../input/breast-histopathology-images/IDC_regular_ps50_idx5/10295/0/10295_idx5_x451_y901_class0.png', '../input/breast-histopathology-images/IDC_regular_ps50_idx5/10295/0/10295_idx5_x801_y451_class0.png', '../input/breast-histopathology-images/IDC_regular_ps50_idx5/10295/0/10295_idx5_x151_y1051_class0.png', '../input/breast-histopathology-images/IDC_regular_ps50_idx5/10295/0/10295_idx5_x1351_y901_class0.png', '../input/breast-histopathology-images/IDC_regular_ps50_idx5/10295/0/10295_idx5_x701_y651_class0.png', '../input/breast-histopathology-images/IDC_regular_ps50_idx5/10295/0/10295_idx5_x951_y1401_class0.png', '../input/breast-histopathology-images/IDC_regular_ps50_idx5/10295/0/10295_idx5_x601_y501_class0.png']\n"
     ]
    },
    {
     "name": "stderr",
     "output_type": "stream",
     "text": [
      "/opt/conda/lib/python3.7/site-packages/ipykernel_launcher.py:81: VisibleDeprecationWarning: Creating an ndarray from ragged nested sequences (which is a list-or-tuple of lists-or-tuples-or ndarrays with different lengths or shapes) is deprecated. If you meant to do this, you must specify 'dtype=object' when creating the ndarray.\n",
      "/opt/conda/lib/python3.7/site-packages/ipykernel_launcher.py:82: VisibleDeprecationWarning: Creating an ndarray from ragged nested sequences (which is a list-or-tuple of lists-or-tuples-or ndarrays with different lengths or shapes) is deprecated. If you meant to do this, you must specify 'dtype=object' when creating the ndarray.\n"
     ]
    },
    {
     "name": "stdout",
     "output_type": "stream",
     "text": [
      "(1000, 2)\n",
      "(2000, 2)\n"
     ]
    }
   ],
   "source": [
    "training_reshape=(-1, img_size, img_size, 3)\n",
    "import random\n",
    "#make directory for labelling\n",
    "os.makedirs('../working/idc2/idc-minus/')     \n",
    "os.makedirs('../working/idc2/idc-plus/')  \n",
    "\n",
    "\n",
    "class0 = [] # 0 = idc+\n",
    "class1 = [] # 1 = idc-\n",
    "imagePatches = glob('../input/breast-histopathology-images/IDC_regular_ps50_idx5/**/*.png', recursive=True)\n",
    "for filename in imagePatches:\n",
    "    if filename.endswith(\"class0.png\"):\n",
    "         class0.append(filename)\n",
    "    else:\n",
    "        class1.append(filename)\n",
    "\n",
    "print(class0[0:10])\n",
    "\n",
    "#sampling 10000 images from class 0 and class 1 to train the model\n",
    "\n",
    "random.seed(sampling_seed)\n",
    "class0sample=random.sample(class0,size_4_training)\n",
    "class1sample=random.sample(class1,size_4_training)\n",
    "\n",
    "\n",
    "def read_and_save_data(path, file_name_array):\n",
    "    j=0\n",
    "    for i in file_name_array:\n",
    "        if i.endswith('.png'):\n",
    "          \n",
    "            \n",
    "            #second copy method\n",
    "            head, tail = os.path.split(i)\n",
    "            outputname=str(path+tail)\n",
    "            #outputname=str(path+str(j)+'.png')\n",
    "            #print(outputname)\n",
    "            shutil.copy(i, outputname)\n",
    "   \n",
    "            #print(status2)\n",
    "            \n",
    "            j=j+1\n",
    "            if j==120000:\n",
    "                break\n",
    "            \n",
    "   \n",
    "class0path='../working/idc2/idc-minus/'\n",
    "class1path='../working/idc2/idc-plus/'\n",
    "\n",
    "\n",
    "\n",
    "\n",
    "read_and_save_data(class0path,class0sample)\n",
    "read_and_save_data(class1path,class1sample)\n",
    "\n",
    "#--------------------------------------------\n",
    "import os #Operating System\n",
    "import sys #System\n",
    "import cv2\n",
    "\n",
    "def readImage(path, tag):\n",
    "    j=0\n",
    "    image_array = []\n",
    "    for i in os.listdir(path):\n",
    "        imgname=path+i\n",
    "        #print(imgname)\n",
    "        img = cv2.imread(imgname, cv2.IMREAD_COLOR)\n",
    "        img_resized = cv2.resize(img, (img_size,img_size), interpolation=cv2.INTER_LINEAR)\n",
    "        image_array.append([img_resized, tag])\n",
    "        #print(img[1])\n",
    "        j=j+1\n",
    "        #if j==10:\n",
    "        #    break\n",
    "        \n",
    "    return image_array\n",
    "\n",
    "import numpy as np\n",
    "\n",
    "\n",
    "class0_array = readImage(class0path, 0)\n",
    "class1_array = readImage(class1path, 1)\n",
    "class0_array=np.array(class0_array)\n",
    "class1_array=np.array(class1_array)\n",
    "combined_data = np.concatenate((class0_array, class1_array))\n",
    "random.seed(41)\n",
    "random.shuffle(combined_data)\n",
    "print(class0_array.shape)\n",
    "print(combined_data.shape)\n",
    "\n",
    "X = []\n",
    "y = []\n",
    "\n",
    "for features,label in combined_data:\n",
    "    X.append(features)\n",
    "    y.append(label)\n",
    "#print(X.shape)\n",
    "#pring(y.shape)\n",
    "\n",
    "# reshape X data\n",
    "X = np.array(X).reshape(training_reshape)\n",
    "#print(X.shape)\n",
    "y=np.array(y)\n",
    "\n",
    "X_train, X_test, y_train, y_test = train_test_split(X, y, test_size=0.3, random_state=42)\n",
    "\n",
    "\n",
    "\n",
    "#X_val, y_val=Image_array_process(class0_val, val0_label, class1_val, val1_label)\n",
    "X_train_original=X_train\n",
    "X_test_original=X_test\n",
    "y_train_original=y_train\n",
    "y_test_original=y_test\n"
   ]
  },
  {
   "cell_type": "markdown",
   "id": "1fe7edae",
   "metadata": {
    "papermill": {
     "duration": 0.009161,
     "end_time": "2022-05-25T19:04:33.633365",
     "exception": false,
     "start_time": "2022-05-25T19:04:33.624204",
     "status": "completed"
    },
    "tags": []
   },
   "source": [
    "Image classification"
   ]
  },
  {
   "cell_type": "code",
   "execution_count": null,
   "id": "c90231fb",
   "metadata": {
    "execution": {
     "iopub.execute_input": "2022-05-16T20:44:37.247276Z",
     "iopub.status.busy": "2022-05-16T20:44:37.246945Z",
     "iopub.status.idle": "2022-05-16T20:44:37.251799Z",
     "shell.execute_reply": "2022-05-16T20:44:37.251182Z"
    },
    "papermill": {
     "duration": 0.008447,
     "end_time": "2022-05-25T19:04:33.650999",
     "exception": false,
     "start_time": "2022-05-25T19:04:33.642552",
     "status": "completed"
    },
    "tags": []
   },
   "outputs": [],
   "source": []
  },
  {
   "cell_type": "code",
   "execution_count": 5,
   "id": "73949888",
   "metadata": {
    "execution": {
     "iopub.execute_input": "2022-05-25T19:04:33.670951Z",
     "iopub.status.busy": "2022-05-25T19:04:33.670037Z",
     "iopub.status.idle": "2022-05-25T19:04:33.678951Z",
     "shell.execute_reply": "2022-05-25T19:04:33.677646Z"
    },
    "papermill": {
     "duration": 0.021917,
     "end_time": "2022-05-25T19:04:33.681708",
     "exception": false,
     "start_time": "2022-05-25T19:04:33.659791",
     "status": "completed"
    },
    "tags": []
   },
   "outputs": [
    {
     "name": "stdout",
     "output_type": "stream",
     "text": [
      "[0 0 0 0 0 0 0 1 0 0 0 0 0 0 0 0 0 0 0 0 0 0 0 0 0 0 0 0 0 0 0 0 0 0 0 0 0\n",
      " 1 0 0 0 0 0 0 0 0 0 0 0 0 0 0 0 0 0 0 1 1 0 0 0 0 0 0 0 0 0 0 0 0 0 0 1 0\n",
      " 0 0 0 0 0 1 0 0 0 0 0 0 0 0 0 1 1 1 0 0 1 1 0 0 0 0 0 0 0 0 0 0 0 0 0 0 0\n",
      " 0 0 0 0 0 0 0 0 1 0 0 0 0 0 0 0 0 0 0 1 1 0 0 0 0 1 0 0 0 0 0 0 0 1 0 0 0\n",
      " 0 0 1 0 0 0 0 0 0 1 0 0 0 0 0 1 0 0 1 0 0 1 1 0 0 0 0 0 0 0 0 0 0 0 0 0 0\n",
      " 0 1 1 0 0 0 0 0 0 0 0 0 0 0 0 1 0 0 0 0 0 0 0 0 0 0 0 0 0 0 1 0 0 0 1 0 0\n",
      " 0 0 1 0 0 0 0 0 1 0 1 1 1 0 0 0 0 0 0 1 0 0 1 0 0 0 0 0 0 0 0 0 1 0 0 0 1\n",
      " 0 0 1 0 1 0 0 0 0 0 0 0 1 0 0 1 0 0 0 0 0 1 1 0 0 0 0 0 0 0 0 0 0 0 1 0 0\n",
      " 0 0 1 0 0 0 0 0 0 0 0 0 0 0 0 0 0 0 0 0 0 1 0 0 0 1 0 0 0 0 1 0 1 0 0 0 1\n",
      " 0 0 0 0 0 0 0 0 0 1 0 0 1 0 1 1 0 0 0 0 0 0 0 0 1 1 0 0 0 0 0 0 0 1 0 1 0\n",
      " 1 1 0 0 1 0 0 0 1 0 0 0 0 0 0 0 0 1 0 0 1 0 0 0 0 0 0 0 0 0 0 0 0 0 0 0 0\n",
      " 0 0 0 0 0 1 0 0 0 0 0 0 0 0 0 0 0 1 1 0 0 0 0 0 0 1 0 1 0 0 0 0 0 0 0 0 0\n",
      " 1 0 0 0 0 0 0 0 0 0 1 0 0 0 0 0 0 0 0 0 0 0 0 0 0 0 0 0 0 1 1 0 0 0 0 0 1\n",
      " 0 0 0 0 0 0 0 0 0 1 0 0 0 0 0 0 0 1 0 0 0 0 0 1 1 1 0 0 0 0 0 0 0 1 1 0 0\n",
      " 0 0 0 0 1 0 0 0 0 0 0 0 0 0 0 0 0 0 0 0 0 1 0 0 0 0 0 0 0 1 0 0 0 0 0 0 0\n",
      " 0 1 0 0 0 0 1 0 0 0 0 0 0 0 0 1 0 0 1 0 0 0 0 0 0 0 1 1 0 0 0 1 1 0 0 0 0\n",
      " 0 0 0 0 0 0 0 0]\n"
     ]
    }
   ],
   "source": [
    "print(y_test)"
   ]
  },
  {
   "cell_type": "code",
   "execution_count": 6,
   "id": "051636c2",
   "metadata": {
    "execution": {
     "iopub.execute_input": "2022-05-25T19:04:33.702826Z",
     "iopub.status.busy": "2022-05-25T19:04:33.701444Z",
     "iopub.status.idle": "2022-05-25T19:04:33.708240Z",
     "shell.execute_reply": "2022-05-25T19:04:33.707126Z"
    },
    "papermill": {
     "duration": 0.0198,
     "end_time": "2022-05-25T19:04:33.710702",
     "exception": false,
     "start_time": "2022-05-25T19:04:33.690902",
     "status": "completed"
    },
    "tags": []
   },
   "outputs": [
    {
     "name": "stdout",
     "output_type": "stream",
     "text": [
      "[0 0 0 ... 0 1 0]\n"
     ]
    }
   ],
   "source": [
    "print(y_train)"
   ]
  },
  {
   "cell_type": "code",
   "execution_count": 7,
   "id": "fb70e4a3",
   "metadata": {
    "execution": {
     "iopub.execute_input": "2022-05-25T19:04:33.731352Z",
     "iopub.status.busy": "2022-05-25T19:04:33.730365Z",
     "iopub.status.idle": "2022-05-25T19:04:34.389587Z",
     "shell.execute_reply": "2022-05-25T19:04:34.388403Z"
    },
    "papermill": {
     "duration": 0.671945,
     "end_time": "2022-05-25T19:04:34.391956",
     "exception": false,
     "start_time": "2022-05-25T19:04:33.720011",
     "status": "completed"
    },
    "tags": []
   },
   "outputs": [
    {
     "name": "stdout",
     "output_type": "stream",
     "text": [
      "Found 0 images belonging to 2 classes.\n",
      "Found 0 images belonging to 2 classes.\n"
     ]
    },
    {
     "data": {
      "text/plain": [
       "'\\nval2_it = val_gen.flow_from_directory(validation_dir,\\n                                       class_mode = \"categorical\",\\n                                       target_size = (img_size, img_size),\\n                                       color_mode=\"rgb\",\\n                                       batch_size = 12, \\n                                       shuffle = False,\\n                                       subset=\\'validation\\',\\n                                       seed = 42)\\n'"
      ]
     },
     "execution_count": 7,
     "metadata": {},
     "output_type": "execute_result"
    }
   ],
   "source": [
    "data_dir = \"../working/idc2\"\n",
    "#img_size = img_size = img_size\n",
    "\n",
    "train_dir='../working/data/train_seg/'\n",
    "#validation_dir='../working/data/val_seg/'\n",
    "test_dir = '../working/data/test_seg/' \n",
    "\n",
    "train_gen = tf.keras.preprocessing.image.ImageDataGenerator()\n",
    "test_gen=tf.keras.preprocessing.image.ImageDataGenerator()\n",
    "val_gen=tf.keras.preprocessing.image.ImageDataGenerator()\n",
    "\n",
    " \n",
    "train_it = train_gen.flow_from_directory(train_dir,\n",
    "                                       class_mode = \"categorical\",\n",
    "                                       target_size = (img_size,img_size),\n",
    "                                       color_mode=\"rgb\",\n",
    "                                       batch_size = 12, \n",
    "                                       shuffle = False,\n",
    "                                       subset='training',\n",
    "                                       seed = 42)\n",
    "\n",
    "validate_it = test_gen.flow_from_directory('./data/test_seg',\n",
    "                                       class_mode = \"categorical\",\n",
    "                                       target_size = (img_size, img_size),\n",
    "                                       color_mode=\"rgb\",\n",
    "                                       batch_size = 12, \n",
    "                                       shuffle = False,\n",
    "                                       subset='training',\n",
    "                                       seed = 42)\n",
    "'''\n",
    "val2_it = val_gen.flow_from_directory(validation_dir,\n",
    "                                       class_mode = \"categorical\",\n",
    "                                       target_size = (img_size, img_size),\n",
    "                                       color_mode=\"rgb\",\n",
    "                                       batch_size = 12, \n",
    "                                       shuffle = False,\n",
    "                                       subset='validation',\n",
    "                                       seed = 42)\n",
    "'''"
   ]
  },
  {
   "cell_type": "code",
   "execution_count": 8,
   "id": "6c2e2a82",
   "metadata": {
    "execution": {
     "iopub.execute_input": "2022-05-25T19:04:34.413839Z",
     "iopub.status.busy": "2022-05-25T19:04:34.413071Z",
     "iopub.status.idle": "2022-05-25T19:04:34.420367Z",
     "shell.execute_reply": "2022-05-25T19:04:34.419612Z"
    },
    "papermill": {
     "duration": 0.021174,
     "end_time": "2022-05-25T19:04:34.422650",
     "exception": false,
     "start_time": "2022-05-25T19:04:34.401476",
     "status": "completed"
    },
    "tags": []
   },
   "outputs": [],
   "source": [
    "def get_features2(base_model, X_train1, y_train1, X_test1, y_test1):\n",
    "    X_train2 = base_model.predict(X_train1)\n",
    "    y_train2 = y_train1\n",
    "\n",
    "    X_test2 = base_model.predict(X_test1)\n",
    "    y_test2 = y_test1\n",
    "\n",
    "    X_val, X_test, y_val, y_test = train_test_split(X_test2, y_test2, test_size = 0.3, shuffle = True)\n",
    "    print('Shape of X_train----->', str(X_train2.shape))\n",
    "    print('Shape of X_val----->', str(X_val.shape))\n",
    "    print('Shape of X_test----->', str(X_test.shape))\n",
    "    return (X_train2, X_val, X_test, y_train2, y_val, y_test)"
   ]
  },
  {
   "cell_type": "code",
   "execution_count": 9,
   "id": "27594ff6",
   "metadata": {
    "execution": {
     "iopub.execute_input": "2022-05-25T19:04:34.443819Z",
     "iopub.status.busy": "2022-05-25T19:04:34.443279Z",
     "iopub.status.idle": "2022-05-25T19:04:34.455332Z",
     "shell.execute_reply": "2022-05-25T19:04:34.454467Z"
    },
    "papermill": {
     "duration": 0.025394,
     "end_time": "2022-05-25T19:04:34.457561",
     "exception": false,
     "start_time": "2022-05-25T19:04:34.432167",
     "status": "completed"
    },
    "tags": []
   },
   "outputs": [],
   "source": [
    "from keras.callbacks import ModelCheckpoint\n",
    "from tensorflow.keras.optimizers import *\n",
    "def get_models():\n",
    "    ANN = Sequential()\n",
    "    ANN.add(Dense(4096, input_dim = X_train.shape[1], activation = 'relu'))\n",
    "    ANN.add(BatchNormalization())\n",
    "    ANN.add(Dense(4096, activation='relu'))\n",
    "    ANN.add(Dropout(0.2))\n",
    "    ANN.add(Dense(2096, activation='relu'))\n",
    "    #ANN.add(Dense(16, activation='relu'))\n",
    "    #ANN.add(Dense(8, activation='relu'))\n",
    "    ANN.add(Dense(n_of_classes, activation='sigmoid'))\n",
    "    \n",
    "\n",
    "    opt = Adam(learning_rate=0.001)\n",
    "    ANN.compile(loss='categorical_crossentropy', optimizer=opt, metrics=['accuracy'])\n",
    " \n",
    "    KNN = KNeighborsClassifier()\n",
    "    \n",
    "    SVM = SVC(kernel = 'linear')\n",
    "    \n",
    "    RF = RandomForestClassifier(n_estimators = 50)\n",
    "    \n",
    "    ADB = AdaBoostClassifier()\n",
    "    \n",
    "    XGB = XGBClassifier(n_estimators = 50, use_label_encoder=False)\n",
    "    \n",
    "    print(\"Defined------->\")\n",
    "    print(\"ANN -------->\", \"(4096x4096x2096x2)\")\n",
    "    print(\"KNeighborsClassifier()\")\n",
    "    print(\"SVC(kernel = 'linear')\")\n",
    "    print(\"RandomForestClassifier(n_estimators = 50)\")\n",
    "    print(\"AdaBoostClassifier()\")\n",
    "    print(\"XGBClassifier(n_estimators = 50)\")\n",
    "    \n",
    "    return (ANN, KNN, SVM, RF, ADB, XGB)"
   ]
  },
  {
   "cell_type": "code",
   "execution_count": 10,
   "id": "26015a6d",
   "metadata": {
    "execution": {
     "iopub.execute_input": "2022-05-25T19:04:34.479751Z",
     "iopub.status.busy": "2022-05-25T19:04:34.478961Z",
     "iopub.status.idle": "2022-05-25T19:04:34.486215Z",
     "shell.execute_reply": "2022-05-25T19:04:34.485311Z"
    },
    "papermill": {
     "duration": 0.021451,
     "end_time": "2022-05-25T19:04:34.488560",
     "exception": false,
     "start_time": "2022-05-25T19:04:34.467109",
     "status": "completed"
    },
    "tags": []
   },
   "outputs": [],
   "source": [
    "def reshape_data(X_train, X_val, X_test):\n",
    "    X_train = X_train.reshape(X_train.shape[0], -1)\n",
    "    X_val = X_val.reshape(X_val.shape[0], -1)\n",
    "    X_test = X_test.reshape(X_test.shape[0], -1)\n",
    "\n",
    "    print(\"Shape after reshaping------->\")\n",
    "    print(\"X train------->\", str(X_train.shape))\n",
    "    print(\"X val-------->\", str(X_val.shape))\n",
    "    print(\"X test-------->\", str(X_test.shape))\n",
    "    \n",
    "    return (X_train, X_val, X_test)"
   ]
  },
  {
   "cell_type": "code",
   "execution_count": 11,
   "id": "117c523c",
   "metadata": {
    "execution": {
     "iopub.execute_input": "2022-05-25T19:04:34.509723Z",
     "iopub.status.busy": "2022-05-25T19:04:34.509225Z",
     "iopub.status.idle": "2022-05-25T19:04:34.528930Z",
     "shell.execute_reply": "2022-05-25T19:04:34.528111Z"
    },
    "papermill": {
     "duration": 0.032987,
     "end_time": "2022-05-25T19:04:34.531078",
     "exception": false,
     "start_time": "2022-05-25T19:04:34.498091",
     "status": "completed"
    },
    "tags": []
   },
   "outputs": [],
   "source": [
    "from sklearn.metrics import classification_report\n",
    "from tensorflow.keras.utils import to_categorical\n",
    "def fit_ANN(model, X_train, y_train, X_val, y_test):\n",
    "    callbacks = [EarlyStopping(monitor='val_loss', patience=5, verbose=1), ModelCheckpoint('ANN.hdf5', save_best_only=True)]\n",
    "    y_train=to_categorical(y_train)\n",
    "    y_test=to_categorical(y_test)\n",
    "    history = model.fit(X_train, y_train, validation_data=(X_val, y_test), epochs=10, verbose=1, callbacks=callbacks)\n",
    "    return model\n",
    "\n",
    "def fit_model(model, X_train, y_train):\n",
    "    model.fit(X_train, y_train)\n",
    "    return model\n",
    "from tensorflow.keras.utils import plot_model\n",
    "from IPython.display import Image\n",
    "def get_accuracy_metrics_for_ANN(model, X_train, y_train, X_val, y_val, X_test, y_test):\n",
    "    model.summary()\n",
    "    plot_model(model, to_file='ANN.png', show_shapes=True,show_layer_names=True)\n",
    "    Image(filename='ANN.png') \n",
    "    #y_train=np.argmax(y_train, axis=1)\n",
    "    #y_test=np.argmax(y_test, axis=1)\n",
    "    #y_val=np.argmax(y_val, axis=1)\n",
    "    y_train_pred=np.argmax(model.predict(X_train),axis=1)\n",
    "    y_test_pred=np.argmax(model.predict(X_test),axis=1)\n",
    "    y_val_pred=np.argmax(model.predict(X_val),axis=1)\n",
    "    print(\"Train accuracy Score------------>\")\n",
    "    print (\"{0:.3f}\".format(accuracy_score(y_train, np.argmax(model.predict(X_train), axis = 1))*100), \"%\")\n",
    "    \n",
    "    print(\"Val accuracy Score--------->\")\n",
    "    #val_pred = np.argmax(model.predict(X_val), axis = 1)\n",
    "    print(\"{0:.3f}\".format(accuracy_score(y_val, y_val_pred)*100), \"%\")\n",
    "    \n",
    "    #predicted =  np.argmax(model.predict(X_test), axis = 1)\n",
    "    print(\"Test accuracy Score--------->\")\n",
    "    print(\"{0:.3f}\".format(accuracy_score(y_test, y_test_pred)*100), \"%\")\n",
    "    \n",
    "    print(\"F1 Score--------------->\")\n",
    "    print(\"{0:.3f}\".format(f1_score(y_test, y_test_pred, average = 'weighted')*100), \"%\")\n",
    "    \n",
    "    print(\"Cohen Kappa Score------------->\")\n",
    "    print(\"{0:.3f}\".format(cohen_kappa_score(y_test, y_test_pred)*100), \"%\")\n",
    "    \n",
    "    print(\"Recall-------------->\")\n",
    "    print(\"{0:.3f}\".format(recall_score(y_test, y_test_pred, average = 'weighted')*100), \"%\")\n",
    "    \n",
    "    print(\"Precision-------------->\")\n",
    "    print(\"{0:.3f}\".format(precision_score(y_test, y_test_pred, average = 'weighted')*100), \"%\")\n",
    "    \n",
    "    cf_matrix_test = confusion_matrix(y_test, y_test_pred)\n",
    "    cf_matrix_val = confusion_matrix(y_val, y_val_pred)\n",
    "    \n",
    "    plt.figure(figsize = (12, 6))\n",
    "    plt.subplot(121)\n",
    "    sns.heatmap(cf_matrix_val, annot=True, cmap='Blues')\n",
    "    plt.title(\"Val Confusion matrix\")\n",
    "    \n",
    "    plt.subplot(122)\n",
    "    sns.heatmap(cf_matrix_test, annot=True, cmap='Blues')\n",
    "    plt.title(\"Test Confusion matrix\")\n",
    "    \n",
    "    plt.show()\n",
    "    print(\"classification report\")\n",
    "    print(classification_report(y_val, y_val_pred))"
   ]
  },
  {
   "cell_type": "code",
   "execution_count": 12,
   "id": "0dc2e405",
   "metadata": {
    "execution": {
     "iopub.execute_input": "2022-05-25T19:04:34.553263Z",
     "iopub.status.busy": "2022-05-25T19:04:34.552491Z",
     "iopub.status.idle": "2022-05-25T19:04:34.568001Z",
     "shell.execute_reply": "2022-05-25T19:04:34.567020Z"
    },
    "papermill": {
     "duration": 0.029754,
     "end_time": "2022-05-25T19:04:34.570504",
     "exception": false,
     "start_time": "2022-05-25T19:04:34.540750",
     "status": "completed"
    },
    "tags": []
   },
   "outputs": [],
   "source": [
    "def fit_KNN_metrics(model, X_train, y_train, X_val, y_val, X_test, y_test):\n",
    "    pca = PCA(n_components=1000)\n",
    "    #pca = PCA(n_components=130)\n",
    "    randlist = random.sample(range(0, X_train.shape[0]), 1000)\n",
    "    #randlist = random.sample(range(0, X_train.shape[0]), 90)\n",
    "    if(X_train.shape[1] > 10000):\n",
    "    #if(X_train.shape[1] > 100):\n",
    "        X_train = pca.fit_transform(X_train)\n",
    "        X_val = pca.transform(X_val)\n",
    "        X_test = pca.transform(X_test)\n",
    "\n",
    "    model.fit(X_train, y_train)\n",
    "    get_accuracy_metrics(model, X_train[randlist, :], y_train[randlist], X_val, y_val, X_test, y_test)\n",
    "\n",
    "def get_accuracy_metrics(model, X_train, y_train, X_val, y_val, X_test, y_test):\n",
    "    print(\"Train accuracy Score------------>\")\n",
    "    print (\"{0:.3f}\".format(accuracy_score(y_train, model.predict(X_train))*100), \"%\")\n",
    "    \n",
    "    print(\"Val accuracy Score--------->\")\n",
    "    val_pred = model.predict(X_val)\n",
    "    print(\"{0:.3f}\".format(accuracy_score(y_val, val_pred)*100), \"%\")\n",
    "    \n",
    "    predicted =  model.predict(X_test)\n",
    "    print(\"Test accuracy Score--------->\")\n",
    "    print(\"{0:.3f}\".format(accuracy_score(y_test, predicted)*100), \"%\")\n",
    "    \n",
    "    print(\"F1 Score--------------->\")\n",
    "    print(\"{0:.3f}\".format(f1_score(y_test, predicted, average = 'weighted')*100), \"%\")\n",
    "    \n",
    "    print(\"Cohen Kappa Score------------->\")\n",
    "    print(\"{0:.3f}\".format(cohen_kappa_score(y_test, predicted)*100), \"%\")\n",
    "    \n",
    "    print(\"Recall-------------->\")\n",
    "    print(\"{0:.3f}\".format(recall_score(y_test, predicted, average = 'weighted')*100), \"%\")\n",
    "    \n",
    "    print(\"Precision-------------->\")\n",
    "    print(\"{0:.3f}\".format(precision_score(y_test, predicted, average = 'weighted')*100), \"%\")\n",
    "    \n",
    "    cf_matrix_test = confusion_matrix(y_test, predicted)\n",
    "    cf_matrix_val = confusion_matrix(y_val, val_pred)\n",
    "    \n",
    "    plt.figure(figsize = (12, 6))\n",
    "    plt.subplot(121)\n",
    "    sns.heatmap(cf_matrix_val, annot=True, cmap='Blues')\n",
    "    plt.title(\"Val Confusion matrix\")\n",
    "    \n",
    "    plt.subplot(122)\n",
    "    sns.heatmap(cf_matrix_test, annot=True, cmap='Blues')\n",
    "    plt.title(\"Test Confusion matrix\")\n",
    "    \n",
    "    plt.show()\n",
    "    print(\"classification report\")\n",
    "    print(classification_report(y_val, val_pred))"
   ]
  },
  {
   "cell_type": "markdown",
   "id": "5f4def1b",
   "metadata": {
    "papermill": {
     "duration": 0.009059,
     "end_time": "2022-05-25T19:04:34.589247",
     "exception": false,
     "start_time": "2022-05-25T19:04:34.580188",
     "status": "completed"
    },
    "tags": []
   },
   "source": [
    "# Mobilenet"
   ]
  },
  {
   "cell_type": "code",
   "execution_count": 13,
   "id": "f5a47504",
   "metadata": {
    "execution": {
     "iopub.execute_input": "2022-05-25T19:04:34.610590Z",
     "iopub.status.busy": "2022-05-25T19:04:34.609399Z",
     "iopub.status.idle": "2022-05-25T19:04:36.345407Z",
     "shell.execute_reply": "2022-05-25T19:04:36.344385Z"
    },
    "papermill": {
     "duration": 1.749917,
     "end_time": "2022-05-25T19:04:36.348480",
     "exception": false,
     "start_time": "2022-05-25T19:04:34.598563",
     "status": "completed"
    },
    "tags": []
   },
   "outputs": [
    {
     "name": "stderr",
     "output_type": "stream",
     "text": [
      "2022-05-25 19:04:34.677917: I tensorflow/core/common_runtime/process_util.cc:146] Creating new thread pool with default inter op setting: 2. Tune using inter_op_parallelism_threads for best performance.\n"
     ]
    },
    {
     "name": "stdout",
     "output_type": "stream",
     "text": [
      "Downloading data from https://storage.googleapis.com/tensorflow/keras-applications/vgg19/vgg19_weights_tf_dim_ordering_tf_kernels_notop.h5\n",
      "80142336/80134624 [==============================] - 1s 0us/step\n",
      "80150528/80134624 [==============================] - 1s 0us/step\n",
      "Model: \"model\"\n",
      "_________________________________________________________________\n",
      "Layer (type)                 Output Shape              Param #   \n",
      "=================================================================\n",
      "input_1 (InputLayer)         [(None, 224, 224, 3)]     0         \n",
      "_________________________________________________________________\n",
      "block1_conv1 (Conv2D)        (None, 224, 224, 64)      1792      \n",
      "_________________________________________________________________\n",
      "block1_conv2 (Conv2D)        (None, 224, 224, 64)      36928     \n",
      "_________________________________________________________________\n",
      "block1_pool (MaxPooling2D)   (None, 112, 112, 64)      0         \n",
      "_________________________________________________________________\n",
      "block2_conv1 (Conv2D)        (None, 112, 112, 128)     73856     \n",
      "_________________________________________________________________\n",
      "block2_conv2 (Conv2D)        (None, 112, 112, 128)     147584    \n",
      "_________________________________________________________________\n",
      "block2_pool (MaxPooling2D)   (None, 56, 56, 128)       0         \n",
      "_________________________________________________________________\n",
      "block3_conv1 (Conv2D)        (None, 56, 56, 256)       295168    \n",
      "_________________________________________________________________\n",
      "block3_conv2 (Conv2D)        (None, 56, 56, 256)       590080    \n",
      "_________________________________________________________________\n",
      "block3_conv3 (Conv2D)        (None, 56, 56, 256)       590080    \n",
      "_________________________________________________________________\n",
      "block3_conv4 (Conv2D)        (None, 56, 56, 256)       590080    \n",
      "_________________________________________________________________\n",
      "block3_pool (MaxPooling2D)   (None, 28, 28, 256)       0         \n",
      "_________________________________________________________________\n",
      "block4_conv1 (Conv2D)        (None, 28, 28, 512)       1180160   \n",
      "_________________________________________________________________\n",
      "block4_conv2 (Conv2D)        (None, 28, 28, 512)       2359808   \n",
      "_________________________________________________________________\n",
      "block4_conv3 (Conv2D)        (None, 28, 28, 512)       2359808   \n",
      "_________________________________________________________________\n",
      "block4_conv4 (Conv2D)        (None, 28, 28, 512)       2359808   \n",
      "_________________________________________________________________\n",
      "block4_pool (MaxPooling2D)   (None, 14, 14, 512)       0         \n",
      "_________________________________________________________________\n",
      "block5_conv1 (Conv2D)        (None, 14, 14, 512)       2359808   \n",
      "_________________________________________________________________\n",
      "block5_conv2 (Conv2D)        (None, 14, 14, 512)       2359808   \n",
      "_________________________________________________________________\n",
      "block5_conv3 (Conv2D)        (None, 14, 14, 512)       2359808   \n",
      "_________________________________________________________________\n",
      "block5_conv4 (Conv2D)        (None, 14, 14, 512)       2359808   \n",
      "_________________________________________________________________\n",
      "block5_pool (MaxPooling2D)   (None, 7, 7, 512)         0         \n",
      "=================================================================\n",
      "Total params: 20,024,384\n",
      "Trainable params: 0\n",
      "Non-trainable params: 20,024,384\n",
      "_________________________________________________________________\n"
     ]
    }
   ],
   "source": [
    "from keras.applications.vgg19 import VGG19\n",
    "base_model = VGG19(include_top=False, input_shape=(img_size, img_size, 3), weights='imagenet')\n",
    "#base_model = VGG16(include_top=False, input_shape=(img_size, img_size, 2), weights='imagenet')\n",
    "\n",
    "\n",
    "for layer in base_model.layers:\n",
    "    layer.trainable = False\n",
    "                   \n",
    "model = Model(inputs=base_model.input, outputs=base_model.layers[-1].output)\n",
    "model.summary()"
   ]
  },
  {
   "cell_type": "markdown",
   "id": "08c292bb",
   "metadata": {
    "papermill": {
     "duration": 0.010217,
     "end_time": "2022-05-25T19:04:36.370621",
     "exception": false,
     "start_time": "2022-05-25T19:04:36.360404",
     "status": "completed"
    },
    "tags": []
   },
   "source": [
    "# here is the input place of data"
   ]
  },
  {
   "cell_type": "code",
   "execution_count": 14,
   "id": "14161e1f",
   "metadata": {
    "execution": {
     "iopub.execute_input": "2022-05-25T19:04:36.394246Z",
     "iopub.status.busy": "2022-05-25T19:04:36.393226Z",
     "iopub.status.idle": "2022-05-25T19:04:36.398999Z",
     "shell.execute_reply": "2022-05-25T19:04:36.397918Z"
    },
    "papermill": {
     "duration": 0.02137,
     "end_time": "2022-05-25T19:04:36.402529",
     "exception": false,
     "start_time": "2022-05-25T19:04:36.381159",
     "status": "completed"
    },
    "tags": []
   },
   "outputs": [
    {
     "name": "stdout",
     "output_type": "stream",
     "text": [
      "(600, 224, 224, 3)\n"
     ]
    }
   ],
   "source": [
    "print(X_test_original.shape)"
   ]
  },
  {
   "cell_type": "code",
   "execution_count": 15,
   "id": "9930f762",
   "metadata": {
    "execution": {
     "iopub.execute_input": "2022-05-25T19:04:36.427250Z",
     "iopub.status.busy": "2022-05-25T19:04:36.426188Z",
     "iopub.status.idle": "2022-05-25T19:15:52.537111Z",
     "shell.execute_reply": "2022-05-25T19:15:52.534327Z"
    },
    "papermill": {
     "duration": 676.142042,
     "end_time": "2022-05-25T19:15:52.556256",
     "exception": false,
     "start_time": "2022-05-25T19:04:36.414214",
     "status": "completed"
    },
    "tags": []
   },
   "outputs": [
    {
     "name": "stderr",
     "output_type": "stream",
     "text": [
      "2022-05-25 19:04:36.781904: I tensorflow/compiler/mlir/mlir_graph_optimization_pass.cc:185] None of the MLIR Optimization Passes are enabled (registered 2)\n"
     ]
    },
    {
     "name": "stdout",
     "output_type": "stream",
     "text": [
      "Shape of X_train-----> (1400, 7, 7, 512)\n",
      "Shape of X_val-----> (420, 7, 7, 512)\n",
      "Shape of X_test-----> (180, 7, 7, 512)\n"
     ]
    }
   ],
   "source": [
    "\n",
    "X_train, X_val, X_test, y_train, y_val, y_test = get_features2(model, X_train_original, y_train_original, X_test_original, y_test_original)\n",
    "\n",
    "#def get_features2(base_model, X_train1, y_train1, X_test1, y_test1):"
   ]
  },
  {
   "cell_type": "code",
   "execution_count": 16,
   "id": "a4099e11",
   "metadata": {
    "execution": {
     "iopub.execute_input": "2022-05-25T19:15:52.583908Z",
     "iopub.status.busy": "2022-05-25T19:15:52.583104Z",
     "iopub.status.idle": "2022-05-25T19:15:52.592293Z",
     "shell.execute_reply": "2022-05-25T19:15:52.591037Z"
    },
    "papermill": {
     "duration": 0.026533,
     "end_time": "2022-05-25T19:15:52.594810",
     "exception": false,
     "start_time": "2022-05-25T19:15:52.568277",
     "status": "completed"
    },
    "tags": []
   },
   "outputs": [
    {
     "name": "stdout",
     "output_type": "stream",
     "text": [
      "(1400,)\n",
      "(180,)\n",
      "(420,)\n"
     ]
    }
   ],
   "source": [
    "print(y_train.shape)\n",
    "print(y_test.shape)\n",
    "print(y_val.shape)"
   ]
  },
  {
   "cell_type": "code",
   "execution_count": 17,
   "id": "5f338d92",
   "metadata": {
    "execution": {
     "iopub.execute_input": "2022-05-25T19:15:52.619020Z",
     "iopub.status.busy": "2022-05-25T19:15:52.618278Z",
     "iopub.status.idle": "2022-05-25T19:20:21.598972Z",
     "shell.execute_reply": "2022-05-25T19:20:21.597881Z"
    },
    "papermill": {
     "duration": 268.995752,
     "end_time": "2022-05-25T19:20:21.601484",
     "exception": false,
     "start_time": "2022-05-25T19:15:52.605732",
     "status": "completed"
    },
    "tags": []
   },
   "outputs": [
    {
     "name": "stdout",
     "output_type": "stream",
     "text": [
      "Shape after reshaping------->\n",
      "X train-------> (1400, 25088)\n",
      "X val--------> (420, 25088)\n",
      "X test--------> (180, 25088)\n",
      "Defined------->\n",
      "ANN --------> (4096x4096x2096x2)\n",
      "KNeighborsClassifier()\n",
      "SVC(kernel = 'linear')\n",
      "RandomForestClassifier(n_estimators = 50)\n",
      "AdaBoostClassifier()\n",
      "XGBClassifier(n_estimators = 50)\n",
      "Epoch 1/10\n",
      "44/44 [==============================] - 26s 552ms/step - loss: 1.1240 - accuracy: 0.8300 - val_loss: 1.8099 - val_accuracy: 0.8405\n",
      "Epoch 2/10\n",
      "44/44 [==============================] - 28s 634ms/step - loss: 0.1677 - accuracy: 0.9450 - val_loss: 1.0476 - val_accuracy: 0.8952\n",
      "Epoch 3/10\n",
      "44/44 [==============================] - 24s 550ms/step - loss: 0.0811 - accuracy: 0.9736 - val_loss: 0.8876 - val_accuracy: 0.9119\n",
      "Epoch 4/10\n",
      "44/44 [==============================] - 24s 539ms/step - loss: 0.0437 - accuracy: 0.9871 - val_loss: 0.7023 - val_accuracy: 0.9333\n",
      "Epoch 5/10\n",
      "44/44 [==============================] - 24s 536ms/step - loss: 0.0243 - accuracy: 0.9907 - val_loss: 1.0696 - val_accuracy: 0.9310\n",
      "Epoch 6/10\n",
      "44/44 [==============================] - 24s 541ms/step - loss: 0.0330 - accuracy: 0.9907 - val_loss: 0.8377 - val_accuracy: 0.9238\n",
      "Epoch 7/10\n",
      "44/44 [==============================] - 23s 526ms/step - loss: 0.0245 - accuracy: 0.9879 - val_loss: 0.6463 - val_accuracy: 0.9262\n",
      "Epoch 8/10\n",
      "44/44 [==============================] - 23s 532ms/step - loss: 0.0255 - accuracy: 0.9914 - val_loss: 0.6901 - val_accuracy: 0.9381\n",
      "Epoch 9/10\n",
      "44/44 [==============================] - 24s 544ms/step - loss: 0.0018 - accuracy: 0.9993 - val_loss: 0.8499 - val_accuracy: 0.9286\n",
      "Epoch 10/10\n",
      "44/44 [==============================] - 24s 542ms/step - loss: 0.0052 - accuracy: 0.9979 - val_loss: 0.9948 - val_accuracy: 0.9071\n"
     ]
    }
   ],
   "source": [
    "X_train, X_val, X_test = reshape_data(X_train, X_val, X_test)\n",
    "ANN, KNN, SVM, RF, ADB, XGB = get_models()\n",
    "\n",
    "ANN = fit_ANN(ANN, X_train, y_train, X_val, y_val)"
   ]
  },
  {
   "cell_type": "code",
   "execution_count": 18,
   "id": "50514764",
   "metadata": {
    "execution": {
     "iopub.execute_input": "2022-05-25T19:20:21.691560Z",
     "iopub.status.busy": "2022-05-25T19:20:21.690435Z",
     "iopub.status.idle": "2022-05-25T19:20:39.624037Z",
     "shell.execute_reply": "2022-05-25T19:20:39.622669Z"
    },
    "papermill": {
     "duration": 17.980866,
     "end_time": "2022-05-25T19:20:39.626256",
     "exception": false,
     "start_time": "2022-05-25T19:20:21.645390",
     "status": "completed"
    },
    "tags": []
   },
   "outputs": [
    {
     "name": "stdout",
     "output_type": "stream",
     "text": [
      "Model: \"sequential\"\n",
      "_________________________________________________________________\n",
      "Layer (type)                 Output Shape              Param #   \n",
      "=================================================================\n",
      "dense (Dense)                (None, 4096)              102764544 \n",
      "_________________________________________________________________\n",
      "batch_normalization (BatchNo (None, 4096)              16384     \n",
      "_________________________________________________________________\n",
      "dense_1 (Dense)              (None, 4096)              16781312  \n",
      "_________________________________________________________________\n",
      "dropout (Dropout)            (None, 4096)              0         \n",
      "_________________________________________________________________\n",
      "dense_2 (Dense)              (None, 2096)              8587312   \n",
      "_________________________________________________________________\n",
      "dense_3 (Dense)              (None, 2)                 4194      \n",
      "=================================================================\n",
      "Total params: 128,153,746\n",
      "Trainable params: 128,145,554\n",
      "Non-trainable params: 8,192\n",
      "_________________________________________________________________\n",
      "Train accuracy Score------------>\n",
      "99.429 %\n",
      "Val accuracy Score--------->\n",
      "90.714 %\n",
      "Test accuracy Score--------->\n",
      "89.444 %\n",
      "F1 Score--------------->\n",
      "89.692 %\n",
      "Cohen Kappa Score------------->\n",
      "57.985 %\n",
      "Recall-------------->\n",
      "89.444 %\n",
      "Precision-------------->\n",
      "90.011 %\n"
     ]
    },
    {
     "data": {
      "image/png": "[encoded data removed]",
      "text/plain": [
       "<Figure size 864x432 with 4 Axes>"
      ]
     },
     "metadata": {
      "needs_background": "light"
     },
     "output_type": "display_data"
    },
    {
     "name": "stdout",
     "output_type": "stream",
     "text": [
      "classification report\n",
      "              precision    recall  f1-score   support\n",
      "\n",
      "           0       0.96      0.93      0.94       354\n",
      "           1       0.67      0.80      0.73        66\n",
      "\n",
      "    accuracy                           0.91       420\n",
      "   macro avg       0.82      0.86      0.84       420\n",
      "weighted avg       0.92      0.91      0.91       420\n",
      "\n"
     ]
    }
   ],
   "source": [
    "get_accuracy_metrics_for_ANN(ANN, X_train, y_train, X_val, y_val, X_test, y_test)"
   ]
  },
  {
   "cell_type": "code",
   "execution_count": 19,
   "id": "54bc7967",
   "metadata": {
    "execution": {
     "iopub.execute_input": "2022-05-25T19:20:39.718874Z",
     "iopub.status.busy": "2022-05-25T19:20:39.717985Z",
     "iopub.status.idle": "2022-05-25T19:20:40.573423Z",
     "shell.execute_reply": "2022-05-25T19:20:40.571649Z"
    },
    "papermill": {
     "duration": 0.906667,
     "end_time": "2022-05-25T19:20:40.577201",
     "exception": false,
     "start_time": "2022-05-25T19:20:39.670534",
     "status": "completed"
    },
    "tags": []
   },
   "outputs": [],
   "source": [
    "scaler = StandardScaler()\n",
    "X_train_scaled = scaler.fit_transform(X_train)\n",
    "X_val_scaled = scaler.transform(X_val)\n",
    "X_test_scaled = scaler.transform(X_test)"
   ]
  },
  {
   "cell_type": "code",
   "execution_count": 20,
   "id": "a02d678c",
   "metadata": {
    "execution": {
     "iopub.execute_input": "2022-05-25T19:20:40.669173Z",
     "iopub.status.busy": "2022-05-25T19:20:40.668666Z",
     "iopub.status.idle": "2022-05-25T19:21:14.611778Z",
     "shell.execute_reply": "2022-05-25T19:21:14.610480Z"
    },
    "papermill": {
     "duration": 33.99155,
     "end_time": "2022-05-25T19:21:14.614369",
     "exception": false,
     "start_time": "2022-05-25T19:20:40.622819",
     "status": "completed"
    },
    "tags": []
   },
   "outputs": [
    {
     "name": "stdout",
     "output_type": "stream",
     "text": [
      "Train accuracy Score------------>\n",
      "100.000 %\n",
      "Val accuracy Score--------->\n",
      "93.571 %\n",
      "Test accuracy Score--------->\n",
      "93.889 %\n",
      "F1 Score--------------->\n",
      "93.304 %\n",
      "Cohen Kappa Score------------->\n",
      "69.909 %\n",
      "Recall-------------->\n",
      "93.889 %\n",
      "Precision-------------->\n",
      "93.881 %\n"
     ]
    },
    {
     "data": {
      "image/png": "[encoded data removed]",
      "text/plain": [
       "<Figure size 864x432 with 4 Axes>"
      ]
     },
     "metadata": {
      "needs_background": "light"
     },
     "output_type": "display_data"
    },
    {
     "name": "stdout",
     "output_type": "stream",
     "text": [
      "classification report\n",
      "              precision    recall  f1-score   support\n",
      "\n",
      "           0       0.95      0.98      0.96       354\n",
      "           1       0.85      0.71      0.78        66\n",
      "\n",
      "    accuracy                           0.94       420\n",
      "   macro avg       0.90      0.84      0.87       420\n",
      "weighted avg       0.93      0.94      0.93       420\n",
      "\n"
     ]
    }
   ],
   "source": [
    "SVM = fit_model(SVM, X_train_scaled, y_train)\n",
    "get_accuracy_metrics(SVM, X_train_scaled, y_train, X_val_scaled, y_val, X_test_scaled, y_test)"
   ]
  },
  {
   "cell_type": "code",
   "execution_count": 21,
   "id": "43f1d4b4",
   "metadata": {
    "execution": {
     "iopub.execute_input": "2022-05-25T19:21:14.712657Z",
     "iopub.status.busy": "2022-05-25T19:21:14.711427Z",
     "iopub.status.idle": "2022-05-25T19:21:19.335273Z",
     "shell.execute_reply": "2022-05-25T19:21:19.333913Z"
    },
    "papermill": {
     "duration": 4.674678,
     "end_time": "2022-05-25T19:21:19.338069",
     "exception": false,
     "start_time": "2022-05-25T19:21:14.663391",
     "status": "completed"
    },
    "tags": []
   },
   "outputs": [
    {
     "name": "stdout",
     "output_type": "stream",
     "text": [
      "Train accuracy Score------------>\n",
      "100.000 %\n",
      "Val accuracy Score--------->\n",
      "90.238 %\n",
      "Test accuracy Score--------->\n",
      "90.556 %\n",
      "F1 Score--------------->\n",
      "88.368 %\n",
      "Cohen Kappa Score------------->\n",
      "44.765 %\n",
      "Recall-------------->\n",
      "90.556 %\n",
      "Precision-------------->\n",
      "91.489 %\n"
     ]
    },
    {
     "data": {
      "image/png": "[encoded data removed]",
      "text/plain": [
       "<Figure size 864x432 with 4 Axes>"
      ]
     },
     "metadata": {
      "needs_background": "light"
     },
     "output_type": "display_data"
    },
    {
     "name": "stdout",
     "output_type": "stream",
     "text": [
      "classification report\n",
      "              precision    recall  f1-score   support\n",
      "\n",
      "           0       0.90      1.00      0.95       354\n",
      "           1       1.00      0.38      0.55        66\n",
      "\n",
      "    accuracy                           0.90       420\n",
      "   macro avg       0.95      0.69      0.75       420\n",
      "weighted avg       0.91      0.90      0.88       420\n",
      "\n"
     ]
    }
   ],
   "source": [
    "RF = fit_model(RF, X_train, y_train)\n",
    "get_accuracy_metrics(RF,  X_train, y_train, X_val, y_val, X_test, y_test)"
   ]
  },
  {
   "cell_type": "code",
   "execution_count": 22,
   "id": "0ef20015",
   "metadata": {
    "execution": {
     "iopub.execute_input": "2022-05-25T19:21:19.431777Z",
     "iopub.status.busy": "2022-05-25T19:21:19.430485Z",
     "iopub.status.idle": "2022-05-25T19:22:14.927338Z",
     "shell.execute_reply": "2022-05-25T19:22:14.926012Z"
    },
    "papermill": {
     "duration": 55.546185,
     "end_time": "2022-05-25T19:22:14.929785",
     "exception": false,
     "start_time": "2022-05-25T19:21:19.383600",
     "status": "completed"
    },
    "tags": []
   },
   "outputs": [
    {
     "name": "stdout",
     "output_type": "stream",
     "text": [
      "Train accuracy Score------------>\n",
      "98.857 %\n",
      "Val accuracy Score--------->\n",
      "93.095 %\n",
      "Test accuracy Score--------->\n",
      "93.333 %\n",
      "F1 Score--------------->\n",
      "92.942 %\n",
      "Cohen Kappa Score------------->\n",
      "69.010 %\n",
      "Recall-------------->\n",
      "93.333 %\n",
      "Precision-------------->\n",
      "92.993 %\n"
     ]
    },
    {
     "data": {
      "image/png": "[encoded data removed]",
      "text/plain": [
       "<Figure size 864x432 with 4 Axes>"
      ]
     },
     "metadata": {
      "needs_background": "light"
     },
     "output_type": "display_data"
    },
    {
     "name": "stdout",
     "output_type": "stream",
     "text": [
      "classification report\n",
      "              precision    recall  f1-score   support\n",
      "\n",
      "           0       0.94      0.99      0.96       354\n",
      "           1       0.89      0.64      0.74        66\n",
      "\n",
      "    accuracy                           0.93       420\n",
      "   macro avg       0.91      0.81      0.85       420\n",
      "weighted avg       0.93      0.93      0.93       420\n",
      "\n"
     ]
    }
   ],
   "source": [
    "ADB = fit_model(ADB, X_train, y_train)\n",
    "get_accuracy_metrics(ADB,  X_train, y_train, X_val, y_val, X_test, y_test)"
   ]
  },
  {
   "cell_type": "code",
   "execution_count": 23,
   "id": "c72716e5",
   "metadata": {
    "execution": {
     "iopub.execute_input": "2022-05-25T19:22:15.025758Z",
     "iopub.status.busy": "2022-05-25T19:22:15.024976Z",
     "iopub.status.idle": "2022-05-25T19:22:51.513156Z",
     "shell.execute_reply": "2022-05-25T19:22:51.511877Z"
    },
    "papermill": {
     "duration": 36.538331,
     "end_time": "2022-05-25T19:22:51.515133",
     "exception": false,
     "start_time": "2022-05-25T19:22:14.976802",
     "status": "completed"
    },
    "tags": []
   },
   "outputs": [
    {
     "name": "stdout",
     "output_type": "stream",
     "text": [
      "Train accuracy Score------------>\n",
      "100.000 %\n",
      "Val accuracy Score--------->\n",
      "94.286 %\n",
      "Test accuracy Score--------->\n",
      "94.444 %\n",
      "F1 Score--------------->\n",
      "93.837 %\n",
      "Cohen Kappa Score------------->\n",
      "72.093 %\n",
      "Recall-------------->\n",
      "94.444 %\n",
      "Precision-------------->\n",
      "94.781 %\n"
     ]
    },
    {
     "data": {
      "image/png": "[encoded data removed]",
      "text/plain": [
       "<Figure size 864x432 with 4 Axes>"
      ]
     },
     "metadata": {
      "needs_background": "light"
     },
     "output_type": "display_data"
    },
    {
     "name": "stdout",
     "output_type": "stream",
     "text": [
      "classification report\n",
      "              precision    recall  f1-score   support\n",
      "\n",
      "           0       0.94      0.99      0.97       354\n",
      "           1       0.96      0.67      0.79        66\n",
      "\n",
      "    accuracy                           0.94       420\n",
      "   macro avg       0.95      0.83      0.88       420\n",
      "weighted avg       0.94      0.94      0.94       420\n",
      "\n"
     ]
    }
   ],
   "source": [
    "XGB = fit_model(XGB, X_train, y_train)\n",
    "get_accuracy_metrics(XGB,  X_train, y_train, X_val, y_val, X_test, y_test)"
   ]
  },
  {
   "cell_type": "code",
   "execution_count": 24,
   "id": "33cb12eb",
   "metadata": {
    "execution": {
     "iopub.execute_input": "2022-05-25T19:22:51.611929Z",
     "iopub.status.busy": "2022-05-25T19:22:51.611224Z",
     "iopub.status.idle": "2022-05-25T19:23:06.510802Z",
     "shell.execute_reply": "2022-05-25T19:23:06.509444Z"
    },
    "papermill": {
     "duration": 14.951174,
     "end_time": "2022-05-25T19:23:06.513429",
     "exception": false,
     "start_time": "2022-05-25T19:22:51.562255",
     "status": "completed"
    },
    "tags": []
   },
   "outputs": [
    {
     "name": "stdout",
     "output_type": "stream",
     "text": [
      "Train accuracy Score------------>\n",
      "85.800 %\n",
      "Val accuracy Score--------->\n",
      "78.333 %\n",
      "Test accuracy Score--------->\n",
      "77.778 %\n",
      "F1 Score--------------->\n",
      "80.754 %\n",
      "Cohen Kappa Score------------->\n",
      "38.197 %\n",
      "Recall-------------->\n",
      "77.778 %\n",
      "Precision-------------->\n",
      "87.717 %\n"
     ]
    },
    {
     "data": {
      "image/png": "[encoded data removed]",
      "text/plain": [
       "<Figure size 864x432 with 4 Axes>"
      ]
     },
     "metadata": {
      "needs_background": "light"
     },
     "output_type": "display_data"
    },
    {
     "name": "stdout",
     "output_type": "stream",
     "text": [
      "classification report\n",
      "              precision    recall  f1-score   support\n",
      "\n",
      "           0       0.96      0.77      0.86       354\n",
      "           1       0.41      0.83      0.55        66\n",
      "\n",
      "    accuracy                           0.78       420\n",
      "   macro avg       0.68      0.80      0.70       420\n",
      "weighted avg       0.87      0.78      0.81       420\n",
      "\n"
     ]
    }
   ],
   "source": [
    "fit_KNN_metrics(KNN, X_train_scaled, y_train, X_val_scaled, y_val, X_test_scaled, y_test)"
   ]
  }
 ],
 "metadata": {
  "kernelspec": {
   "display_name": "Python 3",
   "language": "python",
   "name": "python3"
  },
  "language_info": {
   "codemirror_mode": {
    "name": "ipython",
    "version": 3
   },
   "file_extension": ".py",
   "mimetype": "text/x-python",
   "name": "python",
   "nbconvert_exporter": "python",
   "pygments_lexer": "ipython3",
   "version": "3.7.12"
  },
  "papermill": {
   "default_parameters": {},
   "duration": 1314.70165,
   "end_time": "2022-05-25T19:23:10.143393",
   "environment_variables": {},
   "exception": null,
   "input_path": "__notebook__.ipynb",
   "output_path": "__notebook__.ipynb",
   "parameters": {},
   "start_time": "2022-05-25T19:01:15.441743",
   "version": "2.3.4"
  }
 },
 "nbformat": 4,
 "nbformat_minor": 5
}
