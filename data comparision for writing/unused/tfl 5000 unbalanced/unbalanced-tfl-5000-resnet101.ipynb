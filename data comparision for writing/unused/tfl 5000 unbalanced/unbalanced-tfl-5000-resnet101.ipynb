{
 "cells": [
  {
   "cell_type": "code",
   "execution_count": 1,
   "id": "1dd73b70",
   "metadata": {
    "_cell_guid": "b1076dfc-b9ad-4769-8c92-a6c4dae69d19",
    "_uuid": "8f2839f25d086af736a60e9eeb907d3b93b6e0e5",
    "execution": {
     "iopub.execute_input": "2022-05-17T21:29:11.801629Z",
     "iopub.status.busy": "2022-05-17T21:29:11.800901Z",
     "iopub.status.idle": "2022-05-17T21:29:26.896729Z",
     "shell.execute_reply": "2022-05-17T21:29:26.895825Z"
    },
    "papermill": {
     "duration": 15.145943,
     "end_time": "2022-05-17T21:29:26.899323",
     "exception": false,
     "start_time": "2022-05-17T21:29:11.753380",
     "status": "completed"
    },
    "tags": []
   },
   "outputs": [
    {
     "name": "stdout",
     "output_type": "stream",
     "text": [
      "Collecting Livelossplot\r\n",
      "  Downloading livelossplot-0.5.5-py3-none-any.whl (22 kB)\r\n",
      "Requirement already satisfied: numpy<1.22 in /opt/conda/lib/python3.7/site-packages (from Livelossplot) (1.21.6)\r\n",
      "Requirement already satisfied: matplotlib in /opt/conda/lib/python3.7/site-packages (from Livelossplot) (3.5.2)\r\n",
      "Requirement already satisfied: ipython==7.* in /opt/conda/lib/python3.7/site-packages (from Livelossplot) (7.32.0)\r\n",
      "Requirement already satisfied: bokeh in /opt/conda/lib/python3.7/site-packages (from Livelossplot) (2.4.2)\r\n",
      "Requirement already satisfied: matplotlib-inline in /opt/conda/lib/python3.7/site-packages (from ipython==7.*->Livelossplot) (0.1.3)\r\n",
      "Requirement already satisfied: pexpect>4.3 in /opt/conda/lib/python3.7/site-packages (from ipython==7.*->Livelossplot) (4.8.0)\r\n",
      "Requirement already satisfied: jedi>=0.16 in /opt/conda/lib/python3.7/site-packages (from ipython==7.*->Livelossplot) (0.18.1)\r\n",
      "Requirement already satisfied: pickleshare in /opt/conda/lib/python3.7/site-packages (from ipython==7.*->Livelossplot) (0.7.5)\r\n",
      "Requirement already satisfied: setuptools>=18.5 in /opt/conda/lib/python3.7/site-packages (from ipython==7.*->Livelossplot) (59.8.0)\r\n",
      "Requirement already satisfied: prompt-toolkit!=3.0.0,!=3.0.1,<3.1.0,>=2.0.0 in /opt/conda/lib/python3.7/site-packages (from ipython==7.*->Livelossplot) (3.0.27)\r\n",
      "Requirement already satisfied: pygments in /opt/conda/lib/python3.7/site-packages (from ipython==7.*->Livelossplot) (2.11.2)\r\n",
      "Requirement already satisfied: decorator in /opt/conda/lib/python3.7/site-packages (from ipython==7.*->Livelossplot) (5.1.1)\r\n",
      "Requirement already satisfied: backcall in /opt/conda/lib/python3.7/site-packages (from ipython==7.*->Livelossplot) (0.2.0)\r\n",
      "Requirement already satisfied: traitlets>=4.2 in /opt/conda/lib/python3.7/site-packages (from ipython==7.*->Livelossplot) (5.1.1)\r\n",
      "Requirement already satisfied: tornado>=5.1 in /opt/conda/lib/python3.7/site-packages (from bokeh->Livelossplot) (6.1)\r\n",
      "Requirement already satisfied: pillow>=7.1.0 in /opt/conda/lib/python3.7/site-packages (from bokeh->Livelossplot) (9.0.1)\r\n",
      "Requirement already satisfied: typing-extensions>=3.10.0 in /opt/conda/lib/python3.7/site-packages (from bokeh->Livelossplot) (4.2.0)\r\n",
      "Requirement already satisfied: PyYAML>=3.10 in /opt/conda/lib/python3.7/site-packages (from bokeh->Livelossplot) (6.0)\r\n",
      "Requirement already satisfied: Jinja2>=2.9 in /opt/conda/lib/python3.7/site-packages (from bokeh->Livelossplot) (3.1.2)\r\n",
      "Requirement already satisfied: packaging>=16.8 in /opt/conda/lib/python3.7/site-packages (from bokeh->Livelossplot) (21.3)\r\n",
      "Requirement already satisfied: cycler>=0.10 in /opt/conda/lib/python3.7/site-packages (from matplotlib->Livelossplot) (0.11.0)\r\n",
      "Requirement already satisfied: fonttools>=4.22.0 in /opt/conda/lib/python3.7/site-packages (from matplotlib->Livelossplot) (4.30.0)\r\n",
      "Requirement already satisfied: pyparsing>=2.2.1 in /opt/conda/lib/python3.7/site-packages (from matplotlib->Livelossplot) (3.0.7)\r\n",
      "Requirement already satisfied: python-dateutil>=2.7 in /opt/conda/lib/python3.7/site-packages (from matplotlib->Livelossplot) (2.8.2)\r\n",
      "Requirement already satisfied: kiwisolver>=1.0.1 in /opt/conda/lib/python3.7/site-packages (from matplotlib->Livelossplot) (1.4.0)\r\n",
      "Requirement already satisfied: parso<0.9.0,>=0.8.0 in /opt/conda/lib/python3.7/site-packages (from jedi>=0.16->ipython==7.*->Livelossplot) (0.8.3)\r\n",
      "Requirement already satisfied: MarkupSafe>=2.0 in /opt/conda/lib/python3.7/site-packages (from Jinja2>=2.9->bokeh->Livelossplot) (2.0.1)\r\n",
      "Requirement already satisfied: ptyprocess>=0.5 in /opt/conda/lib/python3.7/site-packages (from pexpect>4.3->ipython==7.*->Livelossplot) (0.7.0)\r\n",
      "Requirement already satisfied: wcwidth in /opt/conda/lib/python3.7/site-packages (from prompt-toolkit!=3.0.0,!=3.0.1,<3.1.0,>=2.0.0->ipython==7.*->Livelossplot) (0.2.5)\r\n",
      "Requirement already satisfied: six>=1.5 in /opt/conda/lib/python3.7/site-packages (from python-dateutil>=2.7->matplotlib->Livelossplot) (1.16.0)\r\n",
      "Installing collected packages: Livelossplot\r\n",
      "Successfully installed Livelossplot-0.5.5\r\n",
      "\u001b[33mWARNING: Running pip as the 'root' user can result in broken permissions and conflicting behaviour with the system package manager. It is recommended to use a virtual environment instead: https://pip.pypa.io/warnings/venv\u001b[0m\u001b[33m\r\n",
      "\u001b[0m"
     ]
    }
   ],
   "source": [
    "# This Python 3 environment comes with many helpful analytics libraries installed\n",
    "# It is defined by the kaggle/python Docker image: https://github.com/kaggle/docker-python\n",
    "# For example, here's several helpful packages to load\n",
    "\n",
    "import numpy as np # linear algebra\n",
    "import pandas as pd # data processing, CSV file I/O (e.g. pd.read_csv)\n",
    "\n",
    "# Input data files are available in the read-only \"../input/\" directory\n",
    "# For example, running this (by clicking run or pressing Shift+Enter) will list all files under the input directory\n",
    "\n",
    "import os\n",
    "\n",
    "import warnings\n",
    "warnings.filterwarnings('ignore')\n",
    "%matplotlib inline\n",
    "!pip install Livelossplot\n",
    "from livelossplot import PlotLossesKeras\n",
    "\n",
    "from glob import glob\n",
    "import os\n",
    "import shutil\n",
    "\n",
    "import numpy as np\n",
    "import pandas as pd\n",
    "# You can write up to 20GB to the current directory (/kaggle/working/) that gets preserved as output when you create a version using \"Save & Run All\" \n",
    "# You can also write temporary files to /kaggle/temp/, but they won't be saved outside of the current session"
   ]
  },
  {
   "cell_type": "markdown",
   "id": "6955e4d3",
   "metadata": {
    "papermill": {
     "duration": 0.047996,
     "end_time": "2022-05-17T21:29:26.996461",
     "exception": false,
     "start_time": "2022-05-17T21:29:26.948465",
     "status": "completed"
    },
    "tags": []
   },
   "source": [
    "# AIM\n",
    "## To classify the images into \n",
    "### IDC+\n",
    "### IDC-\n",
    "\n",
    "# Validation Strategy:\n",
    "\n",
    "## Train Data Size= 0.7*Total_Data\n",
    "## Validation Data Size= 0.21* Total_Data\n",
    "## Test Data Size= 0.09 * Total_Data\n",
    "\n",
    "# Augmentaions Used:\n",
    "## Each Image is rotated through 45 angles\n"
   ]
  },
  {
   "cell_type": "code",
   "execution_count": 2,
   "id": "f089b561",
   "metadata": {
    "execution": {
     "iopub.execute_input": "2022-05-17T21:29:27.095115Z",
     "iopub.status.busy": "2022-05-17T21:29:27.094723Z",
     "iopub.status.idle": "2022-05-17T21:29:38.930808Z",
     "shell.execute_reply": "2022-05-17T21:29:38.928993Z"
    },
    "papermill": {
     "duration": 11.888698,
     "end_time": "2022-05-17T21:29:38.933766",
     "exception": false,
     "start_time": "2022-05-17T21:29:27.045068",
     "status": "completed"
    },
    "tags": []
   },
   "outputs": [
    {
     "data": {
      "text/html": [
       "<style type='text/css'>\n",
       ".datatable table.frame { margin-bottom: 0; }\n",
       ".datatable table.frame thead { border-bottom: none; }\n",
       ".datatable table.frame tr.coltypes td {  color: #FFFFFF;  line-height: 6px;  padding: 0 0.5em;}\n",
       ".datatable .bool    { background: #DDDD99; }\n",
       ".datatable .object  { background: #565656; }\n",
       ".datatable .int     { background: #5D9E5D; }\n",
       ".datatable .float   { background: #4040CC; }\n",
       ".datatable .str     { background: #CC4040; }\n",
       ".datatable .time    { background: #40CC40; }\n",
       ".datatable .row_index {  background: var(--jp-border-color3);  border-right: 1px solid var(--jp-border-color0);  color: var(--jp-ui-font-color3);  font-size: 9px;}\n",
       ".datatable .frame tbody td { text-align: left; }\n",
       ".datatable .frame tr.coltypes .row_index {  background: var(--jp-border-color0);}\n",
       ".datatable th:nth-child(2) { padding-left: 12px; }\n",
       ".datatable .hellipsis {  color: var(--jp-cell-editor-border-color);}\n",
       ".datatable .vellipsis {  background: var(--jp-layout-color0);  color: var(--jp-cell-editor-border-color);}\n",
       ".datatable .na {  color: var(--jp-cell-editor-border-color);  font-size: 80%;}\n",
       ".datatable .sp {  opacity: 0.25;}\n",
       ".datatable .footer { font-size: 9px; }\n",
       ".datatable .frame_dimensions {  background: var(--jp-border-color3);  border-top: 1px solid var(--jp-border-color0);  color: var(--jp-ui-font-color3);  display: inline-block;  opacity: 0.6;  padding: 1px 10px 1px 5px;}\n",
       "</style>\n"
      ],
      "text/plain": [
       "<IPython.core.display.HTML object>"
      ]
     },
     "metadata": {},
     "output_type": "display_data"
    },
    {
     "name": "stdout",
     "output_type": "stream",
     "text": [
      "All modules have been imported\n"
     ]
    }
   ],
   "source": [
    "\n",
    "import numpy as np\n",
    "import pandas as pd\n",
    "import cv2\n",
    "from PIL import Image\n",
    "import scipy\n",
    "\n",
    "import tensorflow as tf\n",
    "from tensorflow.keras.applications import *\n",
    "from tensorflow.keras.optimizers import *\n",
    "from tensorflow.keras.losses import *\n",
    "from tensorflow.keras.layers import *\n",
    "from tensorflow.keras.models import *\n",
    "from tensorflow.keras.callbacks import *\n",
    "from tensorflow.keras.preprocessing.image import *\n",
    "from tensorflow.keras.utils import *\n",
    "# import pydot\n",
    "\n",
    "from sklearn.metrics import *\n",
    "from sklearn.model_selection import *\n",
    "import tensorflow.keras.backend as K\n",
    "\n",
    "from tqdm import tqdm, tqdm_notebook\n",
    "from colorama import Fore\n",
    "import json\n",
    "import matplotlib.pyplot as plt\n",
    "import seaborn as sns\n",
    "from glob import glob\n",
    "from skimage.io import *\n",
    "%config Completer.use_jedi = False\n",
    "import time\n",
    "from sklearn.decomposition import PCA\n",
    "from sklearn.svm import LinearSVC\n",
    "from sklearn.linear_model import LogisticRegression\n",
    "from sklearn.metrics import accuracy_score\n",
    "import lightgbm as lgb\n",
    "import xgboost as xgb\n",
    "\n",
    "print(\"All modules have been imported\")"
   ]
  },
  {
   "cell_type": "code",
   "execution_count": 3,
   "id": "8ddfba36",
   "metadata": {
    "execution": {
     "iopub.execute_input": "2022-05-17T21:29:39.035861Z",
     "iopub.status.busy": "2022-05-17T21:29:39.035583Z",
     "iopub.status.idle": "2022-05-17T21:29:39.041206Z",
     "shell.execute_reply": "2022-05-17T21:29:39.039869Z"
    },
    "papermill": {
     "duration": 0.05974,
     "end_time": "2022-05-17T21:29:39.043845",
     "exception": false,
     "start_time": "2022-05-17T21:29:38.984105",
     "status": "completed"
    },
    "tags": []
   },
   "outputs": [],
   "source": [
    "sampling_seed=0\n",
    "size_4_training=5000\n",
    "img_size=224\n",
    "training_reshape=(-1, img_size, img_size, 3)\n",
    "epoch_4_test=10"
   ]
  },
  {
   "cell_type": "markdown",
   "id": "7ebc33d5",
   "metadata": {
    "papermill": {
     "duration": 0.050834,
     "end_time": "2022-05-17T21:29:39.147808",
     "exception": false,
     "start_time": "2022-05-17T21:29:39.096974",
     "status": "completed"
    },
    "tags": []
   },
   "source": [
    "Image labelling"
   ]
  },
  {
   "cell_type": "code",
   "execution_count": 4,
   "id": "8bc54824",
   "metadata": {
    "execution": {
     "iopub.execute_input": "2022-05-17T21:29:39.250757Z",
     "iopub.status.busy": "2022-05-17T21:29:39.250529Z",
     "iopub.status.idle": "2022-05-17T21:33:24.476026Z",
     "shell.execute_reply": "2022-05-17T21:33:24.475104Z"
    },
    "papermill": {
     "duration": 225.280443,
     "end_time": "2022-05-17T21:33:24.478486",
     "exception": false,
     "start_time": "2022-05-17T21:29:39.198043",
     "status": "completed"
    },
    "tags": []
   },
   "outputs": [
    {
     "name": "stdout",
     "output_type": "stream",
     "text": [
      "['../input/breast-histopathology-images/IDC_regular_ps50_idx5/10295/0/10295_idx5_x1351_y1101_class0.png', '../input/breast-histopathology-images/IDC_regular_ps50_idx5/10295/0/10295_idx5_x1501_y501_class0.png', '../input/breast-histopathology-images/IDC_regular_ps50_idx5/10295/0/10295_idx5_x1501_y1101_class0.png', '../input/breast-histopathology-images/IDC_regular_ps50_idx5/10295/0/10295_idx5_x451_y901_class0.png', '../input/breast-histopathology-images/IDC_regular_ps50_idx5/10295/0/10295_idx5_x801_y451_class0.png', '../input/breast-histopathology-images/IDC_regular_ps50_idx5/10295/0/10295_idx5_x151_y1051_class0.png', '../input/breast-histopathology-images/IDC_regular_ps50_idx5/10295/0/10295_idx5_x1351_y901_class0.png', '../input/breast-histopathology-images/IDC_regular_ps50_idx5/10295/0/10295_idx5_x701_y651_class0.png', '../input/breast-histopathology-images/IDC_regular_ps50_idx5/10295/0/10295_idx5_x951_y1401_class0.png', '../input/breast-histopathology-images/IDC_regular_ps50_idx5/10295/0/10295_idx5_x601_y501_class0.png']\n"
     ]
    }
   ],
   "source": [
    "import random\n",
    "#make directory for labelling\n",
    "os.makedirs('../working/idc2/idc-minus/')     \n",
    "os.makedirs('../working/idc2/idc-plus/')  \n",
    "\n",
    "\n",
    "class0 = [] # 0 = idc+\n",
    "class1 = [] # 1 = idc-\n",
    "imagePatches = glob('../input/breast-histopathology-images/IDC_regular_ps50_idx5/**/*.png', recursive=True)\n",
    "for filename in imagePatches:\n",
    "    if filename.endswith(\"class0.png\"):\n",
    "         class0.append(filename)\n",
    "    else:\n",
    "        class1.append(filename)\n",
    "\n",
    "print(class0[0:10])\n",
    "\n",
    "#sampling 10000 images from class 0 and class 1 to train the model\n",
    "\n",
    "random.seed(sampling_seed)\n",
    "class0sample=random.sample(class0,size_4_training)\n",
    "class1sample=random.sample(class1,size_4_training)\n",
    "\n",
    "\n",
    "def read_and_save_data(path, file_name_array):\n",
    "    j=0\n",
    "    for i in file_name_array:\n",
    "        if i.endswith('.png'):\n",
    "          \n",
    "            \n",
    "            #second copy method\n",
    "            head, tail = os.path.split(i)\n",
    "            outputname=str(path+tail)\n",
    "            #outputname=str(path+str(j)+'.png')\n",
    "            #print(outputname)\n",
    "            shutil.copy(i, outputname)\n",
    "   \n",
    "            #print(status2)\n",
    "            \n",
    "            j=j+1\n",
    "            if j==120000:\n",
    "                break\n",
    "            \n",
    "   \n",
    "class0path='../working/idc2/idc-minus/'\n",
    "class1path='../working/idc2/idc-plus/'\n",
    "\n",
    "\n",
    "\n",
    "\n",
    "read_and_save_data(class0path,class0sample)\n",
    "read_and_save_data(class1path,class1sample)"
   ]
  },
  {
   "cell_type": "markdown",
   "id": "43a3c3f4",
   "metadata": {
    "papermill": {
     "duration": 0.050664,
     "end_time": "2022-05-17T21:33:24.581658",
     "exception": false,
     "start_time": "2022-05-17T21:33:24.530994",
     "status": "completed"
    },
    "tags": []
   },
   "source": []
  },
  {
   "cell_type": "code",
   "execution_count": null,
   "id": "85946112",
   "metadata": {
    "papermill": {
     "duration": 0.053221,
     "end_time": "2022-05-17T21:33:24.686064",
     "exception": false,
     "start_time": "2022-05-17T21:33:24.632843",
     "status": "completed"
    },
    "tags": []
   },
   "outputs": [],
   "source": [
    "\n"
   ]
  },
  {
   "cell_type": "code",
   "execution_count": 5,
   "id": "e1b88558",
   "metadata": {
    "execution": {
     "iopub.execute_input": "2022-05-17T21:33:24.758381Z",
     "iopub.status.busy": "2022-05-17T21:33:24.758006Z",
     "iopub.status.idle": "2022-05-17T21:33:24.763175Z",
     "shell.execute_reply": "2022-05-17T21:33:24.761900Z"
    },
    "papermill": {
     "duration": 0.044498,
     "end_time": "2022-05-17T21:33:24.765785",
     "exception": false,
     "start_time": "2022-05-17T21:33:24.721287",
     "status": "completed"
    },
    "tags": []
   },
   "outputs": [],
   "source": [
    "\n",
    "from PIL import Image\n",
    "import glob\n"
   ]
  },
  {
   "cell_type": "code",
   "execution_count": null,
   "id": "c6ccbb84",
   "metadata": {
    "papermill": {
     "duration": 0.050198,
     "end_time": "2022-05-17T21:33:24.868284",
     "exception": false,
     "start_time": "2022-05-17T21:33:24.818086",
     "status": "completed"
    },
    "tags": []
   },
   "outputs": [],
   "source": []
  },
  {
   "cell_type": "code",
   "execution_count": null,
   "id": "98e23c28",
   "metadata": {
    "papermill": {
     "duration": 0.049972,
     "end_time": "2022-05-17T21:33:24.968628",
     "exception": false,
     "start_time": "2022-05-17T21:33:24.918656",
     "status": "completed"
    },
    "tags": []
   },
   "outputs": [],
   "source": []
  },
  {
   "cell_type": "code",
   "execution_count": 6,
   "id": "68433394",
   "metadata": {
    "execution": {
     "iopub.execute_input": "2022-05-17T21:33:25.071586Z",
     "iopub.status.busy": "2022-05-17T21:33:25.071290Z",
     "iopub.status.idle": "2022-05-17T21:33:25.076039Z",
     "shell.execute_reply": "2022-05-17T21:33:25.075068Z"
    },
    "papermill": {
     "duration": 0.059618,
     "end_time": "2022-05-17T21:33:25.078612",
     "exception": false,
     "start_time": "2022-05-17T21:33:25.018994",
     "status": "completed"
    },
    "tags": []
   },
   "outputs": [],
   "source": [
    "import os #Operating System\n",
    "import sys #System\n",
    "# train_generator = train_datagen.flow(x_train, y_train, batch_size =)\n",
    "# val_generator = val_datagen.flow(x_val, y_val, batch_size = 64)\n",
    "# test_generator=test_datagen.flow(x_test,y_test,batch_size = 64)\n"
   ]
  },
  {
   "cell_type": "markdown",
   "id": "64538d7b",
   "metadata": {
    "papermill": {
     "duration": 0.049929,
     "end_time": "2022-05-17T21:33:25.179236",
     "exception": false,
     "start_time": "2022-05-17T21:33:25.129307",
     "status": "completed"
    },
    "tags": []
   },
   "source": [
    "#import image"
   ]
  },
  {
   "cell_type": "code",
   "execution_count": 7,
   "id": "6cb565da",
   "metadata": {
    "execution": {
     "iopub.execute_input": "2022-05-17T21:33:25.285406Z",
     "iopub.status.busy": "2022-05-17T21:33:25.285143Z",
     "iopub.status.idle": "2022-05-17T21:33:25.292805Z",
     "shell.execute_reply": "2022-05-17T21:33:25.291530Z"
    },
    "papermill": {
     "duration": 0.065601,
     "end_time": "2022-05-17T21:33:25.295617",
     "exception": false,
     "start_time": "2022-05-17T21:33:25.230016",
     "status": "completed"
    },
    "tags": []
   },
   "outputs": [],
   "source": [
    "import cv2\n",
    "'''\n",
    "def readImage(path, X, Y, label):\n",
    "    j=0\n",
    " \n",
    "    for i in os.listdir(path):\n",
    "        imgname=path+i\n",
    "        #print(imgname)\n",
    "        img = cv2.imread(imgname, cv2.IMREAD_COLOR)\n",
    "        img =cv2.resize(img,(50, 50))\n",
    "        X.append(img)\n",
    "        Y.append(label)\n",
    "        j=j+1\n",
    "        #if j==10:\n",
    "        #    break\n",
    "        \n",
    "    return X, Y\n",
    "    '''\n",
    "def readImage(path, tag):\n",
    "    j=0\n",
    "    image_array = []\n",
    "    for i in os.listdir(path):\n",
    "        imgname=path+i\n",
    "        #print(imgname)\n",
    "        img = cv2.imread(imgname, cv2.IMREAD_COLOR)\n",
    "        img_resized = cv2.resize(img, (img_size,img_size), interpolation=cv2.INTER_LINEAR)\n",
    "        image_array.append([img_resized, tag])\n",
    "        #print(img[1])\n",
    "        j=j+1\n",
    "        #if j==10:\n",
    "        #    break\n",
    "        \n",
    "    return image_array"
   ]
  },
  {
   "cell_type": "code",
   "execution_count": 8,
   "id": "37382905",
   "metadata": {
    "execution": {
     "iopub.execute_input": "2022-05-17T21:33:25.410194Z",
     "iopub.status.busy": "2022-05-17T21:33:25.409234Z",
     "iopub.status.idle": "2022-05-17T21:33:28.264829Z",
     "shell.execute_reply": "2022-05-17T21:33:28.263553Z"
    },
    "papermill": {
     "duration": 2.915494,
     "end_time": "2022-05-17T21:33:28.267232",
     "exception": false,
     "start_time": "2022-05-17T21:33:25.351738",
     "status": "completed"
    },
    "tags": []
   },
   "outputs": [
    {
     "name": "stdout",
     "output_type": "stream",
     "text": [
      "(5000, 2)\n",
      "(10000, 2)\n",
      "(10000, 224, 224, 3)\n"
     ]
    }
   ],
   "source": [
    "import numpy as np\n",
    "\n",
    "\n",
    "class0_array = readImage(class0path, 0)\n",
    "class1_array = readImage(class1path, 1)\n",
    "class0_array=np.array(class0_array)\n",
    "class1_array=np.array(class1_array)\n",
    "combined_data = np.concatenate((class0_array, class1_array))\n",
    "random.seed(41)\n",
    "random.shuffle(combined_data)\n",
    "print(class0_array.shape)\n",
    "print(combined_data.shape)\n",
    "\n",
    "X = []\n",
    "y = []\n",
    "\n",
    "for features,label in combined_data:\n",
    "    X.append(features)\n",
    "    y.append(label)\n",
    "#print(X.shape)\n",
    "#pring(y.shape)\n",
    "\n",
    "# reshape X data\n",
    "X = np.array(X).reshape(training_reshape)\n",
    "print(X.shape)"
   ]
  },
  {
   "cell_type": "code",
   "execution_count": 9,
   "id": "409bcb8a",
   "metadata": {
    "execution": {
     "iopub.execute_input": "2022-05-17T21:33:28.372539Z",
     "iopub.status.busy": "2022-05-17T21:33:28.371807Z",
     "iopub.status.idle": "2022-05-17T21:33:28.747231Z",
     "shell.execute_reply": "2022-05-17T21:33:28.745652Z"
    },
    "papermill": {
     "duration": 0.431115,
     "end_time": "2022-05-17T21:33:28.749854",
     "exception": false,
     "start_time": "2022-05-17T21:33:28.318739",
     "status": "completed"
    },
    "tags": []
   },
   "outputs": [
    {
     "name": "stdout",
     "output_type": "stream",
     "text": [
      "(7000, 224, 224, 3) (900, 224, 224, 3) (2100, 224, 224, 3) (7000, 2) (900, 2) (2100, 2)\n"
     ]
    }
   ],
   "source": [
    "X_train, X_test1, y_train, y_test1 = train_test_split(X, y, test_size=0.3, random_state=42)\n",
    "X_val, X_test, y_val, y_test = train_test_split(X_test1, y_test1, test_size=0.3, random_state=42)\n",
    "y_train = to_categorical(y_train)\n",
    "y_test = to_categorical(y_test)\n",
    "y_val = to_categorical(y_val)\n",
    "print(X_train.shape, X_test.shape, X_val.shape, y_train.shape, y_test.shape, y_val.shape)"
   ]
  },
  {
   "cell_type": "code",
   "execution_count": 10,
   "id": "0f2629e6",
   "metadata": {
    "execution": {
     "iopub.execute_input": "2022-05-17T21:33:28.855685Z",
     "iopub.status.busy": "2022-05-17T21:33:28.855190Z",
     "iopub.status.idle": "2022-05-17T21:33:28.861445Z",
     "shell.execute_reply": "2022-05-17T21:33:28.860538Z"
    },
    "papermill": {
     "duration": 0.065231,
     "end_time": "2022-05-17T21:33:28.867373",
     "exception": false,
     "start_time": "2022-05-17T21:33:28.802142",
     "status": "completed"
    },
    "tags": []
   },
   "outputs": [],
   "source": [
    "#Callbacks\n",
    "c2=tf.keras.callbacks.EarlyStopping(\n",
    "    monitor=\"val_loss\",\n",
    "    min_delta=0,\n",
    "    patience=6,\n",
    "    mode=\"auto\",\n",
    "    baseline=None,\n",
    "    restore_best_weights=True,\n",
    ")\n",
    "\n",
    "c3=tf.keras.callbacks.ReduceLROnPlateau(\n",
    "    monitor=\"val_loss\",\n",
    "    factor=0.1,\n",
    "    patience=6,\n",
    "    mode=\"auto\",\n",
    "    min_delta=0.0001,\n",
    "    cooldown=0,\n",
    "    min_lr=0.001\n",
    ")\n",
    "nClasses=2"
   ]
  },
  {
   "cell_type": "markdown",
   "id": "d61e2d63",
   "metadata": {
    "papermill": {
     "duration": 0.05128,
     "end_time": "2022-05-17T21:33:28.970581",
     "exception": false,
     "start_time": "2022-05-17T21:33:28.919301",
     "status": "completed"
    },
    "tags": []
   },
   "source": [
    "# Model configure"
   ]
  },
  {
   "cell_type": "code",
   "execution_count": 11,
   "id": "a876f8a6",
   "metadata": {
    "execution": {
     "iopub.execute_input": "2022-05-17T21:33:29.076520Z",
     "iopub.status.busy": "2022-05-17T21:33:29.075484Z",
     "iopub.status.idle": "2022-05-17T21:33:37.060753Z",
     "shell.execute_reply": "2022-05-17T21:33:37.059189Z"
    },
    "papermill": {
     "duration": 8.041774,
     "end_time": "2022-05-17T21:33:37.063907",
     "exception": false,
     "start_time": "2022-05-17T21:33:29.022133",
     "status": "completed"
    },
    "tags": []
   },
   "outputs": [
    {
     "name": "stderr",
     "output_type": "stream",
     "text": [
      "2022-05-17 21:33:29.141680: I tensorflow/core/common_runtime/process_util.cc:146] Creating new thread pool with default inter op setting: 2. Tune using inter_op_parallelism_threads for best performance.\n"
     ]
    },
    {
     "name": "stdout",
     "output_type": "stream",
     "text": [
      "Downloading data from https://storage.googleapis.com/tensorflow/keras-applications/resnet/resnet101_weights_tf_dim_ordering_tf_kernels_notop.h5\n",
      "171450368/171446536 [==============================] - 3s 0us/step\n",
      "171458560/171446536 [==============================] - 3s 0us/step\n",
      "Model: \"sequential\"\n",
      "_________________________________________________________________\n",
      "Layer (type)                 Output Shape              Param #   \n",
      "=================================================================\n",
      "resnet101 (Functional)       (None, 2048)              42658176  \n",
      "_________________________________________________________________\n",
      "flatten (Flatten)            (None, 2048)              0         \n",
      "_________________________________________________________________\n",
      "batch_normalization (BatchNo (None, 2048)              8192      \n",
      "_________________________________________________________________\n",
      "dense (Dense)                (None, 4096)              8392704   \n",
      "_________________________________________________________________\n",
      "batch_normalization_1 (Batch (None, 4096)              16384     \n",
      "_________________________________________________________________\n",
      "activation (Activation)      (None, 4096)              0         \n",
      "_________________________________________________________________\n",
      "dropout (Dropout)            (None, 4096)              0         \n",
      "_________________________________________________________________\n",
      "dense_1 (Dense)              (None, 2096)              8587312   \n",
      "_________________________________________________________________\n",
      "dense_2 (Dense)              (None, 2)                 4194      \n",
      "=================================================================\n",
      "Total params: 59,666,962\n",
      "Trainable params: 16,996,498\n",
      "Non-trainable params: 42,670,464\n",
      "_________________________________________________________________\n"
     ]
    }
   ],
   "source": [
    "RESNET50_POOLING_AVERAGE = 'avg'\n",
    "DENSE_LAYER_ACTIVATION = 'sigmoid'\n",
    "OBJECTIVE_FUNCTION = 'categorical_crossentropy'\n",
    "\n",
    "# Common accuracy metric for all outputs, but can use different metrics for different output\n",
    "LOSS_METRICS = ['accuracy']\n",
    "\n",
    "# EARLY_STOP_PATIENCE must be < NUM_EPOCHS\n",
    "NUM_EPOCHS = 30\n",
    "EARLY_STOP_PATIENCE = 3\n",
    "#resnet_weights_path = '../input/resnet50/resnet50_weights_tf_dim_ordering_tf_kernels_notop.h5'\n",
    "\n",
    "from keras.applications import resnet\n",
    "base_model=resnet.ResNet101(include_top = False, pooling = RESNET50_POOLING_AVERAGE, weights = 'imagenet')\n",
    "base_model.trainable = False\n",
    "model=Sequential()\n",
    "model.add(base_model)\n",
    "model.add(Flatten())\n",
    "model.add(BatchNormalization())\n",
    "model.add(Dense(4096,kernel_initializer='he_uniform'))\n",
    "model.add(BatchNormalization())\n",
    "model.add(Activation('relu'))\n",
    "model.add(Dropout(0.5))\n",
    "model.add(Dense(2096,activation=\"relu\"))\n",
    "model.add(Dense(2, activation='sigmoid'))\n",
    "#model = Model(inputs=resnet50_base_model.input, outputs=predictions)\n",
    "model.summary()\n"
   ]
  },
  {
   "cell_type": "code",
   "execution_count": 12,
   "id": "cc307ba0",
   "metadata": {
    "execution": {
     "iopub.execute_input": "2022-05-17T21:33:37.151220Z",
     "iopub.status.busy": "2022-05-17T21:33:37.150979Z",
     "iopub.status.idle": "2022-05-17T21:33:38.576393Z",
     "shell.execute_reply": "2022-05-17T21:33:38.575314Z"
    },
    "papermill": {
     "duration": 1.470608,
     "end_time": "2022-05-17T21:33:38.577997",
     "exception": false,
     "start_time": "2022-05-17T21:33:37.107389",
     "status": "completed"
    },
    "tags": []
   },
   "outputs": [
    {
     "data": {
      "image/png": "[encoded data removed]",
      "text/plain": [
       "<IPython.core.display.Image object>"
      ]
     },
     "execution_count": 12,
     "metadata": {},
     "output_type": "execute_result"
    }
   ],
   "source": [
    "from tensorflow.keras.utils import plot_model\n",
    "from IPython.display import Image\n",
    "plot_model(model, to_file='convnet.png', show_shapes=True,show_layer_names=True)\n",
    "Image(filename='convnet.png') "
   ]
  },
  {
   "cell_type": "code",
   "execution_count": 13,
   "id": "6ad14090",
   "metadata": {
    "execution": {
     "iopub.execute_input": "2022-05-17T21:33:38.669554Z",
     "iopub.status.busy": "2022-05-17T21:33:38.668435Z",
     "iopub.status.idle": "2022-05-17T21:33:38.695695Z",
     "shell.execute_reply": "2022-05-17T21:33:38.695088Z"
    },
    "papermill": {
     "duration": 0.074903,
     "end_time": "2022-05-17T21:33:38.697590",
     "exception": false,
     "start_time": "2022-05-17T21:33:38.622687",
     "status": "completed"
    },
    "tags": []
   },
   "outputs": [],
   "source": [
    "callbacks1 = [EarlyStopping(monitor='val_loss', patience=5, verbose=1), ModelCheckpoint('model.hdf5', save_best_only=True)]\n",
    "opt = Adam(learning_rate=0.001)\n",
    "model.compile(loss='categorical_crossentropy', optimizer=opt, metrics=['accuracy'])"
   ]
  },
  {
   "cell_type": "code",
   "execution_count": 14,
   "id": "2f6bfabc",
   "metadata": {
    "execution": {
     "iopub.execute_input": "2022-05-17T21:33:38.786940Z",
     "iopub.status.busy": "2022-05-17T21:33:38.786554Z",
     "iopub.status.idle": "2022-05-17T23:32:39.553941Z",
     "shell.execute_reply": "2022-05-17T23:32:39.552679Z"
    },
    "papermill": {
     "duration": 7141.800882,
     "end_time": "2022-05-17T23:32:40.541851",
     "exception": false,
     "start_time": "2022-05-17T21:33:38.740969",
     "status": "completed"
    },
    "tags": []
   },
   "outputs": [
    {
     "name": "stdout",
     "output_type": "stream",
     "text": [
      "CPU times: user 1 µs, sys: 1 µs, total: 2 µs\n",
      "Wall time: 5.96 µs\n"
     ]
    },
    {
     "name": "stderr",
     "output_type": "stream",
     "text": [
      "2022-05-17 21:33:39.427324: I tensorflow/compiler/mlir/mlir_graph_optimization_pass.cc:185] None of the MLIR Optimization Passes are enabled (registered 2)\n"
     ]
    },
    {
     "name": "stdout",
     "output_type": "stream",
     "text": [
      "Epoch 1/10\n",
      "219/219 [==============================] - 891s 4s/step - loss: 0.5160 - accuracy: 0.8706 - val_loss: 0.2940 - val_accuracy: 0.8878\n",
      "Epoch 2/10\n",
      "219/219 [==============================] - 887s 4s/step - loss: 0.2296 - accuracy: 0.9104 - val_loss: 0.2620 - val_accuracy: 0.9000\n",
      "Epoch 3/10\n",
      "219/219 [==============================] - 894s 4s/step - loss: 0.1907 - accuracy: 0.9244 - val_loss: 0.2421 - val_accuracy: 0.9067\n",
      "Epoch 4/10\n",
      "219/219 [==============================] - 891s 4s/step - loss: 0.1589 - accuracy: 0.9389 - val_loss: 0.3167 - val_accuracy: 0.8978\n",
      "Epoch 5/10\n",
      "219/219 [==============================] - 897s 4s/step - loss: 0.1465 - accuracy: 0.9437 - val_loss: 0.2492 - val_accuracy: 0.9144\n",
      "Epoch 6/10\n",
      "219/219 [==============================] - 887s 4s/step - loss: 0.1297 - accuracy: 0.9504 - val_loss: 0.2735 - val_accuracy: 0.9022\n",
      "Epoch 7/10\n",
      "219/219 [==============================] - 895s 4s/step - loss: 0.1124 - accuracy: 0.9586 - val_loss: 0.2509 - val_accuracy: 0.9078\n",
      "Epoch 8/10\n",
      "219/219 [==============================] - 894s 4s/step - loss: 0.0939 - accuracy: 0.9633 - val_loss: 0.3299 - val_accuracy: 0.9156\n",
      "Epoch 00008: early stopping\n"
     ]
    }
   ],
   "source": [
    "%time\n",
    "history1=model.fit(X_train, y_train,validation_data=(X_test, y_test),verbose = 1,epochs = epoch_4_test,callbacks=callbacks1)"
   ]
  },
  {
   "cell_type": "code",
   "execution_count": 15,
   "id": "3a9f8fe3",
   "metadata": {
    "execution": {
     "iopub.execute_input": "2022-05-17T23:32:41.937816Z",
     "iopub.status.busy": "2022-05-17T23:32:41.936041Z",
     "iopub.status.idle": "2022-05-17T23:32:41.945966Z",
     "shell.execute_reply": "2022-05-17T23:32:41.944846Z"
    },
    "papermill": {
     "duration": 0.600514,
     "end_time": "2022-05-17T23:32:41.948097",
     "exception": false,
     "start_time": "2022-05-17T23:32:41.347583",
     "status": "completed"
    },
    "tags": []
   },
   "outputs": [],
   "source": [
    "def f1_score(y_true, y_pred): #taken from old keras source code\n",
    "    true_positives = K.sum(K.round(K.clip(y_true * y_pred, 0, 1)))\n",
    "    possible_positives = K.sum(K.round(K.clip(y_true, 0, 1)))\n",
    "    predicted_positives = K.sum(K.round(K.clip(y_pred, 0, 1)))\n",
    "    precision = true_positives / (predicted_positives + K.epsilon())\n",
    "    recall = true_positives / (possible_positives + K.epsilon())\n",
    "    f1_val = 2*(precision*recall)/(precision+recall+K.epsilon())\n",
    "    return f1_val"
   ]
  },
  {
   "cell_type": "code",
   "execution_count": 16,
   "id": "dadb24fa",
   "metadata": {
    "execution": {
     "iopub.execute_input": "2022-05-17T23:32:43.120835Z",
     "iopub.status.busy": "2022-05-17T23:32:43.119474Z",
     "iopub.status.idle": "2022-05-17T23:33:09.765516Z",
     "shell.execute_reply": "2022-05-17T23:33:09.764249Z"
    },
    "papermill": {
     "duration": 27.221051,
     "end_time": "2022-05-17T23:33:09.768101",
     "exception": false,
     "start_time": "2022-05-17T23:32:42.547050",
     "status": "completed"
    },
    "tags": []
   },
   "outputs": [],
   "source": [
    "METRICS = [\n",
    "      tf.keras.metrics.BinaryAccuracy(name='accuracy'),\n",
    "      tf.keras.metrics.Precision(name='precision'),\n",
    "      tf.keras.metrics.Recall(name='recall'),  \n",
    "      tf.keras.metrics.AUC(name='auc'),\n",
    "        f1_score,\n",
    "]"
   ]
  },
  {
   "cell_type": "code",
   "execution_count": null,
   "id": "17837fca",
   "metadata": {
    "execution": {
     "iopub.execute_input": "2022-05-06T15:08:04.489795Z",
     "iopub.status.busy": "2022-05-06T15:08:04.488846Z",
     "iopub.status.idle": "2022-05-06T15:08:04.918152Z",
     "shell.execute_reply": "2022-05-06T15:08:04.917046Z",
     "shell.execute_reply.started": "2022-05-06T15:08:04.489742Z"
    },
    "papermill": {
     "duration": 0.575514,
     "end_time": "2022-05-17T23:33:10.918528",
     "exception": false,
     "start_time": "2022-05-17T23:33:10.343014",
     "status": "completed"
    },
    "tags": []
   },
   "outputs": [],
   "source": []
  },
  {
   "cell_type": "code",
   "execution_count": 17,
   "id": "d147ed12",
   "metadata": {
    "execution": {
     "iopub.execute_input": "2022-05-17T23:33:12.152612Z",
     "iopub.status.busy": "2022-05-17T23:33:12.152235Z",
     "iopub.status.idle": "2022-05-17T23:37:04.995748Z",
     "shell.execute_reply": "2022-05-17T23:37:04.994443Z"
    },
    "papermill": {
     "duration": 234.393528,
     "end_time": "2022-05-17T23:37:05.882764",
     "exception": false,
     "start_time": "2022-05-17T23:33:11.489236",
     "status": "completed"
    },
    "tags": []
   },
   "outputs": [
    {
     "data": {
      "image/png": "[encoded data removed]",
      "text/plain": [
       "<Figure size 576x576 with 2 Axes>"
      ]
     },
     "metadata": {
      "needs_background": "light"
     },
     "output_type": "display_data"
    }
   ],
   "source": [
    "from sklearn.metrics import confusion_matrix\n",
    "import seaborn as sns\n",
    "\n",
    "Y_pred = model.predict(X_val)\n",
    "Y_pred_classes = np.argmax(Y_pred,axis = 1) \n",
    "Y_true = np.argmax(y_val,axis = 1) \n",
    "\n",
    "confusion_mtx = confusion_matrix(Y_true, Y_pred_classes) \n",
    "\n",
    "f,ax = plt.subplots(figsize=(8, 8))\n",
    "sns.heatmap(confusion_mtx, annot=True, linewidths=0.01,cmap=\"OrRd\",linecolor=\"black\", fmt= '.1f',ax=ax)\n",
    "plt.xlabel(\"Predicted Label\")\n",
    "plt.ylabel(\"True Label\")\n",
    "plt.title(\"Confusion Matrix\")\n",
    "plt.show()"
   ]
  },
  {
   "cell_type": "code",
   "execution_count": 18,
   "id": "213df027",
   "metadata": {
    "execution": {
     "iopub.execute_input": "2022-05-17T23:37:07.677164Z",
     "iopub.status.busy": "2022-05-17T23:37:07.676887Z",
     "iopub.status.idle": "2022-05-17T23:37:07.689516Z",
     "shell.execute_reply": "2022-05-17T23:37:07.688333Z"
    },
    "papermill": {
     "duration": 0.906815,
     "end_time": "2022-05-17T23:37:07.691997",
     "exception": false,
     "start_time": "2022-05-17T23:37:06.785182",
     "status": "completed"
    },
    "tags": []
   },
   "outputs": [
    {
     "name": "stdout",
     "output_type": "stream",
     "text": [
      "              precision    recall  f1-score   support\n",
      "\n",
      "           0       0.96      0.96      0.96      1806\n",
      "           1       0.74      0.72      0.73       294\n",
      "\n",
      "    accuracy                           0.93      2100\n",
      "   macro avg       0.85      0.84      0.85      2100\n",
      "weighted avg       0.93      0.93      0.93      2100\n",
      "\n"
     ]
    }
   ],
   "source": [
    "from sklearn.metrics import classification_report\n",
    "\n",
    "print(classification_report(Y_true, Y_pred_classes))"
   ]
  },
  {
   "cell_type": "markdown",
   "id": "f79506b6",
   "metadata": {
    "papermill": {
     "duration": 0.889727,
     "end_time": "2022-05-17T23:37:09.466579",
     "exception": false,
     "start_time": "2022-05-17T23:37:08.576852",
     "status": "completed"
    },
    "tags": []
   },
   "source": []
  },
  {
   "cell_type": "code",
   "execution_count": null,
   "id": "890a606b",
   "metadata": {
    "execution": {
     "iopub.execute_input": "2022-05-06T15:08:41.911737Z",
     "iopub.status.busy": "2022-05-06T15:08:41.911171Z",
     "iopub.status.idle": "2022-05-06T15:08:41.922881Z",
     "shell.execute_reply": "2022-05-06T15:08:41.922041Z",
     "shell.execute_reply.started": "2022-05-06T15:08:41.911677Z"
    },
    "papermill": {
     "duration": 0.879531,
     "end_time": "2022-05-17T23:37:11.226083",
     "exception": false,
     "start_time": "2022-05-17T23:37:10.346552",
     "status": "completed"
    },
    "tags": []
   },
   "outputs": [],
   "source": []
  },
  {
   "cell_type": "code",
   "execution_count": 19,
   "id": "139add14",
   "metadata": {
    "execution": {
     "iopub.execute_input": "2022-05-17T23:37:13.001757Z",
     "iopub.status.busy": "2022-05-17T23:37:13.001316Z",
     "iopub.status.idle": "2022-05-17T23:37:13.012153Z",
     "shell.execute_reply": "2022-05-17T23:37:13.011625Z"
    },
    "papermill": {
     "duration": 0.898749,
     "end_time": "2022-05-17T23:37:13.014605",
     "exception": false,
     "start_time": "2022-05-17T23:37:12.115856",
     "status": "completed"
    },
    "tags": []
   },
   "outputs": [],
   "source": [
    "from sklearn.metrics import f1_score, roc_auc_score, cohen_kappa_score, precision_score, recall_score, accuracy_score, confusion_matrix\n",
    "def get_accuracy_metrics(model, X_train, y_train, X_val, y_val, X_test, y_test):\n",
    "    y_train=np.argmax(y_train, axis=1)\n",
    "    y_test=np.argmax(y_test, axis=1)\n",
    "    y_val=np.argmax(y_val, axis=1)\n",
    "    y_train_pred=np.argmax(model.predict(X_train),axis=1)\n",
    "    y_test_pred=np.argmax(model.predict(X_test),axis=1)\n",
    "    y_val_pred=np.argmax(model.predict(X_val),axis=1)\n",
    "    #ps:all the Y value must turn back to 1 dimension array. otherwise, the scoring functions in sklearn cannot compare, and will give an error\n",
    "    #classification metrics can't handle a mix of continuous-multioutput and multi-label-indicator targets\n",
    "    \n",
    "    print(\"Train accuracy Score------------>\")\n",
    "    print (\"{0:.3f}\".format(accuracy_score(y_train, y_train_pred)*100), \"%\")\n",
    "    \n",
    "    print(\"Val accuracy Score--------->\")\n",
    "    \n",
    "    print(\"{0:.3f}\".format(accuracy_score(y_val, y_val_pred)*100), \"%\")\n",
    "    \n",
    "  \n",
    "    print(\"Test accuracy Score--------->\")\n",
    "    print(\"{0:.3f}\".format(accuracy_score(y_test, y_test_pred)*100), \"%\")\n",
    "    \n",
    "    print(\"F1 Score--------------->\")\n",
    "    print(\"{0:.3f}\".format(f1_score(y_test, y_test_pred, average = 'weighted')*100), \"%\")\n",
    "    \n",
    "    print(\"Cohen Kappa Score------------->\")\n",
    "    print(\"{0:.3f}\".format(cohen_kappa_score(y_test, y_test_pred)*100), \"%\")\n",
    "    \n",
    "    print(\"Recall-------------->\")\n",
    "    print(\"{0:.3f}\".format(recall_score(y_test, y_test_pred, average = 'weighted')*100), \"%\")\n",
    "    \n",
    "    print(\"Precision-------------->\")\n",
    "    print(\"{0:.3f}\".format(precision_score(y_test, y_test_pred, average = 'weighted')*100), \"%\")\n",
    "    \n",
    "    cf_matrix_test = confusion_matrix(y_test, y_test_pred)\n",
    "    cf_matrix_val = confusion_matrix(y_val, y_val_pred)\n",
    "    \n",
    "    plt.figure(figsize = (12, 6))\n",
    "    plt.subplot(121)\n",
    "    sns.heatmap(cf_matrix_val, annot=True, cmap='Blues')\n",
    "    plt.title(\"Val Confusion matrix\")\n",
    "    \n",
    "    plt.subplot(122)\n",
    "    sns.heatmap(cf_matrix_test, annot=True, cmap='Blues')\n",
    "    plt.title(\"Test Confusion matrix\")\n",
    "    \n",
    "    plt.show()"
   ]
  },
  {
   "cell_type": "code",
   "execution_count": null,
   "id": "cfd53967",
   "metadata": {
    "papermill": {
     "duration": 0.877098,
     "end_time": "2022-05-17T23:37:14.778379",
     "exception": false,
     "start_time": "2022-05-17T23:37:13.901281",
     "status": "completed"
    },
    "tags": []
   },
   "outputs": [],
   "source": []
  },
  {
   "cell_type": "code",
   "execution_count": 20,
   "id": "4efb0418",
   "metadata": {
    "execution": {
     "iopub.execute_input": "2022-05-17T23:37:16.544029Z",
     "iopub.status.busy": "2022-05-17T23:37:16.543455Z",
     "iopub.status.idle": "2022-05-17T23:55:37.205320Z",
     "shell.execute_reply": "2022-05-17T23:55:37.204261Z"
    },
    "papermill": {
     "duration": 1102.311271,
     "end_time": "2022-05-17T23:55:37.966596",
     "exception": false,
     "start_time": "2022-05-17T23:37:15.655325",
     "status": "completed"
    },
    "tags": []
   },
   "outputs": [
    {
     "name": "stdout",
     "output_type": "stream",
     "text": [
      "Train accuracy Score------------>\n",
      "97.600 %\n",
      "Val accuracy Score--------->\n",
      "92.667 %\n",
      "Test accuracy Score--------->\n",
      "91.556 %\n",
      "F1 Score--------------->\n",
      "91.418 %\n",
      "Cohen Kappa Score------------->\n",
      "69.281 %\n",
      "Recall-------------->\n",
      "91.556 %\n",
      "Precision-------------->\n",
      "91.332 %\n"
     ]
    },
    {
     "data": {
      "image/png": "[encoded data removed]",
      "text/plain": [
       "<Figure size 864x432 with 4 Axes>"
      ]
     },
     "metadata": {
      "needs_background": "light"
     },
     "output_type": "display_data"
    }
   ],
   "source": [
    "get_accuracy_metrics(model,  X_train, y_train, X_val, y_val, X_test, y_test)"
   ]
  },
  {
   "cell_type": "code",
   "execution_count": 21,
   "id": "94694ef1",
   "metadata": {
    "execution": {
     "iopub.execute_input": "2022-05-17T23:55:39.777954Z",
     "iopub.status.busy": "2022-05-17T23:55:39.777506Z",
     "iopub.status.idle": "2022-05-17T23:55:40.455575Z",
     "shell.execute_reply": "2022-05-17T23:55:40.454809Z"
    },
    "papermill": {
     "duration": 1.571006,
     "end_time": "2022-05-17T23:55:40.457800",
     "exception": false,
     "start_time": "2022-05-17T23:55:38.886794",
     "status": "completed"
    },
    "tags": []
   },
   "outputs": [
    {
     "data": {
      "image/png": "[encoded data removed]",
      "text/plain": [
       "<Figure size 864x432 with 2 Axes>"
      ]
     },
     "metadata": {
      "needs_background": "light"
     },
     "output_type": "display_data"
    }
   ],
   "source": [
    "import matplotlib.pyplot as plt\n",
    "import seaborn as sns\n",
    "plt.figure(figsize = (12, 6))\n",
    "plt.subplot(121)\n",
    "#plotting the Accuracy of test and training sets\n",
    "plt.plot(history1.history['accuracy'])\n",
    "plt.plot(history1.history['val_accuracy'])\n",
    "plt.title('1st training Model Accuracy')\n",
    "plt.ylabel('accuracy')\n",
    "plt.xlabel('epoch')\n",
    "plt.legend(['train', 'test'], loc='upper left')\n",
    "\n",
    "plt.subplot(122)\n",
    "#plotting the loss of test and training sets\n",
    "plt.plot(history1.history['loss'])\n",
    "plt.plot(history1.history['val_loss'])\n",
    "plt.title('1st training Model Loss')\n",
    "plt.ylabel('loss')\n",
    "plt.xlabel('epoch')\n",
    "plt.legend(['train', 'test'], loc='upper left')\n",
    "plt.show()"
   ]
  },
  {
   "cell_type": "markdown",
   "id": "333bb935",
   "metadata": {
    "papermill": {
     "duration": 0.881214,
     "end_time": "2022-05-17T23:55:42.234057",
     "exception": false,
     "start_time": "2022-05-17T23:55:41.352843",
     "status": "completed"
    },
    "tags": []
   },
   "source": [
    "# Second Training Fine Tune"
   ]
  },
  {
   "cell_type": "code",
   "execution_count": 22,
   "id": "20799baf",
   "metadata": {
    "execution": {
     "iopub.execute_input": "2022-05-17T23:55:44.004500Z",
     "iopub.status.busy": "2022-05-17T23:55:44.004210Z",
     "iopub.status.idle": "2022-05-17T23:55:44.020699Z",
     "shell.execute_reply": "2022-05-17T23:55:44.019117Z"
    },
    "papermill": {
     "duration": 0.910728,
     "end_time": "2022-05-17T23:55:44.022869",
     "exception": false,
     "start_time": "2022-05-17T23:55:43.112141",
     "status": "completed"
    },
    "tags": []
   },
   "outputs": [],
   "source": [
    "for model1 in model.layers:\n",
    "    model1.trainable = True"
   ]
  },
  {
   "cell_type": "code",
   "execution_count": 23,
   "id": "fa4c19d5",
   "metadata": {
    "execution": {
     "iopub.execute_input": "2022-05-17T23:55:45.929666Z",
     "iopub.status.busy": "2022-05-17T23:55:45.928863Z",
     "iopub.status.idle": "2022-05-17T23:55:45.934330Z",
     "shell.execute_reply": "2022-05-17T23:55:45.933501Z"
    },
    "papermill": {
     "duration": 0.902178,
     "end_time": "2022-05-17T23:55:45.936267",
     "exception": false,
     "start_time": "2022-05-17T23:55:45.034089",
     "status": "completed"
    },
    "tags": []
   },
   "outputs": [],
   "source": [
    "callbacks2 = [EarlyStopping(monitor='val_loss', patience=5, verbose=1), ModelCheckpoint('test_model.hdf5', save_best_only=True)]\n",
    "opt = Adam(learning_rate=0.001)\n",
    "#model.compile(loss='categorical_crossentropy', optimizer=opt, metrics=['accuracy'])"
   ]
  },
  {
   "cell_type": "code",
   "execution_count": 24,
   "id": "0428a2fd",
   "metadata": {
    "execution": {
     "iopub.execute_input": "2022-05-17T23:55:47.717652Z",
     "iopub.status.busy": "2022-05-17T23:55:47.717368Z",
     "iopub.status.idle": "2022-05-18T02:24:14.783410Z",
     "shell.execute_reply": "2022-05-18T02:24:14.782441Z"
    },
    "papermill": {
     "duration": 8909.956887,
     "end_time": "2022-05-18T02:24:16.790995",
     "exception": false,
     "start_time": "2022-05-17T23:55:46.834108",
     "status": "completed"
    },
    "tags": []
   },
   "outputs": [
    {
     "name": "stdout",
     "output_type": "stream",
     "text": [
      "Epoch 1/10\n",
      "219/219 [==============================] - 881s 4s/step - loss: 0.0903 - accuracy: 0.9656 - val_loss: 0.3448 - val_accuracy: 0.9044\n",
      "Epoch 2/10\n",
      "219/219 [==============================] - 880s 4s/step - loss: 0.0800 - accuracy: 0.9686 - val_loss: 0.3856 - val_accuracy: 0.8911\n",
      "Epoch 3/10\n",
      "219/219 [==============================] - 890s 4s/step - loss: 0.0774 - accuracy: 0.9696 - val_loss: 0.3745 - val_accuracy: 0.9111\n",
      "Epoch 4/10\n",
      "219/219 [==============================] - 899s 4s/step - loss: 0.0728 - accuracy: 0.9733 - val_loss: 0.3366 - val_accuracy: 0.9089\n",
      "Epoch 5/10\n",
      "219/219 [==============================] - 892s 4s/step - loss: 0.0650 - accuracy: 0.9757 - val_loss: 0.4499 - val_accuracy: 0.9022\n",
      "Epoch 6/10\n",
      "219/219 [==============================] - 890s 4s/step - loss: 0.0668 - accuracy: 0.9757 - val_loss: 0.3086 - val_accuracy: 0.9122\n",
      "Epoch 7/10\n",
      "219/219 [==============================] - 899s 4s/step - loss: 0.0538 - accuracy: 0.9813 - val_loss: 0.3809 - val_accuracy: 0.9189\n",
      "Epoch 8/10\n",
      "219/219 [==============================] - 891s 4s/step - loss: 0.0498 - accuracy: 0.9829 - val_loss: 0.3650 - val_accuracy: 0.9156\n",
      "Epoch 9/10\n",
      "219/219 [==============================] - 893s 4s/step - loss: 0.0501 - accuracy: 0.9816 - val_loss: 0.3735 - val_accuracy: 0.9178\n",
      "Epoch 10/10\n",
      "219/219 [==============================] - 890s 4s/step - loss: 0.0421 - accuracy: 0.9853 - val_loss: 0.4477 - val_accuracy: 0.9167\n"
     ]
    }
   ],
   "source": [
    "history2=model.fit(X_train, y_train,validation_data=(X_test, y_test),verbose = 1,epochs = epoch_4_test,callbacks=callbacks2)"
   ]
  },
  {
   "cell_type": "code",
   "execution_count": 25,
   "id": "eb55d797",
   "metadata": {
    "execution": {
     "iopub.execute_input": "2022-05-18T02:24:20.643929Z",
     "iopub.status.busy": "2022-05-18T02:24:20.643392Z",
     "iopub.status.idle": "2022-05-18T02:28:10.012311Z",
     "shell.execute_reply": "2022-05-18T02:28:10.011510Z"
    },
    "papermill": {
     "duration": 233.211593,
     "end_time": "2022-05-18T02:28:11.938288",
     "exception": false,
     "start_time": "2022-05-18T02:24:18.726695",
     "status": "completed"
    },
    "tags": []
   },
   "outputs": [
    {
     "data": {
      "image/png": "[encoded data removed]",
      "text/plain": [
       "<Figure size 576x576 with 2 Axes>"
      ]
     },
     "metadata": {
      "needs_background": "light"
     },
     "output_type": "display_data"
    }
   ],
   "source": [
    "Y_pred = model.predict(X_val)\n",
    "Y_pred_classes = np.argmax(Y_pred,axis = 1) \n",
    "Y_true = np.argmax(y_val,axis = 1) \n",
    "\n",
    "confusion_mtx = confusion_matrix(Y_true, Y_pred_classes) \n",
    "\n",
    "f,ax = plt.subplots(figsize=(8, 8))\n",
    "sns.heatmap(confusion_mtx, annot=True, linewidths=0.01,cmap=\"OrRd\",linecolor=\"black\", fmt= '.1f',ax=ax)\n",
    "plt.xlabel(\"Predicted Label\")\n",
    "plt.ylabel(\"True Label\")\n",
    "plt.title(\"Confusion Matrix\")\n",
    "plt.show()"
   ]
  },
  {
   "cell_type": "code",
   "execution_count": 26,
   "id": "3d9ff817",
   "metadata": {
    "execution": {
     "iopub.execute_input": "2022-05-18T02:28:15.789873Z",
     "iopub.status.busy": "2022-05-18T02:28:15.789577Z",
     "iopub.status.idle": "2022-05-18T02:28:15.800000Z",
     "shell.execute_reply": "2022-05-18T02:28:15.799216Z"
    },
    "papermill": {
     "duration": 1.936819,
     "end_time": "2022-05-18T02:28:15.802634",
     "exception": false,
     "start_time": "2022-05-18T02:28:13.865815",
     "status": "completed"
    },
    "tags": []
   },
   "outputs": [
    {
     "name": "stdout",
     "output_type": "stream",
     "text": [
      "              precision    recall  f1-score   support\n",
      "\n",
      "           0       0.95      0.97      0.96      1806\n",
      "           1       0.80      0.70      0.75       294\n",
      "\n",
      "    accuracy                           0.93      2100\n",
      "   macro avg       0.88      0.83      0.85      2100\n",
      "weighted avg       0.93      0.93      0.93      2100\n",
      "\n"
     ]
    }
   ],
   "source": [
    "print(classification_report(Y_true, Y_pred_classes))"
   ]
  },
  {
   "cell_type": "code",
   "execution_count": 27,
   "id": "2ebf8941",
   "metadata": {
    "execution": {
     "iopub.execute_input": "2022-05-18T02:28:18.502853Z",
     "iopub.status.busy": "2022-05-18T02:28:18.502578Z",
     "iopub.status.idle": "2022-05-18T02:46:34.268600Z",
     "shell.execute_reply": "2022-05-18T02:46:34.267548Z"
    },
    "papermill": {
     "duration": 1098.757692,
     "end_time": "2022-05-18T02:46:36.011640",
     "exception": false,
     "start_time": "2022-05-18T02:28:17.253948",
     "status": "completed"
    },
    "tags": []
   },
   "outputs": [
    {
     "name": "stdout",
     "output_type": "stream",
     "text": [
      "Train accuracy Score------------>\n",
      "99.229 %\n",
      "Val accuracy Score--------->\n",
      "93.333 %\n",
      "Test accuracy Score--------->\n",
      "91.667 %\n",
      "F1 Score--------------->\n",
      "91.367 %\n",
      "Cohen Kappa Score------------->\n",
      "68.600 %\n",
      "Recall-------------->\n",
      "91.667 %\n",
      "Precision-------------->\n",
      "91.308 %\n"
     ]
    },
    {
     "data": {
      "image/png": "[encoded data removed]",
      "text/plain": [
       "<Figure size 864x432 with 4 Axes>"
      ]
     },
     "metadata": {
      "needs_background": "light"
     },
     "output_type": "display_data"
    }
   ],
   "source": [
    "get_accuracy_metrics(model,  X_train, y_train, X_val, y_val, X_test, y_test)"
   ]
  },
  {
   "cell_type": "code",
   "execution_count": 28,
   "id": "47595e56",
   "metadata": {
    "execution": {
     "iopub.execute_input": "2022-05-18T02:46:39.861633Z",
     "iopub.status.busy": "2022-05-18T02:46:39.860890Z",
     "iopub.status.idle": "2022-05-18T02:46:40.161073Z",
     "shell.execute_reply": "2022-05-18T02:46:40.159833Z"
    },
    "papermill": {
     "duration": 2.227415,
     "end_time": "2022-05-18T02:46:40.164120",
     "exception": false,
     "start_time": "2022-05-18T02:46:37.936705",
     "status": "completed"
    },
    "tags": []
   },
   "outputs": [
    {
     "data": {
      "image/png": "[encoded data removed]",
      "text/plain": [
       "<Figure size 864x432 with 2 Axes>"
      ]
     },
     "metadata": {
      "needs_background": "light"
     },
     "output_type": "display_data"
    }
   ],
   "source": [
    "plt.figure(figsize = (12, 6))\n",
    "plt.subplot(121)\n",
    "#plotting the Accuracy of test and training sets\n",
    "plt.plot(history2.history['accuracy'])\n",
    "plt.plot(history2.history['val_accuracy'])\n",
    "plt.title('2nd training Model Accuracy')\n",
    "plt.ylabel('accuracy')\n",
    "plt.xlabel('epoch')\n",
    "plt.legend(['train', 'test'], loc='upper left')\n",
    "\n",
    "plt.subplot(122)\n",
    "#plotting the loss of test and training sets\n",
    "plt.plot(history2.history['loss'])\n",
    "plt.plot(history2.history['val_loss'])\n",
    "plt.title('2nd training Model Loss')\n",
    "plt.ylabel('loss')\n",
    "plt.xlabel('epoch')\n",
    "plt.legend(['train', 'test'], loc='upper left')\n",
    "plt.show()"
   ]
  }
 ],
 "metadata": {
  "kernelspec": {
   "display_name": "Python 3",
   "language": "python",
   "name": "python3"
  },
  "language_info": {
   "codemirror_mode": {
    "name": "ipython",
    "version": 3
   },
   "file_extension": ".py",
   "mimetype": "text/x-python",
   "name": "python",
   "nbconvert_exporter": "python",
   "pygments_lexer": "ipython3",
   "version": "3.7.12"
  },
  "papermill": {
   "default_parameters": {},
   "duration": 19066.62868,
   "end_time": "2022-05-18T02:46:46.049715",
   "environment_variables": {},
   "exception": null,
   "input_path": "__notebook__.ipynb",
   "output_path": "__notebook__.ipynb",
   "parameters": {},
   "start_time": "2022-05-17T21:28:59.421035",
   "version": "2.3.4"
  }
 },
 "nbformat": 4,
 "nbformat_minor": 5
}
