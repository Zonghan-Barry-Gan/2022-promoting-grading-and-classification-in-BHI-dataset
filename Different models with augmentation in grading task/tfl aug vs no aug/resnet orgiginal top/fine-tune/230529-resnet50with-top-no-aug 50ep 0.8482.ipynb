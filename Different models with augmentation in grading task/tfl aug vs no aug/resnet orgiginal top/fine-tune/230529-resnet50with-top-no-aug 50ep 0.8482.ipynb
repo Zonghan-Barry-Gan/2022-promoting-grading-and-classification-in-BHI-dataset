{
 "cells": [
  {
   "cell_type": "code",
   "execution_count": 1,
   "id": "bdc008bd",
   "metadata": {
    "_cell_guid": "b1076dfc-b9ad-4769-8c92-a6c4dae69d19",
    "_uuid": "8f2839f25d086af736a60e9eeb907d3b93b6e0e5",
    "execution": {
     "iopub.execute_input": "2022-11-08T21:52:30.992813Z",
     "iopub.status.busy": "2022-11-08T21:52:30.991724Z",
     "iopub.status.idle": "2022-11-08T21:52:41.748279Z",
     "shell.execute_reply": "2022-11-08T21:52:41.747104Z"
    },
    "papermill": {
     "duration": 10.767358,
     "end_time": "2022-11-08T21:52:41.751170",
     "exception": false,
     "start_time": "2022-11-08T21:52:30.983812",
     "status": "completed"
    },
    "tags": []
   },
   "outputs": [
    {
     "name": "stdout",
     "output_type": "stream",
     "text": [
      "Collecting Livelossplot\r\n",
      "  Downloading livelossplot-0.5.5-py3-none-any.whl (22 kB)\r\n",
      "Requirement already satisfied: numpy<1.22 in /opt/conda/lib/python3.7/site-packages (from Livelossplot) (1.21.6)\r\n",
      "Requirement already satisfied: ipython==7.* in /opt/conda/lib/python3.7/site-packages (from Livelossplot) (7.33.0)\r\n",
      "Requirement already satisfied: bokeh in /opt/conda/lib/python3.7/site-packages (from Livelossplot) (2.4.3)\r\n",
      "Requirement already satisfied: matplotlib in /opt/conda/lib/python3.7/site-packages (from Livelossplot) (3.5.3)\r\n",
      "Requirement already satisfied: matplotlib-inline in /opt/conda/lib/python3.7/site-packages (from ipython==7.*->Livelossplot) (0.1.3)\r\n",
      "Requirement already satisfied: pickleshare in /opt/conda/lib/python3.7/site-packages (from ipython==7.*->Livelossplot) (0.7.5)\r\n",
      "Requirement already satisfied: traitlets>=4.2 in /opt/conda/lib/python3.7/site-packages (from ipython==7.*->Livelossplot) (5.3.0)\r\n",
      "Requirement already satisfied: pygments in /opt/conda/lib/python3.7/site-packages (from ipython==7.*->Livelossplot) (2.12.0)\r\n",
      "Requirement already satisfied: setuptools>=18.5 in /opt/conda/lib/python3.7/site-packages (from ipython==7.*->Livelossplot) (59.8.0)\r\n",
      "Requirement already satisfied: backcall in /opt/conda/lib/python3.7/site-packages (from ipython==7.*->Livelossplot) (0.2.0)\r\n",
      "Requirement already satisfied: pexpect>4.3 in /opt/conda/lib/python3.7/site-packages (from ipython==7.*->Livelossplot) (4.8.0)\r\n",
      "Requirement already satisfied: prompt-toolkit!=3.0.0,!=3.0.1,<3.1.0,>=2.0.0 in /opt/conda/lib/python3.7/site-packages (from ipython==7.*->Livelossplot) (3.0.30)\r\n",
      "Requirement already satisfied: decorator in /opt/conda/lib/python3.7/site-packages (from ipython==7.*->Livelossplot) (5.1.1)\r\n",
      "Requirement already satisfied: jedi>=0.16 in /opt/conda/lib/python3.7/site-packages (from ipython==7.*->Livelossplot) (0.18.1)\r\n",
      "Requirement already satisfied: PyYAML>=3.10 in /opt/conda/lib/python3.7/site-packages (from bokeh->Livelossplot) (6.0)\r\n",
      "Requirement already satisfied: typing-extensions>=3.10.0 in /opt/conda/lib/python3.7/site-packages (from bokeh->Livelossplot) (4.3.0)\r\n",
      "Requirement already satisfied: pillow>=7.1.0 in /opt/conda/lib/python3.7/site-packages (from bokeh->Livelossplot) (9.1.1)\r\n",
      "Requirement already satisfied: Jinja2>=2.9 in /opt/conda/lib/python3.7/site-packages (from bokeh->Livelossplot) (3.1.2)\r\n",
      "Requirement already satisfied: tornado>=5.1 in /opt/conda/lib/python3.7/site-packages (from bokeh->Livelossplot) (6.1)\r\n",
      "Requirement already satisfied: packaging>=16.8 in /opt/conda/lib/python3.7/site-packages (from bokeh->Livelossplot) (21.3)\r\n",
      "Requirement already satisfied: fonttools>=4.22.0 in /opt/conda/lib/python3.7/site-packages (from matplotlib->Livelossplot) (4.33.3)\r\n",
      "Requirement already satisfied: cycler>=0.10 in /opt/conda/lib/python3.7/site-packages (from matplotlib->Livelossplot) (0.11.0)\r\n",
      "Requirement already satisfied: kiwisolver>=1.0.1 in /opt/conda/lib/python3.7/site-packages (from matplotlib->Livelossplot) (1.4.3)\r\n",
      "Requirement already satisfied: python-dateutil>=2.7 in /opt/conda/lib/python3.7/site-packages (from matplotlib->Livelossplot) (2.8.2)\r\n",
      "Requirement already satisfied: pyparsing>=2.2.1 in /opt/conda/lib/python3.7/site-packages (from matplotlib->Livelossplot) (3.0.9)\r\n",
      "Requirement already satisfied: parso<0.9.0,>=0.8.0 in /opt/conda/lib/python3.7/site-packages (from jedi>=0.16->ipython==7.*->Livelossplot) (0.8.3)\r\n",
      "Requirement already satisfied: MarkupSafe>=2.0 in /opt/conda/lib/python3.7/site-packages (from Jinja2>=2.9->bokeh->Livelossplot) (2.1.1)\r\n",
      "Requirement already satisfied: ptyprocess>=0.5 in /opt/conda/lib/python3.7/site-packages (from pexpect>4.3->ipython==7.*->Livelossplot) (0.7.0)\r\n",
      "Requirement already satisfied: wcwidth in /opt/conda/lib/python3.7/site-packages (from prompt-toolkit!=3.0.0,!=3.0.1,<3.1.0,>=2.0.0->ipython==7.*->Livelossplot) (0.2.5)\r\n",
      "Requirement already satisfied: six>=1.5 in /opt/conda/lib/python3.7/site-packages (from python-dateutil>=2.7->matplotlib->Livelossplot) (1.15.0)\r\n",
      "Installing collected packages: Livelossplot\r\n",
      "Successfully installed Livelossplot-0.5.5\r\n",
      "\u001b[33mWARNING: Running pip as the 'root' user can result in broken permissions and conflicting behaviour with the system package manager. It is recommended to use a virtual environment instead: https://pip.pypa.io/warnings/venv\u001b[0m\u001b[33m\r\n",
      "\u001b[0m"
     ]
    }
   ],
   "source": [
    "# This Python 3 environment comes with many helpful analytics libraries installed\n",
    "# It is defined by the kaggle/python Docker image: https://github.com/kaggle/docker-python\n",
    "# For example, here's several helpful packages to load\n",
    "\n",
    "import numpy as np # linear algebra\n",
    "import pandas as pd # data processing, CSV file I/O (e.g. pd.read_csv)\n",
    "\n",
    "# Input data files are available in the read-only \"../input/\" directory\n",
    "# For example, running this (by clicking run or pressing Shift+Enter) will list all files under the input directory\n",
    "\n",
    "import os\n",
    "\n",
    "import warnings\n",
    "warnings.filterwarnings('ignore')\n",
    "%matplotlib inline\n",
    "!pip install Livelossplot\n",
    "from livelossplot import PlotLossesKeras\n",
    "\n",
    "from glob import glob\n",
    "import os\n",
    "import shutil\n",
    "\n",
    "import numpy as np\n",
    "import pandas as pd\n",
    "# You can write up to 20GB to the current directory (/kaggle/working/) that gets preserved as output when you create a version using \"Save & Run All\" \n",
    "# You can also write temporary files to /kaggle/temp/, but they won't be saved outside of the current session"
   ]
  },
  {
   "cell_type": "markdown",
   "id": "da66d1eb",
   "metadata": {
    "papermill": {
     "duration": 0.005274,
     "end_time": "2022-11-08T21:52:41.762909",
     "exception": false,
     "start_time": "2022-11-08T21:52:41.757635",
     "status": "completed"
    },
    "tags": []
   },
   "source": [
    "# AIM\n",
    "## To classify the images into \n",
    "### IDC+\n",
    "### IDC-\n",
    "\n",
    "# Validation Strategy:\n",
    "\n",
    "## Train Data Size= 0.7*Total_Data\n",
    "## Validation Data Size= 0.21* Total_Data\n",
    "## Test Data Size= 0.09 * Total_Data\n",
    "\n",
    "# Augmentaions Used:\n",
    "## Each Image is rotated through 45 angles\n"
   ]
  },
  {
   "cell_type": "code",
   "execution_count": 2,
   "id": "237ec57b",
   "metadata": {
    "execution": {
     "iopub.execute_input": "2022-11-08T21:52:41.776223Z",
     "iopub.status.busy": "2022-11-08T21:52:41.775301Z",
     "iopub.status.idle": "2022-11-08T21:52:50.226085Z",
     "shell.execute_reply": "2022-11-08T21:52:50.224948Z"
    },
    "papermill": {
     "duration": 8.460519,
     "end_time": "2022-11-08T21:52:50.229232",
     "exception": false,
     "start_time": "2022-11-08T21:52:41.768713",
     "status": "completed"
    },
    "tags": []
   },
   "outputs": [
    {
     "data": {
      "text/html": [
       "<style type='text/css'>\n",
       ".datatable table.frame { margin-bottom: 0; }\n",
       ".datatable table.frame thead { border-bottom: none; }\n",
       ".datatable table.frame tr.coltypes td {  color: #FFFFFF;  line-height: 6px;  padding: 0 0.5em;}\n",
       ".datatable .bool    { background: #DDDD99; }\n",
       ".datatable .object  { background: #565656; }\n",
       ".datatable .int     { background: #5D9E5D; }\n",
       ".datatable .float   { background: #4040CC; }\n",
       ".datatable .str     { background: #CC4040; }\n",
       ".datatable .time    { background: #40CC40; }\n",
       ".datatable .row_index {  background: var(--jp-border-color3);  border-right: 1px solid var(--jp-border-color0);  color: var(--jp-ui-font-color3);  font-size: 9px;}\n",
       ".datatable .frame tbody td { text-align: left; }\n",
       ".datatable .frame tr.coltypes .row_index {  background: var(--jp-border-color0);}\n",
       ".datatable th:nth-child(2) { padding-left: 12px; }\n",
       ".datatable .hellipsis {  color: var(--jp-cell-editor-border-color);}\n",
       ".datatable .vellipsis {  background: var(--jp-layout-color0);  color: var(--jp-cell-editor-border-color);}\n",
       ".datatable .na {  color: var(--jp-cell-editor-border-color);  font-size: 80%;}\n",
       ".datatable .sp {  opacity: 0.25;}\n",
       ".datatable .footer { font-size: 9px; }\n",
       ".datatable .frame_dimensions {  background: var(--jp-border-color3);  border-top: 1px solid var(--jp-border-color0);  color: var(--jp-ui-font-color3);  display: inline-block;  opacity: 0.6;  padding: 1px 10px 1px 5px;}\n",
       "</style>\n"
      ],
      "text/plain": [
       "<IPython.core.display.HTML object>"
      ]
     },
     "metadata": {},
     "output_type": "display_data"
    },
    {
     "name": "stdout",
     "output_type": "stream",
     "text": [
      "All modules have been imported\n"
     ]
    }
   ],
   "source": [
    "\n",
    "import numpy as np\n",
    "import pandas as pd\n",
    "import cv2\n",
    "from PIL import Image\n",
    "import scipy\n",
    "\n",
    "import tensorflow as tf\n",
    "from tensorflow.keras.applications import *\n",
    "from tensorflow.keras.optimizers import *\n",
    "from tensorflow.keras.losses import *\n",
    "from tensorflow.keras.layers import *\n",
    "from tensorflow.keras.models import *\n",
    "from tensorflow.keras.callbacks import *\n",
    "from tensorflow.keras.preprocessing.image import *\n",
    "from tensorflow.keras.utils import *\n",
    "# import pydot\n",
    "\n",
    "from sklearn.metrics import *\n",
    "from sklearn.model_selection import *\n",
    "import tensorflow.keras.backend as K\n",
    "\n",
    "from tqdm import tqdm, tqdm_notebook\n",
    "from colorama import Fore\n",
    "import json\n",
    "import matplotlib.pyplot as plt\n",
    "import seaborn as sns\n",
    "from glob import glob\n",
    "from skimage.io import *\n",
    "%config Completer.use_jedi = False\n",
    "import time\n",
    "from sklearn.decomposition import PCA\n",
    "from sklearn.svm import LinearSVC\n",
    "from sklearn.linear_model import LogisticRegression\n",
    "from sklearn.metrics import accuracy_score\n",
    "import lightgbm as lgb\n",
    "import xgboost as xgb\n",
    "\n",
    "print(\"All modules have been imported\")"
   ]
  },
  {
   "cell_type": "code",
   "execution_count": 3,
   "id": "2889b88f",
   "metadata": {
    "execution": {
     "iopub.execute_input": "2022-11-08T21:52:50.243579Z",
     "iopub.status.busy": "2022-11-08T21:52:50.242385Z",
     "iopub.status.idle": "2022-11-08T21:52:50.248319Z",
     "shell.execute_reply": "2022-11-08T21:52:50.247034Z"
    },
    "papermill": {
     "duration": 0.014589,
     "end_time": "2022-11-08T21:52:50.250295",
     "exception": false,
     "start_time": "2022-11-08T21:52:50.235706",
     "status": "completed"
    },
    "tags": []
   },
   "outputs": [],
   "source": [
    "sampling_seed = 0\n",
    "size_4_training0 = 78786\n",
    "size_4_training1 = 78786\n",
    "img_size = 50\n",
    "training_reshape=(-1, img_size, img_size, 3)\n",
    "epoch_4_test = 50"
   ]
  },
  {
   "cell_type": "code",
   "execution_count": 4,
   "id": "4dd5abae",
   "metadata": {
    "execution": {
     "iopub.execute_input": "2022-11-08T21:52:50.262756Z",
     "iopub.status.busy": "2022-11-08T21:52:50.262469Z",
     "iopub.status.idle": "2022-11-08T21:52:50.268939Z",
     "shell.execute_reply": "2022-11-08T21:52:50.268064Z"
    },
    "papermill": {
     "duration": 0.015051,
     "end_time": "2022-11-08T21:52:50.270928",
     "exception": false,
     "start_time": "2022-11-08T21:52:50.255877",
     "status": "completed"
    },
    "tags": []
   },
   "outputs": [],
   "source": [
    "import os\n",
    "os.makedirs('../working/data/train_seg/idc-minus/')     \n",
    "os.makedirs('../working/data/train_seg/idc-plus/')  \n",
    "os.makedirs('../working/data/test_seg/idc-minus/')     \n",
    "os.makedirs('../working/data/test_seg/idc-plus/')  \n",
    "os.makedirs('../working/data/val_seg/idc-minus/')     \n",
    "os.makedirs('../working/data/val_seg/idc-plus/') "
   ]
  },
  {
   "cell_type": "code",
   "execution_count": 5,
   "id": "5746af16",
   "metadata": {
    "execution": {
     "iopub.execute_input": "2022-11-08T21:52:50.284310Z",
     "iopub.status.busy": "2022-11-08T21:52:50.282898Z",
     "iopub.status.idle": "2022-11-08T21:56:44.191167Z",
     "shell.execute_reply": "2022-11-08T21:56:44.190114Z"
    },
    "papermill": {
     "duration": 233.923201,
     "end_time": "2022-11-08T21:56:44.199556",
     "exception": false,
     "start_time": "2022-11-08T21:52:50.276355",
     "status": "completed"
    },
    "tags": []
   },
   "outputs": [
    {
     "name": "stdout",
     "output_type": "stream",
     "text": [
      "['../input/breast-histopathology-images/IDC_regular_ps50_idx5/10295/0/10295_idx5_x1351_y1101_class0.png', '../input/breast-histopathology-images/IDC_regular_ps50_idx5/10295/0/10295_idx5_x1501_y501_class0.png', '../input/breast-histopathology-images/IDC_regular_ps50_idx5/10295/0/10295_idx5_x1501_y1101_class0.png', '../input/breast-histopathology-images/IDC_regular_ps50_idx5/10295/0/10295_idx5_x451_y901_class0.png', '../input/breast-histopathology-images/IDC_regular_ps50_idx5/10295/0/10295_idx5_x801_y451_class0.png', '../input/breast-histopathology-images/IDC_regular_ps50_idx5/10295/0/10295_idx5_x151_y1051_class0.png', '../input/breast-histopathology-images/IDC_regular_ps50_idx5/10295/0/10295_idx5_x1351_y901_class0.png', '../input/breast-histopathology-images/IDC_regular_ps50_idx5/10295/0/10295_idx5_x701_y651_class0.png', '../input/breast-histopathology-images/IDC_regular_ps50_idx5/10295/0/10295_idx5_x951_y1401_class0.png', '../input/breast-histopathology-images/IDC_regular_ps50_idx5/10295/0/10295_idx5_x601_y501_class0.png']\n"
     ]
    }
   ],
   "source": [
    "\n",
    "import random\n",
    "from glob import glob\n",
    "imagePatches = glob('../input/breast-histopathology-images/IDC_regular_ps50_idx5/**/*.png', recursive=True)\n",
    "train_dir='../working/data/train_seg/'\n",
    "validation_dir='../working/data/val_seg/'\n",
    "test_dir = '../working/data/test_seg/'  \n",
    "\n",
    "class0 = [] # 0 = idc+\n",
    "class1 = [] # 1 = idc-\n",
    "imagePatches = glob('../input/breast-histopathology-images/IDC_regular_ps50_idx5/**/*.png', recursive=True)\n",
    "for filename in imagePatches:\n",
    "    if filename.endswith(\"class0.png\"):\n",
    "         class0.append(filename)\n",
    "    elif filename.endswith(\"class1.png\"):\n",
    "         class1.append(filename)\n",
    "\n",
    "print(class0[0:10])\n",
    "\n",
    "#sampling 10000 images from class 0 and class 1 to train the model"
   ]
  },
  {
   "cell_type": "code",
   "execution_count": 6,
   "id": "166c0ea4",
   "metadata": {
    "execution": {
     "iopub.execute_input": "2022-11-08T21:56:44.212822Z",
     "iopub.status.busy": "2022-11-08T21:56:44.212511Z",
     "iopub.status.idle": "2022-11-08T22:10:57.038546Z",
     "shell.execute_reply": "2022-11-08T22:10:57.037392Z"
    },
    "papermill": {
     "duration": 852.836151,
     "end_time": "2022-11-08T22:10:57.041661",
     "exception": false,
     "start_time": "2022-11-08T21:56:44.205510",
     "status": "completed"
    },
    "tags": []
   },
   "outputs": [
    {
     "name": "stdout",
     "output_type": "stream",
     "text": [
      "55150\n",
      "7091\n",
      "16545\n",
      "55150\n",
      "7091\n",
      "16545\n"
     ]
    }
   ],
   "source": [
    "random.seed(sampling_seed)\n",
    "class0sample=random.sample(class0,size_4_training0)\n",
    "class0label=np.zeros(size_4_training0)\n",
    "class1sample=random.sample(class1,size_4_training1)\n",
    "class1label=np.ones(size_4_training1)\n",
    "\n",
    "class0sample_train, class0sample_test1, class0label_train, class0label_test1 = train_test_split(class0sample, class0label, test_size=0.3, random_state=42)\n",
    "class0sample_val, class0sample_test,  class0label_val, class0label_test = train_test_split(class0sample_test1, class0label_test1, test_size=0.3, random_state=42)\n",
    "print(len(class0sample_train))\n",
    "print(len(class0sample_test))\n",
    "print(len(class0sample_val))\n",
    "class1sample_train, class1sample_test1, class1label_train, class1label_test1 = train_test_split(class1sample, class1label, test_size=0.3, random_state=42)\n",
    "class1sample_val, class1sample_test, class1label_val, class1label_test = train_test_split(class1sample_test1, class1label_test1, test_size=0.3, random_state=42)\n",
    "print(len(class1sample_train))\n",
    "print(len(class1sample_test))\n",
    "print(len(class1sample_val))\n",
    "\n",
    "def read_and_save_data(path, file_name_array):\n",
    "    for i in file_name_array:\n",
    "        if i.endswith('.png'):\n",
    "            head, tail = os.path.split(i)\n",
    "            outputname=str(path+tail)\n",
    "            shutil.copy(i, outputname)\n",
    "    \n",
    "class0train_path='../working/data/train_seg/idc-minus/'\n",
    "class1train_path='../working/data/train_seg/idc-plus/'\n",
    "class0test_path='../working/data/test_seg/idc-minus/'\n",
    "class1test_path='../working/data/test_seg/idc-plus/'\n",
    "class0val_path='../working/data/val_seg/idc-minus/'\n",
    "class1val_path='../working/data/val_seg/idc-plus/'\n",
    "\n",
    "read_and_save_data(class0train_path,class0sample_train)\n",
    "read_and_save_data(class1train_path,class1sample_train)\n",
    "\n",
    "\n",
    "read_and_save_data(class0test_path,class0sample_test)\n",
    "read_and_save_data(class1test_path,class1sample_test)\n",
    "\n",
    "\n",
    "read_and_save_data(class0val_path,class0sample_val)\n",
    "read_and_save_data(class1val_path,class1sample_val)"
   ]
  },
  {
   "cell_type": "code",
   "execution_count": 7,
   "id": "68a7157f",
   "metadata": {
    "execution": {
     "iopub.execute_input": "2022-11-08T22:10:57.055340Z",
     "iopub.status.busy": "2022-11-08T22:10:57.055036Z",
     "iopub.status.idle": "2022-11-08T22:11:19.800690Z",
     "shell.execute_reply": "2022-11-08T22:11:19.799669Z"
    },
    "papermill": {
     "duration": 22.755446,
     "end_time": "2022-11-08T22:11:19.803537",
     "exception": false,
     "start_time": "2022-11-08T22:10:57.048091",
     "status": "completed"
    },
    "tags": []
   },
   "outputs": [],
   "source": [
    "import os #Operating System\n",
    "import sys #System\n",
    "import cv2\n",
    "def readImage(path, tag):\n",
    "    j=0\n",
    "    image_data = []\n",
    "    label=[]\n",
    "    for i in os.listdir(path):\n",
    "        imgname=path+i\n",
    "        img = cv2.imread(imgname, cv2.IMREAD_COLOR)\n",
    "        img_resized = cv2.resize(img, (img_size,img_size), interpolation=cv2.INTER_LINEAR)\n",
    "        image_data.append(img_resized)\n",
    "        label.append(tag)\n",
    "        \n",
    "    return image_data, label\n",
    "\n",
    "import numpy as np\n",
    "from tensorflow.keras.utils import *\n",
    "from sklearn.utils import shuffle\n",
    "\n",
    "class0_train, train0_label = readImage(class0train_path, 0)\n",
    "class1_train, train1_label  = readImage(class1train_path, 1)\n",
    "class0_test, test0_label = readImage(class0test_path, 0)\n",
    "class1_test, test1_label = readImage(class1test_path, 1)\n",
    "class0_val, val0_label = readImage(class0val_path, 0)\n",
    "class1_val, val1_label = readImage(class1val_path, 1)\n",
    "\n",
    "def Image_array_process(class0array,label0, class1array, label1):\n",
    "    class0_array=np.array(class0array)\n",
    "    class1_array=np.array(class1array)\n",
    "    combined_data = np.concatenate((class0_array, class1_array))\n",
    "    combined_label= np.concatenate((label0,label1), axis=0)\n",
    "    assert len(combined_data) == len(combined_label)\n",
    "    combined_data, combined_label = shuffle(combined_data, combined_label, random_state=0)\n",
    "    # print(combined_data.shape)\n",
    "    length=len(combined_data)\n",
    "    combined_label=to_categorical(combined_label,num_classes=2)\n",
    "    \n",
    "    return combined_data, combined_label\n",
    "\n",
    "\n",
    "X_train, y_train=Image_array_process(class0_train, train0_label, class1_train, train1_label)\n",
    "X_test, y_test=Image_array_process(class0_test, test0_label, class1_test, test1_label)\n",
    "X_val, y_val=Image_array_process(class0_val, val0_label, class1_val, val1_label)"
   ]
  },
  {
   "cell_type": "code",
   "execution_count": 8,
   "id": "8393c390",
   "metadata": {
    "execution": {
     "iopub.execute_input": "2022-11-08T22:11:19.826246Z",
     "iopub.status.busy": "2022-11-08T22:11:19.825779Z",
     "iopub.status.idle": "2022-11-08T22:11:19.832633Z",
     "shell.execute_reply": "2022-11-08T22:11:19.831647Z"
    },
    "papermill": {
     "duration": 0.025668,
     "end_time": "2022-11-08T22:11:19.835702",
     "exception": false,
     "start_time": "2022-11-08T22:11:19.810034",
     "status": "completed"
    },
    "tags": []
   },
   "outputs": [
    {
     "name": "stdout",
     "output_type": "stream",
     "text": [
      "55150\n",
      "55150\n",
      "7091\n",
      "7091\n",
      "16545\n",
      "16545\n"
     ]
    }
   ],
   "source": [
    "print(len(class0_train))\n",
    "print(len(class1_train))\n",
    "print(len(class0_test))\n",
    "print(len(class1_test))\n",
    "print(len(class0_val))\n",
    "print(len(class1_val))"
   ]
  },
  {
   "cell_type": "markdown",
   "id": "a2363bb7",
   "metadata": {
    "papermill": {
     "duration": 0.00619,
     "end_time": "2022-11-08T22:11:19.848519",
     "exception": false,
     "start_time": "2022-11-08T22:11:19.842329",
     "status": "completed"
    },
    "tags": []
   },
   "source": [
    "# Data generator"
   ]
  },
  {
   "cell_type": "code",
   "execution_count": 9,
   "id": "67a7eb22",
   "metadata": {
    "execution": {
     "iopub.execute_input": "2022-11-08T22:11:19.863894Z",
     "iopub.status.busy": "2022-11-08T22:11:19.861896Z",
     "iopub.status.idle": "2022-11-08T22:11:19.867973Z",
     "shell.execute_reply": "2022-11-08T22:11:19.867083Z"
    },
    "papermill": {
     "duration": 0.015061,
     "end_time": "2022-11-08T22:11:19.869982",
     "exception": false,
     "start_time": "2022-11-08T22:11:19.854921",
     "status": "completed"
    },
    "tags": []
   },
   "outputs": [],
   "source": [
    "train_data=X_train\n",
    "train_label=y_train\n",
    "\n",
    "test_data=X_test\n",
    "test_label=y_test\n",
    "\n",
    "val_data=X_val\n",
    "val_label=y_val"
   ]
  },
  {
   "cell_type": "code",
   "execution_count": 10,
   "id": "80da8ef7",
   "metadata": {
    "execution": {
     "iopub.execute_input": "2022-11-08T22:11:19.883202Z",
     "iopub.status.busy": "2022-11-08T22:11:19.882421Z",
     "iopub.status.idle": "2022-11-08T22:11:21.046956Z",
     "shell.execute_reply": "2022-11-08T22:11:21.045936Z"
    },
    "papermill": {
     "duration": 1.173445,
     "end_time": "2022-11-08T22:11:21.049362",
     "exception": false,
     "start_time": "2022-11-08T22:11:19.875917",
     "status": "completed"
    },
    "tags": []
   },
   "outputs": [],
   "source": [
    "from keras.preprocessing.image import ImageDataGenerator\n",
    "from keras.callbacks import ModelCheckpoint\n",
    "from keras.models import load_model\n",
    "from keras.callbacks import *\n",
    "\n",
    "\n",
    "#train_datagen2 = ImageDataGenerator(rescale = 1/255)\n",
    "\n",
    "train_datagen = ImageDataGenerator(rescale = 1.0/255,\n",
    "                                  #width_shift_range = 0.1,\n",
    "                                  #height_shift_range = 0.1,\n",
    "                                  #fill_mode = 'constant',\n",
    "                                  #zoom_range = 0.1,\n",
    "                                  #rotation_range = 20\n",
    "                                  )\n",
    "\n",
    "val_datagen = ImageDataGenerator(rescale = 1.0/255)\n",
    "val2_datagen = ImageDataGenerator(rescale = 1.0/255)\n",
    "\n",
    "train_generator = train_datagen.flow(train_data,\n",
    "                                     train_label, \n",
    "                                     #batch_size = 16, \n",
    "                                     #shuffle = False\n",
    "                                    )\n",
    "\n",
    "val_generator = val_datagen.flow(test_data,\n",
    "                                 test_label,\n",
    "                                 #batch_size = 16,\n",
    "                                 #shuffle = False\n",
    "                                )\n",
    "val2_generator = val_datagen.flow(val_data,\n",
    "                                 val_label,\n",
    "                                 #batch_size = 16,\n",
    "                                 #shuffle = False\n",
    "                                 )"
   ]
  },
  {
   "cell_type": "markdown",
   "id": "ededf8e2",
   "metadata": {
    "papermill": {
     "duration": 0.005681,
     "end_time": "2022-11-08T22:11:21.061306",
     "exception": false,
     "start_time": "2022-11-08T22:11:21.055625",
     "status": "completed"
    },
    "tags": []
   },
   "source": [
    "# Model configure"
   ]
  },
  {
   "cell_type": "code",
   "execution_count": 11,
   "id": "94d3ec35",
   "metadata": {
    "execution": {
     "iopub.execute_input": "2022-11-08T22:11:21.074723Z",
     "iopub.status.busy": "2022-11-08T22:11:21.074336Z",
     "iopub.status.idle": "2022-11-08T22:11:25.780500Z",
     "shell.execute_reply": "2022-11-08T22:11:25.778948Z"
    },
    "papermill": {
     "duration": 4.717024,
     "end_time": "2022-11-08T22:11:25.784279",
     "exception": false,
     "start_time": "2022-11-08T22:11:21.067255",
     "status": "completed"
    },
    "tags": []
   },
   "outputs": [
    {
     "name": "stderr",
     "output_type": "stream",
     "text": [
      "2022-11-08 22:11:21.225540: I tensorflow/stream_executor/cuda/cuda_gpu_executor.cc:937] successful NUMA node read from SysFS had negative value (-1), but there must be at least one NUMA node, so returning NUMA node zero\n",
      "2022-11-08 22:11:21.229554: I tensorflow/stream_executor/cuda/cuda_gpu_executor.cc:937] successful NUMA node read from SysFS had negative value (-1), but there must be at least one NUMA node, so returning NUMA node zero\n",
      "2022-11-08 22:11:21.230300: I tensorflow/stream_executor/cuda/cuda_gpu_executor.cc:937] successful NUMA node read from SysFS had negative value (-1), but there must be at least one NUMA node, so returning NUMA node zero\n",
      "2022-11-08 22:11:21.232419: I tensorflow/core/platform/cpu_feature_guard.cc:142] This TensorFlow binary is optimized with oneAPI Deep Neural Network Library (oneDNN) to use the following CPU instructions in performance-critical operations:  AVX2 AVX512F FMA\n",
      "To enable them in other operations, rebuild TensorFlow with the appropriate compiler flags.\n",
      "2022-11-08 22:11:21.232816: I tensorflow/stream_executor/cuda/cuda_gpu_executor.cc:937] successful NUMA node read from SysFS had negative value (-1), but there must be at least one NUMA node, so returning NUMA node zero\n",
      "2022-11-08 22:11:21.233545: I tensorflow/stream_executor/cuda/cuda_gpu_executor.cc:937] successful NUMA node read from SysFS had negative value (-1), but there must be at least one NUMA node, so returning NUMA node zero\n",
      "2022-11-08 22:11:21.234307: I tensorflow/stream_executor/cuda/cuda_gpu_executor.cc:937] successful NUMA node read from SysFS had negative value (-1), but there must be at least one NUMA node, so returning NUMA node zero\n",
      "2022-11-08 22:11:23.545647: I tensorflow/stream_executor/cuda/cuda_gpu_executor.cc:937] successful NUMA node read from SysFS had negative value (-1), but there must be at least one NUMA node, so returning NUMA node zero\n",
      "2022-11-08 22:11:23.546461: I tensorflow/stream_executor/cuda/cuda_gpu_executor.cc:937] successful NUMA node read from SysFS had negative value (-1), but there must be at least one NUMA node, so returning NUMA node zero\n",
      "2022-11-08 22:11:23.547192: I tensorflow/stream_executor/cuda/cuda_gpu_executor.cc:937] successful NUMA node read from SysFS had negative value (-1), but there must be at least one NUMA node, so returning NUMA node zero\n",
      "2022-11-08 22:11:23.547819: I tensorflow/core/common_runtime/gpu/gpu_device.cc:1510] Created device /job:localhost/replica:0/task:0/device:GPU:0 with 15381 MB memory:  -> device: 0, name: Tesla P100-PCIE-16GB, pci bus id: 0000:00:04.0, compute capability: 6.0\n"
     ]
    },
    {
     "name": "stdout",
     "output_type": "stream",
     "text": [
      "Model: \"sequential\"\n",
      "_________________________________________________________________\n",
      "Layer (type)                 Output Shape              Param #   \n",
      "=================================================================\n",
      "resnet50 (Functional)        (None, 2)                 23591810  \n",
      "=================================================================\n",
      "Total params: 23,591,810\n",
      "Trainable params: 23,538,690\n",
      "Non-trainable params: 53,120\n",
      "_________________________________________________________________\n"
     ]
    }
   ],
   "source": [
    "RESNET50_POOLING_AVERAGE = 'avg'\n",
    "DENSE_LAYER_ACTIVATION = 'sigmoid'\n",
    "OBJECTIVE_FUNCTION = 'categorical_crossentropy'\n",
    "\n",
    "# Common accuracy metric for all outputs, but can use different metrics for different output\n",
    "LOSS_METRICS = ['accuracy']\n",
    "\n",
    "# EARLY_STOP_PATIENCE must be < NUM_EPOCHS\n",
    "NUM_EPOCHS = 30\n",
    "EARLY_STOP_PATIENCE = 10\n",
    "#resnet_weights_path = '../input/resnet50/resnet50_weights_tf_dim_ordering_tf_kernels_notop.h5'\n",
    "\n",
    "from keras.applications import resnet\n",
    "base_model1=resnet.ResNet50(include_top = True, input_shape=(img_size, img_size, 3), pooling = RESNET50_POOLING_AVERAGE, weights = None, classes = 2)\n",
    "#from tensorflow.keras.applications.mobilenet import MobileNet\n",
    "base_model1.trainable = True\n",
    "model=Sequential()\n",
    "model.add(base_model1)\n",
    "#model.add(Flatten())\n",
    "#model.add(BatchNormalization())\n",
    "#model.add(Dense(4096,kernel_initializer='he_uniform'))\n",
    "#model.add(BatchNormalization())\n",
    "#model.add(Activation('relu'))\n",
    "#model.add(Dropout(0.2))\n",
    "#model.add(Dense(512, activation='relu'))\n",
    "#model.add(Dense(128, activation='relu'))\n",
    "#model.add(Dense(2, activation='sigmoid'))\n",
    "model.summary()\n"
   ]
  },
  {
   "cell_type": "code",
   "execution_count": 12,
   "id": "f952523e",
   "metadata": {
    "execution": {
     "iopub.execute_input": "2022-11-08T22:11:25.807267Z",
     "iopub.status.busy": "2022-11-08T22:11:25.806899Z",
     "iopub.status.idle": "2022-11-08T22:11:26.890795Z",
     "shell.execute_reply": "2022-11-08T22:11:26.889668Z"
    },
    "papermill": {
     "duration": 1.097864,
     "end_time": "2022-11-08T22:11:26.893182",
     "exception": false,
     "start_time": "2022-11-08T22:11:25.795318",
     "status": "completed"
    },
    "tags": []
   },
   "outputs": [
    {
     "data": {
      "image/png": "[encoded data removed]",
      "text/plain": [
       "<IPython.core.display.Image object>"
      ]
     },
     "execution_count": 12,
     "metadata": {},
     "output_type": "execute_result"
    }
   ],
   "source": [
    "from tensorflow.keras.utils import plot_model\n",
    "from IPython.display import Image\n",
    "plot_model(model, to_file='convnet.png', show_shapes=True, show_layer_names=True)\n",
    "Image(filename='convnet.png') "
   ]
  },
  {
   "cell_type": "code",
   "execution_count": 13,
   "id": "23407e98",
   "metadata": {
    "execution": {
     "iopub.execute_input": "2022-11-08T22:11:26.908562Z",
     "iopub.status.busy": "2022-11-08T22:11:26.907537Z",
     "iopub.status.idle": "2022-11-08T22:11:26.912819Z",
     "shell.execute_reply": "2022-11-08T22:11:26.911755Z"
    },
    "papermill": {
     "duration": 0.015123,
     "end_time": "2022-11-08T22:11:26.914990",
     "exception": false,
     "start_time": "2022-11-08T22:11:26.899867",
     "status": "completed"
    },
    "tags": []
   },
   "outputs": [],
   "source": [
    "# os.makedirs('../working/log/')\n",
    "MODEL_INIT = '../working/init_model.h5'\n",
    "MODEL_PATH = '../working/test_model.h5'"
   ]
  },
  {
   "cell_type": "code",
   "execution_count": 14,
   "id": "9a93110a",
   "metadata": {
    "execution": {
     "iopub.execute_input": "2022-11-08T22:11:26.928929Z",
     "iopub.status.busy": "2022-11-08T22:11:26.928632Z",
     "iopub.status.idle": "2022-11-08T22:11:26.949548Z",
     "shell.execute_reply": "2022-11-08T22:11:26.948710Z"
    },
    "papermill": {
     "duration": 0.030129,
     "end_time": "2022-11-08T22:11:26.951470",
     "exception": false,
     "start_time": "2022-11-08T22:11:26.921341",
     "status": "completed"
    },
    "tags": []
   },
   "outputs": [],
   "source": [
    "callbacks1 = [ModelCheckpoint(MODEL_INIT, monitor='val_accuracy', save_best_only=True)]\n",
    "opt = Adam(learning_rate=0.0001)\n",
    "model.compile(loss='categorical_crossentropy', optimizer=opt, metrics=['accuracy'])"
   ]
  },
  {
   "cell_type": "code",
   "execution_count": 15,
   "id": "296d0a1a",
   "metadata": {
    "execution": {
     "iopub.execute_input": "2022-11-08T22:11:26.965375Z",
     "iopub.status.busy": "2022-11-08T22:11:26.965055Z",
     "iopub.status.idle": "2022-11-09T00:31:18.859888Z",
     "shell.execute_reply": "2022-11-09T00:31:18.858681Z"
    },
    "papermill": {
     "duration": 8391.905056,
     "end_time": "2022-11-09T00:31:18.862896",
     "exception": false,
     "start_time": "2022-11-08T22:11:26.957840",
     "status": "completed"
    },
    "tags": []
   },
   "outputs": [
    {
     "name": "stdout",
     "output_type": "stream",
     "text": [
      "CPU times: user 2 µs, sys: 1e+03 ns, total: 3 µs\n",
      "Wall time: 6.91 µs\n",
      "Epoch 1/50\n"
     ]
    },
    {
     "name": "stderr",
     "output_type": "stream",
     "text": [
      "2022-11-08 22:11:27.081925: I tensorflow/compiler/mlir/mlir_graph_optimization_pass.cc:185] None of the MLIR Optimization Passes are enabled (registered 2)\n",
      "2022-11-08 22:11:33.703772: I tensorflow/stream_executor/cuda/cuda_dnn.cc:369] Loaded cuDNN version 8005\n"
     ]
    },
    {
     "name": "stdout",
     "output_type": "stream",
     "text": [
      "3447/3447 [==============================] - 177s 48ms/step - loss: 0.4797 - accuracy: 0.7899 - val_loss: 0.5492 - val_accuracy: 0.7153\n",
      "Epoch 2/50\n",
      "3447/3447 [==============================] - 164s 48ms/step - loss: 0.4034 - accuracy: 0.8258 - val_loss: 0.4004 - val_accuracy: 0.8297\n",
      "Epoch 3/50\n",
      "3447/3447 [==============================] - 164s 48ms/step - loss: 0.3808 - accuracy: 0.8370 - val_loss: 0.4128 - val_accuracy: 0.8199\n",
      "Epoch 4/50\n",
      "3447/3447 [==============================] - 165s 48ms/step - loss: 0.3595 - accuracy: 0.8484 - val_loss: 0.5920 - val_accuracy: 0.7802\n",
      "Epoch 5/50\n",
      "3447/3447 [==============================] - 165s 48ms/step - loss: 0.3440 - accuracy: 0.8546 - val_loss: 0.5242 - val_accuracy: 0.7673\n",
      "Epoch 6/50\n",
      "3447/3447 [==============================] - 165s 48ms/step - loss: 0.3293 - accuracy: 0.8618 - val_loss: 1.0209 - val_accuracy: 0.5779\n",
      "Epoch 7/50\n",
      "3447/3447 [==============================] - 165s 48ms/step - loss: 0.3163 - accuracy: 0.8671 - val_loss: 0.4367 - val_accuracy: 0.8067\n",
      "Epoch 8/50\n",
      "3447/3447 [==============================] - 165s 48ms/step - loss: 0.3008 - accuracy: 0.8741 - val_loss: 0.5794 - val_accuracy: 0.8046\n",
      "Epoch 9/50\n",
      "3447/3447 [==============================] - 165s 48ms/step - loss: 0.2861 - accuracy: 0.8811 - val_loss: 0.4598 - val_accuracy: 0.8097\n",
      "Epoch 10/50\n",
      "3447/3447 [==============================] - 165s 48ms/step - loss: 0.2642 - accuracy: 0.8912 - val_loss: 0.3807 - val_accuracy: 0.8504\n",
      "Epoch 11/50\n",
      "3447/3447 [==============================] - 165s 48ms/step - loss: 0.2426 - accuracy: 0.9004 - val_loss: 0.5327 - val_accuracy: 0.7688\n",
      "Epoch 12/50\n",
      "3447/3447 [==============================] - 165s 48ms/step - loss: 0.2178 - accuracy: 0.9117 - val_loss: 0.5302 - val_accuracy: 0.7858\n",
      "Epoch 13/50\n",
      "3447/3447 [==============================] - 165s 48ms/step - loss: 0.1994 - accuracy: 0.9197 - val_loss: 0.6324 - val_accuracy: 0.7499\n",
      "Epoch 14/50\n",
      "3447/3447 [==============================] - 164s 48ms/step - loss: 0.1767 - accuracy: 0.9294 - val_loss: 0.4847 - val_accuracy: 0.8335\n",
      "Epoch 15/50\n",
      "3447/3447 [==============================] - 161s 47ms/step - loss: 0.1596 - accuracy: 0.9355 - val_loss: 0.5016 - val_accuracy: 0.8440\n",
      "Epoch 16/50\n",
      "3447/3447 [==============================] - 160s 47ms/step - loss: 0.1440 - accuracy: 0.9432 - val_loss: 0.5641 - val_accuracy: 0.7941\n",
      "Epoch 17/50\n",
      "3447/3447 [==============================] - 161s 47ms/step - loss: 0.1303 - accuracy: 0.9486 - val_loss: 0.6650 - val_accuracy: 0.8248\n",
      "Epoch 18/50\n",
      "3447/3447 [==============================] - 161s 47ms/step - loss: 0.1190 - accuracy: 0.9535 - val_loss: 0.6863 - val_accuracy: 0.8016\n",
      "Epoch 19/50\n",
      "3447/3447 [==============================] - 161s 47ms/step - loss: 0.1091 - accuracy: 0.9576 - val_loss: 0.6080 - val_accuracy: 0.8091\n",
      "Epoch 20/50\n",
      "3447/3447 [==============================] - 163s 47ms/step - loss: 0.1016 - accuracy: 0.9597 - val_loss: 0.6208 - val_accuracy: 0.8256\n",
      "Epoch 21/50\n",
      "3447/3447 [==============================] - 161s 47ms/step - loss: 0.1009 - accuracy: 0.9608 - val_loss: 0.7293 - val_accuracy: 0.8066\n",
      "Epoch 22/50\n",
      "3447/3447 [==============================] - 161s 47ms/step - loss: 0.0876 - accuracy: 0.9661 - val_loss: 0.8275 - val_accuracy: 0.8265\n",
      "Epoch 23/50\n",
      "3447/3447 [==============================] - 162s 47ms/step - loss: 0.0879 - accuracy: 0.9664 - val_loss: 0.6830 - val_accuracy: 0.7917\n",
      "Epoch 24/50\n",
      "3447/3447 [==============================] - 162s 47ms/step - loss: 0.0798 - accuracy: 0.9696 - val_loss: 0.8853 - val_accuracy: 0.7820\n",
      "Epoch 25/50\n",
      "3447/3447 [==============================] - 161s 47ms/step - loss: 0.0728 - accuracy: 0.9721 - val_loss: 1.1032 - val_accuracy: 0.7827\n",
      "Epoch 26/50\n",
      "3447/3447 [==============================] - 162s 47ms/step - loss: 0.0678 - accuracy: 0.9739 - val_loss: 2.2003 - val_accuracy: 0.6262\n",
      "Epoch 27/50\n",
      "3447/3447 [==============================] - 162s 47ms/step - loss: 0.0669 - accuracy: 0.9749 - val_loss: 0.7070 - val_accuracy: 0.8148\n",
      "Epoch 28/50\n",
      "3447/3447 [==============================] - 161s 47ms/step - loss: 0.0615 - accuracy: 0.9768 - val_loss: 0.9453 - val_accuracy: 0.7837\n",
      "Epoch 29/50\n",
      "3447/3447 [==============================] - 162s 47ms/step - loss: 0.0594 - accuracy: 0.9778 - val_loss: 0.6672 - val_accuracy: 0.8344\n",
      "Epoch 30/50\n",
      "3447/3447 [==============================] - 162s 47ms/step - loss: 0.0570 - accuracy: 0.9787 - val_loss: 1.1031 - val_accuracy: 0.7856\n",
      "Epoch 31/50\n",
      "3447/3447 [==============================] - 162s 47ms/step - loss: 0.0536 - accuracy: 0.9798 - val_loss: 1.0683 - val_accuracy: 0.7318\n",
      "Epoch 32/50\n",
      "3447/3447 [==============================] - 162s 47ms/step - loss: 0.0519 - accuracy: 0.9807 - val_loss: 1.2750 - val_accuracy: 0.7628\n",
      "Epoch 33/50\n",
      "3447/3447 [==============================] - 162s 47ms/step - loss: 0.0516 - accuracy: 0.9812 - val_loss: 3.8774 - val_accuracy: 0.8084\n",
      "Epoch 34/50\n",
      "3447/3447 [==============================] - 163s 47ms/step - loss: 0.0494 - accuracy: 0.9813 - val_loss: 1.2144 - val_accuracy: 0.7696\n",
      "Epoch 35/50\n",
      "3447/3447 [==============================] - 164s 48ms/step - loss: 0.0462 - accuracy: 0.9825 - val_loss: 0.9155 - val_accuracy: 0.8139\n",
      "Epoch 36/50\n",
      "3447/3447 [==============================] - 169s 49ms/step - loss: 0.0462 - accuracy: 0.9828 - val_loss: 1.4838 - val_accuracy: 0.8136\n",
      "Epoch 37/50\n",
      "3447/3447 [==============================] - 167s 49ms/step - loss: 0.0431 - accuracy: 0.9841 - val_loss: 1.0063 - val_accuracy: 0.8152\n",
      "Epoch 38/50\n",
      "3447/3447 [==============================] - 165s 48ms/step - loss: 0.0416 - accuracy: 0.9843 - val_loss: 1.2010 - val_accuracy: 0.8194\n",
      "Epoch 39/50\n",
      "3447/3447 [==============================] - 164s 48ms/step - loss: 0.0400 - accuracy: 0.9854 - val_loss: 0.7970 - val_accuracy: 0.8285\n",
      "Epoch 40/50\n",
      "3447/3447 [==============================] - 163s 47ms/step - loss: 0.0397 - accuracy: 0.9852 - val_loss: 1.5957 - val_accuracy: 0.7102\n",
      "Epoch 41/50\n",
      "3447/3447 [==============================] - 162s 47ms/step - loss: 0.0388 - accuracy: 0.9856 - val_loss: 0.8585 - val_accuracy: 0.8236\n",
      "Epoch 42/50\n",
      "3447/3447 [==============================] - 161s 47ms/step - loss: 0.0359 - accuracy: 0.9870 - val_loss: 1.0372 - val_accuracy: 0.8213\n",
      "Epoch 43/50\n",
      "3447/3447 [==============================] - 163s 47ms/step - loss: 0.0360 - accuracy: 0.9867 - val_loss: 1.0560 - val_accuracy: 0.8057\n",
      "Epoch 44/50\n",
      "3447/3447 [==============================] - 161s 47ms/step - loss: 0.0344 - accuracy: 0.9875 - val_loss: 0.9611 - val_accuracy: 0.8048\n",
      "Epoch 45/50\n",
      "3447/3447 [==============================] - 161s 47ms/step - loss: 0.0338 - accuracy: 0.9879 - val_loss: 1.3714 - val_accuracy: 0.8003\n",
      "Epoch 46/50\n",
      "3447/3447 [==============================] - 163s 47ms/step - loss: 0.0342 - accuracy: 0.9877 - val_loss: 0.8422 - val_accuracy: 0.8232\n",
      "Epoch 47/50\n",
      "3447/3447 [==============================] - 162s 47ms/step - loss: 0.0320 - accuracy: 0.9883 - val_loss: 1.6105 - val_accuracy: 0.8318\n",
      "Epoch 48/50\n",
      "3447/3447 [==============================] - 163s 47ms/step - loss: 0.0315 - accuracy: 0.9884 - val_loss: 1.1468 - val_accuracy: 0.7921\n",
      "Epoch 49/50\n",
      "3447/3447 [==============================] - 161s 47ms/step - loss: 0.0304 - accuracy: 0.9890 - val_loss: 0.8613 - val_accuracy: 0.8084\n",
      "Epoch 50/50\n",
      "3447/3447 [==============================] - 162s 47ms/step - loss: 0.0302 - accuracy: 0.9892 - val_loss: 1.2518 - val_accuracy: 0.8103\n"
     ]
    }
   ],
   "source": [
    "%time\n",
    "#history1=model.fit(X_train, y_train,validation_data=(X_test, y_test),verbose = 1,epochs = 100, callbacks=callbacks1)\n",
    "history1=model.fit_generator(train_generator,validation_data=val_generator,verbose = 1,epochs = epoch_4_test,callbacks=callbacks1)"
   ]
  },
  {
   "cell_type": "code",
   "execution_count": 16,
   "id": "01b70e2a",
   "metadata": {
    "execution": {
     "iopub.execute_input": "2022-11-09T00:31:29.415795Z",
     "iopub.status.busy": "2022-11-09T00:31:29.415086Z",
     "iopub.status.idle": "2022-11-09T00:31:29.939226Z",
     "shell.execute_reply": "2022-11-09T00:31:29.937661Z"
    },
    "papermill": {
     "duration": 5.735019,
     "end_time": "2022-11-09T00:31:29.947509",
     "exception": false,
     "start_time": "2022-11-09T00:31:24.212490",
     "status": "completed"
    },
    "tags": []
   },
   "outputs": [
    {
     "data": {
      "image/png": "[encoded data removed]",
      "text/plain": [
       "<Figure size 864x432 with 2 Axes>"
      ]
     },
     "metadata": {
      "needs_background": "light"
     },
     "output_type": "display_data"
    }
   ],
   "source": [
    "import matplotlib.pyplot as plt\n",
    "import seaborn as sns\n",
    "plt.figure(figsize = (12, 6))\n",
    "plt.subplot(121)\n",
    "#plotting the Accuracy of test and training sets\n",
    "plt.plot(history1.history['accuracy'])\n",
    "plt.plot(history1.history['val_accuracy'])\n",
    "plt.title('1st training Model Accuracy')\n",
    "plt.ylabel('accuracy')\n",
    "plt.xlabel('epoch')\n",
    "plt.legend(['train', 'test'], loc='upper left')\n",
    "\n",
    "plt.subplot(122)\n",
    "#plotting the loss of test and training sets\n",
    "plt.plot(history1.history['loss'])\n",
    "plt.plot(history1.history['val_loss'])\n",
    "plt.title('1st training Model Loss')\n",
    "plt.ylabel('loss')\n",
    "plt.xlabel('epoch')\n",
    "plt.legend(['train', 'test'], loc='upper left')\n",
    "plt.show()"
   ]
  },
  {
   "cell_type": "code",
   "execution_count": 17,
   "id": "553f0cb0",
   "metadata": {
    "execution": {
     "iopub.execute_input": "2022-11-09T00:31:41.064210Z",
     "iopub.status.busy": "2022-11-09T00:31:41.063834Z",
     "iopub.status.idle": "2022-11-09T00:32:23.472757Z",
     "shell.execute_reply": "2022-11-09T00:32:23.471184Z"
    },
    "papermill": {
     "duration": 47.865121,
     "end_time": "2022-11-09T00:32:23.475810",
     "exception": false,
     "start_time": "2022-11-09T00:31:35.610689",
     "status": "completed"
    },
    "tags": []
   },
   "outputs": [
    {
     "name": "stdout",
     "output_type": "stream",
     "text": [
      "analyse of 1st model\n",
      "VAL kappa\n",
      "0.6964037473556965\n",
      "analyse 1st model\n",
      "report of val data\n",
      "              precision    recall  f1-score   support\n",
      "\n",
      "           0   0.867083  0.822484  0.844195     16545\n",
      "           1   0.831168  0.873920  0.852008     16545\n",
      "\n",
      "    accuracy                       0.848202     33090\n",
      "   macro avg   0.849126  0.848202  0.848101     33090\n",
      "weighted avg   0.849126  0.848202  0.848101     33090\n",
      "\n"
     ]
    },
    {
     "data": {
      "image/png": "[encoded data removed]",
      "text/plain": [
       "<Figure size 864x432 with 2 Axes>"
      ]
     },
     "metadata": {
      "needs_background": "light"
     },
     "output_type": "display_data"
    }
   ],
   "source": [
    "import sklearn\n",
    "from sklearn.metrics import f1_score, roc_auc_score, cohen_kappa_score, precision_score, recall_score, accuracy_score, confusion_matrix\n",
    "#---------------\n",
    "from keras.models import load_model\n",
    "\n",
    "model1 = load_model(MODEL_INIT, compile=False)\n",
    "print(\"analyse of 1st model\")\n",
    "\n",
    "\n",
    "cf_matrix_val = confusion_matrix(\n",
    "    np.concatenate([np.argmax(val2_generator[i][1], axis=1) for i in range(len(val2_generator))]),    \n",
    "    np.argmax(model1.predict_generator(val2_generator, steps=len(val2_generator)), axis=1) \n",
    ")\n",
    "\n",
    "plt.figure(figsize = (12, 6))\n",
    "sns.heatmap(cf_matrix_val, annot=True, cmap='Blues', fmt='g')\n",
    "plt.title(\"VAL Confusion matrix\")\n",
    "# kappa VAL\n",
    "kappa_val = cohen_kappa_score(\n",
    "    np.concatenate([np.argmax(val2_generator[i][1], axis=1) for i in range(len(val2_generator))]),    \n",
    "    np.argmax(model1.predict_generator(val2_generator, steps=len(val2_generator)), axis=1) \n",
    ")\n",
    "print(\"VAL kappa\")\n",
    "print(kappa_val)\n",
    "\n",
    "\n",
    "\n",
    "print(\"analyse 1st model\")\n",
    "print(\"report of val data\")\n",
    "report = sklearn.metrics.classification_report(\n",
    "    np.concatenate([np.argmax(val2_generator[i][1], axis=1) for i in range(len(val2_generator))]),    \n",
    "    np.argmax(model1.predict_generator(val2_generator, steps=len(val2_generator)), axis=1) , digits=6\n",
    ")\n",
    "print(report)"
   ]
  },
  {
   "cell_type": "code",
   "execution_count": 18,
   "id": "9252d96b",
   "metadata": {
    "execution": {
     "iopub.execute_input": "2022-11-09T00:32:34.779002Z",
     "iopub.status.busy": "2022-11-09T00:32:34.778573Z",
     "iopub.status.idle": "2022-11-09T00:32:51.905221Z",
     "shell.execute_reply": "2022-11-09T00:32:51.903668Z"
    },
    "papermill": {
     "duration": 22.790197,
     "end_time": "2022-11-09T00:32:51.907852",
     "exception": false,
     "start_time": "2022-11-09T00:32:29.117655",
     "status": "completed"
    },
    "tags": []
   },
   "outputs": [
    {
     "name": "stdout",
     "output_type": "stream",
     "text": [
      "report of test data\n",
      "              precision    recall  f1-score   support\n",
      "\n",
      "           0  0.8678016 0.8266817 0.8467427      7091\n",
      "           1  0.8345227 0.8740657 0.8538366      7091\n",
      "\n",
      "    accuracy                      0.8503737     14182\n",
      "   macro avg  0.8511622 0.8503737 0.8502897     14182\n",
      "weighted avg  0.8511622 0.8503737 0.8502897     14182\n",
      "\n",
      "TEST kappa\n",
      "0.7007474263150473\n"
     ]
    },
    {
     "data": {
      "image/png": "[encoded data removed]",
      "text/plain": [
       "<Figure size 864x432 with 2 Axes>"
      ]
     },
     "metadata": {
      "needs_background": "light"
     },
     "output_type": "display_data"
    }
   ],
   "source": [
    "#------------------\n",
    "cf_matrix_test = confusion_matrix(\n",
    "    np.concatenate([np.argmax(val_generator[i][1], axis=1) for i in range(len(val_generator))]),    \n",
    "    np.argmax(model1.predict_generator(val_generator, steps=len(val_generator)), axis=1) \n",
    ")\n",
    "\n",
    "plt.figure(figsize = (12, 6))\n",
    "sns.heatmap(cf_matrix_test, annot=True, cmap='Blues', fmt='g')\n",
    "plt.title(\"Test Confusion matrix\")\n",
    "\n",
    "\n",
    "\n",
    "print(\"report of test data\")\n",
    "import sklearn\n",
    "\n",
    "report = sklearn.metrics.classification_report(\n",
    "    np.concatenate([np.argmax(val_generator[i][1], axis=1) for i in range(len(val_generator))]),    \n",
    "    np.argmax(model1.predict_generator(val_generator, steps=len(val_generator)), axis=1) , digits=7\n",
    ")\n",
    "print(report)\n",
    "\n",
    "\n",
    "# kappa TEST\n",
    "kappa_test = cohen_kappa_score(\n",
    "    np.concatenate([np.argmax(val_generator[i][1], axis=1) for i in range(len(val_generator))]),    \n",
    "    np.argmax(model1.predict_generator(val_generator, steps=len(val_generator)), axis=1)\n",
    ")\n",
    "print(\"TEST kappa\")\n",
    "print(kappa_test)"
   ]
  },
  {
   "cell_type": "code",
   "execution_count": 19,
   "id": "0e57766e",
   "metadata": {
    "execution": {
     "iopub.execute_input": "2022-11-09T00:33:02.826561Z",
     "iopub.status.busy": "2022-11-09T00:33:02.826181Z",
     "iopub.status.idle": "2022-11-09T00:33:16.393366Z",
     "shell.execute_reply": "2022-11-09T00:33:16.391851Z"
    },
    "papermill": {
     "duration": 18.837852,
     "end_time": "2022-11-09T00:33:16.396427",
     "exception": false,
     "start_time": "2022-11-09T00:32:57.558575",
     "status": "completed"
    },
    "tags": []
   },
   "outputs": [
    {
     "name": "stdout",
     "output_type": "stream",
     "text": [
      "roc analysis of val dataset\n",
      "[0 0 1 ... 1 0 1]\n",
      "[[9.2630583e-01 7.3694207e-02]\n",
      " [9.9936682e-01 6.3323858e-04]\n",
      " [4.6536213e-01 5.3463787e-01]\n",
      " ...\n",
      " [2.5792005e-02 9.7420800e-01]\n",
      " [5.8856934e-01 4.1143063e-01]\n",
      " [5.0092429e-01 4.9907574e-01]]\n",
      "[7.36942068e-02 6.33238582e-04 5.34637868e-01 ... 9.74207997e-01\n",
      " 4.11430627e-01 4.99075741e-01]\n"
     ]
    },
    {
     "data": {
      "image/png": "[encoded data removed]",
      "text/plain": [
       "<Figure size 432x288 with 1 Axes>"
      ]
     },
     "metadata": {
      "needs_background": "light"
     },
     "output_type": "display_data"
    },
    {
     "name": "stdout",
     "output_type": "stream",
     "text": [
      "auc value\n",
      "0.9198391156621945\n"
     ]
    }
   ],
   "source": [
    "print(\"roc analysis of val dataset\")\n",
    "from scipy import interp\n",
    "import matplotlib.pyplot as plt\n",
    "from sklearn.metrics import roc_curve, auc\n",
    "n_classes=2\n",
    "test_labels = np.concatenate([np.argmax(val2_generator[i][1], axis=1) for i in range(len(val2_generator))])\n",
    "print(test_labels)\n",
    "\n",
    "y_score = model1.predict_generator(val2_generator)\n",
    "print(y_score)\n",
    "\n",
    "y_predict_score = []\n",
    "y_score_normalise=np.zeros((len(test_labels),n_classes))\n",
    "for i in range(len(test_labels)):\n",
    "    y_score_normalise1=y_score[i][1]/(y_score[i][0]+y_score[i][1])*1.0\n",
    "    y_score_normalise0=y_score[i][0]/(y_score[i][0]+y_score[i][1])*1.0\n",
    "    #if test_labels[i] == 0:\n",
    "    #    y_predict_score.append(1 - y_score_normalise0)\n",
    "    #if test_labels[i] == 1:\n",
    "    y_predict_score.append(y_score_normalise1)\n",
    "    y_score_normalise[i][0]=y_score_normalise0\n",
    "    y_score_normalise[i][1]=y_score_normalise1\n",
    "y_predict_score = np.array(y_predict_score)\n",
    "y_score_normalise = np.array(y_score_normalise)\n",
    "print(y_predict_score)\n",
    "\n",
    "fpr,tpr, thresholds = roc_curve(test_labels, y_predict_score )   \n",
    "# 这个地方可以按照原来代码里加marco与micro参数\n",
    "\n",
    "auc_score = auc(fpr,tpr)\n",
    " \n",
    "plt.figure()\n",
    "lw = 2 # line_width\n",
    "plt.plot(fpr,tpr, color='darkorange',\n",
    "         lw=lw, label='ROC curve (area = %0.2f)' % auc_score)\n",
    " \n",
    "plt.plot([0, 1], [0, 1], color='navy', lw=lw, linestyle='--')\n",
    "plt.xlim([0.0, 1.0])\n",
    "plt.ylim([0.0, 1.05])\n",
    "plt.xlabel('False Positive Rate')\n",
    "plt.ylabel('True Positive Rate')\n",
    "plt.title('ROC curve')\n",
    "plt.legend(loc=\"lower right\")\n",
    "plt.show()\n",
    "\n",
    "print(\"auc value\")\n",
    "print(auc_score)"
   ]
  },
  {
   "cell_type": "markdown",
   "id": "968e6d18",
   "metadata": {
    "papermill": {
     "duration": 5.219155,
     "end_time": "2022-11-09T00:33:27.075523",
     "exception": false,
     "start_time": "2022-11-09T00:33:21.856368",
     "status": "completed"
    },
    "tags": []
   },
   "source": []
  },
  {
   "cell_type": "markdown",
   "id": "4f2dc2e3",
   "metadata": {
    "papermill": {
     "duration": 5.755152,
     "end_time": "2022-11-09T00:33:38.376013",
     "exception": false,
     "start_time": "2022-11-09T00:33:32.620861",
     "status": "completed"
    },
    "tags": []
   },
   "source": [
    "# Second Training Fine Tune"
   ]
  }
 ],
 "metadata": {
  "kernelspec": {
   "display_name": "Python 3",
   "language": "python",
   "name": "python3"
  },
  "language_info": {
   "codemirror_mode": {
    "name": "ipython",
    "version": 3
   },
   "file_extension": ".py",
   "mimetype": "text/x-python",
   "name": "python",
   "nbconvert_exporter": "python",
   "pygments_lexer": "ipython3",
   "version": "3.7.12"
  },
  "papermill": {
   "default_parameters": {},
   "duration": 9684.642749,
   "end_time": "2022-11-09T00:33:47.281754",
   "environment_variables": {},
   "exception": null,
   "input_path": "__notebook__.ipynb",
   "output_path": "__notebook__.ipynb",
   "parameters": {},
   "start_time": "2022-11-08T21:52:22.639005",
   "version": "2.3.4"
  }
 },
 "nbformat": 4,
 "nbformat_minor": 5
}
