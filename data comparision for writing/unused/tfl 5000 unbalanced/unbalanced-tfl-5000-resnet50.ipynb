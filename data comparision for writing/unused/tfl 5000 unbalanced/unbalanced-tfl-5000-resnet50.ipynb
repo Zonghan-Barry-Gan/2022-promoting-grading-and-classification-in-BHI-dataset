{
 "cells": [
  {
   "cell_type": "code",
   "execution_count": 1,
   "id": "b3908947",
   "metadata": {
    "_cell_guid": "b1076dfc-b9ad-4769-8c92-a6c4dae69d19",
    "_uuid": "8f2839f25d086af736a60e9eeb907d3b93b6e0e5",
    "execution": {
     "iopub.execute_input": "2022-05-17T18:07:29.658453Z",
     "iopub.status.busy": "2022-05-17T18:07:29.657696Z",
     "iopub.status.idle": "2022-05-17T18:07:42.554254Z",
     "shell.execute_reply": "2022-05-17T18:07:42.553232Z"
    },
    "papermill": {
     "duration": 12.939675,
     "end_time": "2022-05-17T18:07:42.556809",
     "exception": false,
     "start_time": "2022-05-17T18:07:29.617134",
     "status": "completed"
    },
    "tags": []
   },
   "outputs": [
    {
     "name": "stdout",
     "output_type": "stream",
     "text": [
      "Collecting Livelossplot\r\n",
      "  Downloading livelossplot-0.5.5-py3-none-any.whl (22 kB)\r\n",
      "Requirement already satisfied: matplotlib in /opt/conda/lib/python3.7/site-packages (from Livelossplot) (3.5.2)\r\n",
      "Requirement already satisfied: numpy<1.22 in /opt/conda/lib/python3.7/site-packages (from Livelossplot) (1.21.6)\r\n",
      "Requirement already satisfied: ipython==7.* in /opt/conda/lib/python3.7/site-packages (from Livelossplot) (7.32.0)\r\n",
      "Requirement already satisfied: bokeh in /opt/conda/lib/python3.7/site-packages (from Livelossplot) (2.4.2)\r\n",
      "Requirement already satisfied: decorator in /opt/conda/lib/python3.7/site-packages (from ipython==7.*->Livelossplot) (5.1.1)\r\n",
      "Requirement already satisfied: pickleshare in /opt/conda/lib/python3.7/site-packages (from ipython==7.*->Livelossplot) (0.7.5)\r\n",
      "Requirement already satisfied: backcall in /opt/conda/lib/python3.7/site-packages (from ipython==7.*->Livelossplot) (0.2.0)\r\n",
      "Requirement already satisfied: jedi>=0.16 in /opt/conda/lib/python3.7/site-packages (from ipython==7.*->Livelossplot) (0.18.1)\r\n",
      "Requirement already satisfied: pexpect>4.3 in /opt/conda/lib/python3.7/site-packages (from ipython==7.*->Livelossplot) (4.8.0)\r\n",
      "Requirement already satisfied: traitlets>=4.2 in /opt/conda/lib/python3.7/site-packages (from ipython==7.*->Livelossplot) (5.1.1)\r\n",
      "Requirement already satisfied: matplotlib-inline in /opt/conda/lib/python3.7/site-packages (from ipython==7.*->Livelossplot) (0.1.3)\r\n",
      "Requirement already satisfied: setuptools>=18.5 in /opt/conda/lib/python3.7/site-packages (from ipython==7.*->Livelossplot) (59.8.0)\r\n",
      "Requirement already satisfied: prompt-toolkit!=3.0.0,!=3.0.1,<3.1.0,>=2.0.0 in /opt/conda/lib/python3.7/site-packages (from ipython==7.*->Livelossplot) (3.0.27)\r\n",
      "Requirement already satisfied: pygments in /opt/conda/lib/python3.7/site-packages (from ipython==7.*->Livelossplot) (2.11.2)\r\n",
      "Requirement already satisfied: tornado>=5.1 in /opt/conda/lib/python3.7/site-packages (from bokeh->Livelossplot) (6.1)\r\n",
      "Requirement already satisfied: packaging>=16.8 in /opt/conda/lib/python3.7/site-packages (from bokeh->Livelossplot) (21.3)\r\n",
      "Requirement already satisfied: pillow>=7.1.0 in /opt/conda/lib/python3.7/site-packages (from bokeh->Livelossplot) (9.0.1)\r\n",
      "Requirement already satisfied: typing-extensions>=3.10.0 in /opt/conda/lib/python3.7/site-packages (from bokeh->Livelossplot) (4.2.0)\r\n",
      "Requirement already satisfied: PyYAML>=3.10 in /opt/conda/lib/python3.7/site-packages (from bokeh->Livelossplot) (6.0)\r\n",
      "Requirement already satisfied: Jinja2>=2.9 in /opt/conda/lib/python3.7/site-packages (from bokeh->Livelossplot) (3.1.2)\r\n",
      "Requirement already satisfied: pyparsing>=2.2.1 in /opt/conda/lib/python3.7/site-packages (from matplotlib->Livelossplot) (3.0.7)\r\n",
      "Requirement already satisfied: fonttools>=4.22.0 in /opt/conda/lib/python3.7/site-packages (from matplotlib->Livelossplot) (4.30.0)\r\n",
      "Requirement already satisfied: cycler>=0.10 in /opt/conda/lib/python3.7/site-packages (from matplotlib->Livelossplot) (0.11.0)\r\n",
      "Requirement already satisfied: python-dateutil>=2.7 in /opt/conda/lib/python3.7/site-packages (from matplotlib->Livelossplot) (2.8.2)\r\n",
      "Requirement already satisfied: kiwisolver>=1.0.1 in /opt/conda/lib/python3.7/site-packages (from matplotlib->Livelossplot) (1.4.0)\r\n",
      "Requirement already satisfied: parso<0.9.0,>=0.8.0 in /opt/conda/lib/python3.7/site-packages (from jedi>=0.16->ipython==7.*->Livelossplot) (0.8.3)\r\n",
      "Requirement already satisfied: MarkupSafe>=2.0 in /opt/conda/lib/python3.7/site-packages (from Jinja2>=2.9->bokeh->Livelossplot) (2.0.1)\r\n",
      "Requirement already satisfied: ptyprocess>=0.5 in /opt/conda/lib/python3.7/site-packages (from pexpect>4.3->ipython==7.*->Livelossplot) (0.7.0)\r\n",
      "Requirement already satisfied: wcwidth in /opt/conda/lib/python3.7/site-packages (from prompt-toolkit!=3.0.0,!=3.0.1,<3.1.0,>=2.0.0->ipython==7.*->Livelossplot) (0.2.5)\r\n",
      "Requirement already satisfied: six>=1.5 in /opt/conda/lib/python3.7/site-packages (from python-dateutil>=2.7->matplotlib->Livelossplot) (1.16.0)\r\n",
      "Installing collected packages: Livelossplot\r\n",
      "Successfully installed Livelossplot-0.5.5\r\n",
      "\u001b[33mWARNING: Running pip as the 'root' user can result in broken permissions and conflicting behaviour with the system package manager. It is recommended to use a virtual environment instead: https://pip.pypa.io/warnings/venv\u001b[0m\u001b[33m\r\n",
      "\u001b[0m"
     ]
    }
   ],
   "source": [
    "# This Python 3 environment comes with many helpful analytics libraries installed\n",
    "# It is defined by the kaggle/python Docker image: https://github.com/kaggle/docker-python\n",
    "# For example, here's several helpful packages to load\n",
    "\n",
    "import numpy as np # linear algebra\n",
    "import pandas as pd # data processing, CSV file I/O (e.g. pd.read_csv)\n",
    "\n",
    "# Input data files are available in the read-only \"../input/\" directory\n",
    "# For example, running this (by clicking run or pressing Shift+Enter) will list all files under the input directory\n",
    "\n",
    "import os\n",
    "\n",
    "import warnings\n",
    "warnings.filterwarnings('ignore')\n",
    "%matplotlib inline\n",
    "!pip install Livelossplot\n",
    "from livelossplot import PlotLossesKeras\n",
    "\n",
    "from glob import glob\n",
    "import os\n",
    "import shutil\n",
    "\n",
    "import numpy as np\n",
    "import pandas as pd\n",
    "# You can write up to 20GB to the current directory (/kaggle/working/) that gets preserved as output when you create a version using \"Save & Run All\" \n",
    "# You can also write temporary files to /kaggle/temp/, but they won't be saved outside of the current session"
   ]
  },
  {
   "cell_type": "markdown",
   "id": "8f1e8c6e",
   "metadata": {
    "papermill": {
     "duration": 0.03946,
     "end_time": "2022-05-17T18:07:42.637797",
     "exception": false,
     "start_time": "2022-05-17T18:07:42.598337",
     "status": "completed"
    },
    "tags": []
   },
   "source": [
    "# AIM\n",
    "## To classify the images into \n",
    "### IDC+\n",
    "### IDC-\n",
    "\n",
    "# Validation Strategy:\n",
    "\n",
    "## Train Data Size= 0.7*Total_Data\n",
    "## Validation Data Size= 0.21* Total_Data\n",
    "## Test Data Size= 0.09 * Total_Data\n",
    "\n",
    "# Augmentaions Used:\n",
    "## Each Image is rotated through 45 angles\n"
   ]
  },
  {
   "cell_type": "code",
   "execution_count": 2,
   "id": "1d9a3588",
   "metadata": {
    "execution": {
     "iopub.execute_input": "2022-05-17T18:07:42.719103Z",
     "iopub.status.busy": "2022-05-17T18:07:42.718766Z",
     "iopub.status.idle": "2022-05-17T18:07:52.655670Z",
     "shell.execute_reply": "2022-05-17T18:07:52.654968Z"
    },
    "papermill": {
     "duration": 9.980063,
     "end_time": "2022-05-17T18:07:52.657631",
     "exception": false,
     "start_time": "2022-05-17T18:07:42.677568",
     "status": "completed"
    },
    "tags": []
   },
   "outputs": [
    {
     "data": {
      "text/html": [
       "<style type='text/css'>\n",
       ".datatable table.frame { margin-bottom: 0; }\n",
       ".datatable table.frame thead { border-bottom: none; }\n",
       ".datatable table.frame tr.coltypes td {  color: #FFFFFF;  line-height: 6px;  padding: 0 0.5em;}\n",
       ".datatable .bool    { background: #DDDD99; }\n",
       ".datatable .object  { background: #565656; }\n",
       ".datatable .int     { background: #5D9E5D; }\n",
       ".datatable .float   { background: #4040CC; }\n",
       ".datatable .str     { background: #CC4040; }\n",
       ".datatable .time    { background: #40CC40; }\n",
       ".datatable .row_index {  background: var(--jp-border-color3);  border-right: 1px solid var(--jp-border-color0);  color: var(--jp-ui-font-color3);  font-size: 9px;}\n",
       ".datatable .frame tbody td { text-align: left; }\n",
       ".datatable .frame tr.coltypes .row_index {  background: var(--jp-border-color0);}\n",
       ".datatable th:nth-child(2) { padding-left: 12px; }\n",
       ".datatable .hellipsis {  color: var(--jp-cell-editor-border-color);}\n",
       ".datatable .vellipsis {  background: var(--jp-layout-color0);  color: var(--jp-cell-editor-border-color);}\n",
       ".datatable .na {  color: var(--jp-cell-editor-border-color);  font-size: 80%;}\n",
       ".datatable .sp {  opacity: 0.25;}\n",
       ".datatable .footer { font-size: 9px; }\n",
       ".datatable .frame_dimensions {  background: var(--jp-border-color3);  border-top: 1px solid var(--jp-border-color0);  color: var(--jp-ui-font-color3);  display: inline-block;  opacity: 0.6;  padding: 1px 10px 1px 5px;}\n",
       "</style>\n"
      ],
      "text/plain": [
       "<IPython.core.display.HTML object>"
      ]
     },
     "metadata": {},
     "output_type": "display_data"
    },
    {
     "name": "stdout",
     "output_type": "stream",
     "text": [
      "All modules have been imported\n"
     ]
    }
   ],
   "source": [
    "\n",
    "import numpy as np\n",
    "import pandas as pd\n",
    "import cv2\n",
    "from PIL import Image\n",
    "import scipy\n",
    "\n",
    "import tensorflow as tf\n",
    "from tensorflow.keras.applications import *\n",
    "from tensorflow.keras.optimizers import *\n",
    "from tensorflow.keras.losses import *\n",
    "from tensorflow.keras.layers import *\n",
    "from tensorflow.keras.models import *\n",
    "from tensorflow.keras.callbacks import *\n",
    "from tensorflow.keras.preprocessing.image import *\n",
    "from tensorflow.keras.utils import *\n",
    "# import pydot\n",
    "\n",
    "from sklearn.metrics import *\n",
    "from sklearn.model_selection import *\n",
    "import tensorflow.keras.backend as K\n",
    "\n",
    "from tqdm import tqdm, tqdm_notebook\n",
    "from colorama import Fore\n",
    "import json\n",
    "import matplotlib.pyplot as plt\n",
    "import seaborn as sns\n",
    "from glob import glob\n",
    "from skimage.io import *\n",
    "%config Completer.use_jedi = False\n",
    "import time\n",
    "from sklearn.decomposition import PCA\n",
    "from sklearn.svm import LinearSVC\n",
    "from sklearn.linear_model import LogisticRegression\n",
    "from sklearn.metrics import accuracy_score\n",
    "import lightgbm as lgb\n",
    "import xgboost as xgb\n",
    "\n",
    "print(\"All modules have been imported\")"
   ]
  },
  {
   "cell_type": "code",
   "execution_count": 3,
   "id": "5e34323c",
   "metadata": {
    "execution": {
     "iopub.execute_input": "2022-05-17T18:07:52.742311Z",
     "iopub.status.busy": "2022-05-17T18:07:52.741454Z",
     "iopub.status.idle": "2022-05-17T18:07:52.746653Z",
     "shell.execute_reply": "2022-05-17T18:07:52.745840Z"
    },
    "papermill": {
     "duration": 0.049369,
     "end_time": "2022-05-17T18:07:52.748447",
     "exception": false,
     "start_time": "2022-05-17T18:07:52.699078",
     "status": "completed"
    },
    "tags": []
   },
   "outputs": [],
   "source": [
    "sampling_seed=0\n",
    "size_4_training=5000\n",
    "img_size=224\n",
    "training_reshape=(-1, img_size, img_size, 3)"
   ]
  },
  {
   "cell_type": "markdown",
   "id": "31bb38a9",
   "metadata": {
    "papermill": {
     "duration": 0.041254,
     "end_time": "2022-05-17T18:07:52.834294",
     "exception": false,
     "start_time": "2022-05-17T18:07:52.793040",
     "status": "completed"
    },
    "tags": []
   },
   "source": [
    "Image labelling"
   ]
  },
  {
   "cell_type": "code",
   "execution_count": 4,
   "id": "bde8c836",
   "metadata": {
    "execution": {
     "iopub.execute_input": "2022-05-17T18:07:52.918056Z",
     "iopub.status.busy": "2022-05-17T18:07:52.917081Z",
     "iopub.status.idle": "2022-05-17T18:12:17.556698Z",
     "shell.execute_reply": "2022-05-17T18:12:17.555589Z"
    },
    "papermill": {
     "duration": 264.684559,
     "end_time": "2022-05-17T18:12:17.559766",
     "exception": false,
     "start_time": "2022-05-17T18:07:52.875207",
     "status": "completed"
    },
    "tags": []
   },
   "outputs": [
    {
     "name": "stdout",
     "output_type": "stream",
     "text": [
      "['../input/breast-histopathology-images/IDC_regular_ps50_idx5/10295/0/10295_idx5_x1351_y1101_class0.png', '../input/breast-histopathology-images/IDC_regular_ps50_idx5/10295/0/10295_idx5_x1501_y501_class0.png', '../input/breast-histopathology-images/IDC_regular_ps50_idx5/10295/0/10295_idx5_x1501_y1101_class0.png', '../input/breast-histopathology-images/IDC_regular_ps50_idx5/10295/0/10295_idx5_x451_y901_class0.png', '../input/breast-histopathology-images/IDC_regular_ps50_idx5/10295/0/10295_idx5_x801_y451_class0.png', '../input/breast-histopathology-images/IDC_regular_ps50_idx5/10295/0/10295_idx5_x151_y1051_class0.png', '../input/breast-histopathology-images/IDC_regular_ps50_idx5/10295/0/10295_idx5_x1351_y901_class0.png', '../input/breast-histopathology-images/IDC_regular_ps50_idx5/10295/0/10295_idx5_x701_y651_class0.png', '../input/breast-histopathology-images/IDC_regular_ps50_idx5/10295/0/10295_idx5_x951_y1401_class0.png', '../input/breast-histopathology-images/IDC_regular_ps50_idx5/10295/0/10295_idx5_x601_y501_class0.png']\n"
     ]
    }
   ],
   "source": [
    "import random\n",
    "#make directory for labelling\n",
    "os.makedirs('../working/idc2/idc-minus/')     \n",
    "os.makedirs('../working/idc2/idc-plus/')  \n",
    "\n",
    "\n",
    "class0 = [] # 0 = idc+\n",
    "class1 = [] # 1 = idc-\n",
    "imagePatches = glob('../input/breast-histopathology-images/IDC_regular_ps50_idx5/**/*.png', recursive=True)\n",
    "for filename in imagePatches:\n",
    "    if filename.endswith(\"class0.png\"):\n",
    "         class0.append(filename)\n",
    "    else:\n",
    "        class1.append(filename)\n",
    "\n",
    "print(class0[0:10])\n",
    "\n",
    "#sampling 10000 images from class 0 and class 1 to train the model\n",
    "\n",
    "random.seed(sampling_seed)\n",
    "class0sample=random.sample(class0,size_4_training)\n",
    "class1sample=random.sample(class1,size_4_training)\n",
    "\n",
    "\n",
    "def read_and_save_data(path, file_name_array):\n",
    "    j=0\n",
    "    for i in file_name_array:\n",
    "        if i.endswith('.png'):\n",
    "          \n",
    "            \n",
    "            #second copy method\n",
    "            head, tail = os.path.split(i)\n",
    "            outputname=str(path+tail)\n",
    "            #outputname=str(path+str(j)+'.png')\n",
    "            #print(outputname)\n",
    "            shutil.copy(i, outputname)\n",
    "   \n",
    "            #print(status2)\n",
    "            \n",
    "            j=j+1\n",
    "            if j==120000:\n",
    "                break\n",
    "            \n",
    "   \n",
    "class0path='../working/idc2/idc-minus/'\n",
    "class1path='../working/idc2/idc-plus/'\n",
    "\n",
    "\n",
    "\n",
    "\n",
    "read_and_save_data(class0path,class0sample)\n",
    "read_and_save_data(class1path,class1sample)"
   ]
  },
  {
   "cell_type": "markdown",
   "id": "c9cdee50",
   "metadata": {
    "papermill": {
     "duration": 0.043085,
     "end_time": "2022-05-17T18:12:17.646830",
     "exception": false,
     "start_time": "2022-05-17T18:12:17.603745",
     "status": "completed"
    },
    "tags": []
   },
   "source": []
  },
  {
   "cell_type": "code",
   "execution_count": null,
   "id": "9f7874b8",
   "metadata": {
    "papermill": {
     "duration": 0.042668,
     "end_time": "2022-05-17T18:12:17.732653",
     "exception": false,
     "start_time": "2022-05-17T18:12:17.689985",
     "status": "completed"
    },
    "tags": []
   },
   "outputs": [],
   "source": [
    "\n"
   ]
  },
  {
   "cell_type": "code",
   "execution_count": 5,
   "id": "750093d8",
   "metadata": {
    "execution": {
     "iopub.execute_input": "2022-05-17T18:12:17.820863Z",
     "iopub.status.busy": "2022-05-17T18:12:17.820555Z",
     "iopub.status.idle": "2022-05-17T18:12:17.824553Z",
     "shell.execute_reply": "2022-05-17T18:12:17.823662Z"
    },
    "papermill": {
     "duration": 0.051,
     "end_time": "2022-05-17T18:12:17.826483",
     "exception": false,
     "start_time": "2022-05-17T18:12:17.775483",
     "status": "completed"
    },
    "tags": []
   },
   "outputs": [],
   "source": [
    "\n",
    "from PIL import Image\n",
    "import glob\n"
   ]
  },
  {
   "cell_type": "code",
   "execution_count": null,
   "id": "fa824cb6",
   "metadata": {
    "papermill": {
     "duration": 0.042738,
     "end_time": "2022-05-17T18:12:17.913943",
     "exception": false,
     "start_time": "2022-05-17T18:12:17.871205",
     "status": "completed"
    },
    "tags": []
   },
   "outputs": [],
   "source": []
  },
  {
   "cell_type": "code",
   "execution_count": null,
   "id": "064544a8",
   "metadata": {
    "papermill": {
     "duration": 0.042955,
     "end_time": "2022-05-17T18:12:17.999861",
     "exception": false,
     "start_time": "2022-05-17T18:12:17.956906",
     "status": "completed"
    },
    "tags": []
   },
   "outputs": [],
   "source": []
  },
  {
   "cell_type": "code",
   "execution_count": 6,
   "id": "52013bd9",
   "metadata": {
    "execution": {
     "iopub.execute_input": "2022-05-17T18:12:18.090085Z",
     "iopub.status.busy": "2022-05-17T18:12:18.089796Z",
     "iopub.status.idle": "2022-05-17T18:12:18.094187Z",
     "shell.execute_reply": "2022-05-17T18:12:18.093201Z"
    },
    "papermill": {
     "duration": 0.052229,
     "end_time": "2022-05-17T18:12:18.096406",
     "exception": false,
     "start_time": "2022-05-17T18:12:18.044177",
     "status": "completed"
    },
    "tags": []
   },
   "outputs": [],
   "source": [
    "import os #Operating System\n",
    "import sys #System\n",
    "# train_generator = train_datagen.flow(x_train, y_train, batch_size =)\n",
    "# val_generator = val_datagen.flow(x_val, y_val, batch_size = 64)\n",
    "# test_generator=test_datagen.flow(x_test,y_test,batch_size = 64)\n"
   ]
  },
  {
   "cell_type": "markdown",
   "id": "2783e56a",
   "metadata": {
    "papermill": {
     "duration": 0.043816,
     "end_time": "2022-05-17T18:12:18.184739",
     "exception": false,
     "start_time": "2022-05-17T18:12:18.140923",
     "status": "completed"
    },
    "tags": []
   },
   "source": [
    "#import image"
   ]
  },
  {
   "cell_type": "code",
   "execution_count": 7,
   "id": "9e2c967f",
   "metadata": {
    "execution": {
     "iopub.execute_input": "2022-05-17T18:12:18.271779Z",
     "iopub.status.busy": "2022-05-17T18:12:18.271508Z",
     "iopub.status.idle": "2022-05-17T18:12:18.279233Z",
     "shell.execute_reply": "2022-05-17T18:12:18.278217Z"
    },
    "papermill": {
     "duration": 0.052836,
     "end_time": "2022-05-17T18:12:18.281219",
     "exception": false,
     "start_time": "2022-05-17T18:12:18.228383",
     "status": "completed"
    },
    "tags": []
   },
   "outputs": [],
   "source": [
    "import cv2\n",
    "'''\n",
    "def readImage(path, X, Y, label):\n",
    "    j=0\n",
    " \n",
    "    for i in os.listdir(path):\n",
    "        imgname=path+i\n",
    "        #print(imgname)\n",
    "        img = cv2.imread(imgname, cv2.IMREAD_COLOR)\n",
    "        img =cv2.resize(img,(50, 50))\n",
    "        X.append(img)\n",
    "        Y.append(label)\n",
    "        j=j+1\n",
    "        #if j==10:\n",
    "        #    break\n",
    "        \n",
    "    return X, Y\n",
    "    '''\n",
    "def readImage(path, tag):\n",
    "    j=0\n",
    "    image_array = []\n",
    "    for i in os.listdir(path):\n",
    "        imgname=path+i\n",
    "        #print(imgname)\n",
    "        img = cv2.imread(imgname, cv2.IMREAD_COLOR)\n",
    "        img_resized = cv2.resize(img, (img_size,img_size), interpolation=cv2.INTER_LINEAR)\n",
    "        image_array.append([img_resized, tag])\n",
    "        #print(img[1])\n",
    "        j=j+1\n",
    "        #if j==10:\n",
    "        #    break\n",
    "        \n",
    "    return image_array"
   ]
  },
  {
   "cell_type": "code",
   "execution_count": 8,
   "id": "8c327d2a",
   "metadata": {
    "execution": {
     "iopub.execute_input": "2022-05-17T18:12:18.369830Z",
     "iopub.status.busy": "2022-05-17T18:12:18.369504Z",
     "iopub.status.idle": "2022-05-17T18:12:22.430626Z",
     "shell.execute_reply": "2022-05-17T18:12:22.429537Z"
    },
    "papermill": {
     "duration": 4.108804,
     "end_time": "2022-05-17T18:12:22.433755",
     "exception": false,
     "start_time": "2022-05-17T18:12:18.324951",
     "status": "completed"
    },
    "tags": []
   },
   "outputs": [
    {
     "name": "stdout",
     "output_type": "stream",
     "text": [
      "(5000, 2)\n",
      "(10000, 2)\n",
      "(10000, 224, 224, 3)\n"
     ]
    }
   ],
   "source": [
    "import numpy as np\n",
    "\n",
    "\n",
    "class0_array = readImage(class0path, 0)\n",
    "class1_array = readImage(class1path, 1)\n",
    "class0_array=np.array(class0_array)\n",
    "class1_array=np.array(class1_array)\n",
    "combined_data = np.concatenate((class0_array, class1_array))\n",
    "random.seed(41)\n",
    "random.shuffle(combined_data)\n",
    "print(class0_array.shape)\n",
    "print(combined_data.shape)\n",
    "\n",
    "X = []\n",
    "y = []\n",
    "\n",
    "for features,label in combined_data:\n",
    "    X.append(features)\n",
    "    y.append(label)\n",
    "#print(X.shape)\n",
    "#pring(y.shape)\n",
    "\n",
    "# reshape X data\n",
    "X = np.array(X).reshape(training_reshape)\n",
    "print(X.shape)"
   ]
  },
  {
   "cell_type": "code",
   "execution_count": 9,
   "id": "f6c6d289",
   "metadata": {
    "execution": {
     "iopub.execute_input": "2022-05-17T18:12:22.524324Z",
     "iopub.status.busy": "2022-05-17T18:12:22.523720Z",
     "iopub.status.idle": "2022-05-17T18:12:23.310968Z",
     "shell.execute_reply": "2022-05-17T18:12:23.309688Z"
    },
    "papermill": {
     "duration": 0.834047,
     "end_time": "2022-05-17T18:12:23.313614",
     "exception": false,
     "start_time": "2022-05-17T18:12:22.479567",
     "status": "completed"
    },
    "tags": []
   },
   "outputs": [
    {
     "name": "stdout",
     "output_type": "stream",
     "text": [
      "(7000, 224, 224, 3) (900, 224, 224, 3) (2100, 224, 224, 3) (7000, 2) (900, 2) (2100, 2)\n"
     ]
    }
   ],
   "source": [
    "X_train, X_test1, y_train, y_test1 = train_test_split(X, y, test_size=0.3, random_state=42)\n",
    "X_val, X_test, y_val, y_test = train_test_split(X_test1, y_test1, test_size=0.3, random_state=42)\n",
    "y_train = to_categorical(y_train)\n",
    "y_test = to_categorical(y_test)\n",
    "y_val = to_categorical(y_val)\n",
    "print(X_train.shape, X_test.shape, X_val.shape, y_train.shape, y_test.shape, y_val.shape)"
   ]
  },
  {
   "cell_type": "code",
   "execution_count": 10,
   "id": "5735ac90",
   "metadata": {
    "execution": {
     "iopub.execute_input": "2022-05-17T18:12:23.402851Z",
     "iopub.status.busy": "2022-05-17T18:12:23.401891Z",
     "iopub.status.idle": "2022-05-17T18:12:23.408343Z",
     "shell.execute_reply": "2022-05-17T18:12:23.407608Z"
    },
    "papermill": {
     "duration": 0.051881,
     "end_time": "2022-05-17T18:12:23.410217",
     "exception": false,
     "start_time": "2022-05-17T18:12:23.358336",
     "status": "completed"
    },
    "tags": []
   },
   "outputs": [],
   "source": [
    "#Callbacks\n",
    "c2=tf.keras.callbacks.EarlyStopping(\n",
    "    monitor=\"val_loss\",\n",
    "    min_delta=0,\n",
    "    patience=6,\n",
    "    mode=\"auto\",\n",
    "    baseline=None,\n",
    "    restore_best_weights=True,\n",
    ")\n",
    "\n",
    "c3=tf.keras.callbacks.ReduceLROnPlateau(\n",
    "    monitor=\"val_loss\",\n",
    "    factor=0.1,\n",
    "    patience=6,\n",
    "    mode=\"auto\",\n",
    "    min_delta=0.0001,\n",
    "    cooldown=0,\n",
    "    min_lr=0.001\n",
    ")\n",
    "nClasses=2"
   ]
  },
  {
   "cell_type": "markdown",
   "id": "14f8975c",
   "metadata": {
    "papermill": {
     "duration": 0.042428,
     "end_time": "2022-05-17T18:12:23.496040",
     "exception": false,
     "start_time": "2022-05-17T18:12:23.453612",
     "status": "completed"
    },
    "tags": []
   },
   "source": [
    "# Model configure"
   ]
  },
  {
   "cell_type": "code",
   "execution_count": 11,
   "id": "eb5fc94d",
   "metadata": {
    "execution": {
     "iopub.execute_input": "2022-05-17T18:12:23.583320Z",
     "iopub.status.busy": "2022-05-17T18:12:23.583039Z",
     "iopub.status.idle": "2022-05-17T18:12:26.711267Z",
     "shell.execute_reply": "2022-05-17T18:12:26.710178Z"
    },
    "papermill": {
     "duration": 3.174366,
     "end_time": "2022-05-17T18:12:26.713845",
     "exception": false,
     "start_time": "2022-05-17T18:12:23.539479",
     "status": "completed"
    },
    "tags": []
   },
   "outputs": [
    {
     "name": "stderr",
     "output_type": "stream",
     "text": [
      "2022-05-17 18:12:23.651184: I tensorflow/core/common_runtime/process_util.cc:146] Creating new thread pool with default inter op setting: 2. Tune using inter_op_parallelism_threads for best performance.\n"
     ]
    },
    {
     "name": "stdout",
     "output_type": "stream",
     "text": [
      "Downloading data from https://storage.googleapis.com/tensorflow/keras-applications/resnet/resnet50_weights_tf_dim_ordering_tf_kernels_notop.h5\n",
      "94773248/94765736 [==============================] - 1s 0us/step\n",
      "94781440/94765736 [==============================] - 1s 0us/step\n",
      "Model: \"sequential\"\n",
      "_________________________________________________________________\n",
      "Layer (type)                 Output Shape              Param #   \n",
      "=================================================================\n",
      "resnet50 (Functional)        (None, 2048)              23587712  \n",
      "_________________________________________________________________\n",
      "flatten (Flatten)            (None, 2048)              0         \n",
      "_________________________________________________________________\n",
      "batch_normalization (BatchNo (None, 2048)              8192      \n",
      "_________________________________________________________________\n",
      "dense (Dense)                (None, 4096)              8392704   \n",
      "_________________________________________________________________\n",
      "batch_normalization_1 (Batch (None, 4096)              16384     \n",
      "_________________________________________________________________\n",
      "activation (Activation)      (None, 4096)              0         \n",
      "_________________________________________________________________\n",
      "dropout (Dropout)            (None, 4096)              0         \n",
      "_________________________________________________________________\n",
      "dense_1 (Dense)              (None, 2096)              8587312   \n",
      "_________________________________________________________________\n",
      "dense_2 (Dense)              (None, 2)                 4194      \n",
      "=================================================================\n",
      "Total params: 40,596,498\n",
      "Trainable params: 16,996,498\n",
      "Non-trainable params: 23,600,000\n",
      "_________________________________________________________________\n"
     ]
    }
   ],
   "source": [
    "RESNET50_POOLING_AVERAGE = 'avg'\n",
    "DENSE_LAYER_ACTIVATION = 'sigmoid'\n",
    "OBJECTIVE_FUNCTION = 'categorical_crossentropy'\n",
    "\n",
    "# Common accuracy metric for all outputs, but can use different metrics for different output\n",
    "LOSS_METRICS = ['accuracy']\n",
    "\n",
    "# EARLY_STOP_PATIENCE must be < NUM_EPOCHS\n",
    "NUM_EPOCHS = 30\n",
    "EARLY_STOP_PATIENCE = 3\n",
    "#resnet_weights_path = '../input/resnet50/resnet50_weights_tf_dim_ordering_tf_kernels_notop.h5'\n",
    "\n",
    "from keras.applications import resnet\n",
    "base_Neural_Net=resnet.ResNet50(include_top = False, pooling = RESNET50_POOLING_AVERAGE, weights = 'imagenet')\n",
    "base_Neural_Net.trainable = False\n",
    "model=Sequential()\n",
    "model.add(base_Neural_Net)\n",
    "model.add(Flatten())\n",
    "model.add(BatchNormalization())\n",
    "model.add(Dense(4096,kernel_initializer='he_uniform'))\n",
    "model.add(BatchNormalization())\n",
    "model.add(Activation('relu'))\n",
    "model.add(Dropout(0.5))\n",
    "model.add(Dense(2096,activation=\"relu\"))\n",
    "model.add(Dense(2, activation='sigmoid'))\n",
    "#model = Model(inputs=resnet50_base_model.input, outputs=predictions)\n",
    "model.summary()\n"
   ]
  },
  {
   "cell_type": "code",
   "execution_count": 12,
   "id": "127084f1",
   "metadata": {
    "execution": {
     "iopub.execute_input": "2022-05-17T18:12:26.814523Z",
     "iopub.status.busy": "2022-05-17T18:12:26.814227Z",
     "iopub.status.idle": "2022-05-17T18:12:28.170217Z",
     "shell.execute_reply": "2022-05-17T18:12:28.169443Z"
    },
    "papermill": {
     "duration": 1.411526,
     "end_time": "2022-05-17T18:12:28.175098",
     "exception": false,
     "start_time": "2022-05-17T18:12:26.763572",
     "status": "completed"
    },
    "tags": []
   },
   "outputs": [
    {
     "data": {
      "image/png": "[encoded data removed]",
      "text/plain": [
       "<IPython.core.display.Image object>"
      ]
     },
     "execution_count": 12,
     "metadata": {},
     "output_type": "execute_result"
    }
   ],
   "source": [
    "from tensorflow.keras.utils import plot_model\n",
    "from IPython.display import Image\n",
    "plot_model(model, to_file='convnet.png', show_shapes=True,show_layer_names=True)\n",
    "Image(filename='convnet.png') "
   ]
  },
  {
   "cell_type": "code",
   "execution_count": 13,
   "id": "981e4725",
   "metadata": {
    "execution": {
     "iopub.execute_input": "2022-05-17T18:12:28.300378Z",
     "iopub.status.busy": "2022-05-17T18:12:28.299869Z",
     "iopub.status.idle": "2022-05-17T18:12:28.323002Z",
     "shell.execute_reply": "2022-05-17T18:12:28.321975Z"
    },
    "papermill": {
     "duration": 0.079294,
     "end_time": "2022-05-17T18:12:28.325281",
     "exception": false,
     "start_time": "2022-05-17T18:12:28.245987",
     "status": "completed"
    },
    "tags": []
   },
   "outputs": [],
   "source": [
    "callbacks1 = [EarlyStopping(monitor='val_loss', patience=5, verbose=1), ModelCheckpoint('model.hdf5', save_best_only=True)]\n",
    "opt = Adam(learning_rate=0.001)\n",
    "model.compile(loss='categorical_crossentropy', optimizer=opt, metrics=['accuracy'])"
   ]
  },
  {
   "cell_type": "code",
   "execution_count": 14,
   "id": "a753c9ea",
   "metadata": {
    "execution": {
     "iopub.execute_input": "2022-05-17T18:12:28.432946Z",
     "iopub.status.busy": "2022-05-17T18:12:28.431842Z",
     "iopub.status.idle": "2022-05-17T19:56:25.578751Z",
     "shell.execute_reply": "2022-05-17T19:56:25.575875Z"
    },
    "papermill": {
     "duration": 6238.141319,
     "end_time": "2022-05-17T19:56:26.519655",
     "exception": false,
     "start_time": "2022-05-17T18:12:28.378336",
     "status": "completed"
    },
    "tags": []
   },
   "outputs": [
    {
     "name": "stdout",
     "output_type": "stream",
     "text": [
      "CPU times: user 3 µs, sys: 1 µs, total: 4 µs\n",
      "Wall time: 7.87 µs\n"
     ]
    },
    {
     "name": "stderr",
     "output_type": "stream",
     "text": [
      "2022-05-17 18:12:29.561729: I tensorflow/compiler/mlir/mlir_graph_optimization_pass.cc:185] None of the MLIR Optimization Passes are enabled (registered 2)\n"
     ]
    },
    {
     "name": "stdout",
     "output_type": "stream",
     "text": [
      "Epoch 1/30\n",
      "219/219 [==============================] - 569s 3s/step - loss: 0.4026 - accuracy: 0.8809 - val_loss: 0.3072 - val_accuracy: 0.8600\n",
      "Epoch 2/30\n",
      "219/219 [==============================] - 565s 3s/step - loss: 0.2244 - accuracy: 0.9107 - val_loss: 0.2648 - val_accuracy: 0.8944\n",
      "Epoch 3/30\n",
      "219/219 [==============================] - 566s 3s/step - loss: 0.1917 - accuracy: 0.9237 - val_loss: 0.2473 - val_accuracy: 0.9022\n",
      "Epoch 4/30\n",
      "219/219 [==============================] - 563s 3s/step - loss: 0.1614 - accuracy: 0.9389 - val_loss: 0.2685 - val_accuracy: 0.9078\n",
      "Epoch 5/30\n",
      "219/219 [==============================] - 563s 3s/step - loss: 0.1489 - accuracy: 0.9451 - val_loss: 0.2650 - val_accuracy: 0.9044\n",
      "Epoch 6/30\n",
      "219/219 [==============================] - 565s 3s/step - loss: 0.1207 - accuracy: 0.9534 - val_loss: 0.2406 - val_accuracy: 0.9267\n",
      "Epoch 7/30\n",
      "219/219 [==============================] - 567s 3s/step - loss: 0.1043 - accuracy: 0.9581 - val_loss: 0.3149 - val_accuracy: 0.9178\n",
      "Epoch 8/30\n",
      "219/219 [==============================] - 567s 3s/step - loss: 0.0975 - accuracy: 0.9650 - val_loss: 0.2990 - val_accuracy: 0.9144\n",
      "Epoch 9/30\n",
      "219/219 [==============================] - 569s 3s/step - loss: 0.0946 - accuracy: 0.9643 - val_loss: 0.2592 - val_accuracy: 0.9300\n",
      "Epoch 10/30\n",
      "219/219 [==============================] - 568s 3s/step - loss: 0.0788 - accuracy: 0.9710 - val_loss: 0.2489 - val_accuracy: 0.9244\n",
      "Epoch 11/30\n",
      "219/219 [==============================] - 569s 3s/step - loss: 0.0709 - accuracy: 0.9736 - val_loss: 0.2999 - val_accuracy: 0.9300\n",
      "Epoch 00011: early stopping\n"
     ]
    }
   ],
   "source": [
    "%time\n",
    "history1=model.fit(X_train, y_train,validation_data=(X_test, y_test),verbose = 1,epochs = 30,callbacks=callbacks1)"
   ]
  },
  {
   "cell_type": "code",
   "execution_count": 15,
   "id": "f9b7edea",
   "metadata": {
    "execution": {
     "iopub.execute_input": "2022-05-17T19:56:28.413756Z",
     "iopub.status.busy": "2022-05-17T19:56:28.412575Z",
     "iopub.status.idle": "2022-05-17T19:56:28.425098Z",
     "shell.execute_reply": "2022-05-17T19:56:28.424178Z"
    },
    "papermill": {
     "duration": 0.963904,
     "end_time": "2022-05-17T19:56:28.427158",
     "exception": false,
     "start_time": "2022-05-17T19:56:27.463254",
     "status": "completed"
    },
    "tags": []
   },
   "outputs": [],
   "source": [
    "def f1_score(y_true, y_pred): #taken from old keras source code\n",
    "    true_positives = K.sum(K.round(K.clip(y_true * y_pred, 0, 1)))\n",
    "    possible_positives = K.sum(K.round(K.clip(y_true, 0, 1)))\n",
    "    predicted_positives = K.sum(K.round(K.clip(y_pred, 0, 1)))\n",
    "    precision = true_positives / (predicted_positives + K.epsilon())\n",
    "    recall = true_positives / (possible_positives + K.epsilon())\n",
    "    f1_val = 2*(precision*recall)/(precision+recall+K.epsilon())\n",
    "    return f1_val"
   ]
  },
  {
   "cell_type": "code",
   "execution_count": 16,
   "id": "b17e24c9",
   "metadata": {
    "execution": {
     "iopub.execute_input": "2022-05-17T19:56:30.323499Z",
     "iopub.status.busy": "2022-05-17T19:56:30.322857Z",
     "iopub.status.idle": "2022-05-17T19:56:30.367280Z",
     "shell.execute_reply": "2022-05-17T19:56:30.366438Z"
    },
    "papermill": {
     "duration": 0.998711,
     "end_time": "2022-05-17T19:56:30.369950",
     "exception": false,
     "start_time": "2022-05-17T19:56:29.371239",
     "status": "completed"
    },
    "tags": []
   },
   "outputs": [],
   "source": [
    "METRICS = [\n",
    "      tf.keras.metrics.BinaryAccuracy(name='accuracy'),\n",
    "      tf.keras.metrics.Precision(name='precision'),\n",
    "      tf.keras.metrics.Recall(name='recall'),  \n",
    "      tf.keras.metrics.AUC(name='auc'),\n",
    "        f1_score,\n",
    "]"
   ]
  },
  {
   "cell_type": "code",
   "execution_count": null,
   "id": "bd7dc690",
   "metadata": {
    "execution": {
     "iopub.execute_input": "2022-05-06T15:08:04.489795Z",
     "iopub.status.busy": "2022-05-06T15:08:04.488846Z",
     "iopub.status.idle": "2022-05-06T15:08:04.918152Z",
     "shell.execute_reply": "2022-05-06T15:08:04.917046Z",
     "shell.execute_reply.started": "2022-05-06T15:08:04.489742Z"
    },
    "papermill": {
     "duration": 0.951226,
     "end_time": "2022-05-17T19:56:32.267802",
     "exception": false,
     "start_time": "2022-05-17T19:56:31.316576",
     "status": "completed"
    },
    "tags": []
   },
   "outputs": [],
   "source": []
  },
  {
   "cell_type": "code",
   "execution_count": 17,
   "id": "1ed5fba5",
   "metadata": {
    "execution": {
     "iopub.execute_input": "2022-05-17T19:56:34.149296Z",
     "iopub.status.busy": "2022-05-17T19:56:34.148982Z",
     "iopub.status.idle": "2022-05-17T19:59:02.556487Z",
     "shell.execute_reply": "2022-05-17T19:59:02.555811Z"
    },
    "papermill": {
     "duration": 150.375135,
     "end_time": "2022-05-17T19:59:03.583544",
     "exception": false,
     "start_time": "2022-05-17T19:56:33.208409",
     "status": "completed"
    },
    "tags": []
   },
   "outputs": [
    {
     "data": {
      "image/png": "[encoded data removed]",
      "text/plain": [
       "<Figure size 576x576 with 2 Axes>"
      ]
     },
     "metadata": {
      "needs_background": "light"
     },
     "output_type": "display_data"
    }
   ],
   "source": [
    "from sklearn.metrics import confusion_matrix\n",
    "import seaborn as sns\n",
    "\n",
    "Y_pred = model.predict(X_val)\n",
    "Y_pred_classes = np.argmax(Y_pred,axis = 1) \n",
    "Y_true = np.argmax(y_val,axis = 1) \n",
    "\n",
    "confusion_mtx = confusion_matrix(Y_true, Y_pred_classes) \n",
    "\n",
    "f,ax = plt.subplots(figsize=(8, 8))\n",
    "sns.heatmap(confusion_mtx, annot=True, linewidths=0.01,cmap=\"OrRd\",linecolor=\"black\", fmt= '.1f',ax=ax)\n",
    "plt.xlabel(\"Predicted Label\")\n",
    "plt.ylabel(\"True Label\")\n",
    "plt.title(\"Confusion Matrix\")\n",
    "plt.show()"
   ]
  },
  {
   "cell_type": "code",
   "execution_count": 18,
   "id": "38259208",
   "metadata": {
    "execution": {
     "iopub.execute_input": "2022-05-17T19:59:05.486004Z",
     "iopub.status.busy": "2022-05-17T19:59:05.485480Z",
     "iopub.status.idle": "2022-05-17T19:59:05.498935Z",
     "shell.execute_reply": "2022-05-17T19:59:05.498207Z"
    },
    "papermill": {
     "duration": 0.971595,
     "end_time": "2022-05-17T19:59:05.501155",
     "exception": false,
     "start_time": "2022-05-17T19:59:04.529560",
     "status": "completed"
    },
    "tags": []
   },
   "outputs": [
    {
     "name": "stdout",
     "output_type": "stream",
     "text": [
      "              precision    recall  f1-score   support\n",
      "\n",
      "           0       0.95      0.97      0.96      1806\n",
      "           1       0.81      0.69      0.74       294\n",
      "\n",
      "    accuracy                           0.93      2100\n",
      "   macro avg       0.88      0.83      0.85      2100\n",
      "weighted avg       0.93      0.93      0.93      2100\n",
      "\n"
     ]
    }
   ],
   "source": [
    "from sklearn.metrics import classification_report\n",
    "\n",
    "print(classification_report(Y_true, Y_pred_classes))"
   ]
  },
  {
   "cell_type": "markdown",
   "id": "be334b48",
   "metadata": {
    "papermill": {
     "duration": 0.951247,
     "end_time": "2022-05-17T19:59:07.405403",
     "exception": false,
     "start_time": "2022-05-17T19:59:06.454156",
     "status": "completed"
    },
    "tags": []
   },
   "source": []
  },
  {
   "cell_type": "code",
   "execution_count": null,
   "id": "825f088d",
   "metadata": {
    "execution": {
     "iopub.execute_input": "2022-05-06T15:08:41.911737Z",
     "iopub.status.busy": "2022-05-06T15:08:41.911171Z",
     "iopub.status.idle": "2022-05-06T15:08:41.922881Z",
     "shell.execute_reply": "2022-05-06T15:08:41.922041Z",
     "shell.execute_reply.started": "2022-05-06T15:08:41.911677Z"
    },
    "papermill": {
     "duration": 0.975255,
     "end_time": "2022-05-17T19:59:09.334007",
     "exception": false,
     "start_time": "2022-05-17T19:59:08.358752",
     "status": "completed"
    },
    "tags": []
   },
   "outputs": [],
   "source": []
  },
  {
   "cell_type": "code",
   "execution_count": 19,
   "id": "8599d40f",
   "metadata": {
    "execution": {
     "iopub.execute_input": "2022-05-17T19:59:11.227420Z",
     "iopub.status.busy": "2022-05-17T19:59:11.226897Z",
     "iopub.status.idle": "2022-05-17T19:59:11.241243Z",
     "shell.execute_reply": "2022-05-17T19:59:11.240445Z"
    },
    "papermill": {
     "duration": 0.961114,
     "end_time": "2022-05-17T19:59:11.243555",
     "exception": false,
     "start_time": "2022-05-17T19:59:10.282441",
     "status": "completed"
    },
    "tags": []
   },
   "outputs": [],
   "source": [
    "from sklearn.metrics import f1_score, roc_auc_score, cohen_kappa_score, precision_score, recall_score, accuracy_score, confusion_matrix\n",
    "def get_accuracy_metrics(model, X_train, y_train, X_val, y_val, X_test, y_test):\n",
    "    y_train=np.argmax(y_train, axis=1)\n",
    "    y_test=np.argmax(y_test, axis=1)\n",
    "    y_val=np.argmax(y_val, axis=1)\n",
    "    y_train_pred=np.argmax(model.predict(X_train),axis=1)\n",
    "    y_test_pred=np.argmax(model.predict(X_test),axis=1)\n",
    "    y_val_pred=np.argmax(model.predict(X_val),axis=1)\n",
    "    #ps:all the Y value must turn back to 1 dimension array. otherwise, the scoring functions in sklearn cannot compare, and will give an error\n",
    "    #classification metrics can't handle a mix of continuous-multioutput and multi-label-indicator targets\n",
    "    \n",
    "    print(\"Train accuracy Score------------>\")\n",
    "    print (\"{0:.3f}\".format(accuracy_score(y_train, y_train_pred)*100), \"%\")\n",
    "    \n",
    "    print(\"Val accuracy Score--------->\")\n",
    "    \n",
    "    print(\"{0:.3f}\".format(accuracy_score(y_val, y_val_pred)*100), \"%\")\n",
    "    \n",
    "  \n",
    "    print(\"Test accuracy Score--------->\")\n",
    "    print(\"{0:.3f}\".format(accuracy_score(y_test, y_test_pred)*100), \"%\")\n",
    "    \n",
    "    print(\"F1 Score--------------->\")\n",
    "    print(\"{0:.3f}\".format(f1_score(y_test, y_test_pred, average = 'weighted')*100), \"%\")\n",
    "    \n",
    "    print(\"Cohen Kappa Score------------->\")\n",
    "    print(\"{0:.3f}\".format(cohen_kappa_score(y_test, y_test_pred)*100), \"%\")\n",
    "    \n",
    "    print(\"Recall-------------->\")\n",
    "    print(\"{0:.3f}\".format(recall_score(y_test, y_test_pred, average = 'weighted')*100), \"%\")\n",
    "    \n",
    "    print(\"Precision-------------->\")\n",
    "    print(\"{0:.3f}\".format(precision_score(y_test, y_test_pred, average = 'weighted')*100), \"%\")\n",
    "    \n",
    "    cf_matrix_test = confusion_matrix(y_test, y_test_pred)\n",
    "    cf_matrix_val = confusion_matrix(y_val, y_val_pred)\n",
    "    \n",
    "    plt.figure(figsize = (12, 6))\n",
    "    plt.subplot(121)\n",
    "    sns.heatmap(cf_matrix_val, annot=True, cmap='Blues')\n",
    "    plt.title(\"Val Confusion matrix\")\n",
    "    \n",
    "    plt.subplot(122)\n",
    "    sns.heatmap(cf_matrix_test, annot=True, cmap='Blues')\n",
    "    plt.title(\"Test Confusion matrix\")\n",
    "    \n",
    "    plt.show()"
   ]
  },
  {
   "cell_type": "code",
   "execution_count": null,
   "id": "e5afa998",
   "metadata": {
    "papermill": {
     "duration": 0.949485,
     "end_time": "2022-05-17T19:59:13.144334",
     "exception": false,
     "start_time": "2022-05-17T19:59:12.194849",
     "status": "completed"
    },
    "tags": []
   },
   "outputs": [],
   "source": []
  },
  {
   "cell_type": "code",
   "execution_count": 20,
   "id": "ed2ac8fc",
   "metadata": {
    "execution": {
     "iopub.execute_input": "2022-05-17T19:59:15.036832Z",
     "iopub.status.busy": "2022-05-17T19:59:15.036358Z",
     "iopub.status.idle": "2022-05-17T20:10:51.094272Z",
     "shell.execute_reply": "2022-05-17T20:10:51.093646Z"
    },
    "papermill": {
     "duration": 697.759388,
     "end_time": "2022-05-17T20:10:51.847496",
     "exception": false,
     "start_time": "2022-05-17T19:59:14.088108",
     "status": "completed"
    },
    "tags": []
   },
   "outputs": [
    {
     "name": "stdout",
     "output_type": "stream",
     "text": [
      "Train accuracy Score------------>\n",
      "98.829 %\n",
      "Val accuracy Score--------->\n",
      "93.333 %\n",
      "Test accuracy Score--------->\n",
      "93.000 %\n",
      "F1 Score--------------->\n",
      "92.814 %\n",
      "Cohen Kappa Score------------->\n",
      "74.053 %\n",
      "Recall-------------->\n",
      "93.000 %\n",
      "Precision-------------->\n",
      "92.769 %\n"
     ]
    },
    {
     "data": {
      "image/png": "[encoded data removed]",
      "text/plain": [
       "<Figure size 864x432 with 4 Axes>"
      ]
     },
     "metadata": {
      "needs_background": "light"
     },
     "output_type": "display_data"
    }
   ],
   "source": [
    "get_accuracy_metrics(model,  X_train, y_train, X_val, y_val, X_test, y_test)"
   ]
  },
  {
   "cell_type": "code",
   "execution_count": 21,
   "id": "4d817bdb",
   "metadata": {
    "execution": {
     "iopub.execute_input": "2022-05-17T20:10:53.821646Z",
     "iopub.status.busy": "2022-05-17T20:10:53.820889Z",
     "iopub.status.idle": "2022-05-17T20:10:54.166933Z",
     "shell.execute_reply": "2022-05-17T20:10:54.166085Z"
    },
    "papermill": {
     "duration": 1.340036,
     "end_time": "2022-05-17T20:10:54.169346",
     "exception": false,
     "start_time": "2022-05-17T20:10:52.829310",
     "status": "completed"
    },
    "tags": []
   },
   "outputs": [
    {
     "data": {
      "image/png": "[encoded data removed]",
      "text/plain": [
       "<Figure size 864x432 with 2 Axes>"
      ]
     },
     "metadata": {
      "needs_background": "light"
     },
     "output_type": "display_data"
    }
   ],
   "source": [
    "import matplotlib.pyplot as plt\n",
    "import seaborn as sns\n",
    "plt.figure(figsize = (12, 6))\n",
    "plt.subplot(121)\n",
    "#plotting the Accuracy of test and training sets\n",
    "plt.plot(history1.history['accuracy'])\n",
    "plt.plot(history1.history['val_accuracy'])\n",
    "plt.title('1st training Model Accuracy')\n",
    "plt.ylabel('accuracy')\n",
    "plt.xlabel('epoch')\n",
    "plt.legend(['train', 'test'], loc='upper left')\n",
    "\n",
    "plt.subplot(122)\n",
    "#plotting the loss of test and training sets\n",
    "plt.plot(history1.history['loss'])\n",
    "plt.plot(history1.history['val_loss'])\n",
    "plt.title('1st training Model Loss')\n",
    "plt.ylabel('loss')\n",
    "plt.xlabel('epoch')\n",
    "plt.legend(['train', 'test'], loc='upper left')\n",
    "plt.show()"
   ]
  },
  {
   "cell_type": "markdown",
   "id": "148cbe12",
   "metadata": {
    "papermill": {
     "duration": 0.954387,
     "end_time": "2022-05-17T20:10:56.159874",
     "exception": false,
     "start_time": "2022-05-17T20:10:55.205487",
     "status": "completed"
    },
    "tags": []
   },
   "source": [
    "# Second Training Fine Tune"
   ]
  },
  {
   "cell_type": "code",
   "execution_count": 22,
   "id": "5a859846",
   "metadata": {
    "execution": {
     "iopub.execute_input": "2022-05-17T20:10:58.066152Z",
     "iopub.status.busy": "2022-05-17T20:10:58.065553Z",
     "iopub.status.idle": "2022-05-17T20:10:58.077151Z",
     "shell.execute_reply": "2022-05-17T20:10:58.076348Z"
    },
    "papermill": {
     "duration": 0.966156,
     "end_time": "2022-05-17T20:10:58.079682",
     "exception": false,
     "start_time": "2022-05-17T20:10:57.113526",
     "status": "completed"
    },
    "tags": []
   },
   "outputs": [],
   "source": [
    "for model1 in model.layers:\n",
    "    model1.trainable = True"
   ]
  },
  {
   "cell_type": "code",
   "execution_count": 23,
   "id": "bdac8bac",
   "metadata": {
    "execution": {
     "iopub.execute_input": "2022-05-17T20:11:00.018688Z",
     "iopub.status.busy": "2022-05-17T20:11:00.017865Z",
     "iopub.status.idle": "2022-05-17T20:11:00.024603Z",
     "shell.execute_reply": "2022-05-17T20:11:00.023548Z"
    },
    "papermill": {
     "duration": 0.995091,
     "end_time": "2022-05-17T20:11:00.026763",
     "exception": false,
     "start_time": "2022-05-17T20:10:59.031672",
     "status": "completed"
    },
    "tags": []
   },
   "outputs": [],
   "source": [
    "callbacks2 = [EarlyStopping(monitor='val_loss', patience=5, verbose=1), ModelCheckpoint('test_model.hdf5', save_best_only=True)]\n",
    "opt = Adam(learning_rate=0.001)\n",
    "#model.compile(loss='categorical_crossentropy', optimizer=opt, metrics=['accuracy'])"
   ]
  },
  {
   "cell_type": "code",
   "execution_count": 24,
   "id": "75172416",
   "metadata": {
    "execution": {
     "iopub.execute_input": "2022-05-17T20:11:02.009653Z",
     "iopub.status.busy": "2022-05-17T20:11:02.009312Z",
     "iopub.status.idle": "2022-05-17T21:56:36.793686Z",
     "shell.execute_reply": "2022-05-17T21:56:36.792667Z"
    },
    "papermill": {
     "duration": 6337.620424,
     "end_time": "2022-05-17T21:56:38.635530",
     "exception": false,
     "start_time": "2022-05-17T20:11:01.015106",
     "status": "completed"
    },
    "tags": []
   },
   "outputs": [
    {
     "name": "stdout",
     "output_type": "stream",
     "text": [
      "Epoch 1/30\n",
      "219/219 [==============================] - 573s 3s/step - loss: 0.0616 - accuracy: 0.9760 - val_loss: 0.3120 - val_accuracy: 0.9311\n",
      "Epoch 2/30\n",
      "219/219 [==============================] - 572s 3s/step - loss: 0.0699 - accuracy: 0.9739 - val_loss: 0.2818 - val_accuracy: 0.9267\n",
      "Epoch 3/30\n",
      "219/219 [==============================] - 570s 3s/step - loss: 0.0576 - accuracy: 0.9794 - val_loss: 0.3398 - val_accuracy: 0.9311\n",
      "Epoch 4/30\n",
      "219/219 [==============================] - 572s 3s/step - loss: 0.0535 - accuracy: 0.9813 - val_loss: 0.2802 - val_accuracy: 0.9300\n",
      "Epoch 5/30\n",
      "219/219 [==============================] - 574s 3s/step - loss: 0.0536 - accuracy: 0.9811 - val_loss: 0.3552 - val_accuracy: 0.9278\n",
      "Epoch 6/30\n",
      "219/219 [==============================] - 574s 3s/step - loss: 0.0494 - accuracy: 0.9819 - val_loss: 0.2676 - val_accuracy: 0.9300\n",
      "Epoch 7/30\n",
      "219/219 [==============================] - 576s 3s/step - loss: 0.0404 - accuracy: 0.9849 - val_loss: 0.2959 - val_accuracy: 0.9356\n",
      "Epoch 8/30\n",
      "219/219 [==============================] - 578s 3s/step - loss: 0.0410 - accuracy: 0.9861 - val_loss: 0.3897 - val_accuracy: 0.9256\n",
      "Epoch 9/30\n",
      "219/219 [==============================] - 582s 3s/step - loss: 0.0435 - accuracy: 0.9841 - val_loss: 0.3524 - val_accuracy: 0.9300\n",
      "Epoch 10/30\n",
      "219/219 [==============================] - 579s 3s/step - loss: 0.0379 - accuracy: 0.9874 - val_loss: 0.3257 - val_accuracy: 0.9356\n",
      "Epoch 11/30\n",
      "219/219 [==============================] - 582s 3s/step - loss: 0.0369 - accuracy: 0.9874 - val_loss: 0.3570 - val_accuracy: 0.9356\n",
      "Epoch 00011: early stopping\n"
     ]
    }
   ],
   "source": [
    "history2=model.fit(X_train, y_train,validation_data=(X_test, y_test),verbose = 1,epochs = 30,callbacks=callbacks2)"
   ]
  },
  {
   "cell_type": "code",
   "execution_count": 25,
   "id": "a7e317b2",
   "metadata": {
    "execution": {
     "iopub.execute_input": "2022-05-17T21:56:42.438228Z",
     "iopub.status.busy": "2022-05-17T21:56:42.437914Z",
     "iopub.status.idle": "2022-05-17T21:59:10.605970Z",
     "shell.execute_reply": "2022-05-17T21:59:10.604900Z"
    },
    "papermill": {
     "duration": 151.945738,
     "end_time": "2022-05-17T21:59:12.476577",
     "exception": false,
     "start_time": "2022-05-17T21:56:40.530839",
     "status": "completed"
    },
    "tags": []
   },
   "outputs": [
    {
     "data": {
      "image/png": "[encoded data removed]",
      "text/plain": [
       "<Figure size 576x576 with 2 Axes>"
      ]
     },
     "metadata": {
      "needs_background": "light"
     },
     "output_type": "display_data"
    }
   ],
   "source": [
    "Y_pred = model.predict(X_val)\n",
    "Y_pred_classes = np.argmax(Y_pred,axis = 1) \n",
    "Y_true = np.argmax(y_val,axis = 1) \n",
    "\n",
    "confusion_mtx = confusion_matrix(Y_true, Y_pred_classes) \n",
    "\n",
    "f,ax = plt.subplots(figsize=(8, 8))\n",
    "sns.heatmap(confusion_mtx, annot=True, linewidths=0.01,cmap=\"OrRd\",linecolor=\"black\", fmt= '.1f',ax=ax)\n",
    "plt.xlabel(\"Predicted Label\")\n",
    "plt.ylabel(\"True Label\")\n",
    "plt.title(\"Confusion Matrix\")\n",
    "plt.show()"
   ]
  },
  {
   "cell_type": "code",
   "execution_count": 26,
   "id": "89cbba4b",
   "metadata": {
    "execution": {
     "iopub.execute_input": "2022-05-17T21:59:16.261751Z",
     "iopub.status.busy": "2022-05-17T21:59:16.261454Z",
     "iopub.status.idle": "2022-05-17T21:59:16.274335Z",
     "shell.execute_reply": "2022-05-17T21:59:16.273582Z"
    },
    "papermill": {
     "duration": 1.911506,
     "end_time": "2022-05-17T21:59:16.276958",
     "exception": false,
     "start_time": "2022-05-17T21:59:14.365452",
     "status": "completed"
    },
    "tags": []
   },
   "outputs": [
    {
     "name": "stdout",
     "output_type": "stream",
     "text": [
      "              precision    recall  f1-score   support\n",
      "\n",
      "           0       0.95      0.98      0.96      1806\n",
      "           1       0.85      0.68      0.75       294\n",
      "\n",
      "    accuracy                           0.94      2100\n",
      "   macro avg       0.90      0.83      0.86      2100\n",
      "weighted avg       0.93      0.94      0.93      2100\n",
      "\n"
     ]
    }
   ],
   "source": [
    "print(classification_report(Y_true, Y_pred_classes))"
   ]
  },
  {
   "cell_type": "code",
   "execution_count": 27,
   "id": "390746ec",
   "metadata": {
    "execution": {
     "iopub.execute_input": "2022-05-17T21:59:20.118344Z",
     "iopub.status.busy": "2022-05-17T21:59:20.117679Z",
     "iopub.status.idle": "2022-05-17T22:11:08.963572Z",
     "shell.execute_reply": "2022-05-17T22:11:08.962491Z"
    },
    "papermill": {
     "duration": 712.527007,
     "end_time": "2022-05-17T22:11:10.678559",
     "exception": false,
     "start_time": "2022-05-17T21:59:18.151552",
     "status": "completed"
    },
    "tags": []
   },
   "outputs": [
    {
     "name": "stdout",
     "output_type": "stream",
     "text": [
      "Train accuracy Score------------>\n",
      "99.557 %\n",
      "Val accuracy Score--------->\n",
      "93.762 %\n",
      "Test accuracy Score--------->\n",
      "93.556 %\n",
      "F1 Score--------------->\n",
      "93.314 %\n",
      "Cohen Kappa Score------------->\n",
      "75.650 %\n",
      "Recall-------------->\n",
      "93.556 %\n",
      "Precision-------------->\n",
      "93.352 %\n"
     ]
    },
    {
     "data": {
      "image/png": "[encoded data removed]",
      "text/plain": [
       "<Figure size 864x432 with 4 Axes>"
      ]
     },
     "metadata": {
      "needs_background": "light"
     },
     "output_type": "display_data"
    }
   ],
   "source": [
    "get_accuracy_metrics(model,  X_train, y_train, X_val, y_val, X_test, y_test)"
   ]
  },
  {
   "cell_type": "code",
   "execution_count": 28,
   "id": "48f943db",
   "metadata": {
    "execution": {
     "iopub.execute_input": "2022-05-17T22:11:14.510981Z",
     "iopub.status.busy": "2022-05-17T22:11:14.510386Z",
     "iopub.status.idle": "2022-05-17T22:11:14.864644Z",
     "shell.execute_reply": "2022-05-17T22:11:14.863624Z"
    },
    "papermill": {
     "duration": 2.26741,
     "end_time": "2022-05-17T22:11:14.866988",
     "exception": false,
     "start_time": "2022-05-17T22:11:12.599578",
     "status": "completed"
    },
    "tags": []
   },
   "outputs": [
    {
     "data": {
      "image/png": "[encoded data removed]",
      "text/plain": [
       "<Figure size 864x432 with 2 Axes>"
      ]
     },
     "metadata": {
      "needs_background": "light"
     },
     "output_type": "display_data"
    }
   ],
   "source": [
    "plt.figure(figsize = (12, 6))\n",
    "plt.subplot(121)\n",
    "#plotting the Accuracy of test and training sets\n",
    "plt.plot(history2.history['accuracy'])\n",
    "plt.plot(history2.history['val_accuracy'])\n",
    "plt.title('1st training Model Accuracy')\n",
    "plt.ylabel('accuracy')\n",
    "plt.xlabel('epoch')\n",
    "plt.legend(['train', 'test'], loc='upper left')\n",
    "\n",
    "plt.subplot(122)\n",
    "#plotting the loss of test and training sets\n",
    "plt.plot(history2.history['loss'])\n",
    "plt.plot(history2.history['val_loss'])\n",
    "plt.title('1st training Model Loss')\n",
    "plt.ylabel('loss')\n",
    "plt.xlabel('epoch')\n",
    "plt.legend(['train', 'test'], loc='upper left')\n",
    "plt.show()"
   ]
  }
 ],
 "metadata": {
  "kernelspec": {
   "display_name": "Python 3",
   "language": "python",
   "name": "python3"
  },
  "language_info": {
   "codemirror_mode": {
    "name": "ipython",
    "version": 3
   },
   "file_extension": ".py",
   "mimetype": "text/x-python",
   "name": "python",
   "nbconvert_exporter": "python",
   "pygments_lexer": "ipython3",
   "version": "3.7.12"
  },
  "papermill": {
   "default_parameters": {},
   "duration": 14640.874587,
   "end_time": "2022-05-17T22:11:20.083453",
   "environment_variables": {},
   "exception": null,
   "input_path": "__notebook__.ipynb",
   "output_path": "__notebook__.ipynb",
   "parameters": {},
   "start_time": "2022-05-17T18:07:19.208866",
   "version": "2.3.4"
  }
 },
 "nbformat": 4,
 "nbformat_minor": 5
}
