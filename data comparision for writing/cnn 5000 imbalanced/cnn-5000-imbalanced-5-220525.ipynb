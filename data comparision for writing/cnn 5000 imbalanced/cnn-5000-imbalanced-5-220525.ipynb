{
 "cells": [
  {
   "cell_type": "code",
   "execution_count": 1,
   "id": "bc678007",
   "metadata": {
    "_cell_guid": "b1076dfc-b9ad-4769-8c92-a6c4dae69d19",
    "_uuid": "8f2839f25d086af736a60e9eeb907d3b93b6e0e5",
    "execution": {
     "iopub.execute_input": "2022-05-25T20:30:30.010939Z",
     "iopub.status.busy": "2022-05-25T20:30:30.009997Z",
     "iopub.status.idle": "2022-05-25T20:30:44.951839Z",
     "shell.execute_reply": "2022-05-25T20:30:44.950597Z"
    },
    "papermill": {
     "duration": 14.959103,
     "end_time": "2022-05-25T20:30:44.955085",
     "exception": false,
     "start_time": "2022-05-25T20:30:29.995982",
     "status": "completed"
    },
    "tags": []
   },
   "outputs": [
    {
     "name": "stdout",
     "output_type": "stream",
     "text": [
      "Collecting Livelossplot\r\n",
      "  Downloading livelossplot-0.5.5-py3-none-any.whl (22 kB)\r\n",
      "Requirement already satisfied: numpy<1.22 in /opt/conda/lib/python3.7/site-packages (from Livelossplot) (1.21.6)\r\n",
      "Requirement already satisfied: bokeh in /opt/conda/lib/python3.7/site-packages (from Livelossplot) (2.4.3)\r\n",
      "Requirement already satisfied: ipython==7.* in /opt/conda/lib/python3.7/site-packages (from Livelossplot) (7.33.0)\r\n",
      "Requirement already satisfied: matplotlib in /opt/conda/lib/python3.7/site-packages (from Livelossplot) (3.5.2)\r\n",
      "Requirement already satisfied: prompt-toolkit!=3.0.0,!=3.0.1,<3.1.0,>=2.0.0 in /opt/conda/lib/python3.7/site-packages (from ipython==7.*->Livelossplot) (3.0.29)\r\n",
      "Requirement already satisfied: traitlets>=4.2 in /opt/conda/lib/python3.7/site-packages (from ipython==7.*->Livelossplot) (5.2.0)\r\n",
      "Requirement already satisfied: matplotlib-inline in /opt/conda/lib/python3.7/site-packages (from ipython==7.*->Livelossplot) (0.1.3)\r\n",
      "Requirement already satisfied: pexpect>4.3 in /opt/conda/lib/python3.7/site-packages (from ipython==7.*->Livelossplot) (4.8.0)\r\n",
      "Requirement already satisfied: jedi>=0.16 in /opt/conda/lib/python3.7/site-packages (from ipython==7.*->Livelossplot) (0.18.1)\r\n",
      "Requirement already satisfied: pygments in /opt/conda/lib/python3.7/site-packages (from ipython==7.*->Livelossplot) (2.12.0)\r\n",
      "Requirement already satisfied: setuptools>=18.5 in /opt/conda/lib/python3.7/site-packages (from ipython==7.*->Livelossplot) (59.8.0)\r\n",
      "Requirement already satisfied: backcall in /opt/conda/lib/python3.7/site-packages (from ipython==7.*->Livelossplot) (0.2.0)\r\n",
      "Requirement already satisfied: decorator in /opt/conda/lib/python3.7/site-packages (from ipython==7.*->Livelossplot) (5.1.1)\r\n",
      "Requirement already satisfied: pickleshare in /opt/conda/lib/python3.7/site-packages (from ipython==7.*->Livelossplot) (0.7.5)\r\n",
      "Requirement already satisfied: pillow>=7.1.0 in /opt/conda/lib/python3.7/site-packages (from bokeh->Livelossplot) (9.1.0)\r\n",
      "Requirement already satisfied: Jinja2>=2.9 in /opt/conda/lib/python3.7/site-packages (from bokeh->Livelossplot) (3.1.2)\r\n",
      "Requirement already satisfied: PyYAML>=3.10 in /opt/conda/lib/python3.7/site-packages (from bokeh->Livelossplot) (6.0)\r\n",
      "Requirement already satisfied: packaging>=16.8 in /opt/conda/lib/python3.7/site-packages (from bokeh->Livelossplot) (21.3)\r\n",
      "Requirement already satisfied: typing-extensions>=3.10.0 in /opt/conda/lib/python3.7/site-packages (from bokeh->Livelossplot) (4.2.0)\r\n",
      "Requirement already satisfied: tornado>=5.1 in /opt/conda/lib/python3.7/site-packages (from bokeh->Livelossplot) (6.1)\r\n",
      "Requirement already satisfied: fonttools>=4.22.0 in /opt/conda/lib/python3.7/site-packages (from matplotlib->Livelossplot) (4.33.3)\r\n",
      "Requirement already satisfied: cycler>=0.10 in /opt/conda/lib/python3.7/site-packages (from matplotlib->Livelossplot) (0.11.0)\r\n",
      "Requirement already satisfied: kiwisolver>=1.0.1 in /opt/conda/lib/python3.7/site-packages (from matplotlib->Livelossplot) (1.4.2)\r\n",
      "Requirement already satisfied: pyparsing>=2.2.1 in /opt/conda/lib/python3.7/site-packages (from matplotlib->Livelossplot) (3.0.9)\r\n",
      "Requirement already satisfied: python-dateutil>=2.7 in /opt/conda/lib/python3.7/site-packages (from matplotlib->Livelossplot) (2.8.2)\r\n",
      "Requirement already satisfied: parso<0.9.0,>=0.8.0 in /opt/conda/lib/python3.7/site-packages (from jedi>=0.16->ipython==7.*->Livelossplot) (0.8.3)\r\n",
      "Requirement already satisfied: MarkupSafe>=2.0 in /opt/conda/lib/python3.7/site-packages (from Jinja2>=2.9->bokeh->Livelossplot) (2.0.1)\r\n",
      "Requirement already satisfied: ptyprocess>=0.5 in /opt/conda/lib/python3.7/site-packages (from pexpect>4.3->ipython==7.*->Livelossplot) (0.7.0)\r\n",
      "Requirement already satisfied: wcwidth in /opt/conda/lib/python3.7/site-packages (from prompt-toolkit!=3.0.0,!=3.0.1,<3.1.0,>=2.0.0->ipython==7.*->Livelossplot) (0.2.5)\r\n",
      "Requirement already satisfied: six>=1.5 in /opt/conda/lib/python3.7/site-packages (from python-dateutil>=2.7->matplotlib->Livelossplot) (1.16.0)\r\n",
      "Installing collected packages: Livelossplot\r\n",
      "Successfully installed Livelossplot-0.5.5\r\n",
      "\u001b[33mWARNING: Running pip as the 'root' user can result in broken permissions and conflicting behaviour with the system package manager. It is recommended to use a virtual environment instead: https://pip.pypa.io/warnings/venv\u001b[0m\u001b[33m\r\n",
      "\u001b[0m"
     ]
    }
   ],
   "source": [
    "# This Python 3 environment comes with many helpful analytics libraries installed\n",
    "# It is defined by the kaggle/python Docker image: https://github.com/kaggle/docker-python\n",
    "# For example, here's several helpful packages to load\n",
    "\n",
    "import numpy as np # linear algebra\n",
    "import pandas as pd # data processing, CSV file I/O (e.g. pd.read_csv)\n",
    "\n",
    "# Input data files are available in the read-only \"../input/\" directory\n",
    "# For example, running this (by clicking run or pressing Shift+Enter) will list all files under the input directory\n",
    "\n",
    "import os\n",
    "\n",
    "import warnings\n",
    "warnings.filterwarnings('ignore')\n",
    "%matplotlib inline\n",
    "!pip install Livelossplot\n",
    "from livelossplot import PlotLossesKeras\n",
    "\n",
    "from glob import glob\n",
    "import os\n",
    "import shutil\n",
    "\n",
    "import numpy as np\n",
    "import pandas as pd\n",
    "# You can write up to 20GB to the current directory (/kaggle/working/) that gets preserved as output when you create a version using \"Save & Run All\" \n",
    "# You can also write temporary files to /kaggle/temp/, but they won't be saved outside of the current session"
   ]
  },
  {
   "cell_type": "markdown",
   "id": "25cebd41",
   "metadata": {
    "papermill": {
     "duration": 0.0115,
     "end_time": "2022-05-25T20:30:44.977507",
     "exception": false,
     "start_time": "2022-05-25T20:30:44.966007",
     "status": "completed"
    },
    "tags": []
   },
   "source": [
    "# AIM\n",
    "## To classify the images into \n",
    "### IDC+\n",
    "### IDC-\n",
    "\n",
    "# Validation Strategy:\n",
    "\n",
    "\n",
    "# Augmentaions Used:\n",
    "## No Augmentation\n"
   ]
  },
  {
   "cell_type": "code",
   "execution_count": 2,
   "id": "9b511332",
   "metadata": {
    "execution": {
     "iopub.execute_input": "2022-05-25T20:30:45.001627Z",
     "iopub.status.busy": "2022-05-25T20:30:45.001205Z",
     "iopub.status.idle": "2022-05-25T20:30:55.731262Z",
     "shell.execute_reply": "2022-05-25T20:30:55.730275Z"
    },
    "papermill": {
     "duration": 10.745805,
     "end_time": "2022-05-25T20:30:55.734077",
     "exception": false,
     "start_time": "2022-05-25T20:30:44.988272",
     "status": "completed"
    },
    "tags": []
   },
   "outputs": [
    {
     "data": {
      "text/html": [
       "<style type='text/css'>\n",
       ".datatable table.frame { margin-bottom: 0; }\n",
       ".datatable table.frame thead { border-bottom: none; }\n",
       ".datatable table.frame tr.coltypes td {  color: #FFFFFF;  line-height: 6px;  padding: 0 0.5em;}\n",
       ".datatable .bool    { background: #DDDD99; }\n",
       ".datatable .object  { background: #565656; }\n",
       ".datatable .int     { background: #5D9E5D; }\n",
       ".datatable .float   { background: #4040CC; }\n",
       ".datatable .str     { background: #CC4040; }\n",
       ".datatable .time    { background: #40CC40; }\n",
       ".datatable .row_index {  background: var(--jp-border-color3);  border-right: 1px solid var(--jp-border-color0);  color: var(--jp-ui-font-color3);  font-size: 9px;}\n",
       ".datatable .frame tbody td { text-align: left; }\n",
       ".datatable .frame tr.coltypes .row_index {  background: var(--jp-border-color0);}\n",
       ".datatable th:nth-child(2) { padding-left: 12px; }\n",
       ".datatable .hellipsis {  color: var(--jp-cell-editor-border-color);}\n",
       ".datatable .vellipsis {  background: var(--jp-layout-color0);  color: var(--jp-cell-editor-border-color);}\n",
       ".datatable .na {  color: var(--jp-cell-editor-border-color);  font-size: 80%;}\n",
       ".datatable .sp {  opacity: 0.25;}\n",
       ".datatable .footer { font-size: 9px; }\n",
       ".datatable .frame_dimensions {  background: var(--jp-border-color3);  border-top: 1px solid var(--jp-border-color0);  color: var(--jp-ui-font-color3);  display: inline-block;  opacity: 0.6;  padding: 1px 10px 1px 5px;}\n",
       "</style>\n"
      ],
      "text/plain": [
       "<IPython.core.display.HTML object>"
      ]
     },
     "metadata": {},
     "output_type": "display_data"
    },
    {
     "name": "stdout",
     "output_type": "stream",
     "text": [
      "All modules have been imported\n"
     ]
    }
   ],
   "source": [
    "\n",
    "import numpy as np\n",
    "import pandas as pd\n",
    "import cv2\n",
    "from PIL import Image\n",
    "import scipy\n",
    "\n",
    "import tensorflow as tf\n",
    "from tensorflow.keras.applications import *\n",
    "from tensorflow.keras.optimizers import *\n",
    "from tensorflow.keras.losses import *\n",
    "from tensorflow.keras.layers import *\n",
    "from tensorflow.keras.models import *\n",
    "from tensorflow.keras.callbacks import *\n",
    "from tensorflow.keras.preprocessing.image import *\n",
    "from tensorflow.keras.utils import *\n",
    "# import pydot\n",
    "\n",
    "from sklearn.metrics import *\n",
    "from sklearn.model_selection import *\n",
    "import tensorflow.keras.backend as K\n",
    "\n",
    "from tqdm import tqdm, tqdm_notebook\n",
    "from colorama import Fore\n",
    "import json\n",
    "import matplotlib.pyplot as plt\n",
    "import seaborn as sns\n",
    "from glob import glob\n",
    "from skimage.io import *\n",
    "%config Completer.use_jedi = False\n",
    "import time\n",
    "from sklearn.decomposition import PCA\n",
    "from sklearn.svm import LinearSVC\n",
    "from sklearn.linear_model import LogisticRegression\n",
    "from sklearn.metrics import accuracy_score\n",
    "import lightgbm as lgb\n",
    "import xgboost as xgb\n",
    "\n",
    "print(\"All modules have been imported\")"
   ]
  },
  {
   "cell_type": "code",
   "execution_count": 3,
   "id": "82d0aead",
   "metadata": {
    "execution": {
     "iopub.execute_input": "2022-05-25T20:30:55.767244Z",
     "iopub.status.busy": "2022-05-25T20:30:55.766830Z",
     "iopub.status.idle": "2022-05-25T20:30:55.773437Z",
     "shell.execute_reply": "2022-05-25T20:30:55.772664Z"
    },
    "papermill": {
     "duration": 0.023881,
     "end_time": "2022-05-25T20:30:55.775521",
     "exception": false,
     "start_time": "2022-05-25T20:30:55.751640",
     "status": "completed"
    },
    "tags": []
   },
   "outputs": [],
   "source": [
    "import os\n",
    "os.makedirs('../working/data/train_seg/idc-minus/')     \n",
    "os.makedirs('../working/data/train_seg/idc-plus/')  \n",
    "os.makedirs('../working/data/test_seg/idc-minus/')     \n",
    "os.makedirs('../working/data/test_seg/idc-plus/')  \n",
    "os.makedirs('../working/data/val_seg/idc-minus/')     \n",
    "os.makedirs('../working/data/val_seg/idc-plus/')  "
   ]
  },
  {
   "cell_type": "code",
   "execution_count": 4,
   "id": "c0c72844",
   "metadata": {
    "execution": {
     "iopub.execute_input": "2022-05-25T20:30:55.798763Z",
     "iopub.status.busy": "2022-05-25T20:30:55.798003Z",
     "iopub.status.idle": "2022-05-25T20:30:55.803775Z",
     "shell.execute_reply": "2022-05-25T20:30:55.802787Z"
    },
    "papermill": {
     "duration": 0.019952,
     "end_time": "2022-05-25T20:30:55.806025",
     "exception": false,
     "start_time": "2022-05-25T20:30:55.786073",
     "status": "completed"
    },
    "tags": []
   },
   "outputs": [],
   "source": [
    "sampling_seed=0\n",
    "size_4_training=5000\n",
    "img_size=50\n",
    "epoch1=10\n",
    "epoch2=3\n",
    "training_reshape=(-1, img_size, img_size, 3)"
   ]
  },
  {
   "cell_type": "markdown",
   "id": "10bb539c",
   "metadata": {
    "papermill": {
     "duration": 0.009956,
     "end_time": "2022-05-25T20:30:55.826553",
     "exception": false,
     "start_time": "2022-05-25T20:30:55.816597",
     "status": "completed"
    },
    "tags": []
   },
   "source": [
    "Image labelling"
   ]
  },
  {
   "cell_type": "code",
   "execution_count": 5,
   "id": "0ff033ee",
   "metadata": {
    "execution": {
     "iopub.execute_input": "2022-05-25T20:30:55.849007Z",
     "iopub.status.busy": "2022-05-25T20:30:55.848571Z",
     "iopub.status.idle": "2022-05-25T20:33:16.026699Z",
     "shell.execute_reply": "2022-05-25T20:33:16.025466Z"
    },
    "papermill": {
     "duration": 140.203295,
     "end_time": "2022-05-25T20:33:16.040232",
     "exception": false,
     "start_time": "2022-05-25T20:30:55.836937",
     "status": "completed"
    },
    "tags": []
   },
   "outputs": [
    {
     "name": "stdout",
     "output_type": "stream",
     "text": [
      "['../input/breast-histopathology-images/IDC_regular_ps50_idx5/10295/0/10295_idx5_x1351_y1101_class0.png', '../input/breast-histopathology-images/IDC_regular_ps50_idx5/10295/0/10295_idx5_x1501_y501_class0.png', '../input/breast-histopathology-images/IDC_regular_ps50_idx5/10295/0/10295_idx5_x1501_y1101_class0.png', '../input/breast-histopathology-images/IDC_regular_ps50_idx5/10295/0/10295_idx5_x451_y901_class0.png', '../input/breast-histopathology-images/IDC_regular_ps50_idx5/10295/0/10295_idx5_x801_y451_class0.png', '../input/breast-histopathology-images/IDC_regular_ps50_idx5/10295/0/10295_idx5_x151_y1051_class0.png', '../input/breast-histopathology-images/IDC_regular_ps50_idx5/10295/0/10295_idx5_x1351_y901_class0.png', '../input/breast-histopathology-images/IDC_regular_ps50_idx5/10295/0/10295_idx5_x701_y651_class0.png', '../input/breast-histopathology-images/IDC_regular_ps50_idx5/10295/0/10295_idx5_x951_y1401_class0.png', '../input/breast-histopathology-images/IDC_regular_ps50_idx5/10295/0/10295_idx5_x601_y501_class0.png']\n",
      "(5000, 2)\n",
      "(10000, 2)\n",
      "(10000, 50, 50, 3)\n",
      "(7000, 50, 50, 3) (900, 50, 50, 3) (2100, 50, 50, 3) (7000, 2) (900, 2) (2100, 2)\n"
     ]
    }
   ],
   "source": [
    "\n",
    "training_reshape=(-1, img_size, img_size, 3)\n",
    "import random\n",
    "#make directory for labelling\n",
    "os.makedirs('../working/idc2/idc-minus/')     \n",
    "os.makedirs('../working/idc2/idc-plus/')  \n",
    "\n",
    "\n",
    "class0 = [] # 0 = idc+\n",
    "class1 = [] # 1 = idc-\n",
    "imagePatches = glob('../input/breast-histopathology-images/IDC_regular_ps50_idx5/**/*.png', recursive=True)\n",
    "for filename in imagePatches:\n",
    "    if filename.endswith(\"class0.png\"):\n",
    "         class0.append(filename)\n",
    "    else:\n",
    "        class1.append(filename)\n",
    "\n",
    "print(class0[0:10])\n",
    "\n",
    "#sampling 10000 images from class 0 and class 1 to train the model\n",
    "\n",
    "random.seed(sampling_seed)\n",
    "class0sample=random.sample(class0,size_4_training)\n",
    "class1sample=random.sample(class1,size_4_training)\n",
    "\n",
    "\n",
    "def read_and_save_data(path, file_name_array):\n",
    "    j=0\n",
    "    for i in file_name_array:\n",
    "        if i.endswith('.png'):\n",
    "          \n",
    "            \n",
    "            #second copy method\n",
    "            head, tail = os.path.split(i)\n",
    "            outputname=str(path+tail)\n",
    "            #outputname=str(path+str(j)+'.png')\n",
    "            #print(outputname)\n",
    "            shutil.copy(i, outputname)\n",
    "   \n",
    "            #print(status2)\n",
    "            \n",
    "            j=j+1\n",
    "            if j==120000:\n",
    "                break\n",
    "            \n",
    "   \n",
    "class0path='../working/idc2/idc-minus/'\n",
    "class1path='../working/idc2/idc-plus/'\n",
    "\n",
    "\n",
    "\n",
    "\n",
    "read_and_save_data(class0path,class0sample)\n",
    "read_and_save_data(class1path,class1sample)\n",
    "\n",
    "\n",
    "from PIL import Image\n",
    "import glob\n",
    "\n",
    "import os #Operating System\n",
    "import sys #System\n",
    "# train_generator = train_datagen.flow(x_train, y_train, batch_size =)\n",
    "# val_generator = val_datagen.flow(x_val, y_val, batch_size = 64)\n",
    "# test_generator=test_datagen.flow(x_test,y_test,batch_size = 64)\n",
    "\n",
    "\n",
    "def readImage(path, tag):\n",
    "    j=0\n",
    "    image_array = []\n",
    "    for i in os.listdir(path):\n",
    "        imgname=path+i\n",
    "        #print(imgname)\n",
    "        img = cv2.imread(imgname, cv2.IMREAD_COLOR)\n",
    "        img_resized = cv2.resize(img, (img_size,img_size), interpolation=cv2.INTER_LINEAR)\n",
    "        image_array.append([img_resized, tag])\n",
    "        #print(img[1])\n",
    "        j=j+1\n",
    "        #if j==10:\n",
    "        #    break\n",
    "        \n",
    "    return image_array\n",
    "\n",
    "\n",
    "import numpy as np\n",
    "\n",
    "\n",
    "class0_array = readImage(class0path, 0)\n",
    "class1_array = readImage(class1path, 1)\n",
    "class0_array=np.array(class0_array)\n",
    "class1_array=np.array(class1_array)\n",
    "combined_data = np.concatenate((class0_array, class1_array))\n",
    "random.seed(41)\n",
    "random.shuffle(combined_data)\n",
    "print(class0_array.shape)\n",
    "print(combined_data.shape)\n",
    "\n",
    "X = []\n",
    "y = []\n",
    "\n",
    "for features,label in combined_data:\n",
    "    X.append(features)\n",
    "    y.append(label)\n",
    "#print(X.shape)\n",
    "#pring(y.shape)\n",
    "\n",
    "# reshape X data\n",
    "X = np.array(X).reshape(training_reshape)\n",
    "print(X.shape)\n",
    "\n",
    "\n",
    "X_train, X_test1, y_train, y_test1 = train_test_split(X, y, test_size=0.3, random_state=42)\n",
    "X_val, X_test, y_val, y_test = train_test_split(X_test1, y_test1, test_size=0.3, random_state=42)\n",
    "y_train = to_categorical(y_train)\n",
    "y_test = to_categorical(y_test)\n",
    "y_val = to_categorical(y_val)\n",
    "print(X_train.shape, X_test.shape, X_val.shape, y_train.shape, y_test.shape, y_val.shape)"
   ]
  },
  {
   "cell_type": "markdown",
   "id": "4df4fb44",
   "metadata": {
    "papermill": {
     "duration": 0.01035,
     "end_time": "2022-05-25T20:33:16.061174",
     "exception": false,
     "start_time": "2022-05-25T20:33:16.050824",
     "status": "completed"
    },
    "tags": []
   },
   "source": []
  },
  {
   "cell_type": "code",
   "execution_count": 6,
   "id": "f29d6887",
   "metadata": {
    "execution": {
     "iopub.execute_input": "2022-05-25T20:33:16.083669Z",
     "iopub.status.busy": "2022-05-25T20:33:16.083274Z",
     "iopub.status.idle": "2022-05-25T20:33:16.090228Z",
     "shell.execute_reply": "2022-05-25T20:33:16.089103Z"
    },
    "papermill": {
     "duration": 0.020821,
     "end_time": "2022-05-25T20:33:16.092463",
     "exception": false,
     "start_time": "2022-05-25T20:33:16.071642",
     "status": "completed"
    },
    "tags": []
   },
   "outputs": [],
   "source": [
    "\n",
    "#Callbacks\n",
    "c2=tf.keras.callbacks.EarlyStopping(\n",
    "    monitor=\"val_loss\",\n",
    "    min_delta=0,\n",
    "    patience=6,\n",
    "    mode=\"auto\",\n",
    "    baseline=None,\n",
    "    restore_best_weights=True,\n",
    ")\n",
    "\n",
    "c3=tf.keras.callbacks.ReduceLROnPlateau(\n",
    "    monitor=\"val_loss\",\n",
    "    factor=0.1,\n",
    "    patience=6,\n",
    "    mode=\"auto\",\n",
    "    min_delta=0.0001,\n",
    "    cooldown=0,\n",
    "    min_lr=0.001\n",
    ")\n",
    "nClasses=3"
   ]
  },
  {
   "cell_type": "code",
   "execution_count": 7,
   "id": "ae9a840d",
   "metadata": {
    "execution": {
     "iopub.execute_input": "2022-05-25T20:33:16.115170Z",
     "iopub.status.busy": "2022-05-25T20:33:16.114728Z",
     "iopub.status.idle": "2022-05-25T20:33:16.119351Z",
     "shell.execute_reply": "2022-05-25T20:33:16.118171Z"
    },
    "papermill": {
     "duration": 0.018573,
     "end_time": "2022-05-25T20:33:16.121573",
     "exception": false,
     "start_time": "2022-05-25T20:33:16.103000",
     "status": "completed"
    },
    "tags": []
   },
   "outputs": [],
   "source": [
    "\n",
    "from PIL import Image\n",
    "import glob\n"
   ]
  },
  {
   "cell_type": "code",
   "execution_count": null,
   "id": "c2c1003a",
   "metadata": {
    "papermill": {
     "duration": 0.010695,
     "end_time": "2022-05-25T20:33:16.142778",
     "exception": false,
     "start_time": "2022-05-25T20:33:16.132083",
     "status": "completed"
    },
    "tags": []
   },
   "outputs": [],
   "source": []
  },
  {
   "cell_type": "code",
   "execution_count": null,
   "id": "95b8b836",
   "metadata": {
    "papermill": {
     "duration": 0.0102,
     "end_time": "2022-05-25T20:33:16.163528",
     "exception": false,
     "start_time": "2022-05-25T20:33:16.153328",
     "status": "completed"
    },
    "tags": []
   },
   "outputs": [],
   "source": []
  },
  {
   "cell_type": "code",
   "execution_count": 8,
   "id": "cb2d2711",
   "metadata": {
    "execution": {
     "iopub.execute_input": "2022-05-25T20:33:16.186604Z",
     "iopub.status.busy": "2022-05-25T20:33:16.186221Z",
     "iopub.status.idle": "2022-05-25T20:33:16.191054Z",
     "shell.execute_reply": "2022-05-25T20:33:16.189943Z"
    },
    "papermill": {
     "duration": 0.018833,
     "end_time": "2022-05-25T20:33:16.193179",
     "exception": false,
     "start_time": "2022-05-25T20:33:16.174346",
     "status": "completed"
    },
    "tags": []
   },
   "outputs": [],
   "source": [
    "import os #Operating System\n",
    "import sys #System\n",
    "# train_generator = train_datagen.flow(x_train, y_train, batch_size =)\n",
    "# val_generator = val_datagen.flow(x_val, y_val, batch_size = 64)\n",
    "# test_generator=test_datagen.flow(x_test,y_test,batch_size = 64)\n"
   ]
  },
  {
   "cell_type": "markdown",
   "id": "a859b5dd",
   "metadata": {
    "papermill": {
     "duration": 0.010285,
     "end_time": "2022-05-25T20:33:16.213908",
     "exception": false,
     "start_time": "2022-05-25T20:33:16.203623",
     "status": "completed"
    },
    "tags": []
   },
   "source": [
    "#import image"
   ]
  },
  {
   "cell_type": "code",
   "execution_count": null,
   "id": "09ed19b5",
   "metadata": {
    "papermill": {
     "duration": 0.010923,
     "end_time": "2022-05-25T20:33:16.235205",
     "exception": false,
     "start_time": "2022-05-25T20:33:16.224282",
     "status": "completed"
    },
    "tags": []
   },
   "outputs": [],
   "source": []
  },
  {
   "cell_type": "code",
   "execution_count": null,
   "id": "08d69d75",
   "metadata": {
    "papermill": {
     "duration": 0.010228,
     "end_time": "2022-05-25T20:33:16.257468",
     "exception": false,
     "start_time": "2022-05-25T20:33:16.247240",
     "status": "completed"
    },
    "tags": []
   },
   "outputs": [],
   "source": []
  },
  {
   "cell_type": "code",
   "execution_count": 9,
   "id": "8d095011",
   "metadata": {
    "execution": {
     "iopub.execute_input": "2022-05-25T20:33:16.280293Z",
     "iopub.status.busy": "2022-05-25T20:33:16.279885Z",
     "iopub.status.idle": "2022-05-25T20:33:16.286099Z",
     "shell.execute_reply": "2022-05-25T20:33:16.285172Z"
    },
    "papermill": {
     "duration": 0.020392,
     "end_time": "2022-05-25T20:33:16.288293",
     "exception": false,
     "start_time": "2022-05-25T20:33:16.267901",
     "status": "completed"
    },
    "tags": []
   },
   "outputs": [
    {
     "name": "stdout",
     "output_type": "stream",
     "text": [
      "(7000, 50, 50, 3) (900, 50, 50, 3) (2100, 50, 50, 3) (7000, 2) (900, 2) (2100, 2)\n"
     ]
    }
   ],
   "source": [
    "print(X_train.shape, X_test.shape, X_val.shape, y_train.shape, y_test.shape, y_val.shape)"
   ]
  },
  {
   "cell_type": "code",
   "execution_count": 10,
   "id": "4095194a",
   "metadata": {
    "execution": {
     "iopub.execute_input": "2022-05-25T20:33:16.311082Z",
     "iopub.status.busy": "2022-05-25T20:33:16.310661Z",
     "iopub.status.idle": "2022-05-25T20:33:16.318533Z",
     "shell.execute_reply": "2022-05-25T20:33:16.316891Z"
    },
    "papermill": {
     "duration": 0.021971,
     "end_time": "2022-05-25T20:33:16.320827",
     "exception": false,
     "start_time": "2022-05-25T20:33:16.298856",
     "status": "completed"
    },
    "tags": []
   },
   "outputs": [],
   "source": [
    "#Callbacks\n",
    "c2=tf.keras.callbacks.EarlyStopping(\n",
    "    monitor=\"val_loss\",\n",
    "    min_delta=0,\n",
    "    patience=6,\n",
    "    mode=\"auto\",\n",
    "    baseline=None,\n",
    "    restore_best_weights=True,\n",
    ")\n",
    "\n",
    "c3=tf.keras.callbacks.ReduceLROnPlateau(\n",
    "    monitor=\"val_loss\",\n",
    "    factor=0.1,\n",
    "    patience=6,\n",
    "    mode=\"auto\",\n",
    "    min_delta=0.0001,\n",
    "    cooldown=0,\n",
    "    min_lr=0.001\n",
    ")\n",
    "nClasses=2"
   ]
  },
  {
   "cell_type": "markdown",
   "id": "ec607b77",
   "metadata": {
    "papermill": {
     "duration": 0.010282,
     "end_time": "2022-05-25T20:33:16.341822",
     "exception": false,
     "start_time": "2022-05-25T20:33:16.331540",
     "status": "completed"
    },
    "tags": []
   },
   "source": [
    "# model"
   ]
  },
  {
   "cell_type": "code",
   "execution_count": 11,
   "id": "cfd29dbb",
   "metadata": {
    "execution": {
     "iopub.execute_input": "2022-05-25T20:33:16.365637Z",
     "iopub.status.busy": "2022-05-25T20:33:16.364457Z",
     "iopub.status.idle": "2022-05-25T20:33:16.537333Z",
     "shell.execute_reply": "2022-05-25T20:33:16.535477Z"
    },
    "papermill": {
     "duration": 0.187593,
     "end_time": "2022-05-25T20:33:16.540043",
     "exception": false,
     "start_time": "2022-05-25T20:33:16.352450",
     "status": "completed"
    },
    "tags": []
   },
   "outputs": [
    {
     "name": "stdout",
     "output_type": "stream",
     "text": [
      "Model: \"sequential\"\n",
      "_________________________________________________________________\n",
      "Layer (type)                 Output Shape              Param #   \n",
      "=================================================================\n",
      "conv2d (Conv2D)              (None, 48, 48, 64)        1792      \n",
      "_________________________________________________________________\n",
      "conv2d_1 (Conv2D)            (None, 46, 46, 32)        18464     \n",
      "_________________________________________________________________\n",
      "conv2d_2 (Conv2D)            (None, 44, 44, 32)        9248      \n",
      "_________________________________________________________________\n",
      "conv2d_3 (Conv2D)            (None, 42, 42, 32)        9248      \n",
      "_________________________________________________________________\n",
      "conv2d_4 (Conv2D)            (None, 40, 40, 32)        9248      \n",
      "_________________________________________________________________\n",
      "flatten (Flatten)            (None, 51200)             0         \n",
      "_________________________________________________________________\n",
      "dense (Dense)                (None, 2)                 102402    \n",
      "=================================================================\n",
      "Total params: 150,402\n",
      "Trainable params: 150,402\n",
      "Non-trainable params: 0\n",
      "_________________________________________________________________\n"
     ]
    },
    {
     "name": "stderr",
     "output_type": "stream",
     "text": [
      "2022-05-25 20:33:16.407433: I tensorflow/core/common_runtime/process_util.cc:146] Creating new thread pool with default inter op setting: 2. Tune using inter_op_parallelism_threads for best performance.\n"
     ]
    }
   ],
   "source": [
    "RESNET50_POOLING_AVERAGE = 'avg'\n",
    "DENSE_LAYER_ACTIVATION = 'sigmoid'\n",
    "OBJECTIVE_FUNCTION = 'categorical_crossentropy'\n",
    "\n",
    "# Common accuracy metric for all outputs, but can use different metrics for different output\n",
    "LOSS_METRICS = ['accuracy']\n",
    "\n",
    "model = Sequential()\n",
    "model.add(Conv2D(64, kernel_size=3, activation='relu', input_shape=(50,50,3)))\n",
    "model.add(Conv2D(32, kernel_size=3, activation='relu'))\n",
    "model.add(Conv2D(32, kernel_size=3, activation='relu'))\n",
    "model.add(Conv2D(32, kernel_size=3, activation='relu'))\n",
    "model.add(Conv2D(32, kernel_size=3, activation='relu'))\n",
    "model.add(Flatten())\n",
    "model.add(Dense(2, activation=\"softmax\"))\n",
    "#adam = Adam(learning_rate=0.0001)\n",
    "#binary_crossentropy is used as Cancer detecion is  binary classification model\n",
    "#model.compile(loss=\"binary_crossentropy\", optimizer=adam, metrics=['accuracy'])   \n",
    "\n",
    "#model = Model(inputs=resnet50_base_model.input, outputs=predictions)\n",
    "model.summary()\n"
   ]
  },
  {
   "cell_type": "code",
   "execution_count": 12,
   "id": "30543c6e",
   "metadata": {
    "execution": {
     "iopub.execute_input": "2022-05-25T20:33:16.564404Z",
     "iopub.status.busy": "2022-05-25T20:33:16.563981Z",
     "iopub.status.idle": "2022-05-25T20:33:17.740393Z",
     "shell.execute_reply": "2022-05-25T20:33:17.739218Z"
    },
    "papermill": {
     "duration": 1.191687,
     "end_time": "2022-05-25T20:33:17.743347",
     "exception": false,
     "start_time": "2022-05-25T20:33:16.551660",
     "status": "completed"
    },
    "tags": []
   },
   "outputs": [
    {
     "data": {
      "image/png": "[encoded data removed]",
      "text/plain": [
       "<IPython.core.display.Image object>"
      ]
     },
     "execution_count": 12,
     "metadata": {},
     "output_type": "execute_result"
    }
   ],
   "source": [
    "from tensorflow.keras.utils import plot_model\n",
    "from IPython.display import Image\n",
    "plot_model(model, to_file='convnet.png', show_shapes=True,show_layer_names=True)\n",
    "Image(filename='convnet.png') "
   ]
  },
  {
   "cell_type": "code",
   "execution_count": 13,
   "id": "93c32f0f",
   "metadata": {
    "execution": {
     "iopub.execute_input": "2022-05-25T20:33:17.771875Z",
     "iopub.status.busy": "2022-05-25T20:33:17.771222Z",
     "iopub.status.idle": "2022-05-25T20:33:17.800939Z",
     "shell.execute_reply": "2022-05-25T20:33:17.800154Z"
    },
    "papermill": {
     "duration": 0.046599,
     "end_time": "2022-05-25T20:33:17.803091",
     "exception": false,
     "start_time": "2022-05-25T20:33:17.756492",
     "status": "completed"
    },
    "tags": []
   },
   "outputs": [],
   "source": [
    "def f1_score(y_true, y_pred): #taken from old keras source code\n",
    "    true_positives = K.sum(K.round(K.clip(y_true * y_pred, 0, 1)))\n",
    "    possible_positives = K.sum(K.round(K.clip(y_true, 0, 1)))\n",
    "    predicted_positives = K.sum(K.round(K.clip(y_pred, 0, 1)))\n",
    "    precision = true_positives / (predicted_positives + K.epsilon())\n",
    "    recall = true_positives / (possible_positives + K.epsilon())\n",
    "    f1_val = 2*(precision*recall)/(precision+recall+K.epsilon())\n",
    "    return f1_val\n",
    "\n",
    "METRICS = [\n",
    "      tf.keras.metrics.BinaryAccuracy(name='accuracy'),\n",
    "      tf.keras.metrics.Precision(name='precision'),\n",
    "      tf.keras.metrics.Recall(name='recall'),  \n",
    "      tf.keras.metrics.AUC(name='auc'),\n",
    "        f1_score,\n",
    "]"
   ]
  },
  {
   "cell_type": "code",
   "execution_count": 14,
   "id": "d944f7b1",
   "metadata": {
    "execution": {
     "iopub.execute_input": "2022-05-25T20:33:17.831083Z",
     "iopub.status.busy": "2022-05-25T20:33:17.830239Z",
     "iopub.status.idle": "2022-05-25T20:33:17.845703Z",
     "shell.execute_reply": "2022-05-25T20:33:17.844944Z"
    },
    "papermill": {
     "duration": 0.033064,
     "end_time": "2022-05-25T20:33:17.848018",
     "exception": false,
     "start_time": "2022-05-25T20:33:17.814954",
     "status": "completed"
    },
    "tags": []
   },
   "outputs": [],
   "source": [
    "import sklearn\n",
    "from sklearn.metrics import classification_report\n",
    "from sklearn.metrics import f1_score, roc_auc_score, cohen_kappa_score, precision_score, recall_score, accuracy_score, confusion_matrix\n",
    "def get_accuracy_metrics(model, X_train, y_train, X_val, y_val, X_test, y_test):\n",
    "    y_train=np.argmax(y_train, axis=1)\n",
    "    y_test=np.argmax(y_test, axis=1)\n",
    "    y_val=np.argmax(y_val, axis=1)\n",
    "    y_train_pred=np.argmax(model.predict(X_train),axis=1)\n",
    "    y_test_pred=np.argmax(model.predict(X_test),axis=1)\n",
    "    y_val_pred=np.argmax(model.predict(X_val),axis=1)\n",
    "    #ps:all the Y value must turn back to 1 dimension array. otherwise, the scoring functions in sklearn cannot compare, and will give an error\n",
    "    #classification metrics can't handle a mix of continuous-multioutput and multi-label-indicator targets\n",
    "    \n",
    "    print(\"Train accuracy Score------------>\")\n",
    "    print (\"{0:.3f}\".format(accuracy_score(y_train, y_train_pred)*100), \"%\")\n",
    "    \n",
    "    print(\"Val accuracy Score--------->\")\n",
    "    \n",
    "    print(\"{0:.3f}\".format(accuracy_score(y_val, y_val_pred)*100), \"%\")\n",
    "    \n",
    "  \n",
    "    print(\"Test accuracy Score--------->\")\n",
    "    print(\"{0:.3f}\".format(accuracy_score(y_test, y_test_pred)*100), \"%\")\n",
    "    \n",
    "    print(\"F1 Score--------------->\")\n",
    "    print(\"{0:.3f}\".format(f1_score(y_test, y_test_pred, average = 'weighted')*100), \"%\")\n",
    "    \n",
    "    print(\"Cohen Kappa Score------------->\")\n",
    "    print(\"{0:.3f}\".format(cohen_kappa_score(y_test, y_test_pred)*100), \"%\")\n",
    "    \n",
    "    print(\"Recall-------------->\")\n",
    "    print(\"{0:.3f}\".format(recall_score(y_test, y_test_pred, average = 'weighted')*100), \"%\")\n",
    "    \n",
    "    print(\"Precision-------------->\")\n",
    "    print(\"{0:.3f}\".format(precision_score(y_test, y_test_pred, average = 'weighted')*100), \"%\")\n",
    "    \n",
    "    cf_matrix_test = confusion_matrix(y_test, y_test_pred)\n",
    "    cf_matrix_val = confusion_matrix(y_val, y_val_pred)\n",
    "    \n",
    "    plt.figure(figsize = (12, 6))\n",
    "    plt.subplot(121)\n",
    "    sns.heatmap(cf_matrix_val, annot=True, cmap='Blues')\n",
    "    plt.title(\"Val Confusion matrix\")\n",
    "    \n",
    "    plt.subplot(122)\n",
    "    sns.heatmap(cf_matrix_test, annot=True, cmap='Blues')\n",
    "    plt.title(\"Test Confusion matrix\")\n",
    "    \n",
    "    plt.show()\n",
    "    print(\"train report\")\n",
    "    print(classification_report(y_train, y_train_pred))\n",
    "    print(\"test report\")\n",
    "    print(classification_report(y_test, y_test_pred))"
   ]
  },
  {
   "cell_type": "code",
   "execution_count": 15,
   "id": "e86f59cf",
   "metadata": {
    "execution": {
     "iopub.execute_input": "2022-05-25T20:33:17.873911Z",
     "iopub.status.busy": "2022-05-25T20:33:17.873167Z",
     "iopub.status.idle": "2022-05-25T20:33:17.889533Z",
     "shell.execute_reply": "2022-05-25T20:33:17.888553Z"
    },
    "papermill": {
     "duration": 0.032026,
     "end_time": "2022-05-25T20:33:17.891928",
     "exception": false,
     "start_time": "2022-05-25T20:33:17.859902",
     "status": "completed"
    },
    "tags": []
   },
   "outputs": [],
   "source": [
    "callbacks1 =  [EarlyStopping(monitor='val_loss', patience=5, verbose=1), ModelCheckpoint('init_model.h5', save_best_only=True)]\n",
    "opt = Adam(learning_rate=0.0001)\n",
    "model.compile(loss=\"binary_crossentropy\", optimizer=opt, metrics=['accuracy'])"
   ]
  },
  {
   "cell_type": "code",
   "execution_count": 16,
   "id": "2becd696",
   "metadata": {
    "execution": {
     "iopub.execute_input": "2022-05-25T20:33:17.917572Z",
     "iopub.status.busy": "2022-05-25T20:33:17.917066Z",
     "iopub.status.idle": "2022-05-25T20:39:43.504782Z",
     "shell.execute_reply": "2022-05-25T20:39:43.500594Z"
    },
    "papermill": {
     "duration": 385.603441,
     "end_time": "2022-05-25T20:39:43.507168",
     "exception": false,
     "start_time": "2022-05-25T20:33:17.903727",
     "status": "completed"
    },
    "tags": []
   },
   "outputs": [
    {
     "name": "stdout",
     "output_type": "stream",
     "text": [
      "CPU times: user 3 µs, sys: 1e+03 ns, total: 4 µs\n",
      "Wall time: 9.06 µs\n"
     ]
    },
    {
     "name": "stderr",
     "output_type": "stream",
     "text": [
      "2022-05-25 20:33:18.054481: I tensorflow/compiler/mlir/mlir_graph_optimization_pass.cc:185] None of the MLIR Optimization Passes are enabled (registered 2)\n"
     ]
    },
    {
     "name": "stdout",
     "output_type": "stream",
     "text": [
      "Epoch 1/10\n",
      "219/219 [==============================] - 44s 196ms/step - loss: 0.5830 - accuracy: 0.8456 - val_loss: 0.3520 - val_accuracy: 0.8556\n",
      "Epoch 2/10\n",
      "219/219 [==============================] - 43s 198ms/step - loss: 0.2875 - accuracy: 0.8914 - val_loss: 0.2831 - val_accuracy: 0.8833\n",
      "Epoch 3/10\n",
      "219/219 [==============================] - 42s 193ms/step - loss: 0.2184 - accuracy: 0.9209 - val_loss: 0.2797 - val_accuracy: 0.8822\n",
      "Epoch 4/10\n",
      "219/219 [==============================] - 42s 194ms/step - loss: 0.1657 - accuracy: 0.9460 - val_loss: 0.2571 - val_accuracy: 0.8978\n",
      "Epoch 5/10\n",
      "219/219 [==============================] - 43s 198ms/step - loss: 0.1192 - accuracy: 0.9633 - val_loss: 0.2581 - val_accuracy: 0.9033\n",
      "Epoch 6/10\n",
      "219/219 [==============================] - 42s 194ms/step - loss: 0.0878 - accuracy: 0.9739 - val_loss: 0.2850 - val_accuracy: 0.9100\n",
      "Epoch 7/10\n",
      "219/219 [==============================] - 42s 193ms/step - loss: 0.0605 - accuracy: 0.9846 - val_loss: 0.2712 - val_accuracy: 0.9156\n",
      "Epoch 8/10\n",
      "219/219 [==============================] - 43s 197ms/step - loss: 0.0371 - accuracy: 0.9909 - val_loss: 0.3536 - val_accuracy: 0.9056\n",
      "Epoch 9/10\n",
      "219/219 [==============================] - 42s 192ms/step - loss: 0.0273 - accuracy: 0.9946 - val_loss: 0.3100 - val_accuracy: 0.9122\n",
      "Epoch 00009: early stopping\n"
     ]
    }
   ],
   "source": [
    "%time\n",
    "history1=model.fit(X_train, y_train,validation_data=(X_test, y_test),verbose = 1,epochs = epoch1,callbacks=callbacks1)"
   ]
  },
  {
   "cell_type": "code",
   "execution_count": 17,
   "id": "8ff7c514",
   "metadata": {
    "execution": {
     "iopub.execute_input": "2022-05-25T20:39:43.816794Z",
     "iopub.status.busy": "2022-05-25T20:39:43.816216Z",
     "iopub.status.idle": "2022-05-25T20:40:56.912720Z",
     "shell.execute_reply": "2022-05-25T20:40:56.911176Z"
    },
    "papermill": {
     "duration": 73.253083,
     "end_time": "2022-05-25T20:40:56.915174",
     "exception": false,
     "start_time": "2022-05-25T20:39:43.662091",
     "status": "completed"
    },
    "tags": []
   },
   "outputs": [
    {
     "name": "stdout",
     "output_type": "stream",
     "text": [
      "Train accuracy Score------------>\n",
      "99.957 %\n",
      "Val accuracy Score--------->\n",
      "91.048 %\n",
      "Test accuracy Score--------->\n",
      "91.222 %\n",
      "F1 Score--------------->\n",
      "91.015 %\n",
      "Cohen Kappa Score------------->\n",
      "67.638 %\n",
      "Recall-------------->\n",
      "91.222 %\n",
      "Precision-------------->\n",
      "90.914 %\n"
     ]
    },
    {
     "data": {
      "image/png": "[encoded data removed]",
      "text/plain": [
       "<Figure size 864x432 with 4 Axes>"
      ]
     },
     "metadata": {
      "needs_background": "light"
     },
     "output_type": "display_data"
    },
    {
     "name": "stdout",
     "output_type": "stream",
     "text": [
      "train report\n",
      "              precision    recall  f1-score   support\n",
      "\n",
      "           0       1.00      1.00      1.00      5945\n",
      "           1       1.00      1.00      1.00      1055\n",
      "\n",
      "    accuracy                           1.00      7000\n",
      "   macro avg       1.00      1.00      1.00      7000\n",
      "weighted avg       1.00      1.00      1.00      7000\n",
      "\n",
      "test report\n",
      "              precision    recall  f1-score   support\n",
      "\n",
      "           0       0.94      0.96      0.95       746\n",
      "           1       0.77      0.69      0.73       154\n",
      "\n",
      "    accuracy                           0.91       900\n",
      "   macro avg       0.86      0.82      0.84       900\n",
      "weighted avg       0.91      0.91      0.91       900\n",
      "\n"
     ]
    }
   ],
   "source": [
    "#MODEL_PATH = './test_model.hdf5'\n",
    "#from keras.models import load_model\n",
    "##best_model = load_model('./test_model.h5')\n",
    "#init_model = load_model('./init_model.h5', compile=False)\n",
    "#best_model = load_model(\"./test_model.h5\", custom_objects={'focal_loss_fixed': focal_loss()})\n",
    "get_accuracy_metrics(model,  X_train, y_train, X_val, y_val, X_test, y_test)"
   ]
  },
  {
   "cell_type": "markdown",
   "id": "a621894c",
   "metadata": {
    "papermill": {
     "duration": 0.150216,
     "end_time": "2022-05-25T20:40:57.297271",
     "exception": false,
     "start_time": "2022-05-25T20:40:57.147055",
     "status": "completed"
    },
    "tags": []
   },
   "source": [
    "plot training history"
   ]
  },
  {
   "cell_type": "code",
   "execution_count": 18,
   "id": "23f5e4f9",
   "metadata": {
    "execution": {
     "iopub.execute_input": "2022-05-25T20:40:57.598935Z",
     "iopub.status.busy": "2022-05-25T20:40:57.598500Z",
     "iopub.status.idle": "2022-05-25T20:40:57.984293Z",
     "shell.execute_reply": "2022-05-25T20:40:57.983240Z"
    },
    "papermill": {
     "duration": 0.539207,
     "end_time": "2022-05-25T20:40:57.986784",
     "exception": false,
     "start_time": "2022-05-25T20:40:57.447577",
     "status": "completed"
    },
    "tags": []
   },
   "outputs": [
    {
     "data": {
      "image/png": "[encoded data removed]",
      "text/plain": [
       "<Figure size 864x432 with 2 Axes>"
      ]
     },
     "metadata": {
      "needs_background": "light"
     },
     "output_type": "display_data"
    }
   ],
   "source": [
    "import matplotlib.pyplot as plt\n",
    "import seaborn as sns\n",
    "plt.figure(figsize = (12, 6))\n",
    "plt.subplot(121)\n",
    "#plotting the Accuracy of test and training sets\n",
    "plt.plot(history1.history['accuracy'])\n",
    "plt.plot(history1.history['val_accuracy'])\n",
    "plt.title('1st training Model Accuracy')\n",
    "plt.ylabel('accuracy')\n",
    "plt.xlabel('epoch')\n",
    "plt.legend(['train', 'test'], loc='upper left')\n",
    "\n",
    "plt.subplot(122)\n",
    "#plotting the loss of test and training sets\n",
    "plt.plot(history1.history['loss'])\n",
    "plt.plot(history1.history['val_loss'])\n",
    "plt.title('1st training Model Loss')\n",
    "plt.ylabel('loss')\n",
    "plt.xlabel('epoch')\n",
    "plt.legend(['train', 'test'], loc='upper left')\n",
    "plt.show()\n"
   ]
  },
  {
   "cell_type": "markdown",
   "id": "80171768",
   "metadata": {
    "papermill": {
     "duration": 0.149818,
     "end_time": "2022-05-25T20:40:58.288554",
     "exception": false,
     "start_time": "2022-05-25T20:40:58.138736",
     "status": "completed"
    },
    "tags": []
   },
   "source": [
    "plot confusion report"
   ]
  },
  {
   "cell_type": "code",
   "execution_count": 19,
   "id": "cc7c6e8a",
   "metadata": {
    "execution": {
     "iopub.execute_input": "2022-05-25T20:40:58.593984Z",
     "iopub.status.busy": "2022-05-25T20:40:58.593133Z",
     "iopub.status.idle": "2022-05-25T20:41:02.015774Z",
     "shell.execute_reply": "2022-05-25T20:41:02.014889Z"
    },
    "papermill": {
     "duration": 3.577589,
     "end_time": "2022-05-25T20:41:02.018005",
     "exception": false,
     "start_time": "2022-05-25T20:40:58.440416",
     "status": "completed"
    },
    "tags": []
   },
   "outputs": [
    {
     "data": {
      "image/png": "[encoded data removed]",
      "text/plain": [
       "<Figure size 576x576 with 2 Axes>"
      ]
     },
     "metadata": {
      "needs_background": "light"
     },
     "output_type": "display_data"
    }
   ],
   "source": [
    "from sklearn.metrics import confusion_matrix\n",
    "import seaborn as sns\n",
    "\n",
    "Y_pred = model.predict(X_val)\n",
    "Y_pred_classes = np.argmax(Y_pred,axis = 1) \n",
    "Y_true = np.argmax(y_val,axis = 1) \n",
    "\n",
    "confusion_mtx = confusion_matrix(Y_true, Y_pred_classes) \n",
    "\n",
    "f,ax = plt.subplots(figsize=(8, 8))\n",
    "sns.heatmap(confusion_mtx, annot=True, linewidths=0.01,cmap=\"OrRd\",linecolor=\"black\", fmt= '.1f',ax=ax)\n",
    "plt.xlabel(\"Predicted Label\")\n",
    "plt.ylabel(\"True Label\")\n",
    "plt.title(\"Confusion Matrix\")\n",
    "plt.show()"
   ]
  },
  {
   "cell_type": "code",
   "execution_count": 20,
   "id": "d97ddcb2",
   "metadata": {
    "execution": {
     "iopub.execute_input": "2022-05-25T20:41:02.327483Z",
     "iopub.status.busy": "2022-05-25T20:41:02.327099Z",
     "iopub.status.idle": "2022-05-25T20:41:02.341188Z",
     "shell.execute_reply": "2022-05-25T20:41:02.339432Z"
    },
    "papermill": {
     "duration": 0.172015,
     "end_time": "2022-05-25T20:41:02.343847",
     "exception": false,
     "start_time": "2022-05-25T20:41:02.171832",
     "status": "completed"
    },
    "tags": []
   },
   "outputs": [
    {
     "name": "stdout",
     "output_type": "stream",
     "text": [
      "              precision    recall  f1-score   support\n",
      "\n",
      "           0       0.95      0.95      0.95      1806\n",
      "           1       0.69      0.66      0.67       294\n",
      "\n",
      "    accuracy                           0.91      2100\n",
      "   macro avg       0.82      0.81      0.81      2100\n",
      "weighted avg       0.91      0.91      0.91      2100\n",
      "\n"
     ]
    }
   ],
   "source": [
    "from sklearn.metrics import classification_report\n",
    "\n",
    "print(classification_report(Y_true, Y_pred_classes))"
   ]
  },
  {
   "cell_type": "markdown",
   "id": "7bc4013e",
   "metadata": {
    "papermill": {
     "duration": 0.154188,
     "end_time": "2022-05-25T20:41:02.653077",
     "exception": false,
     "start_time": "2022-05-25T20:41:02.498889",
     "status": "completed"
    },
    "tags": []
   },
   "source": [
    "plot training history"
   ]
  },
  {
   "cell_type": "markdown",
   "id": "da33b0b8",
   "metadata": {
    "papermill": {
     "duration": 0.152169,
     "end_time": "2022-05-25T20:41:02.957107",
     "exception": false,
     "start_time": "2022-05-25T20:41:02.804938",
     "status": "completed"
    },
    "tags": []
   },
   "source": [
    "plot confusion report"
   ]
  },
  {
   "cell_type": "markdown",
   "id": "ef59a0c4",
   "metadata": {
    "papermill": {
     "duration": 0.15507,
     "end_time": "2022-05-25T20:41:03.265846",
     "exception": false,
     "start_time": "2022-05-25T20:41:03.110776",
     "status": "completed"
    },
    "tags": []
   },
   "source": []
  },
  {
   "cell_type": "code",
   "execution_count": 21,
   "id": "d1d43134",
   "metadata": {
    "execution": {
     "iopub.execute_input": "2022-05-25T20:41:03.577137Z",
     "iopub.status.busy": "2022-05-25T20:41:03.576529Z",
     "iopub.status.idle": "2022-05-25T20:41:03.585775Z",
     "shell.execute_reply": "2022-05-25T20:41:03.584217Z"
    },
    "papermill": {
     "duration": 0.164105,
     "end_time": "2022-05-25T20:41:03.588308",
     "exception": false,
     "start_time": "2022-05-25T20:41:03.424203",
     "status": "completed"
    },
    "tags": []
   },
   "outputs": [
    {
     "name": "stdout",
     "output_type": "stream",
     "text": [
      "/kaggle/working\n"
     ]
    },
    {
     "data": {
      "text/html": [
       "Path (<tt>model.hdf5</tt>) doesn't exist. It may still be in the process of being generated, or you may have the incorrect path."
      ],
      "text/plain": [
       "/kaggle/working/model.hdf5"
      ]
     },
     "execution_count": 21,
     "metadata": {},
     "output_type": "execute_result"
    }
   ],
   "source": [
    "%cd /kaggle/working\n",
    "from IPython.display import FileLink\n",
    "FileLink('model.hdf5')"
   ]
  },
  {
   "cell_type": "code",
   "execution_count": null,
   "id": "d498716a",
   "metadata": {
    "papermill": {
     "duration": 0.152469,
     "end_time": "2022-05-25T20:41:03.892778",
     "exception": false,
     "start_time": "2022-05-25T20:41:03.740309",
     "status": "completed"
    },
    "tags": []
   },
   "outputs": [],
   "source": []
  },
  {
   "cell_type": "code",
   "execution_count": null,
   "id": "2847a639",
   "metadata": {
    "papermill": {
     "duration": 0.175471,
     "end_time": "2022-05-25T20:41:04.221351",
     "exception": false,
     "start_time": "2022-05-25T20:41:04.045880",
     "status": "completed"
    },
    "tags": []
   },
   "outputs": [],
   "source": []
  },
  {
   "cell_type": "code",
   "execution_count": null,
   "id": "157edc4b",
   "metadata": {
    "papermill": {
     "duration": 0.229064,
     "end_time": "2022-05-25T20:41:04.617135",
     "exception": false,
     "start_time": "2022-05-25T20:41:04.388071",
     "status": "completed"
    },
    "tags": []
   },
   "outputs": [],
   "source": []
  }
 ],
 "metadata": {
  "kernelspec": {
   "display_name": "Python 3",
   "language": "python",
   "name": "python3"
  },
  "language_info": {
   "codemirror_mode": {
    "name": "ipython",
    "version": 3
   },
   "file_extension": ".py",
   "mimetype": "text/x-python",
   "name": "python",
   "nbconvert_exporter": "python",
   "pygments_lexer": "ipython3",
   "version": "3.7.12"
  },
  "papermill": {
   "default_parameters": {},
   "duration": 651.114449,
   "end_time": "2022-05-25T20:41:08.159578",
   "environment_variables": {},
   "exception": null,
   "input_path": "__notebook__.ipynb",
   "output_path": "__notebook__.ipynb",
   "parameters": {},
   "start_time": "2022-05-25T20:30:17.045129",
   "version": "2.3.4"
  }
 },
 "nbformat": 4,
 "nbformat_minor": 5
}
