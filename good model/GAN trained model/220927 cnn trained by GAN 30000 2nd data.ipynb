{
 "cells": [
  {
   "cell_type": "code",
   "execution_count": 1,
   "id": "1c0fb36c",
   "metadata": {
    "_cell_guid": "b1076dfc-b9ad-4769-8c92-a6c4dae69d19",
    "_uuid": "8f2839f25d086af736a60e9eeb907d3b93b6e0e5",
    "execution": {
     "iopub.execute_input": "2022-09-26T17:00:03.326159Z",
     "iopub.status.busy": "2022-09-26T17:00:03.324714Z",
     "iopub.status.idle": "2022-09-26T17:00:16.172518Z",
     "shell.execute_reply": "2022-09-26T17:00:16.171090Z"
    },
    "papermill": {
     "duration": 12.863683,
     "end_time": "2022-09-26T17:00:16.175701",
     "exception": false,
     "start_time": "2022-09-26T17:00:03.312018",
     "status": "completed"
    },
    "tags": []
   },
   "outputs": [
    {
     "name": "stdout",
     "output_type": "stream",
     "text": [
      "Collecting Livelossplot\r\n",
      "  Downloading livelossplot-0.5.5-py3-none-any.whl (22 kB)\r\n",
      "Requirement already satisfied: ipython==7.* in /opt/conda/lib/python3.7/site-packages (from Livelossplot) (7.33.0)\r\n",
      "Requirement already satisfied: bokeh in /opt/conda/lib/python3.7/site-packages (from Livelossplot) (2.4.3)\r\n",
      "Requirement already satisfied: numpy<1.22 in /opt/conda/lib/python3.7/site-packages (from Livelossplot) (1.21.6)\r\n",
      "Requirement already satisfied: matplotlib in /opt/conda/lib/python3.7/site-packages (from Livelossplot) (3.5.2)\r\n",
      "Requirement already satisfied: setuptools>=18.5 in /opt/conda/lib/python3.7/site-packages (from ipython==7.*->Livelossplot) (59.8.0)\r\n",
      "Requirement already satisfied: traitlets>=4.2 in /opt/conda/lib/python3.7/site-packages (from ipython==7.*->Livelossplot) (5.2.1.post0)\r\n",
      "Requirement already satisfied: pickleshare in /opt/conda/lib/python3.7/site-packages (from ipython==7.*->Livelossplot) (0.7.5)\r\n",
      "Requirement already satisfied: pygments in /opt/conda/lib/python3.7/site-packages (from ipython==7.*->Livelossplot) (2.12.0)\r\n",
      "Requirement already satisfied: pexpect>4.3 in /opt/conda/lib/python3.7/site-packages (from ipython==7.*->Livelossplot) (4.8.0)\r\n",
      "Requirement already satisfied: backcall in /opt/conda/lib/python3.7/site-packages (from ipython==7.*->Livelossplot) (0.2.0)\r\n",
      "Requirement already satisfied: matplotlib-inline in /opt/conda/lib/python3.7/site-packages (from ipython==7.*->Livelossplot) (0.1.3)\r\n",
      "Requirement already satisfied: prompt-toolkit!=3.0.0,!=3.0.1,<3.1.0,>=2.0.0 in /opt/conda/lib/python3.7/site-packages (from ipython==7.*->Livelossplot) (3.0.29)\r\n",
      "Requirement already satisfied: decorator in /opt/conda/lib/python3.7/site-packages (from ipython==7.*->Livelossplot) (5.1.1)\r\n",
      "Requirement already satisfied: jedi>=0.16 in /opt/conda/lib/python3.7/site-packages (from ipython==7.*->Livelossplot) (0.18.1)\r\n",
      "Requirement already satisfied: typing-extensions>=3.10.0 in /opt/conda/lib/python3.7/site-packages (from bokeh->Livelossplot) (4.1.1)\r\n",
      "Requirement already satisfied: packaging>=16.8 in /opt/conda/lib/python3.7/site-packages (from bokeh->Livelossplot) (21.3)\r\n",
      "Requirement already satisfied: tornado>=5.1 in /opt/conda/lib/python3.7/site-packages (from bokeh->Livelossplot) (6.1)\r\n",
      "Requirement already satisfied: pillow>=7.1.0 in /opt/conda/lib/python3.7/site-packages (from bokeh->Livelossplot) (9.1.1)\r\n",
      "Requirement already satisfied: Jinja2>=2.9 in /opt/conda/lib/python3.7/site-packages (from bokeh->Livelossplot) (3.1.2)\r\n",
      "Requirement already satisfied: PyYAML>=3.10 in /opt/conda/lib/python3.7/site-packages (from bokeh->Livelossplot) (6.0)\r\n",
      "Requirement already satisfied: kiwisolver>=1.0.1 in /opt/conda/lib/python3.7/site-packages (from matplotlib->Livelossplot) (1.4.2)\r\n",
      "Requirement already satisfied: fonttools>=4.22.0 in /opt/conda/lib/python3.7/site-packages (from matplotlib->Livelossplot) (4.33.3)\r\n",
      "Requirement already satisfied: pyparsing>=2.2.1 in /opt/conda/lib/python3.7/site-packages (from matplotlib->Livelossplot) (3.0.9)\r\n",
      "Requirement already satisfied: cycler>=0.10 in /opt/conda/lib/python3.7/site-packages (from matplotlib->Livelossplot) (0.11.0)\r\n",
      "Requirement already satisfied: python-dateutil>=2.7 in /opt/conda/lib/python3.7/site-packages (from matplotlib->Livelossplot) (2.8.2)\r\n",
      "Requirement already satisfied: parso<0.9.0,>=0.8.0 in /opt/conda/lib/python3.7/site-packages (from jedi>=0.16->ipython==7.*->Livelossplot) (0.8.3)\r\n",
      "Requirement already satisfied: MarkupSafe>=2.0 in /opt/conda/lib/python3.7/site-packages (from Jinja2>=2.9->bokeh->Livelossplot) (2.0.1)\r\n",
      "Requirement already satisfied: ptyprocess>=0.5 in /opt/conda/lib/python3.7/site-packages (from pexpect>4.3->ipython==7.*->Livelossplot) (0.7.0)\r\n",
      "Requirement already satisfied: wcwidth in /opt/conda/lib/python3.7/site-packages (from prompt-toolkit!=3.0.0,!=3.0.1,<3.1.0,>=2.0.0->ipython==7.*->Livelossplot) (0.2.5)\r\n",
      "Requirement already satisfied: six>=1.5 in /opt/conda/lib/python3.7/site-packages (from python-dateutil>=2.7->matplotlib->Livelossplot) (1.16.0)\r\n",
      "Installing collected packages: Livelossplot\r\n",
      "Successfully installed Livelossplot-0.5.5\r\n",
      "\u001b[33mWARNING: Running pip as the 'root' user can result in broken permissions and conflicting behaviour with the system package manager. It is recommended to use a virtual environment instead: https://pip.pypa.io/warnings/venv\u001b[0m\u001b[33m\r\n",
      "\u001b[0m"
     ]
    }
   ],
   "source": [
    "# This Python 3 environment comes with many helpful analytics libraries installed\n",
    "# It is defined by the kaggle/python Docker image: https://github.com/kaggle/docker-python\n",
    "# For example, here's several helpful packages to load\n",
    "\n",
    "import numpy as np # linear algebra\n",
    "import pandas as pd # data processing, CSV file I/O (e.g. pd.read_csv)\n",
    "\n",
    "# Input data files are available in the read-only \"../input/\" directory\n",
    "# For example, running this (by clicking run or pressing Shift+Enter) will list all files under the input directory\n",
    "\n",
    "import os\n",
    "\n",
    "import warnings\n",
    "warnings.filterwarnings('ignore')\n",
    "%matplotlib inline\n",
    "!pip install Livelossplot\n",
    "from livelossplot import PlotLossesKeras\n",
    "\n",
    "from glob import glob\n",
    "import os\n",
    "import shutil\n",
    "\n",
    "import numpy as np\n",
    "import pandas as pd\n",
    "# You can write up to 20GB to the current directory (/kaggle/working/) that gets preserved as output when you create a version using \"Save & Run All\" \n",
    "# You can also write temporary files to /kaggle/temp/, but they won't be saved outside of the current session"
   ]
  },
  {
   "cell_type": "markdown",
   "id": "6390f5b2",
   "metadata": {
    "papermill": {
     "duration": 0.009079,
     "end_time": "2022-09-26T17:00:16.194689",
     "exception": false,
     "start_time": "2022-09-26T17:00:16.185610",
     "status": "completed"
    },
    "tags": []
   },
   "source": [
    "# AIM\n",
    "## To classify the images into \n",
    "### IDC+\n",
    "### IDC-\n",
    "\n",
    "# Validation Strategy:\n",
    "\n",
    "## Train Data Size= 0.7*Total_Data\n",
    "## Validation Data Size= 0.21* Total_Data\n",
    "## Test Data Size= 0.09 * Total_Data\n",
    "\n",
    "# Augmentaions Used:\n",
    "## Each Image is rotated through 45 angles\n"
   ]
  },
  {
   "cell_type": "code",
   "execution_count": 2,
   "id": "90f98c4a",
   "metadata": {
    "execution": {
     "iopub.execute_input": "2022-09-26T17:00:16.216671Z",
     "iopub.status.busy": "2022-09-26T17:00:16.216254Z",
     "iopub.status.idle": "2022-09-26T17:00:28.827725Z",
     "shell.execute_reply": "2022-09-26T17:00:28.826215Z"
    },
    "papermill": {
     "duration": 12.625916,
     "end_time": "2022-09-26T17:00:28.830713",
     "exception": false,
     "start_time": "2022-09-26T17:00:16.204797",
     "status": "completed"
    },
    "tags": []
   },
   "outputs": [
    {
     "data": {
      "text/html": [
       "<style type='text/css'>\n",
       ".datatable table.frame { margin-bottom: 0; }\n",
       ".datatable table.frame thead { border-bottom: none; }\n",
       ".datatable table.frame tr.coltypes td {  color: #FFFFFF;  line-height: 6px;  padding: 0 0.5em;}\n",
       ".datatable .bool    { background: #DDDD99; }\n",
       ".datatable .object  { background: #565656; }\n",
       ".datatable .int     { background: #5D9E5D; }\n",
       ".datatable .float   { background: #4040CC; }\n",
       ".datatable .str     { background: #CC4040; }\n",
       ".datatable .time    { background: #40CC40; }\n",
       ".datatable .row_index {  background: var(--jp-border-color3);  border-right: 1px solid var(--jp-border-color0);  color: var(--jp-ui-font-color3);  font-size: 9px;}\n",
       ".datatable .frame tbody td { text-align: left; }\n",
       ".datatable .frame tr.coltypes .row_index {  background: var(--jp-border-color0);}\n",
       ".datatable th:nth-child(2) { padding-left: 12px; }\n",
       ".datatable .hellipsis {  color: var(--jp-cell-editor-border-color);}\n",
       ".datatable .vellipsis {  background: var(--jp-layout-color0);  color: var(--jp-cell-editor-border-color);}\n",
       ".datatable .na {  color: var(--jp-cell-editor-border-color);  font-size: 80%;}\n",
       ".datatable .sp {  opacity: 0.25;}\n",
       ".datatable .footer { font-size: 9px; }\n",
       ".datatable .frame_dimensions {  background: var(--jp-border-color3);  border-top: 1px solid var(--jp-border-color0);  color: var(--jp-ui-font-color3);  display: inline-block;  opacity: 0.6;  padding: 1px 10px 1px 5px;}\n",
       "</style>\n"
      ],
      "text/plain": [
       "<IPython.core.display.HTML object>"
      ]
     },
     "metadata": {},
     "output_type": "display_data"
    },
    {
     "name": "stdout",
     "output_type": "stream",
     "text": [
      "All modules have been imported\n"
     ]
    }
   ],
   "source": [
    "\n",
    "import numpy as np\n",
    "import pandas as pd\n",
    "import cv2\n",
    "from PIL import Image\n",
    "import scipy\n",
    "\n",
    "import tensorflow as tf\n",
    "from tensorflow.keras.applications import *\n",
    "from tensorflow.keras.optimizers import *\n",
    "from tensorflow.keras.losses import *\n",
    "from tensorflow.keras.layers import *\n",
    "from tensorflow.keras.models import *\n",
    "from tensorflow.keras.callbacks import *\n",
    "from tensorflow.keras.preprocessing.image import *\n",
    "from tensorflow.keras.utils import *\n",
    "# import pydot\n",
    "\n",
    "from sklearn.metrics import *\n",
    "from sklearn.model_selection import *\n",
    "import tensorflow.keras.backend as K\n",
    "\n",
    "from tqdm import tqdm, tqdm_notebook\n",
    "from colorama import Fore\n",
    "import json\n",
    "import matplotlib.pyplot as plt\n",
    "import seaborn as sns\n",
    "from glob import glob\n",
    "from skimage.io import *\n",
    "%config Completer.use_jedi = False\n",
    "import time\n",
    "from sklearn.decomposition import PCA\n",
    "from sklearn.svm import LinearSVC\n",
    "from sklearn.linear_model import LogisticRegression\n",
    "from sklearn.metrics import accuracy_score\n",
    "import lightgbm as lgb\n",
    "import xgboost as xgb\n",
    "\n",
    "print(\"All modules have been imported\")"
   ]
  },
  {
   "cell_type": "code",
   "execution_count": 3,
   "id": "ab6726cd",
   "metadata": {
    "execution": {
     "iopub.execute_input": "2022-09-26T17:00:28.852081Z",
     "iopub.status.busy": "2022-09-26T17:00:28.851677Z",
     "iopub.status.idle": "2022-09-26T17:00:28.857786Z",
     "shell.execute_reply": "2022-09-26T17:00:28.856546Z"
    },
    "papermill": {
     "duration": 0.019488,
     "end_time": "2022-09-26T17:00:28.860039",
     "exception": false,
     "start_time": "2022-09-26T17:00:28.840551",
     "status": "completed"
    },
    "tags": []
   },
   "outputs": [],
   "source": [
    "sampling_seed = 0\n",
    "size_4_training0 = 78786\n",
    "size_4_training1 = 78786\n",
    "img_size = 50\n",
    "training_reshape=(-1, img_size, img_size, 3)\n",
    "epoch_4_test = 50"
   ]
  },
  {
   "cell_type": "code",
   "execution_count": 4,
   "id": "7ab4940d",
   "metadata": {
    "execution": {
     "iopub.execute_input": "2022-09-26T17:00:28.881640Z",
     "iopub.status.busy": "2022-09-26T17:00:28.881212Z",
     "iopub.status.idle": "2022-09-26T17:00:28.887868Z",
     "shell.execute_reply": "2022-09-26T17:00:28.887012Z"
    },
    "papermill": {
     "duration": 0.019979,
     "end_time": "2022-09-26T17:00:28.889871",
     "exception": false,
     "start_time": "2022-09-26T17:00:28.869892",
     "status": "completed"
    },
    "tags": []
   },
   "outputs": [],
   "source": [
    "import os\n",
    "os.makedirs('../working/data/train_seg/idc-minus/')     \n",
    "os.makedirs('../working/data/train_seg/idc-plus/')  \n",
    "os.makedirs('../working/data/test_seg/idc-minus/')     \n",
    "os.makedirs('../working/data/test_seg/idc-plus/')  \n",
    "os.makedirs('../working/data/val_seg/idc-minus/')     \n",
    "os.makedirs('../working/data/val_seg/idc-plus/') "
   ]
  },
  {
   "cell_type": "code",
   "execution_count": 5,
   "id": "7aa3f28b",
   "metadata": {
    "execution": {
     "iopub.execute_input": "2022-09-26T17:00:28.911024Z",
     "iopub.status.busy": "2022-09-26T17:00:28.910633Z",
     "iopub.status.idle": "2022-09-26T17:13:48.523570Z",
     "shell.execute_reply": "2022-09-26T17:13:48.520887Z"
    },
    "papermill": {
     "duration": 799.630602,
     "end_time": "2022-09-26T17:13:48.530210",
     "exception": false,
     "start_time": "2022-09-26T17:00:28.899608",
     "status": "completed"
    },
    "tags": []
   },
   "outputs": [
    {
     "name": "stdout",
     "output_type": "stream",
     "text": [
      "['/kaggle/input/bhi-gan-30000-train/class0/21417_class0.png', '/kaggle/input/bhi-gan-30000-train/class0/32918_class0.png', '/kaggle/input/bhi-gan-30000-train/class0/16351_class0.png', '/kaggle/input/bhi-gan-30000-train/class0/19157_class0.png', '/kaggle/input/bhi-gan-30000-train/class0/29816_class0.png', '/kaggle/input/bhi-gan-30000-train/class0/49036_class0.png', '/kaggle/input/bhi-gan-30000-train/class0/28537_class0.png', '/kaggle/input/bhi-gan-30000-train/class0/47204_class0.png', '/kaggle/input/bhi-gan-30000-train/class0/77151_class0.png', '/kaggle/input/bhi-gan-30000-train/class0/55364_class0.png']\n",
      "['/kaggle/input/bhi-gan-30000-train/class1/34593_class1.png', '/kaggle/input/bhi-gan-30000-train/class1/23575_class1.png', '/kaggle/input/bhi-gan-30000-train/class1/39539_class1.png', '/kaggle/input/bhi-gan-30000-train/class1/62100_class1.png', '/kaggle/input/bhi-gan-30000-train/class1/12119_class1.png', '/kaggle/input/bhi-gan-30000-train/class1/11849_class1.png', '/kaggle/input/bhi-gan-30000-train/class1/21015_class1.png', '/kaggle/input/bhi-gan-30000-train/class1/36461_class1.png', '/kaggle/input/bhi-gan-30000-train/class1/40991_class1.png', '/kaggle/input/bhi-gan-30000-train/class1/73519_class1.png']\n",
      "55150\n",
      "7091\n",
      "16545\n",
      "55150\n",
      "7091\n",
      "16545\n"
     ]
    }
   ],
   "source": [
    "\n",
    "import random\n",
    "from glob import glob\n",
    "#imagePatches = glob('../input/breast-histopathology-images/IDC_regular_ps50_idx5/**/*.png', recursive=True)\n",
    "train_dir='../working/data/train_seg/'\n",
    "validation_dir='../working/data/val_seg/'\n",
    "#train_dir='../working/data/train_seg/'  \n",
    "#test_dir = '../working/data/test_seg/normal'  \n",
    "test_dir = '../working/data/test_seg/'  \n",
    "\n",
    "class0 = [] # 0 = idc+\n",
    "class1 = [] # 1 = idc-\n",
    "imagePatches = glob('/kaggle/input/bhi-gan-30000-train/**/*.png', recursive=True)\n",
    "for filename in imagePatches:\n",
    "    if filename.endswith(\"class0.png\"):\n",
    "         class0.append(filename)\n",
    "    if filename.endswith(\"class1.png\"):\n",
    "        class1.append(filename)\n",
    "\n",
    "print(class0[0:10])\n",
    "print(class1[0:10])\n",
    "\n",
    "#sampling 10000 images from class 0 and class 1 to train the model\n",
    "\n",
    "random.seed(sampling_seed)\n",
    "class0sample=random.sample(class0,size_4_training0)\n",
    "class0label=np.zeros(size_4_training0)\n",
    "class1sample=random.sample(class1,size_4_training1)\n",
    "class1label=np.ones(size_4_training1)\n",
    "\n",
    "class0sample_train, class0sample_test1, class0label_train, class0label_test1 = train_test_split(class0sample, class0label, test_size=0.3, random_state=42)\n",
    "class0sample_val, class0sample_test,  class0label_val, class0label_test = train_test_split(class0sample_test1, class0label_test1, test_size=0.3, random_state=42)\n",
    "print(len(class0sample_train))\n",
    "print(len(class0sample_test))\n",
    "print(len(class0sample_val))\n",
    "class1sample_train, class1sample_test1, class1label_train, class1label_test1 = train_test_split(class1sample, class1label, test_size=0.3, random_state=42)\n",
    "class1sample_val, class1sample_test, class1label_val, class1label_test = train_test_split(class1sample_test1, class1label_test1, test_size=0.3, random_state=42)\n",
    "print(len(class1sample_train))\n",
    "print(len(class1sample_test))\n",
    "print(len(class1sample_val))\n",
    "def read_and_save_data(path, file_name_array):\n",
    "    j=0\n",
    "    for i in file_name_array:\n",
    "        if i.endswith('.png'):\n",
    "          \n",
    "            \n",
    "            #second copy method\n",
    "            head, tail = os.path.split(i)\n",
    "            outputname=str(path+tail)\n",
    "            #outputname=str(path+str(j)+'.png')\n",
    "            #print(outputname)\n",
    "\n",
    "            shutil.copy(i, outputname)\n",
    "             \n",
    "            #print(status2)\n",
    "            \n",
    "            j=j+1\n",
    "            if j==120000:\n",
    "                break\n",
    "            \n",
    "   \n",
    "class0train_path='../working/data/train_seg/idc-minus/'\n",
    "class1train_path='../working/data/train_seg/idc-plus/'\n",
    "class0test_path='../working/data/test_seg/idc-minus/'\n",
    "class1test_path='../working/data/test_seg/idc-plus/'\n",
    "class0val_path='../working/data/val_seg/idc-minus/'\n",
    "class1val_path='../working/data/val_seg/idc-plus/'\n",
    "\n",
    "read_and_save_data(class0train_path,class0sample_train)\n",
    "read_and_save_data(class1train_path,class1sample_train)\n",
    "\n",
    "\n",
    "read_and_save_data(class0test_path,class0sample_test)\n",
    "read_and_save_data(class1test_path,class1sample_test)\n",
    "\n",
    "\n",
    "read_and_save_data(class0val_path,class0sample_val)\n",
    "read_and_save_data(class1val_path,class1sample_val)"
   ]
  },
  {
   "cell_type": "code",
   "execution_count": 6,
   "id": "09fd1b52",
   "metadata": {
    "execution": {
     "iopub.execute_input": "2022-09-26T17:13:48.557949Z",
     "iopub.status.busy": "2022-09-26T17:13:48.557429Z",
     "iopub.status.idle": "2022-09-26T17:14:18.284750Z",
     "shell.execute_reply": "2022-09-26T17:14:18.283588Z"
    },
    "papermill": {
     "duration": 29.743255,
     "end_time": "2022-09-26T17:14:18.287699",
     "exception": false,
     "start_time": "2022-09-26T17:13:48.544444",
     "status": "completed"
    },
    "tags": []
   },
   "outputs": [
    {
     "name": "stdout",
     "output_type": "stream",
     "text": [
      "(110300, 50, 50, 3)\n",
      "(14182, 50, 50, 3)\n",
      "(33090, 50, 50, 3)\n"
     ]
    }
   ],
   "source": [
    "\n",
    "\n",
    "\n",
    "import os #Operating System\n",
    "import sys #System\n",
    "import cv2\n",
    "def readImage(path, tag):\n",
    "    j=0\n",
    "    image_data = []\n",
    "    label=[]\n",
    "    for i in os.listdir(path):\n",
    "        imgname=path+i\n",
    "        #print(imgname)\n",
    "        img = cv2.imread(imgname, cv2.IMREAD_COLOR)\n",
    "        img_resized = cv2.resize(img, (img_size,img_size), interpolation=cv2.INTER_LINEAR)\n",
    "        image_data.append(img_resized)\n",
    "        label.append(tag)\n",
    "        #print(img[1])\n",
    "        j=j+1\n",
    "        #if j==10:\n",
    "        #    break\n",
    "        \n",
    "    return image_data, label\n",
    "\n",
    "import numpy as np\n",
    "from tensorflow.keras.utils import *\n",
    "from sklearn.utils import shuffle\n",
    "\n",
    "class0_train, train0_label = readImage(class0train_path, 0)\n",
    "class1_train, train1_label  = readImage(class1train_path, 1)\n",
    "class0_test, test0_label = readImage(class0test_path, 0)\n",
    "class1_test, test1_label = readImage(class1test_path, 1)\n",
    "class0_val, val0_label = readImage(class0val_path, 0)\n",
    "class1_val, val1_label = readImage(class1val_path, 1)\n",
    "\n",
    "def Image_array_process(class0array,label0, class1array, label1):\n",
    "    class0_array=np.array(class0array)\n",
    "    class1_array=np.array(class1array)\n",
    "    combined_data = np.concatenate((class0_array, class1_array))\n",
    "    combined_label= np.concatenate((label0,label1), axis=0)\n",
    "    assert len(combined_data) == len(combined_label)\n",
    "    combined_data, combined_label = shuffle(combined_data, combined_label, random_state=0)\n",
    "    print(combined_data.shape)\n",
    "    length=len(combined_data)\n",
    "    combined_label=to_categorical(combined_label,num_classes=2)\n",
    "    #i=0\n",
    "    #for i in range(length):\n",
    "    #    print(combined_label[i])\n",
    "\n",
    "    #print\n",
    "\n",
    "    #print(class0_array.shape)\n",
    "    #print(combined_data.shape)\n",
    "    '''\n",
    "    training_reshape=(224,224,3)\n",
    "    length=len(combined_data)\n",
    "    print(length)\n",
    "    x =[None]*length\n",
    "    #print(img_data.type)\n",
    "    y =np.zeros(length)\n",
    "    i=0\n",
    "   \n",
    "    for features,label in combined_data:\n",
    "        x[i]=features\n",
    "        #print(x.shape)\n",
    "        y[i]=label\n",
    "        #print(y[i])\n",
    "        i=i+1\n",
    "    \n",
    "            #x = np.array(x).reshape(training_reshape)\n",
    "    x = np.array(x)    \n",
    "    #print(x.shape)\n",
    "    #y=np.array(y)\n",
    "    y=y.astype(int)\n",
    "    y = to_categorical(y)\n",
    "    print(y)\n",
    "    '''  \n",
    "    return combined_data, combined_label\n",
    "\n",
    "\n",
    "X_train, y_train=Image_array_process(class0_train, train0_label, class1_train, train1_label)\n",
    "X_test, y_test=Image_array_process(class0_test, test0_label, class1_test, test1_label)\n",
    "X_val, y_val=Image_array_process(class0_val, val0_label, class1_val, val1_label)"
   ]
  },
  {
   "cell_type": "markdown",
   "id": "ff37782c",
   "metadata": {
    "papermill": {
     "duration": 0.010242,
     "end_time": "2022-09-26T17:14:18.308403",
     "exception": false,
     "start_time": "2022-09-26T17:14:18.298161",
     "status": "completed"
    },
    "tags": []
   },
   "source": [
    "Image labelling"
   ]
  },
  {
   "cell_type": "code",
   "execution_count": 7,
   "id": "09f6db1a",
   "metadata": {
    "execution": {
     "iopub.execute_input": "2022-09-26T17:14:18.330762Z",
     "iopub.status.busy": "2022-09-26T17:14:18.330279Z",
     "iopub.status.idle": "2022-09-26T17:14:18.336702Z",
     "shell.execute_reply": "2022-09-26T17:14:18.335552Z"
    },
    "papermill": {
     "duration": 0.0204,
     "end_time": "2022-09-26T17:14:18.338931",
     "exception": false,
     "start_time": "2022-09-26T17:14:18.318531",
     "status": "completed"
    },
    "tags": []
   },
   "outputs": [],
   "source": [
    "train_data=X_train\n",
    "train_label=y_train\n",
    "\n",
    "test_data=X_test\n",
    "test_label=y_test\n",
    "\n",
    "val_data=X_val\n",
    "val_label=y_val"
   ]
  },
  {
   "cell_type": "markdown",
   "id": "6a421641",
   "metadata": {
    "papermill": {
     "duration": 0.009651,
     "end_time": "2022-09-26T17:14:18.358708",
     "exception": false,
     "start_time": "2022-09-26T17:14:18.349057",
     "status": "completed"
    },
    "tags": []
   },
   "source": []
  },
  {
   "cell_type": "markdown",
   "id": "862d1be2",
   "metadata": {
    "papermill": {
     "duration": 0.010096,
     "end_time": "2022-09-26T17:14:18.379050",
     "exception": false,
     "start_time": "2022-09-26T17:14:18.368954",
     "status": "completed"
    },
    "tags": []
   },
   "source": [
    "#import image"
   ]
  },
  {
   "cell_type": "code",
   "execution_count": null,
   "id": "b5479279",
   "metadata": {
    "papermill": {
     "duration": 0.009498,
     "end_time": "2022-09-26T17:14:18.398519",
     "exception": false,
     "start_time": "2022-09-26T17:14:18.389021",
     "status": "completed"
    },
    "tags": []
   },
   "outputs": [],
   "source": []
  },
  {
   "cell_type": "code",
   "execution_count": null,
   "id": "0b56a0ca",
   "metadata": {
    "papermill": {
     "duration": 0.009496,
     "end_time": "2022-09-26T17:14:18.417865",
     "exception": false,
     "start_time": "2022-09-26T17:14:18.408369",
     "status": "completed"
    },
    "tags": []
   },
   "outputs": [],
   "source": []
  },
  {
   "cell_type": "code",
   "execution_count": 8,
   "id": "6b19fb0c",
   "metadata": {
    "execution": {
     "iopub.execute_input": "2022-09-26T17:14:18.440363Z",
     "iopub.status.busy": "2022-09-26T17:14:18.439274Z",
     "iopub.status.idle": "2022-09-26T17:14:20.019883Z",
     "shell.execute_reply": "2022-09-26T17:14:20.017792Z"
    },
    "papermill": {
     "duration": 1.595921,
     "end_time": "2022-09-26T17:14:20.023582",
     "exception": false,
     "start_time": "2022-09-26T17:14:18.427661",
     "status": "completed"
    },
    "tags": []
   },
   "outputs": [],
   "source": [
    "from keras.preprocessing.image import ImageDataGenerator\n",
    "from keras.callbacks import ModelCheckpoint\n",
    "from keras.models import load_model\n",
    "from keras.callbacks import *\n",
    "\n",
    "\n",
    "#train_datagen2 = ImageDataGenerator(rescale = 1/255)\n",
    "\n",
    "train_datagen = ImageDataGenerator(rescale = 1.0/255,\n",
    "                                  #width_shift_range = 0.1,\n",
    "                                  #height_shift_range = 0.1,\n",
    "                                  #fill_mode = 'constant',\n",
    "                                  #zoom_range = 0.1,\n",
    "                                  #rotation_range = 20\n",
    "                                  )\n",
    "\n",
    "val_datagen = ImageDataGenerator(rescale = 1.0/255)\n",
    "val2_datagen = ImageDataGenerator(rescale = 1.0/255)\n",
    "\n",
    "train_generator = train_datagen.flow(train_data,\n",
    "                                     train_label, \n",
    "                                     #batch_size = 16, \n",
    "                                     shuffle = False\n",
    "                                    )\n",
    "\n",
    "val_generator = val_datagen.flow(test_data,\n",
    "                                 test_label,\n",
    "                                 #batch_size = 16,\n",
    "                                 shuffle = False\n",
    "                                )\n",
    "val2_generator = val_datagen.flow(val_data,\n",
    "                                 val_label,\n",
    "                                 #batch_size = 16,\n",
    "                                 shuffle = False\n",
    "                                 )"
   ]
  },
  {
   "cell_type": "markdown",
   "id": "1f677acc",
   "metadata": {
    "papermill": {
     "duration": 0.009631,
     "end_time": "2022-09-26T17:14:20.043369",
     "exception": false,
     "start_time": "2022-09-26T17:14:20.033738",
     "status": "completed"
    },
    "tags": []
   },
   "source": [
    "# Model configure"
   ]
  },
  {
   "cell_type": "code",
   "execution_count": 9,
   "id": "3ffe7fa2",
   "metadata": {
    "execution": {
     "iopub.execute_input": "2022-09-26T17:14:20.065986Z",
     "iopub.status.busy": "2022-09-26T17:14:20.065553Z",
     "iopub.status.idle": "2022-09-26T17:14:20.464360Z",
     "shell.execute_reply": "2022-09-26T17:14:20.463499Z"
    },
    "papermill": {
     "duration": 0.415529,
     "end_time": "2022-09-26T17:14:20.469344",
     "exception": false,
     "start_time": "2022-09-26T17:14:20.053815",
     "status": "completed"
    },
    "tags": []
   },
   "outputs": [
    {
     "name": "stderr",
     "output_type": "stream",
     "text": [
      "2022-09-26 17:14:20.159768: I tensorflow/core/common_runtime/process_util.cc:146] Creating new thread pool with default inter op setting: 2. Tune using inter_op_parallelism_threads for best performance.\n"
     ]
    },
    {
     "name": "stdout",
     "output_type": "stream",
     "text": [
      "Model: \"sequential\"\n",
      "_________________________________________________________________\n",
      "Layer (type)                 Output Shape              Param #   \n",
      "=================================================================\n",
      "conv2d (Conv2D)              (None, 48, 48, 32)        896       \n",
      "_________________________________________________________________\n",
      "conv2d_1 (Conv2D)            (None, 46, 46, 32)        9248      \n",
      "_________________________________________________________________\n",
      "conv2d_2 (Conv2D)            (None, 44, 44, 32)        9248      \n",
      "_________________________________________________________________\n",
      "max_pooling2d (MaxPooling2D) (None, 22, 22, 32)        0         \n",
      "_________________________________________________________________\n",
      "dropout (Dropout)            (None, 22, 22, 32)        0         \n",
      "_________________________________________________________________\n",
      "conv2d_3 (Conv2D)            (None, 20, 20, 64)        18496     \n",
      "_________________________________________________________________\n",
      "conv2d_4 (Conv2D)            (None, 18, 18, 64)        36928     \n",
      "_________________________________________________________________\n",
      "conv2d_5 (Conv2D)            (None, 16, 16, 64)        36928     \n",
      "_________________________________________________________________\n",
      "max_pooling2d_1 (MaxPooling2 (None, 8, 8, 64)          0         \n",
      "_________________________________________________________________\n",
      "dropout_1 (Dropout)          (None, 8, 8, 64)          0         \n",
      "_________________________________________________________________\n",
      "conv2d_6 (Conv2D)            (None, 6, 6, 128)         73856     \n",
      "_________________________________________________________________\n",
      "conv2d_7 (Conv2D)            (None, 4, 4, 128)         147584    \n",
      "_________________________________________________________________\n",
      "conv2d_8 (Conv2D)            (None, 2, 2, 128)         147584    \n",
      "_________________________________________________________________\n",
      "max_pooling2d_2 (MaxPooling2 (None, 1, 1, 128)         0         \n",
      "_________________________________________________________________\n",
      "dropout_2 (Dropout)          (None, 1, 1, 128)         0         \n",
      "_________________________________________________________________\n",
      "flatten (Flatten)            (None, 128)               0         \n",
      "_________________________________________________________________\n",
      "dense (Dense)                (None, 256)               33024     \n",
      "_________________________________________________________________\n",
      "dropout_3 (Dropout)          (None, 256)               0         \n",
      "_________________________________________________________________\n",
      "dense_1 (Dense)              (None, 2)                 514       \n",
      "=================================================================\n",
      "Total params: 514,306\n",
      "Trainable params: 514,306\n",
      "Non-trainable params: 0\n",
      "_________________________________________________________________\n"
     ]
    }
   ],
   "source": [
    "from keras.models import Sequential\n",
    "\n",
    "\n",
    "kernel_size = (3,3)\n",
    "pool_size= (2,2)\n",
    "first_filters = 32\n",
    "second_filters = 64\n",
    "third_filters = 128\n",
    "\n",
    "dropout_conv = 0.3\n",
    "dropout_dense = 0.3\n",
    "\n",
    "RESNET50_POOLING_AVERAGE = 'avg'\n",
    "DENSE_LAYER_ACTIVATION = 'sigmoid'\n",
    "OBJECTIVE_FUNCTION = 'categorical_crossentropy'\n",
    "\n",
    "# Common accuracy metric for all outputs, but can use different metrics for different output\n",
    "LOSS_METRICS = ['accuracy']\n",
    "\n",
    "# EARLY_STOP_PATIENCE must be < NUM_EPOCHS\n",
    "NUM_EPOCHS = 30\n",
    "EARLY_STOP_PATIENCE = 10\n",
    "#resnet_weights_path = '../input/resnet50/resnet50_weights_tf_dim_ordering_tf_kernels_notop.h5'\n",
    "\n",
    "\n",
    "# fix pretrained layers for deep fea\n",
    "RESNET50_POOLING_AVERAGE = 'avg'\n",
    "DENSE_LAYER_ACTIVATION = 'sigmoid'\n",
    "OBJECTIVE_FUNCTION = 'categorical_crossentropy'\n",
    "\n",
    "# Common accuracy metric for all outputs, but can use different metrics for different output\n",
    "LOSS_METRICS = ['accuracy']\n",
    "\n",
    "#from keras.applications import resnet\n",
    "#base_model=resnet.ResNet50(include_top = True, input_shape=(img_size, img_size, 3), pooling = RESNET50_POOLING_AVERAGE, weights = 'imagenet')\n",
    "#from tensorflow.keras.applications.mobilenet import MobileNet\n",
    "#base_model.trainable = True\n",
    "#model=Sequential()\n",
    "\n",
    "\n",
    "\n",
    "model = Sequential()\n",
    "model.add(Conv2D(first_filters, kernel_size, activation = 'relu', \n",
    "                 input_shape = (img_size, img_size, 3)))\n",
    "model.add(Conv2D(first_filters, kernel_size, activation = 'relu'))\n",
    "model.add(Conv2D(first_filters, kernel_size, activation = 'relu'))\n",
    "model.add(MaxPooling2D(pool_size = pool_size)) \n",
    "model.add(Dropout(dropout_conv))\n",
    "\n",
    "model.add(Conv2D(second_filters, kernel_size, activation ='relu'))\n",
    "model.add(Conv2D(second_filters, kernel_size, activation ='relu'))\n",
    "model.add(Conv2D(second_filters, kernel_size, activation ='relu'))\n",
    "model.add(MaxPooling2D(pool_size = pool_size))\n",
    "model.add(Dropout(dropout_conv))\n",
    "\n",
    "model.add(Conv2D(third_filters, kernel_size, activation ='relu'))\n",
    "model.add(Conv2D(third_filters, kernel_size, activation ='relu'))\n",
    "model.add(Conv2D(third_filters, kernel_size, activation ='relu'))\n",
    "model.add(MaxPooling2D(pool_size = pool_size))\n",
    "model.add(Dropout(dropout_conv))\n",
    "\n",
    "model.add(Flatten())\n",
    "model.add(Dense(256, activation = \"relu\"))\n",
    "model.add(Dropout(dropout_dense))\n",
    "model.add(Dense(2, activation = \"softmax\"))\n",
    "\n",
    "model.summary()\n",
    "\n"
   ]
  },
  {
   "cell_type": "code",
   "execution_count": 10,
   "id": "64762491",
   "metadata": {
    "execution": {
     "iopub.execute_input": "2022-09-26T17:14:20.497450Z",
     "iopub.status.busy": "2022-09-26T17:14:20.497047Z",
     "iopub.status.idle": "2022-09-26T17:14:21.899556Z",
     "shell.execute_reply": "2022-09-26T17:14:21.898495Z"
    },
    "papermill": {
     "duration": 1.422183,
     "end_time": "2022-09-26T17:14:21.904888",
     "exception": false,
     "start_time": "2022-09-26T17:14:20.482705",
     "status": "completed"
    },
    "tags": []
   },
   "outputs": [
    {
     "data": {
      "image/png": "[encoded data removed]",
      "text/plain": [
       "<IPython.core.display.Image object>"
      ]
     },
     "execution_count": 10,
     "metadata": {},
     "output_type": "execute_result"
    }
   ],
   "source": [
    "from tensorflow.keras.utils import plot_model\n",
    "from IPython.display import Image\n",
    "plot_model(model, to_file='convnet.png', show_shapes=True, show_layer_names=True)\n",
    "Image(filename='convnet.png') "
   ]
  },
  {
   "cell_type": "code",
   "execution_count": 11,
   "id": "d3df4367",
   "metadata": {
    "execution": {
     "iopub.execute_input": "2022-09-26T17:14:21.933669Z",
     "iopub.status.busy": "2022-09-26T17:14:21.933256Z",
     "iopub.status.idle": "2022-09-26T17:14:21.938552Z",
     "shell.execute_reply": "2022-09-26T17:14:21.937371Z"
    },
    "papermill": {
     "duration": 0.022485,
     "end_time": "2022-09-26T17:14:21.940795",
     "exception": false,
     "start_time": "2022-09-26T17:14:21.918310",
     "status": "completed"
    },
    "tags": []
   },
   "outputs": [],
   "source": [
    "# os.makedirs('../working/log/')\n",
    "MODEL_INIT = '../working/init_model.h5'\n",
    "MODEL_PATH = '/kaggle/input/cnn1aug1lr3rdtrain/220630 new roc CNN 1 aug 78786train 50ep 3rd train.h5'"
   ]
  },
  {
   "cell_type": "code",
   "execution_count": 12,
   "id": "91419b9d",
   "metadata": {
    "execution": {
     "iopub.execute_input": "2022-09-26T17:14:21.968531Z",
     "iopub.status.busy": "2022-09-26T17:14:21.968086Z",
     "iopub.status.idle": "2022-09-26T17:14:21.990392Z",
     "shell.execute_reply": "2022-09-26T17:14:21.989447Z"
    },
    "papermill": {
     "duration": 0.039139,
     "end_time": "2022-09-26T17:14:21.992848",
     "exception": false,
     "start_time": "2022-09-26T17:14:21.953709",
     "status": "completed"
    },
    "tags": []
   },
   "outputs": [],
   "source": [
    "callbacks1 = [EarlyStopping(monitor='val_acc', patience=5, verbose=1), ModelCheckpoint(MODEL_INIT, monitor='val_accuracy', save_best_only=True)]\n",
    "opt = Adam(learning_rate=0.0001)\n",
    "model.compile(loss='categorical_crossentropy', optimizer=opt, metrics=['accuracy'])\n",
    "#model.load_weights(MODEL_PATH)"
   ]
  },
  {
   "cell_type": "code",
   "execution_count": 13,
   "id": "b06685dc",
   "metadata": {
    "execution": {
     "iopub.execute_input": "2022-09-26T17:14:22.021666Z",
     "iopub.status.busy": "2022-09-26T17:14:22.020862Z",
     "iopub.status.idle": "2022-09-27T02:14:50.126694Z",
     "shell.execute_reply": "2022-09-27T02:14:50.123703Z"
    },
    "papermill": {
     "duration": 32428.123999,
     "end_time": "2022-09-27T02:14:50.130138",
     "exception": false,
     "start_time": "2022-09-26T17:14:22.006139",
     "status": "completed"
    },
    "tags": []
   },
   "outputs": [
    {
     "name": "stdout",
     "output_type": "stream",
     "text": [
      "CPU times: user 2 µs, sys: 2 µs, total: 4 µs\n",
      "Wall time: 8.58 µs\n"
     ]
    },
    {
     "name": "stderr",
     "output_type": "stream",
     "text": [
      "2022-09-26 17:14:22.188011: I tensorflow/compiler/mlir/mlir_graph_optimization_pass.cc:185] None of the MLIR Optimization Passes are enabled (registered 2)\n"
     ]
    },
    {
     "name": "stdout",
     "output_type": "stream",
     "text": [
      "Epoch 1/50\n",
      "3447/3447 [==============================] - 621s 180ms/step - loss: 0.3238 - accuracy: 0.8587 - val_loss: 0.1064 - val_accuracy: 0.9584\n",
      "Epoch 2/50\n",
      "3447/3447 [==============================] - 656s 190ms/step - loss: 0.0752 - accuracy: 0.9727 - val_loss: 0.0243 - val_accuracy: 0.9908\n",
      "Epoch 3/50\n",
      "3447/3447 [==============================] - 592s 172ms/step - loss: 0.0361 - accuracy: 0.9875 - val_loss: 0.0121 - val_accuracy: 0.9963\n",
      "Epoch 4/50\n",
      "3447/3447 [==============================] - 612s 178ms/step - loss: 0.0216 - accuracy: 0.9928 - val_loss: 0.0460 - val_accuracy: 0.9827\n",
      "Epoch 5/50\n",
      "3447/3447 [==============================] - 660s 191ms/step - loss: 0.0146 - accuracy: 0.9952 - val_loss: 0.0423 - val_accuracy: 0.9858\n",
      "Epoch 6/50\n",
      "3447/3447 [==============================] - 622s 180ms/step - loss: 0.0115 - accuracy: 0.9963 - val_loss: 0.0030 - val_accuracy: 0.9993\n",
      "Epoch 7/50\n",
      "3447/3447 [==============================] - 601s 174ms/step - loss: 0.0078 - accuracy: 0.9975 - val_loss: 0.0036 - val_accuracy: 0.9991\n",
      "Epoch 8/50\n",
      "3447/3447 [==============================] - 626s 181ms/step - loss: 0.0073 - accuracy: 0.9975 - val_loss: 0.0041 - val_accuracy: 0.9987\n",
      "Epoch 9/50\n",
      "3447/3447 [==============================] - 613s 178ms/step - loss: 0.0061 - accuracy: 0.9981 - val_loss: 0.0048 - val_accuracy: 0.9981\n",
      "Epoch 10/50\n",
      "3447/3447 [==============================] - 605s 176ms/step - loss: 0.0048 - accuracy: 0.9984 - val_loss: 7.7359e-04 - val_accuracy: 0.9996\n",
      "Epoch 11/50\n",
      "3447/3447 [==============================] - 605s 176ms/step - loss: 0.0045 - accuracy: 0.9986 - val_loss: 0.0017 - val_accuracy: 0.9994\n",
      "Epoch 12/50\n",
      "3447/3447 [==============================] - 602s 175ms/step - loss: 0.0036 - accuracy: 0.9988 - val_loss: 9.6196e-04 - val_accuracy: 0.9997\n",
      "Epoch 13/50\n",
      "3447/3447 [==============================] - 595s 173ms/step - loss: 0.0029 - accuracy: 0.9992 - val_loss: 6.2825e-04 - val_accuracy: 0.9999\n",
      "Epoch 14/50\n",
      "3447/3447 [==============================] - 660s 191ms/step - loss: 0.0053 - accuracy: 0.9984 - val_loss: 2.2148e-04 - val_accuracy: 1.0000\n",
      "Epoch 15/50\n",
      "3447/3447 [==============================] - 672s 195ms/step - loss: 0.0018 - accuracy: 0.9995 - val_loss: 0.0010 - val_accuracy: 0.9999\n",
      "Epoch 16/50\n",
      "3447/3447 [==============================] - 709s 206ms/step - loss: 0.0033 - accuracy: 0.9990 - val_loss: 1.9676e-04 - val_accuracy: 0.9999\n",
      "Epoch 17/50\n",
      "3447/3447 [==============================] - 701s 203ms/step - loss: 0.0026 - accuracy: 0.9992 - val_loss: 7.5626e-04 - val_accuracy: 0.9996\n",
      "Epoch 18/50\n",
      "3447/3447 [==============================] - 688s 200ms/step - loss: 0.0022 - accuracy: 0.9993 - val_loss: 8.0435e-04 - val_accuracy: 0.9997\n",
      "Epoch 19/50\n",
      "3447/3447 [==============================] - 681s 197ms/step - loss: 0.0019 - accuracy: 0.9994 - val_loss: 4.3110e-04 - val_accuracy: 0.9998\n",
      "Epoch 20/50\n",
      "3447/3447 [==============================] - 670s 194ms/step - loss: 0.0019 - accuracy: 0.9994 - val_loss: 6.6362e-05 - val_accuracy: 1.0000\n",
      "Epoch 21/50\n",
      "3447/3447 [==============================] - 675s 196ms/step - loss: 0.0022 - accuracy: 0.9993 - val_loss: 0.0034 - val_accuracy: 0.9990\n",
      "Epoch 22/50\n",
      "3447/3447 [==============================] - 683s 198ms/step - loss: 0.0016 - accuracy: 0.9996 - val_loss: 4.4199e-04 - val_accuracy: 0.9999\n",
      "Epoch 23/50\n",
      "3447/3447 [==============================] - 724s 210ms/step - loss: 0.0016 - accuracy: 0.9995 - val_loss: 1.6838e-04 - val_accuracy: 0.9999\n",
      "Epoch 24/50\n",
      "3447/3447 [==============================] - 709s 206ms/step - loss: 0.0013 - accuracy: 0.9996 - val_loss: 7.2700e-04 - val_accuracy: 0.9999\n",
      "Epoch 25/50\n",
      "3447/3447 [==============================] - 683s 198ms/step - loss: 0.0014 - accuracy: 0.9996 - val_loss: 2.1379e-04 - val_accuracy: 0.9999\n",
      "Epoch 26/50\n",
      "3447/3447 [==============================] - 598s 174ms/step - loss: 0.0018 - accuracy: 0.9995 - val_loss: 2.0048e-04 - val_accuracy: 1.0000\n",
      "Epoch 27/50\n",
      "3447/3447 [==============================] - 595s 173ms/step - loss: 0.0016 - accuracy: 0.9996 - val_loss: 3.1341e-04 - val_accuracy: 0.9998\n",
      "Epoch 28/50\n",
      "3447/3447 [==============================] - 608s 176ms/step - loss: 0.0016 - accuracy: 0.9996 - val_loss: 0.0011 - val_accuracy: 0.9996\n",
      "Epoch 29/50\n",
      "3447/3447 [==============================] - 605s 175ms/step - loss: 0.0014 - accuracy: 0.9996 - val_loss: 2.0364e-04 - val_accuracy: 0.9999\n",
      "Epoch 30/50\n",
      "3447/3447 [==============================] - 611s 177ms/step - loss: 9.2722e-04 - accuracy: 0.9997 - val_loss: 6.7845e-04 - val_accuracy: 0.9999\n",
      "Epoch 31/50\n",
      "3447/3447 [==============================] - 608s 176ms/step - loss: 0.0013 - accuracy: 0.9997 - val_loss: 2.8451e-04 - val_accuracy: 0.9999\n",
      "Epoch 32/50\n",
      "3447/3447 [==============================] - 610s 177ms/step - loss: 0.0010 - accuracy: 0.9996 - val_loss: 6.6101e-06 - val_accuracy: 1.0000\n",
      "Epoch 33/50\n",
      "3447/3447 [==============================] - 606s 176ms/step - loss: 0.0021 - accuracy: 0.9995 - val_loss: 5.0251e-04 - val_accuracy: 1.0000\n",
      "Epoch 34/50\n",
      "3447/3447 [==============================] - 603s 175ms/step - loss: 7.6273e-04 - accuracy: 0.9998 - val_loss: 9.4935e-07 - val_accuracy: 1.0000\n",
      "Epoch 35/50\n",
      "3447/3447 [==============================] - 609s 177ms/step - loss: 0.0017 - accuracy: 0.9995 - val_loss: 4.5227e-04 - val_accuracy: 0.9998\n",
      "Epoch 36/50\n",
      "3447/3447 [==============================] - 606s 176ms/step - loss: 9.1519e-04 - accuracy: 0.9997 - val_loss: 1.7472e-05 - val_accuracy: 1.0000\n",
      "Epoch 37/50\n",
      "3447/3447 [==============================] - 608s 176ms/step - loss: 6.9489e-04 - accuracy: 0.9998 - val_loss: 2.3230e-05 - val_accuracy: 1.0000\n",
      "Epoch 38/50\n",
      "3447/3447 [==============================] - 622s 180ms/step - loss: 0.0011 - accuracy: 0.9997 - val_loss: 0.0018 - val_accuracy: 0.9996\n",
      "Epoch 39/50\n",
      "3447/3447 [==============================] - 613s 178ms/step - loss: 0.0011 - accuracy: 0.9997 - val_loss: 2.2841e-04 - val_accuracy: 0.9999\n",
      "Epoch 40/50\n",
      "3447/3447 [==============================] - 622s 181ms/step - loss: 3.7038e-05 - accuracy: 1.0000 - val_loss: 7.4401e-06 - val_accuracy: 1.0000\n",
      "Epoch 41/50\n",
      "3447/3447 [==============================] - 615s 179ms/step - loss: 0.0012 - accuracy: 0.9997 - val_loss: 1.9227e-05 - val_accuracy: 1.0000\n",
      "Epoch 42/50\n",
      "3447/3447 [==============================] - 613s 178ms/step - loss: 0.0012 - accuracy: 0.9997 - val_loss: 7.7102e-05 - val_accuracy: 1.0000\n",
      "Epoch 43/50\n",
      "3447/3447 [==============================] - 610s 177ms/step - loss: 0.0013 - accuracy: 0.9998 - val_loss: 1.0860e-04 - val_accuracy: 0.9999\n",
      "Epoch 44/50\n",
      "3447/3447 [==============================] - 623s 181ms/step - loss: 6.2043e-04 - accuracy: 0.9998 - val_loss: 1.1855e-04 - val_accuracy: 0.9999\n",
      "Epoch 45/50\n",
      "3447/3447 [==============================] - 613s 178ms/step - loss: 6.1243e-04 - accuracy: 0.9998 - val_loss: 8.2164e-06 - val_accuracy: 1.0000\n",
      "Epoch 46/50\n",
      "3447/3447 [==============================] - 617s 179ms/step - loss: 0.0012 - accuracy: 0.9997 - val_loss: 8.8559e-05 - val_accuracy: 1.0000\n",
      "Epoch 47/50\n",
      "3447/3447 [==============================] - 613s 178ms/step - loss: 9.3036e-04 - accuracy: 0.9997 - val_loss: 1.4161e-04 - val_accuracy: 0.9999\n",
      "Epoch 48/50\n",
      "3447/3447 [==============================] - 600s 174ms/step - loss: 0.0014 - accuracy: 0.9996 - val_loss: 4.9657e-05 - val_accuracy: 1.0000\n",
      "Epoch 49/50\n",
      "3447/3447 [==============================] - 606s 176ms/step - loss: 9.0937e-04 - accuracy: 0.9998 - val_loss: 2.1658e-05 - val_accuracy: 1.0000\n",
      "Epoch 50/50\n",
      "3447/3447 [==============================] - 600s 174ms/step - loss: 0.0015 - accuracy: 0.9996 - val_loss: 1.6639e-04 - val_accuracy: 1.0000\n"
     ]
    }
   ],
   "source": [
    "%time\n",
    "#history1=model.fit(X_train, y_train,validation_data=(X_test, y_test),verbose = 1,epochs = 30,callbacks=callbacks1)\n",
    "history1=model.fit_generator(train_generator,validation_data=val_generator,verbose = 1,epochs = epoch_4_test,callbacks=callbacks1)"
   ]
  },
  {
   "cell_type": "code",
   "execution_count": 14,
   "id": "f25c7315",
   "metadata": {
    "execution": {
     "iopub.execute_input": "2022-09-27T02:15:13.571582Z",
     "iopub.status.busy": "2022-09-27T02:15:13.570205Z",
     "iopub.status.idle": "2022-09-27T02:15:14.097328Z",
     "shell.execute_reply": "2022-09-27T02:15:14.096065Z"
    },
    "papermill": {
     "duration": 12.244269,
     "end_time": "2022-09-27T02:15:14.100041",
     "exception": false,
     "start_time": "2022-09-27T02:15:01.855772",
     "status": "completed"
    },
    "tags": []
   },
   "outputs": [
    {
     "data": {
      "image/png": "[encoded data removed]",
      "text/plain": [
       "<Figure size 864x432 with 2 Axes>"
      ]
     },
     "metadata": {
      "needs_background": "light"
     },
     "output_type": "display_data"
    }
   ],
   "source": [
    "import matplotlib.pyplot as plt\n",
    "import seaborn as sns\n",
    "plt.figure(figsize = (12, 6))\n",
    "plt.subplot(121)\n",
    "#plotting the Accuracy of test and training sets\n",
    "plt.plot(history1.history['accuracy'])\n",
    "plt.plot(history1.history['val_accuracy'])\n",
    "plt.title('1st training Model Accuracy')\n",
    "plt.ylabel('accuracy')\n",
    "plt.xlabel('epoch')\n",
    "plt.legend(['train', 'test'], loc='upper left')\n",
    "\n",
    "plt.subplot(122)\n",
    "#plotting the loss of test and training sets\n",
    "plt.plot(history1.history['loss'])\n",
    "plt.plot(history1.history['val_loss'])\n",
    "plt.title('1st training Model Loss')\n",
    "plt.ylabel('loss')\n",
    "plt.xlabel('epoch')\n",
    "plt.legend(['train', 'test'], loc='upper left')\n",
    "plt.show()"
   ]
  },
  {
   "cell_type": "code",
   "execution_count": 15,
   "id": "cdbb37fc",
   "metadata": {
    "execution": {
     "iopub.execute_input": "2022-09-27T02:15:37.416731Z",
     "iopub.status.busy": "2022-09-27T02:15:37.416290Z",
     "iopub.status.idle": "2022-09-27T02:18:03.628108Z",
     "shell.execute_reply": "2022-09-27T02:18:03.626854Z"
    },
    "papermill": {
     "duration": 157.829466,
     "end_time": "2022-09-27T02:18:03.630535",
     "exception": false,
     "start_time": "2022-09-27T02:15:25.801069",
     "status": "completed"
    },
    "tags": []
   },
   "outputs": [
    {
     "name": "stdout",
     "output_type": "stream",
     "text": [
      "analyse of 1st model\n",
      "VAL kappa\n",
      "0.9998791175581747\n",
      "analyse 1st model\n",
      "report of val data\n",
      "              precision    recall  f1-score   support\n",
      "\n",
      "           0   0.999879  1.000000  0.999940     16545\n",
      "           1   1.000000  0.999879  0.999940     16545\n",
      "\n",
      "    accuracy                       0.999940     33090\n",
      "   macro avg   0.999940  0.999940  0.999940     33090\n",
      "weighted avg   0.999940  0.999940  0.999940     33090\n",
      "\n"
     ]
    },
    {
     "data": {
      "image/png": "[encoded data removed]",
      "text/plain": [
       "<Figure size 864x432 with 2 Axes>"
      ]
     },
     "metadata": {
      "needs_background": "light"
     },
     "output_type": "display_data"
    }
   ],
   "source": [
    "import sklearn\n",
    "from sklearn.metrics import f1_score, roc_auc_score, cohen_kappa_score, precision_score, recall_score, accuracy_score, confusion_matrix\n",
    "#---------------\n",
    "from keras.models import load_model\n",
    "\n",
    "model1 = load_model(MODEL_INIT, compile=False)\n",
    "print(\"analyse of 1st model\")\n",
    "\n",
    "\n",
    "cf_matrix_val = confusion_matrix(\n",
    "    np.concatenate([np.argmax(val2_generator[i][1], axis=1) for i in range(len(val2_generator))]),    \n",
    "    np.argmax(model1.predict_generator(val2_generator, steps=len(val2_generator)), axis=1) \n",
    ")\n",
    "\n",
    "plt.figure(figsize = (12, 6))\n",
    "sns.heatmap(cf_matrix_val, annot=True, cmap='Blues', fmt='g')\n",
    "plt.title(\"VAL Confusion matrix\")\n",
    "# kappa VAL\n",
    "kappa_val = cohen_kappa_score(\n",
    "    np.concatenate([np.argmax(val2_generator[i][1], axis=1) for i in range(len(val2_generator))]),    \n",
    "    np.argmax(model1.predict_generator(val2_generator, steps=len(val2_generator)), axis=1) \n",
    ")\n",
    "print(\"VAL kappa\")\n",
    "print(kappa_val)\n",
    "\n",
    "\n",
    "\n",
    "print(\"analyse 1st model\")\n",
    "print(\"report of val data\")\n",
    "report = sklearn.metrics.classification_report(\n",
    "    np.concatenate([np.argmax(val2_generator[i][1], axis=1) for i in range(len(val2_generator))]),    \n",
    "    np.argmax(model1.predict_generator(val2_generator, steps=len(val2_generator)), axis=1) , digits=6\n",
    ")\n",
    "print(report)"
   ]
  },
  {
   "cell_type": "code",
   "execution_count": 16,
   "id": "77add074",
   "metadata": {
    "execution": {
     "iopub.execute_input": "2022-09-27T02:18:26.890644Z",
     "iopub.status.busy": "2022-09-27T02:18:26.890069Z",
     "iopub.status.idle": "2022-09-27T02:19:26.536074Z",
     "shell.execute_reply": "2022-09-27T02:19:26.534921Z"
    },
    "papermill": {
     "duration": 71.250751,
     "end_time": "2022-09-27T02:19:26.538675",
     "exception": false,
     "start_time": "2022-09-27T02:18:15.287924",
     "status": "completed"
    },
    "tags": []
   },
   "outputs": [
    {
     "name": "stdout",
     "output_type": "stream",
     "text": [
      "report of test data\n",
      "              precision    recall  f1-score   support\n",
      "\n",
      "           0  1.0000000 1.0000000 1.0000000      7091\n",
      "           1  1.0000000 1.0000000 1.0000000      7091\n",
      "\n",
      "    accuracy                      1.0000000     14182\n",
      "   macro avg  1.0000000 1.0000000 1.0000000     14182\n",
      "weighted avg  1.0000000 1.0000000 1.0000000     14182\n",
      "\n",
      "TEST kappa\n",
      "1.0\n"
     ]
    },
    {
     "data": {
      "image/png": "[encoded data removed]",
      "text/plain": [
       "<Figure size 864x432 with 2 Axes>"
      ]
     },
     "metadata": {
      "needs_background": "light"
     },
     "output_type": "display_data"
    }
   ],
   "source": [
    "#------------------\n",
    "cf_matrix_test = confusion_matrix(\n",
    "    np.concatenate([np.argmax(val_generator[i][1], axis=1) for i in range(len(val_generator))]),    \n",
    "    np.argmax(model1.predict_generator(val_generator, steps=len(val_generator)), axis=1) \n",
    ")\n",
    "\n",
    "plt.figure(figsize = (12, 6))\n",
    "sns.heatmap(cf_matrix_test, annot=True, cmap='Blues', fmt='g')\n",
    "plt.title(\"Test Confusion matrix\")\n",
    "\n",
    "\n",
    "\n",
    "print(\"report of test data\")\n",
    "import sklearn\n",
    "\n",
    "report = sklearn.metrics.classification_report(\n",
    "    np.concatenate([np.argmax(val_generator[i][1], axis=1) for i in range(len(val_generator))]),    \n",
    "    np.argmax(model1.predict_generator(val_generator, steps=len(val_generator)), axis=1) , digits=7\n",
    ")\n",
    "print(report)\n",
    "\n",
    "\n",
    "# kappa TEST\n",
    "kappa_test = cohen_kappa_score(\n",
    "    np.concatenate([np.argmax(val_generator[i][1], axis=1) for i in range(len(val_generator))]),    \n",
    "    np.argmax(model1.predict_generator(val_generator, steps=len(val_generator)), axis=1)\n",
    ")\n",
    "print(\"TEST kappa\")\n",
    "print(kappa_test)"
   ]
  },
  {
   "cell_type": "code",
   "execution_count": 17,
   "id": "d25d235d",
   "metadata": {
    "execution": {
     "iopub.execute_input": "2022-09-27T02:19:49.709397Z",
     "iopub.status.busy": "2022-09-27T02:19:49.708994Z",
     "iopub.status.idle": "2022-09-27T02:20:37.657610Z",
     "shell.execute_reply": "2022-09-27T02:20:37.656219Z"
    },
    "papermill": {
     "duration": 59.536478,
     "end_time": "2022-09-27T02:20:37.660277",
     "exception": false,
     "start_time": "2022-09-27T02:19:38.123799",
     "status": "completed"
    },
    "tags": []
   },
   "outputs": [
    {
     "name": "stdout",
     "output_type": "stream",
     "text": [
      "roc analysis of val dataset\n",
      "[1 0 0 ... 1 1 0]\n",
      "[[4.23764268e-09 1.00000000e+00]\n",
      " [1.00000000e+00 7.17377416e-12]\n",
      " [1.00000000e+00 1.12651707e-12]\n",
      " ...\n",
      " [1.33641515e-05 9.99986649e-01]\n",
      " [3.85860476e-11 1.00000000e+00]\n",
      " [1.00000000e+00 3.74922792e-12]]\n",
      "[1.00000000e+00 7.17377416e-12 1.12651707e-12 ... 9.99986649e-01\n",
      " 1.00000000e+00 3.74922792e-12]\n"
     ]
    },
    {
     "data": {
      "image/png": "[encoded data removed]",
      "text/plain": [
       "<Figure size 432x288 with 1 Axes>"
      ]
     },
     "metadata": {
      "needs_background": "light"
     },
     "output_type": "display_data"
    },
    {
     "name": "stdout",
     "output_type": "stream",
     "text": [
      "auc value\n",
      "0.999999981734294\n"
     ]
    }
   ],
   "source": [
    "print(\"roc analysis of val dataset\")\n",
    "from scipy import interp\n",
    "import matplotlib.pyplot as plt\n",
    "from sklearn.metrics import roc_curve, auc\n",
    "n_classes=2\n",
    "test_labels = np.concatenate([np.argmax(val2_generator[i][1], axis=1) for i in range(len(val2_generator))])\n",
    "print(test_labels)\n",
    "\n",
    "y_score = model1.predict_generator(val2_generator)\n",
    "print(y_score)\n",
    "\n",
    "y_predict_score = []\n",
    "y_score_normalise=np.zeros((len(test_labels),n_classes))\n",
    "for i in range(len(test_labels)):\n",
    "    y_score_normalise1=y_score[i][1]/(y_score[i][0]+y_score[i][1])*1.0\n",
    "    y_score_normalise0=y_score[i][0]/(y_score[i][0]+y_score[i][1])*1.0\n",
    "    #if test_labels[i] == 0:\n",
    "    #    y_predict_score.append(1 - y_score_normalise0)\n",
    "    #if test_labels[i] == 1:\n",
    "    y_predict_score.append(y_score_normalise1)\n",
    "    y_score_normalise[i][0]=y_score_normalise0\n",
    "    y_score_normalise[i][1]=y_score_normalise1\n",
    "y_predict_score = np.array(y_predict_score)\n",
    "y_score_normalise = np.array(y_score_normalise)\n",
    "print(y_predict_score)\n",
    "\n",
    "fpr,tpr, thresholds = roc_curve(test_labels, y_predict_score )   \n",
    "# 这个地方可以按照原来代码里加marco与micro参数\n",
    "\n",
    "auc_score = auc(fpr,tpr)\n",
    " \n",
    "plt.figure()\n",
    "lw = 2 # line_width\n",
    "plt.plot(fpr,tpr, color='darkorange',\n",
    "         lw=lw, label='ROC curve (area = %0.2f)' % auc_score)\n",
    " \n",
    "plt.plot([0, 1], [0, 1], color='navy', lw=lw, linestyle='--')\n",
    "plt.xlim([0.0, 1.0])\n",
    "plt.ylim([0.0, 1.05])\n",
    "plt.xlabel('False Positive Rate')\n",
    "plt.ylabel('True Positive Rate')\n",
    "plt.title('ROC curve')\n",
    "plt.legend(loc=\"lower right\")\n",
    "plt.show()\n",
    "\n",
    "print(\"auc value\")\n",
    "print(auc_score)"
   ]
  },
  {
   "cell_type": "markdown",
   "id": "bcb1b411",
   "metadata": {
    "papermill": {
     "duration": 11.561406,
     "end_time": "2022-09-27T02:21:01.814844",
     "exception": false,
     "start_time": "2022-09-27T02:20:50.253438",
     "status": "completed"
    },
    "tags": []
   },
   "source": [
    "new roc attempt module"
   ]
  },
  {
   "cell_type": "code",
   "execution_count": null,
   "id": "a61d9ddb",
   "metadata": {
    "execution": {
     "iopub.execute_input": "2022-07-06T10:00:37.957502Z",
     "iopub.status.busy": "2022-07-06T10:00:37.956703Z",
     "iopub.status.idle": "2022-07-06T10:00:38.154619Z",
     "shell.execute_reply": "2022-07-06T10:00:38.153486Z",
     "shell.execute_reply.started": "2022-07-06T10:00:37.95746Z"
    },
    "papermill": {
     "duration": 11.319968,
     "end_time": "2022-09-27T02:21:25.147204",
     "exception": false,
     "start_time": "2022-09-27T02:21:13.827236",
     "status": "completed"
    },
    "tags": []
   },
   "outputs": [],
   "source": []
  },
  {
   "cell_type": "code",
   "execution_count": null,
   "id": "f8b9040c",
   "metadata": {
    "papermill": {
     "duration": 11.873559,
     "end_time": "2022-09-27T02:21:48.599606",
     "exception": false,
     "start_time": "2022-09-27T02:21:36.726047",
     "status": "completed"
    },
    "tags": []
   },
   "outputs": [],
   "source": []
  },
  {
   "cell_type": "code",
   "execution_count": null,
   "id": "04f321ef",
   "metadata": {
    "papermill": {
     "duration": 11.471567,
     "end_time": "2022-09-27T02:22:11.809965",
     "exception": false,
     "start_time": "2022-09-27T02:22:00.338398",
     "status": "completed"
    },
    "tags": []
   },
   "outputs": [],
   "source": []
  },
  {
   "cell_type": "markdown",
   "id": "e254ec0e",
   "metadata": {
    "papermill": {
     "duration": 11.559773,
     "end_time": "2022-09-27T02:22:34.947107",
     "exception": false,
     "start_time": "2022-09-27T02:22:23.387334",
     "status": "completed"
    },
    "tags": []
   },
   "source": []
  },
  {
   "cell_type": "code",
   "execution_count": null,
   "id": "37571c4e",
   "metadata": {
    "papermill": {
     "duration": 11.587818,
     "end_time": "2022-09-27T02:22:58.149185",
     "exception": false,
     "start_time": "2022-09-27T02:22:46.561367",
     "status": "completed"
    },
    "tags": []
   },
   "outputs": [],
   "source": []
  },
  {
   "cell_type": "code",
   "execution_count": null,
   "id": "a17cdeac",
   "metadata": {
    "papermill": {
     "duration": 11.63643,
     "end_time": "2022-09-27T02:23:21.490208",
     "exception": false,
     "start_time": "2022-09-27T02:23:09.853778",
     "status": "completed"
    },
    "tags": []
   },
   "outputs": [],
   "source": []
  },
  {
   "cell_type": "code",
   "execution_count": 18,
   "id": "94e6513a",
   "metadata": {
    "execution": {
     "iopub.execute_input": "2022-09-27T02:23:44.955056Z",
     "iopub.status.busy": "2022-09-27T02:23:44.954590Z",
     "iopub.status.idle": "2022-09-27T02:24:30.309183Z",
     "shell.execute_reply": "2022-09-27T02:24:30.307952Z"
    },
    "papermill": {
     "duration": 56.985065,
     "end_time": "2022-09-27T02:24:30.311619",
     "exception": false,
     "start_time": "2022-09-27T02:23:33.326554",
     "status": "completed"
    },
    "tags": []
   },
   "outputs": [
    {
     "name": "stdout",
     "output_type": "stream",
     "text": [
      "[[4.23764268e-09 1.00000000e+00]\n",
      " [1.00000000e+00 7.17377416e-12]\n",
      " [1.00000000e+00 1.12651707e-12]\n",
      " ...\n",
      " [1.33641515e-05 9.99986649e-01]\n",
      " [3.85860476e-11 1.00000000e+00]\n",
      " [1.00000000e+00 3.74922792e-12]]\n"
     ]
    }
   ],
   "source": [
    "print(model1.predict_generator(val2_generator))"
   ]
  },
  {
   "cell_type": "markdown",
   "id": "c071246d",
   "metadata": {
    "papermill": {
     "duration": 12.470713,
     "end_time": "2022-09-27T02:24:54.424323",
     "exception": false,
     "start_time": "2022-09-27T02:24:41.953610",
     "status": "completed"
    },
    "tags": []
   },
   "source": [
    "# Second Training Fine Tune"
   ]
  },
  {
   "cell_type": "markdown",
   "id": "f3e5d560",
   "metadata": {
    "execution": {
     "iopub.execute_input": "2022-06-03T23:27:17.22676Z",
     "iopub.status.busy": "2022-06-03T23:27:17.225925Z",
     "iopub.status.idle": "2022-06-03T23:27:17.261756Z",
     "shell.execute_reply": "2022-06-03T23:27:17.260792Z",
     "shell.execute_reply.started": "2022-06-03T23:27:17.22672Z"
    },
    "papermill": {
     "duration": 11.621955,
     "end_time": "2022-09-27T02:25:17.634562",
     "exception": false,
     "start_time": "2022-09-27T02:25:06.012607",
     "status": "completed"
    },
    "tags": []
   },
   "source": [
    "model.load_weights(MODEL_INIT)\n",
    "for model_ly in model.layers:\n",
    "    model_ly.trainable = True"
   ]
  },
  {
   "cell_type": "markdown",
   "id": "04b739c7",
   "metadata": {
    "execution": {
     "iopub.execute_input": "2022-06-03T23:27:17.264461Z",
     "iopub.status.busy": "2022-06-03T23:27:17.263307Z",
     "iopub.status.idle": "2022-06-03T23:27:17.271101Z",
     "shell.execute_reply": "2022-06-03T23:27:17.269841Z",
     "shell.execute_reply.started": "2022-06-03T23:27:17.26442Z"
    },
    "papermill": {
     "duration": 11.868655,
     "end_time": "2022-09-27T02:25:40.998802",
     "exception": false,
     "start_time": "2022-09-27T02:25:29.130147",
     "status": "completed"
    },
    "tags": []
   },
   "source": [
    "callbacks2 = [EarlyStopping(monitor='val_acc', patience=5, verbose=1), \n",
    "              ModelCheckpoint(MODEL_PATH, monitor='val_accuracy', save_best_only=True)]\n",
    "opt = Adam(learning_rate=0.00001)\n",
    "#model.compile(loss='categorical_crossentropy', optimizer=opt, metrics=['accuracy'])"
   ]
  },
  {
   "cell_type": "markdown",
   "id": "f05576dd",
   "metadata": {
    "execution": {
     "iopub.execute_input": "2022-06-03T23:27:17.273147Z",
     "iopub.status.busy": "2022-06-03T23:27:17.27238Z",
     "iopub.status.idle": "2022-06-03T23:27:17.285806Z",
     "shell.execute_reply": "2022-06-03T23:27:17.284602Z",
     "shell.execute_reply.started": "2022-06-03T23:27:17.273112Z"
    },
    "papermill": {
     "duration": 11.596485,
     "end_time": "2022-09-27T02:26:04.163162",
     "exception": false,
     "start_time": "2022-09-27T02:25:52.566677",
     "status": "completed"
    },
    "tags": []
   },
   "source": [
    "# model.load_weights(\"model.hdf5\")\n",
    "#history2 = model.fit(X_train, y_train,validation_data=(X_test, y_test),verbose = 1,epochs = 30, callbacks=callbacks2)"
   ]
  },
  {
   "cell_type": "markdown",
   "id": "77fa8eac",
   "metadata": {
    "execution": {
     "iopub.execute_input": "2022-06-03T23:27:17.2884Z",
     "iopub.status.busy": "2022-06-03T23:27:17.287804Z",
     "iopub.status.idle": "2022-06-03T23:27:26.604297Z",
     "shell.execute_reply": "2022-06-03T23:27:26.60351Z",
     "shell.execute_reply.started": "2022-06-03T23:27:17.28835Z"
    },
    "papermill": {
     "duration": 11.725903,
     "end_time": "2022-09-27T02:26:27.517198",
     "exception": false,
     "start_time": "2022-09-27T02:26:15.791295",
     "status": "completed"
    },
    "tags": []
   },
   "source": [
    "# model.load_weights(\"model.hdf5\")\n",
    "#history2 = model.fit(X_train, y_train,validation_data=(X_test, y_test),verbose = 1,epochs = 15, callbacks=callbacks2)\n",
    "history2=model.fit_generator(train_generator,validation_data=val_generator,verbose = 1,epochs = epoch_4_test,callbacks=callbacks2)"
   ]
  },
  {
   "cell_type": "markdown",
   "id": "d561f87f",
   "metadata": {
    "execution": {
     "iopub.execute_input": "2022-06-03T23:27:26.606228Z",
     "iopub.status.busy": "2022-06-03T23:27:26.605687Z",
     "iopub.status.idle": "2022-06-03T23:27:26.877721Z",
     "shell.execute_reply": "2022-06-03T23:27:26.87653Z",
     "shell.execute_reply.started": "2022-06-03T23:27:26.606195Z"
    },
    "papermill": {
     "duration": 11.442057,
     "end_time": "2022-09-27T02:26:50.818931",
     "exception": false,
     "start_time": "2022-09-27T02:26:39.376874",
     "status": "completed"
    },
    "tags": []
   },
   "source": [
    "import matplotlib.pyplot as plt\n",
    "import seaborn as sns\n",
    "plt.figure(figsize = (12, 6))\n",
    "plt.subplot(121)\n",
    "#plotting the Accuracy of test and training sets\n",
    "plt.plot(history2.history['accuracy'])\n",
    "plt.plot(history2.history['val_accuracy'])\n",
    "plt.title('2nd training Model Accuracy')\n",
    "plt.ylabel('accuracy')\n",
    "plt.xlabel('epoch')\n",
    "plt.legend(['train', 'test'], loc='upper left')\n",
    "\n",
    "plt.subplot(122)\n",
    "#plotting the loss of test and training sets\n",
    "plt.plot(history2.history['loss'])\n",
    "plt.plot(history2.history['val_loss'])\n",
    "plt.title('2nd training Model Loss')\n",
    "plt.ylabel('loss')\n",
    "plt.xlabel('epoch')\n",
    "plt.legend(['train', 'test'], loc='upper left')\n",
    "plt.show()"
   ]
  },
  {
   "cell_type": "markdown",
   "id": "3b06947f",
   "metadata": {
    "execution": {
     "iopub.execute_input": "2022-06-03T23:27:26.880585Z",
     "iopub.status.busy": "2022-06-03T23:27:26.879459Z",
     "iopub.status.idle": "2022-06-03T23:27:29.499542Z",
     "shell.execute_reply": "2022-06-03T23:27:29.498328Z",
     "shell.execute_reply.started": "2022-06-03T23:27:26.880529Z"
    },
    "papermill": {
     "duration": 11.635268,
     "end_time": "2022-09-27T02:27:14.019754",
     "exception": false,
     "start_time": "2022-09-27T02:27:02.384486",
     "status": "completed"
    },
    "tags": []
   },
   "source": [
    "import sklearn\n",
    "from sklearn.metrics import f1_score, roc_auc_score, cohen_kappa_score, precision_score, recall_score, accuracy_score, confusion_matrix\n",
    "# model是最新版本的mode（stage 2）\n",
    "# 混淆矩阵\n",
    "from keras.models import load_model\n",
    "\n",
    "model2 = load_model(MODEL_PATH, compile=False)\n",
    "print(\"analyse of final model\")\n",
    "\n",
    "\n",
    "cf_matrix_val = confusion_matrix(\n",
    "    np.concatenate([np.argmax(val2_generator[i][1], axis=1) for i in range(len(val2_generator))]),    \n",
    "    np.argmax(model2.predict_generator(val2_generator, steps=len(val2_generator)), axis=1) \n",
    ")\n",
    "\n",
    "plt.figure(figsize = (12, 6))\n",
    "sns.heatmap(cf_matrix_val, annot=True, cmap='Blues')\n",
    "plt.title(\"VAL Confusion matrix\")\n",
    "# kappa VAL\n",
    "kappa_val = cohen_kappa_score(\n",
    "    np.concatenate([np.argmax(val2_generator[i][1], axis=1) for i in range(len(val2_generator))]),    \n",
    "    np.argmax(model2.predict_generator(val2_generator, steps=len(val2_generator)), axis=1) \n",
    ")\n",
    "print(\"VAL kappa\")\n",
    "print(kappa_val)\n",
    "\n",
    "\n",
    "\n",
    "print(\"analyse 1st model\")\n",
    "print(\"report of val data\")\n",
    "report = sklearn.metrics.classification_report(\n",
    "    np.concatenate([np.argmax(val2_generator[i][1], axis=1) for i in range(len(val2_generator))]),    \n",
    "    np.argmax(model2.predict_generator(val2_generator, steps=len(val2_generator)), axis=1) \n",
    ")\n",
    "print(report)"
   ]
  },
  {
   "cell_type": "markdown",
   "id": "98e5a907",
   "metadata": {
    "execution": {
     "iopub.execute_input": "2022-06-03T23:27:29.502165Z",
     "iopub.status.busy": "2022-06-03T23:27:29.501602Z",
     "iopub.status.idle": "2022-06-03T23:27:30.853738Z",
     "shell.execute_reply": "2022-06-03T23:27:30.852725Z",
     "shell.execute_reply.started": "2022-06-03T23:27:29.502116Z"
    },
    "papermill": {
     "duration": 11.281028,
     "end_time": "2022-09-27T02:27:37.186742",
     "exception": false,
     "start_time": "2022-09-27T02:27:25.905714",
     "status": "completed"
    },
    "tags": []
   },
   "source": [
    "cf_matrix_test = confusion_matrix(\n",
    "    np.concatenate([np.argmax(val_generator[i][1], axis=1) for i in range(len(val_generator))]),    \n",
    "    np.argmax(model2.predict_generator(val_generator, steps=len(val_generator)), axis=1) \n",
    ")\n",
    "\n",
    "plt.figure(figsize = (12, 6))\n",
    "sns.heatmap(cf_matrix_test, annot=True, cmap='Blues')\n",
    "plt.title(\"Test Confusion matrix\")\n",
    "\n",
    "\n",
    "\n",
    "print(\"report of test data\")\n",
    "import sklearn\n",
    "\n",
    "report = sklearn.metrics.classification_report(\n",
    "    np.concatenate([np.argmax(val_generator[i][1], axis=1) for i in range(len(val_generator))]),    \n",
    "    np.argmax(model2.predict_generator(val_generator, steps=len(val_generator)), axis=1) \n",
    ")\n",
    "print(report)\n",
    "\n",
    "\n",
    "# kappa TEST\n",
    "kappa_test = cohen_kappa_score(\n",
    "    np.concatenate([np.argmax(val_generator[i][1], axis=1) for i in range(len(val_generator))]),    \n",
    "    np.argmax(model2.predict_generator(val_generator, steps=len(val_generator)), axis=1) \n",
    ")\n",
    "print(\"TEST kappa\")\n",
    "print(kappa_test)"
   ]
  }
 ],
 "metadata": {
  "kernelspec": {
   "display_name": "Python 3",
   "language": "python",
   "name": "python3"
  },
  "language_info": {
   "codemirror_mode": {
    "name": "ipython",
    "version": 3
   },
   "file_extension": ".py",
   "mimetype": "text/x-python",
   "name": "python",
   "nbconvert_exporter": "python",
   "pygments_lexer": "ipython3",
   "version": "3.7.12"
  },
  "papermill": {
   "default_parameters": {},
   "duration": 34078.373244,
   "end_time": "2022-09-27T02:27:51.957224",
   "environment_variables": {},
   "exception": null,
   "input_path": "__notebook__.ipynb",
   "output_path": "__notebook__.ipynb",
   "parameters": {},
   "start_time": "2022-09-26T16:59:53.583980",
   "version": "2.3.4"
  }
 },
 "nbformat": 4,
 "nbformat_minor": 5
}
