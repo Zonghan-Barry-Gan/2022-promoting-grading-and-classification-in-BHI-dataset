{
 "cells": [
  {
   "cell_type": "code",
   "execution_count": 1,
   "id": "31598504",
   "metadata": {
    "_cell_guid": "b1076dfc-b9ad-4769-8c92-a6c4dae69d19",
    "_uuid": "8f2839f25d086af736a60e9eeb907d3b93b6e0e5",
    "execution": {
     "iopub.execute_input": "2022-05-25T19:31:30.242676Z",
     "iopub.status.busy": "2022-05-25T19:31:30.241566Z",
     "iopub.status.idle": "2022-05-25T19:31:39.015718Z",
     "shell.execute_reply": "2022-05-25T19:31:39.014493Z"
    },
    "papermill": {
     "duration": 8.789817,
     "end_time": "2022-05-25T19:31:39.019171",
     "exception": false,
     "start_time": "2022-05-25T19:31:30.229354",
     "status": "completed"
    },
    "tags": []
   },
   "outputs": [],
   "source": [
    "from glob import glob\n",
    "import os\n",
    "import shutil\n",
    "\n",
    "import numpy as np\n",
    "import pandas as pd\n",
    "\n",
    "from sklearn.metrics import f1_score, roc_auc_score, cohen_kappa_score, precision_score, recall_score, accuracy_score, confusion_matrix\n",
    "from keras.layers import Dense, Flatten, Conv2D, MaxPooling2D, Dropout\n",
    "from keras.models import Sequential\n",
    "import tensorflow as tf\n",
    "import matplotlib.pyplot as plt\n",
    "import cv2\n",
    "from keras.layers import BatchNormalization\n",
    "from keras.models import Model, Sequential\n",
    "from keras.applications.xception import Xception\n",
    "from keras.applications import *\n",
    "import matplotlib.pyplot as plt\n",
    "from sklearn.pipeline import make_pipeline\n",
    "from sklearn.pipeline import Pipeline\n",
    "from PIL import Image\n",
    "import random\n",
    "import os\n",
    "import cv2\n",
    "from sklearn.model_selection import train_test_split\n",
    "from sklearn.neighbors import KNeighborsClassifier\n",
    "from sklearn.svm import SVC\n",
    "from sklearn.ensemble import RandomForestClassifier, AdaBoostClassifier\n",
    "from xgboost import XGBClassifier \n",
    "from keras.callbacks import EarlyStopping\n",
    "import seaborn as sns\n",
    "from sklearn.preprocessing import StandardScaler\n",
    "from tqdm import tqdm\n",
    "from sklearn.decomposition import PCA"
   ]
  },
  {
   "cell_type": "markdown",
   "id": "d49a9ffe",
   "metadata": {
    "papermill": {
     "duration": 0.009326,
     "end_time": "2022-05-25T19:31:39.038312",
     "exception": false,
     "start_time": "2022-05-25T19:31:39.028986",
     "status": "completed"
    },
    "tags": []
   },
   "source": [
    "make path for image classification"
   ]
  },
  {
   "cell_type": "code",
   "execution_count": 2,
   "id": "49fab2a3",
   "metadata": {
    "execution": {
     "iopub.execute_input": "2022-05-25T19:31:39.058471Z",
     "iopub.status.busy": "2022-05-25T19:31:39.057607Z",
     "iopub.status.idle": "2022-05-25T19:31:39.063841Z",
     "shell.execute_reply": "2022-05-25T19:31:39.062972Z"
    },
    "papermill": {
     "duration": 0.018884,
     "end_time": "2022-05-25T19:31:39.066015",
     "exception": false,
     "start_time": "2022-05-25T19:31:39.047131",
     "status": "completed"
    },
    "tags": []
   },
   "outputs": [],
   "source": [
    "os.makedirs('../working/data/train_seg/idc-minus/')     \n",
    "os.makedirs('../working/data/train_seg/idc-plus/')  \n",
    "os.makedirs('../working/data/test_seg/idc-minus/')     \n",
    "os.makedirs('../working/data/test_seg/idc-plus/')  \n",
    "#os.makedirs('../working/data/val_seg/idc-minus/')     \n",
    "#os.makedirs('../working/data/val_seg/idc-plus/')  "
   ]
  },
  {
   "cell_type": "markdown",
   "id": "cdb46349",
   "metadata": {
    "papermill": {
     "duration": 0.008582,
     "end_time": "2022-05-25T19:31:39.083804",
     "exception": false,
     "start_time": "2022-05-25T19:31:39.075222",
     "status": "completed"
    },
    "tags": []
   },
   "source": [
    "# **Image Import**\n",
    "for first time run uncomment this cell\n",
    "this will catagorise files into different directory\n",
    "for second time run please comment this cell"
   ]
  },
  {
   "cell_type": "code",
   "execution_count": 3,
   "id": "7d423af0",
   "metadata": {
    "execution": {
     "iopub.execute_input": "2022-05-25T19:31:39.104241Z",
     "iopub.status.busy": "2022-05-25T19:31:39.103160Z",
     "iopub.status.idle": "2022-05-25T19:31:39.108741Z",
     "shell.execute_reply": "2022-05-25T19:31:39.107935Z"
    },
    "papermill": {
     "duration": 0.018087,
     "end_time": "2022-05-25T19:31:39.110870",
     "exception": false,
     "start_time": "2022-05-25T19:31:39.092783",
     "status": "completed"
    },
    "tags": []
   },
   "outputs": [],
   "source": [
    "sampling_seed=0\n",
    "size_4_training=1000\n",
    "img_size=224\n",
    "n_of_classes=2\n",
    "#training_reshape=(-1, img_size, img_size, 3)"
   ]
  },
  {
   "cell_type": "code",
   "execution_count": 4,
   "id": "7c14f0ae",
   "metadata": {
    "execution": {
     "iopub.execute_input": "2022-05-25T19:31:39.131582Z",
     "iopub.status.busy": "2022-05-25T19:31:39.130796Z",
     "iopub.status.idle": "2022-05-25T19:33:06.506979Z",
     "shell.execute_reply": "2022-05-25T19:33:06.505840Z"
    },
    "papermill": {
     "duration": 87.389956,
     "end_time": "2022-05-25T19:33:06.509680",
     "exception": false,
     "start_time": "2022-05-25T19:31:39.119724",
     "status": "completed"
    },
    "tags": []
   },
   "outputs": [
    {
     "name": "stdout",
     "output_type": "stream",
     "text": [
      "['../input/breast-histopathology-images/IDC_regular_ps50_idx5/10295/0/10295_idx5_x1351_y1101_class0.png', '../input/breast-histopathology-images/IDC_regular_ps50_idx5/10295/0/10295_idx5_x1501_y501_class0.png', '../input/breast-histopathology-images/IDC_regular_ps50_idx5/10295/0/10295_idx5_x1501_y1101_class0.png', '../input/breast-histopathology-images/IDC_regular_ps50_idx5/10295/0/10295_idx5_x451_y901_class0.png', '../input/breast-histopathology-images/IDC_regular_ps50_idx5/10295/0/10295_idx5_x801_y451_class0.png', '../input/breast-histopathology-images/IDC_regular_ps50_idx5/10295/0/10295_idx5_x151_y1051_class0.png', '../input/breast-histopathology-images/IDC_regular_ps50_idx5/10295/0/10295_idx5_x1351_y901_class0.png', '../input/breast-histopathology-images/IDC_regular_ps50_idx5/10295/0/10295_idx5_x701_y651_class0.png', '../input/breast-histopathology-images/IDC_regular_ps50_idx5/10295/0/10295_idx5_x951_y1401_class0.png', '../input/breast-histopathology-images/IDC_regular_ps50_idx5/10295/0/10295_idx5_x601_y501_class0.png']\n"
     ]
    },
    {
     "name": "stderr",
     "output_type": "stream",
     "text": [
      "/opt/conda/lib/python3.7/site-packages/ipykernel_launcher.py:81: VisibleDeprecationWarning: Creating an ndarray from ragged nested sequences (which is a list-or-tuple of lists-or-tuples-or ndarrays with different lengths or shapes) is deprecated. If you meant to do this, you must specify 'dtype=object' when creating the ndarray.\n",
      "/opt/conda/lib/python3.7/site-packages/ipykernel_launcher.py:82: VisibleDeprecationWarning: Creating an ndarray from ragged nested sequences (which is a list-or-tuple of lists-or-tuples-or ndarrays with different lengths or shapes) is deprecated. If you meant to do this, you must specify 'dtype=object' when creating the ndarray.\n"
     ]
    },
    {
     "name": "stdout",
     "output_type": "stream",
     "text": [
      "(1000, 2)\n",
      "(2000, 2)\n"
     ]
    }
   ],
   "source": [
    "training_reshape=(-1, img_size, img_size, 3)\n",
    "import random\n",
    "#make directory for labelling\n",
    "os.makedirs('../working/idc2/idc-minus/')     \n",
    "os.makedirs('../working/idc2/idc-plus/')  \n",
    "\n",
    "\n",
    "class0 = [] # 0 = idc+\n",
    "class1 = [] # 1 = idc-\n",
    "imagePatches = glob('../input/breast-histopathology-images/IDC_regular_ps50_idx5/**/*.png', recursive=True)\n",
    "for filename in imagePatches:\n",
    "    if filename.endswith(\"class0.png\"):\n",
    "         class0.append(filename)\n",
    "    else:\n",
    "        class1.append(filename)\n",
    "\n",
    "print(class0[0:10])\n",
    "\n",
    "#sampling 10000 images from class 0 and class 1 to train the model\n",
    "\n",
    "random.seed(sampling_seed)\n",
    "class0sample=random.sample(class0,size_4_training)\n",
    "class1sample=random.sample(class1,size_4_training)\n",
    "\n",
    "\n",
    "def read_and_save_data(path, file_name_array):\n",
    "    j=0\n",
    "    for i in file_name_array:\n",
    "        if i.endswith('.png'):\n",
    "          \n",
    "            \n",
    "            #second copy method\n",
    "            head, tail = os.path.split(i)\n",
    "            outputname=str(path+tail)\n",
    "            #outputname=str(path+str(j)+'.png')\n",
    "            #print(outputname)\n",
    "            shutil.copy(i, outputname)\n",
    "   \n",
    "            #print(status2)\n",
    "            \n",
    "            j=j+1\n",
    "            if j==120000:\n",
    "                break\n",
    "            \n",
    "   \n",
    "class0path='../working/idc2/idc-minus/'\n",
    "class1path='../working/idc2/idc-plus/'\n",
    "\n",
    "\n",
    "\n",
    "\n",
    "read_and_save_data(class0path,class0sample)\n",
    "read_and_save_data(class1path,class1sample)\n",
    "\n",
    "#--------------------------------------------\n",
    "import os #Operating System\n",
    "import sys #System\n",
    "import cv2\n",
    "\n",
    "def readImage(path, tag):\n",
    "    j=0\n",
    "    image_array = []\n",
    "    for i in os.listdir(path):\n",
    "        imgname=path+i\n",
    "        #print(imgname)\n",
    "        img = cv2.imread(imgname, cv2.IMREAD_COLOR)\n",
    "        img_resized = cv2.resize(img, (img_size,img_size), interpolation=cv2.INTER_LINEAR)\n",
    "        image_array.append([img_resized, tag])\n",
    "        #print(img[1])\n",
    "        j=j+1\n",
    "        #if j==10:\n",
    "        #    break\n",
    "        \n",
    "    return image_array\n",
    "\n",
    "import numpy as np\n",
    "\n",
    "\n",
    "class0_array = readImage(class0path, 0)\n",
    "class1_array = readImage(class1path, 1)\n",
    "class0_array=np.array(class0_array)\n",
    "class1_array=np.array(class1_array)\n",
    "combined_data = np.concatenate((class0_array, class1_array))\n",
    "random.seed(41)\n",
    "random.shuffle(combined_data)\n",
    "print(class0_array.shape)\n",
    "print(combined_data.shape)\n",
    "\n",
    "X = []\n",
    "y = []\n",
    "\n",
    "for features,label in combined_data:\n",
    "    X.append(features)\n",
    "    y.append(label)\n",
    "#print(X.shape)\n",
    "#pring(y.shape)\n",
    "\n",
    "# reshape X data\n",
    "X = np.array(X).reshape(training_reshape)\n",
    "#print(X.shape)\n",
    "y=np.array(y)\n",
    "\n",
    "X_train, X_test, y_train, y_test = train_test_split(X, y, test_size=0.3, random_state=42)\n",
    "\n",
    "\n",
    "\n",
    "#X_val, y_val=Image_array_process(class0_val, val0_label, class1_val, val1_label)\n",
    "X_train_original=X_train\n",
    "X_test_original=X_test\n",
    "y_train_original=y_train\n",
    "y_test_original=y_test\n"
   ]
  },
  {
   "cell_type": "markdown",
   "id": "6ff7345e",
   "metadata": {
    "papermill": {
     "duration": 0.008609,
     "end_time": "2022-05-25T19:33:06.527232",
     "exception": false,
     "start_time": "2022-05-25T19:33:06.518623",
     "status": "completed"
    },
    "tags": []
   },
   "source": [
    "Image classification"
   ]
  },
  {
   "cell_type": "code",
   "execution_count": null,
   "id": "86533f6d",
   "metadata": {
    "execution": {
     "iopub.execute_input": "2022-05-16T20:44:37.247276Z",
     "iopub.status.busy": "2022-05-16T20:44:37.246945Z",
     "iopub.status.idle": "2022-05-16T20:44:37.251799Z",
     "shell.execute_reply": "2022-05-16T20:44:37.251182Z"
    },
    "papermill": {
     "duration": 0.008285,
     "end_time": "2022-05-25T19:33:06.544979",
     "exception": false,
     "start_time": "2022-05-25T19:33:06.536694",
     "status": "completed"
    },
    "tags": []
   },
   "outputs": [],
   "source": []
  },
  {
   "cell_type": "code",
   "execution_count": 5,
   "id": "1790e80d",
   "metadata": {
    "execution": {
     "iopub.execute_input": "2022-05-25T19:33:06.564097Z",
     "iopub.status.busy": "2022-05-25T19:33:06.563586Z",
     "iopub.status.idle": "2022-05-25T19:33:06.572133Z",
     "shell.execute_reply": "2022-05-25T19:33:06.570587Z"
    },
    "papermill": {
     "duration": 0.020834,
     "end_time": "2022-05-25T19:33:06.574463",
     "exception": false,
     "start_time": "2022-05-25T19:33:06.553629",
     "status": "completed"
    },
    "tags": []
   },
   "outputs": [
    {
     "name": "stdout",
     "output_type": "stream",
     "text": [
      "[0 0 0 0 0 0 0 1 0 0 0 0 0 0 0 0 0 0 0 0 0 0 0 0 0 0 0 0 0 0 0 0 0 0 0 0 0\n",
      " 1 0 0 0 0 0 0 0 0 0 0 0 0 0 0 0 0 0 0 1 1 0 0 0 0 0 0 0 0 0 0 0 0 0 0 1 0\n",
      " 0 0 0 0 0 1 0 0 0 0 0 0 0 0 0 1 1 1 0 0 1 1 0 0 0 0 0 0 0 0 0 0 0 0 0 0 0\n",
      " 0 0 0 0 0 0 0 0 1 0 0 0 0 0 0 0 0 0 0 1 1 0 0 0 0 1 0 0 0 0 0 0 0 1 0 0 0\n",
      " 0 0 1 0 0 0 0 0 0 1 0 0 0 0 0 1 0 0 1 0 0 1 1 0 0 0 0 0 0 0 0 0 0 0 0 0 0\n",
      " 0 1 1 0 0 0 0 0 0 0 0 0 0 0 0 1 0 0 0 0 0 0 0 0 0 0 0 0 0 0 1 0 0 0 1 0 0\n",
      " 0 0 1 0 0 0 0 0 1 0 1 1 1 0 0 0 0 0 0 1 0 0 1 0 0 0 0 0 0 0 0 0 1 0 0 0 1\n",
      " 0 0 1 0 1 0 0 0 0 0 0 0 1 0 0 1 0 0 0 0 0 1 1 0 0 0 0 0 0 0 0 0 0 0 1 0 0\n",
      " 0 0 1 0 0 0 0 0 0 0 0 0 0 0 0 0 0 0 0 0 0 1 0 0 0 1 0 0 0 0 1 0 1 0 0 0 1\n",
      " 0 0 0 0 0 0 0 0 0 1 0 0 1 0 1 1 0 0 0 0 0 0 0 0 1 1 0 0 0 0 0 0 0 1 0 1 0\n",
      " 1 1 0 0 1 0 0 0 1 0 0 0 0 0 0 0 0 1 0 0 1 0 0 0 0 0 0 0 0 0 0 0 0 0 0 0 0\n",
      " 0 0 0 0 0 1 0 0 0 0 0 0 0 0 0 0 0 1 1 0 0 0 0 0 0 1 0 1 0 0 0 0 0 0 0 0 0\n",
      " 1 0 0 0 0 0 0 0 0 0 1 0 0 0 0 0 0 0 0 0 0 0 0 0 0 0 0 0 0 1 1 0 0 0 0 0 1\n",
      " 0 0 0 0 0 0 0 0 0 1 0 0 0 0 0 0 0 1 0 0 0 0 0 1 1 1 0 0 0 0 0 0 0 1 1 0 0\n",
      " 0 0 0 0 1 0 0 0 0 0 0 0 0 0 0 0 0 0 0 0 0 1 0 0 0 0 0 0 0 1 0 0 0 0 0 0 0\n",
      " 0 1 0 0 0 0 1 0 0 0 0 0 0 0 0 1 0 0 1 0 0 0 0 0 0 0 1 1 0 0 0 1 1 0 0 0 0\n",
      " 0 0 0 0 0 0 0 0]\n"
     ]
    }
   ],
   "source": [
    "print(y_test)"
   ]
  },
  {
   "cell_type": "code",
   "execution_count": 6,
   "id": "2e393605",
   "metadata": {
    "execution": {
     "iopub.execute_input": "2022-05-25T19:33:06.594741Z",
     "iopub.status.busy": "2022-05-25T19:33:06.594232Z",
     "iopub.status.idle": "2022-05-25T19:33:06.600689Z",
     "shell.execute_reply": "2022-05-25T19:33:06.599449Z"
    },
    "papermill": {
     "duration": 0.01948,
     "end_time": "2022-05-25T19:33:06.602948",
     "exception": false,
     "start_time": "2022-05-25T19:33:06.583468",
     "status": "completed"
    },
    "tags": []
   },
   "outputs": [
    {
     "name": "stdout",
     "output_type": "stream",
     "text": [
      "[0 0 0 ... 0 1 0]\n"
     ]
    }
   ],
   "source": [
    "print(y_train)"
   ]
  },
  {
   "cell_type": "code",
   "execution_count": 7,
   "id": "2deee602",
   "metadata": {
    "execution": {
     "iopub.execute_input": "2022-05-25T19:33:06.622920Z",
     "iopub.status.busy": "2022-05-25T19:33:06.622478Z",
     "iopub.status.idle": "2022-05-25T19:33:07.296435Z",
     "shell.execute_reply": "2022-05-25T19:33:07.295598Z"
    },
    "papermill": {
     "duration": 0.686609,
     "end_time": "2022-05-25T19:33:07.298600",
     "exception": false,
     "start_time": "2022-05-25T19:33:06.611991",
     "status": "completed"
    },
    "tags": []
   },
   "outputs": [
    {
     "name": "stdout",
     "output_type": "stream",
     "text": [
      "Found 0 images belonging to 2 classes.\n",
      "Found 0 images belonging to 2 classes.\n"
     ]
    },
    {
     "data": {
      "text/plain": [
       "'\\nval2_it = val_gen.flow_from_directory(validation_dir,\\n                                       class_mode = \"categorical\",\\n                                       target_size = (img_size, img_size),\\n                                       color_mode=\"rgb\",\\n                                       batch_size = 12, \\n                                       shuffle = False,\\n                                       subset=\\'validation\\',\\n                                       seed = 42)\\n'"
      ]
     },
     "execution_count": 7,
     "metadata": {},
     "output_type": "execute_result"
    }
   ],
   "source": [
    "data_dir = \"../working/idc2\"\n",
    "#img_size = img_size = img_size\n",
    "\n",
    "train_dir='../working/data/train_seg/'\n",
    "#validation_dir='../working/data/val_seg/'\n",
    "test_dir = '../working/data/test_seg/' \n",
    "\n",
    "train_gen = tf.keras.preprocessing.image.ImageDataGenerator()\n",
    "test_gen=tf.keras.preprocessing.image.ImageDataGenerator()\n",
    "val_gen=tf.keras.preprocessing.image.ImageDataGenerator()\n",
    "\n",
    " \n",
    "train_it = train_gen.flow_from_directory(train_dir,\n",
    "                                       class_mode = \"categorical\",\n",
    "                                       target_size = (img_size,img_size),\n",
    "                                       color_mode=\"rgb\",\n",
    "                                       batch_size = 12, \n",
    "                                       shuffle = False,\n",
    "                                       subset='training',\n",
    "                                       seed = 42)\n",
    "\n",
    "validate_it = test_gen.flow_from_directory('./data/test_seg',\n",
    "                                       class_mode = \"categorical\",\n",
    "                                       target_size = (img_size, img_size),\n",
    "                                       color_mode=\"rgb\",\n",
    "                                       batch_size = 12, \n",
    "                                       shuffle = False,\n",
    "                                       subset='training',\n",
    "                                       seed = 42)\n",
    "'''\n",
    "val2_it = val_gen.flow_from_directory(validation_dir,\n",
    "                                       class_mode = \"categorical\",\n",
    "                                       target_size = (img_size, img_size),\n",
    "                                       color_mode=\"rgb\",\n",
    "                                       batch_size = 12, \n",
    "                                       shuffle = False,\n",
    "                                       subset='validation',\n",
    "                                       seed = 42)\n",
    "'''"
   ]
  },
  {
   "cell_type": "code",
   "execution_count": 8,
   "id": "cedba5b9",
   "metadata": {
    "execution": {
     "iopub.execute_input": "2022-05-25T19:33:07.319840Z",
     "iopub.status.busy": "2022-05-25T19:33:07.318697Z",
     "iopub.status.idle": "2022-05-25T19:33:07.326699Z",
     "shell.execute_reply": "2022-05-25T19:33:07.325612Z"
    },
    "papermill": {
     "duration": 0.021048,
     "end_time": "2022-05-25T19:33:07.328958",
     "exception": false,
     "start_time": "2022-05-25T19:33:07.307910",
     "status": "completed"
    },
    "tags": []
   },
   "outputs": [],
   "source": [
    "def get_features2(base_model, X_train1, y_train1, X_test1, y_test1):\n",
    "    X_train2 = base_model.predict(X_train1)\n",
    "    y_train2 = y_train1\n",
    "\n",
    "    X_test2 = base_model.predict(X_test1)\n",
    "    y_test2 = y_test1\n",
    "\n",
    "    X_val, X_test, y_val, y_test = train_test_split(X_test2, y_test2, test_size = 0.3, shuffle = True)\n",
    "    print('Shape of X_train----->', str(X_train2.shape))\n",
    "    print('Shape of X_val----->', str(X_val.shape))\n",
    "    print('Shape of X_test----->', str(X_test.shape))\n",
    "    return (X_train2, X_val, X_test, y_train2, y_val, y_test)"
   ]
  },
  {
   "cell_type": "code",
   "execution_count": 9,
   "id": "4784d32e",
   "metadata": {
    "execution": {
     "iopub.execute_input": "2022-05-25T19:33:07.349499Z",
     "iopub.status.busy": "2022-05-25T19:33:07.349008Z",
     "iopub.status.idle": "2022-05-25T19:33:07.361653Z",
     "shell.execute_reply": "2022-05-25T19:33:07.360665Z"
    },
    "papermill": {
     "duration": 0.025846,
     "end_time": "2022-05-25T19:33:07.364087",
     "exception": false,
     "start_time": "2022-05-25T19:33:07.338241",
     "status": "completed"
    },
    "tags": []
   },
   "outputs": [],
   "source": [
    "from keras.callbacks import ModelCheckpoint\n",
    "from tensorflow.keras.optimizers import *\n",
    "def get_models():\n",
    "    ANN = Sequential()\n",
    "    ANN.add(Dense(4096, input_dim = X_train.shape[1], activation = 'relu'))\n",
    "    ANN.add(BatchNormalization())\n",
    "    ANN.add(Dense(4096, activation='relu'))\n",
    "    ANN.add(Dropout(0.2))\n",
    "    ANN.add(Dense(2096, activation='relu'))\n",
    "    #ANN.add(Dense(16, activation='relu'))\n",
    "    #ANN.add(Dense(8, activation='relu'))\n",
    "    ANN.add(Dense(n_of_classes, activation='sigmoid'))\n",
    "    \n",
    "\n",
    "    opt = Adam(learning_rate=0.001)\n",
    "    ANN.compile(loss='categorical_crossentropy', optimizer=opt, metrics=['accuracy'])\n",
    " \n",
    "    KNN = KNeighborsClassifier()\n",
    "    \n",
    "    SVM = SVC(kernel = 'linear')\n",
    "    \n",
    "    RF = RandomForestClassifier(n_estimators = 50)\n",
    "    \n",
    "    ADB = AdaBoostClassifier()\n",
    "    \n",
    "    XGB = XGBClassifier(n_estimators = 50, use_label_encoder=False)\n",
    "    \n",
    "    print(\"Defined------->\")\n",
    "    print(\"ANN -------->\", \"(4096x4096x2096x2)\")\n",
    "    print(\"KNeighborsClassifier()\")\n",
    "    print(\"SVC(kernel = 'linear')\")\n",
    "    print(\"RandomForestClassifier(n_estimators = 50)\")\n",
    "    print(\"AdaBoostClassifier()\")\n",
    "    print(\"XGBClassifier(n_estimators = 50)\")\n",
    "    \n",
    "    return (ANN, KNN, SVM, RF, ADB, XGB)"
   ]
  },
  {
   "cell_type": "code",
   "execution_count": 10,
   "id": "12dfc48a",
   "metadata": {
    "execution": {
     "iopub.execute_input": "2022-05-25T19:33:07.384309Z",
     "iopub.status.busy": "2022-05-25T19:33:07.383866Z",
     "iopub.status.idle": "2022-05-25T19:33:07.391483Z",
     "shell.execute_reply": "2022-05-25T19:33:07.390314Z"
    },
    "papermill": {
     "duration": 0.020344,
     "end_time": "2022-05-25T19:33:07.393679",
     "exception": false,
     "start_time": "2022-05-25T19:33:07.373335",
     "status": "completed"
    },
    "tags": []
   },
   "outputs": [],
   "source": [
    "def reshape_data(X_train, X_val, X_test):\n",
    "    X_train = X_train.reshape(X_train.shape[0], -1)\n",
    "    X_val = X_val.reshape(X_val.shape[0], -1)\n",
    "    X_test = X_test.reshape(X_test.shape[0], -1)\n",
    "\n",
    "    print(\"Shape after reshaping------->\")\n",
    "    print(\"X train------->\", str(X_train.shape))\n",
    "    print(\"X val-------->\", str(X_val.shape))\n",
    "    print(\"X test-------->\", str(X_test.shape))\n",
    "    \n",
    "    return (X_train, X_val, X_test)"
   ]
  },
  {
   "cell_type": "code",
   "execution_count": 11,
   "id": "e0fb8ee6",
   "metadata": {
    "execution": {
     "iopub.execute_input": "2022-05-25T19:33:07.413966Z",
     "iopub.status.busy": "2022-05-25T19:33:07.413513Z",
     "iopub.status.idle": "2022-05-25T19:33:07.433178Z",
     "shell.execute_reply": "2022-05-25T19:33:07.432019Z"
    },
    "papermill": {
     "duration": 0.032509,
     "end_time": "2022-05-25T19:33:07.435363",
     "exception": false,
     "start_time": "2022-05-25T19:33:07.402854",
     "status": "completed"
    },
    "tags": []
   },
   "outputs": [],
   "source": [
    "from sklearn.metrics import classification_report\n",
    "from tensorflow.keras.utils import to_categorical\n",
    "def fit_ANN(model, X_train, y_train, X_val, y_test):\n",
    "    callbacks = [EarlyStopping(monitor='val_loss', patience=5, verbose=1), ModelCheckpoint('ANN.hdf5', save_best_only=True)]\n",
    "    y_train=to_categorical(y_train)\n",
    "    y_test=to_categorical(y_test)\n",
    "    history = model.fit(X_train, y_train, validation_data=(X_val, y_test), epochs=10, verbose=1, callbacks=callbacks)\n",
    "    return model\n",
    "\n",
    "def fit_model(model, X_train, y_train):\n",
    "    model.fit(X_train, y_train)\n",
    "    return model\n",
    "from tensorflow.keras.utils import plot_model\n",
    "from IPython.display import Image\n",
    "def get_accuracy_metrics_for_ANN(model, X_train, y_train, X_val, y_val, X_test, y_test):\n",
    "    model.summary()\n",
    "    plot_model(model, to_file='ANN.png', show_shapes=True,show_layer_names=True)\n",
    "    Image(filename='ANN.png') \n",
    "    #y_train=np.argmax(y_train, axis=1)\n",
    "    #y_test=np.argmax(y_test, axis=1)\n",
    "    #y_val=np.argmax(y_val, axis=1)\n",
    "    y_train_pred=np.argmax(model.predict(X_train),axis=1)\n",
    "    y_test_pred=np.argmax(model.predict(X_test),axis=1)\n",
    "    y_val_pred=np.argmax(model.predict(X_val),axis=1)\n",
    "    print(\"Train accuracy Score------------>\")\n",
    "    print (\"{0:.3f}\".format(accuracy_score(y_train, np.argmax(model.predict(X_train), axis = 1))*100), \"%\")\n",
    "    \n",
    "    print(\"Val accuracy Score--------->\")\n",
    "    #val_pred = np.argmax(model.predict(X_val), axis = 1)\n",
    "    print(\"{0:.3f}\".format(accuracy_score(y_val, y_val_pred)*100), \"%\")\n",
    "    \n",
    "    #predicted =  np.argmax(model.predict(X_test), axis = 1)\n",
    "    print(\"Test accuracy Score--------->\")\n",
    "    print(\"{0:.3f}\".format(accuracy_score(y_test, y_test_pred)*100), \"%\")\n",
    "    \n",
    "    print(\"F1 Score--------------->\")\n",
    "    print(\"{0:.3f}\".format(f1_score(y_test, y_test_pred, average = 'weighted')*100), \"%\")\n",
    "    \n",
    "    print(\"Cohen Kappa Score------------->\")\n",
    "    print(\"{0:.3f}\".format(cohen_kappa_score(y_test, y_test_pred)*100), \"%\")\n",
    "    \n",
    "    print(\"Recall-------------->\")\n",
    "    print(\"{0:.3f}\".format(recall_score(y_test, y_test_pred, average = 'weighted')*100), \"%\")\n",
    "    \n",
    "    print(\"Precision-------------->\")\n",
    "    print(\"{0:.3f}\".format(precision_score(y_test, y_test_pred, average = 'weighted')*100), \"%\")\n",
    "    \n",
    "    cf_matrix_test = confusion_matrix(y_test, y_test_pred)\n",
    "    cf_matrix_val = confusion_matrix(y_val, y_val_pred)\n",
    "    \n",
    "    plt.figure(figsize = (12, 6))\n",
    "    plt.subplot(121)\n",
    "    sns.heatmap(cf_matrix_val, annot=True, cmap='Blues')\n",
    "    plt.title(\"Val Confusion matrix\")\n",
    "    \n",
    "    plt.subplot(122)\n",
    "    sns.heatmap(cf_matrix_test, annot=True, cmap='Blues')\n",
    "    plt.title(\"Test Confusion matrix\")\n",
    "    \n",
    "    plt.show()\n",
    "    print(\"classification report\")\n",
    "    print(classification_report(y_val, y_val_pred))"
   ]
  },
  {
   "cell_type": "code",
   "execution_count": 12,
   "id": "7cea01b1",
   "metadata": {
    "execution": {
     "iopub.execute_input": "2022-05-25T19:33:07.456142Z",
     "iopub.status.busy": "2022-05-25T19:33:07.455094Z",
     "iopub.status.idle": "2022-05-25T19:33:07.472067Z",
     "shell.execute_reply": "2022-05-25T19:33:07.470974Z"
    },
    "papermill": {
     "duration": 0.029883,
     "end_time": "2022-05-25T19:33:07.474452",
     "exception": false,
     "start_time": "2022-05-25T19:33:07.444569",
     "status": "completed"
    },
    "tags": []
   },
   "outputs": [],
   "source": [
    "def fit_KNN_metrics(model, X_train, y_train, X_val, y_val, X_test, y_test):\n",
    "    pca = PCA(n_components=1000)\n",
    "    #pca = PCA(n_components=130)\n",
    "    randlist = random.sample(range(0, X_train.shape[0]), 1000)\n",
    "    #randlist = random.sample(range(0, X_train.shape[0]), 90)\n",
    "    if(X_train.shape[1] > 10000):\n",
    "    #if(X_train.shape[1] > 100):\n",
    "        X_train = pca.fit_transform(X_train)\n",
    "        X_val = pca.transform(X_val)\n",
    "        X_test = pca.transform(X_test)\n",
    "\n",
    "    model.fit(X_train, y_train)\n",
    "    get_accuracy_metrics(model, X_train[randlist, :], y_train[randlist], X_val, y_val, X_test, y_test)\n",
    "\n",
    "def get_accuracy_metrics(model, X_train, y_train, X_val, y_val, X_test, y_test):\n",
    "    print(\"Train accuracy Score------------>\")\n",
    "    print (\"{0:.3f}\".format(accuracy_score(y_train, model.predict(X_train))*100), \"%\")\n",
    "    \n",
    "    print(\"Val accuracy Score--------->\")\n",
    "    val_pred = model.predict(X_val)\n",
    "    print(\"{0:.3f}\".format(accuracy_score(y_val, val_pred)*100), \"%\")\n",
    "    \n",
    "    predicted =  model.predict(X_test)\n",
    "    print(\"Test accuracy Score--------->\")\n",
    "    print(\"{0:.3f}\".format(accuracy_score(y_test, predicted)*100), \"%\")\n",
    "    \n",
    "    print(\"F1 Score--------------->\")\n",
    "    print(\"{0:.3f}\".format(f1_score(y_test, predicted, average = 'weighted')*100), \"%\")\n",
    "    \n",
    "    print(\"Cohen Kappa Score------------->\")\n",
    "    print(\"{0:.3f}\".format(cohen_kappa_score(y_test, predicted)*100), \"%\")\n",
    "    \n",
    "    print(\"Recall-------------->\")\n",
    "    print(\"{0:.3f}\".format(recall_score(y_test, predicted, average = 'weighted')*100), \"%\")\n",
    "    \n",
    "    print(\"Precision-------------->\")\n",
    "    print(\"{0:.3f}\".format(precision_score(y_test, predicted, average = 'weighted')*100), \"%\")\n",
    "    \n",
    "    cf_matrix_test = confusion_matrix(y_test, predicted)\n",
    "    cf_matrix_val = confusion_matrix(y_val, val_pred)\n",
    "    \n",
    "    plt.figure(figsize = (12, 6))\n",
    "    plt.subplot(121)\n",
    "    sns.heatmap(cf_matrix_val, annot=True, cmap='Blues')\n",
    "    plt.title(\"Val Confusion matrix\")\n",
    "    \n",
    "    plt.subplot(122)\n",
    "    sns.heatmap(cf_matrix_test, annot=True, cmap='Blues')\n",
    "    plt.title(\"Test Confusion matrix\")\n",
    "    \n",
    "    plt.show()\n",
    "    print(\"classification report\")\n",
    "    print(classification_report(y_val, val_pred))"
   ]
  },
  {
   "cell_type": "markdown",
   "id": "bcb707cd",
   "metadata": {
    "papermill": {
     "duration": 0.009161,
     "end_time": "2022-05-25T19:33:07.493002",
     "exception": false,
     "start_time": "2022-05-25T19:33:07.483841",
     "status": "completed"
    },
    "tags": []
   },
   "source": [
    "# Mobilenet"
   ]
  },
  {
   "cell_type": "code",
   "execution_count": 13,
   "id": "815bd09d",
   "metadata": {
    "execution": {
     "iopub.execute_input": "2022-05-25T19:33:07.513975Z",
     "iopub.status.busy": "2022-05-25T19:33:07.513502Z",
     "iopub.status.idle": "2022-05-25T19:33:08.499703Z",
     "shell.execute_reply": "2022-05-25T19:33:08.498199Z"
    },
    "papermill": {
     "duration": 1.001187,
     "end_time": "2022-05-25T19:33:08.503596",
     "exception": false,
     "start_time": "2022-05-25T19:33:07.502409",
     "status": "completed"
    },
    "tags": []
   },
   "outputs": [
    {
     "name": "stderr",
     "output_type": "stream",
     "text": [
      "2022-05-25 19:33:07.576350: I tensorflow/core/common_runtime/process_util.cc:146] Creating new thread pool with default inter op setting: 2. Tune using inter_op_parallelism_threads for best performance.\n"
     ]
    },
    {
     "name": "stdout",
     "output_type": "stream",
     "text": [
      "Downloading data from https://storage.googleapis.com/tensorflow/keras-applications/vgg16/vgg16_weights_tf_dim_ordering_tf_kernels_notop.h5\n",
      "58892288/58889256 [==============================] - 0s 0us/step\n",
      "58900480/58889256 [==============================] - 0s 0us/step\n",
      "Model: \"model\"\n",
      "_________________________________________________________________\n",
      "Layer (type)                 Output Shape              Param #   \n",
      "=================================================================\n",
      "input_1 (InputLayer)         [(None, 224, 224, 3)]     0         \n",
      "_________________________________________________________________\n",
      "block1_conv1 (Conv2D)        (None, 224, 224, 64)      1792      \n",
      "_________________________________________________________________\n",
      "block1_conv2 (Conv2D)        (None, 224, 224, 64)      36928     \n",
      "_________________________________________________________________\n",
      "block1_pool (MaxPooling2D)   (None, 112, 112, 64)      0         \n",
      "_________________________________________________________________\n",
      "block2_conv1 (Conv2D)        (None, 112, 112, 128)     73856     \n",
      "_________________________________________________________________\n",
      "block2_conv2 (Conv2D)        (None, 112, 112, 128)     147584    \n",
      "_________________________________________________________________\n",
      "block2_pool (MaxPooling2D)   (None, 56, 56, 128)       0         \n",
      "_________________________________________________________________\n",
      "block3_conv1 (Conv2D)        (None, 56, 56, 256)       295168    \n",
      "_________________________________________________________________\n",
      "block3_conv2 (Conv2D)        (None, 56, 56, 256)       590080    \n",
      "_________________________________________________________________\n",
      "block3_conv3 (Conv2D)        (None, 56, 56, 256)       590080    \n",
      "_________________________________________________________________\n",
      "block3_pool (MaxPooling2D)   (None, 28, 28, 256)       0         \n",
      "_________________________________________________________________\n",
      "block4_conv1 (Conv2D)        (None, 28, 28, 512)       1180160   \n",
      "_________________________________________________________________\n",
      "block4_conv2 (Conv2D)        (None, 28, 28, 512)       2359808   \n",
      "_________________________________________________________________\n",
      "block4_conv3 (Conv2D)        (None, 28, 28, 512)       2359808   \n",
      "_________________________________________________________________\n",
      "block4_pool (MaxPooling2D)   (None, 14, 14, 512)       0         \n",
      "_________________________________________________________________\n",
      "block5_conv1 (Conv2D)        (None, 14, 14, 512)       2359808   \n",
      "_________________________________________________________________\n",
      "block5_conv2 (Conv2D)        (None, 14, 14, 512)       2359808   \n",
      "_________________________________________________________________\n",
      "block5_conv3 (Conv2D)        (None, 14, 14, 512)       2359808   \n",
      "_________________________________________________________________\n",
      "block5_pool (MaxPooling2D)   (None, 7, 7, 512)         0         \n",
      "=================================================================\n",
      "Total params: 14,714,688\n",
      "Trainable params: 0\n",
      "Non-trainable params: 14,714,688\n",
      "_________________________________________________________________\n"
     ]
    }
   ],
   "source": [
    "from keras.applications.vgg16 import VGG16\n",
    "base_model = VGG16(include_top=False, input_shape=(img_size, img_size, 3), weights='imagenet')\n",
    "#base_model = VGG16(include_top=False, input_shape=(img_size, img_size, 2), weights='imagenet')\n",
    "\n",
    "\n",
    "for layer in base_model.layers:\n",
    "    layer.trainable = False\n",
    "                   \n",
    "model = Model(inputs=base_model.input, outputs=base_model.layers[-1].output)\n",
    "model.summary()"
   ]
  },
  {
   "cell_type": "markdown",
   "id": "5c9f8208",
   "metadata": {
    "papermill": {
     "duration": 0.009984,
     "end_time": "2022-05-25T19:33:08.524431",
     "exception": false,
     "start_time": "2022-05-25T19:33:08.514447",
     "status": "completed"
    },
    "tags": []
   },
   "source": [
    "# here is the input place of data"
   ]
  },
  {
   "cell_type": "code",
   "execution_count": 14,
   "id": "5db17c40",
   "metadata": {
    "execution": {
     "iopub.execute_input": "2022-05-25T19:33:08.546787Z",
     "iopub.status.busy": "2022-05-25T19:33:08.546319Z",
     "iopub.status.idle": "2022-05-25T19:33:08.552528Z",
     "shell.execute_reply": "2022-05-25T19:33:08.551228Z"
    },
    "papermill": {
     "duration": 0.020026,
     "end_time": "2022-05-25T19:33:08.554842",
     "exception": false,
     "start_time": "2022-05-25T19:33:08.534816",
     "status": "completed"
    },
    "tags": []
   },
   "outputs": [
    {
     "name": "stdout",
     "output_type": "stream",
     "text": [
      "(600, 224, 224, 3)\n"
     ]
    }
   ],
   "source": [
    "print(X_test_original.shape)"
   ]
  },
  {
   "cell_type": "code",
   "execution_count": 15,
   "id": "0720451b",
   "metadata": {
    "execution": {
     "iopub.execute_input": "2022-05-25T19:33:08.578336Z",
     "iopub.status.busy": "2022-05-25T19:33:08.577544Z",
     "iopub.status.idle": "2022-05-25T19:41:41.533017Z",
     "shell.execute_reply": "2022-05-25T19:41:41.531824Z"
    },
    "papermill": {
     "duration": 512.980227,
     "end_time": "2022-05-25T19:41:41.545541",
     "exception": false,
     "start_time": "2022-05-25T19:33:08.565314",
     "status": "completed"
    },
    "tags": []
   },
   "outputs": [
    {
     "name": "stderr",
     "output_type": "stream",
     "text": [
      "2022-05-25 19:33:08.857027: I tensorflow/compiler/mlir/mlir_graph_optimization_pass.cc:185] None of the MLIR Optimization Passes are enabled (registered 2)\n"
     ]
    },
    {
     "name": "stdout",
     "output_type": "stream",
     "text": [
      "Shape of X_train-----> (1400, 7, 7, 512)\n",
      "Shape of X_val-----> (420, 7, 7, 512)\n",
      "Shape of X_test-----> (180, 7, 7, 512)\n"
     ]
    }
   ],
   "source": [
    "\n",
    "X_train, X_val, X_test, y_train, y_val, y_test = get_features2(model, X_train_original, y_train_original, X_test_original, y_test_original)\n",
    "\n",
    "#def get_features2(base_model, X_train1, y_train1, X_test1, y_test1):"
   ]
  },
  {
   "cell_type": "code",
   "execution_count": 16,
   "id": "84d38759",
   "metadata": {
    "execution": {
     "iopub.execute_input": "2022-05-25T19:41:41.569403Z",
     "iopub.status.busy": "2022-05-25T19:41:41.568887Z",
     "iopub.status.idle": "2022-05-25T19:41:41.575068Z",
     "shell.execute_reply": "2022-05-25T19:41:41.574030Z"
    },
    "papermill": {
     "duration": 0.02128,
     "end_time": "2022-05-25T19:41:41.577826",
     "exception": false,
     "start_time": "2022-05-25T19:41:41.556546",
     "status": "completed"
    },
    "tags": []
   },
   "outputs": [
    {
     "name": "stdout",
     "output_type": "stream",
     "text": [
      "(1400,)\n",
      "(180,)\n",
      "(420,)\n"
     ]
    }
   ],
   "source": [
    "print(y_train.shape)\n",
    "print(y_test.shape)\n",
    "print(y_val.shape)"
   ]
  },
  {
   "cell_type": "code",
   "execution_count": 17,
   "id": "5d714488",
   "metadata": {
    "execution": {
     "iopub.execute_input": "2022-05-25T19:41:41.602337Z",
     "iopub.status.busy": "2022-05-25T19:41:41.601826Z",
     "iopub.status.idle": "2022-05-25T19:45:02.473499Z",
     "shell.execute_reply": "2022-05-25T19:45:02.471655Z"
    },
    "papermill": {
     "duration": 200.88704,
     "end_time": "2022-05-25T19:45:02.476493",
     "exception": false,
     "start_time": "2022-05-25T19:41:41.589453",
     "status": "completed"
    },
    "tags": []
   },
   "outputs": [
    {
     "name": "stdout",
     "output_type": "stream",
     "text": [
      "Shape after reshaping------->\n",
      "X train-------> (1400, 25088)\n",
      "X val--------> (420, 25088)\n",
      "X test--------> (180, 25088)\n",
      "Defined------->\n",
      "ANN --------> (4096x4096x2096x2)\n",
      "KNeighborsClassifier()\n",
      "SVC(kernel = 'linear')\n",
      "RandomForestClassifier(n_estimators = 50)\n",
      "AdaBoostClassifier()\n",
      "XGBClassifier(n_estimators = 50)\n",
      "Epoch 1/10\n",
      "44/44 [==============================] - 21s 432ms/step - loss: 1.3456 - accuracy: 0.8607 - val_loss: 0.7390 - val_accuracy: 0.8881\n",
      "Epoch 2/10\n",
      "44/44 [==============================] - 22s 505ms/step - loss: 0.1547 - accuracy: 0.9386 - val_loss: 0.6712 - val_accuracy: 0.8929\n",
      "Epoch 3/10\n",
      "44/44 [==============================] - 19s 436ms/step - loss: 0.0483 - accuracy: 0.9821 - val_loss: 0.7572 - val_accuracy: 0.9095\n",
      "Epoch 4/10\n",
      "44/44 [==============================] - 18s 410ms/step - loss: 0.0280 - accuracy: 0.9900 - val_loss: 0.7064 - val_accuracy: 0.9262\n",
      "Epoch 5/10\n",
      "44/44 [==============================] - 19s 422ms/step - loss: 0.0734 - accuracy: 0.9757 - val_loss: 0.3647 - val_accuracy: 0.9238\n",
      "Epoch 6/10\n",
      "44/44 [==============================] - 18s 420ms/step - loss: 0.0229 - accuracy: 0.9914 - val_loss: 0.5229 - val_accuracy: 0.9190\n",
      "Epoch 7/10\n",
      "44/44 [==============================] - 18s 419ms/step - loss: 0.0220 - accuracy: 0.9914 - val_loss: 0.4171 - val_accuracy: 0.9238\n",
      "Epoch 8/10\n",
      "44/44 [==============================] - 18s 413ms/step - loss: 0.0080 - accuracy: 0.9979 - val_loss: 0.4872 - val_accuracy: 0.9214\n",
      "Epoch 9/10\n",
      "44/44 [==============================] - 18s 419ms/step - loss: 0.0126 - accuracy: 0.9957 - val_loss: 0.4959 - val_accuracy: 0.9190\n",
      "Epoch 10/10\n",
      "44/44 [==============================] - 18s 415ms/step - loss: 0.0289 - accuracy: 0.9936 - val_loss: 0.4445 - val_accuracy: 0.9214\n",
      "Epoch 00010: early stopping\n"
     ]
    }
   ],
   "source": [
    "X_train, X_val, X_test = reshape_data(X_train, X_val, X_test)\n",
    "ANN, KNN, SVM, RF, ADB, XGB = get_models()\n",
    "\n",
    "ANN = fit_ANN(ANN, X_train, y_train, X_val, y_val)"
   ]
  },
  {
   "cell_type": "code",
   "execution_count": 18,
   "id": "aff43e75",
   "metadata": {
    "execution": {
     "iopub.execute_input": "2022-05-25T19:45:02.565147Z",
     "iopub.status.busy": "2022-05-25T19:45:02.564460Z",
     "iopub.status.idle": "2022-05-25T19:45:20.070213Z",
     "shell.execute_reply": "2022-05-25T19:45:20.069012Z"
    },
    "papermill": {
     "duration": 17.553681,
     "end_time": "2022-05-25T19:45:20.073210",
     "exception": false,
     "start_time": "2022-05-25T19:45:02.519529",
     "status": "completed"
    },
    "tags": []
   },
   "outputs": [
    {
     "name": "stdout",
     "output_type": "stream",
     "text": [
      "Model: \"sequential\"\n",
      "_________________________________________________________________\n",
      "Layer (type)                 Output Shape              Param #   \n",
      "=================================================================\n",
      "dense (Dense)                (None, 4096)              102764544 \n",
      "_________________________________________________________________\n",
      "batch_normalization (BatchNo (None, 4096)              16384     \n",
      "_________________________________________________________________\n",
      "dense_1 (Dense)              (None, 4096)              16781312  \n",
      "_________________________________________________________________\n",
      "dropout (Dropout)            (None, 4096)              0         \n",
      "_________________________________________________________________\n",
      "dense_2 (Dense)              (None, 2096)              8587312   \n",
      "_________________________________________________________________\n",
      "dense_3 (Dense)              (None, 2)                 4194      \n",
      "=================================================================\n",
      "Total params: 128,153,746\n",
      "Trainable params: 128,145,554\n",
      "Non-trainable params: 8,192\n",
      "_________________________________________________________________\n",
      "Train accuracy Score------------>\n",
      "98.643 %\n",
      "Val accuracy Score--------->\n",
      "92.143 %\n",
      "Test accuracy Score--------->\n",
      "93.889 %\n",
      "F1 Score--------------->\n",
      "94.014 %\n",
      "Cohen Kappa Score------------->\n",
      "77.713 %\n",
      "Recall-------------->\n",
      "93.889 %\n",
      "Precision-------------->\n",
      "94.220 %\n"
     ]
    },
    {
     "data": {
      "image/png": "[encoded data removed]",
      "text/plain": [
       "<Figure size 864x432 with 4 Axes>"
      ]
     },
     "metadata": {
      "needs_background": "light"
     },
     "output_type": "display_data"
    },
    {
     "name": "stdout",
     "output_type": "stream",
     "text": [
      "classification report\n",
      "              precision    recall  f1-score   support\n",
      "\n",
      "           0       0.97      0.94      0.95       357\n",
      "           1       0.70      0.83      0.76        63\n",
      "\n",
      "    accuracy                           0.92       420\n",
      "   macro avg       0.84      0.88      0.86       420\n",
      "weighted avg       0.93      0.92      0.92       420\n",
      "\n"
     ]
    }
   ],
   "source": [
    "get_accuracy_metrics_for_ANN(ANN, X_train, y_train, X_val, y_val, X_test, y_test)"
   ]
  },
  {
   "cell_type": "code",
   "execution_count": 19,
   "id": "9a6bcc77",
   "metadata": {
    "execution": {
     "iopub.execute_input": "2022-05-25T19:45:20.162561Z",
     "iopub.status.busy": "2022-05-25T19:45:20.161587Z",
     "iopub.status.idle": "2022-05-25T19:45:20.797530Z",
     "shell.execute_reply": "2022-05-25T19:45:20.796355Z"
    },
    "papermill": {
     "duration": 0.6834,
     "end_time": "2022-05-25T19:45:20.800084",
     "exception": false,
     "start_time": "2022-05-25T19:45:20.116684",
     "status": "completed"
    },
    "tags": []
   },
   "outputs": [],
   "source": [
    "scaler = StandardScaler()\n",
    "X_train_scaled = scaler.fit_transform(X_train)\n",
    "X_val_scaled = scaler.transform(X_val)\n",
    "X_test_scaled = scaler.transform(X_test)"
   ]
  },
  {
   "cell_type": "code",
   "execution_count": 20,
   "id": "2c45fb5d",
   "metadata": {
    "execution": {
     "iopub.execute_input": "2022-05-25T19:45:20.889419Z",
     "iopub.status.busy": "2022-05-25T19:45:20.888305Z",
     "iopub.status.idle": "2022-05-25T19:45:45.689015Z",
     "shell.execute_reply": "2022-05-25T19:45:45.687178Z"
    },
    "papermill": {
     "duration": 24.84936,
     "end_time": "2022-05-25T19:45:45.692643",
     "exception": false,
     "start_time": "2022-05-25T19:45:20.843283",
     "status": "completed"
    },
    "tags": []
   },
   "outputs": [
    {
     "name": "stdout",
     "output_type": "stream",
     "text": [
      "Train accuracy Score------------>\n",
      "100.000 %\n",
      "Val accuracy Score--------->\n",
      "92.381 %\n",
      "Test accuracy Score--------->\n",
      "95.556 %\n",
      "F1 Score--------------->\n",
      "95.488 %\n",
      "Cohen Kappa Score------------->\n",
      "82.575 %\n",
      "Recall-------------->\n",
      "95.556 %\n",
      "Precision-------------->\n",
      "95.463 %\n"
     ]
    },
    {
     "data": {
      "image/png": "[encoded data removed]",
      "text/plain": [
       "<Figure size 864x432 with 4 Axes>"
      ]
     },
     "metadata": {
      "needs_background": "light"
     },
     "output_type": "display_data"
    },
    {
     "name": "stdout",
     "output_type": "stream",
     "text": [
      "classification report\n",
      "              precision    recall  f1-score   support\n",
      "\n",
      "           0       0.94      0.97      0.96       357\n",
      "           1       0.79      0.67      0.72        63\n",
      "\n",
      "    accuracy                           0.92       420\n",
      "   macro avg       0.87      0.82      0.84       420\n",
      "weighted avg       0.92      0.92      0.92       420\n",
      "\n"
     ]
    }
   ],
   "source": [
    "SVM = fit_model(SVM, X_train_scaled, y_train)\n",
    "get_accuracy_metrics(SVM, X_train_scaled, y_train, X_val_scaled, y_val, X_test_scaled, y_test)"
   ]
  },
  {
   "cell_type": "code",
   "execution_count": 21,
   "id": "0a826dcb",
   "metadata": {
    "execution": {
     "iopub.execute_input": "2022-05-25T19:45:45.784258Z",
     "iopub.status.busy": "2022-05-25T19:45:45.783572Z",
     "iopub.status.idle": "2022-05-25T19:45:49.620842Z",
     "shell.execute_reply": "2022-05-25T19:45:49.619431Z"
    },
    "papermill": {
     "duration": 3.88594,
     "end_time": "2022-05-25T19:45:49.623419",
     "exception": false,
     "start_time": "2022-05-25T19:45:45.737479",
     "status": "completed"
    },
    "tags": []
   },
   "outputs": [
    {
     "name": "stdout",
     "output_type": "stream",
     "text": [
      "Train accuracy Score------------>\n",
      "100.000 %\n",
      "Val accuracy Score--------->\n",
      "88.571 %\n",
      "Test accuracy Score--------->\n",
      "90.000 %\n",
      "F1 Score--------------->\n",
      "87.911 %\n",
      "Cohen Kappa Score------------->\n",
      "48.408 %\n",
      "Recall-------------->\n",
      "90.000 %\n",
      "Precision-------------->\n",
      "91.059 %\n"
     ]
    },
    {
     "data": {
      "image/png": "[encoded data removed]",
      "text/plain": [
       "<Figure size 864x432 with 4 Axes>"
      ]
     },
     "metadata": {
      "needs_background": "light"
     },
     "output_type": "display_data"
    },
    {
     "name": "stdout",
     "output_type": "stream",
     "text": [
      "classification report\n",
      "              precision    recall  f1-score   support\n",
      "\n",
      "           0       0.89      0.98      0.94       357\n",
      "           1       0.78      0.33      0.47        63\n",
      "\n",
      "    accuracy                           0.89       420\n",
      "   macro avg       0.84      0.66      0.70       420\n",
      "weighted avg       0.88      0.89      0.87       420\n",
      "\n"
     ]
    }
   ],
   "source": [
    "RF = fit_model(RF, X_train, y_train)\n",
    "get_accuracy_metrics(RF,  X_train, y_train, X_val, y_val, X_test, y_test)"
   ]
  },
  {
   "cell_type": "code",
   "execution_count": 22,
   "id": "af843902",
   "metadata": {
    "execution": {
     "iopub.execute_input": "2022-05-25T19:45:49.717846Z",
     "iopub.status.busy": "2022-05-25T19:45:49.716524Z",
     "iopub.status.idle": "2022-05-25T19:46:31.802932Z",
     "shell.execute_reply": "2022-05-25T19:46:31.801659Z"
    },
    "papermill": {
     "duration": 42.136549,
     "end_time": "2022-05-25T19:46:31.805942",
     "exception": false,
     "start_time": "2022-05-25T19:45:49.669393",
     "status": "completed"
    },
    "tags": []
   },
   "outputs": [
    {
     "name": "stdout",
     "output_type": "stream",
     "text": [
      "Train accuracy Score------------>\n",
      "98.571 %\n",
      "Val accuracy Score--------->\n",
      "89.048 %\n",
      "Test accuracy Score--------->\n",
      "92.778 %\n",
      "F1 Score--------------->\n",
      "92.021 %\n",
      "Cohen Kappa Score------------->\n",
      "67.264 %\n",
      "Recall-------------->\n",
      "92.778 %\n",
      "Precision-------------->\n",
      "92.868 %\n"
     ]
    },
    {
     "data": {
      "image/png": "[encoded data removed]",
      "text/plain": [
       "<Figure size 864x432 with 4 Axes>"
      ]
     },
     "metadata": {
      "needs_background": "light"
     },
     "output_type": "display_data"
    },
    {
     "name": "stdout",
     "output_type": "stream",
     "text": [
      "classification report\n",
      "              precision    recall  f1-score   support\n",
      "\n",
      "           0       0.92      0.96      0.94       357\n",
      "           1       0.68      0.51      0.58        63\n",
      "\n",
      "    accuracy                           0.89       420\n",
      "   macro avg       0.80      0.73      0.76       420\n",
      "weighted avg       0.88      0.89      0.88       420\n",
      "\n"
     ]
    }
   ],
   "source": [
    "ADB = fit_model(ADB, X_train, y_train)\n",
    "get_accuracy_metrics(ADB,  X_train, y_train, X_val, y_val, X_test, y_test)"
   ]
  },
  {
   "cell_type": "code",
   "execution_count": 23,
   "id": "deb044f2",
   "metadata": {
    "execution": {
     "iopub.execute_input": "2022-05-25T19:46:31.900295Z",
     "iopub.status.busy": "2022-05-25T19:46:31.899660Z",
     "iopub.status.idle": "2022-05-25T19:47:06.216449Z",
     "shell.execute_reply": "2022-05-25T19:47:06.215333Z"
    },
    "papermill": {
     "duration": 34.366607,
     "end_time": "2022-05-25T19:47:06.219136",
     "exception": false,
     "start_time": "2022-05-25T19:46:31.852529",
     "status": "completed"
    },
    "tags": []
   },
   "outputs": [
    {
     "name": "stdout",
     "output_type": "stream",
     "text": [
      "Train accuracy Score------------>\n",
      "100.000 %\n",
      "Val accuracy Score--------->\n",
      "90.714 %\n",
      "Test accuracy Score--------->\n",
      "92.222 %\n",
      "F1 Score--------------->\n",
      "91.309 %\n",
      "Cohen Kappa Score------------->\n",
      "64.123 %\n",
      "Recall-------------->\n",
      "92.222 %\n",
      "Precision-------------->\n",
      "92.334 %\n"
     ]
    },
    {
     "data": {
      "image/png": "[encoded data removed]",
      "text/plain": [
       "<Figure size 864x432 with 4 Axes>"
      ]
     },
     "metadata": {
      "needs_background": "light"
     },
     "output_type": "display_data"
    },
    {
     "name": "stdout",
     "output_type": "stream",
     "text": [
      "classification report\n",
      "              precision    recall  f1-score   support\n",
      "\n",
      "           0       0.92      0.98      0.95       357\n",
      "           1       0.80      0.51      0.62        63\n",
      "\n",
      "    accuracy                           0.91       420\n",
      "   macro avg       0.86      0.74      0.78       420\n",
      "weighted avg       0.90      0.91      0.90       420\n",
      "\n"
     ]
    }
   ],
   "source": [
    "XGB = fit_model(XGB, X_train, y_train)\n",
    "get_accuracy_metrics(XGB,  X_train, y_train, X_val, y_val, X_test, y_test)"
   ]
  },
  {
   "cell_type": "code",
   "execution_count": 24,
   "id": "8e1758c7",
   "metadata": {
    "execution": {
     "iopub.execute_input": "2022-05-25T19:47:06.313878Z",
     "iopub.status.busy": "2022-05-25T19:47:06.313424Z",
     "iopub.status.idle": "2022-05-25T19:47:20.168412Z",
     "shell.execute_reply": "2022-05-25T19:47:20.167420Z"
    },
    "papermill": {
     "duration": 13.905376,
     "end_time": "2022-05-25T19:47:20.171108",
     "exception": false,
     "start_time": "2022-05-25T19:47:06.265732",
     "status": "completed"
    },
    "tags": []
   },
   "outputs": [
    {
     "name": "stdout",
     "output_type": "stream",
     "text": [
      "Train accuracy Score------------>\n",
      "89.000 %\n",
      "Val accuracy Score--------->\n",
      "86.190 %\n",
      "Test accuracy Score--------->\n",
      "85.556 %\n",
      "F1 Score--------------->\n",
      "81.370 %\n",
      "Cohen Kappa Score------------->\n",
      "19.087 %\n",
      "Recall-------------->\n",
      "85.556 %\n",
      "Precision-------------->\n",
      "83.167 %\n"
     ]
    },
    {
     "data": {
      "image/png": "[encoded data removed]",
      "text/plain": [
       "<Figure size 864x432 with 4 Axes>"
      ]
     },
     "metadata": {
      "needs_background": "light"
     },
     "output_type": "display_data"
    },
    {
     "name": "stdout",
     "output_type": "stream",
     "text": [
      "classification report\n",
      "              precision    recall  f1-score   support\n",
      "\n",
      "           0       0.87      0.99      0.92       357\n",
      "           1       0.73      0.13      0.22        63\n",
      "\n",
      "    accuracy                           0.86       420\n",
      "   macro avg       0.80      0.56      0.57       420\n",
      "weighted avg       0.84      0.86      0.82       420\n",
      "\n"
     ]
    }
   ],
   "source": [
    "fit_KNN_metrics(KNN, X_train_scaled, y_train, X_val_scaled, y_val, X_test_scaled, y_test)"
   ]
  }
 ],
 "metadata": {
  "kernelspec": {
   "display_name": "Python 3",
   "language": "python",
   "name": "python3"
  },
  "language_info": {
   "codemirror_mode": {
    "name": "ipython",
    "version": 3
   },
   "file_extension": ".py",
   "mimetype": "text/x-python",
   "name": "python",
   "nbconvert_exporter": "python",
   "pygments_lexer": "ipython3",
   "version": "3.7.12"
  },
  "papermill": {
   "default_parameters": {},
   "duration": 965.384498,
   "end_time": "2022-05-25T19:47:23.704224",
   "environment_variables": {},
   "exception": null,
   "input_path": "__notebook__.ipynb",
   "output_path": "__notebook__.ipynb",
   "parameters": {},
   "start_time": "2022-05-25T19:31:18.319726",
   "version": "2.3.4"
  }
 },
 "nbformat": 4,
 "nbformat_minor": 5
}
