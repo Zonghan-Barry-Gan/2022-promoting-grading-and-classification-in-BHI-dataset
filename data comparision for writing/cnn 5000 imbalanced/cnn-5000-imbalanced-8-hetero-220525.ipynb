{
 "cells": [
  {
   "cell_type": "code",
   "execution_count": 1,
   "id": "a738d2ff",
   "metadata": {
    "_cell_guid": "b1076dfc-b9ad-4769-8c92-a6c4dae69d19",
    "_uuid": "8f2839f25d086af736a60e9eeb907d3b93b6e0e5",
    "execution": {
     "iopub.execute_input": "2022-05-25T20:38:53.060079Z",
     "iopub.status.busy": "2022-05-25T20:38:53.058697Z",
     "iopub.status.idle": "2022-05-25T20:39:05.835982Z",
     "shell.execute_reply": "2022-05-25T20:39:05.835075Z"
    },
    "papermill": {
     "duration": 12.792536,
     "end_time": "2022-05-25T20:39:05.838350",
     "exception": false,
     "start_time": "2022-05-25T20:38:53.045814",
     "status": "completed"
    },
    "tags": []
   },
   "outputs": [
    {
     "name": "stdout",
     "output_type": "stream",
     "text": [
      "Collecting Livelossplot\r\n",
      "  Downloading livelossplot-0.5.5-py3-none-any.whl (22 kB)\r\n",
      "Requirement already satisfied: bokeh in /opt/conda/lib/python3.7/site-packages (from Livelossplot) (2.4.3)\r\n",
      "Requirement already satisfied: ipython==7.* in /opt/conda/lib/python3.7/site-packages (from Livelossplot) (7.33.0)\r\n",
      "Requirement already satisfied: numpy<1.22 in /opt/conda/lib/python3.7/site-packages (from Livelossplot) (1.21.6)\r\n",
      "Requirement already satisfied: matplotlib in /opt/conda/lib/python3.7/site-packages (from Livelossplot) (3.5.2)\r\n",
      "Requirement already satisfied: traitlets>=4.2 in /opt/conda/lib/python3.7/site-packages (from ipython==7.*->Livelossplot) (5.2.0)\r\n",
      "Requirement already satisfied: matplotlib-inline in /opt/conda/lib/python3.7/site-packages (from ipython==7.*->Livelossplot) (0.1.3)\r\n",
      "Requirement already satisfied: decorator in /opt/conda/lib/python3.7/site-packages (from ipython==7.*->Livelossplot) (5.1.1)\r\n",
      "Requirement already satisfied: backcall in /opt/conda/lib/python3.7/site-packages (from ipython==7.*->Livelossplot) (0.2.0)\r\n",
      "Requirement already satisfied: setuptools>=18.5 in /opt/conda/lib/python3.7/site-packages (from ipython==7.*->Livelossplot) (59.8.0)\r\n",
      "Requirement already satisfied: prompt-toolkit!=3.0.0,!=3.0.1,<3.1.0,>=2.0.0 in /opt/conda/lib/python3.7/site-packages (from ipython==7.*->Livelossplot) (3.0.29)\r\n",
      "Requirement already satisfied: pygments in /opt/conda/lib/python3.7/site-packages (from ipython==7.*->Livelossplot) (2.12.0)\r\n",
      "Requirement already satisfied: pexpect>4.3 in /opt/conda/lib/python3.7/site-packages (from ipython==7.*->Livelossplot) (4.8.0)\r\n",
      "Requirement already satisfied: jedi>=0.16 in /opt/conda/lib/python3.7/site-packages (from ipython==7.*->Livelossplot) (0.18.1)\r\n",
      "Requirement already satisfied: pickleshare in /opt/conda/lib/python3.7/site-packages (from ipython==7.*->Livelossplot) (0.7.5)\r\n",
      "Requirement already satisfied: tornado>=5.1 in /opt/conda/lib/python3.7/site-packages (from bokeh->Livelossplot) (6.1)\r\n",
      "Requirement already satisfied: PyYAML>=3.10 in /opt/conda/lib/python3.7/site-packages (from bokeh->Livelossplot) (6.0)\r\n",
      "Requirement already satisfied: packaging>=16.8 in /opt/conda/lib/python3.7/site-packages (from bokeh->Livelossplot) (21.3)\r\n",
      "Requirement already satisfied: Jinja2>=2.9 in /opt/conda/lib/python3.7/site-packages (from bokeh->Livelossplot) (3.1.2)\r\n",
      "Requirement already satisfied: pillow>=7.1.0 in /opt/conda/lib/python3.7/site-packages (from bokeh->Livelossplot) (9.1.0)\r\n",
      "Requirement already satisfied: typing-extensions>=3.10.0 in /opt/conda/lib/python3.7/site-packages (from bokeh->Livelossplot) (4.2.0)\r\n",
      "Requirement already satisfied: python-dateutil>=2.7 in /opt/conda/lib/python3.7/site-packages (from matplotlib->Livelossplot) (2.8.2)\r\n",
      "Requirement already satisfied: kiwisolver>=1.0.1 in /opt/conda/lib/python3.7/site-packages (from matplotlib->Livelossplot) (1.4.2)\r\n",
      "Requirement already satisfied: fonttools>=4.22.0 in /opt/conda/lib/python3.7/site-packages (from matplotlib->Livelossplot) (4.33.3)\r\n",
      "Requirement already satisfied: cycler>=0.10 in /opt/conda/lib/python3.7/site-packages (from matplotlib->Livelossplot) (0.11.0)\r\n",
      "Requirement already satisfied: pyparsing>=2.2.1 in /opt/conda/lib/python3.7/site-packages (from matplotlib->Livelossplot) (3.0.9)\r\n",
      "Requirement already satisfied: parso<0.9.0,>=0.8.0 in /opt/conda/lib/python3.7/site-packages (from jedi>=0.16->ipython==7.*->Livelossplot) (0.8.3)\r\n",
      "Requirement already satisfied: MarkupSafe>=2.0 in /opt/conda/lib/python3.7/site-packages (from Jinja2>=2.9->bokeh->Livelossplot) (2.0.1)\r\n",
      "Requirement already satisfied: ptyprocess>=0.5 in /opt/conda/lib/python3.7/site-packages (from pexpect>4.3->ipython==7.*->Livelossplot) (0.7.0)\r\n",
      "Requirement already satisfied: wcwidth in /opt/conda/lib/python3.7/site-packages (from prompt-toolkit!=3.0.0,!=3.0.1,<3.1.0,>=2.0.0->ipython==7.*->Livelossplot) (0.2.5)\r\n",
      "Requirement already satisfied: six>=1.5 in /opt/conda/lib/python3.7/site-packages (from python-dateutil>=2.7->matplotlib->Livelossplot) (1.16.0)\r\n",
      "Installing collected packages: Livelossplot\r\n",
      "Successfully installed Livelossplot-0.5.5\r\n",
      "\u001b[33mWARNING: Running pip as the 'root' user can result in broken permissions and conflicting behaviour with the system package manager. It is recommended to use a virtual environment instead: https://pip.pypa.io/warnings/venv\u001b[0m\u001b[33m\r\n",
      "\u001b[0m"
     ]
    }
   ],
   "source": [
    "# This Python 3 environment comes with many helpful analytics libraries installed\n",
    "# It is defined by the kaggle/python Docker image: https://github.com/kaggle/docker-python\n",
    "# For example, here's several helpful packages to load\n",
    "\n",
    "import numpy as np # linear algebra\n",
    "import pandas as pd # data processing, CSV file I/O (e.g. pd.read_csv)\n",
    "\n",
    "# Input data files are available in the read-only \"../input/\" directory\n",
    "# For example, running this (by clicking run or pressing Shift+Enter) will list all files under the input directory\n",
    "\n",
    "import os\n",
    "\n",
    "import warnings\n",
    "warnings.filterwarnings('ignore')\n",
    "%matplotlib inline\n",
    "!pip install Livelossplot\n",
    "from livelossplot import PlotLossesKeras\n",
    "\n",
    "from glob import glob\n",
    "import os\n",
    "import shutil\n",
    "\n",
    "import numpy as np\n",
    "import pandas as pd\n",
    "# You can write up to 20GB to the current directory (/kaggle/working/) that gets preserved as output when you create a version using \"Save & Run All\" \n",
    "# You can also write temporary files to /kaggle/temp/, but they won't be saved outside of the current session"
   ]
  },
  {
   "cell_type": "markdown",
   "id": "183b34cd",
   "metadata": {
    "papermill": {
     "duration": 0.009994,
     "end_time": "2022-05-25T20:39:05.859190",
     "exception": false,
     "start_time": "2022-05-25T20:39:05.849196",
     "status": "completed"
    },
    "tags": []
   },
   "source": [
    "# AIM\n",
    "## To classify the images into \n",
    "### IDC+\n",
    "### IDC-\n",
    "\n",
    "# Validation Strategy:\n",
    "\n",
    "\n",
    "# Augmentaions Used:\n",
    "## No Augmentation\n"
   ]
  },
  {
   "cell_type": "code",
   "execution_count": 2,
   "id": "c0a34ba9",
   "metadata": {
    "execution": {
     "iopub.execute_input": "2022-05-25T20:39:05.882617Z",
     "iopub.status.busy": "2022-05-25T20:39:05.881645Z",
     "iopub.status.idle": "2022-05-25T20:39:15.177065Z",
     "shell.execute_reply": "2022-05-25T20:39:15.175930Z"
    },
    "papermill": {
     "duration": 9.309418,
     "end_time": "2022-05-25T20:39:15.179373",
     "exception": false,
     "start_time": "2022-05-25T20:39:05.869955",
     "status": "completed"
    },
    "tags": []
   },
   "outputs": [
    {
     "data": {
      "text/html": [
       "<style type='text/css'>\n",
       ".datatable table.frame { margin-bottom: 0; }\n",
       ".datatable table.frame thead { border-bottom: none; }\n",
       ".datatable table.frame tr.coltypes td {  color: #FFFFFF;  line-height: 6px;  padding: 0 0.5em;}\n",
       ".datatable .bool    { background: #DDDD99; }\n",
       ".datatable .object  { background: #565656; }\n",
       ".datatable .int     { background: #5D9E5D; }\n",
       ".datatable .float   { background: #4040CC; }\n",
       ".datatable .str     { background: #CC4040; }\n",
       ".datatable .time    { background: #40CC40; }\n",
       ".datatable .row_index {  background: var(--jp-border-color3);  border-right: 1px solid var(--jp-border-color0);  color: var(--jp-ui-font-color3);  font-size: 9px;}\n",
       ".datatable .frame tbody td { text-align: left; }\n",
       ".datatable .frame tr.coltypes .row_index {  background: var(--jp-border-color0);}\n",
       ".datatable th:nth-child(2) { padding-left: 12px; }\n",
       ".datatable .hellipsis {  color: var(--jp-cell-editor-border-color);}\n",
       ".datatable .vellipsis {  background: var(--jp-layout-color0);  color: var(--jp-cell-editor-border-color);}\n",
       ".datatable .na {  color: var(--jp-cell-editor-border-color);  font-size: 80%;}\n",
       ".datatable .sp {  opacity: 0.25;}\n",
       ".datatable .footer { font-size: 9px; }\n",
       ".datatable .frame_dimensions {  background: var(--jp-border-color3);  border-top: 1px solid var(--jp-border-color0);  color: var(--jp-ui-font-color3);  display: inline-block;  opacity: 0.6;  padding: 1px 10px 1px 5px;}\n",
       "</style>\n"
      ],
      "text/plain": [
       "<IPython.core.display.HTML object>"
      ]
     },
     "metadata": {},
     "output_type": "display_data"
    },
    {
     "name": "stdout",
     "output_type": "stream",
     "text": [
      "All modules have been imported\n"
     ]
    }
   ],
   "source": [
    "\n",
    "import numpy as np\n",
    "import pandas as pd\n",
    "import cv2\n",
    "from PIL import Image\n",
    "import scipy\n",
    "\n",
    "import tensorflow as tf\n",
    "from tensorflow.keras.applications import *\n",
    "from tensorflow.keras.optimizers import *\n",
    "from tensorflow.keras.losses import *\n",
    "from tensorflow.keras.layers import *\n",
    "from tensorflow.keras.models import *\n",
    "from tensorflow.keras.callbacks import *\n",
    "from tensorflow.keras.preprocessing.image import *\n",
    "from tensorflow.keras.utils import *\n",
    "# import pydot\n",
    "\n",
    "from sklearn.metrics import *\n",
    "from sklearn.model_selection import *\n",
    "import tensorflow.keras.backend as K\n",
    "\n",
    "from tqdm import tqdm, tqdm_notebook\n",
    "from colorama import Fore\n",
    "import json\n",
    "import matplotlib.pyplot as plt\n",
    "import seaborn as sns\n",
    "from glob import glob\n",
    "from skimage.io import *\n",
    "%config Completer.use_jedi = False\n",
    "import time\n",
    "from sklearn.decomposition import PCA\n",
    "from sklearn.svm import LinearSVC\n",
    "from sklearn.linear_model import LogisticRegression\n",
    "from sklearn.metrics import accuracy_score\n",
    "import lightgbm as lgb\n",
    "import xgboost as xgb\n",
    "\n",
    "print(\"All modules have been imported\")"
   ]
  },
  {
   "cell_type": "code",
   "execution_count": 3,
   "id": "edcd5b21",
   "metadata": {
    "execution": {
     "iopub.execute_input": "2022-05-25T20:39:15.202486Z",
     "iopub.status.busy": "2022-05-25T20:39:15.202090Z",
     "iopub.status.idle": "2022-05-25T20:39:15.209187Z",
     "shell.execute_reply": "2022-05-25T20:39:15.208205Z"
    },
    "papermill": {
     "duration": 0.021046,
     "end_time": "2022-05-25T20:39:15.211239",
     "exception": false,
     "start_time": "2022-05-25T20:39:15.190193",
     "status": "completed"
    },
    "tags": []
   },
   "outputs": [],
   "source": [
    "import os\n",
    "os.makedirs('../working/data/train_seg/idc-minus/')     \n",
    "os.makedirs('../working/data/train_seg/idc-plus/')  \n",
    "os.makedirs('../working/data/test_seg/idc-minus/')     \n",
    "os.makedirs('../working/data/test_seg/idc-plus/')  \n",
    "os.makedirs('../working/data/val_seg/idc-minus/')     \n",
    "os.makedirs('../working/data/val_seg/idc-plus/')  "
   ]
  },
  {
   "cell_type": "code",
   "execution_count": 4,
   "id": "98e046ba",
   "metadata": {
    "execution": {
     "iopub.execute_input": "2022-05-25T20:39:15.234284Z",
     "iopub.status.busy": "2022-05-25T20:39:15.233609Z",
     "iopub.status.idle": "2022-05-25T20:39:15.238160Z",
     "shell.execute_reply": "2022-05-25T20:39:15.237421Z"
    },
    "papermill": {
     "duration": 0.018361,
     "end_time": "2022-05-25T20:39:15.240137",
     "exception": false,
     "start_time": "2022-05-25T20:39:15.221776",
     "status": "completed"
    },
    "tags": []
   },
   "outputs": [],
   "source": [
    "sampling_seed=0\n",
    "size_4_training=5000\n",
    "img_size=50\n",
    "epoch1=10\n",
    "epoch2=3\n",
    "training_reshape=(-1, img_size, img_size, 3)"
   ]
  },
  {
   "cell_type": "markdown",
   "id": "d83fbbe7",
   "metadata": {
    "papermill": {
     "duration": 0.010489,
     "end_time": "2022-05-25T20:39:15.261333",
     "exception": false,
     "start_time": "2022-05-25T20:39:15.250844",
     "status": "completed"
    },
    "tags": []
   },
   "source": [
    "Image labelling"
   ]
  },
  {
   "cell_type": "code",
   "execution_count": 5,
   "id": "cb06f7b3",
   "metadata": {
    "execution": {
     "iopub.execute_input": "2022-05-25T20:39:15.285270Z",
     "iopub.status.busy": "2022-05-25T20:39:15.284575Z",
     "iopub.status.idle": "2022-05-25T20:40:55.070241Z",
     "shell.execute_reply": "2022-05-25T20:40:55.069172Z"
    },
    "papermill": {
     "duration": 99.810905,
     "end_time": "2022-05-25T20:40:55.083183",
     "exception": false,
     "start_time": "2022-05-25T20:39:15.272278",
     "status": "completed"
    },
    "tags": []
   },
   "outputs": [
    {
     "name": "stdout",
     "output_type": "stream",
     "text": [
      "['../input/breast-histopathology-images/IDC_regular_ps50_idx5/10295/0/10295_idx5_x1351_y1101_class0.png', '../input/breast-histopathology-images/IDC_regular_ps50_idx5/10295/0/10295_idx5_x1501_y501_class0.png', '../input/breast-histopathology-images/IDC_regular_ps50_idx5/10295/0/10295_idx5_x1501_y1101_class0.png', '../input/breast-histopathology-images/IDC_regular_ps50_idx5/10295/0/10295_idx5_x451_y901_class0.png', '../input/breast-histopathology-images/IDC_regular_ps50_idx5/10295/0/10295_idx5_x801_y451_class0.png', '../input/breast-histopathology-images/IDC_regular_ps50_idx5/10295/0/10295_idx5_x151_y1051_class0.png', '../input/breast-histopathology-images/IDC_regular_ps50_idx5/10295/0/10295_idx5_x1351_y901_class0.png', '../input/breast-histopathology-images/IDC_regular_ps50_idx5/10295/0/10295_idx5_x701_y651_class0.png', '../input/breast-histopathology-images/IDC_regular_ps50_idx5/10295/0/10295_idx5_x951_y1401_class0.png', '../input/breast-histopathology-images/IDC_regular_ps50_idx5/10295/0/10295_idx5_x601_y501_class0.png']\n",
      "(5000, 2)\n",
      "(10000, 2)\n",
      "(10000, 50, 50, 3)\n",
      "(7000, 50, 50, 3) (900, 50, 50, 3) (2100, 50, 50, 3) (7000, 2) (900, 2) (2100, 2)\n"
     ]
    }
   ],
   "source": [
    "\n",
    "training_reshape=(-1, img_size, img_size, 3)\n",
    "import random\n",
    "#make directory for labelling\n",
    "os.makedirs('../working/idc2/idc-minus/')     \n",
    "os.makedirs('../working/idc2/idc-plus/')  \n",
    "\n",
    "\n",
    "class0 = [] # 0 = idc+\n",
    "class1 = [] # 1 = idc-\n",
    "imagePatches = glob('../input/breast-histopathology-images/IDC_regular_ps50_idx5/**/*.png', recursive=True)\n",
    "for filename in imagePatches:\n",
    "    if filename.endswith(\"class0.png\"):\n",
    "         class0.append(filename)\n",
    "    else:\n",
    "        class1.append(filename)\n",
    "\n",
    "print(class0[0:10])\n",
    "\n",
    "#sampling 10000 images from class 0 and class 1 to train the model\n",
    "\n",
    "random.seed(sampling_seed)\n",
    "class0sample=random.sample(class0,size_4_training)\n",
    "class1sample=random.sample(class1,size_4_training)\n",
    "\n",
    "\n",
    "def read_and_save_data(path, file_name_array):\n",
    "    j=0\n",
    "    for i in file_name_array:\n",
    "        if i.endswith('.png'):\n",
    "          \n",
    "            \n",
    "            #second copy method\n",
    "            head, tail = os.path.split(i)\n",
    "            outputname=str(path+tail)\n",
    "            #outputname=str(path+str(j)+'.png')\n",
    "            #print(outputname)\n",
    "            shutil.copy(i, outputname)\n",
    "   \n",
    "            #print(status2)\n",
    "            \n",
    "            j=j+1\n",
    "            if j==120000:\n",
    "                break\n",
    "            \n",
    "   \n",
    "class0path='../working/idc2/idc-minus/'\n",
    "class1path='../working/idc2/idc-plus/'\n",
    "\n",
    "\n",
    "\n",
    "\n",
    "read_and_save_data(class0path,class0sample)\n",
    "read_and_save_data(class1path,class1sample)\n",
    "\n",
    "\n",
    "from PIL import Image\n",
    "import glob\n",
    "\n",
    "import os #Operating System\n",
    "import sys #System\n",
    "# train_generator = train_datagen.flow(x_train, y_train, batch_size =)\n",
    "# val_generator = val_datagen.flow(x_val, y_val, batch_size = 64)\n",
    "# test_generator=test_datagen.flow(x_test,y_test,batch_size = 64)\n",
    "\n",
    "\n",
    "def readImage(path, tag):\n",
    "    j=0\n",
    "    image_array = []\n",
    "    for i in os.listdir(path):\n",
    "        imgname=path+i\n",
    "        #print(imgname)\n",
    "        img = cv2.imread(imgname, cv2.IMREAD_COLOR)\n",
    "        img_resized = cv2.resize(img, (img_size,img_size), interpolation=cv2.INTER_LINEAR)\n",
    "        image_array.append([img_resized, tag])\n",
    "        #print(img[1])\n",
    "        j=j+1\n",
    "        #if j==10:\n",
    "        #    break\n",
    "        \n",
    "    return image_array\n",
    "\n",
    "\n",
    "import numpy as np\n",
    "\n",
    "\n",
    "class0_array = readImage(class0path, 0)\n",
    "class1_array = readImage(class1path, 1)\n",
    "class0_array=np.array(class0_array)\n",
    "class1_array=np.array(class1_array)\n",
    "combined_data = np.concatenate((class0_array, class1_array))\n",
    "random.seed(41)\n",
    "random.shuffle(combined_data)\n",
    "print(class0_array.shape)\n",
    "print(combined_data.shape)\n",
    "\n",
    "X = []\n",
    "y = []\n",
    "\n",
    "for features,label in combined_data:\n",
    "    X.append(features)\n",
    "    y.append(label)\n",
    "#print(X.shape)\n",
    "#pring(y.shape)\n",
    "\n",
    "# reshape X data\n",
    "X = np.array(X).reshape(training_reshape)\n",
    "print(X.shape)\n",
    "\n",
    "\n",
    "X_train, X_test1, y_train, y_test1 = train_test_split(X, y, test_size=0.3, random_state=42)\n",
    "X_val, X_test, y_val, y_test = train_test_split(X_test1, y_test1, test_size=0.3, random_state=42)\n",
    "y_train = to_categorical(y_train)\n",
    "y_test = to_categorical(y_test)\n",
    "y_val = to_categorical(y_val)\n",
    "print(X_train.shape, X_test.shape, X_val.shape, y_train.shape, y_test.shape, y_val.shape)"
   ]
  },
  {
   "cell_type": "markdown",
   "id": "db68912d",
   "metadata": {
    "papermill": {
     "duration": 0.0104,
     "end_time": "2022-05-25T20:40:55.104664",
     "exception": false,
     "start_time": "2022-05-25T20:40:55.094264",
     "status": "completed"
    },
    "tags": []
   },
   "source": []
  },
  {
   "cell_type": "code",
   "execution_count": 6,
   "id": "6c910b1b",
   "metadata": {
    "execution": {
     "iopub.execute_input": "2022-05-25T20:40:55.127523Z",
     "iopub.status.busy": "2022-05-25T20:40:55.127109Z",
     "iopub.status.idle": "2022-05-25T20:40:55.133862Z",
     "shell.execute_reply": "2022-05-25T20:40:55.132848Z"
    },
    "papermill": {
     "duration": 0.020717,
     "end_time": "2022-05-25T20:40:55.136038",
     "exception": false,
     "start_time": "2022-05-25T20:40:55.115321",
     "status": "completed"
    },
    "tags": []
   },
   "outputs": [],
   "source": [
    "\n",
    "#Callbacks\n",
    "c2=tf.keras.callbacks.EarlyStopping(\n",
    "    monitor=\"val_loss\",\n",
    "    min_delta=0,\n",
    "    patience=6,\n",
    "    mode=\"auto\",\n",
    "    baseline=None,\n",
    "    restore_best_weights=True,\n",
    ")\n",
    "\n",
    "c3=tf.keras.callbacks.ReduceLROnPlateau(\n",
    "    monitor=\"val_loss\",\n",
    "    factor=0.1,\n",
    "    patience=6,\n",
    "    mode=\"auto\",\n",
    "    min_delta=0.0001,\n",
    "    cooldown=0,\n",
    "    min_lr=0.001\n",
    ")\n",
    "nClasses=3"
   ]
  },
  {
   "cell_type": "code",
   "execution_count": 7,
   "id": "ed2ad47c",
   "metadata": {
    "execution": {
     "iopub.execute_input": "2022-05-25T20:40:55.159995Z",
     "iopub.status.busy": "2022-05-25T20:40:55.159604Z",
     "iopub.status.idle": "2022-05-25T20:40:55.164041Z",
     "shell.execute_reply": "2022-05-25T20:40:55.163173Z"
    },
    "papermill": {
     "duration": 0.019305,
     "end_time": "2022-05-25T20:40:55.166657",
     "exception": false,
     "start_time": "2022-05-25T20:40:55.147352",
     "status": "completed"
    },
    "tags": []
   },
   "outputs": [],
   "source": [
    "\n",
    "from PIL import Image\n",
    "import glob\n"
   ]
  },
  {
   "cell_type": "code",
   "execution_count": null,
   "id": "a98c8731",
   "metadata": {
    "papermill": {
     "duration": 0.010429,
     "end_time": "2022-05-25T20:40:55.187899",
     "exception": false,
     "start_time": "2022-05-25T20:40:55.177470",
     "status": "completed"
    },
    "tags": []
   },
   "outputs": [],
   "source": []
  },
  {
   "cell_type": "code",
   "execution_count": null,
   "id": "f12a3acc",
   "metadata": {
    "papermill": {
     "duration": 0.015185,
     "end_time": "2022-05-25T20:40:55.214605",
     "exception": false,
     "start_time": "2022-05-25T20:40:55.199420",
     "status": "completed"
    },
    "tags": []
   },
   "outputs": [],
   "source": []
  },
  {
   "cell_type": "code",
   "execution_count": 8,
   "id": "afe4aeed",
   "metadata": {
    "execution": {
     "iopub.execute_input": "2022-05-25T20:40:55.240151Z",
     "iopub.status.busy": "2022-05-25T20:40:55.239637Z",
     "iopub.status.idle": "2022-05-25T20:40:55.243952Z",
     "shell.execute_reply": "2022-05-25T20:40:55.243247Z"
    },
    "papermill": {
     "duration": 0.018085,
     "end_time": "2022-05-25T20:40:55.245809",
     "exception": false,
     "start_time": "2022-05-25T20:40:55.227724",
     "status": "completed"
    },
    "tags": []
   },
   "outputs": [],
   "source": [
    "import os #Operating System\n",
    "import sys #System\n",
    "# train_generator = train_datagen.flow(x_train, y_train, batch_size =)\n",
    "# val_generator = val_datagen.flow(x_val, y_val, batch_size = 64)\n",
    "# test_generator=test_datagen.flow(x_test,y_test,batch_size = 64)\n"
   ]
  },
  {
   "cell_type": "markdown",
   "id": "7ea306d0",
   "metadata": {
    "papermill": {
     "duration": 0.010743,
     "end_time": "2022-05-25T20:40:55.267253",
     "exception": false,
     "start_time": "2022-05-25T20:40:55.256510",
     "status": "completed"
    },
    "tags": []
   },
   "source": [
    "#import image"
   ]
  },
  {
   "cell_type": "code",
   "execution_count": null,
   "id": "7d8b2499",
   "metadata": {
    "papermill": {
     "duration": 0.010507,
     "end_time": "2022-05-25T20:40:55.288609",
     "exception": false,
     "start_time": "2022-05-25T20:40:55.278102",
     "status": "completed"
    },
    "tags": []
   },
   "outputs": [],
   "source": []
  },
  {
   "cell_type": "code",
   "execution_count": null,
   "id": "3cc9acbe",
   "metadata": {
    "papermill": {
     "duration": 0.010585,
     "end_time": "2022-05-25T20:40:55.309738",
     "exception": false,
     "start_time": "2022-05-25T20:40:55.299153",
     "status": "completed"
    },
    "tags": []
   },
   "outputs": [],
   "source": []
  },
  {
   "cell_type": "code",
   "execution_count": 9,
   "id": "8df5346c",
   "metadata": {
    "execution": {
     "iopub.execute_input": "2022-05-25T20:40:55.333263Z",
     "iopub.status.busy": "2022-05-25T20:40:55.332609Z",
     "iopub.status.idle": "2022-05-25T20:40:55.338197Z",
     "shell.execute_reply": "2022-05-25T20:40:55.337055Z"
    },
    "papermill": {
     "duration": 0.019916,
     "end_time": "2022-05-25T20:40:55.340502",
     "exception": false,
     "start_time": "2022-05-25T20:40:55.320586",
     "status": "completed"
    },
    "tags": []
   },
   "outputs": [
    {
     "name": "stdout",
     "output_type": "stream",
     "text": [
      "(7000, 50, 50, 3) (900, 50, 50, 3) (2100, 50, 50, 3) (7000, 2) (900, 2) (2100, 2)\n"
     ]
    }
   ],
   "source": [
    "print(X_train.shape, X_test.shape, X_val.shape, y_train.shape, y_test.shape, y_val.shape)"
   ]
  },
  {
   "cell_type": "code",
   "execution_count": 10,
   "id": "636aef5c",
   "metadata": {
    "execution": {
     "iopub.execute_input": "2022-05-25T20:40:55.364008Z",
     "iopub.status.busy": "2022-05-25T20:40:55.363371Z",
     "iopub.status.idle": "2022-05-25T20:40:55.369573Z",
     "shell.execute_reply": "2022-05-25T20:40:55.368644Z"
    },
    "papermill": {
     "duration": 0.020361,
     "end_time": "2022-05-25T20:40:55.371753",
     "exception": false,
     "start_time": "2022-05-25T20:40:55.351392",
     "status": "completed"
    },
    "tags": []
   },
   "outputs": [],
   "source": [
    "#Callbacks\n",
    "c2=tf.keras.callbacks.EarlyStopping(\n",
    "    monitor=\"val_loss\",\n",
    "    min_delta=0,\n",
    "    patience=6,\n",
    "    mode=\"auto\",\n",
    "    baseline=None,\n",
    "    restore_best_weights=True,\n",
    ")\n",
    "\n",
    "c3=tf.keras.callbacks.ReduceLROnPlateau(\n",
    "    monitor=\"val_loss\",\n",
    "    factor=0.1,\n",
    "    patience=6,\n",
    "    mode=\"auto\",\n",
    "    min_delta=0.0001,\n",
    "    cooldown=0,\n",
    "    min_lr=0.001\n",
    ")\n",
    "nClasses=2"
   ]
  },
  {
   "cell_type": "markdown",
   "id": "2a779e8e",
   "metadata": {
    "papermill": {
     "duration": 0.010431,
     "end_time": "2022-05-25T20:40:55.392948",
     "exception": false,
     "start_time": "2022-05-25T20:40:55.382517",
     "status": "completed"
    },
    "tags": []
   },
   "source": [
    "# model"
   ]
  },
  {
   "cell_type": "code",
   "execution_count": 11,
   "id": "7e9a44aa",
   "metadata": {
    "execution": {
     "iopub.execute_input": "2022-05-25T20:40:55.416502Z",
     "iopub.status.busy": "2022-05-25T20:40:55.415461Z",
     "iopub.status.idle": "2022-05-25T20:40:55.608678Z",
     "shell.execute_reply": "2022-05-25T20:40:55.607726Z"
    },
    "papermill": {
     "duration": 0.207808,
     "end_time": "2022-05-25T20:40:55.611513",
     "exception": false,
     "start_time": "2022-05-25T20:40:55.403705",
     "status": "completed"
    },
    "tags": []
   },
   "outputs": [
    {
     "name": "stdout",
     "output_type": "stream",
     "text": [
      "Model: \"sequential\"\n",
      "_________________________________________________________________\n",
      "Layer (type)                 Output Shape              Param #   \n",
      "=================================================================\n",
      "conv2d (Conv2D)              (None, 48, 48, 32)        896       \n",
      "_________________________________________________________________\n",
      "conv2d_1 (Conv2D)            (None, 46, 46, 64)        18496     \n",
      "_________________________________________________________________\n",
      "conv2d_2 (Conv2D)            (None, 44, 44, 64)        36928     \n",
      "_________________________________________________________________\n",
      "conv2d_3 (Conv2D)            (None, 42, 42, 32)        18464     \n",
      "_________________________________________________________________\n",
      "conv2d_4 (Conv2D)            (None, 40, 40, 16)        4624      \n",
      "_________________________________________________________________\n",
      "conv2d_5 (Conv2D)            (None, 38, 38, 16)        2320      \n",
      "_________________________________________________________________\n",
      "conv2d_6 (Conv2D)            (None, 36, 36, 8)         1160      \n",
      "_________________________________________________________________\n",
      "conv2d_7 (Conv2D)            (None, 34, 34, 8)         584       \n",
      "_________________________________________________________________\n",
      "flatten (Flatten)            (None, 9248)              0         \n",
      "_________________________________________________________________\n",
      "dense (Dense)                (None, 2)                 18498     \n",
      "=================================================================\n",
      "Total params: 101,970\n",
      "Trainable params: 101,970\n",
      "Non-trainable params: 0\n",
      "_________________________________________________________________\n"
     ]
    },
    {
     "name": "stderr",
     "output_type": "stream",
     "text": [
      "2022-05-25 20:40:55.458010: I tensorflow/core/common_runtime/process_util.cc:146] Creating new thread pool with default inter op setting: 2. Tune using inter_op_parallelism_threads for best performance.\n"
     ]
    }
   ],
   "source": [
    "RESNET50_POOLING_AVERAGE = 'avg'\n",
    "DENSE_LAYER_ACTIVATION = 'sigmoid'\n",
    "OBJECTIVE_FUNCTION = 'categorical_crossentropy'\n",
    "\n",
    "# Common accuracy metric for all outputs, but can use different metrics for different output\n",
    "LOSS_METRICS = ['accuracy']\n",
    "\n",
    "model = Sequential()\n",
    "model.add(Conv2D(32, kernel_size=3, activation='relu', input_shape=(50,50,3)))\n",
    "model.add(Conv2D(64, kernel_size=3, activation='relu'))\n",
    "model.add(Conv2D(64, kernel_size=3, activation='relu'))\n",
    "model.add(Conv2D(32, kernel_size=3, activation='relu'))\n",
    "model.add(Conv2D(16, kernel_size=3, activation='relu'))\n",
    "model.add(Conv2D(16, kernel_size=3, activation='relu'))\n",
    "model.add(Conv2D(8, kernel_size=3, activation='relu'))\n",
    "model.add(Conv2D(8, kernel_size=3, activation='relu'))\n",
    "model.add(Flatten())\n",
    "model.add(Dense(2, activation=\"softmax\"))\n",
    "#adam = Adam(learning_rate=0.0001)\n",
    "#binary_crossentropy is used as Cancer detecion is  binary classification model\n",
    "#model.compile(loss=\"binary_crossentropy\", optimizer=adam, metrics=['accuracy'])   \n",
    "\n",
    "#model = Model(inputs=resnet50_base_model.input, outputs=predictions)\n",
    "model.summary()\n"
   ]
  },
  {
   "cell_type": "code",
   "execution_count": 12,
   "id": "b3aa6654",
   "metadata": {
    "execution": {
     "iopub.execute_input": "2022-05-25T20:40:55.635027Z",
     "iopub.status.busy": "2022-05-25T20:40:55.634621Z",
     "iopub.status.idle": "2022-05-25T20:40:56.802372Z",
     "shell.execute_reply": "2022-05-25T20:40:56.801469Z"
    },
    "papermill": {
     "duration": 1.18265,
     "end_time": "2022-05-25T20:40:56.805314",
     "exception": false,
     "start_time": "2022-05-25T20:40:55.622664",
     "status": "completed"
    },
    "tags": []
   },
   "outputs": [
    {
     "data": {
      "image/png": "[encoded data removed]",
      "text/plain": [
       "<IPython.core.display.Image object>"
      ]
     },
     "execution_count": 12,
     "metadata": {},
     "output_type": "execute_result"
    }
   ],
   "source": [
    "from tensorflow.keras.utils import plot_model\n",
    "from IPython.display import Image\n",
    "plot_model(model, to_file='convnet.png', show_shapes=True,show_layer_names=True)\n",
    "Image(filename='convnet.png') "
   ]
  },
  {
   "cell_type": "code",
   "execution_count": 13,
   "id": "524b194b",
   "metadata": {
    "execution": {
     "iopub.execute_input": "2022-05-25T20:40:56.833066Z",
     "iopub.status.busy": "2022-05-25T20:40:56.831983Z",
     "iopub.status.idle": "2022-05-25T20:40:56.861443Z",
     "shell.execute_reply": "2022-05-25T20:40:56.860590Z"
    },
    "papermill": {
     "duration": 0.045742,
     "end_time": "2022-05-25T20:40:56.863785",
     "exception": false,
     "start_time": "2022-05-25T20:40:56.818043",
     "status": "completed"
    },
    "tags": []
   },
   "outputs": [],
   "source": [
    "def f1_score(y_true, y_pred): #taken from old keras source code\n",
    "    true_positives = K.sum(K.round(K.clip(y_true * y_pred, 0, 1)))\n",
    "    possible_positives = K.sum(K.round(K.clip(y_true, 0, 1)))\n",
    "    predicted_positives = K.sum(K.round(K.clip(y_pred, 0, 1)))\n",
    "    precision = true_positives / (predicted_positives + K.epsilon())\n",
    "    recall = true_positives / (possible_positives + K.epsilon())\n",
    "    f1_val = 2*(precision*recall)/(precision+recall+K.epsilon())\n",
    "    return f1_val\n",
    "\n",
    "METRICS = [\n",
    "      tf.keras.metrics.BinaryAccuracy(name='accuracy'),\n",
    "      tf.keras.metrics.Precision(name='precision'),\n",
    "      tf.keras.metrics.Recall(name='recall'),  \n",
    "      tf.keras.metrics.AUC(name='auc'),\n",
    "        f1_score,\n",
    "]"
   ]
  },
  {
   "cell_type": "code",
   "execution_count": 14,
   "id": "28728c9f",
   "metadata": {
    "execution": {
     "iopub.execute_input": "2022-05-25T20:40:56.890575Z",
     "iopub.status.busy": "2022-05-25T20:40:56.889860Z",
     "iopub.status.idle": "2022-05-25T20:40:56.905750Z",
     "shell.execute_reply": "2022-05-25T20:40:56.904951Z"
    },
    "papermill": {
     "duration": 0.031881,
     "end_time": "2022-05-25T20:40:56.907979",
     "exception": false,
     "start_time": "2022-05-25T20:40:56.876098",
     "status": "completed"
    },
    "tags": []
   },
   "outputs": [],
   "source": [
    "import sklearn\n",
    "from sklearn.metrics import classification_report\n",
    "from sklearn.metrics import f1_score, roc_auc_score, cohen_kappa_score, precision_score, recall_score, accuracy_score, confusion_matrix\n",
    "def get_accuracy_metrics(model, X_train, y_train, X_val, y_val, X_test, y_test):\n",
    "    y_train=np.argmax(y_train, axis=1)\n",
    "    y_test=np.argmax(y_test, axis=1)\n",
    "    y_val=np.argmax(y_val, axis=1)\n",
    "    y_train_pred=np.argmax(model.predict(X_train),axis=1)\n",
    "    y_test_pred=np.argmax(model.predict(X_test),axis=1)\n",
    "    y_val_pred=np.argmax(model.predict(X_val),axis=1)\n",
    "    #ps:all the Y value must turn back to 1 dimension array. otherwise, the scoring functions in sklearn cannot compare, and will give an error\n",
    "    #classification metrics can't handle a mix of continuous-multioutput and multi-label-indicator targets\n",
    "    \n",
    "    print(\"Train accuracy Score------------>\")\n",
    "    print (\"{0:.3f}\".format(accuracy_score(y_train, y_train_pred)*100), \"%\")\n",
    "    \n",
    "    print(\"Val accuracy Score--------->\")\n",
    "    \n",
    "    print(\"{0:.3f}\".format(accuracy_score(y_val, y_val_pred)*100), \"%\")\n",
    "    \n",
    "  \n",
    "    print(\"Test accuracy Score--------->\")\n",
    "    print(\"{0:.3f}\".format(accuracy_score(y_test, y_test_pred)*100), \"%\")\n",
    "    \n",
    "    print(\"F1 Score--------------->\")\n",
    "    print(\"{0:.3f}\".format(f1_score(y_test, y_test_pred, average = 'weighted')*100), \"%\")\n",
    "    \n",
    "    print(\"Cohen Kappa Score------------->\")\n",
    "    print(\"{0:.3f}\".format(cohen_kappa_score(y_test, y_test_pred)*100), \"%\")\n",
    "    \n",
    "    print(\"Recall-------------->\")\n",
    "    print(\"{0:.3f}\".format(recall_score(y_test, y_test_pred, average = 'weighted')*100), \"%\")\n",
    "    \n",
    "    print(\"Precision-------------->\")\n",
    "    print(\"{0:.3f}\".format(precision_score(y_test, y_test_pred, average = 'weighted')*100), \"%\")\n",
    "    \n",
    "    cf_matrix_test = confusion_matrix(y_test, y_test_pred)\n",
    "    cf_matrix_val = confusion_matrix(y_val, y_val_pred)\n",
    "    \n",
    "    plt.figure(figsize = (12, 6))\n",
    "    plt.subplot(121)\n",
    "    sns.heatmap(cf_matrix_val, annot=True, cmap='Blues')\n",
    "    plt.title(\"Val Confusion matrix\")\n",
    "    \n",
    "    plt.subplot(122)\n",
    "    sns.heatmap(cf_matrix_test, annot=True, cmap='Blues')\n",
    "    plt.title(\"Test Confusion matrix\")\n",
    "    \n",
    "    plt.show()\n",
    "    print(\"train report\")\n",
    "    print(classification_report(y_train, y_train_pred))\n",
    "    print(\"test report\")\n",
    "    print(classification_report(y_test, y_test_pred))"
   ]
  },
  {
   "cell_type": "code",
   "execution_count": 15,
   "id": "176dfed6",
   "metadata": {
    "execution": {
     "iopub.execute_input": "2022-05-25T20:40:56.934414Z",
     "iopub.status.busy": "2022-05-25T20:40:56.933725Z",
     "iopub.status.idle": "2022-05-25T20:40:56.947845Z",
     "shell.execute_reply": "2022-05-25T20:40:56.947136Z"
    },
    "papermill": {
     "duration": 0.030008,
     "end_time": "2022-05-25T20:40:56.950251",
     "exception": false,
     "start_time": "2022-05-25T20:40:56.920243",
     "status": "completed"
    },
    "tags": []
   },
   "outputs": [],
   "source": [
    "callbacks1 =  [EarlyStopping(monitor='val_loss', patience=5, verbose=1), ModelCheckpoint('init_model.h5', save_best_only=True)]\n",
    "opt = Adam(learning_rate=0.0001)\n",
    "model.compile(loss=\"binary_crossentropy\", optimizer=opt, metrics=['accuracy'])"
   ]
  },
  {
   "cell_type": "code",
   "execution_count": 16,
   "id": "a624da1f",
   "metadata": {
    "execution": {
     "iopub.execute_input": "2022-05-25T20:40:56.976663Z",
     "iopub.status.busy": "2022-05-25T20:40:56.975945Z",
     "iopub.status.idle": "2022-05-25T20:52:35.565815Z",
     "shell.execute_reply": "2022-05-25T20:52:35.564960Z"
    },
    "papermill": {
     "duration": 698.606026,
     "end_time": "2022-05-25T20:52:35.568627",
     "exception": false,
     "start_time": "2022-05-25T20:40:56.962601",
     "status": "completed"
    },
    "tags": []
   },
   "outputs": [
    {
     "name": "stdout",
     "output_type": "stream",
     "text": [
      "CPU times: user 3 µs, sys: 2 µs, total: 5 µs\n",
      "Wall time: 7.39 µs\n"
     ]
    },
    {
     "name": "stderr",
     "output_type": "stream",
     "text": [
      "2022-05-25 20:40:57.121407: I tensorflow/compiler/mlir/mlir_graph_optimization_pass.cc:185] None of the MLIR Optimization Passes are enabled (registered 2)\n"
     ]
    },
    {
     "name": "stdout",
     "output_type": "stream",
     "text": [
      "Epoch 1/10\n",
      "219/219 [==============================] - 71s 318ms/step - loss: 0.3670 - accuracy: 0.8496 - val_loss: 0.3402 - val_accuracy: 0.8344\n",
      "Epoch 2/10\n",
      "219/219 [==============================] - 70s 320ms/step - loss: 0.3247 - accuracy: 0.8536 - val_loss: 0.3090 - val_accuracy: 0.8733\n",
      "Epoch 3/10\n",
      "219/219 [==============================] - 70s 318ms/step - loss: 0.3112 - accuracy: 0.8743 - val_loss: 0.3442 - val_accuracy: 0.8700\n",
      "Epoch 4/10\n",
      "219/219 [==============================] - 70s 318ms/step - loss: 0.3048 - accuracy: 0.8784 - val_loss: 0.3163 - val_accuracy: 0.8556\n",
      "Epoch 5/10\n",
      "219/219 [==============================] - 69s 316ms/step - loss: 0.2844 - accuracy: 0.8951 - val_loss: 0.3358 - val_accuracy: 0.8633\n",
      "Epoch 6/10\n",
      "219/219 [==============================] - 69s 317ms/step - loss: 0.2611 - accuracy: 0.9040 - val_loss: 0.2912 - val_accuracy: 0.8889\n",
      "Epoch 7/10\n",
      "219/219 [==============================] - 70s 318ms/step - loss: 0.2440 - accuracy: 0.9114 - val_loss: 0.2870 - val_accuracy: 0.8922\n",
      "Epoch 8/10\n",
      "219/219 [==============================] - 70s 320ms/step - loss: 0.2205 - accuracy: 0.9261 - val_loss: 0.2917 - val_accuracy: 0.8889\n",
      "Epoch 9/10\n",
      "219/219 [==============================] - 70s 317ms/step - loss: 0.1973 - accuracy: 0.9347 - val_loss: 0.3164 - val_accuracy: 0.8900\n",
      "Epoch 10/10\n",
      "219/219 [==============================] - 70s 318ms/step - loss: 0.1750 - accuracy: 0.9441 - val_loss: 0.2796 - val_accuracy: 0.8944\n"
     ]
    }
   ],
   "source": [
    "%time\n",
    "history1=model.fit(X_train, y_train,validation_data=(X_test, y_test),verbose = 1,epochs = epoch1,callbacks=callbacks1)"
   ]
  },
  {
   "cell_type": "code",
   "execution_count": 17,
   "id": "84b48ec5",
   "metadata": {
    "execution": {
     "iopub.execute_input": "2022-05-25T20:52:35.908369Z",
     "iopub.status.busy": "2022-05-25T20:52:35.908000Z",
     "iopub.status.idle": "2022-05-25T20:53:02.341866Z",
     "shell.execute_reply": "2022-05-25T20:53:02.340890Z"
    },
    "papermill": {
     "duration": 26.609805,
     "end_time": "2022-05-25T20:53:02.344028",
     "exception": false,
     "start_time": "2022-05-25T20:52:35.734223",
     "status": "completed"
    },
    "tags": []
   },
   "outputs": [
    {
     "name": "stdout",
     "output_type": "stream",
     "text": [
      "Train accuracy Score------------>\n",
      "94.714 %\n",
      "Val accuracy Score--------->\n",
      "91.238 %\n",
      "Test accuracy Score--------->\n",
      "89.444 %\n",
      "F1 Score--------------->\n",
      "88.814 %\n",
      "Cohen Kappa Score------------->\n",
      "58.632 %\n",
      "Recall-------------->\n",
      "89.444 %\n",
      "Precision-------------->\n",
      "88.759 %\n"
     ]
    },
    {
     "data": {
      "image/png": "[encoded data removed]",
      "text/plain": [
       "<Figure size 864x432 with 4 Axes>"
      ]
     },
     "metadata": {
      "needs_background": "light"
     },
     "output_type": "display_data"
    },
    {
     "name": "stdout",
     "output_type": "stream",
     "text": [
      "train report\n",
      "              precision    recall  f1-score   support\n",
      "\n",
      "           0       0.95      0.99      0.97      5945\n",
      "           1       0.94      0.70      0.80      1055\n",
      "\n",
      "    accuracy                           0.95      7000\n",
      "   macro avg       0.94      0.84      0.88      7000\n",
      "weighted avg       0.95      0.95      0.94      7000\n",
      "\n",
      "test report\n",
      "              precision    recall  f1-score   support\n",
      "\n",
      "           0       0.91      0.96      0.94       746\n",
      "           1       0.76      0.56      0.65       154\n",
      "\n",
      "    accuracy                           0.89       900\n",
      "   macro avg       0.84      0.76      0.79       900\n",
      "weighted avg       0.89      0.89      0.89       900\n",
      "\n"
     ]
    }
   ],
   "source": [
    "#MODEL_PATH = './test_model.hdf5'\n",
    "#from keras.models import load_model\n",
    "##best_model = load_model('./test_model.h5')\n",
    "#init_model = load_model('./init_model.h5', compile=False)\n",
    "#best_model = load_model(\"./test_model.h5\", custom_objects={'focal_loss_fixed': focal_loss()})\n",
    "get_accuracy_metrics(model,  X_train, y_train, X_val, y_val, X_test, y_test)"
   ]
  },
  {
   "cell_type": "markdown",
   "id": "7de5a11e",
   "metadata": {
    "papermill": {
     "duration": 0.166795,
     "end_time": "2022-05-25T20:53:02.678967",
     "exception": false,
     "start_time": "2022-05-25T20:53:02.512172",
     "status": "completed"
    },
    "tags": []
   },
   "source": [
    "plot training history"
   ]
  },
  {
   "cell_type": "code",
   "execution_count": 18,
   "id": "8680f53c",
   "metadata": {
    "execution": {
     "iopub.execute_input": "2022-05-25T20:53:03.015158Z",
     "iopub.status.busy": "2022-05-25T20:53:03.014738Z",
     "iopub.status.idle": "2022-05-25T20:53:03.356014Z",
     "shell.execute_reply": "2022-05-25T20:53:03.355089Z"
    },
    "papermill": {
     "duration": 0.511638,
     "end_time": "2022-05-25T20:53:03.358278",
     "exception": false,
     "start_time": "2022-05-25T20:53:02.846640",
     "status": "completed"
    },
    "tags": []
   },
   "outputs": [
    {
     "data": {
      "image/png": "[encoded data removed]",
      "text/plain": [
       "<Figure size 864x432 with 2 Axes>"
      ]
     },
     "metadata": {
      "needs_background": "light"
     },
     "output_type": "display_data"
    }
   ],
   "source": [
    "import matplotlib.pyplot as plt\n",
    "import seaborn as sns\n",
    "plt.figure(figsize = (12, 6))\n",
    "plt.subplot(121)\n",
    "#plotting the Accuracy of test and training sets\n",
    "plt.plot(history1.history['accuracy'])\n",
    "plt.plot(history1.history['val_accuracy'])\n",
    "plt.title('1st training Model Accuracy')\n",
    "plt.ylabel('accuracy')\n",
    "plt.xlabel('epoch')\n",
    "plt.legend(['train', 'test'], loc='upper left')\n",
    "\n",
    "plt.subplot(122)\n",
    "#plotting the loss of test and training sets\n",
    "plt.plot(history1.history['loss'])\n",
    "plt.plot(history1.history['val_loss'])\n",
    "plt.title('1st training Model Loss')\n",
    "plt.ylabel('loss')\n",
    "plt.xlabel('epoch')\n",
    "plt.legend(['train', 'test'], loc='upper left')\n",
    "plt.show()\n"
   ]
  },
  {
   "cell_type": "markdown",
   "id": "bf14c511",
   "metadata": {
    "papermill": {
     "duration": 0.167993,
     "end_time": "2022-05-25T20:53:03.696253",
     "exception": false,
     "start_time": "2022-05-25T20:53:03.528260",
     "status": "completed"
    },
    "tags": []
   },
   "source": [
    "plot confusion report"
   ]
  },
  {
   "cell_type": "code",
   "execution_count": 19,
   "id": "3c5c81e7",
   "metadata": {
    "execution": {
     "iopub.execute_input": "2022-05-25T20:53:04.035960Z",
     "iopub.status.busy": "2022-05-25T20:53:04.035547Z",
     "iopub.status.idle": "2022-05-25T20:53:09.536792Z",
     "shell.execute_reply": "2022-05-25T20:53:09.535777Z"
    },
    "papermill": {
     "duration": 5.674087,
     "end_time": "2022-05-25T20:53:09.538957",
     "exception": false,
     "start_time": "2022-05-25T20:53:03.864870",
     "status": "completed"
    },
    "tags": []
   },
   "outputs": [
    {
     "data": {
      "image/png": "[encoded data removed]",
      "text/plain": [
       "<Figure size 576x576 with 2 Axes>"
      ]
     },
     "metadata": {
      "needs_background": "light"
     },
     "output_type": "display_data"
    }
   ],
   "source": [
    "from sklearn.metrics import confusion_matrix\n",
    "import seaborn as sns\n",
    "\n",
    "Y_pred = model.predict(X_val)\n",
    "Y_pred_classes = np.argmax(Y_pred,axis = 1) \n",
    "Y_true = np.argmax(y_val,axis = 1) \n",
    "\n",
    "confusion_mtx = confusion_matrix(Y_true, Y_pred_classes) \n",
    "\n",
    "f,ax = plt.subplots(figsize=(8, 8))\n",
    "sns.heatmap(confusion_mtx, annot=True, linewidths=0.01,cmap=\"OrRd\",linecolor=\"black\", fmt= '.1f',ax=ax)\n",
    "plt.xlabel(\"Predicted Label\")\n",
    "plt.ylabel(\"True Label\")\n",
    "plt.title(\"Confusion Matrix\")\n",
    "plt.show()"
   ]
  },
  {
   "cell_type": "code",
   "execution_count": 20,
   "id": "20ea2bc3",
   "metadata": {
    "execution": {
     "iopub.execute_input": "2022-05-25T20:53:09.898890Z",
     "iopub.status.busy": "2022-05-25T20:53:09.898232Z",
     "iopub.status.idle": "2022-05-25T20:53:09.915972Z",
     "shell.execute_reply": "2022-05-25T20:53:09.914753Z"
    },
    "papermill": {
     "duration": 0.216594,
     "end_time": "2022-05-25T20:53:09.923117",
     "exception": false,
     "start_time": "2022-05-25T20:53:09.706523",
     "status": "completed"
    },
    "tags": []
   },
   "outputs": [
    {
     "name": "stdout",
     "output_type": "stream",
     "text": [
      "              precision    recall  f1-score   support\n",
      "\n",
      "           0       0.93      0.97      0.95      1806\n",
      "           1       0.76      0.55      0.64       294\n",
      "\n",
      "    accuracy                           0.91      2100\n",
      "   macro avg       0.84      0.76      0.79      2100\n",
      "weighted avg       0.91      0.91      0.91      2100\n",
      "\n"
     ]
    }
   ],
   "source": [
    "from sklearn.metrics import classification_report\n",
    "\n",
    "print(classification_report(Y_true, Y_pred_classes))"
   ]
  },
  {
   "cell_type": "markdown",
   "id": "215a144f",
   "metadata": {
    "papermill": {
     "duration": 0.168467,
     "end_time": "2022-05-25T20:53:10.262135",
     "exception": false,
     "start_time": "2022-05-25T20:53:10.093668",
     "status": "completed"
    },
    "tags": []
   },
   "source": [
    "plot training history"
   ]
  },
  {
   "cell_type": "markdown",
   "id": "8a95247b",
   "metadata": {
    "papermill": {
     "duration": 0.171049,
     "end_time": "2022-05-25T20:53:10.603958",
     "exception": false,
     "start_time": "2022-05-25T20:53:10.432909",
     "status": "completed"
    },
    "tags": []
   },
   "source": [
    "plot confusion report"
   ]
  },
  {
   "cell_type": "markdown",
   "id": "840ca5ca",
   "metadata": {
    "papermill": {
     "duration": 0.177396,
     "end_time": "2022-05-25T20:53:11.006770",
     "exception": false,
     "start_time": "2022-05-25T20:53:10.829374",
     "status": "completed"
    },
    "tags": []
   },
   "source": []
  },
  {
   "cell_type": "code",
   "execution_count": 21,
   "id": "541ba25b",
   "metadata": {
    "execution": {
     "iopub.execute_input": "2022-05-25T20:53:11.353227Z",
     "iopub.status.busy": "2022-05-25T20:53:11.352458Z",
     "iopub.status.idle": "2022-05-25T20:53:11.362400Z",
     "shell.execute_reply": "2022-05-25T20:53:11.361654Z"
    },
    "papermill": {
     "duration": 0.18305,
     "end_time": "2022-05-25T20:53:11.364506",
     "exception": false,
     "start_time": "2022-05-25T20:53:11.181456",
     "status": "completed"
    },
    "tags": []
   },
   "outputs": [
    {
     "name": "stdout",
     "output_type": "stream",
     "text": [
      "/kaggle/working\n"
     ]
    },
    {
     "data": {
      "text/html": [
       "Path (<tt>model.hdf5</tt>) doesn't exist. It may still be in the process of being generated, or you may have the incorrect path."
      ],
      "text/plain": [
       "/kaggle/working/model.hdf5"
      ]
     },
     "execution_count": 21,
     "metadata": {},
     "output_type": "execute_result"
    }
   ],
   "source": [
    "%cd /kaggle/working\n",
    "from IPython.display import FileLink\n",
    "FileLink('model.hdf5')"
   ]
  },
  {
   "cell_type": "code",
   "execution_count": null,
   "id": "c26d4a7e",
   "metadata": {
    "papermill": {
     "duration": 0.177564,
     "end_time": "2022-05-25T20:53:11.721857",
     "exception": false,
     "start_time": "2022-05-25T20:53:11.544293",
     "status": "completed"
    },
    "tags": []
   },
   "outputs": [],
   "source": []
  },
  {
   "cell_type": "code",
   "execution_count": null,
   "id": "16a6a3f9",
   "metadata": {
    "papermill": {
     "duration": 0.181792,
     "end_time": "2022-05-25T20:53:12.081533",
     "exception": false,
     "start_time": "2022-05-25T20:53:11.899741",
     "status": "completed"
    },
    "tags": []
   },
   "outputs": [],
   "source": []
  },
  {
   "cell_type": "code",
   "execution_count": null,
   "id": "0beafd8b",
   "metadata": {
    "papermill": {
     "duration": 0.17214,
     "end_time": "2022-05-25T20:53:12.425648",
     "exception": false,
     "start_time": "2022-05-25T20:53:12.253508",
     "status": "completed"
    },
    "tags": []
   },
   "outputs": [],
   "source": []
  }
 ],
 "metadata": {
  "kernelspec": {
   "display_name": "Python 3",
   "language": "python",
   "name": "python3"
  },
  "language_info": {
   "codemirror_mode": {
    "name": "ipython",
    "version": 3
   },
   "file_extension": ".py",
   "mimetype": "text/x-python",
   "name": "python",
   "nbconvert_exporter": "python",
   "pygments_lexer": "ipython3",
   "version": "3.7.12"
  },
  "papermill": {
   "default_parameters": {},
   "duration": 872.301527,
   "end_time": "2022-05-25T20:53:15.324645",
   "environment_variables": {},
   "exception": null,
   "input_path": "__notebook__.ipynb",
   "output_path": "__notebook__.ipynb",
   "parameters": {},
   "start_time": "2022-05-25T20:38:43.023118",
   "version": "2.3.4"
  }
 },
 "nbformat": 4,
 "nbformat_minor": 5
}
