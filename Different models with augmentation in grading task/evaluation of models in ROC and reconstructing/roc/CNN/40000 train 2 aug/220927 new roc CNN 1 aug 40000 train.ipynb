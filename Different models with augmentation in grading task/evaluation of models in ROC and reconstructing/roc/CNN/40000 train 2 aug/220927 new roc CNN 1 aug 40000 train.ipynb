{
 "cells": [
  {
   "cell_type": "code",
   "execution_count": 1,
   "id": "00dd55a0",
   "metadata": {
    "_cell_guid": "b1076dfc-b9ad-4769-8c92-a6c4dae69d19",
    "_uuid": "8f2839f25d086af736a60e9eeb907d3b93b6e0e5",
    "execution": {
     "iopub.execute_input": "2022-09-25T16:55:40.857654Z",
     "iopub.status.busy": "2022-09-25T16:55:40.856715Z",
     "iopub.status.idle": "2022-09-25T16:55:53.679518Z",
     "shell.execute_reply": "2022-09-25T16:55:53.678189Z"
    },
    "papermill": {
     "duration": 12.841756,
     "end_time": "2022-09-25T16:55:53.682366",
     "exception": false,
     "start_time": "2022-09-25T16:55:40.840610",
     "status": "completed"
    },
    "tags": []
   },
   "outputs": [
    {
     "name": "stdout",
     "output_type": "stream",
     "text": [
      "Collecting Livelossplot\r\n",
      "  Downloading livelossplot-0.5.5-py3-none-any.whl (22 kB)\r\n",
      "Requirement already satisfied: matplotlib in /opt/conda/lib/python3.7/site-packages (from Livelossplot) (3.5.2)\r\n",
      "Requirement already satisfied: ipython==7.* in /opt/conda/lib/python3.7/site-packages (from Livelossplot) (7.33.0)\r\n",
      "Requirement already satisfied: numpy<1.22 in /opt/conda/lib/python3.7/site-packages (from Livelossplot) (1.21.6)\r\n",
      "Requirement already satisfied: bokeh in /opt/conda/lib/python3.7/site-packages (from Livelossplot) (2.4.3)\r\n",
      "Requirement already satisfied: decorator in /opt/conda/lib/python3.7/site-packages (from ipython==7.*->Livelossplot) (5.1.1)\r\n",
      "Requirement already satisfied: prompt-toolkit!=3.0.0,!=3.0.1,<3.1.0,>=2.0.0 in /opt/conda/lib/python3.7/site-packages (from ipython==7.*->Livelossplot) (3.0.29)\r\n",
      "Requirement already satisfied: matplotlib-inline in /opt/conda/lib/python3.7/site-packages (from ipython==7.*->Livelossplot) (0.1.3)\r\n",
      "Requirement already satisfied: pickleshare in /opt/conda/lib/python3.7/site-packages (from ipython==7.*->Livelossplot) (0.7.5)\r\n",
      "Requirement already satisfied: pygments in /opt/conda/lib/python3.7/site-packages (from ipython==7.*->Livelossplot) (2.12.0)\r\n",
      "Requirement already satisfied: pexpect>4.3 in /opt/conda/lib/python3.7/site-packages (from ipython==7.*->Livelossplot) (4.8.0)\r\n",
      "Requirement already satisfied: backcall in /opt/conda/lib/python3.7/site-packages (from ipython==7.*->Livelossplot) (0.2.0)\r\n",
      "Requirement already satisfied: traitlets>=4.2 in /opt/conda/lib/python3.7/site-packages (from ipython==7.*->Livelossplot) (5.2.1.post0)\r\n",
      "Requirement already satisfied: jedi>=0.16 in /opt/conda/lib/python3.7/site-packages (from ipython==7.*->Livelossplot) (0.18.1)\r\n",
      "Requirement already satisfied: setuptools>=18.5 in /opt/conda/lib/python3.7/site-packages (from ipython==7.*->Livelossplot) (59.8.0)\r\n",
      "Requirement already satisfied: PyYAML>=3.10 in /opt/conda/lib/python3.7/site-packages (from bokeh->Livelossplot) (6.0)\r\n",
      "Requirement already satisfied: tornado>=5.1 in /opt/conda/lib/python3.7/site-packages (from bokeh->Livelossplot) (6.1)\r\n",
      "Requirement already satisfied: packaging>=16.8 in /opt/conda/lib/python3.7/site-packages (from bokeh->Livelossplot) (21.3)\r\n",
      "Requirement already satisfied: Jinja2>=2.9 in /opt/conda/lib/python3.7/site-packages (from bokeh->Livelossplot) (3.1.2)\r\n",
      "Requirement already satisfied: typing-extensions>=3.10.0 in /opt/conda/lib/python3.7/site-packages (from bokeh->Livelossplot) (4.1.1)\r\n",
      "Requirement already satisfied: pillow>=7.1.0 in /opt/conda/lib/python3.7/site-packages (from bokeh->Livelossplot) (9.1.1)\r\n",
      "Requirement already satisfied: fonttools>=4.22.0 in /opt/conda/lib/python3.7/site-packages (from matplotlib->Livelossplot) (4.33.3)\r\n",
      "Requirement already satisfied: kiwisolver>=1.0.1 in /opt/conda/lib/python3.7/site-packages (from matplotlib->Livelossplot) (1.4.2)\r\n",
      "Requirement already satisfied: cycler>=0.10 in /opt/conda/lib/python3.7/site-packages (from matplotlib->Livelossplot) (0.11.0)\r\n",
      "Requirement already satisfied: pyparsing>=2.2.1 in /opt/conda/lib/python3.7/site-packages (from matplotlib->Livelossplot) (3.0.9)\r\n",
      "Requirement already satisfied: python-dateutil>=2.7 in /opt/conda/lib/python3.7/site-packages (from matplotlib->Livelossplot) (2.8.2)\r\n",
      "Requirement already satisfied: parso<0.9.0,>=0.8.0 in /opt/conda/lib/python3.7/site-packages (from jedi>=0.16->ipython==7.*->Livelossplot) (0.8.3)\r\n",
      "Requirement already satisfied: MarkupSafe>=2.0 in /opt/conda/lib/python3.7/site-packages (from Jinja2>=2.9->bokeh->Livelossplot) (2.0.1)\r\n",
      "Requirement already satisfied: ptyprocess>=0.5 in /opt/conda/lib/python3.7/site-packages (from pexpect>4.3->ipython==7.*->Livelossplot) (0.7.0)\r\n",
      "Requirement already satisfied: wcwidth in /opt/conda/lib/python3.7/site-packages (from prompt-toolkit!=3.0.0,!=3.0.1,<3.1.0,>=2.0.0->ipython==7.*->Livelossplot) (0.2.5)\r\n",
      "Requirement already satisfied: six>=1.5 in /opt/conda/lib/python3.7/site-packages (from python-dateutil>=2.7->matplotlib->Livelossplot) (1.16.0)\r\n",
      "Installing collected packages: Livelossplot\r\n",
      "Successfully installed Livelossplot-0.5.5\r\n",
      "\u001b[33mWARNING: Running pip as the 'root' user can result in broken permissions and conflicting behaviour with the system package manager. It is recommended to use a virtual environment instead: https://pip.pypa.io/warnings/venv\u001b[0m\u001b[33m\r\n",
      "\u001b[0m"
     ]
    }
   ],
   "source": [
    "# This Python 3 environment comes with many helpful analytics libraries installed\n",
    "# It is defined by the kaggle/python Docker image: https://github.com/kaggle/docker-python\n",
    "# For example, here's several helpful packages to load\n",
    "\n",
    "import numpy as np # linear algebra\n",
    "import pandas as pd # data processing, CSV file I/O (e.g. pd.read_csv)\n",
    "\n",
    "# Input data files are available in the read-only \"../input/\" directory\n",
    "# For example, running this (by clicking run or pressing Shift+Enter) will list all files under the input directory\n",
    "\n",
    "import os\n",
    "\n",
    "import warnings\n",
    "warnings.filterwarnings('ignore')\n",
    "%matplotlib inline\n",
    "!pip install Livelossplot\n",
    "from livelossplot import PlotLossesKeras\n",
    "\n",
    "from glob import glob\n",
    "import os\n",
    "import shutil\n",
    "\n",
    "import numpy as np\n",
    "import pandas as pd\n",
    "# You can write up to 20GB to the current directory (/kaggle/working/) that gets preserved as output when you create a version using \"Save & Run All\" \n",
    "# You can also write temporary files to /kaggle/temp/, but they won't be saved outside of the current session"
   ]
  },
  {
   "cell_type": "markdown",
   "id": "dbed2349",
   "metadata": {
    "papermill": {
     "duration": 0.009343,
     "end_time": "2022-09-25T16:55:53.701523",
     "exception": false,
     "start_time": "2022-09-25T16:55:53.692180",
     "status": "completed"
    },
    "tags": []
   },
   "source": [
    "# AIM\n",
    "## To classify the images into \n",
    "### IDC+\n",
    "### IDC-\n",
    "\n",
    "# Validation Strategy:\n",
    "\n",
    "## Train Data Size= 0.7*Total_Data\n",
    "## Validation Data Size= 0.21* Total_Data\n",
    "## Test Data Size= 0.09 * Total_Data\n",
    "\n",
    "# Augmentaions Used:\n",
    "## Each Image is rotated through 45 angles\n"
   ]
  },
  {
   "cell_type": "code",
   "execution_count": 2,
   "id": "06ace187",
   "metadata": {
    "execution": {
     "iopub.execute_input": "2022-09-25T16:55:53.722877Z",
     "iopub.status.busy": "2022-09-25T16:55:53.722019Z",
     "iopub.status.idle": "2022-09-25T16:56:05.786230Z",
     "shell.execute_reply": "2022-09-25T16:56:05.784672Z"
    },
    "papermill": {
     "duration": 12.077509,
     "end_time": "2022-09-25T16:56:05.788736",
     "exception": false,
     "start_time": "2022-09-25T16:55:53.711227",
     "status": "completed"
    },
    "tags": []
   },
   "outputs": [
    {
     "data": {
      "text/html": [
       "<style type='text/css'>\n",
       ".datatable table.frame { margin-bottom: 0; }\n",
       ".datatable table.frame thead { border-bottom: none; }\n",
       ".datatable table.frame tr.coltypes td {  color: #FFFFFF;  line-height: 6px;  padding: 0 0.5em;}\n",
       ".datatable .bool    { background: #DDDD99; }\n",
       ".datatable .object  { background: #565656; }\n",
       ".datatable .int     { background: #5D9E5D; }\n",
       ".datatable .float   { background: #4040CC; }\n",
       ".datatable .str     { background: #CC4040; }\n",
       ".datatable .time    { background: #40CC40; }\n",
       ".datatable .row_index {  background: var(--jp-border-color3);  border-right: 1px solid var(--jp-border-color0);  color: var(--jp-ui-font-color3);  font-size: 9px;}\n",
       ".datatable .frame tbody td { text-align: left; }\n",
       ".datatable .frame tr.coltypes .row_index {  background: var(--jp-border-color0);}\n",
       ".datatable th:nth-child(2) { padding-left: 12px; }\n",
       ".datatable .hellipsis {  color: var(--jp-cell-editor-border-color);}\n",
       ".datatable .vellipsis {  background: var(--jp-layout-color0);  color: var(--jp-cell-editor-border-color);}\n",
       ".datatable .na {  color: var(--jp-cell-editor-border-color);  font-size: 80%;}\n",
       ".datatable .sp {  opacity: 0.25;}\n",
       ".datatable .footer { font-size: 9px; }\n",
       ".datatable .frame_dimensions {  background: var(--jp-border-color3);  border-top: 1px solid var(--jp-border-color0);  color: var(--jp-ui-font-color3);  display: inline-block;  opacity: 0.6;  padding: 1px 10px 1px 5px;}\n",
       "</style>\n"
      ],
      "text/plain": [
       "<IPython.core.display.HTML object>"
      ]
     },
     "metadata": {},
     "output_type": "display_data"
    },
    {
     "name": "stdout",
     "output_type": "stream",
     "text": [
      "All modules have been imported\n"
     ]
    }
   ],
   "source": [
    "\n",
    "import numpy as np\n",
    "import pandas as pd\n",
    "import cv2\n",
    "from PIL import Image\n",
    "import scipy\n",
    "\n",
    "import tensorflow as tf\n",
    "from tensorflow.keras.applications import *\n",
    "from tensorflow.keras.optimizers import *\n",
    "from tensorflow.keras.losses import *\n",
    "from tensorflow.keras.layers import *\n",
    "from tensorflow.keras.models import *\n",
    "from tensorflow.keras.callbacks import *\n",
    "from tensorflow.keras.preprocessing.image import *\n",
    "from tensorflow.keras.utils import *\n",
    "# import pydot\n",
    "\n",
    "from sklearn.metrics import *\n",
    "from sklearn.model_selection import *\n",
    "import tensorflow.keras.backend as K\n",
    "\n",
    "from tqdm import tqdm, tqdm_notebook\n",
    "from colorama import Fore\n",
    "import json\n",
    "import matplotlib.pyplot as plt\n",
    "import seaborn as sns\n",
    "from glob import glob\n",
    "from skimage.io import *\n",
    "%config Completer.use_jedi = False\n",
    "import time\n",
    "from sklearn.decomposition import PCA\n",
    "from sklearn.svm import LinearSVC\n",
    "from sklearn.linear_model import LogisticRegression\n",
    "from sklearn.metrics import accuracy_score\n",
    "import lightgbm as lgb\n",
    "import xgboost as xgb\n",
    "\n",
    "print(\"All modules have been imported\")"
   ]
  },
  {
   "cell_type": "code",
   "execution_count": 3,
   "id": "5c48b2df",
   "metadata": {
    "execution": {
     "iopub.execute_input": "2022-09-25T16:56:05.810035Z",
     "iopub.status.busy": "2022-09-25T16:56:05.809604Z",
     "iopub.status.idle": "2022-09-25T16:56:05.815460Z",
     "shell.execute_reply": "2022-09-25T16:56:05.814121Z"
    },
    "papermill": {
     "duration": 0.019278,
     "end_time": "2022-09-25T16:56:05.817827",
     "exception": false,
     "start_time": "2022-09-25T16:56:05.798549",
     "status": "completed"
    },
    "tags": []
   },
   "outputs": [],
   "source": [
    "sampling_seed = 0\n",
    "size_4_training0 = 40000\n",
    "size_4_training1 = 40000\n",
    "img_size = 50\n",
    "training_reshape=(-1, img_size, img_size, 3)\n",
    "epoch_4_test = 50"
   ]
  },
  {
   "cell_type": "code",
   "execution_count": 4,
   "id": "8ecd66a1",
   "metadata": {
    "execution": {
     "iopub.execute_input": "2022-09-25T16:56:05.839301Z",
     "iopub.status.busy": "2022-09-25T16:56:05.838880Z",
     "iopub.status.idle": "2022-09-25T16:56:05.845638Z",
     "shell.execute_reply": "2022-09-25T16:56:05.844552Z"
    },
    "papermill": {
     "duration": 0.019929,
     "end_time": "2022-09-25T16:56:05.847889",
     "exception": false,
     "start_time": "2022-09-25T16:56:05.827960",
     "status": "completed"
    },
    "tags": []
   },
   "outputs": [],
   "source": [
    "import os\n",
    "os.makedirs('../working/data/train_seg/idc-minus/')     \n",
    "os.makedirs('../working/data/train_seg/idc-plus/')  \n",
    "os.makedirs('../working/data/test_seg/idc-minus/')     \n",
    "os.makedirs('../working/data/test_seg/idc-plus/')  \n",
    "os.makedirs('../working/data/val_seg/idc-minus/')     \n",
    "os.makedirs('../working/data/val_seg/idc-plus/') "
   ]
  },
  {
   "cell_type": "code",
   "execution_count": 5,
   "id": "fbda0a33",
   "metadata": {
    "execution": {
     "iopub.execute_input": "2022-09-25T16:56:05.869680Z",
     "iopub.status.busy": "2022-09-25T16:56:05.868525Z",
     "iopub.status.idle": "2022-09-25T17:10:21.168892Z",
     "shell.execute_reply": "2022-09-25T17:10:21.166361Z"
    },
    "papermill": {
     "duration": 855.317388,
     "end_time": "2022-09-25T17:10:21.174970",
     "exception": false,
     "start_time": "2022-09-25T16:56:05.857582",
     "status": "completed"
    },
    "tags": []
   },
   "outputs": [
    {
     "name": "stdout",
     "output_type": "stream",
     "text": [
      "['../input/breast-histopathology-images/IDC_regular_ps50_idx5/10295/0/10295_idx5_x1351_y1101_class0.png', '../input/breast-histopathology-images/IDC_regular_ps50_idx5/10295/0/10295_idx5_x1501_y501_class0.png', '../input/breast-histopathology-images/IDC_regular_ps50_idx5/10295/0/10295_idx5_x1501_y1101_class0.png', '../input/breast-histopathology-images/IDC_regular_ps50_idx5/10295/0/10295_idx5_x451_y901_class0.png', '../input/breast-histopathology-images/IDC_regular_ps50_idx5/10295/0/10295_idx5_x801_y451_class0.png', '../input/breast-histopathology-images/IDC_regular_ps50_idx5/10295/0/10295_idx5_x151_y1051_class0.png', '../input/breast-histopathology-images/IDC_regular_ps50_idx5/10295/0/10295_idx5_x1351_y901_class0.png', '../input/breast-histopathology-images/IDC_regular_ps50_idx5/10295/0/10295_idx5_x701_y651_class0.png', '../input/breast-histopathology-images/IDC_regular_ps50_idx5/10295/0/10295_idx5_x951_y1401_class0.png', '../input/breast-histopathology-images/IDC_regular_ps50_idx5/10295/0/10295_idx5_x601_y501_class0.png']\n",
      "28000\n",
      "3600\n",
      "8400\n",
      "28000\n",
      "3600\n",
      "8400\n"
     ]
    }
   ],
   "source": [
    "\n",
    "import random\n",
    "from glob import glob\n",
    "imagePatches = glob('../input/breast-histopathology-images/IDC_regular_ps50_idx5/**/*.png', recursive=True)\n",
    "train_dir='../working/data/train_seg/'\n",
    "validation_dir='../working/data/val_seg/'\n",
    "#train_dir='../working/data/train_seg/'  \n",
    "#test_dir = '../working/data/test_seg/normal'  \n",
    "test_dir = '../working/data/test_seg/'  \n",
    "\n",
    "class0 = [] # 0 = idc+\n",
    "class1 = [] # 1 = idc-\n",
    "imagePatches = glob('../input/breast-histopathology-images/IDC_regular_ps50_idx5/**/*.png', recursive=True)\n",
    "for filename in imagePatches:\n",
    "    if filename.endswith(\"class0.png\"):\n",
    "         class0.append(filename)\n",
    "    else:\n",
    "        class1.append(filename)\n",
    "\n",
    "print(class0[0:10])\n",
    "\n",
    "#sampling 10000 images from class 0 and class 1 to train the model\n",
    "\n",
    "random.seed(sampling_seed)\n",
    "class0sample=random.sample(class0,size_4_training0)\n",
    "class0label=np.zeros(size_4_training0)\n",
    "class1sample=random.sample(class1,size_4_training1)\n",
    "class1label=np.ones(size_4_training1)\n",
    "\n",
    "class0sample_train, class0sample_test1, class0label_train, class0label_test1 = train_test_split(class0sample, class0label, test_size=0.3, random_state=42)\n",
    "class0sample_val, class0sample_test,  class0label_val, class0label_test = train_test_split(class0sample_test1, class0label_test1, test_size=0.3, random_state=42)\n",
    "print(len(class0sample_train))\n",
    "print(len(class0sample_test))\n",
    "print(len(class0sample_val))\n",
    "class1sample_train, class1sample_test1, class1label_train, class1label_test1 = train_test_split(class1sample, class1label, test_size=0.3, random_state=42)\n",
    "class1sample_val, class1sample_test, class1label_val, class1label_test = train_test_split(class1sample_test1, class1label_test1, test_size=0.3, random_state=42)\n",
    "print(len(class1sample_train))\n",
    "print(len(class1sample_test))\n",
    "print(len(class1sample_val))\n",
    "def read_and_save_data(path, file_name_array):\n",
    "    j=0\n",
    "    for i in file_name_array:\n",
    "        if i.endswith('.png'):\n",
    "          \n",
    "            \n",
    "            #second copy method\n",
    "            head, tail = os.path.split(i)\n",
    "            outputname=str(path+tail)\n",
    "            #outputname=str(path+str(j)+'.png')\n",
    "            #print(outputname)\n",
    "\n",
    "            shutil.copy(i, outputname)\n",
    "             \n",
    "            #print(status2)\n",
    "            \n",
    "            j=j+1\n",
    "            if j==120000:\n",
    "                break\n",
    "            \n",
    "   \n",
    "class0train_path='../working/data/train_seg/idc-minus/'\n",
    "class1train_path='../working/data/train_seg/idc-plus/'\n",
    "class0test_path='../working/data/test_seg/idc-minus/'\n",
    "class1test_path='../working/data/test_seg/idc-plus/'\n",
    "class0val_path='../working/data/val_seg/idc-minus/'\n",
    "class1val_path='../working/data/val_seg/idc-plus/'\n",
    "\n",
    "read_and_save_data(class0train_path,class0sample_train)\n",
    "read_and_save_data(class1train_path,class1sample_train)\n",
    "\n",
    "\n",
    "read_and_save_data(class0test_path,class0sample_test)\n",
    "read_and_save_data(class1test_path,class1sample_test)\n",
    "\n",
    "\n",
    "read_and_save_data(class0val_path,class0sample_val)\n",
    "read_and_save_data(class1val_path,class1sample_val)"
   ]
  },
  {
   "cell_type": "code",
   "execution_count": 6,
   "id": "3932459b",
   "metadata": {
    "execution": {
     "iopub.execute_input": "2022-09-25T17:10:21.202537Z",
     "iopub.status.busy": "2022-09-25T17:10:21.202041Z",
     "iopub.status.idle": "2022-09-25T17:10:37.732261Z",
     "shell.execute_reply": "2022-09-25T17:10:37.730994Z"
    },
    "papermill": {
     "duration": 16.546072,
     "end_time": "2022-09-25T17:10:37.734762",
     "exception": false,
     "start_time": "2022-09-25T17:10:21.188690",
     "status": "completed"
    },
    "tags": []
   },
   "outputs": [
    {
     "name": "stdout",
     "output_type": "stream",
     "text": [
      "(56000, 50, 50, 3)\n",
      "(7200, 50, 50, 3)\n",
      "(16800, 50, 50, 3)\n"
     ]
    }
   ],
   "source": [
    "\n",
    "\n",
    "\n",
    "import os #Operating System\n",
    "import sys #System\n",
    "import cv2\n",
    "def readImage(path, tag):\n",
    "    j=0\n",
    "    image_data = []\n",
    "    label=[]\n",
    "    for i in os.listdir(path):\n",
    "        imgname=path+i\n",
    "        #print(imgname)\n",
    "        img = cv2.imread(imgname, cv2.IMREAD_COLOR)\n",
    "        img_resized = cv2.resize(img, (img_size,img_size), interpolation=cv2.INTER_LINEAR)\n",
    "        image_data.append(img_resized)\n",
    "        label.append(tag)\n",
    "        #print(img[1])\n",
    "        j=j+1\n",
    "        #if j==10:\n",
    "        #    break\n",
    "        \n",
    "    return image_data, label\n",
    "\n",
    "import numpy as np\n",
    "from tensorflow.keras.utils import *\n",
    "from sklearn.utils import shuffle\n",
    "\n",
    "class0_train, train0_label = readImage(class0train_path, 0)\n",
    "class1_train, train1_label  = readImage(class1train_path, 1)\n",
    "class0_test, test0_label = readImage(class0test_path, 0)\n",
    "class1_test, test1_label = readImage(class1test_path, 1)\n",
    "class0_val, val0_label = readImage(class0val_path, 0)\n",
    "class1_val, val1_label = readImage(class1val_path, 1)\n",
    "\n",
    "def Image_array_process(class0array,label0, class1array, label1):\n",
    "    class0_array=np.array(class0array)\n",
    "    class1_array=np.array(class1array)\n",
    "    combined_data = np.concatenate((class0_array, class1_array))\n",
    "    combined_label= np.concatenate((label0,label1), axis=0)\n",
    "    assert len(combined_data) == len(combined_label)\n",
    "    combined_data, combined_label = shuffle(combined_data, combined_label, random_state=0)\n",
    "    print(combined_data.shape)\n",
    "    length=len(combined_data)\n",
    "    combined_label=to_categorical(combined_label,num_classes=2)\n",
    "    #i=0\n",
    "    #for i in range(length):\n",
    "    #    print(combined_label[i])\n",
    "\n",
    "    #print\n",
    "\n",
    "    #print(class0_array.shape)\n",
    "    #print(combined_data.shape)\n",
    "    '''\n",
    "    training_reshape=(224,224,3)\n",
    "    length=len(combined_data)\n",
    "    print(length)\n",
    "    x =[None]*length\n",
    "    #print(img_data.type)\n",
    "    y =np.zeros(length)\n",
    "    i=0\n",
    "   \n",
    "    for features,label in combined_data:\n",
    "        x[i]=features\n",
    "        #print(x.shape)\n",
    "        y[i]=label\n",
    "        #print(y[i])\n",
    "        i=i+1\n",
    "    \n",
    "            #x = np.array(x).reshape(training_reshape)\n",
    "    x = np.array(x)    \n",
    "    #print(x.shape)\n",
    "    #y=np.array(y)\n",
    "    y=y.astype(int)\n",
    "    y = to_categorical(y)\n",
    "    print(y)\n",
    "    '''  \n",
    "    return combined_data, combined_label\n",
    "\n",
    "\n",
    "X_train, y_train=Image_array_process(class0_train, train0_label, class1_train, train1_label)\n",
    "X_test, y_test=Image_array_process(class0_test, test0_label, class1_test, test1_label)\n",
    "X_val, y_val=Image_array_process(class0_val, val0_label, class1_val, val1_label)"
   ]
  },
  {
   "cell_type": "markdown",
   "id": "593ade1e",
   "metadata": {
    "papermill": {
     "duration": 0.009305,
     "end_time": "2022-09-25T17:10:37.754137",
     "exception": false,
     "start_time": "2022-09-25T17:10:37.744832",
     "status": "completed"
    },
    "tags": []
   },
   "source": [
    "Image labelling"
   ]
  },
  {
   "cell_type": "code",
   "execution_count": 7,
   "id": "23297f6f",
   "metadata": {
    "execution": {
     "iopub.execute_input": "2022-09-25T17:10:37.775960Z",
     "iopub.status.busy": "2022-09-25T17:10:37.775286Z",
     "iopub.status.idle": "2022-09-25T17:10:37.780731Z",
     "shell.execute_reply": "2022-09-25T17:10:37.779956Z"
    },
    "papermill": {
     "duration": 0.019128,
     "end_time": "2022-09-25T17:10:37.782968",
     "exception": false,
     "start_time": "2022-09-25T17:10:37.763840",
     "status": "completed"
    },
    "tags": []
   },
   "outputs": [],
   "source": [
    "train_data=X_train\n",
    "train_label=y_train\n",
    "\n",
    "test_data=X_test\n",
    "test_label=y_test\n",
    "\n",
    "val_data=X_val\n",
    "val_label=y_val"
   ]
  },
  {
   "cell_type": "markdown",
   "id": "d1e26054",
   "metadata": {
    "papermill": {
     "duration": 0.009284,
     "end_time": "2022-09-25T17:10:37.802123",
     "exception": false,
     "start_time": "2022-09-25T17:10:37.792839",
     "status": "completed"
    },
    "tags": []
   },
   "source": []
  },
  {
   "cell_type": "markdown",
   "id": "367b9c42",
   "metadata": {
    "papermill": {
     "duration": 0.009348,
     "end_time": "2022-09-25T17:10:37.821071",
     "exception": false,
     "start_time": "2022-09-25T17:10:37.811723",
     "status": "completed"
    },
    "tags": []
   },
   "source": [
    "#import image"
   ]
  },
  {
   "cell_type": "code",
   "execution_count": null,
   "id": "51b32955",
   "metadata": {
    "papermill": {
     "duration": 0.009259,
     "end_time": "2022-09-25T17:10:37.839934",
     "exception": false,
     "start_time": "2022-09-25T17:10:37.830675",
     "status": "completed"
    },
    "tags": []
   },
   "outputs": [],
   "source": []
  },
  {
   "cell_type": "code",
   "execution_count": null,
   "id": "d515ba8b",
   "metadata": {
    "papermill": {
     "duration": 0.00918,
     "end_time": "2022-09-25T17:10:37.858800",
     "exception": false,
     "start_time": "2022-09-25T17:10:37.849620",
     "status": "completed"
    },
    "tags": []
   },
   "outputs": [],
   "source": []
  },
  {
   "cell_type": "code",
   "execution_count": 8,
   "id": "5e740aae",
   "metadata": {
    "execution": {
     "iopub.execute_input": "2022-09-25T17:10:37.880964Z",
     "iopub.status.busy": "2022-09-25T17:10:37.880287Z",
     "iopub.status.idle": "2022-09-25T17:10:38.674092Z",
     "shell.execute_reply": "2022-09-25T17:10:38.673215Z"
    },
    "papermill": {
     "duration": 0.807658,
     "end_time": "2022-09-25T17:10:38.676659",
     "exception": false,
     "start_time": "2022-09-25T17:10:37.869001",
     "status": "completed"
    },
    "tags": []
   },
   "outputs": [],
   "source": [
    "from keras.preprocessing.image import ImageDataGenerator\n",
    "from keras.callbacks import ModelCheckpoint\n",
    "from keras.models import load_model\n",
    "from keras.callbacks import *\n",
    "\n",
    "\n",
    "#train_datagen2 = ImageDataGenerator(rescale = 1/255)\n",
    "\n",
    "train_datagen = ImageDataGenerator(rescale = 1.0/255,\n",
    "                                  width_shift_range = 0.1,\n",
    "                                  height_shift_range = 0.1,\n",
    "                                  fill_mode = 'constant',\n",
    "                                  zoom_range = 0.1,\n",
    "                                  rotation_range = 20\n",
    "                                  )\n",
    "\n",
    "val_datagen = ImageDataGenerator(rescale = 1.0/255)\n",
    "val2_datagen = ImageDataGenerator(rescale = 1.0/255)\n",
    "\n",
    "train_generator = train_datagen.flow(train_data,\n",
    "                                     train_label, \n",
    "                                     #batch_size = 16, \n",
    "                                     shuffle = False\n",
    "                                    )\n",
    "\n",
    "val_generator = val_datagen.flow(test_data,\n",
    "                                 test_label,\n",
    "                                 #batch_size = 16,\n",
    "                                 shuffle = False\n",
    "                                )\n",
    "val2_generator = val_datagen.flow(val_data,\n",
    "                                 val_label,\n",
    "                                 #batch_size = 16,\n",
    "                                 shuffle = False\n",
    "                                 )"
   ]
  },
  {
   "cell_type": "markdown",
   "id": "ff08f2a7",
   "metadata": {
    "papermill": {
     "duration": 0.009324,
     "end_time": "2022-09-25T17:10:38.695840",
     "exception": false,
     "start_time": "2022-09-25T17:10:38.686516",
     "status": "completed"
    },
    "tags": []
   },
   "source": [
    "# Model configure"
   ]
  },
  {
   "cell_type": "code",
   "execution_count": 9,
   "id": "a7036d2a",
   "metadata": {
    "execution": {
     "iopub.execute_input": "2022-09-25T17:10:38.717171Z",
     "iopub.status.busy": "2022-09-25T17:10:38.716731Z",
     "iopub.status.idle": "2022-09-25T17:10:39.089274Z",
     "shell.execute_reply": "2022-09-25T17:10:39.088244Z"
    },
    "papermill": {
     "duration": 0.386358,
     "end_time": "2022-09-25T17:10:39.091801",
     "exception": false,
     "start_time": "2022-09-25T17:10:38.705443",
     "status": "completed"
    },
    "tags": []
   },
   "outputs": [
    {
     "name": "stderr",
     "output_type": "stream",
     "text": [
      "2022-09-25 17:10:38.808926: I tensorflow/core/common_runtime/process_util.cc:146] Creating new thread pool with default inter op setting: 2. Tune using inter_op_parallelism_threads for best performance.\n"
     ]
    },
    {
     "name": "stdout",
     "output_type": "stream",
     "text": [
      "Model: \"sequential\"\n",
      "_________________________________________________________________\n",
      "Layer (type)                 Output Shape              Param #   \n",
      "=================================================================\n",
      "conv2d (Conv2D)              (None, 48, 48, 32)        896       \n",
      "_________________________________________________________________\n",
      "conv2d_1 (Conv2D)            (None, 46, 46, 32)        9248      \n",
      "_________________________________________________________________\n",
      "conv2d_2 (Conv2D)            (None, 44, 44, 32)        9248      \n",
      "_________________________________________________________________\n",
      "max_pooling2d (MaxPooling2D) (None, 22, 22, 32)        0         \n",
      "_________________________________________________________________\n",
      "dropout (Dropout)            (None, 22, 22, 32)        0         \n",
      "_________________________________________________________________\n",
      "conv2d_3 (Conv2D)            (None, 20, 20, 64)        18496     \n",
      "_________________________________________________________________\n",
      "conv2d_4 (Conv2D)            (None, 18, 18, 64)        36928     \n",
      "_________________________________________________________________\n",
      "conv2d_5 (Conv2D)            (None, 16, 16, 64)        36928     \n",
      "_________________________________________________________________\n",
      "max_pooling2d_1 (MaxPooling2 (None, 8, 8, 64)          0         \n",
      "_________________________________________________________________\n",
      "dropout_1 (Dropout)          (None, 8, 8, 64)          0         \n",
      "_________________________________________________________________\n",
      "conv2d_6 (Conv2D)            (None, 6, 6, 128)         73856     \n",
      "_________________________________________________________________\n",
      "conv2d_7 (Conv2D)            (None, 4, 4, 128)         147584    \n",
      "_________________________________________________________________\n",
      "conv2d_8 (Conv2D)            (None, 2, 2, 128)         147584    \n",
      "_________________________________________________________________\n",
      "max_pooling2d_2 (MaxPooling2 (None, 1, 1, 128)         0         \n",
      "_________________________________________________________________\n",
      "dropout_2 (Dropout)          (None, 1, 1, 128)         0         \n",
      "_________________________________________________________________\n",
      "flatten (Flatten)            (None, 128)               0         \n",
      "_________________________________________________________________\n",
      "dense (Dense)                (None, 256)               33024     \n",
      "_________________________________________________________________\n",
      "dropout_3 (Dropout)          (None, 256)               0         \n",
      "_________________________________________________________________\n",
      "dense_1 (Dense)              (None, 2)                 514       \n",
      "=================================================================\n",
      "Total params: 514,306\n",
      "Trainable params: 514,306\n",
      "Non-trainable params: 0\n",
      "_________________________________________________________________\n"
     ]
    }
   ],
   "source": [
    "from keras.models import Sequential\n",
    "\n",
    "\n",
    "kernel_size = (3,3)\n",
    "pool_size= (2,2)\n",
    "first_filters = 32\n",
    "second_filters = 64\n",
    "third_filters = 128\n",
    "\n",
    "dropout_conv = 0.3\n",
    "dropout_dense = 0.3\n",
    "\n",
    "RESNET50_POOLING_AVERAGE = 'avg'\n",
    "DENSE_LAYER_ACTIVATION = 'sigmoid'\n",
    "OBJECTIVE_FUNCTION = 'categorical_crossentropy'\n",
    "\n",
    "# Common accuracy metric for all outputs, but can use different metrics for different output\n",
    "LOSS_METRICS = ['accuracy']\n",
    "\n",
    "# EARLY_STOP_PATIENCE must be < NUM_EPOCHS\n",
    "NUM_EPOCHS = 30\n",
    "EARLY_STOP_PATIENCE = 10\n",
    "#resnet_weights_path = '../input/resnet50/resnet50_weights_tf_dim_ordering_tf_kernels_notop.h5'\n",
    "\n",
    "\n",
    "# fix pretrained layers for deep fea\n",
    "RESNET50_POOLING_AVERAGE = 'avg'\n",
    "DENSE_LAYER_ACTIVATION = 'sigmoid'\n",
    "OBJECTIVE_FUNCTION = 'categorical_crossentropy'\n",
    "\n",
    "# Common accuracy metric for all outputs, but can use different metrics for different output\n",
    "LOSS_METRICS = ['accuracy']\n",
    "\n",
    "#from keras.applications import resnet\n",
    "#base_model=resnet.ResNet50(include_top = True, input_shape=(img_size, img_size, 3), pooling = RESNET50_POOLING_AVERAGE, weights = 'imagenet')\n",
    "#from tensorflow.keras.applications.mobilenet import MobileNet\n",
    "#base_model.trainable = True\n",
    "#model=Sequential()\n",
    "\n",
    "\n",
    "\n",
    "model = Sequential()\n",
    "model.add(Conv2D(first_filters, kernel_size, activation = 'relu', \n",
    "                 input_shape = (img_size, img_size, 3)))\n",
    "model.add(Conv2D(first_filters, kernel_size, activation = 'relu'))\n",
    "model.add(Conv2D(first_filters, kernel_size, activation = 'relu'))\n",
    "model.add(MaxPooling2D(pool_size = pool_size)) \n",
    "model.add(Dropout(dropout_conv))\n",
    "\n",
    "model.add(Conv2D(second_filters, kernel_size, activation ='relu'))\n",
    "model.add(Conv2D(second_filters, kernel_size, activation ='relu'))\n",
    "model.add(Conv2D(second_filters, kernel_size, activation ='relu'))\n",
    "model.add(MaxPooling2D(pool_size = pool_size))\n",
    "model.add(Dropout(dropout_conv))\n",
    "\n",
    "model.add(Conv2D(third_filters, kernel_size, activation ='relu'))\n",
    "model.add(Conv2D(third_filters, kernel_size, activation ='relu'))\n",
    "model.add(Conv2D(third_filters, kernel_size, activation ='relu'))\n",
    "model.add(MaxPooling2D(pool_size = pool_size))\n",
    "model.add(Dropout(dropout_conv))\n",
    "\n",
    "model.add(Flatten())\n",
    "model.add(Dense(256, activation = \"relu\"))\n",
    "model.add(Dropout(dropout_dense))\n",
    "model.add(Dense(2, activation = \"softmax\"))\n",
    "\n",
    "model.summary()\n",
    "\n"
   ]
  },
  {
   "cell_type": "code",
   "execution_count": 10,
   "id": "cbf5ee97",
   "metadata": {
    "execution": {
     "iopub.execute_input": "2022-09-25T17:10:39.115711Z",
     "iopub.status.busy": "2022-09-25T17:10:39.114590Z",
     "iopub.status.idle": "2022-09-25T17:10:40.412532Z",
     "shell.execute_reply": "2022-09-25T17:10:40.411572Z"
    },
    "papermill": {
     "duration": 1.315413,
     "end_time": "2022-09-25T17:10:40.417636",
     "exception": false,
     "start_time": "2022-09-25T17:10:39.102223",
     "status": "completed"
    },
    "tags": []
   },
   "outputs": [
    {
     "data": {
      "image/png": "[encoded data removed]",
      "text/plain": [
       "<IPython.core.display.Image object>"
      ]
     },
     "execution_count": 10,
     "metadata": {},
     "output_type": "execute_result"
    }
   ],
   "source": [
    "from tensorflow.keras.utils import plot_model\n",
    "from IPython.display import Image\n",
    "plot_model(model, to_file='convnet.png', show_shapes=True, show_layer_names=True)\n",
    "Image(filename='convnet.png') "
   ]
  },
  {
   "cell_type": "code",
   "execution_count": 11,
   "id": "de3ec3cb",
   "metadata": {
    "execution": {
     "iopub.execute_input": "2022-09-25T17:10:40.446327Z",
     "iopub.status.busy": "2022-09-25T17:10:40.445607Z",
     "iopub.status.idle": "2022-09-25T17:10:40.450296Z",
     "shell.execute_reply": "2022-09-25T17:10:40.449552Z"
    },
    "papermill": {
     "duration": 0.021011,
     "end_time": "2022-09-25T17:10:40.452169",
     "exception": false,
     "start_time": "2022-09-25T17:10:40.431158",
     "status": "completed"
    },
    "tags": []
   },
   "outputs": [],
   "source": [
    "# os.makedirs('../working/log/')\n",
    "MODEL_INIT = '../working/init_model.h5'\n",
    "MODEL_PATH = '/kaggle/input/cnn1aug1lr3rdtrain/220630 new roc CNN 1 aug 78786train 50ep 3rd train.h5'"
   ]
  },
  {
   "cell_type": "code",
   "execution_count": 12,
   "id": "622a780b",
   "metadata": {
    "execution": {
     "iopub.execute_input": "2022-09-25T17:10:40.479489Z",
     "iopub.status.busy": "2022-09-25T17:10:40.479115Z",
     "iopub.status.idle": "2022-09-25T17:10:40.497850Z",
     "shell.execute_reply": "2022-09-25T17:10:40.497041Z"
    },
    "papermill": {
     "duration": 0.035301,
     "end_time": "2022-09-25T17:10:40.500160",
     "exception": false,
     "start_time": "2022-09-25T17:10:40.464859",
     "status": "completed"
    },
    "tags": []
   },
   "outputs": [],
   "source": [
    "callbacks1 = [EarlyStopping(monitor='val_acc', patience=5, verbose=1), ModelCheckpoint(MODEL_INIT, monitor='val_accuracy', save_best_only=True)]\n",
    "opt = Adam(learning_rate=0.0001)\n",
    "model.compile(loss='categorical_crossentropy', optimizer=opt, metrics=['accuracy'])\n",
    "#model.load_weights(MODEL_PATH)"
   ]
  },
  {
   "cell_type": "code",
   "execution_count": 13,
   "id": "ca0666ca",
   "metadata": {
    "execution": {
     "iopub.execute_input": "2022-09-25T17:10:40.528366Z",
     "iopub.status.busy": "2022-09-25T17:10:40.527619Z",
     "iopub.status.idle": "2022-09-25T22:23:57.654621Z",
     "shell.execute_reply": "2022-09-25T22:23:57.653398Z"
    },
    "papermill": {
     "duration": 18797.144693,
     "end_time": "2022-09-25T22:23:57.657577",
     "exception": false,
     "start_time": "2022-09-25T17:10:40.512884",
     "status": "completed"
    },
    "tags": []
   },
   "outputs": [
    {
     "name": "stdout",
     "output_type": "stream",
     "text": [
      "CPU times: user 3 µs, sys: 2 µs, total: 5 µs\n",
      "Wall time: 16.5 µs\n"
     ]
    },
    {
     "name": "stderr",
     "output_type": "stream",
     "text": [
      "2022-09-25 17:10:40.697951: I tensorflow/compiler/mlir/mlir_graph_optimization_pass.cc:185] None of the MLIR Optimization Passes are enabled (registered 2)\n"
     ]
    },
    {
     "name": "stdout",
     "output_type": "stream",
     "text": [
      "Epoch 1/50\n",
      "1750/1750 [==============================] - 336s 191ms/step - loss: 0.5083 - accuracy: 0.7606 - val_loss: 0.4718 - val_accuracy: 0.7965\n",
      "Epoch 2/50\n",
      "1750/1750 [==============================] - 335s 191ms/step - loss: 0.4563 - accuracy: 0.8003 - val_loss: 0.4314 - val_accuracy: 0.8087\n",
      "Epoch 3/50\n",
      "1750/1750 [==============================] - 335s 191ms/step - loss: 0.4378 - accuracy: 0.8081 - val_loss: 0.4176 - val_accuracy: 0.8143\n",
      "Epoch 4/50\n",
      "1750/1750 [==============================] - 338s 193ms/step - loss: 0.4191 - accuracy: 0.8178 - val_loss: 0.4199 - val_accuracy: 0.8126\n",
      "Epoch 5/50\n",
      "1750/1750 [==============================] - 338s 193ms/step - loss: 0.4063 - accuracy: 0.8251 - val_loss: 0.4003 - val_accuracy: 0.8267\n",
      "Epoch 6/50\n",
      "1750/1750 [==============================] - 339s 194ms/step - loss: 0.3962 - accuracy: 0.8304 - val_loss: 0.3826 - val_accuracy: 0.8340\n",
      "Epoch 7/50\n",
      "1750/1750 [==============================] - 338s 193ms/step - loss: 0.3874 - accuracy: 0.8347 - val_loss: 0.3751 - val_accuracy: 0.8424\n",
      "Epoch 8/50\n",
      "1750/1750 [==============================] - 340s 194ms/step - loss: 0.3813 - accuracy: 0.8386 - val_loss: 0.3745 - val_accuracy: 0.8435\n",
      "Epoch 9/50\n",
      "1750/1750 [==============================] - 340s 194ms/step - loss: 0.3763 - accuracy: 0.8407 - val_loss: 0.4008 - val_accuracy: 0.8268\n",
      "Epoch 10/50\n",
      "1750/1750 [==============================] - 339s 194ms/step - loss: 0.3713 - accuracy: 0.8435 - val_loss: 0.3639 - val_accuracy: 0.8503\n",
      "Epoch 11/50\n",
      "1750/1750 [==============================] - 343s 196ms/step - loss: 0.3703 - accuracy: 0.8450 - val_loss: 0.3791 - val_accuracy: 0.8390\n",
      "Epoch 12/50\n",
      "1750/1750 [==============================] - 342s 195ms/step - loss: 0.3655 - accuracy: 0.8469 - val_loss: 0.3591 - val_accuracy: 0.8492\n",
      "Epoch 13/50\n",
      "1750/1750 [==============================] - 343s 196ms/step - loss: 0.3600 - accuracy: 0.8510 - val_loss: 0.3752 - val_accuracy: 0.8393\n",
      "Epoch 14/50\n",
      "1750/1750 [==============================] - 343s 196ms/step - loss: 0.3591 - accuracy: 0.8504 - val_loss: 0.3672 - val_accuracy: 0.8472\n",
      "Epoch 15/50\n",
      "1750/1750 [==============================] - 345s 197ms/step - loss: 0.3561 - accuracy: 0.8506 - val_loss: 0.3644 - val_accuracy: 0.8467\n",
      "Epoch 16/50\n",
      "1750/1750 [==============================] - 345s 197ms/step - loss: 0.3533 - accuracy: 0.8524 - val_loss: 0.3495 - val_accuracy: 0.8537\n",
      "Epoch 17/50\n",
      "1750/1750 [==============================] - 345s 197ms/step - loss: 0.3503 - accuracy: 0.8538 - val_loss: 0.3713 - val_accuracy: 0.8415\n",
      "Epoch 18/50\n",
      "1750/1750 [==============================] - 345s 197ms/step - loss: 0.3491 - accuracy: 0.8542 - val_loss: 0.3583 - val_accuracy: 0.8514\n",
      "Epoch 19/50\n",
      "1750/1750 [==============================] - 345s 197ms/step - loss: 0.3453 - accuracy: 0.8566 - val_loss: 0.3541 - val_accuracy: 0.8485\n",
      "Epoch 20/50\n",
      "1750/1750 [==============================] - 347s 198ms/step - loss: 0.3430 - accuracy: 0.8575 - val_loss: 0.3432 - val_accuracy: 0.8560\n",
      "Epoch 21/50\n",
      "1750/1750 [==============================] - 348s 199ms/step - loss: 0.3412 - accuracy: 0.8578 - val_loss: 0.3606 - val_accuracy: 0.8461\n",
      "Epoch 22/50\n",
      "1750/1750 [==============================] - 348s 199ms/step - loss: 0.3383 - accuracy: 0.8596 - val_loss: 0.3522 - val_accuracy: 0.8524\n",
      "Epoch 23/50\n",
      "1750/1750 [==============================] - 348s 199ms/step - loss: 0.3369 - accuracy: 0.8591 - val_loss: 0.3391 - val_accuracy: 0.8549\n",
      "Epoch 24/50\n",
      "1750/1750 [==============================] - 348s 199ms/step - loss: 0.3357 - accuracy: 0.8602 - val_loss: 0.3396 - val_accuracy: 0.8582\n",
      "Epoch 25/50\n",
      "1750/1750 [==============================] - 344s 196ms/step - loss: 0.3346 - accuracy: 0.8610 - val_loss: 0.3340 - val_accuracy: 0.8608\n",
      "Epoch 26/50\n",
      "1750/1750 [==============================] - 343s 196ms/step - loss: 0.3320 - accuracy: 0.8613 - val_loss: 0.3266 - val_accuracy: 0.8581\n",
      "Epoch 27/50\n",
      "1750/1750 [==============================] - 342s 196ms/step - loss: 0.3304 - accuracy: 0.8616 - val_loss: 0.3266 - val_accuracy: 0.8589\n",
      "Epoch 28/50\n",
      "1750/1750 [==============================] - 344s 196ms/step - loss: 0.3308 - accuracy: 0.8617 - val_loss: 0.3501 - val_accuracy: 0.8499\n",
      "Epoch 29/50\n",
      "1750/1750 [==============================] - 344s 197ms/step - loss: 0.3276 - accuracy: 0.8648 - val_loss: 0.3362 - val_accuracy: 0.8550\n",
      "Epoch 30/50\n",
      "1750/1750 [==============================] - 342s 195ms/step - loss: 0.3285 - accuracy: 0.8637 - val_loss: 0.3281 - val_accuracy: 0.8601\n",
      "Epoch 31/50\n",
      "1750/1750 [==============================] - 344s 197ms/step - loss: 0.3251 - accuracy: 0.8637 - val_loss: 0.3339 - val_accuracy: 0.8583\n",
      "Epoch 32/50\n",
      "1750/1750 [==============================] - 343s 196ms/step - loss: 0.3231 - accuracy: 0.8658 - val_loss: 0.3319 - val_accuracy: 0.8574\n",
      "Epoch 33/50\n",
      "1750/1750 [==============================] - 346s 197ms/step - loss: 0.3221 - accuracy: 0.8657 - val_loss: 0.3174 - val_accuracy: 0.8647\n",
      "Epoch 34/50\n",
      "1750/1750 [==============================] - 355s 203ms/step - loss: 0.3214 - accuracy: 0.8661 - val_loss: 0.3313 - val_accuracy: 0.8601\n",
      "Epoch 35/50\n",
      "1750/1750 [==============================] - 345s 197ms/step - loss: 0.3187 - accuracy: 0.8664 - val_loss: 0.3209 - val_accuracy: 0.8639\n",
      "Epoch 36/50\n",
      "1750/1750 [==============================] - 345s 197ms/step - loss: 0.3176 - accuracy: 0.8676 - val_loss: 0.3190 - val_accuracy: 0.8657\n",
      "Epoch 37/50\n",
      "1750/1750 [==============================] - 345s 197ms/step - loss: 0.3190 - accuracy: 0.8669 - val_loss: 0.3267 - val_accuracy: 0.8615\n",
      "Epoch 38/50\n",
      "1750/1750 [==============================] - 350s 200ms/step - loss: 0.3172 - accuracy: 0.8686 - val_loss: 0.3207 - val_accuracy: 0.8635\n",
      "Epoch 39/50\n",
      "1750/1750 [==============================] - 347s 198ms/step - loss: 0.3134 - accuracy: 0.8694 - val_loss: 0.3271 - val_accuracy: 0.8604\n",
      "Epoch 40/50\n",
      "1750/1750 [==============================] - 347s 198ms/step - loss: 0.3125 - accuracy: 0.8707 - val_loss: 0.3328 - val_accuracy: 0.8606\n",
      "Epoch 41/50\n",
      "1750/1750 [==============================] - 348s 199ms/step - loss: 0.3112 - accuracy: 0.8707 - val_loss: 0.3238 - val_accuracy: 0.8619\n",
      "Epoch 42/50\n",
      "1750/1750 [==============================] - 346s 198ms/step - loss: 0.3103 - accuracy: 0.8710 - val_loss: 0.3224 - val_accuracy: 0.8650\n",
      "Epoch 43/50\n",
      "1750/1750 [==============================] - 346s 198ms/step - loss: 0.3113 - accuracy: 0.8716 - val_loss: 0.3277 - val_accuracy: 0.8610\n",
      "Epoch 44/50\n",
      "1750/1750 [==============================] - 345s 197ms/step - loss: 0.3099 - accuracy: 0.8713 - val_loss: 0.3458 - val_accuracy: 0.8503\n",
      "Epoch 45/50\n",
      "1750/1750 [==============================] - 347s 198ms/step - loss: 0.3079 - accuracy: 0.8711 - val_loss: 0.3244 - val_accuracy: 0.8629\n",
      "Epoch 46/50\n",
      "1750/1750 [==============================] - 347s 198ms/step - loss: 0.3061 - accuracy: 0.8728 - val_loss: 0.3444 - val_accuracy: 0.8456\n",
      "Epoch 47/50\n",
      "1750/1750 [==============================] - 348s 199ms/step - loss: 0.3062 - accuracy: 0.8731 - val_loss: 0.3320 - val_accuracy: 0.8612\n",
      "Epoch 48/50\n",
      "1750/1750 [==============================] - 347s 198ms/step - loss: 0.3044 - accuracy: 0.8746 - val_loss: 0.3415 - val_accuracy: 0.8539\n",
      "Epoch 49/50\n",
      "1750/1750 [==============================] - 342s 195ms/step - loss: 0.3030 - accuracy: 0.8755 - val_loss: 0.3218 - val_accuracy: 0.8669\n",
      "Epoch 50/50\n",
      "1750/1750 [==============================] - 339s 194ms/step - loss: 0.3029 - accuracy: 0.8743 - val_loss: 0.3424 - val_accuracy: 0.8499\n"
     ]
    }
   ],
   "source": [
    "%time\n",
    "#history1=model.fit(X_train, y_train,validation_data=(X_test, y_test),verbose = 1,epochs = 30,callbacks=callbacks1)\n",
    "history1=model.fit_generator(train_generator,validation_data=val_generator,verbose = 1,epochs = epoch_4_test,callbacks=callbacks1)"
   ]
  },
  {
   "cell_type": "code",
   "execution_count": 14,
   "id": "87877171",
   "metadata": {
    "execution": {
     "iopub.execute_input": "2022-09-25T22:24:09.454268Z",
     "iopub.status.busy": "2022-09-25T22:24:09.453788Z",
     "iopub.status.idle": "2022-09-25T22:24:09.881708Z",
     "shell.execute_reply": "2022-09-25T22:24:09.880459Z"
    },
    "papermill": {
     "duration": 6.333118,
     "end_time": "2022-09-25T22:24:09.884181",
     "exception": false,
     "start_time": "2022-09-25T22:24:03.551063",
     "status": "completed"
    },
    "tags": []
   },
   "outputs": [
    {
     "data": {
      "image/png": "[encoded data removed]",
      "text/plain": [
       "<Figure size 864x432 with 2 Axes>"
      ]
     },
     "metadata": {
      "needs_background": "light"
     },
     "output_type": "display_data"
    }
   ],
   "source": [
    "import matplotlib.pyplot as plt\n",
    "import seaborn as sns\n",
    "plt.figure(figsize = (12, 6))\n",
    "plt.subplot(121)\n",
    "#plotting the Accuracy of test and training sets\n",
    "plt.plot(history1.history['accuracy'])\n",
    "plt.plot(history1.history['val_accuracy'])\n",
    "plt.title('1st training Model Accuracy')\n",
    "plt.ylabel('accuracy')\n",
    "plt.xlabel('epoch')\n",
    "plt.legend(['train', 'test'], loc='upper left')\n",
    "\n",
    "plt.subplot(122)\n",
    "#plotting the loss of test and training sets\n",
    "plt.plot(history1.history['loss'])\n",
    "plt.plot(history1.history['val_loss'])\n",
    "plt.title('1st training Model Loss')\n",
    "plt.ylabel('loss')\n",
    "plt.xlabel('epoch')\n",
    "plt.legend(['train', 'test'], loc='upper left')\n",
    "plt.show()"
   ]
  },
  {
   "cell_type": "code",
   "execution_count": 15,
   "id": "1fe8b4b7",
   "metadata": {
    "execution": {
     "iopub.execute_input": "2022-09-25T22:24:21.361201Z",
     "iopub.status.busy": "2022-09-25T22:24:21.360448Z",
     "iopub.status.idle": "2022-09-25T22:25:33.618798Z",
     "shell.execute_reply": "2022-09-25T22:25:33.617671Z"
    },
    "papermill": {
     "duration": 78.02198,
     "end_time": "2022-09-25T22:25:33.621102",
     "exception": false,
     "start_time": "2022-09-25T22:24:15.599122",
     "status": "completed"
    },
    "tags": []
   },
   "outputs": [
    {
     "name": "stdout",
     "output_type": "stream",
     "text": [
      "analyse of 1st model\n",
      "VAL kappa\n",
      "0.7219047619047618\n",
      "analyse 1st model\n",
      "report of val data\n",
      "              precision    recall  f1-score   support\n",
      "\n",
      "           0   0.882538  0.832738  0.856915      8400\n",
      "           1   0.841672  0.889167  0.864768      8400\n",
      "\n",
      "    accuracy                       0.860952     16800\n",
      "   macro avg   0.862105  0.860952  0.860842     16800\n",
      "weighted avg   0.862105  0.860952  0.860842     16800\n",
      "\n"
     ]
    },
    {
     "data": {
      "image/png": "[encoded data removed]",
      "text/plain": [
       "<Figure size 864x432 with 2 Axes>"
      ]
     },
     "metadata": {
      "needs_background": "light"
     },
     "output_type": "display_data"
    }
   ],
   "source": [
    "import sklearn\n",
    "from sklearn.metrics import f1_score, roc_auc_score, cohen_kappa_score, precision_score, recall_score, accuracy_score, confusion_matrix\n",
    "#---------------\n",
    "from keras.models import load_model\n",
    "\n",
    "model1 = load_model(MODEL_INIT, compile=False)\n",
    "print(\"analyse of 1st model\")\n",
    "\n",
    "\n",
    "cf_matrix_val = confusion_matrix(\n",
    "    np.concatenate([np.argmax(val2_generator[i][1], axis=1) for i in range(len(val2_generator))]),    \n",
    "    np.argmax(model1.predict_generator(val2_generator, steps=len(val2_generator)), axis=1) \n",
    ")\n",
    "\n",
    "plt.figure(figsize = (12, 6))\n",
    "sns.heatmap(cf_matrix_val, annot=True, cmap='Blues', fmt='g')\n",
    "plt.title(\"VAL Confusion matrix\")\n",
    "# kappa VAL\n",
    "kappa_val = cohen_kappa_score(\n",
    "    np.concatenate([np.argmax(val2_generator[i][1], axis=1) for i in range(len(val2_generator))]),    \n",
    "    np.argmax(model1.predict_generator(val2_generator, steps=len(val2_generator)), axis=1) \n",
    ")\n",
    "print(\"VAL kappa\")\n",
    "print(kappa_val)\n",
    "\n",
    "\n",
    "\n",
    "print(\"analyse 1st model\")\n",
    "print(\"report of val data\")\n",
    "report = sklearn.metrics.classification_report(\n",
    "    np.concatenate([np.argmax(val2_generator[i][1], axis=1) for i in range(len(val2_generator))]),    \n",
    "    np.argmax(model1.predict_generator(val2_generator, steps=len(val2_generator)), axis=1) , digits=6\n",
    ")\n",
    "print(report)"
   ]
  },
  {
   "cell_type": "code",
   "execution_count": 16,
   "id": "a4ea5af5",
   "metadata": {
    "execution": {
     "iopub.execute_input": "2022-09-25T22:25:45.202339Z",
     "iopub.status.busy": "2022-09-25T22:25:45.201511Z",
     "iopub.status.idle": "2022-09-25T22:26:16.032209Z",
     "shell.execute_reply": "2022-09-25T22:26:16.031170Z"
    },
    "papermill": {
     "duration": 36.530284,
     "end_time": "2022-09-25T22:26:16.034427",
     "exception": false,
     "start_time": "2022-09-25T22:25:39.504143",
     "status": "completed"
    },
    "tags": []
   },
   "outputs": [
    {
     "name": "stdout",
     "output_type": "stream",
     "text": [
      "report of test data\n",
      "              precision    recall  f1-score   support\n",
      "\n",
      "           0  0.8943284 0.8322222 0.8621583      3600\n",
      "           1  0.8431169 0.9016667 0.8714094      3600\n",
      "\n",
      "    accuracy                      0.8669444      7200\n",
      "   macro avg  0.8687226 0.8669444 0.8667838      7200\n",
      "weighted avg  0.8687226 0.8669444 0.8667838      7200\n",
      "\n",
      "TEST kappa\n",
      "0.7338888888888888\n"
     ]
    },
    {
     "data": {
      "image/png": "[encoded data removed]",
      "text/plain": [
       "<Figure size 864x432 with 2 Axes>"
      ]
     },
     "metadata": {
      "needs_background": "light"
     },
     "output_type": "display_data"
    }
   ],
   "source": [
    "#------------------\n",
    "cf_matrix_test = confusion_matrix(\n",
    "    np.concatenate([np.argmax(val_generator[i][1], axis=1) for i in range(len(val_generator))]),    \n",
    "    np.argmax(model1.predict_generator(val_generator, steps=len(val_generator)), axis=1) \n",
    ")\n",
    "\n",
    "plt.figure(figsize = (12, 6))\n",
    "sns.heatmap(cf_matrix_test, annot=True, cmap='Blues', fmt='g')\n",
    "plt.title(\"Test Confusion matrix\")\n",
    "\n",
    "\n",
    "\n",
    "print(\"report of test data\")\n",
    "import sklearn\n",
    "\n",
    "report = sklearn.metrics.classification_report(\n",
    "    np.concatenate([np.argmax(val_generator[i][1], axis=1) for i in range(len(val_generator))]),    \n",
    "    np.argmax(model1.predict_generator(val_generator, steps=len(val_generator)), axis=1) , digits=7\n",
    ")\n",
    "print(report)\n",
    "\n",
    "\n",
    "# kappa TEST\n",
    "kappa_test = cohen_kappa_score(\n",
    "    np.concatenate([np.argmax(val_generator[i][1], axis=1) for i in range(len(val_generator))]),    \n",
    "    np.argmax(model1.predict_generator(val_generator, steps=len(val_generator)), axis=1)\n",
    ")\n",
    "print(\"TEST kappa\")\n",
    "print(kappa_test)"
   ]
  },
  {
   "cell_type": "code",
   "execution_count": 17,
   "id": "13834b6c",
   "metadata": {
    "execution": {
     "iopub.execute_input": "2022-09-25T22:26:27.880829Z",
     "iopub.status.busy": "2022-09-25T22:26:27.880421Z",
     "iopub.status.idle": "2022-09-25T22:26:51.226175Z",
     "shell.execute_reply": "2022-09-25T22:26:51.225037Z"
    },
    "papermill": {
     "duration": 29.32135,
     "end_time": "2022-09-25T22:26:51.228888",
     "exception": false,
     "start_time": "2022-09-25T22:26:21.907538",
     "status": "completed"
    },
    "tags": []
   },
   "outputs": [
    {
     "name": "stdout",
     "output_type": "stream",
     "text": [
      "roc analysis of val dataset\n",
      "[1 0 1 ... 1 1 0]\n",
      "[[0.08227576 0.91772425]\n",
      " [0.25609145 0.7439085 ]\n",
      " [0.03708801 0.96291196]\n",
      " ...\n",
      " [0.07687426 0.92312574]\n",
      " [0.02207822 0.9779218 ]\n",
      " [0.6825784  0.3174216 ]]\n",
      "[0.91772425 0.74390852 0.96291196 ... 0.92312574 0.97792178 0.31742159]\n"
     ]
    },
    {
     "data": {
      "image/png": "[encoded data removed]",
      "text/plain": [
       "<Figure size 432x288 with 1 Axes>"
      ]
     },
     "metadata": {
      "needs_background": "light"
     },
     "output_type": "display_data"
    },
    {
     "name": "stdout",
     "output_type": "stream",
     "text": [
      "auc value\n",
      "0.9351298752834467\n"
     ]
    }
   ],
   "source": [
    "print(\"roc analysis of val dataset\")\n",
    "from scipy import interp\n",
    "import matplotlib.pyplot as plt\n",
    "from sklearn.metrics import roc_curve, auc\n",
    "n_classes=2\n",
    "test_labels = np.concatenate([np.argmax(val2_generator[i][1], axis=1) for i in range(len(val2_generator))])\n",
    "print(test_labels)\n",
    "\n",
    "y_score = model1.predict_generator(val2_generator)\n",
    "print(y_score)\n",
    "\n",
    "y_predict_score = []\n",
    "y_score_normalise=np.zeros((len(test_labels),n_classes))\n",
    "for i in range(len(test_labels)):\n",
    "    y_score_normalise1=y_score[i][1]/(y_score[i][0]+y_score[i][1])*1.0\n",
    "    y_score_normalise0=y_score[i][0]/(y_score[i][0]+y_score[i][1])*1.0\n",
    "    #if test_labels[i] == 0:\n",
    "    #    y_predict_score.append(1 - y_score_normalise0)\n",
    "    #if test_labels[i] == 1:\n",
    "    y_predict_score.append(y_score_normalise1)\n",
    "    y_score_normalise[i][0]=y_score_normalise0\n",
    "    y_score_normalise[i][1]=y_score_normalise1\n",
    "y_predict_score = np.array(y_predict_score)\n",
    "y_score_normalise = np.array(y_score_normalise)\n",
    "print(y_predict_score)\n",
    "\n",
    "fpr,tpr, thresholds = roc_curve(test_labels, y_predict_score )   \n",
    "# 这个地方可以按照原来代码里加marco与micro参数\n",
    "\n",
    "auc_score = auc(fpr,tpr)\n",
    " \n",
    "plt.figure()\n",
    "lw = 2 # line_width\n",
    "plt.plot(fpr,tpr, color='darkorange',\n",
    "         lw=lw, label='ROC curve (area = %0.2f)' % auc_score)\n",
    " \n",
    "plt.plot([0, 1], [0, 1], color='navy', lw=lw, linestyle='--')\n",
    "plt.xlim([0.0, 1.0])\n",
    "plt.ylim([0.0, 1.05])\n",
    "plt.xlabel('False Positive Rate')\n",
    "plt.ylabel('True Positive Rate')\n",
    "plt.title('ROC curve')\n",
    "plt.legend(loc=\"lower right\")\n",
    "plt.show()\n",
    "\n",
    "print(\"auc value\")\n",
    "print(auc_score)"
   ]
  },
  {
   "cell_type": "markdown",
   "id": "f8179d02",
   "metadata": {
    "papermill": {
     "duration": 5.713929,
     "end_time": "2022-09-25T22:27:02.709572",
     "exception": false,
     "start_time": "2022-09-25T22:26:56.995643",
     "status": "completed"
    },
    "tags": []
   },
   "source": [
    "new roc attempt module"
   ]
  },
  {
   "cell_type": "code",
   "execution_count": null,
   "id": "49795b88",
   "metadata": {
    "execution": {
     "iopub.execute_input": "2022-07-06T10:00:37.957502Z",
     "iopub.status.busy": "2022-07-06T10:00:37.956703Z",
     "iopub.status.idle": "2022-07-06T10:00:38.154619Z",
     "shell.execute_reply": "2022-07-06T10:00:38.153486Z",
     "shell.execute_reply.started": "2022-07-06T10:00:37.95746Z"
    },
    "papermill": {
     "duration": 5.916602,
     "end_time": "2022-09-25T22:27:14.424676",
     "exception": false,
     "start_time": "2022-09-25T22:27:08.508074",
     "status": "completed"
    },
    "tags": []
   },
   "outputs": [],
   "source": []
  },
  {
   "cell_type": "code",
   "execution_count": null,
   "id": "f93d5733",
   "metadata": {
    "papermill": {
     "duration": 5.813641,
     "end_time": "2022-09-25T22:27:25.979121",
     "exception": false,
     "start_time": "2022-09-25T22:27:20.165480",
     "status": "completed"
    },
    "tags": []
   },
   "outputs": [],
   "source": []
  },
  {
   "cell_type": "code",
   "execution_count": null,
   "id": "cd21022f",
   "metadata": {
    "papermill": {
     "duration": 5.707469,
     "end_time": "2022-09-25T22:27:37.664763",
     "exception": false,
     "start_time": "2022-09-25T22:27:31.957294",
     "status": "completed"
    },
    "tags": []
   },
   "outputs": [],
   "source": []
  },
  {
   "cell_type": "markdown",
   "id": "7465af7e",
   "metadata": {
    "papermill": {
     "duration": 5.717893,
     "end_time": "2022-09-25T22:27:49.301393",
     "exception": false,
     "start_time": "2022-09-25T22:27:43.583500",
     "status": "completed"
    },
    "tags": []
   },
   "source": []
  },
  {
   "cell_type": "code",
   "execution_count": null,
   "id": "8e8682e1",
   "metadata": {
    "papermill": {
     "duration": 5.918796,
     "end_time": "2022-09-25T22:28:00.955835",
     "exception": false,
     "start_time": "2022-09-25T22:27:55.037039",
     "status": "completed"
    },
    "tags": []
   },
   "outputs": [],
   "source": []
  },
  {
   "cell_type": "code",
   "execution_count": null,
   "id": "1e5bcd81",
   "metadata": {
    "papermill": {
     "duration": 5.670946,
     "end_time": "2022-09-25T22:28:12.531235",
     "exception": false,
     "start_time": "2022-09-25T22:28:06.860289",
     "status": "completed"
    },
    "tags": []
   },
   "outputs": [],
   "source": []
  },
  {
   "cell_type": "code",
   "execution_count": 18,
   "id": "dee42933",
   "metadata": {
    "execution": {
     "iopub.execute_input": "2022-09-25T22:28:24.089226Z",
     "iopub.status.busy": "2022-09-25T22:28:24.088763Z",
     "iopub.status.idle": "2022-09-25T22:28:47.451951Z",
     "shell.execute_reply": "2022-09-25T22:28:47.450686Z"
    },
    "papermill": {
     "duration": 29.041592,
     "end_time": "2022-09-25T22:28:47.454297",
     "exception": false,
     "start_time": "2022-09-25T22:28:18.412705",
     "status": "completed"
    },
    "tags": []
   },
   "outputs": [
    {
     "name": "stdout",
     "output_type": "stream",
     "text": [
      "[[0.08227576 0.91772425]\n",
      " [0.25609145 0.7439085 ]\n",
      " [0.03708801 0.96291196]\n",
      " ...\n",
      " [0.07687426 0.92312574]\n",
      " [0.02207822 0.9779218 ]\n",
      " [0.6825784  0.3174216 ]]\n"
     ]
    }
   ],
   "source": [
    "print(model1.predict_generator(val2_generator))"
   ]
  },
  {
   "cell_type": "markdown",
   "id": "a05fcafd",
   "metadata": {
    "papermill": {
     "duration": 5.702537,
     "end_time": "2022-09-25T22:28:59.077618",
     "exception": false,
     "start_time": "2022-09-25T22:28:53.375081",
     "status": "completed"
    },
    "tags": []
   },
   "source": [
    "# Second Training Fine Tune"
   ]
  },
  {
   "cell_type": "markdown",
   "id": "ff208253",
   "metadata": {
    "execution": {
     "iopub.execute_input": "2022-06-03T23:27:17.22676Z",
     "iopub.status.busy": "2022-06-03T23:27:17.225925Z",
     "iopub.status.idle": "2022-06-03T23:27:17.261756Z",
     "shell.execute_reply": "2022-06-03T23:27:17.260792Z",
     "shell.execute_reply.started": "2022-06-03T23:27:17.22672Z"
    },
    "papermill": {
     "duration": 5.846141,
     "end_time": "2022-09-25T22:29:10.640207",
     "exception": false,
     "start_time": "2022-09-25T22:29:04.794066",
     "status": "completed"
    },
    "tags": []
   },
   "source": [
    "model.load_weights(MODEL_INIT)\n",
    "for model_ly in model.layers:\n",
    "    model_ly.trainable = True"
   ]
  },
  {
   "cell_type": "markdown",
   "id": "c263b753",
   "metadata": {
    "execution": {
     "iopub.execute_input": "2022-06-03T23:27:17.264461Z",
     "iopub.status.busy": "2022-06-03T23:27:17.263307Z",
     "iopub.status.idle": "2022-06-03T23:27:17.271101Z",
     "shell.execute_reply": "2022-06-03T23:27:17.269841Z",
     "shell.execute_reply.started": "2022-06-03T23:27:17.26442Z"
    },
    "papermill": {
     "duration": 5.717234,
     "end_time": "2022-09-25T22:29:22.243425",
     "exception": false,
     "start_time": "2022-09-25T22:29:16.526191",
     "status": "completed"
    },
    "tags": []
   },
   "source": [
    "callbacks2 = [EarlyStopping(monitor='val_acc', patience=5, verbose=1), \n",
    "              ModelCheckpoint(MODEL_PATH, monitor='val_accuracy', save_best_only=True)]\n",
    "opt = Adam(learning_rate=0.00001)\n",
    "#model.compile(loss='categorical_crossentropy', optimizer=opt, metrics=['accuracy'])"
   ]
  },
  {
   "cell_type": "markdown",
   "id": "a83694d8",
   "metadata": {
    "execution": {
     "iopub.execute_input": "2022-06-03T23:27:17.273147Z",
     "iopub.status.busy": "2022-06-03T23:27:17.27238Z",
     "iopub.status.idle": "2022-06-03T23:27:17.285806Z",
     "shell.execute_reply": "2022-06-03T23:27:17.284602Z",
     "shell.execute_reply.started": "2022-06-03T23:27:17.273112Z"
    },
    "papermill": {
     "duration": 5.721402,
     "end_time": "2022-09-25T22:29:33.789973",
     "exception": false,
     "start_time": "2022-09-25T22:29:28.068571",
     "status": "completed"
    },
    "tags": []
   },
   "source": [
    "# model.load_weights(\"model.hdf5\")\n",
    "#history2 = model.fit(X_train, y_train,validation_data=(X_test, y_test),verbose = 1,epochs = 30, callbacks=callbacks2)"
   ]
  },
  {
   "cell_type": "markdown",
   "id": "779eabe7",
   "metadata": {
    "execution": {
     "iopub.execute_input": "2022-06-03T23:27:17.2884Z",
     "iopub.status.busy": "2022-06-03T23:27:17.287804Z",
     "iopub.status.idle": "2022-06-03T23:27:26.604297Z",
     "shell.execute_reply": "2022-06-03T23:27:26.60351Z",
     "shell.execute_reply.started": "2022-06-03T23:27:17.28835Z"
    },
    "papermill": {
     "duration": 5.980338,
     "end_time": "2022-09-25T22:29:45.527922",
     "exception": false,
     "start_time": "2022-09-25T22:29:39.547584",
     "status": "completed"
    },
    "tags": []
   },
   "source": [
    "# model.load_weights(\"model.hdf5\")\n",
    "#history2 = model.fit(X_train, y_train,validation_data=(X_test, y_test),verbose = 1,epochs = 15, callbacks=callbacks2)\n",
    "history2=model.fit_generator(train_generator,validation_data=val_generator,verbose = 1,epochs = epoch_4_test,callbacks=callbacks2)"
   ]
  },
  {
   "cell_type": "markdown",
   "id": "f079fa19",
   "metadata": {
    "execution": {
     "iopub.execute_input": "2022-06-03T23:27:26.606228Z",
     "iopub.status.busy": "2022-06-03T23:27:26.605687Z",
     "iopub.status.idle": "2022-06-03T23:27:26.877721Z",
     "shell.execute_reply": "2022-06-03T23:27:26.87653Z",
     "shell.execute_reply.started": "2022-06-03T23:27:26.606195Z"
    },
    "papermill": {
     "duration": 5.695143,
     "end_time": "2022-09-25T22:29:57.133655",
     "exception": false,
     "start_time": "2022-09-25T22:29:51.438512",
     "status": "completed"
    },
    "tags": []
   },
   "source": [
    "import matplotlib.pyplot as plt\n",
    "import seaborn as sns\n",
    "plt.figure(figsize = (12, 6))\n",
    "plt.subplot(121)\n",
    "#plotting the Accuracy of test and training sets\n",
    "plt.plot(history2.history['accuracy'])\n",
    "plt.plot(history2.history['val_accuracy'])\n",
    "plt.title('2nd training Model Accuracy')\n",
    "plt.ylabel('accuracy')\n",
    "plt.xlabel('epoch')\n",
    "plt.legend(['train', 'test'], loc='upper left')\n",
    "\n",
    "plt.subplot(122)\n",
    "#plotting the loss of test and training sets\n",
    "plt.plot(history2.history['loss'])\n",
    "plt.plot(history2.history['val_loss'])\n",
    "plt.title('2nd training Model Loss')\n",
    "plt.ylabel('loss')\n",
    "plt.xlabel('epoch')\n",
    "plt.legend(['train', 'test'], loc='upper left')\n",
    "plt.show()"
   ]
  },
  {
   "cell_type": "markdown",
   "id": "38b351b0",
   "metadata": {
    "execution": {
     "iopub.execute_input": "2022-06-03T23:27:26.880585Z",
     "iopub.status.busy": "2022-06-03T23:27:26.879459Z",
     "iopub.status.idle": "2022-06-03T23:27:29.499542Z",
     "shell.execute_reply": "2022-06-03T23:27:29.498328Z",
     "shell.execute_reply.started": "2022-06-03T23:27:26.880529Z"
    },
    "papermill": {
     "duration": 5.758263,
     "end_time": "2022-09-25T22:30:08.726352",
     "exception": false,
     "start_time": "2022-09-25T22:30:02.968089",
     "status": "completed"
    },
    "tags": []
   },
   "source": [
    "import sklearn\n",
    "from sklearn.metrics import f1_score, roc_auc_score, cohen_kappa_score, precision_score, recall_score, accuracy_score, confusion_matrix\n",
    "# model是最新版本的mode（stage 2）\n",
    "# 混淆矩阵\n",
    "from keras.models import load_model\n",
    "\n",
    "model2 = load_model(MODEL_PATH, compile=False)\n",
    "print(\"analyse of final model\")\n",
    "\n",
    "\n",
    "cf_matrix_val = confusion_matrix(\n",
    "    np.concatenate([np.argmax(val2_generator[i][1], axis=1) for i in range(len(val2_generator))]),    \n",
    "    np.argmax(model2.predict_generator(val2_generator, steps=len(val2_generator)), axis=1) \n",
    ")\n",
    "\n",
    "plt.figure(figsize = (12, 6))\n",
    "sns.heatmap(cf_matrix_val, annot=True, cmap='Blues')\n",
    "plt.title(\"VAL Confusion matrix\")\n",
    "# kappa VAL\n",
    "kappa_val = cohen_kappa_score(\n",
    "    np.concatenate([np.argmax(val2_generator[i][1], axis=1) for i in range(len(val2_generator))]),    \n",
    "    np.argmax(model2.predict_generator(val2_generator, steps=len(val2_generator)), axis=1) \n",
    ")\n",
    "print(\"VAL kappa\")\n",
    "print(kappa_val)\n",
    "\n",
    "\n",
    "\n",
    "print(\"analyse 1st model\")\n",
    "print(\"report of val data\")\n",
    "report = sklearn.metrics.classification_report(\n",
    "    np.concatenate([np.argmax(val2_generator[i][1], axis=1) for i in range(len(val2_generator))]),    \n",
    "    np.argmax(model2.predict_generator(val2_generator, steps=len(val2_generator)), axis=1) \n",
    ")\n",
    "print(report)"
   ]
  },
  {
   "cell_type": "markdown",
   "id": "5acb5472",
   "metadata": {
    "execution": {
     "iopub.execute_input": "2022-06-03T23:27:29.502165Z",
     "iopub.status.busy": "2022-06-03T23:27:29.501602Z",
     "iopub.status.idle": "2022-06-03T23:27:30.853738Z",
     "shell.execute_reply": "2022-06-03T23:27:30.852725Z",
     "shell.execute_reply.started": "2022-06-03T23:27:29.502116Z"
    },
    "papermill": {
     "duration": 5.918158,
     "end_time": "2022-09-25T22:30:20.529534",
     "exception": false,
     "start_time": "2022-09-25T22:30:14.611376",
     "status": "completed"
    },
    "tags": []
   },
   "source": [
    "cf_matrix_test = confusion_matrix(\n",
    "    np.concatenate([np.argmax(val_generator[i][1], axis=1) for i in range(len(val_generator))]),    \n",
    "    np.argmax(model2.predict_generator(val_generator, steps=len(val_generator)), axis=1) \n",
    ")\n",
    "\n",
    "plt.figure(figsize = (12, 6))\n",
    "sns.heatmap(cf_matrix_test, annot=True, cmap='Blues')\n",
    "plt.title(\"Test Confusion matrix\")\n",
    "\n",
    "\n",
    "\n",
    "print(\"report of test data\")\n",
    "import sklearn\n",
    "\n",
    "report = sklearn.metrics.classification_report(\n",
    "    np.concatenate([np.argmax(val_generator[i][1], axis=1) for i in range(len(val_generator))]),    \n",
    "    np.argmax(model2.predict_generator(val_generator, steps=len(val_generator)), axis=1) \n",
    ")\n",
    "print(report)\n",
    "\n",
    "\n",
    "# kappa TEST\n",
    "kappa_test = cohen_kappa_score(\n",
    "    np.concatenate([np.argmax(val_generator[i][1], axis=1) for i in range(len(val_generator))]),    \n",
    "    np.argmax(model2.predict_generator(val_generator, steps=len(val_generator)), axis=1) \n",
    ")\n",
    "print(\"TEST kappa\")\n",
    "print(kappa_test)"
   ]
  }
 ],
 "metadata": {
  "kernelspec": {
   "display_name": "Python 3",
   "language": "python",
   "name": "python3"
  },
  "language_info": {
   "codemirror_mode": {
    "name": "ipython",
    "version": 3
   },
   "file_extension": ".py",
   "mimetype": "text/x-python",
   "name": "python",
   "nbconvert_exporter": "python",
   "pygments_lexer": "ipython3",
   "version": "3.7.12"
  },
  "papermill": {
   "default_parameters": {},
   "duration": 20098.357978,
   "end_time": "2022-09-25T22:30:29.543267",
   "environment_variables": {},
   "exception": null,
   "input_path": "__notebook__.ipynb",
   "output_path": "__notebook__.ipynb",
   "parameters": {},
   "start_time": "2022-09-25T16:55:31.185289",
   "version": "2.3.4"
  }
 },
 "nbformat": 4,
 "nbformat_minor": 5
}
