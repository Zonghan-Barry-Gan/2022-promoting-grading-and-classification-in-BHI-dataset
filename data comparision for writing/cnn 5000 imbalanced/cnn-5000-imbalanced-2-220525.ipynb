{
 "cells": [
  {
   "cell_type": "code",
   "execution_count": 1,
   "id": "5d3b0b22",
   "metadata": {
    "_cell_guid": "b1076dfc-b9ad-4769-8c92-a6c4dae69d19",
    "_uuid": "8f2839f25d086af736a60e9eeb907d3b93b6e0e5",
    "execution": {
     "iopub.execute_input": "2022-05-25T20:29:55.155431Z",
     "iopub.status.busy": "2022-05-25T20:29:55.154705Z",
     "iopub.status.idle": "2022-05-25T20:30:07.565222Z",
     "shell.execute_reply": "2022-05-25T20:30:07.564058Z"
    },
    "papermill": {
     "duration": 12.422688,
     "end_time": "2022-05-25T20:30:07.567815",
     "exception": false,
     "start_time": "2022-05-25T20:29:55.145127",
     "status": "completed"
    },
    "tags": []
   },
   "outputs": [
    {
     "name": "stdout",
     "output_type": "stream",
     "text": [
      "Collecting Livelossplot\r\n",
      "  Downloading livelossplot-0.5.5-py3-none-any.whl (22 kB)\r\n",
      "Requirement already satisfied: ipython==7.* in /opt/conda/lib/python3.7/site-packages (from Livelossplot) (7.33.0)\r\n",
      "Requirement already satisfied: matplotlib in /opt/conda/lib/python3.7/site-packages (from Livelossplot) (3.5.2)\r\n",
      "Requirement already satisfied: numpy<1.22 in /opt/conda/lib/python3.7/site-packages (from Livelossplot) (1.21.6)\r\n",
      "Requirement already satisfied: bokeh in /opt/conda/lib/python3.7/site-packages (from Livelossplot) (2.4.3)\r\n",
      "Requirement already satisfied: prompt-toolkit!=3.0.0,!=3.0.1,<3.1.0,>=2.0.0 in /opt/conda/lib/python3.7/site-packages (from ipython==7.*->Livelossplot) (3.0.29)\r\n",
      "Requirement already satisfied: setuptools>=18.5 in /opt/conda/lib/python3.7/site-packages (from ipython==7.*->Livelossplot) (59.8.0)\r\n",
      "Requirement already satisfied: pexpect>4.3 in /opt/conda/lib/python3.7/site-packages (from ipython==7.*->Livelossplot) (4.8.0)\r\n",
      "Requirement already satisfied: decorator in /opt/conda/lib/python3.7/site-packages (from ipython==7.*->Livelossplot) (5.1.1)\r\n",
      "Requirement already satisfied: jedi>=0.16 in /opt/conda/lib/python3.7/site-packages (from ipython==7.*->Livelossplot) (0.18.1)\r\n",
      "Requirement already satisfied: pickleshare in /opt/conda/lib/python3.7/site-packages (from ipython==7.*->Livelossplot) (0.7.5)\r\n",
      "Requirement already satisfied: matplotlib-inline in /opt/conda/lib/python3.7/site-packages (from ipython==7.*->Livelossplot) (0.1.3)\r\n",
      "Requirement already satisfied: backcall in /opt/conda/lib/python3.7/site-packages (from ipython==7.*->Livelossplot) (0.2.0)\r\n",
      "Requirement already satisfied: traitlets>=4.2 in /opt/conda/lib/python3.7/site-packages (from ipython==7.*->Livelossplot) (5.2.0)\r\n",
      "Requirement already satisfied: pygments in /opt/conda/lib/python3.7/site-packages (from ipython==7.*->Livelossplot) (2.12.0)\r\n",
      "Requirement already satisfied: typing-extensions>=3.10.0 in /opt/conda/lib/python3.7/site-packages (from bokeh->Livelossplot) (4.2.0)\r\n",
      "Requirement already satisfied: Jinja2>=2.9 in /opt/conda/lib/python3.7/site-packages (from bokeh->Livelossplot) (3.1.2)\r\n",
      "Requirement already satisfied: packaging>=16.8 in /opt/conda/lib/python3.7/site-packages (from bokeh->Livelossplot) (21.3)\r\n",
      "Requirement already satisfied: pillow>=7.1.0 in /opt/conda/lib/python3.7/site-packages (from bokeh->Livelossplot) (9.1.0)\r\n",
      "Requirement already satisfied: PyYAML>=3.10 in /opt/conda/lib/python3.7/site-packages (from bokeh->Livelossplot) (6.0)\r\n",
      "Requirement already satisfied: tornado>=5.1 in /opt/conda/lib/python3.7/site-packages (from bokeh->Livelossplot) (6.1)\r\n",
      "Requirement already satisfied: cycler>=0.10 in /opt/conda/lib/python3.7/site-packages (from matplotlib->Livelossplot) (0.11.0)\r\n",
      "Requirement already satisfied: kiwisolver>=1.0.1 in /opt/conda/lib/python3.7/site-packages (from matplotlib->Livelossplot) (1.4.2)\r\n",
      "Requirement already satisfied: python-dateutil>=2.7 in /opt/conda/lib/python3.7/site-packages (from matplotlib->Livelossplot) (2.8.2)\r\n",
      "Requirement already satisfied: pyparsing>=2.2.1 in /opt/conda/lib/python3.7/site-packages (from matplotlib->Livelossplot) (3.0.9)\r\n",
      "Requirement already satisfied: fonttools>=4.22.0 in /opt/conda/lib/python3.7/site-packages (from matplotlib->Livelossplot) (4.33.3)\r\n",
      "Requirement already satisfied: parso<0.9.0,>=0.8.0 in /opt/conda/lib/python3.7/site-packages (from jedi>=0.16->ipython==7.*->Livelossplot) (0.8.3)\r\n",
      "Requirement already satisfied: MarkupSafe>=2.0 in /opt/conda/lib/python3.7/site-packages (from Jinja2>=2.9->bokeh->Livelossplot) (2.0.1)\r\n",
      "Requirement already satisfied: ptyprocess>=0.5 in /opt/conda/lib/python3.7/site-packages (from pexpect>4.3->ipython==7.*->Livelossplot) (0.7.0)\r\n",
      "Requirement already satisfied: wcwidth in /opt/conda/lib/python3.7/site-packages (from prompt-toolkit!=3.0.0,!=3.0.1,<3.1.0,>=2.0.0->ipython==7.*->Livelossplot) (0.2.5)\r\n",
      "Requirement already satisfied: six>=1.5 in /opt/conda/lib/python3.7/site-packages (from python-dateutil>=2.7->matplotlib->Livelossplot) (1.16.0)\r\n",
      "Installing collected packages: Livelossplot\r\n",
      "Successfully installed Livelossplot-0.5.5\r\n",
      "\u001b[33mWARNING: Running pip as the 'root' user can result in broken permissions and conflicting behaviour with the system package manager. It is recommended to use a virtual environment instead: https://pip.pypa.io/warnings/venv\u001b[0m\u001b[33m\r\n",
      "\u001b[0m"
     ]
    }
   ],
   "source": [
    "# This Python 3 environment comes with many helpful analytics libraries installed\n",
    "# It is defined by the kaggle/python Docker image: https://github.com/kaggle/docker-python\n",
    "# For example, here's several helpful packages to load\n",
    "\n",
    "import numpy as np # linear algebra\n",
    "import pandas as pd # data processing, CSV file I/O (e.g. pd.read_csv)\n",
    "\n",
    "# Input data files are available in the read-only \"../input/\" directory\n",
    "# For example, running this (by clicking run or pressing Shift+Enter) will list all files under the input directory\n",
    "\n",
    "import os\n",
    "\n",
    "import warnings\n",
    "warnings.filterwarnings('ignore')\n",
    "%matplotlib inline\n",
    "!pip install Livelossplot\n",
    "from livelossplot import PlotLossesKeras\n",
    "\n",
    "from glob import glob\n",
    "import os\n",
    "import shutil\n",
    "\n",
    "import numpy as np\n",
    "import pandas as pd\n",
    "# You can write up to 20GB to the current directory (/kaggle/working/) that gets preserved as output when you create a version using \"Save & Run All\" \n",
    "# You can also write temporary files to /kaggle/temp/, but they won't be saved outside of the current session"
   ]
  },
  {
   "cell_type": "markdown",
   "id": "24a40d83",
   "metadata": {
    "papermill": {
     "duration": 0.006884,
     "end_time": "2022-05-25T20:30:07.582377",
     "exception": false,
     "start_time": "2022-05-25T20:30:07.575493",
     "status": "completed"
    },
    "tags": []
   },
   "source": [
    "# AIM\n",
    "## To classify the images into \n",
    "### IDC+\n",
    "### IDC-\n",
    "\n",
    "# Validation Strategy:\n",
    "\n",
    "\n",
    "# Augmentaions Used:\n",
    "## No Augmentation\n"
   ]
  },
  {
   "cell_type": "code",
   "execution_count": 2,
   "id": "8c0891cd",
   "metadata": {
    "execution": {
     "iopub.execute_input": "2022-05-25T20:30:07.599068Z",
     "iopub.status.busy": "2022-05-25T20:30:07.597915Z",
     "iopub.status.idle": "2022-05-25T20:30:17.320459Z",
     "shell.execute_reply": "2022-05-25T20:30:17.319302Z"
    },
    "papermill": {
     "duration": 9.733929,
     "end_time": "2022-05-25T20:30:17.323394",
     "exception": false,
     "start_time": "2022-05-25T20:30:07.589465",
     "status": "completed"
    },
    "tags": []
   },
   "outputs": [
    {
     "data": {
      "text/html": [
       "<style type='text/css'>\n",
       ".datatable table.frame { margin-bottom: 0; }\n",
       ".datatable table.frame thead { border-bottom: none; }\n",
       ".datatable table.frame tr.coltypes td {  color: #FFFFFF;  line-height: 6px;  padding: 0 0.5em;}\n",
       ".datatable .bool    { background: #DDDD99; }\n",
       ".datatable .object  { background: #565656; }\n",
       ".datatable .int     { background: #5D9E5D; }\n",
       ".datatable .float   { background: #4040CC; }\n",
       ".datatable .str     { background: #CC4040; }\n",
       ".datatable .time    { background: #40CC40; }\n",
       ".datatable .row_index {  background: var(--jp-border-color3);  border-right: 1px solid var(--jp-border-color0);  color: var(--jp-ui-font-color3);  font-size: 9px;}\n",
       ".datatable .frame tbody td { text-align: left; }\n",
       ".datatable .frame tr.coltypes .row_index {  background: var(--jp-border-color0);}\n",
       ".datatable th:nth-child(2) { padding-left: 12px; }\n",
       ".datatable .hellipsis {  color: var(--jp-cell-editor-border-color);}\n",
       ".datatable .vellipsis {  background: var(--jp-layout-color0);  color: var(--jp-cell-editor-border-color);}\n",
       ".datatable .na {  color: var(--jp-cell-editor-border-color);  font-size: 80%;}\n",
       ".datatable .sp {  opacity: 0.25;}\n",
       ".datatable .footer { font-size: 9px; }\n",
       ".datatable .frame_dimensions {  background: var(--jp-border-color3);  border-top: 1px solid var(--jp-border-color0);  color: var(--jp-ui-font-color3);  display: inline-block;  opacity: 0.6;  padding: 1px 10px 1px 5px;}\n",
       "</style>\n"
      ],
      "text/plain": [
       "<IPython.core.display.HTML object>"
      ]
     },
     "metadata": {},
     "output_type": "display_data"
    },
    {
     "name": "stdout",
     "output_type": "stream",
     "text": [
      "All modules have been imported\n"
     ]
    }
   ],
   "source": [
    "\n",
    "import numpy as np\n",
    "import pandas as pd\n",
    "import cv2\n",
    "from PIL import Image\n",
    "import scipy\n",
    "\n",
    "import tensorflow as tf\n",
    "from tensorflow.keras.applications import *\n",
    "from tensorflow.keras.optimizers import *\n",
    "from tensorflow.keras.losses import *\n",
    "from tensorflow.keras.layers import *\n",
    "from tensorflow.keras.models import *\n",
    "from tensorflow.keras.callbacks import *\n",
    "from tensorflow.keras.preprocessing.image import *\n",
    "from tensorflow.keras.utils import *\n",
    "# import pydot\n",
    "\n",
    "from sklearn.metrics import *\n",
    "from sklearn.model_selection import *\n",
    "import tensorflow.keras.backend as K\n",
    "\n",
    "from tqdm import tqdm, tqdm_notebook\n",
    "from colorama import Fore\n",
    "import json\n",
    "import matplotlib.pyplot as plt\n",
    "import seaborn as sns\n",
    "from glob import glob\n",
    "from skimage.io import *\n",
    "%config Completer.use_jedi = False\n",
    "import time\n",
    "from sklearn.decomposition import PCA\n",
    "from sklearn.svm import LinearSVC\n",
    "from sklearn.linear_model import LogisticRegression\n",
    "from sklearn.metrics import accuracy_score\n",
    "import lightgbm as lgb\n",
    "import xgboost as xgb\n",
    "\n",
    "print(\"All modules have been imported\")"
   ]
  },
  {
   "cell_type": "code",
   "execution_count": 3,
   "id": "266977b1",
   "metadata": {
    "execution": {
     "iopub.execute_input": "2022-05-25T20:30:17.341085Z",
     "iopub.status.busy": "2022-05-25T20:30:17.340539Z",
     "iopub.status.idle": "2022-05-25T20:30:17.345709Z",
     "shell.execute_reply": "2022-05-25T20:30:17.344990Z"
    },
    "papermill": {
     "duration": 0.01628,
     "end_time": "2022-05-25T20:30:17.347751",
     "exception": false,
     "start_time": "2022-05-25T20:30:17.331471",
     "status": "completed"
    },
    "tags": []
   },
   "outputs": [],
   "source": [
    "import os\n",
    "os.makedirs('../working/data/train_seg/idc-minus/')     \n",
    "os.makedirs('../working/data/train_seg/idc-plus/')  \n",
    "os.makedirs('../working/data/test_seg/idc-minus/')     \n",
    "os.makedirs('../working/data/test_seg/idc-plus/')  \n",
    "os.makedirs('../working/data/val_seg/idc-minus/')     \n",
    "os.makedirs('../working/data/val_seg/idc-plus/')  "
   ]
  },
  {
   "cell_type": "code",
   "execution_count": 4,
   "id": "0656b970",
   "metadata": {
    "execution": {
     "iopub.execute_input": "2022-05-25T20:30:17.364651Z",
     "iopub.status.busy": "2022-05-25T20:30:17.363961Z",
     "iopub.status.idle": "2022-05-25T20:30:17.368360Z",
     "shell.execute_reply": "2022-05-25T20:30:17.367475Z"
    },
    "papermill": {
     "duration": 0.014948,
     "end_time": "2022-05-25T20:30:17.370275",
     "exception": false,
     "start_time": "2022-05-25T20:30:17.355327",
     "status": "completed"
    },
    "tags": []
   },
   "outputs": [],
   "source": [
    "sampling_seed=0\n",
    "size_4_training=5000\n",
    "img_size=50\n",
    "epoch1=10\n",
    "epoch2=3\n",
    "training_reshape=(-1, img_size, img_size, 3)"
   ]
  },
  {
   "cell_type": "markdown",
   "id": "70ed9c36",
   "metadata": {
    "papermill": {
     "duration": 0.007429,
     "end_time": "2022-05-25T20:30:17.385270",
     "exception": false,
     "start_time": "2022-05-25T20:30:17.377841",
     "status": "completed"
    },
    "tags": []
   },
   "source": [
    "Image labelling"
   ]
  },
  {
   "cell_type": "code",
   "execution_count": 5,
   "id": "8b94d80b",
   "metadata": {
    "execution": {
     "iopub.execute_input": "2022-05-25T20:30:17.402831Z",
     "iopub.status.busy": "2022-05-25T20:30:17.402236Z",
     "iopub.status.idle": "2022-05-25T20:32:37.926797Z",
     "shell.execute_reply": "2022-05-25T20:32:37.926042Z"
    },
    "papermill": {
     "duration": 140.543152,
     "end_time": "2022-05-25T20:32:37.936103",
     "exception": false,
     "start_time": "2022-05-25T20:30:17.392951",
     "status": "completed"
    },
    "tags": []
   },
   "outputs": [
    {
     "name": "stdout",
     "output_type": "stream",
     "text": [
      "['../input/breast-histopathology-images/IDC_regular_ps50_idx5/10295/0/10295_idx5_x1351_y1101_class0.png', '../input/breast-histopathology-images/IDC_regular_ps50_idx5/10295/0/10295_idx5_x1501_y501_class0.png', '../input/breast-histopathology-images/IDC_regular_ps50_idx5/10295/0/10295_idx5_x1501_y1101_class0.png', '../input/breast-histopathology-images/IDC_regular_ps50_idx5/10295/0/10295_idx5_x451_y901_class0.png', '../input/breast-histopathology-images/IDC_regular_ps50_idx5/10295/0/10295_idx5_x801_y451_class0.png', '../input/breast-histopathology-images/IDC_regular_ps50_idx5/10295/0/10295_idx5_x151_y1051_class0.png', '../input/breast-histopathology-images/IDC_regular_ps50_idx5/10295/0/10295_idx5_x1351_y901_class0.png', '../input/breast-histopathology-images/IDC_regular_ps50_idx5/10295/0/10295_idx5_x701_y651_class0.png', '../input/breast-histopathology-images/IDC_regular_ps50_idx5/10295/0/10295_idx5_x951_y1401_class0.png', '../input/breast-histopathology-images/IDC_regular_ps50_idx5/10295/0/10295_idx5_x601_y501_class0.png']\n",
      "(5000, 2)\n",
      "(10000, 2)\n",
      "(10000, 50, 50, 3)\n",
      "(7000, 50, 50, 3) (900, 50, 50, 3) (2100, 50, 50, 3) (7000, 2) (900, 2) (2100, 2)\n"
     ]
    }
   ],
   "source": [
    "\n",
    "training_reshape=(-1, img_size, img_size, 3)\n",
    "import random\n",
    "#make directory for labelling\n",
    "os.makedirs('../working/idc2/idc-minus/')     \n",
    "os.makedirs('../working/idc2/idc-plus/')  \n",
    "\n",
    "\n",
    "class0 = [] # 0 = idc+\n",
    "class1 = [] # 1 = idc-\n",
    "imagePatches = glob('../input/breast-histopathology-images/IDC_regular_ps50_idx5/**/*.png', recursive=True)\n",
    "for filename in imagePatches:\n",
    "    if filename.endswith(\"class0.png\"):\n",
    "         class0.append(filename)\n",
    "    else:\n",
    "        class1.append(filename)\n",
    "\n",
    "print(class0[0:10])\n",
    "\n",
    "#sampling 10000 images from class 0 and class 1 to train the model\n",
    "\n",
    "random.seed(sampling_seed)\n",
    "class0sample=random.sample(class0,size_4_training)\n",
    "class1sample=random.sample(class1,size_4_training)\n",
    "\n",
    "\n",
    "def read_and_save_data(path, file_name_array):\n",
    "    j=0\n",
    "    for i in file_name_array:\n",
    "        if i.endswith('.png'):\n",
    "          \n",
    "            \n",
    "            #second copy method\n",
    "            head, tail = os.path.split(i)\n",
    "            outputname=str(path+tail)\n",
    "            #outputname=str(path+str(j)+'.png')\n",
    "            #print(outputname)\n",
    "            shutil.copy(i, outputname)\n",
    "   \n",
    "            #print(status2)\n",
    "            \n",
    "            j=j+1\n",
    "            if j==120000:\n",
    "                break\n",
    "            \n",
    "   \n",
    "class0path='../working/idc2/idc-minus/'\n",
    "class1path='../working/idc2/idc-plus/'\n",
    "\n",
    "\n",
    "\n",
    "\n",
    "read_and_save_data(class0path,class0sample)\n",
    "read_and_save_data(class1path,class1sample)\n",
    "\n",
    "\n",
    "from PIL import Image\n",
    "import glob\n",
    "\n",
    "import os #Operating System\n",
    "import sys #System\n",
    "# train_generator = train_datagen.flow(x_train, y_train, batch_size =)\n",
    "# val_generator = val_datagen.flow(x_val, y_val, batch_size = 64)\n",
    "# test_generator=test_datagen.flow(x_test,y_test,batch_size = 64)\n",
    "\n",
    "\n",
    "def readImage(path, tag):\n",
    "    j=0\n",
    "    image_array = []\n",
    "    for i in os.listdir(path):\n",
    "        imgname=path+i\n",
    "        #print(imgname)\n",
    "        img = cv2.imread(imgname, cv2.IMREAD_COLOR)\n",
    "        img_resized = cv2.resize(img, (img_size,img_size), interpolation=cv2.INTER_LINEAR)\n",
    "        image_array.append([img_resized, tag])\n",
    "        #print(img[1])\n",
    "        j=j+1\n",
    "        #if j==10:\n",
    "        #    break\n",
    "        \n",
    "    return image_array\n",
    "\n",
    "\n",
    "import numpy as np\n",
    "\n",
    "\n",
    "class0_array = readImage(class0path, 0)\n",
    "class1_array = readImage(class1path, 1)\n",
    "class0_array=np.array(class0_array)\n",
    "class1_array=np.array(class1_array)\n",
    "combined_data = np.concatenate((class0_array, class1_array))\n",
    "random.seed(41)\n",
    "random.shuffle(combined_data)\n",
    "print(class0_array.shape)\n",
    "print(combined_data.shape)\n",
    "\n",
    "X = []\n",
    "y = []\n",
    "\n",
    "for features,label in combined_data:\n",
    "    X.append(features)\n",
    "    y.append(label)\n",
    "#print(X.shape)\n",
    "#pring(y.shape)\n",
    "\n",
    "# reshape X data\n",
    "X = np.array(X).reshape(training_reshape)\n",
    "print(X.shape)\n",
    "\n",
    "\n",
    "X_train, X_test1, y_train, y_test1 = train_test_split(X, y, test_size=0.3, random_state=42)\n",
    "X_val, X_test, y_val, y_test = train_test_split(X_test1, y_test1, test_size=0.3, random_state=42)\n",
    "y_train = to_categorical(y_train)\n",
    "y_test = to_categorical(y_test)\n",
    "y_val = to_categorical(y_val)\n",
    "print(X_train.shape, X_test.shape, X_val.shape, y_train.shape, y_test.shape, y_val.shape)"
   ]
  },
  {
   "cell_type": "markdown",
   "id": "babb5ec6",
   "metadata": {
    "papermill": {
     "duration": 0.007624,
     "end_time": "2022-05-25T20:32:37.951449",
     "exception": false,
     "start_time": "2022-05-25T20:32:37.943825",
     "status": "completed"
    },
    "tags": []
   },
   "source": []
  },
  {
   "cell_type": "code",
   "execution_count": 6,
   "id": "d588ae54",
   "metadata": {
    "execution": {
     "iopub.execute_input": "2022-05-25T20:32:37.969115Z",
     "iopub.status.busy": "2022-05-25T20:32:37.968186Z",
     "iopub.status.idle": "2022-05-25T20:32:37.974099Z",
     "shell.execute_reply": "2022-05-25T20:32:37.973167Z"
    },
    "papermill": {
     "duration": 0.017048,
     "end_time": "2022-05-25T20:32:37.976241",
     "exception": false,
     "start_time": "2022-05-25T20:32:37.959193",
     "status": "completed"
    },
    "tags": []
   },
   "outputs": [],
   "source": [
    "\n",
    "#Callbacks\n",
    "c2=tf.keras.callbacks.EarlyStopping(\n",
    "    monitor=\"val_loss\",\n",
    "    min_delta=0,\n",
    "    patience=6,\n",
    "    mode=\"auto\",\n",
    "    baseline=None,\n",
    "    restore_best_weights=True,\n",
    ")\n",
    "\n",
    "c3=tf.keras.callbacks.ReduceLROnPlateau(\n",
    "    monitor=\"val_loss\",\n",
    "    factor=0.1,\n",
    "    patience=6,\n",
    "    mode=\"auto\",\n",
    "    min_delta=0.0001,\n",
    "    cooldown=0,\n",
    "    min_lr=0.001\n",
    ")\n",
    "nClasses=3"
   ]
  },
  {
   "cell_type": "code",
   "execution_count": 7,
   "id": "6e52edb5",
   "metadata": {
    "execution": {
     "iopub.execute_input": "2022-05-25T20:32:37.994055Z",
     "iopub.status.busy": "2022-05-25T20:32:37.992976Z",
     "iopub.status.idle": "2022-05-25T20:32:37.997093Z",
     "shell.execute_reply": "2022-05-25T20:32:37.996341Z"
    },
    "papermill": {
     "duration": 0.01471,
     "end_time": "2022-05-25T20:32:37.998864",
     "exception": false,
     "start_time": "2022-05-25T20:32:37.984154",
     "status": "completed"
    },
    "tags": []
   },
   "outputs": [],
   "source": [
    "\n",
    "from PIL import Image\n",
    "import glob\n"
   ]
  },
  {
   "cell_type": "code",
   "execution_count": null,
   "id": "79fa444c",
   "metadata": {
    "papermill": {
     "duration": 0.008081,
     "end_time": "2022-05-25T20:32:38.014597",
     "exception": false,
     "start_time": "2022-05-25T20:32:38.006516",
     "status": "completed"
    },
    "tags": []
   },
   "outputs": [],
   "source": []
  },
  {
   "cell_type": "code",
   "execution_count": null,
   "id": "368639dc",
   "metadata": {
    "papermill": {
     "duration": 0.007223,
     "end_time": "2022-05-25T20:32:38.029715",
     "exception": false,
     "start_time": "2022-05-25T20:32:38.022492",
     "status": "completed"
    },
    "tags": []
   },
   "outputs": [],
   "source": []
  },
  {
   "cell_type": "code",
   "execution_count": 8,
   "id": "2bdad393",
   "metadata": {
    "execution": {
     "iopub.execute_input": "2022-05-25T20:32:38.047770Z",
     "iopub.status.busy": "2022-05-25T20:32:38.046661Z",
     "iopub.status.idle": "2022-05-25T20:32:38.050885Z",
     "shell.execute_reply": "2022-05-25T20:32:38.050229Z"
    },
    "papermill": {
     "duration": 0.015171,
     "end_time": "2022-05-25T20:32:38.052787",
     "exception": false,
     "start_time": "2022-05-25T20:32:38.037616",
     "status": "completed"
    },
    "tags": []
   },
   "outputs": [],
   "source": [
    "import os #Operating System\n",
    "import sys #System\n",
    "# train_generator = train_datagen.flow(x_train, y_train, batch_size =)\n",
    "# val_generator = val_datagen.flow(x_val, y_val, batch_size = 64)\n",
    "# test_generator=test_datagen.flow(x_test,y_test,batch_size = 64)\n"
   ]
  },
  {
   "cell_type": "markdown",
   "id": "cffc6f5e",
   "metadata": {
    "papermill": {
     "duration": 0.007454,
     "end_time": "2022-05-25T20:32:38.067894",
     "exception": false,
     "start_time": "2022-05-25T20:32:38.060440",
     "status": "completed"
    },
    "tags": []
   },
   "source": [
    "#import image"
   ]
  },
  {
   "cell_type": "code",
   "execution_count": null,
   "id": "76906fbd",
   "metadata": {
    "papermill": {
     "duration": 0.007862,
     "end_time": "2022-05-25T20:32:38.083729",
     "exception": false,
     "start_time": "2022-05-25T20:32:38.075867",
     "status": "completed"
    },
    "tags": []
   },
   "outputs": [],
   "source": []
  },
  {
   "cell_type": "code",
   "execution_count": null,
   "id": "25446229",
   "metadata": {
    "papermill": {
     "duration": 0.007308,
     "end_time": "2022-05-25T20:32:38.099374",
     "exception": false,
     "start_time": "2022-05-25T20:32:38.092066",
     "status": "completed"
    },
    "tags": []
   },
   "outputs": [],
   "source": []
  },
  {
   "cell_type": "code",
   "execution_count": 9,
   "id": "8615c3c0",
   "metadata": {
    "execution": {
     "iopub.execute_input": "2022-05-25T20:32:38.116623Z",
     "iopub.status.busy": "2022-05-25T20:32:38.115890Z",
     "iopub.status.idle": "2022-05-25T20:32:38.121371Z",
     "shell.execute_reply": "2022-05-25T20:32:38.120402Z"
    },
    "papermill": {
     "duration": 0.016388,
     "end_time": "2022-05-25T20:32:38.123447",
     "exception": false,
     "start_time": "2022-05-25T20:32:38.107059",
     "status": "completed"
    },
    "tags": []
   },
   "outputs": [
    {
     "name": "stdout",
     "output_type": "stream",
     "text": [
      "(7000, 50, 50, 3) (900, 50, 50, 3) (2100, 50, 50, 3) (7000, 2) (900, 2) (2100, 2)\n"
     ]
    }
   ],
   "source": [
    "print(X_train.shape, X_test.shape, X_val.shape, y_train.shape, y_test.shape, y_val.shape)"
   ]
  },
  {
   "cell_type": "code",
   "execution_count": 10,
   "id": "624dc6f9",
   "metadata": {
    "execution": {
     "iopub.execute_input": "2022-05-25T20:32:38.141448Z",
     "iopub.status.busy": "2022-05-25T20:32:38.140708Z",
     "iopub.status.idle": "2022-05-25T20:32:38.145928Z",
     "shell.execute_reply": "2022-05-25T20:32:38.145246Z"
    },
    "papermill": {
     "duration": 0.0166,
     "end_time": "2022-05-25T20:32:38.147882",
     "exception": false,
     "start_time": "2022-05-25T20:32:38.131282",
     "status": "completed"
    },
    "tags": []
   },
   "outputs": [],
   "source": [
    "#Callbacks\n",
    "c2=tf.keras.callbacks.EarlyStopping(\n",
    "    monitor=\"val_loss\",\n",
    "    min_delta=0,\n",
    "    patience=6,\n",
    "    mode=\"auto\",\n",
    "    baseline=None,\n",
    "    restore_best_weights=True,\n",
    ")\n",
    "\n",
    "c3=tf.keras.callbacks.ReduceLROnPlateau(\n",
    "    monitor=\"val_loss\",\n",
    "    factor=0.1,\n",
    "    patience=6,\n",
    "    mode=\"auto\",\n",
    "    min_delta=0.0001,\n",
    "    cooldown=0,\n",
    "    min_lr=0.001\n",
    ")\n",
    "nClasses=2"
   ]
  },
  {
   "cell_type": "markdown",
   "id": "c932b35e",
   "metadata": {
    "papermill": {
     "duration": 0.007374,
     "end_time": "2022-05-25T20:32:38.162855",
     "exception": false,
     "start_time": "2022-05-25T20:32:38.155481",
     "status": "completed"
    },
    "tags": []
   },
   "source": [
    "# model"
   ]
  },
  {
   "cell_type": "code",
   "execution_count": 11,
   "id": "b5890384",
   "metadata": {
    "execution": {
     "iopub.execute_input": "2022-05-25T20:32:38.181057Z",
     "iopub.status.busy": "2022-05-25T20:32:38.179902Z",
     "iopub.status.idle": "2022-05-25T20:32:38.324647Z",
     "shell.execute_reply": "2022-05-25T20:32:38.323383Z"
    },
    "papermill": {
     "duration": 0.156039,
     "end_time": "2022-05-25T20:32:38.326688",
     "exception": false,
     "start_time": "2022-05-25T20:32:38.170649",
     "status": "completed"
    },
    "tags": []
   },
   "outputs": [
    {
     "name": "stdout",
     "output_type": "stream",
     "text": [
      "Model: \"sequential\"\n",
      "_________________________________________________________________\n",
      "Layer (type)                 Output Shape              Param #   \n",
      "=================================================================\n",
      "conv2d (Conv2D)              (None, 48, 48, 64)        1792      \n",
      "_________________________________________________________________\n",
      "conv2d_1 (Conv2D)            (None, 46, 46, 32)        18464     \n",
      "_________________________________________________________________\n",
      "flatten (Flatten)            (None, 67712)             0         \n",
      "_________________________________________________________________\n",
      "dense (Dense)                (None, 2)                 135426    \n",
      "=================================================================\n",
      "Total params: 155,682\n",
      "Trainable params: 155,682\n",
      "Non-trainable params: 0\n",
      "_________________________________________________________________\n"
     ]
    },
    {
     "name": "stderr",
     "output_type": "stream",
     "text": [
      "2022-05-25 20:32:38.219367: I tensorflow/core/common_runtime/process_util.cc:146] Creating new thread pool with default inter op setting: 2. Tune using inter_op_parallelism_threads for best performance.\n"
     ]
    }
   ],
   "source": [
    "RESNET50_POOLING_AVERAGE = 'avg'\n",
    "DENSE_LAYER_ACTIVATION = 'sigmoid'\n",
    "OBJECTIVE_FUNCTION = 'categorical_crossentropy'\n",
    "\n",
    "# Common accuracy metric for all outputs, but can use different metrics for different output\n",
    "LOSS_METRICS = ['accuracy']\n",
    "\n",
    "model = Sequential()\n",
    "model.add(Conv2D(64, kernel_size=3, activation='relu', input_shape=(50,50,3)))\n",
    "model.add(Conv2D(32, kernel_size=3, activation='relu'))\n",
    "model.add(Flatten())\n",
    "model.add(Dense(2, activation=\"softmax\"))\n",
    "#adam = Adam(learning_rate=0.0001)\n",
    "#binary_crossentropy is used as Cancer detecion is  binary classification model\n",
    "#model.compile(loss=\"binary_crossentropy\", optimizer=adam, metrics=['accuracy'])   \n",
    "\n",
    "#model = Model(inputs=resnet50_base_model.input, outputs=predictions)\n",
    "model.summary()\n"
   ]
  },
  {
   "cell_type": "code",
   "execution_count": 12,
   "id": "eef97b60",
   "metadata": {
    "execution": {
     "iopub.execute_input": "2022-05-25T20:32:38.344222Z",
     "iopub.status.busy": "2022-05-25T20:32:38.343833Z",
     "iopub.status.idle": "2022-05-25T20:32:39.507223Z",
     "shell.execute_reply": "2022-05-25T20:32:39.506122Z"
    },
    "papermill": {
     "duration": 1.175205,
     "end_time": "2022-05-25T20:32:39.509747",
     "exception": false,
     "start_time": "2022-05-25T20:32:38.334542",
     "status": "completed"
    },
    "tags": []
   },
   "outputs": [
    {
     "data": {
      "image/png": "[encoded data removed]",
      "text/plain": [
       "<IPython.core.display.Image object>"
      ]
     },
     "execution_count": 12,
     "metadata": {},
     "output_type": "execute_result"
    }
   ],
   "source": [
    "from tensorflow.keras.utils import plot_model\n",
    "from IPython.display import Image\n",
    "plot_model(model, to_file='convnet.png', show_shapes=True,show_layer_names=True)\n",
    "Image(filename='convnet.png') "
   ]
  },
  {
   "cell_type": "code",
   "execution_count": 13,
   "id": "5affe5f5",
   "metadata": {
    "execution": {
     "iopub.execute_input": "2022-05-25T20:32:39.530667Z",
     "iopub.status.busy": "2022-05-25T20:32:39.529579Z",
     "iopub.status.idle": "2022-05-25T20:32:39.556450Z",
     "shell.execute_reply": "2022-05-25T20:32:39.555617Z"
    },
    "papermill": {
     "duration": 0.039772,
     "end_time": "2022-05-25T20:32:39.558571",
     "exception": false,
     "start_time": "2022-05-25T20:32:39.518799",
     "status": "completed"
    },
    "tags": []
   },
   "outputs": [],
   "source": [
    "def f1_score(y_true, y_pred): #taken from old keras source code\n",
    "    true_positives = K.sum(K.round(K.clip(y_true * y_pred, 0, 1)))\n",
    "    possible_positives = K.sum(K.round(K.clip(y_true, 0, 1)))\n",
    "    predicted_positives = K.sum(K.round(K.clip(y_pred, 0, 1)))\n",
    "    precision = true_positives / (predicted_positives + K.epsilon())\n",
    "    recall = true_positives / (possible_positives + K.epsilon())\n",
    "    f1_val = 2*(precision*recall)/(precision+recall+K.epsilon())\n",
    "    return f1_val\n",
    "\n",
    "METRICS = [\n",
    "      tf.keras.metrics.BinaryAccuracy(name='accuracy'),\n",
    "      tf.keras.metrics.Precision(name='precision'),\n",
    "      tf.keras.metrics.Recall(name='recall'),  \n",
    "      tf.keras.metrics.AUC(name='auc'),\n",
    "        f1_score,\n",
    "]"
   ]
  },
  {
   "cell_type": "code",
   "execution_count": 14,
   "id": "6188a1ac",
   "metadata": {
    "execution": {
     "iopub.execute_input": "2022-05-25T20:32:39.577925Z",
     "iopub.status.busy": "2022-05-25T20:32:39.577339Z",
     "iopub.status.idle": "2022-05-25T20:32:39.589182Z",
     "shell.execute_reply": "2022-05-25T20:32:39.588299Z"
    },
    "papermill": {
     "duration": 0.024304,
     "end_time": "2022-05-25T20:32:39.591530",
     "exception": false,
     "start_time": "2022-05-25T20:32:39.567226",
     "status": "completed"
    },
    "tags": []
   },
   "outputs": [],
   "source": [
    "import sklearn\n",
    "from sklearn.metrics import classification_report\n",
    "from sklearn.metrics import f1_score, roc_auc_score, cohen_kappa_score, precision_score, recall_score, accuracy_score, confusion_matrix\n",
    "def get_accuracy_metrics(model, X_train, y_train, X_val, y_val, X_test, y_test):\n",
    "    y_train=np.argmax(y_train, axis=1)\n",
    "    y_test=np.argmax(y_test, axis=1)\n",
    "    y_val=np.argmax(y_val, axis=1)\n",
    "    y_train_pred=np.argmax(model.predict(X_train),axis=1)\n",
    "    y_test_pred=np.argmax(model.predict(X_test),axis=1)\n",
    "    y_val_pred=np.argmax(model.predict(X_val),axis=1)\n",
    "    #ps:all the Y value must turn back to 1 dimension array. otherwise, the scoring functions in sklearn cannot compare, and will give an error\n",
    "    #classification metrics can't handle a mix of continuous-multioutput and multi-label-indicator targets\n",
    "    \n",
    "    print(\"Train accuracy Score------------>\")\n",
    "    print (\"{0:.3f}\".format(accuracy_score(y_train, y_train_pred)*100), \"%\")\n",
    "    \n",
    "    print(\"Val accuracy Score--------->\")\n",
    "    \n",
    "    print(\"{0:.3f}\".format(accuracy_score(y_val, y_val_pred)*100), \"%\")\n",
    "    \n",
    "  \n",
    "    print(\"Test accuracy Score--------->\")\n",
    "    print(\"{0:.3f}\".format(accuracy_score(y_test, y_test_pred)*100), \"%\")\n",
    "    \n",
    "    print(\"F1 Score--------------->\")\n",
    "    print(\"{0:.3f}\".format(f1_score(y_test, y_test_pred, average = 'weighted')*100), \"%\")\n",
    "    \n",
    "    print(\"Cohen Kappa Score------------->\")\n",
    "    print(\"{0:.3f}\".format(cohen_kappa_score(y_test, y_test_pred)*100), \"%\")\n",
    "    \n",
    "    print(\"Recall-------------->\")\n",
    "    print(\"{0:.3f}\".format(recall_score(y_test, y_test_pred, average = 'weighted')*100), \"%\")\n",
    "    \n",
    "    print(\"Precision-------------->\")\n",
    "    print(\"{0:.3f}\".format(precision_score(y_test, y_test_pred, average = 'weighted')*100), \"%\")\n",
    "    \n",
    "    cf_matrix_test = confusion_matrix(y_test, y_test_pred)\n",
    "    cf_matrix_val = confusion_matrix(y_val, y_val_pred)\n",
    "    \n",
    "    plt.figure(figsize = (12, 6))\n",
    "    plt.subplot(121)\n",
    "    sns.heatmap(cf_matrix_val, annot=True, cmap='Blues')\n",
    "    plt.title(\"Val Confusion matrix\")\n",
    "    \n",
    "    plt.subplot(122)\n",
    "    sns.heatmap(cf_matrix_test, annot=True, cmap='Blues')\n",
    "    plt.title(\"Test Confusion matrix\")\n",
    "    \n",
    "    plt.show()\n",
    "    print(\"train report\")\n",
    "    print(classification_report(y_train, y_train_pred))\n",
    "    print(\"test report\")\n",
    "    print(classification_report(y_test, y_test_pred))"
   ]
  },
  {
   "cell_type": "code",
   "execution_count": 15,
   "id": "1f7ee0ba",
   "metadata": {
    "execution": {
     "iopub.execute_input": "2022-05-25T20:32:39.611452Z",
     "iopub.status.busy": "2022-05-25T20:32:39.610857Z",
     "iopub.status.idle": "2022-05-25T20:32:39.624438Z",
     "shell.execute_reply": "2022-05-25T20:32:39.623405Z"
    },
    "papermill": {
     "duration": 0.026277,
     "end_time": "2022-05-25T20:32:39.626698",
     "exception": false,
     "start_time": "2022-05-25T20:32:39.600421",
     "status": "completed"
    },
    "tags": []
   },
   "outputs": [],
   "source": [
    "callbacks1 =  [EarlyStopping(monitor='val_loss', patience=5, verbose=1), ModelCheckpoint('init_model.h5', save_best_only=True)]\n",
    "opt = Adam(learning_rate=0.0001)\n",
    "model.compile(loss=\"binary_crossentropy\", optimizer=opt, metrics=['accuracy'])"
   ]
  },
  {
   "cell_type": "code",
   "execution_count": 16,
   "id": "3e997138",
   "metadata": {
    "execution": {
     "iopub.execute_input": "2022-05-25T20:32:39.646363Z",
     "iopub.status.busy": "2022-05-25T20:32:39.645844Z",
     "iopub.status.idle": "2022-05-25T20:35:53.378700Z",
     "shell.execute_reply": "2022-05-25T20:35:53.377834Z"
    },
    "papermill": {
     "duration": 193.747372,
     "end_time": "2022-05-25T20:35:53.382757",
     "exception": false,
     "start_time": "2022-05-25T20:32:39.635385",
     "status": "completed"
    },
    "tags": []
   },
   "outputs": [
    {
     "name": "stdout",
     "output_type": "stream",
     "text": [
      "CPU times: user 2 µs, sys: 2 µs, total: 4 µs\n",
      "Wall time: 8.34 µs\n"
     ]
    },
    {
     "name": "stderr",
     "output_type": "stream",
     "text": [
      "2022-05-25 20:32:39.794704: I tensorflow/compiler/mlir/mlir_graph_optimization_pass.cc:185] None of the MLIR Optimization Passes are enabled (registered 2)\n"
     ]
    },
    {
     "name": "stdout",
     "output_type": "stream",
     "text": [
      "Epoch 1/10\n",
      "219/219 [==============================] - 21s 92ms/step - loss: 1.5859 - accuracy: 0.8360 - val_loss: 0.5087 - val_accuracy: 0.8378\n",
      "Epoch 2/10\n",
      "219/219 [==============================] - 20s 90ms/step - loss: 0.3428 - accuracy: 0.8794 - val_loss: 0.3672 - val_accuracy: 0.8600\n",
      "Epoch 3/10\n",
      "219/219 [==============================] - 19s 86ms/step - loss: 0.2336 - accuracy: 0.9203 - val_loss: 0.3613 - val_accuracy: 0.8689\n",
      "Epoch 4/10\n",
      "219/219 [==============================] - 19s 89ms/step - loss: 0.1748 - accuracy: 0.9447 - val_loss: 0.3668 - val_accuracy: 0.8733\n",
      "Epoch 5/10\n",
      "219/219 [==============================] - 19s 87ms/step - loss: 0.1279 - accuracy: 0.9606 - val_loss: 0.3611 - val_accuracy: 0.8911\n",
      "Epoch 6/10\n",
      "219/219 [==============================] - 19s 89ms/step - loss: 0.0908 - accuracy: 0.9723 - val_loss: 0.3724 - val_accuracy: 0.8900\n",
      "Epoch 7/10\n",
      "219/219 [==============================] - 20s 90ms/step - loss: 0.0594 - accuracy: 0.9850 - val_loss: 0.3951 - val_accuracy: 0.8989\n",
      "Epoch 8/10\n",
      "219/219 [==============================] - 19s 85ms/step - loss: 0.0433 - accuracy: 0.9906 - val_loss: 0.5668 - val_accuracy: 0.8856\n",
      "Epoch 9/10\n",
      "219/219 [==============================] - 19s 88ms/step - loss: 0.0346 - accuracy: 0.9921 - val_loss: 0.4364 - val_accuracy: 0.8922\n",
      "Epoch 10/10\n",
      "219/219 [==============================] - 19s 85ms/step - loss: 0.0227 - accuracy: 0.9963 - val_loss: 0.5371 - val_accuracy: 0.8900\n",
      "Epoch 00010: early stopping\n"
     ]
    }
   ],
   "source": [
    "%time\n",
    "history1=model.fit(X_train, y_train,validation_data=(X_test, y_test),verbose = 1,epochs = epoch1,callbacks=callbacks1)"
   ]
  },
  {
   "cell_type": "code",
   "execution_count": 17,
   "id": "44cd6be3",
   "metadata": {
    "execution": {
     "iopub.execute_input": "2022-05-25T20:35:53.615076Z",
     "iopub.status.busy": "2022-05-25T20:35:53.614657Z",
     "iopub.status.idle": "2022-05-25T20:36:10.053831Z",
     "shell.execute_reply": "2022-05-25T20:36:10.052924Z"
    },
    "papermill": {
     "duration": 16.55598,
     "end_time": "2022-05-25T20:36:10.056043",
     "exception": false,
     "start_time": "2022-05-25T20:35:53.500063",
     "status": "completed"
    },
    "tags": []
   },
   "outputs": [
    {
     "name": "stdout",
     "output_type": "stream",
     "text": [
      "Train accuracy Score------------>\n",
      "99.900 %\n",
      "Val accuracy Score--------->\n",
      "91.762 %\n",
      "Test accuracy Score--------->\n",
      "89.000 %\n",
      "F1 Score--------------->\n",
      "87.906 %\n",
      "Cohen Kappa Score------------->\n",
      "54.270 %\n",
      "Recall-------------->\n",
      "89.000 %\n",
      "Precision-------------->\n",
      "88.263 %\n"
     ]
    },
    {
     "data": {
      "image/png": "[encoded data removed]",
      "text/plain": [
       "<Figure size 864x432 with 4 Axes>"
      ]
     },
     "metadata": {
      "needs_background": "light"
     },
     "output_type": "display_data"
    },
    {
     "name": "stdout",
     "output_type": "stream",
     "text": [
      "train report\n",
      "              precision    recall  f1-score   support\n",
      "\n",
      "           0       1.00      1.00      1.00      5945\n",
      "           1       1.00      0.99      1.00      1055\n",
      "\n",
      "    accuracy                           1.00      7000\n",
      "   macro avg       1.00      1.00      1.00      7000\n",
      "weighted avg       1.00      1.00      1.00      7000\n",
      "\n",
      "test report\n",
      "              precision    recall  f1-score   support\n",
      "\n",
      "           0       0.90      0.97      0.94       746\n",
      "           1       0.79      0.49      0.60       154\n",
      "\n",
      "    accuracy                           0.89       900\n",
      "   macro avg       0.85      0.73      0.77       900\n",
      "weighted avg       0.88      0.89      0.88       900\n",
      "\n"
     ]
    }
   ],
   "source": [
    "#MODEL_PATH = './test_model.hdf5'\n",
    "#from keras.models import load_model\n",
    "##best_model = load_model('./test_model.h5')\n",
    "#init_model = load_model('./init_model.h5', compile=False)\n",
    "#best_model = load_model(\"./test_model.h5\", custom_objects={'focal_loss_fixed': focal_loss()})\n",
    "get_accuracy_metrics(model,  X_train, y_train, X_val, y_val, X_test, y_test)"
   ]
  },
  {
   "cell_type": "markdown",
   "id": "c74319fa",
   "metadata": {
    "papermill": {
     "duration": 0.183752,
     "end_time": "2022-05-25T20:36:10.355237",
     "exception": false,
     "start_time": "2022-05-25T20:36:10.171485",
     "status": "completed"
    },
    "tags": []
   },
   "source": [
    "plot training history"
   ]
  },
  {
   "cell_type": "code",
   "execution_count": 18,
   "id": "589e5f91",
   "metadata": {
    "execution": {
     "iopub.execute_input": "2022-05-25T20:36:10.583673Z",
     "iopub.status.busy": "2022-05-25T20:36:10.583312Z",
     "iopub.status.idle": "2022-05-25T20:36:10.903570Z",
     "shell.execute_reply": "2022-05-25T20:36:10.902598Z"
    },
    "papermill": {
     "duration": 0.435955,
     "end_time": "2022-05-25T20:36:10.905628",
     "exception": false,
     "start_time": "2022-05-25T20:36:10.469673",
     "status": "completed"
    },
    "tags": []
   },
   "outputs": [
    {
     "data": {
      "image/png": "[encoded data removed]",
      "text/plain": [
       "<Figure size 864x432 with 2 Axes>"
      ]
     },
     "metadata": {
      "needs_background": "light"
     },
     "output_type": "display_data"
    }
   ],
   "source": [
    "import matplotlib.pyplot as plt\n",
    "import seaborn as sns\n",
    "plt.figure(figsize = (12, 6))\n",
    "plt.subplot(121)\n",
    "#plotting the Accuracy of test and training sets\n",
    "plt.plot(history1.history['accuracy'])\n",
    "plt.plot(history1.history['val_accuracy'])\n",
    "plt.title('1st training Model Accuracy')\n",
    "plt.ylabel('accuracy')\n",
    "plt.xlabel('epoch')\n",
    "plt.legend(['train', 'test'], loc='upper left')\n",
    "\n",
    "plt.subplot(122)\n",
    "#plotting the loss of test and training sets\n",
    "plt.plot(history1.history['loss'])\n",
    "plt.plot(history1.history['val_loss'])\n",
    "plt.title('1st training Model Loss')\n",
    "plt.ylabel('loss')\n",
    "plt.xlabel('epoch')\n",
    "plt.legend(['train', 'test'], loc='upper left')\n",
    "plt.show()\n"
   ]
  },
  {
   "cell_type": "markdown",
   "id": "e6481d45",
   "metadata": {
    "papermill": {
     "duration": 0.138627,
     "end_time": "2022-05-25T20:36:11.157942",
     "exception": false,
     "start_time": "2022-05-25T20:36:11.019315",
     "status": "completed"
    },
    "tags": []
   },
   "source": [
    "plot confusion report"
   ]
  },
  {
   "cell_type": "code",
   "execution_count": 19,
   "id": "0962290d",
   "metadata": {
    "execution": {
     "iopub.execute_input": "2022-05-25T20:36:11.389226Z",
     "iopub.status.busy": "2022-05-25T20:36:11.388564Z",
     "iopub.status.idle": "2022-05-25T20:36:13.087552Z",
     "shell.execute_reply": "2022-05-25T20:36:13.086622Z"
    },
    "papermill": {
     "duration": 1.817703,
     "end_time": "2022-05-25T20:36:13.089971",
     "exception": false,
     "start_time": "2022-05-25T20:36:11.272268",
     "status": "completed"
    },
    "tags": []
   },
   "outputs": [
    {
     "data": {
      "image/png": "[encoded data removed]",
      "text/plain": [
       "<Figure size 576x576 with 2 Axes>"
      ]
     },
     "metadata": {
      "needs_background": "light"
     },
     "output_type": "display_data"
    }
   ],
   "source": [
    "from sklearn.metrics import confusion_matrix\n",
    "import seaborn as sns\n",
    "\n",
    "Y_pred = model.predict(X_val)\n",
    "Y_pred_classes = np.argmax(Y_pred,axis = 1) \n",
    "Y_true = np.argmax(y_val,axis = 1) \n",
    "\n",
    "confusion_mtx = confusion_matrix(Y_true, Y_pred_classes) \n",
    "\n",
    "f,ax = plt.subplots(figsize=(8, 8))\n",
    "sns.heatmap(confusion_mtx, annot=True, linewidths=0.01,cmap=\"OrRd\",linecolor=\"black\", fmt= '.1f',ax=ax)\n",
    "plt.xlabel(\"Predicted Label\")\n",
    "plt.ylabel(\"True Label\")\n",
    "plt.title(\"Confusion Matrix\")\n",
    "plt.show()"
   ]
  },
  {
   "cell_type": "code",
   "execution_count": 20,
   "id": "0b3c55f8",
   "metadata": {
    "execution": {
     "iopub.execute_input": "2022-05-25T20:36:13.320913Z",
     "iopub.status.busy": "2022-05-25T20:36:13.320288Z",
     "iopub.status.idle": "2022-05-25T20:36:13.331706Z",
     "shell.execute_reply": "2022-05-25T20:36:13.330653Z"
    },
    "papermill": {
     "duration": 0.129418,
     "end_time": "2022-05-25T20:36:13.333961",
     "exception": false,
     "start_time": "2022-05-25T20:36:13.204543",
     "status": "completed"
    },
    "tags": []
   },
   "outputs": [
    {
     "name": "stdout",
     "output_type": "stream",
     "text": [
      "              precision    recall  f1-score   support\n",
      "\n",
      "           0       0.93      0.98      0.95      1806\n",
      "           1       0.83      0.52      0.64       294\n",
      "\n",
      "    accuracy                           0.92      2100\n",
      "   macro avg       0.88      0.75      0.80      2100\n",
      "weighted avg       0.91      0.92      0.91      2100\n",
      "\n"
     ]
    }
   ],
   "source": [
    "from sklearn.metrics import classification_report\n",
    "\n",
    "print(classification_report(Y_true, Y_pred_classes))"
   ]
  },
  {
   "cell_type": "markdown",
   "id": "90ca8b3a",
   "metadata": {
    "papermill": {
     "duration": 0.11487,
     "end_time": "2022-05-25T20:36:13.563910",
     "exception": false,
     "start_time": "2022-05-25T20:36:13.449040",
     "status": "completed"
    },
    "tags": []
   },
   "source": [
    "plot training history"
   ]
  },
  {
   "cell_type": "markdown",
   "id": "0006329d",
   "metadata": {
    "papermill": {
     "duration": 0.114245,
     "end_time": "2022-05-25T20:36:13.793142",
     "exception": false,
     "start_time": "2022-05-25T20:36:13.678897",
     "status": "completed"
    },
    "tags": []
   },
   "source": [
    "plot confusion report"
   ]
  },
  {
   "cell_type": "markdown",
   "id": "a720f674",
   "metadata": {
    "papermill": {
     "duration": 0.114366,
     "end_time": "2022-05-25T20:36:14.022182",
     "exception": false,
     "start_time": "2022-05-25T20:36:13.907816",
     "status": "completed"
    },
    "tags": []
   },
   "source": []
  },
  {
   "cell_type": "code",
   "execution_count": 21,
   "id": "6ce3189e",
   "metadata": {
    "execution": {
     "iopub.execute_input": "2022-05-25T20:36:14.252865Z",
     "iopub.status.busy": "2022-05-25T20:36:14.252230Z",
     "iopub.status.idle": "2022-05-25T20:36:14.260639Z",
     "shell.execute_reply": "2022-05-25T20:36:14.259538Z"
    },
    "papermill": {
     "duration": 0.125892,
     "end_time": "2022-05-25T20:36:14.262539",
     "exception": false,
     "start_time": "2022-05-25T20:36:14.136647",
     "status": "completed"
    },
    "tags": []
   },
   "outputs": [
    {
     "name": "stdout",
     "output_type": "stream",
     "text": [
      "/kaggle/working\n"
     ]
    },
    {
     "data": {
      "text/html": [
       "Path (<tt>model.hdf5</tt>) doesn't exist. It may still be in the process of being generated, or you may have the incorrect path."
      ],
      "text/plain": [
       "/kaggle/working/model.hdf5"
      ]
     },
     "execution_count": 21,
     "metadata": {},
     "output_type": "execute_result"
    }
   ],
   "source": [
    "%cd /kaggle/working\n",
    "from IPython.display import FileLink\n",
    "FileLink('model.hdf5')"
   ]
  },
  {
   "cell_type": "code",
   "execution_count": null,
   "id": "65a60e85",
   "metadata": {
    "papermill": {
     "duration": 0.116239,
     "end_time": "2022-05-25T20:36:14.546248",
     "exception": false,
     "start_time": "2022-05-25T20:36:14.430009",
     "status": "completed"
    },
    "tags": []
   },
   "outputs": [],
   "source": []
  },
  {
   "cell_type": "code",
   "execution_count": null,
   "id": "eab991b7",
   "metadata": {
    "papermill": {
     "duration": 0.115842,
     "end_time": "2022-05-25T20:36:14.776573",
     "exception": false,
     "start_time": "2022-05-25T20:36:14.660731",
     "status": "completed"
    },
    "tags": []
   },
   "outputs": [],
   "source": []
  },
  {
   "cell_type": "code",
   "execution_count": null,
   "id": "1314e20e",
   "metadata": {
    "papermill": {
     "duration": 0.115013,
     "end_time": "2022-05-25T20:36:15.005737",
     "exception": false,
     "start_time": "2022-05-25T20:36:14.890724",
     "status": "completed"
    },
    "tags": []
   },
   "outputs": [],
   "source": []
  }
 ],
 "metadata": {
  "kernelspec": {
   "display_name": "Python 3",
   "language": "python",
   "name": "python3"
  },
  "language_info": {
   "codemirror_mode": {
    "name": "ipython",
    "version": 3
   },
   "file_extension": ".py",
   "mimetype": "text/x-python",
   "name": "python",
   "nbconvert_exporter": "python",
   "pygments_lexer": "ipython3",
   "version": "3.7.12"
  },
  "papermill": {
   "default_parameters": {},
   "duration": 391.776584,
   "end_time": "2022-05-25T20:36:18.377211",
   "environment_variables": {},
   "exception": null,
   "input_path": "__notebook__.ipynb",
   "output_path": "__notebook__.ipynb",
   "parameters": {},
   "start_time": "2022-05-25T20:29:46.600627",
   "version": "2.3.4"
  }
 },
 "nbformat": 4,
 "nbformat_minor": 5
}
