{
 "cells": [
  {
   "cell_type": "code",
   "execution_count": 1,
   "id": "f21a9a14",
   "metadata": {
    "_cell_guid": "b1076dfc-b9ad-4769-8c92-a6c4dae69d19",
    "_uuid": "8f2839f25d086af736a60e9eeb907d3b93b6e0e5",
    "execution": {
     "iopub.execute_input": "2022-05-18T12:41:42.990170Z",
     "iopub.status.busy": "2022-05-18T12:41:42.988983Z",
     "iopub.status.idle": "2022-05-18T12:41:53.771639Z",
     "shell.execute_reply": "2022-05-18T12:41:53.770654Z"
    },
    "papermill": {
     "duration": 10.821458,
     "end_time": "2022-05-18T12:41:53.774220",
     "exception": false,
     "start_time": "2022-05-18T12:41:42.952762",
     "status": "completed"
    },
    "tags": []
   },
   "outputs": [
    {
     "name": "stdout",
     "output_type": "stream",
     "text": [
      "Collecting Livelossplot\r\n",
      "  Downloading livelossplot-0.5.5-py3-none-any.whl (22 kB)\r\n",
      "Requirement already satisfied: ipython==7.* in /opt/conda/lib/python3.7/site-packages (from Livelossplot) (7.32.0)\r\n",
      "Requirement already satisfied: numpy<1.22 in /opt/conda/lib/python3.7/site-packages (from Livelossplot) (1.21.6)\r\n",
      "Requirement already satisfied: matplotlib in /opt/conda/lib/python3.7/site-packages (from Livelossplot) (3.5.2)\r\n",
      "Requirement already satisfied: bokeh in /opt/conda/lib/python3.7/site-packages (from Livelossplot) (2.4.2)\r\n",
      "Requirement already satisfied: pickleshare in /opt/conda/lib/python3.7/site-packages (from ipython==7.*->Livelossplot) (0.7.5)\r\n",
      "Requirement already satisfied: traitlets>=4.2 in /opt/conda/lib/python3.7/site-packages (from ipython==7.*->Livelossplot) (5.1.1)\r\n",
      "Requirement already satisfied: decorator in /opt/conda/lib/python3.7/site-packages (from ipython==7.*->Livelossplot) (5.1.1)\r\n",
      "Requirement already satisfied: pexpect>4.3 in /opt/conda/lib/python3.7/site-packages (from ipython==7.*->Livelossplot) (4.8.0)\r\n",
      "Requirement already satisfied: matplotlib-inline in /opt/conda/lib/python3.7/site-packages (from ipython==7.*->Livelossplot) (0.1.3)\r\n",
      "Requirement already satisfied: backcall in /opt/conda/lib/python3.7/site-packages (from ipython==7.*->Livelossplot) (0.2.0)\r\n",
      "Requirement already satisfied: prompt-toolkit!=3.0.0,!=3.0.1,<3.1.0,>=2.0.0 in /opt/conda/lib/python3.7/site-packages (from ipython==7.*->Livelossplot) (3.0.27)\r\n",
      "Requirement already satisfied: jedi>=0.16 in /opt/conda/lib/python3.7/site-packages (from ipython==7.*->Livelossplot) (0.18.1)\r\n",
      "Requirement already satisfied: setuptools>=18.5 in /opt/conda/lib/python3.7/site-packages (from ipython==7.*->Livelossplot) (59.8.0)\r\n",
      "Requirement already satisfied: pygments in /opt/conda/lib/python3.7/site-packages (from ipython==7.*->Livelossplot) (2.11.2)\r\n",
      "Requirement already satisfied: pillow>=7.1.0 in /opt/conda/lib/python3.7/site-packages (from bokeh->Livelossplot) (9.0.1)\r\n",
      "Requirement already satisfied: packaging>=16.8 in /opt/conda/lib/python3.7/site-packages (from bokeh->Livelossplot) (21.3)\r\n",
      "Requirement already satisfied: Jinja2>=2.9 in /opt/conda/lib/python3.7/site-packages (from bokeh->Livelossplot) (3.1.2)\r\n",
      "Requirement already satisfied: typing-extensions>=3.10.0 in /opt/conda/lib/python3.7/site-packages (from bokeh->Livelossplot) (4.2.0)\r\n",
      "Requirement already satisfied: tornado>=5.1 in /opt/conda/lib/python3.7/site-packages (from bokeh->Livelossplot) (6.1)\r\n",
      "Requirement already satisfied: PyYAML>=3.10 in /opt/conda/lib/python3.7/site-packages (from bokeh->Livelossplot) (6.0)\r\n",
      "Requirement already satisfied: kiwisolver>=1.0.1 in /opt/conda/lib/python3.7/site-packages (from matplotlib->Livelossplot) (1.4.0)\r\n",
      "Requirement already satisfied: python-dateutil>=2.7 in /opt/conda/lib/python3.7/site-packages (from matplotlib->Livelossplot) (2.8.2)\r\n",
      "Requirement already satisfied: pyparsing>=2.2.1 in /opt/conda/lib/python3.7/site-packages (from matplotlib->Livelossplot) (3.0.7)\r\n",
      "Requirement already satisfied: fonttools>=4.22.0 in /opt/conda/lib/python3.7/site-packages (from matplotlib->Livelossplot) (4.30.0)\r\n",
      "Requirement already satisfied: cycler>=0.10 in /opt/conda/lib/python3.7/site-packages (from matplotlib->Livelossplot) (0.11.0)\r\n",
      "Requirement already satisfied: parso<0.9.0,>=0.8.0 in /opt/conda/lib/python3.7/site-packages (from jedi>=0.16->ipython==7.*->Livelossplot) (0.8.3)\r\n",
      "Requirement already satisfied: MarkupSafe>=2.0 in /opt/conda/lib/python3.7/site-packages (from Jinja2>=2.9->bokeh->Livelossplot) (2.0.1)\r\n",
      "Requirement already satisfied: ptyprocess>=0.5 in /opt/conda/lib/python3.7/site-packages (from pexpect>4.3->ipython==7.*->Livelossplot) (0.7.0)\r\n",
      "Requirement already satisfied: wcwidth in /opt/conda/lib/python3.7/site-packages (from prompt-toolkit!=3.0.0,!=3.0.1,<3.1.0,>=2.0.0->ipython==7.*->Livelossplot) (0.2.5)\r\n",
      "Requirement already satisfied: six>=1.5 in /opt/conda/lib/python3.7/site-packages (from python-dateutil>=2.7->matplotlib->Livelossplot) (1.16.0)\r\n",
      "Installing collected packages: Livelossplot\r\n",
      "Successfully installed Livelossplot-0.5.5\r\n",
      "\u001b[33mWARNING: Running pip as the 'root' user can result in broken permissions and conflicting behaviour with the system package manager. It is recommended to use a virtual environment instead: https://pip.pypa.io/warnings/venv\u001b[0m\u001b[33m\r\n",
      "\u001b[0m"
     ]
    }
   ],
   "source": [
    "# This Python 3 environment comes with many helpful analytics libraries installed\n",
    "# It is defined by the kaggle/python Docker image: https://github.com/kaggle/docker-python\n",
    "# For example, here's several helpful packages to load\n",
    "\n",
    "import numpy as np # linear algebra\n",
    "import pandas as pd # data processing, CSV file I/O (e.g. pd.read_csv)\n",
    "\n",
    "# Input data files are available in the read-only \"../input/\" directory\n",
    "# For example, running this (by clicking run or pressing Shift+Enter) will list all files under the input directory\n",
    "\n",
    "import os\n",
    "\n",
    "import warnings\n",
    "warnings.filterwarnings('ignore')\n",
    "%matplotlib inline\n",
    "!pip install Livelossplot\n",
    "from livelossplot import PlotLossesKeras\n",
    "\n",
    "from glob import glob\n",
    "import os\n",
    "import shutil\n",
    "\n",
    "import numpy as np\n",
    "import pandas as pd\n",
    "# You can write up to 20GB to the current directory (/kaggle/working/) that gets preserved as output when you create a version using \"Save & Run All\" \n",
    "# You can also write temporary files to /kaggle/temp/, but they won't be saved outside of the current session"
   ]
  },
  {
   "cell_type": "markdown",
   "id": "95f3f10e",
   "metadata": {
    "papermill": {
     "duration": 0.029557,
     "end_time": "2022-05-18T12:41:53.834409",
     "exception": false,
     "start_time": "2022-05-18T12:41:53.804852",
     "status": "completed"
    },
    "tags": []
   },
   "source": [
    "# AIM\n",
    "## To classify the images into \n",
    "### IDC+\n",
    "### IDC-\n",
    "\n",
    "# Validation Strategy:\n",
    "\n",
    "## Train Data Size= 0.7*Total_Data\n",
    "## Validation Data Size= 0.21* Total_Data\n",
    "## Test Data Size= 0.09 * Total_Data\n",
    "\n",
    "# Augmentaions Used:\n",
    "## Each Image is rotated through 45 angles\n"
   ]
  },
  {
   "cell_type": "code",
   "execution_count": 2,
   "id": "aa97afff",
   "metadata": {
    "execution": {
     "iopub.execute_input": "2022-05-18T12:41:53.895641Z",
     "iopub.status.busy": "2022-05-18T12:41:53.895318Z",
     "iopub.status.idle": "2022-05-18T12:42:03.261876Z",
     "shell.execute_reply": "2022-05-18T12:42:03.260037Z"
    },
    "papermill": {
     "duration": 9.401502,
     "end_time": "2022-05-18T12:42:03.264875",
     "exception": false,
     "start_time": "2022-05-18T12:41:53.863373",
     "status": "completed"
    },
    "tags": []
   },
   "outputs": [
    {
     "data": {
      "text/html": [
       "<style type='text/css'>\n",
       ".datatable table.frame { margin-bottom: 0; }\n",
       ".datatable table.frame thead { border-bottom: none; }\n",
       ".datatable table.frame tr.coltypes td {  color: #FFFFFF;  line-height: 6px;  padding: 0 0.5em;}\n",
       ".datatable .bool    { background: #DDDD99; }\n",
       ".datatable .object  { background: #565656; }\n",
       ".datatable .int     { background: #5D9E5D; }\n",
       ".datatable .float   { background: #4040CC; }\n",
       ".datatable .str     { background: #CC4040; }\n",
       ".datatable .time    { background: #40CC40; }\n",
       ".datatable .row_index {  background: var(--jp-border-color3);  border-right: 1px solid var(--jp-border-color0);  color: var(--jp-ui-font-color3);  font-size: 9px;}\n",
       ".datatable .frame tbody td { text-align: left; }\n",
       ".datatable .frame tr.coltypes .row_index {  background: var(--jp-border-color0);}\n",
       ".datatable th:nth-child(2) { padding-left: 12px; }\n",
       ".datatable .hellipsis {  color: var(--jp-cell-editor-border-color);}\n",
       ".datatable .vellipsis {  background: var(--jp-layout-color0);  color: var(--jp-cell-editor-border-color);}\n",
       ".datatable .na {  color: var(--jp-cell-editor-border-color);  font-size: 80%;}\n",
       ".datatable .sp {  opacity: 0.25;}\n",
       ".datatable .footer { font-size: 9px; }\n",
       ".datatable .frame_dimensions {  background: var(--jp-border-color3);  border-top: 1px solid var(--jp-border-color0);  color: var(--jp-ui-font-color3);  display: inline-block;  opacity: 0.6;  padding: 1px 10px 1px 5px;}\n",
       "</style>\n"
      ],
      "text/plain": [
       "<IPython.core.display.HTML object>"
      ]
     },
     "metadata": {},
     "output_type": "display_data"
    },
    {
     "name": "stdout",
     "output_type": "stream",
     "text": [
      "All modules have been imported\n"
     ]
    }
   ],
   "source": [
    "\n",
    "import numpy as np\n",
    "import pandas as pd\n",
    "import cv2\n",
    "from PIL import Image\n",
    "import scipy\n",
    "\n",
    "import tensorflow as tf\n",
    "from tensorflow.keras.applications import *\n",
    "from tensorflow.keras.optimizers import *\n",
    "from tensorflow.keras.losses import *\n",
    "from tensorflow.keras.layers import *\n",
    "from tensorflow.keras.models import *\n",
    "from tensorflow.keras.callbacks import *\n",
    "from tensorflow.keras.preprocessing.image import *\n",
    "from tensorflow.keras.utils import *\n",
    "# import pydot\n",
    "\n",
    "from sklearn.metrics import *\n",
    "from sklearn.model_selection import *\n",
    "import tensorflow.keras.backend as K\n",
    "\n",
    "from tqdm import tqdm, tqdm_notebook\n",
    "from colorama import Fore\n",
    "import json\n",
    "import matplotlib.pyplot as plt\n",
    "import seaborn as sns\n",
    "from glob import glob\n",
    "from skimage.io import *\n",
    "%config Completer.use_jedi = False\n",
    "import time\n",
    "from sklearn.decomposition import PCA\n",
    "from sklearn.svm import LinearSVC\n",
    "from sklearn.linear_model import LogisticRegression\n",
    "from sklearn.metrics import accuracy_score\n",
    "import lightgbm as lgb\n",
    "import xgboost as xgb\n",
    "\n",
    "print(\"All modules have been imported\")"
   ]
  },
  {
   "cell_type": "code",
   "execution_count": 3,
   "id": "34e6af40",
   "metadata": {
    "execution": {
     "iopub.execute_input": "2022-05-18T12:42:03.328172Z",
     "iopub.status.busy": "2022-05-18T12:42:03.327160Z",
     "iopub.status.idle": "2022-05-18T12:42:03.332621Z",
     "shell.execute_reply": "2022-05-18T12:42:03.331588Z"
    },
    "papermill": {
     "duration": 0.038303,
     "end_time": "2022-05-18T12:42:03.334590",
     "exception": false,
     "start_time": "2022-05-18T12:42:03.296287",
     "status": "completed"
    },
    "tags": []
   },
   "outputs": [],
   "source": [
    "sampling_seed=0\n",
    "size_4_training=5000\n",
    "img_size=224\n",
    "training_reshape=(-1, img_size, img_size, 3)\n",
    "epoch_4_test=10"
   ]
  },
  {
   "cell_type": "markdown",
   "id": "edd98452",
   "metadata": {
    "papermill": {
     "duration": 0.029379,
     "end_time": "2022-05-18T12:42:03.396573",
     "exception": false,
     "start_time": "2022-05-18T12:42:03.367194",
     "status": "completed"
    },
    "tags": []
   },
   "source": [
    "Image labelling"
   ]
  },
  {
   "cell_type": "code",
   "execution_count": 4,
   "id": "e8b31af2",
   "metadata": {
    "execution": {
     "iopub.execute_input": "2022-05-18T12:42:03.458118Z",
     "iopub.status.busy": "2022-05-18T12:42:03.457810Z",
     "iopub.status.idle": "2022-05-18T12:44:00.175891Z",
     "shell.execute_reply": "2022-05-18T12:44:00.175062Z"
    },
    "papermill": {
     "duration": 116.751611,
     "end_time": "2022-05-18T12:44:00.177977",
     "exception": false,
     "start_time": "2022-05-18T12:42:03.426366",
     "status": "completed"
    },
    "tags": []
   },
   "outputs": [
    {
     "name": "stdout",
     "output_type": "stream",
     "text": [
      "['../input/breast-histopathology-images/IDC_regular_ps50_idx5/10295/0/10295_idx5_x1351_y1101_class0.png', '../input/breast-histopathology-images/IDC_regular_ps50_idx5/10295/0/10295_idx5_x1501_y501_class0.png', '../input/breast-histopathology-images/IDC_regular_ps50_idx5/10295/0/10295_idx5_x1501_y1101_class0.png', '../input/breast-histopathology-images/IDC_regular_ps50_idx5/10295/0/10295_idx5_x451_y901_class0.png', '../input/breast-histopathology-images/IDC_regular_ps50_idx5/10295/0/10295_idx5_x801_y451_class0.png', '../input/breast-histopathology-images/IDC_regular_ps50_idx5/10295/0/10295_idx5_x151_y1051_class0.png', '../input/breast-histopathology-images/IDC_regular_ps50_idx5/10295/0/10295_idx5_x1351_y901_class0.png', '../input/breast-histopathology-images/IDC_regular_ps50_idx5/10295/0/10295_idx5_x701_y651_class0.png', '../input/breast-histopathology-images/IDC_regular_ps50_idx5/10295/0/10295_idx5_x951_y1401_class0.png', '../input/breast-histopathology-images/IDC_regular_ps50_idx5/10295/0/10295_idx5_x601_y501_class0.png']\n"
     ]
    }
   ],
   "source": [
    "import random\n",
    "#make directory for labelling\n",
    "os.makedirs('../working/idc2/idc-minus/')     \n",
    "os.makedirs('../working/idc2/idc-plus/')  \n",
    "\n",
    "\n",
    "class0 = [] # 0 = idc+\n",
    "class1 = [] # 1 = idc-\n",
    "imagePatches = glob('../input/breast-histopathology-images/IDC_regular_ps50_idx5/**/*.png', recursive=True)\n",
    "for filename in imagePatches:\n",
    "    if filename.endswith(\"class0.png\"):\n",
    "         class0.append(filename)\n",
    "    else:\n",
    "        class1.append(filename)\n",
    "\n",
    "print(class0[0:10])\n",
    "\n",
    "#sampling 10000 images from class 0 and class 1 to train the model\n",
    "\n",
    "random.seed(sampling_seed)\n",
    "class0sample=random.sample(class0,size_4_training)\n",
    "class1sample=random.sample(class1,size_4_training)\n",
    "\n",
    "\n",
    "def read_and_save_data(path, file_name_array):\n",
    "    j=0\n",
    "    for i in file_name_array:\n",
    "        if i.endswith('.png'):\n",
    "          \n",
    "            \n",
    "            #second copy method\n",
    "            head, tail = os.path.split(i)\n",
    "            outputname=str(path+tail)\n",
    "            #outputname=str(path+str(j)+'.png')\n",
    "            #print(outputname)\n",
    "            shutil.copy(i, outputname)\n",
    "   \n",
    "            #print(status2)\n",
    "            \n",
    "            j=j+1\n",
    "            if j==120000:\n",
    "                break\n",
    "            \n",
    "   \n",
    "class0path='../working/idc2/idc-minus/'\n",
    "class1path='../working/idc2/idc-plus/'\n",
    "\n",
    "\n",
    "\n",
    "\n",
    "read_and_save_data(class0path,class0sample)\n",
    "read_and_save_data(class1path,class1sample)"
   ]
  },
  {
   "cell_type": "markdown",
   "id": "ac1e0f0d",
   "metadata": {
    "papermill": {
     "duration": 0.029471,
     "end_time": "2022-05-18T12:44:00.238328",
     "exception": false,
     "start_time": "2022-05-18T12:44:00.208857",
     "status": "completed"
    },
    "tags": []
   },
   "source": []
  },
  {
   "cell_type": "code",
   "execution_count": null,
   "id": "96ffd9b2",
   "metadata": {
    "papermill": {
     "duration": 0.029216,
     "end_time": "2022-05-18T12:44:00.297732",
     "exception": false,
     "start_time": "2022-05-18T12:44:00.268516",
     "status": "completed"
    },
    "tags": []
   },
   "outputs": [],
   "source": [
    "\n"
   ]
  },
  {
   "cell_type": "code",
   "execution_count": 5,
   "id": "8d862140",
   "metadata": {
    "execution": {
     "iopub.execute_input": "2022-05-18T12:44:00.358496Z",
     "iopub.status.busy": "2022-05-18T12:44:00.358194Z",
     "iopub.status.idle": "2022-05-18T12:44:00.361687Z",
     "shell.execute_reply": "2022-05-18T12:44:00.361121Z"
    },
    "papermill": {
     "duration": 0.03584,
     "end_time": "2022-05-18T12:44:00.363371",
     "exception": false,
     "start_time": "2022-05-18T12:44:00.327531",
     "status": "completed"
    },
    "tags": []
   },
   "outputs": [],
   "source": [
    "\n",
    "from PIL import Image\n",
    "import glob\n"
   ]
  },
  {
   "cell_type": "code",
   "execution_count": null,
   "id": "2a4ec701",
   "metadata": {
    "papermill": {
     "duration": 0.02946,
     "end_time": "2022-05-18T12:44:00.422709",
     "exception": false,
     "start_time": "2022-05-18T12:44:00.393249",
     "status": "completed"
    },
    "tags": []
   },
   "outputs": [],
   "source": []
  },
  {
   "cell_type": "code",
   "execution_count": null,
   "id": "18144666",
   "metadata": {
    "papermill": {
     "duration": 0.029257,
     "end_time": "2022-05-18T12:44:00.481631",
     "exception": false,
     "start_time": "2022-05-18T12:44:00.452374",
     "status": "completed"
    },
    "tags": []
   },
   "outputs": [],
   "source": []
  },
  {
   "cell_type": "code",
   "execution_count": 6,
   "id": "8cc3a188",
   "metadata": {
    "execution": {
     "iopub.execute_input": "2022-05-18T12:44:00.542713Z",
     "iopub.status.busy": "2022-05-18T12:44:00.542215Z",
     "iopub.status.idle": "2022-05-18T12:44:00.546296Z",
     "shell.execute_reply": "2022-05-18T12:44:00.545449Z"
    },
    "papermill": {
     "duration": 0.036608,
     "end_time": "2022-05-18T12:44:00.548092",
     "exception": false,
     "start_time": "2022-05-18T12:44:00.511484",
     "status": "completed"
    },
    "tags": []
   },
   "outputs": [],
   "source": [
    "import os #Operating System\n",
    "import sys #System\n",
    "# train_generator = train_datagen.flow(x_train, y_train, batch_size =)\n",
    "# val_generator = val_datagen.flow(x_val, y_val, batch_size = 64)\n",
    "# test_generator=test_datagen.flow(x_test,y_test,batch_size = 64)\n"
   ]
  },
  {
   "cell_type": "markdown",
   "id": "bc95aaa6",
   "metadata": {
    "papermill": {
     "duration": 0.029888,
     "end_time": "2022-05-18T12:44:00.607972",
     "exception": false,
     "start_time": "2022-05-18T12:44:00.578084",
     "status": "completed"
    },
    "tags": []
   },
   "source": [
    "#import image"
   ]
  },
  {
   "cell_type": "code",
   "execution_count": 7,
   "id": "0e034bf8",
   "metadata": {
    "execution": {
     "iopub.execute_input": "2022-05-18T12:44:00.669207Z",
     "iopub.status.busy": "2022-05-18T12:44:00.668890Z",
     "iopub.status.idle": "2022-05-18T12:44:00.675044Z",
     "shell.execute_reply": "2022-05-18T12:44:00.674219Z"
    },
    "papermill": {
     "duration": 0.039007,
     "end_time": "2022-05-18T12:44:00.677051",
     "exception": false,
     "start_time": "2022-05-18T12:44:00.638044",
     "status": "completed"
    },
    "tags": []
   },
   "outputs": [],
   "source": [
    "import cv2\n",
    "'''\n",
    "def readImage(path, X, Y, label):\n",
    "    j=0\n",
    " \n",
    "    for i in os.listdir(path):\n",
    "        imgname=path+i\n",
    "        #print(imgname)\n",
    "        img = cv2.imread(imgname, cv2.IMREAD_COLOR)\n",
    "        img =cv2.resize(img,(50, 50))\n",
    "        X.append(img)\n",
    "        Y.append(label)\n",
    "        j=j+1\n",
    "        #if j==10:\n",
    "        #    break\n",
    "        \n",
    "    return X, Y\n",
    "    '''\n",
    "def readImage(path, tag):\n",
    "    j=0\n",
    "    image_array = []\n",
    "    for i in os.listdir(path):\n",
    "        imgname=path+i\n",
    "        #print(imgname)\n",
    "        img = cv2.imread(imgname, cv2.IMREAD_COLOR)\n",
    "        img_resized = cv2.resize(img, (img_size,img_size), interpolation=cv2.INTER_LINEAR)\n",
    "        image_array.append([img_resized, tag])\n",
    "        #print(img[1])\n",
    "        j=j+1\n",
    "        #if j==10:\n",
    "        #    break\n",
    "        \n",
    "    return image_array"
   ]
  },
  {
   "cell_type": "code",
   "execution_count": 8,
   "id": "02af1682",
   "metadata": {
    "execution": {
     "iopub.execute_input": "2022-05-18T12:44:00.739295Z",
     "iopub.status.busy": "2022-05-18T12:44:00.739019Z",
     "iopub.status.idle": "2022-05-18T12:44:05.151138Z",
     "shell.execute_reply": "2022-05-18T12:44:05.149866Z"
    },
    "papermill": {
     "duration": 4.446817,
     "end_time": "2022-05-18T12:44:05.154031",
     "exception": false,
     "start_time": "2022-05-18T12:44:00.707214",
     "status": "completed"
    },
    "tags": []
   },
   "outputs": [
    {
     "name": "stdout",
     "output_type": "stream",
     "text": [
      "(5000, 2)\n",
      "(10000, 2)\n",
      "(10000, 224, 224, 3)\n"
     ]
    }
   ],
   "source": [
    "import numpy as np\n",
    "\n",
    "\n",
    "class0_array = readImage(class0path, 0)\n",
    "class1_array = readImage(class1path, 1)\n",
    "class0_array=np.array(class0_array)\n",
    "class1_array=np.array(class1_array)\n",
    "combined_data = np.concatenate((class0_array, class1_array))\n",
    "random.seed(41)\n",
    "random.shuffle(combined_data)\n",
    "print(class0_array.shape)\n",
    "print(combined_data.shape)\n",
    "\n",
    "X = []\n",
    "y = []\n",
    "\n",
    "for features,label in combined_data:\n",
    "    X.append(features)\n",
    "    y.append(label)\n",
    "#print(X.shape)\n",
    "#pring(y.shape)\n",
    "\n",
    "# reshape X data\n",
    "X = np.array(X).reshape(training_reshape)\n",
    "print(X.shape)"
   ]
  },
  {
   "cell_type": "code",
   "execution_count": 9,
   "id": "c9211657",
   "metadata": {
    "execution": {
     "iopub.execute_input": "2022-05-18T12:44:05.218620Z",
     "iopub.status.busy": "2022-05-18T12:44:05.217775Z",
     "iopub.status.idle": "2022-05-18T12:44:06.428738Z",
     "shell.execute_reply": "2022-05-18T12:44:06.427677Z"
    },
    "papermill": {
     "duration": 1.244893,
     "end_time": "2022-05-18T12:44:06.430839",
     "exception": false,
     "start_time": "2022-05-18T12:44:05.185946",
     "status": "completed"
    },
    "tags": []
   },
   "outputs": [
    {
     "name": "stdout",
     "output_type": "stream",
     "text": [
      "(7000, 224, 224, 3) (900, 224, 224, 3) (2100, 224, 224, 3) (7000, 2) (900, 2) (2100, 2)\n"
     ]
    }
   ],
   "source": [
    "X_train, X_test1, y_train, y_test1 = train_test_split(X, y, test_size=0.3, random_state=42)\n",
    "X_val, X_test, y_val, y_test = train_test_split(X_test1, y_test1, test_size=0.3, random_state=42)\n",
    "y_train = to_categorical(y_train)\n",
    "y_test = to_categorical(y_test)\n",
    "y_val = to_categorical(y_val)\n",
    "print(X_train.shape, X_test.shape, X_val.shape, y_train.shape, y_test.shape, y_val.shape)"
   ]
  },
  {
   "cell_type": "code",
   "execution_count": 10,
   "id": "a1383aa2",
   "metadata": {
    "execution": {
     "iopub.execute_input": "2022-05-18T12:44:06.495253Z",
     "iopub.status.busy": "2022-05-18T12:44:06.494815Z",
     "iopub.status.idle": "2022-05-18T12:44:06.499380Z",
     "shell.execute_reply": "2022-05-18T12:44:06.498802Z"
    },
    "papermill": {
     "duration": 0.038494,
     "end_time": "2022-05-18T12:44:06.501097",
     "exception": false,
     "start_time": "2022-05-18T12:44:06.462603",
     "status": "completed"
    },
    "tags": []
   },
   "outputs": [],
   "source": [
    "#Callbacks\n",
    "c2=tf.keras.callbacks.EarlyStopping(\n",
    "    monitor=\"val_loss\",\n",
    "    min_delta=0,\n",
    "    patience=6,\n",
    "    mode=\"auto\",\n",
    "    baseline=None,\n",
    "    restore_best_weights=True,\n",
    ")\n",
    "\n",
    "c3=tf.keras.callbacks.ReduceLROnPlateau(\n",
    "    monitor=\"val_loss\",\n",
    "    factor=0.1,\n",
    "    patience=6,\n",
    "    mode=\"auto\",\n",
    "    min_delta=0.0001,\n",
    "    cooldown=0,\n",
    "    min_lr=0.001\n",
    ")\n",
    "nClasses=2"
   ]
  },
  {
   "cell_type": "markdown",
   "id": "cf439c8c",
   "metadata": {
    "papermill": {
     "duration": 0.030176,
     "end_time": "2022-05-18T12:44:06.562242",
     "exception": false,
     "start_time": "2022-05-18T12:44:06.532066",
     "status": "completed"
    },
    "tags": []
   },
   "source": [
    "# Model configure"
   ]
  },
  {
   "cell_type": "code",
   "execution_count": 11,
   "id": "7e8111ae",
   "metadata": {
    "execution": {
     "iopub.execute_input": "2022-05-18T12:44:06.626419Z",
     "iopub.status.busy": "2022-05-18T12:44:06.625837Z",
     "iopub.status.idle": "2022-05-18T12:44:14.757763Z",
     "shell.execute_reply": "2022-05-18T12:44:14.755910Z"
    },
    "papermill": {
     "duration": 8.171204,
     "end_time": "2022-05-18T12:44:14.764018",
     "exception": false,
     "start_time": "2022-05-18T12:44:06.592814",
     "status": "completed"
    },
    "tags": []
   },
   "outputs": [
    {
     "name": "stderr",
     "output_type": "stream",
     "text": [
      "2022-05-18 12:44:06.683744: I tensorflow/core/common_runtime/process_util.cc:146] Creating new thread pool with default inter op setting: 2. Tune using inter_op_parallelism_threads for best performance.\n"
     ]
    },
    {
     "name": "stdout",
     "output_type": "stream",
     "text": [
      "Downloading data from https://storage.googleapis.com/tensorflow/keras-applications/densenet/densenet121_weights_tf_dim_ordering_tf_kernels_notop.h5\n",
      "29089792/29084464 [==============================] - 0s 0us/step\n",
      "29097984/29084464 [==============================] - 0s 0us/step\n",
      "Model: \"sequential\"\n",
      "_________________________________________________________________\n",
      "Layer (type)                 Output Shape              Param #   \n",
      "=================================================================\n",
      "densenet121 (Functional)     (None, 7, 7, 1024)        7037504   \n",
      "_________________________________________________________________\n",
      "flatten (Flatten)            (None, 50176)             0         \n",
      "_________________________________________________________________\n",
      "batch_normalization (BatchNo (None, 50176)             200704    \n",
      "_________________________________________________________________\n",
      "dense (Dense)                (None, 4096)              205524992 \n",
      "_________________________________________________________________\n",
      "batch_normalization_1 (Batch (None, 4096)              16384     \n",
      "_________________________________________________________________\n",
      "activation (Activation)      (None, 4096)              0         \n",
      "_________________________________________________________________\n",
      "dropout (Dropout)            (None, 4096)              0         \n",
      "_________________________________________________________________\n",
      "dense_1 (Dense)              (None, 2096)              8587312   \n",
      "_________________________________________________________________\n",
      "dense_2 (Dense)              (None, 2)                 4194      \n",
      "=================================================================\n",
      "Total params: 221,371,090\n",
      "Trainable params: 214,225,042\n",
      "Non-trainable params: 7,146,048\n",
      "_________________________________________________________________\n"
     ]
    }
   ],
   "source": [
    "RESNET50_POOLING_AVERAGE = 'avg'\n",
    "DENSE_LAYER_ACTIVATION = 'sigmoid'\n",
    "OBJECTIVE_FUNCTION = 'categorical_crossentropy'\n",
    "\n",
    "# Common accuracy metric for all outputs, but can use different metrics for different output\n",
    "LOSS_METRICS = ['accuracy']\n",
    "\n",
    "# EARLY_STOP_PATIENCE must be < NUM_EPOCHS\n",
    "NUM_EPOCHS = 30\n",
    "EARLY_STOP_PATIENCE = 3\n",
    "#resnet_weights_path = '../input/resnet50/resnet50_weights_tf_dim_ordering_tf_kernels_notop.h5'\n",
    "\n",
    "\n",
    "# fix pretrained layers for deep fea\n",
    "from tensorflow.keras.applications import DenseNet121\n",
    "base_model = DenseNet121(weights='imagenet', include_top=False, input_shape=(224,224,3))\n",
    "base_model.trainable = False\n",
    "model=Sequential()\n",
    "model.add(base_model)\n",
    "model.add(Flatten())\n",
    "model.add(BatchNormalization())\n",
    "model.add(Dense(4096,kernel_initializer='he_uniform'))\n",
    "model.add(BatchNormalization())\n",
    "model.add(Activation('relu'))\n",
    "model.add(Dropout(0.5))\n",
    "model.add(Dense(2096,activation=\"relu\"))\n",
    "model.add(Dense(2, activation='sigmoid'))\n",
    "#model = Model(inputs=resnet50_base_model.input, outputs=predictions)\n",
    "model.summary()\n"
   ]
  },
  {
   "cell_type": "code",
   "execution_count": 12,
   "id": "d5c89ca4",
   "metadata": {
    "execution": {
     "iopub.execute_input": "2022-05-18T12:44:14.860060Z",
     "iopub.status.busy": "2022-05-18T12:44:14.859706Z",
     "iopub.status.idle": "2022-05-18T12:44:16.471585Z",
     "shell.execute_reply": "2022-05-18T12:44:16.470891Z"
    },
    "papermill": {
     "duration": 1.662241,
     "end_time": "2022-05-18T12:44:16.475487",
     "exception": false,
     "start_time": "2022-05-18T12:44:14.813246",
     "status": "completed"
    },
    "tags": []
   },
   "outputs": [
    {
     "data": {
      "image/png": "[encoded data removed]",
      "text/plain": [
       "<IPython.core.display.Image object>"
      ]
     },
     "execution_count": 12,
     "metadata": {},
     "output_type": "execute_result"
    }
   ],
   "source": [
    "from tensorflow.keras.utils import plot_model\n",
    "from IPython.display import Image\n",
    "plot_model(model, to_file='convnet.png', show_shapes=True,show_layer_names=True)\n",
    "Image(filename='convnet.png') "
   ]
  },
  {
   "cell_type": "code",
   "execution_count": 13,
   "id": "8db87489",
   "metadata": {
    "execution": {
     "iopub.execute_input": "2022-05-18T12:44:16.551808Z",
     "iopub.status.busy": "2022-05-18T12:44:16.550619Z",
     "iopub.status.idle": "2022-05-18T12:44:16.580364Z",
     "shell.execute_reply": "2022-05-18T12:44:16.579532Z"
    },
    "papermill": {
     "duration": 0.069796,
     "end_time": "2022-05-18T12:44:16.582460",
     "exception": false,
     "start_time": "2022-05-18T12:44:16.512664",
     "status": "completed"
    },
    "tags": []
   },
   "outputs": [],
   "source": [
    "callbacks1 = [EarlyStopping(monitor='val_loss', patience=5, verbose=1), ModelCheckpoint('model.hdf5', save_best_only=True)]\n",
    "opt = Adam(learning_rate=0.001)\n",
    "model.compile(loss='categorical_crossentropy', optimizer=opt, metrics=['accuracy'])"
   ]
  },
  {
   "cell_type": "code",
   "execution_count": 14,
   "id": "a030518b",
   "metadata": {
    "execution": {
     "iopub.execute_input": "2022-05-18T12:44:16.657956Z",
     "iopub.status.busy": "2022-05-18T12:44:16.657408Z",
     "iopub.status.idle": "2022-05-18T14:25:48.772456Z",
     "shell.execute_reply": "2022-05-18T14:25:48.771105Z"
    },
    "papermill": {
     "duration": 6092.794491,
     "end_time": "2022-05-18T14:25:49.413536",
     "exception": false,
     "start_time": "2022-05-18T12:44:16.619045",
     "status": "completed"
    },
    "tags": []
   },
   "outputs": [
    {
     "name": "stdout",
     "output_type": "stream",
     "text": [
      "CPU times: user 2 µs, sys: 1e+03 ns, total: 3 µs\n",
      "Wall time: 17.4 µs\n"
     ]
    },
    {
     "name": "stderr",
     "output_type": "stream",
     "text": [
      "2022-05-18 12:44:17.789097: I tensorflow/compiler/mlir/mlir_graph_optimization_pass.cc:185] None of the MLIR Optimization Passes are enabled (registered 2)\n"
     ]
    },
    {
     "name": "stdout",
     "output_type": "stream",
     "text": [
      "Epoch 1/10\n",
      "219/219 [==============================] - 613s 3s/step - loss: 0.4379 - accuracy: 0.8680 - val_loss: 0.3155 - val_accuracy: 0.8678\n",
      "Epoch 2/10\n",
      "219/219 [==============================] - 597s 3s/step - loss: 0.2587 - accuracy: 0.8980 - val_loss: 0.2935 - val_accuracy: 0.8800\n",
      "Epoch 3/10\n",
      "219/219 [==============================] - 596s 3s/step - loss: 0.2118 - accuracy: 0.9133 - val_loss: 0.2808 - val_accuracy: 0.8933\n",
      "Epoch 4/10\n",
      "219/219 [==============================] - 606s 3s/step - loss: 0.1785 - accuracy: 0.9284 - val_loss: 0.2736 - val_accuracy: 0.9156\n",
      "Epoch 5/10\n",
      "219/219 [==============================] - 598s 3s/step - loss: 0.1469 - accuracy: 0.9449 - val_loss: 0.2691 - val_accuracy: 0.9222\n",
      "Epoch 6/10\n",
      "219/219 [==============================] - 607s 3s/step - loss: 0.1243 - accuracy: 0.9524 - val_loss: 0.2846 - val_accuracy: 0.9044\n",
      "Epoch 7/10\n",
      "219/219 [==============================] - 606s 3s/step - loss: 0.1050 - accuracy: 0.9597 - val_loss: 0.2988 - val_accuracy: 0.9011\n",
      "Epoch 8/10\n",
      "219/219 [==============================] - 598s 3s/step - loss: 0.0937 - accuracy: 0.9656 - val_loss: 0.2924 - val_accuracy: 0.9222\n",
      "Epoch 9/10\n",
      "219/219 [==============================] - 611s 3s/step - loss: 0.0718 - accuracy: 0.9714 - val_loss: 0.3962 - val_accuracy: 0.9211\n",
      "Epoch 10/10\n",
      "219/219 [==============================] - 603s 3s/step - loss: 0.0853 - accuracy: 0.9673 - val_loss: 0.3649 - val_accuracy: 0.9200\n",
      "Epoch 00010: early stopping\n"
     ]
    }
   ],
   "source": [
    "%time\n",
    "history1=model.fit(X_train, y_train,validation_data=(X_test, y_test),verbose = 1,epochs = epoch_4_test,callbacks=callbacks1)"
   ]
  },
  {
   "cell_type": "code",
   "execution_count": 15,
   "id": "a454bd66",
   "metadata": {
    "execution": {
     "iopub.execute_input": "2022-05-18T14:25:50.709068Z",
     "iopub.status.busy": "2022-05-18T14:25:50.708502Z",
     "iopub.status.idle": "2022-05-18T14:25:50.715297Z",
     "shell.execute_reply": "2022-05-18T14:25:50.714559Z"
    },
    "papermill": {
     "duration": 0.65042,
     "end_time": "2022-05-18T14:25:50.717291",
     "exception": false,
     "start_time": "2022-05-18T14:25:50.066871",
     "status": "completed"
    },
    "tags": []
   },
   "outputs": [],
   "source": [
    "def f1_score(y_true, y_pred): #taken from old keras source code\n",
    "    true_positives = K.sum(K.round(K.clip(y_true * y_pred, 0, 1)))\n",
    "    possible_positives = K.sum(K.round(K.clip(y_true, 0, 1)))\n",
    "    predicted_positives = K.sum(K.round(K.clip(y_pred, 0, 1)))\n",
    "    precision = true_positives / (predicted_positives + K.epsilon())\n",
    "    recall = true_positives / (possible_positives + K.epsilon())\n",
    "    f1_val = 2*(precision*recall)/(precision+recall+K.epsilon())\n",
    "    return f1_val"
   ]
  },
  {
   "cell_type": "code",
   "execution_count": 16,
   "id": "7d5682e1",
   "metadata": {
    "execution": {
     "iopub.execute_input": "2022-05-18T14:25:52.038216Z",
     "iopub.status.busy": "2022-05-18T14:25:52.037700Z",
     "iopub.status.idle": "2022-05-18T14:26:48.790853Z",
     "shell.execute_reply": "2022-05-18T14:26:48.789918Z"
    },
    "papermill": {
     "duration": 57.393583,
     "end_time": "2022-05-18T14:26:48.793193",
     "exception": false,
     "start_time": "2022-05-18T14:25:51.399610",
     "status": "completed"
    },
    "tags": []
   },
   "outputs": [],
   "source": [
    "METRICS = [\n",
    "      tf.keras.metrics.BinaryAccuracy(name='accuracy'),\n",
    "      tf.keras.metrics.Precision(name='precision'),\n",
    "      tf.keras.metrics.Recall(name='recall'),  \n",
    "      tf.keras.metrics.AUC(name='auc'),\n",
    "        f1_score,\n",
    "]"
   ]
  },
  {
   "cell_type": "code",
   "execution_count": null,
   "id": "d651ca0b",
   "metadata": {
    "execution": {
     "iopub.execute_input": "2022-05-06T15:08:04.489795Z",
     "iopub.status.busy": "2022-05-06T15:08:04.488846Z",
     "iopub.status.idle": "2022-05-06T15:08:04.918152Z",
     "shell.execute_reply": "2022-05-06T15:08:04.917046Z",
     "shell.execute_reply.started": "2022-05-06T15:08:04.489742Z"
    },
    "papermill": {
     "duration": 0.642043,
     "end_time": "2022-05-18T14:26:50.085463",
     "exception": false,
     "start_time": "2022-05-18T14:26:49.443420",
     "status": "completed"
    },
    "tags": []
   },
   "outputs": [],
   "source": []
  },
  {
   "cell_type": "code",
   "execution_count": 17,
   "id": "c4dd7d07",
   "metadata": {
    "execution": {
     "iopub.execute_input": "2022-05-18T14:26:51.379786Z",
     "iopub.status.busy": "2022-05-18T14:26:51.379486Z",
     "iopub.status.idle": "2022-05-18T14:28:56.476153Z",
     "shell.execute_reply": "2022-05-18T14:28:56.474929Z"
    },
    "papermill": {
     "duration": 126.395987,
     "end_time": "2022-05-18T14:28:57.129075",
     "exception": false,
     "start_time": "2022-05-18T14:26:50.733088",
     "status": "completed"
    },
    "tags": []
   },
   "outputs": [
    {
     "data": {
      "image/png": "[encoded data removed]",
      "text/plain": [
       "<Figure size 576x576 with 2 Axes>"
      ]
     },
     "metadata": {
      "needs_background": "light"
     },
     "output_type": "display_data"
    }
   ],
   "source": [
    "from sklearn.metrics import confusion_matrix\n",
    "import seaborn as sns\n",
    "\n",
    "Y_pred = model.predict(X_val)\n",
    "Y_pred_classes = np.argmax(Y_pred,axis = 1) \n",
    "Y_true = np.argmax(y_val,axis = 1) \n",
    "\n",
    "confusion_mtx = confusion_matrix(Y_true, Y_pred_classes) \n",
    "\n",
    "f,ax = plt.subplots(figsize=(8, 8))\n",
    "sns.heatmap(confusion_mtx, annot=True, linewidths=0.01,cmap=\"OrRd\",linecolor=\"black\", fmt= '.1f',ax=ax)\n",
    "plt.xlabel(\"Predicted Label\")\n",
    "plt.ylabel(\"True Label\")\n",
    "plt.title(\"Confusion Matrix\")\n",
    "plt.show()"
   ]
  },
  {
   "cell_type": "code",
   "execution_count": 18,
   "id": "6ab662f0",
   "metadata": {
    "execution": {
     "iopub.execute_input": "2022-05-18T14:28:58.439953Z",
     "iopub.status.busy": "2022-05-18T14:28:58.439253Z",
     "iopub.status.idle": "2022-05-18T14:28:58.451056Z",
     "shell.execute_reply": "2022-05-18T14:28:58.450285Z"
    },
    "papermill": {
     "duration": 0.682318,
     "end_time": "2022-05-18T14:28:58.453650",
     "exception": false,
     "start_time": "2022-05-18T14:28:57.771332",
     "status": "completed"
    },
    "tags": []
   },
   "outputs": [
    {
     "name": "stdout",
     "output_type": "stream",
     "text": [
      "              precision    recall  f1-score   support\n",
      "\n",
      "           0       0.95      0.97      0.96      1806\n",
      "           1       0.77      0.70      0.73       294\n",
      "\n",
      "    accuracy                           0.93      2100\n",
      "   macro avg       0.86      0.83      0.85      2100\n",
      "weighted avg       0.93      0.93      0.93      2100\n",
      "\n"
     ]
    }
   ],
   "source": [
    "from sklearn.metrics import classification_report\n",
    "\n",
    "print(classification_report(Y_true, Y_pred_classes))"
   ]
  },
  {
   "cell_type": "markdown",
   "id": "78352a9e",
   "metadata": {
    "papermill": {
     "duration": 0.630912,
     "end_time": "2022-05-18T14:28:59.724455",
     "exception": false,
     "start_time": "2022-05-18T14:28:59.093543",
     "status": "completed"
    },
    "tags": []
   },
   "source": []
  },
  {
   "cell_type": "code",
   "execution_count": null,
   "id": "c4e51ba7",
   "metadata": {
    "execution": {
     "iopub.execute_input": "2022-05-06T15:08:41.911737Z",
     "iopub.status.busy": "2022-05-06T15:08:41.911171Z",
     "iopub.status.idle": "2022-05-06T15:08:41.922881Z",
     "shell.execute_reply": "2022-05-06T15:08:41.922041Z",
     "shell.execute_reply.started": "2022-05-06T15:08:41.911677Z"
    },
    "papermill": {
     "duration": 0.664491,
     "end_time": "2022-05-18T14:29:01.049477",
     "exception": false,
     "start_time": "2022-05-18T14:29:00.384986",
     "status": "completed"
    },
    "tags": []
   },
   "outputs": [],
   "source": []
  },
  {
   "cell_type": "code",
   "execution_count": 19,
   "id": "87212198",
   "metadata": {
    "execution": {
     "iopub.execute_input": "2022-05-18T14:29:02.347682Z",
     "iopub.status.busy": "2022-05-18T14:29:02.347358Z",
     "iopub.status.idle": "2022-05-18T14:29:02.358821Z",
     "shell.execute_reply": "2022-05-18T14:29:02.358080Z"
    },
    "papermill": {
     "duration": 0.662534,
     "end_time": "2022-05-18T14:29:02.361128",
     "exception": false,
     "start_time": "2022-05-18T14:29:01.698594",
     "status": "completed"
    },
    "tags": []
   },
   "outputs": [],
   "source": [
    "from sklearn.metrics import f1_score, roc_auc_score, cohen_kappa_score, precision_score, recall_score, accuracy_score, confusion_matrix\n",
    "def get_accuracy_metrics(model, X_train, y_train, X_val, y_val, X_test, y_test):\n",
    "    y_train=np.argmax(y_train, axis=1)\n",
    "    y_test=np.argmax(y_test, axis=1)\n",
    "    y_val=np.argmax(y_val, axis=1)\n",
    "    y_train_pred=np.argmax(model.predict(X_train),axis=1)\n",
    "    y_test_pred=np.argmax(model.predict(X_test),axis=1)\n",
    "    y_val_pred=np.argmax(model.predict(X_val),axis=1)\n",
    "    #ps:all the Y value must turn back to 1 dimension array. otherwise, the scoring functions in sklearn cannot compare, and will give an error\n",
    "    #classification metrics can't handle a mix of continuous-multioutput and multi-label-indicator targets\n",
    "    \n",
    "    print(\"Train accuracy Score------------>\")\n",
    "    print (\"{0:.3f}\".format(accuracy_score(y_train, y_train_pred)*100), \"%\")\n",
    "    \n",
    "    print(\"Val accuracy Score--------->\")\n",
    "    \n",
    "    print(\"{0:.3f}\".format(accuracy_score(y_val, y_val_pred)*100), \"%\")\n",
    "    \n",
    "  \n",
    "    print(\"Test accuracy Score--------->\")\n",
    "    print(\"{0:.3f}\".format(accuracy_score(y_test, y_test_pred)*100), \"%\")\n",
    "    \n",
    "    print(\"F1 Score--------------->\")\n",
    "    print(\"{0:.3f}\".format(f1_score(y_test, y_test_pred, average = 'weighted')*100), \"%\")\n",
    "    \n",
    "    print(\"Cohen Kappa Score------------->\")\n",
    "    print(\"{0:.3f}\".format(cohen_kappa_score(y_test, y_test_pred)*100), \"%\")\n",
    "    \n",
    "    print(\"Recall-------------->\")\n",
    "    print(\"{0:.3f}\".format(recall_score(y_test, y_test_pred, average = 'weighted')*100), \"%\")\n",
    "    \n",
    "    print(\"Precision-------------->\")\n",
    "    print(\"{0:.3f}\".format(precision_score(y_test, y_test_pred, average = 'weighted')*100), \"%\")\n",
    "    \n",
    "    cf_matrix_test = confusion_matrix(y_test, y_test_pred)\n",
    "    cf_matrix_val = confusion_matrix(y_val, y_val_pred)\n",
    "    \n",
    "    plt.figure(figsize = (12, 6))\n",
    "    plt.subplot(121)\n",
    "    sns.heatmap(cf_matrix_val, annot=True, cmap='Blues')\n",
    "    plt.title(\"Val Confusion matrix\")\n",
    "    \n",
    "    plt.subplot(122)\n",
    "    sns.heatmap(cf_matrix_test, annot=True, cmap='Blues')\n",
    "    plt.title(\"Test Confusion matrix\")\n",
    "    \n",
    "    plt.show()"
   ]
  },
  {
   "cell_type": "code",
   "execution_count": null,
   "id": "76afc139",
   "metadata": {
    "papermill": {
     "duration": 0.716711,
     "end_time": "2022-05-18T14:29:03.726335",
     "exception": false,
     "start_time": "2022-05-18T14:29:03.009624",
     "status": "completed"
    },
    "tags": []
   },
   "outputs": [],
   "source": []
  },
  {
   "cell_type": "code",
   "execution_count": 20,
   "id": "41581c3e",
   "metadata": {
    "execution": {
     "iopub.execute_input": "2022-05-18T14:29:05.025409Z",
     "iopub.status.busy": "2022-05-18T14:29:05.025071Z",
     "iopub.status.idle": "2022-05-18T14:38:53.043120Z",
     "shell.execute_reply": "2022-05-18T14:38:53.041916Z"
    },
    "papermill": {
     "duration": 589.097362,
     "end_time": "2022-05-18T14:38:53.478738",
     "exception": false,
     "start_time": "2022-05-18T14:29:04.381376",
     "status": "completed"
    },
    "tags": []
   },
   "outputs": [
    {
     "name": "stdout",
     "output_type": "stream",
     "text": [
      "Train accuracy Score------------>\n",
      "98.986 %\n",
      "Val accuracy Score--------->\n",
      "92.905 %\n",
      "Test accuracy Score--------->\n",
      "92.000 %\n",
      "F1 Score--------------->\n",
      "91.536 %\n",
      "Cohen Kappa Score------------->\n",
      "68.737 %\n",
      "Recall-------------->\n",
      "92.000 %\n",
      "Precision-------------->\n",
      "91.677 %\n"
     ]
    },
    {
     "data": {
      "image/png": "[encoded data removed]",
      "text/plain": [
       "<Figure size 864x432 with 4 Axes>"
      ]
     },
     "metadata": {
      "needs_background": "light"
     },
     "output_type": "display_data"
    }
   ],
   "source": [
    "get_accuracy_metrics(model,  X_train, y_train, X_val, y_val, X_test, y_test)"
   ]
  },
  {
   "cell_type": "code",
   "execution_count": 21,
   "id": "24e80e0c",
   "metadata": {
    "execution": {
     "iopub.execute_input": "2022-05-18T14:38:54.786286Z",
     "iopub.status.busy": "2022-05-18T14:38:54.785599Z",
     "iopub.status.idle": "2022-05-18T14:38:55.129688Z",
     "shell.execute_reply": "2022-05-18T14:38:55.128736Z"
    },
    "papermill": {
     "duration": 1.006582,
     "end_time": "2022-05-18T14:38:55.131767",
     "exception": false,
     "start_time": "2022-05-18T14:38:54.125185",
     "status": "completed"
    },
    "tags": []
   },
   "outputs": [
    {
     "data": {
      "image/png": "[encoded data removed]",
      "text/plain": [
       "<Figure size 864x432 with 2 Axes>"
      ]
     },
     "metadata": {
      "needs_background": "light"
     },
     "output_type": "display_data"
    }
   ],
   "source": [
    "import matplotlib.pyplot as plt\n",
    "import seaborn as sns\n",
    "plt.figure(figsize = (12, 6))\n",
    "plt.subplot(121)\n",
    "#plotting the Accuracy of test and training sets\n",
    "plt.plot(history1.history['accuracy'])\n",
    "plt.plot(history1.history['val_accuracy'])\n",
    "plt.title('1st training Model Accuracy')\n",
    "plt.ylabel('accuracy')\n",
    "plt.xlabel('epoch')\n",
    "plt.legend(['train', 'test'], loc='upper left')\n",
    "\n",
    "plt.subplot(122)\n",
    "#plotting the loss of test and training sets\n",
    "plt.plot(history1.history['loss'])\n",
    "plt.plot(history1.history['val_loss'])\n",
    "plt.title('1st training Model Loss')\n",
    "plt.ylabel('loss')\n",
    "plt.xlabel('epoch')\n",
    "plt.legend(['train', 'test'], loc='upper left')\n",
    "plt.show()"
   ]
  },
  {
   "cell_type": "markdown",
   "id": "65911460",
   "metadata": {
    "papermill": {
     "duration": 0.671995,
     "end_time": "2022-05-18T14:38:56.472766",
     "exception": false,
     "start_time": "2022-05-18T14:38:55.800771",
     "status": "completed"
    },
    "tags": []
   },
   "source": [
    "# Second Training Fine Tune"
   ]
  },
  {
   "cell_type": "code",
   "execution_count": 22,
   "id": "7ef66453",
   "metadata": {
    "execution": {
     "iopub.execute_input": "2022-05-18T14:38:57.793527Z",
     "iopub.status.busy": "2022-05-18T14:38:57.792865Z",
     "iopub.status.idle": "2022-05-18T14:38:57.809919Z",
     "shell.execute_reply": "2022-05-18T14:38:57.809136Z"
    },
    "papermill": {
     "duration": 0.682812,
     "end_time": "2022-05-18T14:38:57.812268",
     "exception": false,
     "start_time": "2022-05-18T14:38:57.129456",
     "status": "completed"
    },
    "tags": []
   },
   "outputs": [],
   "source": [
    "for model1 in model.layers:\n",
    "    model1.trainable = True"
   ]
  },
  {
   "cell_type": "code",
   "execution_count": 23,
   "id": "036893e3",
   "metadata": {
    "execution": {
     "iopub.execute_input": "2022-05-18T14:38:59.157060Z",
     "iopub.status.busy": "2022-05-18T14:38:59.156434Z",
     "iopub.status.idle": "2022-05-18T14:38:59.162355Z",
     "shell.execute_reply": "2022-05-18T14:38:59.161523Z"
    },
    "papermill": {
     "duration": 0.669637,
     "end_time": "2022-05-18T14:38:59.164601",
     "exception": false,
     "start_time": "2022-05-18T14:38:58.494964",
     "status": "completed"
    },
    "tags": []
   },
   "outputs": [],
   "source": [
    "callbacks2 = [EarlyStopping(monitor='val_loss', patience=5, verbose=1), ModelCheckpoint('test_model.hdf5', save_best_only=True)]\n",
    "opt = Adam(learning_rate=0.001)\n",
    "#model.compile(loss='categorical_crossentropy', optimizer=opt, metrics=['accuracy'])"
   ]
  },
  {
   "cell_type": "code",
   "execution_count": 24,
   "id": "b5899878",
   "metadata": {
    "execution": {
     "iopub.execute_input": "2022-05-18T14:39:00.489242Z",
     "iopub.status.busy": "2022-05-18T14:39:00.488938Z",
     "iopub.status.idle": "2022-05-18T15:10:07.351209Z",
     "shell.execute_reply": "2022-05-18T15:10:07.350365Z"
    },
    "papermill": {
     "duration": 1868.324048,
     "end_time": "2022-05-18T15:10:08.139607",
     "exception": false,
     "start_time": "2022-05-18T14:38:59.815559",
     "status": "completed"
    },
    "tags": []
   },
   "outputs": [
    {
     "name": "stdout",
     "output_type": "stream",
     "text": [
      "Epoch 1/3\n",
      "219/219 [==============================] - 607s 3s/step - loss: 0.0685 - accuracy: 0.9753 - val_loss: 0.3599 - val_accuracy: 0.9189\n",
      "Epoch 2/3\n",
      "219/219 [==============================] - 610s 3s/step - loss: 0.0605 - accuracy: 0.9791 - val_loss: 0.3342 - val_accuracy: 0.9189\n",
      "Epoch 3/3\n",
      "219/219 [==============================] - 622s 3s/step - loss: 0.0525 - accuracy: 0.9803 - val_loss: 0.3596 - val_accuracy: 0.9300\n"
     ]
    }
   ],
   "source": [
    "history2=model.fit(X_train, y_train,validation_data=(X_test, y_test),verbose = 1,epochs = 3,callbacks=callbacks2)"
   ]
  },
  {
   "cell_type": "code",
   "execution_count": 25,
   "id": "1abfd57a",
   "metadata": {
    "execution": {
     "iopub.execute_input": "2022-05-18T15:10:09.807775Z",
     "iopub.status.busy": "2022-05-18T15:10:09.807072Z",
     "iopub.status.idle": "2022-05-18T15:12:13.109060Z",
     "shell.execute_reply": "2022-05-18T15:12:13.108306Z"
    },
    "papermill": {
     "duration": 125.00132,
     "end_time": "2022-05-18T15:12:13.969978",
     "exception": false,
     "start_time": "2022-05-18T15:10:08.968658",
     "status": "completed"
    },
    "tags": []
   },
   "outputs": [
    {
     "data": {
      "image/png": "[encoded data removed]",
      "text/plain": [
       "<Figure size 576x576 with 2 Axes>"
      ]
     },
     "metadata": {
      "needs_background": "light"
     },
     "output_type": "display_data"
    }
   ],
   "source": [
    "Y_pred = model.predict(X_val)\n",
    "Y_pred_classes = np.argmax(Y_pred,axis = 1) \n",
    "Y_true = np.argmax(y_val,axis = 1) \n",
    "\n",
    "confusion_mtx = confusion_matrix(Y_true, Y_pred_classes) \n",
    "\n",
    "f,ax = plt.subplots(figsize=(8, 8))\n",
    "sns.heatmap(confusion_mtx, annot=True, linewidths=0.01,cmap=\"OrRd\",linecolor=\"black\", fmt= '.1f',ax=ax)\n",
    "plt.xlabel(\"Predicted Label\")\n",
    "plt.ylabel(\"True Label\")\n",
    "plt.title(\"Confusion Matrix\")\n",
    "plt.show()"
   ]
  },
  {
   "cell_type": "code",
   "execution_count": 26,
   "id": "4b4b8fa7",
   "metadata": {
    "execution": {
     "iopub.execute_input": "2022-05-18T15:12:15.662855Z",
     "iopub.status.busy": "2022-05-18T15:12:15.662305Z",
     "iopub.status.idle": "2022-05-18T15:12:15.674731Z",
     "shell.execute_reply": "2022-05-18T15:12:15.673337Z"
    },
    "papermill": {
     "duration": 0.85134,
     "end_time": "2022-05-18T15:12:15.676808",
     "exception": false,
     "start_time": "2022-05-18T15:12:14.825468",
     "status": "completed"
    },
    "tags": []
   },
   "outputs": [
    {
     "name": "stdout",
     "output_type": "stream",
     "text": [
      "              precision    recall  f1-score   support\n",
      "\n",
      "           0       0.96      0.98      0.97      1806\n",
      "           1       0.83      0.72      0.77       294\n",
      "\n",
      "    accuracy                           0.94      2100\n",
      "   macro avg       0.89      0.85      0.87      2100\n",
      "weighted avg       0.94      0.94      0.94      2100\n",
      "\n"
     ]
    }
   ],
   "source": [
    "print(classification_report(Y_true, Y_pred_classes))"
   ]
  },
  {
   "cell_type": "code",
   "execution_count": 27,
   "id": "2a90e090",
   "metadata": {
    "execution": {
     "iopub.execute_input": "2022-05-18T15:12:17.359669Z",
     "iopub.status.busy": "2022-05-18T15:12:17.359074Z",
     "iopub.status.idle": "2022-05-18T15:22:05.431847Z",
     "shell.execute_reply": "2022-05-18T15:22:05.430872Z"
    },
    "papermill": {
     "duration": 589.541322,
     "end_time": "2022-05-18T15:22:06.060073",
     "exception": false,
     "start_time": "2022-05-18T15:12:16.518751",
     "status": "completed"
    },
    "tags": []
   },
   "outputs": [
    {
     "name": "stdout",
     "output_type": "stream",
     "text": [
      "Train accuracy Score------------>\n",
      "99.729 %\n",
      "Val accuracy Score--------->\n",
      "94.048 %\n",
      "Test accuracy Score--------->\n",
      "93.000 %\n",
      "F1 Score--------------->\n",
      "92.632 %\n",
      "Cohen Kappa Score------------->\n",
      "72.877 %\n",
      "Recall-------------->\n",
      "93.000 %\n",
      "Precision-------------->\n",
      "92.786 %\n"
     ]
    },
    {
     "data": {
      "image/png": "[encoded data removed]",
      "text/plain": [
       "<Figure size 864x432 with 4 Axes>"
      ]
     },
     "metadata": {
      "needs_background": "light"
     },
     "output_type": "display_data"
    }
   ],
   "source": [
    "get_accuracy_metrics(model,  X_train, y_train, X_val, y_val, X_test, y_test)"
   ]
  },
  {
   "cell_type": "code",
   "execution_count": 28,
   "id": "18529a6f",
   "metadata": {
    "execution": {
     "iopub.execute_input": "2022-05-18T15:22:07.730102Z",
     "iopub.status.busy": "2022-05-18T15:22:07.729525Z",
     "iopub.status.idle": "2022-05-18T15:22:08.101527Z",
     "shell.execute_reply": "2022-05-18T15:22:08.100845Z"
    },
    "papermill": {
     "duration": 1.207645,
     "end_time": "2022-05-18T15:22:08.103427",
     "exception": false,
     "start_time": "2022-05-18T15:22:06.895782",
     "status": "completed"
    },
    "tags": []
   },
   "outputs": [
    {
     "data": {
      "image/png": "[encoded data removed]",
      "text/plain": [
       "<Figure size 864x432 with 2 Axes>"
      ]
     },
     "metadata": {
      "needs_background": "light"
     },
     "output_type": "display_data"
    }
   ],
   "source": [
    "plt.figure(figsize = (12, 6))\n",
    "plt.subplot(121)\n",
    "#plotting the Accuracy of test and training sets\n",
    "plt.plot(history2.history['accuracy'])\n",
    "plt.plot(history2.history['val_accuracy'])\n",
    "plt.title('2nd training Model Accuracy')\n",
    "plt.ylabel('accuracy')\n",
    "plt.xlabel('epoch')\n",
    "plt.legend(['train', 'test'], loc='upper left')\n",
    "\n",
    "plt.subplot(122)\n",
    "#plotting the loss of test and training sets\n",
    "plt.plot(history2.history['loss'])\n",
    "plt.plot(history2.history['val_loss'])\n",
    "plt.title('2nd training Model Loss')\n",
    "plt.ylabel('loss')\n",
    "plt.xlabel('epoch')\n",
    "plt.legend(['train', 'test'], loc='upper left')\n",
    "plt.show()"
   ]
  }
 ],
 "metadata": {
  "kernelspec": {
   "display_name": "Python 3",
   "language": "python",
   "name": "python3"
  },
  "language_info": {
   "codemirror_mode": {
    "name": "ipython",
    "version": 3
   },
   "file_extension": ".py",
   "mimetype": "text/x-python",
   "name": "python",
   "nbconvert_exporter": "python",
   "pygments_lexer": "ipython3",
   "version": "3.7.12"
  },
  "papermill": {
   "default_parameters": {},
   "duration": 9639.002713,
   "end_time": "2022-05-18T15:22:12.963462",
   "environment_variables": {},
   "exception": null,
   "input_path": "__notebook__.ipynb",
   "output_path": "__notebook__.ipynb",
   "parameters": {},
   "start_time": "2022-05-18T12:41:33.960749",
   "version": "2.3.4"
  }
 },
 "nbformat": 4,
 "nbformat_minor": 5
}
