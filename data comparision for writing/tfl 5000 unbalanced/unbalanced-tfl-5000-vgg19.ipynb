{
 "cells": [
  {
   "cell_type": "code",
   "execution_count": 1,
   "id": "756c15fb",
   "metadata": {
    "_cell_guid": "b1076dfc-b9ad-4769-8c92-a6c4dae69d19",
    "_uuid": "8f2839f25d086af736a60e9eeb907d3b93b6e0e5",
    "execution": {
     "iopub.execute_input": "2022-05-18T12:30:03.683297Z",
     "iopub.status.busy": "2022-05-18T12:30:03.682695Z",
     "iopub.status.idle": "2022-05-18T12:30:15.313590Z",
     "shell.execute_reply": "2022-05-18T12:30:15.312522Z"
    },
    "papermill": {
     "duration": 11.665586,
     "end_time": "2022-05-18T12:30:15.316866",
     "exception": false,
     "start_time": "2022-05-18T12:30:03.651280",
     "status": "completed"
    },
    "tags": []
   },
   "outputs": [
    {
     "name": "stdout",
     "output_type": "stream",
     "text": [
      "Collecting Livelossplot\r\n",
      "  Downloading livelossplot-0.5.5-py3-none-any.whl (22 kB)\r\n",
      "Requirement already satisfied: ipython==7.* in /opt/conda/lib/python3.7/site-packages (from Livelossplot) (7.32.0)\r\n",
      "Requirement already satisfied: matplotlib in /opt/conda/lib/python3.7/site-packages (from Livelossplot) (3.5.2)\r\n",
      "Requirement already satisfied: bokeh in /opt/conda/lib/python3.7/site-packages (from Livelossplot) (2.4.2)\r\n",
      "Requirement already satisfied: numpy<1.22 in /opt/conda/lib/python3.7/site-packages (from Livelossplot) (1.21.6)\r\n",
      "Requirement already satisfied: prompt-toolkit!=3.0.0,!=3.0.1,<3.1.0,>=2.0.0 in /opt/conda/lib/python3.7/site-packages (from ipython==7.*->Livelossplot) (3.0.27)\r\n",
      "Requirement already satisfied: jedi>=0.16 in /opt/conda/lib/python3.7/site-packages (from ipython==7.*->Livelossplot) (0.18.1)\r\n",
      "Requirement already satisfied: setuptools>=18.5 in /opt/conda/lib/python3.7/site-packages (from ipython==7.*->Livelossplot) (59.8.0)\r\n",
      "Requirement already satisfied: pygments in /opt/conda/lib/python3.7/site-packages (from ipython==7.*->Livelossplot) (2.11.2)\r\n",
      "Requirement already satisfied: decorator in /opt/conda/lib/python3.7/site-packages (from ipython==7.*->Livelossplot) (5.1.1)\r\n",
      "Requirement already satisfied: pickleshare in /opt/conda/lib/python3.7/site-packages (from ipython==7.*->Livelossplot) (0.7.5)\r\n",
      "Requirement already satisfied: backcall in /opt/conda/lib/python3.7/site-packages (from ipython==7.*->Livelossplot) (0.2.0)\r\n",
      "Requirement already satisfied: matplotlib-inline in /opt/conda/lib/python3.7/site-packages (from ipython==7.*->Livelossplot) (0.1.3)\r\n",
      "Requirement already satisfied: pexpect>4.3 in /opt/conda/lib/python3.7/site-packages (from ipython==7.*->Livelossplot) (4.8.0)\r\n",
      "Requirement already satisfied: traitlets>=4.2 in /opt/conda/lib/python3.7/site-packages (from ipython==7.*->Livelossplot) (5.1.1)\r\n",
      "Requirement already satisfied: typing-extensions>=3.10.0 in /opt/conda/lib/python3.7/site-packages (from bokeh->Livelossplot) (4.2.0)\r\n",
      "Requirement already satisfied: PyYAML>=3.10 in /opt/conda/lib/python3.7/site-packages (from bokeh->Livelossplot) (6.0)\r\n",
      "Requirement already satisfied: tornado>=5.1 in /opt/conda/lib/python3.7/site-packages (from bokeh->Livelossplot) (6.1)\r\n",
      "Requirement already satisfied: Jinja2>=2.9 in /opt/conda/lib/python3.7/site-packages (from bokeh->Livelossplot) (3.1.2)\r\n",
      "Requirement already satisfied: packaging>=16.8 in /opt/conda/lib/python3.7/site-packages (from bokeh->Livelossplot) (21.3)\r\n",
      "Requirement already satisfied: pillow>=7.1.0 in /opt/conda/lib/python3.7/site-packages (from bokeh->Livelossplot) (9.0.1)\r\n",
      "Requirement already satisfied: pyparsing>=2.2.1 in /opt/conda/lib/python3.7/site-packages (from matplotlib->Livelossplot) (3.0.7)\r\n",
      "Requirement already satisfied: kiwisolver>=1.0.1 in /opt/conda/lib/python3.7/site-packages (from matplotlib->Livelossplot) (1.4.0)\r\n",
      "Requirement already satisfied: cycler>=0.10 in /opt/conda/lib/python3.7/site-packages (from matplotlib->Livelossplot) (0.11.0)\r\n",
      "Requirement already satisfied: fonttools>=4.22.0 in /opt/conda/lib/python3.7/site-packages (from matplotlib->Livelossplot) (4.30.0)\r\n",
      "Requirement already satisfied: python-dateutil>=2.7 in /opt/conda/lib/python3.7/site-packages (from matplotlib->Livelossplot) (2.8.2)\r\n",
      "Requirement already satisfied: parso<0.9.0,>=0.8.0 in /opt/conda/lib/python3.7/site-packages (from jedi>=0.16->ipython==7.*->Livelossplot) (0.8.3)\r\n",
      "Requirement already satisfied: MarkupSafe>=2.0 in /opt/conda/lib/python3.7/site-packages (from Jinja2>=2.9->bokeh->Livelossplot) (2.0.1)\r\n",
      "Requirement already satisfied: ptyprocess>=0.5 in /opt/conda/lib/python3.7/site-packages (from pexpect>4.3->ipython==7.*->Livelossplot) (0.7.0)\r\n",
      "Requirement already satisfied: wcwidth in /opt/conda/lib/python3.7/site-packages (from prompt-toolkit!=3.0.0,!=3.0.1,<3.1.0,>=2.0.0->ipython==7.*->Livelossplot) (0.2.5)\r\n",
      "Requirement already satisfied: six>=1.5 in /opt/conda/lib/python3.7/site-packages (from python-dateutil>=2.7->matplotlib->Livelossplot) (1.16.0)\r\n",
      "Installing collected packages: Livelossplot\r\n",
      "Successfully installed Livelossplot-0.5.5\r\n",
      "\u001b[33mWARNING: Running pip as the 'root' user can result in broken permissions and conflicting behaviour with the system package manager. It is recommended to use a virtual environment instead: https://pip.pypa.io/warnings/venv\u001b[0m\u001b[33m\r\n",
      "\u001b[0m"
     ]
    }
   ],
   "source": [
    "# This Python 3 environment comes with many helpful analytics libraries installed\n",
    "# It is defined by the kaggle/python Docker image: https://github.com/kaggle/docker-python\n",
    "# For example, here's several helpful packages to load\n",
    "\n",
    "import numpy as np # linear algebra\n",
    "import pandas as pd # data processing, CSV file I/O (e.g. pd.read_csv)\n",
    "\n",
    "# Input data files are available in the read-only \"../input/\" directory\n",
    "# For example, running this (by clicking run or pressing Shift+Enter) will list all files under the input directory\n",
    "\n",
    "import os\n",
    "\n",
    "import warnings\n",
    "warnings.filterwarnings('ignore')\n",
    "%matplotlib inline\n",
    "!pip install Livelossplot\n",
    "from livelossplot import PlotLossesKeras\n",
    "\n",
    "from glob import glob\n",
    "import os\n",
    "import shutil\n",
    "\n",
    "import numpy as np\n",
    "import pandas as pd\n",
    "# You can write up to 20GB to the current directory (/kaggle/working/) that gets preserved as output when you create a version using \"Save & Run All\" \n",
    "# You can also write temporary files to /kaggle/temp/, but they won't be saved outside of the current session"
   ]
  },
  {
   "cell_type": "markdown",
   "id": "85729f52",
   "metadata": {
    "papermill": {
     "duration": 0.031113,
     "end_time": "2022-05-18T12:30:15.379131",
     "exception": false,
     "start_time": "2022-05-18T12:30:15.348018",
     "status": "completed"
    },
    "tags": []
   },
   "source": [
    "# AIM\n",
    "## To classify the images into \n",
    "### IDC+\n",
    "### IDC-\n",
    "\n",
    "# Validation Strategy:\n",
    "\n",
    "## Train Data Size= 0.7*Total_Data\n",
    "## Validation Data Size= 0.21* Total_Data\n",
    "## Test Data Size= 0.09 * Total_Data\n",
    "\n",
    "# Augmentaions Used:\n",
    "## Each Image is rotated through 45 angles\n"
   ]
  },
  {
   "cell_type": "code",
   "execution_count": 2,
   "id": "d51dbb41",
   "metadata": {
    "execution": {
     "iopub.execute_input": "2022-05-18T12:30:15.443166Z",
     "iopub.status.busy": "2022-05-18T12:30:15.442859Z",
     "iopub.status.idle": "2022-05-18T12:30:24.816243Z",
     "shell.execute_reply": "2022-05-18T12:30:24.815401Z"
    },
    "papermill": {
     "duration": 9.407802,
     "end_time": "2022-05-18T12:30:24.818233",
     "exception": false,
     "start_time": "2022-05-18T12:30:15.410431",
     "status": "completed"
    },
    "tags": []
   },
   "outputs": [
    {
     "data": {
      "text/html": [
       "<style type='text/css'>\n",
       ".datatable table.frame { margin-bottom: 0; }\n",
       ".datatable table.frame thead { border-bottom: none; }\n",
       ".datatable table.frame tr.coltypes td {  color: #FFFFFF;  line-height: 6px;  padding: 0 0.5em;}\n",
       ".datatable .bool    { background: #DDDD99; }\n",
       ".datatable .object  { background: #565656; }\n",
       ".datatable .int     { background: #5D9E5D; }\n",
       ".datatable .float   { background: #4040CC; }\n",
       ".datatable .str     { background: #CC4040; }\n",
       ".datatable .time    { background: #40CC40; }\n",
       ".datatable .row_index {  background: var(--jp-border-color3);  border-right: 1px solid var(--jp-border-color0);  color: var(--jp-ui-font-color3);  font-size: 9px;}\n",
       ".datatable .frame tbody td { text-align: left; }\n",
       ".datatable .frame tr.coltypes .row_index {  background: var(--jp-border-color0);}\n",
       ".datatable th:nth-child(2) { padding-left: 12px; }\n",
       ".datatable .hellipsis {  color: var(--jp-cell-editor-border-color);}\n",
       ".datatable .vellipsis {  background: var(--jp-layout-color0);  color: var(--jp-cell-editor-border-color);}\n",
       ".datatable .na {  color: var(--jp-cell-editor-border-color);  font-size: 80%;}\n",
       ".datatable .sp {  opacity: 0.25;}\n",
       ".datatable .footer { font-size: 9px; }\n",
       ".datatable .frame_dimensions {  background: var(--jp-border-color3);  border-top: 1px solid var(--jp-border-color0);  color: var(--jp-ui-font-color3);  display: inline-block;  opacity: 0.6;  padding: 1px 10px 1px 5px;}\n",
       "</style>\n"
      ],
      "text/plain": [
       "<IPython.core.display.HTML object>"
      ]
     },
     "metadata": {},
     "output_type": "display_data"
    },
    {
     "name": "stdout",
     "output_type": "stream",
     "text": [
      "All modules have been imported\n"
     ]
    }
   ],
   "source": [
    "\n",
    "import numpy as np\n",
    "import pandas as pd\n",
    "import cv2\n",
    "from PIL import Image\n",
    "import scipy\n",
    "\n",
    "import tensorflow as tf\n",
    "from tensorflow.keras.applications import *\n",
    "from tensorflow.keras.optimizers import *\n",
    "from tensorflow.keras.losses import *\n",
    "from tensorflow.keras.layers import *\n",
    "from tensorflow.keras.models import *\n",
    "from tensorflow.keras.callbacks import *\n",
    "from tensorflow.keras.preprocessing.image import *\n",
    "from tensorflow.keras.utils import *\n",
    "# import pydot\n",
    "\n",
    "from sklearn.metrics import *\n",
    "from sklearn.model_selection import *\n",
    "import tensorflow.keras.backend as K\n",
    "\n",
    "from tqdm import tqdm, tqdm_notebook\n",
    "from colorama import Fore\n",
    "import json\n",
    "import matplotlib.pyplot as plt\n",
    "import seaborn as sns\n",
    "from glob import glob\n",
    "from skimage.io import *\n",
    "%config Completer.use_jedi = False\n",
    "import time\n",
    "from sklearn.decomposition import PCA\n",
    "from sklearn.svm import LinearSVC\n",
    "from sklearn.linear_model import LogisticRegression\n",
    "from sklearn.metrics import accuracy_score\n",
    "import lightgbm as lgb\n",
    "import xgboost as xgb\n",
    "\n",
    "print(\"All modules have been imported\")"
   ]
  },
  {
   "cell_type": "code",
   "execution_count": 3,
   "id": "a9a87367",
   "metadata": {
    "execution": {
     "iopub.execute_input": "2022-05-18T12:30:24.882685Z",
     "iopub.status.busy": "2022-05-18T12:30:24.882386Z",
     "iopub.status.idle": "2022-05-18T12:30:24.886855Z",
     "shell.execute_reply": "2022-05-18T12:30:24.885817Z"
    },
    "papermill": {
     "duration": 0.039262,
     "end_time": "2022-05-18T12:30:24.889046",
     "exception": false,
     "start_time": "2022-05-18T12:30:24.849784",
     "status": "completed"
    },
    "tags": []
   },
   "outputs": [],
   "source": [
    "sampling_seed=0\n",
    "size_4_training=5000\n",
    "img_size=224\n",
    "training_reshape=(-1, img_size, img_size, 3)\n",
    "epoch_4_test=10"
   ]
  },
  {
   "cell_type": "markdown",
   "id": "9996004f",
   "metadata": {
    "papermill": {
     "duration": 0.029608,
     "end_time": "2022-05-18T12:30:24.951717",
     "exception": false,
     "start_time": "2022-05-18T12:30:24.922109",
     "status": "completed"
    },
    "tags": []
   },
   "source": [
    "Image labelling"
   ]
  },
  {
   "cell_type": "code",
   "execution_count": 4,
   "id": "3482fb2a",
   "metadata": {
    "execution": {
     "iopub.execute_input": "2022-05-18T12:30:25.012913Z",
     "iopub.status.busy": "2022-05-18T12:30:25.012604Z",
     "iopub.status.idle": "2022-05-18T12:33:12.085599Z",
     "shell.execute_reply": "2022-05-18T12:33:12.084146Z"
    },
    "papermill": {
     "duration": 167.107146,
     "end_time": "2022-05-18T12:33:12.088772",
     "exception": false,
     "start_time": "2022-05-18T12:30:24.981626",
     "status": "completed"
    },
    "tags": []
   },
   "outputs": [
    {
     "name": "stdout",
     "output_type": "stream",
     "text": [
      "['../input/breast-histopathology-images/IDC_regular_ps50_idx5/10295/0/10295_idx5_x1351_y1101_class0.png', '../input/breast-histopathology-images/IDC_regular_ps50_idx5/10295/0/10295_idx5_x1501_y501_class0.png', '../input/breast-histopathology-images/IDC_regular_ps50_idx5/10295/0/10295_idx5_x1501_y1101_class0.png', '../input/breast-histopathology-images/IDC_regular_ps50_idx5/10295/0/10295_idx5_x451_y901_class0.png', '../input/breast-histopathology-images/IDC_regular_ps50_idx5/10295/0/10295_idx5_x801_y451_class0.png', '../input/breast-histopathology-images/IDC_regular_ps50_idx5/10295/0/10295_idx5_x151_y1051_class0.png', '../input/breast-histopathology-images/IDC_regular_ps50_idx5/10295/0/10295_idx5_x1351_y901_class0.png', '../input/breast-histopathology-images/IDC_regular_ps50_idx5/10295/0/10295_idx5_x701_y651_class0.png', '../input/breast-histopathology-images/IDC_regular_ps50_idx5/10295/0/10295_idx5_x951_y1401_class0.png', '../input/breast-histopathology-images/IDC_regular_ps50_idx5/10295/0/10295_idx5_x601_y501_class0.png']\n"
     ]
    }
   ],
   "source": [
    "import random\n",
    "#make directory for labelling\n",
    "os.makedirs('../working/idc2/idc-minus/')     \n",
    "os.makedirs('../working/idc2/idc-plus/')  \n",
    "\n",
    "\n",
    "class0 = [] # 0 = idc+\n",
    "class1 = [] # 1 = idc-\n",
    "imagePatches = glob('../input/breast-histopathology-images/IDC_regular_ps50_idx5/**/*.png', recursive=True)\n",
    "for filename in imagePatches:\n",
    "    if filename.endswith(\"class0.png\"):\n",
    "         class0.append(filename)\n",
    "    else:\n",
    "        class1.append(filename)\n",
    "\n",
    "print(class0[0:10])\n",
    "\n",
    "#sampling 10000 images from class 0 and class 1 to train the model\n",
    "\n",
    "random.seed(sampling_seed)\n",
    "class0sample=random.sample(class0,size_4_training)\n",
    "class1sample=random.sample(class1,size_4_training)\n",
    "\n",
    "\n",
    "def read_and_save_data(path, file_name_array):\n",
    "    j=0\n",
    "    for i in file_name_array:\n",
    "        if i.endswith('.png'):\n",
    "          \n",
    "            \n",
    "            #second copy method\n",
    "            head, tail = os.path.split(i)\n",
    "            outputname=str(path+tail)\n",
    "            #outputname=str(path+str(j)+'.png')\n",
    "            #print(outputname)\n",
    "            shutil.copy(i, outputname)\n",
    "   \n",
    "            #print(status2)\n",
    "            \n",
    "            j=j+1\n",
    "            if j==120000:\n",
    "                break\n",
    "            \n",
    "   \n",
    "class0path='../working/idc2/idc-minus/'\n",
    "class1path='../working/idc2/idc-plus/'\n",
    "\n",
    "\n",
    "\n",
    "\n",
    "read_and_save_data(class0path,class0sample)\n",
    "read_and_save_data(class1path,class1sample)"
   ]
  },
  {
   "cell_type": "markdown",
   "id": "d4654fed",
   "metadata": {
    "papermill": {
     "duration": 0.033086,
     "end_time": "2022-05-18T12:33:12.159818",
     "exception": false,
     "start_time": "2022-05-18T12:33:12.126732",
     "status": "completed"
    },
    "tags": []
   },
   "source": []
  },
  {
   "cell_type": "code",
   "execution_count": null,
   "id": "fae18c8a",
   "metadata": {
    "papermill": {
     "duration": 0.033398,
     "end_time": "2022-05-18T12:33:12.224475",
     "exception": false,
     "start_time": "2022-05-18T12:33:12.191077",
     "status": "completed"
    },
    "tags": []
   },
   "outputs": [],
   "source": [
    "\n"
   ]
  },
  {
   "cell_type": "code",
   "execution_count": 5,
   "id": "cc485df5",
   "metadata": {
    "execution": {
     "iopub.execute_input": "2022-05-18T12:33:12.291763Z",
     "iopub.status.busy": "2022-05-18T12:33:12.291418Z",
     "iopub.status.idle": "2022-05-18T12:33:12.295829Z",
     "shell.execute_reply": "2022-05-18T12:33:12.294744Z"
    },
    "papermill": {
     "duration": 0.039362,
     "end_time": "2022-05-18T12:33:12.298158",
     "exception": false,
     "start_time": "2022-05-18T12:33:12.258796",
     "status": "completed"
    },
    "tags": []
   },
   "outputs": [],
   "source": [
    "\n",
    "from PIL import Image\n",
    "import glob\n"
   ]
  },
  {
   "cell_type": "code",
   "execution_count": null,
   "id": "4c0fc989",
   "metadata": {
    "papermill": {
     "duration": 0.033199,
     "end_time": "2022-05-18T12:33:12.363268",
     "exception": false,
     "start_time": "2022-05-18T12:33:12.330069",
     "status": "completed"
    },
    "tags": []
   },
   "outputs": [],
   "source": []
  },
  {
   "cell_type": "code",
   "execution_count": null,
   "id": "e523cddf",
   "metadata": {
    "papermill": {
     "duration": 0.034167,
     "end_time": "2022-05-18T12:33:12.431116",
     "exception": false,
     "start_time": "2022-05-18T12:33:12.396949",
     "status": "completed"
    },
    "tags": []
   },
   "outputs": [],
   "source": []
  },
  {
   "cell_type": "code",
   "execution_count": 6,
   "id": "372898eb",
   "metadata": {
    "execution": {
     "iopub.execute_input": "2022-05-18T12:33:12.495798Z",
     "iopub.status.busy": "2022-05-18T12:33:12.495443Z",
     "iopub.status.idle": "2022-05-18T12:33:12.499831Z",
     "shell.execute_reply": "2022-05-18T12:33:12.498811Z"
    },
    "papermill": {
     "duration": 0.039151,
     "end_time": "2022-05-18T12:33:12.502208",
     "exception": false,
     "start_time": "2022-05-18T12:33:12.463057",
     "status": "completed"
    },
    "tags": []
   },
   "outputs": [],
   "source": [
    "import os #Operating System\n",
    "import sys #System\n",
    "# train_generator = train_datagen.flow(x_train, y_train, batch_size =)\n",
    "# val_generator = val_datagen.flow(x_val, y_val, batch_size = 64)\n",
    "# test_generator=test_datagen.flow(x_test,y_test,batch_size = 64)\n"
   ]
  },
  {
   "cell_type": "markdown",
   "id": "1fcb65e5",
   "metadata": {
    "papermill": {
     "duration": 0.032431,
     "end_time": "2022-05-18T12:33:12.566272",
     "exception": false,
     "start_time": "2022-05-18T12:33:12.533841",
     "status": "completed"
    },
    "tags": []
   },
   "source": [
    "#import image"
   ]
  },
  {
   "cell_type": "code",
   "execution_count": 7,
   "id": "5638aacd",
   "metadata": {
    "execution": {
     "iopub.execute_input": "2022-05-18T12:33:12.633297Z",
     "iopub.status.busy": "2022-05-18T12:33:12.632319Z",
     "iopub.status.idle": "2022-05-18T12:33:12.640542Z",
     "shell.execute_reply": "2022-05-18T12:33:12.639617Z"
    },
    "papermill": {
     "duration": 0.04331,
     "end_time": "2022-05-18T12:33:12.643283",
     "exception": false,
     "start_time": "2022-05-18T12:33:12.599973",
     "status": "completed"
    },
    "tags": []
   },
   "outputs": [],
   "source": [
    "import cv2\n",
    "'''\n",
    "def readImage(path, X, Y, label):\n",
    "    j=0\n",
    " \n",
    "    for i in os.listdir(path):\n",
    "        imgname=path+i\n",
    "        #print(imgname)\n",
    "        img = cv2.imread(imgname, cv2.IMREAD_COLOR)\n",
    "        img =cv2.resize(img,(50, 50))\n",
    "        X.append(img)\n",
    "        Y.append(label)\n",
    "        j=j+1\n",
    "        #if j==10:\n",
    "        #    break\n",
    "        \n",
    "    return X, Y\n",
    "    '''\n",
    "def readImage(path, tag):\n",
    "    j=0\n",
    "    image_array = []\n",
    "    for i in os.listdir(path):\n",
    "        imgname=path+i\n",
    "        #print(imgname)\n",
    "        img = cv2.imread(imgname, cv2.IMREAD_COLOR)\n",
    "        img_resized = cv2.resize(img, (img_size,img_size), interpolation=cv2.INTER_LINEAR)\n",
    "        image_array.append([img_resized, tag])\n",
    "        #print(img[1])\n",
    "        j=j+1\n",
    "        #if j==10:\n",
    "        #    break\n",
    "        \n",
    "    return image_array"
   ]
  },
  {
   "cell_type": "code",
   "execution_count": 8,
   "id": "e25c1a22",
   "metadata": {
    "execution": {
     "iopub.execute_input": "2022-05-18T12:33:12.709826Z",
     "iopub.status.busy": "2022-05-18T12:33:12.708283Z",
     "iopub.status.idle": "2022-05-18T12:33:16.634707Z",
     "shell.execute_reply": "2022-05-18T12:33:16.634041Z"
    },
    "papermill": {
     "duration": 3.961344,
     "end_time": "2022-05-18T12:33:16.637623",
     "exception": false,
     "start_time": "2022-05-18T12:33:12.676279",
     "status": "completed"
    },
    "tags": []
   },
   "outputs": [
    {
     "name": "stdout",
     "output_type": "stream",
     "text": [
      "(5000, 2)\n",
      "(10000, 2)\n",
      "(10000, 224, 224, 3)\n"
     ]
    }
   ],
   "source": [
    "import numpy as np\n",
    "\n",
    "\n",
    "class0_array = readImage(class0path, 0)\n",
    "class1_array = readImage(class1path, 1)\n",
    "class0_array=np.array(class0_array)\n",
    "class1_array=np.array(class1_array)\n",
    "combined_data = np.concatenate((class0_array, class1_array))\n",
    "random.seed(41)\n",
    "random.shuffle(combined_data)\n",
    "print(class0_array.shape)\n",
    "print(combined_data.shape)\n",
    "\n",
    "X = []\n",
    "y = []\n",
    "\n",
    "for features,label in combined_data:\n",
    "    X.append(features)\n",
    "    y.append(label)\n",
    "#print(X.shape)\n",
    "#pring(y.shape)\n",
    "\n",
    "# reshape X data\n",
    "X = np.array(X).reshape(training_reshape)\n",
    "print(X.shape)"
   ]
  },
  {
   "cell_type": "code",
   "execution_count": 9,
   "id": "aa2496fb",
   "metadata": {
    "execution": {
     "iopub.execute_input": "2022-05-18T12:33:16.704275Z",
     "iopub.status.busy": "2022-05-18T12:33:16.703632Z",
     "iopub.status.idle": "2022-05-18T12:33:17.522136Z",
     "shell.execute_reply": "2022-05-18T12:33:17.520687Z"
    },
    "papermill": {
     "duration": 0.854914,
     "end_time": "2022-05-18T12:33:17.525790",
     "exception": false,
     "start_time": "2022-05-18T12:33:16.670876",
     "status": "completed"
    },
    "tags": []
   },
   "outputs": [
    {
     "name": "stdout",
     "output_type": "stream",
     "text": [
      "(7000, 224, 224, 3) (900, 224, 224, 3) (2100, 224, 224, 3) (7000, 2) (900, 2) (2100, 2)\n"
     ]
    }
   ],
   "source": [
    "X_train, X_test1, y_train, y_test1 = train_test_split(X, y, test_size=0.3, random_state=42)\n",
    "X_val, X_test, y_val, y_test = train_test_split(X_test1, y_test1, test_size=0.3, random_state=42)\n",
    "y_train = to_categorical(y_train)\n",
    "y_test = to_categorical(y_test)\n",
    "y_val = to_categorical(y_val)\n",
    "print(X_train.shape, X_test.shape, X_val.shape, y_train.shape, y_test.shape, y_val.shape)"
   ]
  },
  {
   "cell_type": "code",
   "execution_count": 10,
   "id": "88b71fb5",
   "metadata": {
    "execution": {
     "iopub.execute_input": "2022-05-18T12:33:17.594365Z",
     "iopub.status.busy": "2022-05-18T12:33:17.593757Z",
     "iopub.status.idle": "2022-05-18T12:33:17.599994Z",
     "shell.execute_reply": "2022-05-18T12:33:17.598974Z"
    },
    "papermill": {
     "duration": 0.041071,
     "end_time": "2022-05-18T12:33:17.602271",
     "exception": false,
     "start_time": "2022-05-18T12:33:17.561200",
     "status": "completed"
    },
    "tags": []
   },
   "outputs": [],
   "source": [
    "#Callbacks\n",
    "c2=tf.keras.callbacks.EarlyStopping(\n",
    "    monitor=\"val_loss\",\n",
    "    min_delta=0,\n",
    "    patience=6,\n",
    "    mode=\"auto\",\n",
    "    baseline=None,\n",
    "    restore_best_weights=True,\n",
    ")\n",
    "\n",
    "c3=tf.keras.callbacks.ReduceLROnPlateau(\n",
    "    monitor=\"val_loss\",\n",
    "    factor=0.1,\n",
    "    patience=6,\n",
    "    mode=\"auto\",\n",
    "    min_delta=0.0001,\n",
    "    cooldown=0,\n",
    "    min_lr=0.001\n",
    ")\n",
    "nClasses=2"
   ]
  },
  {
   "cell_type": "markdown",
   "id": "a7ed7444",
   "metadata": {
    "papermill": {
     "duration": 0.032203,
     "end_time": "2022-05-18T12:33:17.666096",
     "exception": false,
     "start_time": "2022-05-18T12:33:17.633893",
     "status": "completed"
    },
    "tags": []
   },
   "source": [
    "# Model configure"
   ]
  },
  {
   "cell_type": "code",
   "execution_count": 11,
   "id": "5969ba7a",
   "metadata": {
    "execution": {
     "iopub.execute_input": "2022-05-18T12:33:17.731152Z",
     "iopub.status.busy": "2022-05-18T12:33:17.730873Z",
     "iopub.status.idle": "2022-05-18T12:33:19.937946Z",
     "shell.execute_reply": "2022-05-18T12:33:19.936983Z"
    },
    "papermill": {
     "duration": 2.242875,
     "end_time": "2022-05-18T12:33:19.940119",
     "exception": false,
     "start_time": "2022-05-18T12:33:17.697244",
     "status": "completed"
    },
    "tags": []
   },
   "outputs": [
    {
     "name": "stderr",
     "output_type": "stream",
     "text": [
      "2022-05-18 12:33:17.791829: I tensorflow/core/common_runtime/process_util.cc:146] Creating new thread pool with default inter op setting: 2. Tune using inter_op_parallelism_threads for best performance.\n"
     ]
    },
    {
     "name": "stdout",
     "output_type": "stream",
     "text": [
      "Downloading data from https://storage.googleapis.com/tensorflow/keras-applications/vgg19/vgg19_weights_tf_dim_ordering_tf_kernels_notop.h5\n",
      "80142336/80134624 [==============================] - 0s 0us/step\n",
      "80150528/80134624 [==============================] - 0s 0us/step\n",
      "Model: \"sequential\"\n",
      "_________________________________________________________________\n",
      "Layer (type)                 Output Shape              Param #   \n",
      "=================================================================\n",
      "vgg19 (Functional)           (None, 7, 7, 512)         20024384  \n",
      "_________________________________________________________________\n",
      "flatten (Flatten)            (None, 25088)             0         \n",
      "_________________________________________________________________\n",
      "batch_normalization (BatchNo (None, 25088)             100352    \n",
      "_________________________________________________________________\n",
      "dense (Dense)                (None, 4096)              102764544 \n",
      "_________________________________________________________________\n",
      "batch_normalization_1 (Batch (None, 4096)              16384     \n",
      "_________________________________________________________________\n",
      "activation (Activation)      (None, 4096)              0         \n",
      "_________________________________________________________________\n",
      "dropout (Dropout)            (None, 4096)              0         \n",
      "_________________________________________________________________\n",
      "dense_1 (Dense)              (None, 2096)              8587312   \n",
      "_________________________________________________________________\n",
      "dense_2 (Dense)              (None, 2)                 4194      \n",
      "=================================================================\n",
      "Total params: 131,497,170\n",
      "Trainable params: 111,414,418\n",
      "Non-trainable params: 20,082,752\n",
      "_________________________________________________________________\n"
     ]
    }
   ],
   "source": [
    "RESNET50_POOLING_AVERAGE = 'avg'\n",
    "DENSE_LAYER_ACTIVATION = 'sigmoid'\n",
    "OBJECTIVE_FUNCTION = 'categorical_crossentropy'\n",
    "\n",
    "# Common accuracy metric for all outputs, but can use different metrics for different output\n",
    "LOSS_METRICS = ['accuracy']\n",
    "\n",
    "# EARLY_STOP_PATIENCE must be < NUM_EPOCHS\n",
    "NUM_EPOCHS = 30\n",
    "EARLY_STOP_PATIENCE = 3\n",
    "#resnet_weights_path = '../input/resnet50/resnet50_weights_tf_dim_ordering_tf_kernels_notop.h5'\n",
    "\n",
    "\n",
    "# fix pretrained layers for deep fea\n",
    "from keras.applications.vgg19 import VGG19\n",
    "base_model=VGG19(include_top=False, input_shape=(img_size, img_size,3), weights='imagenet')\n",
    "base_model.trainable = False\n",
    "model=Sequential()\n",
    "model.add(base_model)\n",
    "model.add(Flatten())\n",
    "model.add(BatchNormalization())\n",
    "model.add(Dense(4096,kernel_initializer='he_uniform'))\n",
    "model.add(BatchNormalization())\n",
    "model.add(Activation('relu'))\n",
    "model.add(Dropout(0.5))\n",
    "model.add(Dense(2096,activation=\"relu\"))\n",
    "model.add(Dense(2, activation='sigmoid'))\n",
    "#model = Model(inputs=resnet50_base_model.input, outputs=predictions)\n",
    "model.summary()\n"
   ]
  },
  {
   "cell_type": "code",
   "execution_count": 12,
   "id": "ff668102",
   "metadata": {
    "execution": {
     "iopub.execute_input": "2022-05-18T12:33:20.016110Z",
     "iopub.status.busy": "2022-05-18T12:33:20.015617Z",
     "iopub.status.idle": "2022-05-18T12:33:21.317906Z",
     "shell.execute_reply": "2022-05-18T12:33:21.317088Z"
    },
    "papermill": {
     "duration": 1.343067,
     "end_time": "2022-05-18T12:33:21.321011",
     "exception": false,
     "start_time": "2022-05-18T12:33:19.977944",
     "status": "completed"
    },
    "tags": []
   },
   "outputs": [
    {
     "data": {
      "image/png": "[encoded data removed]",
      "text/plain": [
       "<IPython.core.display.Image object>"
      ]
     },
     "execution_count": 12,
     "metadata": {},
     "output_type": "execute_result"
    }
   ],
   "source": [
    "from tensorflow.keras.utils import plot_model\n",
    "from IPython.display import Image\n",
    "plot_model(model, to_file='convnet.png', show_shapes=True,show_layer_names=True)\n",
    "Image(filename='convnet.png') "
   ]
  },
  {
   "cell_type": "code",
   "execution_count": 13,
   "id": "7458defc",
   "metadata": {
    "execution": {
     "iopub.execute_input": "2022-05-18T12:33:21.400582Z",
     "iopub.status.busy": "2022-05-18T12:33:21.399317Z",
     "iopub.status.idle": "2022-05-18T12:33:21.420126Z",
     "shell.execute_reply": "2022-05-18T12:33:21.419078Z"
    },
    "papermill": {
     "duration": 0.063183,
     "end_time": "2022-05-18T12:33:21.422253",
     "exception": false,
     "start_time": "2022-05-18T12:33:21.359070",
     "status": "completed"
    },
    "tags": []
   },
   "outputs": [],
   "source": [
    "callbacks1 = [EarlyStopping(monitor='val_loss', patience=5, verbose=1), ModelCheckpoint('model.hdf5', save_best_only=True)]\n",
    "opt = Adam(learning_rate=0.001)\n",
    "model.compile(loss='categorical_crossentropy', optimizer=opt, metrics=['accuracy'])"
   ]
  },
  {
   "cell_type": "code",
   "execution_count": 14,
   "id": "cad28571",
   "metadata": {
    "execution": {
     "iopub.execute_input": "2022-05-18T12:33:21.513661Z",
     "iopub.status.busy": "2022-05-18T12:33:21.513233Z",
     "iopub.status.idle": "2022-05-18T16:32:40.635838Z",
     "shell.execute_reply": "2022-05-18T16:32:40.631957Z"
    },
    "papermill": {
     "duration": 14359.607665,
     "end_time": "2022-05-18T16:32:41.069040",
     "exception": false,
     "start_time": "2022-05-18T12:33:21.461375",
     "status": "completed"
    },
    "tags": []
   },
   "outputs": [
    {
     "name": "stdout",
     "output_type": "stream",
     "text": [
      "CPU times: user 4 µs, sys: 3 µs, total: 7 µs\n",
      "Wall time: 15.3 µs\n",
      "Epoch 1/10\n"
     ]
    },
    {
     "name": "stderr",
     "output_type": "stream",
     "text": [
      "2022-05-18 12:33:22.760496: I tensorflow/compiler/mlir/mlir_graph_optimization_pass.cc:185] None of the MLIR Optimization Passes are enabled (registered 2)\n"
     ]
    },
    {
     "name": "stdout",
     "output_type": "stream",
     "text": [
      "219/219 [==============================] - 2341s 11s/step - loss: 0.3865 - accuracy: 0.8849 - val_loss: 0.2789 - val_accuracy: 0.9144\n",
      "Epoch 2/10\n",
      "219/219 [==============================] - 2401s 11s/step - loss: 0.1174 - accuracy: 0.9590 - val_loss: 0.4578 - val_accuracy: 0.8778\n",
      "Epoch 3/10\n",
      "219/219 [==============================] - 2392s 11s/step - loss: 0.0566 - accuracy: 0.9794 - val_loss: 0.5003 - val_accuracy: 0.9178\n",
      "Epoch 4/10\n",
      "219/219 [==============================] - 2399s 11s/step - loss: 0.0352 - accuracy: 0.9883 - val_loss: 0.5048 - val_accuracy: 0.9189\n",
      "Epoch 5/10\n",
      "219/219 [==============================] - 2391s 11s/step - loss: 0.0305 - accuracy: 0.9886 - val_loss: 0.8445 - val_accuracy: 0.9111\n",
      "Epoch 6/10\n",
      "219/219 [==============================] - 2430s 11s/step - loss: 0.0538 - accuracy: 0.9814 - val_loss: 0.6438 - val_accuracy: 0.9000\n",
      "Epoch 00006: early stopping\n"
     ]
    }
   ],
   "source": [
    "%time\n",
    "history1=model.fit(X_train, y_train,validation_data=(X_test, y_test),verbose = 1,epochs = epoch_4_test,callbacks=callbacks1)"
   ]
  },
  {
   "cell_type": "code",
   "execution_count": 15,
   "id": "5ebf3199",
   "metadata": {
    "execution": {
     "iopub.execute_input": "2022-05-18T16:32:41.925756Z",
     "iopub.status.busy": "2022-05-18T16:32:41.924686Z",
     "iopub.status.idle": "2022-05-18T16:32:41.938791Z",
     "shell.execute_reply": "2022-05-18T16:32:41.937749Z"
    },
    "papermill": {
     "duration": 0.448382,
     "end_time": "2022-05-18T16:32:41.941372",
     "exception": false,
     "start_time": "2022-05-18T16:32:41.492990",
     "status": "completed"
    },
    "tags": []
   },
   "outputs": [],
   "source": [
    "def f1_score(y_true, y_pred): #taken from old keras source code\n",
    "    true_positives = K.sum(K.round(K.clip(y_true * y_pred, 0, 1)))\n",
    "    possible_positives = K.sum(K.round(K.clip(y_true, 0, 1)))\n",
    "    predicted_positives = K.sum(K.round(K.clip(y_pred, 0, 1)))\n",
    "    precision = true_positives / (predicted_positives + K.epsilon())\n",
    "    recall = true_positives / (possible_positives + K.epsilon())\n",
    "    f1_val = 2*(precision*recall)/(precision+recall+K.epsilon())\n",
    "    return f1_val"
   ]
  },
  {
   "cell_type": "code",
   "execution_count": 16,
   "id": "72008d7f",
   "metadata": {
    "execution": {
     "iopub.execute_input": "2022-05-18T16:32:42.779708Z",
     "iopub.status.busy": "2022-05-18T16:32:42.779133Z",
     "iopub.status.idle": "2022-05-18T16:32:46.415485Z",
     "shell.execute_reply": "2022-05-18T16:32:46.414296Z"
    },
    "papermill": {
     "duration": 4.052073,
     "end_time": "2022-05-18T16:32:46.417939",
     "exception": false,
     "start_time": "2022-05-18T16:32:42.365866",
     "status": "completed"
    },
    "tags": []
   },
   "outputs": [],
   "source": [
    "METRICS = [\n",
    "      tf.keras.metrics.BinaryAccuracy(name='accuracy'),\n",
    "      tf.keras.metrics.Precision(name='precision'),\n",
    "      tf.keras.metrics.Recall(name='recall'),  \n",
    "      tf.keras.metrics.AUC(name='auc'),\n",
    "        f1_score,\n",
    "]"
   ]
  },
  {
   "cell_type": "code",
   "execution_count": null,
   "id": "e383c1ee",
   "metadata": {
    "execution": {
     "iopub.execute_input": "2022-05-06T15:08:04.489795Z",
     "iopub.status.busy": "2022-05-06T15:08:04.488846Z",
     "iopub.status.idle": "2022-05-06T15:08:04.918152Z",
     "shell.execute_reply": "2022-05-06T15:08:04.917046Z",
     "shell.execute_reply.started": "2022-05-06T15:08:04.489742Z"
    },
    "papermill": {
     "duration": 0.438038,
     "end_time": "2022-05-18T16:32:47.300075",
     "exception": false,
     "start_time": "2022-05-18T16:32:46.862037",
     "status": "completed"
    },
    "tags": []
   },
   "outputs": [],
   "source": []
  },
  {
   "cell_type": "code",
   "execution_count": 17,
   "id": "9dd9ed9a",
   "metadata": {
    "execution": {
     "iopub.execute_input": "2022-05-18T16:32:48.158442Z",
     "iopub.status.busy": "2022-05-18T16:32:48.158148Z",
     "iopub.status.idle": "2022-05-18T16:43:08.345816Z",
     "shell.execute_reply": "2022-05-18T16:43:08.344642Z"
    },
    "papermill": {
     "duration": 621.042318,
     "end_time": "2022-05-18T16:43:08.776858",
     "exception": false,
     "start_time": "2022-05-18T16:32:47.734540",
     "status": "completed"
    },
    "tags": []
   },
   "outputs": [
    {
     "data": {
      "image/png": "[encoded data removed]",
      "text/plain": [
       "<Figure size 576x576 with 2 Axes>"
      ]
     },
     "metadata": {
      "needs_background": "light"
     },
     "output_type": "display_data"
    }
   ],
   "source": [
    "from sklearn.metrics import confusion_matrix\n",
    "import seaborn as sns\n",
    "\n",
    "Y_pred = model.predict(X_val)\n",
    "Y_pred_classes = np.argmax(Y_pred,axis = 1) \n",
    "Y_true = np.argmax(y_val,axis = 1) \n",
    "\n",
    "confusion_mtx = confusion_matrix(Y_true, Y_pred_classes) \n",
    "\n",
    "f,ax = plt.subplots(figsize=(8, 8))\n",
    "sns.heatmap(confusion_mtx, annot=True, linewidths=0.01,cmap=\"OrRd\",linecolor=\"black\", fmt= '.1f',ax=ax)\n",
    "plt.xlabel(\"Predicted Label\")\n",
    "plt.ylabel(\"True Label\")\n",
    "plt.title(\"Confusion Matrix\")\n",
    "plt.show()"
   ]
  },
  {
   "cell_type": "code",
   "execution_count": 18,
   "id": "7ffe0853",
   "metadata": {
    "execution": {
     "iopub.execute_input": "2022-05-18T16:43:09.637882Z",
     "iopub.status.busy": "2022-05-18T16:43:09.637498Z",
     "iopub.status.idle": "2022-05-18T16:43:09.650171Z",
     "shell.execute_reply": "2022-05-18T16:43:09.648930Z"
    },
    "papermill": {
     "duration": 0.45142,
     "end_time": "2022-05-18T16:43:09.653972",
     "exception": false,
     "start_time": "2022-05-18T16:43:09.202552",
     "status": "completed"
    },
    "tags": []
   },
   "outputs": [
    {
     "name": "stdout",
     "output_type": "stream",
     "text": [
      "              precision    recall  f1-score   support\n",
      "\n",
      "           0       0.93      0.96      0.95      1806\n",
      "           1       0.71      0.59      0.65       294\n",
      "\n",
      "    accuracy                           0.91      2100\n",
      "   macro avg       0.82      0.78      0.80      2100\n",
      "weighted avg       0.90      0.91      0.91      2100\n",
      "\n"
     ]
    }
   ],
   "source": [
    "from sklearn.metrics import classification_report\n",
    "\n",
    "print(classification_report(Y_true, Y_pred_classes))"
   ]
  },
  {
   "cell_type": "markdown",
   "id": "55398613",
   "metadata": {
    "papermill": {
     "duration": 0.455412,
     "end_time": "2022-05-18T16:43:10.595595",
     "exception": false,
     "start_time": "2022-05-18T16:43:10.140183",
     "status": "completed"
    },
    "tags": []
   },
   "source": []
  },
  {
   "cell_type": "code",
   "execution_count": null,
   "id": "e80af216",
   "metadata": {
    "execution": {
     "iopub.execute_input": "2022-05-06T15:08:41.911737Z",
     "iopub.status.busy": "2022-05-06T15:08:41.911171Z",
     "iopub.status.idle": "2022-05-06T15:08:41.922881Z",
     "shell.execute_reply": "2022-05-06T15:08:41.922041Z",
     "shell.execute_reply.started": "2022-05-06T15:08:41.911677Z"
    },
    "papermill": {
     "duration": 0.428899,
     "end_time": "2022-05-18T16:43:11.483495",
     "exception": false,
     "start_time": "2022-05-18T16:43:11.054596",
     "status": "completed"
    },
    "tags": []
   },
   "outputs": [],
   "source": []
  },
  {
   "cell_type": "code",
   "execution_count": 19,
   "id": "1cbb23ca",
   "metadata": {
    "execution": {
     "iopub.execute_input": "2022-05-18T16:43:12.352678Z",
     "iopub.status.busy": "2022-05-18T16:43:12.352335Z",
     "iopub.status.idle": "2022-05-18T16:43:12.365231Z",
     "shell.execute_reply": "2022-05-18T16:43:12.363959Z"
    },
    "papermill": {
     "duration": 0.449464,
     "end_time": "2022-05-18T16:43:12.368102",
     "exception": false,
     "start_time": "2022-05-18T16:43:11.918638",
     "status": "completed"
    },
    "tags": []
   },
   "outputs": [],
   "source": [
    "from sklearn.metrics import f1_score, roc_auc_score, cohen_kappa_score, precision_score, recall_score, accuracy_score, confusion_matrix\n",
    "def get_accuracy_metrics(model, X_train, y_train, X_val, y_val, X_test, y_test):\n",
    "    y_train=np.argmax(y_train, axis=1)\n",
    "    y_test=np.argmax(y_test, axis=1)\n",
    "    y_val=np.argmax(y_val, axis=1)\n",
    "    y_train_pred=np.argmax(model.predict(X_train),axis=1)\n",
    "    y_test_pred=np.argmax(model.predict(X_test),axis=1)\n",
    "    y_val_pred=np.argmax(model.predict(X_val),axis=1)\n",
    "    #ps:all the Y value must turn back to 1 dimension array. otherwise, the scoring functions in sklearn cannot compare, and will give an error\n",
    "    #classification metrics can't handle a mix of continuous-multioutput and multi-label-indicator targets\n",
    "    \n",
    "    print(\"Train accuracy Score------------>\")\n",
    "    print (\"{0:.3f}\".format(accuracy_score(y_train, y_train_pred)*100), \"%\")\n",
    "    \n",
    "    print(\"Val accuracy Score--------->\")\n",
    "    \n",
    "    print(\"{0:.3f}\".format(accuracy_score(y_val, y_val_pred)*100), \"%\")\n",
    "    \n",
    "  \n",
    "    print(\"Test accuracy Score--------->\")\n",
    "    print(\"{0:.3f}\".format(accuracy_score(y_test, y_test_pred)*100), \"%\")\n",
    "    \n",
    "    print(\"F1 Score--------------->\")\n",
    "    print(\"{0:.3f}\".format(f1_score(y_test, y_test_pred, average = 'weighted')*100), \"%\")\n",
    "    \n",
    "    print(\"Cohen Kappa Score------------->\")\n",
    "    print(\"{0:.3f}\".format(cohen_kappa_score(y_test, y_test_pred)*100), \"%\")\n",
    "    \n",
    "    print(\"Recall-------------->\")\n",
    "    print(\"{0:.3f}\".format(recall_score(y_test, y_test_pred, average = 'weighted')*100), \"%\")\n",
    "    \n",
    "    print(\"Precision-------------->\")\n",
    "    print(\"{0:.3f}\".format(precision_score(y_test, y_test_pred, average = 'weighted')*100), \"%\")\n",
    "    \n",
    "    cf_matrix_test = confusion_matrix(y_test, y_test_pred)\n",
    "    cf_matrix_val = confusion_matrix(y_val, y_val_pred)\n",
    "    \n",
    "    plt.figure(figsize = (12, 6))\n",
    "    plt.subplot(121)\n",
    "    sns.heatmap(cf_matrix_val, annot=True, cmap='Blues')\n",
    "    plt.title(\"Val Confusion matrix\")\n",
    "    \n",
    "    plt.subplot(122)\n",
    "    sns.heatmap(cf_matrix_test, annot=True, cmap='Blues')\n",
    "    plt.title(\"Test Confusion matrix\")\n",
    "    \n",
    "    plt.show()"
   ]
  },
  {
   "cell_type": "code",
   "execution_count": null,
   "id": "be84c464",
   "metadata": {
    "papermill": {
     "duration": 0.414249,
     "end_time": "2022-05-18T16:43:13.209618",
     "exception": false,
     "start_time": "2022-05-18T16:43:12.795369",
     "status": "completed"
    },
    "tags": []
   },
   "outputs": [],
   "source": []
  },
  {
   "cell_type": "code",
   "execution_count": 20,
   "id": "bed78a2b",
   "metadata": {
    "execution": {
     "iopub.execute_input": "2022-05-18T16:43:14.052639Z",
     "iopub.status.busy": "2022-05-18T16:43:14.051765Z",
     "iopub.status.idle": "2022-05-18T17:32:32.706764Z",
     "shell.execute_reply": "2022-05-18T17:32:32.705631Z"
    },
    "papermill": {
     "duration": 2959.26396,
     "end_time": "2022-05-18T17:32:32.894861",
     "exception": false,
     "start_time": "2022-05-18T16:43:13.630901",
     "status": "completed"
    },
    "tags": []
   },
   "outputs": [
    {
     "name": "stdout",
     "output_type": "stream",
     "text": [
      "Train accuracy Score------------>\n",
      "98.786 %\n",
      "Val accuracy Score--------->\n",
      "90.952 %\n",
      "Test accuracy Score--------->\n",
      "90.000 %\n",
      "F1 Score--------------->\n",
      "89.525 %\n",
      "Cohen Kappa Score------------->\n",
      "61.579 %\n",
      "Recall-------------->\n",
      "90.000 %\n",
      "Precision-------------->\n",
      "89.434 %\n"
     ]
    },
    {
     "data": {
      "image/png": "[encoded data removed]",
      "text/plain": [
       "<Figure size 864x432 with 4 Axes>"
      ]
     },
     "metadata": {
      "needs_background": "light"
     },
     "output_type": "display_data"
    }
   ],
   "source": [
    "get_accuracy_metrics(model,  X_train, y_train, X_val, y_val, X_test, y_test)"
   ]
  },
  {
   "cell_type": "code",
   "execution_count": 21,
   "id": "319858bd",
   "metadata": {
    "execution": {
     "iopub.execute_input": "2022-05-18T17:32:33.715378Z",
     "iopub.status.busy": "2022-05-18T17:32:33.714373Z",
     "iopub.status.idle": "2022-05-18T17:32:34.064586Z",
     "shell.execute_reply": "2022-05-18T17:32:34.063482Z"
    },
    "papermill": {
     "duration": 0.764553,
     "end_time": "2022-05-18T17:32:34.066854",
     "exception": false,
     "start_time": "2022-05-18T17:32:33.302301",
     "status": "completed"
    },
    "tags": []
   },
   "outputs": [
    {
     "data": {
      "image/png": "[encoded data removed]",
      "text/plain": [
       "<Figure size 864x432 with 2 Axes>"
      ]
     },
     "metadata": {
      "needs_background": "light"
     },
     "output_type": "display_data"
    }
   ],
   "source": [
    "import matplotlib.pyplot as plt\n",
    "import seaborn as sns\n",
    "plt.figure(figsize = (12, 6))\n",
    "plt.subplot(121)\n",
    "#plotting the Accuracy of test and training sets\n",
    "plt.plot(history1.history['accuracy'])\n",
    "plt.plot(history1.history['val_accuracy'])\n",
    "plt.title('1st training Model Accuracy')\n",
    "plt.ylabel('accuracy')\n",
    "plt.xlabel('epoch')\n",
    "plt.legend(['train', 'test'], loc='upper left')\n",
    "\n",
    "plt.subplot(122)\n",
    "#plotting the loss of test and training sets\n",
    "plt.plot(history1.history['loss'])\n",
    "plt.plot(history1.history['val_loss'])\n",
    "plt.title('1st training Model Loss')\n",
    "plt.ylabel('loss')\n",
    "plt.xlabel('epoch')\n",
    "plt.legend(['train', 'test'], loc='upper left')\n",
    "plt.show()"
   ]
  },
  {
   "cell_type": "markdown",
   "id": "2b7a2e4b",
   "metadata": {
    "papermill": {
     "duration": 0.422562,
     "end_time": "2022-05-18T17:32:34.904538",
     "exception": false,
     "start_time": "2022-05-18T17:32:34.481976",
     "status": "completed"
    },
    "tags": []
   },
   "source": [
    "# Second Training Fine Tune"
   ]
  },
  {
   "cell_type": "code",
   "execution_count": 22,
   "id": "c0f7c5e4",
   "metadata": {
    "execution": {
     "iopub.execute_input": "2022-05-18T17:32:35.745287Z",
     "iopub.status.busy": "2022-05-18T17:32:35.744983Z",
     "iopub.status.idle": "2022-05-18T17:32:35.751907Z",
     "shell.execute_reply": "2022-05-18T17:32:35.751141Z"
    },
    "papermill": {
     "duration": 0.436646,
     "end_time": "2022-05-18T17:32:35.753945",
     "exception": false,
     "start_time": "2022-05-18T17:32:35.317299",
     "status": "completed"
    },
    "tags": []
   },
   "outputs": [],
   "source": [
    "for model1 in model.layers:\n",
    "    model1.trainable = True"
   ]
  },
  {
   "cell_type": "code",
   "execution_count": 23,
   "id": "12d7b636",
   "metadata": {
    "execution": {
     "iopub.execute_input": "2022-05-18T17:32:36.576424Z",
     "iopub.status.busy": "2022-05-18T17:32:36.575639Z",
     "iopub.status.idle": "2022-05-18T17:32:36.583380Z",
     "shell.execute_reply": "2022-05-18T17:32:36.582271Z"
    },
    "papermill": {
     "duration": 0.423796,
     "end_time": "2022-05-18T17:32:36.585537",
     "exception": false,
     "start_time": "2022-05-18T17:32:36.161741",
     "status": "completed"
    },
    "tags": []
   },
   "outputs": [],
   "source": [
    "callbacks2 = [EarlyStopping(monitor='val_loss', patience=5, verbose=1), ModelCheckpoint('test_model.hdf5', save_best_only=True)]\n",
    "opt = Adam(learning_rate=0.001)\n",
    "#model.compile(loss='categorical_crossentropy', optimizer=opt, metrics=['accuracy'])"
   ]
  },
  {
   "cell_type": "code",
   "execution_count": 24,
   "id": "896f9e38",
   "metadata": {
    "execution": {
     "iopub.execute_input": "2022-05-18T17:32:37.468354Z",
     "iopub.status.busy": "2022-05-18T17:32:37.467660Z",
     "iopub.status.idle": "2022-05-18T20:56:00.032257Z",
     "shell.execute_reply": "2022-05-18T20:56:00.029189Z"
    },
    "papermill": {
     "duration": 12203.038674,
     "end_time": "2022-05-18T20:56:00.035643",
     "exception": false,
     "start_time": "2022-05-18T17:32:36.996969",
     "status": "completed"
    },
    "tags": []
   },
   "outputs": [
    {
     "name": "stdout",
     "output_type": "stream",
     "text": [
      "Epoch 1/5\n",
      "219/219 [==============================] - 2439s 11s/step - loss: 0.0260 - accuracy: 0.9909 - val_loss: 0.7308 - val_accuracy: 0.9156\n",
      "Epoch 2/5\n",
      "219/219 [==============================] - 2419s 11s/step - loss: 0.0137 - accuracy: 0.9954 - val_loss: 0.8947 - val_accuracy: 0.9178\n",
      "Epoch 3/5\n",
      "219/219 [==============================] - 2419s 11s/step - loss: 0.0196 - accuracy: 0.9943 - val_loss: 0.7699 - val_accuracy: 0.9133\n",
      "Epoch 4/5\n",
      "219/219 [==============================] - 2435s 11s/step - loss: 0.0219 - accuracy: 0.9930 - val_loss: 0.7992 - val_accuracy: 0.9233\n",
      "Epoch 5/5\n",
      "219/219 [==============================] - 2428s 11s/step - loss: 0.0250 - accuracy: 0.9923 - val_loss: 0.9467 - val_accuracy: 0.9067\n"
     ]
    }
   ],
   "source": [
    "history2=model.fit(X_train, y_train,validation_data=(X_test, y_test),verbose = 1,epochs = 5,callbacks=callbacks2)"
   ]
  },
  {
   "cell_type": "code",
   "execution_count": 25,
   "id": "d50b6f22",
   "metadata": {
    "execution": {
     "iopub.execute_input": "2022-05-18T20:56:01.637593Z",
     "iopub.status.busy": "2022-05-18T20:56:01.636540Z",
     "iopub.status.idle": "2022-05-18T21:06:25.549163Z",
     "shell.execute_reply": "2022-05-18T21:06:25.548252Z"
    },
    "papermill": {
     "duration": 625.497363,
     "end_time": "2022-05-18T21:06:26.292887",
     "exception": false,
     "start_time": "2022-05-18T20:56:00.795524",
     "status": "completed"
    },
    "tags": []
   },
   "outputs": [
    {
     "data": {
      "image/png": "[encoded data removed]",
      "text/plain": [
       "<Figure size 576x576 with 2 Axes>"
      ]
     },
     "metadata": {
      "needs_background": "light"
     },
     "output_type": "display_data"
    }
   ],
   "source": [
    "Y_pred = model.predict(X_val)\n",
    "Y_pred_classes = np.argmax(Y_pred,axis = 1) \n",
    "Y_true = np.argmax(y_val,axis = 1) \n",
    "\n",
    "confusion_mtx = confusion_matrix(Y_true, Y_pred_classes) \n",
    "\n",
    "f,ax = plt.subplots(figsize=(8, 8))\n",
    "sns.heatmap(confusion_mtx, annot=True, linewidths=0.01,cmap=\"OrRd\",linecolor=\"black\", fmt= '.1f',ax=ax)\n",
    "plt.xlabel(\"Predicted Label\")\n",
    "plt.ylabel(\"True Label\")\n",
    "plt.title(\"Confusion Matrix\")\n",
    "plt.show()"
   ]
  },
  {
   "cell_type": "code",
   "execution_count": 26,
   "id": "dcab5783",
   "metadata": {
    "execution": {
     "iopub.execute_input": "2022-05-18T21:06:27.756423Z",
     "iopub.status.busy": "2022-05-18T21:06:27.755883Z",
     "iopub.status.idle": "2022-05-18T21:06:27.772195Z",
     "shell.execute_reply": "2022-05-18T21:06:27.771433Z"
    },
    "papermill": {
     "duration": 0.750885,
     "end_time": "2022-05-18T21:06:27.774741",
     "exception": false,
     "start_time": "2022-05-18T21:06:27.023856",
     "status": "completed"
    },
    "tags": []
   },
   "outputs": [
    {
     "name": "stdout",
     "output_type": "stream",
     "text": [
      "              precision    recall  f1-score   support\n",
      "\n",
      "           0       0.93      0.98      0.95      1806\n",
      "           1       0.81      0.53      0.64       294\n",
      "\n",
      "    accuracy                           0.92      2100\n",
      "   macro avg       0.87      0.76      0.80      2100\n",
      "weighted avg       0.91      0.92      0.91      2100\n",
      "\n"
     ]
    }
   ],
   "source": [
    "print(classification_report(Y_true, Y_pred_classes))"
   ]
  },
  {
   "cell_type": "code",
   "execution_count": 27,
   "id": "aa5d2181",
   "metadata": {
    "execution": {
     "iopub.execute_input": "2022-05-18T21:06:29.350751Z",
     "iopub.status.busy": "2022-05-18T21:06:29.350461Z",
     "iopub.status.idle": "2022-05-18T21:55:49.250613Z",
     "shell.execute_reply": "2022-05-18T21:55:49.248887Z"
    },
    "papermill": {
     "duration": 2961.153625,
     "end_time": "2022-05-18T21:55:49.720121",
     "exception": false,
     "start_time": "2022-05-18T21:06:28.566496",
     "status": "completed"
    },
    "tags": []
   },
   "outputs": [
    {
     "name": "stdout",
     "output_type": "stream",
     "text": [
      "Train accuracy Score------------>\n",
      "99.343 %\n",
      "Val accuracy Score--------->\n",
      "91.714 %\n",
      "Test accuracy Score--------->\n",
      "90.667 %\n",
      "F1 Score--------------->\n",
      "89.838 %\n",
      "Cohen Kappa Score------------->\n",
      "61.780 %\n",
      "Recall-------------->\n",
      "90.667 %\n",
      "Precision-------------->\n",
      "90.284 %\n"
     ]
    },
    {
     "data": {
      "image/png": "[encoded data removed]",
      "text/plain": [
       "<Figure size 864x432 with 4 Axes>"
      ]
     },
     "metadata": {
      "needs_background": "light"
     },
     "output_type": "display_data"
    }
   ],
   "source": [
    "get_accuracy_metrics(model,  X_train, y_train, X_val, y_val, X_test, y_test)"
   ]
  },
  {
   "cell_type": "code",
   "execution_count": 28,
   "id": "11f31657",
   "metadata": {
    "execution": {
     "iopub.execute_input": "2022-05-18T21:55:51.199676Z",
     "iopub.status.busy": "2022-05-18T21:55:51.199321Z",
     "iopub.status.idle": "2022-05-18T21:55:51.542290Z",
     "shell.execute_reply": "2022-05-18T21:55:51.541325Z"
    },
    "papermill": {
     "duration": 1.072792,
     "end_time": "2022-05-18T21:55:51.544475",
     "exception": false,
     "start_time": "2022-05-18T21:55:50.471683",
     "status": "completed"
    },
    "tags": []
   },
   "outputs": [
    {
     "data": {
      "image/png": "[encoded data removed]",
      "text/plain": [
       "<Figure size 864x432 with 2 Axes>"
      ]
     },
     "metadata": {
      "needs_background": "light"
     },
     "output_type": "display_data"
    }
   ],
   "source": [
    "plt.figure(figsize = (12, 6))\n",
    "plt.subplot(121)\n",
    "#plotting the Accuracy of test and training sets\n",
    "plt.plot(history2.history['accuracy'])\n",
    "plt.plot(history2.history['val_accuracy'])\n",
    "plt.title('2nd training Model Accuracy')\n",
    "plt.ylabel('accuracy')\n",
    "plt.xlabel('epoch')\n",
    "plt.legend(['train', 'test'], loc='upper left')\n",
    "\n",
    "plt.subplot(122)\n",
    "#plotting the loss of test and training sets\n",
    "plt.plot(history2.history['loss'])\n",
    "plt.plot(history2.history['val_loss'])\n",
    "plt.title('2nd training Model Loss')\n",
    "plt.ylabel('loss')\n",
    "plt.xlabel('epoch')\n",
    "plt.legend(['train', 'test'], loc='upper left')\n",
    "plt.show()"
   ]
  }
 ],
 "metadata": {
  "kernelspec": {
   "display_name": "Python 3",
   "language": "python",
   "name": "python3"
  },
  "language_info": {
   "codemirror_mode": {
    "name": "ipython",
    "version": 3
   },
   "file_extension": ".py",
   "mimetype": "text/x-python",
   "name": "python",
   "nbconvert_exporter": "python",
   "pygments_lexer": "ipython3",
   "version": "3.7.12"
  },
  "papermill": {
   "default_parameters": {},
   "duration": 33962.080435,
   "end_time": "2022-05-18T21:55:56.385124",
   "environment_variables": {},
   "exception": null,
   "input_path": "__notebook__.ipynb",
   "output_path": "__notebook__.ipynb",
   "parameters": {},
   "start_time": "2022-05-18T12:29:54.304689",
   "version": "2.3.4"
  }
 },
 "nbformat": 4,
 "nbformat_minor": 5
}
