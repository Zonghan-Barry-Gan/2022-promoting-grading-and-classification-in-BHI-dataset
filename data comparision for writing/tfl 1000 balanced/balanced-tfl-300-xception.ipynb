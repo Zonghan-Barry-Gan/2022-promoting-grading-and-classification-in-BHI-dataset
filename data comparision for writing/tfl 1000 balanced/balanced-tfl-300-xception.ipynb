{
 "cells": [
  {
   "cell_type": "code",
   "execution_count": 1,
   "id": "f8f28fbe",
   "metadata": {
    "_cell_guid": "b1076dfc-b9ad-4769-8c92-a6c4dae69d19",
    "_uuid": "8f2839f25d086af736a60e9eeb907d3b93b6e0e5",
    "execution": {
     "iopub.execute_input": "2022-05-18T16:25:12.345470Z",
     "iopub.status.busy": "2022-05-18T16:25:12.345074Z",
     "iopub.status.idle": "2022-05-18T16:25:23.259407Z",
     "shell.execute_reply": "2022-05-18T16:25:23.258562Z"
    },
    "papermill": {
     "duration": 10.953882,
     "end_time": "2022-05-18T16:25:23.262171",
     "exception": false,
     "start_time": "2022-05-18T16:25:12.308289",
     "status": "completed"
    },
    "tags": []
   },
   "outputs": [
    {
     "name": "stdout",
     "output_type": "stream",
     "text": [
      "Collecting Livelossplot\r\n",
      "  Downloading livelossplot-0.5.5-py3-none-any.whl (22 kB)\r\n",
      "Requirement already satisfied: bokeh in /opt/conda/lib/python3.7/site-packages (from Livelossplot) (2.4.2)\r\n",
      "Requirement already satisfied: ipython==7.* in /opt/conda/lib/python3.7/site-packages (from Livelossplot) (7.32.0)\r\n",
      "Requirement already satisfied: numpy<1.22 in /opt/conda/lib/python3.7/site-packages (from Livelossplot) (1.21.6)\r\n",
      "Requirement already satisfied: matplotlib in /opt/conda/lib/python3.7/site-packages (from Livelossplot) (3.5.2)\r\n",
      "Requirement already satisfied: pickleshare in /opt/conda/lib/python3.7/site-packages (from ipython==7.*->Livelossplot) (0.7.5)\r\n",
      "Requirement already satisfied: traitlets>=4.2 in /opt/conda/lib/python3.7/site-packages (from ipython==7.*->Livelossplot) (5.1.1)\r\n",
      "Requirement already satisfied: setuptools>=18.5 in /opt/conda/lib/python3.7/site-packages (from ipython==7.*->Livelossplot) (59.8.0)\r\n",
      "Requirement already satisfied: pygments in /opt/conda/lib/python3.7/site-packages (from ipython==7.*->Livelossplot) (2.11.2)\r\n",
      "Requirement already satisfied: decorator in /opt/conda/lib/python3.7/site-packages (from ipython==7.*->Livelossplot) (5.1.1)\r\n",
      "Requirement already satisfied: prompt-toolkit!=3.0.0,!=3.0.1,<3.1.0,>=2.0.0 in /opt/conda/lib/python3.7/site-packages (from ipython==7.*->Livelossplot) (3.0.27)\r\n",
      "Requirement already satisfied: pexpect>4.3 in /opt/conda/lib/python3.7/site-packages (from ipython==7.*->Livelossplot) (4.8.0)\r\n",
      "Requirement already satisfied: backcall in /opt/conda/lib/python3.7/site-packages (from ipython==7.*->Livelossplot) (0.2.0)\r\n",
      "Requirement already satisfied: jedi>=0.16 in /opt/conda/lib/python3.7/site-packages (from ipython==7.*->Livelossplot) (0.18.1)\r\n",
      "Requirement already satisfied: matplotlib-inline in /opt/conda/lib/python3.7/site-packages (from ipython==7.*->Livelossplot) (0.1.3)\r\n",
      "Requirement already satisfied: typing-extensions>=3.10.0 in /opt/conda/lib/python3.7/site-packages (from bokeh->Livelossplot) (4.2.0)\r\n",
      "Requirement already satisfied: pillow>=7.1.0 in /opt/conda/lib/python3.7/site-packages (from bokeh->Livelossplot) (9.0.1)\r\n",
      "Requirement already satisfied: packaging>=16.8 in /opt/conda/lib/python3.7/site-packages (from bokeh->Livelossplot) (21.3)\r\n",
      "Requirement already satisfied: Jinja2>=2.9 in /opt/conda/lib/python3.7/site-packages (from bokeh->Livelossplot) (3.1.2)\r\n",
      "Requirement already satisfied: PyYAML>=3.10 in /opt/conda/lib/python3.7/site-packages (from bokeh->Livelossplot) (6.0)\r\n",
      "Requirement already satisfied: tornado>=5.1 in /opt/conda/lib/python3.7/site-packages (from bokeh->Livelossplot) (6.1)\r\n",
      "Requirement already satisfied: cycler>=0.10 in /opt/conda/lib/python3.7/site-packages (from matplotlib->Livelossplot) (0.11.0)\r\n",
      "Requirement already satisfied: fonttools>=4.22.0 in /opt/conda/lib/python3.7/site-packages (from matplotlib->Livelossplot) (4.30.0)\r\n",
      "Requirement already satisfied: kiwisolver>=1.0.1 in /opt/conda/lib/python3.7/site-packages (from matplotlib->Livelossplot) (1.4.0)\r\n",
      "Requirement already satisfied: pyparsing>=2.2.1 in /opt/conda/lib/python3.7/site-packages (from matplotlib->Livelossplot) (3.0.7)\r\n",
      "Requirement already satisfied: python-dateutil>=2.7 in /opt/conda/lib/python3.7/site-packages (from matplotlib->Livelossplot) (2.8.2)\r\n",
      "Requirement already satisfied: parso<0.9.0,>=0.8.0 in /opt/conda/lib/python3.7/site-packages (from jedi>=0.16->ipython==7.*->Livelossplot) (0.8.3)\r\n",
      "Requirement already satisfied: MarkupSafe>=2.0 in /opt/conda/lib/python3.7/site-packages (from Jinja2>=2.9->bokeh->Livelossplot) (2.0.1)\r\n",
      "Requirement already satisfied: ptyprocess>=0.5 in /opt/conda/lib/python3.7/site-packages (from pexpect>4.3->ipython==7.*->Livelossplot) (0.7.0)\r\n",
      "Requirement already satisfied: wcwidth in /opt/conda/lib/python3.7/site-packages (from prompt-toolkit!=3.0.0,!=3.0.1,<3.1.0,>=2.0.0->ipython==7.*->Livelossplot) (0.2.5)\r\n",
      "Requirement already satisfied: six>=1.5 in /opt/conda/lib/python3.7/site-packages (from python-dateutil>=2.7->matplotlib->Livelossplot) (1.16.0)\r\n",
      "Installing collected packages: Livelossplot\r\n",
      "Successfully installed Livelossplot-0.5.5\r\n",
      "\u001b[33mWARNING: Running pip as the 'root' user can result in broken permissions and conflicting behaviour with the system package manager. It is recommended to use a virtual environment instead: https://pip.pypa.io/warnings/venv\u001b[0m\u001b[33m\r\n",
      "\u001b[0m"
     ]
    }
   ],
   "source": [
    "# This Python 3 environment comes with many helpful analytics libraries installed\n",
    "# It is defined by the kaggle/python Docker image: https://github.com/kaggle/docker-python\n",
    "# For example, here's several helpful packages to load\n",
    "\n",
    "import numpy as np # linear algebra\n",
    "import pandas as pd # data processing, CSV file I/O (e.g. pd.read_csv)\n",
    "\n",
    "# Input data files are available in the read-only \"../input/\" directory\n",
    "# For example, running this (by clicking run or pressing Shift+Enter) will list all files under the input directory\n",
    "\n",
    "import os\n",
    "\n",
    "import warnings\n",
    "warnings.filterwarnings('ignore')\n",
    "%matplotlib inline\n",
    "!pip install Livelossplot\n",
    "from livelossplot import PlotLossesKeras\n",
    "\n",
    "from glob import glob\n",
    "import os\n",
    "import shutil\n",
    "\n",
    "import numpy as np\n",
    "import pandas as pd\n",
    "# You can write up to 20GB to the current directory (/kaggle/working/) that gets preserved as output when you create a version using \"Save & Run All\" \n",
    "# You can also write temporary files to /kaggle/temp/, but they won't be saved outside of the current session"
   ]
  },
  {
   "cell_type": "markdown",
   "id": "38854b02",
   "metadata": {
    "papermill": {
     "duration": 0.037638,
     "end_time": "2022-05-18T16:25:23.339681",
     "exception": false,
     "start_time": "2022-05-18T16:25:23.302043",
     "status": "completed"
    },
    "tags": []
   },
   "source": [
    "# AIM\n",
    "## To classify the images into \n",
    "### IDC+\n",
    "### IDC-\n",
    "\n",
    "# Validation Strategy:\n",
    "\n",
    "\n",
    "# Augmentaions Used:\n",
    "## No Augmentation\n"
   ]
  },
  {
   "cell_type": "code",
   "execution_count": 2,
   "id": "94970fb7",
   "metadata": {
    "execution": {
     "iopub.execute_input": "2022-05-18T16:25:23.415156Z",
     "iopub.status.busy": "2022-05-18T16:25:23.414889Z",
     "iopub.status.idle": "2022-05-18T16:25:32.939305Z",
     "shell.execute_reply": "2022-05-18T16:25:32.938584Z"
    },
    "papermill": {
     "duration": 9.565627,
     "end_time": "2022-05-18T16:25:32.941893",
     "exception": false,
     "start_time": "2022-05-18T16:25:23.376266",
     "status": "completed"
    },
    "tags": []
   },
   "outputs": [
    {
     "data": {
      "text/html": [
       "<style type='text/css'>\n",
       ".datatable table.frame { margin-bottom: 0; }\n",
       ".datatable table.frame thead { border-bottom: none; }\n",
       ".datatable table.frame tr.coltypes td {  color: #FFFFFF;  line-height: 6px;  padding: 0 0.5em;}\n",
       ".datatable .bool    { background: #DDDD99; }\n",
       ".datatable .object  { background: #565656; }\n",
       ".datatable .int     { background: #5D9E5D; }\n",
       ".datatable .float   { background: #4040CC; }\n",
       ".datatable .str     { background: #CC4040; }\n",
       ".datatable .time    { background: #40CC40; }\n",
       ".datatable .row_index {  background: var(--jp-border-color3);  border-right: 1px solid var(--jp-border-color0);  color: var(--jp-ui-font-color3);  font-size: 9px;}\n",
       ".datatable .frame tbody td { text-align: left; }\n",
       ".datatable .frame tr.coltypes .row_index {  background: var(--jp-border-color0);}\n",
       ".datatable th:nth-child(2) { padding-left: 12px; }\n",
       ".datatable .hellipsis {  color: var(--jp-cell-editor-border-color);}\n",
       ".datatable .vellipsis {  background: var(--jp-layout-color0);  color: var(--jp-cell-editor-border-color);}\n",
       ".datatable .na {  color: var(--jp-cell-editor-border-color);  font-size: 80%;}\n",
       ".datatable .sp {  opacity: 0.25;}\n",
       ".datatable .footer { font-size: 9px; }\n",
       ".datatable .frame_dimensions {  background: var(--jp-border-color3);  border-top: 1px solid var(--jp-border-color0);  color: var(--jp-ui-font-color3);  display: inline-block;  opacity: 0.6;  padding: 1px 10px 1px 5px;}\n",
       "</style>\n"
      ],
      "text/plain": [
       "<IPython.core.display.HTML object>"
      ]
     },
     "metadata": {},
     "output_type": "display_data"
    },
    {
     "name": "stdout",
     "output_type": "stream",
     "text": [
      "All modules have been imported\n"
     ]
    }
   ],
   "source": [
    "\n",
    "import numpy as np\n",
    "import pandas as pd\n",
    "import cv2\n",
    "from PIL import Image\n",
    "import scipy\n",
    "\n",
    "import tensorflow as tf\n",
    "from tensorflow.keras.applications import *\n",
    "from tensorflow.keras.optimizers import *\n",
    "from tensorflow.keras.losses import *\n",
    "from tensorflow.keras.layers import *\n",
    "from tensorflow.keras.models import *\n",
    "from tensorflow.keras.callbacks import *\n",
    "from tensorflow.keras.preprocessing.image import *\n",
    "from tensorflow.keras.utils import *\n",
    "# import pydot\n",
    "\n",
    "from sklearn.metrics import *\n",
    "from sklearn.model_selection import *\n",
    "import tensorflow.keras.backend as K\n",
    "\n",
    "from tqdm import tqdm, tqdm_notebook\n",
    "from colorama import Fore\n",
    "import json\n",
    "import matplotlib.pyplot as plt\n",
    "import seaborn as sns\n",
    "from glob import glob\n",
    "from skimage.io import *\n",
    "%config Completer.use_jedi = False\n",
    "import time\n",
    "from sklearn.decomposition import PCA\n",
    "from sklearn.svm import LinearSVC\n",
    "from sklearn.linear_model import LogisticRegression\n",
    "from sklearn.metrics import accuracy_score\n",
    "import lightgbm as lgb\n",
    "import xgboost as xgb\n",
    "\n",
    "print(\"All modules have been imported\")"
   ]
  },
  {
   "cell_type": "code",
   "execution_count": 3,
   "id": "a81be1b3",
   "metadata": {
    "execution": {
     "iopub.execute_input": "2022-05-18T16:25:33.019839Z",
     "iopub.status.busy": "2022-05-18T16:25:33.019169Z",
     "iopub.status.idle": "2022-05-18T16:25:33.024699Z",
     "shell.execute_reply": "2022-05-18T16:25:33.023970Z"
    },
    "papermill": {
     "duration": 0.045696,
     "end_time": "2022-05-18T16:25:33.026371",
     "exception": false,
     "start_time": "2022-05-18T16:25:32.980675",
     "status": "completed"
    },
    "tags": []
   },
   "outputs": [],
   "source": [
    "import os\n",
    "os.makedirs('../working/data/train_seg/idc-minus/')     \n",
    "os.makedirs('../working/data/train_seg/idc-plus/')  \n",
    "os.makedirs('../working/data/test_seg/idc-minus/')     \n",
    "os.makedirs('../working/data/test_seg/idc-plus/')  \n",
    "os.makedirs('../working/data/val_seg/idc-minus/')     \n",
    "os.makedirs('../working/data/val_seg/idc-plus/')  "
   ]
  },
  {
   "cell_type": "code",
   "execution_count": 4,
   "id": "befcd18a",
   "metadata": {
    "execution": {
     "iopub.execute_input": "2022-05-18T16:25:33.102300Z",
     "iopub.status.busy": "2022-05-18T16:25:33.101670Z",
     "iopub.status.idle": "2022-05-18T16:25:33.105862Z",
     "shell.execute_reply": "2022-05-18T16:25:33.105173Z"
    },
    "papermill": {
     "duration": 0.043643,
     "end_time": "2022-05-18T16:25:33.107565",
     "exception": false,
     "start_time": "2022-05-18T16:25:33.063922",
     "status": "completed"
    },
    "tags": []
   },
   "outputs": [],
   "source": [
    "sampling_seed=0\n",
    "size_4_training=300\n",
    "img_size=299\n",
    "epoch1=10\n",
    "epoch2=3\n",
    "training_reshape=(-1, img_size, img_size, 3)"
   ]
  },
  {
   "cell_type": "markdown",
   "id": "e1e9f249",
   "metadata": {
    "papermill": {
     "duration": 0.036855,
     "end_time": "2022-05-18T16:25:33.181117",
     "exception": false,
     "start_time": "2022-05-18T16:25:33.144262",
     "status": "completed"
    },
    "tags": []
   },
   "source": [
    "Image labelling"
   ]
  },
  {
   "cell_type": "code",
   "execution_count": 5,
   "id": "2d094ba9",
   "metadata": {
    "execution": {
     "iopub.execute_input": "2022-05-18T16:25:33.256415Z",
     "iopub.status.busy": "2022-05-18T16:25:33.255983Z",
     "iopub.status.idle": "2022-05-18T16:28:35.004260Z",
     "shell.execute_reply": "2022-05-18T16:28:35.003491Z"
    },
    "papermill": {
     "duration": 181.788599,
     "end_time": "2022-05-18T16:28:35.006396",
     "exception": false,
     "start_time": "2022-05-18T16:25:33.217797",
     "status": "completed"
    },
    "tags": []
   },
   "outputs": [
    {
     "name": "stdout",
     "output_type": "stream",
     "text": [
      "['../input/breast-histopathology-images/IDC_regular_ps50_idx5/10295/0/10295_idx5_x1351_y1101_class0.png', '../input/breast-histopathology-images/IDC_regular_ps50_idx5/10295/0/10295_idx5_x1501_y501_class0.png', '../input/breast-histopathology-images/IDC_regular_ps50_idx5/10295/0/10295_idx5_x1501_y1101_class0.png', '../input/breast-histopathology-images/IDC_regular_ps50_idx5/10295/0/10295_idx5_x451_y901_class0.png', '../input/breast-histopathology-images/IDC_regular_ps50_idx5/10295/0/10295_idx5_x801_y451_class0.png', '../input/breast-histopathology-images/IDC_regular_ps50_idx5/10295/0/10295_idx5_x151_y1051_class0.png', '../input/breast-histopathology-images/IDC_regular_ps50_idx5/10295/0/10295_idx5_x1351_y901_class0.png', '../input/breast-histopathology-images/IDC_regular_ps50_idx5/10295/0/10295_idx5_x701_y651_class0.png', '../input/breast-histopathology-images/IDC_regular_ps50_idx5/10295/0/10295_idx5_x951_y1401_class0.png', '../input/breast-histopathology-images/IDC_regular_ps50_idx5/10295/0/10295_idx5_x601_y501_class0.png']\n",
      "210\n",
      "27\n",
      "63\n",
      "210\n",
      "27\n",
      "63\n"
     ]
    }
   ],
   "source": [
    "import random\n",
    "from glob import glob\n",
    "imagePatches = glob('../input/breast-histopathology-images/IDC_regular_ps50_idx5/**/*.png', recursive=True)\n",
    "train_dir='../working/data/train_seg/'\n",
    "validation_dir='../working/data/val_seg/'\n",
    "#train_dir='../working/data/train_seg/'  \n",
    "#test_dir = '../working/data/test_seg/normal'  \n",
    "test_dir = '../working/data/test_seg/'  \n",
    "\n",
    "class0 = [] # 0 = idc+\n",
    "class1 = [] # 1 = idc-\n",
    "imagePatches = glob('../input/breast-histopathology-images/IDC_regular_ps50_idx5/**/*.png', recursive=True)\n",
    "for filename in imagePatches:\n",
    "    if filename.endswith(\"class0.png\"):\n",
    "         class0.append(filename)\n",
    "    else:\n",
    "        class1.append(filename)\n",
    "\n",
    "print(class0[0:10])\n",
    "\n",
    "#sampling 10000 images from class 0 and class 1 to train the model\n",
    "\n",
    "random.seed(sampling_seed)\n",
    "class0sample=random.sample(class0,size_4_training)\n",
    "class0label=np.zeros(size_4_training)\n",
    "class1sample=random.sample(class1,size_4_training)\n",
    "class1label=np.ones(size_4_training)\n",
    "\n",
    "class0sample_train, class0sample_test1, class0label_train, class0label_test1 = train_test_split(class0sample, class0label, test_size=0.3, random_state=42)\n",
    "class0sample_val, class0sample_test,  class0label_val, class0label_test = train_test_split(class0sample_test1, class0label_test1, test_size=0.3, random_state=42)\n",
    "print(len(class0sample_train))\n",
    "print(len(class0sample_test))\n",
    "print(len(class0sample_val))\n",
    "class1sample_train, class1sample_test1, class1label_train, class1label_test1 = train_test_split(class1sample, class1label, test_size=0.3, random_state=42)\n",
    "class1sample_val, class1sample_test, class1label_val, class1label_test = train_test_split(class1sample_test1, class1label_test1, test_size=0.3, random_state=42)\n",
    "print(len(class1sample_train))\n",
    "print(len(class1sample_test))\n",
    "print(len(class1sample_val))\n",
    "def read_and_save_data(path, file_name_array):\n",
    "    j=0\n",
    "    for i in file_name_array:\n",
    "        if i.endswith('.png'):\n",
    "          \n",
    "            \n",
    "            #second copy method\n",
    "            head, tail = os.path.split(i)\n",
    "            outputname=str(path+tail)\n",
    "            #outputname=str(path+str(j)+'.png')\n",
    "            #print(outputname)\n",
    "\n",
    "            shutil.copy(i, outputname)\n",
    "             \n",
    "            #print(status2)\n",
    "            \n",
    "            j=j+1\n",
    "            if j==120000:\n",
    "                break\n",
    "            \n",
    "   \n",
    "class0train_path='../working/data/train_seg/idc-minus/'\n",
    "class1train_path='../working/data/train_seg/idc-plus/'\n",
    "class0test_path='../working/data/test_seg/idc-minus/'\n",
    "class1test_path='../working/data/test_seg/idc-plus/'\n",
    "class0val_path='../working/data/val_seg/idc-minus/'\n",
    "class1val_path='../working/data/val_seg/idc-plus/'\n",
    "\n",
    "read_and_save_data(class0train_path,class0sample_train)\n",
    "read_and_save_data(class1train_path,class1sample_train)\n",
    "\n",
    "\n",
    "read_and_save_data(class0test_path,class0sample_test)\n",
    "read_and_save_data(class1test_path,class1sample_test)\n",
    "\n",
    "\n",
    "read_and_save_data(class0val_path,class0sample_val)\n",
    "read_and_save_data(class1val_path,class1sample_val)"
   ]
  },
  {
   "cell_type": "code",
   "execution_count": null,
   "id": "2d65f2b0",
   "metadata": {
    "papermill": {
     "duration": 0.037026,
     "end_time": "2022-05-18T16:28:35.081107",
     "exception": false,
     "start_time": "2022-05-18T16:28:35.044081",
     "status": "completed"
    },
    "tags": []
   },
   "outputs": [],
   "source": []
  },
  {
   "cell_type": "code",
   "execution_count": 6,
   "id": "64c34611",
   "metadata": {
    "execution": {
     "iopub.execute_input": "2022-05-18T16:28:35.157435Z",
     "iopub.status.busy": "2022-05-18T16:28:35.157191Z",
     "iopub.status.idle": "2022-05-18T16:28:35.160670Z",
     "shell.execute_reply": "2022-05-18T16:28:35.159988Z"
    },
    "papermill": {
     "duration": 0.04415,
     "end_time": "2022-05-18T16:28:35.162245",
     "exception": false,
     "start_time": "2022-05-18T16:28:35.118095",
     "status": "completed"
    },
    "tags": []
   },
   "outputs": [],
   "source": [
    "import os #Operating System\n",
    "import sys #System\n",
    "# train_generator = train_datagen.flow(x_train, y_train, batch_size =)\n",
    "# val_generator = val_datagen.flow(x_val, y_val, batch_size = 64)\n",
    "# test_generator=test_datagen.flow(x_test,y_test,batch_size = 64)"
   ]
  },
  {
   "cell_type": "code",
   "execution_count": 7,
   "id": "4a244b6e",
   "metadata": {
    "execution": {
     "iopub.execute_input": "2022-05-18T16:28:35.238295Z",
     "iopub.status.busy": "2022-05-18T16:28:35.237619Z",
     "iopub.status.idle": "2022-05-18T16:28:35.805723Z",
     "shell.execute_reply": "2022-05-18T16:28:35.804745Z"
    },
    "papermill": {
     "duration": 0.614275,
     "end_time": "2022-05-18T16:28:35.813576",
     "exception": false,
     "start_time": "2022-05-18T16:28:35.199301",
     "status": "completed"
    },
    "tags": []
   },
   "outputs": [
    {
     "name": "stdout",
     "output_type": "stream",
     "text": [
      "(420, 299, 299, 3)\n",
      "[1. 0.]\n",
      "[0. 1.]\n",
      "[1. 0.]\n",
      "[1. 0.]\n",
      "[1. 0.]\n",
      "[1. 0.]\n",
      "[1. 0.]\n",
      "[0. 1.]\n",
      "[1. 0.]\n",
      "[0. 1.]\n",
      "[1. 0.]\n",
      "[1. 0.]\n",
      "[1. 0.]\n",
      "[0. 1.]\n",
      "[0. 1.]\n",
      "[1. 0.]\n",
      "[1. 0.]\n",
      "[0. 1.]\n",
      "[0. 1.]\n",
      "[0. 1.]\n",
      "[1. 0.]\n",
      "[1. 0.]\n",
      "[0. 1.]\n",
      "[1. 0.]\n",
      "[0. 1.]\n",
      "[0. 1.]\n",
      "[0. 1.]\n",
      "[1. 0.]\n",
      "[1. 0.]\n",
      "[1. 0.]\n",
      "[0. 1.]\n",
      "[1. 0.]\n",
      "[0. 1.]\n",
      "[0. 1.]\n",
      "[1. 0.]\n",
      "[0. 1.]\n",
      "[1. 0.]\n",
      "[1. 0.]\n",
      "[1. 0.]\n",
      "[0. 1.]\n",
      "[1. 0.]\n",
      "[0. 1.]\n",
      "[1. 0.]\n",
      "[0. 1.]\n",
      "[1. 0.]\n",
      "[1. 0.]\n",
      "[1. 0.]\n",
      "[1. 0.]\n",
      "[0. 1.]\n",
      "[1. 0.]\n",
      "[1. 0.]\n",
      "[0. 1.]\n",
      "[0. 1.]\n",
      "[0. 1.]\n",
      "[1. 0.]\n",
      "[0. 1.]\n",
      "[1. 0.]\n",
      "[1. 0.]\n",
      "[0. 1.]\n",
      "[1. 0.]\n",
      "[0. 1.]\n",
      "[0. 1.]\n",
      "[1. 0.]\n",
      "[0. 1.]\n",
      "[1. 0.]\n",
      "[1. 0.]\n",
      "[1. 0.]\n",
      "[0. 1.]\n",
      "[0. 1.]\n",
      "[0. 1.]\n",
      "[0. 1.]\n",
      "[0. 1.]\n",
      "[1. 0.]\n",
      "[1. 0.]\n",
      "[1. 0.]\n",
      "[1. 0.]\n",
      "[0. 1.]\n",
      "[1. 0.]\n",
      "[0. 1.]\n",
      "[0. 1.]\n",
      "[0. 1.]\n",
      "[0. 1.]\n",
      "[0. 1.]\n",
      "[0. 1.]\n",
      "[1. 0.]\n",
      "[1. 0.]\n",
      "[0. 1.]\n",
      "[1. 0.]\n",
      "[1. 0.]\n",
      "[0. 1.]\n",
      "[1. 0.]\n",
      "[1. 0.]\n",
      "[0. 1.]\n",
      "[1. 0.]\n",
      "[1. 0.]\n",
      "[0. 1.]\n",
      "[1. 0.]\n",
      "[0. 1.]\n",
      "[0. 1.]\n",
      "[0. 1.]\n",
      "[0. 1.]\n",
      "[0. 1.]\n",
      "[1. 0.]\n",
      "[1. 0.]\n",
      "[1. 0.]\n",
      "[1. 0.]\n",
      "[0. 1.]\n",
      "[0. 1.]\n",
      "[1. 0.]\n",
      "[0. 1.]\n",
      "[0. 1.]\n",
      "[0. 1.]\n",
      "[0. 1.]\n",
      "[0. 1.]\n",
      "[0. 1.]\n",
      "[1. 0.]\n",
      "[1. 0.]\n",
      "[1. 0.]\n",
      "[1. 0.]\n",
      "[1. 0.]\n",
      "[1. 0.]\n",
      "[1. 0.]\n",
      "[0. 1.]\n",
      "[0. 1.]\n",
      "[0. 1.]\n",
      "[0. 1.]\n",
      "[1. 0.]\n",
      "[0. 1.]\n",
      "[1. 0.]\n",
      "[0. 1.]\n",
      "[0. 1.]\n",
      "[0. 1.]\n",
      "[0. 1.]\n",
      "[1. 0.]\n",
      "[0. 1.]\n",
      "[1. 0.]\n",
      "[0. 1.]\n",
      "[0. 1.]\n",
      "[1. 0.]\n",
      "[0. 1.]\n",
      "[1. 0.]\n",
      "[0. 1.]\n",
      "[1. 0.]\n",
      "[0. 1.]\n",
      "[1. 0.]\n",
      "[0. 1.]\n",
      "[0. 1.]\n",
      "[1. 0.]\n",
      "[1. 0.]\n",
      "[0. 1.]\n",
      "[0. 1.]\n",
      "[0. 1.]\n",
      "[1. 0.]\n",
      "[1. 0.]\n",
      "[1. 0.]\n",
      "[0. 1.]\n",
      "[1. 0.]\n",
      "[1. 0.]\n",
      "[0. 1.]\n",
      "[1. 0.]\n",
      "[0. 1.]\n",
      "[0. 1.]\n",
      "[1. 0.]\n",
      "[1. 0.]\n",
      "[0. 1.]\n",
      "[1. 0.]\n",
      "[1. 0.]\n",
      "[1. 0.]\n",
      "[0. 1.]\n",
      "[1. 0.]\n",
      "[0. 1.]\n",
      "[1. 0.]\n",
      "[1. 0.]\n",
      "[0. 1.]\n",
      "[0. 1.]\n",
      "[1. 0.]\n",
      "[1. 0.]\n",
      "[0. 1.]\n",
      "[1. 0.]\n",
      "[1. 0.]\n",
      "[0. 1.]\n",
      "[1. 0.]\n",
      "[1. 0.]\n",
      "[1. 0.]\n",
      "[1. 0.]\n",
      "[1. 0.]\n",
      "[0. 1.]\n",
      "[0. 1.]\n",
      "[0. 1.]\n",
      "[0. 1.]\n",
      "[0. 1.]\n",
      "[1. 0.]\n",
      "[0. 1.]\n",
      "[1. 0.]\n",
      "[0. 1.]\n",
      "[1. 0.]\n",
      "[0. 1.]\n",
      "[1. 0.]\n",
      "[1. 0.]\n",
      "[0. 1.]\n",
      "[0. 1.]\n",
      "[0. 1.]\n",
      "[1. 0.]\n",
      "[1. 0.]\n",
      "[0. 1.]\n",
      "[0. 1.]\n",
      "[1. 0.]\n",
      "[0. 1.]\n",
      "[0. 1.]\n",
      "[1. 0.]\n",
      "[1. 0.]\n",
      "[0. 1.]\n",
      "[1. 0.]\n",
      "[0. 1.]\n",
      "[0. 1.]\n",
      "[0. 1.]\n",
      "[1. 0.]\n",
      "[0. 1.]\n",
      "[1. 0.]\n",
      "[0. 1.]\n",
      "[0. 1.]\n",
      "[0. 1.]\n",
      "[0. 1.]\n",
      "[0. 1.]\n",
      "[1. 0.]\n",
      "[0. 1.]\n",
      "[1. 0.]\n",
      "[1. 0.]\n",
      "[0. 1.]\n",
      "[0. 1.]\n",
      "[1. 0.]\n",
      "[1. 0.]\n",
      "[0. 1.]\n",
      "[0. 1.]\n",
      "[1. 0.]\n",
      "[1. 0.]\n",
      "[0. 1.]\n",
      "[1. 0.]\n",
      "[1. 0.]\n",
      "[1. 0.]\n",
      "[1. 0.]\n",
      "[0. 1.]\n",
      "[0. 1.]\n",
      "[0. 1.]\n",
      "[1. 0.]\n",
      "[1. 0.]\n",
      "[0. 1.]\n",
      "[1. 0.]\n",
      "[0. 1.]\n",
      "[0. 1.]\n",
      "[1. 0.]\n",
      "[1. 0.]\n",
      "[0. 1.]\n",
      "[0. 1.]\n",
      "[0. 1.]\n",
      "[0. 1.]\n",
      "[0. 1.]\n",
      "[0. 1.]\n",
      "[1. 0.]\n",
      "[1. 0.]\n",
      "[0. 1.]\n",
      "[0. 1.]\n",
      "[1. 0.]\n",
      "[1. 0.]\n",
      "[1. 0.]\n",
      "[1. 0.]\n",
      "[0. 1.]\n",
      "[1. 0.]\n",
      "[0. 1.]\n",
      "[1. 0.]\n",
      "[0. 1.]\n",
      "[0. 1.]\n",
      "[0. 1.]\n",
      "[0. 1.]\n",
      "[0. 1.]\n",
      "[0. 1.]\n",
      "[1. 0.]\n",
      "[0. 1.]\n",
      "[0. 1.]\n",
      "[0. 1.]\n",
      "[1. 0.]\n",
      "[0. 1.]\n",
      "[1. 0.]\n",
      "[0. 1.]\n",
      "[1. 0.]\n",
      "[1. 0.]\n",
      "[0. 1.]\n",
      "[0. 1.]\n",
      "[0. 1.]\n",
      "[0. 1.]\n",
      "[1. 0.]\n",
      "[0. 1.]\n",
      "[1. 0.]\n",
      "[0. 1.]\n",
      "[1. 0.]\n",
      "[0. 1.]\n",
      "[1. 0.]\n",
      "[0. 1.]\n",
      "[1. 0.]\n",
      "[0. 1.]\n",
      "[1. 0.]\n",
      "[1. 0.]\n",
      "[0. 1.]\n",
      "[1. 0.]\n",
      "[1. 0.]\n",
      "[0. 1.]\n",
      "[0. 1.]\n",
      "[0. 1.]\n",
      "[1. 0.]\n",
      "[0. 1.]\n",
      "[1. 0.]\n",
      "[0. 1.]\n",
      "[1. 0.]\n",
      "[1. 0.]\n",
      "[1. 0.]\n",
      "[1. 0.]\n",
      "[1. 0.]\n",
      "[1. 0.]\n",
      "[0. 1.]\n",
      "[1. 0.]\n",
      "[0. 1.]\n",
      "[0. 1.]\n",
      "[1. 0.]\n",
      "[0. 1.]\n",
      "[1. 0.]\n",
      "[0. 1.]\n",
      "[1. 0.]\n",
      "[0. 1.]\n",
      "[1. 0.]\n",
      "[1. 0.]\n",
      "[0. 1.]\n",
      "[1. 0.]\n",
      "[1. 0.]\n",
      "[0. 1.]\n",
      "[0. 1.]\n",
      "[1. 0.]\n",
      "[1. 0.]\n",
      "[0. 1.]\n",
      "[1. 0.]\n",
      "[1. 0.]\n",
      "[0. 1.]\n",
      "[0. 1.]\n",
      "[0. 1.]\n",
      "[0. 1.]\n",
      "[1. 0.]\n",
      "[1. 0.]\n",
      "[1. 0.]\n",
      "[0. 1.]\n",
      "[0. 1.]\n",
      "[1. 0.]\n",
      "[1. 0.]\n",
      "[0. 1.]\n",
      "[1. 0.]\n",
      "[0. 1.]\n",
      "[1. 0.]\n",
      "[0. 1.]\n",
      "[0. 1.]\n",
      "[0. 1.]\n",
      "[1. 0.]\n",
      "[1. 0.]\n",
      "[0. 1.]\n",
      "[0. 1.]\n",
      "[0. 1.]\n",
      "[1. 0.]\n",
      "[1. 0.]\n",
      "[0. 1.]\n",
      "[1. 0.]\n",
      "[0. 1.]\n",
      "[1. 0.]\n",
      "[1. 0.]\n",
      "[1. 0.]\n",
      "[1. 0.]\n",
      "[0. 1.]\n",
      "[1. 0.]\n",
      "[1. 0.]\n",
      "[1. 0.]\n",
      "[1. 0.]\n",
      "[1. 0.]\n",
      "[0. 1.]\n",
      "[0. 1.]\n",
      "[0. 1.]\n",
      "[1. 0.]\n",
      "[0. 1.]\n",
      "[0. 1.]\n",
      "[1. 0.]\n",
      "[1. 0.]\n",
      "[0. 1.]\n",
      "[0. 1.]\n",
      "[1. 0.]\n",
      "[0. 1.]\n",
      "[1. 0.]\n",
      "[0. 1.]\n",
      "[1. 0.]\n",
      "[0. 1.]\n",
      "[1. 0.]\n",
      "[1. 0.]\n",
      "[0. 1.]\n",
      "[0. 1.]\n",
      "[1. 0.]\n",
      "[0. 1.]\n",
      "[1. 0.]\n",
      "[1. 0.]\n",
      "[0. 1.]\n",
      "[0. 1.]\n",
      "[1. 0.]\n",
      "[1. 0.]\n",
      "[1. 0.]\n",
      "[0. 1.]\n",
      "[0. 1.]\n",
      "[0. 1.]\n",
      "[0. 1.]\n",
      "[1. 0.]\n",
      "[0. 1.]\n",
      "[1. 0.]\n",
      "[0. 1.]\n",
      "[0. 1.]\n",
      "[1. 0.]\n",
      "[1. 0.]\n",
      "[1. 0.]\n",
      "[1. 0.]\n",
      "(54, 299, 299, 3)\n",
      "[0. 1.]\n",
      "[0. 1.]\n",
      "[0. 1.]\n",
      "[1. 0.]\n",
      "[1. 0.]\n",
      "[1. 0.]\n",
      "[0. 1.]\n",
      "[0. 1.]\n",
      "[0. 1.]\n",
      "[0. 1.]\n",
      "[1. 0.]\n",
      "[1. 0.]\n",
      "[0. 1.]\n",
      "[1. 0.]\n",
      "[0. 1.]\n",
      "[0. 1.]\n",
      "[0. 1.]\n",
      "[1. 0.]\n",
      "[1. 0.]\n",
      "[0. 1.]\n",
      "[0. 1.]\n",
      "[0. 1.]\n",
      "[1. 0.]\n",
      "[0. 1.]\n",
      "[0. 1.]\n",
      "[1. 0.]\n",
      "[1. 0.]\n",
      "[0. 1.]\n",
      "[1. 0.]\n",
      "[0. 1.]\n",
      "[1. 0.]\n",
      "[0. 1.]\n",
      "[1. 0.]\n",
      "[1. 0.]\n",
      "[1. 0.]\n",
      "[1. 0.]\n",
      "[0. 1.]\n",
      "[0. 1.]\n",
      "[1. 0.]\n",
      "[1. 0.]\n",
      "[0. 1.]\n",
      "[1. 0.]\n",
      "[1. 0.]\n",
      "[1. 0.]\n",
      "[0. 1.]\n",
      "[1. 0.]\n",
      "[1. 0.]\n",
      "[1. 0.]\n",
      "[0. 1.]\n",
      "[0. 1.]\n",
      "[1. 0.]\n",
      "[1. 0.]\n",
      "[0. 1.]\n",
      "[0. 1.]\n",
      "(126, 299, 299, 3)\n",
      "[1. 0.]\n",
      "[1. 0.]\n",
      "[1. 0.]\n",
      "[1. 0.]\n",
      "[0. 1.]\n",
      "[0. 1.]\n",
      "[1. 0.]\n",
      "[0. 1.]\n",
      "[1. 0.]\n",
      "[0. 1.]\n",
      "[1. 0.]\n",
      "[0. 1.]\n",
      "[0. 1.]\n",
      "[1. 0.]\n",
      "[0. 1.]\n",
      "[1. 0.]\n",
      "[0. 1.]\n",
      "[0. 1.]\n",
      "[1. 0.]\n",
      "[1. 0.]\n",
      "[1. 0.]\n",
      "[0. 1.]\n",
      "[0. 1.]\n",
      "[1. 0.]\n",
      "[1. 0.]\n",
      "[1. 0.]\n",
      "[0. 1.]\n",
      "[1. 0.]\n",
      "[1. 0.]\n",
      "[0. 1.]\n",
      "[1. 0.]\n",
      "[0. 1.]\n",
      "[1. 0.]\n",
      "[1. 0.]\n",
      "[0. 1.]\n",
      "[0. 1.]\n",
      "[1. 0.]\n",
      "[0. 1.]\n",
      "[1. 0.]\n",
      "[1. 0.]\n",
      "[0. 1.]\n",
      "[0. 1.]\n",
      "[0. 1.]\n",
      "[1. 0.]\n",
      "[0. 1.]\n",
      "[0. 1.]\n",
      "[1. 0.]\n",
      "[1. 0.]\n",
      "[0. 1.]\n",
      "[1. 0.]\n",
      "[0. 1.]\n",
      "[0. 1.]\n",
      "[0. 1.]\n",
      "[0. 1.]\n",
      "[0. 1.]\n",
      "[1. 0.]\n",
      "[0. 1.]\n",
      "[1. 0.]\n",
      "[1. 0.]\n",
      "[1. 0.]\n",
      "[1. 0.]\n",
      "[1. 0.]\n",
      "[1. 0.]\n",
      "[1. 0.]\n",
      "[1. 0.]\n",
      "[1. 0.]\n",
      "[1. 0.]\n",
      "[0. 1.]\n",
      "[0. 1.]\n",
      "[1. 0.]\n",
      "[1. 0.]\n",
      "[1. 0.]\n",
      "[1. 0.]\n",
      "[1. 0.]\n",
      "[1. 0.]\n",
      "[0. 1.]\n",
      "[1. 0.]\n",
      "[0. 1.]\n",
      "[1. 0.]\n",
      "[0. 1.]\n",
      "[0. 1.]\n",
      "[1. 0.]\n",
      "[0. 1.]\n",
      "[1. 0.]\n",
      "[0. 1.]\n",
      "[1. 0.]\n",
      "[1. 0.]\n",
      "[1. 0.]\n",
      "[0. 1.]\n",
      "[0. 1.]\n",
      "[0. 1.]\n",
      "[0. 1.]\n",
      "[0. 1.]\n",
      "[0. 1.]\n",
      "[0. 1.]\n",
      "[1. 0.]\n",
      "[0. 1.]\n",
      "[0. 1.]\n",
      "[0. 1.]\n",
      "[1. 0.]\n",
      "[1. 0.]\n",
      "[0. 1.]\n",
      "[0. 1.]\n",
      "[1. 0.]\n",
      "[0. 1.]\n",
      "[1. 0.]\n",
      "[0. 1.]\n",
      "[0. 1.]\n",
      "[1. 0.]\n",
      "[1. 0.]\n",
      "[0. 1.]\n",
      "[0. 1.]\n",
      "[0. 1.]\n",
      "[0. 1.]\n",
      "[1. 0.]\n",
      "[0. 1.]\n",
      "[1. 0.]\n",
      "[0. 1.]\n",
      "[1. 0.]\n",
      "[0. 1.]\n",
      "[0. 1.]\n",
      "[0. 1.]\n",
      "[0. 1.]\n",
      "[0. 1.]\n",
      "[1. 0.]\n",
      "[1. 0.]\n"
     ]
    }
   ],
   "source": [
    "import os\n",
    "import cv2\n",
    "def readImage(path, tag):\n",
    "    j=0\n",
    "    image_data = []\n",
    "    label=[]\n",
    "    for i in os.listdir(path):\n",
    "        imgname=path+i\n",
    "        #print(imgname)\n",
    "        img = cv2.imread(imgname, cv2.IMREAD_COLOR)\n",
    "        img_resized = cv2.resize(img, (img_size,img_size), interpolation=cv2.INTER_LINEAR)\n",
    "        image_data.append(img_resized)\n",
    "        label.append(tag)\n",
    "        #print(img[1])\n",
    "        j=j+1\n",
    "        #if j==10:\n",
    "        #    break\n",
    "        \n",
    "    return image_data, label\n",
    "\n",
    "import numpy as np\n",
    "from tensorflow.keras.utils import *\n",
    "from sklearn.utils import shuffle\n",
    "\n",
    "class0_train, train0_label = readImage(class0train_path, 0)\n",
    "class1_train, train1_label  = readImage(class1train_path, 1)\n",
    "class0_test, test0_label = readImage(class0test_path, 0)\n",
    "class1_test, test1_label = readImage(class1test_path, 1)\n",
    "class0_val, val0_label = readImage(class0val_path, 0)\n",
    "class1_val, val1_label = readImage(class1val_path, 1)\n",
    "\n",
    "def Image_array_process(class0array,label0, class1array, label1):\n",
    "    class0_array=np.array(class0array)\n",
    "    class1_array=np.array(class1array)\n",
    "    combined_data = np.concatenate((class0_array, class1_array))\n",
    "    combined_label= np.concatenate((label0,label1), axis=0)\n",
    "    assert len(combined_data) == len(combined_label)\n",
    "    combined_data, combined_label = shuffle(combined_data, combined_label, random_state=0)\n",
    "    print(combined_data.shape)\n",
    "    length=len(combined_data)\n",
    "    combined_label=to_categorical(combined_label,num_classes=2)\n",
    "    i=0\n",
    "    for i in range(length):\n",
    "        print(combined_label[i])\n",
    "\n",
    "    print\n",
    "\n",
    "    #print(class0_array.shape)\n",
    "    #print(combined_data.shape)\n",
    "    '''\n",
    "    training_reshape=(224,224,3)\n",
    "    length=len(combined_data)\n",
    "    print(length)\n",
    "    x =[None]*length\n",
    "    #print(img_data.type)\n",
    "    y =np.zeros(length)\n",
    "    i=0\n",
    "   \n",
    "    for features,label in combined_data:\n",
    "        x[i]=features\n",
    "        #print(x.shape)\n",
    "        y[i]=label\n",
    "        #print(y[i])\n",
    "        i=i+1\n",
    "    \n",
    "            #x = np.array(x).reshape(training_reshape)\n",
    "    x = np.array(x)    \n",
    "    #print(x.shape)\n",
    "    #y=np.array(y)\n",
    "    y=y.astype(int)\n",
    "    y = to_categorical(y)\n",
    "    print(y)\n",
    "    '''  \n",
    "    return combined_data, combined_label\n",
    "\n",
    "\n",
    "X_train, y_train=Image_array_process(class0_train, train0_label, class1_train, train1_label)\n",
    "X_test, y_test=Image_array_process(class0_test, test0_label, class1_test, test1_label)\n",
    "X_val, y_val=Image_array_process(class0_val, val0_label, class1_val, val1_label)"
   ]
  },
  {
   "cell_type": "markdown",
   "id": "64e85fa1",
   "metadata": {
    "papermill": {
     "duration": 0.03838,
     "end_time": "2022-05-18T16:28:35.892087",
     "exception": false,
     "start_time": "2022-05-18T16:28:35.853707",
     "status": "completed"
    },
    "tags": []
   },
   "source": []
  },
  {
   "cell_type": "code",
   "execution_count": 8,
   "id": "ca81941b",
   "metadata": {
    "execution": {
     "iopub.execute_input": "2022-05-18T16:28:35.970943Z",
     "iopub.status.busy": "2022-05-18T16:28:35.970468Z",
     "iopub.status.idle": "2022-05-18T16:28:35.975865Z",
     "shell.execute_reply": "2022-05-18T16:28:35.975054Z"
    },
    "papermill": {
     "duration": 0.04735,
     "end_time": "2022-05-18T16:28:35.977973",
     "exception": false,
     "start_time": "2022-05-18T16:28:35.930623",
     "status": "completed"
    },
    "tags": []
   },
   "outputs": [],
   "source": [
    "\n",
    "#Callbacks\n",
    "c2=tf.keras.callbacks.EarlyStopping(\n",
    "    monitor=\"val_loss\",\n",
    "    min_delta=0,\n",
    "    patience=6,\n",
    "    mode=\"auto\",\n",
    "    baseline=None,\n",
    "    restore_best_weights=True,\n",
    ")\n",
    "\n",
    "c3=tf.keras.callbacks.ReduceLROnPlateau(\n",
    "    monitor=\"val_loss\",\n",
    "    factor=0.1,\n",
    "    patience=6,\n",
    "    mode=\"auto\",\n",
    "    min_delta=0.0001,\n",
    "    cooldown=0,\n",
    "    min_lr=0.001\n",
    ")\n",
    "nClasses=3"
   ]
  },
  {
   "cell_type": "code",
   "execution_count": 9,
   "id": "ec07f851",
   "metadata": {
    "execution": {
     "iopub.execute_input": "2022-05-18T16:28:36.057245Z",
     "iopub.status.busy": "2022-05-18T16:28:36.056795Z",
     "iopub.status.idle": "2022-05-18T16:28:36.060444Z",
     "shell.execute_reply": "2022-05-18T16:28:36.059676Z"
    },
    "papermill": {
     "duration": 0.045319,
     "end_time": "2022-05-18T16:28:36.062465",
     "exception": false,
     "start_time": "2022-05-18T16:28:36.017146",
     "status": "completed"
    },
    "tags": []
   },
   "outputs": [],
   "source": [
    "\n",
    "from PIL import Image\n",
    "import glob\n"
   ]
  },
  {
   "cell_type": "code",
   "execution_count": null,
   "id": "ae2c3d97",
   "metadata": {
    "papermill": {
     "duration": 0.03927,
     "end_time": "2022-05-18T16:28:36.139991",
     "exception": false,
     "start_time": "2022-05-18T16:28:36.100721",
     "status": "completed"
    },
    "tags": []
   },
   "outputs": [],
   "source": []
  },
  {
   "cell_type": "code",
   "execution_count": null,
   "id": "47eacc18",
   "metadata": {
    "papermill": {
     "duration": 0.03799,
     "end_time": "2022-05-18T16:28:36.216240",
     "exception": false,
     "start_time": "2022-05-18T16:28:36.178250",
     "status": "completed"
    },
    "tags": []
   },
   "outputs": [],
   "source": []
  },
  {
   "cell_type": "code",
   "execution_count": 10,
   "id": "4f775840",
   "metadata": {
    "execution": {
     "iopub.execute_input": "2022-05-18T16:28:36.294619Z",
     "iopub.status.busy": "2022-05-18T16:28:36.294327Z",
     "iopub.status.idle": "2022-05-18T16:28:36.297988Z",
     "shell.execute_reply": "2022-05-18T16:28:36.297305Z"
    },
    "papermill": {
     "duration": 0.04499,
     "end_time": "2022-05-18T16:28:36.299800",
     "exception": false,
     "start_time": "2022-05-18T16:28:36.254810",
     "status": "completed"
    },
    "tags": []
   },
   "outputs": [],
   "source": [
    "import os #Operating System\n",
    "import sys #System\n",
    "# train_generator = train_datagen.flow(x_train, y_train, batch_size =)\n",
    "# val_generator = val_datagen.flow(x_val, y_val, batch_size = 64)\n",
    "# test_generator=test_datagen.flow(x_test,y_test,batch_size = 64)\n"
   ]
  },
  {
   "cell_type": "markdown",
   "id": "f5f665c4",
   "metadata": {
    "papermill": {
     "duration": 0.037984,
     "end_time": "2022-05-18T16:28:36.376028",
     "exception": false,
     "start_time": "2022-05-18T16:28:36.338044",
     "status": "completed"
    },
    "tags": []
   },
   "source": [
    "#import image"
   ]
  },
  {
   "cell_type": "code",
   "execution_count": null,
   "id": "39eb0e24",
   "metadata": {
    "papermill": {
     "duration": 0.037867,
     "end_time": "2022-05-18T16:28:36.452072",
     "exception": false,
     "start_time": "2022-05-18T16:28:36.414205",
     "status": "completed"
    },
    "tags": []
   },
   "outputs": [],
   "source": []
  },
  {
   "cell_type": "code",
   "execution_count": null,
   "id": "b6c94cf4",
   "metadata": {
    "papermill": {
     "duration": 0.038031,
     "end_time": "2022-05-18T16:28:36.528248",
     "exception": false,
     "start_time": "2022-05-18T16:28:36.490217",
     "status": "completed"
    },
    "tags": []
   },
   "outputs": [],
   "source": []
  },
  {
   "cell_type": "code",
   "execution_count": 11,
   "id": "237958a3",
   "metadata": {
    "execution": {
     "iopub.execute_input": "2022-05-18T16:28:36.605798Z",
     "iopub.status.busy": "2022-05-18T16:28:36.605541Z",
     "iopub.status.idle": "2022-05-18T16:28:36.611033Z",
     "shell.execute_reply": "2022-05-18T16:28:36.610249Z"
    },
    "papermill": {
     "duration": 0.047598,
     "end_time": "2022-05-18T16:28:36.614211",
     "exception": false,
     "start_time": "2022-05-18T16:28:36.566613",
     "status": "completed"
    },
    "tags": []
   },
   "outputs": [
    {
     "name": "stdout",
     "output_type": "stream",
     "text": [
      "(420, 299, 299, 3) (54, 299, 299, 3) (126, 299, 299, 3) (420, 2) (54, 2) (126, 2)\n"
     ]
    }
   ],
   "source": [
    "print(X_train.shape, X_test.shape, X_val.shape, y_train.shape, y_test.shape, y_val.shape)"
   ]
  },
  {
   "cell_type": "code",
   "execution_count": 12,
   "id": "60179d2b",
   "metadata": {
    "execution": {
     "iopub.execute_input": "2022-05-18T16:28:36.691625Z",
     "iopub.status.busy": "2022-05-18T16:28:36.691393Z",
     "iopub.status.idle": "2022-05-18T16:28:36.696557Z",
     "shell.execute_reply": "2022-05-18T16:28:36.695741Z"
    },
    "papermill": {
     "duration": 0.046457,
     "end_time": "2022-05-18T16:28:36.698802",
     "exception": false,
     "start_time": "2022-05-18T16:28:36.652345",
     "status": "completed"
    },
    "tags": []
   },
   "outputs": [],
   "source": [
    "#Callbacks\n",
    "c2=tf.keras.callbacks.EarlyStopping(\n",
    "    monitor=\"val_loss\",\n",
    "    min_delta=0,\n",
    "    patience=6,\n",
    "    mode=\"auto\",\n",
    "    baseline=None,\n",
    "    restore_best_weights=True,\n",
    ")\n",
    "\n",
    "c3=tf.keras.callbacks.ReduceLROnPlateau(\n",
    "    monitor=\"val_loss\",\n",
    "    factor=0.1,\n",
    "    patience=6,\n",
    "    mode=\"auto\",\n",
    "    min_delta=0.0001,\n",
    "    cooldown=0,\n",
    "    min_lr=0.001\n",
    ")\n",
    "nClasses=2"
   ]
  },
  {
   "cell_type": "markdown",
   "id": "30fb69a1",
   "metadata": {
    "papermill": {
     "duration": 0.038423,
     "end_time": "2022-05-18T16:28:36.775655",
     "exception": false,
     "start_time": "2022-05-18T16:28:36.737232",
     "status": "completed"
    },
    "tags": []
   },
   "source": [
    "# model"
   ]
  },
  {
   "cell_type": "code",
   "execution_count": 13,
   "id": "284cc2ca",
   "metadata": {
    "execution": {
     "iopub.execute_input": "2022-05-18T16:28:36.854182Z",
     "iopub.status.busy": "2022-05-18T16:28:36.853935Z",
     "iopub.status.idle": "2022-05-18T16:28:41.511530Z",
     "shell.execute_reply": "2022-05-18T16:28:41.510574Z"
    },
    "papermill": {
     "duration": 4.699198,
     "end_time": "2022-05-18T16:28:41.513480",
     "exception": false,
     "start_time": "2022-05-18T16:28:36.814282",
     "status": "completed"
    },
    "tags": []
   },
   "outputs": [
    {
     "name": "stderr",
     "output_type": "stream",
     "text": [
      "2022-05-18 16:28:36.971699: I tensorflow/stream_executor/cuda/cuda_gpu_executor.cc:937] successful NUMA node read from SysFS had negative value (-1), but there must be at least one NUMA node, so returning NUMA node zero\n",
      "2022-05-18 16:28:36.976696: I tensorflow/stream_executor/cuda/cuda_gpu_executor.cc:937] successful NUMA node read from SysFS had negative value (-1), but there must be at least one NUMA node, so returning NUMA node zero\n",
      "2022-05-18 16:28:36.977441: I tensorflow/stream_executor/cuda/cuda_gpu_executor.cc:937] successful NUMA node read from SysFS had negative value (-1), but there must be at least one NUMA node, so returning NUMA node zero\n",
      "2022-05-18 16:28:36.978722: I tensorflow/core/platform/cpu_feature_guard.cc:142] This TensorFlow binary is optimized with oneAPI Deep Neural Network Library (oneDNN) to use the following CPU instructions in performance-critical operations:  AVX2 AVX512F FMA\n",
      "To enable them in other operations, rebuild TensorFlow with the appropriate compiler flags.\n",
      "2022-05-18 16:28:36.979021: I tensorflow/stream_executor/cuda/cuda_gpu_executor.cc:937] successful NUMA node read from SysFS had negative value (-1), but there must be at least one NUMA node, so returning NUMA node zero\n",
      "2022-05-18 16:28:36.979851: I tensorflow/stream_executor/cuda/cuda_gpu_executor.cc:937] successful NUMA node read from SysFS had negative value (-1), but there must be at least one NUMA node, so returning NUMA node zero\n",
      "2022-05-18 16:28:36.980600: I tensorflow/stream_executor/cuda/cuda_gpu_executor.cc:937] successful NUMA node read from SysFS had negative value (-1), but there must be at least one NUMA node, so returning NUMA node zero\n",
      "2022-05-18 16:28:39.254491: I tensorflow/stream_executor/cuda/cuda_gpu_executor.cc:937] successful NUMA node read from SysFS had negative value (-1), but there must be at least one NUMA node, so returning NUMA node zero\n",
      "2022-05-18 16:28:39.255316: I tensorflow/stream_executor/cuda/cuda_gpu_executor.cc:937] successful NUMA node read from SysFS had negative value (-1), but there must be at least one NUMA node, so returning NUMA node zero\n",
      "2022-05-18 16:28:39.256027: I tensorflow/stream_executor/cuda/cuda_gpu_executor.cc:937] successful NUMA node read from SysFS had negative value (-1), but there must be at least one NUMA node, so returning NUMA node zero\n",
      "2022-05-18 16:28:39.257248: I tensorflow/core/common_runtime/gpu/gpu_device.cc:1510] Created device /job:localhost/replica:0/task:0/device:GPU:0 with 15385 MB memory:  -> device: 0, name: Tesla P100-PCIE-16GB, pci bus id: 0000:00:04.0, compute capability: 6.0\n"
     ]
    },
    {
     "name": "stdout",
     "output_type": "stream",
     "text": [
      "Downloading data from https://storage.googleapis.com/tensorflow/keras-applications/xception/xception_weights_tf_dim_ordering_tf_kernels_notop.h5\n",
      "83689472/83683744 [==============================] - 0s 0us/step\n",
      "83697664/83683744 [==============================] - 0s 0us/step\n",
      "Model: \"sequential\"\n",
      "_________________________________________________________________\n",
      "Layer (type)                 Output Shape              Param #   \n",
      "=================================================================\n",
      "xception (Functional)        (None, 10, 10, 2048)      20861480  \n",
      "_________________________________________________________________\n",
      "flatten (Flatten)            (None, 204800)            0         \n",
      "_________________________________________________________________\n",
      "batch_normalization_4 (Batch (None, 204800)            819200    \n",
      "_________________________________________________________________\n",
      "dense (Dense)                (None, 4096)              838864896 \n",
      "_________________________________________________________________\n",
      "batch_normalization_5 (Batch (None, 4096)              16384     \n",
      "_________________________________________________________________\n",
      "dense_1 (Dense)              (None, 4096)              16781312  \n",
      "_________________________________________________________________\n",
      "dropout (Dropout)            (None, 4096)              0         \n",
      "_________________________________________________________________\n",
      "dense_2 (Dense)              (None, 2096)              8587312   \n",
      "_________________________________________________________________\n",
      "dense_3 (Dense)              (None, 2)                 4194      \n",
      "=================================================================\n",
      "Total params: 885,934,778\n",
      "Trainable params: 864,655,506\n",
      "Non-trainable params: 21,279,272\n",
      "_________________________________________________________________\n"
     ]
    }
   ],
   "source": [
    "RESNET50_POOLING_AVERAGE = 'avg'\n",
    "DENSE_LAYER_ACTIVATION = 'sigmoid'\n",
    "OBJECTIVE_FUNCTION = 'categorical_crossentropy'\n",
    "\n",
    "# Common accuracy metric for all outputs, but can use different metrics for different output\n",
    "LOSS_METRICS = ['accuracy']\n",
    "\n",
    "from tensorflow.keras.applications import Xception\n",
    "base_model = Xception(input_shape=(img_size, img_size, 3), weights='imagenet', include_top=False)\n",
    "#from tensorflow.keras.applications.mobilenet import MobileNet\n",
    "#base_model =  MobileNet(input_shape=(img_size, img_size, 3), weights='imagenet', include_top=False)\n",
    "#from tensorflow.keras.applications import MobileNetV2\n",
    "#base_Neural_Net= MobileNetV2(input_shape=(img_size, img_size, 3), weights='imagenet', include_top=False)\n",
    "base_model.trainable = False\n",
    "model=Sequential()\n",
    "model.add(base_model)\n",
    "model.add(Flatten())\n",
    "model.add(BatchNormalization())\n",
    "model.add(Dense(4096,kernel_initializer='he_uniform'))\n",
    "model.add(BatchNormalization())\n",
    "model.add(Dense(4096,activation=\"relu\"))\n",
    "#model.add(BatchNormalization())\n",
    "#model.add(Activation('relu'))\n",
    "model.add(Dropout(0.2))\n",
    "model.add(Dense(2096,activation=\"relu\"))\n",
    "model.add(Dense(2, activation='sigmoid'))\n",
    "#model = Model(inputs=resnet50_base_model.input, outputs=predictions)\n",
    "model.summary()\n"
   ]
  },
  {
   "cell_type": "code",
   "execution_count": 14,
   "id": "a15615b8",
   "metadata": {
    "execution": {
     "iopub.execute_input": "2022-05-18T16:28:41.617254Z",
     "iopub.status.busy": "2022-05-18T16:28:41.617003Z",
     "iopub.status.idle": "2022-05-18T16:28:42.681151Z",
     "shell.execute_reply": "2022-05-18T16:28:42.680347Z"
    },
    "papermill": {
     "duration": 1.113935,
     "end_time": "2022-05-18T16:28:42.685597",
     "exception": false,
     "start_time": "2022-05-18T16:28:41.571662",
     "status": "completed"
    },
    "tags": []
   },
   "outputs": [
    {
     "data": {
      "image/png": "[encoded data removed]",
      "text/plain": [
       "<IPython.core.display.Image object>"
      ]
     },
     "execution_count": 14,
     "metadata": {},
     "output_type": "execute_result"
    }
   ],
   "source": [
    "from tensorflow.keras.utils import plot_model\n",
    "from IPython.display import Image\n",
    "plot_model(model, to_file='convnet.png', show_shapes=True,show_layer_names=True)\n",
    "Image(filename='convnet.png') "
   ]
  },
  {
   "cell_type": "code",
   "execution_count": 15,
   "id": "e8118998",
   "metadata": {
    "execution": {
     "iopub.execute_input": "2022-05-18T16:28:42.870306Z",
     "iopub.status.busy": "2022-05-18T16:28:42.869959Z",
     "iopub.status.idle": "2022-05-18T16:28:42.938310Z",
     "shell.execute_reply": "2022-05-18T16:28:42.936084Z"
    },
    "papermill": {
     "duration": 0.161138,
     "end_time": "2022-05-18T16:28:42.944315",
     "exception": false,
     "start_time": "2022-05-18T16:28:42.783177",
     "status": "completed"
    },
    "tags": []
   },
   "outputs": [],
   "source": [
    "def f1_score(y_true, y_pred): #taken from old keras source code\n",
    "    true_positives = K.sum(K.round(K.clip(y_true * y_pred, 0, 1)))\n",
    "    possible_positives = K.sum(K.round(K.clip(y_true, 0, 1)))\n",
    "    predicted_positives = K.sum(K.round(K.clip(y_pred, 0, 1)))\n",
    "    precision = true_positives / (predicted_positives + K.epsilon())\n",
    "    recall = true_positives / (possible_positives + K.epsilon())\n",
    "    f1_val = 2*(precision*recall)/(precision+recall+K.epsilon())\n",
    "    return f1_val\n",
    "\n",
    "METRICS = [\n",
    "      tf.keras.metrics.BinaryAccuracy(name='accuracy'),\n",
    "      tf.keras.metrics.Precision(name='precision'),\n",
    "      tf.keras.metrics.Recall(name='recall'),  \n",
    "      tf.keras.metrics.AUC(name='auc'),\n",
    "        f1_score,\n",
    "]"
   ]
  },
  {
   "cell_type": "code",
   "execution_count": 16,
   "id": "d75609e1",
   "metadata": {
    "execution": {
     "iopub.execute_input": "2022-05-18T16:28:43.119329Z",
     "iopub.status.busy": "2022-05-18T16:28:43.118788Z",
     "iopub.status.idle": "2022-05-18T16:28:43.137647Z",
     "shell.execute_reply": "2022-05-18T16:28:43.136972Z"
    },
    "papermill": {
     "duration": 0.102285,
     "end_time": "2022-05-18T16:28:43.139903",
     "exception": false,
     "start_time": "2022-05-18T16:28:43.037618",
     "status": "completed"
    },
    "tags": []
   },
   "outputs": [],
   "source": [
    "from sklearn.metrics import f1_score, roc_auc_score, cohen_kappa_score, precision_score, recall_score, accuracy_score, confusion_matrix\n",
    "def get_accuracy_metrics(model, X_train, y_train, X_val, y_val, X_test, y_test):\n",
    "    y_train=np.argmax(y_train, axis=1)\n",
    "    y_test=np.argmax(y_test, axis=1)\n",
    "    y_val=np.argmax(y_val, axis=1)\n",
    "    y_train_pred=np.argmax(model.predict(X_train),axis=1)\n",
    "    y_test_pred=np.argmax(model.predict(X_test),axis=1)\n",
    "    y_val_pred=np.argmax(model.predict(X_val),axis=1)\n",
    "    #ps:all the Y value must turn back to 1 dimension array. otherwise, the scoring functions in sklearn cannot compare, and will give an error\n",
    "    #classification metrics can't handle a mix of continuous-multioutput and multi-label-indicator targets\n",
    "    \n",
    "    print(\"Train accuracy Score------------>\")\n",
    "    print (\"{0:.3f}\".format(accuracy_score(y_train, y_train_pred)*100), \"%\")\n",
    "    \n",
    "    print(\"Val accuracy Score--------->\")\n",
    "    \n",
    "    print(\"{0:.3f}\".format(accuracy_score(y_val, y_val_pred)*100), \"%\")\n",
    "    \n",
    "  \n",
    "    print(\"Test accuracy Score--------->\")\n",
    "    print(\"{0:.3f}\".format(accuracy_score(y_test, y_test_pred)*100), \"%\")\n",
    "    \n",
    "    print(\"F1 Score--------------->\")\n",
    "    print(\"{0:.3f}\".format(f1_score(y_test, y_test_pred, average = 'weighted')*100), \"%\")\n",
    "    \n",
    "    print(\"Cohen Kappa Score------------->\")\n",
    "    print(\"{0:.3f}\".format(cohen_kappa_score(y_test, y_test_pred)*100), \"%\")\n",
    "    \n",
    "    print(\"Recall-------------->\")\n",
    "    print(\"{0:.3f}\".format(recall_score(y_test, y_test_pred, average = 'weighted')*100), \"%\")\n",
    "    \n",
    "    print(\"Precision-------------->\")\n",
    "    print(\"{0:.3f}\".format(precision_score(y_test, y_test_pred, average = 'weighted')*100), \"%\")\n",
    "    \n",
    "    cf_matrix_test = confusion_matrix(y_test, y_test_pred)\n",
    "    cf_matrix_val = confusion_matrix(y_val, y_val_pred)\n",
    "    \n",
    "    plt.figure(figsize = (12, 6))\n",
    "    plt.subplot(121)\n",
    "    sns.heatmap(cf_matrix_val, annot=True, cmap='Blues')\n",
    "    plt.title(\"Val Confusion matrix\")\n",
    "    \n",
    "    plt.subplot(122)\n",
    "    sns.heatmap(cf_matrix_test, annot=True, cmap='Blues')\n",
    "    plt.title(\"Test Confusion matrix\")\n",
    "    \n",
    "    plt.show()"
   ]
  },
  {
   "cell_type": "code",
   "execution_count": 17,
   "id": "46d0e441",
   "metadata": {
    "execution": {
     "iopub.execute_input": "2022-05-18T16:28:43.251260Z",
     "iopub.status.busy": "2022-05-18T16:28:43.250581Z",
     "iopub.status.idle": "2022-05-18T16:28:43.265623Z",
     "shell.execute_reply": "2022-05-18T16:28:43.264952Z"
    },
    "papermill": {
     "duration": 0.063805,
     "end_time": "2022-05-18T16:28:43.267375",
     "exception": false,
     "start_time": "2022-05-18T16:28:43.203570",
     "status": "completed"
    },
    "tags": []
   },
   "outputs": [],
   "source": [
    "callbacks1 =  [EarlyStopping(monitor='val_loss', patience=5, verbose=1), ModelCheckpoint('init_model.h5', save_best_only=True)]\n",
    "opt = Adam(learning_rate=0.001)\n",
    "model.compile(loss='categorical_crossentropy', optimizer=opt, metrics=['accuracy'])"
   ]
  },
  {
   "cell_type": "code",
   "execution_count": 18,
   "id": "407f2461",
   "metadata": {
    "execution": {
     "iopub.execute_input": "2022-05-18T16:28:43.359556Z",
     "iopub.status.busy": "2022-05-18T16:28:43.359111Z",
     "iopub.status.idle": "2022-05-18T16:43:08.321715Z",
     "shell.execute_reply": "2022-05-18T16:43:08.320768Z"
    },
    "papermill": {
     "duration": 865.013688,
     "end_time": "2022-05-18T16:43:08.326330",
     "exception": false,
     "start_time": "2022-05-18T16:28:43.312642",
     "status": "completed"
    },
    "tags": []
   },
   "outputs": [
    {
     "name": "stdout",
     "output_type": "stream",
     "text": [
      "CPU times: user 2 µs, sys: 1 µs, total: 3 µs\n",
      "Wall time: 6.68 µs\n"
     ]
    },
    {
     "name": "stderr",
     "output_type": "stream",
     "text": [
      "2022-05-18 16:28:43.628097: I tensorflow/compiler/mlir/mlir_graph_optimization_pass.cc:185] None of the MLIR Optimization Passes are enabled (registered 2)\n"
     ]
    },
    {
     "name": "stdout",
     "output_type": "stream",
     "text": [
      "Epoch 1/10\n"
     ]
    },
    {
     "name": "stderr",
     "output_type": "stream",
     "text": [
      "2022-05-18 16:28:47.216291: I tensorflow/stream_executor/cuda/cuda_dnn.cc:369] Loaded cuDNN version 8005\n"
     ]
    },
    {
     "name": "stdout",
     "output_type": "stream",
     "text": [
      " 1/14 [=>............................] - ETA: 2:04 - loss: 0.8540 - accuracy: 0.5625"
     ]
    },
    {
     "name": "stderr",
     "output_type": "stream",
     "text": [
      "2022-05-18 16:28:53.100771: W tensorflow/core/common_runtime/bfc_allocator.cc:272] Allocator (GPU_0_bfc) ran out of memory trying to allocate 3.47GiB with freed_by_count=0. The caller indicates that this is not a failure, but may mean that there could be performance gains if more memory were available.\n"
     ]
    },
    {
     "name": "stdout",
     "output_type": "stream",
     "text": [
      "14/14 [==============================] - ETA: 0s - loss: 6.5993 - accuracy: 0.6500"
     ]
    },
    {
     "name": "stderr",
     "output_type": "stream",
     "text": [
      "2022-05-18 16:28:55.957599: W tensorflow/core/common_runtime/bfc_allocator.cc:272] Allocator (GPU_0_bfc) ran out of memory trying to allocate 3.41GiB with freed_by_count=0. The caller indicates that this is not a failure, but may mean that there could be performance gains if more memory were available.\n"
     ]
    },
    {
     "name": "stdout",
     "output_type": "stream",
     "text": [
      "14/14 [==============================] - 14s 322ms/step - loss: 6.5993 - accuracy: 0.6500 - val_loss: 117.9484 - val_accuracy: 0.5000\n"
     ]
    },
    {
     "name": "stderr",
     "output_type": "stream",
     "text": [
      "2022-05-18 16:28:57.405884: W tensorflow/core/common_runtime/bfc_allocator.cc:272] Allocator (GPU_0_bfc) ran out of memory trying to allocate 3.44GiB with freed_by_count=0. The caller indicates that this is not a failure, but may mean that there could be performance gains if more memory were available.\n",
      "2022-05-18 16:28:57.534105: W tensorflow/core/framework/cpu_allocator_impl.cc:80] Allocation of 3355443200 exceeds 10% of free system memory.\n",
      "2022-05-18 16:29:12.208052: W tensorflow/core/framework/cpu_allocator_impl.cc:80] Allocation of 3355443200 exceeds 10% of free system memory.\n",
      "2022-05-18 16:29:19.081125: W tensorflow/core/framework/cpu_allocator_impl.cc:80] Allocation of 3355443200 exceeds 10% of free system memory.\n"
     ]
    },
    {
     "name": "stdout",
     "output_type": "stream",
     "text": [
      "Epoch 2/10\n",
      "14/14 [==============================] - 4s 241ms/step - loss: 4.7492 - accuracy: 0.6452 - val_loss: 24.6295 - val_accuracy: 0.5000\n"
     ]
    },
    {
     "name": "stderr",
     "output_type": "stream",
     "text": [
      "2022-05-18 16:29:54.433101: W tensorflow/core/framework/cpu_allocator_impl.cc:80] Allocation of 3355443200 exceeds 10% of free system memory.\n",
      "2022-05-18 16:30:06.407304: W tensorflow/core/framework/cpu_allocator_impl.cc:80] Allocation of 3355443200 exceeds 10% of free system memory.\n"
     ]
    },
    {
     "name": "stdout",
     "output_type": "stream",
     "text": [
      "Epoch 3/10\n",
      "14/14 [==============================] - 3s 227ms/step - loss: 0.8322 - accuracy: 0.7500 - val_loss: 3.9694 - val_accuracy: 0.5370\n",
      "Epoch 4/10\n",
      "14/14 [==============================] - 3s 227ms/step - loss: 0.7094 - accuracy: 0.7857 - val_loss: 2.3819 - val_accuracy: 0.5926\n",
      "Epoch 5/10\n",
      "14/14 [==============================] - 3s 231ms/step - loss: 0.5176 - accuracy: 0.7690 - val_loss: 2.2519 - val_accuracy: 0.5556\n",
      "Epoch 6/10\n",
      "14/14 [==============================] - 3s 227ms/step - loss: 0.4392 - accuracy: 0.8071 - val_loss: 1.8159 - val_accuracy: 0.6296\n",
      "Epoch 7/10\n",
      "14/14 [==============================] - 3s 230ms/step - loss: 0.4021 - accuracy: 0.8310 - val_loss: 1.4379 - val_accuracy: 0.6852\n",
      "Epoch 8/10\n",
      "14/14 [==============================] - 3s 230ms/step - loss: 0.3525 - accuracy: 0.8643 - val_loss: 1.6391 - val_accuracy: 0.6296\n",
      "Epoch 9/10\n",
      "14/14 [==============================] - 3s 225ms/step - loss: 0.3098 - accuracy: 0.8714 - val_loss: 1.2595 - val_accuracy: 0.7593\n",
      "Epoch 10/10\n",
      "14/14 [==============================] - 3s 226ms/step - loss: 0.2849 - accuracy: 0.8929 - val_loss: 1.4959 - val_accuracy: 0.5185\n"
     ]
    }
   ],
   "source": [
    "%time\n",
    "history1=model.fit(X_train, y_train,validation_data=(X_test, y_test),verbose = 1,epochs = epoch1,callbacks=callbacks1)"
   ]
  },
  {
   "cell_type": "code",
   "execution_count": 19,
   "id": "b941ecc9",
   "metadata": {
    "execution": {
     "iopub.execute_input": "2022-05-18T16:43:08.523865Z",
     "iopub.status.busy": "2022-05-18T16:43:08.522922Z",
     "iopub.status.idle": "2022-05-18T16:43:14.160069Z",
     "shell.execute_reply": "2022-05-18T16:43:14.159368Z"
    },
    "papermill": {
     "duration": 5.737729,
     "end_time": "2022-05-18T16:43:14.162053",
     "exception": false,
     "start_time": "2022-05-18T16:43:08.424324",
     "status": "completed"
    },
    "tags": []
   },
   "outputs": [
    {
     "name": "stderr",
     "output_type": "stream",
     "text": [
      "2022-05-18 16:43:13.275734: W tensorflow/core/common_runtime/bfc_allocator.cc:272] Allocator (GPU_0_bfc) ran out of memory trying to allocate 3.46GiB with freed_by_count=0. The caller indicates that this is not a failure, but may mean that there could be performance gains if more memory were available.\n"
     ]
    },
    {
     "name": "stdout",
     "output_type": "stream",
     "text": [
      "Train accuracy Score------------>\n",
      "75.476 %\n",
      "Val accuracy Score--------->\n",
      "53.175 %\n",
      "Test accuracy Score--------->\n",
      "51.852 %\n",
      "F1 Score--------------->\n",
      "51.786 %\n",
      "Cohen Kappa Score------------->\n",
      "3.704 %\n",
      "Recall-------------->\n",
      "51.852 %\n",
      "Precision-------------->\n",
      "51.862 %\n"
     ]
    },
    {
     "data": {
      "image/png": "[encoded data removed]",
      "text/plain": [
       "<Figure size 864x432 with 4 Axes>"
      ]
     },
     "metadata": {
      "needs_background": "light"
     },
     "output_type": "display_data"
    }
   ],
   "source": [
    "#MODEL_PATH = './test_model.hdf5'\n",
    "#from keras.models import load_model\n",
    "##best_model = load_model('./test_model.h5')\n",
    "#init_model = load_model('./init_model.h5', compile=False)\n",
    "#best_model = load_model(\"./test_model.h5\", custom_objects={'focal_loss_fixed': focal_loss()})\n",
    "get_accuracy_metrics(model,  X_train, y_train, X_val, y_val, X_test, y_test)"
   ]
  },
  {
   "cell_type": "markdown",
   "id": "70e4fd44",
   "metadata": {
    "papermill": {
     "duration": 0.099778,
     "end_time": "2022-05-18T16:43:14.360902",
     "exception": false,
     "start_time": "2022-05-18T16:43:14.261124",
     "status": "completed"
    },
    "tags": []
   },
   "source": [
    "plot training history"
   ]
  },
  {
   "cell_type": "code",
   "execution_count": 20,
   "id": "edb0044c",
   "metadata": {
    "execution": {
     "iopub.execute_input": "2022-05-18T16:43:14.563715Z",
     "iopub.status.busy": "2022-05-18T16:43:14.562984Z",
     "iopub.status.idle": "2022-05-18T16:43:14.868724Z",
     "shell.execute_reply": "2022-05-18T16:43:14.868027Z"
    },
    "papermill": {
     "duration": 0.410228,
     "end_time": "2022-05-18T16:43:14.870786",
     "exception": false,
     "start_time": "2022-05-18T16:43:14.460558",
     "status": "completed"
    },
    "tags": []
   },
   "outputs": [
    {
     "data": {
      "image/png": "[encoded data removed]",
      "text/plain": [
       "<Figure size 864x432 with 2 Axes>"
      ]
     },
     "metadata": {
      "needs_background": "light"
     },
     "output_type": "display_data"
    }
   ],
   "source": [
    "import matplotlib.pyplot as plt\n",
    "import seaborn as sns\n",
    "plt.figure(figsize = (12, 6))\n",
    "plt.subplot(121)\n",
    "#plotting the Accuracy of test and training sets\n",
    "plt.plot(history1.history['accuracy'])\n",
    "plt.plot(history1.history['val_accuracy'])\n",
    "plt.title('1st training Model Accuracy')\n",
    "plt.ylabel('accuracy')\n",
    "plt.xlabel('epoch')\n",
    "plt.legend(['train', 'test'], loc='upper left')\n",
    "\n",
    "plt.subplot(122)\n",
    "#plotting the loss of test and training sets\n",
    "plt.plot(history1.history['loss'])\n",
    "plt.plot(history1.history['val_loss'])\n",
    "plt.title('1st training Model Loss')\n",
    "plt.ylabel('loss')\n",
    "plt.xlabel('epoch')\n",
    "plt.legend(['train', 'test'], loc='upper left')\n",
    "plt.show()\n"
   ]
  },
  {
   "cell_type": "markdown",
   "id": "281102e2",
   "metadata": {
    "papermill": {
     "duration": 0.102692,
     "end_time": "2022-05-18T16:43:15.075541",
     "exception": false,
     "start_time": "2022-05-18T16:43:14.972849",
     "status": "completed"
    },
    "tags": []
   },
   "source": [
    "plot confusion report"
   ]
  },
  {
   "cell_type": "code",
   "execution_count": 21,
   "id": "2f625257",
   "metadata": {
    "execution": {
     "iopub.execute_input": "2022-05-18T16:43:15.281510Z",
     "iopub.status.busy": "2022-05-18T16:43:15.280788Z",
     "iopub.status.idle": "2022-05-18T16:43:16.182183Z",
     "shell.execute_reply": "2022-05-18T16:43:16.181525Z"
    },
    "papermill": {
     "duration": 1.005321,
     "end_time": "2022-05-18T16:43:16.184240",
     "exception": false,
     "start_time": "2022-05-18T16:43:15.178919",
     "status": "completed"
    },
    "tags": []
   },
   "outputs": [
    {
     "data": {
      "image/png": "[encoded data removed]",
      "text/plain": [
       "<Figure size 576x576 with 2 Axes>"
      ]
     },
     "metadata": {
      "needs_background": "light"
     },
     "output_type": "display_data"
    }
   ],
   "source": [
    "from sklearn.metrics import confusion_matrix\n",
    "import seaborn as sns\n",
    "\n",
    "Y_pred = model.predict(X_val)\n",
    "Y_pred_classes = np.argmax(Y_pred,axis = 1) \n",
    "Y_true = np.argmax(y_val,axis = 1) \n",
    "\n",
    "confusion_mtx = confusion_matrix(Y_true, Y_pred_classes) \n",
    "\n",
    "f,ax = plt.subplots(figsize=(8, 8))\n",
    "sns.heatmap(confusion_mtx, annot=True, linewidths=0.01,cmap=\"OrRd\",linecolor=\"black\", fmt= '.1f',ax=ax)\n",
    "plt.xlabel(\"Predicted Label\")\n",
    "plt.ylabel(\"True Label\")\n",
    "plt.title(\"Confusion Matrix\")\n",
    "plt.show()"
   ]
  },
  {
   "cell_type": "code",
   "execution_count": 22,
   "id": "03f0b5da",
   "metadata": {
    "execution": {
     "iopub.execute_input": "2022-05-18T16:43:16.388617Z",
     "iopub.status.busy": "2022-05-18T16:43:16.388173Z",
     "iopub.status.idle": "2022-05-18T16:43:16.397375Z",
     "shell.execute_reply": "2022-05-18T16:43:16.396582Z"
    },
    "papermill": {
     "duration": 0.114958,
     "end_time": "2022-05-18T16:43:16.400518",
     "exception": false,
     "start_time": "2022-05-18T16:43:16.285560",
     "status": "completed"
    },
    "tags": []
   },
   "outputs": [
    {
     "name": "stdout",
     "output_type": "stream",
     "text": [
      "              precision    recall  f1-score   support\n",
      "\n",
      "           0       0.54      0.41      0.47        63\n",
      "           1       0.53      0.65      0.58        63\n",
      "\n",
      "    accuracy                           0.53       126\n",
      "   macro avg       0.53      0.53      0.53       126\n",
      "weighted avg       0.53      0.53      0.53       126\n",
      "\n"
     ]
    }
   ],
   "source": [
    "from sklearn.metrics import classification_report\n",
    "\n",
    "print(classification_report(Y_true, Y_pred_classes))"
   ]
  },
  {
   "cell_type": "markdown",
   "id": "add681d3",
   "metadata": {
    "papermill": {
     "duration": 0.101666,
     "end_time": "2022-05-18T16:43:16.606978",
     "exception": false,
     "start_time": "2022-05-18T16:43:16.505312",
     "status": "completed"
    },
    "tags": []
   },
   "source": [
    "# second train: Fine Tune"
   ]
  },
  {
   "cell_type": "code",
   "execution_count": 23,
   "id": "613f95e5",
   "metadata": {
    "execution": {
     "iopub.execute_input": "2022-05-18T16:43:16.812375Z",
     "iopub.status.busy": "2022-05-18T16:43:16.811827Z",
     "iopub.status.idle": "2022-05-18T16:48:38.990333Z",
     "shell.execute_reply": "2022-05-18T16:48:38.988187Z"
    },
    "papermill": {
     "duration": 322.283988,
     "end_time": "2022-05-18T16:48:38.992897",
     "exception": false,
     "start_time": "2022-05-18T16:43:16.708909",
     "status": "completed"
    },
    "tags": []
   },
   "outputs": [
    {
     "name": "stdout",
     "output_type": "stream",
     "text": [
      "Epoch 1/3\n",
      "14/14 [==============================] - 3s 228ms/step - loss: 0.4562 - accuracy: 0.8548 - val_loss: 1.4722 - val_accuracy: 0.7037\n",
      "Epoch 2/3\n",
      "14/14 [==============================] - 3s 225ms/step - loss: 0.2923 - accuracy: 0.8952 - val_loss: 1.2995 - val_accuracy: 0.5926\n",
      "Epoch 3/3\n",
      "14/14 [==============================] - 3s 241ms/step - loss: 0.2754 - accuracy: 0.8976 - val_loss: 1.3720 - val_accuracy: 0.7037\n"
     ]
    }
   ],
   "source": [
    "for model1 in model.layers:\n",
    "    model1.trainable = True\n",
    "callbacks2 = [EarlyStopping(monitor='val_loss', patience=5, verbose=1), ModelCheckpoint('test_model.h5', save_best_only=True)]\n",
    "history2=model.fit(X_train, y_train,validation_data=(X_test, y_test),verbose = 1,epochs = epoch2,callbacks=callbacks2)"
   ]
  },
  {
   "cell_type": "code",
   "execution_count": 24,
   "id": "d8a9776e",
   "metadata": {
    "execution": {
     "iopub.execute_input": "2022-05-18T16:48:39.245440Z",
     "iopub.status.busy": "2022-05-18T16:48:39.244012Z",
     "iopub.status.idle": "2022-05-18T16:48:43.544956Z",
     "shell.execute_reply": "2022-05-18T16:48:43.544267Z"
    },
    "papermill": {
     "duration": 4.432993,
     "end_time": "2022-05-18T16:48:43.546884",
     "exception": false,
     "start_time": "2022-05-18T16:48:39.113891",
     "status": "completed"
    },
    "tags": []
   },
   "outputs": [
    {
     "name": "stdout",
     "output_type": "stream",
     "text": [
      "Train accuracy Score------------>\n",
      "93.571 %\n",
      "Val accuracy Score--------->\n",
      "76.190 %\n",
      "Test accuracy Score--------->\n",
      "70.370 %\n",
      "F1 Score--------------->\n",
      "70.207 %\n",
      "Cohen Kappa Score------------->\n",
      "40.741 %\n",
      "Recall-------------->\n",
      "70.370 %\n",
      "Precision-------------->\n",
      "70.827 %\n"
     ]
    },
    {
     "data": {
      "image/png": "[encoded data removed]",
      "text/plain": [
       "<Figure size 864x432 with 4 Axes>"
      ]
     },
     "metadata": {
      "needs_background": "light"
     },
     "output_type": "display_data"
    }
   ],
   "source": [
    "#MODEL_PATH = './test_model.hdf5'\n",
    "#from keras.models import load_model\n",
    "#best_model = load_model('./test_model.h5')\n",
    "#best_model = load_model('./test_model.h5', compile=False)\n",
    "#best_model = load_model(\"./test_model.h5\", custom_objects={'focal_loss_fixed': focal_loss()})\n",
    "get_accuracy_metrics(model,  X_train, y_train, X_val, y_val, X_test, y_test)"
   ]
  },
  {
   "cell_type": "markdown",
   "id": "6600fcd5",
   "metadata": {
    "papermill": {
     "duration": 0.123722,
     "end_time": "2022-05-18T16:48:43.790988",
     "exception": false,
     "start_time": "2022-05-18T16:48:43.667266",
     "status": "completed"
    },
    "tags": []
   },
   "source": [
    "plot training history"
   ]
  },
  {
   "cell_type": "code",
   "execution_count": 25,
   "id": "fbdf232e",
   "metadata": {
    "execution": {
     "iopub.execute_input": "2022-05-18T16:48:44.032296Z",
     "iopub.status.busy": "2022-05-18T16:48:44.031571Z",
     "iopub.status.idle": "2022-05-18T16:48:44.347413Z",
     "shell.execute_reply": "2022-05-18T16:48:44.346707Z"
    },
    "papermill": {
     "duration": 0.438968,
     "end_time": "2022-05-18T16:48:44.349615",
     "exception": false,
     "start_time": "2022-05-18T16:48:43.910647",
     "status": "completed"
    },
    "tags": []
   },
   "outputs": [
    {
     "data": {
      "image/png": "[encoded data removed]",
      "text/plain": [
       "<Figure size 864x432 with 2 Axes>"
      ]
     },
     "metadata": {
      "needs_background": "light"
     },
     "output_type": "display_data"
    }
   ],
   "source": [
    "import matplotlib.pyplot as plt\n",
    "import seaborn as sns\n",
    "plt.figure(figsize = (12, 6))\n",
    "plt.subplot(121)\n",
    "#plotting the Accuracy of test and training sets\n",
    "plt.plot(history2.history['accuracy'])\n",
    "plt.plot(history2.history['val_accuracy'])\n",
    "plt.title('2nd training Model Accuracy')\n",
    "plt.ylabel('accuracy')\n",
    "plt.xlabel('epoch')\n",
    "plt.legend(['train', 'test'], loc='upper left')\n",
    "\n",
    "plt.subplot(122)\n",
    "#plotting the loss of test and training sets\n",
    "plt.plot(history2.history['loss'])\n",
    "plt.plot(history2.history['val_loss'])\n",
    "plt.title('2nd training Model Loss')\n",
    "plt.ylabel('loss')\n",
    "plt.xlabel('epoch')\n",
    "plt.legend(['train', 'test'], loc='upper left')\n",
    "plt.show()\n",
    "\n"
   ]
  },
  {
   "cell_type": "markdown",
   "id": "ba182a99",
   "metadata": {
    "papermill": {
     "duration": 0.121113,
     "end_time": "2022-05-18T16:48:44.591450",
     "exception": false,
     "start_time": "2022-05-18T16:48:44.470337",
     "status": "completed"
    },
    "tags": []
   },
   "source": [
    "plot confusion report"
   ]
  },
  {
   "cell_type": "code",
   "execution_count": 26,
   "id": "c9a862bc",
   "metadata": {
    "execution": {
     "iopub.execute_input": "2022-05-18T16:48:44.834488Z",
     "iopub.status.busy": "2022-05-18T16:48:44.834224Z",
     "iopub.status.idle": "2022-05-18T16:48:45.719221Z",
     "shell.execute_reply": "2022-05-18T16:48:45.718507Z"
    },
    "papermill": {
     "duration": 1.00768,
     "end_time": "2022-05-18T16:48:45.721274",
     "exception": false,
     "start_time": "2022-05-18T16:48:44.713594",
     "status": "completed"
    },
    "tags": []
   },
   "outputs": [
    {
     "data": {
      "image/png": "[encoded data removed]",
      "text/plain": [
       "<Figure size 576x576 with 2 Axes>"
      ]
     },
     "metadata": {
      "needs_background": "light"
     },
     "output_type": "display_data"
    }
   ],
   "source": [
    "Y_pred = model.predict(X_val)\n",
    "Y_pred_classes = np.argmax(Y_pred,axis = 1) \n",
    "Y_true = np.argmax(y_val,axis = 1) \n",
    "\n",
    "confusion_mtx = confusion_matrix(Y_true, Y_pred_classes) \n",
    "\n",
    "f,ax = plt.subplots(figsize=(8, 8))\n",
    "sns.heatmap(confusion_mtx, annot=True, linewidths=0.01,cmap=\"OrRd\",linecolor=\"black\", fmt= '.1f',ax=ax)\n",
    "plt.xlabel(\"Predicted Label\")\n",
    "plt.ylabel(\"True Label\")\n",
    "plt.title(\"Confusion Matrix\")\n",
    "plt.show()"
   ]
  },
  {
   "cell_type": "code",
   "execution_count": 27,
   "id": "795b187d",
   "metadata": {
    "execution": {
     "iopub.execute_input": "2022-05-18T16:48:45.963184Z",
     "iopub.status.busy": "2022-05-18T16:48:45.962431Z",
     "iopub.status.idle": "2022-05-18T16:48:45.973185Z",
     "shell.execute_reply": "2022-05-18T16:48:45.971924Z"
    },
    "papermill": {
     "duration": 0.133901,
     "end_time": "2022-05-18T16:48:45.975620",
     "exception": false,
     "start_time": "2022-05-18T16:48:45.841719",
     "status": "completed"
    },
    "tags": []
   },
   "outputs": [
    {
     "name": "stdout",
     "output_type": "stream",
     "text": [
      "              precision    recall  f1-score   support\n",
      "\n",
      "           0       0.71      0.89      0.79        63\n",
      "           1       0.85      0.63      0.73        63\n",
      "\n",
      "    accuracy                           0.76       126\n",
      "   macro avg       0.78      0.76      0.76       126\n",
      "weighted avg       0.78      0.76      0.76       126\n",
      "\n"
     ]
    }
   ],
   "source": [
    "from sklearn.metrics import classification_report\n",
    "\n",
    "print(classification_report(Y_true, Y_pred_classes))"
   ]
  },
  {
   "cell_type": "markdown",
   "id": "77957cbc",
   "metadata": {
    "papermill": {
     "duration": 0.120236,
     "end_time": "2022-05-18T16:48:46.217110",
     "exception": false,
     "start_time": "2022-05-18T16:48:46.096874",
     "status": "completed"
    },
    "tags": []
   },
   "source": []
  },
  {
   "cell_type": "code",
   "execution_count": 28,
   "id": "d8db9d16",
   "metadata": {
    "execution": {
     "iopub.execute_input": "2022-05-18T16:48:46.457104Z",
     "iopub.status.busy": "2022-05-18T16:48:46.456620Z",
     "iopub.status.idle": "2022-05-18T16:48:46.464419Z",
     "shell.execute_reply": "2022-05-18T16:48:46.463742Z"
    },
    "papermill": {
     "duration": 0.13207,
     "end_time": "2022-05-18T16:48:46.467296",
     "exception": false,
     "start_time": "2022-05-18T16:48:46.335226",
     "status": "completed"
    },
    "tags": []
   },
   "outputs": [
    {
     "name": "stdout",
     "output_type": "stream",
     "text": [
      "/kaggle/working\n"
     ]
    },
    {
     "data": {
      "text/html": [
       "Path (<tt>model.hdf5</tt>) doesn't exist. It may still be in the process of being generated, or you may have the incorrect path."
      ],
      "text/plain": [
       "/kaggle/working/model.hdf5"
      ]
     },
     "execution_count": 28,
     "metadata": {},
     "output_type": "execute_result"
    }
   ],
   "source": [
    "%cd /kaggle/working\n",
    "from IPython.display import FileLink\n",
    "FileLink('model.hdf5')"
   ]
  },
  {
   "cell_type": "code",
   "execution_count": null,
   "id": "87964b00",
   "metadata": {
    "execution": {
     "iopub.execute_input": "2022-05-15T23:30:18.954666Z",
     "iopub.status.busy": "2022-05-15T23:30:18.954168Z",
     "iopub.status.idle": "2022-05-15T23:30:18.969708Z",
     "shell.execute_reply": "2022-05-15T23:30:18.968654Z",
     "shell.execute_reply.started": "2022-05-15T23:30:18.954628Z"
    },
    "papermill": {
     "duration": 0.120441,
     "end_time": "2022-05-18T16:48:46.707045",
     "exception": false,
     "start_time": "2022-05-18T16:48:46.586604",
     "status": "completed"
    },
    "tags": []
   },
   "outputs": [],
   "source": []
  },
  {
   "cell_type": "code",
   "execution_count": null,
   "id": "38130a08",
   "metadata": {
    "execution": {
     "iopub.execute_input": "2022-05-15T23:30:22.177825Z",
     "iopub.status.busy": "2022-05-15T23:30:22.177496Z",
     "iopub.status.idle": "2022-05-15T23:31:10.029631Z",
     "shell.execute_reply": "2022-05-15T23:31:10.028641Z",
     "shell.execute_reply.started": "2022-05-15T23:30:22.177789Z"
    },
    "papermill": {
     "duration": 0.121124,
     "end_time": "2022-05-18T16:48:46.947795",
     "exception": false,
     "start_time": "2022-05-18T16:48:46.826671",
     "status": "completed"
    },
    "tags": []
   },
   "outputs": [],
   "source": []
  },
  {
   "cell_type": "code",
   "execution_count": null,
   "id": "f7d108c2",
   "metadata": {
    "execution": {
     "iopub.execute_input": "2022-05-15T23:31:15.676043Z",
     "iopub.status.busy": "2022-05-15T23:31:15.675717Z",
     "iopub.status.idle": "2022-05-15T23:32:34.061816Z",
     "shell.execute_reply": "2022-05-15T23:32:34.061153Z",
     "shell.execute_reply.started": "2022-05-15T23:31:15.676006Z"
    },
    "papermill": {
     "duration": 0.121569,
     "end_time": "2022-05-18T16:48:47.190018",
     "exception": false,
     "start_time": "2022-05-18T16:48:47.068449",
     "status": "completed"
    },
    "tags": []
   },
   "outputs": [],
   "source": []
  }
 ],
 "metadata": {
  "kernelspec": {
   "display_name": "Python 3",
   "language": "python",
   "name": "python3"
  },
  "language_info": {
   "codemirror_mode": {
    "name": "ipython",
    "version": 3
   },
   "file_extension": ".py",
   "mimetype": "text/x-python",
   "name": "python",
   "nbconvert_exporter": "python",
   "pygments_lexer": "ipython3",
   "version": "3.7.12"
  },
  "papermill": {
   "default_parameters": {},
   "duration": 1426.495595,
   "end_time": "2022-05-18T16:48:50.233032",
   "environment_variables": {},
   "exception": null,
   "input_path": "__notebook__.ipynb",
   "output_path": "__notebook__.ipynb",
   "parameters": {},
   "start_time": "2022-05-18T16:25:03.737437",
   "version": "2.3.4"
  }
 },
 "nbformat": 4,
 "nbformat_minor": 5
}
