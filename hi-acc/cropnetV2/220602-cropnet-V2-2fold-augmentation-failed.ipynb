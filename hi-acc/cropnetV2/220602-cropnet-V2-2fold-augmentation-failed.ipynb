{
 "cells": [
  {
   "cell_type": "code",
   "execution_count": 1,
   "id": "6bfa3dc1",
   "metadata": {
    "execution": {
     "iopub.execute_input": "2022-06-02T23:25:15.265165Z",
     "iopub.status.busy": "2022-06-02T23:25:15.263955Z",
     "iopub.status.idle": "2022-06-02T23:25:24.648235Z",
     "shell.execute_reply": "2022-06-02T23:25:24.647239Z"
    },
    "papermill": {
     "duration": 9.435316,
     "end_time": "2022-06-02T23:25:24.651215",
     "exception": false,
     "start_time": "2022-06-02T23:25:15.215899",
     "status": "completed"
    },
    "tags": []
   },
   "outputs": [],
   "source": [
    "#shutil.rmtree('./data')\n",
    "import tensorflow as tf\n",
    "from keras import backend as K\n",
    "from keras import optimizers\n",
    "from tensorflow.keras.optimizers import Adam\n",
    "#import keras.backend.tensorflow_backend as KTF\n",
    "from tensorflow.python.keras.backend import get_session\n",
    "import glob\n",
    "from keras.layers import Input,Dense,Dropout,BatchNormalization,Conv2D,MaxPooling2D,AveragePooling2D,concatenate,Activation,ZeroPadding2D\n",
    "import cv2\n",
    "import numpy as np\n",
    "import pandas as pd\n",
    "import keras as kr\n",
    "from keras.models import load_model\n",
    "from keras.layers import Activation, Dense\n",
    "from matplotlib import pyplot as plt\n",
    "from skimage import io,data\n",
    "import time\n",
    "#from keras import layers\n",
    "#from keras.callbacks import TensorBoard, ModelCheckpoint\n",
    "from tensorflow import keras \n",
    "from tensorflow.python.keras.callbacks import TensorBoard, ModelCheckpoint\n",
    "from keras.preprocessing.image import ImageDataGenerator\n",
    "from sklearn import svm\n",
    "from sklearn.ensemble import RandomForestClassifier"
   ]
  },
  {
   "cell_type": "markdown",
   "id": "105a4d58",
   "metadata": {
    "papermill": {
     "duration": 0.043186,
     "end_time": "2022-06-02T23:25:24.739347",
     "exception": false,
     "start_time": "2022-06-02T23:25:24.696161",
     "status": "completed"
    },
    "tags": []
   },
   "source": [
    "# Run of Cropnet new attention model applying on breast cancer dataset\n",
    "dataset: Breast Histopathology Images. \n",
    "https://www.kaggle.com/datasets/paultimothymooney/breast-histopathology-images?datasetId=7415. \n",
    "Model: A 2nd version of light attention model designed for crop disease identification. \n",
    "from paper: \n",
    "Automatic identification of commodity label images using lightweight attention network, \n",
    "from Group of Prof Defu Zhang @ Xiamen University. DOI:doi.org/10.1007/s00521-021-06081-9"
   ]
  },
  {
   "cell_type": "code",
   "execution_count": 2,
   "id": "4ef78cbe",
   "metadata": {
    "execution": {
     "iopub.execute_input": "2022-06-02T23:25:24.829181Z",
     "iopub.status.busy": "2022-06-02T23:25:24.828581Z",
     "iopub.status.idle": "2022-06-02T23:25:24.834062Z",
     "shell.execute_reply": "2022-06-02T23:25:24.833361Z"
    },
    "papermill": {
     "duration": 0.052063,
     "end_time": "2022-06-02T23:25:24.836475",
     "exception": false,
     "start_time": "2022-06-02T23:25:24.784412",
     "status": "completed"
    },
    "tags": []
   },
   "outputs": [],
   "source": [
    "##在kaggle中建立工作目录\n",
    "import os\n",
    "os.makedirs('../working/data/train_seg/idc-minus/')     \n",
    "os.makedirs('../working/data/train_seg/idc-plus/')  \n",
    "os.makedirs('../working/data/test_seg/idc-minus/')     \n",
    "os.makedirs('../working/data/test_seg/idc-plus/')  \n",
    "os.makedirs('../working/data/val_seg/idc-minus/')     \n",
    "os.makedirs('../working/data/val_seg/idc-plus/')  \n"
   ]
  },
  {
   "cell_type": "code",
   "execution_count": 3,
   "id": "e4664a9f",
   "metadata": {
    "execution": {
     "iopub.execute_input": "2022-06-02T23:25:24.927294Z",
     "iopub.status.busy": "2022-06-02T23:25:24.926675Z",
     "iopub.status.idle": "2022-06-02T23:25:24.930874Z",
     "shell.execute_reply": "2022-06-02T23:25:24.930176Z"
    },
    "papermill": {
     "duration": 0.05194,
     "end_time": "2022-06-02T23:25:24.932954",
     "exception": false,
     "start_time": "2022-06-02T23:25:24.881014",
     "status": "completed"
    },
    "tags": []
   },
   "outputs": [],
   "source": [
    "##全局变量声明\n",
    "sampling_seed=0\n",
    "size_4_training=78786\n",
    "img_x=50\n",
    "epoch_4_test=40\n",
    "n_of_classes=2\n",
    "\n",
    "#training_reshape=(-1, img_size, img_size, 3)"
   ]
  },
  {
   "cell_type": "code",
   "execution_count": 4,
   "id": "247323f2",
   "metadata": {
    "execution": {
     "iopub.execute_input": "2022-06-02T23:25:25.020787Z",
     "iopub.status.busy": "2022-06-02T23:25:25.020183Z",
     "iopub.status.idle": "2022-06-02T23:37:13.962987Z",
     "shell.execute_reply": "2022-06-02T23:37:13.961161Z"
    },
    "papermill": {
     "duration": 708.992969,
     "end_time": "2022-06-02T23:37:13.969022",
     "exception": false,
     "start_time": "2022-06-02T23:25:24.976053",
     "status": "completed"
    },
    "tags": []
   },
   "outputs": [
    {
     "name": "stdout",
     "output_type": "stream",
     "text": [
      "['../input/breast-histopathology-images/IDC_regular_ps50_idx5/10295/0/10295_idx5_x1351_y1101_class0.png', '../input/breast-histopathology-images/IDC_regular_ps50_idx5/10295/0/10295_idx5_x1501_y501_class0.png', '../input/breast-histopathology-images/IDC_regular_ps50_idx5/10295/0/10295_idx5_x1501_y1101_class0.png', '../input/breast-histopathology-images/IDC_regular_ps50_idx5/10295/0/10295_idx5_x451_y901_class0.png', '../input/breast-histopathology-images/IDC_regular_ps50_idx5/10295/0/10295_idx5_x801_y451_class0.png', '../input/breast-histopathology-images/IDC_regular_ps50_idx5/10295/0/10295_idx5_x151_y1051_class0.png', '../input/breast-histopathology-images/IDC_regular_ps50_idx5/10295/0/10295_idx5_x1351_y901_class0.png', '../input/breast-histopathology-images/IDC_regular_ps50_idx5/10295/0/10295_idx5_x701_y651_class0.png', '../input/breast-histopathology-images/IDC_regular_ps50_idx5/10295/0/10295_idx5_x951_y1401_class0.png', '../input/breast-histopathology-images/IDC_regular_ps50_idx5/10295/0/10295_idx5_x601_y501_class0.png']\n",
      "55150\n",
      "16545\n",
      "7091\n",
      "55150\n",
      "16545\n",
      "7091\n"
     ]
    }
   ],
   "source": [
    "import random\n",
    "from sklearn.model_selection import train_test_split\n",
    "\n",
    "import shutil\n",
    "from glob import glob \n",
    "#make directory for labelling\n",
    "\n",
    "train_dir='../working/data/train_seg/'\n",
    "validation_dir='../working/data/val_seg/'\n",
    "#train_dir='../working/data/train_seg/'  \n",
    "#test_dir = '../working/data/test_seg/normal'  \n",
    "test_dir = '../working/data/test_seg/'  \n",
    "\n",
    "class0 = [] # 0 = idc+\n",
    "class1 = [] # 1 = idc-\n",
    "imagePatches = glob('../input/breast-histopathology-images/IDC_regular_ps50_idx5/**/*.png', recursive=True)\n",
    "for filename in imagePatches:\n",
    "    if filename.endswith(\"class0.png\"):\n",
    "         class0.append(filename)\n",
    "    else:\n",
    "        class1.append(filename)\n",
    "\n",
    "print(class0[0:10])\n",
    "\n",
    "#sampling 10000 images from class 0 and class 1 to train the model\n",
    "##从每类文件名列表中抽样\n",
    "random.seed(sampling_seed)\n",
    "class0sample=random.sample(class0,size_4_training)\n",
    "class0label=np.zeros(size_4_training)\n",
    "class1sample=random.sample(class1,size_4_training)\n",
    "class1label=np.ones(size_4_training)\n",
    "##从每类样本列表中分割train-val-test\n",
    "class0sample_train, class0sample_test1, class0label_train, class0label_test1 = train_test_split(class0sample, class0label, test_size=0.3, random_state=42)\n",
    "class0sample_test,class0sample_val,  class0label_test, class0label_val = train_test_split(class0sample_test1, class0label_test1, test_size=0.3, random_state=42)\n",
    "print(len(class0sample_train))\n",
    "print(len(class0sample_test))\n",
    "print(len(class0sample_val))\n",
    "class1sample_train, class1sample_test1, class1label_train, class1label_test1 = train_test_split(class1sample, class1label, test_size=0.3, random_state=42)\n",
    "class1sample_test, class1sample_val, class1label_test, class1label_val = train_test_split(class1sample_test1, class1label_test1, test_size=0.3, random_state=42)\n",
    "print(len(class1sample_train))\n",
    "print(len(class1sample_test))\n",
    "print(len(class1sample_val))\n",
    "##函数功能：将之前文件列表中的文件复制到指定工作目录中\n",
    "def read_and_save_data(path, file_name_array):\n",
    "    j=0\n",
    "    for i in file_name_array:\n",
    "        if i.endswith('.png'):\n",
    "          \n",
    "            \n",
    "            #second copy method\n",
    "            head, tail = os.path.split(i)\n",
    "            outputname=str(path+tail)\n",
    "            #outputname=str(path+str(j)+'.png')\n",
    "            #print(outputname)\n",
    "            shutil.copy(i, outputname)\n",
    "   \n",
    "            #print(status2)\n",
    "            \n",
    "            j=j+1\n",
    "            if j==120000:\n",
    "                break\n",
    "            \n",
    "##分别按照每类，train， validation， test保存样本   \n",
    "class0train_path='../working/data/train_seg/idc-minus/'\n",
    "class1train_path='../working/data/train_seg/idc-plus/'\n",
    "class0test_path='../working/data/test_seg/idc-minus/'\n",
    "class1test_path='../working/data/test_seg/idc-plus/'\n",
    "class0val_path='../working/data/val_seg/idc-minus/'\n",
    "class1val_path='../working/data/val_seg/idc-plus/'\n",
    "\n",
    "read_and_save_data(class0train_path,class0sample_train)\n",
    "read_and_save_data(class1train_path,class1sample_train)\n",
    "\n",
    "\n",
    "read_and_save_data(class0test_path,class0sample_test)\n",
    "read_and_save_data(class1test_path,class1sample_test)\n",
    "\n",
    "\n",
    "read_and_save_data(class0val_path,class0sample_val)\n",
    "read_and_save_data(class1val_path,class1sample_val)\n",
    "##print输出包含两类train，valid，test的大小和每次转存的文件用于检查"
   ]
  },
  {
   "cell_type": "code",
   "execution_count": 5,
   "id": "913e423f",
   "metadata": {
    "execution": {
     "iopub.execute_input": "2022-06-02T23:37:14.070230Z",
     "iopub.status.busy": "2022-06-02T23:37:14.069867Z",
     "iopub.status.idle": "2022-06-02T23:37:14.075159Z",
     "shell.execute_reply": "2022-06-02T23:37:14.074354Z"
    },
    "papermill": {
     "duration": 0.054779,
     "end_time": "2022-06-02T23:37:14.077629",
     "exception": false,
     "start_time": "2022-06-02T23:37:14.022850",
     "status": "completed"
    },
    "tags": []
   },
   "outputs": [],
   "source": [
    "#shutil.rmtree('./data')"
   ]
  },
  {
   "cell_type": "markdown",
   "id": "697170de",
   "metadata": {
    "papermill": {
     "duration": 0.044886,
     "end_time": "2022-06-02T23:37:14.167435",
     "exception": false,
     "start_time": "2022-06-02T23:37:14.122549",
     "status": "completed"
    },
    "tags": []
   },
   "source": []
  },
  {
   "cell_type": "markdown",
   "id": "3e4dd2bb",
   "metadata": {
    "papermill": {
     "duration": 0.043122,
     "end_time": "2022-06-02T23:37:14.255602",
     "exception": false,
     "start_time": "2022-06-02T23:37:14.212480",
     "status": "completed"
    },
    "tags": []
   },
   "source": [
    "**load gen**"
   ]
  },
  {
   "cell_type": "code",
   "execution_count": 6,
   "id": "9d5ef1ff",
   "metadata": {
    "execution": {
     "iopub.execute_input": "2022-06-02T23:37:14.344066Z",
     "iopub.status.busy": "2022-06-02T23:37:14.343630Z",
     "iopub.status.idle": "2022-06-02T23:37:14.349548Z",
     "shell.execute_reply": "2022-06-02T23:37:14.348489Z"
    },
    "papermill": {
     "duration": 0.053059,
     "end_time": "2022-06-02T23:37:14.352024",
     "exception": false,
     "start_time": "2022-06-02T23:37:14.298965",
     "status": "completed"
    },
    "tags": []
   },
   "outputs": [],
   "source": [
    "\n",
    "import os #Operating System\n",
    "import sys #System\n",
    "# train_generator = train_datagen.flow(x_train, y_train, batch_size =)\n",
    "# val_generator = val_datagen.flow(x_val, y_val, batch_size = 64)\n",
    "# test_generator=test_datagen.flow(x_test,y_test,batch_size = 64)"
   ]
  },
  {
   "cell_type": "code",
   "execution_count": 7,
   "id": "7640b06b",
   "metadata": {
    "execution": {
     "iopub.execute_input": "2022-06-02T23:37:14.446116Z",
     "iopub.status.busy": "2022-06-02T23:37:14.445754Z",
     "iopub.status.idle": "2022-06-02T23:37:41.683080Z",
     "shell.execute_reply": "2022-06-02T23:37:41.681831Z"
    },
    "papermill": {
     "duration": 27.286221,
     "end_time": "2022-06-02T23:37:41.685529",
     "exception": false,
     "start_time": "2022-06-02T23:37:14.399308",
     "status": "completed"
    },
    "tags": []
   },
   "outputs": [
    {
     "name": "stdout",
     "output_type": "stream",
     "text": [
      "(110300, 50, 50, 3)\n",
      "(33090, 50, 50, 3)\n",
      "(14182, 50, 50, 3)\n"
     ]
    }
   ],
   "source": [
    "##这个模块（cell）把之前存好的每类train-valid-test文件分别读到np。array里\n",
    "##这个模块在其他模型上进行过测试，也没有问题\n",
    "import os\n",
    "import cv2\n",
    "##函数功能，将指定目录path下的文件读到列表中，并按给定的tag创建\n",
    "#输入path目标目录，tag目录内所有文件的label（目录内全部一致）\n",
    "#输出image_data，进行过resize的图片数据array\n",
    "#输出label，标签列表，列表内每一个数字都是tag，列表大小等于目录内图片数量\n",
    "def readImage(path, tag):\n",
    "    j=0\n",
    "    image_data = []\n",
    "    label=[]\n",
    "    for i in os.listdir(path):\n",
    "        imgname=path+i\n",
    "        #print(imgname)\n",
    "        img = cv2.imread(imgname, cv2.IMREAD_COLOR)\n",
    "        img_resized = cv2.resize(img, (img_x,img_x), interpolation=cv2.INTER_LINEAR)\n",
    "        image_data.append(img_resized)\n",
    "        label.append(tag)\n",
    "        #print(img[1])\n",
    "        j=j+1\n",
    "        #if j==10:\n",
    "        #    break\n",
    "        \n",
    "    return image_data, label\n",
    "\n",
    "import numpy as np\n",
    "from tensorflow.keras.utils import *\n",
    "from sklearn.utils import shuffle\n",
    "\n",
    "class0_train, train0_label = readImage(class0train_path, 0)\n",
    "class1_train, train1_label  = readImage(class1train_path, 1)\n",
    "class0_test, test0_label = readImage(class0test_path, 0)\n",
    "class1_test, test1_label = readImage(class1test_path, 1)\n",
    "class0_val, val0_label = readImage(class0val_path, 0)\n",
    "class1_val, val1_label = readImage(class1val_path, 1)\n",
    "##函数功能，将每类train的图片数据列表和标签列表进行混合并洗牌，或者是validation，或者是test\n",
    "#class0array，class1array，是train（或valid，或test） 中class0，class1的图片数据列表，label0，label1是标签列表，比如说class0是一个（700，224，224，3）的数据array，700就是图片张数，224是xy尺寸，3是三原色对应的通道。label0就是长度为700，每位都是0的array\n",
    "#输出中combined_data, combined_label分别是混合并洗牌后的数据和标签。混合通过np。concatenate，洗牌通过shuffle函数，并且combined_label标签进行了hot-coded二进制转换,通过to_categorical函数实现\n",
    "#函数中包含print检查功能，先显示combined_label的array 的shape，再整个print combined_label，以检查label是否成功二进制化，是否完全平衡\n",
    "#输出label，标签列表，列表内每一个数字都是tag，列表大小等于目录内图片数量\n",
    "def Image_array_process(class0array,label0, class1array, label1):\n",
    "    class0_array=np.array(class0array)\n",
    "    class1_array=np.array(class1array)\n",
    "    combined_data = np.concatenate((class0_array, class1_array))\n",
    "    combined_label= np.concatenate((label0,label1), axis=0)\n",
    "    assert len(combined_data) == len(combined_label)\n",
    "    combined_data, combined_label = shuffle(combined_data, combined_label, random_state=0)\n",
    "    print(combined_data.shape)\n",
    "    length=len(combined_data)\n",
    "    combined_label=to_categorical(combined_label,num_classes=2)\n",
    "    #combined_label=np.array(combined_label,dtype=np.int64)\n",
    "    #combined_data=np.array(combined_data,dtype=np.int64)\n",
    "    i=0\n",
    "    #for i in range(length):\n",
    "    #    print(combined_label[i])\n",
    "\n",
    "    #print\n",
    "\n",
    "    #print(class0_array.shape)\n",
    "    #print(combined_data.shape)\n",
    "    '''\n",
    "    training_reshape=(img_x,img_x,3)\n",
    "    length=len(combined_data)\n",
    "    print(length)\n",
    "    x =[None]*length\n",
    "    #print(img_data.type)\n",
    "    y =np.zeros(length)\n",
    "    i=0\n",
    "   \n",
    "    for features,label in combined_data:\n",
    "        x[i]=features\n",
    "        #print(x.shape)\n",
    "        y[i]=label\n",
    "        #print(y[i])\n",
    "        i=i+1\n",
    "    \n",
    "            #x = np.array(x).reshape(training_reshape)\n",
    "    x = np.array(x)    \n",
    "    #print(x.shape)\n",
    "    #y=np.array(y)\n",
    "    y=y.astype(int)\n",
    "    y = to_categorical(y)\n",
    "    print(y)\n",
    "    '''  \n",
    "    return combined_data, combined_label\n",
    "\n",
    "\n",
    "X_train, y_train=Image_array_process(class0_train, train0_label, class1_train, train1_label)\n",
    "X_test, y_test=Image_array_process(class0_test, test0_label, class1_test, test1_label)\n",
    "X_val, y_val=Image_array_process(class0_val, val0_label, class1_val, val1_label)\n"
   ]
  },
  {
   "cell_type": "code",
   "execution_count": 8,
   "id": "8528d7d1",
   "metadata": {
    "execution": {
     "iopub.execute_input": "2022-06-02T23:37:41.775887Z",
     "iopub.status.busy": "2022-06-02T23:37:41.775576Z",
     "iopub.status.idle": "2022-06-02T23:37:41.780070Z",
     "shell.execute_reply": "2022-06-02T23:37:41.779012Z"
    },
    "papermill": {
     "duration": 0.052408,
     "end_time": "2022-06-02T23:37:41.782545",
     "exception": false,
     "start_time": "2022-06-02T23:37:41.730137",
     "status": "completed"
    },
    "tags": []
   },
   "outputs": [],
   "source": [
    "train_data=X_train\n",
    "train_label=y_train\n",
    "\n",
    "test_data=X_test\n",
    "test_label=y_test\n",
    "\n",
    "val_data=X_val\n",
    "val_label=y_val"
   ]
  },
  {
   "cell_type": "code",
   "execution_count": 9,
   "id": "4f0a8b11",
   "metadata": {
    "execution": {
     "iopub.execute_input": "2022-06-02T23:37:41.872497Z",
     "iopub.status.busy": "2022-06-02T23:37:41.872153Z",
     "iopub.status.idle": "2022-06-02T23:37:41.876804Z",
     "shell.execute_reply": "2022-06-02T23:37:41.875772Z"
    },
    "papermill": {
     "duration": 0.0529,
     "end_time": "2022-06-02T23:37:41.880035",
     "exception": false,
     "start_time": "2022-06-02T23:37:41.827135",
     "status": "completed"
    },
    "tags": []
   },
   "outputs": [
    {
     "name": "stdout",
     "output_type": "stream",
     "text": [
      "110300\n"
     ]
    }
   ],
   "source": [
    "print(len(train_data))"
   ]
  },
  {
   "cell_type": "code",
   "execution_count": 10,
   "id": "bcb6f12e",
   "metadata": {
    "execution": {
     "iopub.execute_input": "2022-06-02T23:37:41.975652Z",
     "iopub.status.busy": "2022-06-02T23:37:41.975235Z",
     "iopub.status.idle": "2022-06-02T23:37:41.985637Z",
     "shell.execute_reply": "2022-06-02T23:37:41.984876Z"
    },
    "papermill": {
     "duration": 0.06215,
     "end_time": "2022-06-02T23:37:41.989347",
     "exception": false,
     "start_time": "2022-06-02T23:37:41.927197",
     "status": "completed"
    },
    "tags": []
   },
   "outputs": [
    {
     "data": {
      "text/plain": [
       "\"\\n\\ntrain_dir='../working/data/train_seg/'  \\n#test_dir = '../working/data/test_seg/idc-minus'  \\ntest_minus_dir = '../working/data/test_seg/idc-minus' \\nimg_size = (img_x, img_x)  \\nepochs = epoch_4_test\\nMODEL_PATH = '../working/log/tst_model.h5'\\nboard_name1 = '../working/log/stage1/' + now + '/'\\nboard_name2 = '../working/log/stage2/' + now + '/'\\n\\n#MODEL_PATH = '../working/log/tst_model.h5'\\n#model.load_weights(MODEL_PATH)\\n# --------------- test ----------------\\ndirs = os.listdir(test_minus_dir)\\n\\nprob_list = []\\nfor d in dirs:\\n    img = image.load_img(test_minus_dir + os.sep + d, target_size=img_size)\\n    x = image.img_to_array(img)\\n    x = np.expand_dims(x, axis=0)\\n    y = model.predict(x)\\n#    print(y)\\n    #print(classes[np.argmax(y)])\\n#    print(classes)\\n\\n    prob_list.append(str(y))   \\n    file=open('../working/pred_prob.txt','w') \\n    file.write('\\n'.join(prob_list))\\n    file.close()\\n    \\n#import tensorflow as tf\\n#config = tf.ConfigProto()\\n#config.gpu_options.allow_growth = True\\n#keras.backend.set_session(tf.Session(config=config))\\n\""
      ]
     },
     "execution_count": 10,
     "metadata": {},
     "output_type": "execute_result"
    }
   ],
   "source": [
    "'''\n",
    "\n",
    "train_dir='../working/data/train_seg/'  \n",
    "#test_dir = '../working/data/test_seg/idc-minus'  \n",
    "test_minus_dir = '../working/data/test_seg/idc-minus' \n",
    "img_size = (img_x, img_x)  \n",
    "epochs = epoch_4_test\n",
    "MODEL_PATH = '../working/log/tst_model.h5'\n",
    "board_name1 = '../working/log/stage1/' + now + '/'\n",
    "board_name2 = '../working/log/stage2/' + now + '/'\n",
    "\n",
    "#MODEL_PATH = '../working/log/tst_model.h5'\n",
    "#model.load_weights(MODEL_PATH)\n",
    "# --------------- test ----------------\n",
    "dirs = os.listdir(test_minus_dir)\n",
    "\n",
    "prob_list = []\n",
    "for d in dirs:\n",
    "    img = image.load_img(test_minus_dir + os.sep + d, target_size=img_size)\n",
    "    x = image.img_to_array(img)\n",
    "    x = np.expand_dims(x, axis=0)\n",
    "    y = model.predict(x)\n",
    "#    print(y)\n",
    "    #print(classes[np.argmax(y)])\n",
    "#    print(classes)\n",
    "\n",
    "    prob_list.append(str(y))   \n",
    "    file=open('../working/pred_prob.txt','w') \n",
    "    file.write('\\n'.join(prob_list))\n",
    "    file.close()\n",
    "    \n",
    "#import tensorflow as tf\n",
    "#config = tf.ConfigProto()\n",
    "#config.gpu_options.allow_growth = True\n",
    "#keras.backend.set_session(tf.Session(config=config))\n",
    "'''"
   ]
  },
  {
   "cell_type": "markdown",
   "id": "284991ca",
   "metadata": {
    "papermill": {
     "duration": 0.04921,
     "end_time": "2022-06-02T23:37:42.088578",
     "exception": false,
     "start_time": "2022-06-02T23:37:42.039368",
     "status": "completed"
    },
    "tags": []
   },
   "source": [
    "PLTv3"
   ]
  },
  {
   "cell_type": "markdown",
   "id": "75136263",
   "metadata": {
    "papermill": {
     "duration": 0.052131,
     "end_time": "2022-06-02T23:37:42.194566",
     "exception": false,
     "start_time": "2022-06-02T23:37:42.142435",
     "status": "completed"
    },
    "tags": []
   },
   "source": []
  },
  {
   "cell_type": "code",
   "execution_count": 11,
   "id": "825b7452",
   "metadata": {
    "execution": {
     "iopub.execute_input": "2022-06-02T23:37:42.299058Z",
     "iopub.status.busy": "2022-06-02T23:37:42.298093Z",
     "iopub.status.idle": "2022-06-02T23:37:42.306795Z",
     "shell.execute_reply": "2022-06-02T23:37:42.305727Z"
    },
    "papermill": {
     "duration": 0.062104,
     "end_time": "2022-06-02T23:37:42.309541",
     "exception": false,
     "start_time": "2022-06-02T23:37:42.247437",
     "status": "completed"
    },
    "tags": []
   },
   "outputs": [
    {
     "data": {
      "text/plain": [
       "'\\n\\nfrom keras.layers import GlobalAveragePooling2D, GlobalMaxPooling2D, Reshape, Dense, multiply, Permute, Concatenate, Conv2D, Add, Activation, Lambda\\nfrom keras import backend as K\\nfrom keras.activations import sigmoid\\n\\n\\nfrom keras import backend as K\\nfrom keras import optimizers\\nfrom tensorflow.keras.optimizers import Adam\\nimport keras.backend.tensorflow_backend as KTF\\n#import tensorflow.python.keras.backend as KTF\\nimport glob\\nfrom keras.layers import Input,Dense,Dropout,BatchNormalization,Conv2D,MaxPooling2D,AveragePooling2D,concatenate,Activation,ZeroPadding2D\\nimport tensorflow as tf\\nimport cv2\\nimport numpy as np\\nimport pandas as pd\\nimport keras\\nfrom keras.models import load_model\\nfrom keras.layers import Activation, Dense\\nfrom matplotlib import pyplot as plt\\nfrom skimage import io,data\\nimport time\\nfrom keras import layers\\nfrom keras.callbacks import ModelCheckpoint, TensorBoard\\nfrom keras.preprocessing.image import ImageDataGenerator\\n\\nfrom sklearn import svm\\nfrom sklearn.ensemble import RandomForestClassifier\\nnow = time.strftime(\"%Y-%m-%d_%H-%M-%S\", time.localtime())\\n\\nimport os,sys\\nos.getcwd()\\n#os.chdir(\"../working/cjd/31_CNN_Attention\")\\n\\n#import tensorflow as tf\\nfrom keras.preprocessing import image\\nfrom keras.models import Model\\nfrom keras.layers import Dense, GlobalAveragePooling2D\\nfrom keras import backend as K\\nfrom keras import regularizers\\n'"
      ]
     },
     "execution_count": 11,
     "metadata": {},
     "output_type": "execute_result"
    }
   ],
   "source": [
    "# -*- coding: utf-8 -*-\n",
    "\"\"\"\n",
    "Created on Sun Jun 16 22:23:24 2020\n",
    "\n",
    "@author: HP\n",
    "\"\"\"\n",
    "'''\n",
    "\n",
    "from keras.layers import GlobalAveragePooling2D, GlobalMaxPooling2D, Reshape, Dense, multiply, Permute, Concatenate, Conv2D, Add, Activation, Lambda\n",
    "from keras import backend as K\n",
    "from keras.activations import sigmoid\n",
    "\n",
    "\n",
    "from keras import backend as K\n",
    "from keras import optimizers\n",
    "from tensorflow.keras.optimizers import Adam\n",
    "import keras.backend.tensorflow_backend as KTF\n",
    "#import tensorflow.python.keras.backend as KTF\n",
    "import glob\n",
    "from keras.layers import Input,Dense,Dropout,BatchNormalization,Conv2D,MaxPooling2D,AveragePooling2D,concatenate,Activation,ZeroPadding2D\n",
    "import tensorflow as tf\n",
    "import cv2\n",
    "import numpy as np\n",
    "import pandas as pd\n",
    "import keras\n",
    "from keras.models import load_model\n",
    "from keras.layers import Activation, Dense\n",
    "from matplotlib import pyplot as plt\n",
    "from skimage import io,data\n",
    "import time\n",
    "from keras import layers\n",
    "from keras.callbacks import ModelCheckpoint, TensorBoard\n",
    "from keras.preprocessing.image import ImageDataGenerator\n",
    "\n",
    "from sklearn import svm\n",
    "from sklearn.ensemble import RandomForestClassifier\n",
    "now = time.strftime(\"%Y-%m-%d_%H-%M-%S\", time.localtime())\n",
    "\n",
    "import os,sys\n",
    "os.getcwd()\n",
    "#os.chdir(\"../working/cjd/31_CNN_Attention\")\n",
    "\n",
    "#import tensorflow as tf\n",
    "from keras.preprocessing import image\n",
    "from keras.models import Model\n",
    "from keras.layers import Dense, GlobalAveragePooling2D\n",
    "from keras import backend as K\n",
    "from keras import regularizers\n",
    "'''"
   ]
  },
  {
   "cell_type": "code",
   "execution_count": 12,
   "id": "042cd47d",
   "metadata": {
    "execution": {
     "iopub.execute_input": "2022-06-02T23:37:42.409961Z",
     "iopub.status.busy": "2022-06-02T23:37:42.409668Z",
     "iopub.status.idle": "2022-06-02T23:37:42.414673Z",
     "shell.execute_reply": "2022-06-02T23:37:42.413879Z"
    },
    "papermill": {
     "duration": 0.057032,
     "end_time": "2022-06-02T23:37:42.416661",
     "exception": false,
     "start_time": "2022-06-02T23:37:42.359629",
     "status": "completed"
    },
    "tags": []
   },
   "outputs": [
    {
     "name": "stdout",
     "output_type": "stream",
     "text": [
      "/kaggle/working\n",
      "3.7.12 | packaged by conda-forge | (default, Oct 26 2021, 06:08:53) \n",
      "[GCC 9.4.0]\n"
     ]
    }
   ],
   "source": [
    "import os,sys\n",
    "#os.getcwd()\n",
    "#os.chdir(\"/home/cjd/28_Entity_train\")\n",
    "print(os.getcwd())\n",
    "print (sys.version)\n"
   ]
  },
  {
   "cell_type": "code",
   "execution_count": 13,
   "id": "5559b81b",
   "metadata": {
    "execution": {
     "iopub.execute_input": "2022-06-02T23:37:42.517388Z",
     "iopub.status.busy": "2022-06-02T23:37:42.516778Z",
     "iopub.status.idle": "2022-06-02T23:37:42.523973Z",
     "shell.execute_reply": "2022-06-02T23:37:42.522855Z"
    },
    "papermill": {
     "duration": 0.059442,
     "end_time": "2022-06-02T23:37:42.526119",
     "exception": false,
     "start_time": "2022-06-02T23:37:42.466677",
     "status": "completed"
    },
    "tags": []
   },
   "outputs": [
    {
     "data": {
      "text/plain": [
       "'\\nconfig = tf.ConfigProto()\\nconfig.gpu_options.allow_growth = True\\nkeras.backend.tensorflow_backend.set_session(tf.Session(config=config))\\n\\n'"
      ]
     },
     "execution_count": 13,
     "metadata": {},
     "output_type": "execute_result"
    }
   ],
   "source": [
    "now = time.strftime(\"%Y-%m-%d_%H-%M-%S\", time.localtime())\n",
    "#import os\n",
    "# \n",
    "os.environ[\"CUDA_DEVICE_ORDER\"] = \"PCI_BUS_ID\"\n",
    "os.environ[\"CUDA_VISIBLE_DEVICES\"] = \"2,3,5\"\n",
    "\n",
    "'''\n",
    "config = tf.ConfigProto()\n",
    "config.gpu_options.allow_growth = True\n",
    "keras.backend.tensorflow_backend.set_session(tf.Session(config=config))\n",
    "\n",
    "'''"
   ]
  },
  {
   "cell_type": "code",
   "execution_count": 14,
   "id": "7671fdb5",
   "metadata": {
    "execution": {
     "iopub.execute_input": "2022-06-02T23:37:42.626638Z",
     "iopub.status.busy": "2022-06-02T23:37:42.625852Z",
     "iopub.status.idle": "2022-06-02T23:37:42.634146Z",
     "shell.execute_reply": "2022-06-02T23:37:42.633193Z"
    },
    "papermill": {
     "duration": 0.060153,
     "end_time": "2022-06-02T23:37:42.636620",
     "exception": false,
     "start_time": "2022-06-02T23:37:42.576467",
     "status": "completed"
    },
    "tags": []
   },
   "outputs": [],
   "source": [
    "import os\n",
    "import glob\n",
    "batch_size = 32 #每批训练数据量的大小，批量多设一些；GoogleNet批量值设为20 2^n\n",
    "epochs = epoch_4_test\n",
    "MODEL_INIT = './init_model.h5'\n",
    "MODEL_PATH = './test_model.h5'\n",
    "board_name1 = './obj_reco/stage1/' + now + '/'\n",
    "board_name2 = './obj_reco/stage2/' + now + '/'\n",
    "train_dir='/data/train_seg/'\n",
    "validation_dir='/data/test_seg/'\n",
    "img_size = (img_x, img_x)  # 图片大小\n",
    "#classes=list(range(1,5))\n",
    "#classes=['1','2','3','4']\n",
    "nb_train_samples = len(glob.glob(train_dir + '/*/*.*'))  # 训练样本数\n",
    "nb_validation_samples = len(glob.glob(validation_dir + '/*/*.*'))  # 验证样本数\n",
    "\n",
    "#classes = sorted([o for o in os.listdir(train_dir)])  # 根据文件名分类"
   ]
  },
  {
   "cell_type": "code",
   "execution_count": 15,
   "id": "9691736e",
   "metadata": {
    "execution": {
     "iopub.execute_input": "2022-06-02T23:37:42.742057Z",
     "iopub.status.busy": "2022-06-02T23:37:42.741227Z",
     "iopub.status.idle": "2022-06-02T23:37:44.078726Z",
     "shell.execute_reply": "2022-06-02T23:37:44.077553Z"
    },
    "papermill": {
     "duration": 1.392507,
     "end_time": "2022-06-02T23:37:44.081899",
     "exception": false,
     "start_time": "2022-06-02T23:37:42.689392",
     "status": "completed"
    },
    "tags": []
   },
   "outputs": [
    {
     "name": "stderr",
     "output_type": "stream",
     "text": [
      "2022-06-02 23:37:42.936657: I tensorflow/core/common_runtime/process_util.cc:146] Creating new thread pool with default inter op setting: 2. Tune using inter_op_parallelism_threads for best performance.\n"
     ]
    },
    {
     "name": "stdout",
     "output_type": "stream",
     "text": [
      "Model: \"mobile_densenet\"\n",
      "__________________________________________________________________________________________________\n",
      "Layer (type)                    Output Shape         Param #     Connected to                     \n",
      "==================================================================================================\n",
      "input_1 (InputLayer)            [(None, 50, 50, 3)]  0                                            \n",
      "__________________________________________________________________________________________________\n",
      "zero_padding2d_1 (ZeroPadding2D (None, 56, 56, 3)    0           input_1[0][0]                    \n",
      "__________________________________________________________________________________________________\n",
      "conv1/conv (Conv2D)             (None, 25, 25, 64)   9472        zero_padding2d_1[0][0]           \n",
      "__________________________________________________________________________________________________\n",
      "conv1/bn (BatchNormalization)   (None, 25, 25, 64)   256         conv1/conv[0][0]                 \n",
      "__________________________________________________________________________________________________\n",
      "conv1/relu (ReLU)               (None, 25, 25, 64)   0           conv1/bn[0][0]                   \n",
      "__________________________________________________________________________________________________\n",
      "zero_padding2d_2 (ZeroPadding2D (None, 27, 27, 64)   0           conv1/relu[0][0]                 \n",
      "__________________________________________________________________________________________________\n",
      "pool1 (MaxPooling2D)            (None, 13, 13, 64)   0           zero_padding2d_2[0][0]           \n",
      "__________________________________________________________________________________________________\n",
      "conv2_block0_2_sepconv (Separab (None, 13, 13, 32)   2656        pool1[0][0]                      \n",
      "__________________________________________________________________________________________________\n",
      "conv2_block0_concat (Concatenat (None, 13, 13, 96)   0           pool1[0][0]                      \n",
      "                                                                 conv2_block0_2_sepconv[0][0]     \n",
      "__________________________________________________________________________________________________\n",
      "conv2_block1_2_sepconv (Separab (None, 13, 13, 32)   3968        conv2_block0_concat[0][0]        \n",
      "__________________________________________________________________________________________________\n",
      "conv2_block1_concat (Concatenat (None, 13, 13, 128)  0           conv2_block0_concat[0][0]        \n",
      "                                                                 conv2_block1_2_sepconv[0][0]     \n",
      "__________________________________________________________________________________________________\n",
      "conv2_block2_2_sepconv (Separab (None, 13, 13, 32)   5280        conv2_block1_concat[0][0]        \n",
      "__________________________________________________________________________________________________\n",
      "conv2_block2_concat (Concatenat (None, 13, 13, 160)  0           conv2_block1_concat[0][0]        \n",
      "                                                                 conv2_block2_2_sepconv[0][0]     \n",
      "__________________________________________________________________________________________________\n",
      "pool2_bn (BatchNormalization)   (None, 13, 13, 160)  640         conv2_block2_concat[0][0]        \n",
      "__________________________________________________________________________________________________\n",
      "se_block_1 (SeBlock)            (None, 13, 13, 64)   0           pool1[0][0]                      \n",
      "__________________________________________________________________________________________________\n",
      "pool2_relu (ReLU)               (None, 13, 13, 160)  0           pool2_bn[0][0]                   \n",
      "__________________________________________________________________________________________________\n",
      "transform2_dense1 (Dense)       (None, 13, 13, 160)  10400       se_block_1[0][0]                 \n",
      "__________________________________________________________________________________________________\n",
      "transform2_multiply (Multiply)  (None, 13, 13, 160)  0           pool2_relu[0][0]                 \n",
      "                                                                 transform2_dense1[0][0]          \n",
      "__________________________________________________________________________________________________\n",
      "pool2_conv (Conv2D)             (None, 13, 13, 80)   12880       transform2_multiply[0][0]        \n",
      "__________________________________________________________________________________________________\n",
      "pool2_pool (AveragePooling2D)   (None, 6, 6, 80)     0           pool2_conv[0][0]                 \n",
      "__________________________________________________________________________________________________\n",
      "conv3_block0_2_sepconv (Separab (None, 6, 6, 32)     3312        pool2_pool[0][0]                 \n",
      "__________________________________________________________________________________________________\n",
      "conv3_block0_concat (Concatenat (None, 6, 6, 112)    0           pool2_pool[0][0]                 \n",
      "                                                                 conv3_block0_2_sepconv[0][0]     \n",
      "__________________________________________________________________________________________________\n",
      "conv3_block1_2_sepconv (Separab (None, 6, 6, 32)     4624        conv3_block0_concat[0][0]        \n",
      "__________________________________________________________________________________________________\n",
      "conv3_block1_concat (Concatenat (None, 6, 6, 144)    0           conv3_block0_concat[0][0]        \n",
      "                                                                 conv3_block1_2_sepconv[0][0]     \n",
      "__________________________________________________________________________________________________\n",
      "conv3_block2_2_sepconv (Separab (None, 6, 6, 32)     5936        conv3_block1_concat[0][0]        \n",
      "__________________________________________________________________________________________________\n",
      "conv3_block2_concat (Concatenat (None, 6, 6, 176)    0           conv3_block1_concat[0][0]        \n",
      "                                                                 conv3_block2_2_sepconv[0][0]     \n",
      "__________________________________________________________________________________________________\n",
      "conv3_block3_2_sepconv (Separab (None, 6, 6, 32)     7248        conv3_block2_concat[0][0]        \n",
      "__________________________________________________________________________________________________\n",
      "conv3_block3_concat (Concatenat (None, 6, 6, 208)    0           conv3_block2_concat[0][0]        \n",
      "                                                                 conv3_block3_2_sepconv[0][0]     \n",
      "__________________________________________________________________________________________________\n",
      "conv3_block4_2_sepconv (Separab (None, 6, 6, 32)     8560        conv3_block3_concat[0][0]        \n",
      "__________________________________________________________________________________________________\n",
      "conv3_block4_concat (Concatenat (None, 6, 6, 240)    0           conv3_block3_concat[0][0]        \n",
      "                                                                 conv3_block4_2_sepconv[0][0]     \n",
      "__________________________________________________________________________________________________\n",
      "conv3_block5_2_sepconv (Separab (None, 6, 6, 32)     9872        conv3_block4_concat[0][0]        \n",
      "__________________________________________________________________________________________________\n",
      "conv3_block5_concat (Concatenat (None, 6, 6, 272)    0           conv3_block4_concat[0][0]        \n",
      "                                                                 conv3_block5_2_sepconv[0][0]     \n",
      "__________________________________________________________________________________________________\n",
      "pool3_bn (BatchNormalization)   (None, 6, 6, 272)    1088        conv3_block5_concat[0][0]        \n",
      "__________________________________________________________________________________________________\n",
      "se_block_2 (SeBlock)            (None, 6, 6, 80)     0           pool2_pool[0][0]                 \n",
      "__________________________________________________________________________________________________\n",
      "pool3_relu (ReLU)               (None, 6, 6, 272)    0           pool3_bn[0][0]                   \n",
      "__________________________________________________________________________________________________\n",
      "transform3_dense1 (Dense)       (None, 6, 6, 272)    22032       se_block_2[0][0]                 \n",
      "__________________________________________________________________________________________________\n",
      "transform3_multiply (Multiply)  (None, 6, 6, 272)    0           pool3_relu[0][0]                 \n",
      "                                                                 transform3_dense1[0][0]          \n",
      "__________________________________________________________________________________________________\n",
      "pool3_conv (Conv2D)             (None, 6, 6, 136)    37128       transform3_multiply[0][0]        \n",
      "__________________________________________________________________________________________________\n",
      "pool3_pool (AveragePooling2D)   (None, 3, 3, 136)    0           pool3_conv[0][0]                 \n",
      "__________________________________________________________________________________________________\n",
      "conv4_block0_2_sepconv (Separab (None, 3, 3, 32)     5608        pool3_pool[0][0]                 \n",
      "__________________________________________________________________________________________________\n",
      "conv4_block0_concat (Concatenat (None, 3, 3, 168)    0           pool3_pool[0][0]                 \n",
      "                                                                 conv4_block0_2_sepconv[0][0]     \n",
      "__________________________________________________________________________________________________\n",
      "conv4_block1_2_sepconv (Separab (None, 3, 3, 32)     6920        conv4_block0_concat[0][0]        \n",
      "__________________________________________________________________________________________________\n",
      "conv4_block1_concat (Concatenat (None, 3, 3, 200)    0           conv4_block0_concat[0][0]        \n",
      "                                                                 conv4_block1_2_sepconv[0][0]     \n",
      "__________________________________________________________________________________________________\n",
      "conv4_block2_2_sepconv (Separab (None, 3, 3, 32)     8232        conv4_block1_concat[0][0]        \n",
      "__________________________________________________________________________________________________\n",
      "conv4_block2_concat (Concatenat (None, 3, 3, 232)    0           conv4_block1_concat[0][0]        \n",
      "                                                                 conv4_block2_2_sepconv[0][0]     \n",
      "__________________________________________________________________________________________________\n",
      "conv4_block3_2_sepconv (Separab (None, 3, 3, 32)     9544        conv4_block2_concat[0][0]        \n",
      "__________________________________________________________________________________________________\n",
      "conv4_block3_concat (Concatenat (None, 3, 3, 264)    0           conv4_block2_concat[0][0]        \n",
      "                                                                 conv4_block3_2_sepconv[0][0]     \n",
      "__________________________________________________________________________________________________\n",
      "conv4_block4_2_sepconv (Separab (None, 3, 3, 32)     10856       conv4_block3_concat[0][0]        \n",
      "__________________________________________________________________________________________________\n",
      "conv4_block4_concat (Concatenat (None, 3, 3, 296)    0           conv4_block3_concat[0][0]        \n",
      "                                                                 conv4_block4_2_sepconv[0][0]     \n",
      "__________________________________________________________________________________________________\n",
      "conv4_block5_2_sepconv (Separab (None, 3, 3, 32)     12168       conv4_block4_concat[0][0]        \n",
      "__________________________________________________________________________________________________\n",
      "conv4_block5_concat (Concatenat (None, 3, 3, 328)    0           conv4_block4_concat[0][0]        \n",
      "                                                                 conv4_block5_2_sepconv[0][0]     \n",
      "__________________________________________________________________________________________________\n",
      "conv4_block6_2_sepconv (Separab (None, 3, 3, 32)     13480       conv4_block5_concat[0][0]        \n",
      "__________________________________________________________________________________________________\n",
      "conv4_block6_concat (Concatenat (None, 3, 3, 360)    0           conv4_block5_concat[0][0]        \n",
      "                                                                 conv4_block6_2_sepconv[0][0]     \n",
      "__________________________________________________________________________________________________\n",
      "conv4_block7_2_sepconv (Separab (None, 3, 3, 32)     14792       conv4_block6_concat[0][0]        \n",
      "__________________________________________________________________________________________________\n",
      "conv4_block7_concat (Concatenat (None, 3, 3, 392)    0           conv4_block6_concat[0][0]        \n",
      "                                                                 conv4_block7_2_sepconv[0][0]     \n",
      "__________________________________________________________________________________________________\n",
      "conv4_block8_2_sepconv (Separab (None, 3, 3, 32)     16104       conv4_block7_concat[0][0]        \n",
      "__________________________________________________________________________________________________\n",
      "conv4_block8_concat (Concatenat (None, 3, 3, 424)    0           conv4_block7_concat[0][0]        \n",
      "                                                                 conv4_block8_2_sepconv[0][0]     \n",
      "__________________________________________________________________________________________________\n",
      "conv4_block9_2_sepconv (Separab (None, 3, 3, 32)     17416       conv4_block8_concat[0][0]        \n",
      "__________________________________________________________________________________________________\n",
      "conv4_block9_concat (Concatenat (None, 3, 3, 456)    0           conv4_block8_concat[0][0]        \n",
      "                                                                 conv4_block9_2_sepconv[0][0]     \n",
      "__________________________________________________________________________________________________\n",
      "conv4_block10_2_sepconv (Separa (None, 3, 3, 32)     18728       conv4_block9_concat[0][0]        \n",
      "__________________________________________________________________________________________________\n",
      "conv4_block10_concat (Concatena (None, 3, 3, 488)    0           conv4_block9_concat[0][0]        \n",
      "                                                                 conv4_block10_2_sepconv[0][0]    \n",
      "__________________________________________________________________________________________________\n",
      "conv4_block11_2_sepconv (Separa (None, 3, 3, 32)     20040       conv4_block10_concat[0][0]       \n",
      "__________________________________________________________________________________________________\n",
      "conv4_block11_concat (Concatena (None, 3, 3, 520)    0           conv4_block10_concat[0][0]       \n",
      "                                                                 conv4_block11_2_sepconv[0][0]    \n",
      "__________________________________________________________________________________________________\n",
      "pool4_bn (BatchNormalization)   (None, 3, 3, 520)    2080        conv4_block11_concat[0][0]       \n",
      "__________________________________________________________________________________________________\n",
      "se_block_3 (SeBlock)            (None, 3, 3, 136)    0           pool3_pool[0][0]                 \n",
      "__________________________________________________________________________________________________\n",
      "pool4_relu (ReLU)               (None, 3, 3, 520)    0           pool4_bn[0][0]                   \n",
      "__________________________________________________________________________________________________\n",
      "transform4_dense1 (Dense)       (None, 3, 3, 520)    71240       se_block_3[0][0]                 \n",
      "__________________________________________________________________________________________________\n",
      "transform4_multiply (Multiply)  (None, 3, 3, 520)    0           pool4_relu[0][0]                 \n",
      "                                                                 transform4_dense1[0][0]          \n",
      "__________________________________________________________________________________________________\n",
      "pool4_conv (Conv2D)             (None, 3, 3, 260)    135460      transform4_multiply[0][0]        \n",
      "__________________________________________________________________________________________________\n",
      "pool4_pool (AveragePooling2D)   (None, 1, 1, 260)    0           pool4_conv[0][0]                 \n",
      "__________________________________________________________________________________________________\n",
      "conv5_block0_2_sepconv (Separab (None, 1, 1, 32)     10692       pool4_pool[0][0]                 \n",
      "__________________________________________________________________________________________________\n",
      "conv5_block0_concat (Concatenat (None, 1, 1, 292)    0           pool4_pool[0][0]                 \n",
      "                                                                 conv5_block0_2_sepconv[0][0]     \n",
      "__________________________________________________________________________________________________\n",
      "conv5_block1_2_sepconv (Separab (None, 1, 1, 32)     12004       conv5_block0_concat[0][0]        \n",
      "__________________________________________________________________________________________________\n",
      "conv5_block1_concat (Concatenat (None, 1, 1, 324)    0           conv5_block0_concat[0][0]        \n",
      "                                                                 conv5_block1_2_sepconv[0][0]     \n",
      "__________________________________________________________________________________________________\n",
      "conv5_block2_2_sepconv (Separab (None, 1, 1, 32)     13316       conv5_block1_concat[0][0]        \n",
      "__________________________________________________________________________________________________\n",
      "conv5_block2_concat (Concatenat (None, 1, 1, 356)    0           conv5_block1_concat[0][0]        \n",
      "                                                                 conv5_block2_2_sepconv[0][0]     \n",
      "__________________________________________________________________________________________________\n",
      "conv5_block3_2_sepconv (Separab (None, 1, 1, 32)     14628       conv5_block2_concat[0][0]        \n",
      "__________________________________________________________________________________________________\n",
      "conv5_block3_concat (Concatenat (None, 1, 1, 388)    0           conv5_block2_concat[0][0]        \n",
      "                                                                 conv5_block3_2_sepconv[0][0]     \n",
      "__________________________________________________________________________________________________\n",
      "conv5_block4_2_sepconv (Separab (None, 1, 1, 32)     15940       conv5_block3_concat[0][0]        \n",
      "__________________________________________________________________________________________________\n",
      "conv5_block4_concat (Concatenat (None, 1, 1, 420)    0           conv5_block3_concat[0][0]        \n",
      "                                                                 conv5_block4_2_sepconv[0][0]     \n",
      "__________________________________________________________________________________________________\n",
      "conv5_block5_2_sepconv (Separab (None, 1, 1, 32)     17252       conv5_block4_concat[0][0]        \n",
      "__________________________________________________________________________________________________\n",
      "conv5_block5_concat (Concatenat (None, 1, 1, 452)    0           conv5_block4_concat[0][0]        \n",
      "                                                                 conv5_block5_2_sepconv[0][0]     \n",
      "__________________________________________________________________________________________________\n",
      "conv5_block6_2_sepconv (Separab (None, 1, 1, 32)     18564       conv5_block5_concat[0][0]        \n",
      "__________________________________________________________________________________________________\n",
      "conv5_block6_concat (Concatenat (None, 1, 1, 484)    0           conv5_block5_concat[0][0]        \n",
      "                                                                 conv5_block6_2_sepconv[0][0]     \n",
      "__________________________________________________________________________________________________\n",
      "conv5_block7_2_sepconv (Separab (None, 1, 1, 32)     19876       conv5_block6_concat[0][0]        \n",
      "__________________________________________________________________________________________________\n",
      "se_block_4 (SeBlock)            (None, 1, 1, 260)    0           pool4_pool[0][0]                 \n",
      "__________________________________________________________________________________________________\n",
      "conv5_block7_concat (Concatenat (None, 1, 1, 516)    0           conv5_block6_concat[0][0]        \n",
      "                                                                 conv5_block7_2_sepconv[0][0]     \n",
      "__________________________________________________________________________________________________\n",
      "transform5_dense1 (Dense)       (None, 1, 1, 516)    134676      se_block_4[0][0]                 \n",
      "__________________________________________________________________________________________________\n",
      "transform5_multiply (Multiply)  (None, 1, 1, 516)    0           conv5_block7_concat[0][0]        \n",
      "                                                                 transform5_dense1[0][0]          \n",
      "__________________________________________________________________________________________________\n",
      "bn (BatchNormalization)         (None, 1, 1, 516)    2064        transform5_multiply[0][0]        \n",
      "__________________________________________________________________________________________________\n",
      "relu (ReLU)                     (None, 1, 1, 516)    0           bn[0][0]                         \n",
      "__________________________________________________________________________________________________\n",
      "global_pool (GlobalAveragePooli (None, 516)          0           relu[0][0]                       \n",
      "__________________________________________________________________________________________________\n",
      "dropout1 (Dropout)              (None, 516)          0           global_pool[0][0]                \n",
      "__________________________________________________________________________________________________\n",
      "dropout2 (Dropout)              (None, 516)          0           dropout1[0][0]                   \n",
      "__________________________________________________________________________________________________\n",
      "prediction (Dense)              (None, 2)            1034        dropout2[0][0]                   \n",
      "==================================================================================================\n",
      "Total params: 768,066\n",
      "Trainable params: 765,002\n",
      "Non-trainable params: 3,064\n",
      "__________________________________________________________________________________________________\n"
     ]
    }
   ],
   "source": [
    "##添加自定义层\n",
    "#import tensorflow as tf   \n",
    "\n",
    "import tensorflow as tf        \n",
    "def focal_loss(gamma=2.):            \n",
    "    def focal_loss_fixed(y_true, y_pred):\n",
    "        pt_1 = tf.where(tf.equal(y_true, 1), y_pred, tf.ones_like(y_pred))\n",
    "        return -K.sum( K.pow(1. - pt_1, gamma) * K.log(pt_1)) \n",
    "    return focal_loss_fixed\n",
    "\n",
    "\n",
    "def Conv2d_BN(x, nb_filter,kernel_size, strides=(1,1), padding='same',name=None):  \n",
    "    if name is not None:  \n",
    "        bn_name = name + '_bn'  \n",
    "        conv_name = name + '_conv'  \n",
    "    else:  \n",
    "        bn_name = None  \n",
    "        conv_name = None  \n",
    "  \n",
    "    x = Conv2D(nb_filter,kernel_size,padding=padding,strides=strides,activation='relu',name=conv_name)(x)  \n",
    "    x = BatchNormalization(axis=3,name=bn_name)(x)  \n",
    "    return x  \n",
    "\n",
    "def Conv_Block(inpt,nb_filter,kernel_size,strides=(1,1), with_conv_shortcut=False):  \n",
    "    x = Conv2d_BN(inpt,nb_filter=nb_filter[0],kernel_size=(1,1),strides=strides,padding='same')  \n",
    "    x = Conv2d_BN(x, nb_filter=nb_filter[1], kernel_size=(3,3), padding='same')  \n",
    "    x = Conv2d_BN(x, nb_filter=nb_filter[2], kernel_size=(1,1), padding='same')  \n",
    "    if with_conv_shortcut:  \n",
    "        shortcut = Conv2d_BN(inpt,nb_filter=nb_filter[2],strides=strides,kernel_size=kernel_size)  \n",
    "        x = add([x,shortcut])  \n",
    "        return x  \n",
    "    else:  \n",
    "        x = add([x,inpt])  \n",
    "        return x  \n",
    "\n",
    "'''\n",
    "\n",
    "class SeBlock(keras.layers.Layer):   \n",
    "    def __init__(self, reduction=4,**kwargs):\n",
    "        super(SeBlock,self).__init__(**kwargs)\n",
    "        self.reduction = reduction\n",
    "'''\n",
    "class SeBlock(keras.layers.Layer):   \n",
    "    def __init__(self, reduction=4,**kwargs):\n",
    "        super(SeBlock,self).__init__(**kwargs)\n",
    "        self.reduction = reduction\n",
    "    def get_config(self):\n",
    "        config = super().get_config().copy()\n",
    "        config.update({'reduction': self.reduction})\n",
    "        return config\n",
    "        \n",
    "    def build(self,input_shape):\n",
    "    \t#input_shape     \n",
    "    \tpass\n",
    "    def call(self, inputs):\n",
    "        x = keras.layers.GlobalAveragePooling2D()(inputs)\n",
    "        x = keras.layers.Dense(int(x.shape[-1]) // self.reduction, use_bias=False,activation=keras.activations.relu)(x)\n",
    "        x = keras.layers.Dense(int(inputs.shape[-1]), use_bias=False,activation=keras.activations.hard_sigmoid)(x)\n",
    "        return keras.layers.Multiply()([inputs,x])    \n",
    "        #return inputs*x \n",
    "\n",
    "#------#MS-DenseNet----------------------------------\n",
    "def get_bottlenet(image_size,alpha=1.0):\n",
    "    inputs = keras.layers.Input(shape=(image_size,image_size,3),name='input_1')\n",
    "    net = keras.layers.ZeroPadding2D(padding=(3,3),name='zero_padding2d_1')(inputs)\n",
    "    net = keras.layers.Conv2D(filters=64, kernel_size=(7,7), strides=(2,2),\n",
    "                             padding='valid', name='conv1/conv')(net)\n",
    "    net = keras.layers.BatchNormalization(name='conv1/bn')(net)\n",
    "    net = keras.layers.ReLU(name='conv1/relu')(net)\n",
    "    net = keras.layers.ZeroPadding2D(padding=(1,1),name='zero_padding2d_2')(net)\n",
    "#    se = keras.layers.GlobalAveragePooling2D(name='transform2_pool')(net)\n",
    "    se=SeBlock()(net)\n",
    "\n",
    "    net = keras.layers.MaxPooling2D(pool_size=(3,3),strides=(2,2),padding='valid',\n",
    "                                   name='pool1')(net)\n",
    "#    se = keras.layers.GlobalAveragePooling2D(name='transform2_pool')(net)\n",
    "    se=SeBlock()(net)\n",
    "    \n",
    "    for i in range(int(3*alpha)):\n",
    "        block = net\n",
    "        block = keras.layers.SeparableConv2D(filters=32,kernel_size=(3,3), strides=(1, 1), \n",
    "                                    padding='same',\n",
    "                                    name='conv2_block{}_2_sepconv'.format(i))(block)\n",
    "        net = keras.layers.Concatenate(name='conv2_block{}_concat'.format(i))([net,block])    \n",
    "    net = keras.layers.BatchNormalization(name='pool2_bn')(net) \n",
    "    net = keras.layers.ReLU(name='pool2_relu')(net)\n",
    "    eq = keras.layers.Dense(units=net.shape[-1],activation='sigmoid',\n",
    "                            name='transform2_dense1')(se)\n",
    "    net = keras.layers.Multiply(name='transform2_multiply')([net,eq])\n",
    "\n",
    "    net = keras.layers.Conv2D(filters=int(net.shape[-1])//2,kernel_size=(1,1),strides=(1,1),\n",
    "                              padding='same',name='pool2_conv')(net)\n",
    "    net = keras.layers.AveragePooling2D(pool_size=(2,2),strides=(2,2),\n",
    "                                        name='pool2_pool')(net)\n",
    "#    se = keras.layers.GlobalAveragePooling2D(name='transform3_pool')(net)\n",
    "    se=SeBlock()(net)\n",
    "\n",
    "    for i in range(int(6*alpha)):\n",
    "        block = net\n",
    "        block = keras.layers.SeparableConv2D(filters=32, kernel_size=(3,3), strides=(1, 1),\n",
    "                                             padding='same',\n",
    "                                             name='conv3_block{}_2_sepconv'.format(i))(block)\n",
    "        net = keras.layers.Concatenate(name='conv3_block{}_concat'.format(i))([net,block])\n",
    "    net = keras.layers.BatchNormalization(name='pool3_bn')(net) \n",
    "    net = keras.layers.ReLU(name='pool3_relu')(net)\n",
    "    eq = keras.layers.Dense(units=net.shape[-1],activation='sigmoid',\n",
    "                            name='transform3_dense1')(se)\n",
    "    net = keras.layers.Multiply(name='transform3_multiply')([net,eq])\n",
    "\n",
    "    net = keras.layers.Conv2D(filters=int(net.shape[-1])//2,kernel_size=(1,1),strides=(1,1),\n",
    "                              padding='same',name='pool3_conv')(net)\n",
    "    net = keras.layers.AveragePooling2D(pool_size=(2,2),strides=(2,2),\n",
    "                                    name='pool3_pool')(net)\n",
    "#    se = keras.layers.GlobalAveragePooling2D(name='transform4_pool')(net)\n",
    "    se=SeBlock()(net)\n",
    "    for i in range(int(12*alpha)):\n",
    "        block = net\n",
    "        block = keras.layers.SeparableConv2D(filters=32, kernel_size=(3,3), strides=(1, 1), \n",
    "                                    padding='same',\n",
    "                                    name='conv4_block{}_2_sepconv'.format(i))(block)\n",
    "        net = keras.layers.Concatenate(name='conv4_block{}_concat'.format(i))([net,block])\n",
    "    net = keras.layers.BatchNormalization(name='pool4_bn')(net) \n",
    "    net = keras.layers.ReLU(name='pool4_relu')(net)\n",
    "    eq = keras.layers.Dense(units=net.shape[-1],activation='sigmoid',\n",
    "                            name='transform4_dense1')(se)\n",
    "    net = keras.layers.Multiply(name='transform4_multiply')([net,eq])\n",
    "\n",
    "    net = keras.layers.Conv2D(filters=int(net.shape[-1])//2,kernel_size=(1,1),strides=(1,1),\n",
    "                             padding='same',name='pool4_conv')(net)\n",
    "    net = keras.layers.AveragePooling2D(pool_size=(2,2),strides=(2,2),\n",
    "                                        name='pool4_pool')(net)\n",
    "#    se = keras.layers.GlobalAveragePooling2D(name='transform5_pool')(net)\n",
    "    se=SeBlock()(net)\n",
    "    for i in range(int(8*alpha)):\n",
    "        block = net\n",
    "        block = keras.layers.SeparableConv2D(filters=32, kernel_size=(3,3), strides=(1, 1), \n",
    "                                    padding='same',\n",
    "                                    name='conv5_block{}_2_sepconv'.format(i))(block)\n",
    "        net = keras.layers.Concatenate(name='conv5_block{}_concat'.format(i))([net,block])\n",
    "       \n",
    "    eq = keras.layers.Dense(units=net.shape[-1],activation='sigmoid',\n",
    "                            name='transform5_dense1')(se)\n",
    "    net = keras.layers.Multiply(name='transform5_multiply')([net,eq])\n",
    "    net = keras.layers.BatchNormalization(name='bn')(net)\n",
    "    net = keras.layers.ReLU(name='relu')(net)\n",
    "    model = keras.Model(inputs=inputs,outputs=net,name='mobile_densenet_bottle')\n",
    "    return model\n",
    "\n",
    "#原文中软注意力模块的组装\n",
    "\n",
    "def get_model(image_size, alpha, classes):\n",
    "    bottlenet = get_bottlenet(alpha=alpha,image_size=image_size)\n",
    "    net = keras.layers.GlobalAveragePooling2D(name='global_pool')(bottlenet.output)\n",
    "    net = keras.layers.Dropout(rate=0.4,name='dropout1')(net)\n",
    "    net = keras.layers.Dropout(rate=0.4,name='dropout2')(net)\n",
    "    output = keras.layers.Dense(units=classes,activation='softmax',\n",
    "                             name='prediction')(net)\n",
    "    model = keras.Model(inputs=bottlenet.input,outputs=output,name='mobile_densenet')\n",
    "    return model\n",
    "model = get_model(image_size=img_x, alpha=1.0, classes=n_of_classes)\n",
    "model.summary()"
   ]
  },
  {
   "cell_type": "code",
   "execution_count": 16,
   "id": "22aabb84",
   "metadata": {
    "execution": {
     "iopub.execute_input": "2022-06-02T23:37:44.181435Z",
     "iopub.status.busy": "2022-06-02T23:37:44.181132Z",
     "iopub.status.idle": "2022-06-02T23:37:45.825793Z",
     "shell.execute_reply": "2022-06-02T23:37:45.824160Z"
    },
    "papermill": {
     "duration": 1.698151,
     "end_time": "2022-06-02T23:37:45.828356",
     "exception": false,
     "start_time": "2022-06-02T23:37:44.130205",
     "status": "completed"
    },
    "tags": []
   },
   "outputs": [],
   "source": [
    "#train_datagen = ImageDataGenerator(validation_split=0.2)\n",
    "#train_datagen = ImageDataGenerator()\n",
    "\n",
    "train_datagen1 = ImageDataGenerator(#rescale = 1.0/255,\n",
    "                                  width_shift_range = 0.1,\n",
    "                                  height_shift_range = 0.1,\n",
    "                                  fill_mode = 'constant',\n",
    "                                  zoom_range = 0.1,\n",
    "                                  rotation_range = 20)\n",
    "\n",
    "#train_datagen.mean = np.array([103.939, 116.779, 123.68], dtype=np.int64).reshape((3, 1, 1))  # remove imagenet BGR mean value\n",
    "#train_generator = train_datagen.flow(train_data, train_label, target_size=img_size, classes=classes)\n",
    "train_generator1 = train_datagen1.flow(train_data, train_label)\n",
    "\n",
    "validation_datagen = ImageDataGenerator(rescale = 1.0/255)\n",
    "#validation_datagen.mean = np.array([103.939, 116.779, 123.68], dtype=np.int64).reshape((3, 1, 1))\n",
    "test_dir = '../working/data/test_seg/'  \n",
    "#val_generator = validation_datagen.flow(test_data, test_label, target_size=img_size, classes=classes)\n",
    "val_generator = validation_datagen.flow(test_data, test_label)\n",
    "\n",
    "val2_datagen = ImageDataGenerator(rescale = 1.0/255)\n",
    "#val2_datagen.mean = np.array([103.939, 116.779, 123.68], dtype=np.int64).reshape((3, 1, 1))\n",
    "test_dir = '../working/data/test_seg/'  \n",
    "#val2_generator = val2_datagen.flow(val_data, val_label, target_size=img_size, classes=classes)\n",
    "val2_generator = val2_datagen.flow(val_data, val_label)"
   ]
  },
  {
   "cell_type": "code",
   "execution_count": 17,
   "id": "c5a75fab",
   "metadata": {
    "execution": {
     "iopub.execute_input": "2022-06-02T23:37:45.931652Z",
     "iopub.status.busy": "2022-06-02T23:37:45.931333Z",
     "iopub.status.idle": "2022-06-02T23:37:45.978314Z",
     "shell.execute_reply": "2022-06-02T23:37:45.977319Z"
    },
    "papermill": {
     "duration": 0.100602,
     "end_time": "2022-06-02T23:37:45.980832",
     "exception": false,
     "start_time": "2022-06-02T23:37:45.880230",
     "status": "completed"
    },
    "tags": []
   },
   "outputs": [],
   "source": [
    "#get the first patch for visualization\n",
    "images1, labels1 = train_generator1.next()"
   ]
  },
  {
   "cell_type": "code",
   "execution_count": 18,
   "id": "a25f9403",
   "metadata": {
    "execution": {
     "iopub.execute_input": "2022-06-02T23:37:46.079972Z",
     "iopub.status.busy": "2022-06-02T23:37:46.079662Z",
     "iopub.status.idle": "2022-06-02T23:37:47.754007Z",
     "shell.execute_reply": "2022-06-02T23:37:47.752952Z"
    },
    "papermill": {
     "duration": 1.726562,
     "end_time": "2022-06-02T23:37:47.757812",
     "exception": false,
     "start_time": "2022-06-02T23:37:46.031250",
     "status": "completed"
    },
    "tags": []
   },
   "outputs": [
    {
     "name": "stderr",
     "output_type": "stream",
     "text": [
      "100%|██████████| 3/3 [00:00<00:00, 191.06it/s]\n"
     ]
    },
    {
     "data": {
      "image/png": "[encoded data removed]",
      "text/plain": [
       "<Figure size 1080x648 with 15 Axes>"
      ]
     },
     "metadata": {},
     "output_type": "display_data"
    }
   ],
   "source": [
    "from tqdm import tqdm\n",
    "#get the first patch for visualization\n",
    "images1, labels1 = train_generator1.next()\n",
    "\n",
    "n_row = 3\n",
    "n_col = 5\n",
    "\n",
    "fig, ax = plt.subplots(n_row, n_col, figsize = (n_col*3, n_row*3), constrained_layout = True)\n",
    "\n",
    "for row in tqdm(range(n_row)):\n",
    "    \n",
    "    for col in range(n_col):\n",
    "        \n",
    "        ax[row][col].imshow(images1[row*n_col + col,:,:,0], cmap = 'bone')\n",
    "        ax[row][col].set_xticks([])\n",
    "        ax[row][col].set_yticks([])"
   ]
  },
  {
   "cell_type": "code",
   "execution_count": 19,
   "id": "ee064d6b",
   "metadata": {
    "execution": {
     "iopub.execute_input": "2022-06-02T23:37:47.864374Z",
     "iopub.status.busy": "2022-06-02T23:37:47.864034Z",
     "iopub.status.idle": "2022-06-02T23:40:33.747568Z",
     "shell.execute_reply": "2022-06-02T23:40:33.746500Z"
    },
    "papermill": {
     "duration": 165.993859,
     "end_time": "2022-06-02T23:40:33.804277",
     "exception": false,
     "start_time": "2022-06-02T23:37:47.810418",
     "status": "completed"
    },
    "tags": []
   },
   "outputs": [
    {
     "name": "stdout",
     "output_type": "stream",
     "text": [
      "(110300, 50, 50, 3)\n",
      "(110300, 2)\n"
     ]
    }
   ],
   "source": [
    "#get the augmented data\n",
    "train_data1=np.concatenate([train_generator1.next()[0] for i in range(train_generator1.__len__())])\n",
    "train_label1=np.concatenate([train_generator1.next()[1] for i in range(train_generator1.__len__())])\n",
    "print(train_data1.shape)\n",
    "print(train_label1.shape)\n",
    "#print(train_label1)"
   ]
  },
  {
   "cell_type": "code",
   "execution_count": 20,
   "id": "59fc735a",
   "metadata": {
    "execution": {
     "iopub.execute_input": "2022-06-02T23:40:33.912183Z",
     "iopub.status.busy": "2022-06-02T23:40:33.911894Z"
    },
    "papermill": {
     "duration": 11.121594,
     "end_time": "2022-06-02T23:40:44.978528",
     "exception": false,
     "start_time": "2022-06-02T23:40:33.856934",
     "status": "completed"
    },
    "tags": []
   },
   "outputs": [],
   "source": [
    "train_data2=np.concatenate((train_data,train_data1))\n",
    "train_label2=np.concatenate((train_label,train_label1))\n",
    "print(train_data2.shape)\n",
    "print(train_label2.shape)"
   ]
  },
  {
   "cell_type": "code",
   "execution_count": null,
   "id": "3d27df16",
   "metadata": {
    "papermill": {
     "duration": null,
     "end_time": null,
     "exception": null,
     "start_time": null,
     "status": "completed"
    },
    "tags": []
   },
   "outputs": [],
   "source": [
    "train_data2, train_label2 = shuffle(train_data2, train_label2, random_state=0)"
   ]
  },
  {
   "cell_type": "code",
   "execution_count": null,
   "id": "ae3072ef",
   "metadata": {
    "papermill": {
     "duration": null,
     "end_time": null,
     "exception": null,
     "start_time": null,
     "status": "completed"
    },
    "tags": []
   },
   "outputs": [],
   "source": [
    "train_datagen2 = ImageDataGenerator(rescale = 1.0/255)\n",
    "train_generator = train_datagen2.flow(train_data2,\n",
    "                                     train_label2, \n",
    "                                     batch_size = 16, \n",
    "                                     shuffle = False)"
   ]
  },
  {
   "cell_type": "code",
   "execution_count": null,
   "id": "390a9303",
   "metadata": {
    "execution": {
     "iopub.execute_input": "2022-06-02T14:55:52.973848Z",
     "iopub.status.busy": "2022-06-02T14:55:52.973426Z",
     "iopub.status.idle": "2022-06-02T14:55:52.978657Z",
     "shell.execute_reply": "2022-06-02T14:55:52.977647Z",
     "shell.execute_reply.started": "2022-06-02T14:55:52.973798Z"
    },
    "papermill": {
     "duration": null,
     "end_time": null,
     "exception": null,
     "start_time": null,
     "status": "completed"
    },
    "tags": []
   },
   "outputs": [],
   "source": [
    "#get the first patch for visualization\n",
    "images2, labels2 = train_generator.next()\n",
    "n_row = 3\n",
    "n_col = 5\n",
    "\n",
    "fig, ax = plt.subplots(n_row, n_col, figsize = (n_col*3, n_row*3), constrained_layout = True)\n",
    "\n",
    "for row in tqdm(range(n_row)):\n",
    "    \n",
    "    for col in range(n_col):\n",
    "        \n",
    "        ax[row][col].imshow(images2[row*n_col + col,:,:,0], cmap = 'bone')\n",
    "        ax[row][col].set_xticks([])\n",
    "        ax[row][col].set_yticks([])\n",
    "#print(val2_generator)"
   ]
  },
  {
   "cell_type": "code",
   "execution_count": null,
   "id": "df73e1ac",
   "metadata": {
    "papermill": {
     "duration": null,
     "end_time": null,
     "exception": null,
     "start_time": null,
     "status": "completed"
    },
    "tags": []
   },
   "outputs": [],
   "source": [
    "train_label2_2=np.concatenate([train_generator.next()[1] for i in range(train_generator.__len__())])\n",
    "print(train_label2_2.shape)"
   ]
  },
  {
   "cell_type": "code",
   "execution_count": null,
   "id": "7065bdd2",
   "metadata": {
    "execution": {
     "iopub.execute_input": "2022-06-02T20:18:57.472275Z",
     "iopub.status.busy": "2022-06-02T20:18:57.471590Z",
     "iopub.status.idle": "2022-06-02T20:18:57.477435Z",
     "shell.execute_reply": "2022-06-02T20:18:57.476171Z",
     "shell.execute_reply.started": "2022-06-02T20:18:57.472212Z"
    },
    "papermill": {
     "duration": null,
     "end_time": null,
     "exception": null,
     "start_time": null,
     "status": "completed"
    },
    "tags": []
   },
   "outputs": [],
   "source": [
    "tf.config.run_functions_eagerly(True)"
   ]
  },
  {
   "cell_type": "code",
   "execution_count": null,
   "id": "7ca168a0",
   "metadata": {
    "execution": {
     "iopub.execute_input": "2022-06-02T20:19:23.050242Z",
     "iopub.status.busy": "2022-06-02T20:19:23.049863Z",
     "iopub.status.idle": "2022-06-02T20:19:32.124069Z",
     "shell.execute_reply": "2022-06-02T20:19:32.122810Z",
     "shell.execute_reply.started": "2022-06-02T20:19:23.050210Z"
    },
    "papermill": {
     "duration": null,
     "end_time": null,
     "exception": null,
     "start_time": null,
     "status": "completed"
    },
    "tags": []
   },
   "outputs": [],
   "source": [
    "from keras.callbacks import ModelCheckpoint, EarlyStopping\n",
    "import glob\n",
    "IMG_SHAPE=(img_x, img_x, 3)\n",
    "model_checkpoint2 = ModelCheckpoint(filepath=MODEL_PATH,  monitor='val_acc', verbose=1, save_best_only=True, mode='max')\n",
    "#model_checkpoint2 = ModelCheckpoint(filepath=MODEL_PATH,  monitor='val_loss', verbose=1, save_best_only=True, mode='min')\n",
    "board2 = TensorBoard(log_dir=board_name2,\n",
    "                     histogram_freq=0,\n",
    "                     write_graph=True,\n",
    "                     write_images=True)\n",
    "callback_list2 = [model_checkpoint2, board2, EarlyStopping(monitor='val_acc', patience=20)]\n",
    "learning_rate = 0.00001\n",
    "decay = 1e-6\n",
    "momentum = 0.8\n",
    "nesterov = True\n",
    "sgd_optimizer = keras.optimizers.SGD(lr = learning_rate, decay = decay,            \n",
    "                    momentum = momentum, nesterov = nesterov)\n",
    "model.compile(loss = [focal_loss(gamma=2)], optimizer = sgd_optimizer, metrics = ['acc'])\n",
    "\n",
    "nb_train_samples = size_4_training*0.7  \n",
    "nb_validation_samples = size_4_training*0.3*0.3\n",
    "\n",
    "\n",
    "history1=model.fit_generator(train_generator, steps_per_epoch=nb_train_samples /batch_size, epochs=epochs,\n",
    "                    validation_data=val_generator, validation_steps=nb_validation_samples / batch_size,\n",
    "                    verbose=1, shuffle=True, callbacks=callback_list2)\n",
    "#history1=model.fit(\n",
    "#   x=X_train,\n",
    "#    y=y_train,\n",
    "#    batch_size=32,\n",
    "#    epochs=30,\n",
    "#    verbose=1,\n",
    "#    callbacks=callback_list2,\n",
    "#    validation_split=0.0,\n",
    "#    validation_data=(X_test, y_test),\n",
    "#    shuffle=True,\n",
    "#    class_weight=None,\n",
    "#    sample_weight=None,\n",
    "#    initial_epoch=0,\n",
    "#    steps_per_epoch=None,\n",
    "#    validation_steps=None,\n",
    "#    validation_batch_size=None,\n",
    "#    validation_freq=1,\n",
    "#    max_queue_size=10,\n",
    "#    workers=1,\n",
    "#    use_multiprocessing=False\n",
    "#)\n",
    "\n"
   ]
  },
  {
   "cell_type": "code",
   "execution_count": null,
   "id": "69a17563",
   "metadata": {
    "execution": {
     "iopub.execute_input": "2022-06-02T15:07:16.66878Z",
     "iopub.status.busy": "2022-06-02T15:07:16.668419Z",
     "iopub.status.idle": "2022-06-02T15:07:16.765898Z",
     "shell.execute_reply": "2022-06-02T15:07:16.764657Z",
     "shell.execute_reply.started": "2022-06-02T15:07:16.668743Z"
    },
    "papermill": {
     "duration": null,
     "end_time": null,
     "exception": null,
     "start_time": null,
     "status": "completed"
    },
    "tags": []
   },
   "outputs": [],
   "source": [
    "model.load_weights('./test_model.h5')"
   ]
  },
  {
   "cell_type": "raw",
   "id": "52c91c03",
   "metadata": {
    "papermill": {
     "duration": null,
     "end_time": null,
     "exception": null,
     "start_time": null,
     "status": "completed"
    },
    "tags": []
   },
   "source": []
  },
  {
   "cell_type": "code",
   "execution_count": null,
   "id": "3c8ae666",
   "metadata": {
    "execution": {
     "iopub.execute_input": "2022-06-02T20:19:38.238277Z",
     "iopub.status.busy": "2022-06-02T20:19:38.238018Z",
     "iopub.status.idle": "2022-06-02T20:19:38.243948Z",
     "shell.execute_reply": "2022-06-02T20:19:38.243110Z",
     "shell.execute_reply.started": "2022-06-02T20:19:38.238253Z"
    },
    "papermill": {
     "duration": null,
     "end_time": null,
     "exception": null,
     "start_time": null,
     "status": "completed"
    },
    "tags": []
   },
   "outputs": [],
   "source": [
    "import glob\n",
    "nb_train_samples = len(train_label)  \n",
    "nb_validation_samples = len(test_label)  \n",
    "print(nb_train_samples //batch_size)\n",
    "print(nb_validation_samples //batch_size)"
   ]
  },
  {
   "cell_type": "code",
   "execution_count": null,
   "id": "46b9c20c",
   "metadata": {
    "execution": {
     "iopub.execute_input": "2022-06-02T20:19:42.839023Z",
     "iopub.status.busy": "2022-06-02T20:19:42.838730Z",
     "iopub.status.idle": "2022-06-02T20:19:43.241546Z",
     "shell.execute_reply": "2022-06-02T20:19:43.240828Z",
     "shell.execute_reply.started": "2022-06-02T20:19:42.838999Z"
    },
    "papermill": {
     "duration": null,
     "end_time": null,
     "exception": null,
     "start_time": null,
     "status": "completed"
    },
    "tags": []
   },
   "outputs": [],
   "source": [
    "#显示第一次训练过程中accuracy和loss的变化\n",
    "import matplotlib.pyplot as plt\n",
    "import seaborn as sns\n",
    "plt.figure(figsize = (12, 6))\n",
    "plt.subplot(121)\n",
    "#plotting the Accuracy of test and training sets\n",
    "plt.plot(history1.history['acc'])\n",
    "plt.plot(history1.history['val_acc'])\n",
    "plt.title('1st training Model Accuracy')\n",
    "plt.ylabel('accuracy')\n",
    "plt.xlabel('epoch')\n",
    "plt.legend(['train', 'test'], loc='upper left')\n",
    "\n",
    "plt.subplot(122)\n",
    "#plotting the loss of test and training sets\n",
    "plt.plot(history1.history['loss'])\n",
    "plt.plot(history1.history['val_loss'])\n",
    "plt.title('1st training Model Loss')\n",
    "plt.ylabel('loss')\n",
    "plt.xlabel('epoch')\n",
    "plt.legend(['train', 'test'], loc='upper left')\n",
    "plt.show()"
   ]
  },
  {
   "cell_type": "code",
   "execution_count": null,
   "id": "2ea36cde",
   "metadata": {
    "execution": {
     "iopub.execute_input": "2022-06-02T20:19:47.137307Z",
     "iopub.status.busy": "2022-06-02T20:19:47.137044Z",
     "iopub.status.idle": "2022-06-02T20:19:51.356633Z",
     "shell.execute_reply": "2022-06-02T20:19:51.355742Z",
     "shell.execute_reply.started": "2022-06-02T20:19:47.137262Z"
    },
    "papermill": {
     "duration": null,
     "end_time": null,
     "exception": null,
     "start_time": null,
     "status": "completed"
    },
    "tags": []
   },
   "outputs": [],
   "source": [
    "import sklearn\n",
    "from sklearn.metrics import f1_score, roc_auc_score, cohen_kappa_score, precision_score, recall_score, accuracy_score, confusion_matrix\n",
    "#---------------\n",
    "from keras.models import load_model\n",
    "\n",
    "model.load_weights(MODEL_PATH)\n",
    "print(\"analyse of 1st model\")\n",
    "\n",
    "\n",
    "cf_matrix_val = confusion_matrix(\n",
    "    np.concatenate([np.argmax(val2_generator[i][1], axis=1) for i in range(len(val2_generator))]),    \n",
    "    np.argmax(model.predict_generator(val2_generator, steps=len(val2_generator)), axis=1) \n",
    ")\n",
    "\n",
    "plt.figure(figsize = (12, 6))\n",
    "sns.heatmap(cf_matrix_val, annot=True, cmap='Blues')\n",
    "plt.title(\"VAL Confusion matrix\")\n",
    "# kappa VAL\n",
    "kappa_val = cohen_kappa_score(\n",
    "    np.concatenate([np.argmax(val2_generator[i][1], axis=1) for i in range(len(val2_generator))]),    \n",
    "    np.argmax(model.predict_generator(val2_generator, steps=len(val2_generator)), axis=1) \n",
    ")\n",
    "print(\"VAL kappa\")\n",
    "print(kappa_val)\n",
    "\n",
    "\n",
    "\n",
    "print(\"analyse 1st model\")\n",
    "print(\"report of val data\")\n",
    "report = sklearn.metrics.classification_report(\n",
    "    np.concatenate([np.argmax(val2_generator[i][1], axis=1) for i in range(len(val2_generator))]),    \n",
    "    np.argmax(model.predict_generator(val2_generator, steps=len(val2_generator)), axis=1) \n",
    ")\n",
    "print(report)"
   ]
  },
  {
   "cell_type": "code",
   "execution_count": null,
   "id": "88e5e106",
   "metadata": {
    "execution": {
     "iopub.execute_input": "2022-06-02T20:20:01.174459Z",
     "iopub.status.busy": "2022-06-02T20:20:01.173992Z",
     "iopub.status.idle": "2022-06-02T20:20:09.179978Z",
     "shell.execute_reply": "2022-06-02T20:20:09.178510Z",
     "shell.execute_reply.started": "2022-06-02T20:20:01.174432Z"
    },
    "papermill": {
     "duration": null,
     "end_time": null,
     "exception": null,
     "start_time": null,
     "status": "completed"
    },
    "tags": []
   },
   "outputs": [],
   "source": [
    "#------------------\n",
    "cf_matrix_test = confusion_matrix(\n",
    "    np.concatenate([np.argmax(val_generator[i][1], axis=1) for i in range(len(val_generator))]),    \n",
    "    np.argmax(model.predict_generator(val_generator, steps=len(val_generator)), axis=1) \n",
    ")\n",
    "\n",
    "plt.figure(figsize = (12, 6))\n",
    "sns.heatmap(cf_matrix_test, annot=True, cmap='Blues')\n",
    "plt.title(\"Test Confusion matrix\")\n",
    "\n",
    "\n",
    "\n",
    "print(\"report of test data\")\n",
    "import sklearn\n",
    "\n",
    "report = sklearn.metrics.classification_report(\n",
    "    np.concatenate([np.argmax(val_generator[i][1], axis=1) for i in range(len(val_generator))]),    \n",
    "    np.argmax(model.predict_generator(val_generator, steps=len(val_generator)), axis=1) \n",
    ")\n",
    "print(report)\n",
    "\n",
    "\n",
    "# kappa TEST\n",
    "kappa_test = cohen_kappa_score(\n",
    "    np.concatenate([np.argmax(val_generator[i][1], axis=1) for i in range(len(val_generator))]),    \n",
    "    np.argmax(model.predict_generator(val_generator, steps=len(val_generator)), axis=1) \n",
    ")\n",
    "print(\"TEST kappa\")\n",
    "print(kappa_test)"
   ]
  },
  {
   "cell_type": "code",
   "execution_count": null,
   "id": "7fd7f413",
   "metadata": {
    "papermill": {
     "duration": null,
     "end_time": null,
     "exception": null,
     "start_time": null,
     "status": "completed"
    },
    "tags": []
   },
   "outputs": [],
   "source": []
  },
  {
   "cell_type": "markdown",
   "id": "a7157de3",
   "metadata": {
    "execution": {
     "iopub.execute_input": "2022-06-01T20:40:17.498653Z",
     "iopub.status.busy": "2022-06-01T20:40:17.498397Z",
     "iopub.status.idle": "2022-06-01T20:40:17.514875Z",
     "shell.execute_reply": "2022-06-01T20:40:17.514121Z",
     "shell.execute_reply.started": "2022-06-01T20:40:17.498616Z"
    },
    "papermill": {
     "duration": null,
     "end_time": null,
     "exception": null,
     "start_time": null,
     "status": "completed"
    },
    "tags": []
   },
   "source": [
    "import seaborn as sns\n",
    "from sklearn.metrics import f1_score, roc_auc_score, cohen_kappa_score, precision_score, recall_score, accuracy_score, confusion_matrix\n",
    "\n",
    "def test_2_final_model(model, train_generator, test_generator, val_generator, y_train, y_test, y_val, class_labels):\n",
    "    \n",
    "    # BS = 16\n",
    "    ##results = dict()\n",
    "    \n",
    "    # n = len(testy)// BS\n",
    "\n",
    "    # testX = testX[:BS*n]\n",
    "    # testy = testy[:BS*n]\n",
    "\n",
    "    ##print('Predicting test data')\n",
    "    ##test_start_time = datetime.now()\n",
    "    y_pred_test_original = model.predict_generator(test_generator,verbose=1)\n",
    "    # y_pred = (y_pred_test>0.5).astype('int')\n",
    "\n",
    "    y_pred_test = np.argmax(y_pred_test_original, axis = 1)\n",
    "    #y_pred_test = y_pred_test_original\n",
    "    #y_test = y_test.astype(int) # sparse form not categorical\n",
    "    #y_train = y_train.astype(int) # sparse form not categorical\n",
    "    #y_val = y_val.astype(int) # sparse form not categorical\n",
    "    # y_test = np.argmax(testy, axis= 1)\n",
    "    #y_test = np.argmax(testy, axis=-1)\n",
    "    y_test = np.argmax(y_test, axis= 1)\n",
    "    y_train = np.argmax(y_train, axis= 1)\n",
    "    y_val = np.argmax(y_val, axis= 1)\n",
    "    ##test_end_time = datetime.now()\n",
    "    ##print('Done \\n \\n')\n",
    "    ##results['testing_time'] = test_end_time - test_start_time\n",
    "    ##print('testing time(HH:MM:SS:ms) - {}\\n\\n'.format(results['testing_time']))\n",
    "    ##results['predicted'] = y_pred_test\n",
    "\n",
    "\n",
    "    # balanced_accuracy\n",
    "    from sklearn.metrics import balanced_accuracy_score\n",
    "    ##balanced_accuracy = balanced_accuracy_score(y_true=y_test, y_pred=y_pred_test)\n",
    "    ##print('---------------------')\n",
    "    ##print('| Balanced Accuracy  |')\n",
    "    ##print('---------------------')\n",
    "    ##print('\\n    {}\\n\\n'.format(balanced_accuracy))\n",
    "\n",
    "    \n",
    "    # calculate overall accuracty of the model\n",
    "    ##accuracy = metrics.accuracy_score(y_true=y_test, y_pred=y_pred_test)\n",
    "    # store accuracy in results\n",
    "    ##results['accuracy'] = accuracy\n",
    "    ##print('---------------------')\n",
    "    ##print('|      Accuracy      |')\n",
    "    ##print('---------------------')\n",
    "    ##print('\\n    {}\\n\\n'.format(accuracy))\n",
    "    \n",
    "\n",
    "    # get classification report\n",
    "    ##print('-------------------------')\n",
    "    ##print('| Classifiction Report |')\n",
    "    ##print('-------------------------')\n",
    "    ##classification_report = metrics.classification_report(y_test, y_pred_test)\n",
    "    # store report in results\n",
    "    ##results['classification_report'] = classification_report\n",
    "    ##print(classification_report)\n",
    "    \n",
    "    \n",
    "    \n",
    "    # confusion matrix\n",
    "    ##cm = metrics.confusion_matrix(y_test, y_pred_test)\n",
    "    ##results['confusion_matrix'] = cm\n",
    "    ##if print_cm: \n",
    "    ##    print('--------------------')\n",
    "    ##    print('| Confusion Matrix |')\n",
    "    ##    print('--------------------')\n",
    "    ##    print('\\n {}'.format(cm))\n",
    "        \n",
    "    # plot confusin matrix\n",
    "    ##plt.figure(figsize=(6,4))\n",
    "    ##plt.grid(b=False)\n",
    "    ##plot_confusion_matrix(cm, classes=class_labels, normalize=True, title='Normalized confusion matrix')\n",
    "    ##plt.show()\n",
    "    \n",
    "\n",
    "    \n",
    "    # add the trained  model to the results\n",
    "    ##results['model'] = model\n",
    "    ##print(\"calculate other score\")\n",
    "    ##print(\"predicting validation data\")\n",
    "\n",
    "    #calculate other score\n",
    "    y_pred_val_original = model.predict_generator(val_generator,verbose=1)\n",
    "    # y_pred = (y_pred_val>0.5).astype('int')\n",
    "\n",
    "    y_pred_val = np.argmax(y_pred_val_original, axis=1)\n",
    "    # y_val = np.argmax(valy, axis= 1)\n",
    "    #y_val = np.argmax(valy, axis=-1)\n",
    "    print(\"predicting test data\")\n",
    "    y_pred_train_original = model.predict_generator(train_generator,verbose=1)\n",
    "    # y_pred = (y_pred_train>0.5).astype('int')\n",
    "\n",
    "    y_pred_train = np.argmax(y_pred_train_original,axis=1)\n",
    "    # y_train = np.argmax(trainy, axis= 1)\n",
    "    #y_train = np.argmax(trainy, axis=-1)\n",
    "    \n",
    "    print(\"Train accuracy Score------------>\")\n",
    "    print (\"{0:.3f}\".format(accuracy_score(y_train, y_pred_train)*100), \"%\")\n",
    "    \n",
    "    print(\"Val accuracy Score--------->\")\n",
    "    \n",
    "    print(\"{0:.3f}\".format(accuracy_score(y_val, y_pred_val)*100), \"%\")\n",
    "    \n",
    "\n",
    "    \n",
    "  \n",
    "    print(\"Test accuracy Score--------->\")\n",
    "    print(\"{0:.3f}\".format(accuracy_score(y_test, y_pred_test)*100), \"%\")\n",
    "    \n",
    "    print(\"F1 Score--------------->\")\n",
    "    print(\"{0:.3f}\".format(f1_score(y_test, y_pred_test, average = 'weighted')*100), \"%\")\n",
    "    \n",
    "    print(\"Cohen Kappa Score------------->\")\n",
    "    print(\"{0:.3f}\".format(cohen_kappa_score(y_test, y_pred_test)*100), \"%\")\n",
    "    \n",
    "    print(\"Recall-------------->\")\n",
    "    print(\"{0:.3f}\".format(recall_score(y_test, y_pred_test, average = 'weighted')*100), \"%\")\n",
    "    \n",
    "    print(\"Precision-------------->\")\n",
    "    print(\"{0:.3f}\".format(precision_score(y_test, y_pred_test, average = 'weighted')*100), \"%\")\n",
    "    \n",
    "    cf_matrix_test = confusion_matrix(y_test, y_pred_test)\n",
    "    cf_matrix_val = confusion_matrix(y_val, y_pred_val)\n",
    "    \n",
    "    plt.figure(figsize = (12, 6))\n",
    "    plt.subplot(121)\n",
    "    sns.heatmap(cf_matrix_val, annot=True, cmap='Blues')\n",
    "    plt.title(\"Val Confusion matrix\")\n",
    "    \n",
    "    plt.subplot(122)\n",
    "    sns.heatmap(cf_matrix_test, annot=True, cmap='Blues')\n",
    "    plt.title(\"Test Confusion matrix\")\n",
    "    \n",
    "    plt.show()\n",
    "    from sklearn.metrics import classification_report\n",
    "    print(\"classification report\")\n",
    "    print(classification_report(y_val, y_pred_val))\n",
    "    \n",
    "    return"
   ]
  },
  {
   "cell_type": "markdown",
   "id": "97839db0",
   "metadata": {
    "execution": {
     "iopub.execute_input": "2022-06-01T20:40:17.519793Z",
     "iopub.status.busy": "2022-06-01T20:40:17.519465Z",
     "iopub.status.idle": "2022-06-01T20:41:51.232148Z",
     "shell.execute_reply": "2022-06-01T20:41:51.229767Z",
     "shell.execute_reply.started": "2022-06-01T20:40:17.519691Z"
    },
    "papermill": {
     "duration": null,
     "end_time": null,
     "exception": null,
     "start_time": null,
     "status": "completed"
    },
    "tags": []
   },
   "source": [
    "test_2_final_model(model, train_generator, \n",
    "               val_generator, val2_generator, \n",
    "               train_label,\n",
    "               test_label,\n",
    "               val_label, \n",
    "               class_labels = ['idc-', 'idc+'])"
   ]
  },
  {
   "cell_type": "raw",
   "id": "9652cf4d",
   "metadata": {
    "papermill": {
     "duration": null,
     "end_time": null,
     "exception": null,
     "start_time": null,
     "status": "completed"
    },
    "tags": []
   },
   "source": []
  },
  {
   "cell_type": "code",
   "execution_count": null,
   "id": "8f474c8f",
   "metadata": {
    "execution": {
     "iopub.status.busy": "2022-06-02T15:07:17.824101Z",
     "iopub.status.idle": "2022-06-02T15:07:17.824915Z",
     "shell.execute_reply": "2022-06-02T15:07:17.824731Z",
     "shell.execute_reply.started": "2022-06-02T15:07:17.824702Z"
    },
    "papermill": {
     "duration": null,
     "end_time": null,
     "exception": null,
     "start_time": null,
     "status": "completed"
    },
    "tags": []
   },
   "outputs": [],
   "source": [
    "#print(np.argmax(model.predict_generator(train_generator), axis=1))\n"
   ]
  },
  {
   "cell_type": "code",
   "execution_count": null,
   "id": "a221dbe6",
   "metadata": {
    "execution": {
     "iopub.status.busy": "2022-06-02T15:07:17.826094Z",
     "iopub.status.idle": "2022-06-02T15:07:17.826915Z",
     "shell.execute_reply": "2022-06-02T15:07:17.82673Z",
     "shell.execute_reply.started": "2022-06-02T15:07:17.826706Z"
    },
    "papermill": {
     "duration": null,
     "end_time": null,
     "exception": null,
     "start_time": null,
     "status": "completed"
    },
    "tags": []
   },
   "outputs": [],
   "source": [
    "#y_train.astype(int)"
   ]
  },
  {
   "cell_type": "code",
   "execution_count": null,
   "id": "a403ba88",
   "metadata": {
    "papermill": {
     "duration": null,
     "end_time": null,
     "exception": null,
     "start_time": null,
     "status": "completed"
    },
    "tags": []
   },
   "outputs": [],
   "source": []
  },
  {
   "cell_type": "code",
   "execution_count": null,
   "id": "1068f2b6",
   "metadata": {
    "papermill": {
     "duration": null,
     "end_time": null,
     "exception": null,
     "start_time": null,
     "status": "completed"
    },
    "tags": []
   },
   "outputs": [],
   "source": []
  },
  {
   "cell_type": "code",
   "execution_count": null,
   "id": "90ff9abb",
   "metadata": {
    "papermill": {
     "duration": null,
     "end_time": null,
     "exception": null,
     "start_time": null,
     "status": "completed"
    },
    "tags": []
   },
   "outputs": [],
   "source": []
  }
 ],
 "metadata": {
  "kernelspec": {
   "display_name": "Python 3",
   "language": "python",
   "name": "python3"
  },
  "language_info": {
   "codemirror_mode": {
    "name": "ipython",
    "version": 3
   },
   "file_extension": ".py",
   "mimetype": "text/x-python",
   "name": "python",
   "nbconvert_exporter": "python",
   "pygments_lexer": "ipython3",
   "version": "3.6.4"
  },
  "papermill": {
   "default_parameters": {},
   "duration": 941.147298,
   "end_time": "2022-06-02T23:40:45.075111",
   "environment_variables": {},
   "exception": null,
   "input_path": "__notebook__.ipynb",
   "output_path": "__notebook__.ipynb",
   "parameters": {},
   "start_time": "2022-06-02T23:25:03.927813",
   "version": "2.3.4"
  }
 },
 "nbformat": 4,
 "nbformat_minor": 5
}
