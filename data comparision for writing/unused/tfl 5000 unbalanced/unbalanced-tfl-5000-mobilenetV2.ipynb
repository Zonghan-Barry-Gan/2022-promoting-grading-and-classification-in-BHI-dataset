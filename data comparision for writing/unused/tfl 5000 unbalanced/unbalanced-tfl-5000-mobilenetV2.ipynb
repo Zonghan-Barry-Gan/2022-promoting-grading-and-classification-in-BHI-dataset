{
 "cells": [
  {
   "cell_type": "code",
   "execution_count": 1,
   "id": "4c8a575e",
   "metadata": {
    "_cell_guid": "b1076dfc-b9ad-4769-8c92-a6c4dae69d19",
    "_uuid": "8f2839f25d086af736a60e9eeb907d3b93b6e0e5",
    "execution": {
     "iopub.execute_input": "2022-05-16T07:15:59.694455Z",
     "iopub.status.busy": "2022-05-16T07:15:59.693770Z",
     "iopub.status.idle": "2022-05-16T07:16:14.629250Z",
     "shell.execute_reply": "2022-05-16T07:16:14.628266Z"
    },
    "papermill": {
     "duration": 14.980261,
     "end_time": "2022-05-16T07:16:14.632324",
     "exception": false,
     "start_time": "2022-05-16T07:15:59.652063",
     "status": "completed"
    },
    "tags": []
   },
   "outputs": [
    {
     "name": "stdout",
     "output_type": "stream",
     "text": [
      "Collecting Livelossplot\r\n",
      "  Downloading livelossplot-0.5.5-py3-none-any.whl (22 kB)\r\n",
      "Requirement already satisfied: bokeh in /opt/conda/lib/python3.7/site-packages (from Livelossplot) (2.4.2)\r\n",
      "Requirement already satisfied: matplotlib in /opt/conda/lib/python3.7/site-packages (from Livelossplot) (3.5.2)\r\n",
      "Requirement already satisfied: ipython==7.* in /opt/conda/lib/python3.7/site-packages (from Livelossplot) (7.32.0)\r\n",
      "Requirement already satisfied: numpy<1.22 in /opt/conda/lib/python3.7/site-packages (from Livelossplot) (1.21.6)\r\n",
      "Requirement already satisfied: pexpect>4.3 in /opt/conda/lib/python3.7/site-packages (from ipython==7.*->Livelossplot) (4.8.0)\r\n",
      "Requirement already satisfied: prompt-toolkit!=3.0.0,!=3.0.1,<3.1.0,>=2.0.0 in /opt/conda/lib/python3.7/site-packages (from ipython==7.*->Livelossplot) (3.0.27)\r\n",
      "Requirement already satisfied: setuptools>=18.5 in /opt/conda/lib/python3.7/site-packages (from ipython==7.*->Livelossplot) (59.8.0)\r\n",
      "Requirement already satisfied: decorator in /opt/conda/lib/python3.7/site-packages (from ipython==7.*->Livelossplot) (5.1.1)\r\n",
      "Requirement already satisfied: traitlets>=4.2 in /opt/conda/lib/python3.7/site-packages (from ipython==7.*->Livelossplot) (5.1.1)\r\n",
      "Requirement already satisfied: matplotlib-inline in /opt/conda/lib/python3.7/site-packages (from ipython==7.*->Livelossplot) (0.1.3)\r\n",
      "Requirement already satisfied: pygments in /opt/conda/lib/python3.7/site-packages (from ipython==7.*->Livelossplot) (2.11.2)\r\n",
      "Requirement already satisfied: backcall in /opt/conda/lib/python3.7/site-packages (from ipython==7.*->Livelossplot) (0.2.0)\r\n",
      "Requirement already satisfied: pickleshare in /opt/conda/lib/python3.7/site-packages (from ipython==7.*->Livelossplot) (0.7.5)\r\n",
      "Requirement already satisfied: jedi>=0.16 in /opt/conda/lib/python3.7/site-packages (from ipython==7.*->Livelossplot) (0.18.1)\r\n",
      "Requirement already satisfied: tornado>=5.1 in /opt/conda/lib/python3.7/site-packages (from bokeh->Livelossplot) (6.1)\r\n",
      "Requirement already satisfied: packaging>=16.8 in /opt/conda/lib/python3.7/site-packages (from bokeh->Livelossplot) (21.3)\r\n",
      "Requirement already satisfied: typing-extensions>=3.10.0 in /opt/conda/lib/python3.7/site-packages (from bokeh->Livelossplot) (4.2.0)\r\n",
      "Requirement already satisfied: Jinja2>=2.9 in /opt/conda/lib/python3.7/site-packages (from bokeh->Livelossplot) (3.1.2)\r\n",
      "Requirement already satisfied: PyYAML>=3.10 in /opt/conda/lib/python3.7/site-packages (from bokeh->Livelossplot) (6.0)\r\n",
      "Requirement already satisfied: pillow>=7.1.0 in /opt/conda/lib/python3.7/site-packages (from bokeh->Livelossplot) (9.0.1)\r\n",
      "Requirement already satisfied: fonttools>=4.22.0 in /opt/conda/lib/python3.7/site-packages (from matplotlib->Livelossplot) (4.30.0)\r\n",
      "Requirement already satisfied: pyparsing>=2.2.1 in /opt/conda/lib/python3.7/site-packages (from matplotlib->Livelossplot) (3.0.7)\r\n",
      "Requirement already satisfied: cycler>=0.10 in /opt/conda/lib/python3.7/site-packages (from matplotlib->Livelossplot) (0.11.0)\r\n",
      "Requirement already satisfied: python-dateutil>=2.7 in /opt/conda/lib/python3.7/site-packages (from matplotlib->Livelossplot) (2.8.2)\r\n",
      "Requirement already satisfied: kiwisolver>=1.0.1 in /opt/conda/lib/python3.7/site-packages (from matplotlib->Livelossplot) (1.4.0)\r\n",
      "Requirement already satisfied: parso<0.9.0,>=0.8.0 in /opt/conda/lib/python3.7/site-packages (from jedi>=0.16->ipython==7.*->Livelossplot) (0.8.3)\r\n",
      "Requirement already satisfied: MarkupSafe>=2.0 in /opt/conda/lib/python3.7/site-packages (from Jinja2>=2.9->bokeh->Livelossplot) (2.0.1)\r\n",
      "Requirement already satisfied: ptyprocess>=0.5 in /opt/conda/lib/python3.7/site-packages (from pexpect>4.3->ipython==7.*->Livelossplot) (0.7.0)\r\n",
      "Requirement already satisfied: wcwidth in /opt/conda/lib/python3.7/site-packages (from prompt-toolkit!=3.0.0,!=3.0.1,<3.1.0,>=2.0.0->ipython==7.*->Livelossplot) (0.2.5)\r\n",
      "Requirement already satisfied: six>=1.5 in /opt/conda/lib/python3.7/site-packages (from python-dateutil>=2.7->matplotlib->Livelossplot) (1.16.0)\r\n",
      "Installing collected packages: Livelossplot\r\n",
      "Successfully installed Livelossplot-0.5.5\r\n",
      "\u001b[33mWARNING: Running pip as the 'root' user can result in broken permissions and conflicting behaviour with the system package manager. It is recommended to use a virtual environment instead: https://pip.pypa.io/warnings/venv\u001b[0m\u001b[33m\r\n",
      "\u001b[0m"
     ]
    }
   ],
   "source": [
    "# This Python 3 environment comes with many helpful analytics libraries installed\n",
    "# It is defined by the kaggle/python Docker image: https://github.com/kaggle/docker-python\n",
    "# For example, here's several helpful packages to load\n",
    "\n",
    "import numpy as np # linear algebra\n",
    "import pandas as pd # data processing, CSV file I/O (e.g. pd.read_csv)\n",
    "\n",
    "# Input data files are available in the read-only \"../input/\" directory\n",
    "# For example, running this (by clicking run or pressing Shift+Enter) will list all files under the input directory\n",
    "\n",
    "import os\n",
    "\n",
    "import warnings\n",
    "warnings.filterwarnings('ignore')\n",
    "%matplotlib inline\n",
    "!pip install Livelossplot\n",
    "from livelossplot import PlotLossesKeras\n",
    "\n",
    "from glob import glob\n",
    "import os\n",
    "import shutil\n",
    "\n",
    "import numpy as np\n",
    "import pandas as pd\n",
    "# You can write up to 20GB to the current directory (/kaggle/working/) that gets preserved as output when you create a version using \"Save & Run All\" \n",
    "# You can also write temporary files to /kaggle/temp/, but they won't be saved outside of the current session"
   ]
  },
  {
   "cell_type": "markdown",
   "id": "28d4b149",
   "metadata": {
    "papermill": {
     "duration": 0.041208,
     "end_time": "2022-05-16T07:16:14.718205",
     "exception": false,
     "start_time": "2022-05-16T07:16:14.676997",
     "status": "completed"
    },
    "tags": []
   },
   "source": [
    "# AIM\n",
    "## To classify the images into \n",
    "### IDC+\n",
    "### IDC-\n",
    "\n",
    "# Validation Strategy:\n",
    "\n",
    "## Train Data Size= 0.7*Total_Data\n",
    "## Validation Data Size= 0.21* Total_Data\n",
    "## Test Data Size= 0.09 * Total_Data\n",
    "\n",
    "# Augmentaions Used:\n",
    "## Each Image is rotated through 45 angles\n"
   ]
  },
  {
   "cell_type": "code",
   "execution_count": 2,
   "id": "f1de9534",
   "metadata": {
    "execution": {
     "iopub.execute_input": "2022-05-16T07:16:14.804652Z",
     "iopub.status.busy": "2022-05-16T07:16:14.804261Z",
     "iopub.status.idle": "2022-05-16T07:16:26.408361Z",
     "shell.execute_reply": "2022-05-16T07:16:26.406264Z"
    },
    "papermill": {
     "duration": 11.653006,
     "end_time": "2022-05-16T07:16:26.412174",
     "exception": false,
     "start_time": "2022-05-16T07:16:14.759168",
     "status": "completed"
    },
    "tags": []
   },
   "outputs": [
    {
     "data": {
      "text/html": [
       "<style type='text/css'>\n",
       ".datatable table.frame { margin-bottom: 0; }\n",
       ".datatable table.frame thead { border-bottom: none; }\n",
       ".datatable table.frame tr.coltypes td {  color: #FFFFFF;  line-height: 6px;  padding: 0 0.5em;}\n",
       ".datatable .bool    { background: #DDDD99; }\n",
       ".datatable .object  { background: #565656; }\n",
       ".datatable .int     { background: #5D9E5D; }\n",
       ".datatable .float   { background: #4040CC; }\n",
       ".datatable .str     { background: #CC4040; }\n",
       ".datatable .time    { background: #40CC40; }\n",
       ".datatable .row_index {  background: var(--jp-border-color3);  border-right: 1px solid var(--jp-border-color0);  color: var(--jp-ui-font-color3);  font-size: 9px;}\n",
       ".datatable .frame tbody td { text-align: left; }\n",
       ".datatable .frame tr.coltypes .row_index {  background: var(--jp-border-color0);}\n",
       ".datatable th:nth-child(2) { padding-left: 12px; }\n",
       ".datatable .hellipsis {  color: var(--jp-cell-editor-border-color);}\n",
       ".datatable .vellipsis {  background: var(--jp-layout-color0);  color: var(--jp-cell-editor-border-color);}\n",
       ".datatable .na {  color: var(--jp-cell-editor-border-color);  font-size: 80%;}\n",
       ".datatable .sp {  opacity: 0.25;}\n",
       ".datatable .footer { font-size: 9px; }\n",
       ".datatable .frame_dimensions {  background: var(--jp-border-color3);  border-top: 1px solid var(--jp-border-color0);  color: var(--jp-ui-font-color3);  display: inline-block;  opacity: 0.6;  padding: 1px 10px 1px 5px;}\n",
       "</style>\n"
      ],
      "text/plain": [
       "<IPython.core.display.HTML object>"
      ]
     },
     "metadata": {},
     "output_type": "display_data"
    },
    {
     "name": "stdout",
     "output_type": "stream",
     "text": [
      "All modules have been imported\n"
     ]
    }
   ],
   "source": [
    "\n",
    "import numpy as np\n",
    "import pandas as pd\n",
    "import cv2\n",
    "from PIL import Image\n",
    "import scipy\n",
    "\n",
    "import tensorflow as tf\n",
    "from tensorflow.keras.applications import *\n",
    "from tensorflow.keras.optimizers import *\n",
    "from tensorflow.keras.losses import *\n",
    "from tensorflow.keras.layers import *\n",
    "from tensorflow.keras.models import *\n",
    "from tensorflow.keras.callbacks import *\n",
    "from tensorflow.keras.preprocessing.image import *\n",
    "from tensorflow.keras.utils import *\n",
    "# import pydot\n",
    "\n",
    "from sklearn.metrics import *\n",
    "from sklearn.model_selection import *\n",
    "import tensorflow.keras.backend as K\n",
    "\n",
    "from tqdm import tqdm, tqdm_notebook\n",
    "from colorama import Fore\n",
    "import json\n",
    "import matplotlib.pyplot as plt\n",
    "import seaborn as sns\n",
    "from glob import glob\n",
    "from skimage.io import *\n",
    "%config Completer.use_jedi = False\n",
    "import time\n",
    "from sklearn.decomposition import PCA\n",
    "from sklearn.svm import LinearSVC\n",
    "from sklearn.linear_model import LogisticRegression\n",
    "from sklearn.metrics import accuracy_score\n",
    "import lightgbm as lgb\n",
    "import xgboost as xgb\n",
    "\n",
    "print(\"All modules have been imported\")"
   ]
  },
  {
   "cell_type": "code",
   "execution_count": 3,
   "id": "d8dfe93f",
   "metadata": {
    "execution": {
     "iopub.execute_input": "2022-05-16T07:16:26.519402Z",
     "iopub.status.busy": "2022-05-16T07:16:26.518304Z",
     "iopub.status.idle": "2022-05-16T07:16:26.524924Z",
     "shell.execute_reply": "2022-05-16T07:16:26.523952Z"
    },
    "papermill": {
     "duration": 0.060365,
     "end_time": "2022-05-16T07:16:26.527238",
     "exception": false,
     "start_time": "2022-05-16T07:16:26.466873",
     "status": "completed"
    },
    "tags": []
   },
   "outputs": [],
   "source": [
    "sampling_seed=0\n",
    "size_4_training=5000\n",
    "img_size=224\n",
    "training_reshape=(-1, img_size, img_size, 3)"
   ]
  },
  {
   "cell_type": "markdown",
   "id": "ba462ac6",
   "metadata": {
    "papermill": {
     "duration": 0.050953,
     "end_time": "2022-05-16T07:16:26.629489",
     "exception": false,
     "start_time": "2022-05-16T07:16:26.578536",
     "status": "completed"
    },
    "tags": []
   },
   "source": [
    "Image labelling"
   ]
  },
  {
   "cell_type": "code",
   "execution_count": 4,
   "id": "efe65e3e",
   "metadata": {
    "execution": {
     "iopub.execute_input": "2022-05-16T07:16:26.730708Z",
     "iopub.status.busy": "2022-05-16T07:16:26.729973Z",
     "iopub.status.idle": "2022-05-16T07:18:39.193282Z",
     "shell.execute_reply": "2022-05-16T07:18:39.192418Z"
    },
    "papermill": {
     "duration": 132.517102,
     "end_time": "2022-05-16T07:18:39.197067",
     "exception": false,
     "start_time": "2022-05-16T07:16:26.679965",
     "status": "completed"
    },
    "tags": []
   },
   "outputs": [
    {
     "name": "stdout",
     "output_type": "stream",
     "text": [
      "['../input/breast-histopathology-images/IDC_regular_ps50_idx5/10295/0/10295_idx5_x1351_y1101_class0.png', '../input/breast-histopathology-images/IDC_regular_ps50_idx5/10295/0/10295_idx5_x1501_y501_class0.png', '../input/breast-histopathology-images/IDC_regular_ps50_idx5/10295/0/10295_idx5_x1501_y1101_class0.png', '../input/breast-histopathology-images/IDC_regular_ps50_idx5/10295/0/10295_idx5_x451_y901_class0.png', '../input/breast-histopathology-images/IDC_regular_ps50_idx5/10295/0/10295_idx5_x801_y451_class0.png', '../input/breast-histopathology-images/IDC_regular_ps50_idx5/10295/0/10295_idx5_x151_y1051_class0.png', '../input/breast-histopathology-images/IDC_regular_ps50_idx5/10295/0/10295_idx5_x1351_y901_class0.png', '../input/breast-histopathology-images/IDC_regular_ps50_idx5/10295/0/10295_idx5_x701_y651_class0.png', '../input/breast-histopathology-images/IDC_regular_ps50_idx5/10295/0/10295_idx5_x951_y1401_class0.png', '../input/breast-histopathology-images/IDC_regular_ps50_idx5/10295/0/10295_idx5_x601_y501_class0.png']\n"
     ]
    }
   ],
   "source": [
    "import random\n",
    "#make directory for labelling\n",
    "os.makedirs('../working/idc2/idc-minus/')     \n",
    "os.makedirs('../working/idc2/idc-plus/')  \n",
    "\n",
    "\n",
    "class0 = [] # 0 = idc+\n",
    "class1 = [] # 1 = idc-\n",
    "imagePatches = glob('../input/breast-histopathology-images/IDC_regular_ps50_idx5/**/*.png', recursive=True)\n",
    "for filename in imagePatches:\n",
    "    if filename.endswith(\"class0.png\"):\n",
    "         class0.append(filename)\n",
    "    else:\n",
    "        class1.append(filename)\n",
    "\n",
    "print(class0[0:10])\n",
    "\n",
    "#sampling 10000 images from class 0 and class 1 to train the model\n",
    "\n",
    "random.seed(sampling_seed)\n",
    "class0sample=random.sample(class0,size_4_training)\n",
    "class1sample=random.sample(class1,size_4_training)\n",
    "\n",
    "\n",
    "def read_and_save_data(path, file_name_array):\n",
    "    j=0\n",
    "    for i in file_name_array:\n",
    "        if i.endswith('.png'):\n",
    "          \n",
    "            \n",
    "            #second copy method\n",
    "            head, tail = os.path.split(i)\n",
    "            outputname=str(path+tail)\n",
    "            #outputname=str(path+str(j)+'.png')\n",
    "            #print(outputname)\n",
    "            shutil.copy(i, outputname)\n",
    "   \n",
    "            #print(status2)\n",
    "            \n",
    "            j=j+1\n",
    "            if j==120000:\n",
    "                break\n",
    "            \n",
    "   \n",
    "class0path='../working/idc2/idc-minus/'\n",
    "class1path='../working/idc2/idc-plus/'\n",
    "\n",
    "\n",
    "\n",
    "\n",
    "read_and_save_data(class0path,class0sample)\n",
    "read_and_save_data(class1path,class1sample)"
   ]
  },
  {
   "cell_type": "markdown",
   "id": "9a1da970",
   "metadata": {
    "papermill": {
     "duration": 0.046193,
     "end_time": "2022-05-16T07:18:39.293855",
     "exception": false,
     "start_time": "2022-05-16T07:18:39.247662",
     "status": "completed"
    },
    "tags": []
   },
   "source": []
  },
  {
   "cell_type": "code",
   "execution_count": null,
   "id": "891ccd71",
   "metadata": {
    "papermill": {
     "duration": 0.046694,
     "end_time": "2022-05-16T07:18:39.383824",
     "exception": false,
     "start_time": "2022-05-16T07:18:39.337130",
     "status": "completed"
    },
    "tags": []
   },
   "outputs": [],
   "source": [
    "\n"
   ]
  },
  {
   "cell_type": "code",
   "execution_count": 5,
   "id": "36cd651b",
   "metadata": {
    "execution": {
     "iopub.execute_input": "2022-05-16T07:18:39.477760Z",
     "iopub.status.busy": "2022-05-16T07:18:39.477376Z",
     "iopub.status.idle": "2022-05-16T07:18:39.482214Z",
     "shell.execute_reply": "2022-05-16T07:18:39.480978Z"
    },
    "papermill": {
     "duration": 0.055221,
     "end_time": "2022-05-16T07:18:39.484717",
     "exception": false,
     "start_time": "2022-05-16T07:18:39.429496",
     "status": "completed"
    },
    "tags": []
   },
   "outputs": [],
   "source": [
    "\n",
    "from PIL import Image\n",
    "import glob\n"
   ]
  },
  {
   "cell_type": "code",
   "execution_count": null,
   "id": "2a894d62",
   "metadata": {
    "papermill": {
     "duration": 0.04575,
     "end_time": "2022-05-16T07:18:39.573677",
     "exception": false,
     "start_time": "2022-05-16T07:18:39.527927",
     "status": "completed"
    },
    "tags": []
   },
   "outputs": [],
   "source": []
  },
  {
   "cell_type": "code",
   "execution_count": null,
   "id": "5a12bb57",
   "metadata": {
    "papermill": {
     "duration": 0.045387,
     "end_time": "2022-05-16T07:18:39.665289",
     "exception": false,
     "start_time": "2022-05-16T07:18:39.619902",
     "status": "completed"
    },
    "tags": []
   },
   "outputs": [],
   "source": []
  },
  {
   "cell_type": "code",
   "execution_count": 6,
   "id": "232df0ac",
   "metadata": {
    "execution": {
     "iopub.execute_input": "2022-05-16T07:18:39.756720Z",
     "iopub.status.busy": "2022-05-16T07:18:39.756389Z",
     "iopub.status.idle": "2022-05-16T07:18:39.761199Z",
     "shell.execute_reply": "2022-05-16T07:18:39.760047Z"
    },
    "papermill": {
     "duration": 0.05189,
     "end_time": "2022-05-16T07:18:39.763291",
     "exception": false,
     "start_time": "2022-05-16T07:18:39.711401",
     "status": "completed"
    },
    "tags": []
   },
   "outputs": [],
   "source": [
    "import os #Operating System\n",
    "import sys #System\n",
    "# train_generator = train_datagen.flow(x_train, y_train, batch_size =)\n",
    "# val_generator = val_datagen.flow(x_val, y_val, batch_size = 64)\n",
    "# test_generator=test_datagen.flow(x_test,y_test,batch_size = 64)\n"
   ]
  },
  {
   "cell_type": "markdown",
   "id": "22951d98",
   "metadata": {
    "papermill": {
     "duration": 0.045425,
     "end_time": "2022-05-16T07:18:39.854706",
     "exception": false,
     "start_time": "2022-05-16T07:18:39.809281",
     "status": "completed"
    },
    "tags": []
   },
   "source": [
    "#import image"
   ]
  },
  {
   "cell_type": "code",
   "execution_count": 7,
   "id": "84b317c6",
   "metadata": {
    "execution": {
     "iopub.execute_input": "2022-05-16T07:18:39.948462Z",
     "iopub.status.busy": "2022-05-16T07:18:39.948123Z",
     "iopub.status.idle": "2022-05-16T07:18:39.955982Z",
     "shell.execute_reply": "2022-05-16T07:18:39.954931Z"
    },
    "papermill": {
     "duration": 0.059361,
     "end_time": "2022-05-16T07:18:39.958441",
     "exception": false,
     "start_time": "2022-05-16T07:18:39.899080",
     "status": "completed"
    },
    "tags": []
   },
   "outputs": [],
   "source": [
    "import cv2\n",
    "'''\n",
    "def readImage(path, X, Y, label):\n",
    "    j=0\n",
    " \n",
    "    for i in os.listdir(path):\n",
    "        imgname=path+i\n",
    "        #print(imgname)\n",
    "        img = cv2.imread(imgname, cv2.IMREAD_COLOR)\n",
    "        img =cv2.resize(img,(50, 50))\n",
    "        X.append(img)\n",
    "        Y.append(label)\n",
    "        j=j+1\n",
    "        #if j==10:\n",
    "        #    break\n",
    "        \n",
    "    return X, Y\n",
    "    '''\n",
    "def readImage(path, tag):\n",
    "    j=0\n",
    "    image_array = []\n",
    "    for i in os.listdir(path):\n",
    "        imgname=path+i\n",
    "        #print(imgname)\n",
    "        img = cv2.imread(imgname, cv2.IMREAD_COLOR)\n",
    "        img_resized = cv2.resize(img, (img_size,img_size), interpolation=cv2.INTER_LINEAR)\n",
    "        image_array.append([img_resized, tag])\n",
    "        #print(img[1])\n",
    "        j=j+1\n",
    "        #if j==10:\n",
    "        #    break\n",
    "        \n",
    "    return image_array"
   ]
  },
  {
   "cell_type": "code",
   "execution_count": 8,
   "id": "af4b76e1",
   "metadata": {
    "execution": {
     "iopub.execute_input": "2022-05-16T07:18:40.055344Z",
     "iopub.status.busy": "2022-05-16T07:18:40.054973Z",
     "iopub.status.idle": "2022-05-16T07:18:44.930443Z",
     "shell.execute_reply": "2022-05-16T07:18:44.928999Z"
    },
    "papermill": {
     "duration": 4.929245,
     "end_time": "2022-05-16T07:18:44.934435",
     "exception": false,
     "start_time": "2022-05-16T07:18:40.005190",
     "status": "completed"
    },
    "tags": []
   },
   "outputs": [
    {
     "name": "stdout",
     "output_type": "stream",
     "text": [
      "(5000, 2)\n",
      "(10000, 2)\n",
      "(10000, 224, 224, 3)\n"
     ]
    }
   ],
   "source": [
    "import numpy as np\n",
    "\n",
    "\n",
    "class0_array = readImage(class0path, 0)\n",
    "class1_array = readImage(class1path, 1)\n",
    "class0_array=np.array(class0_array)\n",
    "class1_array=np.array(class1_array)\n",
    "combined_data = np.concatenate((class0_array, class1_array))\n",
    "random.seed(41)\n",
    "random.shuffle(combined_data)\n",
    "print(class0_array.shape)\n",
    "print(combined_data.shape)\n",
    "\n",
    "X = []\n",
    "y = []\n",
    "\n",
    "for features,label in combined_data:\n",
    "    X.append(features)\n",
    "    y.append(label)\n",
    "#print(X.shape)\n",
    "#pring(y.shape)\n",
    "\n",
    "# reshape X data\n",
    "X = np.array(X).reshape(training_reshape)\n",
    "print(X.shape)"
   ]
  },
  {
   "cell_type": "code",
   "execution_count": 9,
   "id": "623c160a",
   "metadata": {
    "execution": {
     "iopub.execute_input": "2022-05-16T07:18:45.032650Z",
     "iopub.status.busy": "2022-05-16T07:18:45.032314Z",
     "iopub.status.idle": "2022-05-16T07:18:46.554523Z",
     "shell.execute_reply": "2022-05-16T07:18:46.552913Z"
    },
    "papermill": {
     "duration": 1.576168,
     "end_time": "2022-05-16T07:18:46.558455",
     "exception": false,
     "start_time": "2022-05-16T07:18:44.982287",
     "status": "completed"
    },
    "tags": []
   },
   "outputs": [
    {
     "name": "stdout",
     "output_type": "stream",
     "text": [
      "(7000, 224, 224, 3) (900, 224, 224, 3) (2100, 224, 224, 3) (7000, 2) (900, 2) (2100, 2)\n"
     ]
    }
   ],
   "source": [
    "X_train, X_test1, y_train, y_test1 = train_test_split(X, y, test_size=0.3, random_state=42)\n",
    "X_val, X_test, y_val, y_test = train_test_split(X_test1, y_test1, test_size=0.3, random_state=42)\n",
    "y_train = to_categorical(y_train)\n",
    "y_test = to_categorical(y_test)\n",
    "y_val = to_categorical(y_val)\n",
    "print(X_train.shape, X_test.shape, X_val.shape, y_train.shape, y_test.shape, y_val.shape)"
   ]
  },
  {
   "cell_type": "code",
   "execution_count": 10,
   "id": "8689e368",
   "metadata": {
    "execution": {
     "iopub.execute_input": "2022-05-16T07:18:46.657402Z",
     "iopub.status.busy": "2022-05-16T07:18:46.656339Z",
     "iopub.status.idle": "2022-05-16T07:18:46.664313Z",
     "shell.execute_reply": "2022-05-16T07:18:46.663425Z"
    },
    "papermill": {
     "duration": 0.061803,
     "end_time": "2022-05-16T07:18:46.667510",
     "exception": false,
     "start_time": "2022-05-16T07:18:46.605707",
     "status": "completed"
    },
    "tags": []
   },
   "outputs": [],
   "source": [
    "#Callbacks\n",
    "c2=tf.keras.callbacks.EarlyStopping(\n",
    "    monitor=\"val_loss\",\n",
    "    min_delta=0,\n",
    "    patience=6,\n",
    "    mode=\"auto\",\n",
    "    baseline=None,\n",
    "    restore_best_weights=True,\n",
    ")\n",
    "\n",
    "c3=tf.keras.callbacks.ReduceLROnPlateau(\n",
    "    monitor=\"val_loss\",\n",
    "    factor=0.1,\n",
    "    patience=6,\n",
    "    mode=\"auto\",\n",
    "    min_delta=0.0001,\n",
    "    cooldown=0,\n",
    "    min_lr=0.001\n",
    ")\n",
    "nClasses=2"
   ]
  },
  {
   "cell_type": "markdown",
   "id": "bd24173f",
   "metadata": {
    "papermill": {
     "duration": 0.047038,
     "end_time": "2022-05-16T07:18:46.760846",
     "exception": false,
     "start_time": "2022-05-16T07:18:46.713808",
     "status": "completed"
    },
    "tags": []
   },
   "source": [
    "# MobileNet"
   ]
  },
  {
   "cell_type": "code",
   "execution_count": 11,
   "id": "bf516164",
   "metadata": {
    "execution": {
     "iopub.execute_input": "2022-05-16T07:18:46.855041Z",
     "iopub.status.busy": "2022-05-16T07:18:46.854438Z",
     "iopub.status.idle": "2022-05-16T07:18:52.658741Z",
     "shell.execute_reply": "2022-05-16T07:18:52.657898Z"
    },
    "papermill": {
     "duration": 5.853519,
     "end_time": "2022-05-16T07:18:52.661112",
     "exception": false,
     "start_time": "2022-05-16T07:18:46.807593",
     "status": "completed"
    },
    "tags": []
   },
   "outputs": [
    {
     "name": "stderr",
     "output_type": "stream",
     "text": [
      "2022-05-16 07:18:46.923830: I tensorflow/core/common_runtime/process_util.cc:146] Creating new thread pool with default inter op setting: 2. Tune using inter_op_parallelism_threads for best performance.\n"
     ]
    },
    {
     "name": "stdout",
     "output_type": "stream",
     "text": [
      "Downloading data from https://storage.googleapis.com/tensorflow/keras-applications/mobilenet_v2/mobilenet_v2_weights_tf_dim_ordering_tf_kernels_1.0_224_no_top.h5\n",
      "9412608/9406464 [==============================] - 0s 0us/step\n",
      "9420800/9406464 [==============================] - 0s 0us/step\n",
      "Model: \"sequential\"\n",
      "_________________________________________________________________\n",
      "Layer (type)                 Output Shape              Param #   \n",
      "=================================================================\n",
      "mobilenetv2_1.00_224 (Functi (None, 7, 7, 1280)        2257984   \n",
      "_________________________________________________________________\n",
      "flatten (Flatten)            (None, 62720)             0         \n",
      "_________________________________________________________________\n",
      "batch_normalization (BatchNo (None, 62720)             250880    \n",
      "_________________________________________________________________\n",
      "dense (Dense)                (None, 4096)              256905216 \n",
      "_________________________________________________________________\n",
      "batch_normalization_1 (Batch (None, 4096)              16384     \n",
      "_________________________________________________________________\n",
      "activation (Activation)      (None, 4096)              0         \n",
      "_________________________________________________________________\n",
      "dropout (Dropout)            (None, 4096)              0         \n",
      "_________________________________________________________________\n",
      "dense_1 (Dense)              (None, 2096)              8587312   \n",
      "_________________________________________________________________\n",
      "dense_2 (Dense)              (None, 2)                 4194      \n",
      "=================================================================\n",
      "Total params: 268,021,970\n",
      "Trainable params: 265,630,354\n",
      "Non-trainable params: 2,391,616\n",
      "_________________________________________________________________\n"
     ]
    }
   ],
   "source": [
    "'''\n",
    "base_model = VGG16(include_top=False, input_shape=(img_size, img_size,3), weights='imagenet')\n",
    "# fix pretrained layers for deep feature extraction\n",
    "base_model.trainable = False\n",
    "# add custom top layers\n",
    "x = base_model.output\n",
    "x = GlobalAveragePooling2D()(x)\n",
    "x = Dropout(0.2)(x)\n",
    "x = Dense(4096,activation=\"relu\")(x)\n",
    "x = Dense(4096,activation=\"relu\")(x)\n",
    "x = Dropout(0.2)(x)\n",
    "x = Dense(2096,activation=\"relu\")(x)\n",
    "predictions = Dense(2, activation='sigmoid')(x)\n",
    "model = Model(inputs=base_model.input, outputs=predictions)\n",
    "model.summary()\n",
    "# confirm unfrozen layers\n",
    "for layer in model.layers:\n",
    "    if layer.trainable==True:\n",
    "        print(layer)\n",
    "    '''\n",
    "from tensorflow.keras.applications import MobileNetV2\n",
    "base_Neural_Net= MobileNetV2(input_shape=(224, 224, 3), weights='imagenet', include_top=False)\n",
    "base_Neural_Net.trainable = False\n",
    "model=Sequential()\n",
    "model.add(base_Neural_Net)\n",
    "model.add(Flatten())\n",
    "model.add(BatchNormalization())\n",
    "model.add(Dense(4096,kernel_initializer='he_uniform'))\n",
    "model.add(BatchNormalization())\n",
    "model.add(Activation('relu'))\n",
    "model.add(Dropout(0.5))\n",
    "model.add(Dense(2096,activation=\"relu\"))\n",
    "model.add(Dense(2, activation='sigmoid'))\n",
    "#model = Model(inputs=resnet50_base_model.input, outputs=predictions)\n",
    "model.summary()\n"
   ]
  },
  {
   "cell_type": "code",
   "execution_count": 12,
   "id": "fd26081f",
   "metadata": {
    "execution": {
     "iopub.execute_input": "2022-05-16T07:18:52.760582Z",
     "iopub.status.busy": "2022-05-16T07:18:52.760182Z",
     "iopub.status.idle": "2022-05-16T07:18:54.340363Z",
     "shell.execute_reply": "2022-05-16T07:18:54.339173Z"
    },
    "papermill": {
     "duration": 1.633624,
     "end_time": "2022-05-16T07:18:54.343122",
     "exception": false,
     "start_time": "2022-05-16T07:18:52.709498",
     "status": "completed"
    },
    "tags": []
   },
   "outputs": [
    {
     "data": {
      "image/png": "[encoded data removed]",
      "text/plain": [
       "<IPython.core.display.Image object>"
      ]
     },
     "execution_count": 12,
     "metadata": {},
     "output_type": "execute_result"
    }
   ],
   "source": [
    "from tensorflow.keras.utils import plot_model\n",
    "from IPython.display import Image\n",
    "plot_model(model, to_file='convnet.png', show_shapes=True,show_layer_names=True)\n",
    "Image(filename='convnet.png') "
   ]
  },
  {
   "cell_type": "code",
   "execution_count": 13,
   "id": "9718d08d",
   "metadata": {
    "execution": {
     "iopub.execute_input": "2022-05-16T07:18:54.453211Z",
     "iopub.status.busy": "2022-05-16T07:18:54.452359Z",
     "iopub.status.idle": "2022-05-16T07:18:54.479250Z",
     "shell.execute_reply": "2022-05-16T07:18:54.478362Z"
    },
    "papermill": {
     "duration": 0.084771,
     "end_time": "2022-05-16T07:18:54.481862",
     "exception": false,
     "start_time": "2022-05-16T07:18:54.397091",
     "status": "completed"
    },
    "tags": []
   },
   "outputs": [],
   "source": [
    "callbacks1 = [EarlyStopping(monitor='val_loss', patience=5, verbose=1), ModelCheckpoint('model.hdf5', save_best_only=True)]\n",
    "opt = Adam(learning_rate=0.001)\n",
    "model.compile(loss='categorical_crossentropy', optimizer=opt, metrics=['accuracy'])"
   ]
  },
  {
   "cell_type": "code",
   "execution_count": 14,
   "id": "dbfee5d2",
   "metadata": {
    "execution": {
     "iopub.execute_input": "2022-05-16T07:18:54.591469Z",
     "iopub.status.busy": "2022-05-16T07:18:54.588982Z",
     "iopub.status.idle": "2022-05-16T08:03:45.985303Z",
     "shell.execute_reply": "2022-05-16T08:03:45.983293Z"
    },
    "papermill": {
     "duration": 2692.128929,
     "end_time": "2022-05-16T08:03:46.664296",
     "exception": false,
     "start_time": "2022-05-16T07:18:54.535367",
     "status": "completed"
    },
    "tags": []
   },
   "outputs": [
    {
     "name": "stdout",
     "output_type": "stream",
     "text": [
      "CPU times: user 3 µs, sys: 2 µs, total: 5 µs\n",
      "Wall time: 9.06 µs\n"
     ]
    },
    {
     "name": "stderr",
     "output_type": "stream",
     "text": [
      "2022-05-16 07:18:55.295878: I tensorflow/compiler/mlir/mlir_graph_optimization_pass.cc:185] None of the MLIR Optimization Passes are enabled (registered 2)\n"
     ]
    },
    {
     "name": "stdout",
     "output_type": "stream",
     "text": [
      "Epoch 1/30\n",
      "219/219 [==============================] - 389s 2s/step - loss: 0.4162 - accuracy: 0.8751 - val_loss: 0.3031 - val_accuracy: 0.8833\n",
      "Epoch 2/30\n",
      "219/219 [==============================] - 380s 2s/step - loss: 0.2201 - accuracy: 0.9120 - val_loss: 0.2778 - val_accuracy: 0.9033\n",
      "Epoch 3/30\n",
      "219/219 [==============================] - 378s 2s/step - loss: 0.1382 - accuracy: 0.9449 - val_loss: 0.4131 - val_accuracy: 0.9056\n",
      "Epoch 4/30\n",
      "219/219 [==============================] - 379s 2s/step - loss: 0.0880 - accuracy: 0.9683 - val_loss: 0.4699 - val_accuracy: 0.9078\n",
      "Epoch 5/30\n",
      "219/219 [==============================] - 372s 2s/step - loss: 0.0687 - accuracy: 0.9741 - val_loss: 0.4826 - val_accuracy: 0.9089\n",
      "Epoch 6/30\n",
      "219/219 [==============================] - 376s 2s/step - loss: 0.0600 - accuracy: 0.9766 - val_loss: 0.5340 - val_accuracy: 0.8967\n",
      "Epoch 7/30\n",
      "219/219 [==============================] - 389s 2s/step - loss: 0.0477 - accuracy: 0.9827 - val_loss: 0.5918 - val_accuracy: 0.9122\n",
      "Epoch 00007: early stopping\n"
     ]
    }
   ],
   "source": [
    "%time\n",
    "history1=model.fit(X_train, y_train,validation_data=(X_test, y_test),verbose = 1,epochs = 30,callbacks=callbacks1)"
   ]
  },
  {
   "cell_type": "code",
   "execution_count": 15,
   "id": "64a68374",
   "metadata": {
    "execution": {
     "iopub.execute_input": "2022-05-16T08:03:48.003791Z",
     "iopub.status.busy": "2022-05-16T08:03:48.003335Z",
     "iopub.status.idle": "2022-05-16T08:03:48.015029Z",
     "shell.execute_reply": "2022-05-16T08:03:48.013863Z"
    },
    "papermill": {
     "duration": 0.680736,
     "end_time": "2022-05-16T08:03:48.017696",
     "exception": false,
     "start_time": "2022-05-16T08:03:47.336960",
     "status": "completed"
    },
    "tags": []
   },
   "outputs": [],
   "source": [
    "def f1_score(y_true, y_pred): #taken from old keras source code\n",
    "    true_positives = K.sum(K.round(K.clip(y_true * y_pred, 0, 1)))\n",
    "    possible_positives = K.sum(K.round(K.clip(y_true, 0, 1)))\n",
    "    predicted_positives = K.sum(K.round(K.clip(y_pred, 0, 1)))\n",
    "    precision = true_positives / (predicted_positives + K.epsilon())\n",
    "    recall = true_positives / (possible_positives + K.epsilon())\n",
    "    f1_val = 2*(precision*recall)/(precision+recall+K.epsilon())\n",
    "    return f1_val"
   ]
  },
  {
   "cell_type": "code",
   "execution_count": 16,
   "id": "73be10b4",
   "metadata": {
    "execution": {
     "iopub.execute_input": "2022-05-16T08:03:49.418963Z",
     "iopub.status.busy": "2022-05-16T08:03:49.418617Z",
     "iopub.status.idle": "2022-05-16T08:03:49.454536Z",
     "shell.execute_reply": "2022-05-16T08:03:49.453013Z"
    },
    "papermill": {
     "duration": 0.779851,
     "end_time": "2022-05-16T08:03:49.457191",
     "exception": false,
     "start_time": "2022-05-16T08:03:48.677340",
     "status": "completed"
    },
    "tags": []
   },
   "outputs": [],
   "source": [
    "METRICS = [\n",
    "      tf.keras.metrics.BinaryAccuracy(name='accuracy'),\n",
    "      tf.keras.metrics.Precision(name='precision'),\n",
    "      tf.keras.metrics.Recall(name='recall'),  \n",
    "      tf.keras.metrics.AUC(name='auc'),\n",
    "        f1_score,\n",
    "]"
   ]
  },
  {
   "cell_type": "code",
   "execution_count": null,
   "id": "4f6355c7",
   "metadata": {
    "execution": {
     "iopub.execute_input": "2022-05-06T15:08:04.489795Z",
     "iopub.status.busy": "2022-05-06T15:08:04.488846Z",
     "iopub.status.idle": "2022-05-06T15:08:04.918152Z",
     "shell.execute_reply": "2022-05-06T15:08:04.917046Z",
     "shell.execute_reply.started": "2022-05-06T15:08:04.489742Z"
    },
    "papermill": {
     "duration": 0.680194,
     "end_time": "2022-05-16T08:03:50.801776",
     "exception": false,
     "start_time": "2022-05-16T08:03:50.121582",
     "status": "completed"
    },
    "tags": []
   },
   "outputs": [],
   "source": []
  },
  {
   "cell_type": "code",
   "execution_count": 17,
   "id": "9646d1c0",
   "metadata": {
    "execution": {
     "iopub.execute_input": "2022-05-16T08:03:52.131292Z",
     "iopub.status.busy": "2022-05-16T08:03:52.130699Z",
     "iopub.status.idle": "2022-05-16T08:04:41.293553Z",
     "shell.execute_reply": "2022-05-16T08:04:41.292067Z"
    },
    "papermill": {
     "duration": 50.498886,
     "end_time": "2022-05-16T08:04:41.981204",
     "exception": false,
     "start_time": "2022-05-16T08:03:51.482318",
     "status": "completed"
    },
    "tags": []
   },
   "outputs": [
    {
     "data": {
      "image/png": "[encoded data removed]",
      "text/plain": [
       "<Figure size 576x576 with 2 Axes>"
      ]
     },
     "metadata": {
      "needs_background": "light"
     },
     "output_type": "display_data"
    }
   ],
   "source": [
    "from sklearn.metrics import confusion_matrix\n",
    "import seaborn as sns\n",
    "\n",
    "Y_pred = model.predict(X_val)\n",
    "Y_pred_classes = np.argmax(Y_pred,axis = 1) \n",
    "Y_true = np.argmax(y_val,axis = 1) \n",
    "\n",
    "confusion_mtx = confusion_matrix(Y_true, Y_pred_classes) \n",
    "\n",
    "f,ax = plt.subplots(figsize=(8, 8))\n",
    "sns.heatmap(confusion_mtx, annot=True, linewidths=0.01,cmap=\"OrRd\",linecolor=\"black\", fmt= '.1f',ax=ax)\n",
    "plt.xlabel(\"Predicted Label\")\n",
    "plt.ylabel(\"True Label\")\n",
    "plt.title(\"Confusion Matrix\")\n",
    "plt.show()"
   ]
  },
  {
   "cell_type": "code",
   "execution_count": 18,
   "id": "4f6ee7f5",
   "metadata": {
    "execution": {
     "iopub.execute_input": "2022-05-16T08:04:43.302149Z",
     "iopub.status.busy": "2022-05-16T08:04:43.301784Z",
     "iopub.status.idle": "2022-05-16T08:04:43.318334Z",
     "shell.execute_reply": "2022-05-16T08:04:43.316849Z"
    },
    "papermill": {
     "duration": 0.672452,
     "end_time": "2022-05-16T08:04:43.323033",
     "exception": false,
     "start_time": "2022-05-16T08:04:42.650581",
     "status": "completed"
    },
    "tags": []
   },
   "outputs": [
    {
     "name": "stdout",
     "output_type": "stream",
     "text": [
      "              precision    recall  f1-score   support\n",
      "\n",
      "           0       0.96      0.97      0.96      1806\n",
      "           1       0.78      0.73      0.76       294\n",
      "\n",
      "    accuracy                           0.93      2100\n",
      "   macro avg       0.87      0.85      0.86      2100\n",
      "weighted avg       0.93      0.93      0.93      2100\n",
      "\n"
     ]
    }
   ],
   "source": [
    "from sklearn.metrics import classification_report\n",
    "\n",
    "print(classification_report(Y_true, Y_pred_classes))"
   ]
  },
  {
   "cell_type": "markdown",
   "id": "ee0ac612",
   "metadata": {
    "papermill": {
     "duration": 0.664117,
     "end_time": "2022-05-16T08:04:44.646263",
     "exception": false,
     "start_time": "2022-05-16T08:04:43.982146",
     "status": "completed"
    },
    "tags": []
   },
   "source": []
  },
  {
   "cell_type": "code",
   "execution_count": null,
   "id": "36ed5bf4",
   "metadata": {
    "execution": {
     "iopub.execute_input": "2022-05-06T15:08:41.911737Z",
     "iopub.status.busy": "2022-05-06T15:08:41.911171Z",
     "iopub.status.idle": "2022-05-06T15:08:41.922881Z",
     "shell.execute_reply": "2022-05-06T15:08:41.922041Z",
     "shell.execute_reply.started": "2022-05-06T15:08:41.911677Z"
    },
    "papermill": {
     "duration": 0.650956,
     "end_time": "2022-05-16T08:04:45.957781",
     "exception": false,
     "start_time": "2022-05-16T08:04:45.306825",
     "status": "completed"
    },
    "tags": []
   },
   "outputs": [],
   "source": []
  },
  {
   "cell_type": "code",
   "execution_count": 19,
   "id": "db00527c",
   "metadata": {
    "execution": {
     "iopub.execute_input": "2022-05-16T08:04:47.291014Z",
     "iopub.status.busy": "2022-05-16T08:04:47.290330Z",
     "iopub.status.idle": "2022-05-16T08:04:47.306981Z",
     "shell.execute_reply": "2022-05-16T08:04:47.306066Z"
    },
    "papermill": {
     "duration": 0.685717,
     "end_time": "2022-05-16T08:04:47.309802",
     "exception": false,
     "start_time": "2022-05-16T08:04:46.624085",
     "status": "completed"
    },
    "tags": []
   },
   "outputs": [],
   "source": [
    "from sklearn.metrics import f1_score, roc_auc_score, cohen_kappa_score, precision_score, recall_score, accuracy_score, confusion_matrix\n",
    "def get_accuracy_metrics(model, X_train, y_train, X_val, y_val, X_test, y_test):\n",
    "    y_train=np.argmax(y_train, axis=1)\n",
    "    y_test=np.argmax(y_test, axis=1)\n",
    "    y_val=np.argmax(y_val, axis=1)\n",
    "    y_train_pred=np.argmax(model.predict(X_train),axis=1)\n",
    "    y_test_pred=np.argmax(model.predict(X_test),axis=1)\n",
    "    y_val_pred=np.argmax(model.predict(X_val),axis=1)\n",
    "    #ps:all the Y value must turn back to 1 dimension array. otherwise, the scoring functions in sklearn cannot compare, and will give an error\n",
    "    #classification metrics can't handle a mix of continuous-multioutput and multi-label-indicator targets\n",
    "    \n",
    "    print(\"Train accuracy Score------------>\")\n",
    "    print (\"{0:.3f}\".format(accuracy_score(y_train, y_train_pred)*100), \"%\")\n",
    "    \n",
    "    print(\"Val accuracy Score--------->\")\n",
    "    \n",
    "    print(\"{0:.3f}\".format(accuracy_score(y_val, y_val_pred)*100), \"%\")\n",
    "    \n",
    "  \n",
    "    print(\"Test accuracy Score--------->\")\n",
    "    print(\"{0:.3f}\".format(accuracy_score(y_test, y_test_pred)*100), \"%\")\n",
    "    \n",
    "    print(\"F1 Score--------------->\")\n",
    "    print(\"{0:.3f}\".format(f1_score(y_test, y_test_pred, average = 'weighted')*100), \"%\")\n",
    "    \n",
    "    print(\"Cohen Kappa Score------------->\")\n",
    "    print(\"{0:.3f}\".format(cohen_kappa_score(y_test, y_test_pred)*100), \"%\")\n",
    "    \n",
    "    print(\"Recall-------------->\")\n",
    "    print(\"{0:.3f}\".format(recall_score(y_test, y_test_pred, average = 'weighted')*100), \"%\")\n",
    "    \n",
    "    print(\"Precision-------------->\")\n",
    "    print(\"{0:.3f}\".format(precision_score(y_test, y_test_pred, average = 'weighted')*100), \"%\")\n",
    "    \n",
    "    cf_matrix_test = confusion_matrix(y_test, y_test_pred)\n",
    "    cf_matrix_val = confusion_matrix(y_val, y_val_pred)\n",
    "    \n",
    "    plt.figure(figsize = (12, 6))\n",
    "    plt.subplot(121)\n",
    "    sns.heatmap(cf_matrix_val, annot=True, cmap='Blues')\n",
    "    plt.title(\"Val Confusion matrix\")\n",
    "    \n",
    "    plt.subplot(122)\n",
    "    sns.heatmap(cf_matrix_test, annot=True, cmap='Blues')\n",
    "    plt.title(\"Test Confusion matrix\")\n",
    "    \n",
    "    plt.show()"
   ]
  },
  {
   "cell_type": "code",
   "execution_count": null,
   "id": "3d4d41b4",
   "metadata": {
    "papermill": {
     "duration": 0.677695,
     "end_time": "2022-05-16T08:04:48.636110",
     "exception": false,
     "start_time": "2022-05-16T08:04:47.958415",
     "status": "completed"
    },
    "tags": []
   },
   "outputs": [],
   "source": []
  },
  {
   "cell_type": "code",
   "execution_count": 20,
   "id": "b54a5f24",
   "metadata": {
    "execution": {
     "iopub.execute_input": "2022-05-16T08:04:49.946369Z",
     "iopub.status.busy": "2022-05-16T08:04:49.946022Z",
     "iopub.status.idle": "2022-05-16T08:08:31.562000Z",
     "shell.execute_reply": "2022-05-16T08:08:31.560683Z"
    },
    "papermill": {
     "duration": 222.665445,
     "end_time": "2022-05-16T08:08:31.945555",
     "exception": false,
     "start_time": "2022-05-16T08:04:49.280110",
     "status": "completed"
    },
    "tags": []
   },
   "outputs": [
    {
     "name": "stdout",
     "output_type": "stream",
     "text": [
      "Train accuracy Score------------>\n",
      "99.500 %\n",
      "Val accuracy Score--------->\n",
      "93.429 %\n",
      "Test accuracy Score--------->\n",
      "91.222 %\n",
      "F1 Score--------------->\n",
      "91.015 %\n",
      "Cohen Kappa Score------------->\n",
      "67.638 %\n",
      "Recall-------------->\n",
      "91.222 %\n",
      "Precision-------------->\n",
      "90.914 %\n"
     ]
    },
    {
     "data": {
      "image/png": "[encoded data removed]",
      "text/plain": [
       "<Figure size 864x432 with 4 Axes>"
      ]
     },
     "metadata": {
      "needs_background": "light"
     },
     "output_type": "display_data"
    }
   ],
   "source": [
    "get_accuracy_metrics(model,  X_train, y_train, X_val, y_val, X_test, y_test)"
   ]
  },
  {
   "cell_type": "code",
   "execution_count": 21,
   "id": "dadcb24e",
   "metadata": {
    "execution": {
     "iopub.execute_input": "2022-05-16T08:08:33.296685Z",
     "iopub.status.busy": "2022-05-16T08:08:33.295995Z",
     "iopub.status.idle": "2022-05-16T08:08:33.691669Z",
     "shell.execute_reply": "2022-05-16T08:08:33.690787Z"
    },
    "papermill": {
     "duration": 1.076967,
     "end_time": "2022-05-16T08:08:33.694088",
     "exception": false,
     "start_time": "2022-05-16T08:08:32.617121",
     "status": "completed"
    },
    "tags": []
   },
   "outputs": [
    {
     "data": {
      "image/png": "[encoded data removed]",
      "text/plain": [
       "<Figure size 864x432 with 2 Axes>"
      ]
     },
     "metadata": {
      "needs_background": "light"
     },
     "output_type": "display_data"
    }
   ],
   "source": [
    "import matplotlib.pyplot as plt\n",
    "import seaborn as sns\n",
    "plt.figure(figsize = (12, 6))\n",
    "plt.subplot(121)\n",
    "#plotting the Accuracy of test and training sets\n",
    "plt.plot(history1.history['accuracy'])\n",
    "plt.plot(history1.history['val_accuracy'])\n",
    "plt.title('1st training Model Accuracy')\n",
    "plt.ylabel('accuracy')\n",
    "plt.xlabel('epoch')\n",
    "plt.legend(['train', 'test'], loc='upper left')\n",
    "\n",
    "plt.subplot(122)\n",
    "#plotting the loss of test and training sets\n",
    "plt.plot(history1.history['loss'])\n",
    "plt.plot(history1.history['val_loss'])\n",
    "plt.title('1st training Model Loss')\n",
    "plt.ylabel('loss')\n",
    "plt.xlabel('epoch')\n",
    "plt.legend(['train', 'test'], loc='upper left')\n",
    "plt.show()"
   ]
  },
  {
   "cell_type": "markdown",
   "id": "b0f34757",
   "metadata": {
    "papermill": {
     "duration": 0.649181,
     "end_time": "2022-05-16T08:08:35.003434",
     "exception": false,
     "start_time": "2022-05-16T08:08:34.354253",
     "status": "completed"
    },
    "tags": []
   },
   "source": [
    "# Second Training Fine Tune"
   ]
  },
  {
   "cell_type": "code",
   "execution_count": 22,
   "id": "ad94d47c",
   "metadata": {
    "execution": {
     "iopub.execute_input": "2022-05-16T08:08:36.323448Z",
     "iopub.status.busy": "2022-05-16T08:08:36.322726Z",
     "iopub.status.idle": "2022-05-16T08:08:36.334373Z",
     "shell.execute_reply": "2022-05-16T08:08:36.333527Z"
    },
    "papermill": {
     "duration": 0.681986,
     "end_time": "2022-05-16T08:08:36.336904",
     "exception": false,
     "start_time": "2022-05-16T08:08:35.654918",
     "status": "completed"
    },
    "tags": []
   },
   "outputs": [],
   "source": [
    "for model1 in model.layers:\n",
    "    model1.trainable = True"
   ]
  },
  {
   "cell_type": "code",
   "execution_count": 23,
   "id": "084f1b06",
   "metadata": {
    "execution": {
     "iopub.execute_input": "2022-05-16T08:08:37.683242Z",
     "iopub.status.busy": "2022-05-16T08:08:37.682601Z",
     "iopub.status.idle": "2022-05-16T08:08:37.688450Z",
     "shell.execute_reply": "2022-05-16T08:08:37.687404Z"
    },
    "papermill": {
     "duration": 0.682001,
     "end_time": "2022-05-16T08:08:37.691089",
     "exception": false,
     "start_time": "2022-05-16T08:08:37.009088",
     "status": "completed"
    },
    "tags": []
   },
   "outputs": [],
   "source": [
    "callbacks2 = [EarlyStopping(monitor='val_loss', patience=5, verbose=1), ModelCheckpoint('test_model.hdf5', save_best_only=True)]\n",
    "opt = Adam(learning_rate=0.001)\n",
    "#model.compile(loss='categorical_crossentropy', optimizer=opt, metrics=['accuracy'])"
   ]
  },
  {
   "cell_type": "code",
   "execution_count": 24,
   "id": "061fa9d4",
   "metadata": {
    "execution": {
     "iopub.execute_input": "2022-05-16T08:08:39.040771Z",
     "iopub.status.busy": "2022-05-16T08:08:39.040379Z",
     "iopub.status.idle": "2022-05-16T09:20:07.172505Z",
     "shell.execute_reply": "2022-05-16T09:20:07.169711Z"
    },
    "papermill": {
     "duration": 4290.455326,
     "end_time": "2022-05-16T09:20:08.824995",
     "exception": false,
     "start_time": "2022-05-16T08:08:38.369669",
     "status": "completed"
    },
    "tags": []
   },
   "outputs": [
    {
     "name": "stdout",
     "output_type": "stream",
     "text": [
      "Epoch 1/30\n",
      "219/219 [==============================] - 383s 2s/step - loss: 0.0423 - accuracy: 0.9849 - val_loss: 0.6789 - val_accuracy: 0.8956\n",
      "Epoch 2/30\n",
      "219/219 [==============================] - 383s 2s/step - loss: 0.0331 - accuracy: 0.9873 - val_loss: 0.6660 - val_accuracy: 0.9044\n",
      "Epoch 3/30\n",
      "219/219 [==============================] - 381s 2s/step - loss: 0.0378 - accuracy: 0.9873 - val_loss: 0.6744 - val_accuracy: 0.9022\n",
      "Epoch 4/30\n",
      "219/219 [==============================] - 382s 2s/step - loss: 0.0367 - accuracy: 0.9866 - val_loss: 0.5196 - val_accuracy: 0.9133\n",
      "Epoch 5/30\n",
      "219/219 [==============================] - 388s 2s/step - loss: 0.0334 - accuracy: 0.9877 - val_loss: 0.5638 - val_accuracy: 0.9067\n",
      "Epoch 6/30\n",
      "219/219 [==============================] - 376s 2s/step - loss: 0.0339 - accuracy: 0.9883 - val_loss: 0.5021 - val_accuracy: 0.9100\n",
      "Epoch 7/30\n",
      "219/219 [==============================] - 385s 2s/step - loss: 0.0181 - accuracy: 0.9929 - val_loss: 0.6225 - val_accuracy: 0.9044\n",
      "Epoch 8/30\n",
      "219/219 [==============================] - 387s 2s/step - loss: 0.0226 - accuracy: 0.9917 - val_loss: 0.6954 - val_accuracy: 0.9244\n",
      "Epoch 9/30\n",
      "219/219 [==============================] - 393s 2s/step - loss: 0.0260 - accuracy: 0.9919 - val_loss: 0.6928 - val_accuracy: 0.9100\n",
      "Epoch 10/30\n",
      "219/219 [==============================] - 391s 2s/step - loss: 0.0157 - accuracy: 0.9949 - val_loss: 0.6764 - val_accuracy: 0.9078\n",
      "Epoch 11/30\n",
      "219/219 [==============================] - 384s 2s/step - loss: 0.0177 - accuracy: 0.9930 - val_loss: 0.7133 - val_accuracy: 0.9144\n",
      "Epoch 00011: early stopping\n"
     ]
    }
   ],
   "source": [
    "history2=model.fit(X_train, y_train,validation_data=(X_test, y_test),verbose = 1,epochs = 30,callbacks=callbacks2)"
   ]
  },
  {
   "cell_type": "code",
   "execution_count": 25,
   "id": "197ab279",
   "metadata": {
    "execution": {
     "iopub.execute_input": "2022-05-16T09:20:12.142441Z",
     "iopub.status.busy": "2022-05-16T09:20:12.142050Z",
     "iopub.status.idle": "2022-05-16T09:21:46.685009Z",
     "shell.execute_reply": "2022-05-16T09:21:46.683427Z"
    },
    "papermill": {
     "duration": 97.855581,
     "end_time": "2022-05-16T09:21:48.326347",
     "exception": false,
     "start_time": "2022-05-16T09:20:10.470766",
     "status": "completed"
    },
    "tags": []
   },
   "outputs": [
    {
     "data": {
      "image/png": "[encoded data removed]",
      "text/plain": [
       "<Figure size 576x576 with 2 Axes>"
      ]
     },
     "metadata": {
      "needs_background": "light"
     },
     "output_type": "display_data"
    }
   ],
   "source": [
    "Y_pred = model.predict(X_val)\n",
    "Y_pred_classes = np.argmax(Y_pred,axis = 1) \n",
    "Y_true = np.argmax(y_val,axis = 1) \n",
    "\n",
    "confusion_mtx = confusion_matrix(Y_true, Y_pred_classes) \n",
    "\n",
    "f,ax = plt.subplots(figsize=(8, 8))\n",
    "sns.heatmap(confusion_mtx, annot=True, linewidths=0.01,cmap=\"OrRd\",linecolor=\"black\", fmt= '.1f',ax=ax)\n",
    "plt.xlabel(\"Predicted Label\")\n",
    "plt.ylabel(\"True Label\")\n",
    "plt.title(\"Confusion Matrix\")\n",
    "plt.show()"
   ]
  },
  {
   "cell_type": "code",
   "execution_count": 26,
   "id": "f852b513",
   "metadata": {
    "execution": {
     "iopub.execute_input": "2022-05-16T09:21:51.709237Z",
     "iopub.status.busy": "2022-05-16T09:21:51.708575Z",
     "iopub.status.idle": "2022-05-16T09:21:51.722295Z",
     "shell.execute_reply": "2022-05-16T09:21:51.721019Z"
    },
    "papermill": {
     "duration": 1.757819,
     "end_time": "2022-05-16T09:21:51.725633",
     "exception": false,
     "start_time": "2022-05-16T09:21:49.967814",
     "status": "completed"
    },
    "tags": []
   },
   "outputs": [
    {
     "name": "stdout",
     "output_type": "stream",
     "text": [
      "              precision    recall  f1-score   support\n",
      "\n",
      "           0       0.95      0.98      0.96      1806\n",
      "           1       0.82      0.67      0.74       294\n",
      "\n",
      "    accuracy                           0.93      2100\n",
      "   macro avg       0.89      0.83      0.85      2100\n",
      "weighted avg       0.93      0.93      0.93      2100\n",
      "\n"
     ]
    }
   ],
   "source": [
    "print(classification_report(Y_true, Y_pred_classes))"
   ]
  },
  {
   "cell_type": "code",
   "execution_count": 27,
   "id": "f98dc303",
   "metadata": {
    "execution": {
     "iopub.execute_input": "2022-05-16T09:21:55.150934Z",
     "iopub.status.busy": "2022-05-16T09:21:55.150244Z",
     "iopub.status.idle": "2022-05-16T09:25:25.569270Z",
     "shell.execute_reply": "2022-05-16T09:25:25.568070Z"
    },
    "papermill": {
     "duration": 213.624155,
     "end_time": "2022-05-16T09:25:27.020836",
     "exception": false,
     "start_time": "2022-05-16T09:21:53.396681",
     "status": "completed"
    },
    "tags": []
   },
   "outputs": [
    {
     "name": "stdout",
     "output_type": "stream",
     "text": [
      "Train accuracy Score------------>\n",
      "99.914 %\n",
      "Val accuracy Score--------->\n",
      "93.429 %\n",
      "Test accuracy Score--------->\n",
      "91.444 %\n",
      "F1 Score--------------->\n",
      "90.933 %\n",
      "Cohen Kappa Score------------->\n",
      "66.470 %\n",
      "Recall-------------->\n",
      "91.444 %\n",
      "Precision-------------->\n",
      "91.049 %\n"
     ]
    },
    {
     "data": {
      "image/png": "[encoded data removed]",
      "text/plain": [
       "<Figure size 864x432 with 4 Axes>"
      ]
     },
     "metadata": {
      "needs_background": "light"
     },
     "output_type": "display_data"
    }
   ],
   "source": [
    "get_accuracy_metrics(model,  X_train, y_train, X_val, y_val, X_test, y_test)"
   ]
  },
  {
   "cell_type": "code",
   "execution_count": 28,
   "id": "de5a08cc",
   "metadata": {
    "execution": {
     "iopub.execute_input": "2022-05-16T09:25:30.447883Z",
     "iopub.status.busy": "2022-05-16T09:25:30.447192Z",
     "iopub.status.idle": "2022-05-16T09:25:30.832227Z",
     "shell.execute_reply": "2022-05-16T09:25:30.831031Z"
    },
    "papermill": {
     "duration": 2.074272,
     "end_time": "2022-05-16T09:25:30.836063",
     "exception": false,
     "start_time": "2022-05-16T09:25:28.761791",
     "status": "completed"
    },
    "tags": []
   },
   "outputs": [
    {
     "data": {
      "image/png": "[encoded data removed]",
      "text/plain": [
       "<Figure size 864x432 with 2 Axes>"
      ]
     },
     "metadata": {
      "needs_background": "light"
     },
     "output_type": "display_data"
    }
   ],
   "source": [
    "plt.figure(figsize = (12, 6))\n",
    "plt.subplot(121)\n",
    "#plotting the Accuracy of test and training sets\n",
    "plt.plot(history2.history['accuracy'])\n",
    "plt.plot(history2.history['val_accuracy'])\n",
    "plt.title('1st training Model Accuracy')\n",
    "plt.ylabel('accuracy')\n",
    "plt.xlabel('epoch')\n",
    "plt.legend(['train', 'test'], loc='upper left')\n",
    "\n",
    "plt.subplot(122)\n",
    "#plotting the loss of test and training sets\n",
    "plt.plot(history2.history['loss'])\n",
    "plt.plot(history2.history['val_loss'])\n",
    "plt.title('1st training Model Loss')\n",
    "plt.ylabel('loss')\n",
    "plt.xlabel('epoch')\n",
    "plt.legend(['train', 'test'], loc='upper left')\n",
    "plt.show()"
   ]
  }
 ],
 "metadata": {
  "kernelspec": {
   "display_name": "Python 3",
   "language": "python",
   "name": "python3"
  },
  "language_info": {
   "codemirror_mode": {
    "name": "ipython",
    "version": 3
   },
   "file_extension": ".py",
   "mimetype": "text/x-python",
   "name": "python",
   "nbconvert_exporter": "python",
   "pygments_lexer": "ipython3",
   "version": "3.7.12"
  },
  "papermill": {
   "default_parameters": {},
   "duration": 7790.492765,
   "end_time": "2022-05-16T09:25:36.623834",
   "environment_variables": {},
   "exception": null,
   "input_path": "__notebook__.ipynb",
   "output_path": "__notebook__.ipynb",
   "parameters": {},
   "start_time": "2022-05-16T07:15:46.131069",
   "version": "2.3.4"
  }
 },
 "nbformat": 4,
 "nbformat_minor": 5
}
