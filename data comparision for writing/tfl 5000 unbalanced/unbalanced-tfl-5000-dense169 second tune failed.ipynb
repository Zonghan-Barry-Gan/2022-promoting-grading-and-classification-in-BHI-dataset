{
 "cells": [
  {
   "cell_type": "code",
   "execution_count": 1,
   "id": "ae3d6a6a",
   "metadata": {
    "_cell_guid": "b1076dfc-b9ad-4769-8c92-a6c4dae69d19",
    "_uuid": "8f2839f25d086af736a60e9eeb907d3b93b6e0e5",
    "execution": {
     "iopub.execute_input": "2022-05-18T14:15:46.264704Z",
     "iopub.status.busy": "2022-05-18T14:15:46.264026Z",
     "iopub.status.idle": "2022-05-18T14:15:58.666954Z",
     "shell.execute_reply": "2022-05-18T14:15:58.666121Z"
    },
    "papermill": {
     "duration": 12.439337,
     "end_time": "2022-05-18T14:15:58.669445",
     "exception": false,
     "start_time": "2022-05-18T14:15:46.230108",
     "status": "completed"
    },
    "tags": []
   },
   "outputs": [
    {
     "name": "stdout",
     "output_type": "stream",
     "text": [
      "Collecting Livelossplot\r\n",
      "  Downloading livelossplot-0.5.5-py3-none-any.whl (22 kB)\r\n",
      "Requirement already satisfied: numpy<1.22 in /opt/conda/lib/python3.7/site-packages (from Livelossplot) (1.21.6)\r\n",
      "Requirement already satisfied: bokeh in /opt/conda/lib/python3.7/site-packages (from Livelossplot) (2.4.2)\r\n",
      "Requirement already satisfied: matplotlib in /opt/conda/lib/python3.7/site-packages (from Livelossplot) (3.5.2)\r\n",
      "Requirement already satisfied: ipython==7.* in /opt/conda/lib/python3.7/site-packages (from Livelossplot) (7.32.0)\r\n",
      "Requirement already satisfied: pexpect>4.3 in /opt/conda/lib/python3.7/site-packages (from ipython==7.*->Livelossplot) (4.8.0)\r\n",
      "Requirement already satisfied: pickleshare in /opt/conda/lib/python3.7/site-packages (from ipython==7.*->Livelossplot) (0.7.5)\r\n",
      "Requirement already satisfied: matplotlib-inline in /opt/conda/lib/python3.7/site-packages (from ipython==7.*->Livelossplot) (0.1.3)\r\n",
      "Requirement already satisfied: setuptools>=18.5 in /opt/conda/lib/python3.7/site-packages (from ipython==7.*->Livelossplot) (59.8.0)\r\n",
      "Requirement already satisfied: decorator in /opt/conda/lib/python3.7/site-packages (from ipython==7.*->Livelossplot) (5.1.1)\r\n",
      "Requirement already satisfied: traitlets>=4.2 in /opt/conda/lib/python3.7/site-packages (from ipython==7.*->Livelossplot) (5.1.1)\r\n",
      "Requirement already satisfied: prompt-toolkit!=3.0.0,!=3.0.1,<3.1.0,>=2.0.0 in /opt/conda/lib/python3.7/site-packages (from ipython==7.*->Livelossplot) (3.0.27)\r\n",
      "Requirement already satisfied: backcall in /opt/conda/lib/python3.7/site-packages (from ipython==7.*->Livelossplot) (0.2.0)\r\n",
      "Requirement already satisfied: pygments in /opt/conda/lib/python3.7/site-packages (from ipython==7.*->Livelossplot) (2.11.2)\r\n",
      "Requirement already satisfied: jedi>=0.16 in /opt/conda/lib/python3.7/site-packages (from ipython==7.*->Livelossplot) (0.18.1)\r\n",
      "Requirement already satisfied: typing-extensions>=3.10.0 in /opt/conda/lib/python3.7/site-packages (from bokeh->Livelossplot) (4.2.0)\r\n",
      "Requirement already satisfied: tornado>=5.1 in /opt/conda/lib/python3.7/site-packages (from bokeh->Livelossplot) (6.1)\r\n",
      "Requirement already satisfied: PyYAML>=3.10 in /opt/conda/lib/python3.7/site-packages (from bokeh->Livelossplot) (6.0)\r\n",
      "Requirement already satisfied: pillow>=7.1.0 in /opt/conda/lib/python3.7/site-packages (from bokeh->Livelossplot) (9.0.1)\r\n",
      "Requirement already satisfied: packaging>=16.8 in /opt/conda/lib/python3.7/site-packages (from bokeh->Livelossplot) (21.3)\r\n",
      "Requirement already satisfied: Jinja2>=2.9 in /opt/conda/lib/python3.7/site-packages (from bokeh->Livelossplot) (3.1.2)\r\n",
      "Requirement already satisfied: python-dateutil>=2.7 in /opt/conda/lib/python3.7/site-packages (from matplotlib->Livelossplot) (2.8.2)\r\n",
      "Requirement already satisfied: cycler>=0.10 in /opt/conda/lib/python3.7/site-packages (from matplotlib->Livelossplot) (0.11.0)\r\n",
      "Requirement already satisfied: fonttools>=4.22.0 in /opt/conda/lib/python3.7/site-packages (from matplotlib->Livelossplot) (4.30.0)\r\n",
      "Requirement already satisfied: pyparsing>=2.2.1 in /opt/conda/lib/python3.7/site-packages (from matplotlib->Livelossplot) (3.0.7)\r\n",
      "Requirement already satisfied: kiwisolver>=1.0.1 in /opt/conda/lib/python3.7/site-packages (from matplotlib->Livelossplot) (1.4.0)\r\n",
      "Requirement already satisfied: parso<0.9.0,>=0.8.0 in /opt/conda/lib/python3.7/site-packages (from jedi>=0.16->ipython==7.*->Livelossplot) (0.8.3)\r\n",
      "Requirement already satisfied: MarkupSafe>=2.0 in /opt/conda/lib/python3.7/site-packages (from Jinja2>=2.9->bokeh->Livelossplot) (2.0.1)\r\n",
      "Requirement already satisfied: ptyprocess>=0.5 in /opt/conda/lib/python3.7/site-packages (from pexpect>4.3->ipython==7.*->Livelossplot) (0.7.0)\r\n",
      "Requirement already satisfied: wcwidth in /opt/conda/lib/python3.7/site-packages (from prompt-toolkit!=3.0.0,!=3.0.1,<3.1.0,>=2.0.0->ipython==7.*->Livelossplot) (0.2.5)\r\n",
      "Requirement already satisfied: six>=1.5 in /opt/conda/lib/python3.7/site-packages (from python-dateutil>=2.7->matplotlib->Livelossplot) (1.16.0)\r\n",
      "Installing collected packages: Livelossplot\r\n",
      "Successfully installed Livelossplot-0.5.5\r\n",
      "\u001b[33mWARNING: Running pip as the 'root' user can result in broken permissions and conflicting behaviour with the system package manager. It is recommended to use a virtual environment instead: https://pip.pypa.io/warnings/venv\u001b[0m\u001b[33m\r\n",
      "\u001b[0m"
     ]
    }
   ],
   "source": [
    "# This Python 3 environment comes with many helpful analytics libraries installed\n",
    "# It is defined by the kaggle/python Docker image: https://github.com/kaggle/docker-python\n",
    "# For example, here's several helpful packages to load\n",
    "\n",
    "import numpy as np # linear algebra\n",
    "import pandas as pd # data processing, CSV file I/O (e.g. pd.read_csv)\n",
    "\n",
    "# Input data files are available in the read-only \"../input/\" directory\n",
    "# For example, running this (by clicking run or pressing Shift+Enter) will list all files under the input directory\n",
    "\n",
    "import os\n",
    "\n",
    "import warnings\n",
    "warnings.filterwarnings('ignore')\n",
    "%matplotlib inline\n",
    "!pip install Livelossplot\n",
    "from livelossplot import PlotLossesKeras\n",
    "\n",
    "from glob import glob\n",
    "import os\n",
    "import shutil\n",
    "\n",
    "import numpy as np\n",
    "import pandas as pd\n",
    "# You can write up to 20GB to the current directory (/kaggle/working/) that gets preserved as output when you create a version using \"Save & Run All\" \n",
    "# You can also write temporary files to /kaggle/temp/, but they won't be saved outside of the current session"
   ]
  },
  {
   "cell_type": "markdown",
   "id": "03ad58f3",
   "metadata": {
    "papermill": {
     "duration": 0.032997,
     "end_time": "2022-05-18T14:15:58.736173",
     "exception": false,
     "start_time": "2022-05-18T14:15:58.703176",
     "status": "completed"
    },
    "tags": []
   },
   "source": [
    "# AIM\n",
    "## To classify the images into \n",
    "### IDC+\n",
    "### IDC-\n",
    "\n",
    "# Validation Strategy:\n",
    "\n",
    "## Train Data Size= 0.7*Total_Data\n",
    "## Validation Data Size= 0.21* Total_Data\n",
    "## Test Data Size= 0.09 * Total_Data\n",
    "\n",
    "# Augmentaions Used:\n",
    "## Each Image is rotated through 45 angles\n"
   ]
  },
  {
   "cell_type": "code",
   "execution_count": 2,
   "id": "38590009",
   "metadata": {
    "execution": {
     "iopub.execute_input": "2022-05-18T14:15:58.805319Z",
     "iopub.status.busy": "2022-05-18T14:15:58.805048Z",
     "iopub.status.idle": "2022-05-18T14:16:07.386309Z",
     "shell.execute_reply": "2022-05-18T14:16:07.385385Z"
    },
    "papermill": {
     "duration": 8.618819,
     "end_time": "2022-05-18T14:16:07.389574",
     "exception": false,
     "start_time": "2022-05-18T14:15:58.770755",
     "status": "completed"
    },
    "tags": []
   },
   "outputs": [
    {
     "data": {
      "text/html": [
       "<style type='text/css'>\n",
       ".datatable table.frame { margin-bottom: 0; }\n",
       ".datatable table.frame thead { border-bottom: none; }\n",
       ".datatable table.frame tr.coltypes td {  color: #FFFFFF;  line-height: 6px;  padding: 0 0.5em;}\n",
       ".datatable .bool    { background: #DDDD99; }\n",
       ".datatable .object  { background: #565656; }\n",
       ".datatable .int     { background: #5D9E5D; }\n",
       ".datatable .float   { background: #4040CC; }\n",
       ".datatable .str     { background: #CC4040; }\n",
       ".datatable .time    { background: #40CC40; }\n",
       ".datatable .row_index {  background: var(--jp-border-color3);  border-right: 1px solid var(--jp-border-color0);  color: var(--jp-ui-font-color3);  font-size: 9px;}\n",
       ".datatable .frame tbody td { text-align: left; }\n",
       ".datatable .frame tr.coltypes .row_index {  background: var(--jp-border-color0);}\n",
       ".datatable th:nth-child(2) { padding-left: 12px; }\n",
       ".datatable .hellipsis {  color: var(--jp-cell-editor-border-color);}\n",
       ".datatable .vellipsis {  background: var(--jp-layout-color0);  color: var(--jp-cell-editor-border-color);}\n",
       ".datatable .na {  color: var(--jp-cell-editor-border-color);  font-size: 80%;}\n",
       ".datatable .sp {  opacity: 0.25;}\n",
       ".datatable .footer { font-size: 9px; }\n",
       ".datatable .frame_dimensions {  background: var(--jp-border-color3);  border-top: 1px solid var(--jp-border-color0);  color: var(--jp-ui-font-color3);  display: inline-block;  opacity: 0.6;  padding: 1px 10px 1px 5px;}\n",
       "</style>\n"
      ],
      "text/plain": [
       "<IPython.core.display.HTML object>"
      ]
     },
     "metadata": {},
     "output_type": "display_data"
    },
    {
     "name": "stdout",
     "output_type": "stream",
     "text": [
      "All modules have been imported\n"
     ]
    }
   ],
   "source": [
    "\n",
    "import numpy as np\n",
    "import pandas as pd\n",
    "import cv2\n",
    "from PIL import Image\n",
    "import scipy\n",
    "\n",
    "import tensorflow as tf\n",
    "from tensorflow.keras.applications import *\n",
    "from tensorflow.keras.optimizers import *\n",
    "from tensorflow.keras.losses import *\n",
    "from tensorflow.keras.layers import *\n",
    "from tensorflow.keras.models import *\n",
    "from tensorflow.keras.callbacks import *\n",
    "from tensorflow.keras.preprocessing.image import *\n",
    "from tensorflow.keras.utils import *\n",
    "# import pydot\n",
    "\n",
    "from sklearn.metrics import *\n",
    "from sklearn.model_selection import *\n",
    "import tensorflow.keras.backend as K\n",
    "\n",
    "from tqdm import tqdm, tqdm_notebook\n",
    "from colorama import Fore\n",
    "import json\n",
    "import matplotlib.pyplot as plt\n",
    "import seaborn as sns\n",
    "from glob import glob\n",
    "from skimage.io import *\n",
    "%config Completer.use_jedi = False\n",
    "import time\n",
    "from sklearn.decomposition import PCA\n",
    "from sklearn.svm import LinearSVC\n",
    "from sklearn.linear_model import LogisticRegression\n",
    "from sklearn.metrics import accuracy_score\n",
    "import lightgbm as lgb\n",
    "import xgboost as xgb\n",
    "\n",
    "print(\"All modules have been imported\")"
   ]
  },
  {
   "cell_type": "code",
   "execution_count": 3,
   "id": "ad0c87e1",
   "metadata": {
    "execution": {
     "iopub.execute_input": "2022-05-18T14:16:07.463237Z",
     "iopub.status.busy": "2022-05-18T14:16:07.462982Z",
     "iopub.status.idle": "2022-05-18T14:16:07.467211Z",
     "shell.execute_reply": "2022-05-18T14:16:07.466409Z"
    },
    "papermill": {
     "duration": 0.042699,
     "end_time": "2022-05-18T14:16:07.469226",
     "exception": false,
     "start_time": "2022-05-18T14:16:07.426527",
     "status": "completed"
    },
    "tags": []
   },
   "outputs": [],
   "source": [
    "sampling_seed=0\n",
    "size_4_training=5000\n",
    "img_size=224\n",
    "training_reshape=(-1, img_size, img_size, 3)\n",
    "epoch_4_test=10"
   ]
  },
  {
   "cell_type": "markdown",
   "id": "f5507367",
   "metadata": {
    "papermill": {
     "duration": 0.037669,
     "end_time": "2022-05-18T14:16:07.541062",
     "exception": false,
     "start_time": "2022-05-18T14:16:07.503393",
     "status": "completed"
    },
    "tags": []
   },
   "source": [
    "Image labelling"
   ]
  },
  {
   "cell_type": "code",
   "execution_count": 4,
   "id": "a594318a",
   "metadata": {
    "execution": {
     "iopub.execute_input": "2022-05-18T14:16:07.619005Z",
     "iopub.status.busy": "2022-05-18T14:16:07.618105Z",
     "iopub.status.idle": "2022-05-18T14:19:54.818531Z",
     "shell.execute_reply": "2022-05-18T14:19:54.817768Z"
    },
    "papermill": {
     "duration": 227.242929,
     "end_time": "2022-05-18T14:19:54.820614",
     "exception": false,
     "start_time": "2022-05-18T14:16:07.577685",
     "status": "completed"
    },
    "tags": []
   },
   "outputs": [
    {
     "name": "stdout",
     "output_type": "stream",
     "text": [
      "['../input/breast-histopathology-images/IDC_regular_ps50_idx5/10295/0/10295_idx5_x1351_y1101_class0.png', '../input/breast-histopathology-images/IDC_regular_ps50_idx5/10295/0/10295_idx5_x1501_y501_class0.png', '../input/breast-histopathology-images/IDC_regular_ps50_idx5/10295/0/10295_idx5_x1501_y1101_class0.png', '../input/breast-histopathology-images/IDC_regular_ps50_idx5/10295/0/10295_idx5_x451_y901_class0.png', '../input/breast-histopathology-images/IDC_regular_ps50_idx5/10295/0/10295_idx5_x801_y451_class0.png', '../input/breast-histopathology-images/IDC_regular_ps50_idx5/10295/0/10295_idx5_x151_y1051_class0.png', '../input/breast-histopathology-images/IDC_regular_ps50_idx5/10295/0/10295_idx5_x1351_y901_class0.png', '../input/breast-histopathology-images/IDC_regular_ps50_idx5/10295/0/10295_idx5_x701_y651_class0.png', '../input/breast-histopathology-images/IDC_regular_ps50_idx5/10295/0/10295_idx5_x951_y1401_class0.png', '../input/breast-histopathology-images/IDC_regular_ps50_idx5/10295/0/10295_idx5_x601_y501_class0.png']\n"
     ]
    }
   ],
   "source": [
    "import random\n",
    "#make directory for labelling\n",
    "os.makedirs('../working/idc2/idc-minus/')     \n",
    "os.makedirs('../working/idc2/idc-plus/')  \n",
    "\n",
    "\n",
    "class0 = [] # 0 = idc+\n",
    "class1 = [] # 1 = idc-\n",
    "imagePatches = glob('../input/breast-histopathology-images/IDC_regular_ps50_idx5/**/*.png', recursive=True)\n",
    "for filename in imagePatches:\n",
    "    if filename.endswith(\"class0.png\"):\n",
    "         class0.append(filename)\n",
    "    else:\n",
    "        class1.append(filename)\n",
    "\n",
    "print(class0[0:10])\n",
    "\n",
    "#sampling 10000 images from class 0 and class 1 to train the model\n",
    "\n",
    "random.seed(sampling_seed)\n",
    "class0sample=random.sample(class0,size_4_training)\n",
    "class1sample=random.sample(class1,size_4_training)\n",
    "\n",
    "\n",
    "def read_and_save_data(path, file_name_array):\n",
    "    j=0\n",
    "    for i in file_name_array:\n",
    "        if i.endswith('.png'):\n",
    "          \n",
    "            \n",
    "            #second copy method\n",
    "            head, tail = os.path.split(i)\n",
    "            outputname=str(path+tail)\n",
    "            #outputname=str(path+str(j)+'.png')\n",
    "            #print(outputname)\n",
    "            shutil.copy(i, outputname)\n",
    "   \n",
    "            #print(status2)\n",
    "            \n",
    "            j=j+1\n",
    "            if j==120000:\n",
    "                break\n",
    "            \n",
    "   \n",
    "class0path='../working/idc2/idc-minus/'\n",
    "class1path='../working/idc2/idc-plus/'\n",
    "\n",
    "\n",
    "\n",
    "\n",
    "read_and_save_data(class0path,class0sample)\n",
    "read_and_save_data(class1path,class1sample)"
   ]
  },
  {
   "cell_type": "markdown",
   "id": "ae6ba35c",
   "metadata": {
    "papermill": {
     "duration": 0.033768,
     "end_time": "2022-05-18T14:19:54.888708",
     "exception": false,
     "start_time": "2022-05-18T14:19:54.854940",
     "status": "completed"
    },
    "tags": []
   },
   "source": []
  },
  {
   "cell_type": "code",
   "execution_count": null,
   "id": "2ebdad6d",
   "metadata": {
    "papermill": {
     "duration": 0.033579,
     "end_time": "2022-05-18T14:19:54.956120",
     "exception": false,
     "start_time": "2022-05-18T14:19:54.922541",
     "status": "completed"
    },
    "tags": []
   },
   "outputs": [],
   "source": [
    "\n"
   ]
  },
  {
   "cell_type": "code",
   "execution_count": 5,
   "id": "c197d761",
   "metadata": {
    "execution": {
     "iopub.execute_input": "2022-05-18T14:19:55.025800Z",
     "iopub.status.busy": "2022-05-18T14:19:55.025566Z",
     "iopub.status.idle": "2022-05-18T14:19:55.029109Z",
     "shell.execute_reply": "2022-05-18T14:19:55.028349Z"
    },
    "papermill": {
     "duration": 0.040867,
     "end_time": "2022-05-18T14:19:55.031165",
     "exception": false,
     "start_time": "2022-05-18T14:19:54.990298",
     "status": "completed"
    },
    "tags": []
   },
   "outputs": [],
   "source": [
    "\n",
    "from PIL import Image\n",
    "import glob\n"
   ]
  },
  {
   "cell_type": "code",
   "execution_count": null,
   "id": "20ba639b",
   "metadata": {
    "papermill": {
     "duration": 0.033104,
     "end_time": "2022-05-18T14:19:55.097941",
     "exception": false,
     "start_time": "2022-05-18T14:19:55.064837",
     "status": "completed"
    },
    "tags": []
   },
   "outputs": [],
   "source": []
  },
  {
   "cell_type": "code",
   "execution_count": null,
   "id": "e69d6fc8",
   "metadata": {
    "papermill": {
     "duration": 0.03276,
     "end_time": "2022-05-18T14:19:55.163423",
     "exception": false,
     "start_time": "2022-05-18T14:19:55.130663",
     "status": "completed"
    },
    "tags": []
   },
   "outputs": [],
   "source": []
  },
  {
   "cell_type": "code",
   "execution_count": 6,
   "id": "96fe549d",
   "metadata": {
    "execution": {
     "iopub.execute_input": "2022-05-18T14:19:55.230009Z",
     "iopub.status.busy": "2022-05-18T14:19:55.229798Z",
     "iopub.status.idle": "2022-05-18T14:19:55.233450Z",
     "shell.execute_reply": "2022-05-18T14:19:55.232581Z"
    },
    "papermill": {
     "duration": 0.039069,
     "end_time": "2022-05-18T14:19:55.235232",
     "exception": false,
     "start_time": "2022-05-18T14:19:55.196163",
     "status": "completed"
    },
    "tags": []
   },
   "outputs": [],
   "source": [
    "import os #Operating System\n",
    "import sys #System\n",
    "# train_generator = train_datagen.flow(x_train, y_train, batch_size =)\n",
    "# val_generator = val_datagen.flow(x_val, y_val, batch_size = 64)\n",
    "# test_generator=test_datagen.flow(x_test,y_test,batch_size = 64)\n"
   ]
  },
  {
   "cell_type": "markdown",
   "id": "556dab95",
   "metadata": {
    "papermill": {
     "duration": 0.032933,
     "end_time": "2022-05-18T14:19:55.300887",
     "exception": false,
     "start_time": "2022-05-18T14:19:55.267954",
     "status": "completed"
    },
    "tags": []
   },
   "source": [
    "#import image"
   ]
  },
  {
   "cell_type": "code",
   "execution_count": 7,
   "id": "a5954461",
   "metadata": {
    "execution": {
     "iopub.execute_input": "2022-05-18T14:19:55.369214Z",
     "iopub.status.busy": "2022-05-18T14:19:55.369008Z",
     "iopub.status.idle": "2022-05-18T14:19:55.374709Z",
     "shell.execute_reply": "2022-05-18T14:19:55.374074Z"
    },
    "papermill": {
     "duration": 0.041797,
     "end_time": "2022-05-18T14:19:55.376326",
     "exception": false,
     "start_time": "2022-05-18T14:19:55.334529",
     "status": "completed"
    },
    "tags": []
   },
   "outputs": [],
   "source": [
    "import cv2\n",
    "'''\n",
    "def readImage(path, X, Y, label):\n",
    "    j=0\n",
    " \n",
    "    for i in os.listdir(path):\n",
    "        imgname=path+i\n",
    "        #print(imgname)\n",
    "        img = cv2.imread(imgname, cv2.IMREAD_COLOR)\n",
    "        img =cv2.resize(img,(50, 50))\n",
    "        X.append(img)\n",
    "        Y.append(label)\n",
    "        j=j+1\n",
    "        #if j==10:\n",
    "        #    break\n",
    "        \n",
    "    return X, Y\n",
    "    '''\n",
    "def readImage(path, tag):\n",
    "    j=0\n",
    "    image_array = []\n",
    "    for i in os.listdir(path):\n",
    "        imgname=path+i\n",
    "        #print(imgname)\n",
    "        img = cv2.imread(imgname, cv2.IMREAD_COLOR)\n",
    "        img_resized = cv2.resize(img, (img_size,img_size), interpolation=cv2.INTER_LINEAR)\n",
    "        image_array.append([img_resized, tag])\n",
    "        #print(img[1])\n",
    "        j=j+1\n",
    "        #if j==10:\n",
    "        #    break\n",
    "        \n",
    "    return image_array"
   ]
  },
  {
   "cell_type": "code",
   "execution_count": 8,
   "id": "cfdb8aa9",
   "metadata": {
    "execution": {
     "iopub.execute_input": "2022-05-18T14:19:55.445021Z",
     "iopub.status.busy": "2022-05-18T14:19:55.444836Z",
     "iopub.status.idle": "2022-05-18T14:19:58.630316Z",
     "shell.execute_reply": "2022-05-18T14:19:58.629320Z"
    },
    "papermill": {
     "duration": 3.221435,
     "end_time": "2022-05-18T14:19:58.632243",
     "exception": false,
     "start_time": "2022-05-18T14:19:55.410808",
     "status": "completed"
    },
    "tags": []
   },
   "outputs": [
    {
     "name": "stdout",
     "output_type": "stream",
     "text": [
      "(5000, 2)\n",
      "(10000, 2)\n",
      "(10000, 224, 224, 3)\n"
     ]
    }
   ],
   "source": [
    "import numpy as np\n",
    "\n",
    "\n",
    "class0_array = readImage(class0path, 0)\n",
    "class1_array = readImage(class1path, 1)\n",
    "class0_array=np.array(class0_array)\n",
    "class1_array=np.array(class1_array)\n",
    "combined_data = np.concatenate((class0_array, class1_array))\n",
    "random.seed(41)\n",
    "random.shuffle(combined_data)\n",
    "print(class0_array.shape)\n",
    "print(combined_data.shape)\n",
    "\n",
    "X = []\n",
    "y = []\n",
    "\n",
    "for features,label in combined_data:\n",
    "    X.append(features)\n",
    "    y.append(label)\n",
    "#print(X.shape)\n",
    "#pring(y.shape)\n",
    "\n",
    "# reshape X data\n",
    "X = np.array(X).reshape(training_reshape)\n",
    "print(X.shape)"
   ]
  },
  {
   "cell_type": "code",
   "execution_count": 9,
   "id": "dffd89e8",
   "metadata": {
    "execution": {
     "iopub.execute_input": "2022-05-18T14:19:58.701657Z",
     "iopub.status.busy": "2022-05-18T14:19:58.701445Z",
     "iopub.status.idle": "2022-05-18T14:19:59.272821Z",
     "shell.execute_reply": "2022-05-18T14:19:59.272053Z"
    },
    "papermill": {
     "duration": 0.608509,
     "end_time": "2022-05-18T14:19:59.275095",
     "exception": false,
     "start_time": "2022-05-18T14:19:58.666586",
     "status": "completed"
    },
    "tags": []
   },
   "outputs": [
    {
     "name": "stdout",
     "output_type": "stream",
     "text": [
      "(7000, 224, 224, 3) (900, 224, 224, 3) (2100, 224, 224, 3) (7000, 2) (900, 2) (2100, 2)\n"
     ]
    }
   ],
   "source": [
    "X_train, X_test1, y_train, y_test1 = train_test_split(X, y, test_size=0.3, random_state=42)\n",
    "X_val, X_test, y_val, y_test = train_test_split(X_test1, y_test1, test_size=0.3, random_state=42)\n",
    "y_train = to_categorical(y_train)\n",
    "y_test = to_categorical(y_test)\n",
    "y_val = to_categorical(y_val)\n",
    "print(X_train.shape, X_test.shape, X_val.shape, y_train.shape, y_test.shape, y_val.shape)"
   ]
  },
  {
   "cell_type": "code",
   "execution_count": 10,
   "id": "ba09b15b",
   "metadata": {
    "execution": {
     "iopub.execute_input": "2022-05-18T14:19:59.345294Z",
     "iopub.status.busy": "2022-05-18T14:19:59.345081Z",
     "iopub.status.idle": "2022-05-18T14:19:59.350111Z",
     "shell.execute_reply": "2022-05-18T14:19:59.349461Z"
    },
    "papermill": {
     "duration": 0.041747,
     "end_time": "2022-05-18T14:19:59.351872",
     "exception": false,
     "start_time": "2022-05-18T14:19:59.310125",
     "status": "completed"
    },
    "tags": []
   },
   "outputs": [],
   "source": [
    "#Callbacks\n",
    "c2=tf.keras.callbacks.EarlyStopping(\n",
    "    monitor=\"val_loss\",\n",
    "    min_delta=0,\n",
    "    patience=6,\n",
    "    mode=\"auto\",\n",
    "    baseline=None,\n",
    "    restore_best_weights=True,\n",
    ")\n",
    "\n",
    "c3=tf.keras.callbacks.ReduceLROnPlateau(\n",
    "    monitor=\"val_loss\",\n",
    "    factor=0.1,\n",
    "    patience=6,\n",
    "    mode=\"auto\",\n",
    "    min_delta=0.0001,\n",
    "    cooldown=0,\n",
    "    min_lr=0.001\n",
    ")\n",
    "nClasses=2"
   ]
  },
  {
   "cell_type": "markdown",
   "id": "cdab58b7",
   "metadata": {
    "papermill": {
     "duration": 0.034012,
     "end_time": "2022-05-18T14:19:59.419799",
     "exception": false,
     "start_time": "2022-05-18T14:19:59.385787",
     "status": "completed"
    },
    "tags": []
   },
   "source": [
    "# Model configure"
   ]
  },
  {
   "cell_type": "code",
   "execution_count": 11,
   "id": "5ddcba93",
   "metadata": {
    "execution": {
     "iopub.execute_input": "2022-05-18T14:19:59.488856Z",
     "iopub.status.busy": "2022-05-18T14:19:59.488668Z",
     "iopub.status.idle": "2022-05-18T14:20:13.103236Z",
     "shell.execute_reply": "2022-05-18T14:20:13.102500Z"
    },
    "papermill": {
     "duration": 13.652349,
     "end_time": "2022-05-18T14:20:13.106260",
     "exception": false,
     "start_time": "2022-05-18T14:19:59.453911",
     "status": "completed"
    },
    "tags": []
   },
   "outputs": [
    {
     "name": "stderr",
     "output_type": "stream",
     "text": [
      "2022-05-18 14:19:59.586537: I tensorflow/stream_executor/cuda/cuda_gpu_executor.cc:937] successful NUMA node read from SysFS had negative value (-1), but there must be at least one NUMA node, so returning NUMA node zero\n",
      "2022-05-18 14:19:59.590592: I tensorflow/stream_executor/cuda/cuda_gpu_executor.cc:937] successful NUMA node read from SysFS had negative value (-1), but there must be at least one NUMA node, so returning NUMA node zero\n",
      "2022-05-18 14:19:59.591328: I tensorflow/stream_executor/cuda/cuda_gpu_executor.cc:937] successful NUMA node read from SysFS had negative value (-1), but there must be at least one NUMA node, so returning NUMA node zero\n",
      "2022-05-18 14:19:59.592544: I tensorflow/core/platform/cpu_feature_guard.cc:142] This TensorFlow binary is optimized with oneAPI Deep Neural Network Library (oneDNN) to use the following CPU instructions in performance-critical operations:  AVX2 AVX512F FMA\n",
      "To enable them in other operations, rebuild TensorFlow with the appropriate compiler flags.\n",
      "2022-05-18 14:19:59.592841: I tensorflow/stream_executor/cuda/cuda_gpu_executor.cc:937] successful NUMA node read from SysFS had negative value (-1), but there must be at least one NUMA node, so returning NUMA node zero\n",
      "2022-05-18 14:19:59.593553: I tensorflow/stream_executor/cuda/cuda_gpu_executor.cc:937] successful NUMA node read from SysFS had negative value (-1), but there must be at least one NUMA node, so returning NUMA node zero\n",
      "2022-05-18 14:19:59.594190: I tensorflow/stream_executor/cuda/cuda_gpu_executor.cc:937] successful NUMA node read from SysFS had negative value (-1), but there must be at least one NUMA node, so returning NUMA node zero\n",
      "2022-05-18 14:20:01.471022: I tensorflow/stream_executor/cuda/cuda_gpu_executor.cc:937] successful NUMA node read from SysFS had negative value (-1), but there must be at least one NUMA node, so returning NUMA node zero\n",
      "2022-05-18 14:20:01.471948: I tensorflow/stream_executor/cuda/cuda_gpu_executor.cc:937] successful NUMA node read from SysFS had negative value (-1), but there must be at least one NUMA node, so returning NUMA node zero\n",
      "2022-05-18 14:20:01.472677: I tensorflow/stream_executor/cuda/cuda_gpu_executor.cc:937] successful NUMA node read from SysFS had negative value (-1), but there must be at least one NUMA node, so returning NUMA node zero\n",
      "2022-05-18 14:20:01.473905: I tensorflow/core/common_runtime/gpu/gpu_device.cc:1510] Created device /job:localhost/replica:0/task:0/device:GPU:0 with 15385 MB memory:  -> device: 0, name: Tesla P100-PCIE-16GB, pci bus id: 0000:00:04.0, compute capability: 6.0\n"
     ]
    },
    {
     "name": "stdout",
     "output_type": "stream",
     "text": [
      "Downloading data from https://storage.googleapis.com/tensorflow/keras-applications/densenet/densenet169_weights_tf_dim_ordering_tf_kernels_notop.h5\n",
      "51879936/51877672 [==============================] - 5s 0us/step\n",
      "51888128/51877672 [==============================] - 5s 0us/step\n",
      "Model: \"sequential\"\n",
      "_________________________________________________________________\n",
      "Layer (type)                 Output Shape              Param #   \n",
      "=================================================================\n",
      "densenet169 (Functional)     (None, 7, 7, 1664)        12642880  \n",
      "_________________________________________________________________\n",
      "flatten (Flatten)            (None, 81536)             0         \n",
      "_________________________________________________________________\n",
      "batch_normalization (BatchNo (None, 81536)             326144    \n",
      "_________________________________________________________________\n",
      "dense (Dense)                (None, 4096)              333975552 \n",
      "_________________________________________________________________\n",
      "batch_normalization_1 (Batch (None, 4096)              16384     \n",
      "_________________________________________________________________\n",
      "activation (Activation)      (None, 4096)              0         \n",
      "_________________________________________________________________\n",
      "dropout (Dropout)            (None, 4096)              0         \n",
      "_________________________________________________________________\n",
      "dense_1 (Dense)              (None, 2096)              8587312   \n",
      "_________________________________________________________________\n",
      "dense_2 (Dense)              (None, 2)                 4194      \n",
      "=================================================================\n",
      "Total params: 355,552,466\n",
      "Trainable params: 342,738,322\n",
      "Non-trainable params: 12,814,144\n",
      "_________________________________________________________________\n"
     ]
    }
   ],
   "source": [
    "IMAGE_RESIZE = 299\n",
    "InceptionResNetV2_POOLING_AVERAGE = 'avg'\n",
    "DENSE_LAYER_ACTIVATION = 'sigmoid'\n",
    "OBJECTIVE_FUNCTION = 'categorical_crossentropy'\n",
    "\n",
    "# Common accuracy metric for all outputs, but can use different metrics for different output\n",
    "LOSS_METRICS = ['accuracy']\n",
    "\n",
    "# EARLY_STOP_PATIENCE must be < NUM_EPOCHS\n",
    "NUM_EPOCHS = 10\n",
    "EARLY_STOP_PATIENCE = 3\n",
    "#resnet_weights_path = '../input/resnet50/resnet50_weights_tf_dim_ordering_tf_kernels_notop.h5'\n",
    "\n",
    "from tensorflow.keras.applications import DenseNet169\n",
    "base_model = DenseNet169(\n",
    "    #weights='../input/densenet-keras/DenseNet-BC-121-32-no-top.h5',\n",
    "    weights='imagenet',\n",
    "    include_top=False,\n",
    "    input_shape=(224,224,3)\n",
    ")\n",
    "base_model.trainable = False\n",
    "model=Sequential()\n",
    "model.add(base_model)\n",
    "model.add(Flatten())\n",
    "model.add(BatchNormalization())\n",
    "model.add(Dense(4096,kernel_initializer='he_uniform'))\n",
    "model.add(BatchNormalization())\n",
    "model.add(Activation('relu'))\n",
    "model.add(Dropout(0.5))\n",
    "model.add(Dense(2096,activation=\"relu\"))\n",
    "model.add(Dense(2, activation='sigmoid'))\n",
    "#model = Model(inputs=resnet50_base_model.input, outputs=predictions)\n",
    "model.summary()\n"
   ]
  },
  {
   "cell_type": "code",
   "execution_count": 12,
   "id": "f2b85fdc",
   "metadata": {
    "execution": {
     "iopub.execute_input": "2022-05-18T14:20:13.190277Z",
     "iopub.status.busy": "2022-05-18T14:20:13.189569Z",
     "iopub.status.idle": "2022-05-18T14:20:14.308194Z",
     "shell.execute_reply": "2022-05-18T14:20:14.307372Z"
    },
    "papermill": {
     "duration": 1.165412,
     "end_time": "2022-05-18T14:20:14.312636",
     "exception": false,
     "start_time": "2022-05-18T14:20:13.147224",
     "status": "completed"
    },
    "tags": []
   },
   "outputs": [
    {
     "data": {
      "image/png": "[encoded data removed]",
      "text/plain": [
       "<IPython.core.display.Image object>"
      ]
     },
     "execution_count": 12,
     "metadata": {},
     "output_type": "execute_result"
    }
   ],
   "source": [
    "from tensorflow.keras.utils import plot_model\n",
    "from IPython.display import Image\n",
    "plot_model(model, to_file='convnet.png', show_shapes=True,show_layer_names=True)\n",
    "Image(filename='convnet.png') "
   ]
  },
  {
   "cell_type": "code",
   "execution_count": 13,
   "id": "dbfe9dbe",
   "metadata": {
    "execution": {
     "iopub.execute_input": "2022-05-18T14:20:14.459744Z",
     "iopub.status.busy": "2022-05-18T14:20:14.458861Z",
     "iopub.status.idle": "2022-05-18T14:20:14.494899Z",
     "shell.execute_reply": "2022-05-18T14:20:14.494169Z"
    },
    "papermill": {
     "duration": 0.112373,
     "end_time": "2022-05-18T14:20:14.497158",
     "exception": false,
     "start_time": "2022-05-18T14:20:14.384785",
     "status": "completed"
    },
    "tags": []
   },
   "outputs": [],
   "source": [
    "callbacks1 = [EarlyStopping(monitor='val_loss', patience=5, verbose=1), ModelCheckpoint('model.hdf5', save_best_only=True)]\n",
    "opt = Adam(learning_rate=0.001)\n",
    "model.compile(loss='categorical_crossentropy', optimizer=opt, metrics=['accuracy'])"
   ]
  },
  {
   "cell_type": "code",
   "execution_count": 14,
   "id": "a16f2854",
   "metadata": {
    "execution": {
     "iopub.execute_input": "2022-05-18T14:20:14.629057Z",
     "iopub.status.busy": "2022-05-18T14:20:14.628772Z",
     "iopub.status.idle": "2022-05-18T14:24:01.309419Z",
     "shell.execute_reply": "2022-05-18T14:24:01.308262Z"
    },
    "papermill": {
     "duration": 226.741676,
     "end_time": "2022-05-18T14:24:01.312170",
     "exception": false,
     "start_time": "2022-05-18T14:20:14.570494",
     "status": "completed"
    },
    "tags": []
   },
   "outputs": [
    {
     "name": "stdout",
     "output_type": "stream",
     "text": [
      "CPU times: user 2 µs, sys: 1e+03 ns, total: 3 µs\n",
      "Wall time: 7.39 µs\n"
     ]
    },
    {
     "name": "stderr",
     "output_type": "stream",
     "text": [
      "2022-05-18 14:20:14.640911: W tensorflow/core/framework/cpu_allocator_impl.cc:80] Allocation of 1053696000 exceeds 10% of free system memory.\n",
      "2022-05-18 14:20:15.756082: W tensorflow/core/framework/cpu_allocator_impl.cc:80] Allocation of 1053696000 exceeds 10% of free system memory.\n",
      "2022-05-18 14:20:16.558152: I tensorflow/compiler/mlir/mlir_graph_optimization_pass.cc:185] None of the MLIR Optimization Passes are enabled (registered 2)\n"
     ]
    },
    {
     "name": "stdout",
     "output_type": "stream",
     "text": [
      "Epoch 1/10\n"
     ]
    },
    {
     "name": "stderr",
     "output_type": "stream",
     "text": [
      "2022-05-18 14:20:25.152691: I tensorflow/stream_executor/cuda/cuda_dnn.cc:369] Loaded cuDNN version 8005\n"
     ]
    },
    {
     "name": "stdout",
     "output_type": "stream",
     "text": [
      "219/219 [==============================] - 42s 125ms/step - loss: 0.4126 - accuracy: 0.8664 - val_loss: 0.3182 - val_accuracy: 0.8556\n"
     ]
    },
    {
     "name": "stderr",
     "output_type": "stream",
     "text": [
      "2022-05-18 14:20:58.771204: W tensorflow/core/framework/cpu_allocator_impl.cc:80] Allocation of 1335885824 exceeds 10% of free system memory.\n",
      "2022-05-18 14:21:04.186671: W tensorflow/core/framework/cpu_allocator_impl.cc:80] Allocation of 1335885824 exceeds 10% of free system memory.\n",
      "2022-05-18 14:21:06.696070: W tensorflow/core/framework/cpu_allocator_impl.cc:80] Allocation of 1335885824 exceeds 10% of free system memory.\n"
     ]
    },
    {
     "name": "stdout",
     "output_type": "stream",
     "text": [
      "Epoch 2/10\n",
      "219/219 [==============================] - 24s 109ms/step - loss: 0.2777 - accuracy: 0.8817 - val_loss: 0.2898 - val_accuracy: 0.8767\n",
      "Epoch 3/10\n",
      "219/219 [==============================] - 24s 109ms/step - loss: 0.2451 - accuracy: 0.8999 - val_loss: 0.3190 - val_accuracy: 0.8744\n",
      "Epoch 4/10\n",
      "219/219 [==============================] - 24s 109ms/step - loss: 0.2109 - accuracy: 0.9194 - val_loss: 0.3644 - val_accuracy: 0.8889\n",
      "Epoch 5/10\n",
      "219/219 [==============================] - 24s 109ms/step - loss: 0.1905 - accuracy: 0.9257 - val_loss: 0.3476 - val_accuracy: 0.9022\n",
      "Epoch 6/10\n",
      "219/219 [==============================] - 24s 109ms/step - loss: 0.1642 - accuracy: 0.9381 - val_loss: 0.3063 - val_accuracy: 0.9089\n",
      "Epoch 7/10\n",
      "219/219 [==============================] - 24s 108ms/step - loss: 0.1424 - accuracy: 0.9480 - val_loss: 0.3430 - val_accuracy: 0.9011\n",
      "Epoch 00007: early stopping\n"
     ]
    }
   ],
   "source": [
    "%time\n",
    "history1=model.fit(X_train, y_train,validation_data=(X_test, y_test),verbose = 1,epochs = epoch_4_test,callbacks=callbacks1)"
   ]
  },
  {
   "cell_type": "code",
   "execution_count": 15,
   "id": "b57e5c96",
   "metadata": {
    "execution": {
     "iopub.execute_input": "2022-05-18T14:24:02.739886Z",
     "iopub.status.busy": "2022-05-18T14:24:02.739252Z",
     "iopub.status.idle": "2022-05-18T14:24:02.749391Z",
     "shell.execute_reply": "2022-05-18T14:24:02.748713Z"
    },
    "papermill": {
     "duration": 0.905905,
     "end_time": "2022-05-18T14:24:02.751937",
     "exception": false,
     "start_time": "2022-05-18T14:24:01.846032",
     "status": "completed"
    },
    "tags": []
   },
   "outputs": [],
   "source": [
    "def f1_score(y_true, y_pred): #taken from old keras source code\n",
    "    true_positives = K.sum(K.round(K.clip(y_true * y_pred, 0, 1)))\n",
    "    possible_positives = K.sum(K.round(K.clip(y_true, 0, 1)))\n",
    "    predicted_positives = K.sum(K.round(K.clip(y_pred, 0, 1)))\n",
    "    precision = true_positives / (predicted_positives + K.epsilon())\n",
    "    recall = true_positives / (possible_positives + K.epsilon())\n",
    "    f1_val = 2*(precision*recall)/(precision+recall+K.epsilon())\n",
    "    return f1_val"
   ]
  },
  {
   "cell_type": "code",
   "execution_count": 16,
   "id": "0f9aec25",
   "metadata": {
    "execution": {
     "iopub.execute_input": "2022-05-18T14:24:03.950076Z",
     "iopub.status.busy": "2022-05-18T14:24:03.949828Z",
     "iopub.status.idle": "2022-05-18T14:24:46.258178Z",
     "shell.execute_reply": "2022-05-18T14:24:46.257432Z"
    },
    "papermill": {
     "duration": 42.834843,
     "end_time": "2022-05-18T14:24:46.260316",
     "exception": false,
     "start_time": "2022-05-18T14:24:03.425473",
     "status": "completed"
    },
    "tags": []
   },
   "outputs": [],
   "source": [
    "METRICS = [\n",
    "      tf.keras.metrics.BinaryAccuracy(name='accuracy'),\n",
    "      tf.keras.metrics.Precision(name='precision'),\n",
    "      tf.keras.metrics.Recall(name='recall'),  \n",
    "      tf.keras.metrics.AUC(name='auc'),\n",
    "        f1_score,\n",
    "]"
   ]
  },
  {
   "cell_type": "code",
   "execution_count": null,
   "id": "8a7ee547",
   "metadata": {
    "execution": {
     "iopub.execute_input": "2022-05-06T15:08:04.489795Z",
     "iopub.status.busy": "2022-05-06T15:08:04.488846Z",
     "iopub.status.idle": "2022-05-06T15:08:04.918152Z",
     "shell.execute_reply": "2022-05-06T15:08:04.917046Z",
     "shell.execute_reply.started": "2022-05-06T15:08:04.489742Z"
    },
    "papermill": {
     "duration": 0.518483,
     "end_time": "2022-05-18T14:24:47.298504",
     "exception": false,
     "start_time": "2022-05-18T14:24:46.780021",
     "status": "completed"
    },
    "tags": []
   },
   "outputs": [],
   "source": []
  },
  {
   "cell_type": "code",
   "execution_count": 17,
   "id": "4024d2da",
   "metadata": {
    "execution": {
     "iopub.execute_input": "2022-05-18T14:24:48.353404Z",
     "iopub.status.busy": "2022-05-18T14:24:48.353140Z",
     "iopub.status.idle": "2022-05-18T14:24:56.272806Z",
     "shell.execute_reply": "2022-05-18T14:24:56.272121Z"
    },
    "papermill": {
     "duration": 8.456293,
     "end_time": "2022-05-18T14:24:56.274666",
     "exception": false,
     "start_time": "2022-05-18T14:24:47.818373",
     "status": "completed"
    },
    "tags": []
   },
   "outputs": [
    {
     "data": {
      "image/png": "[encoded data removed]",
      "text/plain": [
       "<Figure size 576x576 with 2 Axes>"
      ]
     },
     "metadata": {
      "needs_background": "light"
     },
     "output_type": "display_data"
    }
   ],
   "source": [
    "from sklearn.metrics import confusion_matrix\n",
    "import seaborn as sns\n",
    "\n",
    "Y_pred = model.predict(X_val)\n",
    "Y_pred_classes = np.argmax(Y_pred,axis = 1) \n",
    "Y_true = np.argmax(y_val,axis = 1) \n",
    "\n",
    "confusion_mtx = confusion_matrix(Y_true, Y_pred_classes) \n",
    "\n",
    "f,ax = plt.subplots(figsize=(8, 8))\n",
    "sns.heatmap(confusion_mtx, annot=True, linewidths=0.01,cmap=\"OrRd\",linecolor=\"black\", fmt= '.1f',ax=ax)\n",
    "plt.xlabel(\"Predicted Label\")\n",
    "plt.ylabel(\"True Label\")\n",
    "plt.title(\"Confusion Matrix\")\n",
    "plt.show()"
   ]
  },
  {
   "cell_type": "code",
   "execution_count": 18,
   "id": "f802fb93",
   "metadata": {
    "execution": {
     "iopub.execute_input": "2022-05-18T14:24:57.327156Z",
     "iopub.status.busy": "2022-05-18T14:24:57.326897Z",
     "iopub.status.idle": "2022-05-18T14:24:57.339165Z",
     "shell.execute_reply": "2022-05-18T14:24:57.338236Z"
    },
    "papermill": {
     "duration": 0.546377,
     "end_time": "2022-05-18T14:24:57.342173",
     "exception": false,
     "start_time": "2022-05-18T14:24:56.795796",
     "status": "completed"
    },
    "tags": []
   },
   "outputs": [
    {
     "name": "stdout",
     "output_type": "stream",
     "text": [
      "              precision    recall  f1-score   support\n",
      "\n",
      "           0       0.94      0.97      0.96      1806\n",
      "           1       0.78      0.62      0.69       294\n",
      "\n",
      "    accuracy                           0.92      2100\n",
      "   macro avg       0.86      0.80      0.82      2100\n",
      "weighted avg       0.92      0.92      0.92      2100\n",
      "\n"
     ]
    }
   ],
   "source": [
    "from sklearn.metrics import classification_report\n",
    "\n",
    "print(classification_report(Y_true, Y_pred_classes))"
   ]
  },
  {
   "cell_type": "markdown",
   "id": "f35abd3a",
   "metadata": {
    "papermill": {
     "duration": 0.548581,
     "end_time": "2022-05-18T14:24:58.468789",
     "exception": false,
     "start_time": "2022-05-18T14:24:57.920208",
     "status": "completed"
    },
    "tags": []
   },
   "source": []
  },
  {
   "cell_type": "code",
   "execution_count": null,
   "id": "57c5db31",
   "metadata": {
    "execution": {
     "iopub.execute_input": "2022-05-06T15:08:41.911737Z",
     "iopub.status.busy": "2022-05-06T15:08:41.911171Z",
     "iopub.status.idle": "2022-05-06T15:08:41.922881Z",
     "shell.execute_reply": "2022-05-06T15:08:41.922041Z",
     "shell.execute_reply.started": "2022-05-06T15:08:41.911677Z"
    },
    "papermill": {
     "duration": 0.543377,
     "end_time": "2022-05-18T14:24:59.538952",
     "exception": false,
     "start_time": "2022-05-18T14:24:58.995575",
     "status": "completed"
    },
    "tags": []
   },
   "outputs": [],
   "source": []
  },
  {
   "cell_type": "code",
   "execution_count": 19,
   "id": "9cd5b163",
   "metadata": {
    "execution": {
     "iopub.execute_input": "2022-05-18T14:25:00.916676Z",
     "iopub.status.busy": "2022-05-18T14:25:00.916367Z",
     "iopub.status.idle": "2022-05-18T14:25:00.928542Z",
     "shell.execute_reply": "2022-05-18T14:25:00.927868Z"
    },
    "papermill": {
     "duration": 0.737705,
     "end_time": "2022-05-18T14:25:00.930124",
     "exception": false,
     "start_time": "2022-05-18T14:25:00.192419",
     "status": "completed"
    },
    "tags": []
   },
   "outputs": [],
   "source": [
    "from sklearn.metrics import f1_score, roc_auc_score, cohen_kappa_score, precision_score, recall_score, accuracy_score, confusion_matrix\n",
    "def get_accuracy_metrics(model, X_train, y_train, X_val, y_val, X_test, y_test):\n",
    "    y_train=np.argmax(y_train, axis=1)\n",
    "    y_test=np.argmax(y_test, axis=1)\n",
    "    y_val=np.argmax(y_val, axis=1)\n",
    "    y_train_pred=np.argmax(model.predict(X_train),axis=1)\n",
    "    y_test_pred=np.argmax(model.predict(X_test),axis=1)\n",
    "    y_val_pred=np.argmax(model.predict(X_val),axis=1)\n",
    "    #ps:all the Y value must turn back to 1 dimension array. otherwise, the scoring functions in sklearn cannot compare, and will give an error\n",
    "    #classification metrics can't handle a mix of continuous-multioutput and multi-label-indicator targets\n",
    "    \n",
    "    print(\"Train accuracy Score------------>\")\n",
    "    print (\"{0:.3f}\".format(accuracy_score(y_train, y_train_pred)*100), \"%\")\n",
    "    \n",
    "    print(\"Val accuracy Score--------->\")\n",
    "    \n",
    "    print(\"{0:.3f}\".format(accuracy_score(y_val, y_val_pred)*100), \"%\")\n",
    "    \n",
    "  \n",
    "    print(\"Test accuracy Score--------->\")\n",
    "    print(\"{0:.3f}\".format(accuracy_score(y_test, y_test_pred)*100), \"%\")\n",
    "    \n",
    "    print(\"F1 Score--------------->\")\n",
    "    print(\"{0:.3f}\".format(f1_score(y_test, y_test_pred, average = 'weighted')*100), \"%\")\n",
    "    \n",
    "    print(\"Cohen Kappa Score------------->\")\n",
    "    print(\"{0:.3f}\".format(cohen_kappa_score(y_test, y_test_pred)*100), \"%\")\n",
    "    \n",
    "    print(\"Recall-------------->\")\n",
    "    print(\"{0:.3f}\".format(recall_score(y_test, y_test_pred, average = 'weighted')*100), \"%\")\n",
    "    \n",
    "    print(\"Precision-------------->\")\n",
    "    print(\"{0:.3f}\".format(precision_score(y_test, y_test_pred, average = 'weighted')*100), \"%\")\n",
    "    \n",
    "    cf_matrix_test = confusion_matrix(y_test, y_test_pred)\n",
    "    cf_matrix_val = confusion_matrix(y_val, y_val_pred)\n",
    "    \n",
    "    plt.figure(figsize = (12, 6))\n",
    "    plt.subplot(121)\n",
    "    sns.heatmap(cf_matrix_val, annot=True, cmap='Blues')\n",
    "    plt.title(\"Val Confusion matrix\")\n",
    "    \n",
    "    plt.subplot(122)\n",
    "    sns.heatmap(cf_matrix_test, annot=True, cmap='Blues')\n",
    "    plt.title(\"Test Confusion matrix\")\n",
    "    \n",
    "    plt.show()"
   ]
  },
  {
   "cell_type": "code",
   "execution_count": null,
   "id": "fffc6217",
   "metadata": {
    "papermill": {
     "duration": 0.524366,
     "end_time": "2022-05-18T14:25:01.977756",
     "exception": false,
     "start_time": "2022-05-18T14:25:01.453390",
     "status": "completed"
    },
    "tags": []
   },
   "outputs": [],
   "source": []
  },
  {
   "cell_type": "code",
   "execution_count": 20,
   "id": "42f1014e",
   "metadata": {
    "execution": {
     "iopub.execute_input": "2022-05-18T14:25:03.049745Z",
     "iopub.status.busy": "2022-05-18T14:25:03.049487Z",
     "iopub.status.idle": "2022-05-18T14:25:27.291801Z",
     "shell.execute_reply": "2022-05-18T14:25:27.291123Z"
    },
    "papermill": {
     "duration": 24.768588,
     "end_time": "2022-05-18T14:25:27.293581",
     "exception": false,
     "start_time": "2022-05-18T14:25:02.524993",
     "status": "completed"
    },
    "tags": []
   },
   "outputs": [
    {
     "name": "stdout",
     "output_type": "stream",
     "text": [
      "Train accuracy Score------------>\n",
      "96.500 %\n",
      "Val accuracy Score--------->\n",
      "92.286 %\n",
      "Test accuracy Score--------->\n",
      "90.111 %\n",
      "F1 Score--------------->\n",
      "89.253 %\n",
      "Cohen Kappa Score------------->\n",
      "59.625 %\n",
      "Recall-------------->\n",
      "90.111 %\n",
      "Precision-------------->\n",
      "89.585 %\n"
     ]
    },
    {
     "data": {
      "image/png": "[encoded data removed]",
      "text/plain": [
       "<Figure size 864x432 with 4 Axes>"
      ]
     },
     "metadata": {
      "needs_background": "light"
     },
     "output_type": "display_data"
    }
   ],
   "source": [
    "get_accuracy_metrics(model,  X_train, y_train, X_val, y_val, X_test, y_test)"
   ]
  },
  {
   "cell_type": "code",
   "execution_count": 21,
   "id": "69b1a55e",
   "metadata": {
    "execution": {
     "iopub.execute_input": "2022-05-18T14:25:28.361924Z",
     "iopub.status.busy": "2022-05-18T14:25:28.361667Z",
     "iopub.status.idle": "2022-05-18T14:25:28.663775Z",
     "shell.execute_reply": "2022-05-18T14:25:28.663111Z"
    },
    "papermill": {
     "duration": 0.844225,
     "end_time": "2022-05-18T14:25:28.665624",
     "exception": false,
     "start_time": "2022-05-18T14:25:27.821399",
     "status": "completed"
    },
    "tags": []
   },
   "outputs": [
    {
     "data": {
      "image/png": "[encoded data removed]",
      "text/plain": [
       "<Figure size 864x432 with 2 Axes>"
      ]
     },
     "metadata": {
      "needs_background": "light"
     },
     "output_type": "display_data"
    }
   ],
   "source": [
    "import matplotlib.pyplot as plt\n",
    "import seaborn as sns\n",
    "plt.figure(figsize = (12, 6))\n",
    "plt.subplot(121)\n",
    "#plotting the Accuracy of test and training sets\n",
    "plt.plot(history1.history['accuracy'])\n",
    "plt.plot(history1.history['val_accuracy'])\n",
    "plt.title('1st training Model Accuracy')\n",
    "plt.ylabel('accuracy')\n",
    "plt.xlabel('epoch')\n",
    "plt.legend(['train', 'test'], loc='upper left')\n",
    "\n",
    "plt.subplot(122)\n",
    "#plotting the loss of test and training sets\n",
    "plt.plot(history1.history['loss'])\n",
    "plt.plot(history1.history['val_loss'])\n",
    "plt.title('1st training Model Loss')\n",
    "plt.ylabel('loss')\n",
    "plt.xlabel('epoch')\n",
    "plt.legend(['train', 'test'], loc='upper left')\n",
    "plt.show()"
   ]
  },
  {
   "cell_type": "markdown",
   "id": "22c5b15a",
   "metadata": {
    "papermill": {
     "duration": 0.532438,
     "end_time": "2022-05-18T14:25:29.723968",
     "exception": false,
     "start_time": "2022-05-18T14:25:29.191530",
     "status": "completed"
    },
    "tags": []
   },
   "source": [
    "# Second Training Fine Tune"
   ]
  },
  {
   "cell_type": "code",
   "execution_count": 22,
   "id": "80e4a704",
   "metadata": {
    "execution": {
     "iopub.execute_input": "2022-05-18T14:25:30.776917Z",
     "iopub.status.busy": "2022-05-18T14:25:30.776182Z",
     "iopub.status.idle": "2022-05-18T14:25:30.799021Z",
     "shell.execute_reply": "2022-05-18T14:25:30.798306Z"
    },
    "papermill": {
     "duration": 0.549976,
     "end_time": "2022-05-18T14:25:30.800950",
     "exception": false,
     "start_time": "2022-05-18T14:25:30.250974",
     "status": "completed"
    },
    "tags": []
   },
   "outputs": [],
   "source": [
    "for model1 in model.layers:\n",
    "    model1.trainable = True"
   ]
  },
  {
   "cell_type": "code",
   "execution_count": 23,
   "id": "8c6eb659",
   "metadata": {
    "execution": {
     "iopub.execute_input": "2022-05-18T14:25:31.855209Z",
     "iopub.status.busy": "2022-05-18T14:25:31.854949Z",
     "iopub.status.idle": "2022-05-18T14:25:31.859506Z",
     "shell.execute_reply": "2022-05-18T14:25:31.858564Z"
    },
    "papermill": {
     "duration": 0.529491,
     "end_time": "2022-05-18T14:25:31.861647",
     "exception": false,
     "start_time": "2022-05-18T14:25:31.332156",
     "status": "completed"
    },
    "tags": []
   },
   "outputs": [],
   "source": [
    "callbacks2 = [EarlyStopping(monitor='val_loss', patience=5, verbose=1), ModelCheckpoint('test_model.hdf5', save_best_only=True)]\n",
    "opt = Adam(learning_rate=0.001)\n",
    "#model.compile(loss='categorical_crossentropy', optimizer=opt, metrics=['accuracy'])"
   ]
  },
  {
   "cell_type": "code",
   "execution_count": 24,
   "id": "a8aefc5c",
   "metadata": {
    "execution": {
     "iopub.execute_input": "2022-05-18T14:25:32.914326Z",
     "iopub.status.busy": "2022-05-18T14:25:32.914012Z"
    },
    "papermill": {
     "duration": 39.593668,
     "end_time": "2022-05-18T14:26:11.982743",
     "exception": false,
     "start_time": "2022-05-18T14:25:32.389075",
     "status": "completed"
    },
    "tags": []
   },
   "outputs": [
    {
     "name": "stdout",
     "output_type": "stream",
     "text": [
      "Epoch 1/3\n",
      "219/219 [==============================] - 24s 109ms/step - loss: 0.1304 - accuracy: 0.9503 - val_loss: 0.3187 - val_accuracy: 0.9200\n"
     ]
    }
   ],
   "source": [
    "history2=model.fit(X_train, y_train,validation_data=(X_test, y_test),verbose = 1,epochs = 3,callbacks=callbacks2)"
   ]
  },
  {
   "cell_type": "code",
   "execution_count": null,
   "id": "193e2547",
   "metadata": {
    "papermill": {
     "duration": null,
     "end_time": null,
     "exception": null,
     "start_time": null,
     "status": "completed"
    },
    "tags": []
   },
   "outputs": [],
   "source": [
    "Y_pred = model.predict(X_val)\n",
    "Y_pred_classes = np.argmax(Y_pred,axis = 1) \n",
    "Y_true = np.argmax(y_val,axis = 1) \n",
    "\n",
    "confusion_mtx = confusion_matrix(Y_true, Y_pred_classes) \n",
    "\n",
    "f,ax = plt.subplots(figsize=(8, 8))\n",
    "sns.heatmap(confusion_mtx, annot=True, linewidths=0.01,cmap=\"OrRd\",linecolor=\"black\", fmt= '.1f',ax=ax)\n",
    "plt.xlabel(\"Predicted Label\")\n",
    "plt.ylabel(\"True Label\")\n",
    "plt.title(\"Confusion Matrix\")\n",
    "plt.show()"
   ]
  },
  {
   "cell_type": "code",
   "execution_count": null,
   "id": "30735930",
   "metadata": {
    "papermill": {
     "duration": null,
     "end_time": null,
     "exception": null,
     "start_time": null,
     "status": "completed"
    },
    "tags": []
   },
   "outputs": [],
   "source": [
    "print(classification_report(Y_true, Y_pred_classes))"
   ]
  },
  {
   "cell_type": "code",
   "execution_count": null,
   "id": "c22a94c4",
   "metadata": {
    "papermill": {
     "duration": null,
     "end_time": null,
     "exception": null,
     "start_time": null,
     "status": "completed"
    },
    "tags": []
   },
   "outputs": [],
   "source": [
    "get_accuracy_metrics(model,  X_train, y_train, X_val, y_val, X_test, y_test)"
   ]
  },
  {
   "cell_type": "code",
   "execution_count": null,
   "id": "17938f04",
   "metadata": {
    "papermill": {
     "duration": null,
     "end_time": null,
     "exception": null,
     "start_time": null,
     "status": "completed"
    },
    "tags": []
   },
   "outputs": [],
   "source": [
    "plt.figure(figsize = (12, 6))\n",
    "plt.subplot(121)\n",
    "#plotting the Accuracy of test and training sets\n",
    "plt.plot(history2.history['accuracy'])\n",
    "plt.plot(history2.history['val_accuracy'])\n",
    "plt.title('2nd training Model Accuracy')\n",
    "plt.ylabel('accuracy')\n",
    "plt.xlabel('epoch')\n",
    "plt.legend(['train', 'test'], loc='upper left')\n",
    "\n",
    "plt.subplot(122)\n",
    "#plotting the loss of test and training sets\n",
    "plt.plot(history2.history['loss'])\n",
    "plt.plot(history2.history['val_loss'])\n",
    "plt.title('2nd training Model Loss')\n",
    "plt.ylabel('loss')\n",
    "plt.xlabel('epoch')\n",
    "plt.legend(['train', 'test'], loc='upper left')\n",
    "plt.show()"
   ]
  }
 ],
 "metadata": {
  "kernelspec": {
   "display_name": "Python 3",
   "language": "python",
   "name": "python3"
  },
  "language_info": {
   "codemirror_mode": {
    "name": "ipython",
    "version": 3
   },
   "file_extension": ".py",
   "mimetype": "text/x-python",
   "name": "python",
   "nbconvert_exporter": "python",
   "pygments_lexer": "ipython3",
   "version": "3.6.4"
  },
  "papermill": {
   "default_parameters": {},
   "duration": 634.911626,
   "end_time": "2022-05-18T14:26:12.867811",
   "environment_variables": {},
   "exception": null,
   "input_path": "__notebook__.ipynb",
   "output_path": "__notebook__.ipynb",
   "parameters": {},
   "start_time": "2022-05-18T14:15:37.956185",
   "version": "2.3.4"
  }
 },
 "nbformat": 4,
 "nbformat_minor": 5
}
